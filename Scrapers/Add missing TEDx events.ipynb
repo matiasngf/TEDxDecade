{
 "cells": [
  {
   "cell_type": "code",
   "execution_count": 16,
   "metadata": {},
   "outputs": [],
   "source": [
    "import pandas as pd\n",
    "import numpy as np\n",
    "import requests\n",
    "from IPython.display import HTML, display\n",
    "from bs4 import BeautifulSoup\n",
    "from bs4 import Comment\n",
    "import json\n",
    "import html\n",
    "import re\n",
    "import urllib.parse\n",
    "from threading import Thread\n",
    "import threading\n",
    "lock = threading.RLock()"
   ]
  },
  {
   "cell_type": "code",
   "execution_count": 12,
   "metadata": {},
   "outputs": [
    {
     "name": "stdout",
     "output_type": "stream",
     "text": [
      "78391\n"
     ]
    }
   ],
   "source": [
    "talks = pd.read_pickle('../datasets/videosData.pkl')\n",
    "talks['views'] = talks.views.astype(int)\n",
    "talks['likes'] = talks.likes.astype(int)\n",
    "talks['dislikes'] = talks.dislikes.astype(int)\n",
    "print(len(talks))\n",
    "talks.head(2)\n",
    "\n",
    "def getEvent(x):\n",
    "    matchs = re.findall(r'(TEDx[^! ]+|TEDx [^! ]+)', x, re.IGNORECASE)\n",
    "    if(len(matchs) > 0):\n",
    "        return matchs[0].replace(' ','')\n",
    "    else:\n",
    "        return np.nan\n",
    "\n",
    "talks['event'] = talks.titleRaw.apply(getEvent)\n",
    "talks = talks[~pd.isna(talks.event)]"
   ]
  },
  {
   "cell_type": "code",
   "execution_count": 13,
   "metadata": {},
   "outputs": [
    {
     "name": "stdout",
     "output_type": "stream",
     "text": [
      "7285 events\n"
     ]
    },
    {
     "data": {
      "text/html": [
       "<div>\n",
       "<style scoped>\n",
       "    .dataframe tbody tr th:only-of-type {\n",
       "        vertical-align: middle;\n",
       "    }\n",
       "\n",
       "    .dataframe tbody tr th {\n",
       "        vertical-align: top;\n",
       "    }\n",
       "\n",
       "    .dataframe thead th {\n",
       "        text-align: right;\n",
       "    }\n",
       "</style>\n",
       "<table border=\"1\" class=\"dataframe\">\n",
       "  <thead>\n",
       "    <tr style=\"text-align: right;\">\n",
       "      <th></th>\n",
       "      <th>name</th>\n",
       "      <th>eventType</th>\n",
       "      <th>date</th>\n",
       "      <th>city</th>\n",
       "      <th>country</th>\n",
       "      <th>hasWebcast</th>\n",
       "      <th>hasSpace</th>\n",
       "      <th>eventCode</th>\n",
       "      <th>shortName</th>\n",
       "    </tr>\n",
       "    <tr>\n",
       "      <th>name</th>\n",
       "      <th></th>\n",
       "      <th></th>\n",
       "      <th></th>\n",
       "      <th></th>\n",
       "      <th></th>\n",
       "      <th></th>\n",
       "      <th></th>\n",
       "      <th></th>\n",
       "      <th></th>\n",
       "    </tr>\n",
       "  </thead>\n",
       "  <tbody>\n",
       "    <tr>\n",
       "      <th>TEDxRiodelaPlata</th>\n",
       "      <td>TEDxRiodelaPlata</td>\n",
       "      <td>Standard</td>\n",
       "      <td>May 7, 2019</td>\n",
       "      <td>Ciudad Autónoma de Buenos Aires</td>\n",
       "      <td>Argentina</td>\n",
       "      <td>True</td>\n",
       "      <td>False</td>\n",
       "      <td>32790</td>\n",
       "      <td>RiodelaPlata</td>\n",
       "    </tr>\n",
       "    <tr>\n",
       "      <th>TEDxEsquel</th>\n",
       "      <td>TEDxEsquel</td>\n",
       "      <td>Standard</td>\n",
       "      <td>May 4, 2019</td>\n",
       "      <td>Esquel</td>\n",
       "      <td>Argentina</td>\n",
       "      <td>True</td>\n",
       "      <td>False</td>\n",
       "      <td>33511</td>\n",
       "      <td>Esquel</td>\n",
       "    </tr>\n",
       "    <tr>\n",
       "      <th>TEDxRafaela</th>\n",
       "      <td>TEDxRafaela</td>\n",
       "      <td>Standard</td>\n",
       "      <td>May 4, 2019</td>\n",
       "      <td>Rafaela</td>\n",
       "      <td>Argentina</td>\n",
       "      <td>True</td>\n",
       "      <td>False</td>\n",
       "      <td>31229</td>\n",
       "      <td>Rafaela</td>\n",
       "    </tr>\n",
       "    <tr>\n",
       "      <th>TEDxBarilocheLive</th>\n",
       "      <td>TEDxBarilocheLive</td>\n",
       "      <td>TEDxLive</td>\n",
       "      <td>April 27, 2019</td>\n",
       "      <td>San Carlos de Bariloche</td>\n",
       "      <td>Argentina</td>\n",
       "      <td>True</td>\n",
       "      <td>False</td>\n",
       "      <td>34453</td>\n",
       "      <td>Bariloche</td>\n",
       "    </tr>\n",
       "    <tr>\n",
       "      <th>TEDxRosarioLive</th>\n",
       "      <td>TEDxRosarioLive</td>\n",
       "      <td>TEDxLive</td>\n",
       "      <td>April 18, 2019</td>\n",
       "      <td>Rosario</td>\n",
       "      <td>Argentina</td>\n",
       "      <td>True</td>\n",
       "      <td>False</td>\n",
       "      <td>34383</td>\n",
       "      <td>Rosario</td>\n",
       "    </tr>\n",
       "  </tbody>\n",
       "</table>\n",
       "</div>"
      ],
      "text/plain": [
       "                                name eventType            date  \\\n",
       "name                                                             \n",
       "TEDxRiodelaPlata    TEDxRiodelaPlata  Standard     May 7, 2019   \n",
       "TEDxEsquel                TEDxEsquel  Standard     May 4, 2019   \n",
       "TEDxRafaela              TEDxRafaela  Standard     May 4, 2019   \n",
       "TEDxBarilocheLive  TEDxBarilocheLive  TEDxLive  April 27, 2019   \n",
       "TEDxRosarioLive      TEDxRosarioLive  TEDxLive  April 18, 2019   \n",
       "\n",
       "                                              city    country hasWebcast  \\\n",
       "name                                                                       \n",
       "TEDxRiodelaPlata   Ciudad Autónoma de Buenos Aires  Argentina       True   \n",
       "TEDxEsquel                                  Esquel  Argentina       True   \n",
       "TEDxRafaela                                Rafaela  Argentina       True   \n",
       "TEDxBarilocheLive          San Carlos de Bariloche  Argentina       True   \n",
       "TEDxRosarioLive                            Rosario  Argentina       True   \n",
       "\n",
       "                  hasSpace eventCode     shortName  \n",
       "name                                                \n",
       "TEDxRiodelaPlata     False     32790  RiodelaPlata  \n",
       "TEDxEsquel           False     33511        Esquel  \n",
       "TEDxRafaela          False     31229       Rafaela  \n",
       "TEDxBarilocheLive    False     34453     Bariloche  \n",
       "TEDxRosarioLive      False     34383       Rosario  "
      ]
     },
     "execution_count": 13,
     "metadata": {},
     "output_type": "execute_result"
    }
   ],
   "source": [
    "eventsDf = pd.read_pickle('../datasets/eventsParsed.pkl')\n",
    "eventsDf = eventsDf.drop_duplicates(subset='name')\n",
    "print(len(eventsDf), 'events')\n",
    "eventsDf.index = eventsDf.name\n",
    "eventsDf.head(5)"
   ]
  },
  {
   "cell_type": "code",
   "execution_count": 14,
   "metadata": {},
   "outputs": [],
   "source": [
    "targets = talks[~talks.event.isin(eventsDf.index.values)].event.unique()"
   ]
  },
  {
   "cell_type": "code",
   "execution_count": 17,
   "metadata": {},
   "outputs": [
    {
     "data": {
      "text/html": [
       "<div>\n",
       "<style scoped>\n",
       "    .dataframe tbody tr th:only-of-type {\n",
       "        vertical-align: middle;\n",
       "    }\n",
       "\n",
       "    .dataframe tbody tr th {\n",
       "        vertical-align: top;\n",
       "    }\n",
       "\n",
       "    .dataframe thead th {\n",
       "        text-align: right;\n",
       "    }\n",
       "</style>\n",
       "<table border=\"1\" class=\"dataframe\">\n",
       "  <thead>\n",
       "    <tr style=\"text-align: right;\">\n",
       "      <th></th>\n",
       "      <th>IP Address</th>\n",
       "      <th>Port</th>\n",
       "      <th>Code</th>\n",
       "      <th>Country</th>\n",
       "      <th>Anonymity</th>\n",
       "      <th>Google</th>\n",
       "      <th>Https</th>\n",
       "      <th>Last Checked</th>\n",
       "    </tr>\n",
       "  </thead>\n",
       "  <tbody>\n",
       "    <tr>\n",
       "      <th>0</th>\n",
       "      <td>185.61.94.65</td>\n",
       "      <td>61616</td>\n",
       "      <td>RU</td>\n",
       "      <td>Russian Federation</td>\n",
       "      <td>elite proxy</td>\n",
       "      <td>no</td>\n",
       "      <td>yes</td>\n",
       "      <td>2 minutes ago</td>\n",
       "    </tr>\n",
       "    <tr>\n",
       "      <th>37</th>\n",
       "      <td>140.227.202.194</td>\n",
       "      <td>6000</td>\n",
       "      <td>JP</td>\n",
       "      <td>Japan</td>\n",
       "      <td>elite proxy</td>\n",
       "      <td>no</td>\n",
       "      <td>yes</td>\n",
       "      <td>3 minutes ago</td>\n",
       "    </tr>\n",
       "    <tr>\n",
       "      <th>57</th>\n",
       "      <td>5.63.165.178</td>\n",
       "      <td>40561</td>\n",
       "      <td>AM</td>\n",
       "      <td>Armenia</td>\n",
       "      <td>elite proxy</td>\n",
       "      <td>no</td>\n",
       "      <td>yes</td>\n",
       "      <td>3 minutes ago</td>\n",
       "    </tr>\n",
       "    <tr>\n",
       "      <th>56</th>\n",
       "      <td>177.128.42.25</td>\n",
       "      <td>50041</td>\n",
       "      <td>BR</td>\n",
       "      <td>Brazil</td>\n",
       "      <td>elite proxy</td>\n",
       "      <td>no</td>\n",
       "      <td>yes</td>\n",
       "      <td>3 minutes ago</td>\n",
       "    </tr>\n",
       "    <tr>\n",
       "      <th>54</th>\n",
       "      <td>151.253.165.70</td>\n",
       "      <td>8080</td>\n",
       "      <td>AE</td>\n",
       "      <td>United Arab Emirates</td>\n",
       "      <td>elite proxy</td>\n",
       "      <td>no</td>\n",
       "      <td>yes</td>\n",
       "      <td>3 minutes ago</td>\n",
       "    </tr>\n",
       "  </tbody>\n",
       "</table>\n",
       "</div>"
      ],
      "text/plain": [
       "         IP Address   Port Code               Country    Anonymity Google  \\\n",
       "0      185.61.94.65  61616   RU    Russian Federation  elite proxy     no   \n",
       "37  140.227.202.194   6000   JP                 Japan  elite proxy     no   \n",
       "57     5.63.165.178  40561   AM               Armenia  elite proxy     no   \n",
       "56    177.128.42.25  50041   BR                Brazil  elite proxy     no   \n",
       "54   151.253.165.70   8080   AE  United Arab Emirates  elite proxy     no   \n",
       "\n",
       "   Https   Last Checked  \n",
       "0    yes  2 minutes ago  \n",
       "37   yes  3 minutes ago  \n",
       "57   yes  3 minutes ago  \n",
       "56   yes  3 minutes ago  \n",
       "54   yes  3 minutes ago  "
      ]
     },
     "execution_count": 17,
     "metadata": {},
     "output_type": "execute_result"
    }
   ],
   "source": [
    "url_proxy = 'https://free-proxy-list.net/anonymous-proxy.html'\n",
    "response_pxy = requests.get(url_proxy)\n",
    "pxySoup = BeautifulSoup(response_pxy.text, 'html.parser')\n",
    "rowsPxy = []\n",
    "headPxy = []\n",
    "for tablePart in pxySoup.find_all(attrs={'id':'proxylisttable'})[0].find_all(True, recursive=False):\n",
    "    if(tablePart.name == 'thead'):\n",
    "        for row in tablePart.find_all(True, recursive=False):\n",
    "            headPxy = [tr.text for tr in row]\n",
    "    if(tablePart.name == 'tbody'):\n",
    "        for row in tablePart.find_all(True, recursive=False):\n",
    "            rowsPxy.append([tr.text for tr in row])\n",
    "\n",
    "proxiesDf = pd.DataFrame(data=rowsPxy, columns=headPxy)\n",
    "proxiesDf = proxiesDf[(proxiesDf['Anonymity']=='elite proxy')].sort_values(by='Https', ascending=False)\n",
    "proxiesDf.head()"
   ]
  },
  {
   "cell_type": "code",
   "execution_count": 18,
   "metadata": {},
   "outputs": [
    {
     "name": "stdout",
     "output_type": "stream",
     "text": [
      "12998 events\n"
     ]
    },
    {
     "data": {
      "text/html": [
       "<div>\n",
       "<style scoped>\n",
       "    .dataframe tbody tr th:only-of-type {\n",
       "        vertical-align: middle;\n",
       "    }\n",
       "\n",
       "    .dataframe tbody tr th {\n",
       "        vertical-align: top;\n",
       "    }\n",
       "\n",
       "    .dataframe thead th {\n",
       "        text-align: right;\n",
       "    }\n",
       "</style>\n",
       "<table border=\"1\" class=\"dataframe\">\n",
       "  <thead>\n",
       "    <tr style=\"text-align: right;\">\n",
       "      <th></th>\n",
       "      <th>name</th>\n",
       "      <th>eventType</th>\n",
       "      <th>date</th>\n",
       "      <th>city</th>\n",
       "      <th>country</th>\n",
       "      <th>hasWebcast</th>\n",
       "      <th>hasSpace</th>\n",
       "      <th>eventCode</th>\n",
       "    </tr>\n",
       "  </thead>\n",
       "  <tbody>\n",
       "    <tr>\n",
       "      <th>32790</th>\n",
       "      <td>TEDxRiodelaPlata</td>\n",
       "      <td>Standard</td>\n",
       "      <td>May 7, 2019</td>\n",
       "      <td>Ciudad Autónoma de Buenos Aires</td>\n",
       "      <td>Argentina</td>\n",
       "      <td>True</td>\n",
       "      <td>False</td>\n",
       "      <td>32790</td>\n",
       "    </tr>\n",
       "    <tr>\n",
       "      <th>33511</th>\n",
       "      <td>TEDxEsquel</td>\n",
       "      <td>Standard</td>\n",
       "      <td>May 4, 2019</td>\n",
       "      <td>Esquel</td>\n",
       "      <td>Argentina</td>\n",
       "      <td>True</td>\n",
       "      <td>False</td>\n",
       "      <td>33511</td>\n",
       "    </tr>\n",
       "    <tr>\n",
       "      <th>31229</th>\n",
       "      <td>TEDxRafaela</td>\n",
       "      <td>Standard</td>\n",
       "      <td>May 4, 2019</td>\n",
       "      <td>Rafaela</td>\n",
       "      <td>Argentina</td>\n",
       "      <td>True</td>\n",
       "      <td>False</td>\n",
       "      <td>31229</td>\n",
       "    </tr>\n",
       "    <tr>\n",
       "      <th>34453</th>\n",
       "      <td>TEDxBarilocheLive</td>\n",
       "      <td>TEDxLive</td>\n",
       "      <td>April 27, 2019</td>\n",
       "      <td>San Carlos de Bariloche</td>\n",
       "      <td>Argentina</td>\n",
       "      <td>True</td>\n",
       "      <td>False</td>\n",
       "      <td>34453</td>\n",
       "    </tr>\n",
       "    <tr>\n",
       "      <th>34383</th>\n",
       "      <td>TEDxRosarioLive</td>\n",
       "      <td>TEDxLive</td>\n",
       "      <td>April 18, 2019</td>\n",
       "      <td>Rosario</td>\n",
       "      <td>Argentina</td>\n",
       "      <td>True</td>\n",
       "      <td>False</td>\n",
       "      <td>34383</td>\n",
       "    </tr>\n",
       "  </tbody>\n",
       "</table>\n",
       "</div>"
      ],
      "text/plain": [
       "                    name eventType            date  \\\n",
       "32790   TEDxRiodelaPlata  Standard     May 7, 2019   \n",
       "33511         TEDxEsquel  Standard     May 4, 2019   \n",
       "31229        TEDxRafaela  Standard     May 4, 2019   \n",
       "34453  TEDxBarilocheLive  TEDxLive  April 27, 2019   \n",
       "34383    TEDxRosarioLive  TEDxLive  April 18, 2019   \n",
       "\n",
       "                                  city    country hasWebcast hasSpace  \\\n",
       "32790  Ciudad Autónoma de Buenos Aires  Argentina       True    False   \n",
       "33511                           Esquel  Argentina       True    False   \n",
       "31229                          Rafaela  Argentina       True    False   \n",
       "34453          San Carlos de Bariloche  Argentina       True    False   \n",
       "34383                          Rosario  Argentina       True    False   \n",
       "\n",
       "      eventCode  \n",
       "32790     32790  \n",
       "33511     33511  \n",
       "31229     31229  \n",
       "34453     34453  \n",
       "34383     34383  "
      ]
     },
     "execution_count": 18,
     "metadata": {},
     "output_type": "execute_result"
    }
   ],
   "source": [
    "eventsDf = pd.read_pickle('../datasets/rawEvents.pkl')\n",
    "print(len(eventsDf), 'events')\n",
    "eventsDf.head()"
   ]
  },
  {
   "cell_type": "code",
   "execution_count": 27,
   "metadata": {},
   "outputs": [
    {
     "data": {
      "text/plain": [
       "'https://www.ted.com/tedx/events?autocomplete_filter=TEDxLincolnSchool&page=1&when=past'"
      ]
     },
     "metadata": {},
     "output_type": "display_data"
    },
    {
     "data": {
      "text/plain": [
       "'https://www.ted.com/tedx/events?autocomplete_filter=TEDxLincolnSchool&page=2&when=past'"
      ]
     },
     "metadata": {},
     "output_type": "display_data"
    },
    {
     "data": {
      "text/plain": [
       "True"
      ]
     },
     "execution_count": 27,
     "metadata": {},
     "output_type": "execute_result"
    }
   ],
   "source": [
    "errors = pd.DataFrame(columns=['page','min','max','country'])\n",
    "headersChrome = {\n",
    "    'User-Agent': 'Mozilla/5.0 (Windows NT 10.0; Win64; x64) AppleWebKit/537.36 (KHTML, like Gecko) Chrome/60.0.3112.113 Safari/537.36'\n",
    "}\n",
    "proxies = {\n",
    "    \"http\": proxiesDf[proxiesDf.Https=='no'].loc[:,'IP Address'].values[0]\n",
    "}\n",
    "def getProxy():\n",
    "    return {\n",
    "        \"http\": proxiesDf[proxiesDf.Https=='no'].loc[:,'IP Address'].sample(1).values\n",
    "    }\n",
    "def getUrl(url):\n",
    "    return requests.get(\n",
    "        url, headers=headersChrome, proxies=getProxy()\n",
    "    )\n",
    "\n",
    "def getEvents(searchFilter, startPage=1, maxPages=1, past=False):\n",
    "    whenStr = 'upcoming'\n",
    "    if(past):\n",
    "        whenStr = 'past'\n",
    "    if(type(maxPages) is not int):\n",
    "        print('maxPages has to be int')\n",
    "        return False\n",
    "    for pageNum in range(startPage, maxPages+1):\n",
    "#         searchFilter = urllib.parse.quote(searchFilter)\n",
    "        url = 'https://www.ted.com/tedx/events?autocomplete_filter='+searchFilter+'&page='+str(pageNum)+'&when='+whenStr\n",
    "        display(url)\n",
    "        rawHtmlPage = getUrl(url)\n",
    "        html = BeautifulSoup(rawHtmlPage.text, 'html.parser')\n",
    "        eventsRows = html.select('tr.tedx-events-table__event')\n",
    "        if(len(eventsRows) == 0):\n",
    "            break\n",
    "        for x in eventsRows:\n",
    "            locationRaw = x.select('td')[2]\n",
    "            ciudad, pais = re.findall('(.+)<br\\/>(.+)<\\/td>', str(locationRaw))[0]\n",
    "            dateRaw = x.select('td:nth-of-type(1)')[0].text\n",
    "            dateStr = re.findall('(\\w+ [\\d]+, [\\d]+)', dateRaw)[0]\n",
    "            a = x.select('strong a')[0]\n",
    "            href = a['href']\n",
    "            name = re.sub('\\xad','', str(a.text))\n",
    "            webcastRaw = x.select('td')[4]\n",
    "            hasWebcast = re.findall('(.+)', str(webcastRaw))[3]!='No'\n",
    "\n",
    "            spaceRaw = x.select('td')[3]\n",
    "            hasSpace = re.findall('<span class=\"screen-reader-text\">(.+)</span>', str(spaceRaw))[0] == 'Yes'\n",
    "            eventCode = int(re.sub('/tedx/events/','', href))\n",
    "            eventType = x.find_all(attrs={'class':'tedx-events-table__event-type'})[0].text\n",
    "            with lock:\n",
    "                eventsDf.loc[eventCode] = [\n",
    "                    name,\n",
    "                    eventType,\n",
    "                    dateStr,\n",
    "                    ciudad,\n",
    "                    pais,\n",
    "                    hasWebcast,\n",
    "                    hasSpace,\n",
    "                    eventCode,\n",
    "                ]\n",
    "    return True\n",
    "\n",
    "getEvents('TEDxLincolnSchool', 1, 100, True)"
   ]
  },
  {
   "cell_type": "code",
   "execution_count": 30,
   "metadata": {},
   "outputs": [
    {
     "data": {
      "text/plain": [
       "array(['TEDxRíodelaPlata', 'TEDxBahíaBlanca', 'TEDxLincolnSchool',\n",
       "       'TEDxUFM', 'TEDxParqueElEjidoMujeres', 'TEDxPanamaCity',\n",
       "       'TEDxCiudadDeCorrientes', 'TEDxperiments:', 'TEDxITA',\n",
       "       'TEDxKamitiPrison'], dtype=object)"
      ]
     },
     "execution_count": 30,
     "metadata": {},
     "output_type": "execute_result"
    }
   ],
   "source": [
    "targets[:10]"
   ]
  },
  {
   "cell_type": "code",
   "execution_count": 33,
   "metadata": {
    "scrolled": true
   },
   "outputs": [
    {
     "data": {
      "text/plain": [
       "'https://www.ted.com/tedx/events?autocomplete_filter=TEDxLincolnSchool&page=1&when=past'"
      ]
     },
     "metadata": {},
     "output_type": "display_data"
    },
    {
     "data": {
      "text/plain": [
       "'https://www.ted.com/tedx/events?autocomplete_filter=TEDxRíodelaPlata&page=1&when=past'"
      ]
     },
     "metadata": {},
     "output_type": "display_data"
    },
    {
     "data": {
      "text/plain": [
       "'https://www.ted.com/tedx/events?autocomplete_filter=TEDxBahíaBlanca&page=1&when=past'"
      ]
     },
     "metadata": {},
     "output_type": "display_data"
    },
    {
     "data": {
      "text/plain": [
       "'https://www.ted.com/tedx/events?autocomplete_filter=TEDxLincolnSchool&page=2&when=past'"
      ]
     },
     "metadata": {},
     "output_type": "display_data"
    },
    {
     "data": {
      "text/plain": [
       "'https://www.ted.com/tedx/events?autocomplete_filter=TEDxBahíaBlanca&page=2&when=past'"
      ]
     },
     "metadata": {},
     "output_type": "display_data"
    },
    {
     "data": {
      "text/plain": [
       "'https://www.ted.com/tedx/events?autocomplete_filter=TEDxRíodelaPlata&page=2&when=past'"
      ]
     },
     "metadata": {},
     "output_type": "display_data"
    },
    {
     "data": {
      "text/plain": [
       "'https://www.ted.com/tedx/events?autocomplete_filter=TEDxPanamaCity&page=1&when=past'"
      ]
     },
     "metadata": {},
     "output_type": "display_data"
    },
    {
     "data": {
      "text/plain": [
       "'https://www.ted.com/tedx/events?autocomplete_filter=TEDxParqueElEjidoMujeres&page=1&when=past'"
      ]
     },
     "metadata": {},
     "output_type": "display_data"
    },
    {
     "data": {
      "text/plain": [
       "'https://www.ted.com/tedx/events?autocomplete_filter=TEDxUFM&page=1&when=past'"
      ]
     },
     "metadata": {},
     "output_type": "display_data"
    },
    {
     "data": {
      "text/plain": [
       "'https://www.ted.com/tedx/events?autocomplete_filter=TEDxPanamaCity&page=2&when=past'"
      ]
     },
     "metadata": {},
     "output_type": "display_data"
    },
    {
     "data": {
      "text/plain": [
       "'https://www.ted.com/tedx/events?autocomplete_filter=TEDxParqueElEjidoMujeres&page=2&when=past'"
      ]
     },
     "metadata": {},
     "output_type": "display_data"
    },
    {
     "data": {
      "text/plain": [
       "'https://www.ted.com/tedx/events?autocomplete_filter=TEDxUFM&page=2&when=past'"
      ]
     },
     "metadata": {},
     "output_type": "display_data"
    },
    {
     "data": {
      "text/plain": [
       "'https://www.ted.com/tedx/events?autocomplete_filter=TEDxITA&page=1&when=past'"
      ]
     },
     "metadata": {},
     "output_type": "display_data"
    },
    {
     "data": {
      "text/plain": [
       "'https://www.ted.com/tedx/events?autocomplete_filter=TEDxperiments:&page=1&when=past'"
      ]
     },
     "metadata": {},
     "output_type": "display_data"
    },
    {
     "data": {
      "text/plain": [
       "'https://www.ted.com/tedx/events?autocomplete_filter=TEDxCiudadDeCorrientes&page=1&when=past'"
      ]
     },
     "metadata": {},
     "output_type": "display_data"
    },
    {
     "data": {
      "text/plain": [
       "'https://www.ted.com/tedx/events?autocomplete_filter=TEDxKalamata&page=1&when=past'"
      ]
     },
     "metadata": {},
     "output_type": "display_data"
    },
    {
     "data": {
      "text/plain": [
       "'https://www.ted.com/tedx/events?autocomplete_filter=TEDxITA&page=2&when=past'"
      ]
     },
     "metadata": {},
     "output_type": "display_data"
    },
    {
     "data": {
      "text/plain": [
       "'https://www.ted.com/tedx/events?autocomplete_filter=TEDxCiudadDeCorrientes&page=2&when=past'"
      ]
     },
     "metadata": {},
     "output_type": "display_data"
    },
    {
     "data": {
      "text/plain": [
       "'https://www.ted.com/tedx/events?autocomplete_filter=TEDxKamitiPrison&page=1&when=past'"
      ]
     },
     "metadata": {},
     "output_type": "display_data"
    },
    {
     "data": {
      "text/plain": [
       "'https://www.ted.com/tedx/events?autocomplete_filter=TEDxKeioHighSchool&page=1&when=past'"
      ]
     },
     "metadata": {},
     "output_type": "display_data"
    },
    {
     "data": {
      "text/plain": [
       "'https://www.ted.com/tedx/events?autocomplete_filter=TEDxKamitiPrison&page=2&when=past'"
      ]
     },
     "metadata": {},
     "output_type": "display_data"
    },
    {
     "data": {
      "text/plain": [
       "'https://www.ted.com/tedx/events?autocomplete_filter=TEDxGodaPark&page=1&when=past'"
      ]
     },
     "metadata": {},
     "output_type": "display_data"
    },
    {
     "data": {
      "text/plain": [
       "'https://www.ted.com/tedx/events?autocomplete_filter=TEDxKalamata&page=2&when=past'"
      ]
     },
     "metadata": {},
     "output_type": "display_data"
    },
    {
     "data": {
      "text/plain": [
       "'https://www.ted.com/tedx/events?autocomplete_filter=TEDxGodaPark&page=2&when=past'"
      ]
     },
     "metadata": {},
     "output_type": "display_data"
    },
    {
     "data": {
      "text/plain": [
       "'https://www.ted.com/tedx/events?autocomplete_filter=TEDxKeioHighSchool&page=2&when=past'"
      ]
     },
     "metadata": {},
     "output_type": "display_data"
    },
    {
     "data": {
      "text/plain": [
       "'https://www.ted.com/tedx/events?autocomplete_filter=TEDxYouth@Dorado&page=1&when=past'"
      ]
     },
     "metadata": {},
     "output_type": "display_data"
    },
    {
     "data": {
      "text/plain": [
       "'https://www.ted.com/tedx/events?autocomplete_filter=TEDxChaoyangWomen&page=1&when=past'"
      ]
     },
     "metadata": {},
     "output_type": "display_data"
    },
    {
     "data": {
      "text/plain": [
       "'https://www.ted.com/tedx/events?autocomplete_filter=TEDxUWCSEA&page=1&when=past'"
      ]
     },
     "metadata": {},
     "output_type": "display_data"
    },
    {
     "data": {
      "text/plain": [
       "'https://www.ted.com/tedx/events?autocomplete_filter=TEDxYouth@Dorado&page=2&when=past'"
      ]
     },
     "metadata": {},
     "output_type": "display_data"
    },
    {
     "data": {
      "text/plain": [
       "'https://www.ted.com/tedx/events?autocomplete_filter=TEDxChaoyangWomen&page=2&when=past'"
      ]
     },
     "metadata": {},
     "output_type": "display_data"
    },
    {
     "data": {
      "text/plain": [
       "'https://www.ted.com/tedx/events?autocomplete_filter=TEDxYouth@Quito&page=1&when=past'"
      ]
     },
     "metadata": {},
     "output_type": "display_data"
    },
    {
     "data": {
      "text/plain": [
       "'https://www.ted.com/tedx/events?autocomplete_filter=TEDxUWCSEA&page=2&when=past'"
      ]
     },
     "metadata": {},
     "output_type": "display_data"
    },
    {
     "data": {
      "text/plain": [
       "'https://www.ted.com/tedx/events?autocomplete_filter=TEDxYouth@KulibinPark&page=1&when=past'"
      ]
     },
     "metadata": {},
     "output_type": "display_data"
    },
    {
     "data": {
      "text/plain": [
       "'https://www.ted.com/tedx/events?autocomplete_filter=TEDxYouth@Winchester&page=1&when=past'"
      ]
     },
     "metadata": {},
     "output_type": "display_data"
    },
    {
     "data": {
      "text/plain": [
       "'https://www.ted.com/tedx/events?autocomplete_filter=TEDxYouth@Quito&page=2&when=past'"
      ]
     },
     "metadata": {},
     "output_type": "display_data"
    },
    {
     "data": {
      "text/plain": [
       "'https://www.ted.com/tedx/events?autocomplete_filter=TEDxAruba&page=1&when=past'"
      ]
     },
     "metadata": {},
     "output_type": "display_data"
    },
    {
     "data": {
      "text/plain": [
       "'https://www.ted.com/tedx/events?autocomplete_filter=TEDxYouth@Winchester&page=2&when=past'"
      ]
     },
     "metadata": {},
     "output_type": "display_data"
    },
    {
     "data": {
      "text/plain": [
       "'https://www.ted.com/tedx/events?autocomplete_filter=TEDxYouth@KulibinPark&page=2&when=past'"
      ]
     },
     "metadata": {},
     "output_type": "display_data"
    },
    {
     "data": {
      "text/plain": [
       "'https://www.ted.com/tedx/events?autocomplete_filter=TEDxPelourinho&page=1&when=past'"
      ]
     },
     "metadata": {},
     "output_type": "display_data"
    },
    {
     "data": {
      "text/plain": [
       "'https://www.ted.com/tedx/events?autocomplete_filter=TEDxYouth@Kolmikulma&page=1&when=past'"
      ]
     },
     "metadata": {},
     "output_type": "display_data"
    },
    {
     "data": {
      "text/plain": [
       "'https://www.ted.com/tedx/events?autocomplete_filter=TEDxAruba&page=2&when=past'"
      ]
     },
     "metadata": {},
     "output_type": "display_data"
    },
    {
     "data": {
      "text/plain": [
       "'https://www.ted.com/tedx/events?autocomplete_filter=TEDxPelourinho&page=2&when=past'"
      ]
     },
     "metadata": {},
     "output_type": "display_data"
    },
    {
     "data": {
      "text/plain": [
       "'https://www.ted.com/tedx/events?autocomplete_filter=TEDxSoweto&page=1&when=past'"
      ]
     },
     "metadata": {},
     "output_type": "display_data"
    },
    {
     "data": {
      "text/plain": [
       "'https://www.ted.com/tedx/events?autocomplete_filter=TEDxYouth@Kolmikulma&page=2&when=past'"
      ]
     },
     "metadata": {},
     "output_type": "display_data"
    },
    {
     "data": {
      "text/plain": [
       "'https://www.ted.com/tedx/events?autocomplete_filter=TEDxLESEYNE&page=1&when=past'"
      ]
     },
     "metadata": {},
     "output_type": "display_data"
    },
    {
     "data": {
      "text/plain": [
       "'https://www.ted.com/tedx/events?autocomplete_filter=TEDxSoweto&page=2&when=past'"
      ]
     },
     "metadata": {},
     "output_type": "display_data"
    },
    {
     "data": {
      "text/plain": [
       "'https://www.ted.com/tedx/events?autocomplete_filter=TEDxSkoll&page=1&when=past'"
      ]
     },
     "metadata": {},
     "output_type": "display_data"
    },
    {
     "data": {
      "text/plain": [
       "'https://www.ted.com/tedx/events?autocomplete_filter=TEDxEdgemontSchool&page=1&when=past'"
      ]
     },
     "metadata": {},
     "output_type": "display_data"
    },
    {
     "data": {
      "text/plain": [
       "'https://www.ted.com/tedx/events?autocomplete_filter=TEDxTangsel&page=1&when=past'"
      ]
     },
     "metadata": {},
     "output_type": "display_data"
    },
    {
     "data": {
      "text/plain": [
       "'https://www.ted.com/tedx/events?autocomplete_filter=TEDxSkoll&page=2&when=past'"
      ]
     },
     "metadata": {},
     "output_type": "display_data"
    },
    {
     "data": {
      "text/plain": [
       "'https://www.ted.com/tedx/events?autocomplete_filter=TEDxEdgemontSchool&page=2&when=past'"
      ]
     },
     "metadata": {},
     "output_type": "display_data"
    },
    {
     "data": {
      "text/plain": [
       "'https://www.ted.com/tedx/events?autocomplete_filter=TEDxTangsel&page=2&when=past'"
      ]
     },
     "metadata": {},
     "output_type": "display_data"
    },
    {
     "data": {
      "text/plain": [
       "'https://www.ted.com/tedx/events?autocomplete_filter=TEDxYouth@Edmonton&page=1&when=past'"
      ]
     },
     "metadata": {},
     "output_type": "display_data"
    },
    {
     "data": {
      "text/plain": [
       "'https://www.ted.com/tedx/events?autocomplete_filter=TEDxTughlaqRd&page=1&when=past'"
      ]
     },
     "metadata": {},
     "output_type": "display_data"
    },
    {
     "data": {
      "text/plain": [
       "'https://www.ted.com/tedx/events?autocomplete_filter=TEDxUKZN&page=1&when=past'"
      ]
     },
     "metadata": {},
     "output_type": "display_data"
    },
    {
     "data": {
      "text/plain": [
       "'https://www.ted.com/tedx/events?autocomplete_filter=TEDxTughlaqRd&page=2&when=past'"
      ]
     },
     "metadata": {},
     "output_type": "display_data"
    },
    {
     "data": {
      "text/plain": [
       "'https://www.ted.com/tedx/events?autocomplete_filter=TEDxYouth@Edmonton&page=2&when=past'"
      ]
     },
     "metadata": {},
     "output_type": "display_data"
    },
    {
     "data": {
      "text/plain": [
       "'https://www.ted.com/tedx/events?autocomplete_filter=TEDxUKZN&page=2&when=past'"
      ]
     },
     "metadata": {},
     "output_type": "display_data"
    },
    {
     "data": {
      "text/plain": [
       "'https://www.ted.com/tedx/events?autocomplete_filter=TEDxNewEngland&page=1&when=past'"
      ]
     },
     "metadata": {},
     "output_type": "display_data"
    },
    {
     "data": {
      "text/plain": [
       "'https://www.ted.com/tedx/events?autocomplete_filter=TEDxHolborn&page=1&when=past'"
      ]
     },
     "metadata": {},
     "output_type": "display_data"
    },
    {
     "data": {
      "text/plain": [
       "'https://www.ted.com/tedx/events?autocomplete_filter=TEDxTalk&page=1&when=past'"
      ]
     },
     "metadata": {},
     "output_type": "display_data"
    },
    {
     "data": {
      "text/plain": [
       "'https://www.ted.com/tedx/events?autocomplete_filter=TEDxCaltech&page=1&when=past'"
      ]
     },
     "metadata": {},
     "output_type": "display_data"
    },
    {
     "data": {
      "text/plain": [
       "'https://www.ted.com/tedx/events?autocomplete_filter=TEDxHolborn&page=2&when=past'"
      ]
     },
     "metadata": {},
     "output_type": "display_data"
    },
    {
     "data": {
      "text/plain": [
       "'https://www.ted.com/tedx/events?autocomplete_filter=TEDxNewEngland&page=2&when=past'"
      ]
     },
     "metadata": {},
     "output_type": "display_data"
    },
    {
     "data": {
      "text/plain": [
       "'https://www.ted.com/tedx/events?autocomplete_filter=TEDxCaltech&page=2&when=past'"
      ]
     },
     "metadata": {},
     "output_type": "display_data"
    },
    {
     "data": {
      "text/plain": [
       "'https://www.ted.com/tedx/events?autocomplete_filter=TEDxAnogeia&page=1&when=past'"
      ]
     },
     "metadata": {},
     "output_type": "display_data"
    },
    {
     "data": {
      "text/plain": [
       "'https://www.ted.com/tedx/events?autocomplete_filter=TEDxOtaniemiED&page=1&when=past'"
      ]
     },
     "metadata": {},
     "output_type": "display_data"
    },
    {
     "data": {
      "text/plain": [
       "'https://www.ted.com/tedx/events?autocomplete_filter=TEDxUWCCR&page=1&when=past'"
      ]
     },
     "metadata": {},
     "output_type": "display_data"
    },
    {
     "data": {
      "text/plain": [
       "'https://www.ted.com/tedx/events?autocomplete_filter=TEDxAnogeia&page=2&when=past'"
      ]
     },
     "metadata": {},
     "output_type": "display_data"
    },
    {
     "data": {
      "text/plain": [
       "'https://www.ted.com/tedx/events?autocomplete_filter=TEDxOtaniemiED&page=2&when=past'"
      ]
     },
     "metadata": {},
     "output_type": "display_data"
    },
    {
     "data": {
      "text/plain": [
       "'https://www.ted.com/tedx/events?autocomplete_filter=TEDxUWCCR&page=2&when=past'"
      ]
     },
     "metadata": {},
     "output_type": "display_data"
    },
    {
     "data": {
      "text/plain": [
       "'https://www.ted.com/tedx/events?autocomplete_filter=TEDxCórdoba&page=1&when=past'"
      ]
     },
     "metadata": {},
     "output_type": "display_data"
    },
    {
     "data": {
      "text/plain": [
       "'https://www.ted.com/tedx/events?autocomplete_filter=TEDxSquareMile2013&page=1&when=past'"
      ]
     },
     "metadata": {},
     "output_type": "display_data"
    },
    {
     "data": {
      "text/plain": [
       "'https://www.ted.com/tedx/events?autocomplete_filter=TEDxYouth@SPCP&page=1&when=past'"
      ]
     },
     "metadata": {},
     "output_type": "display_data"
    },
    {
     "data": {
      "text/plain": [
       "'https://www.ted.com/tedx/events?autocomplete_filter=TEDxClPedroRosalesDeLeon&page=1&when=past'"
      ]
     },
     "metadata": {},
     "output_type": "display_data"
    },
    {
     "data": {
      "text/plain": [
       "'https://www.ted.com/tedx/events?autocomplete_filter=TEDxCórdoba&page=2&when=past'"
      ]
     },
     "metadata": {},
     "output_type": "display_data"
    },
    {
     "data": {
      "text/plain": [
       "'https://www.ted.com/tedx/events?autocomplete_filter=TEDxYouth@SPCP&page=2&when=past'"
      ]
     },
     "metadata": {},
     "output_type": "display_data"
    },
    {
     "data": {
      "text/plain": [
       "'https://www.ted.com/tedx/events?autocomplete_filter=TEDxClPedroRosalesDeLeon&page=2&when=past'"
      ]
     },
     "metadata": {},
     "output_type": "display_data"
    },
    {
     "data": {
      "text/plain": [
       "'https://www.ted.com/tedx/events?autocomplete_filter=TEDxJaiHindCollege&page=1&when=past'"
      ]
     },
     "metadata": {},
     "output_type": "display_data"
    },
    {
     "data": {
      "text/plain": [
       "'https://www.ted.com/tedx/events?autocomplete_filter=TEDxNDULouaize&page=1&when=past'"
      ]
     },
     "metadata": {},
     "output_type": "display_data"
    },
    {
     "data": {
      "text/plain": [
       "'https://www.ted.com/tedx/events?autocomplete_filter=TEDxUniversityOfManchester&page=1&when=past'"
      ]
     },
     "metadata": {},
     "output_type": "display_data"
    },
    {
     "data": {
      "text/plain": [
       "'https://www.ted.com/tedx/events?autocomplete_filter=TEDxJaiHindCollege&page=2&when=past'"
      ]
     },
     "metadata": {},
     "output_type": "display_data"
    },
    {
     "data": {
      "text/plain": [
       "'https://www.ted.com/tedx/events?autocomplete_filter=TEDxNDULouaize&page=2&when=past'"
      ]
     },
     "metadata": {},
     "output_type": "display_data"
    },
    {
     "data": {
      "text/plain": [
       "'https://www.ted.com/tedx/events?autocomplete_filter=TEDxUniversityOfManchester&page=2&when=past'"
      ]
     },
     "metadata": {},
     "output_type": "display_data"
    },
    {
     "data": {
      "text/plain": [
       "'https://www.ted.com/tedx/events?autocomplete_filter=TEDxMarketStreet&page=1&when=past'"
      ]
     },
     "metadata": {},
     "output_type": "display_data"
    },
    {
     "data": {
      "text/plain": [
       "'https://www.ted.com/tedx/events?autocomplete_filter=TEDxPenticton&page=1&when=past'"
      ]
     },
     "metadata": {},
     "output_type": "display_data"
    },
    {
     "data": {
      "text/plain": [
       "'https://www.ted.com/tedx/events?autocomplete_filter=TEDxUniversityOfSanFrancisco&page=1&when=past'"
      ]
     },
     "metadata": {},
     "output_type": "display_data"
    },
    {
     "data": {
      "text/plain": [
       "'https://www.ted.com/tedx/events?autocomplete_filter=TEDxMarketStreet&page=2&when=past'"
      ]
     },
     "metadata": {},
     "output_type": "display_data"
    },
    {
     "data": {
      "text/plain": [
       "'https://www.ted.com/tedx/events?autocomplete_filter=TEDxUniversityOfSanFrancisco&page=2&when=past'"
      ]
     },
     "metadata": {},
     "output_type": "display_data"
    },
    {
     "data": {
      "text/plain": [
       "'https://www.ted.com/tedx/events?autocomplete_filter=TEDxPenticton&page=2&when=past'"
      ]
     },
     "metadata": {},
     "output_type": "display_data"
    },
    {
     "data": {
      "text/plain": [
       "'https://www.ted.com/tedx/events?autocomplete_filter=TEDxACSindependent&page=1&when=past'"
      ]
     },
     "metadata": {},
     "output_type": "display_data"
    },
    {
     "data": {
      "text/plain": [
       "'https://www.ted.com/tedx/events?autocomplete_filter=TEDxFSUJena&page=1&when=past'"
      ]
     },
     "metadata": {},
     "output_type": "display_data"
    },
    {
     "data": {
      "text/plain": [
       "'https://www.ted.com/tedx/events?autocomplete_filter=TEDxVilnius&page=1&when=past'"
      ]
     },
     "metadata": {},
     "output_type": "display_data"
    },
    {
     "data": {
      "text/plain": [
       "'https://www.ted.com/tedx/events?autocomplete_filter=TEDxACSindependent&page=2&when=past'"
      ]
     },
     "metadata": {},
     "output_type": "display_data"
    },
    {
     "data": {
      "text/plain": [
       "'https://www.ted.com/tedx/events?autocomplete_filter=TEDxFSUJena&page=2&when=past'"
      ]
     },
     "metadata": {},
     "output_type": "display_data"
    },
    {
     "data": {
      "text/plain": [
       "'https://www.ted.com/tedx/events?autocomplete_filter=TEDxRadnorHighSchool&page=1&when=past'"
      ]
     },
     "metadata": {},
     "output_type": "display_data"
    },
    {
     "data": {
      "text/plain": [
       "'https://www.ted.com/tedx/events?autocomplete_filter=TEDxVilnius&page=2&when=past'"
      ]
     },
     "metadata": {},
     "output_type": "display_data"
    },
    {
     "data": {
      "text/plain": [
       "'https://www.ted.com/tedx/events?autocomplete_filter=TEDxHackney&page=1&when=past'"
      ]
     },
     "metadata": {},
     "output_type": "display_data"
    },
    {
     "data": {
      "text/plain": [
       "'https://www.ted.com/tedx/events?autocomplete_filter=TEDxRadnorHighSchool&page=2&when=past'"
      ]
     },
     "metadata": {},
     "output_type": "display_data"
    },
    {
     "data": {
      "text/plain": [
       "'https://www.ted.com/tedx/events?autocomplete_filter=TEDxAIIMS&page=1&when=past'"
      ]
     },
     "metadata": {},
     "output_type": "display_data"
    },
    {
     "data": {
      "text/plain": [
       "'https://www.ted.com/tedx/events?autocomplete_filter=TEDxHackney&page=2&when=past'"
      ]
     },
     "metadata": {},
     "output_type": "display_data"
    },
    {
     "data": {
      "text/plain": [
       "'https://www.ted.com/tedx/events?autocomplete_filter=TEDxTotnes&page=1&when=past'"
      ]
     },
     "metadata": {},
     "output_type": "display_data"
    },
    {
     "data": {
      "text/plain": [
       "'https://www.ted.com/tedx/events?autocomplete_filter=TEDxAIIMS&page=2&when=past'"
      ]
     },
     "metadata": {},
     "output_type": "display_data"
    },
    {
     "data": {
      "text/plain": [
       "'https://www.ted.com/tedx/events?autocomplete_filter=TEDxTimberlaneSchools&page=1&when=past'"
      ]
     },
     "metadata": {},
     "output_type": "display_data"
    },
    {
     "data": {
      "text/plain": [
       "'https://www.ted.com/tedx/events?autocomplete_filter=TEDxTotnes&page=2&when=past'"
      ]
     },
     "metadata": {},
     "output_type": "display_data"
    },
    {
     "data": {
      "text/plain": [
       "'https://www.ted.com/tedx/events?autocomplete_filter=TEDxYouth@Vladivostok&page=1&when=past'"
      ]
     },
     "metadata": {},
     "output_type": "display_data"
    },
    {
     "data": {
      "text/plain": [
       "'https://www.ted.com/tedx/events?autocomplete_filter=TEDxTimberlaneSchools&page=2&when=past'"
      ]
     },
     "metadata": {},
     "output_type": "display_data"
    },
    {
     "data": {
      "text/plain": [
       "'https://www.ted.com/tedx/events?autocomplete_filter=TEDx,&page=1&when=past'"
      ]
     },
     "metadata": {},
     "output_type": "display_data"
    },
    {
     "data": {
      "text/plain": [
       "'https://www.ted.com/tedx/events?autocomplete_filter=TEDxYouth@Vladivostok&page=2&when=past'"
      ]
     },
     "metadata": {},
     "output_type": "display_data"
    },
    {
     "data": {
      "text/plain": [
       "'https://www.ted.com/tedx/events?autocomplete_filter=TEDxKodaikanalInternationalSchool&page=1&when=past'"
      ]
     },
     "metadata": {},
     "output_type": "display_data"
    },
    {
     "data": {
      "text/plain": [
       "'https://www.ted.com/tedx/events?autocomplete_filter=TEDx?:&page=1&when=past'"
      ]
     },
     "metadata": {},
     "output_type": "display_data"
    },
    {
     "data": {
      "text/plain": [
       "'https://www.ted.com/tedx/events?autocomplete_filter=TEDxHoughton&page=1&when=past'"
      ]
     },
     "metadata": {},
     "output_type": "display_data"
    },
    {
     "data": {
      "text/plain": [
       "'https://www.ted.com/tedx/events?autocomplete_filter=TEDxRíodela&page=1&when=past'"
      ]
     },
     "metadata": {},
     "output_type": "display_data"
    },
    {
     "data": {
      "text/plain": [
       "'https://www.ted.com/tedx/events?autocomplete_filter=TEDxKodaikanalInternationalSchool&page=2&when=past'"
      ]
     },
     "metadata": {},
     "output_type": "display_data"
    },
    {
     "data": {
      "text/plain": [
       "'https://www.ted.com/tedx/events?autocomplete_filter=TEDxHoughton&page=2&when=past'"
      ]
     },
     "metadata": {},
     "output_type": "display_data"
    },
    {
     "data": {
      "text/plain": [
       "'https://www.ted.com/tedx/events?autocomplete_filter=TEDxBasqueCountry&page=1&when=past'"
      ]
     },
     "metadata": {},
     "output_type": "display_data"
    },
    {
     "data": {
      "text/plain": [
       "'https://www.ted.com/tedx/events?autocomplete_filter=TEDxBrum&page=1&when=past'"
      ]
     },
     "metadata": {},
     "output_type": "display_data"
    },
    {
     "data": {
      "text/plain": [
       "'https://www.ted.com/tedx/events?autocomplete_filter=TEDxRíodela&page=2&when=past'"
      ]
     },
     "metadata": {},
     "output_type": "display_data"
    },
    {
     "data": {
      "text/plain": [
       "'https://www.ted.com/tedx/events?autocomplete_filter=TEDxBasqueCountry&page=2&when=past'"
      ]
     },
     "metadata": {},
     "output_type": "display_data"
    },
    {
     "data": {
      "text/plain": [
       "'https://www.ted.com/tedx/events?autocomplete_filter=TEDxGITAMHyderabad&page=1&when=past'"
      ]
     },
     "metadata": {},
     "output_type": "display_data"
    },
    {
     "data": {
      "text/plain": [
       "'https://www.ted.com/tedx/events?autocomplete_filter=TEDxBrum&page=2&when=past'"
      ]
     },
     "metadata": {},
     "output_type": "display_data"
    },
    {
     "data": {
      "text/plain": [
       "'https://www.ted.com/tedx/events?autocomplete_filter=TEDxPenas&page=1&when=past'"
      ]
     },
     "metadata": {},
     "output_type": "display_data"
    },
    {
     "data": {
      "text/plain": [
       "'https://www.ted.com/tedx/events?autocomplete_filter=TEDxGITAMHyderabad&page=2&when=past'"
      ]
     },
     "metadata": {},
     "output_type": "display_data"
    },
    {
     "data": {
      "text/plain": [
       "'https://www.ted.com/tedx/events?autocomplete_filter=TEDxCardiffbytheSea&page=1&when=past'"
      ]
     },
     "metadata": {},
     "output_type": "display_data"
    },
    {
     "data": {
      "text/plain": [
       "'https://www.ted.com/tedx/events?autocomplete_filter=TEDxLaJolla&page=1&when=past'"
      ]
     },
     "metadata": {},
     "output_type": "display_data"
    },
    {
     "data": {
      "text/plain": [
       "'https://www.ted.com/tedx/events?autocomplete_filter=TEDxPenas&page=2&when=past'"
      ]
     },
     "metadata": {},
     "output_type": "display_data"
    },
    {
     "data": {
      "text/plain": [
       "'https://www.ted.com/tedx/events?autocomplete_filter=TEDxCardiffbytheSea&page=2&when=past'"
      ]
     },
     "metadata": {},
     "output_type": "display_data"
    },
    {
     "data": {
      "text/plain": [
       "'https://www.ted.com/tedx/events?autocomplete_filter=TEDxLaJolla&page=2&when=past'"
      ]
     },
     "metadata": {},
     "output_type": "display_data"
    },
    {
     "data": {
      "text/plain": [
       "'https://www.ted.com/tedx/events?autocomplete_filter=TEDxChathamKent&page=1&when=past'"
      ]
     },
     "metadata": {},
     "output_type": "display_data"
    },
    {
     "data": {
      "text/plain": [
       "'https://www.ted.com/tedx/events?autocomplete_filter=TEDxYouth@Miraflores&page=1&when=past'"
      ]
     },
     "metadata": {},
     "output_type": "display_data"
    },
    {
     "data": {
      "text/plain": [
       "'https://www.ted.com/tedx/events?autocomplete_filter=TEDxTokushimaU&page=1&when=past'"
      ]
     },
     "metadata": {},
     "output_type": "display_data"
    },
    {
     "data": {
      "text/plain": [
       "'https://www.ted.com/tedx/events?autocomplete_filter=TEDxChathamKent&page=2&when=past'"
      ]
     },
     "metadata": {},
     "output_type": "display_data"
    },
    {
     "data": {
      "text/plain": [
       "'https://www.ted.com/tedx/events?autocomplete_filter=TEDxYouth@Miraflores&page=2&when=past'"
      ]
     },
     "metadata": {},
     "output_type": "display_data"
    },
    {
     "data": {
      "text/plain": [
       "'https://www.ted.com/tedx/events?autocomplete_filter=TEDxTokushimaU&page=2&when=past'"
      ]
     },
     "metadata": {},
     "output_type": "display_data"
    },
    {
     "data": {
      "text/plain": [
       "'https://www.ted.com/tedx/events?autocomplete_filter=TEDxDebrecenUniversity&page=1&when=past'"
      ]
     },
     "metadata": {},
     "output_type": "display_data"
    },
    {
     "data": {
      "text/plain": [
       "'https://www.ted.com/tedx/events?autocomplete_filter=TEDxHultAshridge&page=1&when=past'"
      ]
     },
     "metadata": {},
     "output_type": "display_data"
    },
    {
     "data": {
      "text/plain": [
       "'https://www.ted.com/tedx/events?autocomplete_filter=TEDxBruntsfield&page=1&when=past'"
      ]
     },
     "metadata": {},
     "output_type": "display_data"
    },
    {
     "data": {
      "text/plain": [
       "'https://www.ted.com/tedx/events?autocomplete_filter=TEDxDebrecenUniversity&page=2&when=past'"
      ]
     },
     "metadata": {},
     "output_type": "display_data"
    },
    {
     "data": {
      "text/plain": [
       "'https://www.ted.com/tedx/events?autocomplete_filter=TEDxHultAshridge&page=2&when=past'"
      ]
     },
     "metadata": {},
     "output_type": "display_data"
    },
    {
     "data": {
      "text/plain": [
       "'https://www.ted.com/tedx/events?autocomplete_filter=TEDxBruntsfield&page=2&when=past'"
      ]
     },
     "metadata": {},
     "output_type": "display_data"
    },
    {
     "data": {
      "text/plain": [
       "'https://www.ted.com/tedx/events?autocomplete_filter=TEDxNovaScotia&page=1&when=past'"
      ]
     },
     "metadata": {},
     "output_type": "display_data"
    },
    {
     "data": {
      "text/plain": [
       "'https://www.ted.com/tedx/events?autocomplete_filter=TEDxKharkiv&page=1&when=past'"
      ]
     },
     "metadata": {},
     "output_type": "display_data"
    },
    {
     "data": {
      "text/plain": [
       "'https://www.ted.com/tedx/events?autocomplete_filter=TEDxRenfrewCollingwood&page=1&when=past'"
      ]
     },
     "metadata": {},
     "output_type": "display_data"
    },
    {
     "data": {
      "text/plain": [
       "'https://www.ted.com/tedx/events?autocomplete_filter=TEDxNovaScotia&page=2&when=past'"
      ]
     },
     "metadata": {},
     "output_type": "display_data"
    },
    {
     "data": {
      "text/plain": [
       "'https://www.ted.com/tedx/events?autocomplete_filter=TEDxRenfrewCollingwood&page=2&when=past'"
      ]
     },
     "metadata": {},
     "output_type": "display_data"
    },
    {
     "data": {
      "text/plain": [
       "'https://www.ted.com/tedx/events?autocomplete_filter=TEDxKharkiv&page=2&when=past'"
      ]
     },
     "metadata": {},
     "output_type": "display_data"
    },
    {
     "data": {
      "text/plain": [
       "'https://www.ted.com/tedx/events?autocomplete_filter=TEDxCarletonU&page=1&when=past'"
      ]
     },
     "metadata": {},
     "output_type": "display_data"
    },
    {
     "data": {
      "text/plain": [
       "'https://www.ted.com/tedx/events?autocomplete_filter=TEDxKamuela&page=1&when=past'"
      ]
     },
     "metadata": {},
     "output_type": "display_data"
    },
    {
     "data": {
      "text/plain": [
       "'https://www.ted.com/tedx/events?autocomplete_filter=TEDxSendai&page=1&when=past'"
      ]
     },
     "metadata": {},
     "output_type": "display_data"
    },
    {
     "data": {
      "text/plain": [
       "'https://www.ted.com/tedx/events?autocomplete_filter=TEDxCarletonU&page=2&when=past'"
      ]
     },
     "metadata": {},
     "output_type": "display_data"
    },
    {
     "data": {
      "text/plain": [
       "'https://www.ted.com/tedx/events?autocomplete_filter=TEDxKamuela&page=2&when=past'"
      ]
     },
     "metadata": {},
     "output_type": "display_data"
    },
    {
     "data": {
      "text/plain": [
       "'https://www.ted.com/tedx/events?autocomplete_filter=TEDxSendai&page=2&when=past'"
      ]
     },
     "metadata": {},
     "output_type": "display_data"
    },
    {
     "data": {
      "text/plain": [
       "'https://www.ted.com/tedx/events?autocomplete_filter=TEDxSaintLouisUniversity&page=1&when=past'"
      ]
     },
     "metadata": {},
     "output_type": "display_data"
    },
    {
     "data": {
      "text/plain": [
       "'https://www.ted.com/tedx/events?autocomplete_filter=TEDxYouth@Montreal&page=1&when=past'"
      ]
     },
     "metadata": {},
     "output_type": "display_data"
    },
    {
     "data": {
      "text/plain": [
       "'https://www.ted.com/tedx/events?autocomplete_filter=TEDxShanghaiAmericanSchool&page=1&when=past'"
      ]
     },
     "metadata": {},
     "output_type": "display_data"
    },
    {
     "data": {
      "text/plain": [
       "'https://www.ted.com/tedx/events?autocomplete_filter=TEDxSaintLouisUniversity&page=2&when=past'"
      ]
     },
     "metadata": {},
     "output_type": "display_data"
    },
    {
     "data": {
      "text/plain": [
       "'https://www.ted.com/tedx/events?autocomplete_filter=TEDxYouth@Montreal&page=2&when=past'"
      ]
     },
     "metadata": {},
     "output_type": "display_data"
    },
    {
     "data": {
      "text/plain": [
       "'https://www.ted.com/tedx/events?autocomplete_filter=TEDxShanghaiAmericanSchool&page=2&when=past'"
      ]
     },
     "metadata": {},
     "output_type": "display_data"
    },
    {
     "data": {
      "text/plain": [
       "'https://www.ted.com/tedx/events?autocomplete_filter=TEDxSunRiver&page=1&when=past'"
      ]
     },
     "metadata": {},
     "output_type": "display_data"
    },
    {
     "data": {
      "text/plain": [
       "'https://www.ted.com/tedx/events?autocomplete_filter=TEDxISL&page=1&when=past'"
      ]
     },
     "metadata": {},
     "output_type": "display_data"
    },
    {
     "data": {
      "text/plain": [
       "'https://www.ted.com/tedx/events?autocomplete_filter=TEDxRyersonU&page=1&when=past'"
      ]
     },
     "metadata": {},
     "output_type": "display_data"
    },
    {
     "data": {
      "text/plain": [
       "'https://www.ted.com/tedx/events?autocomplete_filter=TEDxSunRiver&page=2&when=past'"
      ]
     },
     "metadata": {},
     "output_type": "display_data"
    },
    {
     "data": {
      "text/plain": [
       "'https://www.ted.com/tedx/events?autocomplete_filter=TEDxISL&page=2&when=past'"
      ]
     },
     "metadata": {},
     "output_type": "display_data"
    },
    {
     "data": {
      "text/plain": [
       "'https://www.ted.com/tedx/events?autocomplete_filter=TEDxRyersonU&page=2&when=past'"
      ]
     },
     "metadata": {},
     "output_type": "display_data"
    },
    {
     "data": {
      "text/plain": [
       "'https://www.ted.com/tedx/events?autocomplete_filter=TEDxGranViaSalon&page=1&when=past'"
      ]
     },
     "metadata": {},
     "output_type": "display_data"
    },
    {
     "data": {
      "text/plain": [
       "'https://www.ted.com/tedx/events?autocomplete_filter=TEDxEilat&page=1&when=past'"
      ]
     },
     "metadata": {},
     "output_type": "display_data"
    },
    {
     "data": {
      "text/plain": [
       "'https://www.ted.com/tedx/events?autocomplete_filter=TEDxNSCCWaterfront&page=1&when=past'"
      ]
     },
     "metadata": {},
     "output_type": "display_data"
    },
    {
     "data": {
      "text/plain": [
       "'https://www.ted.com/tedx/events?autocomplete_filter=TEDxGranViaSalon&page=2&when=past'"
      ]
     },
     "metadata": {},
     "output_type": "display_data"
    },
    {
     "data": {
      "text/plain": [
       "'https://www.ted.com/tedx/events?autocomplete_filter=TEDxEilat&page=2&when=past'"
      ]
     },
     "metadata": {},
     "output_type": "display_data"
    },
    {
     "data": {
      "text/plain": [
       "'https://www.ted.com/tedx/events?autocomplete_filter=TEDxNSCCWaterfront&page=2&when=past'"
      ]
     },
     "metadata": {},
     "output_type": "display_data"
    },
    {
     "data": {
      "text/plain": [
       "'https://www.ted.com/tedx/events?autocomplete_filter=TEDxCerritosCollege&page=1&when=past'"
      ]
     },
     "metadata": {},
     "output_type": "display_data"
    },
    {
     "data": {
      "text/plain": [
       "'https://www.ted.com/tedx/events?autocomplete_filter=TEDxVannes&page=1&when=past'"
      ]
     },
     "metadata": {},
     "output_type": "display_data"
    },
    {
     "data": {
      "text/plain": [
       "'https://www.ted.com/tedx/events?autocomplete_filter=TEDxGastownWomen&page=1&when=past'"
      ]
     },
     "metadata": {},
     "output_type": "display_data"
    },
    {
     "data": {
      "text/plain": [
       "'https://www.ted.com/tedx/events?autocomplete_filter=TEDxCerritosCollege&page=2&when=past'"
      ]
     },
     "metadata": {},
     "output_type": "display_data"
    },
    {
     "data": {
      "text/plain": [
       "'https://www.ted.com/tedx/events?autocomplete_filter=TEDxVannes&page=2&when=past'"
      ]
     },
     "metadata": {},
     "output_type": "display_data"
    },
    {
     "data": {
      "text/plain": [
       "'https://www.ted.com/tedx/events?autocomplete_filter=TEDxGastownWomen&page=2&when=past'"
      ]
     },
     "metadata": {},
     "output_type": "display_data"
    },
    {
     "data": {
      "text/plain": [
       "'https://www.ted.com/tedx/events?autocomplete_filter=TEDxRoseburg&page=1&when=past'"
      ]
     },
     "metadata": {},
     "output_type": "display_data"
    },
    {
     "data": {
      "text/plain": [
       "'https://www.ted.com/tedx/events?autocomplete_filter=TEDxHongKongED&page=1&when=past'"
      ]
     },
     "metadata": {},
     "output_type": "display_data"
    },
    {
     "data": {
      "text/plain": [
       "'https://www.ted.com/tedx/events?autocomplete_filter=TEDxSandhillsCommunityCollege&page=1&when=past'"
      ]
     },
     "metadata": {},
     "output_type": "display_data"
    },
    {
     "data": {
      "text/plain": [
       "'https://www.ted.com/tedx/events?autocomplete_filter=TEDxHongKongED&page=2&when=past'"
      ]
     },
     "metadata": {},
     "output_type": "display_data"
    },
    {
     "data": {
      "text/plain": [
       "'https://www.ted.com/tedx/events?autocomplete_filter=TEDxRoseburg&page=2&when=past'"
      ]
     },
     "metadata": {},
     "output_type": "display_data"
    },
    {
     "data": {
      "text/plain": [
       "'https://www.ted.com/tedx/events?autocomplete_filter=TEDxSandhillsCommunityCollege&page=2&when=past'"
      ]
     },
     "metadata": {},
     "output_type": "display_data"
    },
    {
     "data": {
      "text/plain": [
       "'https://www.ted.com/tedx/events?autocomplete_filter=TEDxAmmon&page=1&when=past'"
      ]
     },
     "metadata": {},
     "output_type": "display_data"
    },
    {
     "data": {
      "text/plain": [
       "'https://www.ted.com/tedx/events?autocomplete_filter=TEDxCrocetta&page=1&when=past'"
      ]
     },
     "metadata": {},
     "output_type": "display_data"
    },
    {
     "data": {
      "text/plain": [
       "'https://www.ted.com/tedx/events?autocomplete_filter=TEDxWanChaiWomen&page=1&when=past'"
      ]
     },
     "metadata": {},
     "output_type": "display_data"
    },
    {
     "data": {
      "text/plain": [
       "'https://www.ted.com/tedx/events?autocomplete_filter=TEDxAmmon&page=2&when=past'"
      ]
     },
     "metadata": {},
     "output_type": "display_data"
    },
    {
     "data": {
      "text/plain": [
       "'https://www.ted.com/tedx/events?autocomplete_filter=TEDxWanChaiWomen&page=2&when=past'"
      ]
     },
     "metadata": {},
     "output_type": "display_data"
    },
    {
     "data": {
      "text/plain": [
       "'https://www.ted.com/tedx/events?autocomplete_filter=TEDxCrocetta&page=2&when=past'"
      ]
     },
     "metadata": {},
     "output_type": "display_data"
    },
    {
     "data": {
      "text/plain": [
       "'https://www.ted.com/tedx/events?autocomplete_filter=TEDxSacredHeartCHS&page=1&when=past'"
      ]
     },
     "metadata": {},
     "output_type": "display_data"
    },
    {
     "data": {
      "text/plain": [
       "'https://www.ted.com/tedx/events?autocomplete_filter=TEDxFremont&page=1&when=past'"
      ]
     },
     "metadata": {},
     "output_type": "display_data"
    },
    {
     "data": {
      "text/plain": [
       "'https://www.ted.com/tedx/events?autocomplete_filter=TEDxManipalUniversityDubai&page=1&when=past'"
      ]
     },
     "metadata": {},
     "output_type": "display_data"
    },
    {
     "data": {
      "text/plain": [
       "'https://www.ted.com/tedx/events?autocomplete_filter=TEDxSacredHeartCHS&page=2&when=past'"
      ]
     },
     "metadata": {},
     "output_type": "display_data"
    },
    {
     "data": {
      "text/plain": [
       "'https://www.ted.com/tedx/events?autocomplete_filter=TEDxFremont&page=2&when=past'"
      ]
     },
     "metadata": {},
     "output_type": "display_data"
    },
    {
     "data": {
      "text/plain": [
       "'https://www.ted.com/tedx/events?autocomplete_filter=TEDxManipalUniversityDubai&page=2&when=past'"
      ]
     },
     "metadata": {},
     "output_type": "display_data"
    },
    {
     "data": {
      "text/plain": [
       "'https://www.ted.com/tedx/events?autocomplete_filter=TEDxKirovka&page=1&when=past'"
      ]
     },
     "metadata": {},
     "output_type": "display_data"
    },
    {
     "data": {
      "text/plain": [
       "'https://www.ted.com/tedx/events?autocomplete_filter=TEDxNagyerdő&page=1&when=past'"
      ]
     },
     "metadata": {},
     "output_type": "display_data"
    },
    {
     "data": {
      "text/plain": [
       "'https://www.ted.com/tedx/events?autocomplete_filter=TEDxJaipur&page=1&when=past'"
      ]
     },
     "metadata": {},
     "output_type": "display_data"
    },
    {
     "data": {
      "text/plain": [
       "'https://www.ted.com/tedx/events?autocomplete_filter=TEDxKirovka&page=2&when=past'"
      ]
     },
     "metadata": {},
     "output_type": "display_data"
    },
    {
     "data": {
      "text/plain": [
       "'https://www.ted.com/tedx/events?autocomplete_filter=TEDxNagyerdő&page=2&when=past'"
      ]
     },
     "metadata": {},
     "output_type": "display_data"
    },
    {
     "data": {
      "text/plain": [
       "'https://www.ted.com/tedx/events?autocomplete_filter=TEDxBG&page=1&when=past'"
      ]
     },
     "metadata": {},
     "output_type": "display_data"
    },
    {
     "data": {
      "text/plain": [
       "'https://www.ted.com/tedx/events?autocomplete_filter=TEDxJaipur&page=2&when=past'"
      ]
     },
     "metadata": {},
     "output_type": "display_data"
    },
    {
     "data": {
      "text/plain": [
       "'https://www.ted.com/tedx/events?autocomplete_filter=TEDxMIPT&page=1&when=past'"
      ]
     },
     "metadata": {},
     "output_type": "display_data"
    },
    {
     "data": {
      "text/plain": [
       "'https://www.ted.com/tedx/events?autocomplete_filter=TEDxMIPT&page=2&when=past'"
      ]
     },
     "metadata": {},
     "output_type": "display_data"
    },
    {
     "data": {
      "text/plain": [
       "'https://www.ted.com/tedx/events?autocomplete_filter=TEDxKCS&page=1&when=past'"
      ]
     },
     "metadata": {},
     "output_type": "display_data"
    },
    {
     "data": {
      "text/plain": [
       "'https://www.ted.com/tedx/events?autocomplete_filter=TEDxBG&page=2&when=past'"
      ]
     },
     "metadata": {},
     "output_type": "display_data"
    },
    {
     "data": {
      "text/plain": [
       "'https://www.ted.com/tedx/events?autocomplete_filter=TEDxISKL&page=1&when=past'"
      ]
     },
     "metadata": {},
     "output_type": "display_data"
    },
    {
     "data": {
      "text/plain": [
       "'https://www.ted.com/tedx/events?autocomplete_filter=TEDxNickelCity&page=1&when=past'"
      ]
     },
     "metadata": {},
     "output_type": "display_data"
    },
    {
     "data": {
      "text/plain": [
       "'https://www.ted.com/tedx/events?autocomplete_filter=TEDxKCS&page=2&when=past'"
      ]
     },
     "metadata": {},
     "output_type": "display_data"
    },
    {
     "data": {
      "text/plain": [
       "'https://www.ted.com/tedx/events?autocomplete_filter=TEDxISKL&page=2&when=past'"
      ]
     },
     "metadata": {},
     "output_type": "display_data"
    },
    {
     "data": {
      "text/plain": [
       "'https://www.ted.com/tedx/events?autocomplete_filter=TEDxtalk?&page=1&when=past'"
      ]
     },
     "metadata": {},
     "output_type": "display_data"
    },
    {
     "data": {
      "text/plain": [
       "'https://www.ted.com/tedx/events?autocomplete_filter=TEDxNickelCity&page=2&when=past'"
      ]
     },
     "metadata": {},
     "output_type": "display_data"
    },
    {
     "data": {
      "text/plain": [
       "'https://www.ted.com/tedx/events?autocomplete_filter=TEDxColumbiaCollege&page=1&when=past'"
      ]
     },
     "metadata": {},
     "output_type": "display_data"
    },
    {
     "data": {
      "text/plain": [
       "'https://www.ted.com/tedx/events?autocomplete_filter=TEDxPhoenixville&page=1&when=past'"
      ]
     },
     "metadata": {},
     "output_type": "display_data"
    },
    {
     "data": {
      "text/plain": [
       "'https://www.ted.com/tedx/events?autocomplete_filter=TEDxLSHTM&page=1&when=past'"
      ]
     },
     "metadata": {},
     "output_type": "display_data"
    },
    {
     "data": {
      "text/plain": [
       "'https://www.ted.com/tedx/events?autocomplete_filter=TEDxColumbiaCollege&page=2&when=past'"
      ]
     },
     "metadata": {},
     "output_type": "display_data"
    },
    {
     "data": {
      "text/plain": [
       "'https://www.ted.com/tedx/events?autocomplete_filter=TEDxPhoenixville&page=2&when=past'"
      ]
     },
     "metadata": {},
     "output_type": "display_data"
    },
    {
     "data": {
      "text/plain": [
       "'https://www.ted.com/tedx/events?autocomplete_filter=TEDxLSHTM&page=2&when=past'"
      ]
     },
     "metadata": {},
     "output_type": "display_data"
    },
    {
     "data": {
      "text/plain": [
       "'https://www.ted.com/tedx/events?autocomplete_filter=TEDxLouvainLaNeuve&page=1&when=past'"
      ]
     },
     "metadata": {},
     "output_type": "display_data"
    },
    {
     "data": {
      "text/plain": [
       "'https://www.ted.com/tedx/events?autocomplete_filter=TEDxAmRing&page=1&when=past'"
      ]
     },
     "metadata": {},
     "output_type": "display_data"
    },
    {
     "data": {
      "text/plain": [
       "'https://www.ted.com/tedx/events?autocomplete_filter=TEDxHousesofParliament&page=1&when=past'"
      ]
     },
     "metadata": {},
     "output_type": "display_data"
    },
    {
     "data": {
      "text/plain": [
       "'https://www.ted.com/tedx/events?autocomplete_filter=TEDxAmRing&page=2&when=past'"
      ]
     },
     "metadata": {},
     "output_type": "display_data"
    },
    {
     "data": {
      "text/plain": [
       "'https://www.ted.com/tedx/events?autocomplete_filter=TEDxHousesofParliament&page=2&when=past'"
      ]
     },
     "metadata": {},
     "output_type": "display_data"
    },
    {
     "data": {
      "text/plain": [
       "'https://www.ted.com/tedx/events?autocomplete_filter=TEDxLouvainLaNeuve&page=2&when=past'"
      ]
     },
     "metadata": {},
     "output_type": "display_data"
    },
    {
     "data": {
      "text/plain": [
       "'https://www.ted.com/tedx/events?autocomplete_filter=TEDxTallaght&page=1&when=past'"
      ]
     },
     "metadata": {},
     "output_type": "display_data"
    },
    {
     "data": {
      "text/plain": [
       "'https://www.ted.com/tedx/events?autocomplete_filter=TEDxYouth@Granville&page=1&when=past'"
      ]
     },
     "metadata": {},
     "output_type": "display_data"
    },
    {
     "data": {
      "text/plain": [
       "'https://www.ted.com/tedx/events?autocomplete_filter=TEDxUniversityofAkronSalon&page=1&when=past'"
      ]
     },
     "metadata": {},
     "output_type": "display_data"
    },
    {
     "data": {
      "text/plain": [
       "'https://www.ted.com/tedx/events?autocomplete_filter=TEDxTallaght&page=2&when=past'"
      ]
     },
     "metadata": {},
     "output_type": "display_data"
    },
    {
     "data": {
      "text/plain": [
       "'https://www.ted.com/tedx/events?autocomplete_filter=TEDxYouth@Granville&page=2&when=past'"
      ]
     },
     "metadata": {},
     "output_type": "display_data"
    },
    {
     "data": {
      "text/plain": [
       "'https://www.ted.com/tedx/events?autocomplete_filter=TEDxUniversityofAkronSalon&page=2&when=past'"
      ]
     },
     "metadata": {},
     "output_type": "display_data"
    },
    {
     "data": {
      "text/plain": [
       "'https://www.ted.com/tedx/events?autocomplete_filter=TEDxBarringtonHighSchool&page=1&when=past'"
      ]
     },
     "metadata": {},
     "output_type": "display_data"
    },
    {
     "data": {
      "text/plain": [
       "'https://www.ted.com/tedx/events?autocomplete_filter=TEDxChampsElyseesSalon&page=1&when=past'"
      ]
     },
     "metadata": {},
     "output_type": "display_data"
    },
    {
     "data": {
      "text/plain": [
       "'https://www.ted.com/tedx/events?autocomplete_filter=TEDxsalinas&page=1&when=past'"
      ]
     },
     "metadata": {},
     "output_type": "display_data"
    },
    {
     "data": {
      "text/plain": [
       "'https://www.ted.com/tedx/events?autocomplete_filter=TEDxBarringtonHighSchool&page=2&when=past'"
      ]
     },
     "metadata": {},
     "output_type": "display_data"
    },
    {
     "data": {
      "text/plain": [
       "'https://www.ted.com/tedx/events?autocomplete_filter=TEDxsalinas&page=2&when=past'"
      ]
     },
     "metadata": {},
     "output_type": "display_data"
    },
    {
     "data": {
      "text/plain": [
       "'https://www.ted.com/tedx/events?autocomplete_filter=TEDxChampsElyseesSalon&page=2&when=past'"
      ]
     },
     "metadata": {},
     "output_type": "display_data"
    },
    {
     "data": {
      "text/plain": [
       "'https://www.ted.com/tedx/events?autocomplete_filter=TEDxBrixton&page=1&when=past'"
      ]
     },
     "metadata": {},
     "output_type": "display_data"
    },
    {
     "data": {
      "text/plain": [
       "'https://www.ted.com/tedx/events?autocomplete_filter=TEDxHolyhead&page=1&when=past'"
      ]
     },
     "metadata": {},
     "output_type": "display_data"
    },
    {
     "data": {
      "text/plain": [
       "'https://www.ted.com/tedx/events?autocomplete_filter=TEDxBrixton&page=2&when=past'"
      ]
     },
     "metadata": {},
     "output_type": "display_data"
    },
    {
     "data": {
      "text/plain": [
       "'https://www.ted.com/tedx/events?autocomplete_filter=TEDxHolyhead&page=2&when=past'"
      ]
     },
     "metadata": {},
     "output_type": "display_data"
    },
    {
     "data": {
      "text/plain": [
       "'https://www.ted.com/tedx/events?autocomplete_filter=TEDxLPLDenhamSpringsWalker&page=1&when=past'"
      ]
     },
     "metadata": {},
     "output_type": "display_data"
    },
    {
     "data": {
      "text/plain": [
       "'https://www.ted.com/tedx/events?autocomplete_filter=TEDxYouth@RegentsSchool&page=1&when=past'"
      ]
     },
     "metadata": {},
     "output_type": "display_data"
    },
    {
     "data": {
      "text/plain": [
       "'https://www.ted.com/tedx/events?autocomplete_filter=TEDxUPR&page=1&when=past'"
      ]
     },
     "metadata": {},
     "output_type": "display_data"
    },
    {
     "data": {
      "text/plain": [
       "'https://www.ted.com/tedx/events?autocomplete_filter=TEDxLPLDenhamSpringsWalker&page=2&when=past'"
      ]
     },
     "metadata": {},
     "output_type": "display_data"
    },
    {
     "data": {
      "text/plain": [
       "'https://www.ted.com/tedx/events?autocomplete_filter=TEDxYouth@OTHS&page=1&when=past'"
      ]
     },
     "metadata": {},
     "output_type": "display_data"
    },
    {
     "data": {
      "text/plain": [
       "'https://www.ted.com/tedx/events?autocomplete_filter=TEDxUPR&page=2&when=past'"
      ]
     },
     "metadata": {},
     "output_type": "display_data"
    },
    {
     "data": {
      "text/plain": [
       "'https://www.ted.com/tedx/events?autocomplete_filter=TEDxYouth@RegentsSchool&page=2&when=past'"
      ]
     },
     "metadata": {},
     "output_type": "display_data"
    },
    {
     "data": {
      "text/plain": [
       "'https://www.ted.com/tedx/events?autocomplete_filter=TEDxRhodes&page=1&when=past'"
      ]
     },
     "metadata": {},
     "output_type": "display_data"
    },
    {
     "data": {
      "text/plain": [
       "'https://www.ted.com/tedx/events?autocomplete_filter=TEDxMogadishu&page=1&when=past'"
      ]
     },
     "metadata": {},
     "output_type": "display_data"
    },
    {
     "data": {
      "text/plain": [
       "'https://www.ted.com/tedx/events?autocomplete_filter=TEDxYouth@OTHS&page=2&when=past'"
      ]
     },
     "metadata": {},
     "output_type": "display_data"
    },
    {
     "data": {
      "text/plain": [
       "'https://www.ted.com/tedx/events?autocomplete_filter=TEDxAcademy&page=1&when=past'"
      ]
     },
     "metadata": {},
     "output_type": "display_data"
    },
    {
     "data": {
      "text/plain": [
       "'https://www.ted.com/tedx/events?autocomplete_filter=TEDxMogadishu&page=2&when=past'"
      ]
     },
     "metadata": {},
     "output_type": "display_data"
    },
    {
     "data": {
      "text/plain": [
       "'https://www.ted.com/tedx/events?autocomplete_filter=TEDxRhodes&page=2&when=past'"
      ]
     },
     "metadata": {},
     "output_type": "display_data"
    },
    {
     "data": {
      "text/plain": [
       "'https://www.ted.com/tedx/events?autocomplete_filter=TEDxAcademy&page=2&when=past'"
      ]
     },
     "metadata": {},
     "output_type": "display_data"
    },
    {
     "data": {
      "text/plain": [
       "'https://www.ted.com/tedx/events?autocomplete_filter=TEDxTransmedia&page=1&when=past'"
      ]
     },
     "metadata": {},
     "output_type": "display_data"
    },
    {
     "data": {
      "text/plain": [
       "'https://www.ted.com/tedx/events?autocomplete_filter=TEDxAmericanSchoolOfUlaanbaatar&page=1&when=past'"
      ]
     },
     "metadata": {},
     "output_type": "display_data"
    },
    {
     "data": {
      "text/plain": [
       "'https://www.ted.com/tedx/events?autocomplete_filter=TEDxAccra&page=1&when=past'"
      ]
     },
     "metadata": {},
     "output_type": "display_data"
    },
    {
     "data": {
      "text/plain": [
       "'https://www.ted.com/tedx/events?autocomplete_filter=TEDxTransmedia&page=2&when=past'"
      ]
     },
     "metadata": {},
     "output_type": "display_data"
    },
    {
     "data": {
      "text/plain": [
       "'https://www.ted.com/tedx/events?autocomplete_filter=TEDxAccra&page=2&when=past'"
      ]
     },
     "metadata": {},
     "output_type": "display_data"
    },
    {
     "data": {
      "text/plain": [
       "'https://www.ted.com/tedx/events?autocomplete_filter=TEDxAmericanSchoolOfUlaanbaatar&page=2&when=past'"
      ]
     },
     "metadata": {},
     "output_type": "display_data"
    },
    {
     "data": {
      "text/plain": [
       "'https://www.ted.com/tedx/events?autocomplete_filter=TEDxPlaceDesNations&page=1&when=past'"
      ]
     },
     "metadata": {},
     "output_type": "display_data"
    },
    {
     "data": {
      "text/plain": [
       "'https://www.ted.com/tedx/events?autocomplete_filter=TEDxKEA&page=1&when=past'"
      ]
     },
     "metadata": {},
     "output_type": "display_data"
    },
    {
     "data": {
      "text/plain": [
       "'https://www.ted.com/tedx/events?autocomplete_filter=TEDxBOGOTA&page=1&when=past'"
      ]
     },
     "metadata": {},
     "output_type": "display_data"
    },
    {
     "data": {
      "text/plain": [
       "'https://www.ted.com/tedx/events?autocomplete_filter=TEDxPlaceDesNations&page=2&when=past'"
      ]
     },
     "metadata": {},
     "output_type": "display_data"
    },
    {
     "data": {
      "text/plain": [
       "'https://www.ted.com/tedx/events?autocomplete_filter=TEDxBOGOTA&page=2&when=past'"
      ]
     },
     "metadata": {},
     "output_type": "display_data"
    },
    {
     "data": {
      "text/plain": [
       "'https://www.ted.com/tedx/events?autocomplete_filter=TEDxKEA&page=2&when=past'"
      ]
     },
     "metadata": {},
     "output_type": "display_data"
    },
    {
     "data": {
      "text/plain": [
       "'https://www.ted.com/tedx/events?autocomplete_filter=TEDxYouth@HKIS&page=1&when=past'"
      ]
     },
     "metadata": {},
     "output_type": "display_data"
    },
    {
     "data": {
      "text/plain": [
       "'https://www.ted.com/tedx/events?autocomplete_filter=TEDxEdges&page=1&when=past'"
      ]
     },
     "metadata": {},
     "output_type": "display_data"
    },
    {
     "data": {
      "text/plain": [
       "'https://www.ted.com/tedx/events?autocomplete_filter=TEDxYouth@HKIS&page=2&when=past'"
      ]
     },
     "metadata": {},
     "output_type": "display_data"
    },
    {
     "data": {
      "text/plain": [
       "'https://www.ted.com/tedx/events?autocomplete_filter=TEDxLavingtonWomen&page=1&when=past'"
      ]
     },
     "metadata": {},
     "output_type": "display_data"
    },
    {
     "data": {
      "text/plain": [
       "'https://www.ted.com/tedx/events?autocomplete_filter=TEDxYouth@ACJC&page=1&when=past'"
      ]
     },
     "metadata": {},
     "output_type": "display_data"
    },
    {
     "data": {
      "text/plain": [
       "'https://www.ted.com/tedx/events?autocomplete_filter=TEDxEdges&page=2&when=past'"
      ]
     },
     "metadata": {},
     "output_type": "display_data"
    },
    {
     "data": {
      "text/plain": [
       "'https://www.ted.com/tedx/events?autocomplete_filter=TEDxLavingtonWomen&page=2&when=past'"
      ]
     },
     "metadata": {},
     "output_type": "display_data"
    },
    {
     "data": {
      "text/plain": [
       "'https://www.ted.com/tedx/events?autocomplete_filter=TEDxStariGrad&page=1&when=past'"
      ]
     },
     "metadata": {},
     "output_type": "display_data"
    },
    {
     "data": {
      "text/plain": [
       "'https://www.ted.com/tedx/events?autocomplete_filter=TEDxYouth@ACJC&page=2&when=past'"
      ]
     },
     "metadata": {},
     "output_type": "display_data"
    },
    {
     "data": {
      "text/plain": [
       "'https://www.ted.com/tedx/events?autocomplete_filter=TEDxDHBWMannheim&page=1&when=past'"
      ]
     },
     "metadata": {},
     "output_type": "display_data"
    },
    {
     "data": {
      "text/plain": [
       "'https://www.ted.com/tedx/events?autocomplete_filter=TEDxNSSHillSpringIntlSchool&page=1&when=past'"
      ]
     },
     "metadata": {},
     "output_type": "display_data"
    },
    {
     "data": {
      "text/plain": [
       "'https://www.ted.com/tedx/events?autocomplete_filter=TEDxStariGrad&page=2&when=past'"
      ]
     },
     "metadata": {},
     "output_type": "display_data"
    },
    {
     "data": {
      "text/plain": [
       "'https://www.ted.com/tedx/events?autocomplete_filter=TEDxDHBWMannheim&page=2&when=past'"
      ]
     },
     "metadata": {},
     "output_type": "display_data"
    },
    {
     "data": {
      "text/plain": [
       "'https://www.ted.com/tedx/events?autocomplete_filter=TEDxYouth@LAS&page=1&when=past'"
      ]
     },
     "metadata": {},
     "output_type": "display_data"
    },
    {
     "data": {
      "text/plain": [
       "'https://www.ted.com/tedx/events?autocomplete_filter=TEDxNSSHillSpringIntlSchool&page=2&when=past'"
      ]
     },
     "metadata": {},
     "output_type": "display_data"
    },
    {
     "data": {
      "text/plain": [
       "'https://www.ted.com/tedx/events?autocomplete_filter=TEDxCascais&page=1&when=past'"
      ]
     },
     "metadata": {},
     "output_type": "display_data"
    },
    {
     "data": {
      "text/plain": [
       "'https://www.ted.com/tedx/events?autocomplete_filter=TEDxYouth@LAS&page=2&when=past'"
      ]
     },
     "metadata": {},
     "output_type": "display_data"
    },
    {
     "data": {
      "text/plain": [
       "'https://www.ted.com/tedx/events?autocomplete_filter=TEDxVALENCIA&page=1&when=past'"
      ]
     },
     "metadata": {},
     "output_type": "display_data"
    },
    {
     "data": {
      "text/plain": [
       "'https://www.ted.com/tedx/events?autocomplete_filter=TEDxCascais&page=2&when=past'"
      ]
     },
     "metadata": {},
     "output_type": "display_data"
    },
    {
     "data": {
      "text/plain": [
       "'https://www.ted.com/tedx/events?autocomplete_filter=TEDxPortobello&page=1&when=past'"
      ]
     },
     "metadata": {},
     "output_type": "display_data"
    },
    {
     "data": {
      "text/plain": [
       "'https://www.ted.com/tedx/events?autocomplete_filter=TEDxVALENCIA&page=2&when=past'"
      ]
     },
     "metadata": {},
     "output_type": "display_data"
    },
    {
     "data": {
      "text/plain": [
       "'https://www.ted.com/tedx/events?autocomplete_filter=TEDxSF&page=1&when=past'"
      ]
     },
     "metadata": {},
     "output_type": "display_data"
    },
    {
     "data": {
      "text/plain": [
       "'https://www.ted.com/tedx/events?autocomplete_filter=TEDxPortobello&page=2&when=past'"
      ]
     },
     "metadata": {},
     "output_type": "display_data"
    },
    {
     "data": {
      "text/plain": [
       "'https://www.ted.com/tedx/events?autocomplete_filter=TEDxUBIWiltz&page=1&when=past'"
      ]
     },
     "metadata": {},
     "output_type": "display_data"
    },
    {
     "data": {
      "text/plain": [
       "'https://www.ted.com/tedx/events?autocomplete_filter=TEDxUlaanbaatarWomen&page=1&when=past'"
      ]
     },
     "metadata": {},
     "output_type": "display_data"
    },
    {
     "data": {
      "text/plain": [
       "'https://www.ted.com/tedx/events?autocomplete_filter=TEDxSF&page=2&when=past'"
      ]
     },
     "metadata": {},
     "output_type": "display_data"
    },
    {
     "data": {
      "text/plain": [
       "'https://www.ted.com/tedx/events?autocomplete_filter=TEDxUBIWiltz&page=2&when=past'"
      ]
     },
     "metadata": {},
     "output_type": "display_data"
    },
    {
     "data": {
      "text/plain": [
       "'https://www.ted.com/tedx/events?autocomplete_filter=TEDxCoventGardenWomen&page=1&when=past'"
      ]
     },
     "metadata": {},
     "output_type": "display_data"
    },
    {
     "data": {
      "text/plain": [
       "'https://www.ted.com/tedx/events?autocomplete_filter=TEDxUlaanbaatarWomen&page=2&when=past'"
      ]
     },
     "metadata": {},
     "output_type": "display_data"
    },
    {
     "data": {
      "text/plain": [
       "'https://www.ted.com/tedx/events?autocomplete_filter=TEDxZemun&page=1&when=past'"
      ]
     },
     "metadata": {},
     "output_type": "display_data"
    },
    {
     "data": {
      "text/plain": [
       "'https://www.ted.com/tedx/events?autocomplete_filter=TEDxCoventGardenWomen&page=2&when=past'"
      ]
     },
     "metadata": {},
     "output_type": "display_data"
    },
    {
     "data": {
      "text/plain": [
       "'https://www.ted.com/tedx/events?autocomplete_filter=TEDxCarletonCollege&page=1&when=past'"
      ]
     },
     "metadata": {},
     "output_type": "display_data"
    },
    {
     "data": {
      "text/plain": [
       "'https://www.ted.com/tedx/events?autocomplete_filter=TEDxYouth@Omaha&page=1&when=past'"
      ]
     },
     "metadata": {},
     "output_type": "display_data"
    },
    {
     "data": {
      "text/plain": [
       "'https://www.ted.com/tedx/events?autocomplete_filter=TEDxZemun&page=2&when=past'"
      ]
     },
     "metadata": {},
     "output_type": "display_data"
    },
    {
     "data": {
      "text/plain": [
       "'https://www.ted.com/tedx/events?autocomplete_filter=TEDxCarletonCollege&page=2&when=past'"
      ]
     },
     "metadata": {},
     "output_type": "display_data"
    },
    {
     "data": {
      "text/plain": [
       "'https://www.ted.com/tedx/events?autocomplete_filter=TEDxThunderBay&page=1&when=past'"
      ]
     },
     "metadata": {},
     "output_type": "display_data"
    },
    {
     "data": {
      "text/plain": [
       "'https://www.ted.com/tedx/events?autocomplete_filter=TEDxYouth@Omaha&page=2&when=past'"
      ]
     },
     "metadata": {},
     "output_type": "display_data"
    },
    {
     "data": {
      "text/plain": [
       "'https://www.ted.com/tedx/events?autocomplete_filter=TEDxOrangeCoast&page=1&when=past'"
      ]
     },
     "metadata": {},
     "output_type": "display_data"
    },
    {
     "data": {
      "text/plain": [
       "'https://www.ted.com/tedx/events?autocomplete_filter=TEDxThunderBay&page=2&when=past'"
      ]
     },
     "metadata": {},
     "output_type": "display_data"
    },
    {
     "data": {
      "text/plain": [
       "'https://www.ted.com/tedx/events?autocomplete_filter=TEDxCollegeHill&page=1&when=past'"
      ]
     },
     "metadata": {},
     "output_type": "display_data"
    },
    {
     "data": {
      "text/plain": [
       "'https://www.ted.com/tedx/events?autocomplete_filter=TEDxOrangeCoast&page=2&when=past'"
      ]
     },
     "metadata": {},
     "output_type": "display_data"
    },
    {
     "data": {
      "text/plain": [
       "'https://www.ted.com/tedx/events?autocomplete_filter=TEDxYouth@Wilmington&page=1&when=past'"
      ]
     },
     "metadata": {},
     "output_type": "display_data"
    },
    {
     "data": {
      "text/plain": [
       "'https://www.ted.com/tedx/events?autocomplete_filter=TEDxCollegeHill&page=2&when=past'"
      ]
     },
     "metadata": {},
     "output_type": "display_data"
    },
    {
     "data": {
      "text/plain": [
       "'https://www.ted.com/tedx/events?autocomplete_filter=TEDxJanpath&page=1&when=past'"
      ]
     },
     "metadata": {},
     "output_type": "display_data"
    },
    {
     "data": {
      "text/plain": [
       "'https://www.ted.com/tedx/events?autocomplete_filter=TEDxYouth@Wilmington&page=2&when=past'"
      ]
     },
     "metadata": {},
     "output_type": "display_data"
    },
    {
     "data": {
      "text/plain": [
       "'https://www.ted.com/tedx/events?autocomplete_filter=TEDxRuppin&page=1&when=past'"
      ]
     },
     "metadata": {},
     "output_type": "display_data"
    },
    {
     "data": {
      "text/plain": [
       "'https://www.ted.com/tedx/events?autocomplete_filter=TEDxJanpath&page=2&when=past'"
      ]
     },
     "metadata": {},
     "output_type": "display_data"
    },
    {
     "data": {
      "text/plain": [
       "'https://www.ted.com/tedx/events?autocomplete_filter=TEDxConcordia&page=1&when=past'"
      ]
     },
     "metadata": {},
     "output_type": "display_data"
    },
    {
     "data": {
      "text/plain": [
       "'https://www.ted.com/tedx/events?autocomplete_filter=TEDxRuppin&page=2&when=past'"
      ]
     },
     "metadata": {},
     "output_type": "display_data"
    },
    {
     "data": {
      "text/plain": [
       "'https://www.ted.com/tedx/events?autocomplete_filter=TEDxRVAWomen&page=1&when=past'"
      ]
     },
     "metadata": {},
     "output_type": "display_data"
    },
    {
     "data": {
      "text/plain": [
       "'https://www.ted.com/tedx/events?autocomplete_filter=TEDxConcordia&page=2&when=past'"
      ]
     },
     "metadata": {},
     "output_type": "display_data"
    },
    {
     "data": {
      "text/plain": [
       "'https://www.ted.com/tedx/events?autocomplete_filter=TEDxPasseigDesBorn&page=1&when=past'"
      ]
     },
     "metadata": {},
     "output_type": "display_data"
    },
    {
     "data": {
      "text/plain": [
       "'https://www.ted.com/tedx/events?autocomplete_filter=TEDxRVAWomen&page=2&when=past'"
      ]
     },
     "metadata": {},
     "output_type": "display_data"
    },
    {
     "data": {
      "text/plain": [
       "'https://www.ted.com/tedx/events?autocomplete_filter=TEDxGrenoble&page=1&when=past'"
      ]
     },
     "metadata": {},
     "output_type": "display_data"
    },
    {
     "data": {
      "text/plain": [
       "'https://www.ted.com/tedx/events?autocomplete_filter=TEDxPasseigDesBorn&page=2&when=past'"
      ]
     },
     "metadata": {},
     "output_type": "display_data"
    },
    {
     "data": {
      "text/plain": [
       "'https://www.ted.com/tedx/events?autocomplete_filter=TEDxIMUVisakhapatnam&page=1&when=past'"
      ]
     },
     "metadata": {},
     "output_type": "display_data"
    },
    {
     "data": {
      "text/plain": [
       "'https://www.ted.com/tedx/events?autocomplete_filter=TEDxGrenoble&page=2&when=past'"
      ]
     },
     "metadata": {},
     "output_type": "display_data"
    },
    {
     "data": {
      "text/plain": [
       "'https://www.ted.com/tedx/events?autocomplete_filter=TEDxYouth@Scranton&page=1&when=past'"
      ]
     },
     "metadata": {},
     "output_type": "display_data"
    },
    {
     "data": {
      "text/plain": [
       "'https://www.ted.com/tedx/events?autocomplete_filter=TEDxIMUVisakhapatnam&page=2&when=past'"
      ]
     },
     "metadata": {},
     "output_type": "display_data"
    },
    {
     "data": {
      "text/plain": [
       "'https://www.ted.com/tedx/events?autocomplete_filter=TEDxIronwoodStatePrison&page=1&when=past'"
      ]
     },
     "metadata": {},
     "output_type": "display_data"
    },
    {
     "data": {
      "text/plain": [
       "'https://www.ted.com/tedx/events?autocomplete_filter=TEDxYouth@Scranton&page=2&when=past'"
      ]
     },
     "metadata": {},
     "output_type": "display_data"
    },
    {
     "data": {
      "text/plain": [
       "'https://www.ted.com/tedx/events?autocomplete_filter=TEDxIronwoodStatePrison&page=2&when=past'"
      ]
     },
     "metadata": {},
     "output_type": "display_data"
    },
    {
     "data": {
      "text/plain": [
       "'https://www.ted.com/tedx/events?autocomplete_filter=TEDxWichitaStateUniversity&page=1&when=past'"
      ]
     },
     "metadata": {},
     "output_type": "display_data"
    },
    {
     "data": {
      "text/plain": [
       "'https://www.ted.com/tedx/events?autocomplete_filter=TEDxWichitaStateUniversity&page=2&when=past'"
      ]
     },
     "metadata": {},
     "output_type": "display_data"
    },
    {
     "data": {
      "text/plain": [
       "'https://www.ted.com/tedx/events?autocomplete_filter=TEDxICT&page=1&when=past'"
      ]
     },
     "metadata": {},
     "output_type": "display_data"
    },
    {
     "data": {
      "text/plain": [
       "'https://www.ted.com/tedx/events?autocomplete_filter=TEDxUCD&page=1&when=past'"
      ]
     },
     "metadata": {},
     "output_type": "display_data"
    },
    {
     "data": {
      "text/plain": [
       "'https://www.ted.com/tedx/events?autocomplete_filter=TEDxEAL&page=1&when=past'"
      ]
     },
     "metadata": {},
     "output_type": "display_data"
    },
    {
     "data": {
      "text/plain": [
       "'https://www.ted.com/tedx/events?autocomplete_filter=TEDxICT&page=2&when=past'"
      ]
     },
     "metadata": {},
     "output_type": "display_data"
    },
    {
     "data": {
      "text/plain": [
       "'https://www.ted.com/tedx/events?autocomplete_filter=TEDxUCD&page=2&when=past'"
      ]
     },
     "metadata": {},
     "output_type": "display_data"
    },
    {
     "data": {
      "text/plain": [
       "'https://www.ted.com/tedx/events?autocomplete_filter=TEDxVaugirardRoad&page=1&when=past'"
      ]
     },
     "metadata": {},
     "output_type": "display_data"
    },
    {
     "data": {
      "text/plain": [
       "'https://www.ted.com/tedx/events?autocomplete_filter=TEDxGijón&page=1&when=past'"
      ]
     },
     "metadata": {},
     "output_type": "display_data"
    },
    {
     "data": {
      "text/plain": [
       "'https://www.ted.com/tedx/events?autocomplete_filter=TEDxEAL&page=2&when=past'"
      ]
     },
     "metadata": {},
     "output_type": "display_data"
    },
    {
     "data": {
      "text/plain": [
       "'https://www.ted.com/tedx/events?autocomplete_filter=TEDxVaugirardRoad&page=2&when=past'"
      ]
     },
     "metadata": {},
     "output_type": "display_data"
    },
    {
     "data": {
      "text/plain": [
       "'https://www.ted.com/tedx/events?autocomplete_filter=TEDxWeberStateUniversity&page=1&when=past'"
      ]
     },
     "metadata": {},
     "output_type": "display_data"
    },
    {
     "data": {
      "text/plain": [
       "'https://www.ted.com/tedx/events?autocomplete_filter=TEDxGijón&page=2&when=past'"
      ]
     },
     "metadata": {},
     "output_type": "display_data"
    },
    {
     "data": {
      "text/plain": [
       "'https://www.ted.com/tedx/events?autocomplete_filter=TEDXPuraVida&page=1&when=past'"
      ]
     },
     "metadata": {},
     "output_type": "display_data"
    },
    {
     "data": {
      "text/plain": [
       "'https://www.ted.com/tedx/events?autocomplete_filter=TEDxWeberStateUniversity&page=2&when=past'"
      ]
     },
     "metadata": {},
     "output_type": "display_data"
    },
    {
     "data": {
      "text/plain": [
       "'https://www.ted.com/tedx/events?autocomplete_filter=TEDxGowanus&page=1&when=past'"
      ]
     },
     "metadata": {},
     "output_type": "display_data"
    },
    {
     "data": {
      "text/plain": [
       "'https://www.ted.com/tedx/events?autocomplete_filter=TEDxJIIT&page=1&when=past'"
      ]
     },
     "metadata": {},
     "output_type": "display_data"
    },
    {
     "data": {
      "text/plain": [
       "'https://www.ted.com/tedx/events?autocomplete_filter=TEDxGowanus&page=2&when=past'"
      ]
     },
     "metadata": {},
     "output_type": "display_data"
    },
    {
     "data": {
      "text/plain": [
       "'https://www.ted.com/tedx/events?autocomplete_filter=TEDXPuraVida&page=2&when=past'"
      ]
     },
     "metadata": {},
     "output_type": "display_data"
    },
    {
     "data": {
      "text/plain": [
       "'https://www.ted.com/tedx/events?autocomplete_filter=TEDxJIIT&page=2&when=past'"
      ]
     },
     "metadata": {},
     "output_type": "display_data"
    },
    {
     "data": {
      "text/plain": [
       "'https://www.ted.com/tedx/events?autocomplete_filter=TEDxHendrixCollege&page=1&when=past'"
      ]
     },
     "metadata": {},
     "output_type": "display_data"
    },
    {
     "data": {
      "text/plain": [
       "'https://www.ted.com/tedx/events?autocomplete_filter=TEDxJaffa&page=1&when=past'"
      ]
     },
     "metadata": {},
     "output_type": "display_data"
    },
    {
     "data": {
      "text/plain": [
       "'https://www.ted.com/tedx/events?autocomplete_filter=TEDxKingstonUponThamesSalon&page=1&when=past'"
      ]
     },
     "metadata": {},
     "output_type": "display_data"
    },
    {
     "data": {
      "text/plain": [
       "'https://www.ted.com/tedx/events?autocomplete_filter=TEDxJaffa&page=2&when=past'"
      ]
     },
     "metadata": {},
     "output_type": "display_data"
    },
    {
     "data": {
      "text/plain": [
       "'https://www.ted.com/tedx/events?autocomplete_filter=TEDxHendrixCollege&page=2&when=past'"
      ]
     },
     "metadata": {},
     "output_type": "display_data"
    },
    {
     "data": {
      "text/plain": [
       "'https://www.ted.com/tedx/events?autocomplete_filter=TEDxBGI&page=1&when=past'"
      ]
     },
     "metadata": {},
     "output_type": "display_data"
    },
    {
     "data": {
      "text/plain": [
       "'https://www.ted.com/tedx/events?autocomplete_filter=TEDxNicosiaWomen&page=1&when=past'"
      ]
     },
     "metadata": {},
     "output_type": "display_data"
    },
    {
     "data": {
      "text/plain": [
       "'https://www.ted.com/tedx/events?autocomplete_filter=TEDxKingstonUponThamesSalon&page=2&when=past'"
      ]
     },
     "metadata": {},
     "output_type": "display_data"
    },
    {
     "data": {
      "text/plain": [
       "'https://www.ted.com/tedx/events?autocomplete_filter=TEDxNicosiaWomen&page=2&when=past'"
      ]
     },
     "metadata": {},
     "output_type": "display_data"
    },
    {
     "data": {
      "text/plain": [
       "'https://www.ted.com/tedx/events?autocomplete_filter=TEDxBGI&page=2&when=past'"
      ]
     },
     "metadata": {},
     "output_type": "display_data"
    },
    {
     "data": {
      "text/plain": [
       "'https://www.ted.com/tedx/events?autocomplete_filter=TEDxBayArea&page=1&when=past'"
      ]
     },
     "metadata": {},
     "output_type": "display_data"
    },
    {
     "data": {
      "text/plain": [
       "'https://www.ted.com/tedx/events?autocomplete_filter=TEDxCalArts&page=1&when=past'"
      ]
     },
     "metadata": {},
     "output_type": "display_data"
    },
    {
     "data": {
      "text/plain": [
       "'https://www.ted.com/tedx/events?autocomplete_filter=TEDxMontereyWomen&page=1&when=past'"
      ]
     },
     "metadata": {},
     "output_type": "display_data"
    },
    {
     "data": {
      "text/plain": [
       "'https://www.ted.com/tedx/events?autocomplete_filter=TEDxBayArea&page=2&when=past'"
      ]
     },
     "metadata": {},
     "output_type": "display_data"
    },
    {
     "data": {
      "text/plain": [
       "'https://www.ted.com/tedx/events?autocomplete_filter=TEDxCalArts&page=2&when=past'"
      ]
     },
     "metadata": {},
     "output_type": "display_data"
    },
    {
     "data": {
      "text/plain": [
       "'https://www.ted.com/tedx/events?autocomplete_filter=TEDxMontereyWomen&page=2&when=past'"
      ]
     },
     "metadata": {},
     "output_type": "display_data"
    },
    {
     "data": {
      "text/plain": [
       "'https://www.ted.com/tedx/events?autocomplete_filter=TEDxTegucigalpa&page=1&when=past'"
      ]
     },
     "metadata": {},
     "output_type": "display_data"
    },
    {
     "data": {
      "text/plain": [
       "'https://www.ted.com/tedx/events?autocomplete_filter=TEDxRiversideAvondale&page=1&when=past'"
      ]
     },
     "metadata": {},
     "output_type": "display_data"
    },
    {
     "data": {
      "text/plain": [
       "'https://www.ted.com/tedx/events?autocomplete_filter=TEDxTrieste&page=1&when=past'"
      ]
     },
     "metadata": {},
     "output_type": "display_data"
    },
    {
     "data": {
      "text/plain": [
       "'https://www.ted.com/tedx/events?autocomplete_filter=TEDxTegucigalpa&page=2&when=past'"
      ]
     },
     "metadata": {},
     "output_type": "display_data"
    },
    {
     "data": {
      "text/plain": [
       "'https://www.ted.com/tedx/events?autocomplete_filter=TEDxRiversideAvondale&page=2&when=past'"
      ]
     },
     "metadata": {},
     "output_type": "display_data"
    },
    {
     "data": {
      "text/plain": [
       "'https://www.ted.com/tedx/events?autocomplete_filter=TEDxTrieste&page=2&when=past'"
      ]
     },
     "metadata": {},
     "output_type": "display_data"
    },
    {
     "data": {
      "text/plain": [
       "\"https://www.ted.com/tedx/events?autocomplete_filter=TEDxO'Porto&page=1&when=past\""
      ]
     },
     "metadata": {},
     "output_type": "display_data"
    },
    {
     "data": {
      "text/plain": [
       "'https://www.ted.com/tedx/events?autocomplete_filter=TEDxAAS&page=1&when=past'"
      ]
     },
     "metadata": {},
     "output_type": "display_data"
    },
    {
     "data": {
      "text/plain": [
       "'https://www.ted.com/tedx/events?autocomplete_filter=TEDxKnoxville&page=1&when=past'"
      ]
     },
     "metadata": {},
     "output_type": "display_data"
    },
    {
     "data": {
      "text/plain": [
       "\"https://www.ted.com/tedx/events?autocomplete_filter=TEDxO'Porto&page=2&when=past\""
      ]
     },
     "metadata": {},
     "output_type": "display_data"
    },
    {
     "data": {
      "text/plain": [
       "'https://www.ted.com/tedx/events?autocomplete_filter=TEDxKnoxville&page=2&when=past'"
      ]
     },
     "metadata": {},
     "output_type": "display_data"
    },
    {
     "data": {
      "text/plain": [
       "'https://www.ted.com/tedx/events?autocomplete_filter=TEDxAAS&page=2&when=past'"
      ]
     },
     "metadata": {},
     "output_type": "display_data"
    },
    {
     "data": {
      "text/plain": [
       "'https://www.ted.com/tedx/events?autocomplete_filter=TEDxSanJoseCA&page=1&when=past'"
      ]
     },
     "metadata": {},
     "output_type": "display_data"
    },
    {
     "data": {
      "text/plain": [
       "'https://www.ted.com/tedx/events?autocomplete_filter=TEDxVictoria&page=1&when=past'"
      ]
     },
     "metadata": {},
     "output_type": "display_data"
    },
    {
     "data": {
      "text/plain": [
       "'https://www.ted.com/tedx/events?autocomplete_filter=TEDxMehrauli&page=1&when=past'"
      ]
     },
     "metadata": {},
     "output_type": "display_data"
    },
    {
     "data": {
      "text/plain": [
       "'https://www.ted.com/tedx/events?autocomplete_filter=TEDxSanJoseCA&page=2&when=past'"
      ]
     },
     "metadata": {},
     "output_type": "display_data"
    },
    {
     "data": {
      "text/plain": [
       "'https://www.ted.com/tedx/events?autocomplete_filter=TEDxMehrauli&page=2&when=past'"
      ]
     },
     "metadata": {},
     "output_type": "display_data"
    },
    {
     "data": {
      "text/plain": [
       "'https://www.ted.com/tedx/events?autocomplete_filter=TEDxSalveReginaU&page=1&when=past'"
      ]
     },
     "metadata": {},
     "output_type": "display_data"
    },
    {
     "data": {
      "text/plain": [
       "'https://www.ted.com/tedx/events?autocomplete_filter=TEDxVictoria&page=2&when=past'"
      ]
     },
     "metadata": {},
     "output_type": "display_data"
    },
    {
     "data": {
      "text/plain": [
       "'https://www.ted.com/tedx/events?autocomplete_filter=TEDxTableMountain&page=1&when=past'"
      ]
     },
     "metadata": {},
     "output_type": "display_data"
    },
    {
     "data": {
      "text/plain": [
       "'https://www.ted.com/tedx/events?autocomplete_filter=TEDxTorVergataUniversity&page=1&when=past'"
      ]
     },
     "metadata": {},
     "output_type": "display_data"
    },
    {
     "data": {
      "text/plain": [
       "'https://www.ted.com/tedx/events?autocomplete_filter=TEDxTableMountain&page=2&when=past'"
      ]
     },
     "metadata": {},
     "output_type": "display_data"
    },
    {
     "data": {
      "text/plain": [
       "'https://www.ted.com/tedx/events?autocomplete_filter=TEDxSalveReginaU&page=2&when=past'"
      ]
     },
     "metadata": {},
     "output_type": "display_data"
    },
    {
     "data": {
      "text/plain": [
       "'https://www.ted.com/tedx/events?autocomplete_filter=TEDxTorVergataUniversity&page=2&when=past'"
      ]
     },
     "metadata": {},
     "output_type": "display_data"
    },
    {
     "data": {
      "text/plain": [
       "'https://www.ted.com/tedx/events?autocomplete_filter=TEDxConnecticutColleg&page=1&when=past'"
      ]
     },
     "metadata": {},
     "output_type": "display_data"
    },
    {
     "data": {
      "text/plain": [
       "'https://www.ted.com/tedx/events?autocomplete_filter=TEDxYouth@Jahez&page=1&when=past'"
      ]
     },
     "metadata": {},
     "output_type": "display_data"
    },
    {
     "data": {
      "text/plain": [
       "'https://www.ted.com/tedx/events?autocomplete_filter=TEDxTallinn&page=1&when=past'"
      ]
     },
     "metadata": {},
     "output_type": "display_data"
    },
    {
     "data": {
      "text/plain": [
       "'https://www.ted.com/tedx/events?autocomplete_filter=TEDxYouth@Jahez&page=2&when=past'"
      ]
     },
     "metadata": {},
     "output_type": "display_data"
    },
    {
     "data": {
      "text/plain": [
       "'https://www.ted.com/tedx/events?autocomplete_filter=TEDxConnecticutColleg&page=2&when=past'"
      ]
     },
     "metadata": {},
     "output_type": "display_data"
    },
    {
     "data": {
      "text/plain": [
       "'https://www.ted.com/tedx/events?autocomplete_filter=TEDxTallinn&page=2&when=past'"
      ]
     },
     "metadata": {},
     "output_type": "display_data"
    },
    {
     "data": {
      "text/plain": [
       "'https://www.ted.com/tedx/events?autocomplete_filter=TEDxYouth@Tallinn&page=1&when=past'"
      ]
     },
     "metadata": {},
     "output_type": "display_data"
    },
    {
     "data": {
      "text/plain": [
       "'https://www.ted.com/tedx/events?autocomplete_filter=TEDxLiege&page=1&when=past'"
      ]
     },
     "metadata": {},
     "output_type": "display_data"
    },
    {
     "data": {
      "text/plain": [
       "'https://www.ted.com/tedx/events?autocomplete_filter=TEDxYouth@Tallinn&page=2&when=past'"
      ]
     },
     "metadata": {},
     "output_type": "display_data"
    },
    {
     "data": {
      "text/plain": [
       "'https://www.ted.com/tedx/events?autocomplete_filter=TEDxIIMC&page=1&when=past'"
      ]
     },
     "metadata": {},
     "output_type": "display_data"
    },
    {
     "data": {
      "text/plain": [
       "'https://www.ted.com/tedx/events?autocomplete_filter=TEDxLiege&page=2&when=past'"
      ]
     },
     "metadata": {},
     "output_type": "display_data"
    },
    {
     "data": {
      "text/plain": [
       "'https://www.ted.com/tedx/events?autocomplete_filter=TEDxMalibu&page=1&when=past'"
      ]
     },
     "metadata": {},
     "output_type": "display_data"
    },
    {
     "data": {
      "text/plain": [
       "'https://www.ted.com/tedx/events?autocomplete_filter=TEDxIIMC&page=2&when=past'"
      ]
     },
     "metadata": {},
     "output_type": "display_data"
    },
    {
     "data": {
      "text/plain": [
       "'https://www.ted.com/tedx/events?autocomplete_filter=TEDxMalibu&page=2&when=past'"
      ]
     },
     "metadata": {},
     "output_type": "display_data"
    },
    {
     "data": {
      "text/plain": [
       "'https://www.ted.com/tedx/events?autocomplete_filter=TEDxComoxValley&page=1&when=past'"
      ]
     },
     "metadata": {},
     "output_type": "display_data"
    },
    {
     "data": {
      "text/plain": [
       "'https://www.ted.com/tedx/events?autocomplete_filter=TEDxTelfairStreet&page=1&when=past'"
      ]
     },
     "metadata": {},
     "output_type": "display_data"
    },
    {
     "data": {
      "text/plain": [
       "'https://www.ted.com/tedx/events?autocomplete_filter=TEDxComoxValley&page=2&when=past'"
      ]
     },
     "metadata": {},
     "output_type": "display_data"
    },
    {
     "data": {
      "text/plain": [
       "'https://www.ted.com/tedx/events?autocomplete_filter=TEDxShanghaiWomen&page=1&when=past'"
      ]
     },
     "metadata": {},
     "output_type": "display_data"
    },
    {
     "data": {
      "text/plain": [
       "'https://www.ted.com/tedx/events?autocomplete_filter=TEDxTelfairStreet&page=2&when=past'"
      ]
     },
     "metadata": {},
     "output_type": "display_data"
    },
    {
     "data": {
      "text/plain": [
       "'https://www.ted.com/tedx/events?autocomplete_filter=TEDxOtaniemi&page=1&when=past'"
      ]
     },
     "metadata": {},
     "output_type": "display_data"
    },
    {
     "data": {
      "text/plain": [
       "'https://www.ted.com/tedx/events?autocomplete_filter=TEDxShanghaiWomen&page=2&when=past'"
      ]
     },
     "metadata": {},
     "output_type": "display_data"
    },
    {
     "data": {
      "text/plain": [
       "'https://www.ted.com/tedx/events?autocomplete_filter=TEDxPuntaPaitilla&page=1&when=past'"
      ]
     },
     "metadata": {},
     "output_type": "display_data"
    },
    {
     "data": {
      "text/plain": [
       "'https://www.ted.com/tedx/events?autocomplete_filter=TEDxOtaniemi&page=2&when=past'"
      ]
     },
     "metadata": {},
     "output_type": "display_data"
    },
    {
     "data": {
      "text/plain": [
       "'https://www.ted.com/tedx/events?autocomplete_filter=TEDxNovaLima&page=1&when=past'"
      ]
     },
     "metadata": {},
     "output_type": "display_data"
    },
    {
     "data": {
      "text/plain": [
       "'https://www.ted.com/tedx/events?autocomplete_filter=TedxVienna&page=1&when=past'"
      ]
     },
     "metadata": {},
     "output_type": "display_data"
    },
    {
     "data": {
      "text/plain": [
       "'https://www.ted.com/tedx/events?autocomplete_filter=TEDxPuntaPaitilla&page=2&when=past'"
      ]
     },
     "metadata": {},
     "output_type": "display_data"
    },
    {
     "data": {
      "text/plain": [
       "'https://www.ted.com/tedx/events?autocomplete_filter=TEDxNovaLima&page=2&when=past'"
      ]
     },
     "metadata": {},
     "output_type": "display_data"
    },
    {
     "data": {
      "text/plain": [
       "'https://www.ted.com/tedx/events?autocomplete_filter=TEDxStudioCityED&page=1&when=past'"
      ]
     },
     "metadata": {},
     "output_type": "display_data"
    },
    {
     "data": {
      "text/plain": [
       "'https://www.ted.com/tedx/events?autocomplete_filter=TedxVienna&page=2&when=past'"
      ]
     },
     "metadata": {},
     "output_type": "display_data"
    },
    {
     "data": {
      "text/plain": [
       "'https://www.ted.com/tedx/events?autocomplete_filter=TEDxUnisinosSalon&page=1&when=past'"
      ]
     },
     "metadata": {},
     "output_type": "display_data"
    },
    {
     "data": {
      "text/plain": [
       "'https://www.ted.com/tedx/events?autocomplete_filter=TEDxStudioCityED&page=2&when=past'"
      ]
     },
     "metadata": {},
     "output_type": "display_data"
    },
    {
     "data": {
      "text/plain": [
       "'https://www.ted.com/tedx/events?autocomplete_filter=TEDxNitteUniversity&page=1&when=past'"
      ]
     },
     "metadata": {},
     "output_type": "display_data"
    },
    {
     "data": {
      "text/plain": [
       "'https://www.ted.com/tedx/events?autocomplete_filter=TEDxUnisinosSalon&page=2&when=past'"
      ]
     },
     "metadata": {},
     "output_type": "display_data"
    },
    {
     "data": {
      "text/plain": [
       "'https://www.ted.com/tedx/events?autocomplete_filter=TEDxCastellón&page=1&when=past'"
      ]
     },
     "metadata": {},
     "output_type": "display_data"
    },
    {
     "data": {
      "text/plain": [
       "'https://www.ted.com/tedx/events?autocomplete_filter=TEDxNitteUniversity&page=2&when=past'"
      ]
     },
     "metadata": {},
     "output_type": "display_data"
    },
    {
     "data": {
      "text/plain": [
       "'https://www.ted.com/tedx/events?autocomplete_filter=TEDxStPeterPort&page=1&when=past'"
      ]
     },
     "metadata": {},
     "output_type": "display_data"
    },
    {
     "data": {
      "text/plain": [
       "'https://www.ted.com/tedx/events?autocomplete_filter=TEDxCastellón&page=2&when=past'"
      ]
     },
     "metadata": {},
     "output_type": "display_data"
    },
    {
     "data": {
      "text/plain": [
       "'https://www.ted.com/tedx/events?autocomplete_filter=TEDxAlsaceSalon&page=1&when=past'"
      ]
     },
     "metadata": {},
     "output_type": "display_data"
    },
    {
     "data": {
      "text/plain": [
       "'https://www.ted.com/tedx/events?autocomplete_filter=TEDxStPeterPort&page=2&when=past'"
      ]
     },
     "metadata": {},
     "output_type": "display_data"
    },
    {
     "data": {
      "text/plain": [
       "'https://www.ted.com/tedx/events?autocomplete_filter=TEDxHKUST&page=1&when=past'"
      ]
     },
     "metadata": {},
     "output_type": "display_data"
    },
    {
     "data": {
      "text/plain": [
       "'https://www.ted.com/tedx/events?autocomplete_filter=TEDxOxBridge&page=1&when=past'"
      ]
     },
     "metadata": {},
     "output_type": "display_data"
    },
    {
     "data": {
      "text/plain": [
       "'https://www.ted.com/tedx/events?autocomplete_filter=TEDxAlsaceSalon&page=2&when=past'"
      ]
     },
     "metadata": {},
     "output_type": "display_data"
    },
    {
     "data": {
      "text/plain": [
       "'https://www.ted.com/tedx/events?autocomplete_filter=TEDxHKUST&page=2&when=past'"
      ]
     },
     "metadata": {},
     "output_type": "display_data"
    },
    {
     "data": {
      "text/plain": [
       "'https://www.ted.com/tedx/events?autocomplete_filter=TEDxSussexUniversity&page=1&when=past'"
      ]
     },
     "metadata": {},
     "output_type": "display_data"
    },
    {
     "data": {
      "text/plain": [
       "'https://www.ted.com/tedx/events?autocomplete_filter=TEDxYouth@DoonSchool&page=1&when=past'"
      ]
     },
     "metadata": {},
     "output_type": "display_data"
    },
    {
     "data": {
      "text/plain": [
       "'https://www.ted.com/tedx/events?autocomplete_filter=TEDxOxBridge&page=2&when=past'"
      ]
     },
     "metadata": {},
     "output_type": "display_data"
    },
    {
     "data": {
      "text/plain": [
       "'https://www.ted.com/tedx/events?autocomplete_filter=TEDxYouth@DoonSchool&page=2&when=past'"
      ]
     },
     "metadata": {},
     "output_type": "display_data"
    },
    {
     "data": {
      "text/plain": [
       "'https://www.ted.com/tedx/events?autocomplete_filter=TEDxUManitoba&page=1&when=past'"
      ]
     },
     "metadata": {},
     "output_type": "display_data"
    },
    {
     "data": {
      "text/plain": [
       "'https://www.ted.com/tedx/events?autocomplete_filter=TEDxSussexUniversity&page=2&when=past'"
      ]
     },
     "metadata": {},
     "output_type": "display_data"
    },
    {
     "data": {
      "text/plain": [
       "'https://www.ted.com/tedx/events?autocomplete_filter=TEDxLeeds&page=1&when=past'"
      ]
     },
     "metadata": {},
     "output_type": "display_data"
    },
    {
     "data": {
      "text/plain": [
       "'https://www.ted.com/tedx/events?autocomplete_filter=TEDxUManitoba&page=2&when=past'"
      ]
     },
     "metadata": {},
     "output_type": "display_data"
    },
    {
     "data": {
      "text/plain": [
       "'https://www.ted.com/tedx/events?autocomplete_filter=TEDxJardimBotanico&page=1&when=past'"
      ]
     },
     "metadata": {},
     "output_type": "display_data"
    },
    {
     "data": {
      "text/plain": [
       "'https://www.ted.com/tedx/events?autocomplete_filter=TEDxLeeds&page=2&when=past'"
      ]
     },
     "metadata": {},
     "output_type": "display_data"
    },
    {
     "data": {
      "text/plain": [
       "'https://www.ted.com/tedx/events?autocomplete_filter=TEDxWaterloo&page=1&when=past'"
      ]
     },
     "metadata": {},
     "output_type": "display_data"
    },
    {
     "data": {
      "text/plain": [
       "'https://www.ted.com/tedx/events?autocomplete_filter=TEDxJardimBotanico&page=2&when=past'"
      ]
     },
     "metadata": {},
     "output_type": "display_data"
    },
    {
     "data": {
      "text/plain": [
       "'https://www.ted.com/tedx/events?autocomplete_filter=TEDxUofC&page=1&when=past'"
      ]
     },
     "metadata": {},
     "output_type": "display_data"
    },
    {
     "data": {
      "text/plain": [
       "'https://www.ted.com/tedx/events?autocomplete_filter=TEDxWaterloo&page=2&when=past'"
      ]
     },
     "metadata": {},
     "output_type": "display_data"
    },
    {
     "data": {
      "text/plain": [
       "'https://www.ted.com/tedx/events?autocomplete_filter=TEDxColumbiaSIPA&page=1&when=past'"
      ]
     },
     "metadata": {},
     "output_type": "display_data"
    },
    {
     "data": {
      "text/plain": [
       "'https://www.ted.com/tedx/events?autocomplete_filter=TEDxUofC&page=2&when=past'"
      ]
     },
     "metadata": {},
     "output_type": "display_data"
    },
    {
     "data": {
      "text/plain": [
       "'https://www.ted.com/tedx/events?autocomplete_filter=TEDxTainan&page=1&when=past'"
      ]
     },
     "metadata": {},
     "output_type": "display_data"
    },
    {
     "data": {
      "text/plain": [
       "'https://www.ted.com/tedx/events?autocomplete_filter=TEDxColumbiaSIPA&page=2&when=past'"
      ]
     },
     "metadata": {},
     "output_type": "display_data"
    },
    {
     "data": {
      "text/plain": [
       "'https://www.ted.com/tedx/events?autocomplete_filter=TEDxSWPS&page=1&when=past'"
      ]
     },
     "metadata": {},
     "output_type": "display_data"
    },
    {
     "data": {
      "text/plain": [
       "'https://www.ted.com/tedx/events?autocomplete_filter=TEDxTainan&page=2&when=past'"
      ]
     },
     "metadata": {},
     "output_type": "display_data"
    },
    {
     "data": {
      "text/plain": [
       "'https://www.ted.com/tedx/events?autocomplete_filter=TEDxICC&page=1&when=past'"
      ]
     },
     "metadata": {},
     "output_type": "display_data"
    },
    {
     "data": {
      "text/plain": [
       "'https://www.ted.com/tedx/events?autocomplete_filter=TEDxSWPS&page=2&when=past'"
      ]
     },
     "metadata": {},
     "output_type": "display_data"
    },
    {
     "data": {
      "text/plain": [
       "'https://www.ted.com/tedx/events?autocomplete_filter=TEDxUniversityofIoannina&page=1&when=past'"
      ]
     },
     "metadata": {},
     "output_type": "display_data"
    },
    {
     "data": {
      "text/plain": [
       "'https://www.ted.com/tedx/events?autocomplete_filter=TEDxYouth@SangamSchool&page=1&when=past'"
      ]
     },
     "metadata": {},
     "output_type": "display_data"
    },
    {
     "data": {
      "text/plain": [
       "'https://www.ted.com/tedx/events?autocomplete_filter=TEDxICC&page=2&when=past'"
      ]
     },
     "metadata": {},
     "output_type": "display_data"
    },
    {
     "data": {
      "text/plain": [
       "'https://www.ted.com/tedx/events?autocomplete_filter=TEDxUniversityofIoannina&page=2&when=past'"
      ]
     },
     "metadata": {},
     "output_type": "display_data"
    },
    {
     "data": {
      "text/plain": [
       "'https://www.ted.com/tedx/events?autocomplete_filter=TEDxYouth@SangamSchool&page=2&when=past'"
      ]
     },
     "metadata": {},
     "output_type": "display_data"
    },
    {
     "data": {
      "text/plain": [
       "'https://www.ted.com/tedx/events?autocomplete_filter=TEDxLecce&page=1&when=past'"
      ]
     },
     "metadata": {},
     "output_type": "display_data"
    },
    {
     "data": {
      "text/plain": [
       "'https://www.ted.com/tedx/events?autocomplete_filter=TEDxYouth@KNUHS&page=1&when=past'"
      ]
     },
     "metadata": {},
     "output_type": "display_data"
    },
    {
     "data": {
      "text/plain": [
       "'https://www.ted.com/tedx/events?autocomplete_filter=TEDxMiltonKeynes&page=1&when=past'"
      ]
     },
     "metadata": {},
     "output_type": "display_data"
    },
    {
     "data": {
      "text/plain": [
       "'https://www.ted.com/tedx/events?autocomplete_filter=TEDxLecce&page=2&when=past'"
      ]
     },
     "metadata": {},
     "output_type": "display_data"
    },
    {
     "data": {
      "text/plain": [
       "'https://www.ted.com/tedx/events?autocomplete_filter=TEDxYouth@KNUHS&page=2&when=past'"
      ]
     },
     "metadata": {},
     "output_type": "display_data"
    },
    {
     "data": {
      "text/plain": [
       "'https://www.ted.com/tedx/events?autocomplete_filter=TEDxMiltonKeynes&page=2&when=past'"
      ]
     },
     "metadata": {},
     "output_type": "display_data"
    },
    {
     "data": {
      "text/plain": [
       "'https://www.ted.com/tedx/events?autocomplete_filter=TEDxYouth@VHS&page=1&when=past'"
      ]
     },
     "metadata": {},
     "output_type": "display_data"
    },
    {
     "data": {
      "text/plain": [
       "'https://www.ted.com/tedx/events?autocomplete_filter=TEDxFLAMELive&page=1&when=past'"
      ]
     },
     "metadata": {},
     "output_type": "display_data"
    },
    {
     "data": {
      "text/plain": [
       "'https://www.ted.com/tedx/events?autocomplete_filter=TEDxBrusselsWomen&page=1&when=past'"
      ]
     },
     "metadata": {},
     "output_type": "display_data"
    },
    {
     "data": {
      "text/plain": [
       "'https://www.ted.com/tedx/events?autocomplete_filter=TEDxYouth@VHS&page=2&when=past'"
      ]
     },
     "metadata": {},
     "output_type": "display_data"
    },
    {
     "data": {
      "text/plain": [
       "'https://www.ted.com/tedx/events?autocomplete_filter=TEDxFLAMELive&page=2&when=past'"
      ]
     },
     "metadata": {},
     "output_type": "display_data"
    },
    {
     "data": {
      "text/plain": [
       "'https://www.ted.com/tedx/events?autocomplete_filter=TEDxBrusselsWomen&page=2&when=past'"
      ]
     },
     "metadata": {},
     "output_type": "display_data"
    },
    {
     "data": {
      "text/plain": [
       "'https://www.ted.com/tedx/events?autocomplete_filter=TEDxFiDiWomen&page=1&when=past'"
      ]
     },
     "metadata": {},
     "output_type": "display_data"
    },
    {
     "data": {
      "text/plain": [
       "'https://www.ted.com/tedx/events?autocomplete_filter=TEDxTopekaWomen&page=1&when=past'"
      ]
     },
     "metadata": {},
     "output_type": "display_data"
    },
    {
     "data": {
      "text/plain": [
       "'https://www.ted.com/tedx/events?autocomplete_filter=TEDxElginSt&page=1&when=past'"
      ]
     },
     "metadata": {},
     "output_type": "display_data"
    },
    {
     "data": {
      "text/plain": [
       "'https://www.ted.com/tedx/events?autocomplete_filter=TEDxFiDiWomen&page=2&when=past'"
      ]
     },
     "metadata": {},
     "output_type": "display_data"
    },
    {
     "data": {
      "text/plain": [
       "'https://www.ted.com/tedx/events?autocomplete_filter=TEDxTopekaWomen&page=2&when=past'"
      ]
     },
     "metadata": {},
     "output_type": "display_data"
    },
    {
     "data": {
      "text/plain": [
       "'https://www.ted.com/tedx/events?autocomplete_filter=TEDxElginSt&page=2&when=past'"
      ]
     },
     "metadata": {},
     "output_type": "display_data"
    },
    {
     "data": {
      "text/plain": [
       "'https://www.ted.com/tedx/events?autocomplete_filter=TEDxMontpellier&page=1&when=past'"
      ]
     },
     "metadata": {},
     "output_type": "display_data"
    },
    {
     "data": {
      "text/plain": [
       "'https://www.ted.com/tedx/events?autocomplete_filter=TEDxUSB&page=1&when=past'"
      ]
     },
     "metadata": {},
     "output_type": "display_data"
    },
    {
     "data": {
      "text/plain": [
       "'https://www.ted.com/tedx/events?autocomplete_filter=TEDxLowell&page=1&when=past'"
      ]
     },
     "metadata": {},
     "output_type": "display_data"
    },
    {
     "data": {
      "text/plain": [
       "'https://www.ted.com/tedx/events?autocomplete_filter=TEDxMontpellier&page=2&when=past'"
      ]
     },
     "metadata": {},
     "output_type": "display_data"
    },
    {
     "data": {
      "text/plain": [
       "'https://www.ted.com/tedx/events?autocomplete_filter=TEDxUSB&page=2&when=past'"
      ]
     },
     "metadata": {},
     "output_type": "display_data"
    },
    {
     "data": {
      "text/plain": [
       "'https://www.ted.com/tedx/events?autocomplete_filter=TEDxLowell&page=2&when=past'"
      ]
     },
     "metadata": {},
     "output_type": "display_data"
    },
    {
     "data": {
      "text/plain": [
       "'https://www.ted.com/tedx/events?autocomplete_filter=TEDxAJU&page=1&when=past'"
      ]
     },
     "metadata": {},
     "output_type": "display_data"
    },
    {
     "data": {
      "text/plain": [
       "'https://www.ted.com/tedx/events?autocomplete_filter=TEDxUWestminster&page=1&when=past'"
      ]
     },
     "metadata": {},
     "output_type": "display_data"
    },
    {
     "data": {
      "text/plain": [
       "'https://www.ted.com/tedx/events?autocomplete_filter=TEDxPortoWomen&page=1&when=past'"
      ]
     },
     "metadata": {},
     "output_type": "display_data"
    },
    {
     "data": {
      "text/plain": [
       "'https://www.ted.com/tedx/events?autocomplete_filter=TEDxAJU&page=2&when=past'"
      ]
     },
     "metadata": {},
     "output_type": "display_data"
    },
    {
     "data": {
      "text/plain": [
       "'https://www.ted.com/tedx/events?autocomplete_filter=TEDxUWestminster&page=2&when=past'"
      ]
     },
     "metadata": {},
     "output_type": "display_data"
    },
    {
     "data": {
      "text/plain": [
       "'https://www.ted.com/tedx/events?autocomplete_filter=TEDxLETI&page=1&when=past'"
      ]
     },
     "metadata": {},
     "output_type": "display_data"
    },
    {
     "data": {
      "text/plain": [
       "'https://www.ted.com/tedx/events?autocomplete_filter=TEDxPortoWomen&page=2&when=past'"
      ]
     },
     "metadata": {},
     "output_type": "display_data"
    },
    {
     "data": {
      "text/plain": [
       "'https://www.ted.com/tedx/events?autocomplete_filter=TEDxLETI&page=2&when=past'"
      ]
     },
     "metadata": {},
     "output_type": "display_data"
    },
    {
     "data": {
      "text/plain": [
       "'https://www.ted.com/tedx/events?autocomplete_filter=TEDxGraz&page=1&when=past'"
      ]
     },
     "metadata": {},
     "output_type": "display_data"
    },
    {
     "data": {
      "text/plain": [
       "'https://www.ted.com/tedx/events?autocomplete_filter=TEDxPresidio&page=1&when=past'"
      ]
     },
     "metadata": {},
     "output_type": "display_data"
    },
    {
     "data": {
      "text/plain": [
       "'https://www.ted.com/tedx/events?autocomplete_filter=TEDxMarinette&page=1&when=past'"
      ]
     },
     "metadata": {},
     "output_type": "display_data"
    },
    {
     "data": {
      "text/plain": [
       "'https://www.ted.com/tedx/events?autocomplete_filter=TEDxGraz&page=2&when=past'"
      ]
     },
     "metadata": {},
     "output_type": "display_data"
    },
    {
     "data": {
      "text/plain": [
       "'https://www.ted.com/tedx/events?autocomplete_filter=TEDxPresidio&page=2&when=past'"
      ]
     },
     "metadata": {},
     "output_type": "display_data"
    },
    {
     "data": {
      "text/plain": [
       "'https://www.ted.com/tedx/events?autocomplete_filter=TEDxMarinette&page=2&when=past'"
      ]
     },
     "metadata": {},
     "output_type": "display_data"
    },
    {
     "data": {
      "text/plain": [
       "'https://www.ted.com/tedx/events?autocomplete_filter=TEDxIB&page=1&when=past'"
      ]
     },
     "metadata": {},
     "output_type": "display_data"
    },
    {
     "data": {
      "text/plain": [
       "'https://www.ted.com/tedx/events?autocomplete_filter=TEDxSãoPaulo&page=1&when=past'"
      ]
     },
     "metadata": {},
     "output_type": "display_data"
    },
    {
     "data": {
      "text/plain": [
       "'https://www.ted.com/tedx/events?autocomplete_filter=TEDxParcMontsouris&page=1&when=past'"
      ]
     },
     "metadata": {},
     "output_type": "display_data"
    },
    {
     "data": {
      "text/plain": [
       "'https://www.ted.com/tedx/events?autocomplete_filter=TEDxIB&page=2&when=past'"
      ]
     },
     "metadata": {},
     "output_type": "display_data"
    },
    {
     "data": {
      "text/plain": [
       "'https://www.ted.com/tedx/events?autocomplete_filter=TEDxSãoPaulo&page=2&when=past'"
      ]
     },
     "metadata": {},
     "output_type": "display_data"
    },
    {
     "data": {
      "text/plain": [
       "'https://www.ted.com/tedx/events?autocomplete_filter=TEDxParcMontsouris&page=2&when=past'"
      ]
     },
     "metadata": {},
     "output_type": "display_data"
    },
    {
     "data": {
      "text/plain": [
       "'https://www.ted.com/tedx/events?autocomplete_filter=TEDxUniversityofSharjah&page=1&when=past'"
      ]
     },
     "metadata": {},
     "output_type": "display_data"
    },
    {
     "data": {
      "text/plain": [
       "'https://www.ted.com/tedx/events?autocomplete_filter=TEDxCorkWomen&page=1&when=past'"
      ]
     },
     "metadata": {},
     "output_type": "display_data"
    },
    {
     "data": {
      "text/plain": [
       "'https://www.ted.com/tedx/events?autocomplete_filter=TEDxWpg&page=1&when=past'"
      ]
     },
     "metadata": {},
     "output_type": "display_data"
    },
    {
     "data": {
      "text/plain": [
       "'https://www.ted.com/tedx/events?autocomplete_filter=TEDxUniversityofSharjah&page=2&when=past'"
      ]
     },
     "metadata": {},
     "output_type": "display_data"
    },
    {
     "data": {
      "text/plain": [
       "'https://www.ted.com/tedx/events?autocomplete_filter=TEDxTeachersCollege&page=1&when=past'"
      ]
     },
     "metadata": {},
     "output_type": "display_data"
    },
    {
     "data": {
      "text/plain": [
       "'https://www.ted.com/tedx/events?autocomplete_filter=TEDxCorkWomen&page=2&when=past'"
      ]
     },
     "metadata": {},
     "output_type": "display_data"
    },
    {
     "data": {
      "text/plain": [
       "'https://www.ted.com/tedx/events?autocomplete_filter=TEDxLAWomen&page=1&when=past'"
      ]
     },
     "metadata": {},
     "output_type": "display_data"
    },
    {
     "data": {
      "text/plain": [
       "'https://www.ted.com/tedx/events?autocomplete_filter=TEDxTeachersCollege&page=2&when=past'"
      ]
     },
     "metadata": {},
     "output_type": "display_data"
    },
    {
     "data": {
      "text/plain": [
       "'https://www.ted.com/tedx/events?autocomplete_filter=TEDxLAWomen&page=2&when=past'"
      ]
     },
     "metadata": {},
     "output_type": "display_data"
    },
    {
     "data": {
      "text/plain": [
       "'https://www.ted.com/tedx/events?autocomplete_filter=TEDxYouth@TheSpire&page=1&when=past'"
      ]
     },
     "metadata": {},
     "output_type": "display_data"
    },
    {
     "data": {
      "text/plain": [
       "'https://www.ted.com/tedx/events?autocomplete_filter=TEDxJesmondDene&page=1&when=past'"
      ]
     },
     "metadata": {},
     "output_type": "display_data"
    },
    {
     "data": {
      "text/plain": [
       "'https://www.ted.com/tedx/events?autocomplete_filter=TEDxYouth@AlamitosBay&page=1&when=past'"
      ]
     },
     "metadata": {},
     "output_type": "display_data"
    },
    {
     "data": {
      "text/plain": [
       "'https://www.ted.com/tedx/events?autocomplete_filter=TEDxYouth@TheSpire&page=2&when=past'"
      ]
     },
     "metadata": {},
     "output_type": "display_data"
    },
    {
     "data": {
      "text/plain": [
       "'https://www.ted.com/tedx/events?autocomplete_filter=TEDxJesmondDene&page=2&when=past'"
      ]
     },
     "metadata": {},
     "output_type": "display_data"
    },
    {
     "data": {
      "text/plain": [
       "'https://www.ted.com/tedx/events?autocomplete_filter=TEDxYouth@AlamitosBay&page=2&when=past'"
      ]
     },
     "metadata": {},
     "output_type": "display_data"
    },
    {
     "data": {
      "text/plain": [
       "'https://www.ted.com/tedx/events?autocomplete_filter=TEDxYouth@Helsingborg&page=1&when=past'"
      ]
     },
     "metadata": {},
     "output_type": "display_data"
    },
    {
     "data": {
      "text/plain": [
       "'https://www.ted.com/tedx/events?autocomplete_filter=TEDxUNPlaza&page=1&when=past'"
      ]
     },
     "metadata": {},
     "output_type": "display_data"
    },
    {
     "data": {
      "text/plain": [
       "'https://www.ted.com/tedx/events?autocomplete_filter=TEDxYouth@MDA&page=1&when=past'"
      ]
     },
     "metadata": {},
     "output_type": "display_data"
    },
    {
     "data": {
      "text/plain": [
       "'https://www.ted.com/tedx/events?autocomplete_filter=TEDxYouth@Helsingborg&page=2&when=past'"
      ]
     },
     "metadata": {},
     "output_type": "display_data"
    },
    {
     "data": {
      "text/plain": [
       "'https://www.ted.com/tedx/events?autocomplete_filter=TEDxUNPlaza&page=2&when=past'"
      ]
     },
     "metadata": {},
     "output_type": "display_data"
    },
    {
     "data": {
      "text/plain": [
       "'https://www.ted.com/tedx/events?autocomplete_filter=TEDxPlainpalais&page=1&when=past'"
      ]
     },
     "metadata": {},
     "output_type": "display_data"
    },
    {
     "data": {
      "text/plain": [
       "'https://www.ted.com/tedx/events?autocomplete_filter=TEDxYouth@MDA&page=2&when=past'"
      ]
     },
     "metadata": {},
     "output_type": "display_data"
    },
    {
     "data": {
      "text/plain": [
       "'https://www.ted.com/tedx/events?autocomplete_filter=TEDxWashingtonHeights&page=1&when=past'"
      ]
     },
     "metadata": {},
     "output_type": "display_data"
    },
    {
     "data": {
      "text/plain": [
       "'https://www.ted.com/tedx/events?autocomplete_filter=TEDxCooperUnion&page=1&when=past'"
      ]
     },
     "metadata": {},
     "output_type": "display_data"
    },
    {
     "data": {
      "text/plain": [
       "'https://www.ted.com/tedx/events?autocomplete_filter=TEDxPlainpalais&page=2&when=past'"
      ]
     },
     "metadata": {},
     "output_type": "display_data"
    },
    {
     "data": {
      "text/plain": [
       "'https://www.ted.com/tedx/events?autocomplete_filter=TEDxWashingtonHeights&page=2&when=past'"
      ]
     },
     "metadata": {},
     "output_type": "display_data"
    },
    {
     "data": {
      "text/plain": [
       "'https://www.ted.com/tedx/events?autocomplete_filter=TEDxLoughboroughU&page=1&when=past'"
      ]
     },
     "metadata": {},
     "output_type": "display_data"
    },
    {
     "data": {
      "text/plain": [
       "'https://www.ted.com/tedx/events?autocomplete_filter=TEDxCooperUnion&page=2&when=past'"
      ]
     },
     "metadata": {},
     "output_type": "display_data"
    },
    {
     "data": {
      "text/plain": [
       "'https://www.ted.com/tedx/events?autocomplete_filter=TEDxJUIT&page=1&when=past'"
      ]
     },
     "metadata": {},
     "output_type": "display_data"
    },
    {
     "data": {
      "text/plain": [
       "'https://www.ted.com/tedx/events?autocomplete_filter=TEDxLoughboroughU&page=2&when=past'"
      ]
     },
     "metadata": {},
     "output_type": "display_data"
    },
    {
     "data": {
      "text/plain": [
       "'https://www.ted.com/tedx/events?autocomplete_filter=TEDxYouth@Bath&page=1&when=past'"
      ]
     },
     "metadata": {},
     "output_type": "display_data"
    },
    {
     "data": {
      "text/plain": [
       "'https://www.ted.com/tedx/events?autocomplete_filter=TEDxJUIT&page=2&when=past'"
      ]
     },
     "metadata": {},
     "output_type": "display_data"
    },
    {
     "data": {
      "text/plain": [
       "'https://www.ted.com/tedx/events?autocomplete_filter=TEDxSãoSebastião&page=1&when=past'"
      ]
     },
     "metadata": {},
     "output_type": "display_data"
    },
    {
     "data": {
      "text/plain": [
       "'https://www.ted.com/tedx/events?autocomplete_filter=TEDxYouth@Bath&page=2&when=past'"
      ]
     },
     "metadata": {},
     "output_type": "display_data"
    },
    {
     "data": {
      "text/plain": [
       "'https://www.ted.com/tedx/events?autocomplete_filter=TEDxTNMC&page=1&when=past'"
      ]
     },
     "metadata": {},
     "output_type": "display_data"
    },
    {
     "data": {
      "text/plain": [
       "'https://www.ted.com/tedx/events?autocomplete_filter=TEDxKingStWomen&page=1&when=past'"
      ]
     },
     "metadata": {},
     "output_type": "display_data"
    },
    {
     "data": {
      "text/plain": [
       "'https://www.ted.com/tedx/events?autocomplete_filter=TEDxTNMC&page=2&when=past'"
      ]
     },
     "metadata": {},
     "output_type": "display_data"
    },
    {
     "data": {
      "text/plain": [
       "'https://www.ted.com/tedx/events?autocomplete_filter=TEDxSãoSebastião&page=2&when=past'"
      ]
     },
     "metadata": {},
     "output_type": "display_data"
    },
    {
     "data": {
      "text/plain": [
       "'https://www.ted.com/tedx/events?autocomplete_filter=TEDxKingStWomen&page=2&when=past'"
      ]
     },
     "metadata": {},
     "output_type": "display_data"
    },
    {
     "data": {
      "text/plain": [
       "'https://www.ted.com/tedx/events?autocomplete_filter=TEDxPapeeteWomen&page=1&when=past'"
      ]
     },
     "metadata": {},
     "output_type": "display_data"
    },
    {
     "data": {
      "text/plain": [
       "'https://www.ted.com/tedx/events?autocomplete_filter=TEDxTWU&page=1&when=past'"
      ]
     },
     "metadata": {},
     "output_type": "display_data"
    },
    {
     "data": {
      "text/plain": [
       "'https://www.ted.com/tedx/events?autocomplete_filter=TEDxUHasseltSalon&page=1&when=past'"
      ]
     },
     "metadata": {},
     "output_type": "display_data"
    },
    {
     "data": {
      "text/plain": [
       "'https://www.ted.com/tedx/events?autocomplete_filter=TEDxPapeeteWomen&page=2&when=past'"
      ]
     },
     "metadata": {},
     "output_type": "display_data"
    },
    {
     "data": {
      "text/plain": [
       "'https://www.ted.com/tedx/events?autocomplete_filter=TEDxTWU&page=2&when=past'"
      ]
     },
     "metadata": {},
     "output_type": "display_data"
    },
    {
     "data": {
      "text/plain": [
       "'https://www.ted.com/tedx/events?autocomplete_filter=TEDxEdmonton&page=1&when=past'"
      ]
     },
     "metadata": {},
     "output_type": "display_data"
    },
    {
     "data": {
      "text/plain": [
       "'https://www.ted.com/tedx/events?autocomplete_filter=TEDxUHasseltSalon&page=2&when=past'"
      ]
     },
     "metadata": {},
     "output_type": "display_data"
    },
    {
     "data": {
      "text/plain": [
       "'https://www.ted.com/tedx/events?autocomplete_filter=TEDxOakridgeInternationalSchool&page=1&when=past'"
      ]
     },
     "metadata": {},
     "output_type": "display_data"
    },
    {
     "data": {
      "text/plain": [
       "'https://www.ted.com/tedx/events?autocomplete_filter=TEDxNakaseroWomen&page=1&when=past'"
      ]
     },
     "metadata": {},
     "output_type": "display_data"
    },
    {
     "data": {
      "text/plain": [
       "'https://www.ted.com/tedx/events?autocomplete_filter=TEDxEdmonton&page=2&when=past'"
      ]
     },
     "metadata": {},
     "output_type": "display_data"
    },
    {
     "data": {
      "text/plain": [
       "'https://www.ted.com/tedx/events?autocomplete_filter=TEDxOakridgeInternationalSchool&page=2&when=past'"
      ]
     },
     "metadata": {},
     "output_type": "display_data"
    },
    {
     "data": {
      "text/plain": [
       "'https://www.ted.com/tedx/events?autocomplete_filter=TEDxObserver&page=1&when=past'"
      ]
     },
     "metadata": {},
     "output_type": "display_data"
    },
    {
     "data": {
      "text/plain": [
       "'https://www.ted.com/tedx/events?autocomplete_filter=TEDxNakaseroWomen&page=2&when=past'"
      ]
     },
     "metadata": {},
     "output_type": "display_data"
    },
    {
     "data": {
      "text/plain": [
       "'https://www.ted.com/tedx/events?autocomplete_filter=TEDxAIMS&page=1&when=past'"
      ]
     },
     "metadata": {},
     "output_type": "display_data"
    },
    {
     "data": {
      "text/plain": [
       "'https://www.ted.com/tedx/events?autocomplete_filter=TEDxObserver&page=2&when=past'"
      ]
     },
     "metadata": {},
     "output_type": "display_data"
    },
    {
     "data": {
      "text/plain": [
       "'https://www.ted.com/tedx/events?autocomplete_filter=TEDxIIITBh&page=1&when=past'"
      ]
     },
     "metadata": {},
     "output_type": "display_data"
    },
    {
     "data": {
      "text/plain": [
       "'https://www.ted.com/tedx/events?autocomplete_filter=TEDxAIMS&page=2&when=past'"
      ]
     },
     "metadata": {},
     "output_type": "display_data"
    },
    {
     "data": {
      "text/plain": [
       "'https://www.ted.com/tedx/events?autocomplete_filter=TEDxYouth@LazuardiSchoolDepok&page=1&when=past'"
      ]
     },
     "metadata": {},
     "output_type": "display_data"
    },
    {
     "data": {
      "text/plain": [
       "'https://www.ted.com/tedx/events?autocomplete_filter=TEDxIIITBh&page=2&when=past'"
      ]
     },
     "metadata": {},
     "output_type": "display_data"
    },
    {
     "data": {
      "text/plain": [
       "'https://www.ted.com/tedx/events?autocomplete_filter=TEDxHultShanghai&page=1&when=past'"
      ]
     },
     "metadata": {},
     "output_type": "display_data"
    },
    {
     "data": {
      "text/plain": [
       "'https://www.ted.com/tedx/events?autocomplete_filter=TEDxYouth@LazuardiSchoolDepok&page=2&when=past'"
      ]
     },
     "metadata": {},
     "output_type": "display_data"
    },
    {
     "data": {
      "text/plain": [
       "'https://www.ted.com/tedx/events?autocomplete_filter=TEDxHultShanghai&page=2&when=past'"
      ]
     },
     "metadata": {},
     "output_type": "display_data"
    },
    {
     "data": {
      "text/plain": [
       "'https://www.ted.com/tedx/events?autocomplete_filter=TEDxHollywood&page=1&when=past'"
      ]
     },
     "metadata": {},
     "output_type": "display_data"
    },
    {
     "data": {
      "text/plain": [
       "'https://www.ted.com/tedx/events?autocomplete_filter=TEDxPhnomPenh&page=1&when=past'"
      ]
     },
     "metadata": {},
     "output_type": "display_data"
    },
    {
     "data": {
      "text/plain": [
       "'https://www.ted.com/tedx/events?autocomplete_filter=TEDxHollywood&page=2&when=past'"
      ]
     },
     "metadata": {},
     "output_type": "display_data"
    },
    {
     "data": {
      "text/plain": [
       "'https://www.ted.com/tedx/events?autocomplete_filter=TEDxLakeGeneva&page=1&when=past'"
      ]
     },
     "metadata": {},
     "output_type": "display_data"
    },
    {
     "data": {
      "text/plain": [
       "'https://www.ted.com/tedx/events?autocomplete_filter=TEDxEaling&page=1&when=past'"
      ]
     },
     "metadata": {},
     "output_type": "display_data"
    },
    {
     "data": {
      "text/plain": [
       "'https://www.ted.com/tedx/events?autocomplete_filter=TEDxPhnomPenh&page=2&when=past'"
      ]
     },
     "metadata": {},
     "output_type": "display_data"
    },
    {
     "data": {
      "text/plain": [
       "'https://www.ted.com/tedx/events?autocomplete_filter=TEDxLakeGeneva&page=2&when=past'"
      ]
     },
     "metadata": {},
     "output_type": "display_data"
    },
    {
     "data": {
      "text/plain": [
       "'https://www.ted.com/tedx/events?autocomplete_filter=TEDxEaling&page=2&when=past'"
      ]
     },
     "metadata": {},
     "output_type": "display_data"
    },
    {
     "data": {
      "text/plain": [
       "'https://www.ted.com/tedx/events?autocomplete_filter=TEDxCornellCollege&page=1&when=past'"
      ]
     },
     "metadata": {},
     "output_type": "display_data"
    },
    {
     "data": {
      "text/plain": [
       "'https://www.ted.com/tedx/events?autocomplete_filter=TEDxSeattleU&page=1&when=past'"
      ]
     },
     "metadata": {},
     "output_type": "display_data"
    },
    {
     "data": {
      "text/plain": [
       "'https://www.ted.com/tedx/events?autocomplete_filter=TEDxZelenayaRoscha&page=1&when=past'"
      ]
     },
     "metadata": {},
     "output_type": "display_data"
    },
    {
     "data": {
      "text/plain": [
       "'https://www.ted.com/tedx/events?autocomplete_filter=TEDxSeattleU&page=2&when=past'"
      ]
     },
     "metadata": {},
     "output_type": "display_data"
    },
    {
     "data": {
      "text/plain": [
       "'https://www.ted.com/tedx/events?autocomplete_filter=TEDxZelenayaRoscha&page=2&when=past'"
      ]
     },
     "metadata": {},
     "output_type": "display_data"
    },
    {
     "data": {
      "text/plain": [
       "'https://www.ted.com/tedx/events?autocomplete_filter=TEDxCornellCollege&page=2&when=past'"
      ]
     },
     "metadata": {},
     "output_type": "display_data"
    },
    {
     "data": {
      "text/plain": [
       "'https://www.ted.com/tedx/events?autocomplete_filter=TEDxChisinau&page=1&when=past'"
      ]
     },
     "metadata": {},
     "output_type": "display_data"
    },
    {
     "data": {
      "text/plain": [
       "'https://www.ted.com/tedx/events?autocomplete_filter=TEDxChitkaraUniversity&page=1&when=past'"
      ]
     },
     "metadata": {},
     "output_type": "display_data"
    },
    {
     "data": {
      "text/plain": [
       "'https://www.ted.com/tedx/events?autocomplete_filter=TEDxOilSpill&page=1&when=past'"
      ]
     },
     "metadata": {},
     "output_type": "display_data"
    },
    {
     "data": {
      "text/plain": [
       "'https://www.ted.com/tedx/events?autocomplete_filter=TEDxChitkaraUniversity&page=2&when=past'"
      ]
     },
     "metadata": {},
     "output_type": "display_data"
    },
    {
     "data": {
      "text/plain": [
       "'https://www.ted.com/tedx/events?autocomplete_filter=TEDxOilSpill&page=2&when=past'"
      ]
     },
     "metadata": {},
     "output_type": "display_data"
    },
    {
     "data": {
      "text/plain": [
       "'https://www.ted.com/tedx/events?autocomplete_filter=TEDxChisinau&page=2&when=past'"
      ]
     },
     "metadata": {},
     "output_type": "display_data"
    },
    {
     "data": {
      "text/plain": [
       "'https://www.ted.com/tedx/events?autocomplete_filter=TEDxLilongwe&page=1&when=past'"
      ]
     },
     "metadata": {},
     "output_type": "display_data"
    },
    {
     "data": {
      "text/plain": [
       "'https://www.ted.com/tedx/events?autocomplete_filter=TEDxVaduz&page=1&when=past'"
      ]
     },
     "metadata": {},
     "output_type": "display_data"
    },
    {
     "data": {
      "text/plain": [
       "'https://www.ted.com/tedx/events?autocomplete_filter=TEDxWallaWallaUniversity&page=1&when=past'"
      ]
     },
     "metadata": {},
     "output_type": "display_data"
    },
    {
     "data": {
      "text/plain": [
       "'https://www.ted.com/tedx/events?autocomplete_filter=TEDxLilongwe&page=2&when=past'"
      ]
     },
     "metadata": {},
     "output_type": "display_data"
    },
    {
     "data": {
      "text/plain": [
       "'https://www.ted.com/tedx/events?autocomplete_filter=TEDxVaduz&page=2&when=past'"
      ]
     },
     "metadata": {},
     "output_type": "display_data"
    },
    {
     "data": {
      "text/plain": [
       "'https://www.ted.com/tedx/events?autocomplete_filter=TEDxWallaWallaUniversity&page=2&when=past'"
      ]
     },
     "metadata": {},
     "output_type": "display_data"
    },
    {
     "data": {
      "text/plain": [
       "'https://www.ted.com/tedx/events?autocomplete_filter=TEDxMRU&page=1&when=past'"
      ]
     },
     "metadata": {},
     "output_type": "display_data"
    },
    {
     "data": {
      "text/plain": [
       "'https://www.ted.com/tedx/events?autocomplete_filter=TEDxRheinMainSalon&page=1&when=past'"
      ]
     },
     "metadata": {},
     "output_type": "display_data"
    },
    {
     "data": {
      "text/plain": [
       "'https://www.ted.com/tedx/events?autocomplete_filter=TEDxYouth@TCS&page=1&when=past'"
      ]
     },
     "metadata": {},
     "output_type": "display_data"
    },
    {
     "data": {
      "text/plain": [
       "'https://www.ted.com/tedx/events?autocomplete_filter=TEDxMRU&page=2&when=past'"
      ]
     },
     "metadata": {},
     "output_type": "display_data"
    },
    {
     "data": {
      "text/plain": [
       "'https://www.ted.com/tedx/events?autocomplete_filter=TEDxRheinMainSalon&page=2&when=past'"
      ]
     },
     "metadata": {},
     "output_type": "display_data"
    },
    {
     "data": {
      "text/plain": [
       "'https://www.ted.com/tedx/events?autocomplete_filter=TEDxYouth@TCS&page=2&when=past'"
      ]
     },
     "metadata": {},
     "output_type": "display_data"
    },
    {
     "data": {
      "text/plain": [
       "'https://www.ted.com/tedx/events?autocomplete_filter=TEDxWhiteCity&page=1&when=past'"
      ]
     },
     "metadata": {},
     "output_type": "display_data"
    },
    {
     "data": {
      "text/plain": [
       "'https://www.ted.com/tedx/events?autocomplete_filter=TEDxBedfordSchool&page=1&when=past'"
      ]
     },
     "metadata": {},
     "output_type": "display_data"
    },
    {
     "data": {
      "text/plain": [
       "'https://www.ted.com/tedx/events?autocomplete_filter=TedxYouth@Brum&page=1&when=past'"
      ]
     },
     "metadata": {},
     "output_type": "display_data"
    },
    {
     "data": {
      "text/plain": [
       "'https://www.ted.com/tedx/events?autocomplete_filter=TEDxWhiteCity&page=2&when=past'"
      ]
     },
     "metadata": {},
     "output_type": "display_data"
    },
    {
     "data": {
      "text/plain": [
       "'https://www.ted.com/tedx/events?autocomplete_filter=TEDxBedfordSchool&page=2&when=past'"
      ]
     },
     "metadata": {},
     "output_type": "display_data"
    },
    {
     "data": {
      "text/plain": [
       "'https://www.ted.com/tedx/events?autocomplete_filter=TEDxFulbright&page=1&when=past'"
      ]
     },
     "metadata": {},
     "output_type": "display_data"
    },
    {
     "data": {
      "text/plain": [
       "'https://www.ted.com/tedx/events?autocomplete_filter=TedxYouth@Brum&page=2&when=past'"
      ]
     },
     "metadata": {},
     "output_type": "display_data"
    },
    {
     "data": {
      "text/plain": [
       "'https://www.ted.com/tedx/events?autocomplete_filter=TEDxOmagh&page=1&when=past'"
      ]
     },
     "metadata": {},
     "output_type": "display_data"
    },
    {
     "data": {
      "text/plain": [
       "'https://www.ted.com/tedx/events?autocomplete_filter=TEDxFulbright&page=2&when=past'"
      ]
     },
     "metadata": {},
     "output_type": "display_data"
    },
    {
     "data": {
      "text/plain": [
       "'https://www.ted.com/tedx/events?autocomplete_filter=TEDxYouth@Hewitt&page=1&when=past'"
      ]
     },
     "metadata": {},
     "output_type": "display_data"
    },
    {
     "data": {
      "text/plain": [
       "'https://www.ted.com/tedx/events?autocomplete_filter=TEDxOmagh&page=2&when=past'"
      ]
     },
     "metadata": {},
     "output_type": "display_data"
    },
    {
     "data": {
      "text/plain": [
       "'https://www.ted.com/tedx/events?autocomplete_filter=TEDxNorthHighSchool&page=1&when=past'"
      ]
     },
     "metadata": {},
     "output_type": "display_data"
    },
    {
     "data": {
      "text/plain": [
       "'https://www.ted.com/tedx/events?autocomplete_filter=TEDxChangeRíodelaPlata&page=1&when=past'"
      ]
     },
     "metadata": {},
     "output_type": "display_data"
    },
    {
     "data": {
      "text/plain": [
       "'https://www.ted.com/tedx/events?autocomplete_filter=TEDxYouth@Hewitt&page=2&when=past'"
      ]
     },
     "metadata": {},
     "output_type": "display_data"
    },
    {
     "data": {
      "text/plain": [
       "'https://www.ted.com/tedx/events?autocomplete_filter=TEDxNorthHighSchool&page=2&when=past'"
      ]
     },
     "metadata": {},
     "output_type": "display_data"
    },
    {
     "data": {
      "text/plain": [
       "'https://www.ted.com/tedx/events?autocomplete_filter=TEDxChulalongkornU&page=1&when=past'"
      ]
     },
     "metadata": {},
     "output_type": "display_data"
    },
    {
     "data": {
      "text/plain": [
       "'https://www.ted.com/tedx/events?autocomplete_filter=TEDxMidwest&page=1&when=past'"
      ]
     },
     "metadata": {},
     "output_type": "display_data"
    },
    {
     "data": {
      "text/plain": [
       "'https://www.ted.com/tedx/events?autocomplete_filter=TEDxKiraTown&page=1&when=past'"
      ]
     },
     "metadata": {},
     "output_type": "display_data"
    },
    {
     "data": {
      "text/plain": [
       "'https://www.ted.com/tedx/events?autocomplete_filter=TEDxMidwest&page=2&when=past'"
      ]
     },
     "metadata": {},
     "output_type": "display_data"
    },
    {
     "data": {
      "text/plain": [
       "'https://www.ted.com/tedx/events?autocomplete_filter=TEDxChulalongkornU&page=2&when=past'"
      ]
     },
     "metadata": {},
     "output_type": "display_data"
    },
    {
     "data": {
      "text/plain": [
       "'https://www.ted.com/tedx/events?autocomplete_filter=TEDxKiraTown&page=2&when=past'"
      ]
     },
     "metadata": {},
     "output_type": "display_data"
    },
    {
     "data": {
      "text/plain": [
       "'https://www.ted.com/tedx/events?autocomplete_filter=TEDxMileHighWomen&page=1&when=past'"
      ]
     },
     "metadata": {},
     "output_type": "display_data"
    },
    {
     "data": {
      "text/plain": [
       "'https://www.ted.com/tedx/events?autocomplete_filter=TEDxIIMUdaipur&page=1&when=past'"
      ]
     },
     "metadata": {},
     "output_type": "display_data"
    },
    {
     "data": {
      "text/plain": [
       "'https://www.ted.com/tedx/events?autocomplete_filter=TEDxEmersonCollege&page=1&when=past'"
      ]
     },
     "metadata": {},
     "output_type": "display_data"
    },
    {
     "data": {
      "text/plain": [
       "'https://www.ted.com/tedx/events?autocomplete_filter=TEDxMileHighWomen&page=2&when=past'"
      ]
     },
     "metadata": {},
     "output_type": "display_data"
    },
    {
     "data": {
      "text/plain": [
       "'https://www.ted.com/tedx/events?autocomplete_filter=TEDxIIMUdaipur&page=2&when=past'"
      ]
     },
     "metadata": {},
     "output_type": "display_data"
    },
    {
     "data": {
      "text/plain": [
       "'https://www.ted.com/tedx/events?autocomplete_filter=TEDxEmersonCollege&page=2&when=past'"
      ]
     },
     "metadata": {},
     "output_type": "display_data"
    },
    {
     "data": {
      "text/plain": [
       "'https://www.ted.com/tedx/events?autocomplete_filter=TEDxPaonia&page=1&when=past'"
      ]
     },
     "metadata": {},
     "output_type": "display_data"
    },
    {
     "data": {
      "text/plain": [
       "'https://www.ted.com/tedx/events?autocomplete_filter=TEDxGoldenGatePark&page=1&when=past'"
      ]
     },
     "metadata": {},
     "output_type": "display_data"
    },
    {
     "data": {
      "text/plain": [
       "'https://www.ted.com/tedx/events?autocomplete_filter=TEDxPaonia&page=2&when=past'"
      ]
     },
     "metadata": {},
     "output_type": "display_data"
    },
    {
     "data": {
      "text/plain": [
       "'https://www.ted.com/tedx/events?autocomplete_filter=TEDxGoldenGatePark&page=2&when=past'"
      ]
     },
     "metadata": {},
     "output_type": "display_data"
    },
    {
     "data": {
      "text/plain": [
       "'https://www.ted.com/tedx/events?autocomplete_filter=TEDxCheltenham&page=1&when=past'"
      ]
     },
     "metadata": {},
     "output_type": "display_data"
    },
    {
     "data": {
      "text/plain": [
       "'https://www.ted.com/tedx/events?autocomplete_filter=TEDxBOULDER&page=1&when=past'"
      ]
     },
     "metadata": {},
     "output_type": "display_data"
    },
    {
     "data": {
      "text/plain": [
       "'https://www.ted.com/tedx/events?autocomplete_filter=TEDxCESAG&page=1&when=past'"
      ]
     },
     "metadata": {},
     "output_type": "display_data"
    },
    {
     "data": {
      "text/plain": [
       "'https://www.ted.com/tedx/events?autocomplete_filter=TEDxCheltenham&page=2&when=past'"
      ]
     },
     "metadata": {},
     "output_type": "display_data"
    },
    {
     "data": {
      "text/plain": [
       "'https://www.ted.com/tedx/events?autocomplete_filter=TEDxBOULDER&page=2&when=past'"
      ]
     },
     "metadata": {},
     "output_type": "display_data"
    },
    {
     "data": {
      "text/plain": [
       "'https://www.ted.com/tedx/events?autocomplete_filter=TEDxDubuque&page=1&when=past'"
      ]
     },
     "metadata": {},
     "output_type": "display_data"
    },
    {
     "data": {
      "text/plain": [
       "'https://www.ted.com/tedx/events?autocomplete_filter=TEDxCESAG&page=2&when=past'"
      ]
     },
     "metadata": {},
     "output_type": "display_data"
    },
    {
     "data": {
      "text/plain": [
       "'https://www.ted.com/tedx/events?autocomplete_filter=TEDxInnerSunset&page=1&when=past'"
      ]
     },
     "metadata": {},
     "output_type": "display_data"
    },
    {
     "data": {
      "text/plain": [
       "'https://www.ted.com/tedx/events?autocomplete_filter=TEDxLacador&page=1&when=past'"
      ]
     },
     "metadata": {},
     "output_type": "display_data"
    },
    {
     "data": {
      "text/plain": [
       "'https://www.ted.com/tedx/events?autocomplete_filter=TEDxDubuque&page=2&when=past'"
      ]
     },
     "metadata": {},
     "output_type": "display_data"
    },
    {
     "data": {
      "text/plain": [
       "'https://www.ted.com/tedx/events?autocomplete_filter=TEDxInnerSunset&page=2&when=past'"
      ]
     },
     "metadata": {},
     "output_type": "display_data"
    },
    {
     "data": {
      "text/plain": [
       "'https://www.ted.com/tedx/events?autocomplete_filter=TEDxNileStreet&page=1&when=past'"
      ]
     },
     "metadata": {},
     "output_type": "display_data"
    },
    {
     "data": {
      "text/plain": [
       "'https://www.ted.com/tedx/events?autocomplete_filter=TEDxLacador&page=2&when=past'"
      ]
     },
     "metadata": {},
     "output_type": "display_data"
    },
    {
     "data": {
      "text/plain": [
       "'https://www.ted.com/tedx/events?autocomplete_filter=TEDxCNR&page=1&when=past'"
      ]
     },
     "metadata": {},
     "output_type": "display_data"
    },
    {
     "data": {
      "text/plain": [
       "'https://www.ted.com/tedx/events?autocomplete_filter=TEDxDhaka&page=1&when=past'"
      ]
     },
     "metadata": {},
     "output_type": "display_data"
    },
    {
     "data": {
      "text/plain": [
       "'https://www.ted.com/tedx/events?autocomplete_filter=TEDxNileStreet&page=2&when=past'"
      ]
     },
     "metadata": {},
     "output_type": "display_data"
    },
    {
     "data": {
      "text/plain": [
       "'https://www.ted.com/tedx/events?autocomplete_filter=TEDxCNR&page=2&when=past'"
      ]
     },
     "metadata": {},
     "output_type": "display_data"
    },
    {
     "data": {
      "text/plain": [
       "'https://www.ted.com/tedx/events?autocomplete_filter=TEDxSalinas&page=1&when=past'"
      ]
     },
     "metadata": {},
     "output_type": "display_data"
    },
    {
     "data": {
      "text/plain": [
       "'https://www.ted.com/tedx/events?autocomplete_filter=TEDxDhaka&page=2&when=past'"
      ]
     },
     "metadata": {},
     "output_type": "display_data"
    },
    {
     "data": {
      "text/plain": [
       "'https://www.ted.com/tedx/events?autocomplete_filter=TEDxBigApple&page=1&when=past'"
      ]
     },
     "metadata": {},
     "output_type": "display_data"
    },
    {
     "data": {
      "text/plain": [
       "'https://www.ted.com/tedx/events?autocomplete_filter=TEDxSalinas&page=2&when=past'"
      ]
     },
     "metadata": {},
     "output_type": "display_data"
    },
    {
     "data": {
      "text/plain": [
       "'https://www.ted.com/tedx/events?autocomplete_filter=TEDxCalStateLA&page=1&when=past'"
      ]
     },
     "metadata": {},
     "output_type": "display_data"
    },
    {
     "data": {
      "text/plain": [
       "'https://www.ted.com/tedx/events?autocomplete_filter=TEDxBigApple&page=2&when=past'"
      ]
     },
     "metadata": {},
     "output_type": "display_data"
    },
    {
     "data": {
      "text/plain": [
       "'https://www.ted.com/tedx/events?autocomplete_filter=TEDxIED&page=1&when=past'"
      ]
     },
     "metadata": {},
     "output_type": "display_data"
    },
    {
     "data": {
      "text/plain": [
       "'https://www.ted.com/tedx/events?autocomplete_filter=TEDxCalStateLA&page=2&when=past'"
      ]
     },
     "metadata": {},
     "output_type": "display_data"
    },
    {
     "data": {
      "text/plain": [
       "'https://www.ted.com/tedx/events?autocomplete_filter=TEDxCorkSalon&page=1&when=past'"
      ]
     },
     "metadata": {},
     "output_type": "display_data"
    },
    {
     "data": {
      "text/plain": [
       "'https://www.ted.com/tedx/events?autocomplete_filter=TEDxConcordiaUPortland&page=1&when=past'"
      ]
     },
     "metadata": {},
     "output_type": "display_data"
    },
    {
     "data": {
      "text/plain": [
       "'https://www.ted.com/tedx/events?autocomplete_filter=TEDxIED&page=2&when=past'"
      ]
     },
     "metadata": {},
     "output_type": "display_data"
    },
    {
     "data": {
      "text/plain": [
       "'https://www.ted.com/tedx/events?autocomplete_filter=TEDxCorkSalon&page=2&when=past'"
      ]
     },
     "metadata": {},
     "output_type": "display_data"
    },
    {
     "data": {
      "text/plain": [
       "'https://www.ted.com/tedx/events?autocomplete_filter=TEDxConcordiaUPortland&page=2&when=past'"
      ]
     },
     "metadata": {},
     "output_type": "display_data"
    },
    {
     "data": {
      "text/plain": [
       "'https://www.ted.com/tedx/events?autocomplete_filter=TEDxSEVAmericanCollege&page=1&when=past'"
      ]
     },
     "metadata": {},
     "output_type": "display_data"
    },
    {
     "data": {
      "text/plain": [
       "'https://www.ted.com/tedx/events?autocomplete_filter=TEDxCalzadaDeLosHeroes&page=1&when=past'"
      ]
     },
     "metadata": {},
     "output_type": "display_data"
    },
    {
     "data": {
      "text/plain": [
       "'https://www.ted.com/tedx/events?autocomplete_filter=TEDxExpressionCollege&page=1&when=past'"
      ]
     },
     "metadata": {},
     "output_type": "display_data"
    },
    {
     "data": {
      "text/plain": [
       "'https://www.ted.com/tedx/events?autocomplete_filter=TEDxSEVAmericanCollege&page=2&when=past'"
      ]
     },
     "metadata": {},
     "output_type": "display_data"
    },
    {
     "data": {
      "text/plain": [
       "'https://www.ted.com/tedx/events?autocomplete_filter=TEDxCalzadaDeLosHeroes&page=2&when=past'"
      ]
     },
     "metadata": {},
     "output_type": "display_data"
    },
    {
     "data": {
      "text/plain": [
       "'https://www.ted.com/tedx/events?autocomplete_filter=TEDxExpressionCollege&page=2&when=past'"
      ]
     },
     "metadata": {},
     "output_type": "display_data"
    },
    {
     "data": {
      "text/plain": [
       "'https://www.ted.com/tedx/events?autocomplete_filter=TEDxFruitvale&page=1&when=past'"
      ]
     },
     "metadata": {},
     "output_type": "display_data"
    },
    {
     "data": {
      "text/plain": [
       "'https://www.ted.com/tedx/events?autocomplete_filter=TEDxElCajonSalon&page=1&when=past'"
      ]
     },
     "metadata": {},
     "output_type": "display_data"
    },
    {
     "data": {
      "text/plain": [
       "'https://www.ted.com/tedx/events?autocomplete_filter=TEDxChampsElyseesED&page=1&when=past'"
      ]
     },
     "metadata": {},
     "output_type": "display_data"
    },
    {
     "data": {
      "text/plain": [
       "'https://www.ted.com/tedx/events?autocomplete_filter=TEDxFruitvale&page=2&when=past'"
      ]
     },
     "metadata": {},
     "output_type": "display_data"
    },
    {
     "data": {
      "text/plain": [
       "'https://www.ted.com/tedx/events?autocomplete_filter=TEDxElCajonSalon&page=2&when=past'"
      ]
     },
     "metadata": {},
     "output_type": "display_data"
    },
    {
     "data": {
      "text/plain": [
       "'https://www.ted.com/tedx/events?autocomplete_filter=TEDxChampsElyseesED&page=2&when=past'"
      ]
     },
     "metadata": {},
     "output_type": "display_data"
    },
    {
     "data": {
      "text/plain": [
       "'https://www.ted.com/tedx/events?autocomplete_filter=TEDxBelfastWomen&page=1&when=past'"
      ]
     },
     "metadata": {},
     "output_type": "display_data"
    },
    {
     "data": {
      "text/plain": [
       "'https://www.ted.com/tedx/events?autocomplete_filter=TEDxSenacCampinas&page=1&when=past'"
      ]
     },
     "metadata": {},
     "output_type": "display_data"
    },
    {
     "data": {
      "text/plain": [
       "'https://www.ted.com/tedx/events?autocomplete_filter=TEDxRedDeer&page=1&when=past'"
      ]
     },
     "metadata": {},
     "output_type": "display_data"
    },
    {
     "data": {
      "text/plain": [
       "'https://www.ted.com/tedx/events?autocomplete_filter=TEDxBelfastWomen&page=2&when=past'"
      ]
     },
     "metadata": {},
     "output_type": "display_data"
    },
    {
     "data": {
      "text/plain": [
       "'https://www.ted.com/tedx/events?autocomplete_filter=TEDxSenacCampinas&page=2&when=past'"
      ]
     },
     "metadata": {},
     "output_type": "display_data"
    },
    {
     "data": {
      "text/plain": [
       "'https://www.ted.com/tedx/events?autocomplete_filter=TEDxRedDeer&page=2&when=past'"
      ]
     },
     "metadata": {},
     "output_type": "display_data"
    },
    {
     "data": {
      "text/plain": [
       "'https://www.ted.com/tedx/events?autocomplete_filter=TEDxAlmendraMedievalSalon&page=1&when=past'"
      ]
     },
     "metadata": {},
     "output_type": "display_data"
    },
    {
     "data": {
      "text/plain": [
       "'https://www.ted.com/tedx/events?autocomplete_filter=TEDxCSDTeachers&page=1&when=past'"
      ]
     },
     "metadata": {},
     "output_type": "display_data"
    },
    {
     "data": {
      "text/plain": [
       "'https://www.ted.com/tedx/events?autocomplete_filter=TEDxNightingaleBamfordSchool&page=1&when=past'"
      ]
     },
     "metadata": {},
     "output_type": "display_data"
    },
    {
     "data": {
      "text/plain": [
       "'https://www.ted.com/tedx/events?autocomplete_filter=TEDxAlmendraMedievalSalon&page=2&when=past'"
      ]
     },
     "metadata": {},
     "output_type": "display_data"
    },
    {
     "data": {
      "text/plain": [
       "'https://www.ted.com/tedx/events?autocomplete_filter=TEDxCSDTeachers&page=2&when=past'"
      ]
     },
     "metadata": {},
     "output_type": "display_data"
    },
    {
     "data": {
      "text/plain": [
       "'https://www.ted.com/tedx/events?autocomplete_filter=TEDxNightingaleBamfordSchool&page=2&when=past'"
      ]
     },
     "metadata": {},
     "output_type": "display_data"
    },
    {
     "data": {
      "text/plain": [
       "'https://www.ted.com/tedx/events?autocomplete_filter=TEDxWindhoek&page=1&when=past'"
      ]
     },
     "metadata": {},
     "output_type": "display_data"
    },
    {
     "data": {
      "text/plain": [
       "'https://www.ted.com/tedx/events?autocomplete_filter=TEDxSanDiegoChange&page=1&when=past'"
      ]
     },
     "metadata": {},
     "output_type": "display_data"
    },
    {
     "data": {
      "text/plain": [
       "'https://www.ted.com/tedx/events?autocomplete_filter=TEDxKingsCollegeLondon&page=1&when=past'"
      ]
     },
     "metadata": {},
     "output_type": "display_data"
    },
    {
     "data": {
      "text/plain": [
       "'https://www.ted.com/tedx/events?autocomplete_filter=TEDxWindhoek&page=2&when=past'"
      ]
     },
     "metadata": {},
     "output_type": "display_data"
    },
    {
     "data": {
      "text/plain": [
       "'https://www.ted.com/tedx/events?autocomplete_filter=TEDxMedellín:Bimal&page=1&when=past'"
      ]
     },
     "metadata": {},
     "output_type": "display_data"
    },
    {
     "data": {
      "text/plain": [
       "'https://www.ted.com/tedx/events?autocomplete_filter=TEDxKingsCollegeLondon&page=2&when=past'"
      ]
     },
     "metadata": {},
     "output_type": "display_data"
    },
    {
     "data": {
      "text/plain": [
       "'https://www.ted.com/tedx/events?autocomplete_filter=TEDxPraçaSantosAndradeED&page=1&when=past'"
      ]
     },
     "metadata": {},
     "output_type": "display_data"
    },
    {
     "data": {
      "text/plain": [
       "'https://www.ted.com/tedx/events?autocomplete_filter=TEDxTezpurUniversity&page=1&when=past'"
      ]
     },
     "metadata": {},
     "output_type": "display_data"
    },
    {
     "data": {
      "text/plain": [
       "'https://www.ted.com/tedx/events?autocomplete_filter=TEDxCanmore&page=1&when=past'"
      ]
     },
     "metadata": {},
     "output_type": "display_data"
    },
    {
     "data": {
      "text/plain": [
       "'https://www.ted.com/tedx/events?autocomplete_filter=TEDxPraçaSantosAndradeED&page=2&when=past'"
      ]
     },
     "metadata": {},
     "output_type": "display_data"
    },
    {
     "data": {
      "text/plain": [
       "'https://www.ted.com/tedx/events?autocomplete_filter=TEDxTezpurUniversity&page=2&when=past'"
      ]
     },
     "metadata": {},
     "output_type": "display_data"
    },
    {
     "data": {
      "text/plain": [
       "'https://www.ted.com/tedx/events?autocomplete_filter=TEDxCanmore&page=2&when=past'"
      ]
     },
     "metadata": {},
     "output_type": "display_data"
    },
    {
     "data": {
      "text/plain": [
       "'https://www.ted.com/tedx/events?autocomplete_filter=TEDxIHECS&page=1&when=past'"
      ]
     },
     "metadata": {},
     "output_type": "display_data"
    },
    {
     "data": {
      "text/plain": [
       "'https://www.ted.com/tedx/events?autocomplete_filter=TEDxYouth@Eroilor&page=1&when=past'"
      ]
     },
     "metadata": {},
     "output_type": "display_data"
    },
    {
     "data": {
      "text/plain": [
       "'https://www.ted.com/tedx/events?autocomplete_filter=TEDxTortola&page=1&when=past'"
      ]
     },
     "metadata": {},
     "output_type": "display_data"
    },
    {
     "data": {
      "text/plain": [
       "'https://www.ted.com/tedx/events?autocomplete_filter=TEDxIHECS&page=2&when=past'"
      ]
     },
     "metadata": {},
     "output_type": "display_data"
    },
    {
     "data": {
      "text/plain": [
       "'https://www.ted.com/tedx/events?autocomplete_filter=TEDxYouth@Eroilor&page=2&when=past'"
      ]
     },
     "metadata": {},
     "output_type": "display_data"
    },
    {
     "data": {
      "text/plain": [
       "'https://www.ted.com/tedx/events?autocomplete_filter=TEDxTortola&page=2&when=past'"
      ]
     },
     "metadata": {},
     "output_type": "display_data"
    },
    {
     "data": {
      "text/plain": [
       "'https://www.ted.com/tedx/events?autocomplete_filter=TEDxYouth@Victoria&page=1&when=past'"
      ]
     },
     "metadata": {},
     "output_type": "display_data"
    },
    {
     "data": {
      "text/plain": [
       "'https://www.ted.com/tedx/events?autocomplete_filter=TEDxSemesteratSea&page=1&when=past'"
      ]
     },
     "metadata": {},
     "output_type": "display_data"
    },
    {
     "data": {
      "text/plain": [
       "'https://www.ted.com/tedx/events?autocomplete_filter=TEDxNYED&page=1&when=past'"
      ]
     },
     "metadata": {},
     "output_type": "display_data"
    },
    {
     "data": {
      "text/plain": [
       "'https://www.ted.com/tedx/events?autocomplete_filter=TEDxYouth@Victoria&page=2&when=past'"
      ]
     },
     "metadata": {},
     "output_type": "display_data"
    },
    {
     "data": {
      "text/plain": [
       "'https://www.ted.com/tedx/events?autocomplete_filter=TEDxSemesteratSea&page=2&when=past'"
      ]
     },
     "metadata": {},
     "output_type": "display_data"
    },
    {
     "data": {
      "text/plain": [
       "'https://www.ted.com/tedx/events?autocomplete_filter=TEDxNYED&page=2&when=past'"
      ]
     },
     "metadata": {},
     "output_type": "display_data"
    },
    {
     "data": {
      "text/plain": [
       "'https://www.ted.com/tedx/events?autocomplete_filter=TEDxYouth@IdahoFalls&page=1&when=past'"
      ]
     },
     "metadata": {},
     "output_type": "display_data"
    },
    {
     "data": {
      "text/plain": [
       "'https://www.ted.com/tedx/events?autocomplete_filter=TEDxMillRiver&page=1&when=past'"
      ]
     },
     "metadata": {},
     "output_type": "display_data"
    },
    {
     "data": {
      "text/plain": [
       "'https://www.ted.com/tedx/events?autocomplete_filter=TEDxIBSPune&page=1&when=past'"
      ]
     },
     "metadata": {},
     "output_type": "display_data"
    },
    {
     "data": {
      "text/plain": [
       "'https://www.ted.com/tedx/events?autocomplete_filter=TEDxMillRiver&page=2&when=past'"
      ]
     },
     "metadata": {},
     "output_type": "display_data"
    },
    {
     "data": {
      "text/plain": [
       "'https://www.ted.com/tedx/events?autocomplete_filter=TEDxYouth@IdahoFalls&page=2&when=past'"
      ]
     },
     "metadata": {},
     "output_type": "display_data"
    },
    {
     "data": {
      "text/plain": [
       "'https://www.ted.com/tedx/events?autocomplete_filter=TEDxIBSPune&page=2&when=past'"
      ]
     },
     "metadata": {},
     "output_type": "display_data"
    },
    {
     "data": {
      "text/plain": [
       "'https://www.ted.com/tedx/events?autocomplete_filter=TEDxMilkenHighSchool&page=1&when=past'"
      ]
     },
     "metadata": {},
     "output_type": "display_data"
    },
    {
     "data": {
      "text/plain": [
       "'https://www.ted.com/tedx/events?autocomplete_filter=TEDxYouthOttawa&page=1&when=past'"
      ]
     },
     "metadata": {},
     "output_type": "display_data"
    },
    {
     "data": {
      "text/plain": [
       "'https://www.ted.com/tedx/events?autocomplete_filter=TEDxConcorde&page=1&when=past'"
      ]
     },
     "metadata": {},
     "output_type": "display_data"
    },
    {
     "data": {
      "text/plain": [
       "'https://www.ted.com/tedx/events?autocomplete_filter=TEDxMilkenHighSchool&page=2&when=past'"
      ]
     },
     "metadata": {},
     "output_type": "display_data"
    },
    {
     "data": {
      "text/plain": [
       "'https://www.ted.com/tedx/events?autocomplete_filter=TEDxYouthOttawa&page=2&when=past'"
      ]
     },
     "metadata": {},
     "output_type": "display_data"
    },
    {
     "data": {
      "text/plain": [
       "'https://www.ted.com/tedx/events?autocomplete_filter=TEDxConcorde&page=2&when=past'"
      ]
     },
     "metadata": {},
     "output_type": "display_data"
    },
    {
     "data": {
      "text/plain": [
       "'https://www.ted.com/tedx/events?autocomplete_filter=TEDxGramercy&page=1&when=past'"
      ]
     },
     "metadata": {},
     "output_type": "display_data"
    },
    {
     "data": {
      "text/plain": [
       "'https://www.ted.com/tedx/events?autocomplete_filter=TEDxSMCC&page=1&when=past'"
      ]
     },
     "metadata": {},
     "output_type": "display_data"
    },
    {
     "data": {
      "text/plain": [
       "'https://www.ted.com/tedx/events?autocomplete_filter=TEDxVoltaRedonda&page=1&when=past'"
      ]
     },
     "metadata": {},
     "output_type": "display_data"
    },
    {
     "data": {
      "text/plain": [
       "'https://www.ted.com/tedx/events?autocomplete_filter=TEDxGramercy&page=2&when=past'"
      ]
     },
     "metadata": {},
     "output_type": "display_data"
    },
    {
     "data": {
      "text/plain": [
       "'https://www.ted.com/tedx/events?autocomplete_filter=TEDxSMCC&page=2&when=past'"
      ]
     },
     "metadata": {},
     "output_type": "display_data"
    },
    {
     "data": {
      "text/plain": [
       "'https://www.ted.com/tedx/events?autocomplete_filter=TEDxVoltaRedonda&page=2&when=past'"
      ]
     },
     "metadata": {},
     "output_type": "display_data"
    },
    {
     "data": {
      "text/plain": [
       "'https://www.ted.com/tedx/events?autocomplete_filter=TEDxSPSU&page=1&when=past'"
      ]
     },
     "metadata": {},
     "output_type": "display_data"
    },
    {
     "data": {
      "text/plain": [
       "'https://www.ted.com/tedx/events?autocomplete_filter=TEDxCamarillo&page=1&when=past'"
      ]
     },
     "metadata": {},
     "output_type": "display_data"
    },
    {
     "data": {
      "text/plain": [
       "'https://www.ted.com/tedx/events?autocomplete_filter=TEDxMaribor&page=1&when=past'"
      ]
     },
     "metadata": {},
     "output_type": "display_data"
    },
    {
     "data": {
      "text/plain": [
       "'https://www.ted.com/tedx/events?autocomplete_filter=TEDxSPSU&page=2&when=past'"
      ]
     },
     "metadata": {},
     "output_type": "display_data"
    },
    {
     "data": {
      "text/plain": [
       "'https://www.ted.com/tedx/events?autocomplete_filter=TEDxCamarillo&page=2&when=past'"
      ]
     },
     "metadata": {},
     "output_type": "display_data"
    },
    {
     "data": {
      "text/plain": [
       "'https://www.ted.com/tedx/events?autocomplete_filter=TEDxMaribor&page=2&when=past'"
      ]
     },
     "metadata": {},
     "output_type": "display_data"
    },
    {
     "data": {
      "text/plain": [
       "'https://www.ted.com/tedx/events?autocomplete_filter=TEDxBeirut&page=1&when=past'"
      ]
     },
     "metadata": {},
     "output_type": "display_data"
    },
    {
     "data": {
      "text/plain": [
       "'https://www.ted.com/tedx/events?autocomplete_filter=TEDxUniversityOfCentralArkansas&page=1&when=past'"
      ]
     },
     "metadata": {},
     "output_type": "display_data"
    },
    {
     "data": {
      "text/plain": [
       "'https://www.ted.com/tedx/events?autocomplete_filter=TEDxWhitechapel&page=1&when=past'"
      ]
     },
     "metadata": {},
     "output_type": "display_data"
    },
    {
     "data": {
      "text/plain": [
       "'https://www.ted.com/tedx/events?autocomplete_filter=TEDxBeirut&page=2&when=past'"
      ]
     },
     "metadata": {},
     "output_type": "display_data"
    },
    {
     "data": {
      "text/plain": [
       "'https://www.ted.com/tedx/events?autocomplete_filter=TEDxWhitechapel&page=2&when=past'"
      ]
     },
     "metadata": {},
     "output_type": "display_data"
    },
    {
     "data": {
      "text/plain": [
       "'https://www.ted.com/tedx/events?autocomplete_filter=TEDxUniversityOfCentralArkansas&page=2&when=past'"
      ]
     },
     "metadata": {},
     "output_type": "display_data"
    },
    {
     "data": {
      "text/plain": [
       "'https://www.ted.com/tedx/events?autocomplete_filter=TEDxLyon&page=1&when=past'"
      ]
     },
     "metadata": {},
     "output_type": "display_data"
    },
    {
     "data": {
      "text/plain": [
       "'https://www.ted.com/tedx/events?autocomplete_filter=TEDxevent&page=1&when=past'"
      ]
     },
     "metadata": {},
     "output_type": "display_data"
    },
    {
     "data": {
      "text/plain": [
       "'https://www.ted.com/tedx/events?autocomplete_filter=TEDxHGSE&page=1&when=past'"
      ]
     },
     "metadata": {},
     "output_type": "display_data"
    },
    {
     "data": {
      "text/plain": [
       "'https://www.ted.com/tedx/events?autocomplete_filter=TEDxLyon&page=2&when=past'"
      ]
     },
     "metadata": {},
     "output_type": "display_data"
    },
    {
     "data": {
      "text/plain": [
       "'https://www.ted.com/tedx/events?autocomplete_filter=TEDxCCS&page=1&when=past'"
      ]
     },
     "metadata": {},
     "output_type": "display_data"
    },
    {
     "data": {
      "text/plain": [
       "'https://www.ted.com/tedx/events?autocomplete_filter=TEDxHayward&page=1&when=past'"
      ]
     },
     "metadata": {},
     "output_type": "display_data"
    },
    {
     "data": {
      "text/plain": [
       "'https://www.ted.com/tedx/events?autocomplete_filter=TEDxHGSE&page=2&when=past'"
      ]
     },
     "metadata": {},
     "output_type": "display_data"
    },
    {
     "data": {
      "text/plain": [
       "'https://www.ted.com/tedx/events?autocomplete_filter=TEDxCCS&page=2&when=past'"
      ]
     },
     "metadata": {},
     "output_type": "display_data"
    },
    {
     "data": {
      "text/plain": [
       "'https://www.ted.com/tedx/events?autocomplete_filter=TEDxYouth@DasaHigh&page=1&when=past'"
      ]
     },
     "metadata": {},
     "output_type": "display_data"
    },
    {
     "data": {
      "text/plain": [
       "'https://www.ted.com/tedx/events?autocomplete_filter=TEDxHayward&page=2&when=past'"
      ]
     },
     "metadata": {},
     "output_type": "display_data"
    },
    {
     "data": {
      "text/plain": [
       "'https://www.ted.com/tedx/events?autocomplete_filter=TEDxIITMadras&page=1&when=past'"
      ]
     },
     "metadata": {},
     "output_type": "display_data"
    },
    {
     "data": {
      "text/plain": [
       "'https://www.ted.com/tedx/events?autocomplete_filter=TEDxCollegeofSaintBenilde&page=1&when=past'"
      ]
     },
     "metadata": {},
     "output_type": "display_data"
    },
    {
     "data": {
      "text/plain": [
       "'https://www.ted.com/tedx/events?autocomplete_filter=TEDxYouth@DasaHigh&page=2&when=past'"
      ]
     },
     "metadata": {},
     "output_type": "display_data"
    },
    {
     "data": {
      "text/plain": [
       "'https://www.ted.com/tedx/events?autocomplete_filter=TEDxIITMadras&page=2&when=past'"
      ]
     },
     "metadata": {},
     "output_type": "display_data"
    },
    {
     "data": {
      "text/plain": [
       "'https://www.ted.com/tedx/events?autocomplete_filter=TEDxTerryTalks&page=1&when=past'"
      ]
     },
     "metadata": {},
     "output_type": "display_data"
    },
    {
     "data": {
      "text/plain": [
       "'https://www.ted.com/tedx/events?autocomplete_filter=TEDxCollegeofSaintBenilde&page=2&when=past'"
      ]
     },
     "metadata": {},
     "output_type": "display_data"
    },
    {
     "data": {
      "text/plain": [
       "'https://www.ted.com/tedx/events?autocomplete_filter=TEDxLaCarolina&page=1&when=past'"
      ]
     },
     "metadata": {},
     "output_type": "display_data"
    },
    {
     "data": {
      "text/plain": [
       "'https://www.ted.com/tedx/events?autocomplete_filter=TEDxCranbrookSchools&page=1&when=past'"
      ]
     },
     "metadata": {},
     "output_type": "display_data"
    },
    {
     "data": {
      "text/plain": [
       "'https://www.ted.com/tedx/events?autocomplete_filter=TEDxTerryTalks&page=2&when=past'"
      ]
     },
     "metadata": {},
     "output_type": "display_data"
    },
    {
     "data": {
      "text/plain": [
       "'https://www.ted.com/tedx/events?autocomplete_filter=TEDxLaCarolina&page=2&when=past'"
      ]
     },
     "metadata": {},
     "output_type": "display_data"
    },
    {
     "data": {
      "text/plain": [
       "'https://www.ted.com/tedx/events?autocomplete_filter=TEDxVer-o-Peso&page=1&when=past'"
      ]
     },
     "metadata": {},
     "output_type": "display_data"
    },
    {
     "data": {
      "text/plain": [
       "'https://www.ted.com/tedx/events?autocomplete_filter=TEDxCranbrookSchools&page=2&when=past'"
      ]
     },
     "metadata": {},
     "output_type": "display_data"
    },
    {
     "data": {
      "text/plain": [
       "'https://www.ted.com/tedx/events?autocomplete_filter=TEDxInstitutLeRosey&page=1&when=past'"
      ]
     },
     "metadata": {},
     "output_type": "display_data"
    },
    {
     "data": {
      "text/plain": [
       "'https://www.ted.com/tedx/events?autocomplete_filter=TEDxLeuven&page=1&when=past'"
      ]
     },
     "metadata": {},
     "output_type": "display_data"
    },
    {
     "data": {
      "text/plain": [
       "'https://www.ted.com/tedx/events?autocomplete_filter=TEDxVer-o-Peso&page=2&when=past'"
      ]
     },
     "metadata": {},
     "output_type": "display_data"
    },
    {
     "data": {
      "text/plain": [
       "'https://www.ted.com/tedx/events?autocomplete_filter=TEDxInstitutLeRosey&page=2&when=past'"
      ]
     },
     "metadata": {},
     "output_type": "display_data"
    },
    {
     "data": {
      "text/plain": [
       "'https://www.ted.com/tedx/events?autocomplete_filter=TEDxSiliconAlley,&page=1&when=past'"
      ]
     },
     "metadata": {},
     "output_type": "display_data"
    },
    {
     "data": {
      "text/plain": [
       "'https://www.ted.com/tedx/events?autocomplete_filter=TEDxLeuven&page=2&when=past'"
      ]
     },
     "metadata": {},
     "output_type": "display_data"
    },
    {
     "data": {
      "text/plain": [
       "'https://www.ted.com/tedx/events?autocomplete_filter=TEDxMonteCarlo&page=1&when=past'"
      ]
     },
     "metadata": {},
     "output_type": "display_data"
    },
    {
     "data": {
      "text/plain": [
       "'https://www.ted.com/tedx/events?autocomplete_filter=TEDxCollegeMound&page=1&when=past'"
      ]
     },
     "metadata": {},
     "output_type": "display_data"
    },
    {
     "data": {
      "text/plain": [
       "'https://www.ted.com/tedx/events?autocomplete_filter=TEDxSheffield&page=1&when=past'"
      ]
     },
     "metadata": {},
     "output_type": "display_data"
    },
    {
     "data": {
      "text/plain": [
       "'https://www.ted.com/tedx/events?autocomplete_filter=TEDxSheffield&page=2&when=past'"
      ]
     },
     "metadata": {},
     "output_type": "display_data"
    },
    {
     "data": {
      "text/plain": [
       "'https://www.ted.com/tedx/events?autocomplete_filter=TEDxMonteCarlo&page=2&when=past'"
      ]
     },
     "metadata": {},
     "output_type": "display_data"
    },
    {
     "data": {
      "text/plain": [
       "'https://www.ted.com/tedx/events?autocomplete_filter=TEDxCollegeMound&page=2&when=past'"
      ]
     },
     "metadata": {},
     "output_type": "display_data"
    },
    {
     "data": {
      "text/plain": [
       "'https://www.ted.com/tedx/events?autocomplete_filter=TEDxUCL&page=1&when=past'"
      ]
     },
     "metadata": {},
     "output_type": "display_data"
    },
    {
     "data": {
      "text/plain": [
       "'https://www.ted.com/tedx/events?autocomplete_filter=TEDxMumbai&page=1&when=past'"
      ]
     },
     "metadata": {},
     "output_type": "display_data"
    },
    {
     "data": {
      "text/plain": [
       "'https://www.ted.com/tedx/events?autocomplete_filter=TEDxYouth@MDGH&page=1&when=past'"
      ]
     },
     "metadata": {},
     "output_type": "display_data"
    },
    {
     "data": {
      "text/plain": [
       "'https://www.ted.com/tedx/events?autocomplete_filter=TEDxMumbai&page=2&when=past'"
      ]
     },
     "metadata": {},
     "output_type": "display_data"
    },
    {
     "data": {
      "text/plain": [
       "'https://www.ted.com/tedx/events?autocomplete_filter=TEDxYouth@MDGH&page=2&when=past'"
      ]
     },
     "metadata": {},
     "output_type": "display_data"
    },
    {
     "data": {
      "text/plain": [
       "'https://www.ted.com/tedx/events?autocomplete_filter=TEDxUCL&page=2&when=past'"
      ]
     },
     "metadata": {},
     "output_type": "display_data"
    },
    {
     "data": {
      "text/plain": [
       "'https://www.ted.com/tedx/events?autocomplete_filter=TEDxGuadalajala&page=1&when=past'"
      ]
     },
     "metadata": {},
     "output_type": "display_data"
    },
    {
     "data": {
      "text/plain": [
       "'https://www.ted.com/tedx/events?autocomplete_filter=TEDxYouth@HamptonCourtHouse&page=1&when=past'"
      ]
     },
     "metadata": {},
     "output_type": "display_data"
    },
    {
     "data": {
      "text/plain": [
       "'https://www.ted.com/tedx/events?autocomplete_filter=TEDxManchesterVillage&page=1&when=past'"
      ]
     },
     "metadata": {},
     "output_type": "display_data"
    },
    {
     "data": {
      "text/plain": [
       "'https://www.ted.com/tedx/events?autocomplete_filter=TEDxThaparUniversity&page=1&when=past'"
      ]
     },
     "metadata": {},
     "output_type": "display_data"
    },
    {
     "data": {
      "text/plain": [
       "'https://www.ted.com/tedx/events?autocomplete_filter=TEDxThaparUniversity&page=2&when=past'"
      ]
     },
     "metadata": {},
     "output_type": "display_data"
    },
    {
     "data": {
      "text/plain": [
       "'https://www.ted.com/tedx/events?autocomplete_filter=TEDxManchesterVillage&page=2&when=past'"
      ]
     },
     "metadata": {},
     "output_type": "display_data"
    },
    {
     "data": {
      "text/plain": [
       "'https://www.ted.com/tedx/events?autocomplete_filter=TEDxYouth@HamptonCourtHouse&page=2&when=past'"
      ]
     },
     "metadata": {},
     "output_type": "display_data"
    },
    {
     "data": {
      "text/plain": [
       "'https://www.ted.com/tedx/events?autocomplete_filter=TEDxEcoleHôtelièreLausanne&page=1&when=past'"
      ]
     },
     "metadata": {},
     "output_type": "display_data"
    },
    {
     "data": {
      "text/plain": [
       "'https://www.ted.com/tedx/events?autocomplete_filter=TEDxRíodelaPlataED&page=1&when=past'"
      ]
     },
     "metadata": {},
     "output_type": "display_data"
    },
    {
     "data": {
      "text/plain": [
       "'https://www.ted.com/tedx/events?autocomplete_filter=TEDxBaDinh&page=1&when=past'"
      ]
     },
     "metadata": {},
     "output_type": "display_data"
    },
    {
     "data": {
      "text/plain": [
       "'https://www.ted.com/tedx/events?autocomplete_filter=TEDxEcoleHôtelièreLausanne&page=2&when=past'"
      ]
     },
     "metadata": {},
     "output_type": "display_data"
    },
    {
     "data": {
      "text/plain": [
       "'https://www.ted.com/tedx/events?autocomplete_filter=TEDxRíodelaPlataED&page=2&when=past'"
      ]
     },
     "metadata": {},
     "output_type": "display_data"
    },
    {
     "data": {
      "text/plain": [
       "'https://www.ted.com/tedx/events?autocomplete_filter=TEDxBaDinh&page=2&when=past'"
      ]
     },
     "metadata": {},
     "output_type": "display_data"
    },
    {
     "data": {
      "text/plain": [
       "'https://www.ted.com/tedx/events?autocomplete_filter=TEDxÖstersund&page=1&when=past'"
      ]
     },
     "metadata": {},
     "output_type": "display_data"
    },
    {
     "data": {
      "text/plain": [
       "'https://www.ted.com/tedx/events?autocomplete_filter=TEDxUFRGS&page=1&when=past'"
      ]
     },
     "metadata": {},
     "output_type": "display_data"
    },
    {
     "data": {
      "text/plain": [
       "'https://www.ted.com/tedx/events?autocomplete_filter=TEDxKoçUniversity&page=1&when=past'"
      ]
     },
     "metadata": {},
     "output_type": "display_data"
    },
    {
     "data": {
      "text/plain": [
       "'https://www.ted.com/tedx/events?autocomplete_filter=TEDxÖstersund&page=2&when=past'"
      ]
     },
     "metadata": {},
     "output_type": "display_data"
    },
    {
     "data": {
      "text/plain": [
       "'https://www.ted.com/tedx/events?autocomplete_filter=TEDxUFRGS&page=2&when=past'"
      ]
     },
     "metadata": {},
     "output_type": "display_data"
    },
    {
     "data": {
      "text/plain": [
       "'https://www.ted.com/tedx/events?autocomplete_filter=TEDxKoçUniversity&page=2&when=past'"
      ]
     },
     "metadata": {},
     "output_type": "display_data"
    },
    {
     "data": {
      "text/plain": [
       "'https://www.ted.com/tedx/events?autocomplete_filter=TEDxAssisi&page=1&when=past'"
      ]
     },
     "metadata": {},
     "output_type": "display_data"
    },
    {
     "data": {
      "text/plain": [
       "'https://www.ted.com/tedx/events?autocomplete_filter=TEDxBrno&page=1&when=past'"
      ]
     },
     "metadata": {},
     "output_type": "display_data"
    },
    {
     "data": {
      "text/plain": [
       "'https://www.ted.com/tedx/events?autocomplete_filter=TEDxYouth@Clarkston&page=1&when=past'"
      ]
     },
     "metadata": {},
     "output_type": "display_data"
    },
    {
     "data": {
      "text/plain": [
       "'https://www.ted.com/tedx/events?autocomplete_filter=TEDxAssisi&page=2&when=past'"
      ]
     },
     "metadata": {},
     "output_type": "display_data"
    },
    {
     "data": {
      "text/plain": [
       "'https://www.ted.com/tedx/events?autocomplete_filter=TEDxBrno&page=2&when=past'"
      ]
     },
     "metadata": {},
     "output_type": "display_data"
    },
    {
     "data": {
      "text/plain": [
       "'https://www.ted.com/tedx/events?autocomplete_filter=TEDxBranksomeHall&page=1&when=past'"
      ]
     },
     "metadata": {},
     "output_type": "display_data"
    },
    {
     "data": {
      "text/plain": [
       "'https://www.ted.com/tedx/events?autocomplete_filter=TEDxYouth@Clarkston&page=2&when=past'"
      ]
     },
     "metadata": {},
     "output_type": "display_data"
    },
    {
     "data": {
      "text/plain": [
       "'https://www.ted.com/tedx/events?autocomplete_filter=TEDxSIM&page=1&when=past'"
      ]
     },
     "metadata": {},
     "output_type": "display_data"
    },
    {
     "data": {
      "text/plain": [
       "'https://www.ted.com/tedx/events?autocomplete_filter=TEDxLeadershipPittsburgh&page=1&when=past'"
      ]
     },
     "metadata": {},
     "output_type": "display_data"
    },
    {
     "data": {
      "text/plain": [
       "'https://www.ted.com/tedx/events?autocomplete_filter=TEDxBranksomeHall&page=2&when=past'"
      ]
     },
     "metadata": {},
     "output_type": "display_data"
    },
    {
     "data": {
      "text/plain": [
       "'https://www.ted.com/tedx/events?autocomplete_filter=TEDxSIM&page=2&when=past'"
      ]
     },
     "metadata": {},
     "output_type": "display_data"
    },
    {
     "data": {
      "text/plain": [
       "'https://www.ted.com/tedx/events?autocomplete_filter=TEDxWenatchee&page=1&when=past'"
      ]
     },
     "metadata": {},
     "output_type": "display_data"
    },
    {
     "data": {
      "text/plain": [
       "'https://www.ted.com/tedx/events?autocomplete_filter=TEDxCMUQatar&page=1&when=past'"
      ]
     },
     "metadata": {},
     "output_type": "display_data"
    },
    {
     "data": {
      "text/plain": [
       "'https://www.ted.com/tedx/events?autocomplete_filter=TEDxMileHighSalon&page=1&when=past'"
      ]
     },
     "metadata": {},
     "output_type": "display_data"
    },
    {
     "data": {
      "text/plain": [
       "'https://www.ted.com/tedx/events?autocomplete_filter=TEDxCMUQatar&page=2&when=past'"
      ]
     },
     "metadata": {},
     "output_type": "display_data"
    },
    {
     "data": {
      "text/plain": [
       "'https://www.ted.com/tedx/events?autocomplete_filter=TEDxWenatchee&page=2&when=past'"
      ]
     },
     "metadata": {},
     "output_type": "display_data"
    },
    {
     "data": {
      "text/plain": [
       "'https://www.ted.com/tedx/events?autocomplete_filter=TEDxMileHighSalon&page=2&when=past'"
      ]
     },
     "metadata": {},
     "output_type": "display_data"
    },
    {
     "data": {
      "text/plain": [
       "'https://www.ted.com/tedx/events?autocomplete_filter=TEDxBrownUniversity&page=1&when=past'"
      ]
     },
     "metadata": {},
     "output_type": "display_data"
    },
    {
     "data": {
      "text/plain": [
       "'https://www.ted.com/tedx/events?autocomplete_filter=TEDxWestIslandSchool&page=1&when=past'"
      ]
     },
     "metadata": {},
     "output_type": "display_data"
    },
    {
     "data": {
      "text/plain": [
       "'https://www.ted.com/tedx/events?autocomplete_filter=TEDxHoboken&page=1&when=past'"
      ]
     },
     "metadata": {},
     "output_type": "display_data"
    },
    {
     "data": {
      "text/plain": [
       "'https://www.ted.com/tedx/events?autocomplete_filter=TEDxWestIslandSchool&page=2&when=past'"
      ]
     },
     "metadata": {},
     "output_type": "display_data"
    },
    {
     "data": {
      "text/plain": [
       "'https://www.ted.com/tedx/events?autocomplete_filter=TEDxBrownUniversity&page=2&when=past'"
      ]
     },
     "metadata": {},
     "output_type": "display_data"
    },
    {
     "data": {
      "text/plain": [
       "'https://www.ted.com/tedx/events?autocomplete_filter=TEDxTurku&page=1&when=past'"
      ]
     },
     "metadata": {},
     "output_type": "display_data"
    },
    {
     "data": {
      "text/plain": [
       "'https://www.ted.com/tedx/events?autocomplete_filter=TEDxHoboken&page=2&when=past'"
      ]
     },
     "metadata": {},
     "output_type": "display_data"
    },
    {
     "data": {
      "text/plain": [
       "'https://www.ted.com/tedx/events?autocomplete_filter=TEDxHighTechHighSchool&page=1&when=past'"
      ]
     },
     "metadata": {},
     "output_type": "display_data"
    },
    {
     "data": {
      "text/plain": [
       "\"https://www.ted.com/tedx/events?autocomplete_filter=TEDxHa'pennyBridge&page=1&when=past\""
      ]
     },
     "metadata": {},
     "output_type": "display_data"
    },
    {
     "data": {
      "text/plain": [
       "'https://www.ted.com/tedx/events?autocomplete_filter=TEDxTurku&page=2&when=past'"
      ]
     },
     "metadata": {},
     "output_type": "display_data"
    },
    {
     "data": {
      "text/plain": [
       "'https://www.ted.com/tedx/events?autocomplete_filter=TEDxHighTechHighSchool&page=2&when=past'"
      ]
     },
     "metadata": {},
     "output_type": "display_data"
    },
    {
     "data": {
      "text/plain": [
       "'https://www.ted.com/tedx/events?autocomplete_filter=TEDxAmazonia&page=1&when=past'"
      ]
     },
     "metadata": {},
     "output_type": "display_data"
    },
    {
     "data": {
      "text/plain": [
       "\"https://www.ted.com/tedx/events?autocomplete_filter=TEDxHa'pennyBridge&page=2&when=past\""
      ]
     },
     "metadata": {},
     "output_type": "display_data"
    },
    {
     "data": {
      "text/plain": [
       "'https://www.ted.com/tedx/events?autocomplete_filter=TEDxDublin&page=1&when=past'"
      ]
     },
     "metadata": {},
     "output_type": "display_data"
    },
    {
     "data": {
      "text/plain": [
       "'https://www.ted.com/tedx/events?autocomplete_filter=TEDxTuebingen&page=1&when=past'"
      ]
     },
     "metadata": {},
     "output_type": "display_data"
    },
    {
     "data": {
      "text/plain": [
       "'https://www.ted.com/tedx/events?autocomplete_filter=TEDxAmazonia&page=2&when=past'"
      ]
     },
     "metadata": {},
     "output_type": "display_data"
    },
    {
     "data": {
      "text/plain": [
       "'https://www.ted.com/tedx/events?autocomplete_filter=TEDxDublin&page=2&when=past'"
      ]
     },
     "metadata": {},
     "output_type": "display_data"
    },
    {
     "data": {
      "text/plain": [
       "'https://www.ted.com/tedx/events?autocomplete_filter=TEDxFigueiroDosVinhos&page=1&when=past'"
      ]
     },
     "metadata": {},
     "output_type": "display_data"
    },
    {
     "data": {
      "text/plain": [
       "'https://www.ted.com/tedx/events?autocomplete_filter=TEDxCIT&page=1&when=past'"
      ]
     },
     "metadata": {},
     "output_type": "display_data"
    },
    {
     "data": {
      "text/plain": [
       "'https://www.ted.com/tedx/events?autocomplete_filter=TEDxTuebingen&page=2&when=past'"
      ]
     },
     "metadata": {},
     "output_type": "display_data"
    },
    {
     "data": {
      "text/plain": [
       "'https://www.ted.com/tedx/events?autocomplete_filter=TEDxSaltRock&page=1&when=past'"
      ]
     },
     "metadata": {},
     "output_type": "display_data"
    },
    {
     "data": {
      "text/plain": [
       "'https://www.ted.com/tedx/events?autocomplete_filter=TEDxFigueiroDosVinhos&page=2&when=past'"
      ]
     },
     "metadata": {},
     "output_type": "display_data"
    },
    {
     "data": {
      "text/plain": [
       "'https://www.ted.com/tedx/events?autocomplete_filter=TEDxCIT&page=2&when=past'"
      ]
     },
     "metadata": {},
     "output_type": "display_data"
    },
    {
     "data": {
      "text/plain": [
       "'https://www.ted.com/tedx/events?autocomplete_filter=TEDxModulUniversity&page=1&when=past'"
      ]
     },
     "metadata": {},
     "output_type": "display_data"
    },
    {
     "data": {
      "text/plain": [
       "'https://www.ted.com/tedx/events?autocomplete_filter=TEDxSaltRock&page=2&when=past'"
      ]
     },
     "metadata": {},
     "output_type": "display_data"
    },
    {
     "data": {
      "text/plain": [
       "'https://www.ted.com/tedx/events?autocomplete_filter=TEDxDumbo&page=1&when=past'"
      ]
     },
     "metadata": {},
     "output_type": "display_data"
    },
    {
     "data": {
      "text/plain": [
       "'https://www.ted.com/tedx/events?autocomplete_filter=TEDxModulUniversity&page=2&when=past'"
      ]
     },
     "metadata": {},
     "output_type": "display_data"
    },
    {
     "data": {
      "text/plain": [
       "'https://www.ted.com/tedx/events?autocomplete_filter=TEDxCIT&page=3&when=past'"
      ]
     },
     "metadata": {},
     "output_type": "display_data"
    },
    {
     "data": {
      "text/plain": [
       "'https://www.ted.com/tedx/events?autocomplete_filter=TEDxDumbo&page=2&when=past'"
      ]
     },
     "metadata": {},
     "output_type": "display_data"
    },
    {
     "data": {
      "text/plain": [
       "'https://www.ted.com/tedx/events?autocomplete_filter=TEDxKish&page=1&when=past'"
      ]
     },
     "metadata": {},
     "output_type": "display_data"
    },
    {
     "data": {
      "text/plain": [
       "'https://www.ted.com/tedx/events?autocomplete_filter=TEDxYouth@MITVGWS&page=1&when=past'"
      ]
     },
     "metadata": {},
     "output_type": "display_data"
    },
    {
     "data": {
      "text/plain": [
       "'https://www.ted.com/tedx/events?autocomplete_filter=TEDxKish&page=2&when=past'"
      ]
     },
     "metadata": {},
     "output_type": "display_data"
    },
    {
     "data": {
      "text/plain": [
       "'https://www.ted.com/tedx/events?autocomplete_filter=TEDxCIT&page=4&when=past'"
      ]
     },
     "metadata": {},
     "output_type": "display_data"
    },
    {
     "data": {
      "text/plain": [
       "'https://www.ted.com/tedx/events?autocomplete_filter=TEDxYouth@MITVGWS&page=2&when=past'"
      ]
     },
     "metadata": {},
     "output_type": "display_data"
    },
    {
     "data": {
      "text/plain": [
       "'https://www.ted.com/tedx/events?autocomplete_filter=TEDxBhilwara&page=1&when=past'"
      ]
     },
     "metadata": {},
     "output_type": "display_data"
    },
    {
     "data": {
      "text/plain": [
       "'https://www.ted.com/tedx/events?autocomplete_filter=TEDxElMenzahWomen&page=1&when=past'"
      ]
     },
     "metadata": {},
     "output_type": "display_data"
    },
    {
     "data": {
      "text/plain": [
       "'https://www.ted.com/tedx/events?autocomplete_filter=TEDxBhilwara&page=2&when=past'"
      ]
     },
     "metadata": {},
     "output_type": "display_data"
    },
    {
     "data": {
      "text/plain": [
       "'https://www.ted.com/tedx/events?autocomplete_filter=TEDxCIT&page=5&when=past'"
      ]
     },
     "metadata": {},
     "output_type": "display_data"
    },
    {
     "data": {
      "text/plain": [
       "'https://www.ted.com/tedx/events?autocomplete_filter=TEDxElMenzahWomen&page=2&when=past'"
      ]
     },
     "metadata": {},
     "output_type": "display_data"
    },
    {
     "data": {
      "text/plain": [
       "'https://www.ted.com/tedx/events?autocomplete_filter=TEDxYouth@AlBarsha&page=1&when=past'"
      ]
     },
     "metadata": {},
     "output_type": "display_data"
    },
    {
     "data": {
      "text/plain": [
       "'https://www.ted.com/tedx/events?autocomplete_filter=TEDxAtalayaST&page=1&when=past'"
      ]
     },
     "metadata": {},
     "output_type": "display_data"
    },
    {
     "data": {
      "text/plain": [
       "'https://www.ted.com/tedx/events?autocomplete_filter=TEDxCIT&page=6&when=past'"
      ]
     },
     "metadata": {},
     "output_type": "display_data"
    },
    {
     "data": {
      "text/plain": [
       "'https://www.ted.com/tedx/events?autocomplete_filter=TEDxYouth@AlBarsha&page=2&when=past'"
      ]
     },
     "metadata": {},
     "output_type": "display_data"
    },
    {
     "data": {
      "text/plain": [
       "'https://www.ted.com/tedx/events?autocomplete_filter=TEDxAtalayaST&page=2&when=past'"
      ]
     },
     "metadata": {},
     "output_type": "display_data"
    },
    {
     "data": {
      "text/plain": [
       "'https://www.ted.com/tedx/events?autocomplete_filter=TEDxCIT&page=7&when=past'"
      ]
     },
     "metadata": {},
     "output_type": "display_data"
    },
    {
     "data": {
      "text/plain": [
       "'https://www.ted.com/tedx/events?autocomplete_filter=TEDxScottAFB&page=1&when=past'"
      ]
     },
     "metadata": {},
     "output_type": "display_data"
    },
    {
     "data": {
      "text/plain": [
       "'https://www.ted.com/tedx/events?autocomplete_filter=TEDxLongDock&page=1&when=past'"
      ]
     },
     "metadata": {},
     "output_type": "display_data"
    },
    {
     "data": {
      "text/plain": [
       "'https://www.ted.com/tedx/events?autocomplete_filter=TEDxLivermore&page=1&when=past'"
      ]
     },
     "metadata": {},
     "output_type": "display_data"
    },
    {
     "data": {
      "text/plain": [
       "'https://www.ted.com/tedx/events?autocomplete_filter=TEDxScottAFB&page=2&when=past'"
      ]
     },
     "metadata": {},
     "output_type": "display_data"
    },
    {
     "data": {
      "text/plain": [
       "'https://www.ted.com/tedx/events?autocomplete_filter=TEDxLongDock&page=2&when=past'"
      ]
     },
     "metadata": {},
     "output_type": "display_data"
    },
    {
     "data": {
      "text/plain": [
       "'https://www.ted.com/tedx/events?autocomplete_filter=TEDxLivermore&page=2&when=past'"
      ]
     },
     "metadata": {},
     "output_type": "display_data"
    },
    {
     "data": {
      "text/plain": [
       "'https://www.ted.com/tedx/events?autocomplete_filter=TEDxTempe&page=1&when=past'"
      ]
     },
     "metadata": {},
     "output_type": "display_data"
    },
    {
     "data": {
      "text/plain": [
       "'https://www.ted.com/tedx/events?autocomplete_filter=TEDxSingapore&page=1&when=past'"
      ]
     },
     "metadata": {},
     "output_type": "display_data"
    },
    {
     "data": {
      "text/plain": [
       "'https://www.ted.com/tedx/events?autocomplete_filter=TEDxEBS&page=1&when=past'"
      ]
     },
     "metadata": {},
     "output_type": "display_data"
    },
    {
     "data": {
      "text/plain": [
       "'https://www.ted.com/tedx/events?autocomplete_filter=TEDxTempe&page=2&when=past'"
      ]
     },
     "metadata": {},
     "output_type": "display_data"
    },
    {
     "data": {
      "text/plain": [
       "'https://www.ted.com/tedx/events?autocomplete_filter=TEDxEBS&page=2&when=past'"
      ]
     },
     "metadata": {},
     "output_type": "display_data"
    },
    {
     "data": {
      "text/plain": [
       "'https://www.ted.com/tedx/events?autocomplete_filter=TEDxSingapore&page=2&when=past'"
      ]
     },
     "metadata": {},
     "output_type": "display_data"
    },
    {
     "data": {
      "text/plain": [
       "'https://www.ted.com/tedx/events?autocomplete_filter=TEDxTahoeCity&page=1&when=past'"
      ]
     },
     "metadata": {},
     "output_type": "display_data"
    },
    {
     "data": {
      "text/plain": [
       "'https://www.ted.com/tedx/events?autocomplete_filter=TEDxAhmedabad&page=1&when=past'"
      ]
     },
     "metadata": {},
     "output_type": "display_data"
    },
    {
     "data": {
      "text/plain": [
       "'https://www.ted.com/tedx/events?autocomplete_filter=TEDxEducationCity&page=1&when=past'"
      ]
     },
     "metadata": {},
     "output_type": "display_data"
    },
    {
     "data": {
      "text/plain": [
       "'https://www.ted.com/tedx/events?autocomplete_filter=TEDxTahoeCity&page=2&when=past'"
      ]
     },
     "metadata": {},
     "output_type": "display_data"
    },
    {
     "data": {
      "text/plain": [
       "'https://www.ted.com/tedx/events?autocomplete_filter=TEDxEducationCity&page=2&when=past'"
      ]
     },
     "metadata": {},
     "output_type": "display_data"
    },
    {
     "data": {
      "text/plain": [
       "'https://www.ted.com/tedx/events?autocomplete_filter=TEDxAhmedabad&page=2&when=past'"
      ]
     },
     "metadata": {},
     "output_type": "display_data"
    },
    {
     "data": {
      "text/plain": [
       "'https://www.ted.com/tedx/events?autocomplete_filter=TEDxLaurentianU&page=1&when=past'"
      ]
     },
     "metadata": {},
     "output_type": "display_data"
    },
    {
     "data": {
      "text/plain": [
       "'https://www.ted.com/tedx/events?autocomplete_filter=TEDxVillageGate&page=1&when=past'"
      ]
     },
     "metadata": {},
     "output_type": "display_data"
    },
    {
     "data": {
      "text/plain": [
       "'https://www.ted.com/tedx/events?autocomplete_filter=TEDxWestFurongRoad&page=1&when=past'"
      ]
     },
     "metadata": {},
     "output_type": "display_data"
    },
    {
     "data": {
      "text/plain": [
       "'https://www.ted.com/tedx/events?autocomplete_filter=TEDxLaurentianU&page=2&when=past'"
      ]
     },
     "metadata": {},
     "output_type": "display_data"
    },
    {
     "data": {
      "text/plain": [
       "'https://www.ted.com/tedx/events?autocomplete_filter=TEDxVillageGate&page=2&when=past'"
      ]
     },
     "metadata": {},
     "output_type": "display_data"
    },
    {
     "data": {
      "text/plain": [
       "'https://www.ted.com/tedx/events?autocomplete_filter=TEDxWestFurongRoad&page=2&when=past'"
      ]
     },
     "metadata": {},
     "output_type": "display_data"
    },
    {
     "data": {
      "text/plain": [
       "'https://www.ted.com/tedx/events?autocomplete_filter=TEDxNantes&page=1&when=past'"
      ]
     },
     "metadata": {},
     "output_type": "display_data"
    },
    {
     "data": {
      "text/plain": [
       "'https://www.ted.com/tedx/events?autocomplete_filter=TEDxRoncade&page=1&when=past'"
      ]
     },
     "metadata": {},
     "output_type": "display_data"
    },
    {
     "data": {
      "text/plain": [
       "'https://www.ted.com/tedx/events?autocomplete_filter=TEDxArezzo&page=1&when=past'"
      ]
     },
     "metadata": {},
     "output_type": "display_data"
    },
    {
     "data": {
      "text/plain": [
       "'https://www.ted.com/tedx/events?autocomplete_filter=TEDxNantes&page=2&when=past'"
      ]
     },
     "metadata": {},
     "output_type": "display_data"
    },
    {
     "data": {
      "text/plain": [
       "'https://www.ted.com/tedx/events?autocomplete_filter=TEDxRoncade&page=2&when=past'"
      ]
     },
     "metadata": {},
     "output_type": "display_data"
    },
    {
     "data": {
      "text/plain": [
       "'https://www.ted.com/tedx/events?autocomplete_filter=TEDxArezzo&page=2&when=past'"
      ]
     },
     "metadata": {},
     "output_type": "display_data"
    },
    {
     "data": {
      "text/plain": [
       "'https://www.ted.com/tedx/events?autocomplete_filter=TEDxAmericanRiviera&page=1&when=past'"
      ]
     },
     "metadata": {},
     "output_type": "display_data"
    },
    {
     "data": {
      "text/plain": [
       "'https://www.ted.com/tedx/events?autocomplete_filter=TEDxDeadSea&page=1&when=past'"
      ]
     },
     "metadata": {},
     "output_type": "display_data"
    },
    {
     "data": {
      "text/plain": [
       "'https://www.ted.com/tedx/events?autocomplete_filter=TEDxAmericanRiviera&page=2&when=past'"
      ]
     },
     "metadata": {},
     "output_type": "display_data"
    },
    {
     "data": {
      "text/plain": [
       "'https://www.ted.com/tedx/events?autocomplete_filter=TEDxSiliconAlley&page=1&when=past'"
      ]
     },
     "metadata": {},
     "output_type": "display_data"
    },
    {
     "data": {
      "text/plain": [
       "'https://www.ted.com/tedx/events?autocomplete_filter=TEDxDeadSea&page=2&when=past'"
      ]
     },
     "metadata": {},
     "output_type": "display_data"
    },
    {
     "data": {
      "text/plain": [
       "'https://www.ted.com/tedx/events?autocomplete_filter=TEDxYouth@Academy&page=1&when=past'"
      ]
     },
     "metadata": {},
     "output_type": "display_data"
    },
    {
     "data": {
      "text/plain": [
       "'https://www.ted.com/tedx/events?autocomplete_filter=TEDxSiliconAlley&page=2&when=past'"
      ]
     },
     "metadata": {},
     "output_type": "display_data"
    },
    {
     "data": {
      "text/plain": [
       "'https://www.ted.com/tedx/events?autocomplete_filter=TEDxIB@York&page=1&when=past'"
      ]
     },
     "metadata": {},
     "output_type": "display_data"
    },
    {
     "data": {
      "text/plain": [
       "'https://www.ted.com/tedx/events?autocomplete_filter=TEDxIIMTrichy&page=1&when=past'"
      ]
     },
     "metadata": {},
     "output_type": "display_data"
    },
    {
     "data": {
      "text/plain": [
       "'https://www.ted.com/tedx/events?autocomplete_filter=TEDxYouth@Academy&page=2&when=past'"
      ]
     },
     "metadata": {},
     "output_type": "display_data"
    },
    {
     "data": {
      "text/plain": [
       "'https://www.ted.com/tedx/events?autocomplete_filter=TEDxIB@York&page=2&when=past'"
      ]
     },
     "metadata": {},
     "output_type": "display_data"
    },
    {
     "data": {
      "text/plain": [
       "'https://www.ted.com/tedx/events?autocomplete_filter=TEDxSFA&page=1&when=past'"
      ]
     },
     "metadata": {},
     "output_type": "display_data"
    },
    {
     "data": {
      "text/plain": [
       "'https://www.ted.com/tedx/events?autocomplete_filter=TEDxIIMTrichy&page=2&when=past'"
      ]
     },
     "metadata": {},
     "output_type": "display_data"
    },
    {
     "data": {
      "text/plain": [
       "'https://www.ted.com/tedx/events?autocomplete_filter=TEDxBournemouthUniversity&page=1&when=past'"
      ]
     },
     "metadata": {},
     "output_type": "display_data"
    },
    {
     "data": {
      "text/plain": [
       "'https://www.ted.com/tedx/events?autocomplete_filter=TEDxSarjapuraRoad&page=1&when=past'"
      ]
     },
     "metadata": {},
     "output_type": "display_data"
    },
    {
     "data": {
      "text/plain": [
       "'https://www.ted.com/tedx/events?autocomplete_filter=TEDxSFA&page=2&when=past'"
      ]
     },
     "metadata": {},
     "output_type": "display_data"
    },
    {
     "data": {
      "text/plain": [
       "'https://www.ted.com/tedx/events?autocomplete_filter=TEDxBournemouthUniversity&page=2&when=past'"
      ]
     },
     "metadata": {},
     "output_type": "display_data"
    },
    {
     "data": {
      "text/plain": [
       "'https://www.ted.com/tedx/events?autocomplete_filter=TEDxYouth@Haileybury&page=1&when=past'"
      ]
     },
     "metadata": {},
     "output_type": "display_data"
    },
    {
     "data": {
      "text/plain": [
       "'https://www.ted.com/tedx/events?autocomplete_filter=TEDxSarjapuraRoad&page=2&when=past'"
      ]
     },
     "metadata": {},
     "output_type": "display_data"
    },
    {
     "data": {
      "text/plain": [
       "'https://www.ted.com/tedx/events?autocomplete_filter=TEDxCSM&page=1&when=past'"
      ]
     },
     "metadata": {},
     "output_type": "display_data"
    },
    {
     "data": {
      "text/plain": [
       "'https://www.ted.com/tedx/events?autocomplete_filter=TEDxPhoeniciaU&page=1&when=past'"
      ]
     },
     "metadata": {},
     "output_type": "display_data"
    },
    {
     "data": {
      "text/plain": [
       "'https://www.ted.com/tedx/events?autocomplete_filter=TEDxYouth@Haileybury&page=2&when=past'"
      ]
     },
     "metadata": {},
     "output_type": "display_data"
    },
    {
     "data": {
      "text/plain": [
       "'https://www.ted.com/tedx/events?autocomplete_filter=TEDxCSM&page=2&when=past'"
      ]
     },
     "metadata": {},
     "output_type": "display_data"
    },
    {
     "data": {
      "text/plain": [
       "'https://www.ted.com/tedx/events?autocomplete_filter=TEDxTC&page=1&when=past'"
      ]
     },
     "metadata": {},
     "output_type": "display_data"
    },
    {
     "data": {
      "text/plain": [
       "'https://www.ted.com/tedx/events?autocomplete_filter=TEDxPhoeniciaU&page=2&when=past'"
      ]
     },
     "metadata": {},
     "output_type": "display_data"
    },
    {
     "data": {
      "text/plain": [
       "'https://www.ted.com/tedx/events?autocomplete_filter=TEDxStormontWomen&page=1&when=past'"
      ]
     },
     "metadata": {},
     "output_type": "display_data"
    },
    {
     "data": {
      "text/plain": [
       "'https://www.ted.com/tedx/events?autocomplete_filter=TEDxTUHH&page=1&when=past'"
      ]
     },
     "metadata": {},
     "output_type": "display_data"
    },
    {
     "data": {
      "text/plain": [
       "'https://www.ted.com/tedx/events?autocomplete_filter=TEDxStormontWomen&page=2&when=past'"
      ]
     },
     "metadata": {},
     "output_type": "display_data"
    },
    {
     "data": {
      "text/plain": [
       "'https://www.ted.com/tedx/events?autocomplete_filter=TEDxTC&page=2&when=past'"
      ]
     },
     "metadata": {},
     "output_type": "display_data"
    },
    {
     "data": {
      "text/plain": [
       "'https://www.ted.com/tedx/events?autocomplete_filter=TEDxTUHH&page=2&when=past'"
      ]
     },
     "metadata": {},
     "output_type": "display_data"
    },
    {
     "data": {
      "text/plain": [
       "'https://www.ted.com/tedx/events?autocomplete_filter=TEDxAlfaisalU&page=1&when=past'"
      ]
     },
     "metadata": {},
     "output_type": "display_data"
    },
    {
     "data": {
      "text/plain": [
       "'https://www.ted.com/tedx/events?autocomplete_filter=TEDxWhitehallWomen&page=1&when=past'"
      ]
     },
     "metadata": {},
     "output_type": "display_data"
    },
    {
     "data": {
      "text/plain": [
       "'https://www.ted.com/tedx/events?autocomplete_filter=TEDxGranVia&page=1&when=past'"
      ]
     },
     "metadata": {},
     "output_type": "display_data"
    },
    {
     "data": {
      "text/plain": [
       "'https://www.ted.com/tedx/events?autocomplete_filter=TEDxWhitehallWomen&page=2&when=past'"
      ]
     },
     "metadata": {},
     "output_type": "display_data"
    },
    {
     "data": {
      "text/plain": [
       "'https://www.ted.com/tedx/events?autocomplete_filter=TEDxAlfaisalU&page=2&when=past'"
      ]
     },
     "metadata": {},
     "output_type": "display_data"
    },
    {
     "data": {
      "text/plain": [
       "'https://www.ted.com/tedx/events?autocomplete_filter=TEDxDoiSuthep&page=1&when=past'"
      ]
     },
     "metadata": {},
     "output_type": "display_data"
    },
    {
     "data": {
      "text/plain": [
       "'https://www.ted.com/tedx/events?autocomplete_filter=TEDxGenevaWomen&page=1&when=past'"
      ]
     },
     "metadata": {},
     "output_type": "display_data"
    },
    {
     "data": {
      "text/plain": [
       "'https://www.ted.com/tedx/events?autocomplete_filter=TEDxGranVia&page=2&when=past'"
      ]
     },
     "metadata": {},
     "output_type": "display_data"
    },
    {
     "data": {
      "text/plain": [
       "'https://www.ted.com/tedx/events?autocomplete_filter=TEDxDoiSuthep&page=2&when=past'"
      ]
     },
     "metadata": {},
     "output_type": "display_data"
    },
    {
     "data": {
      "text/plain": [
       "'https://www.ted.com/tedx/events?autocomplete_filter=TEDxGranVia&page=3&when=past'"
      ]
     },
     "metadata": {},
     "output_type": "display_data"
    },
    {
     "data": {
      "text/plain": [
       "'https://www.ted.com/tedx/events?autocomplete_filter=TEDxGenevaWomen&page=2&when=past'"
      ]
     },
     "metadata": {},
     "output_type": "display_data"
    },
    {
     "data": {
      "text/plain": [
       "'https://www.ted.com/tedx/events?autocomplete_filter=TEDxWillingdon&page=1&when=past'"
      ]
     },
     "metadata": {},
     "output_type": "display_data"
    },
    {
     "data": {
      "text/plain": [
       "'https://www.ted.com/tedx/events?autocomplete_filter=TEDxCentralWyomingCollege&page=1&when=past'"
      ]
     },
     "metadata": {},
     "output_type": "display_data"
    },
    {
     "data": {
      "text/plain": [
       "'https://www.ted.com/tedx/events?autocomplete_filter=TEDxNLUO&page=1&when=past'"
      ]
     },
     "metadata": {},
     "output_type": "display_data"
    },
    {
     "data": {
      "text/plain": [
       "'https://www.ted.com/tedx/events?autocomplete_filter=TEDxWillingdon&page=2&when=past'"
      ]
     },
     "metadata": {},
     "output_type": "display_data"
    },
    {
     "data": {
      "text/plain": [
       "'https://www.ted.com/tedx/events?autocomplete_filter=TEDxCentralWyomingCollege&page=2&when=past'"
      ]
     },
     "metadata": {},
     "output_type": "display_data"
    },
    {
     "data": {
      "text/plain": [
       "'https://www.ted.com/tedx/events?autocomplete_filter=TEDxNLUO&page=2&when=past'"
      ]
     },
     "metadata": {},
     "output_type": "display_data"
    },
    {
     "data": {
      "text/plain": [
       "'https://www.ted.com/tedx/events?autocomplete_filter=TEDxManitoba&page=1&when=past'"
      ]
     },
     "metadata": {},
     "output_type": "display_data"
    },
    {
     "data": {
      "text/plain": [
       "'https://www.ted.com/tedx/events?autocomplete_filter=TEDxPortElizabethSalon&page=1&when=past'"
      ]
     },
     "metadata": {},
     "output_type": "display_data"
    },
    {
     "data": {
      "text/plain": [
       "'https://www.ted.com/tedx/events?autocomplete_filter=TEDxASOIU&page=1&when=past'"
      ]
     },
     "metadata": {},
     "output_type": "display_data"
    },
    {
     "data": {
      "text/plain": [
       "'https://www.ted.com/tedx/events?autocomplete_filter=TEDxPortElizabethSalon&page=2&when=past'"
      ]
     },
     "metadata": {},
     "output_type": "display_data"
    },
    {
     "data": {
      "text/plain": [
       "'https://www.ted.com/tedx/events?autocomplete_filter=TEDxManitoba&page=2&when=past'"
      ]
     },
     "metadata": {},
     "output_type": "display_data"
    },
    {
     "data": {
      "text/plain": [
       "'https://www.ted.com/tedx/events?autocomplete_filter=TEDxASOIU&page=2&when=past'"
      ]
     },
     "metadata": {},
     "output_type": "display_data"
    },
    {
     "data": {
      "text/plain": [
       "'https://www.ted.com/tedx/events?autocomplete_filter=TEDxSSTU&page=1&when=past'"
      ]
     },
     "metadata": {},
     "output_type": "display_data"
    },
    {
     "data": {
      "text/plain": [
       "'https://www.ted.com/tedx/events?autocomplete_filter=TEDxCarletonUniversity&page=1&when=past'"
      ]
     },
     "metadata": {},
     "output_type": "display_data"
    },
    {
     "data": {
      "text/plain": [
       "'https://www.ted.com/tedx/events?autocomplete_filter=TEDxYouth@AltSchoolFortMason&page=1&when=past'"
      ]
     },
     "metadata": {},
     "output_type": "display_data"
    },
    {
     "data": {
      "text/plain": [
       "'https://www.ted.com/tedx/events?autocomplete_filter=TEDxSSTU&page=2&when=past'"
      ]
     },
     "metadata": {},
     "output_type": "display_data"
    },
    {
     "data": {
      "text/plain": [
       "'https://www.ted.com/tedx/events?autocomplete_filter=TEDxCarletonUniversity&page=2&when=past'"
      ]
     },
     "metadata": {},
     "output_type": "display_data"
    },
    {
     "data": {
      "text/plain": [
       "'https://www.ted.com/tedx/events?autocomplete_filter=TEDxYouth@AltSchoolFortMason&page=2&when=past'"
      ]
     },
     "metadata": {},
     "output_type": "display_data"
    },
    {
     "data": {
      "text/plain": [
       "'https://www.ted.com/tedx/events?autocomplete_filter=TEDxCoimbatore&page=1&when=past'"
      ]
     },
     "metadata": {},
     "output_type": "display_data"
    },
    {
     "data": {
      "text/plain": [
       "'https://www.ted.com/tedx/events?autocomplete_filter=TEDxLosOsosHighSchool&page=1&when=past'"
      ]
     },
     "metadata": {},
     "output_type": "display_data"
    },
    {
     "data": {
      "text/plain": [
       "'https://www.ted.com/tedx/events?autocomplete_filter=TEDxUOttawa&page=1&when=past'"
      ]
     },
     "metadata": {},
     "output_type": "display_data"
    },
    {
     "data": {
      "text/plain": [
       "'https://www.ted.com/tedx/events?autocomplete_filter=TEDxLosOsosHighSchool&page=2&when=past'"
      ]
     },
     "metadata": {},
     "output_type": "display_data"
    },
    {
     "data": {
      "text/plain": [
       "'https://www.ted.com/tedx/events?autocomplete_filter=TEDxCoimbatore&page=2&when=past'"
      ]
     },
     "metadata": {},
     "output_type": "display_data"
    },
    {
     "data": {
      "text/plain": [
       "'https://www.ted.com/tedx/events?autocomplete_filter=TEDxUOttawa&page=2&when=past'"
      ]
     },
     "metadata": {},
     "output_type": "display_data"
    },
    {
     "data": {
      "text/plain": [
       "'https://www.ted.com/tedx/events?autocomplete_filter=TEDxYouth@GDRHS&page=1&when=past'"
      ]
     },
     "metadata": {},
     "output_type": "display_data"
    },
    {
     "data": {
      "text/plain": [
       "'https://www.ted.com/tedx/events?autocomplete_filter=TEDxAdum&page=1&when=past'"
      ]
     },
     "metadata": {},
     "output_type": "display_data"
    },
    {
     "data": {
      "text/plain": [
       "'https://www.ted.com/tedx/events?autocomplete_filter=TEDxHaneda&page=1&when=past'"
      ]
     },
     "metadata": {},
     "output_type": "display_data"
    },
    {
     "data": {
      "text/plain": [
       "'https://www.ted.com/tedx/events?autocomplete_filter=TEDxYouth@GDRHS&page=2&when=past'"
      ]
     },
     "metadata": {},
     "output_type": "display_data"
    },
    {
     "data": {
      "text/plain": [
       "'https://www.ted.com/tedx/events?autocomplete_filter=TEDxAdum&page=2&when=past'"
      ]
     },
     "metadata": {},
     "output_type": "display_data"
    },
    {
     "data": {
      "text/plain": [
       "'https://www.ted.com/tedx/events?autocomplete_filter=TEDxHaneda&page=2&when=past'"
      ]
     },
     "metadata": {},
     "output_type": "display_data"
    },
    {
     "data": {
      "text/plain": [
       "'https://www.ted.com/tedx/events?autocomplete_filter=TEDxIhlasCollegeED&page=1&when=past'"
      ]
     },
     "metadata": {},
     "output_type": "display_data"
    },
    {
     "data": {
      "text/plain": [
       "'https://www.ted.com/tedx/events?autocomplete_filter=TEDxIITGandhinagar&page=1&when=past'"
      ]
     },
     "metadata": {},
     "output_type": "display_data"
    },
    {
     "data": {
      "text/plain": [
       "'https://www.ted.com/tedx/events?autocomplete_filter=TEDxKAZGUU&page=1&when=past'"
      ]
     },
     "metadata": {},
     "output_type": "display_data"
    },
    {
     "data": {
      "text/plain": [
       "'https://www.ted.com/tedx/events?autocomplete_filter=TEDxIhlasCollegeED&page=2&when=past'"
      ]
     },
     "metadata": {},
     "output_type": "display_data"
    },
    {
     "data": {
      "text/plain": [
       "'https://www.ted.com/tedx/events?autocomplete_filter=TEDxKAZGUU&page=2&when=past'"
      ]
     },
     "metadata": {},
     "output_type": "display_data"
    },
    {
     "data": {
      "text/plain": [
       "'https://www.ted.com/tedx/events?autocomplete_filter=TEDxIITGandhinagar&page=2&when=past'"
      ]
     },
     "metadata": {},
     "output_type": "display_data"
    },
    {
     "data": {
      "text/plain": [
       "'https://www.ted.com/tedx/events?autocomplete_filter=TEDxWindyCity&page=1&when=past'"
      ]
     },
     "metadata": {},
     "output_type": "display_data"
    },
    {
     "data": {
      "text/plain": [
       "'https://www.ted.com/tedx/events?autocomplete_filter=TEDxBroadStreetNY-&page=1&when=past'"
      ]
     },
     "metadata": {},
     "output_type": "display_data"
    },
    {
     "data": {
      "text/plain": [
       "'https://www.ted.com/tedx/events?autocomplete_filter=TEDxValenciennes&page=1&when=past'"
      ]
     },
     "metadata": {},
     "output_type": "display_data"
    },
    {
     "data": {
      "text/plain": [
       "'https://www.ted.com/tedx/events?autocomplete_filter=TEDxNewEnglandCollege&page=1&when=past'"
      ]
     },
     "metadata": {},
     "output_type": "display_data"
    },
    {
     "data": {
      "text/plain": [
       "'https://www.ted.com/tedx/events?autocomplete_filter=TEDxValenciennes&page=2&when=past'"
      ]
     },
     "metadata": {},
     "output_type": "display_data"
    },
    {
     "data": {
      "text/plain": [
       "'https://www.ted.com/tedx/events?autocomplete_filter=TEDxWindyCity&page=2&when=past'"
      ]
     },
     "metadata": {},
     "output_type": "display_data"
    },
    {
     "data": {
      "text/plain": [
       "'https://www.ted.com/tedx/events?autocomplete_filter=TEDxSadovoeRingWomen&page=1&when=past'"
      ]
     },
     "metadata": {},
     "output_type": "display_data"
    },
    {
     "data": {
      "text/plain": [
       "'https://www.ted.com/tedx/events?autocomplete_filter=TEDxNewEnglandCollege&page=2&when=past'"
      ]
     },
     "metadata": {},
     "output_type": "display_data"
    },
    {
     "data": {
      "text/plain": [
       "'https://www.ted.com/tedx/events?autocomplete_filter=TEDxNairobi&page=1&when=past'"
      ]
     },
     "metadata": {},
     "output_type": "display_data"
    },
    {
     "data": {
      "text/plain": [
       "'https://www.ted.com/tedx/events?autocomplete_filter=TEDxSadovoeRingWomen&page=2&when=past'"
      ]
     },
     "metadata": {},
     "output_type": "display_data"
    },
    {
     "data": {
      "text/plain": [
       "'https://www.ted.com/tedx/events?autocomplete_filter=TEDxCoMo&page=1&when=past'"
      ]
     },
     "metadata": {},
     "output_type": "display_data"
    },
    {
     "data": {
      "text/plain": [
       "'https://www.ted.com/tedx/events?autocomplete_filter=TEDxNairobi&page=2&when=past'"
      ]
     },
     "metadata": {},
     "output_type": "display_data"
    },
    {
     "data": {
      "text/plain": [
       "'https://www.ted.com/tedx/events?autocomplete_filter=TEDxDePaulU&page=1&when=past'"
      ]
     },
     "metadata": {},
     "output_type": "display_data"
    },
    {
     "data": {
      "text/plain": [
       "'https://www.ted.com/tedx/events?autocomplete_filter=TEDxUTokyo&page=1&when=past'"
      ]
     },
     "metadata": {},
     "output_type": "display_data"
    },
    {
     "data": {
      "text/plain": [
       "'https://www.ted.com/tedx/events?autocomplete_filter=TEDxCoMo&page=2&when=past'"
      ]
     },
     "metadata": {},
     "output_type": "display_data"
    },
    {
     "data": {
      "text/plain": [
       "'https://www.ted.com/tedx/events?autocomplete_filter=TEDxDePaulU&page=2&when=past'"
      ]
     },
     "metadata": {},
     "output_type": "display_data"
    },
    {
     "data": {
      "text/plain": [
       "'https://www.ted.com/tedx/events?autocomplete_filter=TEDxYouth@BVChandigarh&page=1&when=past'"
      ]
     },
     "metadata": {},
     "output_type": "display_data"
    },
    {
     "data": {
      "text/plain": [
       "'https://www.ted.com/tedx/events?autocomplete_filter=TEDxFullerton&page=1&when=past'"
      ]
     },
     "metadata": {},
     "output_type": "display_data"
    },
    {
     "data": {
      "text/plain": [
       "'https://www.ted.com/tedx/events?autocomplete_filter=TEDxUTokyo&page=2&when=past'"
      ]
     },
     "metadata": {},
     "output_type": "display_data"
    },
    {
     "data": {
      "text/plain": [
       "'https://www.ted.com/tedx/events?autocomplete_filter=TEDxFullerton&page=2&when=past'"
      ]
     },
     "metadata": {},
     "output_type": "display_data"
    },
    {
     "data": {
      "text/plain": [
       "'https://www.ted.com/tedx/events?autocomplete_filter=TEDxIHEParis&page=1&when=past'"
      ]
     },
     "metadata": {},
     "output_type": "display_data"
    },
    {
     "data": {
      "text/plain": [
       "'https://www.ted.com/tedx/events?autocomplete_filter=TEDxYouth@BVChandigarh&page=2&when=past'"
      ]
     },
     "metadata": {},
     "output_type": "display_data"
    },
    {
     "data": {
      "text/plain": [
       "'https://www.ted.com/tedx/events?autocomplete_filter=TEDxBocconiUSalon&page=1&when=past'"
      ]
     },
     "metadata": {},
     "output_type": "display_data"
    },
    {
     "data": {
      "text/plain": [
       "'https://www.ted.com/tedx/events?autocomplete_filter=TEDxYouth@BOSS&page=1&when=past'"
      ]
     },
     "metadata": {},
     "output_type": "display_data"
    },
    {
     "data": {
      "text/plain": [
       "'https://www.ted.com/tedx/events?autocomplete_filter=TEDxIHEParis&page=2&when=past'"
      ]
     },
     "metadata": {},
     "output_type": "display_data"
    },
    {
     "data": {
      "text/plain": [
       "'https://www.ted.com/tedx/events?autocomplete_filter=TEDxYouth@BOSS&page=2&when=past'"
      ]
     },
     "metadata": {},
     "output_type": "display_data"
    },
    {
     "data": {
      "text/plain": [
       "'https://www.ted.com/tedx/events?autocomplete_filter=TEDxBocconiUSalon&page=2&when=past'"
      ]
     },
     "metadata": {},
     "output_type": "display_data"
    },
    {
     "data": {
      "text/plain": [
       "'https://www.ted.com/tedx/events?autocomplete_filter=TEDxTheEvergreenStateCollege&page=1&when=past'"
      ]
     },
     "metadata": {},
     "output_type": "display_data"
    },
    {
     "data": {
      "text/plain": [
       "'https://www.ted.com/tedx/events?autocomplete_filter=TEDxBrooklyn&page=1&when=past'"
      ]
     },
     "metadata": {},
     "output_type": "display_data"
    },
    {
     "data": {
      "text/plain": [
       "'https://www.ted.com/tedx/events?autocomplete_filter=TEDxDU:&page=1&when=past'"
      ]
     },
     "metadata": {},
     "output_type": "display_data"
    },
    {
     "data": {
      "text/plain": [
       "'https://www.ted.com/tedx/events?autocomplete_filter=TEDxTheEvergreenStateCollege&page=2&when=past'"
      ]
     },
     "metadata": {},
     "output_type": "display_data"
    },
    {
     "data": {
      "text/plain": [
       "'https://www.ted.com/tedx/events?autocomplete_filter=TEDxFindhorn&page=1&when=past'"
      ]
     },
     "metadata": {},
     "output_type": "display_data"
    },
    {
     "data": {
      "text/plain": [
       "'https://www.ted.com/tedx/events?autocomplete_filter=TEDxMcMasterU&page=1&when=past'"
      ]
     },
     "metadata": {},
     "output_type": "display_data"
    },
    {
     "data": {
      "text/plain": [
       "'https://www.ted.com/tedx/events?autocomplete_filter=TEDxBrooklyn&page=2&when=past'"
      ]
     },
     "metadata": {},
     "output_type": "display_data"
    },
    {
     "data": {
      "text/plain": [
       "'https://www.ted.com/tedx/events?autocomplete_filter=TEDxFindhorn&page=2&when=past'"
      ]
     },
     "metadata": {},
     "output_type": "display_data"
    },
    {
     "data": {
      "text/plain": [
       "'https://www.ted.com/tedx/events?autocomplete_filter=TEDxMasala&page=1&when=past'"
      ]
     },
     "metadata": {},
     "output_type": "display_data"
    },
    {
     "data": {
      "text/plain": [
       "'https://www.ted.com/tedx/events?autocomplete_filter=TEDxMcMasterU&page=2&when=past'"
      ]
     },
     "metadata": {},
     "output_type": "display_data"
    },
    {
     "data": {
      "text/plain": [
       "'https://www.ted.com/tedx/events?autocomplete_filter=TEDxSFED&page=1&when=past'"
      ]
     },
     "metadata": {},
     "output_type": "display_data"
    },
    {
     "data": {
      "text/plain": [
       "'https://www.ted.com/tedx/events?autocomplete_filter=TEDxDunkerque&page=1&when=past'"
      ]
     },
     "metadata": {},
     "output_type": "display_data"
    },
    {
     "data": {
      "text/plain": [
       "'https://www.ted.com/tedx/events?autocomplete_filter=TEDxMasala&page=2&when=past'"
      ]
     },
     "metadata": {},
     "output_type": "display_data"
    },
    {
     "data": {
      "text/plain": [
       "'https://www.ted.com/tedx/events?autocomplete_filter=TEDxSFED&page=2&when=past'"
      ]
     },
     "metadata": {},
     "output_type": "display_data"
    },
    {
     "data": {
      "text/plain": [
       "'https://www.ted.com/tedx/events?autocomplete_filter=TEDxGreatPacificGarbagePatch&page=1&when=past'"
      ]
     },
     "metadata": {},
     "output_type": "display_data"
    },
    {
     "data": {
      "text/plain": [
       "'https://www.ted.com/tedx/events?autocomplete_filter=TEDxDunkerque&page=2&when=past'"
      ]
     },
     "metadata": {},
     "output_type": "display_data"
    },
    {
     "data": {
      "text/plain": [
       "'https://www.ted.com/tedx/events?autocomplete_filter=TEDxTeddington&page=1&when=past'"
      ]
     },
     "metadata": {},
     "output_type": "display_data"
    },
    {
     "data": {
      "text/plain": [
       "'https://www.ted.com/tedx/events?autocomplete_filter=TEDxParkCity&page=1&when=past'"
      ]
     },
     "metadata": {},
     "output_type": "display_data"
    },
    {
     "data": {
      "text/plain": [
       "'https://www.ted.com/tedx/events?autocomplete_filter=TEDxGreatPacificGarbagePatch&page=2&when=past'"
      ]
     },
     "metadata": {},
     "output_type": "display_data"
    },
    {
     "data": {
      "text/plain": [
       "'https://www.ted.com/tedx/events?autocomplete_filter=TEDxTeddington&page=2&when=past'"
      ]
     },
     "metadata": {},
     "output_type": "display_data"
    },
    {
     "data": {
      "text/plain": [
       "'https://www.ted.com/tedx/events?autocomplete_filter=TEDxYakima&page=1&when=past'"
      ]
     },
     "metadata": {},
     "output_type": "display_data"
    },
    {
     "data": {
      "text/plain": [
       "'https://www.ted.com/tedx/events?autocomplete_filter=TEDxYouth@PalisadesCharterHighSchool&page=1&when=past'"
      ]
     },
     "metadata": {},
     "output_type": "display_data"
    },
    {
     "data": {
      "text/plain": [
       "'https://www.ted.com/tedx/events?autocomplete_filter=TEDxParkCity&page=2&when=past'"
      ]
     },
     "metadata": {},
     "output_type": "display_data"
    },
    {
     "data": {
      "text/plain": [
       "'https://www.ted.com/tedx/events?autocomplete_filter=TEDxYouth@PalisadesCharterHighSchool&page=2&when=past'"
      ]
     },
     "metadata": {},
     "output_type": "display_data"
    },
    {
     "data": {
      "text/plain": [
       "'https://www.ted.com/tedx/events?autocomplete_filter=TEDxLaneXangAve&page=1&when=past'"
      ]
     },
     "metadata": {},
     "output_type": "display_data"
    },
    {
     "data": {
      "text/plain": [
       "'https://www.ted.com/tedx/events?autocomplete_filter=TEDxYakima&page=2&when=past'"
      ]
     },
     "metadata": {},
     "output_type": "display_data"
    },
    {
     "data": {
      "text/plain": [
       "'https://www.ted.com/tedx/events?autocomplete_filter=TEDxClerkenwell&page=1&when=past'"
      ]
     },
     "metadata": {},
     "output_type": "display_data"
    },
    {
     "data": {
      "text/plain": [
       "'https://www.ted.com/tedx/events?autocomplete_filter=TEDxLaneXangAve&page=2&when=past'"
      ]
     },
     "metadata": {},
     "output_type": "display_data"
    },
    {
     "data": {
      "text/plain": [
       "'https://www.ted.com/tedx/events?autocomplete_filter=TEDxStocktonUniversity&page=1&when=past'"
      ]
     },
     "metadata": {},
     "output_type": "display_data"
    },
    {
     "data": {
      "text/plain": [
       "'https://www.ted.com/tedx/events?autocomplete_filter=TEDxClerkenwell&page=2&when=past'"
      ]
     },
     "metadata": {},
     "output_type": "display_data"
    },
    {
     "data": {
      "text/plain": [
       "'https://www.ted.com/tedx/events?autocomplete_filter=TEDxHarvardCollegeSalon&page=1&when=past'"
      ]
     },
     "metadata": {},
     "output_type": "display_data"
    },
    {
     "data": {
      "text/plain": [
       "'https://www.ted.com/tedx/events?autocomplete_filter=TEDxStocktonUniversity&page=2&when=past'"
      ]
     },
     "metadata": {},
     "output_type": "display_data"
    },
    {
     "data": {
      "text/plain": [
       "'https://www.ted.com/tedx/events?autocomplete_filter=TEDxWeizmannInstitute&page=1&when=past'"
      ]
     },
     "metadata": {},
     "output_type": "display_data"
    },
    {
     "data": {
      "text/plain": [
       "'https://www.ted.com/tedx/events?autocomplete_filter=TEDxEQChCh&page=1&when=past'"
      ]
     },
     "metadata": {},
     "output_type": "display_data"
    },
    {
     "data": {
      "text/plain": [
       "'https://www.ted.com/tedx/events?autocomplete_filter=TEDxHarvardCollegeSalon&page=2&when=past'"
      ]
     },
     "metadata": {},
     "output_type": "display_data"
    },
    {
     "data": {
      "text/plain": [
       "'https://www.ted.com/tedx/events?autocomplete_filter=TEDxWeizmannInstitute&page=2&when=past'"
      ]
     },
     "metadata": {},
     "output_type": "display_data"
    },
    {
     "data": {
      "text/plain": [
       "'https://www.ted.com/tedx/events?autocomplete_filter=TEDxEQChCh&page=2&when=past'"
      ]
     },
     "metadata": {},
     "output_type": "display_data"
    },
    {
     "data": {
      "text/plain": [
       "'https://www.ted.com/tedx/events?autocomplete_filter=TEDxTaftAve&page=1&when=past'"
      ]
     },
     "metadata": {},
     "output_type": "display_data"
    },
    {
     "data": {
      "text/plain": [
       "'https://www.ted.com/tedx/events?autocomplete_filter=TEDxTheNorthcapUniversity&page=1&when=past'"
      ]
     },
     "metadata": {},
     "output_type": "display_data"
    },
    {
     "data": {
      "text/plain": [
       "'https://www.ted.com/tedx/events?autocomplete_filter=TEDxLeeCollegeHuntsville&page=1&when=past'"
      ]
     },
     "metadata": {},
     "output_type": "display_data"
    },
    {
     "data": {
      "text/plain": [
       "'https://www.ted.com/tedx/events?autocomplete_filter=TEDxTaftAve&page=2&when=past'"
      ]
     },
     "metadata": {},
     "output_type": "display_data"
    },
    {
     "data": {
      "text/plain": [
       "'https://www.ted.com/tedx/events?autocomplete_filter=TEDxTheNorthcapUniversity&page=2&when=past'"
      ]
     },
     "metadata": {},
     "output_type": "display_data"
    },
    {
     "data": {
      "text/plain": [
       "'https://www.ted.com/tedx/events?autocomplete_filter=TEDxLeeCollegeHuntsville&page=2&when=past'"
      ]
     },
     "metadata": {},
     "output_type": "display_data"
    },
    {
     "data": {
      "text/plain": [
       "'https://www.ted.com/tedx/events?autocomplete_filter=TEDxHongKong&page=1&when=past'"
      ]
     },
     "metadata": {},
     "output_type": "display_data"
    },
    {
     "data": {
      "text/plain": [
       "'https://www.ted.com/tedx/events?autocomplete_filter=TEDxKenyonCollege&page=1&when=past'"
      ]
     },
     "metadata": {},
     "output_type": "display_data"
    },
    {
     "data": {
      "text/plain": [
       "'https://www.ted.com/tedx/events?autocomplete_filter=TEDxEdmontonED&page=1&when=past'"
      ]
     },
     "metadata": {},
     "output_type": "display_data"
    },
    {
     "data": {
      "text/plain": [
       "'https://www.ted.com/tedx/events?autocomplete_filter=TEDxEdmontonED&page=2&when=past'"
      ]
     },
     "metadata": {},
     "output_type": "display_data"
    },
    {
     "data": {
      "text/plain": [
       "'https://www.ted.com/tedx/events?autocomplete_filter=TEDxKenyonCollege&page=2&when=past'"
      ]
     },
     "metadata": {},
     "output_type": "display_data"
    },
    {
     "data": {
      "text/plain": [
       "'https://www.ted.com/tedx/events?autocomplete_filter=TEDxHongKong&page=2&when=past'"
      ]
     },
     "metadata": {},
     "output_type": "display_data"
    },
    {
     "data": {
      "text/plain": [
       "'https://www.ted.com/tedx/events?autocomplete_filter=TEDxMesa&page=1&when=past'"
      ]
     },
     "metadata": {},
     "output_type": "display_data"
    },
    {
     "data": {
      "text/plain": [
       "'https://www.ted.com/tedx/events?autocomplete_filter=TEDxESSCA&page=1&when=past'"
      ]
     },
     "metadata": {},
     "output_type": "display_data"
    },
    {
     "data": {
      "text/plain": [
       "'https://www.ted.com/tedx/events?autocomplete_filter=TEDxWomen&page=1&when=past'"
      ]
     },
     "metadata": {},
     "output_type": "display_data"
    },
    {
     "data": {
      "text/plain": [
       "'https://www.ted.com/tedx/events?autocomplete_filter=TEDxMesa&page=2&when=past'"
      ]
     },
     "metadata": {},
     "output_type": "display_data"
    },
    {
     "data": {
      "text/plain": [
       "'https://www.ted.com/tedx/events?autocomplete_filter=TEDxESSCA&page=2&when=past'"
      ]
     },
     "metadata": {},
     "output_type": "display_data"
    },
    {
     "data": {
      "text/plain": [
       "'https://www.ted.com/tedx/events?autocomplete_filter=TEDxSungaiSegget&page=1&when=past'"
      ]
     },
     "metadata": {},
     "output_type": "display_data"
    },
    {
     "data": {
      "text/plain": [
       "'https://www.ted.com/tedx/events?autocomplete_filter=TEDxWandsworth&page=1&when=past'"
      ]
     },
     "metadata": {},
     "output_type": "display_data"
    },
    {
     "data": {
      "text/plain": [
       "'https://www.ted.com/tedx/events?autocomplete_filter=TEDxWomen&page=2&when=past'"
      ]
     },
     "metadata": {},
     "output_type": "display_data"
    },
    {
     "data": {
      "text/plain": [
       "'https://www.ted.com/tedx/events?autocomplete_filter=TEDxSungaiSegget&page=2&when=past'"
      ]
     },
     "metadata": {},
     "output_type": "display_data"
    },
    {
     "data": {
      "text/plain": [
       "'https://www.ted.com/tedx/events?autocomplete_filter=TEDxWandsworth&page=2&when=past'"
      ]
     },
     "metadata": {},
     "output_type": "display_data"
    },
    {
     "data": {
      "text/plain": [
       "'https://www.ted.com/tedx/events?autocomplete_filter=TEDxWomen&page=3&when=past'"
      ]
     },
     "metadata": {},
     "output_type": "display_data"
    },
    {
     "data": {
      "text/plain": [
       "'https://www.ted.com/tedx/events?autocomplete_filter=TEDxYouth@JBMHS&page=1&when=past'"
      ]
     },
     "metadata": {},
     "output_type": "display_data"
    },
    {
     "data": {
      "text/plain": [
       "'https://www.ted.com/tedx/events?autocomplete_filter=TEDxCharlotteED&page=1&when=past'"
      ]
     },
     "metadata": {},
     "output_type": "display_data"
    },
    {
     "data": {
      "text/plain": [
       "'https://www.ted.com/tedx/events?autocomplete_filter=TEDxYouth@JBMHS&page=2&when=past'"
      ]
     },
     "metadata": {},
     "output_type": "display_data"
    },
    {
     "data": {
      "text/plain": [
       "'https://www.ted.com/tedx/events?autocomplete_filter=TEDxCharlotteED&page=2&when=past'"
      ]
     },
     "metadata": {},
     "output_type": "display_data"
    },
    {
     "data": {
      "text/plain": [
       "'https://www.ted.com/tedx/events?autocomplete_filter=TEDxWomen&page=4&when=past'"
      ]
     },
     "metadata": {},
     "output_type": "display_data"
    },
    {
     "data": {
      "text/plain": [
       "'https://www.ted.com/tedx/events?autocomplete_filter=TEDxVianadoCastelo&page=1&when=past'"
      ]
     },
     "metadata": {},
     "output_type": "display_data"
    },
    {
     "data": {
      "text/plain": [
       "'https://www.ted.com/tedx/events?autocomplete_filter=TEDxYouth@Hillsborough&page=1&when=past'"
      ]
     },
     "metadata": {},
     "output_type": "display_data"
    },
    {
     "data": {
      "text/plain": [
       "'https://www.ted.com/tedx/events?autocomplete_filter=TEDxWomen&page=5&when=past'"
      ]
     },
     "metadata": {},
     "output_type": "display_data"
    },
    {
     "data": {
      "text/plain": [
       "'https://www.ted.com/tedx/events?autocomplete_filter=TEDxYouth@Hillsborough&page=2&when=past'"
      ]
     },
     "metadata": {},
     "output_type": "display_data"
    },
    {
     "data": {
      "text/plain": [
       "'https://www.ted.com/tedx/events?autocomplete_filter=TEDxVianadoCastelo&page=2&when=past'"
      ]
     },
     "metadata": {},
     "output_type": "display_data"
    },
    {
     "data": {
      "text/plain": [
       "'https://www.ted.com/tedx/events?autocomplete_filter=TEDxLIleSaintDenis&page=1&when=past'"
      ]
     },
     "metadata": {},
     "output_type": "display_data"
    },
    {
     "data": {
      "text/plain": [
       "'https://www.ted.com/tedx/events?autocomplete_filter=TEDxKLWomen&page=1&when=past'"
      ]
     },
     "metadata": {},
     "output_type": "display_data"
    },
    {
     "data": {
      "text/plain": [
       "'https://www.ted.com/tedx/events?autocomplete_filter=TEDxWomen&page=6&when=past'"
      ]
     },
     "metadata": {},
     "output_type": "display_data"
    },
    {
     "data": {
      "text/plain": [
       "'https://www.ted.com/tedx/events?autocomplete_filter=TEDxLIleSaintDenis&page=2&when=past'"
      ]
     },
     "metadata": {},
     "output_type": "display_data"
    },
    {
     "data": {
      "text/plain": [
       "'https://www.ted.com/tedx/events?autocomplete_filter=TEDxKLWomen&page=2&when=past'"
      ]
     },
     "metadata": {},
     "output_type": "display_data"
    },
    {
     "data": {
      "text/plain": [
       "'https://www.ted.com/tedx/events?autocomplete_filter=TEDxWomen&page=7&when=past'"
      ]
     },
     "metadata": {},
     "output_type": "display_data"
    },
    {
     "data": {
      "text/plain": [
       "'https://www.ted.com/tedx/events?autocomplete_filter=TEDxRockCreekPark&page=1&when=past'"
      ]
     },
     "metadata": {},
     "output_type": "display_data"
    },
    {
     "data": {
      "text/plain": [
       "'https://www.ted.com/tedx/events?autocomplete_filter=TEDxPantheonSorbonne&page=1&when=past'"
      ]
     },
     "metadata": {},
     "output_type": "display_data"
    },
    {
     "data": {
      "text/plain": [
       "'https://www.ted.com/tedx/events?autocomplete_filter=TEDxWomen&page=8&when=past'"
      ]
     },
     "metadata": {},
     "output_type": "display_data"
    },
    {
     "data": {
      "text/plain": [
       "'https://www.ted.com/tedx/events?autocomplete_filter=TEDxRockCreekPark&page=2&when=past'"
      ]
     },
     "metadata": {},
     "output_type": "display_data"
    },
    {
     "data": {
      "text/plain": [
       "'https://www.ted.com/tedx/events?autocomplete_filter=TEDxPantheonSorbonne&page=2&when=past'"
      ]
     },
     "metadata": {},
     "output_type": "display_data"
    },
    {
     "data": {
      "text/plain": [
       "'https://www.ted.com/tedx/events?autocomplete_filter=TEDxAmityUniversity&page=1&when=past'"
      ]
     },
     "metadata": {},
     "output_type": "display_data"
    },
    {
     "data": {
      "text/plain": [
       "'https://www.ted.com/tedx/events?autocomplete_filter=TEDxAustinWomen&page=1&when=past'"
      ]
     },
     "metadata": {},
     "output_type": "display_data"
    },
    {
     "data": {
      "text/plain": [
       "'https://www.ted.com/tedx/events?autocomplete_filter=TEDxWomen&page=9&when=past'"
      ]
     },
     "metadata": {},
     "output_type": "display_data"
    },
    {
     "data": {
      "text/plain": [
       "'https://www.ted.com/tedx/events?autocomplete_filter=TEDxAmityUniversity&page=2&when=past'"
      ]
     },
     "metadata": {},
     "output_type": "display_data"
    },
    {
     "data": {
      "text/plain": [
       "'https://www.ted.com/tedx/events?autocomplete_filter=TEDxAustinWomen&page=2&when=past'"
      ]
     },
     "metadata": {},
     "output_type": "display_data"
    },
    {
     "data": {
      "text/plain": [
       "'https://www.ted.com/tedx/events?autocomplete_filter=TEDxEvanston&page=1&when=past'"
      ]
     },
     "metadata": {},
     "output_type": "display_data"
    },
    {
     "data": {
      "text/plain": [
       "'https://www.ted.com/tedx/events?autocomplete_filter=TEDxWomen&page=10&when=past'"
      ]
     },
     "metadata": {},
     "output_type": "display_data"
    },
    {
     "data": {
      "text/plain": [
       "'https://www.ted.com/tedx/events?autocomplete_filter=TEDxHampshireCollege&page=1&when=past'"
      ]
     },
     "metadata": {},
     "output_type": "display_data"
    },
    {
     "data": {
      "text/plain": [
       "'https://www.ted.com/tedx/events?autocomplete_filter=TEDxEvanston&page=2&when=past'"
      ]
     },
     "metadata": {},
     "output_type": "display_data"
    },
    {
     "data": {
      "text/plain": [
       "'https://www.ted.com/tedx/events?autocomplete_filter=TEDxHampshireCollege&page=2&when=past'"
      ]
     },
     "metadata": {},
     "output_type": "display_data"
    },
    {
     "data": {
      "text/plain": [
       "'https://www.ted.com/tedx/events?autocomplete_filter=TEDxWomen&page=11&when=past'"
      ]
     },
     "metadata": {},
     "output_type": "display_data"
    },
    {
     "data": {
      "text/plain": [
       "'https://www.ted.com/tedx/events?autocomplete_filter=TEDxKoeln&page=1&when=past'"
      ]
     },
     "metadata": {},
     "output_type": "display_data"
    },
    {
     "data": {
      "text/plain": [
       "'https://www.ted.com/tedx/events?autocomplete_filter=TEDxYouth@Muntinupa&page=1&when=past'"
      ]
     },
     "metadata": {},
     "output_type": "display_data"
    },
    {
     "data": {
      "text/plain": [
       "'https://www.ted.com/tedx/events?autocomplete_filter=TEDxKoeln&page=2&when=past'"
      ]
     },
     "metadata": {},
     "output_type": "display_data"
    },
    {
     "data": {
      "text/plain": [
       "'https://www.ted.com/tedx/events?autocomplete_filter=TEDxWomen&page=12&when=past'"
      ]
     },
     "metadata": {},
     "output_type": "display_data"
    },
    {
     "data": {
      "text/plain": [
       "'https://www.ted.com/tedx/events?autocomplete_filter=TEDxYouth@Muntinupa&page=2&when=past'"
      ]
     },
     "metadata": {},
     "output_type": "display_data"
    },
    {
     "data": {
      "text/plain": [
       "'https://www.ted.com/tedx/events?autocomplete_filter=TEDxPennQuarter&page=1&when=past'"
      ]
     },
     "metadata": {},
     "output_type": "display_data"
    },
    {
     "data": {
      "text/plain": [
       "'https://www.ted.com/tedx/events?autocomplete_filter=TEDxHeraklion&page=1&when=past'"
      ]
     },
     "metadata": {},
     "output_type": "display_data"
    },
    {
     "data": {
      "text/plain": [
       "'https://www.ted.com/tedx/events?autocomplete_filter=TEDxWomen&page=13&when=past'"
      ]
     },
     "metadata": {},
     "output_type": "display_data"
    },
    {
     "data": {
      "text/plain": [
       "'https://www.ted.com/tedx/events?autocomplete_filter=TEDxHeraklion&page=2&when=past'"
      ]
     },
     "metadata": {},
     "output_type": "display_data"
    },
    {
     "data": {
      "text/plain": [
       "'https://www.ted.com/tedx/events?autocomplete_filter=TEDxPennQuarter&page=2&when=past'"
      ]
     },
     "metadata": {},
     "output_type": "display_data"
    },
    {
     "data": {
      "text/plain": [
       "'https://www.ted.com/tedx/events?autocomplete_filter=TEDxCapeTownED&page=1&when=past'"
      ]
     },
     "metadata": {},
     "output_type": "display_data"
    },
    {
     "data": {
      "text/plain": [
       "'https://www.ted.com/tedx/events?autocomplete_filter=TEDxWomen&page=14&when=past'"
      ]
     },
     "metadata": {},
     "output_type": "display_data"
    },
    {
     "data": {
      "text/plain": [
       "'https://www.ted.com/tedx/events?autocomplete_filter=TEDxRegina&page=1&when=past'"
      ]
     },
     "metadata": {},
     "output_type": "display_data"
    },
    {
     "data": {
      "text/plain": [
       "'https://www.ted.com/tedx/events?autocomplete_filter=TEDxCapeTownED&page=2&when=past'"
      ]
     },
     "metadata": {},
     "output_type": "display_data"
    },
    {
     "data": {
      "text/plain": [
       "'https://www.ted.com/tedx/events?autocomplete_filter=TEDxRegina&page=2&when=past'"
      ]
     },
     "metadata": {},
     "output_type": "display_data"
    },
    {
     "data": {
      "text/plain": [
       "'https://www.ted.com/tedx/events?autocomplete_filter=TEDxWomen&page=15&when=past'"
      ]
     },
     "metadata": {},
     "output_type": "display_data"
    },
    {
     "data": {
      "text/plain": [
       "'https://www.ted.com/tedx/events?autocomplete_filter=TEDxTiburtino&page=1&when=past'"
      ]
     },
     "metadata": {},
     "output_type": "display_data"
    },
    {
     "data": {
      "text/plain": [
       "'https://www.ted.com/tedx/events?autocomplete_filter=TEDxTromsø&page=1&when=past'"
      ]
     },
     "metadata": {},
     "output_type": "display_data"
    },
    {
     "data": {
      "text/plain": [
       "'https://www.ted.com/tedx/events?autocomplete_filter=TEDxTiburtino&page=2&when=past'"
      ]
     },
     "metadata": {},
     "output_type": "display_data"
    },
    {
     "data": {
      "text/plain": [
       "'https://www.ted.com/tedx/events?autocomplete_filter=TEDxTromsø&page=2&when=past'"
      ]
     },
     "metadata": {},
     "output_type": "display_data"
    },
    {
     "data": {
      "text/plain": [
       "'https://www.ted.com/tedx/events?autocomplete_filter=TEDxWomen&page=16&when=past'"
      ]
     },
     "metadata": {},
     "output_type": "display_data"
    },
    {
     "data": {
      "text/plain": [
       "'https://www.ted.com/tedx/events?autocomplete_filter=TEDxHamburgSalon&page=1&when=past'"
      ]
     },
     "metadata": {},
     "output_type": "display_data"
    },
    {
     "data": {
      "text/plain": [
       "'https://www.ted.com/tedx/events?autocomplete_filter=TEDxYouth@DesMoines&page=1&when=past'"
      ]
     },
     "metadata": {},
     "output_type": "display_data"
    },
    {
     "data": {
      "text/plain": [
       "'https://www.ted.com/tedx/events?autocomplete_filter=TEDxHamburgSalon&page=2&when=past'"
      ]
     },
     "metadata": {},
     "output_type": "display_data"
    },
    {
     "data": {
      "text/plain": [
       "'https://www.ted.com/tedx/events?autocomplete_filter=TEDxWomen&page=17&when=past'"
      ]
     },
     "metadata": {},
     "output_type": "display_data"
    },
    {
     "data": {
      "text/plain": [
       "'https://www.ted.com/tedx/events?autocomplete_filter=TEDxYouth@DesMoines&page=2&when=past'"
      ]
     },
     "metadata": {},
     "output_type": "display_data"
    },
    {
     "data": {
      "text/plain": [
       "'https://www.ted.com/tedx/events?autocomplete_filter=TEDxOrcasIsland&page=1&when=past'"
      ]
     },
     "metadata": {},
     "output_type": "display_data"
    },
    {
     "data": {
      "text/plain": [
       "'https://www.ted.com/tedx/events?autocomplete_filter=TEDxIHECCarthage&page=1&when=past'"
      ]
     },
     "metadata": {},
     "output_type": "display_data"
    },
    {
     "data": {
      "text/plain": [
       "'https://www.ted.com/tedx/events?autocomplete_filter=TEDxOrcasIsland&page=2&when=past'"
      ]
     },
     "metadata": {},
     "output_type": "display_data"
    },
    {
     "data": {
      "text/plain": [
       "'https://www.ted.com/tedx/events?autocomplete_filter=TEDxWomen&page=18&when=past'"
      ]
     },
     "metadata": {},
     "output_type": "display_data"
    },
    {
     "data": {
      "text/plain": [
       "'https://www.ted.com/tedx/events?autocomplete_filter=TEDxSanQuentin&page=1&when=past'"
      ]
     },
     "metadata": {},
     "output_type": "display_data"
    },
    {
     "data": {
      "text/plain": [
       "'https://www.ted.com/tedx/events?autocomplete_filter=TEDxIHECCarthage&page=2&when=past'"
      ]
     },
     "metadata": {},
     "output_type": "display_data"
    },
    {
     "data": {
      "text/plain": [
       "'https://www.ted.com/tedx/events?autocomplete_filter=TEDxWomen&page=19&when=past'"
      ]
     },
     "metadata": {},
     "output_type": "display_data"
    },
    {
     "data": {
      "text/plain": [
       "'https://www.ted.com/tedx/events?autocomplete_filter=TEDxSanQuentin&page=2&when=past'"
      ]
     },
     "metadata": {},
     "output_type": "display_data"
    },
    {
     "data": {
      "text/plain": [
       "'https://www.ted.com/tedx/events?autocomplete_filter=TEDxUniversityofLjubljanaSalon&page=1&when=past'"
      ]
     },
     "metadata": {},
     "output_type": "display_data"
    },
    {
     "data": {
      "text/plain": [
       "'https://www.ted.com/tedx/events?autocomplete_filter=TEDxArtsEtMétiersAngers&page=1&when=past'"
      ]
     },
     "metadata": {},
     "output_type": "display_data"
    },
    {
     "data": {
      "text/plain": [
       "'https://www.ted.com/tedx/events?autocomplete_filter=TEDxUniversityofLjubljanaSalon&page=2&when=past'"
      ]
     },
     "metadata": {},
     "output_type": "display_data"
    },
    {
     "data": {
      "text/plain": [
       "'https://www.ted.com/tedx/events?autocomplete_filter=TEDxWomen&page=20&when=past'"
      ]
     },
     "metadata": {},
     "output_type": "display_data"
    },
    {
     "data": {
      "text/plain": [
       "'https://www.ted.com/tedx/events?autocomplete_filter=TEDxArtsEtMétiersAngers&page=2&when=past'"
      ]
     },
     "metadata": {},
     "output_type": "display_data"
    },
    {
     "data": {
      "text/plain": [
       "'https://www.ted.com/tedx/events?autocomplete_filter=TEDxCUNYs&page=1&when=past'"
      ]
     },
     "metadata": {},
     "output_type": "display_data"
    },
    {
     "data": {
      "text/plain": [
       "'https://www.ted.com/tedx/events?autocomplete_filter=TEDxBCIT&page=1&when=past'"
      ]
     },
     "metadata": {},
     "output_type": "display_data"
    },
    {
     "data": {
      "text/plain": [
       "'https://www.ted.com/tedx/events?autocomplete_filter=TEDxWomen&page=21&when=past'"
      ]
     },
     "metadata": {},
     "output_type": "display_data"
    },
    {
     "data": {
      "text/plain": [
       "'https://www.ted.com/tedx/events?autocomplete_filter=TEDxCUNYs&page=2&when=past'"
      ]
     },
     "metadata": {},
     "output_type": "display_data"
    },
    {
     "data": {
      "text/plain": [
       "'https://www.ted.com/tedx/events?autocomplete_filter=TEDxBCIT&page=2&when=past'"
      ]
     },
     "metadata": {},
     "output_type": "display_data"
    },
    {
     "data": {
      "text/plain": [
       "'https://www.ted.com/tedx/events?autocomplete_filter=TEDxSIBMBangalore&page=1&when=past'"
      ]
     },
     "metadata": {},
     "output_type": "display_data"
    },
    {
     "data": {
      "text/plain": [
       "'https://www.ted.com/tedx/events?autocomplete_filter=TEDxWomen&page=22&when=past'"
      ]
     },
     "metadata": {},
     "output_type": "display_data"
    },
    {
     "data": {
      "text/plain": [
       "'https://www.ted.com/tedx/events?autocomplete_filter=TEDxYouth@ClintonSquare&page=1&when=past'"
      ]
     },
     "metadata": {},
     "output_type": "display_data"
    },
    {
     "data": {
      "text/plain": [
       "'https://www.ted.com/tedx/events?autocomplete_filter=TEDxSIBMBangalore&page=2&when=past'"
      ]
     },
     "metadata": {},
     "output_type": "display_data"
    },
    {
     "data": {
      "text/plain": [
       "'https://www.ted.com/tedx/events?autocomplete_filter=TEDxYouth@ClintonSquare&page=2&when=past'"
      ]
     },
     "metadata": {},
     "output_type": "display_data"
    },
    {
     "data": {
      "text/plain": [
       "'https://www.ted.com/tedx/events?autocomplete_filter=TEDxWomen&page=23&when=past'"
      ]
     },
     "metadata": {},
     "output_type": "display_data"
    },
    {
     "data": {
      "text/plain": [
       "'https://www.ted.com/tedx/events?autocomplete_filter=TEDxDSCEWomen&page=1&when=past'"
      ]
     },
     "metadata": {},
     "output_type": "display_data"
    },
    {
     "data": {
      "text/plain": [
       "'https://www.ted.com/tedx/events?autocomplete_filter=TEDxKids@Odessa&page=1&when=past'"
      ]
     },
     "metadata": {},
     "output_type": "display_data"
    },
    {
     "data": {
      "text/plain": [
       "'https://www.ted.com/tedx/events?autocomplete_filter=TEDxDSCEWomen&page=2&when=past'"
      ]
     },
     "metadata": {},
     "output_type": "display_data"
    },
    {
     "data": {
      "text/plain": [
       "'https://www.ted.com/tedx/events?autocomplete_filter=TEDxWomen&page=24&when=past'"
      ]
     },
     "metadata": {},
     "output_type": "display_data"
    },
    {
     "data": {
      "text/plain": [
       "'https://www.ted.com/tedx/events?autocomplete_filter=TEDxKids@Odessa&page=2&when=past'"
      ]
     },
     "metadata": {},
     "output_type": "display_data"
    },
    {
     "data": {
      "text/plain": [
       "'https://www.ted.com/tedx/events?autocomplete_filter=TEDxWycliffeCollege&page=1&when=past'"
      ]
     },
     "metadata": {},
     "output_type": "display_data"
    },
    {
     "data": {
      "text/plain": [
       "'https://www.ted.com/tedx/events?autocomplete_filter=TEDxCuauhtemoc&page=1&when=past'"
      ]
     },
     "metadata": {},
     "output_type": "display_data"
    },
    {
     "data": {
      "text/plain": [
       "'https://www.ted.com/tedx/events?autocomplete_filter=TEDxWomen&page=25&when=past'"
      ]
     },
     "metadata": {},
     "output_type": "display_data"
    },
    {
     "data": {
      "text/plain": [
       "'https://www.ted.com/tedx/events?autocomplete_filter=TEDxWycliffeCollege&page=2&when=past'"
      ]
     },
     "metadata": {},
     "output_type": "display_data"
    },
    {
     "data": {
      "text/plain": [
       "'https://www.ted.com/tedx/events?autocomplete_filter=TEDxCuauhtemoc&page=2&when=past'"
      ]
     },
     "metadata": {},
     "output_type": "display_data"
    },
    {
     "data": {
      "text/plain": [
       "'https://www.ted.com/tedx/events?autocomplete_filter=TEDxYouth@StJohns&page=1&when=past'"
      ]
     },
     "metadata": {},
     "output_type": "display_data"
    },
    {
     "data": {
      "text/plain": [
       "'https://www.ted.com/tedx/events?autocomplete_filter=TEDxUplandsSchool&page=1&when=past'"
      ]
     },
     "metadata": {},
     "output_type": "display_data"
    },
    {
     "data": {
      "text/plain": [
       "'https://www.ted.com/tedx/events?autocomplete_filter=TEDxWomen&page=26&when=past'"
      ]
     },
     "metadata": {},
     "output_type": "display_data"
    },
    {
     "data": {
      "text/plain": [
       "'https://www.ted.com/tedx/events?autocomplete_filter=TEDxYouth@StJohns&page=2&when=past'"
      ]
     },
     "metadata": {},
     "output_type": "display_data"
    },
    {
     "data": {
      "text/plain": [
       "'https://www.ted.com/tedx/events?autocomplete_filter=TEDxMladostWomen&page=1&when=past'"
      ]
     },
     "metadata": {},
     "output_type": "display_data"
    },
    {
     "data": {
      "text/plain": [
       "'https://www.ted.com/tedx/events?autocomplete_filter=TEDxUplandsSchool&page=2&when=past'"
      ]
     },
     "metadata": {},
     "output_type": "display_data"
    },
    {
     "data": {
      "text/plain": [
       "'https://www.ted.com/tedx/events?autocomplete_filter=TEDxWomen&page=27&when=past'"
      ]
     },
     "metadata": {},
     "output_type": "display_data"
    },
    {
     "data": {
      "text/plain": [
       "'https://www.ted.com/tedx/events?autocomplete_filter=TEDxUPatras&page=1&when=past'"
      ]
     },
     "metadata": {},
     "output_type": "display_data"
    },
    {
     "data": {
      "text/plain": [
       "'https://www.ted.com/tedx/events?autocomplete_filter=TEDxMladostWomen&page=2&when=past'"
      ]
     },
     "metadata": {},
     "output_type": "display_data"
    },
    {
     "data": {
      "text/plain": [
       "'https://www.ted.com/tedx/events?autocomplete_filter=TEDxGatewayWomen&page=1&when=past'"
      ]
     },
     "metadata": {},
     "output_type": "display_data"
    },
    {
     "data": {
      "text/plain": [
       "'https://www.ted.com/tedx/events?autocomplete_filter=TEDxUPatras&page=2&when=past'"
      ]
     },
     "metadata": {},
     "output_type": "display_data"
    },
    {
     "data": {
      "text/plain": [
       "'https://www.ted.com/tedx/events?autocomplete_filter=TEDxWomen&page=28&when=past'"
      ]
     },
     "metadata": {},
     "output_type": "display_data"
    },
    {
     "data": {
      "text/plain": [
       "'https://www.ted.com/tedx/events?autocomplete_filter=TEDxCincy&page=1&when=past'"
      ]
     },
     "metadata": {},
     "output_type": "display_data"
    },
    {
     "data": {
      "text/plain": [
       "'https://www.ted.com/tedx/events?autocomplete_filter=TEDxGatewayWomen&page=2&when=past'"
      ]
     },
     "metadata": {},
     "output_type": "display_data"
    },
    {
     "data": {
      "text/plain": [
       "'https://www.ted.com/tedx/events?autocomplete_filter=TEDxCincy&page=2&when=past'"
      ]
     },
     "metadata": {},
     "output_type": "display_data"
    },
    {
     "data": {
      "text/plain": [
       "'https://www.ted.com/tedx/events?autocomplete_filter=TEDxBrownsvilleWomen&page=1&when=past'"
      ]
     },
     "metadata": {},
     "output_type": "display_data"
    },
    {
     "data": {
      "text/plain": [
       "'https://www.ted.com/tedx/events?autocomplete_filter=TEDxWomen&page=29&when=past'"
      ]
     },
     "metadata": {},
     "output_type": "display_data"
    },
    {
     "data": {
      "text/plain": [
       "'https://www.ted.com/tedx/events?autocomplete_filter=TEDxGeziraUniversity&page=1&when=past'"
      ]
     },
     "metadata": {},
     "output_type": "display_data"
    },
    {
     "data": {
      "text/plain": [
       "'https://www.ted.com/tedx/events?autocomplete_filter=TEDxBrownsvilleWomen&page=2&when=past'"
      ]
     },
     "metadata": {},
     "output_type": "display_data"
    },
    {
     "data": {
      "text/plain": [
       "'https://www.ted.com/tedx/events?autocomplete_filter=TEDxGeziraUniversity&page=2&when=past'"
      ]
     },
     "metadata": {},
     "output_type": "display_data"
    },
    {
     "data": {
      "text/plain": [
       "'https://www.ted.com/tedx/events?autocomplete_filter=TEDxWomen&page=30&when=past'"
      ]
     },
     "metadata": {},
     "output_type": "display_data"
    },
    {
     "data": {
      "text/plain": [
       "'https://www.ted.com/tedx/events?autocomplete_filter=TEDxMissionViejo&page=1&when=past'"
      ]
     },
     "metadata": {},
     "output_type": "display_data"
    },
    {
     "data": {
      "text/plain": [
       "'https://www.ted.com/tedx/events?autocomplete_filter=TEDxWWF&page=1&when=past'"
      ]
     },
     "metadata": {},
     "output_type": "display_data"
    },
    {
     "data": {
      "text/plain": [
       "'https://www.ted.com/tedx/events?autocomplete_filter=TEDxMissionViejo&page=2&when=past'"
      ]
     },
     "metadata": {},
     "output_type": "display_data"
    },
    {
     "data": {
      "text/plain": [
       "'https://www.ted.com/tedx/events?autocomplete_filter=TEDxWomen&page=31&when=past'"
      ]
     },
     "metadata": {},
     "output_type": "display_data"
    },
    {
     "data": {
      "text/plain": [
       "'https://www.ted.com/tedx/events?autocomplete_filter=TEDxWWF&page=2&when=past'"
      ]
     },
     "metadata": {},
     "output_type": "display_data"
    },
    {
     "data": {
      "text/plain": [
       "'https://www.ted.com/tedx/events?autocomplete_filter=TEDxConejo&page=1&when=past'"
      ]
     },
     "metadata": {},
     "output_type": "display_data"
    },
    {
     "data": {
      "text/plain": [
       "'https://www.ted.com/tedx/events?autocomplete_filter=TEDxLSRCollege&page=1&when=past'"
      ]
     },
     "metadata": {},
     "output_type": "display_data"
    },
    {
     "data": {
      "text/plain": [
       "'https://www.ted.com/tedx/events?autocomplete_filter=TEDxWomen&page=32&when=past'"
      ]
     },
     "metadata": {},
     "output_type": "display_data"
    },
    {
     "data": {
      "text/plain": [
       "'https://www.ted.com/tedx/events?autocomplete_filter=TEDxConejo&page=2&when=past'"
      ]
     },
     "metadata": {},
     "output_type": "display_data"
    },
    {
     "data": {
      "text/plain": [
       "'https://www.ted.com/tedx/events?autocomplete_filter=TEDxLSRCollege&page=2&when=past'"
      ]
     },
     "metadata": {},
     "output_type": "display_data"
    },
    {
     "data": {
      "text/plain": [
       "'https://www.ted.com/tedx/events?autocomplete_filter=TEDxWomen&page=33&when=past'"
      ]
     },
     "metadata": {},
     "output_type": "display_data"
    },
    {
     "data": {
      "text/plain": [
       "'https://www.ted.com/tedx/events?autocomplete_filter=TEDxSantAnnaSchool&page=1&when=past'"
      ]
     },
     "metadata": {},
     "output_type": "display_data"
    },
    {
     "data": {
      "text/plain": [
       "'https://www.ted.com/tedx/events?autocomplete_filter=TEDxNASA&page=1&when=past'"
      ]
     },
     "metadata": {},
     "output_type": "display_data"
    },
    {
     "data": {
      "text/plain": [
       "'https://www.ted.com/tedx/events?autocomplete_filter=TEDxSantAnnaSchool&page=2&when=past'"
      ]
     },
     "metadata": {},
     "output_type": "display_data"
    },
    {
     "data": {
      "text/plain": [
       "'https://www.ted.com/tedx/events?autocomplete_filter=TEDxKCG&page=1&when=past'"
      ]
     },
     "metadata": {},
     "output_type": "display_data"
    },
    {
     "data": {
      "text/plain": [
       "'https://www.ted.com/tedx/events?autocomplete_filter=TEDxVasa&page=1&when=past'"
      ]
     },
     "metadata": {},
     "output_type": "display_data"
    },
    {
     "data": {
      "text/plain": [
       "'https://www.ted.com/tedx/events?autocomplete_filter=TEDxNASA&page=2&when=past'"
      ]
     },
     "metadata": {},
     "output_type": "display_data"
    },
    {
     "data": {
      "text/plain": [
       "'https://www.ted.com/tedx/events?autocomplete_filter=TEDxKCG&page=2&when=past'"
      ]
     },
     "metadata": {},
     "output_type": "display_data"
    },
    {
     "data": {
      "text/plain": [
       "'https://www.ted.com/tedx/events?autocomplete_filter=TEDxYouth@WycombeAbbey&page=1&when=past'"
      ]
     },
     "metadata": {},
     "output_type": "display_data"
    },
    {
     "data": {
      "text/plain": [
       "'https://www.ted.com/tedx/events?autocomplete_filter=TEDxVasa&page=2&when=past'"
      ]
     },
     "metadata": {},
     "output_type": "display_data"
    },
    {
     "data": {
      "text/plain": [
       "'https://www.ted.com/tedx/events?autocomplete_filter=TEDxPompeii&page=1&when=past'"
      ]
     },
     "metadata": {},
     "output_type": "display_data"
    },
    {
     "data": {
      "text/plain": [
       "'https://www.ted.com/tedx/events?autocomplete_filter=TEDxYouth@WycombeAbbey&page=2&when=past'"
      ]
     },
     "metadata": {},
     "output_type": "display_data"
    },
    {
     "data": {
      "text/plain": [
       "'https://www.ted.com/tedx/events?autocomplete_filter=TEDxBlue&page=1&when=past'"
      ]
     },
     "metadata": {},
     "output_type": "display_data"
    },
    {
     "data": {
      "text/plain": [
       "'https://www.ted.com/tedx/events?autocomplete_filter=TEDxPompeii&page=2&when=past'"
      ]
     },
     "metadata": {},
     "output_type": "display_data"
    },
    {
     "data": {
      "text/plain": [
       "'https://www.ted.com/tedx/events?autocomplete_filter=TEDxTerrytalks&page=1&when=past'"
      ]
     },
     "metadata": {},
     "output_type": "display_data"
    },
    {
     "data": {
      "text/plain": [
       "'https://www.ted.com/tedx/events?autocomplete_filter=TEDxLeuphanaUniversityLüneburg&page=1&when=past'"
      ]
     },
     "metadata": {},
     "output_type": "display_data"
    },
    {
     "data": {
      "text/plain": [
       "'https://www.ted.com/tedx/events?autocomplete_filter=TEDxBlue&page=2&when=past'"
      ]
     },
     "metadata": {},
     "output_type": "display_data"
    },
    {
     "data": {
      "text/plain": [
       "'https://www.ted.com/tedx/events?autocomplete_filter=TEDxTerrytalks&page=2&when=past'"
      ]
     },
     "metadata": {},
     "output_type": "display_data"
    },
    {
     "data": {
      "text/plain": [
       "'https://www.ted.com/tedx/events?autocomplete_filter=TEDxLeuphanaUniversityLüneburg&page=2&when=past'"
      ]
     },
     "metadata": {},
     "output_type": "display_data"
    },
    {
     "data": {
      "text/plain": [
       "'https://www.ted.com/tedx/events?autocomplete_filter=TEDxJNTUK&page=1&when=past'"
      ]
     },
     "metadata": {},
     "output_type": "display_data"
    },
    {
     "data": {
      "text/plain": [
       "'https://www.ted.com/tedx/events?autocomplete_filter=TEDxExeterSalon&page=1&when=past'"
      ]
     },
     "metadata": {},
     "output_type": "display_data"
    },
    {
     "data": {
      "text/plain": [
       "'https://www.ted.com/tedx/events?autocomplete_filter=TEDxKAIST&page=1&when=past'"
      ]
     },
     "metadata": {},
     "output_type": "display_data"
    },
    {
     "data": {
      "text/plain": [
       "'https://www.ted.com/tedx/events?autocomplete_filter=TEDxJNTUK&page=2&when=past'"
      ]
     },
     "metadata": {},
     "output_type": "display_data"
    },
    {
     "data": {
      "text/plain": [
       "'https://www.ted.com/tedx/events?autocomplete_filter=TEDxBritishSchoolofBrussels&page=1&when=past'"
      ]
     },
     "metadata": {},
     "output_type": "display_data"
    },
    {
     "data": {
      "text/plain": [
       "'https://www.ted.com/tedx/events?autocomplete_filter=TEDxExeterSalon&page=2&when=past'"
      ]
     },
     "metadata": {},
     "output_type": "display_data"
    },
    {
     "data": {
      "text/plain": [
       "'https://www.ted.com/tedx/events?autocomplete_filter=TEDxKAIST&page=2&when=past'"
      ]
     },
     "metadata": {},
     "output_type": "display_data"
    },
    {
     "data": {
      "text/plain": [
       "'https://www.ted.com/tedx/events?autocomplete_filter=TEDxUniMAP&page=1&when=past'"
      ]
     },
     "metadata": {},
     "output_type": "display_data"
    },
    {
     "data": {
      "text/plain": [
       "'https://www.ted.com/tedx/events?autocomplete_filter=TEDxBritishSchoolofBrussels&page=2&when=past'"
      ]
     },
     "metadata": {},
     "output_type": "display_data"
    },
    {
     "data": {
      "text/plain": [
       "'https://www.ted.com/tedx/events?autocomplete_filter=TEDxItaewonChange&page=1&when=past'"
      ]
     },
     "metadata": {},
     "output_type": "display_data"
    },
    {
     "data": {
      "text/plain": [
       "'https://www.ted.com/tedx/events?autocomplete_filter=TEDxHelsinki&page=1&when=past'"
      ]
     },
     "metadata": {},
     "output_type": "display_data"
    },
    {
     "data": {
      "text/plain": [
       "'https://www.ted.com/tedx/events?autocomplete_filter=TEDxUniMAP&page=2&when=past'"
      ]
     },
     "metadata": {},
     "output_type": "display_data"
    },
    {
     "data": {
      "text/plain": [
       "'https://www.ted.com/tedx/events?autocomplete_filter=TEDxItaewonChange&page=2&when=past'"
      ]
     },
     "metadata": {},
     "output_type": "display_data"
    },
    {
     "data": {
      "text/plain": [
       "'https://www.ted.com/tedx/events?autocomplete_filter=TEDxHelsinki&page=2&when=past'"
      ]
     },
     "metadata": {},
     "output_type": "display_data"
    },
    {
     "data": {
      "text/plain": [
       "'https://www.ted.com/tedx/events?autocomplete_filter=TEDxColumbiaEngineering&page=1&when=past'"
      ]
     },
     "metadata": {},
     "output_type": "display_data"
    },
    {
     "data": {
      "text/plain": [
       "'https://www.ted.com/tedx/events?autocomplete_filter=TEDxModaSalon&page=1&when=past'"
      ]
     },
     "metadata": {},
     "output_type": "display_data"
    },
    {
     "data": {
      "text/plain": [
       "'https://www.ted.com/tedx/events?autocomplete_filter=TEDxSixteenMileCreek&page=1&when=past'"
      ]
     },
     "metadata": {},
     "output_type": "display_data"
    },
    {
     "data": {
      "text/plain": [
       "'https://www.ted.com/tedx/events?autocomplete_filter=TEDxColumbiaEngineering&page=2&when=past'"
      ]
     },
     "metadata": {},
     "output_type": "display_data"
    },
    {
     "data": {
      "text/plain": [
       "'https://www.ted.com/tedx/events?autocomplete_filter=TEDxModaSalon&page=2&when=past'"
      ]
     },
     "metadata": {},
     "output_type": "display_data"
    },
    {
     "data": {
      "text/plain": [
       "'https://www.ted.com/tedx/events?autocomplete_filter=TEDxSixteenMileCreek&page=2&when=past'"
      ]
     },
     "metadata": {},
     "output_type": "display_data"
    },
    {
     "data": {
      "text/plain": [
       "'https://www.ted.com/tedx/events?autocomplete_filter=TEDxAshburn&page=1&when=past'"
      ]
     },
     "metadata": {},
     "output_type": "display_data"
    },
    {
     "data": {
      "text/plain": [
       "'https://www.ted.com/tedx/events?autocomplete_filter=TEDxTughlaqRdChange&page=1&when=past'"
      ]
     },
     "metadata": {},
     "output_type": "display_data"
    },
    {
     "data": {
      "text/plain": [
       "'https://www.ted.com/tedx/events?autocomplete_filter=TEDxAndorralaVella&page=1&when=past'"
      ]
     },
     "metadata": {},
     "output_type": "display_data"
    },
    {
     "data": {
      "text/plain": [
       "'https://www.ted.com/tedx/events?autocomplete_filter=TEDxTughlaqRdChange&page=2&when=past'"
      ]
     },
     "metadata": {},
     "output_type": "display_data"
    },
    {
     "data": {
      "text/plain": [
       "'https://www.ted.com/tedx/events?autocomplete_filter=TEDxAshburn&page=2&when=past'"
      ]
     },
     "metadata": {},
     "output_type": "display_data"
    },
    {
     "data": {
      "text/plain": [
       "'https://www.ted.com/tedx/events?autocomplete_filter=TEDxAndorralaVella&page=2&when=past'"
      ]
     },
     "metadata": {},
     "output_type": "display_data"
    },
    {
     "data": {
      "text/plain": [
       "'https://www.ted.com/tedx/events?autocomplete_filter=TEDxAudencia&page=1&when=past'"
      ]
     },
     "metadata": {},
     "output_type": "display_data"
    },
    {
     "data": {
      "text/plain": [
       "'https://www.ted.com/tedx/events?autocomplete_filter=TEDxCSUN&page=1&when=past'"
      ]
     },
     "metadata": {},
     "output_type": "display_data"
    },
    {
     "data": {
      "text/plain": [
       "'https://www.ted.com/tedx/events?autocomplete_filter=TEDxMaui&page=1&when=past'"
      ]
     },
     "metadata": {},
     "output_type": "display_data"
    },
    {
     "data": {
      "text/plain": [
       "'https://www.ted.com/tedx/events?autocomplete_filter=TEDxAudencia&page=2&when=past'"
      ]
     },
     "metadata": {},
     "output_type": "display_data"
    },
    {
     "data": {
      "text/plain": [
       "'https://www.ted.com/tedx/events?autocomplete_filter=TEDxCSUN&page=2&when=past'"
      ]
     },
     "metadata": {},
     "output_type": "display_data"
    },
    {
     "data": {
      "text/plain": [
       "'https://www.ted.com/tedx/events?autocomplete_filter=TEDxMaui&page=2&when=past'"
      ]
     },
     "metadata": {},
     "output_type": "display_data"
    },
    {
     "data": {
      "text/plain": [
       "'https://www.ted.com/tedx/events?autocomplete_filter=TEDxSaoTome&page=1&when=past'"
      ]
     },
     "metadata": {},
     "output_type": "display_data"
    },
    {
     "data": {
      "text/plain": [
       "'https://www.ted.com/tedx/events?autocomplete_filter=TEDxTelAvivWomen&page=1&when=past'"
      ]
     },
     "metadata": {},
     "output_type": "display_data"
    },
    {
     "data": {
      "text/plain": [
       "'https://www.ted.com/tedx/events?autocomplete_filter=TEDxStGeorge&page=1&when=past'"
      ]
     },
     "metadata": {},
     "output_type": "display_data"
    },
    {
     "data": {
      "text/plain": [
       "'https://www.ted.com/tedx/events?autocomplete_filter=TEDxSaoTome&page=2&when=past'"
      ]
     },
     "metadata": {},
     "output_type": "display_data"
    },
    {
     "data": {
      "text/plain": [
       "'https://www.ted.com/tedx/events?autocomplete_filter=TEDxTelAvivWomen&page=2&when=past'"
      ]
     },
     "metadata": {},
     "output_type": "display_data"
    },
    {
     "data": {
      "text/plain": [
       "'https://www.ted.com/tedx/events?autocomplete_filter=TEDxStGeorge&page=2&when=past'"
      ]
     },
     "metadata": {},
     "output_type": "display_data"
    },
    {
     "data": {
      "text/plain": [
       "'https://www.ted.com/tedx/events?autocomplete_filter=TEDxGoteborg&page=1&when=past'"
      ]
     },
     "metadata": {},
     "output_type": "display_data"
    },
    {
     "data": {
      "text/plain": [
       "'https://www.ted.com/tedx/events?autocomplete_filter=TEDxLawrenceU&page=1&when=past'"
      ]
     },
     "metadata": {},
     "output_type": "display_data"
    },
    {
     "data": {
      "text/plain": [
       "'https://www.ted.com/tedx/events?autocomplete_filter=TEDxUPRM&page=1&when=past'"
      ]
     },
     "metadata": {},
     "output_type": "display_data"
    },
    {
     "data": {
      "text/plain": [
       "'https://www.ted.com/tedx/events?autocomplete_filter=TEDxUPRM&page=2&when=past'"
      ]
     },
     "metadata": {},
     "output_type": "display_data"
    },
    {
     "data": {
      "text/plain": [
       "'https://www.ted.com/tedx/events?autocomplete_filter=TEDxLawrenceU&page=2&when=past'"
      ]
     },
     "metadata": {},
     "output_type": "display_data"
    },
    {
     "data": {
      "text/plain": [
       "'https://www.ted.com/tedx/events?autocomplete_filter=TEDxGoteborg&page=2&when=past'"
      ]
     },
     "metadata": {},
     "output_type": "display_data"
    },
    {
     "data": {
      "text/plain": [
       "'https://www.ted.com/tedx/events?autocomplete_filter=TEDxSevenMileBeach&page=1&when=past'"
      ]
     },
     "metadata": {},
     "output_type": "display_data"
    },
    {
     "data": {
      "text/plain": [
       "'https://www.ted.com/tedx/events?autocomplete_filter=TEDxMuncyStatePrison&page=1&when=past'"
      ]
     },
     "metadata": {},
     "output_type": "display_data"
    },
    {
     "data": {
      "text/plain": [
       "'https://www.ted.com/tedx/events?autocomplete_filter=TEDxRiverside&page=1&when=past'"
      ]
     },
     "metadata": {},
     "output_type": "display_data"
    },
    {
     "data": {
      "text/plain": [
       "'https://www.ted.com/tedx/events?autocomplete_filter=TEDxSevenMileBeach&page=2&when=past'"
      ]
     },
     "metadata": {},
     "output_type": "display_data"
    },
    {
     "data": {
      "text/plain": [
       "'https://www.ted.com/tedx/events?autocomplete_filter=TEDxMuncyStatePrison&page=2&when=past'"
      ]
     },
     "metadata": {},
     "output_type": "display_data"
    },
    {
     "data": {
      "text/plain": [
       "'https://www.ted.com/tedx/events?autocomplete_filter=TEDxRiverside&page=2&when=past'"
      ]
     },
     "metadata": {},
     "output_type": "display_data"
    },
    {
     "data": {
      "text/plain": [
       "'https://www.ted.com/tedx/events?autocomplete_filter=TEDxBushnellPark&page=1&when=past'"
      ]
     },
     "metadata": {},
     "output_type": "display_data"
    },
    {
     "data": {
      "text/plain": [
       "'https://www.ted.com/tedx/events?autocomplete_filter=TEDxInhaU&page=1&when=past'"
      ]
     },
     "metadata": {},
     "output_type": "display_data"
    },
    {
     "data": {
      "text/plain": [
       "'https://www.ted.com/tedx/events?autocomplete_filter=TEDxMSVU:&page=1&when=past'"
      ]
     },
     "metadata": {},
     "output_type": "display_data"
    },
    {
     "data": {
      "text/plain": [
       "'https://www.ted.com/tedx/events?autocomplete_filter=TEDxBushnellPark&page=2&when=past'"
      ]
     },
     "metadata": {},
     "output_type": "display_data"
    },
    {
     "data": {
      "text/plain": [
       "'https://www.ted.com/tedx/events?autocomplete_filter=TEDxKatuah&page=1&when=past'"
      ]
     },
     "metadata": {},
     "output_type": "display_data"
    },
    {
     "data": {
      "text/plain": [
       "'https://www.ted.com/tedx/events?autocomplete_filter=TEDxInhaU&page=2&when=past'"
      ]
     },
     "metadata": {},
     "output_type": "display_data"
    },
    {
     "data": {
      "text/plain": [
       "'https://www.ted.com/tedx/events?autocomplete_filter=TEDxEast:&page=1&when=past'"
      ]
     },
     "metadata": {},
     "output_type": "display_data"
    },
    {
     "data": {
      "text/plain": [
       "'https://www.ted.com/tedx/events?autocomplete_filter=TEDxKatuah&page=2&when=past'"
      ]
     },
     "metadata": {},
     "output_type": "display_data"
    },
    {
     "data": {
      "text/plain": [
       "'https://www.ted.com/tedx/events?autocomplete_filter=TEDxUFS&page=1&when=past'"
      ]
     },
     "metadata": {},
     "output_type": "display_data"
    },
    {
     "data": {
      "text/plain": [
       "'https://www.ted.com/tedx/events?autocomplete_filter=TEDxUBCOkanagan&page=1&when=past'"
      ]
     },
     "metadata": {},
     "output_type": "display_data"
    },
    {
     "data": {
      "text/plain": [
       "'https://www.ted.com/tedx/events?autocomplete_filter=TEDxNCU&page=1&when=past'"
      ]
     },
     "metadata": {},
     "output_type": "display_data"
    },
    {
     "data": {
      "text/plain": [
       "'https://www.ted.com/tedx/events?autocomplete_filter=TEDxUBCOkanagan&page=2&when=past'"
      ]
     },
     "metadata": {},
     "output_type": "display_data"
    },
    {
     "data": {
      "text/plain": [
       "'https://www.ted.com/tedx/events?autocomplete_filter=TEDxUFS&page=2&when=past'"
      ]
     },
     "metadata": {},
     "output_type": "display_data"
    },
    {
     "data": {
      "text/plain": [
       "'https://www.ted.com/tedx/events?autocomplete_filter=TEDxNCU&page=2&when=past'"
      ]
     },
     "metadata": {},
     "output_type": "display_data"
    },
    {
     "data": {
      "text/plain": [
       "'https://www.ted.com/tedx/events?autocomplete_filter=TEDxYouth@WASO&page=1&when=past'"
      ]
     },
     "metadata": {},
     "output_type": "display_data"
    },
    {
     "data": {
      "text/plain": [
       "'https://www.ted.com/tedx/events?autocomplete_filter=TEDxJamaica&page=1&when=past'"
      ]
     },
     "metadata": {},
     "output_type": "display_data"
    },
    {
     "data": {
      "text/plain": [
       "'https://www.ted.com/tedx/events?autocomplete_filter=TEDxMonroeCorrectionalComplex&page=1&when=past'"
      ]
     },
     "metadata": {},
     "output_type": "display_data"
    },
    {
     "data": {
      "text/plain": [
       "'https://www.ted.com/tedx/events?autocomplete_filter=TEDxJamaica&page=2&when=past'"
      ]
     },
     "metadata": {},
     "output_type": "display_data"
    },
    {
     "data": {
      "text/plain": [
       "'https://www.ted.com/tedx/events?autocomplete_filter=TEDxYouth@WASO&page=2&when=past'"
      ]
     },
     "metadata": {},
     "output_type": "display_data"
    },
    {
     "data": {
      "text/plain": [
       "'https://www.ted.com/tedx/events?autocomplete_filter=TEDxMonroeCorrectionalComplex&page=2&when=past'"
      ]
     },
     "metadata": {},
     "output_type": "display_data"
    },
    {
     "data": {
      "text/plain": [
       "'https://www.ted.com/tedx/events?autocomplete_filter=TEDxDCU&page=1&when=past'"
      ]
     },
     "metadata": {},
     "output_type": "display_data"
    },
    {
     "data": {
      "text/plain": [
       "'https://www.ted.com/tedx/events?autocomplete_filter=TEDxCosmoPark&page=1&when=past'"
      ]
     },
     "metadata": {},
     "output_type": "display_data"
    },
    {
     "data": {
      "text/plain": [
       "'https://www.ted.com/tedx/events?autocomplete_filter=TEDxAlgonquinCollege&page=1&when=past'"
      ]
     },
     "metadata": {},
     "output_type": "display_data"
    },
    {
     "data": {
      "text/plain": [
       "'https://www.ted.com/tedx/events?autocomplete_filter=TEDxDCU&page=2&when=past'"
      ]
     },
     "metadata": {},
     "output_type": "display_data"
    },
    {
     "data": {
      "text/plain": [
       "'https://www.ted.com/tedx/events?autocomplete_filter=TEDxCosmoPark&page=2&when=past'"
      ]
     },
     "metadata": {},
     "output_type": "display_data"
    },
    {
     "data": {
      "text/plain": [
       "'https://www.ted.com/tedx/events?autocomplete_filter=TEDxAlgonquinCollege&page=2&when=past'"
      ]
     },
     "metadata": {},
     "output_type": "display_data"
    },
    {
     "data": {
      "text/plain": [
       "'https://www.ted.com/tedx/events?autocomplete_filter=TEDxNextGenerationAsheville&page=1&when=past'"
      ]
     },
     "metadata": {},
     "output_type": "display_data"
    },
    {
     "data": {
      "text/plain": [
       "'https://www.ted.com/tedx/events?autocomplete_filter=TEDxLoodusele&page=1&when=past'"
      ]
     },
     "metadata": {},
     "output_type": "display_data"
    },
    {
     "data": {
      "text/plain": [
       "'https://www.ted.com/tedx/events?autocomplete_filter=TEDxVorobyovy-Gory&page=1&when=past'"
      ]
     },
     "metadata": {},
     "output_type": "display_data"
    },
    {
     "data": {
      "text/plain": [
       "'https://www.ted.com/tedx/events?autocomplete_filter=TEDxNextGenerationAsheville&page=2&when=past'"
      ]
     },
     "metadata": {},
     "output_type": "display_data"
    },
    {
     "data": {
      "text/plain": [
       "'https://www.ted.com/tedx/events?autocomplete_filter=TEDxVorobyovy-Gory&page=2&when=past'"
      ]
     },
     "metadata": {},
     "output_type": "display_data"
    },
    {
     "data": {
      "text/plain": [
       "'https://www.ted.com/tedx/events?autocomplete_filter=TEDxLoodusele&page=2&when=past'"
      ]
     },
     "metadata": {},
     "output_type": "display_data"
    },
    {
     "data": {
      "text/plain": [
       "'https://www.ted.com/tedx/events?autocomplete_filter=TEDxPrincetonlibrary&page=1&when=past'"
      ]
     },
     "metadata": {},
     "output_type": "display_data"
    },
    {
     "data": {
      "text/plain": [
       "'https://www.ted.com/tedx/events?autocomplete_filter=TEDxHarvardLaw&page=1&when=past'"
      ]
     },
     "metadata": {},
     "output_type": "display_data"
    },
    {
     "data": {
      "text/plain": [
       "'https://www.ted.com/tedx/events?autocomplete_filter=TEDxAEDB&page=1&when=past'"
      ]
     },
     "metadata": {},
     "output_type": "display_data"
    },
    {
     "data": {
      "text/plain": [
       "'https://www.ted.com/tedx/events?autocomplete_filter=TEDxPrincetonlibrary&page=2&when=past'"
      ]
     },
     "metadata": {},
     "output_type": "display_data"
    },
    {
     "data": {
      "text/plain": [
       "'https://www.ted.com/tedx/events?autocomplete_filter=TEDxAEDB&page=2&when=past'"
      ]
     },
     "metadata": {},
     "output_type": "display_data"
    },
    {
     "data": {
      "text/plain": [
       "'https://www.ted.com/tedx/events?autocomplete_filter=TEDxHarvardLaw&page=2&when=past'"
      ]
     },
     "metadata": {},
     "output_type": "display_data"
    },
    {
     "data": {
      "text/plain": [
       "'https://www.ted.com/tedx/events?autocomplete_filter=TEDxIsereRiver&page=1&when=past'"
      ]
     },
     "metadata": {},
     "output_type": "display_data"
    },
    {
     "data": {
      "text/plain": [
       "'https://www.ted.com/tedx/events?autocomplete_filter=TEDxLinnaeusUniversity&page=1&when=past'"
      ]
     },
     "metadata": {},
     "output_type": "display_data"
    },
    {
     "data": {
      "text/plain": [
       "'https://www.ted.com/tedx/events?autocomplete_filter=TEDxMETU&page=1&when=past'"
      ]
     },
     "metadata": {},
     "output_type": "display_data"
    },
    {
     "data": {
      "text/plain": [
       "'https://www.ted.com/tedx/events?autocomplete_filter=TEDxIsereRiver&page=2&when=past'"
      ]
     },
     "metadata": {},
     "output_type": "display_data"
    },
    {
     "data": {
      "text/plain": [
       "'https://www.ted.com/tedx/events?autocomplete_filter=TEDxNewSt&page=1&when=past'"
      ]
     },
     "metadata": {},
     "output_type": "display_data"
    },
    {
     "data": {
      "text/plain": [
       "'https://www.ted.com/tedx/events?autocomplete_filter=TEDxLinnaeusUniversity&page=2&when=past'"
      ]
     },
     "metadata": {},
     "output_type": "display_data"
    },
    {
     "data": {
      "text/plain": [
       "'https://www.ted.com/tedx/events?autocomplete_filter=TEDxMETU&page=2&when=past'"
      ]
     },
     "metadata": {},
     "output_type": "display_data"
    },
    {
     "data": {
      "text/plain": [
       "'https://www.ted.com/tedx/events?autocomplete_filter=TEDxLosAltosHigh&page=1&when=past'"
      ]
     },
     "metadata": {},
     "output_type": "display_data"
    },
    {
     "data": {
      "text/plain": [
       "'https://www.ted.com/tedx/events?autocomplete_filter=TEDxBMSIT&page=1&when=past'"
      ]
     },
     "metadata": {},
     "output_type": "display_data"
    },
    {
     "data": {
      "text/plain": [
       "'https://www.ted.com/tedx/events?autocomplete_filter=TEDxNewSt&page=2&when=past'"
      ]
     },
     "metadata": {},
     "output_type": "display_data"
    },
    {
     "data": {
      "text/plain": [
       "'https://www.ted.com/tedx/events?autocomplete_filter=TEDxErbil&page=1&when=past'"
      ]
     },
     "metadata": {},
     "output_type": "display_data"
    },
    {
     "data": {
      "text/plain": [
       "'https://www.ted.com/tedx/events?autocomplete_filter=TEDxLosAltosHigh&page=2&when=past'"
      ]
     },
     "metadata": {},
     "output_type": "display_data"
    },
    {
     "data": {
      "text/plain": [
       "'https://www.ted.com/tedx/events?autocomplete_filter=TEDxBMSIT&page=2&when=past'"
      ]
     },
     "metadata": {},
     "output_type": "display_data"
    },
    {
     "data": {
      "text/plain": [
       "'https://www.ted.com/tedx/events?autocomplete_filter=TEDxRedmond&page=1&when=past'"
      ]
     },
     "metadata": {},
     "output_type": "display_data"
    },
    {
     "data": {
      "text/plain": [
       "'https://www.ted.com/tedx/events?autocomplete_filter=TEDxFeira&page=1&when=past'"
      ]
     },
     "metadata": {},
     "output_type": "display_data"
    },
    {
     "data": {
      "text/plain": [
       "'https://www.ted.com/tedx/events?autocomplete_filter=TEDxErbil&page=2&when=past'"
      ]
     },
     "metadata": {},
     "output_type": "display_data"
    },
    {
     "data": {
      "text/plain": [
       "'https://www.ted.com/tedx/events?autocomplete_filter=TEDxRedmond&page=2&when=past'"
      ]
     },
     "metadata": {},
     "output_type": "display_data"
    },
    {
     "data": {
      "text/plain": [
       "'https://www.ted.com/tedx/events?autocomplete_filter=TEDxEureka&page=1&when=past'"
      ]
     },
     "metadata": {},
     "output_type": "display_data"
    },
    {
     "data": {
      "text/plain": [
       "'https://www.ted.com/tedx/events?autocomplete_filter=TEDxFeira&page=2&when=past'"
      ]
     },
     "metadata": {},
     "output_type": "display_data"
    },
    {
     "data": {
      "text/plain": [
       "'https://www.ted.com/tedx/events?autocomplete_filter=TEDxJardins&page=1&when=past'"
      ]
     },
     "metadata": {},
     "output_type": "display_data"
    },
    {
     "data": {
      "text/plain": [
       "'https://www.ted.com/tedx/events?autocomplete_filter=TEDxKeioSFC&page=1&when=past'"
      ]
     },
     "metadata": {},
     "output_type": "display_data"
    },
    {
     "data": {
      "text/plain": [
       "'https://www.ted.com/tedx/events?autocomplete_filter=TEDxEureka&page=2&when=past'"
      ]
     },
     "metadata": {},
     "output_type": "display_data"
    },
    {
     "data": {
      "text/plain": [
       "'https://www.ted.com/tedx/events?autocomplete_filter=TEDxMIA&page=1&when=past'"
      ]
     },
     "metadata": {},
     "output_type": "display_data"
    },
    {
     "data": {
      "text/plain": [
       "'https://www.ted.com/tedx/events?autocomplete_filter=TEDxJardins&page=2&when=past'"
      ]
     },
     "metadata": {},
     "output_type": "display_data"
    },
    {
     "data": {
      "text/plain": [
       "'https://www.ted.com/tedx/events?autocomplete_filter=TEDxKeioSFC&page=2&when=past'"
      ]
     },
     "metadata": {},
     "output_type": "display_data"
    },
    {
     "data": {
      "text/plain": [
       "'https://www.ted.com/tedx/events?autocomplete_filter=TEDxAbidjanSalon&page=1&when=past'"
      ]
     },
     "metadata": {},
     "output_type": "display_data"
    },
    {
     "data": {
      "text/plain": [
       "'https://www.ted.com/tedx/events?autocomplete_filter=TEDxDonauinselSalon&page=1&when=past'"
      ]
     },
     "metadata": {},
     "output_type": "display_data"
    },
    {
     "data": {
      "text/plain": [
       "'https://www.ted.com/tedx/events?autocomplete_filter=TEDxMIA&page=2&when=past'"
      ]
     },
     "metadata": {},
     "output_type": "display_data"
    },
    {
     "data": {
      "text/plain": [
       "'https://www.ted.com/tedx/events?autocomplete_filter=TEDxAbidjanSalon&page=2&when=past'"
      ]
     },
     "metadata": {},
     "output_type": "display_data"
    },
    {
     "data": {
      "text/plain": [
       "'https://www.ted.com/tedx/events?autocomplete_filter=TEDxDonauinselSalon&page=2&when=past'"
      ]
     },
     "metadata": {},
     "output_type": "display_data"
    },
    {
     "data": {
      "text/plain": [
       "'https://www.ted.com/tedx/events?autocomplete_filter=TEDxUniversityofBrighton&page=1&when=past'"
      ]
     },
     "metadata": {},
     "output_type": "display_data"
    },
    {
     "data": {
      "text/plain": [
       "'https://www.ted.com/tedx/events?autocomplete_filter=TEDxFORESchool&page=1&when=past'"
      ]
     },
     "metadata": {},
     "output_type": "display_data"
    },
    {
     "data": {
      "text/plain": [
       "'https://www.ted.com/tedx/events?autocomplete_filter=TEDxHogeschoolUtrecht&page=1&when=past'"
      ]
     },
     "metadata": {},
     "output_type": "display_data"
    },
    {
     "data": {
      "text/plain": [
       "'https://www.ted.com/tedx/events?autocomplete_filter=TEDxUniversityofBrighton&page=2&when=past'"
      ]
     },
     "metadata": {},
     "output_type": "display_data"
    },
    {
     "data": {
      "text/plain": [
       "'https://www.ted.com/tedx/events?autocomplete_filter=TEDxYouth@JamesRiverRoad&page=1&when=past'"
      ]
     },
     "metadata": {},
     "output_type": "display_data"
    },
    {
     "data": {
      "text/plain": [
       "'https://www.ted.com/tedx/events?autocomplete_filter=TEDxFORESchool&page=2&when=past'"
      ]
     },
     "metadata": {},
     "output_type": "display_data"
    },
    {
     "data": {
      "text/plain": [
       "'https://www.ted.com/tedx/events?autocomplete_filter=TEDxWashingtonSquare&page=1&when=past'"
      ]
     },
     "metadata": {},
     "output_type": "display_data"
    },
    {
     "data": {
      "text/plain": [
       "'https://www.ted.com/tedx/events?autocomplete_filter=TEDxHomeBushRdWomen&page=1&when=past'"
      ]
     },
     "metadata": {},
     "output_type": "display_data"
    },
    {
     "data": {
      "text/plain": [
       "'https://www.ted.com/tedx/events?autocomplete_filter=TEDxYouth@JamesRiverRoad&page=2&when=past'"
      ]
     },
     "metadata": {},
     "output_type": "display_data"
    },
    {
     "data": {
      "text/plain": [
       "'https://www.ted.com/tedx/events?autocomplete_filter=TEDxWashingtonSquare&page=2&when=past'"
      ]
     },
     "metadata": {},
     "output_type": "display_data"
    },
    {
     "data": {
      "text/plain": [
       "'https://www.ted.com/tedx/events?autocomplete_filter=TEDxRussellSquare&page=1&when=past'"
      ]
     },
     "metadata": {},
     "output_type": "display_data"
    },
    {
     "data": {
      "text/plain": [
       "'https://www.ted.com/tedx/events?autocomplete_filter=TEDxHomeBushRdWomen&page=2&when=past'"
      ]
     },
     "metadata": {},
     "output_type": "display_data"
    },
    {
     "data": {
      "text/plain": [
       "'https://www.ted.com/tedx/events?autocomplete_filter=TEDxOkanaganCollege&page=1&when=past'"
      ]
     },
     "metadata": {},
     "output_type": "display_data"
    },
    {
     "data": {
      "text/plain": [
       "'https://www.ted.com/tedx/events?autocomplete_filter=TEDxOkanaganCollege&page=2&when=past'"
      ]
     },
     "metadata": {},
     "output_type": "display_data"
    },
    {
     "data": {
      "text/plain": [
       "'https://www.ted.com/tedx/events?autocomplete_filter=TEDxBethesdaWomen&page=1&when=past'"
      ]
     },
     "metadata": {},
     "output_type": "display_data"
    },
    {
     "data": {
      "text/plain": [
       "'https://www.ted.com/tedx/events?autocomplete_filter=TEDxRussellSquare&page=2&when=past'"
      ]
     },
     "metadata": {},
     "output_type": "display_data"
    },
    {
     "data": {
      "text/plain": [
       "'https://www.ted.com/tedx/events?autocomplete_filter=TEDxUFPE&page=1&when=past'"
      ]
     },
     "metadata": {},
     "output_type": "display_data"
    },
    {
     "data": {
      "text/plain": [
       "'https://www.ted.com/tedx/events?autocomplete_filter=TEDxRockyViewSchoolsED&page=1&when=past'"
      ]
     },
     "metadata": {},
     "output_type": "display_data"
    },
    {
     "data": {
      "text/plain": [
       "'https://www.ted.com/tedx/events?autocomplete_filter=TEDxBethesdaWomen&page=2&when=past'"
      ]
     },
     "metadata": {},
     "output_type": "display_data"
    },
    {
     "data": {
      "text/plain": [
       "'https://www.ted.com/tedx/events?autocomplete_filter=TEDxUFPE&page=2&when=past'"
      ]
     },
     "metadata": {},
     "output_type": "display_data"
    },
    {
     "data": {
      "text/plain": [
       "'https://www.ted.com/tedx/events?autocomplete_filter=TEDxNCSU&page=1&when=past'"
      ]
     },
     "metadata": {},
     "output_type": "display_data"
    },
    {
     "data": {
      "text/plain": [
       "'https://www.ted.com/tedx/events?autocomplete_filter=TEDxRockyViewSchoolsED&page=2&when=past'"
      ]
     },
     "metadata": {},
     "output_type": "display_data"
    },
    {
     "data": {
      "text/plain": [
       "'https://www.ted.com/tedx/events?autocomplete_filter=TEDxGallaudet&page=1&when=past'"
      ]
     },
     "metadata": {},
     "output_type": "display_data"
    },
    {
     "data": {
      "text/plain": [
       "'https://www.ted.com/tedx/events?autocomplete_filter=TEDxVazhuthacaud&page=1&when=past'"
      ]
     },
     "metadata": {},
     "output_type": "display_data"
    },
    {
     "data": {
      "text/plain": [
       "'https://www.ted.com/tedx/events?autocomplete_filter=TEDxNCSU&page=2&when=past'"
      ]
     },
     "metadata": {},
     "output_type": "display_data"
    },
    {
     "data": {
      "text/plain": [
       "'https://www.ted.com/tedx/events?autocomplete_filter=TEDxGallaudet&page=2&when=past'"
      ]
     },
     "metadata": {},
     "output_type": "display_data"
    },
    {
     "data": {
      "text/plain": [
       "'https://www.ted.com/tedx/events?autocomplete_filter=TEDxGrandValley&page=1&when=past'"
      ]
     },
     "metadata": {},
     "output_type": "display_data"
    },
    {
     "data": {
      "text/plain": [
       "'https://www.ted.com/tedx/events?autocomplete_filter=TEDxVazhuthacaud&page=2&when=past'"
      ]
     },
     "metadata": {},
     "output_type": "display_data"
    },
    {
     "data": {
      "text/plain": [
       "'https://www.ted.com/tedx/events?autocomplete_filter=TEDxEastEnd&page=1&when=past'"
      ]
     },
     "metadata": {},
     "output_type": "display_data"
    },
    {
     "data": {
      "text/plain": [
       "'https://www.ted.com/tedx/events?autocomplete_filter=TEDxMITClubSingapore&page=1&when=past'"
      ]
     },
     "metadata": {},
     "output_type": "display_data"
    },
    {
     "data": {
      "text/plain": [
       "'https://www.ted.com/tedx/events?autocomplete_filter=TEDxGrandValley&page=2&when=past'"
      ]
     },
     "metadata": {},
     "output_type": "display_data"
    },
    {
     "data": {
      "text/plain": [
       "'https://www.ted.com/tedx/events?autocomplete_filter=TEDxEastEnd&page=2&when=past'"
      ]
     },
     "metadata": {},
     "output_type": "display_data"
    },
    {
     "data": {
      "text/plain": [
       "'https://www.ted.com/tedx/events?autocomplete_filter=TEDxMITClubSingapore&page=2&when=past'"
      ]
     },
     "metadata": {},
     "output_type": "display_data"
    },
    {
     "data": {
      "text/plain": [
       "'https://www.ted.com/tedx/events?autocomplete_filter=TEDxBanyanTreeSchoolED&page=1&when=past'"
      ]
     },
     "metadata": {},
     "output_type": "display_data"
    },
    {
     "data": {
      "text/plain": [
       "'https://www.ted.com/tedx/events?autocomplete_filter=TEDxTriangleNC&page=1&when=past'"
      ]
     },
     "metadata": {},
     "output_type": "display_data"
    },
    {
     "data": {
      "text/plain": [
       "'https://www.ted.com/tedx/events?autocomplete_filter=TEDxCrocettaSalon&page=1&when=past'"
      ]
     },
     "metadata": {},
     "output_type": "display_data"
    },
    {
     "data": {
      "text/plain": [
       "'https://www.ted.com/tedx/events?autocomplete_filter=TEDxBanyanTreeSchoolED&page=2&when=past'"
      ]
     },
     "metadata": {},
     "output_type": "display_data"
    },
    {
     "data": {
      "text/plain": [
       "'https://www.ted.com/tedx/events?autocomplete_filter=TEDxTriangleNC&page=2&when=past'"
      ]
     },
     "metadata": {},
     "output_type": "display_data"
    },
    {
     "data": {
      "text/plain": [
       "'https://www.ted.com/tedx/events?autocomplete_filter=TEDxLBSIM&page=1&when=past'"
      ]
     },
     "metadata": {},
     "output_type": "display_data"
    },
    {
     "data": {
      "text/plain": [
       "'https://www.ted.com/tedx/events?autocomplete_filter=TEDxCrocettaSalon&page=2&when=past'"
      ]
     },
     "metadata": {},
     "output_type": "display_data"
    },
    {
     "data": {
      "text/plain": [
       "'https://www.ted.com/tedx/events?autocomplete_filter=TEDxChattanooga&page=1&when=past'"
      ]
     },
     "metadata": {},
     "output_type": "display_data"
    },
    {
     "data": {
      "text/plain": [
       "'https://www.ted.com/tedx/events?autocomplete_filter=TEDxBrusselsChange&page=1&when=past'"
      ]
     },
     "metadata": {},
     "output_type": "display_data"
    },
    {
     "data": {
      "text/plain": [
       "'https://www.ted.com/tedx/events?autocomplete_filter=TEDxChattanooga&page=2&when=past'"
      ]
     },
     "metadata": {},
     "output_type": "display_data"
    },
    {
     "data": {
      "text/plain": [
       "'https://www.ted.com/tedx/events?autocomplete_filter=TEDxLBSIM&page=2&when=past'"
      ]
     },
     "metadata": {},
     "output_type": "display_data"
    },
    {
     "data": {
      "text/plain": [
       "'https://www.ted.com/tedx/events?autocomplete_filter=TEDxBrusselsChange&page=2&when=past'"
      ]
     },
     "metadata": {},
     "output_type": "display_data"
    },
    {
     "data": {
      "text/plain": [
       "'https://www.ted.com/tedx/events?autocomplete_filter=TEDxUFM:&page=1&when=past'"
      ]
     },
     "metadata": {},
     "output_type": "display_data"
    },
    {
     "data": {
      "text/plain": [
       "'https://www.ted.com/tedx/events?autocomplete_filter=TEDxJainUniversity&page=1&when=past'"
      ]
     },
     "metadata": {},
     "output_type": "display_data"
    },
    {
     "data": {
      "text/plain": [
       "'https://www.ted.com/tedx/events?autocomplete_filter=TEDxMedellín&page=1&when=past'"
      ]
     },
     "metadata": {},
     "output_type": "display_data"
    },
    {
     "data": {
      "text/plain": [
       "'https://www.ted.com/tedx/events?autocomplete_filter=TEDxPisa2015&page=1&when=past'"
      ]
     },
     "metadata": {},
     "output_type": "display_data"
    },
    {
     "data": {
      "text/plain": [
       "'https://www.ted.com/tedx/events?autocomplete_filter=TEDxJainUniversity&page=2&when=past'"
      ]
     },
     "metadata": {},
     "output_type": "display_data"
    },
    {
     "data": {
      "text/plain": [
       "'https://www.ted.com/tedx/events?autocomplete_filter=TEDxJerusalem&page=1&when=past'"
      ]
     },
     "metadata": {},
     "output_type": "display_data"
    },
    {
     "data": {
      "text/plain": [
       "'https://www.ted.com/tedx/events?autocomplete_filter=TEDxWellsStreetED&page=1&when=past'"
      ]
     },
     "metadata": {},
     "output_type": "display_data"
    },
    {
     "data": {
      "text/plain": [
       "'https://www.ted.com/tedx/events?autocomplete_filter=TEDxMedellín&page=2&when=past'"
      ]
     },
     "metadata": {},
     "output_type": "display_data"
    },
    {
     "data": {
      "text/plain": [
       "'https://www.ted.com/tedx/events?autocomplete_filter=TEDxJerusalem&page=2&when=past'"
      ]
     },
     "metadata": {},
     "output_type": "display_data"
    },
    {
     "data": {
      "text/plain": [
       "'https://www.ted.com/tedx/events?autocomplete_filter=TEDxYouth@ISA&page=1&when=past'"
      ]
     },
     "metadata": {},
     "output_type": "display_data"
    },
    {
     "data": {
      "text/plain": [
       "'https://www.ted.com/tedx/events?autocomplete_filter=TEDxWellsStreetED&page=2&when=past'"
      ]
     },
     "metadata": {},
     "output_type": "display_data"
    },
    {
     "data": {
      "text/plain": [
       "'https://www.ted.com/tedx/events?autocomplete_filter=TEDxWestminsterCollegeSLC&page=1&when=past'"
      ]
     },
     "metadata": {},
     "output_type": "display_data"
    },
    {
     "data": {
      "text/plain": [
       "'https://www.ted.com/tedx/events?autocomplete_filter=TEDxKrakow&page=1&when=past'"
      ]
     },
     "metadata": {},
     "output_type": "display_data"
    },
    {
     "data": {
      "text/plain": [
       "'https://www.ted.com/tedx/events?autocomplete_filter=TEDxYouth@ISA&page=2&when=past'"
      ]
     },
     "metadata": {},
     "output_type": "display_data"
    },
    {
     "data": {
      "text/plain": [
       "'https://www.ted.com/tedx/events?autocomplete_filter=TEDxWestminsterCollegeSLC&page=2&when=past'"
      ]
     },
     "metadata": {},
     "output_type": "display_data"
    },
    {
     "data": {
      "text/plain": [
       "'https://www.ted.com/tedx/events?autocomplete_filter=TEDxRio&page=1&when=past'"
      ]
     },
     "metadata": {},
     "output_type": "display_data"
    },
    {
     "data": {
      "text/plain": [
       "'https://www.ted.com/tedx/events?autocomplete_filter=TEDxNottingHill&page=1&when=past'"
      ]
     },
     "metadata": {},
     "output_type": "display_data"
    },
    {
     "data": {
      "text/plain": [
       "'https://www.ted.com/tedx/events?autocomplete_filter=TEDxKrakow&page=2&when=past'"
      ]
     },
     "metadata": {},
     "output_type": "display_data"
    },
    {
     "data": {
      "text/plain": [
       "'https://www.ted.com/tedx/events?autocomplete_filter=TEDxNottingHill&page=2&when=past'"
      ]
     },
     "metadata": {},
     "output_type": "display_data"
    },
    {
     "data": {
      "text/plain": [
       "'https://www.ted.com/tedx/events?autocomplete_filter=TEDxKrakow&page=3&when=past'"
      ]
     },
     "metadata": {},
     "output_type": "display_data"
    },
    {
     "data": {
      "text/plain": [
       "'https://www.ted.com/tedx/events?autocomplete_filter=TEDxRio&page=2&when=past'"
      ]
     },
     "metadata": {},
     "output_type": "display_data"
    },
    {
     "data": {
      "text/plain": [
       "'https://www.ted.com/tedx/events?autocomplete_filter=TEDxYouth@Kenyalang&page=1&when=past'"
      ]
     },
     "metadata": {},
     "output_type": "display_data"
    },
    {
     "data": {
      "text/plain": [
       "'https://www.ted.com/tedx/events?autocomplete_filter=TEDxRio&page=3&when=past'"
      ]
     },
     "metadata": {},
     "output_type": "display_data"
    },
    {
     "data": {
      "text/plain": [
       "'https://www.ted.com/tedx/events?autocomplete_filter=TEDxSchrieverStreet&page=1&when=past'"
      ]
     },
     "metadata": {},
     "output_type": "display_data"
    },
    {
     "data": {
      "text/plain": [
       "'https://www.ted.com/tedx/events?autocomplete_filter=TEDxYouth@Kenyalang&page=2&when=past'"
      ]
     },
     "metadata": {},
     "output_type": "display_data"
    },
    {
     "data": {
      "text/plain": [
       "'https://www.ted.com/tedx/events?autocomplete_filter=TEDxChandler&page=1&when=past'"
      ]
     },
     "metadata": {},
     "output_type": "display_data"
    },
    {
     "data": {
      "text/plain": [
       "'https://www.ted.com/tedx/events?autocomplete_filter=TEDxSchrieverStreet&page=2&when=past'"
      ]
     },
     "metadata": {},
     "output_type": "display_data"
    },
    {
     "data": {
      "text/plain": [
       "'https://www.ted.com/tedx/events?autocomplete_filter=TEDxMoorgate&page=1&when=past'"
      ]
     },
     "metadata": {},
     "output_type": "display_data"
    },
    {
     "data": {
      "text/plain": [
       "'https://www.ted.com/tedx/events?autocomplete_filter=TEDxViadellaConciliazione&page=1&when=past'"
      ]
     },
     "metadata": {},
     "output_type": "display_data"
    },
    {
     "data": {
      "text/plain": [
       "'https://www.ted.com/tedx/events?autocomplete_filter=TEDxChandler&page=2&when=past'"
      ]
     },
     "metadata": {},
     "output_type": "display_data"
    },
    {
     "data": {
      "text/plain": [
       "'https://www.ted.com/tedx/events?autocomplete_filter=TEDxMoorgate&page=2&when=past'"
      ]
     },
     "metadata": {},
     "output_type": "display_data"
    },
    {
     "data": {
      "text/plain": [
       "'https://www.ted.com/tedx/events?autocomplete_filter=TEDxSaoJosedosCampos&page=1&when=past'"
      ]
     },
     "metadata": {},
     "output_type": "display_data"
    },
    {
     "data": {
      "text/plain": [
       "'https://www.ted.com/tedx/events?autocomplete_filter=TEDxViadellaConciliazione&page=2&when=past'"
      ]
     },
     "metadata": {},
     "output_type": "display_data"
    },
    {
     "data": {
      "text/plain": [
       "'https://www.ted.com/tedx/events?autocomplete_filter=TEDxVennelystBlvd&page=1&when=past'"
      ]
     },
     "metadata": {},
     "output_type": "display_data"
    },
    {
     "data": {
      "text/plain": [
       "'https://www.ted.com/tedx/events?autocomplete_filter=TEDxBelmopan&page=1&when=past'"
      ]
     },
     "metadata": {},
     "output_type": "display_data"
    },
    {
     "data": {
      "text/plain": [
       "'https://www.ted.com/tedx/events?autocomplete_filter=TEDxSaoJosedosCampos&page=2&when=past'"
      ]
     },
     "metadata": {},
     "output_type": "display_data"
    },
    {
     "data": {
      "text/plain": [
       "'https://www.ted.com/tedx/events?autocomplete_filter=TEDxVennelystBlvd&page=2&when=past'"
      ]
     },
     "metadata": {},
     "output_type": "display_data"
    },
    {
     "data": {
      "text/plain": [
       "'https://www.ted.com/tedx/events?autocomplete_filter=TEDxInverness&page=1&when=past'"
      ]
     },
     "metadata": {},
     "output_type": "display_data"
    },
    {
     "data": {
      "text/plain": [
       "'https://www.ted.com/tedx/events?autocomplete_filter=TEDxBelmopan&page=2&when=past'"
      ]
     },
     "metadata": {},
     "output_type": "display_data"
    },
    {
     "data": {
      "text/plain": [
       "'https://www.ted.com/tedx/events?autocomplete_filter=TEDxPenn2013&page=1&when=past'"
      ]
     },
     "metadata": {},
     "output_type": "display_data"
    },
    {
     "data": {
      "text/plain": [
       "'https://www.ted.com/tedx/events?autocomplete_filter=TEDxInverness&page=2&when=past'"
      ]
     },
     "metadata": {},
     "output_type": "display_data"
    },
    {
     "data": {
      "text/plain": [
       "'https://www.ted.com/tedx/events?autocomplete_filter=TEDxUFSCar&page=1&when=past'"
      ]
     },
     "metadata": {},
     "output_type": "display_data"
    },
    {
     "data": {
      "text/plain": [
       "'https://www.ted.com/tedx/events?autocomplete_filter=TEDxUWE&page=1&when=past'"
      ]
     },
     "metadata": {},
     "output_type": "display_data"
    },
    {
     "data": {
      "text/plain": [
       "'https://www.ted.com/tedx/events?autocomplete_filter=TEDxSecunderabad&page=1&when=past'"
      ]
     },
     "metadata": {},
     "output_type": "display_data"
    },
    {
     "data": {
      "text/plain": [
       "'https://www.ted.com/tedx/events?autocomplete_filter=TEDxUWE&page=2&when=past'"
      ]
     },
     "metadata": {},
     "output_type": "display_data"
    },
    {
     "data": {
      "text/plain": [
       "'https://www.ted.com/tedx/events?autocomplete_filter=TEDxUFSCar&page=2&when=past'"
      ]
     },
     "metadata": {},
     "output_type": "display_data"
    },
    {
     "data": {
      "text/plain": [
       "'https://www.ted.com/tedx/events?autocomplete_filter=TEDxSecunderabad&page=2&when=past'"
      ]
     },
     "metadata": {},
     "output_type": "display_data"
    },
    {
     "data": {
      "text/plain": [
       "'https://www.ted.com/tedx/events?autocomplete_filter=TEDx...?&page=1&when=past'"
      ]
     },
     "metadata": {},
     "output_type": "display_data"
    },
    {
     "data": {
      "text/plain": [
       "'https://www.ted.com/tedx/events?autocomplete_filter=TEDxSairam&page=1&when=past'"
      ]
     },
     "metadata": {},
     "output_type": "display_data"
    },
    {
     "data": {
      "text/plain": [
       "'https://www.ted.com/tedx/events?autocomplete_filter=TEDxGriffithCollege&page=1&when=past'"
      ]
     },
     "metadata": {},
     "output_type": "display_data"
    },
    {
     "data": {
      "text/plain": [
       "'https://www.ted.com/tedx/events?autocomplete_filter=TEDxYouth@MusashinoHighSchool&page=1&when=past'"
      ]
     },
     "metadata": {},
     "output_type": "display_data"
    },
    {
     "data": {
      "text/plain": [
       "'https://www.ted.com/tedx/events?autocomplete_filter=TEDxSairam&page=2&when=past'"
      ]
     },
     "metadata": {},
     "output_type": "display_data"
    },
    {
     "data": {
      "text/plain": [
       "'https://www.ted.com/tedx/events?autocomplete_filter=TEDxGriffithCollege&page=2&when=past'"
      ]
     },
     "metadata": {},
     "output_type": "display_data"
    },
    {
     "data": {
      "text/plain": [
       "'https://www.ted.com/tedx/events?autocomplete_filter=TEDxYouth@MusashinoHighSchool&page=2&when=past'"
      ]
     },
     "metadata": {},
     "output_type": "display_data"
    },
    {
     "data": {
      "text/plain": [
       "'https://www.ted.com/tedx/events?autocomplete_filter=TEDxHackneyWomen&page=1&when=past'"
      ]
     },
     "metadata": {},
     "output_type": "display_data"
    },
    {
     "data": {
      "text/plain": [
       "'https://www.ted.com/tedx/events?autocomplete_filter=TEDxDublinInstituteofTechnology&page=1&when=past'"
      ]
     },
     "metadata": {},
     "output_type": "display_data"
    },
    {
     "data": {
      "text/plain": [
       "'https://www.ted.com/tedx/events?autocomplete_filter=TEDxChesterRiver&page=1&when=past'"
      ]
     },
     "metadata": {},
     "output_type": "display_data"
    },
    {
     "data": {
      "text/plain": [
       "'https://www.ted.com/tedx/events?autocomplete_filter=TEDxHackneyWomen&page=2&when=past'"
      ]
     },
     "metadata": {},
     "output_type": "display_data"
    },
    {
     "data": {
      "text/plain": [
       "'https://www.ted.com/tedx/events?autocomplete_filter=TEDxDublinInstituteofTechnology&page=2&when=past'"
      ]
     },
     "metadata": {},
     "output_type": "display_data"
    },
    {
     "data": {
      "text/plain": [
       "'https://www.ted.com/tedx/events?autocomplete_filter=TEDxChesterRiver&page=2&when=past'"
      ]
     },
     "metadata": {},
     "output_type": "display_data"
    },
    {
     "data": {
      "text/plain": [
       "'https://www.ted.com/tedx/events?autocomplete_filter=TEDxTokyoTeachers&page=1&when=past'"
      ]
     },
     "metadata": {},
     "output_type": "display_data"
    },
    {
     "data": {
      "text/plain": [
       "'https://www.ted.com/tedx/events?autocomplete_filter=TEDxPitsmoor&page=1&when=past'"
      ]
     },
     "metadata": {},
     "output_type": "display_data"
    },
    {
     "data": {
      "text/plain": [
       "'https://www.ted.com/tedx/events?autocomplete_filter=TEDxTokyoTeachers&page=2&when=past'"
      ]
     },
     "metadata": {},
     "output_type": "display_data"
    },
    {
     "data": {
      "text/plain": [
       "'https://www.ted.com/tedx/events?autocomplete_filter=TEDxHolyLand&page=1&when=past'"
      ]
     },
     "metadata": {},
     "output_type": "display_data"
    },
    {
     "data": {
      "text/plain": [
       "'https://www.ted.com/tedx/events?autocomplete_filter=TEDxPitsmoor&page=2&when=past'"
      ]
     },
     "metadata": {},
     "output_type": "display_data"
    },
    {
     "data": {
      "text/plain": [
       "'https://www.ted.com/tedx/events?autocomplete_filter=TEDxWestlake&page=1&when=past'"
      ]
     },
     "metadata": {},
     "output_type": "display_data"
    },
    {
     "data": {
      "text/plain": [
       "'https://www.ted.com/tedx/events?autocomplete_filter=TEDxHolyLand&page=2&when=past'"
      ]
     },
     "metadata": {},
     "output_type": "display_data"
    },
    {
     "data": {
      "text/plain": [
       "'https://www.ted.com/tedx/events?autocomplete_filter=TEDxEncinitas&page=1&when=past'"
      ]
     },
     "metadata": {},
     "output_type": "display_data"
    },
    {
     "data": {
      "text/plain": [
       "'https://www.ted.com/tedx/events?autocomplete_filter=TEDxWestlake&page=2&when=past'"
      ]
     },
     "metadata": {},
     "output_type": "display_data"
    },
    {
     "data": {
      "text/plain": [
       "'https://www.ted.com/tedx/events?autocomplete_filter=TEDxRawaRiverSalon&page=1&when=past'"
      ]
     },
     "metadata": {},
     "output_type": "display_data"
    },
    {
     "data": {
      "text/plain": [
       "'https://www.ted.com/tedx/events?autocomplete_filter=TEDxEncinitas&page=2&when=past'"
      ]
     },
     "metadata": {},
     "output_type": "display_data"
    },
    {
     "data": {
      "text/plain": [
       "'https://www.ted.com/tedx/events?autocomplete_filter=TEDxDerby&page=1&when=past'"
      ]
     },
     "metadata": {},
     "output_type": "display_data"
    },
    {
     "data": {
      "text/plain": [
       "'https://www.ted.com/tedx/events?autocomplete_filter=TEDxSSCBS&page=1&when=past'"
      ]
     },
     "metadata": {},
     "output_type": "display_data"
    },
    {
     "data": {
      "text/plain": [
       "'https://www.ted.com/tedx/events?autocomplete_filter=TEDxRawaRiverSalon&page=2&when=past'"
      ]
     },
     "metadata": {},
     "output_type": "display_data"
    },
    {
     "data": {
      "text/plain": [
       "'https://www.ted.com/tedx/events?autocomplete_filter=TEDxDerby&page=2&when=past'"
      ]
     },
     "metadata": {},
     "output_type": "display_data"
    },
    {
     "data": {
      "text/plain": [
       "'https://www.ted.com/tedx/events?autocomplete_filter=TEDxSalisburyHighSchool&page=1&when=past'"
      ]
     },
     "metadata": {},
     "output_type": "display_data"
    },
    {
     "data": {
      "text/plain": [
       "'https://www.ted.com/tedx/events?autocomplete_filter=TEDxSushantLok&page=1&when=past'"
      ]
     },
     "metadata": {},
     "output_type": "display_data"
    },
    {
     "data": {
      "text/plain": [
       "'https://www.ted.com/tedx/events?autocomplete_filter=TEDxSSCBS&page=2&when=past'"
      ]
     },
     "metadata": {},
     "output_type": "display_data"
    },
    {
     "data": {
      "text/plain": [
       "'https://www.ted.com/tedx/events?autocomplete_filter=TEDxSalisburyHighSchool&page=2&when=past'"
      ]
     },
     "metadata": {},
     "output_type": "display_data"
    },
    {
     "data": {
      "text/plain": [
       "'https://www.ted.com/tedx/events?autocomplete_filter=TEDxAlbertopolisSalon&page=1&when=past'"
      ]
     },
     "metadata": {},
     "output_type": "display_data"
    },
    {
     "data": {
      "text/plain": [
       "'https://www.ted.com/tedx/events?autocomplete_filter=TEDxSushantLok&page=2&when=past'"
      ]
     },
     "metadata": {},
     "output_type": "display_data"
    },
    {
     "data": {
      "text/plain": [
       "'https://www.ted.com/tedx/events?autocomplete_filter=TEDxFIAP&page=1&when=past'"
      ]
     },
     "metadata": {},
     "output_type": "display_data"
    },
    {
     "data": {
      "text/plain": [
       "'https://www.ted.com/tedx/events?autocomplete_filter=TEDxSPS&page=1&when=past'"
      ]
     },
     "metadata": {},
     "output_type": "display_data"
    },
    {
     "data": {
      "text/plain": [
       "'https://www.ted.com/tedx/events?autocomplete_filter=TEDxAlbertopolisSalon&page=2&when=past'"
      ]
     },
     "metadata": {},
     "output_type": "display_data"
    },
    {
     "data": {
      "text/plain": [
       "'https://www.ted.com/tedx/events?autocomplete_filter=TEDxFIAP&page=2&when=past'"
      ]
     },
     "metadata": {},
     "output_type": "display_data"
    },
    {
     "data": {
      "text/plain": [
       "'https://www.ted.com/tedx/events?autocomplete_filter=TEDxSPS&page=2&when=past'"
      ]
     },
     "metadata": {},
     "output_type": "display_data"
    },
    {
     "data": {
      "text/plain": [
       "'https://www.ted.com/tedx/events?autocomplete_filter=TEDxKPU&page=1&when=past'"
      ]
     },
     "metadata": {},
     "output_type": "display_data"
    },
    {
     "data": {
      "text/plain": [
       "'https://www.ted.com/tedx/events?autocomplete_filter=TEDxUniTn&page=1&when=past'"
      ]
     },
     "metadata": {},
     "output_type": "display_data"
    },
    {
     "data": {
      "text/plain": [
       "'https://www.ted.com/tedx/events?autocomplete_filter=TEDxKielUniversity&page=1&when=past'"
      ]
     },
     "metadata": {},
     "output_type": "display_data"
    },
    {
     "data": {
      "text/plain": [
       "'https://www.ted.com/tedx/events?autocomplete_filter=TEDxKPU&page=2&when=past'"
      ]
     },
     "metadata": {},
     "output_type": "display_data"
    },
    {
     "data": {
      "text/plain": [
       "'https://www.ted.com/tedx/events?autocomplete_filter=TEDxUniTn&page=2&when=past'"
      ]
     },
     "metadata": {},
     "output_type": "display_data"
    },
    {
     "data": {
      "text/plain": [
       "'https://www.ted.com/tedx/events?autocomplete_filter=TEDxKielUniversity&page=2&when=past'"
      ]
     },
     "metadata": {},
     "output_type": "display_data"
    },
    {
     "data": {
      "text/plain": [
       "'https://www.ted.com/tedx/events?autocomplete_filter=TEDxFairleighDickinsonUniversity&page=1&when=past'"
      ]
     },
     "metadata": {},
     "output_type": "display_data"
    },
    {
     "data": {
      "text/plain": [
       "'https://www.ted.com/tedx/events?autocomplete_filter=TEDxFatihUniversity&page=1&when=past'"
      ]
     },
     "metadata": {},
     "output_type": "display_data"
    },
    {
     "data": {
      "text/plain": [
       "'https://www.ted.com/tedx/events?autocomplete_filter=TEDxUBO&page=1&when=past'"
      ]
     },
     "metadata": {},
     "output_type": "display_data"
    },
    {
     "data": {
      "text/plain": [
       "'https://www.ted.com/tedx/events?autocomplete_filter=TEDxFairleighDickinsonUniversity&page=2&when=past'"
      ]
     },
     "metadata": {},
     "output_type": "display_data"
    },
    {
     "data": {
      "text/plain": [
       "'https://www.ted.com/tedx/events?autocomplete_filter=TEDxFatihUniversity&page=2&when=past'"
      ]
     },
     "metadata": {},
     "output_type": "display_data"
    },
    {
     "data": {
      "text/plain": [
       "'https://www.ted.com/tedx/events?autocomplete_filter=TEDxUBO&page=2&when=past'"
      ]
     },
     "metadata": {},
     "output_type": "display_data"
    },
    {
     "data": {
      "text/plain": [
       "'https://www.ted.com/tedx/events?autocomplete_filter=TEDxChico&page=1&when=past'"
      ]
     },
     "metadata": {},
     "output_type": "display_data"
    },
    {
     "data": {
      "text/plain": [
       "'https://www.ted.com/tedx/events?autocomplete_filter=TEDxLeh&page=1&when=past'"
      ]
     },
     "metadata": {},
     "output_type": "display_data"
    },
    {
     "data": {
      "text/plain": [
       "'https://www.ted.com/tedx/events?autocomplete_filter=TEDxCanaryWharf&page=1&when=past'"
      ]
     },
     "metadata": {},
     "output_type": "display_data"
    },
    {
     "data": {
      "text/plain": [
       "'https://www.ted.com/tedx/events?autocomplete_filter=TEDxChico&page=2&when=past'"
      ]
     },
     "metadata": {},
     "output_type": "display_data"
    },
    {
     "data": {
      "text/plain": [
       "'https://www.ted.com/tedx/events?autocomplete_filter=TEDxCanaryWharf&page=2&when=past'"
      ]
     },
     "metadata": {},
     "output_type": "display_data"
    },
    {
     "data": {
      "text/plain": [
       "'https://www.ted.com/tedx/events?autocomplete_filter=TEDxLeh&page=2&when=past'"
      ]
     },
     "metadata": {},
     "output_type": "display_data"
    },
    {
     "data": {
      "text/plain": [
       "'https://www.ted.com/tedx/events?autocomplete_filter=TEDxBentonville&page=1&when=past'"
      ]
     },
     "metadata": {},
     "output_type": "display_data"
    },
    {
     "data": {
      "text/plain": [
       "'https://www.ted.com/tedx/events?autocomplete_filter=TEDxHonoluluSalon&page=1&when=past'"
      ]
     },
     "metadata": {},
     "output_type": "display_data"
    },
    {
     "data": {
      "text/plain": [
       "'https://www.ted.com/tedx/events?autocomplete_filter=TEDxITMU&page=1&when=past'"
      ]
     },
     "metadata": {},
     "output_type": "display_data"
    },
    {
     "data": {
      "text/plain": [
       "'https://www.ted.com/tedx/events?autocomplete_filter=TEDxBentonville&page=2&when=past'"
      ]
     },
     "metadata": {},
     "output_type": "display_data"
    },
    {
     "data": {
      "text/plain": [
       "'https://www.ted.com/tedx/events?autocomplete_filter=TEDxHonoluluSalon&page=2&when=past'"
      ]
     },
     "metadata": {},
     "output_type": "display_data"
    },
    {
     "data": {
      "text/plain": [
       "'https://www.ted.com/tedx/events?autocomplete_filter=TEDxITMU&page=2&when=past'"
      ]
     },
     "metadata": {},
     "output_type": "display_data"
    },
    {
     "data": {
      "text/plain": [
       "'https://www.ted.com/tedx/events?autocomplete_filter=TEDxVytautasMagnusUniversity&page=1&when=past'"
      ]
     },
     "metadata": {},
     "output_type": "display_data"
    },
    {
     "data": {
      "text/plain": [
       "'https://www.ted.com/tedx/events?autocomplete_filter=TedxReggioEmilia&page=1&when=past'"
      ]
     },
     "metadata": {},
     "output_type": "display_data"
    },
    {
     "data": {
      "text/plain": [
       "'https://www.ted.com/tedx/events?autocomplete_filter=TEDxGatineau&page=1&when=past'"
      ]
     },
     "metadata": {},
     "output_type": "display_data"
    },
    {
     "data": {
      "text/plain": [
       "'https://www.ted.com/tedx/events?autocomplete_filter=TEDxVytautasMagnusUniversity&page=2&when=past'"
      ]
     },
     "metadata": {},
     "output_type": "display_data"
    },
    {
     "data": {
      "text/plain": [
       "'https://www.ted.com/tedx/events?autocomplete_filter=TedxReggioEmilia&page=2&when=past'"
      ]
     },
     "metadata": {},
     "output_type": "display_data"
    },
    {
     "data": {
      "text/plain": [
       "'https://www.ted.com/tedx/events?autocomplete_filter=TEDxGatineau&page=2&when=past'"
      ]
     },
     "metadata": {},
     "output_type": "display_data"
    },
    {
     "data": {
      "text/plain": [
       "'https://www.ted.com/tedx/events?autocomplete_filter=TEDxStGeorg&page=1&when=past'"
      ]
     },
     "metadata": {},
     "output_type": "display_data"
    },
    {
     "data": {
      "text/plain": [
       "'https://www.ted.com/tedx/events?autocomplete_filter=TEDxSandHillRdWomen&page=1&when=past'"
      ]
     },
     "metadata": {},
     "output_type": "display_data"
    },
    {
     "data": {
      "text/plain": [
       "'https://www.ted.com/tedx/events?autocomplete_filter=TEDxHappyValley&page=1&when=past'"
      ]
     },
     "metadata": {},
     "output_type": "display_data"
    },
    {
     "data": {
      "text/plain": [
       "'https://www.ted.com/tedx/events?autocomplete_filter=TEDxStGeorg&page=2&when=past'"
      ]
     },
     "metadata": {},
     "output_type": "display_data"
    },
    {
     "data": {
      "text/plain": [
       "'https://www.ted.com/tedx/events?autocomplete_filter=TEDxHappyValley&page=2&when=past'"
      ]
     },
     "metadata": {},
     "output_type": "display_data"
    },
    {
     "data": {
      "text/plain": [
       "'https://www.ted.com/tedx/events?autocomplete_filter=TEDxCaFoscariU&page=1&when=past'"
      ]
     },
     "metadata": {},
     "output_type": "display_data"
    },
    {
     "data": {
      "text/plain": [
       "'https://www.ted.com/tedx/events?autocomplete_filter=TEDxSandHillRdWomen&page=2&when=past'"
      ]
     },
     "metadata": {},
     "output_type": "display_data"
    },
    {
     "data": {
      "text/plain": [
       "'https://www.ted.com/tedx/events?autocomplete_filter=TEDxCaFoscariU&page=2&when=past'"
      ]
     },
     "metadata": {},
     "output_type": "display_data"
    },
    {
     "data": {
      "text/plain": [
       "'https://www.ted.com/tedx/events?autocomplete_filter=TEDxYouth@Nepean&page=1&when=past'"
      ]
     },
     "metadata": {},
     "output_type": "display_data"
    },
    {
     "data": {
      "text/plain": [
       "'https://www.ted.com/tedx/events?autocomplete_filter=TEDxStCharles&page=1&when=past'"
      ]
     },
     "metadata": {},
     "output_type": "display_data"
    },
    {
     "data": {
      "text/plain": [
       "'https://www.ted.com/tedx/events?autocomplete_filter=TEDxStCharles&page=2&when=past'"
      ]
     },
     "metadata": {},
     "output_type": "display_data"
    },
    {
     "data": {
      "text/plain": [
       "'https://www.ted.com/tedx/events?autocomplete_filter=TEDxSwarthmore&page=1&when=past'"
      ]
     },
     "metadata": {},
     "output_type": "display_data"
    },
    {
     "data": {
      "text/plain": [
       "'https://www.ted.com/tedx/events?autocomplete_filter=TEDxYouth@Nepean&page=2&when=past'"
      ]
     },
     "metadata": {},
     "output_type": "display_data"
    },
    {
     "data": {
      "text/plain": [
       "'https://www.ted.com/tedx/events?autocomplete_filter=TEDxBrașovWomen&page=1&when=past'"
      ]
     },
     "metadata": {},
     "output_type": "display_data"
    },
    {
     "data": {
      "text/plain": [
       "'https://www.ted.com/tedx/events?autocomplete_filter=TEDxPuneSalon&page=1&when=past'"
      ]
     },
     "metadata": {},
     "output_type": "display_data"
    },
    {
     "data": {
      "text/plain": [
       "'https://www.ted.com/tedx/events?autocomplete_filter=TEDxSwarthmore&page=2&when=past'"
      ]
     },
     "metadata": {},
     "output_type": "display_data"
    },
    {
     "data": {
      "text/plain": [
       "'https://www.ted.com/tedx/events?autocomplete_filter=TEDxBrașovWomen&page=2&when=past'"
      ]
     },
     "metadata": {},
     "output_type": "display_data"
    },
    {
     "data": {
      "text/plain": [
       "'https://www.ted.com/tedx/events?autocomplete_filter=TEDxPUCRio&page=1&when=past'"
      ]
     },
     "metadata": {},
     "output_type": "display_data"
    },
    {
     "data": {
      "text/plain": [
       "'https://www.ted.com/tedx/events?autocomplete_filter=TEDxPuneSalon&page=2&when=past'"
      ]
     },
     "metadata": {},
     "output_type": "display_data"
    },
    {
     "data": {
      "text/plain": [
       "'https://www.ted.com/tedx/events?autocomplete_filter=TEDxCHUV&page=1&when=past'"
      ]
     },
     "metadata": {},
     "output_type": "display_data"
    },
    {
     "data": {
      "text/plain": [
       "'https://www.ted.com/tedx/events?autocomplete_filter=TEDxCHUV&page=2&when=past'"
      ]
     },
     "metadata": {},
     "output_type": "display_data"
    },
    {
     "data": {
      "text/plain": [
       "'https://www.ted.com/tedx/events?autocomplete_filter=TEDxPUCRio&page=2&when=past'"
      ]
     },
     "metadata": {},
     "output_type": "display_data"
    },
    {
     "data": {
      "text/plain": [
       "'https://www.ted.com/tedx/events?autocomplete_filter=TEDxUpperWestSideWomen&page=1&when=past'"
      ]
     },
     "metadata": {},
     "output_type": "display_data"
    },
    {
     "data": {
      "text/plain": [
       "'https://www.ted.com/tedx/events?autocomplete_filter=TEDxNabeul&page=1&when=past'"
      ]
     },
     "metadata": {},
     "output_type": "display_data"
    },
    {
     "data": {
      "text/plain": [
       "'https://www.ted.com/tedx/events?autocomplete_filter=TEDxUpperWestSideWomen&page=2&when=past'"
      ]
     },
     "metadata": {},
     "output_type": "display_data"
    },
    {
     "data": {
      "text/plain": [
       "'https://www.ted.com/tedx/events?autocomplete_filter=TEDxKids@BC&page=1&when=past'"
      ]
     },
     "metadata": {},
     "output_type": "display_data"
    },
    {
     "data": {
      "text/plain": [
       "'https://www.ted.com/tedx/events?autocomplete_filter=TEDxNabeul&page=2&when=past'"
      ]
     },
     "metadata": {},
     "output_type": "display_data"
    },
    {
     "data": {
      "text/plain": [
       "'https://www.ted.com/tedx/events?autocomplete_filter=TEDxDaejeonSalon&page=1&when=past'"
      ]
     },
     "metadata": {},
     "output_type": "display_data"
    },
    {
     "data": {
      "text/plain": [
       "'https://www.ted.com/tedx/events?autocomplete_filter=TEDxKids@BC&page=2&when=past'"
      ]
     },
     "metadata": {},
     "output_type": "display_data"
    },
    {
     "data": {
      "text/plain": [
       "'https://www.ted.com/tedx/events?autocomplete_filter=TEDxVilaMadá&page=1&when=past'"
      ]
     },
     "metadata": {},
     "output_type": "display_data"
    },
    {
     "data": {
      "text/plain": [
       "'https://www.ted.com/tedx/events?autocomplete_filter=TEDxEastEndSalon&page=1&when=past'"
      ]
     },
     "metadata": {},
     "output_type": "display_data"
    },
    {
     "data": {
      "text/plain": [
       "'https://www.ted.com/tedx/events?autocomplete_filter=TEDxDaejeonSalon&page=2&when=past'"
      ]
     },
     "metadata": {},
     "output_type": "display_data"
    },
    {
     "data": {
      "text/plain": [
       "'https://www.ted.com/tedx/events?autocomplete_filter=TEDxVilaMadá&page=2&when=past'"
      ]
     },
     "metadata": {},
     "output_type": "display_data"
    },
    {
     "data": {
      "text/plain": [
       "'https://www.ted.com/tedx/events?autocomplete_filter=TEDxEastEndSalon&page=2&when=past'"
      ]
     },
     "metadata": {},
     "output_type": "display_data"
    },
    {
     "data": {
      "text/plain": [
       "'https://www.ted.com/tedx/events?autocomplete_filter=TEDxCHSNED&page=1&when=past'"
      ]
     },
     "metadata": {},
     "output_type": "display_data"
    },
    {
     "data": {
      "text/plain": [
       "'https://www.ted.com/tedx/events?autocomplete_filter=TEDxShinshuUniversity&page=1&when=past'"
      ]
     },
     "metadata": {},
     "output_type": "display_data"
    },
    {
     "data": {
      "text/plain": [
       "'https://www.ted.com/tedx/events?autocomplete_filter=TEDxUniversityofEdinburghSalon&page=1&when=past'"
      ]
     },
     "metadata": {},
     "output_type": "display_data"
    },
    {
     "data": {
      "text/plain": [
       "'https://www.ted.com/tedx/events?autocomplete_filter=TEDxCHSNED&page=2&when=past'"
      ]
     },
     "metadata": {},
     "output_type": "display_data"
    },
    {
     "data": {
      "text/plain": [
       "'https://www.ted.com/tedx/events?autocomplete_filter=TEDxShinshuUniversity&page=2&when=past'"
      ]
     },
     "metadata": {},
     "output_type": "display_data"
    },
    {
     "data": {
      "text/plain": [
       "'https://www.ted.com/tedx/events?autocomplete_filter=TEDxUniversityofEdinburghSalon&page=2&when=past'"
      ]
     },
     "metadata": {},
     "output_type": "display_data"
    },
    {
     "data": {
      "text/plain": [
       "'https://www.ted.com/tedx/events?autocomplete_filter=TEDxBellingham&page=1&when=past'"
      ]
     },
     "metadata": {},
     "output_type": "display_data"
    },
    {
     "data": {
      "text/plain": [
       "'https://www.ted.com/tedx/events?autocomplete_filter=TEDxRoxburyWomen&page=1&when=past'"
      ]
     },
     "metadata": {},
     "output_type": "display_data"
    },
    {
     "data": {
      "text/plain": [
       "'https://www.ted.com/tedx/events?autocomplete_filter=TEDxSantaMaria&page=1&when=past'"
      ]
     },
     "metadata": {},
     "output_type": "display_data"
    },
    {
     "data": {
      "text/plain": [
       "'https://www.ted.com/tedx/events?autocomplete_filter=TEDxBellingham&page=2&when=past'"
      ]
     },
     "metadata": {},
     "output_type": "display_data"
    },
    {
     "data": {
      "text/plain": [
       "'https://www.ted.com/tedx/events?autocomplete_filter=TEDxRoxburyWomen&page=2&when=past'"
      ]
     },
     "metadata": {},
     "output_type": "display_data"
    },
    {
     "data": {
      "text/plain": [
       "'https://www.ted.com/tedx/events?autocomplete_filter=TEDxSantaMaria&page=2&when=past'"
      ]
     },
     "metadata": {},
     "output_type": "display_data"
    },
    {
     "data": {
      "text/plain": [
       "'https://www.ted.com/tedx/events?autocomplete_filter=TEDx|&page=1&when=past'"
      ]
     },
     "metadata": {},
     "output_type": "display_data"
    },
    {
     "data": {
      "text/plain": [
       "'https://www.ted.com/tedx/events?autocomplete_filter=TEDXThe&page=1&when=past'"
      ]
     },
     "metadata": {},
     "output_type": "display_data"
    },
    {
     "data": {
      "text/plain": [
       "'https://www.ted.com/tedx/events?autocomplete_filter=TEDxPrabhadevi&page=1&when=past'"
      ]
     },
     "metadata": {},
     "output_type": "display_data"
    },
    {
     "data": {
      "text/plain": [
       "'https://www.ted.com/tedx/events?autocomplete_filter=TEDxSomlóiStWomen&page=1&when=past'"
      ]
     },
     "metadata": {},
     "output_type": "display_data"
    },
    {
     "data": {
      "text/plain": [
       "'https://www.ted.com/tedx/events?autocomplete_filter=TEDxPrabhadevi&page=2&when=past'"
      ]
     },
     "metadata": {},
     "output_type": "display_data"
    },
    {
     "data": {
      "text/plain": [
       "'https://www.ted.com/tedx/events?autocomplete_filter=TEDxSomlóiStWomen&page=2&when=past'"
      ]
     },
     "metadata": {},
     "output_type": "display_data"
    },
    {
     "data": {
      "text/plain": [
       "'https://www.ted.com/tedx/events?autocomplete_filter=TEDXThe&page=2&when=past'"
      ]
     },
     "metadata": {},
     "output_type": "display_data"
    },
    {
     "data": {
      "text/plain": [
       "'https://www.ted.com/tedx/events?autocomplete_filter=TEDxAsfi&page=1&when=past'"
      ]
     },
     "metadata": {},
     "output_type": "display_data"
    },
    {
     "data": {
      "text/plain": [
       "'https://www.ted.com/tedx/events?autocomplete_filter=TEDxUNIGE&page=1&when=past'"
      ]
     },
     "metadata": {},
     "output_type": "display_data"
    },
    {
     "data": {
      "text/plain": [
       "'https://www.ted.com/tedx/events?autocomplete_filter=TEDxAsfi&page=2&when=past'"
      ]
     },
     "metadata": {},
     "output_type": "display_data"
    },
    {
     "data": {
      "text/plain": [
       "'https://www.ted.com/tedx/events?autocomplete_filter=TEDXThe&page=3&when=past'"
      ]
     },
     "metadata": {},
     "output_type": "display_data"
    },
    {
     "data": {
      "text/plain": [
       "'https://www.ted.com/tedx/events?autocomplete_filter=TEDxUNIGE&page=2&when=past'"
      ]
     },
     "metadata": {},
     "output_type": "display_data"
    },
    {
     "data": {
      "text/plain": [
       "'https://www.ted.com/tedx/events?autocomplete_filter=TEDxUNITEC&page=1&when=past'"
      ]
     },
     "metadata": {},
     "output_type": "display_data"
    },
    {
     "data": {
      "text/plain": [
       "'https://www.ted.com/tedx/events?autocomplete_filter=TEDxRiodePiedras&page=1&when=past'"
      ]
     },
     "metadata": {},
     "output_type": "display_data"
    },
    {
     "data": {
      "text/plain": [
       "'https://www.ted.com/tedx/events?autocomplete_filter=TEDXThe&page=4&when=past'"
      ]
     },
     "metadata": {},
     "output_type": "display_data"
    },
    {
     "data": {
      "text/plain": [
       "'https://www.ted.com/tedx/events?autocomplete_filter=TEDxUNITEC&page=2&when=past'"
      ]
     },
     "metadata": {},
     "output_type": "display_data"
    },
    {
     "data": {
      "text/plain": [
       "'https://www.ted.com/tedx/events?autocomplete_filter=TEDxRiodePiedras&page=2&when=past'"
      ]
     },
     "metadata": {},
     "output_type": "display_data"
    },
    {
     "data": {
      "text/plain": [
       "'https://www.ted.com/tedx/events?autocomplete_filter=TEDXThe&page=5&when=past'"
      ]
     },
     "metadata": {},
     "output_type": "display_data"
    },
    {
     "data": {
      "text/plain": [
       "'https://www.ted.com/tedx/events?autocomplete_filter=TEDxDenverTeachers&page=1&when=past'"
      ]
     },
     "metadata": {},
     "output_type": "display_data"
    },
    {
     "data": {
      "text/plain": [
       "'https://www.ted.com/tedx/events?autocomplete_filter=TEDxQuebec&page=1&when=past'"
      ]
     },
     "metadata": {},
     "output_type": "display_data"
    },
    {
     "data": {
      "text/plain": [
       "'https://www.ted.com/tedx/events?autocomplete_filter=TEDxtalk...&page=1&when=past'"
      ]
     },
     "metadata": {},
     "output_type": "display_data"
    },
    {
     "data": {
      "text/plain": [
       "'https://www.ted.com/tedx/events?autocomplete_filter=TEDxDenverTeachers&page=2&when=past'"
      ]
     },
     "metadata": {},
     "output_type": "display_data"
    },
    {
     "data": {
      "text/plain": [
       "'https://www.ted.com/tedx/events?autocomplete_filter=TEDxDUBLIN&page=1&when=past'"
      ]
     },
     "metadata": {},
     "output_type": "display_data"
    },
    {
     "data": {
      "text/plain": [
       "'https://www.ted.com/tedx/events?autocomplete_filter=TEDxQuebec&page=2&when=past'"
      ]
     },
     "metadata": {},
     "output_type": "display_data"
    },
    {
     "data": {
      "text/plain": [
       "'https://www.ted.com/tedx/events?autocomplete_filter=TEDxStLawrenceCollege&page=1&when=past'"
      ]
     },
     "metadata": {},
     "output_type": "display_data"
    },
    {
     "data": {
      "text/plain": [
       "'https://www.ted.com/tedx/events?autocomplete_filter=TEDxMHK&page=1&when=past'"
      ]
     },
     "metadata": {},
     "output_type": "display_data"
    },
    {
     "data": {
      "text/plain": [
       "'https://www.ted.com/tedx/events?autocomplete_filter=TEDxDUBLIN&page=2&when=past'"
      ]
     },
     "metadata": {},
     "output_type": "display_data"
    },
    {
     "data": {
      "text/plain": [
       "'https://www.ted.com/tedx/events?autocomplete_filter=TEDxStLawrenceCollege&page=2&when=past'"
      ]
     },
     "metadata": {},
     "output_type": "display_data"
    },
    {
     "data": {
      "text/plain": [
       "'https://www.ted.com/tedx/events?autocomplete_filter=TEDxMHK&page=2&when=past'"
      ]
     },
     "metadata": {},
     "output_type": "display_data"
    },
    {
     "data": {
      "text/plain": [
       "'https://www.ted.com/tedx/events?autocomplete_filter=TEDxRíodePiedras&page=1&when=past'"
      ]
     },
     "metadata": {},
     "output_type": "display_data"
    },
    {
     "data": {
      "text/plain": [
       "'https://www.ted.com/tedx/events?autocomplete_filter=TEDxMCPSTeachers&page=1&when=past'"
      ]
     },
     "metadata": {},
     "output_type": "display_data"
    },
    {
     "data": {
      "text/plain": [
       "'https://www.ted.com/tedx/events?autocomplete_filter=TEDxYouth@JIS&page=1&when=past'"
      ]
     },
     "metadata": {},
     "output_type": "display_data"
    },
    {
     "data": {
      "text/plain": [
       "'https://www.ted.com/tedx/events?autocomplete_filter=TEDxMCPSTeachers&page=2&when=past'"
      ]
     },
     "metadata": {},
     "output_type": "display_data"
    },
    {
     "data": {
      "text/plain": [
       "'https://www.ted.com/tedx/events?autocomplete_filter=TEDxYouth@JIS&page=2&when=past'"
      ]
     },
     "metadata": {},
     "output_type": "display_data"
    },
    {
     "data": {
      "text/plain": [
       "'https://www.ted.com/tedx/events?autocomplete_filter=TEDxRíodePiedras&page=2&when=past'"
      ]
     },
     "metadata": {},
     "output_type": "display_data"
    },
    {
     "data": {
      "text/plain": [
       "'https://www.ted.com/tedx/events?autocomplete_filter=TEDxKesawanSquare&page=1&when=past'"
      ]
     },
     "metadata": {},
     "output_type": "display_data"
    },
    {
     "data": {
      "text/plain": [
       "'https://www.ted.com/tedx/events?autocomplete_filter=TEDxWesterfordHighSchool&page=1&when=past'"
      ]
     },
     "metadata": {},
     "output_type": "display_data"
    },
    {
     "data": {
      "text/plain": [
       "'https://www.ted.com/tedx/events?autocomplete_filter=TEDxMasterCanteenSquare&page=1&when=past'"
      ]
     },
     "metadata": {},
     "output_type": "display_data"
    },
    {
     "data": {
      "text/plain": [
       "'https://www.ted.com/tedx/events?autocomplete_filter=TEDxWesterfordHighSchool&page=2&when=past'"
      ]
     },
     "metadata": {},
     "output_type": "display_data"
    },
    {
     "data": {
      "text/plain": [
       "'https://www.ted.com/tedx/events?autocomplete_filter=TEDxKesawanSquare&page=2&when=past'"
      ]
     },
     "metadata": {},
     "output_type": "display_data"
    },
    {
     "data": {
      "text/plain": [
       "'https://www.ted.com/tedx/events?autocomplete_filter=TEDxMasterCanteenSquare&page=2&when=past'"
      ]
     },
     "metadata": {},
     "output_type": "display_data"
    },
    {
     "data": {
      "text/plain": [
       "'https://www.ted.com/tedx/events?autocomplete_filter=TEDxYouth@Arada&page=1&when=past'"
      ]
     },
     "metadata": {},
     "output_type": "display_data"
    },
    {
     "data": {
      "text/plain": [
       "'https://www.ted.com/tedx/events?autocomplete_filter=TEDxSDU&page=1&when=past'"
      ]
     },
     "metadata": {},
     "output_type": "display_data"
    },
    {
     "data": {
      "text/plain": [
       "'https://www.ted.com/tedx/events?autocomplete_filter=TEDxGhentSalon&page=1&when=past'"
      ]
     },
     "metadata": {},
     "output_type": "display_data"
    },
    {
     "data": {
      "text/plain": [
       "'https://www.ted.com/tedx/events?autocomplete_filter=TEDxYouth@Arada&page=2&when=past'"
      ]
     },
     "metadata": {},
     "output_type": "display_data"
    },
    {
     "data": {
      "text/plain": [
       "'https://www.ted.com/tedx/events?autocomplete_filter=TEDxSDU&page=2&when=past'"
      ]
     },
     "metadata": {},
     "output_type": "display_data"
    },
    {
     "data": {
      "text/plain": [
       "'https://www.ted.com/tedx/events?autocomplete_filter=TEDxDurhamUniversityLive&page=1&when=past'"
      ]
     },
     "metadata": {},
     "output_type": "display_data"
    },
    {
     "data": {
      "text/plain": [
       "'https://www.ted.com/tedx/events?autocomplete_filter=TEDxGhentSalon&page=2&when=past'"
      ]
     },
     "metadata": {},
     "output_type": "display_data"
    },
    {
     "data": {
      "text/plain": [
       "'https://www.ted.com/tedx/events?autocomplete_filter=TEDxMaringá&page=1&when=past'"
      ]
     },
     "metadata": {},
     "output_type": "display_data"
    },
    {
     "data": {
      "text/plain": [
       "'https://www.ted.com/tedx/events?autocomplete_filter=TEDxSJU&page=1&when=past'"
      ]
     },
     "metadata": {},
     "output_type": "display_data"
    },
    {
     "data": {
      "text/plain": [
       "'https://www.ted.com/tedx/events?autocomplete_filter=TEDxDurhamUniversityLive&page=2&when=past'"
      ]
     },
     "metadata": {},
     "output_type": "display_data"
    },
    {
     "data": {
      "text/plain": [
       "'https://www.ted.com/tedx/events?autocomplete_filter=TEDxMaringá&page=2&when=past'"
      ]
     },
     "metadata": {},
     "output_type": "display_data"
    },
    {
     "data": {
      "text/plain": [
       "'https://www.ted.com/tedx/events?autocomplete_filter=TEDxYouth@HHS&page=1&when=past'"
      ]
     },
     "metadata": {},
     "output_type": "display_data"
    },
    {
     "data": {
      "text/plain": [
       "'https://www.ted.com/tedx/events?autocomplete_filter=TEDxReykjavík&page=1&when=past'"
      ]
     },
     "metadata": {},
     "output_type": "display_data"
    },
    {
     "data": {
      "text/plain": [
       "'https://www.ted.com/tedx/events?autocomplete_filter=TEDxSJU&page=2&when=past'"
      ]
     },
     "metadata": {},
     "output_type": "display_data"
    },
    {
     "data": {
      "text/plain": [
       "'https://www.ted.com/tedx/events?autocomplete_filter=TEDxPocklingtonED&page=1&when=past'"
      ]
     },
     "metadata": {},
     "output_type": "display_data"
    },
    {
     "data": {
      "text/plain": [
       "'https://www.ted.com/tedx/events?autocomplete_filter=TEDxYouth@HHS&page=2&when=past'"
      ]
     },
     "metadata": {},
     "output_type": "display_data"
    },
    {
     "data": {
      "text/plain": [
       "'https://www.ted.com/tedx/events?autocomplete_filter=TEDxReykjavík&page=2&when=past'"
      ]
     },
     "metadata": {},
     "output_type": "display_data"
    },
    {
     "data": {
      "text/plain": [
       "'https://www.ted.com/tedx/events?autocomplete_filter=TEDxNorthSouthUniversity&page=1&when=past'"
      ]
     },
     "metadata": {},
     "output_type": "display_data"
    },
    {
     "data": {
      "text/plain": [
       "'https://www.ted.com/tedx/events?autocomplete_filter=TEDxPocklingtonED&page=2&when=past'"
      ]
     },
     "metadata": {},
     "output_type": "display_data"
    },
    {
     "data": {
      "text/plain": [
       "'https://www.ted.com/tedx/events?autocomplete_filter=TEDxLowerEastSide&page=1&when=past'"
      ]
     },
     "metadata": {},
     "output_type": "display_data"
    },
    {
     "data": {
      "text/plain": [
       "'https://www.ted.com/tedx/events?autocomplete_filter=TEDxNorthSouthUniversity&page=2&when=past'"
      ]
     },
     "metadata": {},
     "output_type": "display_data"
    },
    {
     "data": {
      "text/plain": [
       "'https://www.ted.com/tedx/events?autocomplete_filter=TEDxMalmoe&page=1&when=past'"
      ]
     },
     "metadata": {},
     "output_type": "display_data"
    },
    {
     "data": {
      "text/plain": [
       "'https://www.ted.com/tedx/events?autocomplete_filter=TEDxLowerEastSide&page=2&when=past'"
      ]
     },
     "metadata": {},
     "output_type": "display_data"
    },
    {
     "data": {
      "text/plain": [
       "'https://www.ted.com/tedx/events?autocomplete_filter=TEDxLNCTBhopalWomen&page=1&when=past'"
      ]
     },
     "metadata": {},
     "output_type": "display_data"
    },
    {
     "data": {
      "text/plain": [
       "'https://www.ted.com/tedx/events?autocomplete_filter=TEDxMalmoe&page=2&when=past'"
      ]
     },
     "metadata": {},
     "output_type": "display_data"
    },
    {
     "data": {
      "text/plain": [
       "'https://www.ted.com/tedx/events?autocomplete_filter=TEDxUMaryland&page=1&when=past'"
      ]
     },
     "metadata": {},
     "output_type": "display_data"
    },
    {
     "data": {
      "text/plain": [
       "'https://www.ted.com/tedx/events?autocomplete_filter=TEDxLNCTBhopalWomen&page=2&when=past'"
      ]
     },
     "metadata": {},
     "output_type": "display_data"
    },
    {
     "data": {
      "text/plain": [
       "'https://www.ted.com/tedx/events?autocomplete_filter=TEDxUMassBoston&page=1&when=past'"
      ]
     },
     "metadata": {},
     "output_type": "display_data"
    },
    {
     "data": {
      "text/plain": [
       "'https://www.ted.com/tedx/events?autocomplete_filter=TEDxUMaryland&page=2&when=past'"
      ]
     },
     "metadata": {},
     "output_type": "display_data"
    },
    {
     "data": {
      "text/plain": [
       "'https://www.ted.com/tedx/events?autocomplete_filter=TEDxWellesleyCollege&page=1&when=past'"
      ]
     },
     "metadata": {},
     "output_type": "display_data"
    },
    {
     "data": {
      "text/plain": [
       "'https://www.ted.com/tedx/events?autocomplete_filter=TEDxStrathmoreUniversity&page=1&when=past'"
      ]
     },
     "metadata": {},
     "output_type": "display_data"
    },
    {
     "data": {
      "text/plain": [
       "'https://www.ted.com/tedx/events?autocomplete_filter=TEDxUMassBoston&page=2&when=past'"
      ]
     },
     "metadata": {},
     "output_type": "display_data"
    },
    {
     "data": {
      "text/plain": [
       "'https://www.ted.com/tedx/events?autocomplete_filter=TEDxWellesleyCollege&page=2&when=past'"
      ]
     },
     "metadata": {},
     "output_type": "display_data"
    },
    {
     "data": {
      "text/plain": [
       "'https://www.ted.com/tedx/events?autocomplete_filter=TEDxStrathmoreUniversity&page=2&when=past'"
      ]
     },
     "metadata": {},
     "output_type": "display_data"
    },
    {
     "data": {
      "text/plain": [
       "'https://www.ted.com/tedx/events?autocomplete_filter=TEDxSaskatoon&page=1&when=past'"
      ]
     },
     "metadata": {},
     "output_type": "display_data"
    },
    {
     "data": {
      "text/plain": [
       "'https://www.ted.com/tedx/events?autocomplete_filter=TEDxSausalito&page=1&when=past'"
      ]
     },
     "metadata": {},
     "output_type": "display_data"
    },
    {
     "data": {
      "text/plain": [
       "'https://www.ted.com/tedx/events?autocomplete_filter=TEDxBagaToiruu&page=1&when=past'"
      ]
     },
     "metadata": {},
     "output_type": "display_data"
    },
    {
     "data": {
      "text/plain": [
       "'https://www.ted.com/tedx/events?autocomplete_filter=TEDxSaskatoon&page=2&when=past'"
      ]
     },
     "metadata": {},
     "output_type": "display_data"
    },
    {
     "data": {
      "text/plain": [
       "'https://www.ted.com/tedx/events?autocomplete_filter=TEDxBagaToiruu&page=2&when=past'"
      ]
     },
     "metadata": {},
     "output_type": "display_data"
    },
    {
     "data": {
      "text/plain": [
       "'https://www.ted.com/tedx/events?autocomplete_filter=TEDxSausalito&page=2&when=past'"
      ]
     },
     "metadata": {},
     "output_type": "display_data"
    },
    {
     "data": {
      "text/plain": [
       "'https://www.ted.com/tedx/events?autocomplete_filter=TEDxUSICT&page=1&when=past'"
      ]
     },
     "metadata": {},
     "output_type": "display_data"
    },
    {
     "data": {
      "text/plain": [
       "'https://www.ted.com/tedx/events?autocomplete_filter=TEDxMarcusHighSchool&page=1&when=past'"
      ]
     },
     "metadata": {},
     "output_type": "display_data"
    },
    {
     "data": {
      "text/plain": [
       "'https://www.ted.com/tedx/events?autocomplete_filter=TEDxSinCity&page=1&when=past'"
      ]
     },
     "metadata": {},
     "output_type": "display_data"
    },
    {
     "data": {
      "text/plain": [
       "'https://www.ted.com/tedx/events?autocomplete_filter=TEDxUSICT&page=2&when=past'"
      ]
     },
     "metadata": {},
     "output_type": "display_data"
    },
    {
     "data": {
      "text/plain": [
       "'https://www.ted.com/tedx/events?autocomplete_filter=TEDxSinCity&page=2&when=past'"
      ]
     },
     "metadata": {},
     "output_type": "display_data"
    },
    {
     "data": {
      "text/plain": [
       "'https://www.ted.com/tedx/events?autocomplete_filter=TEDxMarcusHighSchool&page=2&when=past'"
      ]
     },
     "metadata": {},
     "output_type": "display_data"
    },
    {
     "data": {
      "text/plain": [
       "'https://www.ted.com/tedx/events?autocomplete_filter=TEDxWalledCity&page=1&when=past'"
      ]
     },
     "metadata": {},
     "output_type": "display_data"
    },
    {
     "data": {
      "text/plain": [
       "'https://www.ted.com/tedx/events?autocomplete_filter=TEDxWarsawPresidentialPalace&page=1&when=past'"
      ]
     },
     "metadata": {},
     "output_type": "display_data"
    },
    {
     "data": {
      "text/plain": [
       "'https://www.ted.com/tedx/events?autocomplete_filter=TEDxYouth@Kilimani&page=1&when=past'"
      ]
     },
     "metadata": {},
     "output_type": "display_data"
    },
    {
     "data": {
      "text/plain": [
       "'https://www.ted.com/tedx/events?autocomplete_filter=TEDxWalledCity&page=2&when=past'"
      ]
     },
     "metadata": {},
     "output_type": "display_data"
    },
    {
     "data": {
      "text/plain": [
       "'https://www.ted.com/tedx/events?autocomplete_filter=TEDxWarsawPresidentialPalace&page=2&when=past'"
      ]
     },
     "metadata": {},
     "output_type": "display_data"
    },
    {
     "data": {
      "text/plain": [
       "'https://www.ted.com/tedx/events?autocomplete_filter=TEDxYouth@Kilimani&page=2&when=past'"
      ]
     },
     "metadata": {},
     "output_type": "display_data"
    },
    {
     "data": {
      "text/plain": [
       "'https://www.ted.com/tedx/events?autocomplete_filter=TEDxCrestmoorParkED&page=1&when=past'"
      ]
     },
     "metadata": {},
     "output_type": "display_data"
    },
    {
     "data": {
      "text/plain": [
       "'https://www.ted.com/tedx/events?autocomplete_filter=TEDxJovem@PraçadaRepública&page=1&when=past'"
      ]
     },
     "metadata": {},
     "output_type": "display_data"
    },
    {
     "data": {
      "text/plain": [
       "'https://www.ted.com/tedx/events?autocomplete_filter=TEDx-&page=1&when=past'"
      ]
     },
     "metadata": {},
     "output_type": "display_data"
    },
    {
     "data": {
      "text/plain": [
       "'https://www.ted.com/tedx/events?autocomplete_filter=TEDxCrestmoorParkED&page=2&when=past'"
      ]
     },
     "metadata": {},
     "output_type": "display_data"
    },
    {
     "data": {
      "text/plain": [
       "'https://www.ted.com/tedx/events?autocomplete_filter=TEDxen&page=1&when=past'"
      ]
     },
     "metadata": {},
     "output_type": "display_data"
    },
    {
     "data": {
      "text/plain": [
       "'https://www.ted.com/tedx/events?autocomplete_filter=TEDxJovem@PraçadaRepública&page=2&when=past'"
      ]
     },
     "metadata": {},
     "output_type": "display_data"
    },
    {
     "data": {
      "text/plain": [
       "'https://www.ted.com/tedx/events?autocomplete_filter=TEDxWestVillageWomen&page=1&when=past'"
      ]
     },
     "metadata": {},
     "output_type": "display_data"
    },
    {
     "data": {
      "text/plain": [
       "'https://www.ted.com/tedx/events?autocomplete_filter=TEDxYouth@Baltimore&page=1&when=past'"
      ]
     },
     "metadata": {},
     "output_type": "display_data"
    },
    {
     "data": {
      "text/plain": [
       "'https://www.ted.com/tedx/events?autocomplete_filter=TEDxWestVillageWomen&page=2&when=past'"
      ]
     },
     "metadata": {},
     "output_type": "display_data"
    },
    {
     "data": {
      "text/plain": [
       "'https://www.ted.com/tedx/events?autocomplete_filter=TEDxYouth@Baltimore&page=2&when=past'"
      ]
     },
     "metadata": {},
     "output_type": "display_data"
    },
    {
     "data": {
      "text/plain": [
       "'https://www.ted.com/tedx/events?autocomplete_filter=TEDxen&page=2&when=past'"
      ]
     },
     "metadata": {},
     "output_type": "display_data"
    },
    {
     "data": {
      "text/plain": [
       "'https://www.ted.com/tedx/events?autocomplete_filter=TEDxPenangRoad&page=1&when=past'"
      ]
     },
     "metadata": {},
     "output_type": "display_data"
    },
    {
     "data": {
      "text/plain": [
       "'https://www.ted.com/tedx/events?autocomplete_filter=TEDxRoyalTunbridgeWellsWomen&page=1&when=past'"
      ]
     },
     "metadata": {},
     "output_type": "display_data"
    },
    {
     "data": {
      "text/plain": [
       "'https://www.ted.com/tedx/events?autocomplete_filter=TEDxen&page=3&when=past'"
      ]
     },
     "metadata": {},
     "output_type": "display_data"
    },
    {
     "data": {
      "text/plain": [
       "'https://www.ted.com/tedx/events?autocomplete_filter=TEDxPenangRoad&page=2&when=past'"
      ]
     },
     "metadata": {},
     "output_type": "display_data"
    },
    {
     "data": {
      "text/plain": [
       "'https://www.ted.com/tedx/events?autocomplete_filter=TEDxSitka&page=1&when=past'"
      ]
     },
     "metadata": {},
     "output_type": "display_data"
    },
    {
     "data": {
      "text/plain": [
       "'https://www.ted.com/tedx/events?autocomplete_filter=TEDxRoyalTunbridgeWellsWomen&page=2&when=past'"
      ]
     },
     "metadata": {},
     "output_type": "display_data"
    },
    {
     "data": {
      "text/plain": [
       "'https://www.ted.com/tedx/events?autocomplete_filter=TEDxTimesSquare&page=1&when=past'"
      ]
     },
     "metadata": {},
     "output_type": "display_data"
    },
    {
     "data": {
      "text/plain": [
       "'https://www.ted.com/tedx/events?autocomplete_filter=TEDxSitka&page=2&when=past'"
      ]
     },
     "metadata": {},
     "output_type": "display_data"
    },
    {
     "data": {
      "text/plain": [
       "'https://www.ted.com/tedx/events?autocomplete_filter=TEDxHerndonHighSchool&page=1&when=past'"
      ]
     },
     "metadata": {},
     "output_type": "display_data"
    },
    {
     "data": {
      "text/plain": [
       "'https://www.ted.com/tedx/events?autocomplete_filter=TEDxTimesSquare&page=2&when=past'"
      ]
     },
     "metadata": {},
     "output_type": "display_data"
    },
    {
     "data": {
      "text/plain": [
       "'https://www.ted.com/tedx/events?autocomplete_filter=TEDxPortElizabeth&page=1&when=past'"
      ]
     },
     "metadata": {},
     "output_type": "display_data"
    },
    {
     "data": {
      "text/plain": [
       "'https://www.ted.com/tedx/events?autocomplete_filter=TEDxHerndonHighSchool&page=2&when=past'"
      ]
     },
     "metadata": {},
     "output_type": "display_data"
    },
    {
     "data": {
      "text/plain": [
       "'https://www.ted.com/tedx/events?autocomplete_filter=TEDxmovement&page=1&when=past'"
      ]
     },
     "metadata": {},
     "output_type": "display_data"
    },
    {
     "data": {
      "text/plain": [
       "'https://www.ted.com/tedx/events?autocomplete_filter=TEDxCuestadelBailio&page=1&when=past'"
      ]
     },
     "metadata": {},
     "output_type": "display_data"
    },
    {
     "data": {
      "text/plain": [
       "'https://www.ted.com/tedx/events?autocomplete_filter=TEDxPortElizabeth&page=2&when=past'"
      ]
     },
     "metadata": {},
     "output_type": "display_data"
    },
    {
     "data": {
      "text/plain": [
       "'https://www.ted.com/tedx/events?autocomplete_filter=TEDxBurnsvilleED&page=1&when=past'"
      ]
     },
     "metadata": {},
     "output_type": "display_data"
    },
    {
     "data": {
      "text/plain": [
       "'https://www.ted.com/tedx/events?autocomplete_filter=TEDxOxfordHighSchool&page=1&when=past'"
      ]
     },
     "metadata": {},
     "output_type": "display_data"
    },
    {
     "data": {
      "text/plain": [
       "'https://www.ted.com/tedx/events?autocomplete_filter=TEDxCuestadelBailio&page=2&when=past'"
      ]
     },
     "metadata": {},
     "output_type": "display_data"
    },
    {
     "data": {
      "text/plain": [
       "'https://www.ted.com/tedx/events?autocomplete_filter=TEDxBurnsvilleED&page=2&when=past'"
      ]
     },
     "metadata": {},
     "output_type": "display_data"
    },
    {
     "data": {
      "text/plain": [
       "'https://www.ted.com/tedx/events?autocomplete_filter=TEDxASB&page=1&when=past'"
      ]
     },
     "metadata": {},
     "output_type": "display_data"
    },
    {
     "data": {
      "text/plain": [
       "'https://www.ted.com/tedx/events?autocomplete_filter=TEDxOxfordHighSchool&page=2&when=past'"
      ]
     },
     "metadata": {},
     "output_type": "display_data"
    },
    {
     "data": {
      "text/plain": [
       "'https://www.ted.com/tedx/events?autocomplete_filter=TEDxBellevue&page=1&when=past'"
      ]
     },
     "metadata": {},
     "output_type": "display_data"
    },
    {
     "data": {
      "text/plain": [
       "'https://www.ted.com/tedx/events?autocomplete_filter=TEDxTegucigalpa\"&page=1&when=past'"
      ]
     },
     "metadata": {},
     "output_type": "display_data"
    },
    {
     "data": {
      "text/plain": [
       "'https://www.ted.com/tedx/events?autocomplete_filter=TEDxASB&page=2&when=past'"
      ]
     },
     "metadata": {},
     "output_type": "display_data"
    },
    {
     "data": {
      "text/plain": [
       "'https://www.ted.com/tedx/events?autocomplete_filter=TEDxBellevue&page=2&when=past'"
      ]
     },
     "metadata": {},
     "output_type": "display_data"
    },
    {
     "data": {
      "text/plain": [
       "'https://www.ted.com/tedx/events?autocomplete_filter=TEDxYouth@CSD&page=1&when=past'"
      ]
     },
     "metadata": {},
     "output_type": "display_data"
    },
    {
     "data": {
      "text/plain": [
       "'https://www.ted.com/tedx/events?autocomplete_filter=TEDxWorthingED&page=1&when=past'"
      ]
     },
     "metadata": {},
     "output_type": "display_data"
    },
    {
     "data": {
      "text/plain": [
       "'https://www.ted.com/tedx/events?autocomplete_filter=TEDxBRISTOL&page=1&when=past'"
      ]
     },
     "metadata": {},
     "output_type": "display_data"
    },
    {
     "data": {
      "text/plain": [
       "'https://www.ted.com/tedx/events?autocomplete_filter=TEDxYouth@CSD&page=2&when=past'"
      ]
     },
     "metadata": {},
     "output_type": "display_data"
    },
    {
     "data": {
      "text/plain": [
       "'https://www.ted.com/tedx/events?autocomplete_filter=TEDxWorthingED&page=2&when=past'"
      ]
     },
     "metadata": {},
     "output_type": "display_data"
    },
    {
     "data": {
      "text/plain": [
       "'https://www.ted.com/tedx/events?autocomplete_filter=TEDxBRISTOL&page=2&when=past'"
      ]
     },
     "metadata": {},
     "output_type": "display_data"
    },
    {
     "data": {
      "text/plain": [
       "'https://www.ted.com/tedx/events?autocomplete_filter=TEDxJardimdasPalmeiras&page=1&when=past'"
      ]
     },
     "metadata": {},
     "output_type": "display_data"
    },
    {
     "data": {
      "text/plain": [
       "'https://www.ted.com/tedx/events?autocomplete_filter=TEDxBlagoevgradWomen&page=1&when=past'"
      ]
     },
     "metadata": {},
     "output_type": "display_data"
    },
    {
     "data": {
      "text/plain": [
       "'https://www.ted.com/tedx/events?autocomplete_filter=TEDxFortTownshend&page=1&when=past'"
      ]
     },
     "metadata": {},
     "output_type": "display_data"
    },
    {
     "data": {
      "text/plain": [
       "'https://www.ted.com/tedx/events?autocomplete_filter=TEDxFortTownshend&page=2&when=past'"
      ]
     },
     "metadata": {},
     "output_type": "display_data"
    },
    {
     "data": {
      "text/plain": [
       "'https://www.ted.com/tedx/events?autocomplete_filter=TEDxJardimdasPalmeiras&page=2&when=past'"
      ]
     },
     "metadata": {},
     "output_type": "display_data"
    },
    {
     "data": {
      "text/plain": [
       "'https://www.ted.com/tedx/events?autocomplete_filter=TEDxBlagoevgradWomen&page=2&when=past'"
      ]
     },
     "metadata": {},
     "output_type": "display_data"
    },
    {
     "data": {
      "text/plain": [
       "'https://www.ted.com/tedx/events?autocomplete_filter=TEDxDhahranHighSchool&page=1&when=past'"
      ]
     },
     "metadata": {},
     "output_type": "display_data"
    },
    {
     "data": {
      "text/plain": [
       "'https://www.ted.com/tedx/events?autocomplete_filter=TEDxSaraighat&page=1&when=past'"
      ]
     },
     "metadata": {},
     "output_type": "display_data"
    },
    {
     "data": {
      "text/plain": [
       "'https://www.ted.com/tedx/events?autocomplete_filter=TEDxTISS&page=1&when=past'"
      ]
     },
     "metadata": {},
     "output_type": "display_data"
    },
    {
     "data": {
      "text/plain": [
       "'https://www.ted.com/tedx/events?autocomplete_filter=TEDxDhahranHighSchool&page=2&when=past'"
      ]
     },
     "metadata": {},
     "output_type": "display_data"
    },
    {
     "data": {
      "text/plain": [
       "'https://www.ted.com/tedx/events?autocomplete_filter=TEDxSaraighat&page=2&when=past'"
      ]
     },
     "metadata": {},
     "output_type": "display_data"
    },
    {
     "data": {
      "text/plain": [
       "'https://www.ted.com/tedx/events?autocomplete_filter=TEDxTISS&page=2&when=past'"
      ]
     },
     "metadata": {},
     "output_type": "display_data"
    },
    {
     "data": {
      "text/plain": [
       "'https://www.ted.com/tedx/events?autocomplete_filter=TEDxSalvador&page=1&when=past'"
      ]
     },
     "metadata": {},
     "output_type": "display_data"
    },
    {
     "data": {
      "text/plain": [
       "'https://www.ted.com/tedx/events?autocomplete_filter=TEDxYouth@Trastevere&page=1&when=past'"
      ]
     },
     "metadata": {},
     "output_type": "display_data"
    },
    {
     "data": {
      "text/plain": [
       "'https://www.ted.com/tedx/events?autocomplete_filter=TEDxDelrayBeach&page=1&when=past'"
      ]
     },
     "metadata": {},
     "output_type": "display_data"
    },
    {
     "data": {
      "text/plain": [
       "'https://www.ted.com/tedx/events?autocomplete_filter=TEDxSalvador&page=2&when=past'"
      ]
     },
     "metadata": {},
     "output_type": "display_data"
    },
    {
     "data": {
      "text/plain": [
       "'https://www.ted.com/tedx/events?autocomplete_filter=TEDxYouth@Trastevere&page=2&when=past'"
      ]
     },
     "metadata": {},
     "output_type": "display_data"
    },
    {
     "data": {
      "text/plain": [
       "'https://www.ted.com/tedx/events?autocomplete_filter=TEDxDelrayBeach&page=2&when=past'"
      ]
     },
     "metadata": {},
     "output_type": "display_data"
    },
    {
     "data": {
      "text/plain": [
       "'https://www.ted.com/tedx/events?autocomplete_filter=TEDxZamorano&page=1&when=past'"
      ]
     },
     "metadata": {},
     "output_type": "display_data"
    },
    {
     "data": {
      "text/plain": [
       "'https://www.ted.com/tedx/events?autocomplete_filter=TEDxBishopsU&page=1&when=past'"
      ]
     },
     "metadata": {},
     "output_type": "display_data"
    },
    {
     "data": {
      "text/plain": [
       "'https://www.ted.com/tedx/events?autocomplete_filter=TEDxMeijiUniversity&page=1&when=past'"
      ]
     },
     "metadata": {},
     "output_type": "display_data"
    },
    {
     "data": {
      "text/plain": [
       "'https://www.ted.com/tedx/events?autocomplete_filter=TEDxZamorano&page=2&when=past'"
      ]
     },
     "metadata": {},
     "output_type": "display_data"
    },
    {
     "data": {
      "text/plain": [
       "'https://www.ted.com/tedx/events?autocomplete_filter=TEDxBishopsU&page=2&when=past'"
      ]
     },
     "metadata": {},
     "output_type": "display_data"
    },
    {
     "data": {
      "text/plain": [
       "'https://www.ted.com/tedx/events?autocomplete_filter=TEDxMeijiUniversity&page=2&when=past'"
      ]
     },
     "metadata": {},
     "output_type": "display_data"
    },
    {
     "data": {
      "text/plain": [
       "'https://www.ted.com/tedx/events?autocomplete_filter=TEDxSoCal&page=1&when=past'"
      ]
     },
     "metadata": {},
     "output_type": "display_data"
    },
    {
     "data": {
      "text/plain": [
       "'https://www.ted.com/tedx/events?autocomplete_filter=TEDxPontaDelgada&page=1&when=past'"
      ]
     },
     "metadata": {},
     "output_type": "display_data"
    },
    {
     "data": {
      "text/plain": [
       "'https://www.ted.com/tedx/events?autocomplete_filter=TEDxSandaga&page=1&when=past'"
      ]
     },
     "metadata": {},
     "output_type": "display_data"
    },
    {
     "data": {
      "text/plain": [
       "'https://www.ted.com/tedx/events?autocomplete_filter=TEDxSoCal&page=2&when=past'"
      ]
     },
     "metadata": {},
     "output_type": "display_data"
    },
    {
     "data": {
      "text/plain": [
       "'https://www.ted.com/tedx/events?autocomplete_filter=TEDxPontaDelgada&page=2&when=past'"
      ]
     },
     "metadata": {},
     "output_type": "display_data"
    },
    {
     "data": {
      "text/plain": [
       "'https://www.ted.com/tedx/events?autocomplete_filter=TEDxSandaga&page=2&when=past'"
      ]
     },
     "metadata": {},
     "output_type": "display_data"
    },
    {
     "data": {
      "text/plain": [
       "'https://www.ted.com/tedx/events?autocomplete_filter=TEDxPordenone&page=1&when=past'"
      ]
     },
     "metadata": {},
     "output_type": "display_data"
    },
    {
     "data": {
      "text/plain": [
       "'https://www.ted.com/tedx/events?autocomplete_filter=TEDxIDC&page=1&when=past'"
      ]
     },
     "metadata": {},
     "output_type": "display_data"
    },
    {
     "data": {
      "text/plain": [
       "'https://www.ted.com/tedx/events?autocomplete_filter=TEDxPowellRiver&page=1&when=past'"
      ]
     },
     "metadata": {},
     "output_type": "display_data"
    },
    {
     "data": {
      "text/plain": [
       "'https://www.ted.com/tedx/events?autocomplete_filter=TEDxPordenone&page=2&when=past'"
      ]
     },
     "metadata": {},
     "output_type": "display_data"
    },
    {
     "data": {
      "text/plain": [
       "'https://www.ted.com/tedx/events?autocomplete_filter=TEDxIDC&page=2&when=past'"
      ]
     },
     "metadata": {},
     "output_type": "display_data"
    },
    {
     "data": {
      "text/plain": [
       "'https://www.ted.com/tedx/events?autocomplete_filter=TEDxPowellRiver&page=2&when=past'"
      ]
     },
     "metadata": {},
     "output_type": "display_data"
    },
    {
     "data": {
      "text/plain": [
       "'https://www.ted.com/tedx/events?autocomplete_filter=TEDxMaricopa&page=1&when=past'"
      ]
     },
     "metadata": {},
     "output_type": "display_data"
    },
    {
     "data": {
      "text/plain": [
       "'https://www.ted.com/tedx/events?autocomplete_filter=TEDxOjai&page=1&when=past'"
      ]
     },
     "metadata": {},
     "output_type": "display_data"
    },
    {
     "data": {
      "text/plain": [
       "'https://www.ted.com/tedx/events?autocomplete_filter=TEDxArkansasStateUniversity&page=1&when=past'"
      ]
     },
     "metadata": {},
     "output_type": "display_data"
    },
    {
     "data": {
      "text/plain": [
       "'https://www.ted.com/tedx/events?autocomplete_filter=TEDxMaricopa&page=2&when=past'"
      ]
     },
     "metadata": {},
     "output_type": "display_data"
    },
    {
     "data": {
      "text/plain": [
       "'https://www.ted.com/tedx/events?autocomplete_filter=TEDxOjai&page=2&when=past'"
      ]
     },
     "metadata": {},
     "output_type": "display_data"
    },
    {
     "data": {
      "text/plain": [
       "'https://www.ted.com/tedx/events?autocomplete_filter=TEDxArkansasStateUniversity&page=2&when=past'"
      ]
     },
     "metadata": {},
     "output_type": "display_data"
    },
    {
     "data": {
      "text/plain": [
       "'https://www.ted.com/tedx/events?autocomplete_filter=TEDxSantaCruz:&page=1&when=past'"
      ]
     },
     "metadata": {},
     "output_type": "display_data"
    },
    {
     "data": {
      "text/plain": [
       "'https://www.ted.com/tedx/events?autocomplete_filter=TEDxCalcutta&page=1&when=past'"
      ]
     },
     "metadata": {},
     "output_type": "display_data"
    },
    {
     "data": {
      "text/plain": [
       "'https://www.ted.com/tedx/events?autocomplete_filter=TEDxINSEADSingapore&page=1&when=past'"
      ]
     },
     "metadata": {},
     "output_type": "display_data"
    },
    {
     "data": {
      "text/plain": [
       "'https://www.ted.com/tedx/events?autocomplete_filter=TEDxSanJoaquin&page=1&when=past'"
      ]
     },
     "metadata": {},
     "output_type": "display_data"
    },
    {
     "data": {
      "text/plain": [
       "'https://www.ted.com/tedx/events?autocomplete_filter=TEDxCalcutta&page=2&when=past'"
      ]
     },
     "metadata": {},
     "output_type": "display_data"
    },
    {
     "data": {
      "text/plain": [
       "'https://www.ted.com/tedx/events?autocomplete_filter=TEDxINSEADSingapore&page=2&when=past'"
      ]
     },
     "metadata": {},
     "output_type": "display_data"
    },
    {
     "data": {
      "text/plain": [
       "'https://www.ted.com/tedx/events?autocomplete_filter=TEDxWayPublicLibrary&page=1&when=past'"
      ]
     },
     "metadata": {},
     "output_type": "display_data"
    },
    {
     "data": {
      "text/plain": [
       "'https://www.ted.com/tedx/events?autocomplete_filter=TEDxSanJoaquin&page=2&when=past'"
      ]
     },
     "metadata": {},
     "output_type": "display_data"
    },
    {
     "data": {
      "text/plain": [
       "'https://www.ted.com/tedx/events?autocomplete_filter=TEDxperiments&page=1&when=past'"
      ]
     },
     "metadata": {},
     "output_type": "display_data"
    },
    {
     "data": {
      "text/plain": [
       "'https://www.ted.com/tedx/events?autocomplete_filter=TEDxKharkov&page=1&when=past'"
      ]
     },
     "metadata": {},
     "output_type": "display_data"
    },
    {
     "data": {
      "text/plain": [
       "'https://www.ted.com/tedx/events?autocomplete_filter=TEDxSilkRoad&page=1&when=past'"
      ]
     },
     "metadata": {},
     "output_type": "display_data"
    },
    {
     "data": {
      "text/plain": [
       "'https://www.ted.com/tedx/events?autocomplete_filter=TEDxWayPublicLibrary&page=2&when=past'"
      ]
     },
     "metadata": {},
     "output_type": "display_data"
    },
    {
     "data": {
      "text/plain": [
       "'https://www.ted.com/tedx/events?autocomplete_filter=TEDxRillitoRiver&page=1&when=past'"
      ]
     },
     "metadata": {},
     "output_type": "display_data"
    },
    {
     "data": {
      "text/plain": [
       "'https://www.ted.com/tedx/events?autocomplete_filter=TEDxSilkRoad&page=2&when=past'"
      ]
     },
     "metadata": {},
     "output_type": "display_data"
    },
    {
     "data": {
      "text/plain": [
       "'https://www.ted.com/tedx/events?autocomplete_filter=TEDxKharkov&page=2&when=past'"
      ]
     },
     "metadata": {},
     "output_type": "display_data"
    },
    {
     "data": {
      "text/plain": [
       "'https://www.ted.com/tedx/events?autocomplete_filter=TEDxRillitoRiver&page=2&when=past'"
      ]
     },
     "metadata": {},
     "output_type": "display_data"
    },
    {
     "data": {
      "text/plain": [
       "'https://www.ted.com/tedx/events?autocomplete_filter=TEDxSemesterAtSea&page=1&when=past'"
      ]
     },
     "metadata": {},
     "output_type": "display_data"
    },
    {
     "data": {
      "text/plain": [
       "'https://www.ted.com/tedx/events?autocomplete_filter=TEDxDESA&page=1&when=past'"
      ]
     },
     "metadata": {},
     "output_type": "display_data"
    },
    {
     "data": {
      "text/plain": [
       "'https://www.ted.com/tedx/events?autocomplete_filter=TEDxUDESCJoinville&page=1&when=past'"
      ]
     },
     "metadata": {},
     "output_type": "display_data"
    },
    {
     "data": {
      "text/plain": [
       "'https://www.ted.com/tedx/events?autocomplete_filter=TEDxSemesterAtSea&page=2&when=past'"
      ]
     },
     "metadata": {},
     "output_type": "display_data"
    },
    {
     "data": {
      "text/plain": [
       "'https://www.ted.com/tedx/events?autocomplete_filter=TEDxDESA&page=2&when=past'"
      ]
     },
     "metadata": {},
     "output_type": "display_data"
    },
    {
     "data": {
      "text/plain": [
       "'https://www.ted.com/tedx/events?autocomplete_filter=TEDxUDESCJoinville&page=2&when=past'"
      ]
     },
     "metadata": {},
     "output_type": "display_data"
    },
    {
     "data": {
      "text/plain": [
       "'https://www.ted.com/tedx/events?autocomplete_filter=TEDxGrandviewAve&page=1&when=past'"
      ]
     },
     "metadata": {},
     "output_type": "display_data"
    },
    {
     "data": {
      "text/plain": [
       "'https://www.ted.com/tedx/events?autocomplete_filter=TEDxUTChattanooga&page=1&when=past'"
      ]
     },
     "metadata": {},
     "output_type": "display_data"
    },
    {
     "data": {
      "text/plain": [
       "'https://www.ted.com/tedx/events?autocomplete_filter=TEDxAsunción&page=1&when=past'"
      ]
     },
     "metadata": {},
     "output_type": "display_data"
    },
    {
     "data": {
      "text/plain": [
       "'https://www.ted.com/tedx/events?autocomplete_filter=TEDxGrandviewAve&page=2&when=past'"
      ]
     },
     "metadata": {},
     "output_type": "display_data"
    },
    {
     "data": {
      "text/plain": [
       "'https://www.ted.com/tedx/events?autocomplete_filter=TEDxUTChattanooga&page=2&when=past'"
      ]
     },
     "metadata": {},
     "output_type": "display_data"
    },
    {
     "data": {
      "text/plain": [
       "'https://www.ted.com/tedx/events?autocomplete_filter=TEDxAsunción&page=2&when=past'"
      ]
     },
     "metadata": {},
     "output_type": "display_data"
    },
    {
     "data": {
      "text/plain": [
       "'https://www.ted.com/tedx/events?autocomplete_filter=TEDxSkopje&page=1&when=past'"
      ]
     },
     "metadata": {},
     "output_type": "display_data"
    },
    {
     "data": {
      "text/plain": [
       "'https://www.ted.com/tedx/events?autocomplete_filter=TEDxTepuy&page=1&when=past'"
      ]
     },
     "metadata": {},
     "output_type": "display_data"
    },
    {
     "data": {
      "text/plain": [
       "'https://www.ted.com/tedx/events?autocomplete_filter=TEDxDU&page=1&when=past'"
      ]
     },
     "metadata": {},
     "output_type": "display_data"
    },
    {
     "data": {
      "text/plain": [
       "'https://www.ted.com/tedx/events?autocomplete_filter=TEDxTepuy&page=2&when=past'"
      ]
     },
     "metadata": {},
     "output_type": "display_data"
    },
    {
     "data": {
      "text/plain": [
       "'https://www.ted.com/tedx/events?autocomplete_filter=TEDxSkopje&page=2&when=past'"
      ]
     },
     "metadata": {},
     "output_type": "display_data"
    },
    {
     "data": {
      "text/plain": [
       "'https://www.ted.com/tedx/events?autocomplete_filter=TEDxDU&page=2&when=past'"
      ]
     },
     "metadata": {},
     "output_type": "display_data"
    },
    {
     "data": {
      "text/plain": [
       "'https://www.ted.com/tedx/events?autocomplete_filter=TEDxFortGreeneSalon&page=1&when=past'"
      ]
     },
     "metadata": {},
     "output_type": "display_data"
    },
    {
     "data": {
      "text/plain": [
       "'https://www.ted.com/tedx/events?autocomplete_filter=TEDxAjman&page=1&when=past'"
      ]
     },
     "metadata": {},
     "output_type": "display_data"
    },
    {
     "data": {
      "text/plain": [
       "'https://www.ted.com/tedx/events?autocomplete_filter=TEDxFortGreeneSalon&page=2&when=past'"
      ]
     },
     "metadata": {},
     "output_type": "display_data"
    },
    {
     "data": {
      "text/plain": [
       "'https://www.ted.com/tedx/events?autocomplete_filter=TEDxAjman&page=2&when=past'"
      ]
     },
     "metadata": {},
     "output_type": "display_data"
    },
    {
     "data": {
      "text/plain": [
       "'https://www.ted.com/tedx/events?autocomplete_filter=TEDxDU&page=3&when=past'"
      ]
     },
     "metadata": {},
     "output_type": "display_data"
    },
    {
     "data": {
      "text/plain": [
       "'https://www.ted.com/tedx/events?autocomplete_filter=TEDxNantwich&page=1&when=past'"
      ]
     },
     "metadata": {},
     "output_type": "display_data"
    },
    {
     "data": {
      "text/plain": [
       "'https://www.ted.com/tedx/events?autocomplete_filter=TEDxPerm&page=1&when=past'"
      ]
     },
     "metadata": {},
     "output_type": "display_data"
    },
    {
     "data": {
      "text/plain": [
       "'https://www.ted.com/tedx/events?autocomplete_filter=TEDxDU&page=4&when=past'"
      ]
     },
     "metadata": {},
     "output_type": "display_data"
    },
    {
     "data": {
      "text/plain": [
       "'https://www.ted.com/tedx/events?autocomplete_filter=TEDxNantwich&page=2&when=past'"
      ]
     },
     "metadata": {},
     "output_type": "display_data"
    },
    {
     "data": {
      "text/plain": [
       "'https://www.ted.com/tedx/events?autocomplete_filter=TEDxPerm&page=2&when=past'"
      ]
     },
     "metadata": {},
     "output_type": "display_data"
    },
    {
     "data": {
      "text/plain": [
       "'https://www.ted.com/tedx/events?autocomplete_filter=TEDxAUB&page=1&when=past'"
      ]
     },
     "metadata": {},
     "output_type": "display_data"
    },
    {
     "data": {
      "text/plain": [
       "'https://www.ted.com/tedx/events?autocomplete_filter=TEDxYouth@TSIS&page=1&when=past'"
      ]
     },
     "metadata": {},
     "output_type": "display_data"
    },
    {
     "data": {
      "text/plain": [
       "'https://www.ted.com/tedx/events?autocomplete_filter=TEDxUWS&page=1&when=past'"
      ]
     },
     "metadata": {},
     "output_type": "display_data"
    },
    {
     "data": {
      "text/plain": [
       "'https://www.ted.com/tedx/events?autocomplete_filter=TEDxYouth@TSIS&page=2&when=past'"
      ]
     },
     "metadata": {},
     "output_type": "display_data"
    },
    {
     "data": {
      "text/plain": [
       "'https://www.ted.com/tedx/events?autocomplete_filter=TEDxAUB&page=2&when=past'"
      ]
     },
     "metadata": {},
     "output_type": "display_data"
    },
    {
     "data": {
      "text/plain": [
       "'https://www.ted.com/tedx/events?autocomplete_filter=TEDxUWS&page=2&when=past'"
      ]
     },
     "metadata": {},
     "output_type": "display_data"
    },
    {
     "data": {
      "text/plain": [
       "'https://www.ted.com/tedx/events?autocomplete_filter=TEDxMickiewiczHighSchool&page=1&when=past'"
      ]
     },
     "metadata": {},
     "output_type": "display_data"
    },
    {
     "data": {
      "text/plain": [
       "'https://www.ted.com/tedx/events?autocomplete_filter=TEDxSRM&page=1&when=past'"
      ]
     },
     "metadata": {},
     "output_type": "display_data"
    },
    {
     "data": {
      "text/plain": [
       "'https://www.ted.com/tedx/events?autocomplete_filter=TEDxYaleWorldFellows&page=1&when=past'"
      ]
     },
     "metadata": {},
     "output_type": "display_data"
    },
    {
     "data": {
      "text/plain": [
       "'https://www.ted.com/tedx/events?autocomplete_filter=TEDxMickiewiczHighSchool&page=2&when=past'"
      ]
     },
     "metadata": {},
     "output_type": "display_data"
    },
    {
     "data": {
      "text/plain": [
       "'https://www.ted.com/tedx/events?autocomplete_filter=TEDxYaleWorldFellows&page=2&when=past'"
      ]
     },
     "metadata": {},
     "output_type": "display_data"
    },
    {
     "data": {
      "text/plain": [
       "'https://www.ted.com/tedx/events?autocomplete_filter=TEDxSRM&page=2&when=past'"
      ]
     },
     "metadata": {},
     "output_type": "display_data"
    },
    {
     "data": {
      "text/plain": [
       "'https://www.ted.com/tedx/events?autocomplete_filter=TEDxOPorto&page=1&when=past'"
      ]
     },
     "metadata": {},
     "output_type": "display_data"
    },
    {
     "data": {
      "text/plain": [
       "'https://www.ted.com/tedx/events?autocomplete_filter=TEDxUMassAmherst&page=1&when=past'"
      ]
     },
     "metadata": {},
     "output_type": "display_data"
    },
    {
     "data": {
      "text/plain": [
       "'https://www.ted.com/tedx/events?autocomplete_filter=TEDxYALE&page=1&when=past'"
      ]
     },
     "metadata": {},
     "output_type": "display_data"
    },
    {
     "data": {
      "text/plain": [
       "'https://www.ted.com/tedx/events?autocomplete_filter=TEDxOPorto&page=2&when=past'"
      ]
     },
     "metadata": {},
     "output_type": "display_data"
    },
    {
     "data": {
      "text/plain": [
       "'https://www.ted.com/tedx/events?autocomplete_filter=TEDxUMassAmherst&page=2&when=past'"
      ]
     },
     "metadata": {},
     "output_type": "display_data"
    },
    {
     "data": {
      "text/plain": [
       "'https://www.ted.com/tedx/events?autocomplete_filter=TEDxHIllsboroughLibrary&page=1&when=past'"
      ]
     },
     "metadata": {},
     "output_type": "display_data"
    },
    {
     "data": {
      "text/plain": [
       "'https://www.ted.com/tedx/events?autocomplete_filter=TEDxYALE&page=2&when=past'"
      ]
     },
     "metadata": {},
     "output_type": "display_data"
    },
    {
     "data": {
      "text/plain": [
       "'https://www.ted.com/tedx/events?autocomplete_filter=TEDxBridgetown&page=1&when=past'"
      ]
     },
     "metadata": {},
     "output_type": "display_data"
    },
    {
     "data": {
      "text/plain": [
       "'https://www.ted.com/tedx/events?autocomplete_filter=TedxVorobyovy-Gory&page=1&when=past'"
      ]
     },
     "metadata": {},
     "output_type": "display_data"
    },
    {
     "data": {
      "text/plain": [
       "'https://www.ted.com/tedx/events?autocomplete_filter=TEDxHIllsboroughLibrary&page=2&when=past'"
      ]
     },
     "metadata": {},
     "output_type": "display_data"
    },
    {
     "data": {
      "text/plain": [
       "'https://www.ted.com/tedx/events?autocomplete_filter=TEDxBridgetown&page=2&when=past'"
      ]
     },
     "metadata": {},
     "output_type": "display_data"
    },
    {
     "data": {
      "text/plain": [
       "'https://www.ted.com/tedx/events?autocomplete_filter=TedxVorobyovy-Gory&page=2&when=past'"
      ]
     },
     "metadata": {},
     "output_type": "display_data"
    },
    {
     "data": {
      "text/plain": [
       "'https://www.ted.com/tedx/events?autocomplete_filter=TEDxButanta&page=1&when=past'"
      ]
     },
     "metadata": {},
     "output_type": "display_data"
    },
    {
     "data": {
      "text/plain": [
       "'https://www.ted.com/tedx/events?autocomplete_filter=TEDxFreeLibraryofPhiladelphia&page=1&when=past'"
      ]
     },
     "metadata": {},
     "output_type": "display_data"
    },
    {
     "data": {
      "text/plain": [
       "'https://www.ted.com/tedx/events?autocomplete_filter=TEDxUQAT&page=1&when=past'"
      ]
     },
     "metadata": {},
     "output_type": "display_data"
    },
    {
     "data": {
      "text/plain": [
       "'https://www.ted.com/tedx/events?autocomplete_filter=TEDxButanta&page=2&when=past'"
      ]
     },
     "metadata": {},
     "output_type": "display_data"
    },
    {
     "data": {
      "text/plain": [
       "'https://www.ted.com/tedx/events?autocomplete_filter=TEDxUQAT&page=2&when=past'"
      ]
     },
     "metadata": {},
     "output_type": "display_data"
    },
    {
     "data": {
      "text/plain": [
       "'https://www.ted.com/tedx/events?autocomplete_filter=TEDxFreeLibraryofPhiladelphia&page=2&when=past'"
      ]
     },
     "metadata": {},
     "output_type": "display_data"
    },
    {
     "data": {
      "text/plain": [
       "'https://www.ted.com/tedx/events?autocomplete_filter=TEDxReunion&page=1&when=past'"
      ]
     },
     "metadata": {},
     "output_type": "display_data"
    },
    {
     "data": {
      "text/plain": [
       "'https://www.ted.com/tedx/events?autocomplete_filter=TEDxAshokaU&page=1&when=past'"
      ]
     },
     "metadata": {},
     "output_type": "display_data"
    },
    {
     "data": {
      "text/plain": [
       "'https://www.ted.com/tedx/events?autocomplete_filter=TEDxLAMiracleMile&page=1&when=past'"
      ]
     },
     "metadata": {},
     "output_type": "display_data"
    },
    {
     "data": {
      "text/plain": [
       "'https://www.ted.com/tedx/events?autocomplete_filter=TEDxReunion&page=2&when=past'"
      ]
     },
     "metadata": {},
     "output_type": "display_data"
    },
    {
     "data": {
      "text/plain": [
       "'https://www.ted.com/tedx/events?autocomplete_filter=TEDxLAMiracleMile&page=2&when=past'"
      ]
     },
     "metadata": {},
     "output_type": "display_data"
    },
    {
     "data": {
      "text/plain": [
       "'https://www.ted.com/tedx/events?autocomplete_filter=TEDxAshokaU&page=2&when=past'"
      ]
     },
     "metadata": {},
     "output_type": "display_data"
    },
    {
     "data": {
      "text/plain": [
       "'https://www.ted.com/tedx/events?autocomplete_filter=TEDxCharacato&page=1&when=past'"
      ]
     },
     "metadata": {},
     "output_type": "display_data"
    },
    {
     "data": {
      "text/plain": [
       "'https://www.ted.com/tedx/events?autocomplete_filter=TEDxJardimBotânico&page=1&when=past'"
      ]
     },
     "metadata": {},
     "output_type": "display_data"
    },
    {
     "data": {
      "text/plain": [
       "'https://www.ted.com/tedx/events?autocomplete_filter=TEDxUSagradoCorazon&page=1&when=past'"
      ]
     },
     "metadata": {},
     "output_type": "display_data"
    },
    {
     "data": {
      "text/plain": [
       "'https://www.ted.com/tedx/events?autocomplete_filter=TEDxCharacato&page=2&when=past'"
      ]
     },
     "metadata": {},
     "output_type": "display_data"
    },
    {
     "data": {
      "text/plain": [
       "'https://www.ted.com/tedx/events?autocomplete_filter=TEDxJardimBotânico&page=2&when=past'"
      ]
     },
     "metadata": {},
     "output_type": "display_data"
    },
    {
     "data": {
      "text/plain": [
       "'https://www.ted.com/tedx/events?autocomplete_filter=TEDxStHelier&page=1&when=past'"
      ]
     },
     "metadata": {},
     "output_type": "display_data"
    },
    {
     "data": {
      "text/plain": [
       "'https://www.ted.com/tedx/events?autocomplete_filter=TEDxUSagradoCorazon&page=2&when=past'"
      ]
     },
     "metadata": {},
     "output_type": "display_data"
    },
    {
     "data": {
      "text/plain": [
       "'https://www.ted.com/tedx/events?autocomplete_filter=TEDxShelburneFalls&page=1&when=past'"
      ]
     },
     "metadata": {},
     "output_type": "display_data"
    },
    {
     "data": {
      "text/plain": [
       "'https://www.ted.com/tedx/events?autocomplete_filter=TEDxArabia&page=1&when=past'"
      ]
     },
     "metadata": {},
     "output_type": "display_data"
    },
    {
     "data": {
      "text/plain": [
       "'https://www.ted.com/tedx/events?autocomplete_filter=TEDxStHelier&page=2&when=past'"
      ]
     },
     "metadata": {},
     "output_type": "display_data"
    },
    {
     "data": {
      "text/plain": [
       "'https://www.ted.com/tedx/events?autocomplete_filter=TEDxShelburneFalls&page=2&when=past'"
      ]
     },
     "metadata": {},
     "output_type": "display_data"
    },
    {
     "data": {
      "text/plain": [
       "'https://www.ted.com/tedx/events?autocomplete_filter=TEDxJardinsSalon&page=1&when=past'"
      ]
     },
     "metadata": {},
     "output_type": "display_data"
    },
    {
     "data": {
      "text/plain": [
       "'https://www.ted.com/tedx/events?autocomplete_filter=TEDxArabia&page=2&when=past'"
      ]
     },
     "metadata": {},
     "output_type": "display_data"
    },
    {
     "data": {
      "text/plain": [
       "'https://www.ted.com/tedx/events?autocomplete_filter=TEDxFront&page=1&when=past'"
      ]
     },
     "metadata": {},
     "output_type": "display_data"
    },
    {
     "data": {
      "text/plain": [
       "'https://www.ted.com/tedx/events?autocomplete_filter=TEDxMonterey&page=1&when=past'"
      ]
     },
     "metadata": {},
     "output_type": "display_data"
    },
    {
     "data": {
      "text/plain": [
       "'https://www.ted.com/tedx/events?autocomplete_filter=TEDxJardinsSalon&page=2&when=past'"
      ]
     },
     "metadata": {},
     "output_type": "display_data"
    },
    {
     "data": {
      "text/plain": [
       "'https://www.ted.com/tedx/events?autocomplete_filter=TEDxFront&page=2&when=past'"
      ]
     },
     "metadata": {},
     "output_type": "display_data"
    },
    {
     "data": {
      "text/plain": [
       "'https://www.ted.com/tedx/events?autocomplete_filter=TEDxMonterey&page=2&when=past'"
      ]
     },
     "metadata": {},
     "output_type": "display_data"
    },
    {
     "data": {
      "text/plain": [
       "'https://www.ted.com/tedx/events?autocomplete_filter=TEDxYouth@Ulaanbaatar&page=1&when=past'"
      ]
     },
     "metadata": {},
     "output_type": "display_data"
    },
    {
     "data": {
      "text/plain": [
       "'https://www.ted.com/tedx/events?autocomplete_filter=TEDxFukuokaChange&page=1&when=past'"
      ]
     },
     "metadata": {},
     "output_type": "display_data"
    },
    {
     "data": {
      "text/plain": [
       "'https://www.ted.com/tedx/events?autocomplete_filter=TEDxYouth@CherryHillEastHS&page=1&when=past'"
      ]
     },
     "metadata": {},
     "output_type": "display_data"
    },
    {
     "data": {
      "text/plain": [
       "'https://www.ted.com/tedx/events?autocomplete_filter=TEDxYouth@Ulaanbaatar&page=2&when=past'"
      ]
     },
     "metadata": {},
     "output_type": "display_data"
    },
    {
     "data": {
      "text/plain": [
       "'https://www.ted.com/tedx/events?autocomplete_filter=TEDxFukuokaChange&page=2&when=past'"
      ]
     },
     "metadata": {},
     "output_type": "display_data"
    },
    {
     "data": {
      "text/plain": [
       "'https://www.ted.com/tedx/events?autocomplete_filter=TEDxYouth@CherryHillEastHS&page=2&when=past'"
      ]
     },
     "metadata": {},
     "output_type": "display_data"
    },
    {
     "data": {
      "text/plain": [
       "'https://www.ted.com/tedx/events?autocomplete_filter=TEDxBangaloreWomen&page=1&when=past'"
      ]
     },
     "metadata": {},
     "output_type": "display_data"
    },
    {
     "data": {
      "text/plain": [
       "'https://www.ted.com/tedx/events?autocomplete_filter=TEDxStLouis&page=1&when=past'"
      ]
     },
     "metadata": {},
     "output_type": "display_data"
    },
    {
     "data": {
      "text/plain": [
       "'https://www.ted.com/tedx/events?autocomplete_filter=TEDxSanaa&page=1&when=past'"
      ]
     },
     "metadata": {},
     "output_type": "display_data"
    },
    {
     "data": {
      "text/plain": [
       "'https://www.ted.com/tedx/events?autocomplete_filter=TEDxBangaloreWomen&page=2&when=past'"
      ]
     },
     "metadata": {},
     "output_type": "display_data"
    },
    {
     "data": {
      "text/plain": [
       "'https://www.ted.com/tedx/events?autocomplete_filter=TEDxStLouis&page=2&when=past'"
      ]
     },
     "metadata": {},
     "output_type": "display_data"
    },
    {
     "data": {
      "text/plain": [
       "'https://www.ted.com/tedx/events?autocomplete_filter=TEDxArtCenterCollegeOfDesign&page=1&when=past'"
      ]
     },
     "metadata": {},
     "output_type": "display_data"
    },
    {
     "data": {
      "text/plain": [
       "'https://www.ted.com/tedx/events?autocomplete_filter=TEDxSanaa&page=2&when=past'"
      ]
     },
     "metadata": {},
     "output_type": "display_data"
    },
    {
     "data": {
      "text/plain": [
       "'https://www.ted.com/tedx/events?autocomplete_filter=TEDxTohoku&page=1&when=past'"
      ]
     },
     "metadata": {},
     "output_type": "display_data"
    },
    {
     "data": {
      "text/plain": [
       "'https://www.ted.com/tedx/events?autocomplete_filter=TEDxVilaMadaSalon&page=1&when=past'"
      ]
     },
     "metadata": {},
     "output_type": "display_data"
    },
    {
     "data": {
      "text/plain": [
       "'https://www.ted.com/tedx/events?autocomplete_filter=TEDxArtCenterCollegeOfDesign&page=2&when=past'"
      ]
     },
     "metadata": {},
     "output_type": "display_data"
    },
    {
     "data": {
      "text/plain": [
       "'https://www.ted.com/tedx/events?autocomplete_filter=TEDxTohoku&page=2&when=past'"
      ]
     },
     "metadata": {},
     "output_type": "display_data"
    },
    {
     "data": {
      "text/plain": [
       "'https://www.ted.com/tedx/events?autocomplete_filter=TEDxVilaMadaSalon&page=2&when=past'"
      ]
     },
     "metadata": {},
     "output_type": "display_data"
    },
    {
     "data": {
      "text/plain": [
       "'https://www.ted.com/tedx/events?autocomplete_filter=TEDxPôleMaisonneuve&page=1&when=past'"
      ]
     },
     "metadata": {},
     "output_type": "display_data"
    },
    {
     "data": {
      "text/plain": [
       "'https://www.ted.com/tedx/events?autocomplete_filter=TEDxSudeste&page=1&when=past'"
      ]
     },
     "metadata": {},
     "output_type": "display_data"
    },
    {
     "data": {
      "text/plain": [
       "'https://www.ted.com/tedx/events?autocomplete_filter=TEDxISHCMCAmericanAcademy&page=1&when=past'"
      ]
     },
     "metadata": {},
     "output_type": "display_data"
    },
    {
     "data": {
      "text/plain": [
       "'https://www.ted.com/tedx/events?autocomplete_filter=TEDxPôleMaisonneuve&page=2&when=past'"
      ]
     },
     "metadata": {},
     "output_type": "display_data"
    },
    {
     "data": {
      "text/plain": [
       "'https://www.ted.com/tedx/events?autocomplete_filter=TEDxSudeste&page=2&when=past'"
      ]
     },
     "metadata": {},
     "output_type": "display_data"
    },
    {
     "data": {
      "text/plain": [
       "'https://www.ted.com/tedx/events?autocomplete_filter=TEDxBow&page=1&when=past'"
      ]
     },
     "metadata": {},
     "output_type": "display_data"
    },
    {
     "data": {
      "text/plain": [
       "'https://www.ted.com/tedx/events?autocomplete_filter=TEDxISHCMCAmericanAcademy&page=2&when=past'"
      ]
     },
     "metadata": {},
     "output_type": "display_data"
    },
    {
     "data": {
      "text/plain": [
       "'https://www.ted.com/tedx/events?autocomplete_filter=TEDxTulsa&page=1&when=past'"
      ]
     },
     "metadata": {},
     "output_type": "display_data"
    },
    {
     "data": {
      "text/plain": [
       "'https://www.ted.com/tedx/events?autocomplete_filter=TEDx@PortoSeguroSchool&page=1&when=past'"
      ]
     },
     "metadata": {},
     "output_type": "display_data"
    },
    {
     "data": {
      "text/plain": [
       "'https://www.ted.com/tedx/events?autocomplete_filter=TEDxBow&page=2&when=past'"
      ]
     },
     "metadata": {},
     "output_type": "display_data"
    },
    {
     "data": {
      "text/plain": [
       "'https://www.ted.com/tedx/events?autocomplete_filter=TEDxTulsa&page=2&when=past'"
      ]
     },
     "metadata": {},
     "output_type": "display_data"
    },
    {
     "data": {
      "text/plain": [
       "'https://www.ted.com/tedx/events?autocomplete_filter=TEDxLIUBeirut&page=1&when=past'"
      ]
     },
     "metadata": {},
     "output_type": "display_data"
    },
    {
     "data": {
      "text/plain": [
       "'https://www.ted.com/tedx/events?autocomplete_filter=TEDxMission&page=1&when=past'"
      ]
     },
     "metadata": {},
     "output_type": "display_data"
    },
    {
     "data": {
      "text/plain": [
       "'https://www.ted.com/tedx/events?autocomplete_filter=TEDxYouth@Chennai&page=1&when=past'"
      ]
     },
     "metadata": {},
     "output_type": "display_data"
    },
    {
     "data": {
      "text/plain": [
       "'https://www.ted.com/tedx/events?autocomplete_filter=TEDxLIUBeirut&page=2&when=past'"
      ]
     },
     "metadata": {},
     "output_type": "display_data"
    },
    {
     "data": {
      "text/plain": [
       "'https://www.ted.com/tedx/events?autocomplete_filter=TEDxMission&page=2&when=past'"
      ]
     },
     "metadata": {},
     "output_type": "display_data"
    },
    {
     "data": {
      "text/plain": [
       "'https://www.ted.com/tedx/events?autocomplete_filter=TEDxYouth@Chennai&page=2&when=past'"
      ]
     },
     "metadata": {},
     "output_type": "display_data"
    },
    {
     "data": {
      "text/plain": [
       "'https://www.ted.com/tedx/events?autocomplete_filter=TEDxMalayaOkhta&page=1&when=past'"
      ]
     },
     "metadata": {},
     "output_type": "display_data"
    },
    {
     "data": {
      "text/plain": [
       "'https://www.ted.com/tedx/events?autocomplete_filter=TEDxKids@Chiyoda&page=1&when=past'"
      ]
     },
     "metadata": {},
     "output_type": "display_data"
    },
    {
     "data": {
      "text/plain": [
       "'https://www.ted.com/tedx/events?autocomplete_filter=TEDxAylesbury&page=1&when=past'"
      ]
     },
     "metadata": {},
     "output_type": "display_data"
    },
    {
     "data": {
      "text/plain": [
       "'https://www.ted.com/tedx/events?autocomplete_filter=TEDxMalayaOkhta&page=2&when=past'"
      ]
     },
     "metadata": {},
     "output_type": "display_data"
    },
    {
     "data": {
      "text/plain": [
       "'https://www.ted.com/tedx/events?autocomplete_filter=TEDxKids@Chiyoda&page=2&when=past'"
      ]
     },
     "metadata": {},
     "output_type": "display_data"
    },
    {
     "data": {
      "text/plain": [
       "'https://www.ted.com/tedx/events?autocomplete_filter=TEDxAylesbury&page=2&when=past'"
      ]
     },
     "metadata": {},
     "output_type": "display_data"
    },
    {
     "data": {
      "text/plain": [
       "'https://www.ted.com/tedx/events?autocomplete_filter=TEDxUD&page=1&when=past'"
      ]
     },
     "metadata": {},
     "output_type": "display_data"
    },
    {
     "data": {
      "text/plain": [
       "'https://www.ted.com/tedx/events?autocomplete_filter=TEDxBelfast&page=1&when=past'"
      ]
     },
     "metadata": {},
     "output_type": "display_data"
    },
    {
     "data": {
      "text/plain": [
       "'https://www.ted.com/tedx/events?autocomplete_filter=TEDxArroyoDeLaEncomienda&page=1&when=past'"
      ]
     },
     "metadata": {},
     "output_type": "display_data"
    },
    {
     "data": {
      "text/plain": [
       "'https://www.ted.com/tedx/events?autocomplete_filter=TEDxArroyoDeLaEncomienda&page=2&when=past'"
      ]
     },
     "metadata": {},
     "output_type": "display_data"
    },
    {
     "data": {
      "text/plain": [
       "'https://www.ted.com/tedx/events?autocomplete_filter=TEDxBelfast&page=2&when=past'"
      ]
     },
     "metadata": {},
     "output_type": "display_data"
    },
    {
     "data": {
      "text/plain": [
       "'https://www.ted.com/tedx/events?autocomplete_filter=TEDxUD&page=2&when=past'"
      ]
     },
     "metadata": {},
     "output_type": "display_data"
    },
    {
     "data": {
      "text/plain": [
       "'https://www.ted.com/tedx/events?autocomplete_filter=TEDxWaldenPond&page=1&when=past'"
      ]
     },
     "metadata": {},
     "output_type": "display_data"
    },
    {
     "data": {
      "text/plain": [
       "'https://www.ted.com/tedx/events?autocomplete_filter=TEDxConcordiaCollege&page=1&when=past'"
      ]
     },
     "metadata": {},
     "output_type": "display_data"
    },
    {
     "data": {
      "text/plain": [
       "'https://www.ted.com/tedx/events?autocomplete_filter=TEDxUD&page=3&when=past'"
      ]
     },
     "metadata": {},
     "output_type": "display_data"
    },
    {
     "data": {
      "text/plain": [
       "'https://www.ted.com/tedx/events?autocomplete_filter=TEDxBarnardCollegeWomen.&page=1&when=past'"
      ]
     },
     "metadata": {},
     "output_type": "display_data"
    },
    {
     "data": {
      "text/plain": [
       "'https://www.ted.com/tedx/events?autocomplete_filter=TEDxWaldenPond&page=2&when=past'"
      ]
     },
     "metadata": {},
     "output_type": "display_data"
    },
    {
     "data": {
      "text/plain": [
       "'https://www.ted.com/tedx/events?autocomplete_filter=TEDxConcordiaCollege&page=2&when=past'"
      ]
     },
     "metadata": {},
     "output_type": "display_data"
    },
    {
     "data": {
      "text/plain": [
       "'https://www.ted.com/tedx/events?autocomplete_filter=TEDxNCCUED&page=1&when=past'"
      ]
     },
     "metadata": {},
     "output_type": "display_data"
    },
    {
     "data": {
      "text/plain": [
       "'https://www.ted.com/tedx/events?autocomplete_filter=TEDxToulon&page=1&when=past'"
      ]
     },
     "metadata": {},
     "output_type": "display_data"
    },
    {
     "data": {
      "text/plain": [
       "'https://www.ted.com/tedx/events?autocomplete_filter=TEDxAlAin&page=1&when=past'"
      ]
     },
     "metadata": {},
     "output_type": "display_data"
    },
    {
     "data": {
      "text/plain": [
       "'https://www.ted.com/tedx/events?autocomplete_filter=TEDxNCCUED&page=2&when=past'"
      ]
     },
     "metadata": {},
     "output_type": "display_data"
    },
    {
     "data": {
      "text/plain": [
       "'https://www.ted.com/tedx/events?autocomplete_filter=TEDxAlAin&page=2&when=past'"
      ]
     },
     "metadata": {},
     "output_type": "display_data"
    },
    {
     "data": {
      "text/plain": [
       "'https://www.ted.com/tedx/events?autocomplete_filter=TEDxToulon&page=2&when=past'"
      ]
     },
     "metadata": {},
     "output_type": "display_data"
    },
    {
     "data": {
      "text/plain": [
       "'https://www.ted.com/tedx/events?autocomplete_filter=TEDxZug&page=1&when=past'"
      ]
     },
     "metadata": {},
     "output_type": "display_data"
    },
    {
     "data": {
      "text/plain": [
       "'https://www.ted.com/tedx/events?autocomplete_filter=TEDxSãoPauloSalon&page=1&when=past'"
      ]
     },
     "metadata": {},
     "output_type": "display_data"
    },
    {
     "data": {
      "text/plain": [
       "'https://www.ted.com/tedx/events?autocomplete_filter=TEDxArabInternationalUniversity&page=1&when=past'"
      ]
     },
     "metadata": {},
     "output_type": "display_data"
    },
    {
     "data": {
      "text/plain": [
       "'https://www.ted.com/tedx/events?autocomplete_filter=TEDxArabInternationalUniversity&page=2&when=past'"
      ]
     },
     "metadata": {},
     "output_type": "display_data"
    },
    {
     "data": {
      "text/plain": [
       "'https://www.ted.com/tedx/events?autocomplete_filter=TEDxZug&page=2&when=past'"
      ]
     },
     "metadata": {},
     "output_type": "display_data"
    },
    {
     "data": {
      "text/plain": [
       "'https://www.ted.com/tedx/events?autocomplete_filter=TEDxSãoPauloSalon&page=2&when=past'"
      ]
     },
     "metadata": {},
     "output_type": "display_data"
    },
    {
     "data": {
      "text/plain": [
       "'https://www.ted.com/tedx/events?autocomplete_filter=TEDxKreuzberg&page=1&when=past'"
      ]
     },
     "metadata": {},
     "output_type": "display_data"
    },
    {
     "data": {
      "text/plain": [
       "'https://www.ted.com/tedx/events?autocomplete_filter=TEDxLaguna-&page=1&when=past'"
      ]
     },
     "metadata": {},
     "output_type": "display_data"
    },
    {
     "data": {
      "text/plain": [
       "'https://www.ted.com/tedx/events?autocomplete_filter=TEDxHamilton&page=1&when=past'"
      ]
     },
     "metadata": {},
     "output_type": "display_data"
    },
    {
     "data": {
      "text/plain": [
       "'https://www.ted.com/tedx/events?autocomplete_filter=TEDxTârguMureș&page=1&when=past'"
      ]
     },
     "metadata": {},
     "output_type": "display_data"
    },
    {
     "data": {
      "text/plain": [
       "'https://www.ted.com/tedx/events?autocomplete_filter=TEDxHamilton&page=2&when=past'"
      ]
     },
     "metadata": {},
     "output_type": "display_data"
    },
    {
     "data": {
      "text/plain": [
       "'https://www.ted.com/tedx/events?autocomplete_filter=TEDxKreuzberg&page=2&when=past'"
      ]
     },
     "metadata": {},
     "output_type": "display_data"
    },
    {
     "data": {
      "text/plain": [
       "'https://www.ted.com/tedx/events?autocomplete_filter=TEDxTârguMureș&page=2&when=past'"
      ]
     },
     "metadata": {},
     "output_type": "display_data"
    },
    {
     "data": {
      "text/plain": [
       "'https://www.ted.com/tedx/events?autocomplete_filter=TEDxExchangeDistrict&page=1&when=past'"
      ]
     },
     "metadata": {},
     "output_type": "display_data"
    },
    {
     "data": {
      "text/plain": [
       "'https://www.ted.com/tedx/events?autocomplete_filter=TEDxBlumenauWomen&page=1&when=past'"
      ]
     },
     "metadata": {},
     "output_type": "display_data"
    },
    {
     "data": {
      "text/plain": [
       "'https://www.ted.com/tedx/events?autocomplete_filter=TEDxSannomiya&page=1&when=past'"
      ]
     },
     "metadata": {},
     "output_type": "display_data"
    },
    {
     "data": {
      "text/plain": [
       "'https://www.ted.com/tedx/events?autocomplete_filter=TEDxBlumenauWomen&page=2&when=past'"
      ]
     },
     "metadata": {},
     "output_type": "display_data"
    },
    {
     "data": {
      "text/plain": [
       "'https://www.ted.com/tedx/events?autocomplete_filter=TEDxExchangeDistrict&page=2&when=past'"
      ]
     },
     "metadata": {},
     "output_type": "display_data"
    },
    {
     "data": {
      "text/plain": [
       "'https://www.ted.com/tedx/events?autocomplete_filter=TEDxSannomiya&page=2&when=past'"
      ]
     },
     "metadata": {},
     "output_type": "display_data"
    },
    {
     "data": {
      "text/plain": [
       "'https://www.ted.com/tedx/events?autocomplete_filter=TEDxMiltonKeynesWomen&page=1&when=past'"
      ]
     },
     "metadata": {},
     "output_type": "display_data"
    },
    {
     "data": {
      "text/plain": [
       "'https://www.ted.com/tedx/events?autocomplete_filter=TEDxCornellTech&page=1&when=past'"
      ]
     },
     "metadata": {},
     "output_type": "display_data"
    },
    {
     "data": {
      "text/plain": [
       "'https://www.ted.com/tedx/events?autocomplete_filter=TEDxSanJoseCAWomen&page=1&when=past'"
      ]
     },
     "metadata": {},
     "output_type": "display_data"
    },
    {
     "data": {
      "text/plain": [
       "'https://www.ted.com/tedx/events?autocomplete_filter=TEDxMiltonKeynesWomen&page=2&when=past'"
      ]
     },
     "metadata": {},
     "output_type": "display_data"
    },
    {
     "data": {
      "text/plain": [
       "'https://www.ted.com/tedx/events?autocomplete_filter=TEDxCornellTech&page=2&when=past'"
      ]
     },
     "metadata": {},
     "output_type": "display_data"
    },
    {
     "data": {
      "text/plain": [
       "'https://www.ted.com/tedx/events?autocomplete_filter=TEDxSanJoseCAWomen&page=2&when=past'"
      ]
     },
     "metadata": {},
     "output_type": "display_data"
    },
    {
     "data": {
      "text/plain": [
       "'https://www.ted.com/tedx/events?autocomplete_filter=TEDxUniversidadedeBrasília&page=1&when=past'"
      ]
     },
     "metadata": {},
     "output_type": "display_data"
    },
    {
     "data": {
      "text/plain": [
       "'https://www.ted.com/tedx/events?autocomplete_filter=TEDxLabone&page=1&when=past'"
      ]
     },
     "metadata": {},
     "output_type": "display_data"
    },
    {
     "data": {
      "text/plain": [
       "'https://www.ted.com/tedx/events?autocomplete_filter=TEDxSãoTome&page=1&when=past'"
      ]
     },
     "metadata": {},
     "output_type": "display_data"
    },
    {
     "data": {
      "text/plain": [
       "'https://www.ted.com/tedx/events?autocomplete_filter=TEDxUniversidadedeBrasília&page=2&when=past'"
      ]
     },
     "metadata": {},
     "output_type": "display_data"
    },
    {
     "data": {
      "text/plain": [
       "'https://www.ted.com/tedx/events?autocomplete_filter=TEDxLabone&page=2&when=past'"
      ]
     },
     "metadata": {},
     "output_type": "display_data"
    },
    {
     "data": {
      "text/plain": [
       "'https://www.ted.com/tedx/events?autocomplete_filter=TEDxItaimBibi&page=1&when=past'"
      ]
     },
     "metadata": {},
     "output_type": "display_data"
    },
    {
     "data": {
      "text/plain": [
       "'https://www.ted.com/tedx/events?autocomplete_filter=TEDxSãoTome&page=2&when=past'"
      ]
     },
     "metadata": {},
     "output_type": "display_data"
    },
    {
     "data": {
      "text/plain": [
       "'https://www.ted.com/tedx/events?autocomplete_filter=TEDxEffatU&page=1&when=past'"
      ]
     },
     "metadata": {},
     "output_type": "display_data"
    },
    {
     "data": {
      "text/plain": [
       "'https://www.ted.com/tedx/events?autocomplete_filter=TEDxCrestmoorPark&page=1&when=past'"
      ]
     },
     "metadata": {},
     "output_type": "display_data"
    },
    {
     "data": {
      "text/plain": [
       "'https://www.ted.com/tedx/events?autocomplete_filter=TEDxItaimBibi&page=2&when=past'"
      ]
     },
     "metadata": {},
     "output_type": "display_data"
    },
    {
     "data": {
      "text/plain": [
       "'https://www.ted.com/tedx/events?autocomplete_filter=TEDxEffatU&page=2&when=past'"
      ]
     },
     "metadata": {},
     "output_type": "display_data"
    },
    {
     "data": {
      "text/plain": [
       "'https://www.ted.com/tedx/events?autocomplete_filter=TEDxCrestmoorPark&page=2&when=past'"
      ]
     },
     "metadata": {},
     "output_type": "display_data"
    },
    {
     "data": {
      "text/plain": [
       "'https://www.ted.com/tedx/events?autocomplete_filter=TEDxChinaMedicalU&page=1&when=past'"
      ]
     },
     "metadata": {},
     "output_type": "display_data"
    },
    {
     "data": {
      "text/plain": [
       "'https://www.ted.com/tedx/events?autocomplete_filter=TEDxRoseHulman&page=1&when=past'"
      ]
     },
     "metadata": {},
     "output_type": "display_data"
    },
    {
     "data": {
      "text/plain": [
       "'https://www.ted.com/tedx/events?autocomplete_filter=TEDxPhilly&page=1&when=past'"
      ]
     },
     "metadata": {},
     "output_type": "display_data"
    },
    {
     "data": {
      "text/plain": [
       "'https://www.ted.com/tedx/events?autocomplete_filter=TEDxRoseHulman&page=2&when=past'"
      ]
     },
     "metadata": {},
     "output_type": "display_data"
    },
    {
     "data": {
      "text/plain": [
       "'https://www.ted.com/tedx/events?autocomplete_filter=TEDxChinaMedicalU&page=2&when=past'"
      ]
     },
     "metadata": {},
     "output_type": "display_data"
    },
    {
     "data": {
      "text/plain": [
       "'https://www.ted.com/tedx/events?autocomplete_filter=TEDxPhilly&page=2&when=past'"
      ]
     },
     "metadata": {},
     "output_type": "display_data"
    },
    {
     "data": {
      "text/plain": [
       "'https://www.ted.com/tedx/events?autocomplete_filter=TEDxJubileeSchool&page=1&when=past'"
      ]
     },
     "metadata": {},
     "output_type": "display_data"
    },
    {
     "data": {
      "text/plain": [
       "'https://www.ted.com/tedx/events?autocomplete_filter=TEDxYouth@Ross&page=1&when=past'"
      ]
     },
     "metadata": {},
     "output_type": "display_data"
    },
    {
     "data": {
      "text/plain": [
       "'https://www.ted.com/tedx/events?autocomplete_filter=TEDxECMH&page=1&when=past'"
      ]
     },
     "metadata": {},
     "output_type": "display_data"
    },
    {
     "data": {
      "text/plain": [
       "'https://www.ted.com/tedx/events?autocomplete_filter=TEDxJubileeSchool&page=2&when=past'"
      ]
     },
     "metadata": {},
     "output_type": "display_data"
    },
    {
     "data": {
      "text/plain": [
       "'https://www.ted.com/tedx/events?autocomplete_filter=TEDxYouth@Ross&page=2&when=past'"
      ]
     },
     "metadata": {},
     "output_type": "display_data"
    },
    {
     "data": {
      "text/plain": [
       "'https://www.ted.com/tedx/events?autocomplete_filter=TEDxECMH&page=2&when=past'"
      ]
     },
     "metadata": {},
     "output_type": "display_data"
    },
    {
     "data": {
      "text/plain": [
       "'https://www.ted.com/tedx/events?autocomplete_filter=TEDxUCPPorto&page=1&when=past'"
      ]
     },
     "metadata": {},
     "output_type": "display_data"
    },
    {
     "data": {
      "text/plain": [
       "'https://www.ted.com/tedx/events?autocomplete_filter=TEDxEdinburghNapierUniversity&page=1&when=past'"
      ]
     },
     "metadata": {},
     "output_type": "display_data"
    },
    {
     "data": {
      "text/plain": [
       "'https://www.ted.com/tedx/events?autocomplete_filter=TEDxChesterStatePrison&page=1&when=past'"
      ]
     },
     "metadata": {},
     "output_type": "display_data"
    },
    {
     "data": {
      "text/plain": [
       "'https://www.ted.com/tedx/events?autocomplete_filter=TEDxUCPPorto&page=2&when=past'"
      ]
     },
     "metadata": {},
     "output_type": "display_data"
    },
    {
     "data": {
      "text/plain": [
       "'https://www.ted.com/tedx/events?autocomplete_filter=TEDxEdinburghNapierUniversity&page=2&when=past'"
      ]
     },
     "metadata": {},
     "output_type": "display_data"
    },
    {
     "data": {
      "text/plain": [
       "'https://www.ted.com/tedx/events?autocomplete_filter=TEDxChesterStatePrison&page=2&when=past'"
      ]
     },
     "metadata": {},
     "output_type": "display_data"
    },
    {
     "data": {
      "text/plain": [
       "'https://www.ted.com/tedx/events?autocomplete_filter=TEDxMoorparkCollege&page=1&when=past'"
      ]
     },
     "metadata": {},
     "output_type": "display_data"
    },
    {
     "data": {
      "text/plain": [
       "'https://www.ted.com/tedx/events?autocomplete_filter=TEDxTaipeiChange&page=1&when=past'"
      ]
     },
     "metadata": {},
     "output_type": "display_data"
    },
    {
     "data": {
      "text/plain": [
       "'https://www.ted.com/tedx/events?autocomplete_filter=TEDxTaipeiED&page=1&when=past'"
      ]
     },
     "metadata": {},
     "output_type": "display_data"
    },
    {
     "data": {
      "text/plain": [
       "'https://www.ted.com/tedx/events?autocomplete_filter=TEDxMoorparkCollege&page=2&when=past'"
      ]
     },
     "metadata": {},
     "output_type": "display_data"
    },
    {
     "data": {
      "text/plain": [
       "'https://www.ted.com/tedx/events?autocomplete_filter=TEDxTaipeiChange&page=2&when=past'"
      ]
     },
     "metadata": {},
     "output_type": "display_data"
    },
    {
     "data": {
      "text/plain": [
       "'https://www.ted.com/tedx/events?autocomplete_filter=TEDxKagoshimaUniversity&page=1&when=past'"
      ]
     },
     "metadata": {},
     "output_type": "display_data"
    },
    {
     "data": {
      "text/plain": [
       "'https://www.ted.com/tedx/events?autocomplete_filter=TEDxTaipeiED&page=2&when=past'"
      ]
     },
     "metadata": {},
     "output_type": "display_data"
    },
    {
     "data": {
      "text/plain": [
       "'https://www.ted.com/tedx/events?autocomplete_filter=TEDxFMUSP&page=1&when=past'"
      ]
     },
     "metadata": {},
     "output_type": "display_data"
    },
    {
     "data": {
      "text/plain": [
       "'https://www.ted.com/tedx/events?autocomplete_filter=TEDxKagoshimaUniversity&page=2&when=past'"
      ]
     },
     "metadata": {},
     "output_type": "display_data"
    },
    {
     "data": {
      "text/plain": [
       "'https://www.ted.com/tedx/events?autocomplete_filter=TEDxDrummondvilleED&page=1&when=past'"
      ]
     },
     "metadata": {},
     "output_type": "display_data"
    },
    {
     "data": {
      "text/plain": [
       "'https://www.ted.com/tedx/events?autocomplete_filter=TEDxFMUSP&page=2&when=past'"
      ]
     },
     "metadata": {},
     "output_type": "display_data"
    },
    {
     "data": {
      "text/plain": [
       "'https://www.ted.com/tedx/events?autocomplete_filter=TEDxHilo&page=1&when=past'"
      ]
     },
     "metadata": {},
     "output_type": "display_data"
    },
    {
     "data": {
      "text/plain": [
       "'https://www.ted.com/tedx/events?autocomplete_filter=TEDxDrummondvilleED&page=2&when=past'"
      ]
     },
     "metadata": {},
     "output_type": "display_data"
    },
    {
     "data": {
      "text/plain": [
       "'https://www.ted.com/tedx/events?autocomplete_filter=TEDxFlint&page=1&when=past'"
      ]
     },
     "metadata": {},
     "output_type": "display_data"
    },
    {
     "data": {
      "text/plain": [
       "'https://www.ted.com/tedx/events?autocomplete_filter=TEDxHilo&page=2&when=past'"
      ]
     },
     "metadata": {},
     "output_type": "display_data"
    },
    {
     "data": {
      "text/plain": [
       "'https://www.ted.com/tedx/events?autocomplete_filter=TEDxMerseyside&page=1&when=past'"
      ]
     },
     "metadata": {},
     "output_type": "display_data"
    },
    {
     "data": {
      "text/plain": [
       "'https://www.ted.com/tedx/events?autocomplete_filter=TEDxFlint&page=2&when=past'"
      ]
     },
     "metadata": {},
     "output_type": "display_data"
    },
    {
     "data": {
      "text/plain": [
       "'https://www.ted.com/tedx/events?autocomplete_filter=TEDxTUMS&page=1&when=past'"
      ]
     },
     "metadata": {},
     "output_type": "display_data"
    },
    {
     "data": {
      "text/plain": [
       "'https://www.ted.com/tedx/events?autocomplete_filter=TEDxMerseyside&page=2&when=past'"
      ]
     },
     "metadata": {},
     "output_type": "display_data"
    },
    {
     "data": {
      "text/plain": [
       "'https://www.ted.com/tedx/events?autocomplete_filter=TEDxTaoyuan&page=1&when=past'"
      ]
     },
     "metadata": {},
     "output_type": "display_data"
    },
    {
     "data": {
      "text/plain": [
       "'https://www.ted.com/tedx/events?autocomplete_filter=TEDxFJU&page=1&when=past'"
      ]
     },
     "metadata": {},
     "output_type": "display_data"
    },
    {
     "data": {
      "text/plain": [
       "'https://www.ted.com/tedx/events?autocomplete_filter=TEDxTUMS&page=2&when=past'"
      ]
     },
     "metadata": {},
     "output_type": "display_data"
    },
    {
     "data": {
      "text/plain": [
       "'https://www.ted.com/tedx/events?autocomplete_filter=TEDxTaoyuan&page=2&when=past'"
      ]
     },
     "metadata": {},
     "output_type": "display_data"
    },
    {
     "data": {
      "text/plain": [
       "'https://www.ted.com/tedx/events?autocomplete_filter=TEDxDistilleryDistrictWomen&page=1&when=past'"
      ]
     },
     "metadata": {},
     "output_type": "display_data"
    },
    {
     "data": {
      "text/plain": [
       "'https://www.ted.com/tedx/events?autocomplete_filter=TEDxYouth@NickelCity&page=1&when=past'"
      ]
     },
     "metadata": {},
     "output_type": "display_data"
    },
    {
     "data": {
      "text/plain": [
       "'https://www.ted.com/tedx/events?autocomplete_filter=TEDxISM&page=1&when=past'"
      ]
     },
     "metadata": {},
     "output_type": "display_data"
    },
    {
     "data": {
      "text/plain": [
       "'https://www.ted.com/tedx/events?autocomplete_filter=TEDxDistilleryDistrictWomen&page=2&when=past'"
      ]
     },
     "metadata": {},
     "output_type": "display_data"
    },
    {
     "data": {
      "text/plain": [
       "'https://www.ted.com/tedx/events?autocomplete_filter=TEDxYouth@NickelCity&page=2&when=past'"
      ]
     },
     "metadata": {},
     "output_type": "display_data"
    },
    {
     "data": {
      "text/plain": [
       "'https://www.ted.com/tedx/events?autocomplete_filter=TEDxISM&page=2&when=past'"
      ]
     },
     "metadata": {},
     "output_type": "display_data"
    },
    {
     "data": {
      "text/plain": [
       "'https://www.ted.com/tedx/events?autocomplete_filter=TEDxStouffville&page=1&when=past'"
      ]
     },
     "metadata": {},
     "output_type": "display_data"
    },
    {
     "data": {
      "text/plain": [
       "'https://www.ted.com/tedx/events?autocomplete_filter=TEDxIIMRaipur&page=1&when=past'"
      ]
     },
     "metadata": {},
     "output_type": "display_data"
    },
    {
     "data": {
      "text/plain": [
       "'https://www.ted.com/tedx/events?autocomplete_filter=TEDxLeón&page=1&when=past'"
      ]
     },
     "metadata": {},
     "output_type": "display_data"
    },
    {
     "data": {
      "text/plain": [
       "'https://www.ted.com/tedx/events?autocomplete_filter=TEDxStouffville&page=2&when=past'"
      ]
     },
     "metadata": {},
     "output_type": "display_data"
    },
    {
     "data": {
      "text/plain": [
       "'https://www.ted.com/tedx/events?autocomplete_filter=TEDxIIMRaipur&page=2&when=past'"
      ]
     },
     "metadata": {},
     "output_type": "display_data"
    },
    {
     "data": {
      "text/plain": [
       "'https://www.ted.com/tedx/events?autocomplete_filter=TEDxLeón&page=2&when=past'"
      ]
     },
     "metadata": {},
     "output_type": "display_data"
    },
    {
     "data": {
      "text/plain": [
       "'https://www.ted.com/tedx/events?autocomplete_filter=TEDxUFG&page=1&when=past'"
      ]
     },
     "metadata": {},
     "output_type": "display_data"
    },
    {
     "data": {
      "text/plain": [
       "'https://www.ted.com/tedx/events?autocomplete_filter=TEDxYouth@Marszałkowska&page=1&when=past'"
      ]
     },
     "metadata": {},
     "output_type": "display_data"
    },
    {
     "data": {
      "text/plain": [
       "'https://www.ted.com/tedx/events?autocomplete_filter=TEDxUFG&page=2&when=past'"
      ]
     },
     "metadata": {},
     "output_type": "display_data"
    },
    {
     "data": {
      "text/plain": [
       "'https://www.ted.com/tedx/events?autocomplete_filter=TEDxtalk:&page=1&when=past'"
      ]
     },
     "metadata": {},
     "output_type": "display_data"
    },
    {
     "data": {
      "text/plain": [
       "'https://www.ted.com/tedx/events?autocomplete_filter=TEDxGaborone&page=1&when=past'"
      ]
     },
     "metadata": {},
     "output_type": "display_data"
    },
    {
     "data": {
      "text/plain": [
       "'https://www.ted.com/tedx/events?autocomplete_filter=TEDxGeorgiaSouthernU&page=1&when=past'"
      ]
     },
     "metadata": {},
     "output_type": "display_data"
    },
    {
     "data": {
      "text/plain": [
       "'https://www.ted.com/tedx/events?autocomplete_filter=TEDxYouth@Marszałkowska&page=2&when=past'"
      ]
     },
     "metadata": {},
     "output_type": "display_data"
    },
    {
     "data": {
      "text/plain": [
       "'https://www.ted.com/tedx/events?autocomplete_filter=TEDxNizamuddin&page=1&when=past'"
      ]
     },
     "metadata": {},
     "output_type": "display_data"
    },
    {
     "data": {
      "text/plain": [
       "'https://www.ted.com/tedx/events?autocomplete_filter=TEDxGeorgiaSouthernU&page=2&when=past'"
      ]
     },
     "metadata": {},
     "output_type": "display_data"
    },
    {
     "data": {
      "text/plain": [
       "'https://www.ted.com/tedx/events?autocomplete_filter=TEDxGaborone&page=2&when=past'"
      ]
     },
     "metadata": {},
     "output_type": "display_data"
    },
    {
     "data": {
      "text/plain": [
       "'https://www.ted.com/tedx/events?autocomplete_filter=TEDxNizamuddin&page=2&when=past'"
      ]
     },
     "metadata": {},
     "output_type": "display_data"
    },
    {
     "data": {
      "text/plain": [
       "'https://www.ted.com/tedx/events?autocomplete_filter=TEDxRíodelaPlata-TEDxChange&page=1&when=past'"
      ]
     },
     "metadata": {},
     "output_type": "display_data"
    },
    {
     "data": {
      "text/plain": [
       "'https://www.ted.com/tedx/events?autocomplete_filter=TEDxDavidsonAcademy&page=1&when=past'"
      ]
     },
     "metadata": {},
     "output_type": "display_data"
    },
    {
     "data": {
      "text/plain": [
       "'https://www.ted.com/tedx/events?autocomplete_filter=TEDxUFMG&page=1&when=past'"
      ]
     },
     "metadata": {},
     "output_type": "display_data"
    },
    {
     "data": {
      "text/plain": [
       "'https://www.ted.com/tedx/events?autocomplete_filter=TEDxMarszałkowska&page=1&when=past'"
      ]
     },
     "metadata": {},
     "output_type": "display_data"
    },
    {
     "data": {
      "text/plain": [
       "'https://www.ted.com/tedx/events?autocomplete_filter=TEDxDavidsonAcademy&page=2&when=past'"
      ]
     },
     "metadata": {},
     "output_type": "display_data"
    },
    {
     "data": {
      "text/plain": [
       "'https://www.ted.com/tedx/events?autocomplete_filter=TEDxUFMG&page=2&when=past'"
      ]
     },
     "metadata": {},
     "output_type": "display_data"
    },
    {
     "data": {
      "text/plain": [
       "'https://www.ted.com/tedx/events?autocomplete_filter=TEDxMarszałkowska&page=2&when=past'"
      ]
     },
     "metadata": {},
     "output_type": "display_data"
    },
    {
     "data": {
      "text/plain": [
       "'https://www.ted.com/tedx/events?autocomplete_filter=TEDxTunghaiU&page=1&when=past'"
      ]
     },
     "metadata": {},
     "output_type": "display_data"
    },
    {
     "data": {
      "text/plain": [
       "'https://www.ted.com/tedx/events?autocomplete_filter=TEDxHultBusinessSchoolSH&page=1&when=past'"
      ]
     },
     "metadata": {},
     "output_type": "display_data"
    },
    {
     "data": {
      "text/plain": [
       "'https://www.ted.com/tedx/events?autocomplete_filter=TEDxGramado&page=1&when=past'"
      ]
     },
     "metadata": {},
     "output_type": "display_data"
    },
    {
     "data": {
      "text/plain": [
       "'https://www.ted.com/tedx/events?autocomplete_filter=TEDxTunghaiU&page=2&when=past'"
      ]
     },
     "metadata": {},
     "output_type": "display_data"
    },
    {
     "data": {
      "text/plain": [
       "'https://www.ted.com/tedx/events?autocomplete_filter=TEDxHultBusinessSchoolSH&page=2&when=past'"
      ]
     },
     "metadata": {},
     "output_type": "display_data"
    },
    {
     "data": {
      "text/plain": [
       "'https://www.ted.com/tedx/events?autocomplete_filter=TEDxGramado&page=2&when=past'"
      ]
     },
     "metadata": {},
     "output_type": "display_data"
    },
    {
     "data": {
      "text/plain": [
       "'https://www.ted.com/tedx/events?autocomplete_filter=TEDxBridgetown\"&page=1&when=past'"
      ]
     },
     "metadata": {},
     "output_type": "display_data"
    },
    {
     "data": {
      "text/plain": [
       "'https://www.ted.com/tedx/events?autocomplete_filter=TEDxMusic&page=1&when=past'"
      ]
     },
     "metadata": {},
     "output_type": "display_data"
    },
    {
     "data": {
      "text/plain": [
       "'https://www.ted.com/tedx/events?autocomplete_filter=TEDxGallatin&page=1&when=past'"
      ]
     },
     "metadata": {},
     "output_type": "display_data"
    },
    {
     "data": {
      "text/plain": [
       "'https://www.ted.com/tedx/events?autocomplete_filter=TEDxWroclawUniversityOfEconomics&page=1&when=past'"
      ]
     },
     "metadata": {},
     "output_type": "display_data"
    },
    {
     "data": {
      "text/plain": [
       "'https://www.ted.com/tedx/events?autocomplete_filter=TEDxMusic&page=2&when=past'"
      ]
     },
     "metadata": {},
     "output_type": "display_data"
    },
    {
     "data": {
      "text/plain": [
       "'https://www.ted.com/tedx/events?autocomplete_filter=TEDxWroclawUniversityOfEconomics&page=2&when=past'"
      ]
     },
     "metadata": {},
     "output_type": "display_data"
    },
    {
     "data": {
      "text/plain": [
       "'https://www.ted.com/tedx/events?autocomplete_filter=TEDxGallatin&page=2&when=past'"
      ]
     },
     "metadata": {},
     "output_type": "display_data"
    },
    {
     "data": {
      "text/plain": [
       "'https://www.ted.com/tedx/events?autocomplete_filter=TEDxPoynterInstitute&page=1&when=past'"
      ]
     },
     "metadata": {},
     "output_type": "display_data"
    },
    {
     "data": {
      "text/plain": [
       "'https://www.ted.com/tedx/events?autocomplete_filter=TEDxDubaiSalon&page=1&when=past'"
      ]
     },
     "metadata": {},
     "output_type": "display_data"
    },
    {
     "data": {
      "text/plain": [
       "'https://www.ted.com/tedx/events?autocomplete_filter=TEDxYouth@SJGHS&page=1&when=past'"
      ]
     },
     "metadata": {},
     "output_type": "display_data"
    },
    {
     "data": {
      "text/plain": [
       "'https://www.ted.com/tedx/events?autocomplete_filter=TEDxPoynterInstitute&page=2&when=past'"
      ]
     },
     "metadata": {},
     "output_type": "display_data"
    },
    {
     "data": {
      "text/plain": [
       "'https://www.ted.com/tedx/events?autocomplete_filter=TEDxDubaiSalon&page=2&when=past'"
      ]
     },
     "metadata": {},
     "output_type": "display_data"
    },
    {
     "data": {
      "text/plain": [
       "'https://www.ted.com/tedx/events?autocomplete_filter=TEDxYouth@SJGHS&page=2&when=past'"
      ]
     },
     "metadata": {},
     "output_type": "display_data"
    },
    {
     "data": {
      "text/plain": [
       "'https://www.ted.com/tedx/events?autocomplete_filter=TEDxLausanneChange&page=1&when=past'"
      ]
     },
     "metadata": {},
     "output_type": "display_data"
    },
    {
     "data": {
      "text/plain": [
       "'https://www.ted.com/tedx/events?autocomplete_filter=TEDxAlbertopolis&page=1&when=past'"
      ]
     },
     "metadata": {},
     "output_type": "display_data"
    },
    {
     "data": {
      "text/plain": [
       "'https://www.ted.com/tedx/events?autocomplete_filter=TEDxJupiter&page=1&when=past'"
      ]
     },
     "metadata": {},
     "output_type": "display_data"
    },
    {
     "data": {
      "text/plain": [
       "'https://www.ted.com/tedx/events?autocomplete_filter=TEDxLausanneChange&page=2&when=past'"
      ]
     },
     "metadata": {},
     "output_type": "display_data"
    },
    {
     "data": {
      "text/plain": [
       "'https://www.ted.com/tedx/events?autocomplete_filter=TEDxAlbertopolis&page=2&when=past'"
      ]
     },
     "metadata": {},
     "output_type": "display_data"
    },
    {
     "data": {
      "text/plain": [
       "'https://www.ted.com/tedx/events?autocomplete_filter=TEDxJupiter&page=2&when=past'"
      ]
     },
     "metadata": {},
     "output_type": "display_data"
    },
    {
     "data": {
      "text/plain": [
       "'https://www.ted.com/tedx/events?autocomplete_filter=TEDxEMU&page=1&when=past'"
      ]
     },
     "metadata": {},
     "output_type": "display_data"
    },
    {
     "data": {
      "text/plain": [
       "'https://www.ted.com/tedx/events?autocomplete_filter=TEDxUniversityofYork&page=1&when=past'"
      ]
     },
     "metadata": {},
     "output_type": "display_data"
    },
    {
     "data": {
      "text/plain": [
       "'https://www.ted.com/tedx/events?autocomplete_filter=TEDxTalks&page=1&when=past'"
      ]
     },
     "metadata": {},
     "output_type": "display_data"
    },
    {
     "data": {
      "text/plain": [
       "'https://www.ted.com/tedx/events?autocomplete_filter=TEDxEMU&page=2&when=past'"
      ]
     },
     "metadata": {},
     "output_type": "display_data"
    },
    {
     "data": {
      "text/plain": [
       "'https://www.ted.com/tedx/events?autocomplete_filter=TEDxUniversityofYork&page=2&when=past'"
      ]
     },
     "metadata": {},
     "output_type": "display_data"
    },
    {
     "data": {
      "text/plain": [
       "'https://www.ted.com/tedx/events?autocomplete_filter=TEDxParamariboWomen&page=1&when=past'"
      ]
     },
     "metadata": {},
     "output_type": "display_data"
    },
    {
     "data": {
      "text/plain": [
       "'https://www.ted.com/tedx/events?autocomplete_filter=TEDxEmbarcadero&page=1&when=past'"
      ]
     },
     "metadata": {},
     "output_type": "display_data"
    },
    {
     "data": {
      "text/plain": [
       "'https://www.ted.com/tedx/events?autocomplete_filter=TEDxZemunED&page=1&when=past'"
      ]
     },
     "metadata": {},
     "output_type": "display_data"
    },
    {
     "data": {
      "text/plain": [
       "'https://www.ted.com/tedx/events?autocomplete_filter=TEDxParamariboWomen&page=2&when=past'"
      ]
     },
     "metadata": {},
     "output_type": "display_data"
    },
    {
     "data": {
      "text/plain": [
       "'https://www.ted.com/tedx/events?autocomplete_filter=TEDxZemunED&page=2&when=past'"
      ]
     },
     "metadata": {},
     "output_type": "display_data"
    },
    {
     "data": {
      "text/plain": [
       "'https://www.ted.com/tedx/events?autocomplete_filter=TEDxEmbarcadero&page=2&when=past'"
      ]
     },
     "metadata": {},
     "output_type": "display_data"
    },
    {
     "data": {
      "text/plain": [
       "'https://www.ted.com/tedx/events?autocomplete_filter=TEDxArrowheadRanch&page=1&when=past'"
      ]
     },
     "metadata": {},
     "output_type": "display_data"
    },
    {
     "data": {
      "text/plain": [
       "'https://www.ted.com/tedx/events?autocomplete_filter=TEDxShannonED&page=1&when=past'"
      ]
     },
     "metadata": {},
     "output_type": "display_data"
    },
    {
     "data": {
      "text/plain": [
       "'https://www.ted.com/tedx/events?autocomplete_filter=TEDxChurchgate&page=1&when=past'"
      ]
     },
     "metadata": {},
     "output_type": "display_data"
    },
    {
     "data": {
      "text/plain": [
       "'https://www.ted.com/tedx/events?autocomplete_filter=TEDxArrowheadRanch&page=2&when=past'"
      ]
     },
     "metadata": {},
     "output_type": "display_data"
    },
    {
     "data": {
      "text/plain": [
       "'https://www.ted.com/tedx/events?autocomplete_filter=TEDxShannonED&page=2&when=past'"
      ]
     },
     "metadata": {},
     "output_type": "display_data"
    },
    {
     "data": {
      "text/plain": [
       "'https://www.ted.com/tedx/events?autocomplete_filter=TEDxChurchgate&page=2&when=past'"
      ]
     },
     "metadata": {},
     "output_type": "display_data"
    },
    {
     "data": {
      "text/plain": [
       "'https://www.ted.com/tedx/events?autocomplete_filter=TEDxWaterlooWomen&page=1&when=past'"
      ]
     },
     "metadata": {},
     "output_type": "display_data"
    },
    {
     "data": {
      "text/plain": [
       "'https://www.ted.com/tedx/events?autocomplete_filter=TEDxShekhavati&page=1&when=past'"
      ]
     },
     "metadata": {},
     "output_type": "display_data"
    },
    {
     "data": {
      "text/plain": [
       "'https://www.ted.com/tedx/events?autocomplete_filter=TEDxWalthamED&page=1&when=past'"
      ]
     },
     "metadata": {},
     "output_type": "display_data"
    },
    {
     "data": {
      "text/plain": [
       "'https://www.ted.com/tedx/events?autocomplete_filter=TEDxWaterlooWomen&page=2&when=past'"
      ]
     },
     "metadata": {},
     "output_type": "display_data"
    },
    {
     "data": {
      "text/plain": [
       "'https://www.ted.com/tedx/events?autocomplete_filter=TEDxShekhavati&page=2&when=past'"
      ]
     },
     "metadata": {},
     "output_type": "display_data"
    },
    {
     "data": {
      "text/plain": [
       "'https://www.ted.com/tedx/events?autocomplete_filter=TEDxWalthamED&page=2&when=past'"
      ]
     },
     "metadata": {},
     "output_type": "display_data"
    },
    {
     "data": {
      "text/plain": [
       "'https://www.ted.com/tedx/events?autocomplete_filter=TEDxNorthwesternU2014&page=1&when=past'"
      ]
     },
     "metadata": {},
     "output_type": "display_data"
    },
    {
     "data": {
      "text/plain": [
       "'https://www.ted.com/tedx/events?autocomplete_filter=TEDxTianshanPark&page=1&when=past'"
      ]
     },
     "metadata": {},
     "output_type": "display_data"
    },
    {
     "data": {
      "text/plain": [
       "'https://www.ted.com/tedx/events?autocomplete_filter=TEDxChange&page=1&when=past'"
      ]
     },
     "metadata": {},
     "output_type": "display_data"
    },
    {
     "data": {
      "text/plain": [
       "'https://www.ted.com/tedx/events?autocomplete_filter=TEDxUnionTerrace&page=1&when=past'"
      ]
     },
     "metadata": {},
     "output_type": "display_data"
    },
    {
     "data": {
      "text/plain": [
       "'https://www.ted.com/tedx/events?autocomplete_filter=TEDxTianshanPark&page=2&when=past'"
      ]
     },
     "metadata": {},
     "output_type": "display_data"
    },
    {
     "data": {
      "text/plain": [
       "'https://www.ted.com/tedx/events?autocomplete_filter=TEDxShanghai&page=1&when=past'"
      ]
     },
     "metadata": {},
     "output_type": "display_data"
    },
    {
     "data": {
      "text/plain": [
       "'https://www.ted.com/tedx/events?autocomplete_filter=TEDxUnionTerrace&page=2&when=past'"
      ]
     },
     "metadata": {},
     "output_type": "display_data"
    },
    {
     "data": {
      "text/plain": [
       "'https://www.ted.com/tedx/events?autocomplete_filter=TEDxChange&page=2&when=past'"
      ]
     },
     "metadata": {},
     "output_type": "display_data"
    },
    {
     "data": {
      "text/plain": [
       "'https://www.ted.com/tedx/events?autocomplete_filter=TEDxKL&page=1&when=past'"
      ]
     },
     "metadata": {},
     "output_type": "display_data"
    },
    {
     "data": {
      "text/plain": [
       "'https://www.ted.com/tedx/events?autocomplete_filter=TEDxShanghai&page=2&when=past'"
      ]
     },
     "metadata": {},
     "output_type": "display_data"
    },
    {
     "data": {
      "text/plain": [
       "'https://www.ted.com/tedx/events?autocomplete_filter=TEDxChange&page=3&when=past'"
      ]
     },
     "metadata": {},
     "output_type": "display_data"
    },
    {
     "data": {
      "text/plain": [
       "'https://www.ted.com/tedx/events?autocomplete_filter=TEDxTransmedia2011&page=1&when=past'"
      ]
     },
     "metadata": {},
     "output_type": "display_data"
    },
    {
     "data": {
      "text/plain": [
       "'https://www.ted.com/tedx/events?autocomplete_filter=TEDxWinchesterTeachers&page=1&when=past'"
      ]
     },
     "metadata": {},
     "output_type": "display_data"
    },
    {
     "data": {
      "text/plain": [
       "'https://www.ted.com/tedx/events?autocomplete_filter=TEDxKL&page=2&when=past'"
      ]
     },
     "metadata": {},
     "output_type": "display_data"
    },
    {
     "data": {
      "text/plain": [
       "'https://www.ted.com/tedx/events?autocomplete_filter=TEDxChange&page=4&when=past'"
      ]
     },
     "metadata": {},
     "output_type": "display_data"
    },
    {
     "data": {
      "text/plain": [
       "'https://www.ted.com/tedx/events?autocomplete_filter=TEDxFloyd&page=1&when=past'"
      ]
     },
     "metadata": {},
     "output_type": "display_data"
    },
    {
     "data": {
      "text/plain": [
       "'https://www.ted.com/tedx/events?autocomplete_filter=TEDxWinchesterTeachers&page=2&when=past'"
      ]
     },
     "metadata": {},
     "output_type": "display_data"
    },
    {
     "data": {
      "text/plain": [
       "'https://www.ted.com/tedx/events?autocomplete_filter=TEDxFloyd&page=2&when=past'"
      ]
     },
     "metadata": {},
     "output_type": "display_data"
    },
    {
     "data": {
      "text/plain": [
       "'https://www.ted.com/tedx/events?autocomplete_filter=TEDxFolketspark&page=1&when=past'"
      ]
     },
     "metadata": {},
     "output_type": "display_data"
    },
    {
     "data": {
      "text/plain": [
       "'https://www.ted.com/tedx/events?autocomplete_filter=TEDxChange&page=5&when=past'"
      ]
     },
     "metadata": {},
     "output_type": "display_data"
    },
    {
     "data": {
      "text/plain": [
       "'https://www.ted.com/tedx/events?autocomplete_filter=TEDxUWO&page=1&when=past'"
      ]
     },
     "metadata": {},
     "output_type": "display_data"
    },
    {
     "data": {
      "text/plain": [
       "'https://www.ted.com/tedx/events?autocomplete_filter=TEDxFolketspark&page=2&when=past'"
      ]
     },
     "metadata": {},
     "output_type": "display_data"
    },
    {
     "data": {
      "text/plain": [
       "'https://www.ted.com/tedx/events?autocomplete_filter=TEDxUWO&page=2&when=past'"
      ]
     },
     "metadata": {},
     "output_type": "display_data"
    },
    {
     "data": {
      "text/plain": [
       "'https://www.ted.com/tedx/events?autocomplete_filter=TEDxBeloHorizonte&page=1&when=past'"
      ]
     },
     "metadata": {},
     "output_type": "display_data"
    },
    {
     "data": {
      "text/plain": [
       "'https://www.ted.com/tedx/events?autocomplete_filter=TEDxSRCC&page=1&when=past'"
      ]
     },
     "metadata": {},
     "output_type": "display_data"
    },
    {
     "data": {
      "text/plain": [
       "'https://www.ted.com/tedx/events?autocomplete_filter=TEDxChange&page=6&when=past'"
      ]
     },
     "metadata": {},
     "output_type": "display_data"
    },
    {
     "data": {
      "text/plain": [
       "'https://www.ted.com/tedx/events?autocomplete_filter=TEDxBeloHorizonte&page=2&when=past'"
      ]
     },
     "metadata": {},
     "output_type": "display_data"
    },
    {
     "data": {
      "text/plain": [
       "'https://www.ted.com/tedx/events?autocomplete_filter=TEDxSRCC&page=2&when=past'"
      ]
     },
     "metadata": {},
     "output_type": "display_data"
    },
    {
     "data": {
      "text/plain": [
       "'https://www.ted.com/tedx/events?autocomplete_filter=TEDxParkKultury&page=1&when=past'"
      ]
     },
     "metadata": {},
     "output_type": "display_data"
    },
    {
     "data": {
      "text/plain": [
       "'https://www.ted.com/tedx/events?autocomplete_filter=TEDxUSagradoCorazón&page=1&when=past'"
      ]
     },
     "metadata": {},
     "output_type": "display_data"
    },
    {
     "data": {
      "text/plain": [
       "'https://www.ted.com/tedx/events?autocomplete_filter=TEDxChange&page=7&when=past'"
      ]
     },
     "metadata": {},
     "output_type": "display_data"
    },
    {
     "data": {
      "text/plain": [
       "'https://www.ted.com/tedx/events?autocomplete_filter=TEDxParkKultury&page=2&when=past'"
      ]
     },
     "metadata": {},
     "output_type": "display_data"
    },
    {
     "data": {
      "text/plain": [
       "'https://www.ted.com/tedx/events?autocomplete_filter=TEDxUSagradoCorazón&page=2&when=past'"
      ]
     },
     "metadata": {},
     "output_type": "display_data"
    },
    {
     "data": {
      "text/plain": [
       "'https://www.ted.com/tedx/events?autocomplete_filter=TEDxNCHU&page=1&when=past'"
      ]
     },
     "metadata": {},
     "output_type": "display_data"
    },
    {
     "data": {
      "text/plain": [
       "'https://www.ted.com/tedx/events?autocomplete_filter=TEDxYouth@Croydon&page=1&when=past'"
      ]
     },
     "metadata": {},
     "output_type": "display_data"
    },
    {
     "data": {
      "text/plain": [
       "'https://www.ted.com/tedx/events?autocomplete_filter=TEDxChange&page=8&when=past'"
      ]
     },
     "metadata": {},
     "output_type": "display_data"
    },
    {
     "data": {
      "text/plain": [
       "'https://www.ted.com/tedx/events?autocomplete_filter=TEDxYouth@Croydon&page=2&when=past'"
      ]
     },
     "metadata": {},
     "output_type": "display_data"
    },
    {
     "data": {
      "text/plain": [
       "'https://www.ted.com/tedx/events?autocomplete_filter=TEDxNCHU&page=2&when=past'"
      ]
     },
     "metadata": {},
     "output_type": "display_data"
    },
    {
     "data": {
      "text/plain": [
       "'https://www.ted.com/tedx/events?autocomplete_filter=TEDxPortlandCommunityCollegeRockCreek&page=1&when=past'"
      ]
     },
     "metadata": {},
     "output_type": "display_data"
    },
    {
     "data": {
      "text/plain": [
       "'https://www.ted.com/tedx/events?autocomplete_filter=TEDxChange&page=9&when=past'"
      ]
     },
     "metadata": {},
     "output_type": "display_data"
    },
    {
     "data": {
      "text/plain": [
       "'https://www.ted.com/tedx/events?autocomplete_filter=TEDxCalPoly&page=1&when=past'"
      ]
     },
     "metadata": {},
     "output_type": "display_data"
    },
    {
     "data": {
      "text/plain": [
       "'https://www.ted.com/tedx/events?autocomplete_filter=TEDx?&page=1&when=past'"
      ]
     },
     "metadata": {},
     "output_type": "display_data"
    },
    {
     "data": {
      "text/plain": [
       "'https://www.ted.com/tedx/events?autocomplete_filter=TEDxPortlandCommunityCollegeRockCreek&page=2&when=past'"
      ]
     },
     "metadata": {},
     "output_type": "display_data"
    },
    {
     "data": {
      "text/plain": [
       "'https://www.ted.com/tedx/events?autocomplete_filter=TEDxCalPoly&page=2&when=past'"
      ]
     },
     "metadata": {},
     "output_type": "display_data"
    },
    {
     "data": {
      "text/plain": [
       "'https://www.ted.com/tedx/events?autocomplete_filter=TEDxGreensFarmsAcademy&page=1&when=past'"
      ]
     },
     "metadata": {},
     "output_type": "display_data"
    },
    {
     "data": {
      "text/plain": [
       "'https://www.ted.com/tedx/events?autocomplete_filter=TEDxSingaporeManagementuniversity&page=1&when=past'"
      ]
     },
     "metadata": {},
     "output_type": "display_data"
    },
    {
     "data": {
      "text/plain": [
       "'https://www.ted.com/tedx/events?autocomplete_filter=TEDxUHowest&page=1&when=past'"
      ]
     },
     "metadata": {},
     "output_type": "display_data"
    },
    {
     "data": {
      "text/plain": [
       "'https://www.ted.com/tedx/events?autocomplete_filter=TEDxGreensFarmsAcademy&page=2&when=past'"
      ]
     },
     "metadata": {},
     "output_type": "display_data"
    },
    {
     "data": {
      "text/plain": [
       "'https://www.ted.com/tedx/events?autocomplete_filter=TEDxSingaporeManagementuniversity&page=2&when=past'"
      ]
     },
     "metadata": {},
     "output_type": "display_data"
    },
    {
     "data": {
      "text/plain": [
       "'https://www.ted.com/tedx/events?autocomplete_filter=TEDxUHowest&page=2&when=past'"
      ]
     },
     "metadata": {},
     "output_type": "display_data"
    },
    {
     "data": {
      "text/plain": [
       "'https://www.ted.com/tedx/events?autocomplete_filter=TEDxJoburgNorth&page=1&when=past'"
      ]
     },
     "metadata": {},
     "output_type": "display_data"
    },
    {
     "data": {
      "text/plain": [
       "'https://www.ted.com/tedx/events?autocomplete_filter=TEDxIITMandi&page=1&when=past'"
      ]
     },
     "metadata": {},
     "output_type": "display_data"
    },
    {
     "data": {
      "text/plain": [
       "'https://www.ted.com/tedx/events?autocomplete_filter=TEDxFitchburgStateU&page=1&when=past'"
      ]
     },
     "metadata": {},
     "output_type": "display_data"
    },
    {
     "data": {
      "text/plain": [
       "'https://www.ted.com/tedx/events?autocomplete_filter=TEDxJoburgNorth&page=2&when=past'"
      ]
     },
     "metadata": {},
     "output_type": "display_data"
    },
    {
     "data": {
      "text/plain": [
       "'https://www.ted.com/tedx/events?autocomplete_filter=TEDxIITMandi&page=2&when=past'"
      ]
     },
     "metadata": {},
     "output_type": "display_data"
    },
    {
     "data": {
      "text/plain": [
       "'https://www.ted.com/tedx/events?autocomplete_filter=TEDxMyeongDong&page=1&when=past'"
      ]
     },
     "metadata": {},
     "output_type": "display_data"
    },
    {
     "data": {
      "text/plain": [
       "'https://www.ted.com/tedx/events?autocomplete_filter=TEDxFitchburgStateU&page=2&when=past'"
      ]
     },
     "metadata": {},
     "output_type": "display_data"
    },
    {
     "data": {
      "text/plain": [
       "'https://www.ted.com/tedx/events?autocomplete_filter=TEDxSinchon&page=1&when=past'"
      ]
     },
     "metadata": {},
     "output_type": "display_data"
    },
    {
     "data": {
      "text/plain": [
       "'https://www.ted.com/tedx/events?autocomplete_filter=TEDxRundleAcademy&page=1&when=past'"
      ]
     },
     "metadata": {},
     "output_type": "display_data"
    },
    {
     "data": {
      "text/plain": [
       "'https://www.ted.com/tedx/events?autocomplete_filter=TEDxMyeongDong&page=2&when=past'"
      ]
     },
     "metadata": {},
     "output_type": "display_data"
    },
    {
     "data": {
      "text/plain": [
       "'https://www.ted.com/tedx/events?autocomplete_filter=TEDxSinchon&page=2&when=past'"
      ]
     },
     "metadata": {},
     "output_type": "display_data"
    },
    {
     "data": {
      "text/plain": [
       "'https://www.ted.com/tedx/events?autocomplete_filter=TEDxRundleAcademy&page=2&when=past'"
      ]
     },
     "metadata": {},
     "output_type": "display_data"
    },
    {
     "data": {
      "text/plain": [
       "'https://www.ted.com/tedx/events?autocomplete_filter=TEDxBucuresti&page=1&when=past'"
      ]
     },
     "metadata": {},
     "output_type": "display_data"
    },
    {
     "data": {
      "text/plain": [
       "'https://www.ted.com/tedx/events?autocomplete_filter=TEDxUMSKAL&page=1&when=past'"
      ]
     },
     "metadata": {},
     "output_type": "display_data"
    },
    {
     "data": {
      "text/plain": [
       "'https://www.ted.com/tedx/events?autocomplete_filter=TEDxPedradoPenedo&page=1&when=past'"
      ]
     },
     "metadata": {},
     "output_type": "display_data"
    },
    {
     "data": {
      "text/plain": [
       "'https://www.ted.com/tedx/events?autocomplete_filter=TEDxUMSKAL&page=2&when=past'"
      ]
     },
     "metadata": {},
     "output_type": "display_data"
    },
    {
     "data": {
      "text/plain": [
       "'https://www.ted.com/tedx/events?autocomplete_filter=TEDxBucuresti&page=2&when=past'"
      ]
     },
     "metadata": {},
     "output_type": "display_data"
    },
    {
     "data": {
      "text/plain": [
       "'https://www.ted.com/tedx/events?autocomplete_filter=TEDxBITSPilaniDubai&page=1&when=past'"
      ]
     },
     "metadata": {},
     "output_type": "display_data"
    },
    {
     "data": {
      "text/plain": [
       "'https://www.ted.com/tedx/events?autocomplete_filter=TEDxPedradoPenedo&page=2&when=past'"
      ]
     },
     "metadata": {},
     "output_type": "display_data"
    },
    {
     "data": {
      "text/plain": [
       "'https://www.ted.com/tedx/events?autocomplete_filter=TEDxYonsei&page=1&when=past'"
      ]
     },
     "metadata": {},
     "output_type": "display_data"
    },
    {
     "data": {
      "text/plain": [
       "'https://www.ted.com/tedx/events?autocomplete_filter=TEDxBITSPilaniDubai&page=2&when=past'"
      ]
     },
     "metadata": {},
     "output_type": "display_data"
    },
    {
     "data": {
      "text/plain": [
       "'https://www.ted.com/tedx/events?autocomplete_filter=TEDxGolfLinksPark&page=1&when=past'"
      ]
     },
     "metadata": {},
     "output_type": "display_data"
    },
    {
     "data": {
      "text/plain": [
       "'https://www.ted.com/tedx/events?autocomplete_filter=TEDxYonsei&page=2&when=past'"
      ]
     },
     "metadata": {},
     "output_type": "display_data"
    },
    {
     "data": {
      "text/plain": [
       "'https://www.ted.com/tedx/events?autocomplete_filter=TEDxPugetSound&page=1&when=past'"
      ]
     },
     "metadata": {},
     "output_type": "display_data"
    },
    {
     "data": {
      "text/plain": [
       "'https://www.ted.com/tedx/events?autocomplete_filter=TEDxGolfLinksPark&page=2&when=past'"
      ]
     },
     "metadata": {},
     "output_type": "display_data"
    },
    {
     "data": {
      "text/plain": [
       "'https://www.ted.com/tedx/events?autocomplete_filter=TEDxPugetSound&page=2&when=past'"
      ]
     },
     "metadata": {},
     "output_type": "display_data"
    },
    {
     "data": {
      "text/plain": [
       "'https://www.ted.com/tedx/events?autocomplete_filter=TEDxWhistler&page=1&when=past'"
      ]
     },
     "metadata": {},
     "output_type": "display_data"
    },
    {
     "data": {
      "text/plain": [
       "'https://www.ted.com/tedx/events?autocomplete_filter=TEDxDoha&page=1&when=past'"
      ]
     },
     "metadata": {},
     "output_type": "display_data"
    },
    {
     "data": {
      "text/plain": [
       "'https://www.ted.com/tedx/events?autocomplete_filter=TEDxRegentsPark&page=1&when=past'"
      ]
     },
     "metadata": {},
     "output_type": "display_data"
    },
    {
     "data": {
      "text/plain": [
       "'https://www.ted.com/tedx/events?autocomplete_filter=TEDxWhistler&page=2&when=past'"
      ]
     },
     "metadata": {},
     "output_type": "display_data"
    },
    {
     "data": {
      "text/plain": [
       "'https://www.ted.com/tedx/events?autocomplete_filter=TEDxDoha&page=2&when=past'"
      ]
     },
     "metadata": {},
     "output_type": "display_data"
    },
    {
     "data": {
      "text/plain": [
       "'https://www.ted.com/tedx/events?autocomplete_filter=TEDxRegentsPark&page=2&when=past'"
      ]
     },
     "metadata": {},
     "output_type": "display_data"
    },
    {
     "data": {
      "text/plain": [
       "'https://www.ted.com/tedx/events?autocomplete_filter=TEDxGurgaon&page=1&when=past'"
      ]
     },
     "metadata": {},
     "output_type": "display_data"
    },
    {
     "data": {
      "text/plain": [
       "'https://www.ted.com/tedx/events?autocomplete_filter=TEDxNAU&page=1&when=past'"
      ]
     },
     "metadata": {},
     "output_type": "display_data"
    },
    {
     "data": {
      "text/plain": [
       "'https://www.ted.com/tedx/events?autocomplete_filter=TEDxAlamo&page=1&when=past'"
      ]
     },
     "metadata": {},
     "output_type": "display_data"
    },
    {
     "data": {
      "text/plain": [
       "'https://www.ted.com/tedx/events?autocomplete_filter=TEDxGurgaon&page=2&when=past'"
      ]
     },
     "metadata": {},
     "output_type": "display_data"
    },
    {
     "data": {
      "text/plain": [
       "'https://www.ted.com/tedx/events?autocomplete_filter=TEDxNAU&page=2&when=past'"
      ]
     },
     "metadata": {},
     "output_type": "display_data"
    },
    {
     "data": {
      "text/plain": [
       "'https://www.ted.com/tedx/events?autocomplete_filter=TEDxAlamo&page=2&when=past'"
      ]
     },
     "metadata": {},
     "output_type": "display_data"
    },
    {
     "data": {
      "text/plain": [
       "'https://www.ted.com/tedx/events?autocomplete_filter=TEDxCornell&page=1&when=past'"
      ]
     },
     "metadata": {},
     "output_type": "display_data"
    },
    {
     "data": {
      "text/plain": [
       "'https://www.ted.com/tedx/events?autocomplete_filter=TEDxMilanoWomen&page=1&when=past'"
      ]
     },
     "metadata": {},
     "output_type": "display_data"
    },
    {
     "data": {
      "text/plain": [
       "'https://www.ted.com/tedx/events?autocomplete_filter=TEDxLeadershipPgh&page=1&when=past'"
      ]
     },
     "metadata": {},
     "output_type": "display_data"
    },
    {
     "data": {
      "text/plain": [
       "'https://www.ted.com/tedx/events?autocomplete_filter=TEDxCornell&page=2&when=past'"
      ]
     },
     "metadata": {},
     "output_type": "display_data"
    },
    {
     "data": {
      "text/plain": [
       "'https://www.ted.com/tedx/events?autocomplete_filter=TEDxSiliconValley&page=1&when=past'"
      ]
     },
     "metadata": {},
     "output_type": "display_data"
    },
    {
     "data": {
      "text/plain": [
       "'https://www.ted.com/tedx/events?autocomplete_filter=TEDxMilanoWomen&page=2&when=past'"
      ]
     },
     "metadata": {},
     "output_type": "display_data"
    },
    {
     "data": {
      "text/plain": [
       "'https://www.ted.com/tedx/events?autocomplete_filter=TEDxUillinois&page=1&when=past'"
      ]
     },
     "metadata": {},
     "output_type": "display_data"
    },
    {
     "data": {
      "text/plain": [
       "'https://www.ted.com/tedx/events?autocomplete_filter=TEDxTuguPahlawan&page=1&when=past'"
      ]
     },
     "metadata": {},
     "output_type": "display_data"
    },
    {
     "data": {
      "text/plain": [
       "'https://www.ted.com/tedx/events?autocomplete_filter=TEDxSiliconValley&page=2&when=past'"
      ]
     },
     "metadata": {},
     "output_type": "display_data"
    },
    {
     "data": {
      "text/plain": [
       "'https://www.ted.com/tedx/events?autocomplete_filter=TEDxUillinois&page=2&when=past'"
      ]
     },
     "metadata": {},
     "output_type": "display_data"
    },
    {
     "data": {
      "text/plain": [
       "'https://www.ted.com/tedx/events?autocomplete_filter=TEDxTeesside&page=1&when=past'"
      ]
     },
     "metadata": {},
     "output_type": "display_data"
    },
    {
     "data": {
      "text/plain": [
       "'https://www.ted.com/tedx/events?autocomplete_filter=TEDxTuguPahlawan&page=2&when=past'"
      ]
     },
     "metadata": {},
     "output_type": "display_data"
    },
    {
     "data": {
      "text/plain": [
       "'https://www.ted.com/tedx/events?autocomplete_filter=TEDxCornel&page=1&when=past'"
      ]
     },
     "metadata": {},
     "output_type": "display_data"
    },
    {
     "data": {
      "text/plain": [
       "'https://www.ted.com/tedx/events?autocomplete_filter=TEDxParksville&page=1&when=past'"
      ]
     },
     "metadata": {},
     "output_type": "display_data"
    },
    {
     "data": {
      "text/plain": [
       "'https://www.ted.com/tedx/events?autocomplete_filter=TEDxTeesside&page=2&when=past'"
      ]
     },
     "metadata": {},
     "output_type": "display_data"
    },
    {
     "data": {
      "text/plain": [
       "'https://www.ted.com/tedx/events?autocomplete_filter=TEDxCornel&page=2&when=past'"
      ]
     },
     "metadata": {},
     "output_type": "display_data"
    },
    {
     "data": {
      "text/plain": [
       "'https://www.ted.com/tedx/events?autocomplete_filter=TEDxSV&page=1&when=past'"
      ]
     },
     "metadata": {},
     "output_type": "display_data"
    },
    {
     "data": {
      "text/plain": [
       "'https://www.ted.com/tedx/events?autocomplete_filter=TEDxParksville&page=2&when=past'"
      ]
     },
     "metadata": {},
     "output_type": "display_data"
    },
    {
     "data": {
      "text/plain": [
       "'https://www.ted.com/tedx/events?autocomplete_filter=TEDxManila&page=1&when=past'"
      ]
     },
     "metadata": {},
     "output_type": "display_data"
    },
    {
     "data": {
      "text/plain": [
       "'https://www.ted.com/tedx/events?autocomplete_filter=TEDxDelMar&page=1&when=past'"
      ]
     },
     "metadata": {},
     "output_type": "display_data"
    },
    {
     "data": {
      "text/plain": [
       "'https://www.ted.com/tedx/events?autocomplete_filter=TEDxManila&page=2&when=past'"
      ]
     },
     "metadata": {},
     "output_type": "display_data"
    },
    {
     "data": {
      "text/plain": [
       "'https://www.ted.com/tedx/events?autocomplete_filter=TEDxSV&page=2&when=past'"
      ]
     },
     "metadata": {},
     "output_type": "display_data"
    },
    {
     "data": {
      "text/plain": [
       "'https://www.ted.com/tedx/events?autocomplete_filter=TEDxDelMar&page=2&when=past'"
      ]
     },
     "metadata": {},
     "output_type": "display_data"
    },
    {
     "data": {
      "text/plain": [
       "'https://www.ted.com/tedx/events?autocomplete_filter=TEDxEskilstuna&page=1&when=past'"
      ]
     },
     "metadata": {},
     "output_type": "display_data"
    },
    {
     "data": {
      "text/plain": [
       "'https://www.ted.com/tedx/events?autocomplete_filter=TEDxPilani&page=1&when=past'"
      ]
     },
     "metadata": {},
     "output_type": "display_data"
    },
    {
     "data": {
      "text/plain": [
       "'https://www.ted.com/tedx/events?autocomplete_filter=TEDxLPU&page=1&when=past'"
      ]
     },
     "metadata": {},
     "output_type": "display_data"
    },
    {
     "data": {
      "text/plain": [
       "'https://www.ted.com/tedx/events?autocomplete_filter=TEDxEskilstuna&page=2&when=past'"
      ]
     },
     "metadata": {},
     "output_type": "display_data"
    },
    {
     "data": {
      "text/plain": [
       "'https://www.ted.com/tedx/events?autocomplete_filter=TEDxPilani&page=2&when=past'"
      ]
     },
     "metadata": {},
     "output_type": "display_data"
    },
    {
     "data": {
      "text/plain": [
       "'https://www.ted.com/tedx/events?autocomplete_filter=TEDxLPU&page=2&when=past'"
      ]
     },
     "metadata": {},
     "output_type": "display_data"
    },
    {
     "data": {
      "text/plain": [
       "'https://www.ted.com/tedx/events?autocomplete_filter=TEDxCapital&page=1&when=past'"
      ]
     },
     "metadata": {},
     "output_type": "display_data"
    },
    {
     "data": {
      "text/plain": [
       "'https://www.ted.com/tedx/events?autocomplete_filter=TEDxOntarioEd&page=1&when=past'"
      ]
     },
     "metadata": {},
     "output_type": "display_data"
    },
    {
     "data": {
      "text/plain": [
       "'https://www.ted.com/tedx/events?autocomplete_filter=TEDxCapital&page=2&when=past'"
      ]
     },
     "metadata": {},
     "output_type": "display_data"
    },
    {
     "data": {
      "text/plain": [
       "'https://www.ted.com/tedx/events?autocomplete_filter=TedxBoulder&page=1&when=past'"
      ]
     },
     "metadata": {},
     "output_type": "display_data"
    },
    {
     "data": {
      "text/plain": [
       "'https://www.ted.com/tedx/events?autocomplete_filter=TEDxOntarioEd&page=2&when=past'"
      ]
     },
     "metadata": {},
     "output_type": "display_data"
    },
    {
     "data": {
      "text/plain": [
       "'https://www.ted.com/tedx/events?autocomplete_filter=TEDxSookmyung&TEDxMyeongDong&page=1&when=past'"
      ]
     },
     "metadata": {},
     "output_type": "display_data"
    },
    {
     "data": {
      "text/plain": [
       "'https://www.ted.com/tedx/events?autocomplete_filter=TEDxEducators&page=1&when=past'"
      ]
     },
     "metadata": {},
     "output_type": "display_data"
    },
    {
     "data": {
      "text/plain": [
       "'https://www.ted.com/tedx/events?autocomplete_filter=TedxBoulder&page=2&when=past'"
      ]
     },
     "metadata": {},
     "output_type": "display_data"
    },
    {
     "data": {
      "text/plain": [
       "'https://www.ted.com/tedx/events?autocomplete_filter=TEDxRinglingCollege&page=1&when=past'"
      ]
     },
     "metadata": {},
     "output_type": "display_data"
    },
    {
     "data": {
      "text/plain": [
       "'https://www.ted.com/tedx/events?autocomplete_filter=TEDxSookmyung&TEDxMyeongDong&page=2&when=past'"
      ]
     },
     "metadata": {},
     "output_type": "display_data"
    },
    {
     "data": {
      "text/plain": [
       "'https://www.ted.com/tedx/events?autocomplete_filter=TEDxGraterfordStatePrison&page=1&when=past'"
      ]
     },
     "metadata": {},
     "output_type": "display_data"
    },
    {
     "data": {
      "text/plain": [
       "'https://www.ted.com/tedx/events?autocomplete_filter=TEDxNewTrierHigh&page=1&when=past'"
      ]
     },
     "metadata": {},
     "output_type": "display_data"
    },
    {
     "data": {
      "text/plain": [
       "'https://www.ted.com/tedx/events?autocomplete_filter=TEDxRinglingCollege&page=2&when=past'"
      ]
     },
     "metadata": {},
     "output_type": "display_data"
    },
    {
     "data": {
      "text/plain": [
       "'https://www.ted.com/tedx/events?autocomplete_filter=TEDxGraterfordStatePrison&page=2&when=past'"
      ]
     },
     "metadata": {},
     "output_type": "display_data"
    },
    {
     "data": {
      "text/plain": [
       "'https://www.ted.com/tedx/events?autocomplete_filter=TEDxNewTrierHigh&page=2&when=past'"
      ]
     },
     "metadata": {},
     "output_type": "display_data"
    },
    {
     "data": {
      "text/plain": [
       "'https://www.ted.com/tedx/events?autocomplete_filter=TEDxTamaya&page=1&when=past'"
      ]
     },
     "metadata": {},
     "output_type": "display_data"
    },
    {
     "data": {
      "text/plain": [
       "'https://www.ted.com/tedx/events?autocomplete_filter=TEDxSetonHillUniversity&page=1&when=past'"
      ]
     },
     "metadata": {},
     "output_type": "display_data"
    },
    {
     "data": {
      "text/plain": [
       "'https://www.ted.com/tedx/events?autocomplete_filter=TEDxPuraVida-&page=1&when=past'"
      ]
     },
     "metadata": {},
     "output_type": "display_data"
    },
    {
     "data": {
      "text/plain": [
       "'https://www.ted.com/tedx/events?autocomplete_filter=TEDxTamaya&page=2&when=past'"
      ]
     },
     "metadata": {},
     "output_type": "display_data"
    },
    {
     "data": {
      "text/plain": [
       "'https://www.ted.com/tedx/events?autocomplete_filter=TEDxSetonHillUniversity&page=2&when=past'"
      ]
     },
     "metadata": {},
     "output_type": "display_data"
    },
    {
     "data": {
      "text/plain": [
       "'https://www.ted.com/tedx/events?autocomplete_filter=TEDxSSE4m&page=1&when=past'"
      ]
     },
     "metadata": {},
     "output_type": "display_data"
    },
    {
     "data": {
      "text/plain": [
       "'https://www.ted.com/tedx/events?autocomplete_filter=TEDxGallatinSeniorSymposium&page=1&when=past'"
      ]
     },
     "metadata": {},
     "output_type": "display_data"
    },
    {
     "data": {
      "text/plain": [
       "'https://www.ted.com/tedx/events?autocomplete_filter=TEDxVanderbijlpark&page=1&when=past'"
      ]
     },
     "metadata": {},
     "output_type": "display_data"
    },
    {
     "data": {
      "text/plain": [
       "'https://www.ted.com/tedx/events?autocomplete_filter=TEDxSSE4m&page=2&when=past'"
      ]
     },
     "metadata": {},
     "output_type": "display_data"
    },
    {
     "data": {
      "text/plain": [
       "'https://www.ted.com/tedx/events?autocomplete_filter=TEDxGallatinSeniorSymposium&page=2&when=past'"
      ]
     },
     "metadata": {},
     "output_type": "display_data"
    },
    {
     "data": {
      "text/plain": [
       "'https://www.ted.com/tedx/events?autocomplete_filter=TEDxVanderbijlpark&page=2&when=past'"
      ]
     },
     "metadata": {},
     "output_type": "display_data"
    },
    {
     "data": {
      "text/plain": [
       "'https://www.ted.com/tedx/events?autocomplete_filter=TEDxChumash&page=1&when=past'"
      ]
     },
     "metadata": {},
     "output_type": "display_data"
    },
    {
     "data": {
      "text/plain": [
       "'https://www.ted.com/tedx/events?autocomplete_filter=TEDxÖresund&page=1&when=past'"
      ]
     },
     "metadata": {},
     "output_type": "display_data"
    },
    {
     "data": {
      "text/plain": [
       "'https://www.ted.com/tedx/events?autocomplete_filter=TEDxDeExtinction&page=1&when=past'"
      ]
     },
     "metadata": {},
     "output_type": "display_data"
    },
    {
     "data": {
      "text/plain": [
       "'https://www.ted.com/tedx/events?autocomplete_filter=TEDxChumash&page=2&when=past'"
      ]
     },
     "metadata": {},
     "output_type": "display_data"
    },
    {
     "data": {
      "text/plain": [
       "'https://www.ted.com/tedx/events?autocomplete_filter=TEDxÖresund&page=2&when=past'"
      ]
     },
     "metadata": {},
     "output_type": "display_data"
    },
    {
     "data": {
      "text/plain": [
       "'https://www.ted.com/tedx/events?autocomplete_filter=TEDxDeExtinction&page=2&when=past'"
      ]
     },
     "metadata": {},
     "output_type": "display_data"
    },
    {
     "data": {
      "text/plain": [
       "'https://www.ted.com/tedx/events?autocomplete_filter=TEDxLiffey&page=1&when=past'"
      ]
     },
     "metadata": {},
     "output_type": "display_data"
    },
    {
     "data": {
      "text/plain": [
       "'https://www.ted.com/tedx/events?autocomplete_filter=TEDxHitechCity&page=1&when=past'"
      ]
     },
     "metadata": {},
     "output_type": "display_data"
    },
    {
     "data": {
      "text/plain": [
       "'https://www.ted.com/tedx/events?autocomplete_filter=TEDxKFUPM&page=1&when=past'"
      ]
     },
     "metadata": {},
     "output_type": "display_data"
    },
    {
     "data": {
      "text/plain": [
       "'https://www.ted.com/tedx/events?autocomplete_filter=TEDxLiffey&page=2&when=past'"
      ]
     },
     "metadata": {},
     "output_type": "display_data"
    },
    {
     "data": {
      "text/plain": [
       "'https://www.ted.com/tedx/events?autocomplete_filter=TEDxHitechCity&page=2&when=past'"
      ]
     },
     "metadata": {},
     "output_type": "display_data"
    },
    {
     "data": {
      "text/plain": [
       "'https://www.ted.com/tedx/events?autocomplete_filter=TEDxKFUPM&page=2&when=past'"
      ]
     },
     "metadata": {},
     "output_type": "display_data"
    },
    {
     "data": {
      "text/plain": [
       "'https://www.ted.com/tedx/events?autocomplete_filter=TEDxNJLibraries&page=1&when=past'"
      ]
     },
     "metadata": {},
     "output_type": "display_data"
    },
    {
     "data": {
      "text/plain": [
       "'https://www.ted.com/tedx/events?autocomplete_filter=TEDxDUMBO&page=1&when=past'"
      ]
     },
     "metadata": {},
     "output_type": "display_data"
    },
    {
     "data": {
      "text/plain": [
       "'https://www.ted.com/tedx/events?autocomplete_filter=TEDxwas&page=1&when=past'"
      ]
     },
     "metadata": {},
     "output_type": "display_data"
    },
    {
     "data": {
      "text/plain": [
       "'https://www.ted.com/tedx/events?autocomplete_filter=TEDxNJLibraries&page=2&when=past'"
      ]
     },
     "metadata": {},
     "output_type": "display_data"
    },
    {
     "data": {
      "text/plain": [
       "'https://www.ted.com/tedx/events?autocomplete_filter=TEDxDUMBO&page=2&when=past'"
      ]
     },
     "metadata": {},
     "output_type": "display_data"
    },
    {
     "data": {
      "text/plain": [
       "'https://www.ted.com/tedx/events?autocomplete_filter=TEDxMillCity&page=1&when=past'"
      ]
     },
     "metadata": {},
     "output_type": "display_data"
    },
    {
     "data": {
      "text/plain": [
       "'https://www.ted.com/tedx/events?autocomplete_filter=TEDxwas&page=2&when=past'"
      ]
     },
     "metadata": {},
     "output_type": "display_data"
    },
    {
     "data": {
      "text/plain": [
       "'https://www.ted.com/tedx/events?autocomplete_filter=TEDxYouthInspire&page=1&when=past'"
      ]
     },
     "metadata": {},
     "output_type": "display_data"
    },
    {
     "data": {
      "text/plain": [
       "'https://www.ted.com/tedx/events?autocomplete_filter=TEDxMillCity&page=2&when=past'"
      ]
     },
     "metadata": {},
     "output_type": "display_data"
    },
    {
     "data": {
      "text/plain": [
       "'https://www.ted.com/tedx/events?autocomplete_filter=TEDxAden&page=1&when=past'"
      ]
     },
     "metadata": {},
     "output_type": "display_data"
    },
    {
     "data": {
      "text/plain": [
       "'https://www.ted.com/tedx/events?autocomplete_filter=TEDxYouthInspire&page=2&when=past'"
      ]
     },
     "metadata": {},
     "output_type": "display_data"
    },
    {
     "data": {
      "text/plain": [
       "'https://www.ted.com/tedx/events?autocomplete_filter=TEDxUSC-&page=1&when=past'"
      ]
     },
     "metadata": {},
     "output_type": "display_data"
    },
    {
     "data": {
      "text/plain": [
       "'https://www.ted.com/tedx/events?autocomplete_filter=TEDxAden&page=2&when=past'"
      ]
     },
     "metadata": {},
     "output_type": "display_data"
    },
    {
     "data": {
      "text/plain": [
       "'https://www.ted.com/tedx/events?autocomplete_filter=TEDxUniPittsburgh&page=1&when=past'"
      ]
     },
     "metadata": {},
     "output_type": "display_data"
    },
    {
     "data": {
      "text/plain": [
       "'https://www.ted.com/tedx/events?autocomplete_filter=TEDxTelAviv-&page=1&when=past'"
      ]
     },
     "metadata": {},
     "output_type": "display_data"
    },
    {
     "data": {
      "text/plain": [
       "'https://www.ted.com/tedx/events?autocomplete_filter=TEDxperiment&page=1&when=past'"
      ]
     },
     "metadata": {},
     "output_type": "display_data"
    },
    {
     "data": {
      "text/plain": [
       "'https://www.ted.com/tedx/events?autocomplete_filter=TEDxRiverCity&page=1&when=past'"
      ]
     },
     "metadata": {},
     "output_type": "display_data"
    },
    {
     "data": {
      "text/plain": [
       "'https://www.ted.com/tedx/events?autocomplete_filter=TEDxUniPittsburgh&page=2&when=past'"
      ]
     },
     "metadata": {},
     "output_type": "display_data"
    },
    {
     "data": {
      "text/plain": [
       "'https://www.ted.com/tedx/events?autocomplete_filter=TEDxUpperEastSide&page=1&when=past'"
      ]
     },
     "metadata": {},
     "output_type": "display_data"
    },
    {
     "data": {
      "text/plain": [
       "'https://www.ted.com/tedx/events?autocomplete_filter=TEDxRiverCity&page=2&when=past'"
      ]
     },
     "metadata": {},
     "output_type": "display_data"
    },
    {
     "data": {
      "text/plain": [
       "'https://www.ted.com/tedx/events?autocomplete_filter=TEDxUpperEastSide&page=2&when=past'"
      ]
     },
     "metadata": {},
     "output_type": "display_data"
    },
    {
     "data": {
      "text/plain": [
       "'https://www.ted.com/tedx/events?autocomplete_filter=TEDxUSEmbassyStockholm&page=1&when=past'"
      ]
     },
     "metadata": {},
     "output_type": "display_data"
    },
    {
     "data": {
      "text/plain": [
       "'https://www.ted.com/tedx/events?autocomplete_filter=TEDxMunich-Chris&page=1&when=past'"
      ]
     },
     "metadata": {},
     "output_type": "display_data"
    },
    {
     "data": {
      "text/plain": [
       "'https://www.ted.com/tedx/events?autocomplete_filter=TEDxRamanujanCollege&page=1&when=past'"
      ]
     },
     "metadata": {},
     "output_type": "display_data"
    },
    {
     "data": {
      "text/plain": [
       "'https://www.ted.com/tedx/events?autocomplete_filter=TEDxPotomac&page=1&when=past'"
      ]
     },
     "metadata": {},
     "output_type": "display_data"
    },
    {
     "data": {
      "text/plain": [
       "'https://www.ted.com/tedx/events?autocomplete_filter=TEDxUSEmbassyStockholm&page=2&when=past'"
      ]
     },
     "metadata": {},
     "output_type": "display_data"
    },
    {
     "data": {
      "text/plain": [
       "'https://www.ted.com/tedx/events?autocomplete_filter=TEDxRamanujanCollege&page=2&when=past'"
      ]
     },
     "metadata": {},
     "output_type": "display_data"
    },
    {
     "data": {
      "text/plain": [
       "'https://www.ted.com/tedx/events?autocomplete_filter=TEDxWulkan&page=1&when=past'"
      ]
     },
     "metadata": {},
     "output_type": "display_data"
    },
    {
     "data": {
      "text/plain": [
       "'https://www.ted.com/tedx/events?autocomplete_filter=TEDxPotomac&page=2&when=past'"
      ]
     },
     "metadata": {},
     "output_type": "display_data"
    },
    {
     "data": {
      "text/plain": [
       "'https://www.ted.com/tedx/events?autocomplete_filter=TEDxWulkan&page=2&when=past'"
      ]
     },
     "metadata": {},
     "output_type": "display_data"
    },
    {
     "data": {
      "text/plain": [
       "'https://www.ted.com/tedx/events?autocomplete_filter=TEDxArt&ScienceLA&page=1&when=past'"
      ]
     },
     "metadata": {},
     "output_type": "display_data"
    },
    {
     "data": {
      "text/plain": [
       "'https://www.ted.com/tedx/events?autocomplete_filter=TEDxHultsfred&page=1&when=past'"
      ]
     },
     "metadata": {},
     "output_type": "display_data"
    },
    {
     "data": {
      "text/plain": [
       "'https://www.ted.com/tedx/events?autocomplete_filter=TEDxGTA&page=1&when=past'"
      ]
     },
     "metadata": {},
     "output_type": "display_data"
    },
    {
     "data": {
      "text/plain": [
       "'https://www.ted.com/tedx/events?autocomplete_filter=TEDxHultsfred&page=2&when=past'"
      ]
     },
     "metadata": {},
     "output_type": "display_data"
    },
    {
     "data": {
      "text/plain": [
       "'https://www.ted.com/tedx/events?autocomplete_filter=TEDxArt&ScienceLA&page=2&when=past'"
      ]
     },
     "metadata": {},
     "output_type": "display_data"
    },
    {
     "data": {
      "text/plain": [
       "'https://www.ted.com/tedx/events?autocomplete_filter=TEDxGTA&page=2&when=past'"
      ]
     },
     "metadata": {},
     "output_type": "display_data"
    },
    {
     "data": {
      "text/plain": [
       "'https://www.ted.com/tedx/events?autocomplete_filter=TEDxBoston-&page=1&when=past'"
      ]
     },
     "metadata": {},
     "output_type": "display_data"
    },
    {
     "data": {
      "text/plain": [
       "'https://www.ted.com/tedx/events?autocomplete_filter=TEDxEdinburgh&page=1&when=past'"
      ]
     },
     "metadata": {},
     "output_type": "display_data"
    },
    {
     "data": {
      "text/plain": [
       "'https://www.ted.com/tedx/events?autocomplete_filter=TEDxSeeds2009&page=1&when=past'"
      ]
     },
     "metadata": {},
     "output_type": "display_data"
    },
    {
     "data": {
      "text/plain": [
       "'https://www.ted.com/tedx/events?autocomplete_filter=TEDxKwangoon&page=1&when=past'"
      ]
     },
     "metadata": {},
     "output_type": "display_data"
    },
    {
     "data": {
      "text/plain": [
       "'https://www.ted.com/tedx/events?autocomplete_filter=TEDxEdinburgh&page=2&when=past'"
      ]
     },
     "metadata": {},
     "output_type": "display_data"
    },
    {
     "data": {
      "text/plain": [
       "'https://www.ted.com/tedx/events?autocomplete_filter=TEDxDenverED&page=1&when=past'"
      ]
     },
     "metadata": {},
     "output_type": "display_data"
    },
    {
     "data": {
      "text/plain": [
       "'https://www.ted.com/tedx/events?autocomplete_filter=TEDxKrungthep&page=1&when=past'"
      ]
     },
     "metadata": {},
     "output_type": "display_data"
    },
    {
     "data": {
      "text/plain": [
       "'https://www.ted.com/tedx/events?autocomplete_filter=TEDxDenverED&page=2&when=past'"
      ]
     },
     "metadata": {},
     "output_type": "display_data"
    },
    {
     "data": {
      "text/plain": [
       "'https://www.ted.com/tedx/events?autocomplete_filter=TEDxKent&page=1&when=past'"
      ]
     },
     "metadata": {},
     "output_type": "display_data"
    },
    {
     "data": {
      "text/plain": [
       "'https://www.ted.com/tedx/events?autocomplete_filter=TEDxKrungthep&page=2&when=past'"
      ]
     },
     "metadata": {},
     "output_type": "display_data"
    },
    {
     "data": {
      "text/plain": [
       "'https://www.ted.com/tedx/events?autocomplete_filter=TEDxKent&page=2&when=past'"
      ]
     },
     "metadata": {},
     "output_type": "display_data"
    },
    {
     "data": {
      "text/plain": [
       "'https://www.ted.com/tedx/events?autocomplete_filter=TEDxDaejeon&page=1&when=past'"
      ]
     },
     "metadata": {},
     "output_type": "display_data"
    },
    {
     "data": {
      "text/plain": [
       "'https://www.ted.com/tedx/events?autocomplete_filter=TEDxMidTownNY&page=1&when=past'"
      ]
     },
     "metadata": {},
     "output_type": "display_data"
    },
    {
     "data": {
      "text/plain": [
       "'https://www.ted.com/tedx/events?autocomplete_filter=TEDxTampaBay-&page=1&when=past'"
      ]
     },
     "metadata": {},
     "output_type": "display_data"
    },
    {
     "data": {
      "text/plain": [
       "'https://www.ted.com/tedx/events?autocomplete_filter=TEDxDaejeon&page=2&when=past'"
      ]
     },
     "metadata": {},
     "output_type": "display_data"
    },
    {
     "data": {
      "text/plain": [
       "'https://www.ted.com/tedx/events?autocomplete_filter=TEDxEDUcn&page=1&when=past'"
      ]
     },
     "metadata": {},
     "output_type": "display_data"
    },
    {
     "data": {
      "text/plain": [
       "'https://www.ted.com/tedx/events?autocomplete_filter=TEDxMidTownNY&page=2&when=past'"
      ]
     },
     "metadata": {},
     "output_type": "display_data"
    },
    {
     "data": {
      "text/plain": [
       "'https://www.ted.com/tedx/events?autocomplete_filter=TEDxVelammal&page=1&when=past'"
      ]
     },
     "metadata": {},
     "output_type": "display_data"
    },
    {
     "data": {
      "text/plain": [
       "'https://www.ted.com/tedx/events?autocomplete_filter=TEDxMunich&page=1&when=past'"
      ]
     },
     "metadata": {},
     "output_type": "display_data"
    },
    {
     "data": {
      "text/plain": [
       "'https://www.ted.com/tedx/events?autocomplete_filter=TEDxTú:&page=1&when=past'"
      ]
     },
     "metadata": {},
     "output_type": "display_data"
    },
    {
     "data": {
      "text/plain": [
       "'https://www.ted.com/tedx/events?autocomplete_filter=TEDxVelammal&page=2&when=past'"
      ]
     },
     "metadata": {},
     "output_type": "display_data"
    },
    {
     "data": {
      "text/plain": [
       "'https://www.ted.com/tedx/events?autocomplete_filter=TEDxOakville&page=1&when=past'"
      ]
     },
     "metadata": {},
     "output_type": "display_data"
    },
    {
     "data": {
      "text/plain": [
       "'https://www.ted.com/tedx/events?autocomplete_filter=TEDxMunich&page=2&when=past'"
      ]
     },
     "metadata": {},
     "output_type": "display_data"
    },
    {
     "data": {
      "text/plain": [
       "'https://www.ted.com/tedx/events?autocomplete_filter=TEDxUIllinois&page=1&when=past'"
      ]
     },
     "metadata": {},
     "output_type": "display_data"
    },
    {
     "data": {
      "text/plain": [
       "'https://www.ted.com/tedx/events?autocomplete_filter=TEDxOakville&page=2&when=past'"
      ]
     },
     "metadata": {},
     "output_type": "display_data"
    },
    {
     "data": {
      "text/plain": [
       "'https://www.ted.com/tedx/events?autocomplete_filter=TEDxPennQuarter-Bill&page=1&when=past'"
      ]
     },
     "metadata": {},
     "output_type": "display_data"
    },
    {
     "data": {
      "text/plain": [
       "'https://www.ted.com/tedx/events?autocomplete_filter=TEDxUIllinois&page=2&when=past'"
      ]
     },
     "metadata": {},
     "output_type": "display_data"
    },
    {
     "data": {
      "text/plain": [
       "'https://www.ted.com/tedx/events?autocomplete_filter=TEDxBrisbane-&page=1&when=past'"
      ]
     },
     "metadata": {},
     "output_type": "display_data"
    },
    {
     "data": {
      "text/plain": [
       "'https://www.ted.com/tedx/events?autocomplete_filter=TEDxDar&page=1&when=past'"
      ]
     },
     "metadata": {},
     "output_type": "display_data"
    },
    {
     "data": {
      "text/plain": [
       "'https://www.ted.com/tedx/events?autocomplete_filter=TEDxSeoul&page=1&when=past'"
      ]
     },
     "metadata": {},
     "output_type": "display_data"
    },
    {
     "data": {
      "text/plain": [
       "'https://www.ted.com/tedx/events?autocomplete_filter=TEDxRoyalRoadsU&page=1&when=past'"
      ]
     },
     "metadata": {},
     "output_type": "display_data"
    },
    {
     "data": {
      "text/plain": [
       "'https://www.ted.com/tedx/events?autocomplete_filter=TEDxDar&page=2&when=past'"
      ]
     },
     "metadata": {},
     "output_type": "display_data"
    },
    {
     "data": {
      "text/plain": [
       "'https://www.ted.com/tedx/events?autocomplete_filter=TEDxSeoul&page=2&when=past'"
      ]
     },
     "metadata": {},
     "output_type": "display_data"
    },
    {
     "data": {
      "text/plain": [
       "'https://www.ted.com/tedx/events?autocomplete_filter=TEDxRoyalRoadsU&page=2&when=past'"
      ]
     },
     "metadata": {},
     "output_type": "display_data"
    },
    {
     "data": {
      "text/plain": [
       "'https://www.ted.com/tedx/events?autocomplete_filter=TEDxYouth@Seoul&page=1&when=past'"
      ]
     },
     "metadata": {},
     "output_type": "display_data"
    },
    {
     "data": {
      "text/plain": [
       "'https://www.ted.com/tedx/events?autocomplete_filter=TEDxLIU&page=1&when=past'"
      ]
     },
     "metadata": {},
     "output_type": "display_data"
    },
    {
     "data": {
      "text/plain": [
       "'https://www.ted.com/tedx/events?autocomplete_filter=TEDxWestCork&page=1&when=past'"
      ]
     },
     "metadata": {},
     "output_type": "display_data"
    },
    {
     "data": {
      "text/plain": [
       "'https://www.ted.com/tedx/events?autocomplete_filter=TEDxYouth@Seoul&page=2&when=past'"
      ]
     },
     "metadata": {},
     "output_type": "display_data"
    },
    {
     "data": {
      "text/plain": [
       "'https://www.ted.com/tedx/events?autocomplete_filter=TEDxLIU&page=2&when=past'"
      ]
     },
     "metadata": {},
     "output_type": "display_data"
    },
    {
     "data": {
      "text/plain": [
       "'https://www.ted.com/tedx/events?autocomplete_filter=TEDxWestCork&page=2&when=past'"
      ]
     },
     "metadata": {},
     "output_type": "display_data"
    },
    {
     "data": {
      "text/plain": [
       "'https://www.ted.com/tedx/events?autocomplete_filter=TEDxBOSTON&page=1&when=past'"
      ]
     },
     "metadata": {},
     "output_type": "display_data"
    },
    {
     "data": {
      "text/plain": [
       "'https://www.ted.com/tedx/events?autocomplete_filter=TEDxSonaCollege&page=1&when=past'"
      ]
     },
     "metadata": {},
     "output_type": "display_data"
    },
    {
     "data": {
      "text/plain": [
       "'https://www.ted.com/tedx/events?autocomplete_filter=TEDxNorrmalm&page=1&when=past'"
      ]
     },
     "metadata": {},
     "output_type": "display_data"
    },
    {
     "data": {
      "text/plain": [
       "'https://www.ted.com/tedx/events?autocomplete_filter=TEDxBOSTON&page=2&when=past'"
      ]
     },
     "metadata": {},
     "output_type": "display_data"
    },
    {
     "data": {
      "text/plain": [
       "'https://www.ted.com/tedx/events?autocomplete_filter=TEDxSonaCollege&page=2&when=past'"
      ]
     },
     "metadata": {},
     "output_type": "display_data"
    },
    {
     "data": {
      "text/plain": [
       "'https://www.ted.com/tedx/events?autocomplete_filter=TEDxNorrmalm&page=2&when=past'"
      ]
     },
     "metadata": {},
     "output_type": "display_data"
    },
    {
     "data": {
      "text/plain": [
       "'https://www.ted.com/tedx/events?autocomplete_filter=TEDxBKK&page=1&when=past'"
      ]
     },
     "metadata": {},
     "output_type": "display_data"
    },
    {
     "data": {
      "text/plain": [
       "'https://www.ted.com/tedx/events?autocomplete_filter=TEDxKiruna&page=1&when=past'"
      ]
     },
     "metadata": {},
     "output_type": "display_data"
    },
    {
     "data": {
      "text/plain": [
       "'https://www.ted.com/tedx/events?autocomplete_filter=TEDxSelfDesignHigh&page=1&when=past'"
      ]
     },
     "metadata": {},
     "output_type": "display_data"
    },
    {
     "data": {
      "text/plain": [
       "'https://www.ted.com/tedx/events?autocomplete_filter=TEDxBKK&page=2&when=past'"
      ]
     },
     "metadata": {},
     "output_type": "display_data"
    },
    {
     "data": {
      "text/plain": [
       "'https://www.ted.com/tedx/events?autocomplete_filter=TEDxKiruna&page=2&when=past'"
      ]
     },
     "metadata": {},
     "output_type": "display_data"
    },
    {
     "data": {
      "text/plain": [
       "'https://www.ted.com/tedx/events?autocomplete_filter=TEDxSelfDesignHigh&page=2&when=past'"
      ]
     },
     "metadata": {},
     "output_type": "display_data"
    },
    {
     "data": {
      "text/plain": [
       "'https://www.ted.com/tedx/events?autocomplete_filter=TEDxHomer&page=1&when=past'"
      ]
     },
     "metadata": {},
     "output_type": "display_data"
    },
    {
     "data": {
      "text/plain": [
       "'https://www.ted.com/tedx/events?autocomplete_filter=TEDxTaiz&page=1&when=past'"
      ]
     },
     "metadata": {},
     "output_type": "display_data"
    },
    {
     "data": {
      "text/plain": [
       "'https://www.ted.com/tedx/events?autocomplete_filter=TEDxWorldBankGroup&page=1&when=past'"
      ]
     },
     "metadata": {},
     "output_type": "display_data"
    },
    {
     "data": {
      "text/plain": [
       "'https://www.ted.com/tedx/events?autocomplete_filter=TEDxHomer&page=2&when=past'"
      ]
     },
     "metadata": {},
     "output_type": "display_data"
    },
    {
     "data": {
      "text/plain": [
       "'https://www.ted.com/tedx/events?autocomplete_filter=TEDxTaiz&page=2&when=past'"
      ]
     },
     "metadata": {},
     "output_type": "display_data"
    },
    {
     "data": {
      "text/plain": [
       "'https://www.ted.com/tedx/events?autocomplete_filter=TEDxWorldBankGroup&page=2&when=past'"
      ]
     },
     "metadata": {},
     "output_type": "display_data"
    },
    {
     "data": {
      "text/plain": [
       "'https://www.ted.com/tedx/events?autocomplete_filter=TEDxVNITNagpur&page=1&when=past'"
      ]
     },
     "metadata": {},
     "output_type": "display_data"
    },
    {
     "data": {
      "text/plain": [
       "'https://www.ted.com/tedx/events?autocomplete_filter=TEDxWBG&page=1&when=past'"
      ]
     },
     "metadata": {},
     "output_type": "display_data"
    },
    {
     "data": {
      "text/plain": [
       "'https://www.ted.com/tedx/events?autocomplete_filter=TedxÖresund&page=1&when=past'"
      ]
     },
     "metadata": {},
     "output_type": "display_data"
    },
    {
     "data": {
      "text/plain": [
       "'https://www.ted.com/tedx/events?autocomplete_filter=TEDxVNITNagpur&page=2&when=past'"
      ]
     },
     "metadata": {},
     "output_type": "display_data"
    },
    {
     "data": {
      "text/plain": [
       "'https://www.ted.com/tedx/events?autocomplete_filter=TEDxWBG&page=2&when=past'"
      ]
     },
     "metadata": {},
     "output_type": "display_data"
    },
    {
     "data": {
      "text/plain": [
       "'https://www.ted.com/tedx/events?autocomplete_filter=TedxÖresund&page=2&when=past'"
      ]
     },
     "metadata": {},
     "output_type": "display_data"
    },
    {
     "data": {
      "text/plain": [
       "'https://www.ted.com/tedx/events?autocomplete_filter=TEDxDel&page=1&when=past'"
      ]
     },
     "metadata": {},
     "output_type": "display_data"
    },
    {
     "data": {
      "text/plain": [
       "'https://www.ted.com/tedx/events?autocomplete_filter=TEDxKRP&page=1&when=past'"
      ]
     },
     "metadata": {},
     "output_type": "display_data"
    },
    {
     "data": {
      "text/plain": [
       "'https://www.ted.com/tedx/events?autocomplete_filter=TEDxLansing&page=1&when=past'"
      ]
     },
     "metadata": {},
     "output_type": "display_data"
    },
    {
     "data": {
      "text/plain": [
       "'https://www.ted.com/tedx/events?autocomplete_filter=TEDxKRP&page=2&when=past'"
      ]
     },
     "metadata": {},
     "output_type": "display_data"
    },
    {
     "data": {
      "text/plain": [
       "'https://www.ted.com/tedx/events?autocomplete_filter=TEDxLansing&page=2&when=past'"
      ]
     },
     "metadata": {},
     "output_type": "display_data"
    },
    {
     "data": {
      "text/plain": [
       "'https://www.ted.com/tedx/events?autocomplete_filter=TEDxDel&page=2&when=past'"
      ]
     },
     "metadata": {},
     "output_type": "display_data"
    },
    {
     "data": {
      "text/plain": [
       "'https://www.ted.com/tedx/events?autocomplete_filter=TEDxBIMTECH&page=1&when=past'"
      ]
     },
     "metadata": {},
     "output_type": "display_data"
    },
    {
     "data": {
      "text/plain": [
       "'https://www.ted.com/tedx/events?autocomplete_filter=TEDxCairo&page=1&when=past'"
      ]
     },
     "metadata": {},
     "output_type": "display_data"
    },
    {
     "data": {
      "text/plain": [
       "'https://www.ted.com/tedx/events?autocomplete_filter=TEDxDel&page=3&when=past'"
      ]
     },
     "metadata": {},
     "output_type": "display_data"
    },
    {
     "data": {
      "text/plain": [
       "'https://www.ted.com/tedx/events?autocomplete_filter=TEDxBIMTECH&page=2&when=past'"
      ]
     },
     "metadata": {},
     "output_type": "display_data"
    },
    {
     "data": {
      "text/plain": [
       "'https://www.ted.com/tedx/events?autocomplete_filter=TEDxBrisbane-Richard&page=1&when=past'"
      ]
     },
     "metadata": {},
     "output_type": "display_data"
    },
    {
     "data": {
      "text/plain": [
       "'https://www.ted.com/tedx/events?autocomplete_filter=TEDxPembroke&page=1&when=past'"
      ]
     },
     "metadata": {},
     "output_type": "display_data"
    },
    {
     "data": {
      "text/plain": [
       "'https://www.ted.com/tedx/events?autocomplete_filter=TEDxCairo&page=2&when=past'"
      ]
     },
     "metadata": {},
     "output_type": "display_data"
    },
    {
     "data": {
      "text/plain": [
       "'https://www.ted.com/tedx/events?autocomplete_filter=TEDxNITKurukshetra&page=1&when=past'"
      ]
     },
     "metadata": {},
     "output_type": "display_data"
    },
    {
     "data": {
      "text/plain": [
       "'https://www.ted.com/tedx/events?autocomplete_filter=TEDxEWB&page=1&when=past'"
      ]
     },
     "metadata": {},
     "output_type": "display_data"
    },
    {
     "data": {
      "text/plain": [
       "'https://www.ted.com/tedx/events?autocomplete_filter=TEDxPembroke&page=2&when=past'"
      ]
     },
     "metadata": {},
     "output_type": "display_data"
    },
    {
     "data": {
      "text/plain": [
       "'https://www.ted.com/tedx/events?autocomplete_filter=TEDxNITKurukshetra&page=2&when=past'"
      ]
     },
     "metadata": {},
     "output_type": "display_data"
    },
    {
     "data": {
      "text/plain": [
       "'https://www.ted.com/tedx/events?autocomplete_filter=TEDxYouth@SuzhouSalon&page=1&when=past'"
      ]
     },
     "metadata": {},
     "output_type": "display_data"
    },
    {
     "data": {
      "text/plain": [
       "'https://www.ted.com/tedx/events?autocomplete_filter=TEDxEWB&page=2&when=past'"
      ]
     },
     "metadata": {},
     "output_type": "display_data"
    },
    {
     "data": {
      "text/plain": [
       "'https://www.ted.com/tedx/events?autocomplete_filter=TEDxGITAMUniversity&page=1&when=past'"
      ]
     },
     "metadata": {},
     "output_type": "display_data"
    },
    {
     "data": {
      "text/plain": [
       "'https://www.ted.com/tedx/events?autocomplete_filter=TEDXSydney&page=1&when=past'"
      ]
     },
     "metadata": {},
     "output_type": "display_data"
    },
    {
     "data": {
      "text/plain": [
       "'https://www.ted.com/tedx/events?autocomplete_filter=TEDxYouth@SuzhouSalon&page=2&when=past'"
      ]
     },
     "metadata": {},
     "output_type": "display_data"
    },
    {
     "data": {
      "text/plain": [
       "'https://www.ted.com/tedx/events?autocomplete_filter=TEDxGITAMUniversity&page=2&when=past'"
      ]
     },
     "metadata": {},
     "output_type": "display_data"
    },
    {
     "data": {
      "text/plain": [
       "'https://www.ted.com/tedx/events?autocomplete_filter=TEDXSydney&page=2&when=past'"
      ]
     },
     "metadata": {},
     "output_type": "display_data"
    },
    {
     "data": {
      "text/plain": [
       "'https://www.ted.com/tedx/events?autocomplete_filter=TEDxVaughanWomen&page=1&when=past'"
      ]
     },
     "metadata": {},
     "output_type": "display_data"
    },
    {
     "data": {
      "text/plain": [
       "'https://www.ted.com/tedx/events?autocomplete_filter=TEDxManukauInstituteOfTechnology&page=1&when=past'"
      ]
     },
     "metadata": {},
     "output_type": "display_data"
    },
    {
     "data": {
      "text/plain": [
       "'https://www.ted.com/tedx/events?autocomplete_filter=TEDxManukauInstituteOfTechnology&page=2&when=past'"
      ]
     },
     "metadata": {},
     "output_type": "display_data"
    },
    {
     "data": {
      "text/plain": [
       "'https://www.ted.com/tedx/events?autocomplete_filter=TEDxU.S.EmbassyStockholm&page=1&when=past'"
      ]
     },
     "metadata": {},
     "output_type": "display_data"
    },
    {
     "data": {
      "text/plain": [
       "'https://www.ted.com/tedx/events?autocomplete_filter=TEDxVaughanWomen&page=2&when=past'"
      ]
     },
     "metadata": {},
     "output_type": "display_data"
    },
    {
     "data": {
      "text/plain": [
       "'https://www.ted.com/tedx/events?autocomplete_filter=TEDxConnaughtPlace&page=1&when=past'"
      ]
     },
     "metadata": {},
     "output_type": "display_data"
    },
    {
     "data": {
      "text/plain": [
       "'https://www.ted.com/tedx/events?autocomplete_filter=TEDxPhoenixvilleSalon&page=1&when=past'"
      ]
     },
     "metadata": {},
     "output_type": "display_data"
    },
    {
     "data": {
      "text/plain": [
       "'https://www.ted.com/tedx/events?autocomplete_filter=TEDxFairbanks&page=1&when=past'"
      ]
     },
     "metadata": {},
     "output_type": "display_data"
    },
    {
     "data": {
      "text/plain": [
       "'https://www.ted.com/tedx/events?autocomplete_filter=TEDxConnaughtPlace&page=2&when=past'"
      ]
     },
     "metadata": {},
     "output_type": "display_data"
    },
    {
     "data": {
      "text/plain": [
       "'https://www.ted.com/tedx/events?autocomplete_filter=TEDxSeeds&page=1&when=past'"
      ]
     },
     "metadata": {},
     "output_type": "display_data"
    },
    {
     "data": {
      "text/plain": [
       "'https://www.ted.com/tedx/events?autocomplete_filter=TEDxFairbanks&page=2&when=past'"
      ]
     },
     "metadata": {},
     "output_type": "display_data"
    },
    {
     "data": {
      "text/plain": [
       "'https://www.ted.com/tedx/events?autocomplete_filter=TEDxCIFE&page=1&when=past'"
      ]
     },
     "metadata": {},
     "output_type": "display_data"
    },
    {
     "data": {
      "text/plain": [
       "'https://www.ted.com/tedx/events?autocomplete_filter=TEDxSeeds&page=2&when=past'"
      ]
     },
     "metadata": {},
     "output_type": "display_data"
    },
    {
     "data": {
      "text/plain": [
       "'https://www.ted.com/tedx/events?autocomplete_filter=TEDxReading&page=1&when=past'"
      ]
     },
     "metadata": {},
     "output_type": "display_data"
    },
    {
     "data": {
      "text/plain": [
       "'https://www.ted.com/tedx/events?autocomplete_filter=TEDxCIFE&page=2&when=past'"
      ]
     },
     "metadata": {},
     "output_type": "display_data"
    },
    {
     "data": {
      "text/plain": [
       "'https://www.ted.com/tedx/events?autocomplete_filter=TEDxMälaren&page=1&when=past'"
      ]
     },
     "metadata": {},
     "output_type": "display_data"
    },
    {
     "data": {
      "text/plain": [
       "'https://www.ted.com/tedx/events?autocomplete_filter=TEDxReading&page=2&when=past'"
      ]
     },
     "metadata": {},
     "output_type": "display_data"
    },
    {
     "data": {
      "text/plain": [
       "'https://www.ted.com/tedx/events?autocomplete_filter=TEDxHarambee&page=1&when=past'"
      ]
     },
     "metadata": {},
     "output_type": "display_data"
    },
    {
     "data": {
      "text/plain": [
       "'https://www.ted.com/tedx/events?autocomplete_filter=TEDxMälaren&page=2&when=past'"
      ]
     },
     "metadata": {},
     "output_type": "display_data"
    },
    {
     "data": {
      "text/plain": [
       "'https://www.ted.com/tedx/events?autocomplete_filter=TEDxAmericasFinestCity&page=1&when=past'"
      ]
     },
     "metadata": {},
     "output_type": "display_data"
    },
    {
     "data": {
      "text/plain": [
       "'https://www.ted.com/tedx/events?autocomplete_filter=TEDxHarambee&page=2&when=past'"
      ]
     },
     "metadata": {},
     "output_type": "display_data"
    },
    {
     "data": {
      "text/plain": [
       "'https://www.ted.com/tedx/events?autocomplete_filter=TEDxDenverEd-&page=1&when=past'"
      ]
     },
     "metadata": {},
     "output_type": "display_data"
    },
    {
     "data": {
      "text/plain": [
       "'https://www.ted.com/tedx/events?autocomplete_filter=TEDxSakhir&page=1&when=past'"
      ]
     },
     "metadata": {},
     "output_type": "display_data"
    },
    {
     "data": {
      "text/plain": [
       "'https://www.ted.com/tedx/events?autocomplete_filter=TEDxSB&page=1&when=past'"
      ]
     },
     "metadata": {},
     "output_type": "display_data"
    },
    {
     "data": {
      "text/plain": [
       "'https://www.ted.com/tedx/events?autocomplete_filter=TEDxAmericasFinestCity&page=2&when=past'"
      ]
     },
     "metadata": {},
     "output_type": "display_data"
    },
    {
     "data": {
      "text/plain": [
       "'https://www.ted.com/tedx/events?autocomplete_filter=TEDxSakhir&page=2&when=past'"
      ]
     },
     "metadata": {},
     "output_type": "display_data"
    },
    {
     "data": {
      "text/plain": [
       "'https://www.ted.com/tedx/events?autocomplete_filter=TEDxEchoPark&page=1&when=past'"
      ]
     },
     "metadata": {},
     "output_type": "display_data"
    },
    {
     "data": {
      "text/plain": [
       "'https://www.ted.com/tedx/events?autocomplete_filter=TEDxSB&page=2&when=past'"
      ]
     },
     "metadata": {},
     "output_type": "display_data"
    },
    {
     "data": {
      "text/plain": [
       "'https://www.ted.com/tedx/events?autocomplete_filter=TEDxAaltoUniversity&page=1&when=past'"
      ]
     },
     "metadata": {},
     "output_type": "display_data"
    },
    {
     "data": {
      "text/plain": [
       "'https://www.ted.com/tedx/events?autocomplete_filter=TEDxMunich-&page=1&when=past'"
      ]
     },
     "metadata": {},
     "output_type": "display_data"
    },
    {
     "data": {
      "text/plain": [
       "'https://www.ted.com/tedx/events?autocomplete_filter=TEDxEchoPark&page=2&when=past'"
      ]
     },
     "metadata": {},
     "output_type": "display_data"
    },
    {
     "data": {
      "text/plain": [
       "'https://www.ted.com/tedx/events?autocomplete_filter=TEDxAaltoUniversity&page=2&when=past'"
      ]
     },
     "metadata": {},
     "output_type": "display_data"
    },
    {
     "data": {
      "text/plain": [
       "'https://www.ted.com/tedx/events?autocomplete_filter=TEDxGreatWall&page=1&when=past'"
      ]
     },
     "metadata": {},
     "output_type": "display_data"
    },
    {
     "data": {
      "text/plain": [
       "'https://www.ted.com/tedx/events?autocomplete_filter=TEDxGrd&page=1&when=past'"
      ]
     },
     "metadata": {},
     "output_type": "display_data"
    },
    {
     "data": {
      "text/plain": [
       "'https://www.ted.com/tedx/events?autocomplete_filter=TEDxTodai&page=1&when=past'"
      ]
     },
     "metadata": {},
     "output_type": "display_data"
    },
    {
     "data": {
      "text/plain": [
       "'https://www.ted.com/tedx/events?autocomplete_filter=TEDxGreatWall&page=2&when=past'"
      ]
     },
     "metadata": {},
     "output_type": "display_data"
    },
    {
     "data": {
      "text/plain": [
       "'https://www.ted.com/tedx/events?autocomplete_filter=TEDxGrd&page=2&when=past'"
      ]
     },
     "metadata": {},
     "output_type": "display_data"
    },
    {
     "data": {
      "text/plain": [
       "'https://www.ted.com/tedx/events?autocomplete_filter=TEDxTodai&page=2&when=past'"
      ]
     },
     "metadata": {},
     "output_type": "display_data"
    },
    {
     "data": {
      "text/plain": [
       "'https://www.ted.com/tedx/events?autocomplete_filter=TEDxPalermo&page=1&when=past'"
      ]
     },
     "metadata": {},
     "output_type": "display_data"
    },
    {
     "data": {
      "text/plain": [
       "'https://www.ted.com/tedx/events?autocomplete_filter=TEDxUdeM&page=1&when=past'"
      ]
     },
     "metadata": {},
     "output_type": "display_data"
    },
    {
     "data": {
      "text/plain": [
       "'https://www.ted.com/tedx/events?autocomplete_filter=TEDxMosesBrownSchool&page=1&when=past'"
      ]
     },
     "metadata": {},
     "output_type": "display_data"
    },
    {
     "data": {
      "text/plain": [
       "'https://www.ted.com/tedx/events?autocomplete_filter=TEDxPalermo&page=2&when=past'"
      ]
     },
     "metadata": {},
     "output_type": "display_data"
    },
    {
     "data": {
      "text/plain": [
       "'https://www.ted.com/tedx/events?autocomplete_filter=TEDxUdeM&page=2&when=past'"
      ]
     },
     "metadata": {},
     "output_type": "display_data"
    },
    {
     "data": {
      "text/plain": [
       "'https://www.ted.com/tedx/events?autocomplete_filter=TEDxMosesBrownSchool&page=2&when=past'"
      ]
     },
     "metadata": {},
     "output_type": "display_data"
    },
    {
     "data": {
      "text/plain": [
       "'https://www.ted.com/tedx/events?autocomplete_filter=TEDxKwangwoon&page=1&when=past'"
      ]
     },
     "metadata": {},
     "output_type": "display_data"
    },
    {
     "data": {
      "text/plain": [
       "'https://www.ted.com/tedx/events?autocomplete_filter=TEDxHultBusinessSchoolSF&page=1&when=past'"
      ]
     },
     "metadata": {},
     "output_type": "display_data"
    },
    {
     "data": {
      "text/plain": [
       "'https://www.ted.com/tedx/events?autocomplete_filter=TEDxRio+20&page=1&when=past'"
      ]
     },
     "metadata": {},
     "output_type": "display_data"
    },
    {
     "data": {
      "text/plain": [
       "'https://www.ted.com/tedx/events?autocomplete_filter=TEDxKwangwoon&page=2&when=past'"
      ]
     },
     "metadata": {},
     "output_type": "display_data"
    },
    {
     "data": {
      "text/plain": [
       "'https://www.ted.com/tedx/events?autocomplete_filter=TEDxHultBusinessSchoolSF&page=2&when=past'"
      ]
     },
     "metadata": {},
     "output_type": "display_data"
    },
    {
     "data": {
      "text/plain": [
       "'https://www.ted.com/tedx/events?autocomplete_filter=TEDxOKC&page=1&when=past'"
      ]
     },
     "metadata": {},
     "output_type": "display_data"
    },
    {
     "data": {
      "text/plain": [
       "'https://www.ted.com/tedx/events?autocomplete_filter=TEDxAsheville-&page=1&when=past'"
      ]
     },
     "metadata": {},
     "output_type": "display_data"
    },
    {
     "data": {
      "text/plain": [
       "'https://www.ted.com/tedx/events?autocomplete_filter=TEDxOCADU&page=1&when=past'"
      ]
     },
     "metadata": {},
     "output_type": "display_data"
    },
    {
     "data": {
      "text/plain": [
       "'https://www.ted.com/tedx/events?autocomplete_filter=TEDx@TEDGlobal&page=1&when=past'"
      ]
     },
     "metadata": {},
     "output_type": "display_data"
    },
    {
     "data": {
      "text/plain": [
       "'https://www.ted.com/tedx/events?autocomplete_filter=TEDxOKC&page=2&when=past'"
      ]
     },
     "metadata": {},
     "output_type": "display_data"
    },
    {
     "data": {
      "text/plain": [
       "'https://www.ted.com/tedx/events?autocomplete_filter=TEDxTokyoyz&page=1&when=past'"
      ]
     },
     "metadata": {},
     "output_type": "display_data"
    },
    {
     "data": {
      "text/plain": [
       "'https://www.ted.com/tedx/events?autocomplete_filter=TEDxOCADU&page=2&when=past'"
      ]
     },
     "metadata": {},
     "output_type": "display_data"
    },
    {
     "data": {
      "text/plain": [
       "'https://www.ted.com/tedx/events?autocomplete_filter=TEDxGenevaChange&page=1&when=past'"
      ]
     },
     "metadata": {},
     "output_type": "display_data"
    },
    {
     "data": {
      "text/plain": [
       "'https://www.ted.com/tedx/events?autocomplete_filter=TEDxSTJOHNS&page=1&when=past'"
      ]
     },
     "metadata": {},
     "output_type": "display_data"
    },
    {
     "data": {
      "text/plain": [
       "'https://www.ted.com/tedx/events?autocomplete_filter=TEDxTokyoyz&page=2&when=past'"
      ]
     },
     "metadata": {},
     "output_type": "display_data"
    },
    {
     "data": {
      "text/plain": [
       "'https://www.ted.com/tedx/events?autocomplete_filter=TEDxGenevaChange&page=2&when=past'"
      ]
     },
     "metadata": {},
     "output_type": "display_data"
    },
    {
     "data": {
      "text/plain": [
       "'https://www.ted.com/tedx/events?autocomplete_filter=TEDxSTJOHNS&page=2&when=past'"
      ]
     },
     "metadata": {},
     "output_type": "display_data"
    },
    {
     "data": {
      "text/plain": [
       "'https://www.ted.com/tedx/events?autocomplete_filter=TEDxSão&page=1&when=past'"
      ]
     },
     "metadata": {},
     "output_type": "display_data"
    },
    {
     "data": {
      "text/plain": [
       "'https://www.ted.com/tedx/events?autocomplete_filter=TEDxSIESCASC&page=1&when=past'"
      ]
     },
     "metadata": {},
     "output_type": "display_data"
    },
    {
     "data": {
      "text/plain": [
       "'https://www.ted.com/tedx/events?autocomplete_filter=TEDxVictoriaHarbour&page=1&when=past'"
      ]
     },
     "metadata": {},
     "output_type": "display_data"
    },
    {
     "data": {
      "text/plain": [
       "'https://www.ted.com/tedx/events?autocomplete_filter=TEDxSIESCASC&page=2&when=past'"
      ]
     },
     "metadata": {},
     "output_type": "display_data"
    },
    {
     "data": {
      "text/plain": [
       "'https://www.ted.com/tedx/events?autocomplete_filter=TEDxSão&page=2&when=past'"
      ]
     },
     "metadata": {},
     "output_type": "display_data"
    },
    {
     "data": {
      "text/plain": [
       "'https://www.ted.com/tedx/events?autocomplete_filter=TEDxHelvetia&page=1&when=past'"
      ]
     },
     "metadata": {},
     "output_type": "display_data"
    },
    {
     "data": {
      "text/plain": [
       "'https://www.ted.com/tedx/events?autocomplete_filter=TEDxVictoriaHarbour&page=2&when=past'"
      ]
     },
     "metadata": {},
     "output_type": "display_data"
    },
    {
     "data": {
      "text/plain": [
       "'https://www.ted.com/tedx/events?autocomplete_filter=TEDxMyrtleBeach&page=1&when=past'"
      ]
     },
     "metadata": {},
     "output_type": "display_data"
    },
    {
     "data": {
      "text/plain": [
       "'https://www.ted.com/tedx/events?autocomplete_filter=TEDxMyrtleBeach&page=2&when=past'"
      ]
     },
     "metadata": {},
     "output_type": "display_data"
    },
    {
     "data": {
      "text/plain": [
       "'https://www.ted.com/tedx/events?autocomplete_filter=TEDxChrea&page=1&when=past'"
      ]
     },
     "metadata": {},
     "output_type": "display_data"
    },
    {
     "data": {
      "text/plain": [
       "'https://www.ted.com/tedx/events?autocomplete_filter=TEDxHelvetia&page=2&when=past'"
      ]
     },
     "metadata": {},
     "output_type": "display_data"
    },
    {
     "data": {
      "text/plain": [
       "'https://www.ted.com/tedx/events?autocomplete_filter=TEDxBrisbane-Timothy&page=1&when=past'"
      ]
     },
     "metadata": {},
     "output_type": "display_data"
    },
    {
     "data": {
      "text/plain": [
       "'https://www.ted.com/tedx/events?autocomplete_filter=TEDxHONOLULU&page=1&when=past'"
      ]
     },
     "metadata": {},
     "output_type": "display_data"
    },
    {
     "data": {
      "text/plain": [
       "'https://www.ted.com/tedx/events?autocomplete_filter=TEDxChrea&page=2&when=past'"
      ]
     },
     "metadata": {},
     "output_type": "display_data"
    },
    {
     "data": {
      "text/plain": [
       "'https://www.ted.com/tedx/events?autocomplete_filter=TEDxMountCarmelCollege&page=1&when=past'"
      ]
     },
     "metadata": {},
     "output_type": "display_data"
    },
    {
     "data": {
      "text/plain": [
       "'https://www.ted.com/tedx/events?autocomplete_filter=TEDxMountCarmelCollege&page=2&when=past'"
      ]
     },
     "metadata": {},
     "output_type": "display_data"
    },
    {
     "data": {
      "text/plain": [
       "'https://www.ted.com/tedx/events?autocomplete_filter=TEDxYouth@Ganhito&page=1&when=past'"
      ]
     },
     "metadata": {},
     "output_type": "display_data"
    },
    {
     "data": {
      "text/plain": [
       "'https://www.ted.com/tedx/events?autocomplete_filter=TEDxHONOLULU&page=2&when=past'"
      ]
     },
     "metadata": {},
     "output_type": "display_data"
    },
    {
     "data": {
      "text/plain": [
       "'https://www.ted.com/tedx/events?autocomplete_filter=TEDxAddisSalon&page=1&when=past'"
      ]
     },
     "metadata": {},
     "output_type": "display_data"
    },
    {
     "data": {
      "text/plain": [
       "'https://www.ted.com/tedx/events?autocomplete_filter=TEDxTirupati&page=1&when=past'"
      ]
     },
     "metadata": {},
     "output_type": "display_data"
    },
    {
     "data": {
      "text/plain": [
       "'https://www.ted.com/tedx/events?autocomplete_filter=TEDxYouth@Ganhito&page=2&when=past'"
      ]
     },
     "metadata": {},
     "output_type": "display_data"
    },
    {
     "data": {
      "text/plain": [
       "'https://www.ted.com/tedx/events?autocomplete_filter=TEDxAddisSalon&page=2&when=past'"
      ]
     },
     "metadata": {},
     "output_type": "display_data"
    },
    {
     "data": {
      "text/plain": [
       "'https://www.ted.com/tedx/events?autocomplete_filter=TEDxTirupati&page=2&when=past'"
      ]
     },
     "metadata": {},
     "output_type": "display_data"
    },
    {
     "data": {
      "text/plain": [
       "'https://www.ted.com/tedx/events?autocomplete_filter=TEDxGWU&page=1&when=past'"
      ]
     },
     "metadata": {},
     "output_type": "display_data"
    },
    {
     "data": {
      "text/plain": [
       "'https://www.ted.com/tedx/events?autocomplete_filter=TEDxNewWallStreet&page=1&when=past'"
      ]
     },
     "metadata": {},
     "output_type": "display_data"
    },
    {
     "data": {
      "text/plain": [
       "'https://www.ted.com/tedx/events?autocomplete_filter=TEDxTheAnnexWomen&page=1&when=past'"
      ]
     },
     "metadata": {},
     "output_type": "display_data"
    },
    {
     "data": {
      "text/plain": [
       "'https://www.ted.com/tedx/events?autocomplete_filter=TEDxGWU&page=2&when=past'"
      ]
     },
     "metadata": {},
     "output_type": "display_data"
    },
    {
     "data": {
      "text/plain": [
       "'https://www.ted.com/tedx/events?autocomplete_filter=TEDxNewWallStreet&page=2&when=past'"
      ]
     },
     "metadata": {},
     "output_type": "display_data"
    },
    {
     "data": {
      "text/plain": [
       "'https://www.ted.com/tedx/events?autocomplete_filter=TEDxTheAnnexWomen&page=2&when=past'"
      ]
     },
     "metadata": {},
     "output_type": "display_data"
    },
    {
     "data": {
      "text/plain": [
       "'https://www.ted.com/tedx/events?autocomplete_filter=TEDxDanubia2010&page=1&when=past'"
      ]
     },
     "metadata": {},
     "output_type": "display_data"
    },
    {
     "data": {
      "text/plain": [
       "'https://www.ted.com/tedx/events?autocomplete_filter=TEDxAsylumHill&page=1&when=past'"
      ]
     },
     "metadata": {},
     "output_type": "display_data"
    },
    {
     "data": {
      "text/plain": [
       "'https://www.ted.com/tedx/events?autocomplete_filter=TEDxQujiang&page=1&when=past'"
      ]
     },
     "metadata": {},
     "output_type": "display_data"
    },
    {
     "data": {
      "text/plain": [
       "'https://www.ted.com/tedx/events?autocomplete_filter=TEDxHongKongSalon&page=1&when=past'"
      ]
     },
     "metadata": {},
     "output_type": "display_data"
    },
    {
     "data": {
      "text/plain": [
       "'https://www.ted.com/tedx/events?autocomplete_filter=TEDxAsylumHill&page=2&when=past'"
      ]
     },
     "metadata": {},
     "output_type": "display_data"
    },
    {
     "data": {
      "text/plain": [
       "'https://www.ted.com/tedx/events?autocomplete_filter=TEDxHongKongSalon&page=2&when=past'"
      ]
     },
     "metadata": {},
     "output_type": "display_data"
    },
    {
     "data": {
      "text/plain": [
       "'https://www.ted.com/tedx/events?autocomplete_filter=TEDxQujiang&page=2&when=past'"
      ]
     },
     "metadata": {},
     "output_type": "display_data"
    },
    {
     "data": {
      "text/plain": [
       "'https://www.ted.com/tedx/events?autocomplete_filter=TEDxCCGrammarSchool&page=1&when=past'"
      ]
     },
     "metadata": {},
     "output_type": "display_data"
    },
    {
     "data": {
      "text/plain": [
       "'https://www.ted.com/tedx/events?autocomplete_filter=TEDxGundeldingen&page=1&when=past'"
      ]
     },
     "metadata": {},
     "output_type": "display_data"
    },
    {
     "data": {
      "text/plain": [
       "'https://www.ted.com/tedx/events?autocomplete_filter=TEDxWCC&page=1&when=past'"
      ]
     },
     "metadata": {},
     "output_type": "display_data"
    },
    {
     "data": {
      "text/plain": [
       "'https://www.ted.com/tedx/events?autocomplete_filter=TEDxCCGrammarSchool&page=2&when=past'"
      ]
     },
     "metadata": {},
     "output_type": "display_data"
    },
    {
     "data": {
      "text/plain": [
       "'https://www.ted.com/tedx/events?autocomplete_filter=TEDxGundeldingen&page=2&when=past'"
      ]
     },
     "metadata": {},
     "output_type": "display_data"
    },
    {
     "data": {
      "text/plain": [
       "'https://www.ted.com/tedx/events?autocomplete_filter=TEDxWCC&page=2&when=past'"
      ]
     },
     "metadata": {},
     "output_type": "display_data"
    },
    {
     "data": {
      "text/plain": [
       "'https://www.ted.com/tedx/events?autocomplete_filter=TEDxVALLETTA&page=1&when=past'"
      ]
     },
     "metadata": {},
     "output_type": "display_data"
    },
    {
     "data": {
      "text/plain": [
       "'https://www.ted.com/tedx/events?autocomplete_filter=TEDxRhodesU&page=1&when=past'"
      ]
     },
     "metadata": {},
     "output_type": "display_data"
    },
    {
     "data": {
      "text/plain": [
       "'https://www.ted.com/tedx/events?autocomplete_filter=TEDxBled&page=1&when=past'"
      ]
     },
     "metadata": {},
     "output_type": "display_data"
    },
    {
     "data": {
      "text/plain": [
       "'https://www.ted.com/tedx/events?autocomplete_filter=TEDxVALLETTA&page=2&when=past'"
      ]
     },
     "metadata": {},
     "output_type": "display_data"
    },
    {
     "data": {
      "text/plain": [
       "'https://www.ted.com/tedx/events?autocomplete_filter=TEDxRhodesU&page=2&when=past'"
      ]
     },
     "metadata": {},
     "output_type": "display_data"
    },
    {
     "data": {
      "text/plain": [
       "'https://www.ted.com/tedx/events?autocomplete_filter=TEDxBled&page=2&when=past'"
      ]
     },
     "metadata": {},
     "output_type": "display_data"
    },
    {
     "data": {
      "text/plain": [
       "'https://www.ted.com/tedx/events?autocomplete_filter=TEDxIMINewDelhiLive&page=1&when=past'"
      ]
     },
     "metadata": {},
     "output_type": "display_data"
    },
    {
     "data": {
      "text/plain": [
       "'https://www.ted.com/tedx/events?autocomplete_filter=TEDxBelfastMetropolitanCollege&page=1&when=past'"
      ]
     },
     "metadata": {},
     "output_type": "display_data"
    },
    {
     "data": {
      "text/plain": [
       "'https://www.ted.com/tedx/events?autocomplete_filter=TEDxBMCC&page=1&when=past'"
      ]
     },
     "metadata": {},
     "output_type": "display_data"
    },
    {
     "data": {
      "text/plain": [
       "'https://www.ted.com/tedx/events?autocomplete_filter=TEDxIMINewDelhiLive&page=2&when=past'"
      ]
     },
     "metadata": {},
     "output_type": "display_data"
    },
    {
     "data": {
      "text/plain": [
       "'https://www.ted.com/tedx/events?autocomplete_filter=TEDxBelfastMetropolitanCollege&page=2&when=past'"
      ]
     },
     "metadata": {},
     "output_type": "display_data"
    },
    {
     "data": {
      "text/plain": [
       "'https://www.ted.com/tedx/events?autocomplete_filter=TEDxBMCC&page=2&when=past'"
      ]
     },
     "metadata": {},
     "output_type": "display_data"
    },
    {
     "data": {
      "text/plain": [
       "'https://www.ted.com/tedx/events?autocomplete_filter=TEDxAIU&page=1&when=past'"
      ]
     },
     "metadata": {},
     "output_type": "display_data"
    },
    {
     "data": {
      "text/plain": [
       "'https://www.ted.com/tedx/events?autocomplete_filter=TEDxCentralSaintMartins&page=1&when=past'"
      ]
     },
     "metadata": {},
     "output_type": "display_data"
    },
    {
     "data": {
      "text/plain": [
       "'https://www.ted.com/tedx/events?autocomplete_filter=TEDxWoodsHole&page=1&when=past'"
      ]
     },
     "metadata": {},
     "output_type": "display_data"
    },
    {
     "data": {
      "text/plain": [
       "'https://www.ted.com/tedx/events?autocomplete_filter=TEDxAIU&page=2&when=past'"
      ]
     },
     "metadata": {},
     "output_type": "display_data"
    },
    {
     "data": {
      "text/plain": [
       "'https://www.ted.com/tedx/events?autocomplete_filter=TEDxCentralSaintMartins&page=2&when=past'"
      ]
     },
     "metadata": {},
     "output_type": "display_data"
    },
    {
     "data": {
      "text/plain": [
       "'https://www.ted.com/tedx/events?autocomplete_filter=TEDxWoodsHole&page=2&when=past'"
      ]
     },
     "metadata": {},
     "output_type": "display_data"
    },
    {
     "data": {
      "text/plain": [
       "'https://www.ted.com/tedx/events?autocomplete_filter=TEDxHackensack&page=1&when=past'"
      ]
     },
     "metadata": {},
     "output_type": "display_data"
    },
    {
     "data": {
      "text/plain": [
       "'https://www.ted.com/tedx/events?autocomplete_filter=TEDxYouth@Vaughan&page=1&when=past'"
      ]
     },
     "metadata": {},
     "output_type": "display_data"
    },
    {
     "data": {
      "text/plain": [
       "'https://www.ted.com/tedx/events?autocomplete_filter=TEDxColumbiaEngineeringSchool&page=1&when=past'"
      ]
     },
     "metadata": {},
     "output_type": "display_data"
    },
    {
     "data": {
      "text/plain": [
       "'https://www.ted.com/tedx/events?autocomplete_filter=TEDxHackensack&page=2&when=past'"
      ]
     },
     "metadata": {},
     "output_type": "display_data"
    },
    {
     "data": {
      "text/plain": [
       "'https://www.ted.com/tedx/events?autocomplete_filter=TEDxYouth@Vaughan&page=2&when=past'"
      ]
     },
     "metadata": {},
     "output_type": "display_data"
    },
    {
     "data": {
      "text/plain": [
       "'https://www.ted.com/tedx/events?autocomplete_filter=TEDxColumbiaEngineeringSchool&page=2&when=past'"
      ]
     },
     "metadata": {},
     "output_type": "display_data"
    },
    {
     "data": {
      "text/plain": [
       "'https://www.ted.com/tedx/events?autocomplete_filter=TEDxBROADWAY&page=1&when=past'"
      ]
     },
     "metadata": {},
     "output_type": "display_data"
    },
    {
     "data": {
      "text/plain": [
       "'https://www.ted.com/tedx/events?autocomplete_filter=TEDxKyotoChange&page=1&when=past'"
      ]
     },
     "metadata": {},
     "output_type": "display_data"
    },
    {
     "data": {
      "text/plain": [
       "'https://www.ted.com/tedx/events?autocomplete_filter=TEDxCarouge&page=1&when=past'"
      ]
     },
     "metadata": {},
     "output_type": "display_data"
    },
    {
     "data": {
      "text/plain": [
       "'https://www.ted.com/tedx/events?autocomplete_filter=TEDxBROADWAY&page=2&when=past'"
      ]
     },
     "metadata": {},
     "output_type": "display_data"
    },
    {
     "data": {
      "text/plain": [
       "'https://www.ted.com/tedx/events?autocomplete_filter=TEDxKyotoChange&page=2&when=past'"
      ]
     },
     "metadata": {},
     "output_type": "display_data"
    },
    {
     "data": {
      "text/plain": [
       "'https://www.ted.com/tedx/events?autocomplete_filter=TEDxCarouge&page=2&when=past'"
      ]
     },
     "metadata": {},
     "output_type": "display_data"
    },
    {
     "data": {
      "text/plain": [
       "'https://www.ted.com/tedx/events?autocomplete_filter=TEDxYouth@Bonn&page=1&when=past'"
      ]
     },
     "metadata": {},
     "output_type": "display_data"
    },
    {
     "data": {
      "text/plain": [
       "'https://www.ted.com/tedx/events?autocomplete_filter=TEDxYouth@Taipei&page=1&when=past'"
      ]
     },
     "metadata": {},
     "output_type": "display_data"
    },
    {
     "data": {
      "text/plain": [
       "'https://www.ted.com/tedx/events?autocomplete_filter=TEDxInatel&page=1&when=past'"
      ]
     },
     "metadata": {},
     "output_type": "display_data"
    },
    {
     "data": {
      "text/plain": [
       "'https://www.ted.com/tedx/events?autocomplete_filter=TEDxYouth@Bonn&page=2&when=past'"
      ]
     },
     "metadata": {},
     "output_type": "display_data"
    },
    {
     "data": {
      "text/plain": [
       "'https://www.ted.com/tedx/events?autocomplete_filter=TEDxYouth@Taipei&page=2&when=past'"
      ]
     },
     "metadata": {},
     "output_type": "display_data"
    },
    {
     "data": {
      "text/plain": [
       "'https://www.ted.com/tedx/events?autocomplete_filter=TEDxInatel&page=2&when=past'"
      ]
     },
     "metadata": {},
     "output_type": "display_data"
    },
    {
     "data": {
      "text/plain": [
       "'https://www.ted.com/tedx/events?autocomplete_filter=TEDxWhitehorse&page=1&when=past'"
      ]
     },
     "metadata": {},
     "output_type": "display_data"
    },
    {
     "data": {
      "text/plain": [
       "'https://www.ted.com/tedx/events?autocomplete_filter=TEDxFDV&page=1&when=past'"
      ]
     },
     "metadata": {},
     "output_type": "display_data"
    },
    {
     "data": {
      "text/plain": [
       "'https://www.ted.com/tedx/events?autocomplete_filter=TEDxJardinsWomen&page=1&when=past'"
      ]
     },
     "metadata": {},
     "output_type": "display_data"
    },
    {
     "data": {
      "text/plain": [
       "'https://www.ted.com/tedx/events?autocomplete_filter=TEDxWhitehorse&page=2&when=past'"
      ]
     },
     "metadata": {},
     "output_type": "display_data"
    },
    {
     "data": {
      "text/plain": [
       "'https://www.ted.com/tedx/events?autocomplete_filter=TEDxJardinsWomen&page=2&when=past'"
      ]
     },
     "metadata": {},
     "output_type": "display_data"
    },
    {
     "data": {
      "text/plain": [
       "'https://www.ted.com/tedx/events?autocomplete_filter=TEDxFDV&page=2&when=past'"
      ]
     },
     "metadata": {},
     "output_type": "display_data"
    },
    {
     "data": {
      "text/plain": [
       "'https://www.ted.com/tedx/events?autocomplete_filter=TEDxLongwood&page=1&when=past'"
      ]
     },
     "metadata": {},
     "output_type": "display_data"
    },
    {
     "data": {
      "text/plain": [
       "'https://www.ted.com/tedx/events?autocomplete_filter=TEDxRedMountain&page=1&when=past'"
      ]
     },
     "metadata": {},
     "output_type": "display_data"
    },
    {
     "data": {
      "text/plain": [
       "'https://www.ted.com/tedx/events?autocomplete_filter=TEDxBSEL&page=1&when=past'"
      ]
     },
     "metadata": {},
     "output_type": "display_data"
    },
    {
     "data": {
      "text/plain": [
       "'https://www.ted.com/tedx/events?autocomplete_filter=TEDxLongwood&page=2&when=past'"
      ]
     },
     "metadata": {},
     "output_type": "display_data"
    },
    {
     "data": {
      "text/plain": [
       "'https://www.ted.com/tedx/events?autocomplete_filter=TEDxBSEL&page=2&when=past'"
      ]
     },
     "metadata": {},
     "output_type": "display_data"
    },
    {
     "data": {
      "text/plain": [
       "'https://www.ted.com/tedx/events?autocomplete_filter=TEDxRedMountain&page=2&when=past'"
      ]
     },
     "metadata": {},
     "output_type": "display_data"
    },
    {
     "data": {
      "text/plain": [
       "'https://www.ted.com/tedx/events?autocomplete_filter=TEDxBolton&page=1&when=past'"
      ]
     },
     "metadata": {},
     "output_type": "display_data"
    },
    {
     "data": {
      "text/plain": [
       "'https://www.ted.com/tedx/events?autocomplete_filter=TEDxIIMKozhikode&page=1&when=past'"
      ]
     },
     "metadata": {},
     "output_type": "display_data"
    },
    {
     "data": {
      "text/plain": [
       "'https://www.ted.com/tedx/events?autocomplete_filter=TEDxCollegeoftheCanyons&page=1&when=past'"
      ]
     },
     "metadata": {},
     "output_type": "display_data"
    },
    {
     "data": {
      "text/plain": [
       "'https://www.ted.com/tedx/events?autocomplete_filter=TEDxBolton&page=2&when=past'"
      ]
     },
     "metadata": {},
     "output_type": "display_data"
    },
    {
     "data": {
      "text/plain": [
       "'https://www.ted.com/tedx/events?autocomplete_filter=TEDxIIMKozhikode&page=2&when=past'"
      ]
     },
     "metadata": {},
     "output_type": "display_data"
    },
    {
     "data": {
      "text/plain": [
       "'https://www.ted.com/tedx/events?autocomplete_filter=TEDxCollegeoftheCanyons&page=2&when=past'"
      ]
     },
     "metadata": {},
     "output_type": "display_data"
    },
    {
     "data": {
      "text/plain": [
       "'https://www.ted.com/tedx/events?autocomplete_filter=TEDxYouth@CISFGJalandhar&page=1&when=past'"
      ]
     },
     "metadata": {},
     "output_type": "display_data"
    },
    {
     "data": {
      "text/plain": [
       "'https://www.ted.com/tedx/events?autocomplete_filter=TEDxWorcester&page=1&when=past'"
      ]
     },
     "metadata": {},
     "output_type": "display_data"
    },
    {
     "data": {
      "text/plain": [
       "'https://www.ted.com/tedx/events?autocomplete_filter=TEDxLaurierUniversity&page=1&when=past'"
      ]
     },
     "metadata": {},
     "output_type": "display_data"
    },
    {
     "data": {
      "text/plain": [
       "'https://www.ted.com/tedx/events?autocomplete_filter=TEDxYouth@CISFGJalandhar&page=2&when=past'"
      ]
     },
     "metadata": {},
     "output_type": "display_data"
    },
    {
     "data": {
      "text/plain": [
       "'https://www.ted.com/tedx/events?autocomplete_filter=TEDxWorcester&page=2&when=past'"
      ]
     },
     "metadata": {},
     "output_type": "display_data"
    },
    {
     "data": {
      "text/plain": [
       "'https://www.ted.com/tedx/events?autocomplete_filter=TEDxLaurierUniversity&page=2&when=past'"
      ]
     },
     "metadata": {},
     "output_type": "display_data"
    },
    {
     "data": {
      "text/plain": [
       "'https://www.ted.com/tedx/events?autocomplete_filter=TEDxYesil&page=1&when=past'"
      ]
     },
     "metadata": {},
     "output_type": "display_data"
    },
    {
     "data": {
      "text/plain": [
       "'https://www.ted.com/tedx/events?autocomplete_filter=TEDxPolitechnikaOpolska&page=1&when=past'"
      ]
     },
     "metadata": {},
     "output_type": "display_data"
    },
    {
     "data": {
      "text/plain": [
       "'https://www.ted.com/tedx/events?autocomplete_filter=TEDxTelAvivUniversity&page=1&when=past'"
      ]
     },
     "metadata": {},
     "output_type": "display_data"
    },
    {
     "data": {
      "text/plain": [
       "'https://www.ted.com/tedx/events?autocomplete_filter=TEDxYesil&page=2&when=past'"
      ]
     },
     "metadata": {},
     "output_type": "display_data"
    },
    {
     "data": {
      "text/plain": [
       "'https://www.ted.com/tedx/events?autocomplete_filter=TEDxPolitechnikaOpolska&page=2&when=past'"
      ]
     },
     "metadata": {},
     "output_type": "display_data"
    },
    {
     "data": {
      "text/plain": [
       "'https://www.ted.com/tedx/events?autocomplete_filter=TEDxStirling&page=1&when=past'"
      ]
     },
     "metadata": {},
     "output_type": "display_data"
    },
    {
     "data": {
      "text/plain": [
       "'https://www.ted.com/tedx/events?autocomplete_filter=TEDxTelAvivUniversity&page=2&when=past'"
      ]
     },
     "metadata": {},
     "output_type": "display_data"
    },
    {
     "data": {
      "text/plain": [
       "'https://www.ted.com/tedx/events?autocomplete_filter=TEDxYouth@BridgeStreet&page=1&when=past'"
      ]
     },
     "metadata": {},
     "output_type": "display_data"
    },
    {
     "data": {
      "text/plain": [
       "'https://www.ted.com/tedx/events?autocomplete_filter=TEDxCalicoCanyon&page=1&when=past'"
      ]
     },
     "metadata": {},
     "output_type": "display_data"
    },
    {
     "data": {
      "text/plain": [
       "'https://www.ted.com/tedx/events?autocomplete_filter=TEDxStirling&page=2&when=past'"
      ]
     },
     "metadata": {},
     "output_type": "display_data"
    },
    {
     "data": {
      "text/plain": [
       "'https://www.ted.com/tedx/events?autocomplete_filter=TEDxYouth@BridgeStreet&page=2&when=past'"
      ]
     },
     "metadata": {},
     "output_type": "display_data"
    },
    {
     "data": {
      "text/plain": [
       "'https://www.ted.com/tedx/events?autocomplete_filter=TEDxKowloon&page=1&when=past'"
      ]
     },
     "metadata": {},
     "output_type": "display_data"
    },
    {
     "data": {
      "text/plain": [
       "'https://www.ted.com/tedx/events?autocomplete_filter=TEDxCalicoCanyon&page=2&when=past'"
      ]
     },
     "metadata": {},
     "output_type": "display_data"
    },
    {
     "data": {
      "text/plain": [
       "'https://www.ted.com/tedx/events?autocomplete_filter=TEDxJCUS&page=1&when=past'"
      ]
     },
     "metadata": {},
     "output_type": "display_data"
    },
    {
     "data": {
      "text/plain": [
       "'https://www.ted.com/tedx/events?autocomplete_filter=TEDxKumamotoshi&page=1&when=past'"
      ]
     },
     "metadata": {},
     "output_type": "display_data"
    },
    {
     "data": {
      "text/plain": [
       "'https://www.ted.com/tedx/events?autocomplete_filter=TEDxKowloon&page=2&when=past'"
      ]
     },
     "metadata": {},
     "output_type": "display_data"
    },
    {
     "data": {
      "text/plain": [
       "'https://www.ted.com/tedx/events?autocomplete_filter=TEDxJCUS&page=2&when=past'"
      ]
     },
     "metadata": {},
     "output_type": "display_data"
    },
    {
     "data": {
      "text/plain": [
       "'https://www.ted.com/tedx/events?autocomplete_filter=TEDxKumamotoshi&page=2&when=past'"
      ]
     },
     "metadata": {},
     "output_type": "display_data"
    },
    {
     "data": {
      "text/plain": [
       "'https://www.ted.com/tedx/events?autocomplete_filter=TEDxLoughborough&page=1&when=past'"
      ]
     },
     "metadata": {},
     "output_type": "display_data"
    },
    {
     "data": {
      "text/plain": [
       "'https://www.ted.com/tedx/events?autocomplete_filter=TEDxItaewon&page=1&when=past'"
      ]
     },
     "metadata": {},
     "output_type": "display_data"
    },
    {
     "data": {
      "text/plain": [
       "'https://www.ted.com/tedx/events?autocomplete_filter=TEDxItaewon&page=2&when=past'"
      ]
     },
     "metadata": {},
     "output_type": "display_data"
    },
    {
     "data": {
      "text/plain": [
       "'https://www.ted.com/tedx/events?autocomplete_filter=TEDxCulverCitySalon&page=1&when=past'"
      ]
     },
     "metadata": {},
     "output_type": "display_data"
    },
    {
     "data": {
      "text/plain": [
       "'https://www.ted.com/tedx/events?autocomplete_filter=TEDxLoughborough&page=2&when=past'"
      ]
     },
     "metadata": {},
     "output_type": "display_data"
    },
    {
     "data": {
      "text/plain": [
       "'https://www.ted.com/tedx/events?autocomplete_filter=TEDxHumberCollege&page=1&when=past'"
      ]
     },
     "metadata": {},
     "output_type": "display_data"
    },
    {
     "data": {
      "text/plain": [
       "'https://www.ted.com/tedx/events?autocomplete_filter=TEDxCulverCitySalon&page=2&when=past'"
      ]
     },
     "metadata": {},
     "output_type": "display_data"
    },
    {
     "data": {
      "text/plain": [
       "'https://www.ted.com/tedx/events?autocomplete_filter=TEDxPUCMM&page=1&when=past'"
      ]
     },
     "metadata": {},
     "output_type": "display_data"
    },
    {
     "data": {
      "text/plain": [
       "'https://www.ted.com/tedx/events?autocomplete_filter=TEDxHumberCollege&page=2&when=past'"
      ]
     },
     "metadata": {},
     "output_type": "display_data"
    },
    {
     "data": {
      "text/plain": [
       "'https://www.ted.com/tedx/events?autocomplete_filter=TEDxYouth@CrestAcademy&page=1&when=past'"
      ]
     },
     "metadata": {},
     "output_type": "display_data"
    },
    {
     "data": {
      "text/plain": [
       "'https://www.ted.com/tedx/events?autocomplete_filter=TEDxPUCMM&page=2&when=past'"
      ]
     },
     "metadata": {},
     "output_type": "display_data"
    },
    {
     "data": {
      "text/plain": [
       "'https://www.ted.com/tedx/events?autocomplete_filter=TEDxYouth@HITECCity&page=1&when=past'"
      ]
     },
     "metadata": {},
     "output_type": "display_data"
    },
    {
     "data": {
      "text/plain": [
       "'https://www.ted.com/tedx/events?autocomplete_filter=TEDxSajikGirlsHighSchool&page=1&when=past'"
      ]
     },
     "metadata": {},
     "output_type": "display_data"
    },
    {
     "data": {
      "text/plain": [
       "'https://www.ted.com/tedx/events?autocomplete_filter=TEDxYouth@CrestAcademy&page=2&when=past'"
      ]
     },
     "metadata": {},
     "output_type": "display_data"
    },
    {
     "data": {
      "text/plain": [
       "'https://www.ted.com/tedx/events?autocomplete_filter=TEDxYouth@HITECCity&page=2&when=past'"
      ]
     },
     "metadata": {},
     "output_type": "display_data"
    },
    {
     "data": {
      "text/plain": [
       "'https://www.ted.com/tedx/events?autocomplete_filter=TEDxCarthageWomen&page=1&when=past'"
      ]
     },
     "metadata": {},
     "output_type": "display_data"
    },
    {
     "data": {
      "text/plain": [
       "'https://www.ted.com/tedx/events?autocomplete_filter=TEDxSajikGirlsHighSchool&page=2&when=past'"
      ]
     },
     "metadata": {},
     "output_type": "display_data"
    },
    {
     "data": {
      "text/plain": [
       "'https://www.ted.com/tedx/events?autocomplete_filter=TEDxYouth@StPeterPort&page=1&when=past'"
      ]
     },
     "metadata": {},
     "output_type": "display_data"
    },
    {
     "data": {
      "text/plain": [
       "'https://www.ted.com/tedx/events?autocomplete_filter=TEDxCarthageWomen&page=2&when=past'"
      ]
     },
     "metadata": {},
     "output_type": "display_data"
    },
    {
     "data": {
      "text/plain": [
       "'https://www.ted.com/tedx/events?autocomplete_filter=TEDxUniversityofTehran&page=1&when=past'"
      ]
     },
     "metadata": {},
     "output_type": "display_data"
    },
    {
     "data": {
      "text/plain": [
       "'https://www.ted.com/tedx/events?autocomplete_filter=TEDxYouth@StPeterPort&page=2&when=past'"
      ]
     },
     "metadata": {},
     "output_type": "display_data"
    },
    {
     "data": {
      "text/plain": [
       "'https://www.ted.com/tedx/events?autocomplete_filter=TEDxWashingtonCircle-&page=1&when=past'"
      ]
     },
     "metadata": {},
     "output_type": "display_data"
    },
    {
     "data": {
      "text/plain": [
       "'https://www.ted.com/tedx/events?autocomplete_filter=TEDxUniversityofTehran&page=2&when=past'"
      ]
     },
     "metadata": {},
     "output_type": "display_data"
    },
    {
     "data": {
      "text/plain": [
       "'https://www.ted.com/tedx/events?autocomplete_filter=TEDxCapeTown:&page=1&when=past'"
      ]
     },
     "metadata": {},
     "output_type": "display_data"
    },
    {
     "data": {
      "text/plain": [
       "'https://www.ted.com/tedx/events?autocomplete_filter=TEDxHiriya&page=1&when=past'"
      ]
     },
     "metadata": {},
     "output_type": "display_data"
    },
    {
     "data": {
      "text/plain": [
       "'https://www.ted.com/tedx/events?autocomplete_filter=TEDxYouth@JHS&page=1&when=past'"
      ]
     },
     "metadata": {},
     "output_type": "display_data"
    },
    {
     "data": {
      "text/plain": [
       "'https://www.ted.com/tedx/events?autocomplete_filter=TEDxKisumu&page=1&when=past'"
      ]
     },
     "metadata": {},
     "output_type": "display_data"
    },
    {
     "data": {
      "text/plain": [
       "'https://www.ted.com/tedx/events?autocomplete_filter=TEDxHiriya&page=2&when=past'"
      ]
     },
     "metadata": {},
     "output_type": "display_data"
    },
    {
     "data": {
      "text/plain": [
       "'https://www.ted.com/tedx/events?autocomplete_filter=TEDxYouth@JHS&page=2&when=past'"
      ]
     },
     "metadata": {},
     "output_type": "display_data"
    },
    {
     "data": {
      "text/plain": [
       "'https://www.ted.com/tedx/events?autocomplete_filter=TEDxKisumu&page=2&when=past'"
      ]
     },
     "metadata": {},
     "output_type": "display_data"
    },
    {
     "data": {
      "text/plain": [
       "'https://www.ted.com/tedx/events?autocomplete_filter=TEDxYauzaRiver&page=1&when=past'"
      ]
     },
     "metadata": {},
     "output_type": "display_data"
    },
    {
     "data": {
      "text/plain": [
       "'https://www.ted.com/tedx/events?autocomplete_filter=TEDxGBU&page=1&when=past'"
      ]
     },
     "metadata": {},
     "output_type": "display_data"
    },
    {
     "data": {
      "text/plain": [
       "'https://www.ted.com/tedx/events?autocomplete_filter=TEDxSU&page=1&when=past'"
      ]
     },
     "metadata": {},
     "output_type": "display_data"
    },
    {
     "data": {
      "text/plain": [
       "'https://www.ted.com/tedx/events?autocomplete_filter=TEDxGBU&page=2&when=past'"
      ]
     },
     "metadata": {},
     "output_type": "display_data"
    },
    {
     "data": {
      "text/plain": [
       "'https://www.ted.com/tedx/events?autocomplete_filter=TEDxYauzaRiver&page=2&when=past'"
      ]
     },
     "metadata": {},
     "output_type": "display_data"
    },
    {
     "data": {
      "text/plain": [
       "'https://www.ted.com/tedx/events?autocomplete_filter=TEDxSITM&page=1&when=past'"
      ]
     },
     "metadata": {},
     "output_type": "display_data"
    },
    {
     "data": {
      "text/plain": [
       "'https://www.ted.com/tedx/events?autocomplete_filter=TEDxSU&page=2&when=past'"
      ]
     },
     "metadata": {},
     "output_type": "display_data"
    },
    {
     "data": {
      "text/plain": [
       "'https://www.ted.com/tedx/events?autocomplete_filter=TEDxSNUSuwon&page=1&when=past'"
      ]
     },
     "metadata": {},
     "output_type": "display_data"
    },
    {
     "data": {
      "text/plain": [
       "'https://www.ted.com/tedx/events?autocomplete_filter=TEDxSITM&page=2&when=past'"
      ]
     },
     "metadata": {},
     "output_type": "display_data"
    },
    {
     "data": {
      "text/plain": [
       "'https://www.ted.com/tedx/events?autocomplete_filter=TEDxSNUSuwon&page=2&when=past'"
      ]
     },
     "metadata": {},
     "output_type": "display_data"
    },
    {
     "data": {
      "text/plain": [
       "'https://www.ted.com/tedx/events?autocomplete_filter=TEDxPioneerValley-&page=1&when=past'"
      ]
     },
     "metadata": {},
     "output_type": "display_data"
    },
    {
     "data": {
      "text/plain": [
       "'https://www.ted.com/tedx/events?autocomplete_filter=TEDxSU&page=3&when=past'"
      ]
     },
     "metadata": {},
     "output_type": "display_data"
    },
    {
     "data": {
      "text/plain": [
       "'https://www.ted.com/tedx/events?autocomplete_filter=TEDxEton&page=1&when=past'"
      ]
     },
     "metadata": {},
     "output_type": "display_data"
    },
    {
     "data": {
      "text/plain": [
       "'https://www.ted.com/tedx/events?autocomplete_filter=TEDxYCISHK&page=1&when=past'"
      ]
     },
     "metadata": {},
     "output_type": "display_data"
    },
    {
     "data": {
      "text/plain": [
       "'https://www.ted.com/tedx/events?autocomplete_filter=TEDxEton&page=2&when=past'"
      ]
     },
     "metadata": {},
     "output_type": "display_data"
    },
    {
     "data": {
      "text/plain": [
       "'https://www.ted.com/tedx/events?autocomplete_filter=TEDxBrynMawrCollege&page=1&when=past'"
      ]
     },
     "metadata": {},
     "output_type": "display_data"
    },
    {
     "data": {
      "text/plain": [
       "'https://www.ted.com/tedx/events?autocomplete_filter=TEDxYCISHK&page=2&when=past'"
      ]
     },
     "metadata": {},
     "output_type": "display_data"
    },
    {
     "data": {
      "text/plain": [
       "'https://www.ted.com/tedx/events?autocomplete_filter=TEDxSU&page=4&when=past'"
      ]
     },
     "metadata": {},
     "output_type": "display_data"
    },
    {
     "data": {
      "text/plain": [
       "'https://www.ted.com/tedx/events?autocomplete_filter=TEDxMonga&page=1&when=past'"
      ]
     },
     "metadata": {},
     "output_type": "display_data"
    },
    {
     "data": {
      "text/plain": [
       "'https://www.ted.com/tedx/events?autocomplete_filter=TEDxBrynMawrCollege&page=2&when=past'"
      ]
     },
     "metadata": {},
     "output_type": "display_data"
    },
    {
     "data": {
      "text/plain": [
       "'https://www.ted.com/tedx/events?autocomplete_filter=TEDxSU&page=5&when=past'"
      ]
     },
     "metadata": {},
     "output_type": "display_data"
    },
    {
     "data": {
      "text/plain": [
       "'https://www.ted.com/tedx/events?autocomplete_filter=TEDxMonga&page=2&when=past'"
      ]
     },
     "metadata": {},
     "output_type": "display_data"
    },
    {
     "data": {
      "text/plain": [
       "'https://www.ted.com/tedx/events?autocomplete_filter=TEDxMiraSt&page=1&when=past'"
      ]
     },
     "metadata": {},
     "output_type": "display_data"
    },
    {
     "data": {
      "text/plain": [
       "'https://www.ted.com/tedx/events?autocomplete_filter=TEDxDaedeokValley&page=1&when=past'"
      ]
     },
     "metadata": {},
     "output_type": "display_data"
    },
    {
     "data": {
      "text/plain": [
       "'https://www.ted.com/tedx/events?autocomplete_filter=TEDxUniversityofStirling&page=1&when=past'"
      ]
     },
     "metadata": {},
     "output_type": "display_data"
    },
    {
     "data": {
      "text/plain": [
       "'https://www.ted.com/tedx/events?autocomplete_filter=TEDxMiraSt&page=2&when=past'"
      ]
     },
     "metadata": {},
     "output_type": "display_data"
    },
    {
     "data": {
      "text/plain": [
       "'https://www.ted.com/tedx/events?autocomplete_filter=TEDxDaedeokValley&page=2&when=past'"
      ]
     },
     "metadata": {},
     "output_type": "display_data"
    },
    {
     "data": {
      "text/plain": [
       "'https://www.ted.com/tedx/events?autocomplete_filter=TEDxUniversityofStirling&page=2&when=past'"
      ]
     },
     "metadata": {},
     "output_type": "display_data"
    },
    {
     "data": {
      "text/plain": [
       "'https://www.ted.com/tedx/events?autocomplete_filter=TEDxPortTawfik&page=1&when=past'"
      ]
     },
     "metadata": {},
     "output_type": "display_data"
    },
    {
     "data": {
      "text/plain": [
       "'https://www.ted.com/tedx/events?autocomplete_filter=TEDxBedford&page=1&when=past'"
      ]
     },
     "metadata": {},
     "output_type": "display_data"
    },
    {
     "data": {
      "text/plain": [
       "'https://www.ted.com/tedx/events?autocomplete_filter=TEDxFAU&page=1&when=past'"
      ]
     },
     "metadata": {},
     "output_type": "display_data"
    },
    {
     "data": {
      "text/plain": [
       "'https://www.ted.com/tedx/events?autocomplete_filter=TEDxPortTawfik&page=2&when=past'"
      ]
     },
     "metadata": {},
     "output_type": "display_data"
    },
    {
     "data": {
      "text/plain": [
       "'https://www.ted.com/tedx/events?autocomplete_filter=TEDxFAU&page=2&when=past'"
      ]
     },
     "metadata": {},
     "output_type": "display_data"
    },
    {
     "data": {
      "text/plain": [
       "'https://www.ted.com/tedx/events?autocomplete_filter=TEDxBedford&page=2&when=past'"
      ]
     },
     "metadata": {},
     "output_type": "display_data"
    },
    {
     "data": {
      "text/plain": [
       "'https://www.ted.com/tedx/events?autocomplete_filter=TEDxKids&page=1&when=past'"
      ]
     },
     "metadata": {},
     "output_type": "display_data"
    },
    {
     "data": {
      "text/plain": [
       "'https://www.ted.com/tedx/events?autocomplete_filter=TEDxPhoenixSalon&page=1&when=past'"
      ]
     },
     "metadata": {},
     "output_type": "display_data"
    },
    {
     "data": {
      "text/plain": [
       "'https://www.ted.com/tedx/events?autocomplete_filter=TEDxMDAE&page=1&when=past'"
      ]
     },
     "metadata": {},
     "output_type": "display_data"
    },
    {
     "data": {
      "text/plain": [
       "'https://www.ted.com/tedx/events?autocomplete_filter=TEDxPhoenixSalon&page=2&when=past'"
      ]
     },
     "metadata": {},
     "output_type": "display_data"
    },
    {
     "data": {
      "text/plain": [
       "'https://www.ted.com/tedx/events?autocomplete_filter=TEDxMDAE&page=2&when=past'"
      ]
     },
     "metadata": {},
     "output_type": "display_data"
    },
    {
     "data": {
      "text/plain": [
       "'https://www.ted.com/tedx/events?autocomplete_filter=TEDxKids&page=2&when=past'"
      ]
     },
     "metadata": {},
     "output_type": "display_data"
    },
    {
     "data": {
      "text/plain": [
       "'https://www.ted.com/tedx/events?autocomplete_filter=TEDxPhiladelphiaED&page=1&when=past'"
      ]
     },
     "metadata": {},
     "output_type": "display_data"
    },
    {
     "data": {
      "text/plain": [
       "'https://www.ted.com/tedx/events?autocomplete_filter=TEDxButtePublicLibrary&page=1&when=past'"
      ]
     },
     "metadata": {},
     "output_type": "display_data"
    },
    {
     "data": {
      "text/plain": [
       "'https://www.ted.com/tedx/events?autocomplete_filter=TEDxPhiladelphiaED&page=2&when=past'"
      ]
     },
     "metadata": {},
     "output_type": "display_data"
    },
    {
     "data": {
      "text/plain": [
       "'https://www.ted.com/tedx/events?autocomplete_filter=TEDxButtePublicLibrary&page=2&when=past'"
      ]
     },
     "metadata": {},
     "output_type": "display_data"
    },
    {
     "data": {
      "text/plain": [
       "'https://www.ted.com/tedx/events?autocomplete_filter=TEDxKids&page=3&when=past'"
      ]
     },
     "metadata": {},
     "output_type": "display_data"
    },
    {
     "data": {
      "text/plain": [
       "'https://www.ted.com/tedx/events?autocomplete_filter=TEDxPublicStreet&page=1&when=past'"
      ]
     },
     "metadata": {},
     "output_type": "display_data"
    },
    {
     "data": {
      "text/plain": [
       "'https://www.ted.com/tedx/events?autocomplete_filter=TEDxDrewMiddleSchool&page=1&when=past'"
      ]
     },
     "metadata": {},
     "output_type": "display_data"
    },
    {
     "data": {
      "text/plain": [
       "'https://www.ted.com/tedx/events?autocomplete_filter=TEDxKids&page=4&when=past'"
      ]
     },
     "metadata": {},
     "output_type": "display_data"
    },
    {
     "data": {
      "text/plain": [
       "'https://www.ted.com/tedx/events?autocomplete_filter=TEDxDrewMiddleSchool&page=2&when=past'"
      ]
     },
     "metadata": {},
     "output_type": "display_data"
    },
    {
     "data": {
      "text/plain": [
       "'https://www.ted.com/tedx/events?autocomplete_filter=TEDxYouth@StGeorgesSchool&page=1&when=past'"
      ]
     },
     "metadata": {},
     "output_type": "display_data"
    },
    {
     "data": {
      "text/plain": [
       "'https://www.ted.com/tedx/events?autocomplete_filter=TEDxPublicStreet&page=2&when=past'"
      ]
     },
     "metadata": {},
     "output_type": "display_data"
    },
    {
     "data": {
      "text/plain": [
       "'https://www.ted.com/tedx/events?autocomplete_filter=TEDxMassAveWomen&page=1&when=past'"
      ]
     },
     "metadata": {},
     "output_type": "display_data"
    },
    {
     "data": {
      "text/plain": [
       "'https://www.ted.com/tedx/events?autocomplete_filter=TEDXBlackRockCity&page=1&when=past'"
      ]
     },
     "metadata": {},
     "output_type": "display_data"
    },
    {
     "data": {
      "text/plain": [
       "'https://www.ted.com/tedx/events?autocomplete_filter=TEDxYouth@StGeorgesSchool&page=2&when=past'"
      ]
     },
     "metadata": {},
     "output_type": "display_data"
    },
    {
     "data": {
      "text/plain": [
       "'https://www.ted.com/tedx/events?autocomplete_filter=TEDxMassAveWomen&page=2&when=past'"
      ]
     },
     "metadata": {},
     "output_type": "display_data"
    },
    {
     "data": {
      "text/plain": [
       "'https://www.ted.com/tedx/events?autocomplete_filter=TEDxHIT&page=1&when=past'"
      ]
     },
     "metadata": {},
     "output_type": "display_data"
    },
    {
     "data": {
      "text/plain": [
       "'https://www.ted.com/tedx/events?autocomplete_filter=TEDXBlackRockCity&page=2&when=past'"
      ]
     },
     "metadata": {},
     "output_type": "display_data"
    },
    {
     "data": {
      "text/plain": [
       "'https://www.ted.com/tedx/events?autocomplete_filter=TEDxSNIST&page=1&when=past'"
      ]
     },
     "metadata": {},
     "output_type": "display_data"
    },
    {
     "data": {
      "text/plain": [
       "'https://www.ted.com/tedx/events?autocomplete_filter=TEDxTrentUniversity&page=1&when=past'"
      ]
     },
     "metadata": {},
     "output_type": "display_data"
    },
    {
     "data": {
      "text/plain": [
       "'https://www.ted.com/tedx/events?autocomplete_filter=TEDxHIT&page=2&when=past'"
      ]
     },
     "metadata": {},
     "output_type": "display_data"
    },
    {
     "data": {
      "text/plain": [
       "'https://www.ted.com/tedx/events?autocomplete_filter=TEDxSNIST&page=2&when=past'"
      ]
     },
     "metadata": {},
     "output_type": "display_data"
    },
    {
     "data": {
      "text/plain": [
       "'https://www.ted.com/tedx/events?autocomplete_filter=TEDxKNUSTChange&page=1&when=past'"
      ]
     },
     "metadata": {},
     "output_type": "display_data"
    },
    {
     "data": {
      "text/plain": [
       "'https://www.ted.com/tedx/events?autocomplete_filter=TEDxTrentUniversity&page=2&when=past'"
      ]
     },
     "metadata": {},
     "output_type": "display_data"
    },
    {
     "data": {
      "text/plain": [
       "'https://www.ted.com/tedx/events?autocomplete_filter=TEDxYorkUSalon&page=1&when=past'"
      ]
     },
     "metadata": {},
     "output_type": "display_data"
    },
    {
     "data": {
      "text/plain": [
       "'https://www.ted.com/tedx/events?autocomplete_filter=TEDxKNUSTChange&page=2&when=past'"
      ]
     },
     "metadata": {},
     "output_type": "display_data"
    },
    {
     "data": {
      "text/plain": [
       "'https://www.ted.com/tedx/events?autocomplete_filter=TEDxFactory798&page=1&when=past'"
      ]
     },
     "metadata": {},
     "output_type": "display_data"
    },
    {
     "data": {
      "text/plain": [
       "'https://www.ted.com/tedx/events?autocomplete_filter=TEDxPenafiel&page=1&when=past'"
      ]
     },
     "metadata": {},
     "output_type": "display_data"
    },
    {
     "data": {
      "text/plain": [
       "'https://www.ted.com/tedx/events?autocomplete_filter=TEDxYorkUSalon&page=2&when=past'"
      ]
     },
     "metadata": {},
     "output_type": "display_data"
    },
    {
     "data": {
      "text/plain": [
       "'https://www.ted.com/tedx/events?autocomplete_filter=TEDxFactory798&page=2&when=past'"
      ]
     },
     "metadata": {},
     "output_type": "display_data"
    },
    {
     "data": {
      "text/plain": [
       "'https://www.ted.com/tedx/events?autocomplete_filter=TEDxPenafiel&page=2&when=past'"
      ]
     },
     "metadata": {},
     "output_type": "display_data"
    },
    {
     "data": {
      "text/plain": [
       "'https://www.ted.com/tedx/events?autocomplete_filter=TEDxEvansChurchill&page=1&when=past'"
      ]
     },
     "metadata": {},
     "output_type": "display_data"
    },
    {
     "data": {
      "text/plain": [
       "'https://www.ted.com/tedx/events?autocomplete_filter=TEDxBellville&page=1&when=past'"
      ]
     },
     "metadata": {},
     "output_type": "display_data"
    },
    {
     "data": {
      "text/plain": [
       "'https://www.ted.com/tedx/events?autocomplete_filter=TEDxChelsea:&page=1&when=past'"
      ]
     },
     "metadata": {},
     "output_type": "display_data"
    },
    {
     "data": {
      "text/plain": [
       "'https://www.ted.com/tedx/events?autocomplete_filter=TEDxEvansChurchill&page=2&when=past'"
      ]
     },
     "metadata": {},
     "output_type": "display_data"
    },
    {
     "data": {
      "text/plain": [
       "'https://www.ted.com/tedx/events?autocomplete_filter=TEDxWalledCitySalon&page=1&when=past'"
      ]
     },
     "metadata": {},
     "output_type": "display_data"
    },
    {
     "data": {
      "text/plain": [
       "'https://www.ted.com/tedx/events?autocomplete_filter=TEDxBellville&page=2&when=past'"
      ]
     },
     "metadata": {},
     "output_type": "display_data"
    },
    {
     "data": {
      "text/plain": [
       "'https://www.ted.com/tedx/events?autocomplete_filter=TEDxLoire&page=1&when=past'"
      ]
     },
     "metadata": {},
     "output_type": "display_data"
    },
    {
     "data": {
      "text/plain": [
       "'https://www.ted.com/tedx/events?autocomplete_filter=TEDxBellarmineCollegePreparatory&page=1&when=past'"
      ]
     },
     "metadata": {},
     "output_type": "display_data"
    },
    {
     "data": {
      "text/plain": [
       "'https://www.ted.com/tedx/events?autocomplete_filter=TEDxWalledCitySalon&page=2&when=past'"
      ]
     },
     "metadata": {},
     "output_type": "display_data"
    },
    {
     "data": {
      "text/plain": [
       "'https://www.ted.com/tedx/events?autocomplete_filter=TEDxLoire&page=2&when=past'"
      ]
     },
     "metadata": {},
     "output_type": "display_data"
    },
    {
     "data": {
      "text/plain": [
       "'https://www.ted.com/tedx/events?autocomplete_filter=TEDxBellarmineCollegePreparatory&page=2&when=past'"
      ]
     },
     "metadata": {},
     "output_type": "display_data"
    },
    {
     "data": {
      "text/plain": [
       "'https://www.ted.com/tedx/events?autocomplete_filter=TEDxULAVAL&page=1&when=past'"
      ]
     },
     "metadata": {},
     "output_type": "display_data"
    },
    {
     "data": {
      "text/plain": [
       "'https://www.ted.com/tedx/events?autocomplete_filter=TEDXYOUTH@STJOHNS&page=1&when=past'"
      ]
     },
     "metadata": {},
     "output_type": "display_data"
    },
    {
     "data": {
      "text/plain": [
       "'https://www.ted.com/tedx/events?autocomplete_filter=TEDxBrasilia&page=1&when=past'"
      ]
     },
     "metadata": {},
     "output_type": "display_data"
    },
    {
     "data": {
      "text/plain": [
       "'https://www.ted.com/tedx/events?autocomplete_filter=TEDxULAVAL&page=2&when=past'"
      ]
     },
     "metadata": {},
     "output_type": "display_data"
    },
    {
     "data": {
      "text/plain": [
       "'https://www.ted.com/tedx/events?autocomplete_filter=TEDxOsaka&page=1&when=past'"
      ]
     },
     "metadata": {},
     "output_type": "display_data"
    },
    {
     "data": {
      "text/plain": [
       "'https://www.ted.com/tedx/events?autocomplete_filter=TEDxBrasilia&page=2&when=past'"
      ]
     },
     "metadata": {},
     "output_type": "display_data"
    },
    {
     "data": {
      "text/plain": [
       "'https://www.ted.com/tedx/events?autocomplete_filter=TEDXYOUTH@STJOHNS&page=2&when=past'"
      ]
     },
     "metadata": {},
     "output_type": "display_data"
    },
    {
     "data": {
      "text/plain": [
       "'https://www.ted.com/tedx/events?autocomplete_filter=TEDxEastHampton&page=1&when=past'"
      ]
     },
     "metadata": {},
     "output_type": "display_data"
    },
    {
     "data": {
      "text/plain": [
       "'https://www.ted.com/tedx/events?autocomplete_filter=TEDxRiverTawe&page=1&when=past'"
      ]
     },
     "metadata": {},
     "output_type": "display_data"
    },
    {
     "data": {
      "text/plain": [
       "'https://www.ted.com/tedx/events?autocomplete_filter=TEDxOsaka&page=2&when=past'"
      ]
     },
     "metadata": {},
     "output_type": "display_data"
    },
    {
     "data": {
      "text/plain": [
       "'https://www.ted.com/tedx/events?autocomplete_filter=TEDxEastHampton&page=2&when=past'"
      ]
     },
     "metadata": {},
     "output_type": "display_data"
    },
    {
     "data": {
      "text/plain": [
       "'https://www.ted.com/tedx/events?autocomplete_filter=TEDxRiverTawe&page=2&when=past'"
      ]
     },
     "metadata": {},
     "output_type": "display_data"
    },
    {
     "data": {
      "text/plain": [
       "'https://www.ted.com/tedx/events?autocomplete_filter=TEDxGadong&page=1&when=past'"
      ]
     },
     "metadata": {},
     "output_type": "display_data"
    },
    {
     "data": {
      "text/plain": [
       "'https://www.ted.com/tedx/events?autocomplete_filter=TEDxYouth@Kobe&page=1&when=past'"
      ]
     },
     "metadata": {},
     "output_type": "display_data"
    },
    {
     "data": {
      "text/plain": [
       "'https://www.ted.com/tedx/events?autocomplete_filter=TEDxFargo:&page=1&when=past'"
      ]
     },
     "metadata": {},
     "output_type": "display_data"
    },
    {
     "data": {
      "text/plain": [
       "'https://www.ted.com/tedx/events?autocomplete_filter=TEDxGadong&page=2&when=past'"
      ]
     },
     "metadata": {},
     "output_type": "display_data"
    },
    {
     "data": {
      "text/plain": [
       "'https://www.ted.com/tedx/events?autocomplete_filter=TEDxParamaribo&page=1&when=past'"
      ]
     },
     "metadata": {},
     "output_type": "display_data"
    },
    {
     "data": {
      "text/plain": [
       "'https://www.ted.com/tedx/events?autocomplete_filter=TEDxYouth@Kobe&page=2&when=past'"
      ]
     },
     "metadata": {},
     "output_type": "display_data"
    },
    {
     "data": {
      "text/plain": [
       "'https://www.ted.com/tedx/events?autocomplete_filter=TEDxNASA@SiliconValley&page=1&when=past'"
      ]
     },
     "metadata": {},
     "output_type": "display_data"
    },
    {
     "data": {
      "text/plain": [
       "'https://www.ted.com/tedx/events?autocomplete_filter=TEDxParamaribo&page=2&when=past'"
      ]
     },
     "metadata": {},
     "output_type": "display_data"
    },
    {
     "data": {
      "text/plain": [
       "'https://www.ted.com/tedx/events?autocomplete_filter=TEDxParisUniversités&page=1&when=past'"
      ]
     },
     "metadata": {},
     "output_type": "display_data"
    },
    {
     "data": {
      "text/plain": [
       "'https://www.ted.com/tedx/events?autocomplete_filter=TEDxNASA@SiliconValley&page=2&when=past'"
      ]
     },
     "metadata": {},
     "output_type": "display_data"
    },
    {
     "data": {
      "text/plain": [
       "'https://www.ted.com/tedx/events?autocomplete_filter=TEDxLCSC&page=1&when=past'"
      ]
     },
     "metadata": {},
     "output_type": "display_data"
    },
    {
     "data": {
      "text/plain": [
       "'https://www.ted.com/tedx/events?autocomplete_filter=TEDxParisUniversités&page=2&when=past'"
      ]
     },
     "metadata": {},
     "output_type": "display_data"
    },
    {
     "data": {
      "text/plain": [
       "'https://www.ted.com/tedx/events?autocomplete_filter=TEDxYouth@ChiangMai&page=1&when=past'"
      ]
     },
     "metadata": {},
     "output_type": "display_data"
    },
    {
     "data": {
      "text/plain": [
       "'https://www.ted.com/tedx/events?autocomplete_filter=TEDxLCSC&page=2&when=past'"
      ]
     },
     "metadata": {},
     "output_type": "display_data"
    },
    {
     "data": {
      "text/plain": [
       "'https://www.ted.com/tedx/events?autocomplete_filter=TEDxKhartoum&page=1&when=past'"
      ]
     },
     "metadata": {},
     "output_type": "display_data"
    },
    {
     "data": {
      "text/plain": [
       "'https://www.ted.com/tedx/events?autocomplete_filter=TEDxYouth@ChiangMai&page=2&when=past'"
      ]
     },
     "metadata": {},
     "output_type": "display_data"
    },
    {
     "data": {
      "text/plain": [
       "'https://www.ted.com/tedx/events?autocomplete_filter=TEDxMadtown&page=1&when=past'"
      ]
     },
     "metadata": {},
     "output_type": "display_data"
    },
    {
     "data": {
      "text/plain": [
       "'https://www.ted.com/tedx/events?autocomplete_filter=TEDxKhartoum&page=2&when=past'"
      ]
     },
     "metadata": {},
     "output_type": "display_data"
    },
    {
     "data": {
      "text/plain": [
       "'https://www.ted.com/tedx/events?autocomplete_filter=TEDxHennepinAve&page=1&when=past'"
      ]
     },
     "metadata": {},
     "output_type": "display_data"
    },
    {
     "data": {
      "text/plain": [
       "'https://www.ted.com/tedx/events?autocomplete_filter=TEDxBellevueCollege&page=1&when=past'"
      ]
     },
     "metadata": {},
     "output_type": "display_data"
    },
    {
     "data": {
      "text/plain": [
       "'https://www.ted.com/tedx/events?autocomplete_filter=TEDxMadtown&page=2&when=past'"
      ]
     },
     "metadata": {},
     "output_type": "display_data"
    },
    {
     "data": {
      "text/plain": [
       "'https://www.ted.com/tedx/events?autocomplete_filter=TEDxHennepinAve&page=2&when=past'"
      ]
     },
     "metadata": {},
     "output_type": "display_data"
    },
    {
     "data": {
      "text/plain": [
       "'https://www.ted.com/tedx/events?autocomplete_filter=TEDxAcequiaMadre&page=1&when=past'"
      ]
     },
     "metadata": {},
     "output_type": "display_data"
    },
    {
     "data": {
      "text/plain": [
       "'https://www.ted.com/tedx/events?autocomplete_filter=TEDxBellevueCollege&page=2&when=past'"
      ]
     },
     "metadata": {},
     "output_type": "display_data"
    },
    {
     "data": {
      "text/plain": [
       "'https://www.ted.com/tedx/events?autocomplete_filter=TEDxLex&page=1&when=past'"
      ]
     },
     "metadata": {},
     "output_type": "display_data"
    },
    {
     "data": {
      "text/plain": [
       "'https://www.ted.com/tedx/events?autocomplete_filter=TEDxMFZU&page=1&when=past'"
      ]
     },
     "metadata": {},
     "output_type": "display_data"
    },
    {
     "data": {
      "text/plain": [
       "'https://www.ted.com/tedx/events?autocomplete_filter=TEDxAcequiaMadre&page=2&when=past'"
      ]
     },
     "metadata": {},
     "output_type": "display_data"
    },
    {
     "data": {
      "text/plain": [
       "'https://www.ted.com/tedx/events?autocomplete_filter=TEDxLex&page=2&when=past'"
      ]
     },
     "metadata": {},
     "output_type": "display_data"
    },
    {
     "data": {
      "text/plain": [
       "'https://www.ted.com/tedx/events?autocomplete_filter=TEDxMFZU&page=2&when=past'"
      ]
     },
     "metadata": {},
     "output_type": "display_data"
    },
    {
     "data": {
      "text/plain": [
       "'https://www.ted.com/tedx/events?autocomplete_filter=TEDxJacksonWomen&page=1&when=past'"
      ]
     },
     "metadata": {},
     "output_type": "display_data"
    },
    {
     "data": {
      "text/plain": [
       "'https://www.ted.com/tedx/events?autocomplete_filter=TEDxBishkekWomen&page=1&when=past'"
      ]
     },
     "metadata": {},
     "output_type": "display_data"
    },
    {
     "data": {
      "text/plain": [
       "'https://www.ted.com/tedx/events?autocomplete_filter=TEDxWatertown&page=1&when=past'"
      ]
     },
     "metadata": {},
     "output_type": "display_data"
    },
    {
     "data": {
      "text/plain": [
       "'https://www.ted.com/tedx/events?autocomplete_filter=TEDxJacksonWomen&page=2&when=past'"
      ]
     },
     "metadata": {},
     "output_type": "display_data"
    },
    {
     "data": {
      "text/plain": [
       "'https://www.ted.com/tedx/events?autocomplete_filter=TEDxBishkekWomen&page=2&when=past'"
      ]
     },
     "metadata": {},
     "output_type": "display_data"
    },
    {
     "data": {
      "text/plain": [
       "'https://www.ted.com/tedx/events?autocomplete_filter=TEDxWatertown&page=2&when=past'"
      ]
     },
     "metadata": {},
     "output_type": "display_data"
    },
    {
     "data": {
      "text/plain": [
       "'https://www.ted.com/tedx/events?autocomplete_filter=TEDxHarrisonHighSchool&page=1&when=past'"
      ]
     },
     "metadata": {},
     "output_type": "display_data"
    },
    {
     "data": {
      "text/plain": [
       "'https://www.ted.com/tedx/events?autocomplete_filter=TEDxTSIS&page=1&when=past'"
      ]
     },
     "metadata": {},
     "output_type": "display_data"
    },
    {
     "data": {
      "text/plain": [
       "'https://www.ted.com/tedx/events?autocomplete_filter=TEDXBocaRaton&page=1&when=past'"
      ]
     },
     "metadata": {},
     "output_type": "display_data"
    },
    {
     "data": {
      "text/plain": [
       "'https://www.ted.com/tedx/events?autocomplete_filter=TEDxHarrisonHighSchool&page=2&when=past'"
      ]
     },
     "metadata": {},
     "output_type": "display_data"
    },
    {
     "data": {
      "text/plain": [
       "'https://www.ted.com/tedx/events?autocomplete_filter=TEDxTSIS&page=2&when=past'"
      ]
     },
     "metadata": {},
     "output_type": "display_data"
    },
    {
     "data": {
      "text/plain": [
       "'https://www.ted.com/tedx/events?autocomplete_filter=TEDxYouth@KL&page=1&when=past'"
      ]
     },
     "metadata": {},
     "output_type": "display_data"
    },
    {
     "data": {
      "text/plain": [
       "'https://www.ted.com/tedx/events?autocomplete_filter=TEDxMarkhamPublicLibrary&page=1&when=past'"
      ]
     },
     "metadata": {},
     "output_type": "display_data"
    },
    {
     "data": {
      "text/plain": [
       "'https://www.ted.com/tedx/events?autocomplete_filter=TEDXBocaRaton&page=2&when=past'"
      ]
     },
     "metadata": {},
     "output_type": "display_data"
    },
    {
     "data": {
      "text/plain": [
       "'https://www.ted.com/tedx/events?autocomplete_filter=TEDxYouth@KL&page=2&when=past'"
      ]
     },
     "metadata": {},
     "output_type": "display_data"
    },
    {
     "data": {
      "text/plain": [
       "'https://www.ted.com/tedx/events?autocomplete_filter=TEDxBantian&page=1&when=past'"
      ]
     },
     "metadata": {},
     "output_type": "display_data"
    },
    {
     "data": {
      "text/plain": [
       "'https://www.ted.com/tedx/events?autocomplete_filter=TEDxMarkhamPublicLibrary&page=2&when=past'"
      ]
     },
     "metadata": {},
     "output_type": "display_data"
    },
    {
     "data": {
      "text/plain": [
       "'https://www.ted.com/tedx/events?autocomplete_filter=TEDxYouth@Tomsk&page=1&when=past'"
      ]
     },
     "metadata": {},
     "output_type": "display_data"
    },
    {
     "data": {
      "text/plain": [
       "'https://www.ted.com/tedx/events?autocomplete_filter=TEDxCamposdosGoytacazes&page=1&when=past'"
      ]
     },
     "metadata": {},
     "output_type": "display_data"
    },
    {
     "data": {
      "text/plain": [
       "'https://www.ted.com/tedx/events?autocomplete_filter=TEDxBantian&page=2&when=past'"
      ]
     },
     "metadata": {},
     "output_type": "display_data"
    },
    {
     "data": {
      "text/plain": [
       "'https://www.ted.com/tedx/events?autocomplete_filter=TEDxYouth@Tomsk&page=2&when=past'"
      ]
     },
     "metadata": {},
     "output_type": "display_data"
    },
    {
     "data": {
      "text/plain": [
       "'https://www.ted.com/tedx/events?autocomplete_filter=TEDxHindustanUniversity&page=1&when=past'"
      ]
     },
     "metadata": {},
     "output_type": "display_data"
    },
    {
     "data": {
      "text/plain": [
       "'https://www.ted.com/tedx/events?autocomplete_filter=TEDxCamposdosGoytacazes&page=2&when=past'"
      ]
     },
     "metadata": {},
     "output_type": "display_data"
    },
    {
     "data": {
      "text/plain": [
       "'https://www.ted.com/tedx/events?autocomplete_filter=TEDxPearlRiver&page=1&when=past'"
      ]
     },
     "metadata": {},
     "output_type": "display_data"
    },
    {
     "data": {
      "text/plain": [
       "'https://www.ted.com/tedx/events?autocomplete_filter=TEDxHindustanUniversity&page=2&when=past'"
      ]
     },
     "metadata": {},
     "output_type": "display_data"
    },
    {
     "data": {
      "text/plain": [
       "'https://www.ted.com/tedx/events?autocomplete_filter=TEDxHongkongWomen&page=1&when=past'"
      ]
     },
     "metadata": {},
     "output_type": "display_data"
    },
    {
     "data": {
      "text/plain": [
       "'https://www.ted.com/tedx/events?autocomplete_filter=TEDxPearlRiver&page=2&when=past'"
      ]
     },
     "metadata": {},
     "output_type": "display_data"
    },
    {
     "data": {
      "text/plain": [
       "'https://www.ted.com/tedx/events?autocomplete_filter=TEDxCollegeOfEurope&page=1&when=past'"
      ]
     },
     "metadata": {},
     "output_type": "display_data"
    },
    {
     "data": {
      "text/plain": [
       "'https://www.ted.com/tedx/events?autocomplete_filter=TEDxHongkongWomen&page=2&when=past'"
      ]
     },
     "metadata": {},
     "output_type": "display_data"
    },
    {
     "data": {
      "text/plain": [
       "'https://www.ted.com/tedx/events?autocomplete_filter=TEDxDorking&page=1&when=past'"
      ]
     },
     "metadata": {},
     "output_type": "display_data"
    },
    {
     "data": {
      "text/plain": [
       "'https://www.ted.com/tedx/events?autocomplete_filter=TEDxCollegeOfEurope&page=2&when=past'"
      ]
     },
     "metadata": {},
     "output_type": "display_data"
    },
    {
     "data": {
      "text/plain": [
       "'https://www.ted.com/tedx/events?autocomplete_filter=TEDxWhitehaven&page=1&when=past'"
      ]
     },
     "metadata": {},
     "output_type": "display_data"
    },
    {
     "data": {
      "text/plain": [
       "'https://www.ted.com/tedx/events?autocomplete_filter=TEDxDorking&page=2&when=past'"
      ]
     },
     "metadata": {},
     "output_type": "display_data"
    },
    {
     "data": {
      "text/plain": [
       "'https://www.ted.com/tedx/events?autocomplete_filter=TEDxYouth@Lilongwe&page=1&when=past'"
      ]
     },
     "metadata": {},
     "output_type": "display_data"
    },
    {
     "data": {
      "text/plain": [
       "'https://www.ted.com/tedx/events?autocomplete_filter=TEDxWhitehaven&page=2&when=past'"
      ]
     },
     "metadata": {},
     "output_type": "display_data"
    },
    {
     "data": {
      "text/plain": [
       "'https://www.ted.com/tedx/events?autocomplete_filter=TEDxSalfordChange&page=1&when=past'"
      ]
     },
     "metadata": {},
     "output_type": "display_data"
    },
    {
     "data": {
      "text/plain": [
       "'https://www.ted.com/tedx/events?autocomplete_filter=TEDxYouth@Lilongwe&page=2&when=past'"
      ]
     },
     "metadata": {},
     "output_type": "display_data"
    },
    {
     "data": {
      "text/plain": [
       "'https://www.ted.com/tedx/events?autocomplete_filter=TEDxSaintGeorgesSchool&page=1&when=past'"
      ]
     },
     "metadata": {},
     "output_type": "display_data"
    },
    {
     "data": {
      "text/plain": [
       "'https://www.ted.com/tedx/events?autocomplete_filter=TEDxChelsea&page=1&when=past'"
      ]
     },
     "metadata": {},
     "output_type": "display_data"
    },
    {
     "data": {
      "text/plain": [
       "'https://www.ted.com/tedx/events?autocomplete_filter=TEDxSalfordChange&page=2&when=past'"
      ]
     },
     "metadata": {},
     "output_type": "display_data"
    },
    {
     "data": {
      "text/plain": [
       "'https://www.ted.com/tedx/events?autocomplete_filter=TEDxSaintGeorgesSchool&page=2&when=past'"
      ]
     },
     "metadata": {},
     "output_type": "display_data"
    },
    {
     "data": {
      "text/plain": [
       "'https://www.ted.com/tedx/events?autocomplete_filter=TEDxChelsea&page=2&when=past'"
      ]
     },
     "metadata": {},
     "output_type": "display_data"
    },
    {
     "data": {
      "text/plain": [
       "'https://www.ted.com/tedx/events?autocomplete_filter=TEDxSAIRAM&page=1&when=past'"
      ]
     },
     "metadata": {},
     "output_type": "display_data"
    },
    {
     "data": {
      "text/plain": [
       "'https://www.ted.com/tedx/events?autocomplete_filter=TEDxNASAJSCWomen&page=1&when=past'"
      ]
     },
     "metadata": {},
     "output_type": "display_data"
    },
    {
     "data": {
      "text/plain": [
       "'https://www.ted.com/tedx/events?autocomplete_filter=TEDxFontankaRiver&page=1&when=past'"
      ]
     },
     "metadata": {},
     "output_type": "display_data"
    },
    {
     "data": {
      "text/plain": [
       "'https://www.ted.com/tedx/events?autocomplete_filter=TEDxSAIRAM&page=2&when=past'"
      ]
     },
     "metadata": {},
     "output_type": "display_data"
    },
    {
     "data": {
      "text/plain": [
       "'https://www.ted.com/tedx/events?autocomplete_filter=TEDxNASAJSCWomen&page=2&when=past'"
      ]
     },
     "metadata": {},
     "output_type": "display_data"
    },
    {
     "data": {
      "text/plain": [
       "'https://www.ted.com/tedx/events?autocomplete_filter=TEDxFontankaRiver&page=2&when=past'"
      ]
     },
     "metadata": {},
     "output_type": "display_data"
    },
    {
     "data": {
      "text/plain": [
       "'https://www.ted.com/tedx/events?autocomplete_filter=TEDxIBYork&page=1&when=past'"
      ]
     },
     "metadata": {},
     "output_type": "display_data"
    },
    {
     "data": {
      "text/plain": [
       "'https://www.ted.com/tedx/events?autocomplete_filter=TEDxERMurrowHigh&page=1&when=past'"
      ]
     },
     "metadata": {},
     "output_type": "display_data"
    },
    {
     "data": {
      "text/plain": [
       "'https://www.ted.com/tedx/events?autocomplete_filter=TEDxiACADEMY&page=1&when=past'"
      ]
     },
     "metadata": {},
     "output_type": "display_data"
    },
    {
     "data": {
      "text/plain": [
       "'https://www.ted.com/tedx/events?autocomplete_filter=TEDxERMurrowHigh&page=2&when=past'"
      ]
     },
     "metadata": {},
     "output_type": "display_data"
    },
    {
     "data": {
      "text/plain": [
       "'https://www.ted.com/tedx/events?autocomplete_filter=TEDxMontrealQuartierLatin&page=1&when=past'"
      ]
     },
     "metadata": {},
     "output_type": "display_data"
    },
    {
     "data": {
      "text/plain": [
       "'https://www.ted.com/tedx/events?autocomplete_filter=TEDxSJCBangalore&page=1&when=past'"
      ]
     },
     "metadata": {},
     "output_type": "display_data"
    },
    {
     "data": {
      "text/plain": [
       "'https://www.ted.com/tedx/events?autocomplete_filter=TEDxiACADEMY&page=2&when=past'"
      ]
     },
     "metadata": {},
     "output_type": "display_data"
    },
    {
     "data": {
      "text/plain": [
       "'https://www.ted.com/tedx/events?autocomplete_filter=TEDxMontrealQuartierLatin&page=2&when=past'"
      ]
     },
     "metadata": {},
     "output_type": "display_data"
    },
    {
     "data": {
      "text/plain": [
       "'https://www.ted.com/tedx/events?autocomplete_filter=TEDxSJCBangalore&page=2&when=past'"
      ]
     },
     "metadata": {},
     "output_type": "display_data"
    },
    {
     "data": {
      "text/plain": [
       "'https://www.ted.com/tedx/events?autocomplete_filter=TEDxConejoSalon&page=1&when=past'"
      ]
     },
     "metadata": {},
     "output_type": "display_data"
    },
    {
     "data": {
      "text/plain": [
       "'https://www.ted.com/tedx/events?autocomplete_filter=TEDxDouglas&page=1&when=past'"
      ]
     },
     "metadata": {},
     "output_type": "display_data"
    },
    {
     "data": {
      "text/plain": [
       "'https://www.ted.com/tedx/events?autocomplete_filter=TEDxTUJ&page=1&when=past'"
      ]
     },
     "metadata": {},
     "output_type": "display_data"
    },
    {
     "data": {
      "text/plain": [
       "'https://www.ted.com/tedx/events?autocomplete_filter=TEDxDouglas&page=2&when=past'"
      ]
     },
     "metadata": {},
     "output_type": "display_data"
    },
    {
     "data": {
      "text/plain": [
       "'https://www.ted.com/tedx/events?autocomplete_filter=TEDxConejoSalon&page=2&when=past'"
      ]
     },
     "metadata": {},
     "output_type": "display_data"
    },
    {
     "data": {
      "text/plain": [
       "'https://www.ted.com/tedx/events?autocomplete_filter=TEDxTUJ&page=2&when=past'"
      ]
     },
     "metadata": {},
     "output_type": "display_data"
    },
    {
     "data": {
      "text/plain": [
       "'https://www.ted.com/tedx/events?autocomplete_filter=TEDxTrastevere&page=1&when=past'"
      ]
     },
     "metadata": {},
     "output_type": "display_data"
    },
    {
     "data": {
      "text/plain": [
       "'https://www.ted.com/tedx/events?autocomplete_filter=TEDxTheCalhounSchool&page=1&when=past'"
      ]
     },
     "metadata": {},
     "output_type": "display_data"
    },
    {
     "data": {
      "text/plain": [
       "'https://www.ted.com/tedx/events?autocomplete_filter=TEDxWanChaiSalon&page=1&when=past'"
      ]
     },
     "metadata": {},
     "output_type": "display_data"
    },
    {
     "data": {
      "text/plain": [
       "'https://www.ted.com/tedx/events?autocomplete_filter=TEDxTrastevere&page=2&when=past'"
      ]
     },
     "metadata": {},
     "output_type": "display_data"
    },
    {
     "data": {
      "text/plain": [
       "'https://www.ted.com/tedx/events?autocomplete_filter=TEDxTheCalhounSchool&page=2&when=past'"
      ]
     },
     "metadata": {},
     "output_type": "display_data"
    },
    {
     "data": {
      "text/plain": [
       "'https://www.ted.com/tedx/events?autocomplete_filter=TEDxWanChaiSalon&page=2&when=past'"
      ]
     },
     "metadata": {},
     "output_type": "display_data"
    },
    {
     "data": {
      "text/plain": [
       "'https://www.ted.com/tedx/events?autocomplete_filter=TEDxCiudadDelSaber&page=1&when=past'"
      ]
     },
     "metadata": {},
     "output_type": "display_data"
    },
    {
     "data": {
      "text/plain": [
       "'https://www.ted.com/tedx/events?autocomplete_filter=TEDxManoa&page=1&when=past'"
      ]
     },
     "metadata": {},
     "output_type": "display_data"
    },
    {
     "data": {
      "text/plain": [
       "'https://www.ted.com/tedx/events?autocomplete_filter=TEDxOjaiWomen&page=1&when=past'"
      ]
     },
     "metadata": {},
     "output_type": "display_data"
    },
    {
     "data": {
      "text/plain": [
       "'https://www.ted.com/tedx/events?autocomplete_filter=TEDxCiudadDelSaber&page=2&when=past'"
      ]
     },
     "metadata": {},
     "output_type": "display_data"
    },
    {
     "data": {
      "text/plain": [
       "'https://www.ted.com/tedx/events?autocomplete_filter=TEDxManoa&page=2&when=past'"
      ]
     },
     "metadata": {},
     "output_type": "display_data"
    },
    {
     "data": {
      "text/plain": [
       "'https://www.ted.com/tedx/events?autocomplete_filter=TEDxOjaiWomen&page=2&when=past'"
      ]
     },
     "metadata": {},
     "output_type": "display_data"
    },
    {
     "data": {
      "text/plain": [
       "'https://www.ted.com/tedx/events?autocomplete_filter=TEDxAbertayUniversity&page=1&when=past'"
      ]
     },
     "metadata": {},
     "output_type": "display_data"
    },
    {
     "data": {
      "text/plain": [
       "'https://www.ted.com/tedx/events?autocomplete_filter=TEDxBusan&page=1&when=past'"
      ]
     },
     "metadata": {},
     "output_type": "display_data"
    },
    {
     "data": {
      "text/plain": [
       "'https://www.ted.com/tedx/events?autocomplete_filter=TEDxSVA&page=1&when=past'"
      ]
     },
     "metadata": {},
     "output_type": "display_data"
    },
    {
     "data": {
      "text/plain": [
       "'https://www.ted.com/tedx/events?autocomplete_filter=TEDxAbertayUniversity&page=2&when=past'"
      ]
     },
     "metadata": {},
     "output_type": "display_data"
    },
    {
     "data": {
      "text/plain": [
       "'https://www.ted.com/tedx/events?autocomplete_filter=TEDxSVA&page=2&when=past'"
      ]
     },
     "metadata": {},
     "output_type": "display_data"
    },
    {
     "data": {
      "text/plain": [
       "'https://www.ted.com/tedx/events?autocomplete_filter=TEDxBusan&page=2&when=past'"
      ]
     },
     "metadata": {},
     "output_type": "display_data"
    },
    {
     "data": {
      "text/plain": [
       "'https://www.ted.com/tedx/events?autocomplete_filter=TEDxGalapagos&page=1&when=past'"
      ]
     },
     "metadata": {},
     "output_type": "display_data"
    },
    {
     "data": {
      "text/plain": [
       "'https://www.ted.com/tedx/events?autocomplete_filter=TEDxRockford&page=1&when=past'"
      ]
     },
     "metadata": {},
     "output_type": "display_data"
    },
    {
     "data": {
      "text/plain": [
       "'https://www.ted.com/tedx/events?autocomplete_filter=TEDxNiagaracollege&page=1&when=past'"
      ]
     },
     "metadata": {},
     "output_type": "display_data"
    },
    {
     "data": {
      "text/plain": [
       "'https://www.ted.com/tedx/events?autocomplete_filter=TEDxGalapagos&page=2&when=past'"
      ]
     },
     "metadata": {},
     "output_type": "display_data"
    },
    {
     "data": {
      "text/plain": [
       "'https://www.ted.com/tedx/events?autocomplete_filter=TEDxNiagaracollege&page=2&when=past'"
      ]
     },
     "metadata": {},
     "output_type": "display_data"
    },
    {
     "data": {
      "text/plain": [
       "'https://www.ted.com/tedx/events?autocomplete_filter=TEDxRockford&page=2&when=past'"
      ]
     },
     "metadata": {},
     "output_type": "display_data"
    },
    {
     "data": {
      "text/plain": [
       "'https://www.ted.com/tedx/events?autocomplete_filter=TEDxPearlRiverWomen&page=1&when=past'"
      ]
     },
     "metadata": {},
     "output_type": "display_data"
    },
    {
     "data": {
      "text/plain": [
       "'https://www.ted.com/tedx/events?autocomplete_filter=TEDxForestRidgeSchool&page=1&when=past'"
      ]
     },
     "metadata": {},
     "output_type": "display_data"
    },
    {
     "data": {
      "text/plain": [
       "'https://www.ted.com/tedx/events?autocomplete_filter=TEDxMiami&page=1&when=past'"
      ]
     },
     "metadata": {},
     "output_type": "display_data"
    },
    {
     "data": {
      "text/plain": [
       "'https://www.ted.com/tedx/events?autocomplete_filter=TEDxHagueAcademySalon&page=1&when=past'"
      ]
     },
     "metadata": {},
     "output_type": "display_data"
    },
    {
     "data": {
      "text/plain": [
       "'https://www.ted.com/tedx/events?autocomplete_filter=TEDxHagueAcademySalon&page=2&when=past'"
      ]
     },
     "metadata": {},
     "output_type": "display_data"
    },
    {
     "data": {
      "text/plain": [
       "'https://www.ted.com/tedx/events?autocomplete_filter=TEDxForestRidgeSchool&page=2&when=past'"
      ]
     },
     "metadata": {},
     "output_type": "display_data"
    },
    {
     "data": {
      "text/plain": [
       "'https://www.ted.com/tedx/events?autocomplete_filter=TEDxMiami&page=2&when=past'"
      ]
     },
     "metadata": {},
     "output_type": "display_data"
    },
    {
     "data": {
      "text/plain": [
       "'https://www.ted.com/tedx/events?autocomplete_filter=TEDxLubbock&page=1&when=past'"
      ]
     },
     "metadata": {},
     "output_type": "display_data"
    },
    {
     "data": {
      "text/plain": [
       "'https://www.ted.com/tedx/events?autocomplete_filter=TEDxFloripa&page=1&when=past'"
      ]
     },
     "metadata": {},
     "output_type": "display_data"
    },
    {
     "data": {
      "text/plain": [
       "'https://www.ted.com/tedx/events?autocomplete_filter=TEDxMarianopolisCollege&page=1&when=past'"
      ]
     },
     "metadata": {},
     "output_type": "display_data"
    },
    {
     "data": {
      "text/plain": [
       "'https://www.ted.com/tedx/events?autocomplete_filter=TEDxLubbock&page=2&when=past'"
      ]
     },
     "metadata": {},
     "output_type": "display_data"
    },
    {
     "data": {
      "text/plain": [
       "'https://www.ted.com/tedx/events?autocomplete_filter=TEDxFloripa&page=2&when=past'"
      ]
     },
     "metadata": {},
     "output_type": "display_data"
    },
    {
     "data": {
      "text/plain": [
       "'https://www.ted.com/tedx/events?autocomplete_filter=TEDxMarianopolisCollege&page=2&when=past'"
      ]
     },
     "metadata": {},
     "output_type": "display_data"
    },
    {
     "data": {
      "text/plain": [
       "'https://www.ted.com/tedx/events?autocomplete_filter=TEDxKurchatovaSt&page=1&when=past'"
      ]
     },
     "metadata": {},
     "output_type": "display_data"
    },
    {
     "data": {
      "text/plain": [
       "'https://www.ted.com/tedx/events?autocomplete_filter=TEDxThimphu&page=1&when=past'"
      ]
     },
     "metadata": {},
     "output_type": "display_data"
    },
    {
     "data": {
      "text/plain": [
       "'https://www.ted.com/tedx/events?autocomplete_filter=TEDxSouthbankInternationalSchool&page=1&when=past'"
      ]
     },
     "metadata": {},
     "output_type": "display_data"
    },
    {
     "data": {
      "text/plain": [
       "'https://www.ted.com/tedx/events?autocomplete_filter=TEDxKurchatovaSt&page=2&when=past'"
      ]
     },
     "metadata": {},
     "output_type": "display_data"
    },
    {
     "data": {
      "text/plain": [
       "'https://www.ted.com/tedx/events?autocomplete_filter=TEDxThimphu&page=2&when=past'"
      ]
     },
     "metadata": {},
     "output_type": "display_data"
    },
    {
     "data": {
      "text/plain": [
       "'https://www.ted.com/tedx/events?autocomplete_filter=TEDxSouthbankInternationalSchool&page=2&when=past'"
      ]
     },
     "metadata": {},
     "output_type": "display_data"
    },
    {
     "data": {
      "text/plain": [
       "'https://www.ted.com/tedx/events?autocomplete_filter=TEDxLahug&page=1&when=past'"
      ]
     },
     "metadata": {},
     "output_type": "display_data"
    },
    {
     "data": {
      "text/plain": [
       "'https://www.ted.com/tedx/events?autocomplete_filter=TEDxGRD&page=1&when=past'"
      ]
     },
     "metadata": {},
     "output_type": "display_data"
    },
    {
     "data": {
      "text/plain": [
       "'https://www.ted.com/tedx/events?autocomplete_filter=TEDxMongKok&page=1&when=past'"
      ]
     },
     "metadata": {},
     "output_type": "display_data"
    },
    {
     "data": {
      "text/plain": [
       "'https://www.ted.com/tedx/events?autocomplete_filter=TEDxLahug&page=2&when=past'"
      ]
     },
     "metadata": {},
     "output_type": "display_data"
    },
    {
     "data": {
      "text/plain": [
       "'https://www.ted.com/tedx/events?autocomplete_filter=TEDxMongKok&page=2&when=past'"
      ]
     },
     "metadata": {},
     "output_type": "display_data"
    },
    {
     "data": {
      "text/plain": [
       "'https://www.ted.com/tedx/events?autocomplete_filter=TEDxGRD&page=2&when=past'"
      ]
     },
     "metadata": {},
     "output_type": "display_data"
    },
    {
     "data": {
      "text/plain": [
       "'https://www.ted.com/tedx/events?autocomplete_filter=TEDxNASAJSCWomen.&page=1&when=past'"
      ]
     },
     "metadata": {},
     "output_type": "display_data"
    },
    {
     "data": {
      "text/plain": [
       "'https://www.ted.com/tedx/events?autocomplete_filter=TEDxAlcatraz&page=1&when=past'"
      ]
     },
     "metadata": {},
     "output_type": "display_data"
    },
    {
     "data": {
      "text/plain": [
       "'https://www.ted.com/tedx/events?autocomplete_filter=TEDxSofiaLive&page=1&when=past'"
      ]
     },
     "metadata": {},
     "output_type": "display_data"
    },
    {
     "data": {
      "text/plain": [
       "'https://www.ted.com/tedx/events?autocomplete_filter=TEDxSonghuaRiver&page=1&when=past'"
      ]
     },
     "metadata": {},
     "output_type": "display_data"
    },
    {
     "data": {
      "text/plain": [
       "'https://www.ted.com/tedx/events?autocomplete_filter=TEDxSonghuaRiver&page=2&when=past'"
      ]
     },
     "metadata": {},
     "output_type": "display_data"
    },
    {
     "data": {
      "text/plain": [
       "'https://www.ted.com/tedx/events?autocomplete_filter=TEDxSofiaLive&page=2&when=past'"
      ]
     },
     "metadata": {},
     "output_type": "display_data"
    },
    {
     "data": {
      "text/plain": [
       "'https://www.ted.com/tedx/events?autocomplete_filter=TEDxAlcatraz&page=2&when=past'"
      ]
     },
     "metadata": {},
     "output_type": "display_data"
    },
    {
     "data": {
      "text/plain": [
       "'https://www.ted.com/tedx/events?autocomplete_filter=TEDxHonoluluED&page=1&when=past'"
      ]
     },
     "metadata": {},
     "output_type": "display_data"
    },
    {
     "data": {
      "text/plain": [
       "'https://www.ted.com/tedx/events?autocomplete_filter=TEDxSanJuanCapistrano&page=1&when=past'"
      ]
     },
     "metadata": {},
     "output_type": "display_data"
    },
    {
     "data": {
      "text/plain": [
       "'https://www.ted.com/tedx/events?autocomplete_filter=TEDxGettysburgCollege&page=1&when=past'"
      ]
     },
     "metadata": {},
     "output_type": "display_data"
    },
    {
     "data": {
      "text/plain": [
       "'https://www.ted.com/tedx/events?autocomplete_filter=TEDxGettysburgCollege&page=2&when=past'"
      ]
     },
     "metadata": {},
     "output_type": "display_data"
    },
    {
     "data": {
      "text/plain": [
       "'https://www.ted.com/tedx/events?autocomplete_filter=TEDxHonoluluED&page=2&when=past'"
      ]
     },
     "metadata": {},
     "output_type": "display_data"
    },
    {
     "data": {
      "text/plain": [
       "'https://www.ted.com/tedx/events?autocomplete_filter=TEDxSanJuanCapistrano&page=2&when=past'"
      ]
     },
     "metadata": {},
     "output_type": "display_data"
    },
    {
     "data": {
      "text/plain": [
       "'https://www.ted.com/tedx/events?autocomplete_filter=TEDxRioClaro&page=1&when=past'"
      ]
     },
     "metadata": {},
     "output_type": "display_data"
    },
    {
     "data": {
      "text/plain": [
       "'https://www.ted.com/tedx/events?autocomplete_filter=TEDxGraceStreet&page=1&when=past'"
      ]
     },
     "metadata": {},
     "output_type": "display_data"
    },
    {
     "data": {
      "text/plain": [
       "'https://www.ted.com/tedx/events?autocomplete_filter=TEDxWesternIllinoisUniversity&page=1&when=past'"
      ]
     },
     "metadata": {},
     "output_type": "display_data"
    },
    {
     "data": {
      "text/plain": [
       "'https://www.ted.com/tedx/events?autocomplete_filter=TEDxGraceStreet&page=2&when=past'"
      ]
     },
     "metadata": {},
     "output_type": "display_data"
    },
    {
     "data": {
      "text/plain": [
       "'https://www.ted.com/tedx/events?autocomplete_filter=TEDxRioClaro&page=2&when=past'"
      ]
     },
     "metadata": {},
     "output_type": "display_data"
    },
    {
     "data": {
      "text/plain": [
       "'https://www.ted.com/tedx/events?autocomplete_filter=TEDxWesternIllinoisUniversity&page=2&when=past'"
      ]
     },
     "metadata": {},
     "output_type": "display_data"
    },
    {
     "data": {
      "text/plain": [
       "'https://www.ted.com/tedx/events?autocomplete_filter=TEDxMarquette&page=1&when=past'"
      ]
     },
     "metadata": {},
     "output_type": "display_data"
    },
    {
     "data": {
      "text/plain": [
       "'https://www.ted.com/tedx/events?autocomplete_filter=TEDxKeshavarzBlvd&page=1&when=past'"
      ]
     },
     "metadata": {},
     "output_type": "display_data"
    },
    {
     "data": {
      "text/plain": [
       "'https://www.ted.com/tedx/events?autocomplete_filter=TEDxSeattleUniversity&page=1&when=past'"
      ]
     },
     "metadata": {},
     "output_type": "display_data"
    },
    {
     "data": {
      "text/plain": [
       "'https://www.ted.com/tedx/events?autocomplete_filter=TEDxKeshavarzBlvd&page=2&when=past'"
      ]
     },
     "metadata": {},
     "output_type": "display_data"
    },
    {
     "data": {
      "text/plain": [
       "'https://www.ted.com/tedx/events?autocomplete_filter=TEDxMarquette&page=2&when=past'"
      ]
     },
     "metadata": {},
     "output_type": "display_data"
    },
    {
     "data": {
      "text/plain": [
       "'https://www.ted.com/tedx/events?autocomplete_filter=TEDxSeattleUniversity&page=2&when=past'"
      ]
     },
     "metadata": {},
     "output_type": "display_data"
    },
    {
     "data": {
      "text/plain": [
       "'https://www.ted.com/tedx/events?autocomplete_filter=TEDxManhattanCollege&page=1&when=past'"
      ]
     },
     "metadata": {},
     "output_type": "display_data"
    },
    {
     "data": {
      "text/plain": [
       "'https://www.ted.com/tedx/events?autocomplete_filter=TEDxBathUniveristy&page=1&when=past'"
      ]
     },
     "metadata": {},
     "output_type": "display_data"
    },
    {
     "data": {
      "text/plain": [
       "'https://www.ted.com/tedx/events?autocomplete_filter=TEDxFoCo&page=1&when=past'"
      ]
     },
     "metadata": {},
     "output_type": "display_data"
    },
    {
     "data": {
      "text/plain": [
       "'https://www.ted.com/tedx/events?autocomplete_filter=TEDxManhattanCollege&page=2&when=past'"
      ]
     },
     "metadata": {},
     "output_type": "display_data"
    },
    {
     "data": {
      "text/plain": [
       "'https://www.ted.com/tedx/events?autocomplete_filter=TEDxBathUniveristy&page=2&when=past'"
      ]
     },
     "metadata": {},
     "output_type": "display_data"
    },
    {
     "data": {
      "text/plain": [
       "'https://www.ted.com/tedx/events?autocomplete_filter=TEDxFoCo&page=2&when=past'"
      ]
     },
     "metadata": {},
     "output_type": "display_data"
    },
    {
     "data": {
      "text/plain": [
       "'https://www.ted.com/tedx/events?autocomplete_filter=TEDxAntananarivo&page=1&when=past'"
      ]
     },
     "metadata": {},
     "output_type": "display_data"
    },
    {
     "data": {
      "text/plain": [
       "'https://www.ted.com/tedx/events?autocomplete_filter=TEDxMeredithCollege&page=1&when=past'"
      ]
     },
     "metadata": {},
     "output_type": "display_data"
    },
    {
     "data": {
      "text/plain": [
       "'https://www.ted.com/tedx/events?autocomplete_filter=TEDxSilesianUniversityofTechnology&page=1&when=past'"
      ]
     },
     "metadata": {},
     "output_type": "display_data"
    },
    {
     "data": {
      "text/plain": [
       "'https://www.ted.com/tedx/events?autocomplete_filter=TEDxAntananarivo&page=2&when=past'"
      ]
     },
     "metadata": {},
     "output_type": "display_data"
    },
    {
     "data": {
      "text/plain": [
       "'https://www.ted.com/tedx/events?autocomplete_filter=TEDxMeredithCollege&page=2&when=past'"
      ]
     },
     "metadata": {},
     "output_type": "display_data"
    },
    {
     "data": {
      "text/plain": [
       "'https://www.ted.com/tedx/events?autocomplete_filter=TEDxSilesianUniversityofTechnology&page=2&when=past'"
      ]
     },
     "metadata": {},
     "output_type": "display_data"
    },
    {
     "data": {
      "text/plain": [
       "'https://www.ted.com/tedx/events?autocomplete_filter=TEDxLiberdade&page=1&when=past'"
      ]
     },
     "metadata": {},
     "output_type": "display_data"
    },
    {
     "data": {
      "text/plain": [
       "'https://www.ted.com/tedx/events?autocomplete_filter=TEDxYouth@NIST&page=1&when=past'"
      ]
     },
     "metadata": {},
     "output_type": "display_data"
    },
    {
     "data": {
      "text/plain": [
       "'https://www.ted.com/tedx/events?autocomplete_filter=TEDxHGU&page=1&when=past'"
      ]
     },
     "metadata": {},
     "output_type": "display_data"
    },
    {
     "data": {
      "text/plain": [
       "'https://www.ted.com/tedx/events?autocomplete_filter=TEDxLiberdade&page=2&when=past'"
      ]
     },
     "metadata": {},
     "output_type": "display_data"
    },
    {
     "data": {
      "text/plain": [
       "'https://www.ted.com/tedx/events?autocomplete_filter=TEDxYouth@NIST&page=2&when=past'"
      ]
     },
     "metadata": {},
     "output_type": "display_data"
    },
    {
     "data": {
      "text/plain": [
       "'https://www.ted.com/tedx/events?autocomplete_filter=TEDxHGU&page=2&when=past'"
      ]
     },
     "metadata": {},
     "output_type": "display_data"
    },
    {
     "data": {
      "text/plain": [
       "'https://www.ted.com/tedx/events?autocomplete_filter=TEDxKlaipėda&page=1&when=past'"
      ]
     },
     "metadata": {},
     "output_type": "display_data"
    },
    {
     "data": {
      "text/plain": [
       "'https://www.ted.com/tedx/events?autocomplete_filter=TEDxTrivandrum&page=1&when=past'"
      ]
     },
     "metadata": {},
     "output_type": "display_data"
    },
    {
     "data": {
      "text/plain": [
       "'https://www.ted.com/tedx/events?autocomplete_filter=TEDxSquamish&page=1&when=past'"
      ]
     },
     "metadata": {},
     "output_type": "display_data"
    },
    {
     "data": {
      "text/plain": [
       "'https://www.ted.com/tedx/events?autocomplete_filter=TEDxKlaipėda&page=2&when=past'"
      ]
     },
     "metadata": {},
     "output_type": "display_data"
    },
    {
     "data": {
      "text/plain": [
       "'https://www.ted.com/tedx/events?autocomplete_filter=TEDxTrivandrum&page=2&when=past'"
      ]
     },
     "metadata": {},
     "output_type": "display_data"
    },
    {
     "data": {
      "text/plain": [
       "'https://www.ted.com/tedx/events?autocomplete_filter=TEDxSquamish&page=2&when=past'"
      ]
     },
     "metadata": {},
     "output_type": "display_data"
    },
    {
     "data": {
      "text/plain": [
       "'https://www.ted.com/tedx/events?autocomplete_filter=TEDxTalpiot&page=1&when=past'"
      ]
     },
     "metadata": {},
     "output_type": "display_data"
    },
    {
     "data": {
      "text/plain": [
       "'https://www.ted.com/tedx/events?autocomplete_filter=TEDxTurgenevLibrary&page=1&when=past'"
      ]
     },
     "metadata": {},
     "output_type": "display_data"
    },
    {
     "data": {
      "text/plain": [
       "'https://www.ted.com/tedx/events?autocomplete_filter=TEDxMarunouchiWomen&page=1&when=past'"
      ]
     },
     "metadata": {},
     "output_type": "display_data"
    },
    {
     "data": {
      "text/plain": [
       "'https://www.ted.com/tedx/events?autocomplete_filter=TEDxTalpiot&page=2&when=past'"
      ]
     },
     "metadata": {},
     "output_type": "display_data"
    },
    {
     "data": {
      "text/plain": [
       "'https://www.ted.com/tedx/events?autocomplete_filter=TEDxTurgenevLibrary&page=2&when=past'"
      ]
     },
     "metadata": {},
     "output_type": "display_data"
    },
    {
     "data": {
      "text/plain": [
       "'https://www.ted.com/tedx/events?autocomplete_filter=TEDxMarunouchiWomen&page=2&when=past'"
      ]
     },
     "metadata": {},
     "output_type": "display_data"
    },
    {
     "data": {
      "text/plain": [
       "'https://www.ted.com/tedx/events?autocomplete_filter=TEDxUniversitéDeBordeaux&page=1&when=past'"
      ]
     },
     "metadata": {},
     "output_type": "display_data"
    },
    {
     "data": {
      "text/plain": [
       "'https://www.ted.com/tedx/events?autocomplete_filter=TEDxLIUSanaa&page=1&when=past'"
      ]
     },
     "metadata": {},
     "output_type": "display_data"
    },
    {
     "data": {
      "text/plain": [
       "'https://www.ted.com/tedx/events?autocomplete_filter=TEDxITE&page=1&when=past'"
      ]
     },
     "metadata": {},
     "output_type": "display_data"
    },
    {
     "data": {
      "text/plain": [
       "'https://www.ted.com/tedx/events?autocomplete_filter=TEDxUniversitéDeBordeaux&page=2&when=past'"
      ]
     },
     "metadata": {},
     "output_type": "display_data"
    },
    {
     "data": {
      "text/plain": [
       "'https://www.ted.com/tedx/events?autocomplete_filter=TEDxITE&page=2&when=past'"
      ]
     },
     "metadata": {},
     "output_type": "display_data"
    },
    {
     "data": {
      "text/plain": [
       "'https://www.ted.com/tedx/events?autocomplete_filter=TEDxLIUSanaa&page=2&when=past'"
      ]
     },
     "metadata": {},
     "output_type": "display_data"
    },
    {
     "data": {
      "text/plain": [
       "'https://www.ted.com/tedx/events?autocomplete_filter=TEDxRiverCalder&page=1&when=past'"
      ]
     },
     "metadata": {},
     "output_type": "display_data"
    },
    {
     "data": {
      "text/plain": [
       "'https://www.ted.com/tedx/events?autocomplete_filter=TEDxElsaHighSchool&page=1&when=past'"
      ]
     },
     "metadata": {},
     "output_type": "display_data"
    },
    {
     "data": {
      "text/plain": [
       "'https://www.ted.com/tedx/events?autocomplete_filter=TEDxSetonHall&page=1&when=past'"
      ]
     },
     "metadata": {},
     "output_type": "display_data"
    },
    {
     "data": {
      "text/plain": [
       "'https://www.ted.com/tedx/events?autocomplete_filter=TEDxRiverCalder&page=2&when=past'"
      ]
     },
     "metadata": {},
     "output_type": "display_data"
    },
    {
     "data": {
      "text/plain": [
       "'https://www.ted.com/tedx/events?autocomplete_filter=TEDxElsaHighSchool&page=2&when=past'"
      ]
     },
     "metadata": {},
     "output_type": "display_data"
    },
    {
     "data": {
      "text/plain": [
       "'https://www.ted.com/tedx/events?autocomplete_filter=TEDxSetonHall&page=2&when=past'"
      ]
     },
     "metadata": {},
     "output_type": "display_data"
    },
    {
     "data": {
      "text/plain": [
       "'https://www.ted.com/tedx/events?autocomplete_filter=TEDxVimaranes&page=1&when=past'"
      ]
     },
     "metadata": {},
     "output_type": "display_data"
    },
    {
     "data": {
      "text/plain": [
       "'https://www.ted.com/tedx/events?autocomplete_filter=TEDxYishun&page=1&when=past'"
      ]
     },
     "metadata": {},
     "output_type": "display_data"
    },
    {
     "data": {
      "text/plain": [
       "'https://www.ted.com/tedx/events?autocomplete_filter=TEDxYouth@NileStreet&page=1&when=past'"
      ]
     },
     "metadata": {},
     "output_type": "display_data"
    },
    {
     "data": {
      "text/plain": [
       "'https://www.ted.com/tedx/events?autocomplete_filter=TEDxYishun&page=2&when=past'"
      ]
     },
     "metadata": {},
     "output_type": "display_data"
    },
    {
     "data": {
      "text/plain": [
       "'https://www.ted.com/tedx/events?autocomplete_filter=TEDxYouth@NileStreet&page=2&when=past'"
      ]
     },
     "metadata": {},
     "output_type": "display_data"
    },
    {
     "data": {
      "text/plain": [
       "'https://www.ted.com/tedx/events?autocomplete_filter=TEDxVimaranes&page=2&when=past'"
      ]
     },
     "metadata": {},
     "output_type": "display_data"
    },
    {
     "data": {
      "text/plain": [
       "'https://www.ted.com/tedx/events?autocomplete_filter=TEDxDharamsala&page=1&when=past'"
      ]
     },
     "metadata": {},
     "output_type": "display_data"
    },
    {
     "data": {
      "text/plain": [
       "'https://www.ted.com/tedx/events?autocomplete_filter=TEDxColumbus.&page=1&when=past'"
      ]
     },
     "metadata": {},
     "output_type": "display_data"
    },
    {
     "data": {
      "text/plain": [
       "'https://www.ted.com/tedx/events?autocomplete_filter=TEDxYouth@VJC&page=1&when=past'"
      ]
     },
     "metadata": {},
     "output_type": "display_data"
    },
    {
     "data": {
      "text/plain": [
       "'https://www.ted.com/tedx/events?autocomplete_filter=TEDxDharamsala&page=2&when=past'"
      ]
     },
     "metadata": {},
     "output_type": "display_data"
    },
    {
     "data": {
      "text/plain": [
       "'https://www.ted.com/tedx/events?autocomplete_filter=TEDxWhat&page=1&when=past'"
      ]
     },
     "metadata": {},
     "output_type": "display_data"
    },
    {
     "data": {
      "text/plain": [
       "'https://www.ted.com/tedx/events?autocomplete_filter=TEDxYouth@VJC&page=2&when=past'"
      ]
     },
     "metadata": {},
     "output_type": "display_data"
    },
    {
     "data": {
      "text/plain": [
       "'https://www.ted.com/tedx/events?autocomplete_filter=TEDxGuilfordCollege&page=1&when=past'"
      ]
     },
     "metadata": {},
     "output_type": "display_data"
    },
    {
     "data": {
      "text/plain": [
       "'https://www.ted.com/tedx/events?autocomplete_filter=TEDxHuddersfield&page=1&when=past'"
      ]
     },
     "metadata": {},
     "output_type": "display_data"
    },
    {
     "data": {
      "text/plain": [
       "'https://www.ted.com/tedx/events?autocomplete_filter=TEDxCriciúma&page=1&when=past'"
      ]
     },
     "metadata": {},
     "output_type": "display_data"
    },
    {
     "data": {
      "text/plain": [
       "'https://www.ted.com/tedx/events?autocomplete_filter=TEDxHuddersfield&page=2&when=past'"
      ]
     },
     "metadata": {},
     "output_type": "display_data"
    },
    {
     "data": {
      "text/plain": [
       "'https://www.ted.com/tedx/events?autocomplete_filter=TEDxGuilfordCollege&page=2&when=past'"
      ]
     },
     "metadata": {},
     "output_type": "display_data"
    },
    {
     "data": {
      "text/plain": [
       "'https://www.ted.com/tedx/events?autocomplete_filter=TEDxCriciúma&page=2&when=past'"
      ]
     },
     "metadata": {},
     "output_type": "display_data"
    },
    {
     "data": {
      "text/plain": [
       "'https://www.ted.com/tedx/events?autocomplete_filter=TEDxOZU&page=1&when=past'"
      ]
     },
     "metadata": {},
     "output_type": "display_data"
    },
    {
     "data": {
      "text/plain": [
       "'https://www.ted.com/tedx/events?autocomplete_filter=TEDxOCAD&page=1&when=past'"
      ]
     },
     "metadata": {},
     "output_type": "display_data"
    },
    {
     "data": {
      "text/plain": [
       "'https://www.ted.com/tedx/events?autocomplete_filter=TEDxSophiaU&page=1&when=past'"
      ]
     },
     "metadata": {},
     "output_type": "display_data"
    },
    {
     "data": {
      "text/plain": [
       "'https://www.ted.com/tedx/events?autocomplete_filter=TEDxSophiaU&page=2&when=past'"
      ]
     },
     "metadata": {},
     "output_type": "display_data"
    },
    {
     "data": {
      "text/plain": [
       "'https://www.ted.com/tedx/events?autocomplete_filter=TEDxOZU&page=2&when=past'"
      ]
     },
     "metadata": {},
     "output_type": "display_data"
    },
    {
     "data": {
      "text/plain": [
       "'https://www.ted.com/tedx/events?autocomplete_filter=TEDxOCAD&page=2&when=past'"
      ]
     },
     "metadata": {},
     "output_type": "display_data"
    },
    {
     "data": {
      "text/plain": [
       "'https://www.ted.com/tedx/events?autocomplete_filter=TEDxTunali&page=1&when=past'"
      ]
     },
     "metadata": {},
     "output_type": "display_data"
    },
    {
     "data": {
      "text/plain": [
       "'https://www.ted.com/tedx/events?autocomplete_filter=TEDxDawsonCollege&page=1&when=past'"
      ]
     },
     "metadata": {},
     "output_type": "display_data"
    },
    {
     "data": {
      "text/plain": [
       "'https://www.ted.com/tedx/events?autocomplete_filter=TEDxKUIS&page=1&when=past'"
      ]
     },
     "metadata": {},
     "output_type": "display_data"
    },
    {
     "data": {
      "text/plain": [
       "'https://www.ted.com/tedx/events?autocomplete_filter=TEDxTunali&page=2&when=past'"
      ]
     },
     "metadata": {},
     "output_type": "display_data"
    },
    {
     "data": {
      "text/plain": [
       "'https://www.ted.com/tedx/events?autocomplete_filter=TEDxDawsonCollege&page=2&when=past'"
      ]
     },
     "metadata": {},
     "output_type": "display_data"
    },
    {
     "data": {
      "text/plain": [
       "'https://www.ted.com/tedx/events?autocomplete_filter=TEDxKUIS&page=2&when=past'"
      ]
     },
     "metadata": {},
     "output_type": "display_data"
    },
    {
     "data": {
      "text/plain": [
       "'https://www.ted.com/tedx/events?autocomplete_filter=TEDxJoãoPessoa&page=1&when=past'"
      ]
     },
     "metadata": {},
     "output_type": "display_data"
    },
    {
     "data": {
      "text/plain": [
       "'https://www.ted.com/tedx/events?autocomplete_filter=TEDxLewisburg&page=1&when=past'"
      ]
     },
     "metadata": {},
     "output_type": "display_data"
    },
    {
     "data": {
      "text/plain": [
       "'https://www.ted.com/tedx/events?autocomplete_filter=TEDxUniversitiPutraMalaysia&page=1&when=past'"
      ]
     },
     "metadata": {},
     "output_type": "display_data"
    },
    {
     "data": {
      "text/plain": [
       "'https://www.ted.com/tedx/events?autocomplete_filter=TEDxJoãoPessoa&page=2&when=past'"
      ]
     },
     "metadata": {},
     "output_type": "display_data"
    },
    {
     "data": {
      "text/plain": [
       "'https://www.ted.com/tedx/events?autocomplete_filter=TEDxLewisburg&page=2&when=past'"
      ]
     },
     "metadata": {},
     "output_type": "display_data"
    },
    {
     "data": {
      "text/plain": [
       "'https://www.ted.com/tedx/events?autocomplete_filter=TEDxUniversitiPutraMalaysia&page=2&when=past'"
      ]
     },
     "metadata": {},
     "output_type": "display_data"
    },
    {
     "data": {
      "text/plain": [
       "'https://www.ted.com/tedx/events?autocomplete_filter=TEDxUniversityofArizona&page=1&when=past'"
      ]
     },
     "metadata": {},
     "output_type": "display_data"
    },
    {
     "data": {
      "text/plain": [
       "'https://www.ted.com/tedx/events?autocomplete_filter=TEDxKatipunanAve&page=1&when=past'"
      ]
     },
     "metadata": {},
     "output_type": "display_data"
    },
    {
     "data": {
      "text/plain": [
       "'https://www.ted.com/tedx/events?autocomplete_filter=TEDxBrescia&page=1&when=past'"
      ]
     },
     "metadata": {},
     "output_type": "display_data"
    },
    {
     "data": {
      "text/plain": [
       "'https://www.ted.com/tedx/events?autocomplete_filter=TEDxUniversityofArizona&page=2&when=past'"
      ]
     },
     "metadata": {},
     "output_type": "display_data"
    },
    {
     "data": {
      "text/plain": [
       "'https://www.ted.com/tedx/events?autocomplete_filter=TEDxBrescia&page=2&when=past'"
      ]
     },
     "metadata": {},
     "output_type": "display_data"
    },
    {
     "data": {
      "text/plain": [
       "'https://www.ted.com/tedx/events?autocomplete_filter=TEDxKatipunanAve&page=2&when=past'"
      ]
     },
     "metadata": {},
     "output_type": "display_data"
    },
    {
     "data": {
      "text/plain": [
       "'https://www.ted.com/tedx/events?autocomplete_filter=TEDxUoN&page=1&when=past'"
      ]
     },
     "metadata": {},
     "output_type": "display_data"
    },
    {
     "data": {
      "text/plain": [
       "'https://www.ted.com/tedx/events?autocomplete_filter=TEDxNovaGorica&page=1&when=past'"
      ]
     },
     "metadata": {},
     "output_type": "display_data"
    },
    {
     "data": {
      "text/plain": [
       "'https://www.ted.com/tedx/events?autocomplete_filter=TEDxHIU&page=1&when=past'"
      ]
     },
     "metadata": {},
     "output_type": "display_data"
    },
    {
     "data": {
      "text/plain": [
       "'https://www.ted.com/tedx/events?autocomplete_filter=TEDxUoN&page=2&when=past'"
      ]
     },
     "metadata": {},
     "output_type": "display_data"
    },
    {
     "data": {
      "text/plain": [
       "'https://www.ted.com/tedx/events?autocomplete_filter=TEDxHIU&page=2&when=past'"
      ]
     },
     "metadata": {},
     "output_type": "display_data"
    },
    {
     "data": {
      "text/plain": [
       "'https://www.ted.com/tedx/events?autocomplete_filter=TEDxNovaGorica&page=2&when=past'"
      ]
     },
     "metadata": {},
     "output_type": "display_data"
    },
    {
     "data": {
      "text/plain": [
       "'https://www.ted.com/tedx/events?autocomplete_filter=TEDxCincinnatiChange&page=1&when=past'"
      ]
     },
     "metadata": {},
     "output_type": "display_data"
    },
    {
     "data": {
      "text/plain": [
       "'https://www.ted.com/tedx/events?autocomplete_filter=TEDxDeiraWomen&page=1&when=past'"
      ]
     },
     "metadata": {},
     "output_type": "display_data"
    },
    {
     "data": {
      "text/plain": [
       "'https://www.ted.com/tedx/events?autocomplete_filter=TEDxKibbutzimCollegeofEducation&page=1&when=past'"
      ]
     },
     "metadata": {},
     "output_type": "display_data"
    },
    {
     "data": {
      "text/plain": [
       "'https://www.ted.com/tedx/events?autocomplete_filter=TEDxCincinnatiChange&page=2&when=past'"
      ]
     },
     "metadata": {},
     "output_type": "display_data"
    },
    {
     "data": {
      "text/plain": [
       "'https://www.ted.com/tedx/events?autocomplete_filter=TEDxDeiraWomen&page=2&when=past'"
      ]
     },
     "metadata": {},
     "output_type": "display_data"
    },
    {
     "data": {
      "text/plain": [
       "'https://www.ted.com/tedx/events?autocomplete_filter=TEDxUSJR&page=1&when=past'"
      ]
     },
     "metadata": {},
     "output_type": "display_data"
    },
    {
     "data": {
      "text/plain": [
       "'https://www.ted.com/tedx/events?autocomplete_filter=TEDxKibbutzimCollegeofEducation&page=2&when=past'"
      ]
     },
     "metadata": {},
     "output_type": "display_data"
    },
    {
     "data": {
      "text/plain": [
       "'https://www.ted.com/tedx/events?autocomplete_filter=TEDxOverlake&page=1&when=past'"
      ]
     },
     "metadata": {},
     "output_type": "display_data"
    },
    {
     "data": {
      "text/plain": [
       "'https://www.ted.com/tedx/events?autocomplete_filter=TEDxtalk&page=1&when=past'"
      ]
     },
     "metadata": {},
     "output_type": "display_data"
    },
    {
     "data": {
      "text/plain": [
       "'https://www.ted.com/tedx/events?autocomplete_filter=TEDxUSJR&page=2&when=past'"
      ]
     },
     "metadata": {},
     "output_type": "display_data"
    },
    {
     "data": {
      "text/plain": [
       "'https://www.ted.com/tedx/events?autocomplete_filter=TEDxWeldQuay&page=1&when=past'"
      ]
     },
     "metadata": {},
     "output_type": "display_data"
    },
    {
     "data": {
      "text/plain": [
       "'https://www.ted.com/tedx/events?autocomplete_filter=TEDxOverlake&page=2&when=past'"
      ]
     },
     "metadata": {},
     "output_type": "display_data"
    },
    {
     "data": {
      "text/plain": [
       "'https://www.ted.com/tedx/events?autocomplete_filter=TEDxUnicamp&page=1&when=past'"
      ]
     },
     "metadata": {},
     "output_type": "display_data"
    },
    {
     "data": {
      "text/plain": [
       "'https://www.ted.com/tedx/events?autocomplete_filter=TEDxTokyo2014&page=1&when=past'"
      ]
     },
     "metadata": {},
     "output_type": "display_data"
    },
    {
     "data": {
      "text/plain": [
       "'https://www.ted.com/tedx/events?autocomplete_filter=TEDxWeldQuay&page=2&when=past'"
      ]
     },
     "metadata": {},
     "output_type": "display_data"
    },
    {
     "data": {
      "text/plain": [
       "'https://www.ted.com/tedx/events?autocomplete_filter=TEDxUnicamp&page=2&when=past'"
      ]
     },
     "metadata": {},
     "output_type": "display_data"
    },
    {
     "data": {
      "text/plain": [
       "'https://www.ted.com/tedx/events?autocomplete_filter=TEDxEdenHighSchool&page=1&when=past'"
      ]
     },
     "metadata": {},
     "output_type": "display_data"
    },
    {
     "data": {
      "text/plain": [
       "'https://www.ted.com/tedx/events?autocomplete_filter=TEDxAlmogran&page=1&when=past'"
      ]
     },
     "metadata": {},
     "output_type": "display_data"
    },
    {
     "data": {
      "text/plain": [
       "'https://www.ted.com/tedx/events?autocomplete_filter=TEDxVilaMada&page=1&when=past'"
      ]
     },
     "metadata": {},
     "output_type": "display_data"
    },
    {
     "data": {
      "text/plain": [
       "'https://www.ted.com/tedx/events?autocomplete_filter=TEDxEdenHighSchool&page=2&when=past'"
      ]
     },
     "metadata": {},
     "output_type": "display_data"
    },
    {
     "data": {
      "text/plain": [
       "'https://www.ted.com/tedx/events?autocomplete_filter=TEDxAlmogran&page=2&when=past'"
      ]
     },
     "metadata": {},
     "output_type": "display_data"
    },
    {
     "data": {
      "text/plain": [
       "'https://www.ted.com/tedx/events?autocomplete_filter=TEDxVilaMada&page=2&when=past'"
      ]
     },
     "metadata": {},
     "output_type": "display_data"
    },
    {
     "data": {
      "text/plain": [
       "'https://www.ted.com/tedx/events?autocomplete_filter=TEDxCanonDriveWomen&page=1&when=past'"
      ]
     },
     "metadata": {},
     "output_type": "display_data"
    },
    {
     "data": {
      "text/plain": [
       "'https://www.ted.com/tedx/events?autocomplete_filter=TEDxSeaPoint&page=1&when=past'"
      ]
     },
     "metadata": {},
     "output_type": "display_data"
    },
    {
     "data": {
      "text/plain": [
       "'https://www.ted.com/tedx/events?autocomplete_filter=TEDxPotyomkinskaSt&page=1&when=past'"
      ]
     },
     "metadata": {},
     "output_type": "display_data"
    },
    {
     "data": {
      "text/plain": [
       "'https://www.ted.com/tedx/events?autocomplete_filter=TEDxCanonDriveWomen&page=2&when=past'"
      ]
     },
     "metadata": {},
     "output_type": "display_data"
    },
    {
     "data": {
      "text/plain": [
       "'https://www.ted.com/tedx/events?autocomplete_filter=TEDxSeaPoint&page=2&when=past'"
      ]
     },
     "metadata": {},
     "output_type": "display_data"
    },
    {
     "data": {
      "text/plain": [
       "'https://www.ted.com/tedx/events?autocomplete_filter=TEDxPotyomkinskaSt&page=2&when=past'"
      ]
     },
     "metadata": {},
     "output_type": "display_data"
    },
    {
     "data": {
      "text/plain": [
       "'https://www.ted.com/tedx/events?autocomplete_filter=TEDxTernopil&page=1&when=past'"
      ]
     },
     "metadata": {},
     "output_type": "display_data"
    },
    {
     "data": {
      "text/plain": [
       "'https://www.ted.com/tedx/events?autocomplete_filter=TEDxCartRoad&page=1&when=past'"
      ]
     },
     "metadata": {},
     "output_type": "display_data"
    },
    {
     "data": {
      "text/plain": [
       "'https://www.ted.com/tedx/events?autocomplete_filter=TEDxLaDefense&page=1&when=past'"
      ]
     },
     "metadata": {},
     "output_type": "display_data"
    },
    {
     "data": {
      "text/plain": [
       "'https://www.ted.com/tedx/events?autocomplete_filter=TEDxTernopil&page=2&when=past'"
      ]
     },
     "metadata": {},
     "output_type": "display_data"
    },
    {
     "data": {
      "text/plain": [
       "'https://www.ted.com/tedx/events?autocomplete_filter=TEDxCartRoad&page=2&when=past'"
      ]
     },
     "metadata": {},
     "output_type": "display_data"
    },
    {
     "data": {
      "text/plain": [
       "'https://www.ted.com/tedx/events?autocomplete_filter=TEDxLaDefense&page=2&when=past'"
      ]
     },
     "metadata": {},
     "output_type": "display_data"
    },
    {
     "data": {
      "text/plain": [
       "'https://www.ted.com/tedx/events?autocomplete_filter=TEDxERHS&page=1&when=past'"
      ]
     },
     "metadata": {},
     "output_type": "display_data"
    },
    {
     "data": {
      "text/plain": [
       "'https://www.ted.com/tedx/events?autocomplete_filter=TEDxDexterAvenue&page=1&when=past'"
      ]
     },
     "metadata": {},
     "output_type": "display_data"
    },
    {
     "data": {
      "text/plain": [
       "'https://www.ted.com/tedx/events?autocomplete_filter=TEDxChisinau:&page=1&when=past'"
      ]
     },
     "metadata": {},
     "output_type": "display_data"
    },
    {
     "data": {
      "text/plain": [
       "'https://www.ted.com/tedx/events?autocomplete_filter=TEDxERHS&page=2&when=past'"
      ]
     },
     "metadata": {},
     "output_type": "display_data"
    },
    {
     "data": {
      "text/plain": [
       "'https://www.ted.com/tedx/events?autocomplete_filter=TEDxDexterAvenue&page=2&when=past'"
      ]
     },
     "metadata": {},
     "output_type": "display_data"
    },
    {
     "data": {
      "text/plain": [
       "'https://www.ted.com/tedx/events?autocomplete_filter=TEDxWomen:&page=1&when=past'"
      ]
     },
     "metadata": {},
     "output_type": "display_data"
    },
    {
     "data": {
      "text/plain": [
       "'https://www.ted.com/tedx/events?autocomplete_filter=TEDxTopanga&page=1&when=past'"
      ]
     },
     "metadata": {},
     "output_type": "display_data"
    },
    {
     "data": {
      "text/plain": [
       "'https://www.ted.com/tedx/events?autocomplete_filter=TEDxRayatBahraUniversity&page=1&when=past'"
      ]
     },
     "metadata": {},
     "output_type": "display_data"
    },
    {
     "data": {
      "text/plain": [
       "'https://www.ted.com/tedx/events?autocomplete_filter=TEDxPrinceAlbert&page=1&when=past'"
      ]
     },
     "metadata": {},
     "output_type": "display_data"
    },
    {
     "data": {
      "text/plain": [
       "'https://www.ted.com/tedx/events?autocomplete_filter=TEDxTopanga&page=2&when=past'"
      ]
     },
     "metadata": {},
     "output_type": "display_data"
    },
    {
     "data": {
      "text/plain": [
       "'https://www.ted.com/tedx/events?autocomplete_filter=TEDxRayatBahraUniversity&page=2&when=past'"
      ]
     },
     "metadata": {},
     "output_type": "display_data"
    },
    {
     "data": {
      "text/plain": [
       "'https://www.ted.com/tedx/events?autocomplete_filter=TEDxPrinceAlbert&page=2&when=past'"
      ]
     },
     "metadata": {},
     "output_type": "display_data"
    },
    {
     "data": {
      "text/plain": [
       "'https://www.ted.com/tedx/events?autocomplete_filter=TEDxTelkomU&page=1&when=past'"
      ]
     },
     "metadata": {},
     "output_type": "display_data"
    },
    {
     "data": {
      "text/plain": [
       "'https://www.ted.com/tedx/events?autocomplete_filter=TEDxMoosach&page=1&when=past'"
      ]
     },
     "metadata": {},
     "output_type": "display_data"
    },
    {
     "data": {
      "text/plain": [
       "'https://www.ted.com/tedx/events?autocomplete_filter=TEDxLCHS&page=1&when=past'"
      ]
     },
     "metadata": {},
     "output_type": "display_data"
    },
    {
     "data": {
      "text/plain": [
       "'https://www.ted.com/tedx/events?autocomplete_filter=TEDxTelkomU&page=2&when=past'"
      ]
     },
     "metadata": {},
     "output_type": "display_data"
    },
    {
     "data": {
      "text/plain": [
       "'https://www.ted.com/tedx/events?autocomplete_filter=TEDxMoosach&page=2&when=past'"
      ]
     },
     "metadata": {},
     "output_type": "display_data"
    },
    {
     "data": {
      "text/plain": [
       "'https://www.ted.com/tedx/events?autocomplete_filter=TEDxLCHS&page=2&when=past'"
      ]
     },
     "metadata": {},
     "output_type": "display_data"
    },
    {
     "data": {
      "text/plain": [
       "'https://www.ted.com/tedx/events?autocomplete_filter=TEDxFukuokaWomen&page=1&when=past'"
      ]
     },
     "metadata": {},
     "output_type": "display_data"
    },
    {
     "data": {
      "text/plain": [
       "'https://www.ted.com/tedx/events?autocomplete_filter=TEDxISTTagus&page=1&when=past'"
      ]
     },
     "metadata": {},
     "output_type": "display_data"
    },
    {
     "data": {
      "text/plain": [
       "'https://www.ted.com/tedx/events?autocomplete_filter=TEDxMileZero&page=1&when=past'"
      ]
     },
     "metadata": {},
     "output_type": "display_data"
    },
    {
     "data": {
      "text/plain": [
       "'https://www.ted.com/tedx/events?autocomplete_filter=TEDxFukuokaWomen&page=2&when=past'"
      ]
     },
     "metadata": {},
     "output_type": "display_data"
    },
    {
     "data": {
      "text/plain": [
       "'https://www.ted.com/tedx/events?autocomplete_filter=TEDxISTTagus&page=2&when=past'"
      ]
     },
     "metadata": {},
     "output_type": "display_data"
    },
    {
     "data": {
      "text/plain": [
       "'https://www.ted.com/tedx/events?autocomplete_filter=TEDxMileZero&page=2&when=past'"
      ]
     },
     "metadata": {},
     "output_type": "display_data"
    },
    {
     "data": {
      "text/plain": [
       "'https://www.ted.com/tedx/events?autocomplete_filter=TEDxBroadStreet&page=1&when=past'"
      ]
     },
     "metadata": {},
     "output_type": "display_data"
    },
    {
     "data": {
      "text/plain": [
       "'https://www.ted.com/tedx/events?autocomplete_filter=TEDxQMUL&page=1&when=past'"
      ]
     },
     "metadata": {},
     "output_type": "display_data"
    },
    {
     "data": {
      "text/plain": [
       "'https://www.ted.com/tedx/events?autocomplete_filter=TEDxGlastonbury&page=1&when=past'"
      ]
     },
     "metadata": {},
     "output_type": "display_data"
    },
    {
     "data": {
      "text/plain": [
       "'https://www.ted.com/tedx/events?autocomplete_filter=TEDxBroadStreet&page=2&when=past'"
      ]
     },
     "metadata": {},
     "output_type": "display_data"
    },
    {
     "data": {
      "text/plain": [
       "'https://www.ted.com/tedx/events?autocomplete_filter=TEDxQMUL&page=2&when=past'"
      ]
     },
     "metadata": {},
     "output_type": "display_data"
    },
    {
     "data": {
      "text/plain": [
       "'https://www.ted.com/tedx/events?autocomplete_filter=TEDxGlastonbury&page=2&when=past'"
      ]
     },
     "metadata": {},
     "output_type": "display_data"
    },
    {
     "data": {
      "text/plain": [
       "'https://www.ted.com/tedx/events?autocomplete_filter=TEDxSunsetPark&page=1&when=past'"
      ]
     },
     "metadata": {},
     "output_type": "display_data"
    },
    {
     "data": {
      "text/plain": [
       "'https://www.ted.com/tedx/events?autocomplete_filter=TEDxSouthCapitolSt&page=1&when=past'"
      ]
     },
     "metadata": {},
     "output_type": "display_data"
    },
    {
     "data": {
      "text/plain": [
       "'https://www.ted.com/tedx/events?autocomplete_filter=TEDxHarpenden&page=1&when=past'"
      ]
     },
     "metadata": {},
     "output_type": "display_data"
    },
    {
     "data": {
      "text/plain": [
       "'https://www.ted.com/tedx/events?autocomplete_filter=TEDxSunsetPark&page=2&when=past'"
      ]
     },
     "metadata": {},
     "output_type": "display_data"
    },
    {
     "data": {
      "text/plain": [
       "'https://www.ted.com/tedx/events?autocomplete_filter=TEDxSouthCapitolSt&page=2&when=past'"
      ]
     },
     "metadata": {},
     "output_type": "display_data"
    },
    {
     "data": {
      "text/plain": [
       "'https://www.ted.com/tedx/events?autocomplete_filter=TEDxDundee&page=1&when=past'"
      ]
     },
     "metadata": {},
     "output_type": "display_data"
    },
    {
     "data": {
      "text/plain": [
       "'https://www.ted.com/tedx/events?autocomplete_filter=TEDxHarpenden&page=2&when=past'"
      ]
     },
     "metadata": {},
     "output_type": "display_data"
    },
    {
     "data": {
      "text/plain": [
       "'https://www.ted.com/tedx/events?autocomplete_filter=TEDxLondonCity2.0&page=1&when=past'"
      ]
     },
     "metadata": {},
     "output_type": "display_data"
    },
    {
     "data": {
      "text/plain": [
       "'https://www.ted.com/tedx/events?autocomplete_filter=TEDxDundee&page=2&when=past'"
      ]
     },
     "metadata": {},
     "output_type": "display_data"
    },
    {
     "data": {
      "text/plain": [
       "'https://www.ted.com/tedx/events?autocomplete_filter=TEDxOjaiChange&page=1&when=past'"
      ]
     },
     "metadata": {},
     "output_type": "display_data"
    },
    {
     "data": {
      "text/plain": [
       "'https://www.ted.com/tedx/events?autocomplete_filter=TEDxTromso&page=1&when=past'"
      ]
     },
     "metadata": {},
     "output_type": "display_data"
    },
    {
     "data": {
      "text/plain": [
       "'https://www.ted.com/tedx/events?autocomplete_filter=TEDxChungnamScienceSchool&page=1&when=past'"
      ]
     },
     "metadata": {},
     "output_type": "display_data"
    },
    {
     "data": {
      "text/plain": [
       "'https://www.ted.com/tedx/events?autocomplete_filter=TEDxItascaCommunityCollege&page=1&when=past'"
      ]
     },
     "metadata": {},
     "output_type": "display_data"
    },
    {
     "data": {
      "text/plain": [
       "'https://www.ted.com/tedx/events?autocomplete_filter=TEDxOjaiChange&page=2&when=past'"
      ]
     },
     "metadata": {},
     "output_type": "display_data"
    },
    {
     "data": {
      "text/plain": [
       "'https://www.ted.com/tedx/events?autocomplete_filter=TEDxChungnamScienceSchool&page=2&when=past'"
      ]
     },
     "metadata": {},
     "output_type": "display_data"
    },
    {
     "data": {
      "text/plain": [
       "'https://www.ted.com/tedx/events?autocomplete_filter=TEDxItascaCommunityCollege&page=2&when=past'"
      ]
     },
     "metadata": {},
     "output_type": "display_data"
    },
    {
     "data": {
      "text/plain": [
       "'https://www.ted.com/tedx/events?autocomplete_filter=TEDxHalifaxWestHigh&page=1&when=past'"
      ]
     },
     "metadata": {},
     "output_type": "display_data"
    },
    {
     "data": {
      "text/plain": [
       "'https://www.ted.com/tedx/events?autocomplete_filter=TEDxSpartanburg&page=1&when=past'"
      ]
     },
     "metadata": {},
     "output_type": "display_data"
    },
    {
     "data": {
      "text/plain": [
       "'https://www.ted.com/tedx/events?autocomplete_filter=TEDxBradfordWomen&page=1&when=past'"
      ]
     },
     "metadata": {},
     "output_type": "display_data"
    },
    {
     "data": {
      "text/plain": [
       "'https://www.ted.com/tedx/events?autocomplete_filter=TEDxHalifaxWestHigh&page=2&when=past'"
      ]
     },
     "metadata": {},
     "output_type": "display_data"
    },
    {
     "data": {
      "text/plain": [
       "'https://www.ted.com/tedx/events?autocomplete_filter=TEDxSpartanburg&page=2&when=past'"
      ]
     },
     "metadata": {},
     "output_type": "display_data"
    },
    {
     "data": {
      "text/plain": [
       "'https://www.ted.com/tedx/events?autocomplete_filter=TEDxBradfordWomen&page=2&when=past'"
      ]
     },
     "metadata": {},
     "output_type": "display_data"
    },
    {
     "data": {
      "text/plain": [
       "'https://www.ted.com/tedx/events?autocomplete_filter=TEDxShelburneFallsSalon&page=1&when=past'"
      ]
     },
     "metadata": {},
     "output_type": "display_data"
    },
    {
     "data": {
      "text/plain": [
       "'https://www.ted.com/tedx/events?autocomplete_filter=TEDxSunshineWorldwideSchool&page=1&when=past'"
      ]
     },
     "metadata": {},
     "output_type": "display_data"
    },
    {
     "data": {
      "text/plain": [
       "'https://www.ted.com/tedx/events?autocomplete_filter=TEDxGrandRapidsLibrary&page=1&when=past'"
      ]
     },
     "metadata": {},
     "output_type": "display_data"
    },
    {
     "data": {
      "text/plain": [
       "'https://www.ted.com/tedx/events?autocomplete_filter=TEDxShelburneFallsSalon&page=2&when=past'"
      ]
     },
     "metadata": {},
     "output_type": "display_data"
    },
    {
     "data": {
      "text/plain": [
       "'https://www.ted.com/tedx/events?autocomplete_filter=TEDxGrandRapidsLibrary&page=2&when=past'"
      ]
     },
     "metadata": {},
     "output_type": "display_data"
    },
    {
     "data": {
      "text/plain": [
       "'https://www.ted.com/tedx/events?autocomplete_filter=TEDxSunshineWorldwideSchool&page=2&when=past'"
      ]
     },
     "metadata": {},
     "output_type": "display_data"
    },
    {
     "data": {
      "text/plain": [
       "'https://www.ted.com/tedx/events?autocomplete_filter=TEDxPresido&page=1&when=past'"
      ]
     },
     "metadata": {},
     "output_type": "display_data"
    },
    {
     "data": {
      "text/plain": [
       "'https://www.ted.com/tedx/events?autocomplete_filter=TEDxTheGlebeWomen&page=1&when=past'"
      ]
     },
     "metadata": {},
     "output_type": "display_data"
    },
    {
     "data": {
      "text/plain": [
       "'https://www.ted.com/tedx/events?autocomplete_filter=TEDxAldeburgh&page=1&when=past'"
      ]
     },
     "metadata": {},
     "output_type": "display_data"
    },
    {
     "data": {
      "text/plain": [
       "'https://www.ted.com/tedx/events?autocomplete_filter=TEDxXiguanED&page=1&when=past'"
      ]
     },
     "metadata": {},
     "output_type": "display_data"
    },
    {
     "data": {
      "text/plain": [
       "'https://www.ted.com/tedx/events?autocomplete_filter=TEDxTheGlebeWomen&page=2&when=past'"
      ]
     },
     "metadata": {},
     "output_type": "display_data"
    },
    {
     "data": {
      "text/plain": [
       "'https://www.ted.com/tedx/events?autocomplete_filter=TEDxAldeburgh&page=2&when=past'"
      ]
     },
     "metadata": {},
     "output_type": "display_data"
    },
    {
     "data": {
      "text/plain": [
       "'https://www.ted.com/tedx/events?autocomplete_filter=TEDxXiguanED&page=2&when=past'"
      ]
     },
     "metadata": {},
     "output_type": "display_data"
    },
    {
     "data": {
      "text/plain": [
       "'https://www.ted.com/tedx/events?autocomplete_filter=TEDxAIUB&page=1&when=past'"
      ]
     },
     "metadata": {},
     "output_type": "display_data"
    },
    {
     "data": {
      "text/plain": [
       "'https://www.ted.com/tedx/events?autocomplete_filter=TEDxSonomaCounty:&page=1&when=past'"
      ]
     },
     "metadata": {},
     "output_type": "display_data"
    },
    {
     "data": {
      "text/plain": [
       "'https://www.ted.com/tedx/events?autocomplete_filter=TEDxClaremontCollegesSalon&page=1&when=past'"
      ]
     },
     "metadata": {},
     "output_type": "display_data"
    },
    {
     "data": {
      "text/plain": [
       "'https://www.ted.com/tedx/events?autocomplete_filter=TEDxAlDafnaED&page=1&when=past'"
      ]
     },
     "metadata": {},
     "output_type": "display_data"
    },
    {
     "data": {
      "text/plain": [
       "'https://www.ted.com/tedx/events?autocomplete_filter=TEDxAIUB&page=2&when=past'"
      ]
     },
     "metadata": {},
     "output_type": "display_data"
    },
    {
     "data": {
      "text/plain": [
       "'https://www.ted.com/tedx/events?autocomplete_filter=TEDxClaremontCollegesSalon&page=2&when=past'"
      ]
     },
     "metadata": {},
     "output_type": "display_data"
    },
    {
     "data": {
      "text/plain": [
       "'https://www.ted.com/tedx/events?autocomplete_filter=TEDxUniversityofDundee&page=1&when=past'"
      ]
     },
     "metadata": {},
     "output_type": "display_data"
    },
    {
     "data": {
      "text/plain": [
       "'https://www.ted.com/tedx/events?autocomplete_filter=TEDxAlDafnaED&page=2&when=past'"
      ]
     },
     "metadata": {},
     "output_type": "display_data"
    },
    {
     "data": {
      "text/plain": [
       "'https://www.ted.com/tedx/events?autocomplete_filter=TEDxNOLA&page=1&when=past'"
      ]
     },
     "metadata": {},
     "output_type": "display_data"
    },
    {
     "data": {
      "text/plain": [
       "'https://www.ted.com/tedx/events?autocomplete_filter=TEDxBrownsville&page=1&when=past'"
      ]
     },
     "metadata": {},
     "output_type": "display_data"
    },
    {
     "data": {
      "text/plain": [
       "'https://www.ted.com/tedx/events?autocomplete_filter=TEDxUniversityofDundee&page=2&when=past'"
      ]
     },
     "metadata": {},
     "output_type": "display_data"
    },
    {
     "data": {
      "text/plain": [
       "'https://www.ted.com/tedx/events?autocomplete_filter=TEDxNOLA&page=2&when=past'"
      ]
     },
     "metadata": {},
     "output_type": "display_data"
    },
    {
     "data": {
      "text/plain": [
       "'https://www.ted.com/tedx/events?autocomplete_filter=TEDxOsnabrückUniversity&page=1&when=past'"
      ]
     },
     "metadata": {},
     "output_type": "display_data"
    },
    {
     "data": {
      "text/plain": [
       "'https://www.ted.com/tedx/events?autocomplete_filter=TEDxBrownsville&page=2&when=past'"
      ]
     },
     "metadata": {},
     "output_type": "display_data"
    },
    {
     "data": {
      "text/plain": [
       "'https://www.ted.com/tedx/events?autocomplete_filter=TEDxUmea&page=1&when=past'"
      ]
     },
     "metadata": {},
     "output_type": "display_data"
    },
    {
     "data": {
      "text/plain": [
       "'https://www.ted.com/tedx/events?autocomplete_filter=TEDxMuenster&page=1&when=past'"
      ]
     },
     "metadata": {},
     "output_type": "display_data"
    },
    {
     "data": {
      "text/plain": [
       "'https://www.ted.com/tedx/events?autocomplete_filter=TEDxOsnabrückUniversity&page=2&when=past'"
      ]
     },
     "metadata": {},
     "output_type": "display_data"
    },
    {
     "data": {
      "text/plain": [
       "'https://www.ted.com/tedx/events?autocomplete_filter=TEDxUmea&page=2&when=past'"
      ]
     },
     "metadata": {},
     "output_type": "display_data"
    },
    {
     "data": {
      "text/plain": [
       "'https://www.ted.com/tedx/events?autocomplete_filter=TEDxGreatFalls&page=1&when=past'"
      ]
     },
     "metadata": {},
     "output_type": "display_data"
    },
    {
     "data": {
      "text/plain": [
       "'https://www.ted.com/tedx/events?autocomplete_filter=TEDxGoldenGateED&page=1&when=past'"
      ]
     },
     "metadata": {},
     "output_type": "display_data"
    },
    {
     "data": {
      "text/plain": [
       "'https://www.ted.com/tedx/events?autocomplete_filter=TEDx42ndStreet&page=1&when=past'"
      ]
     },
     "metadata": {},
     "output_type": "display_data"
    },
    {
     "data": {
      "text/plain": [
       "'https://www.ted.com/tedx/events?autocomplete_filter=TEDxGreatFalls&page=2&when=past'"
      ]
     },
     "metadata": {},
     "output_type": "display_data"
    },
    {
     "data": {
      "text/plain": [
       "'https://www.ted.com/tedx/events?autocomplete_filter=TEDxGoldenGateED&page=2&when=past'"
      ]
     },
     "metadata": {},
     "output_type": "display_data"
    },
    {
     "data": {
      "text/plain": [
       "'https://www.ted.com/tedx/events?autocomplete_filter=TEDx42ndStreet&page=2&when=past'"
      ]
     },
     "metadata": {},
     "output_type": "display_data"
    },
    {
     "data": {
      "text/plain": [
       "'https://www.ted.com/tedx/events?autocomplete_filter=TEDxHongKongLive&page=1&when=past'"
      ]
     },
     "metadata": {},
     "output_type": "display_data"
    },
    {
     "data": {
      "text/plain": [
       "'https://www.ted.com/tedx/events?autocomplete_filter=TEDxHECMontreal&page=1&when=past'"
      ]
     },
     "metadata": {},
     "output_type": "display_data"
    },
    {
     "data": {
      "text/plain": [
       "'https://www.ted.com/tedx/events?autocomplete_filter=TEDxUSMC&page=1&when=past'"
      ]
     },
     "metadata": {},
     "output_type": "display_data"
    },
    {
     "data": {
      "text/plain": [
       "'https://www.ted.com/tedx/events?autocomplete_filter=TEDxHongKongLive&page=2&when=past'"
      ]
     },
     "metadata": {},
     "output_type": "display_data"
    },
    {
     "data": {
      "text/plain": [
       "'https://www.ted.com/tedx/events?autocomplete_filter=TEDxHECMontreal&page=2&when=past'"
      ]
     },
     "metadata": {},
     "output_type": "display_data"
    },
    {
     "data": {
      "text/plain": [
       "'https://www.ted.com/tedx/events?autocomplete_filter=TEDxUSMC&page=2&when=past'"
      ]
     },
     "metadata": {},
     "output_type": "display_data"
    },
    {
     "data": {
      "text/plain": [
       "'https://www.ted.com/tedx/events?autocomplete_filter=TEDxGrandRapidsHigh&page=1&when=past'"
      ]
     },
     "metadata": {},
     "output_type": "display_data"
    },
    {
     "data": {
      "text/plain": [
       "'https://www.ted.com/tedx/events?autocomplete_filter=TEDxUVic&page=1&when=past'"
      ]
     },
     "metadata": {},
     "output_type": "display_data"
    },
    {
     "data": {
      "text/plain": [
       "'https://www.ted.com/tedx/events?autocomplete_filter=TEDxHamsphireCollege&page=1&when=past'"
      ]
     },
     "metadata": {},
     "output_type": "display_data"
    },
    {
     "data": {
      "text/plain": [
       "'https://www.ted.com/tedx/events?autocomplete_filter=TEDxGrandRapidsHigh&page=2&when=past'"
      ]
     },
     "metadata": {},
     "output_type": "display_data"
    },
    {
     "data": {
      "text/plain": [
       "'https://www.ted.com/tedx/events?autocomplete_filter=TEDxCortland&page=1&when=past'"
      ]
     },
     "metadata": {},
     "output_type": "display_data"
    },
    {
     "data": {
      "text/plain": [
       "'https://www.ted.com/tedx/events?autocomplete_filter=TEDxUVic&page=2&when=past'"
      ]
     },
     "metadata": {},
     "output_type": "display_data"
    },
    {
     "data": {
      "text/plain": [
       "'https://www.ted.com/tedx/events?autocomplete_filter=TEDxCotrugliBusinessSchool&page=1&when=past'"
      ]
     },
     "metadata": {},
     "output_type": "display_data"
    },
    {
     "data": {
      "text/plain": [
       "'https://www.ted.com/tedx/events?autocomplete_filter=TEDxLansingED&page=1&when=past'"
      ]
     },
     "metadata": {},
     "output_type": "display_data"
    },
    {
     "data": {
      "text/plain": [
       "'https://www.ted.com/tedx/events?autocomplete_filter=TEDxCortland&page=2&when=past'"
      ]
     },
     "metadata": {},
     "output_type": "display_data"
    },
    {
     "data": {
      "text/plain": [
       "'https://www.ted.com/tedx/events?autocomplete_filter=TEDxCotrugliBusinessSchool&page=2&when=past'"
      ]
     },
     "metadata": {},
     "output_type": "display_data"
    },
    {
     "data": {
      "text/plain": [
       "'https://www.ted.com/tedx/events?autocomplete_filter=TEDxLansingED&page=2&when=past'"
      ]
     },
     "metadata": {},
     "output_type": "display_data"
    },
    {
     "data": {
      "text/plain": [
       "'https://www.ted.com/tedx/events?autocomplete_filter=TEDxUTMShillong&page=1&when=past'"
      ]
     },
     "metadata": {},
     "output_type": "display_data"
    },
    {
     "data": {
      "text/plain": [
       "'https://www.ted.com/tedx/events?autocomplete_filter=TEDxGrenoble2013&page=1&when=past'"
      ]
     },
     "metadata": {},
     "output_type": "display_data"
    },
    {
     "data": {
      "text/plain": [
       "'https://www.ted.com/tedx/events?autocomplete_filter=TEDxKaraulnayaGora&page=1&when=past'"
      ]
     },
     "metadata": {},
     "output_type": "display_data"
    },
    {
     "data": {
      "text/plain": [
       "'https://www.ted.com/tedx/events?autocomplete_filter=TEDxPalmaCeia\\xa0-&page=1&when=past'"
      ]
     },
     "metadata": {},
     "output_type": "display_data"
    },
    {
     "data": {
      "text/plain": [
       "'https://www.ted.com/tedx/events?autocomplete_filter=TEDxUTMShillong&page=2&when=past'"
      ]
     },
     "metadata": {},
     "output_type": "display_data"
    },
    {
     "data": {
      "text/plain": [
       "'https://www.ted.com/tedx/events?autocomplete_filter=TEDxKaraulnayaGora&page=2&when=past'"
      ]
     },
     "metadata": {},
     "output_type": "display_data"
    },
    {
     "data": {
      "text/plain": [
       "'https://www.ted.com/tedx/events?autocomplete_filter=TEDxYouth@KyivInternationalSchool&page=1&when=past'"
      ]
     },
     "metadata": {},
     "output_type": "display_data"
    },
    {
     "data": {
      "text/plain": [
       "'https://www.ted.com/tedx/events?autocomplete_filter=TEDxHaeundae&page=1&when=past'"
      ]
     },
     "metadata": {},
     "output_type": "display_data"
    },
    {
     "data": {
      "text/plain": [
       "'https://www.ted.com/tedx/events?autocomplete_filter=TEDxAlbanoLaziale&page=1&when=past'"
      ]
     },
     "metadata": {},
     "output_type": "display_data"
    },
    {
     "data": {
      "text/plain": [
       "'https://www.ted.com/tedx/events?autocomplete_filter=TEDxYouth@KyivInternationalSchool&page=2&when=past'"
      ]
     },
     "metadata": {},
     "output_type": "display_data"
    },
    {
     "data": {
      "text/plain": [
       "'https://www.ted.com/tedx/events?autocomplete_filter=TEDxHaeundae&page=2&when=past'"
      ]
     },
     "metadata": {},
     "output_type": "display_data"
    },
    {
     "data": {
      "text/plain": [
       "'https://www.ted.com/tedx/events?autocomplete_filter=TEDxAlbanoLaziale&page=2&when=past'"
      ]
     },
     "metadata": {},
     "output_type": "display_data"
    },
    {
     "data": {
      "text/plain": [
       "'https://www.ted.com/tedx/events?autocomplete_filter=TEDxWorthingtonED&page=1&when=past'"
      ]
     },
     "metadata": {},
     "output_type": "display_data"
    },
    {
     "data": {
      "text/plain": [
       "'https://www.ted.com/tedx/events?autocomplete_filter=TEDxHUFS&page=1&when=past'"
      ]
     },
     "metadata": {},
     "output_type": "display_data"
    },
    {
     "data": {
      "text/plain": [
       "'https://www.ted.com/tedx/events?autocomplete_filter=TEDxRC2&page=1&when=past'"
      ]
     },
     "metadata": {},
     "output_type": "display_data"
    },
    {
     "data": {
      "text/plain": [
       "'https://www.ted.com/tedx/events?autocomplete_filter=TEDxWorthingtonED&page=2&when=past'"
      ]
     },
     "metadata": {},
     "output_type": "display_data"
    },
    {
     "data": {
      "text/plain": [
       "'https://www.ted.com/tedx/events?autocomplete_filter=TEDxHUFS&page=2&when=past'"
      ]
     },
     "metadata": {},
     "output_type": "display_data"
    },
    {
     "data": {
      "text/plain": [
       "'https://www.ted.com/tedx/events?autocomplete_filter=TEDxGabriolaIsland&page=1&when=past'"
      ]
     },
     "metadata": {},
     "output_type": "display_data"
    },
    {
     "data": {
      "text/plain": [
       "'https://www.ted.com/tedx/events?autocomplete_filter=TEDxRC2&page=2&when=past'"
      ]
     },
     "metadata": {},
     "output_type": "display_data"
    },
    {
     "data": {
      "text/plain": [
       "'https://www.ted.com/tedx/events?autocomplete_filter=TEDxEcoleHoteliereLausanne&page=1&when=past'"
      ]
     },
     "metadata": {},
     "output_type": "display_data"
    },
    {
     "data": {
      "text/plain": [
       "'https://www.ted.com/tedx/events?autocomplete_filter=TEDxGabriolaIsland&page=2&when=past'"
      ]
     },
     "metadata": {},
     "output_type": "display_data"
    },
    {
     "data": {
      "text/plain": [
       "'https://www.ted.com/tedx/events?autocomplete_filter=TEDxHult&page=1&when=past'"
      ]
     },
     "metadata": {},
     "output_type": "display_data"
    },
    {
     "data": {
      "text/plain": [
       "'https://www.ted.com/tedx/events?autocomplete_filter=TEDxEcoleHoteliereLausanne&page=2&when=past'"
      ]
     },
     "metadata": {},
     "output_type": "display_data"
    },
    {
     "data": {
      "text/plain": [
       "'https://www.ted.com/tedx/events?autocomplete_filter=TEDxUFSC&page=1&when=past'"
      ]
     },
     "metadata": {},
     "output_type": "display_data"
    },
    {
     "data": {
      "text/plain": [
       "'https://www.ted.com/tedx/events?autocomplete_filter=TEDxHult&page=2&when=past'"
      ]
     },
     "metadata": {},
     "output_type": "display_data"
    },
    {
     "data": {
      "text/plain": [
       "'https://www.ted.com/tedx/events?autocomplete_filter=TEDxSSN&page=1&when=past'"
      ]
     },
     "metadata": {},
     "output_type": "display_data"
    },
    {
     "data": {
      "text/plain": [
       "'https://www.ted.com/tedx/events?autocomplete_filter=TEDxUFSC&page=2&when=past'"
      ]
     },
     "metadata": {},
     "output_type": "display_data"
    },
    {
     "data": {
      "text/plain": [
       "'https://www.ted.com/tedx/events?autocomplete_filter=TEDxNice&page=1&when=past'"
      ]
     },
     "metadata": {},
     "output_type": "display_data"
    },
    {
     "data": {
      "text/plain": [
       "'https://www.ted.com/tedx/events?autocomplete_filter=TEDxSSN&page=2&when=past'"
      ]
     },
     "metadata": {},
     "output_type": "display_data"
    },
    {
     "data": {
      "text/plain": [
       "'https://www.ted.com/tedx/events?autocomplete_filter=TEDxSPFHS&page=1&when=past'"
      ]
     },
     "metadata": {},
     "output_type": "display_data"
    },
    {
     "data": {
      "text/plain": [
       "'https://www.ted.com/tedx/events?autocomplete_filter=TEDxRVVidyaniketan&page=1&when=past'"
      ]
     },
     "metadata": {},
     "output_type": "display_data"
    },
    {
     "data": {
      "text/plain": [
       "'https://www.ted.com/tedx/events?autocomplete_filter=TEDxNice&page=2&when=past'"
      ]
     },
     "metadata": {},
     "output_type": "display_data"
    },
    {
     "data": {
      "text/plain": [
       "'https://www.ted.com/tedx/events?autocomplete_filter=TEDxSPFHS&page=2&when=past'"
      ]
     },
     "metadata": {},
     "output_type": "display_data"
    },
    {
     "data": {
      "text/plain": [
       "'https://www.ted.com/tedx/events?autocomplete_filter=TEDxRVVidyaniketan&page=2&when=past'"
      ]
     },
     "metadata": {},
     "output_type": "display_data"
    },
    {
     "data": {
      "text/plain": [
       "'https://www.ted.com/tedx/events?autocomplete_filter=TEDxUpperDublinED&page=1&when=past'"
      ]
     },
     "metadata": {},
     "output_type": "display_data"
    },
    {
     "data": {
      "text/plain": [
       "'https://www.ted.com/tedx/events?autocomplete_filter=TEDxSciencesPoCampusDijon&page=1&when=past'"
      ]
     },
     "metadata": {},
     "output_type": "display_data"
    },
    {
     "data": {
      "text/plain": [
       "'https://www.ted.com/tedx/events?autocomplete_filter=TEDxTelAvivSalon&page=1&when=past'"
      ]
     },
     "metadata": {},
     "output_type": "display_data"
    },
    {
     "data": {
      "text/plain": [
       "'https://www.ted.com/tedx/events?autocomplete_filter=TEDxSciencesPoCampusDijon&page=2&when=past'"
      ]
     },
     "metadata": {},
     "output_type": "display_data"
    },
    {
     "data": {
      "text/plain": [
       "'https://www.ted.com/tedx/events?autocomplete_filter=TEDxUpperDublinED&page=2&when=past'"
      ]
     },
     "metadata": {},
     "output_type": "display_data"
    },
    {
     "data": {
      "text/plain": [
       "'https://www.ted.com/tedx/events?autocomplete_filter=TEDxGrassValley&page=1&when=past'"
      ]
     },
     "metadata": {},
     "output_type": "display_data"
    },
    {
     "data": {
      "text/plain": [
       "'https://www.ted.com/tedx/events?autocomplete_filter=TEDxSioux&page=1&when=past'"
      ]
     },
     "metadata": {},
     "output_type": "display_data"
    },
    {
     "data": {
      "text/plain": [
       "'https://www.ted.com/tedx/events?autocomplete_filter=TEDxTelAvivSalon&page=2&when=past'"
      ]
     },
     "metadata": {},
     "output_type": "display_data"
    },
    {
     "data": {
      "text/plain": [
       "'https://www.ted.com/tedx/events?autocomplete_filter=TEDxRideauCanal&page=1&when=past'"
      ]
     },
     "metadata": {},
     "output_type": "display_data"
    },
    {
     "data": {
      "text/plain": [
       "'https://www.ted.com/tedx/events?autocomplete_filter=TEDxGrassValley&page=2&when=past'"
      ]
     },
     "metadata": {},
     "output_type": "display_data"
    },
    {
     "data": {
      "text/plain": [
       "'https://www.ted.com/tedx/events?autocomplete_filter=TEDxSioux&page=2&when=past'"
      ]
     },
     "metadata": {},
     "output_type": "display_data"
    },
    {
     "data": {
      "text/plain": [
       "'https://www.ted.com/tedx/events?autocomplete_filter=TEDxRideauCanal&page=2&when=past'"
      ]
     },
     "metadata": {},
     "output_type": "display_data"
    },
    {
     "data": {
      "text/plain": [
       "'https://www.ted.com/tedx/events?autocomplete_filter=TEDxSkidRow&page=1&when=past'"
      ]
     },
     "metadata": {},
     "output_type": "display_data"
    },
    {
     "data": {
      "text/plain": [
       "'https://www.ted.com/tedx/events?autocomplete_filter=TEDxSanJoseStateUniversity&page=1&when=past'"
      ]
     },
     "metadata": {},
     "output_type": "display_data"
    },
    {
     "data": {
      "text/plain": [
       "'https://www.ted.com/tedx/events?autocomplete_filter=TEDxTokyoChange&page=1&when=past'"
      ]
     },
     "metadata": {},
     "output_type": "display_data"
    },
    {
     "data": {
      "text/plain": [
       "'https://www.ted.com/tedx/events?autocomplete_filter=TEDxSkidRow&page=2&when=past'"
      ]
     },
     "metadata": {},
     "output_type": "display_data"
    },
    {
     "data": {
      "text/plain": [
       "'https://www.ted.com/tedx/events?autocomplete_filter=TEDxSanJoseStateUniversity&page=2&when=past'"
      ]
     },
     "metadata": {},
     "output_type": "display_data"
    },
    {
     "data": {
      "text/plain": [
       "'https://www.ted.com/tedx/events?autocomplete_filter=TEDxTokyoChange&page=2&when=past'"
      ]
     },
     "metadata": {},
     "output_type": "display_data"
    },
    {
     "data": {
      "text/plain": [
       "'https://www.ted.com/tedx/events?autocomplete_filter=TEDxJakSel&page=1&when=past'"
      ]
     },
     "metadata": {},
     "output_type": "display_data"
    },
    {
     "data": {
      "text/plain": [
       "'https://www.ted.com/tedx/events?autocomplete_filter=TEDxMinesNantes&page=1&when=past'"
      ]
     },
     "metadata": {},
     "output_type": "display_data"
    },
    {
     "data": {
      "text/plain": [
       "'https://www.ted.com/tedx/events?autocomplete_filter=TEDxSechelt&page=1&when=past'"
      ]
     },
     "metadata": {},
     "output_type": "display_data"
    },
    {
     "data": {
      "text/plain": [
       "'https://www.ted.com/tedx/events?autocomplete_filter=TEDxJakSel&page=2&when=past'"
      ]
     },
     "metadata": {},
     "output_type": "display_data"
    },
    {
     "data": {
      "text/plain": [
       "'https://www.ted.com/tedx/events?autocomplete_filter=TEDxMinesNantes&page=2&when=past'"
      ]
     },
     "metadata": {},
     "output_type": "display_data"
    },
    {
     "data": {
      "text/plain": [
       "'https://www.ted.com/tedx/events?autocomplete_filter=TEDxSechelt&page=2&when=past'"
      ]
     },
     "metadata": {},
     "output_type": "display_data"
    },
    {
     "data": {
      "text/plain": [
       "'https://www.ted.com/tedx/events?autocomplete_filter=TEDxNYI&page=1&when=past'"
      ]
     },
     "metadata": {},
     "output_type": "display_data"
    },
    {
     "data": {
      "text/plain": [
       "'https://www.ted.com/tedx/events?autocomplete_filter=TEDxNewham&page=1&when=past'"
      ]
     },
     "metadata": {},
     "output_type": "display_data"
    },
    {
     "data": {
      "text/plain": [
       "'https://www.ted.com/tedx/events?autocomplete_filter=TEDxKobeSalon&page=1&when=past'"
      ]
     },
     "metadata": {},
     "output_type": "display_data"
    },
    {
     "data": {
      "text/plain": [
       "'https://www.ted.com/tedx/events?autocomplete_filter=TEDxNewham&page=2&when=past'"
      ]
     },
     "metadata": {},
     "output_type": "display_data"
    },
    {
     "data": {
      "text/plain": [
       "'https://www.ted.com/tedx/events?autocomplete_filter=TEDxNYI&page=2&when=past'"
      ]
     },
     "metadata": {},
     "output_type": "display_data"
    },
    {
     "data": {
      "text/plain": [
       "'https://www.ted.com/tedx/events?autocomplete_filter=TEDxKobeSalon&page=2&when=past'"
      ]
     },
     "metadata": {},
     "output_type": "display_data"
    },
    {
     "data": {
      "text/plain": [
       "'https://www.ted.com/tedx/events?autocomplete_filter=TEDxKyungHee&page=1&when=past'"
      ]
     },
     "metadata": {},
     "output_type": "display_data"
    },
    {
     "data": {
      "text/plain": [
       "'https://www.ted.com/tedx/events?autocomplete_filter=TEDxJuba&page=1&when=past'"
      ]
     },
     "metadata": {},
     "output_type": "display_data"
    },
    {
     "data": {
      "text/plain": [
       "'https://www.ted.com/tedx/events?autocomplete_filter=TEDxDasman&page=1&when=past'"
      ]
     },
     "metadata": {},
     "output_type": "display_data"
    },
    {
     "data": {
      "text/plain": [
       "'https://www.ted.com/tedx/events?autocomplete_filter=TEDxKyungHee&page=2&when=past'"
      ]
     },
     "metadata": {},
     "output_type": "display_data"
    },
    {
     "data": {
      "text/plain": [
       "'https://www.ted.com/tedx/events?autocomplete_filter=TEDxJuba&page=2&when=past'"
      ]
     },
     "metadata": {},
     "output_type": "display_data"
    },
    {
     "data": {
      "text/plain": [
       "'https://www.ted.com/tedx/events?autocomplete_filter=TEDxUniPaderborn&page=1&when=past'"
      ]
     },
     "metadata": {},
     "output_type": "display_data"
    },
    {
     "data": {
      "text/plain": [
       "'https://www.ted.com/tedx/events?autocomplete_filter=TEDxDasman&page=2&when=past'"
      ]
     },
     "metadata": {},
     "output_type": "display_data"
    },
    {
     "data": {
      "text/plain": [
       "'https://www.ted.com/tedx/events?autocomplete_filter=TEDxNewHaven&page=1&when=past'"
      ]
     },
     "metadata": {},
     "output_type": "display_data"
    },
    {
     "data": {
      "text/plain": [
       "'https://www.ted.com/tedx/events?autocomplete_filter=TEDxMontclair&page=1&when=past'"
      ]
     },
     "metadata": {},
     "output_type": "display_data"
    },
    {
     "data": {
      "text/plain": [
       "'https://www.ted.com/tedx/events?autocomplete_filter=TEDxUniPaderborn&page=2&when=past'"
      ]
     },
     "metadata": {},
     "output_type": "display_data"
    },
    {
     "data": {
      "text/plain": [
       "'https://www.ted.com/tedx/events?autocomplete_filter=TEDxMontclair&page=2&when=past'"
      ]
     },
     "metadata": {},
     "output_type": "display_data"
    },
    {
     "data": {
      "text/plain": [
       "'https://www.ted.com/tedx/events?autocomplete_filter=TEDxNewHaven&page=2&when=past'"
      ]
     },
     "metadata": {},
     "output_type": "display_data"
    },
    {
     "data": {
      "text/plain": [
       "'https://www.ted.com/tedx/events?autocomplete_filter=TEDxIngolstadt&page=1&when=past'"
      ]
     },
     "metadata": {},
     "output_type": "display_data"
    },
    {
     "data": {
      "text/plain": [
       "'https://www.ted.com/tedx/events?autocomplete_filter=TEDxWinzavod&page=1&when=past'"
      ]
     },
     "metadata": {},
     "output_type": "display_data"
    },
    {
     "data": {
      "text/plain": [
       "'https://www.ted.com/tedx/events?autocomplete_filter=TEDxOrangeCoastWomen&page=1&when=past'"
      ]
     },
     "metadata": {},
     "output_type": "display_data"
    },
    {
     "data": {
      "text/plain": [
       "'https://www.ted.com/tedx/events?autocomplete_filter=TEDxIngolstadt&page=2&when=past'"
      ]
     },
     "metadata": {},
     "output_type": "display_data"
    },
    {
     "data": {
      "text/plain": [
       "'https://www.ted.com/tedx/events?autocomplete_filter=TEDxWinzavod&page=2&when=past'"
      ]
     },
     "metadata": {},
     "output_type": "display_data"
    },
    {
     "data": {
      "text/plain": [
       "'https://www.ted.com/tedx/events?autocomplete_filter=TEDxOrangeCoastWomen&page=2&when=past'"
      ]
     },
     "metadata": {},
     "output_type": "display_data"
    },
    {
     "data": {
      "text/plain": [
       "'https://www.ted.com/tedx/events?autocomplete_filter=TEDxYouth@CATPickering&page=1&when=past'"
      ]
     },
     "metadata": {},
     "output_type": "display_data"
    },
    {
     "data": {
      "text/plain": [
       "'https://www.ted.com/tedx/events?autocomplete_filter=TEDxDupontCircle&page=1&when=past'"
      ]
     },
     "metadata": {},
     "output_type": "display_data"
    },
    {
     "data": {
      "text/plain": [
       "'https://www.ted.com/tedx/events?autocomplete_filter=TEDxYouth@CATPickering&page=2&when=past'"
      ]
     },
     "metadata": {},
     "output_type": "display_data"
    },
    {
     "data": {
      "text/plain": [
       "'https://www.ted.com/tedx/events?autocomplete_filter=TEDxIITRoorkee&page=1&when=past'"
      ]
     },
     "metadata": {},
     "output_type": "display_data"
    },
    {
     "data": {
      "text/plain": [
       "'https://www.ted.com/tedx/events?autocomplete_filter=TEDxDupontCircle&page=2&when=past'"
      ]
     },
     "metadata": {},
     "output_type": "display_data"
    },
    {
     "data": {
      "text/plain": [
       "'https://www.ted.com/tedx/events?autocomplete_filter=TEDxRichmond&page=1&when=past'"
      ]
     },
     "metadata": {},
     "output_type": "display_data"
    },
    {
     "data": {
      "text/plain": [
       "'https://www.ted.com/tedx/events?autocomplete_filter=TEDxIITRoorkee&page=2&when=past'"
      ]
     },
     "metadata": {},
     "output_type": "display_data"
    },
    {
     "data": {
      "text/plain": [
       "'https://www.ted.com/tedx/events?autocomplete_filter=TEDxFillmore&page=1&when=past'"
      ]
     },
     "metadata": {},
     "output_type": "display_data"
    },
    {
     "data": {
      "text/plain": [
       "'https://www.ted.com/tedx/events?autocomplete_filter=TEDxJamiaHamdard&page=1&when=past'"
      ]
     },
     "metadata": {},
     "output_type": "display_data"
    },
    {
     "data": {
      "text/plain": [
       "'https://www.ted.com/tedx/events?autocomplete_filter=TEDxRichmond&page=2&when=past'"
      ]
     },
     "metadata": {},
     "output_type": "display_data"
    },
    {
     "data": {
      "text/plain": [
       "'https://www.ted.com/tedx/events?autocomplete_filter=TEDxJamiaHamdard&page=2&when=past'"
      ]
     },
     "metadata": {},
     "output_type": "display_data"
    },
    {
     "data": {
      "text/plain": [
       "'https://www.ted.com/tedx/events?autocomplete_filter=TEDxFillmore&page=2&when=past'"
      ]
     },
     "metadata": {},
     "output_type": "display_data"
    },
    {
     "data": {
      "text/plain": [
       "'https://www.ted.com/tedx/events?autocomplete_filter=TEDxPortoAntico&page=1&when=past'"
      ]
     },
     "metadata": {},
     "output_type": "display_data"
    },
    {
     "data": {
      "text/plain": [
       "'https://www.ted.com/tedx/events?autocomplete_filter=TEDxTripoli&page=1&when=past'"
      ]
     },
     "metadata": {},
     "output_type": "display_data"
    },
    {
     "data": {
      "text/plain": [
       "'https://www.ted.com/tedx/events?autocomplete_filter=TEDxMindStreamAcademy&page=1&when=past'"
      ]
     },
     "metadata": {},
     "output_type": "display_data"
    },
    {
     "data": {
      "text/plain": [
       "'https://www.ted.com/tedx/events?autocomplete_filter=TEDxPortoAntico&page=2&when=past'"
      ]
     },
     "metadata": {},
     "output_type": "display_data"
    },
    {
     "data": {
      "text/plain": [
       "'https://www.ted.com/tedx/events?autocomplete_filter=TEDxBricklane&page=1&when=past'"
      ]
     },
     "metadata": {},
     "output_type": "display_data"
    },
    {
     "data": {
      "text/plain": [
       "'https://www.ted.com/tedx/events?autocomplete_filter=TEDxTripoli&page=2&when=past'"
      ]
     },
     "metadata": {},
     "output_type": "display_data"
    },
    {
     "data": {
      "text/plain": [
       "'https://www.ted.com/tedx/events?autocomplete_filter=TEDxMindStreamAcademy&page=2&when=past'"
      ]
     },
     "metadata": {},
     "output_type": "display_data"
    },
    {
     "data": {
      "text/plain": [
       "'https://www.ted.com/tedx/events?autocomplete_filter=TEDxNavigli&page=1&when=past'"
      ]
     },
     "metadata": {},
     "output_type": "display_data"
    },
    {
     "data": {
      "text/plain": [
       "'https://www.ted.com/tedx/events?autocomplete_filter=TEDxPioneerValley&page=1&when=past'"
      ]
     },
     "metadata": {},
     "output_type": "display_data"
    },
    {
     "data": {
      "text/plain": [
       "'https://www.ted.com/tedx/events?autocomplete_filter=TEDxBricklane&page=2&when=past'"
      ]
     },
     "metadata": {},
     "output_type": "display_data"
    },
    {
     "data": {
      "text/plain": [
       "'https://www.ted.com/tedx/events?autocomplete_filter=TEDxPioneerValley&page=2&when=past'"
      ]
     },
     "metadata": {},
     "output_type": "display_data"
    },
    {
     "data": {
      "text/plain": [
       "'https://www.ted.com/tedx/events?autocomplete_filter=TEDxOdessa&page=1&when=past'"
      ]
     },
     "metadata": {},
     "output_type": "display_data"
    },
    {
     "data": {
      "text/plain": [
       "'https://www.ted.com/tedx/events?autocomplete_filter=TEDxNavigli&page=2&when=past'"
      ]
     },
     "metadata": {},
     "output_type": "display_data"
    },
    {
     "data": {
      "text/plain": [
       "'https://www.ted.com/tedx/events?autocomplete_filter=TEDxPalgong&page=1&when=past'"
      ]
     },
     "metadata": {},
     "output_type": "display_data"
    },
    {
     "data": {
      "text/plain": [
       "'https://www.ted.com/tedx/events?autocomplete_filter=TEDxOdessa&page=2&when=past'"
      ]
     },
     "metadata": {},
     "output_type": "display_data"
    },
    {
     "data": {
      "text/plain": [
       "'https://www.ted.com/tedx/events?autocomplete_filter=TEDxADA&page=1&when=past'"
      ]
     },
     "metadata": {},
     "output_type": "display_data"
    },
    {
     "data": {
      "text/plain": [
       "'https://www.ted.com/tedx/events?autocomplete_filter=TEDxPalgong&page=2&when=past'"
      ]
     },
     "metadata": {},
     "output_type": "display_data"
    },
    {
     "data": {
      "text/plain": [
       "'https://www.ted.com/tedx/events?autocomplete_filter=TEDxUofOzarks&page=1&when=past'"
      ]
     },
     "metadata": {},
     "output_type": "display_data"
    },
    {
     "data": {
      "text/plain": [
       "'https://www.ted.com/tedx/events?autocomplete_filter=TEDxADA&page=2&when=past'"
      ]
     },
     "metadata": {},
     "output_type": "display_data"
    },
    {
     "data": {
      "text/plain": [
       "'https://www.ted.com/tedx/events?autocomplete_filter=TEDxNIDBangalore&page=1&when=past'"
      ]
     },
     "metadata": {},
     "output_type": "display_data"
    },
    {
     "data": {
      "text/plain": [
       "'https://www.ted.com/tedx/events?autocomplete_filter=TEDxUofOzarks&page=2&when=past'"
      ]
     },
     "metadata": {},
     "output_type": "display_data"
    },
    {
     "data": {
      "text/plain": [
       "'https://www.ted.com/tedx/events?autocomplete_filter=TEDxSackville&page=1&when=past'"
      ]
     },
     "metadata": {},
     "output_type": "display_data"
    },
    {
     "data": {
      "text/plain": [
       "'https://www.ted.com/tedx/events?autocomplete_filter=TEDxNIDBangalore&page=2&when=past'"
      ]
     },
     "metadata": {},
     "output_type": "display_data"
    },
    {
     "data": {
      "text/plain": [
       "'https://www.ted.com/tedx/events?autocomplete_filter=TEDxKeio&page=1&when=past'"
      ]
     },
     "metadata": {},
     "output_type": "display_data"
    },
    {
     "data": {
      "text/plain": [
       "'https://www.ted.com/tedx/events?autocomplete_filter=TEDxSackville&page=2&when=past'"
      ]
     },
     "metadata": {},
     "output_type": "display_data"
    },
    {
     "data": {
      "text/plain": [
       "'https://www.ted.com/tedx/events?autocomplete_filter=TEDxUEH&page=1&when=past'"
      ]
     },
     "metadata": {},
     "output_type": "display_data"
    },
    {
     "data": {
      "text/plain": [
       "'https://www.ted.com/tedx/events?autocomplete_filter=TEDxKeio&page=2&when=past'"
      ]
     },
     "metadata": {},
     "output_type": "display_data"
    },
    {
     "data": {
      "text/plain": [
       "'https://www.ted.com/tedx/events?autocomplete_filter=TEDxUEH&page=2&when=past'"
      ]
     },
     "metadata": {},
     "output_type": "display_data"
    },
    {
     "data": {
      "text/plain": [
       "'https://www.ted.com/tedx/events?autocomplete_filter=TEDxYouth@TIS&page=1&when=past'"
      ]
     },
     "metadata": {},
     "output_type": "display_data"
    },
    {
     "data": {
      "text/plain": [
       "'https://www.ted.com/tedx/events?autocomplete_filter=TEDxFirenze&page=1&when=past'"
      ]
     },
     "metadata": {},
     "output_type": "display_data"
    },
    {
     "data": {
      "text/plain": [
       "'https://www.ted.com/tedx/events?autocomplete_filter=TEDxMeieki&page=1&when=past'"
      ]
     },
     "metadata": {},
     "output_type": "display_data"
    },
    {
     "data": {
      "text/plain": [
       "'https://www.ted.com/tedx/events?autocomplete_filter=TEDxYouth@TIS&page=2&when=past'"
      ]
     },
     "metadata": {},
     "output_type": "display_data"
    },
    {
     "data": {
      "text/plain": [
       "'https://www.ted.com/tedx/events?autocomplete_filter=TEDxFirenze&page=2&when=past'"
      ]
     },
     "metadata": {},
     "output_type": "display_data"
    },
    {
     "data": {
      "text/plain": [
       "'https://www.ted.com/tedx/events?autocomplete_filter=TEDxMeieki&page=2&when=past'"
      ]
     },
     "metadata": {},
     "output_type": "display_data"
    },
    {
     "data": {
      "text/plain": [
       "'https://www.ted.com/tedx/events?autocomplete_filter=TEDxYMCAAcademy&page=1&when=past'"
      ]
     },
     "metadata": {},
     "output_type": "display_data"
    },
    {
     "data": {
      "text/plain": [
       "'https://www.ted.com/tedx/events?autocomplete_filter=TEDxMimasStreet&page=1&when=past'"
      ]
     },
     "metadata": {},
     "output_type": "display_data"
    },
    {
     "data": {
      "text/plain": [
       "'https://www.ted.com/tedx/events?autocomplete_filter=TEDxSevenoaks&page=1&when=past'"
      ]
     },
     "metadata": {},
     "output_type": "display_data"
    },
    {
     "data": {
      "text/plain": [
       "'https://www.ted.com/tedx/events?autocomplete_filter=TEDxYMCAAcademy&page=2&when=past'"
      ]
     },
     "metadata": {},
     "output_type": "display_data"
    },
    {
     "data": {
      "text/plain": [
       "'https://www.ted.com/tedx/events?autocomplete_filter=TEDxMimasStreet&page=2&when=past'"
      ]
     },
     "metadata": {},
     "output_type": "display_data"
    },
    {
     "data": {
      "text/plain": [
       "'https://www.ted.com/tedx/events?autocomplete_filter=TEDxBelgrade&page=1&when=past'"
      ]
     },
     "metadata": {},
     "output_type": "display_data"
    },
    {
     "data": {
      "text/plain": [
       "'https://www.ted.com/tedx/events?autocomplete_filter=TEDxSevenoaks&page=2&when=past'"
      ]
     },
     "metadata": {},
     "output_type": "display_data"
    },
    {
     "data": {
      "text/plain": [
       "'https://www.ted.com/tedx/events?autocomplete_filter=TEDxGlobalLearningSchool&page=1&when=past'"
      ]
     },
     "metadata": {},
     "output_type": "display_data"
    },
    {
     "data": {
      "text/plain": [
       "'https://www.ted.com/tedx/events?autocomplete_filter=TEDxBelgrade&page=2&when=past'"
      ]
     },
     "metadata": {},
     "output_type": "display_data"
    },
    {
     "data": {
      "text/plain": [
       "'https://www.ted.com/tedx/events?autocomplete_filter=TEDXZurich&page=1&when=past'"
      ]
     },
     "metadata": {},
     "output_type": "display_data"
    },
    {
     "data": {
      "text/plain": [
       "'https://www.ted.com/tedx/events?autocomplete_filter=TEDxBayfield&page=1&when=past'"
      ]
     },
     "metadata": {},
     "output_type": "display_data"
    },
    {
     "data": {
      "text/plain": [
       "'https://www.ted.com/tedx/events?autocomplete_filter=TEDxGlobalLearningSchool&page=2&when=past'"
      ]
     },
     "metadata": {},
     "output_type": "display_data"
    },
    {
     "data": {
      "text/plain": [
       "'https://www.ted.com/tedx/events?autocomplete_filter=TEDxIUBH&page=1&when=past'"
      ]
     },
     "metadata": {},
     "output_type": "display_data"
    },
    {
     "data": {
      "text/plain": [
       "'https://www.ted.com/tedx/events?autocomplete_filter=TEDXZurich&page=2&when=past'"
      ]
     },
     "metadata": {},
     "output_type": "display_data"
    },
    {
     "data": {
      "text/plain": [
       "'https://www.ted.com/tedx/events?autocomplete_filter=TEDxBayfield&page=2&when=past'"
      ]
     },
     "metadata": {},
     "output_type": "display_data"
    },
    {
     "data": {
      "text/plain": [
       "'https://www.ted.com/tedx/events?autocomplete_filter=TEDxYouth@InnovationDrive&page=1&when=past'"
      ]
     },
     "metadata": {},
     "output_type": "display_data"
    },
    {
     "data": {
      "text/plain": [
       "'https://www.ted.com/tedx/events?autocomplete_filter=TEDxHelsingborg&page=1&when=past'"
      ]
     },
     "metadata": {},
     "output_type": "display_data"
    },
    {
     "data": {
      "text/plain": [
       "'https://www.ted.com/tedx/events?autocomplete_filter=TEDxIUBH&page=2&when=past'"
      ]
     },
     "metadata": {},
     "output_type": "display_data"
    },
    {
     "data": {
      "text/plain": [
       "'https://www.ted.com/tedx/events?autocomplete_filter=TEDxHelsingborg&page=2&when=past'"
      ]
     },
     "metadata": {},
     "output_type": "display_data"
    },
    {
     "data": {
      "text/plain": [
       "'https://www.ted.com/tedx/events?autocomplete_filter=TEDxYouth@InnovationDrive&page=2&when=past'"
      ]
     },
     "metadata": {},
     "output_type": "display_data"
    },
    {
     "data": {
      "text/plain": [
       "'https://www.ted.com/tedx/events?autocomplete_filter=TEDxMaumeeRiver&page=1&when=past'"
      ]
     },
     "metadata": {},
     "output_type": "display_data"
    },
    {
     "data": {
      "text/plain": [
       "'https://www.ted.com/tedx/events?autocomplete_filter=TEDxYouth@Houston&page=1&when=past'"
      ]
     },
     "metadata": {},
     "output_type": "display_data"
    },
    {
     "data": {
      "text/plain": [
       "'https://www.ted.com/tedx/events?autocomplete_filter=TEDxDAS&page=1&when=past'"
      ]
     },
     "metadata": {},
     "output_type": "display_data"
    },
    {
     "data": {
      "text/plain": [
       "'https://www.ted.com/tedx/events?autocomplete_filter=TEDxMaumeeRiver&page=2&when=past'"
      ]
     },
     "metadata": {},
     "output_type": "display_data"
    },
    {
     "data": {
      "text/plain": [
       "'https://www.ted.com/tedx/events?autocomplete_filter=TEDxYouth@Houston&page=2&when=past'"
      ]
     },
     "metadata": {},
     "output_type": "display_data"
    },
    {
     "data": {
      "text/plain": [
       "'https://www.ted.com/tedx/events?autocomplete_filter=TEDxDAS&page=2&when=past'"
      ]
     },
     "metadata": {},
     "output_type": "display_data"
    },
    {
     "data": {
      "text/plain": [
       "'https://www.ted.com/tedx/events?autocomplete_filter=TEDxAlmedalen&page=1&when=past'"
      ]
     },
     "metadata": {},
     "output_type": "display_data"
    },
    {
     "data": {
      "text/plain": [
       "'https://www.ted.com/tedx/events?autocomplete_filter=TEDxSDSU\"&page=1&when=past'"
      ]
     },
     "metadata": {},
     "output_type": "display_data"
    },
    {
     "data": {
      "text/plain": [
       "'https://www.ted.com/tedx/events?autocomplete_filter=TEDxUMNSalon&page=1&when=past'"
      ]
     },
     "metadata": {},
     "output_type": "display_data"
    },
    {
     "data": {
      "text/plain": [
       "'https://www.ted.com/tedx/events?autocomplete_filter=TEDxCanadianUniversityDubai&page=1&when=past'"
      ]
     },
     "metadata": {},
     "output_type": "display_data"
    },
    {
     "data": {
      "text/plain": [
       "'https://www.ted.com/tedx/events?autocomplete_filter=TEDxAlmedalen&page=2&when=past'"
      ]
     },
     "metadata": {},
     "output_type": "display_data"
    },
    {
     "data": {
      "text/plain": [
       "'https://www.ted.com/tedx/events?autocomplete_filter=TEDxCanadianUniversityDubai&page=2&when=past'"
      ]
     },
     "metadata": {},
     "output_type": "display_data"
    },
    {
     "data": {
      "text/plain": [
       "'https://www.ted.com/tedx/events?autocomplete_filter=TEDxMinneapolis:&page=1&when=past'"
      ]
     },
     "metadata": {},
     "output_type": "display_data"
    },
    {
     "data": {
      "text/plain": [
       "'https://www.ted.com/tedx/events?autocomplete_filter=TEDxUMNSalon&page=2&when=past'"
      ]
     },
     "metadata": {},
     "output_type": "display_data"
    },
    {
     "data": {
      "text/plain": [
       "'https://www.ted.com/tedx/events?autocomplete_filter=TEDxGAUniversity&page=1&when=past'"
      ]
     },
     "metadata": {},
     "output_type": "display_data"
    },
    {
     "data": {
      "text/plain": [
       "'https://www.ted.com/tedx/events?autocomplete_filter=TEDxYouth@UH&page=1&when=past'"
      ]
     },
     "metadata": {},
     "output_type": "display_data"
    },
    {
     "data": {
      "text/plain": [
       "'https://www.ted.com/tedx/events?autocomplete_filter=TEDxULg&page=1&when=past'"
      ]
     },
     "metadata": {},
     "output_type": "display_data"
    },
    {
     "data": {
      "text/plain": [
       "'https://www.ted.com/tedx/events?autocomplete_filter=TEDxGAUniversity&page=2&when=past'"
      ]
     },
     "metadata": {},
     "output_type": "display_data"
    },
    {
     "data": {
      "text/plain": [
       "'https://www.ted.com/tedx/events?autocomplete_filter=TEDxYouth@UH&page=2&when=past'"
      ]
     },
     "metadata": {},
     "output_type": "display_data"
    },
    {
     "data": {
      "text/plain": [
       "'https://www.ted.com/tedx/events?autocomplete_filter=TEDxULg&page=2&when=past'"
      ]
     },
     "metadata": {},
     "output_type": "display_data"
    },
    {
     "data": {
      "text/plain": [
       "'https://www.ted.com/tedx/events?autocomplete_filter=TEDxIITBHU&page=1&when=past'"
      ]
     },
     "metadata": {},
     "output_type": "display_data"
    },
    {
     "data": {
      "text/plain": [
       "'https://www.ted.com/tedx/events?autocomplete_filter=TEDxModa&page=1&when=past'"
      ]
     },
     "metadata": {},
     "output_type": "display_data"
    },
    {
     "data": {
      "text/plain": [
       "'https://www.ted.com/tedx/events?autocomplete_filter=TEDxWeberHighSchool&page=1&when=past'"
      ]
     },
     "metadata": {},
     "output_type": "display_data"
    },
    {
     "data": {
      "text/plain": [
       "'https://www.ted.com/tedx/events?autocomplete_filter=TEDxModa&page=2&when=past'"
      ]
     },
     "metadata": {},
     "output_type": "display_data"
    },
    {
     "data": {
      "text/plain": [
       "'https://www.ted.com/tedx/events?autocomplete_filter=TEDxIITBHU&page=2&when=past'"
      ]
     },
     "metadata": {},
     "output_type": "display_data"
    },
    {
     "data": {
      "text/plain": [
       "'https://www.ted.com/tedx/events?autocomplete_filter=TEDxWeberHighSchool&page=2&when=past'"
      ]
     },
     "metadata": {},
     "output_type": "display_data"
    },
    {
     "data": {
      "text/plain": [
       "'https://www.ted.com/tedx/events?autocomplete_filter=TEDxUNISManhattan&page=1&when=past'"
      ]
     },
     "metadata": {},
     "output_type": "display_data"
    },
    {
     "data": {
      "text/plain": [
       "'https://www.ted.com/tedx/events?autocomplete_filter=TEDxRuaPortugal&page=1&when=past'"
      ]
     },
     "metadata": {},
     "output_type": "display_data"
    },
    {
     "data": {
      "text/plain": [
       "'https://www.ted.com/tedx/events?autocomplete_filter=TEDxDumas&page=1&when=past'"
      ]
     },
     "metadata": {},
     "output_type": "display_data"
    },
    {
     "data": {
      "text/plain": [
       "'https://www.ted.com/tedx/events?autocomplete_filter=TEDxUNISManhattan&page=2&when=past'"
      ]
     },
     "metadata": {},
     "output_type": "display_data"
    },
    {
     "data": {
      "text/plain": [
       "'https://www.ted.com/tedx/events?autocomplete_filter=TEDxRuaPortugal&page=2&when=past'"
      ]
     },
     "metadata": {},
     "output_type": "display_data"
    },
    {
     "data": {
      "text/plain": [
       "'https://www.ted.com/tedx/events?autocomplete_filter=TEDxDumas&page=2&when=past'"
      ]
     },
     "metadata": {},
     "output_type": "display_data"
    },
    {
     "data": {
      "text/plain": [
       "'https://www.ted.com/tedx/events?autocomplete_filter=TEDxBergenCommmunityCollege&page=1&when=past'"
      ]
     },
     "metadata": {},
     "output_type": "display_data"
    },
    {
     "data": {
      "text/plain": [
       "'https://www.ted.com/tedx/events?autocomplete_filter=TEDxBritishSchoolGeneva&page=1&when=past'"
      ]
     },
     "metadata": {},
     "output_type": "display_data"
    },
    {
     "data": {
      "text/plain": [
       "'https://www.ted.com/tedx/events?autocomplete_filter=TEDxRosslyn&page=1&when=past'"
      ]
     },
     "metadata": {},
     "output_type": "display_data"
    },
    {
     "data": {
      "text/plain": [
       "'https://www.ted.com/tedx/events?autocomplete_filter=TEDxBritishSchoolGeneva&page=2&when=past'"
      ]
     },
     "metadata": {},
     "output_type": "display_data"
    },
    {
     "data": {
      "text/plain": [
       "'https://www.ted.com/tedx/events?autocomplete_filter=TEDxBergenCommmunityCollege&page=2&when=past'"
      ]
     },
     "metadata": {},
     "output_type": "display_data"
    },
    {
     "data": {
      "text/plain": [
       "'https://www.ted.com/tedx/events?autocomplete_filter=TEDxRosslyn&page=2&when=past'"
      ]
     },
     "metadata": {},
     "output_type": "display_data"
    },
    {
     "data": {
      "text/plain": [
       "'https://www.ted.com/tedx/events?autocomplete_filter=TEDxTârguMureșSalon&page=1&when=past'"
      ]
     },
     "metadata": {},
     "output_type": "display_data"
    },
    {
     "data": {
      "text/plain": [
       "'https://www.ted.com/tedx/events?autocomplete_filter=TEDxShujaiya&page=1&when=past'"
      ]
     },
     "metadata": {},
     "output_type": "display_data"
    },
    {
     "data": {
      "text/plain": [
       "'https://www.ted.com/tedx/events?autocomplete_filter=TEDxRamallah&page=1&when=past'"
      ]
     },
     "metadata": {},
     "output_type": "display_data"
    },
    {
     "data": {
      "text/plain": [
       "'https://www.ted.com/tedx/events?autocomplete_filter=TEDxShujaiya&page=2&when=past'"
      ]
     },
     "metadata": {},
     "output_type": "display_data"
    },
    {
     "data": {
      "text/plain": [
       "'https://www.ted.com/tedx/events?autocomplete_filter=TEDxTârguMureșSalon&page=2&when=past'"
      ]
     },
     "metadata": {},
     "output_type": "display_data"
    },
    {
     "data": {
      "text/plain": [
       "'https://www.ted.com/tedx/events?autocomplete_filter=TEDxUniTO&page=1&when=past'"
      ]
     },
     "metadata": {},
     "output_type": "display_data"
    },
    {
     "data": {
      "text/plain": [
       "'https://www.ted.com/tedx/events?autocomplete_filter=TEDxRamallah&page=2&when=past'"
      ]
     },
     "metadata": {},
     "output_type": "display_data"
    },
    {
     "data": {
      "text/plain": [
       "'https://www.ted.com/tedx/events?autocomplete_filter=TEDxGGSIPU&page=1&when=past'"
      ]
     },
     "metadata": {},
     "output_type": "display_data"
    },
    {
     "data": {
      "text/plain": [
       "'https://www.ted.com/tedx/events?autocomplete_filter=TEDxSoba&page=1&when=past'"
      ]
     },
     "metadata": {},
     "output_type": "display_data"
    },
    {
     "data": {
      "text/plain": [
       "'https://www.ted.com/tedx/events?autocomplete_filter=TEDxUniTO&page=2&when=past'"
      ]
     },
     "metadata": {},
     "output_type": "display_data"
    },
    {
     "data": {
      "text/plain": [
       "'https://www.ted.com/tedx/events?autocomplete_filter=TEDxGGSIPU&page=2&when=past'"
      ]
     },
     "metadata": {},
     "output_type": "display_data"
    },
    {
     "data": {
      "text/plain": [
       "'https://www.ted.com/tedx/events?autocomplete_filter=TEDxSoba&page=2&when=past'"
      ]
     },
     "metadata": {},
     "output_type": "display_data"
    },
    {
     "data": {
      "text/plain": [
       "'https://www.ted.com/tedx/events?autocomplete_filter=TEDxLondonSouthBankU&page=1&when=past'"
      ]
     },
     "metadata": {},
     "output_type": "display_data"
    },
    {
     "data": {
      "text/plain": [
       "'https://www.ted.com/tedx/events?autocomplete_filter=TEDxCavaleirosED&page=1&when=past'"
      ]
     },
     "metadata": {},
     "output_type": "display_data"
    },
    {
     "data": {
      "text/plain": [
       "'https://www.ted.com/tedx/events?autocomplete_filter=TEDxSacramentoCity&page=1&when=past'"
      ]
     },
     "metadata": {},
     "output_type": "display_data"
    },
    {
     "data": {
      "text/plain": [
       "'https://www.ted.com/tedx/events?autocomplete_filter=TEDxCavaleirosED&page=2&when=past'"
      ]
     },
     "metadata": {},
     "output_type": "display_data"
    },
    {
     "data": {
      "text/plain": [
       "'https://www.ted.com/tedx/events?autocomplete_filter=TEDxLondonSouthBankU&page=2&when=past'"
      ]
     },
     "metadata": {},
     "output_type": "display_data"
    },
    {
     "data": {
      "text/plain": [
       "'https://www.ted.com/tedx/events?autocomplete_filter=TEDxKids@Vilnius&page=1&when=past'"
      ]
     },
     "metadata": {},
     "output_type": "display_data"
    },
    {
     "data": {
      "text/plain": [
       "'https://www.ted.com/tedx/events?autocomplete_filter=TEDxChowringhee&page=1&when=past'"
      ]
     },
     "metadata": {},
     "output_type": "display_data"
    },
    {
     "data": {
      "text/plain": [
       "'https://www.ted.com/tedx/events?autocomplete_filter=TEDxKids@Vilnius&page=2&when=past'"
      ]
     },
     "metadata": {},
     "output_type": "display_data"
    },
    {
     "data": {
      "text/plain": [
       "'https://www.ted.com/tedx/events?autocomplete_filter=TEDxHanRiver&page=1&when=past'"
      ]
     },
     "metadata": {},
     "output_type": "display_data"
    },
    {
     "data": {
      "text/plain": [
       "'https://www.ted.com/tedx/events?autocomplete_filter=TEDxThapaeGate&page=1&when=past'"
      ]
     },
     "metadata": {},
     "output_type": "display_data"
    },
    {
     "data": {
      "text/plain": [
       "'https://www.ted.com/tedx/events?autocomplete_filter=TEDxChowringhee&page=2&when=past'"
      ]
     },
     "metadata": {},
     "output_type": "display_data"
    },
    {
     "data": {
      "text/plain": [
       "'https://www.ted.com/tedx/events?autocomplete_filter=TEDxHanRiver&page=2&when=past'"
      ]
     },
     "metadata": {},
     "output_type": "display_data"
    },
    {
     "data": {
      "text/plain": [
       "'https://www.ted.com/tedx/events?autocomplete_filter=TEDxFADBA&page=1&when=past'"
      ]
     },
     "metadata": {},
     "output_type": "display_data"
    },
    {
     "data": {
      "text/plain": [
       "'https://www.ted.com/tedx/events?autocomplete_filter=TEDxThapaeGate&page=2&when=past'"
      ]
     },
     "metadata": {},
     "output_type": "display_data"
    },
    {
     "data": {
      "text/plain": [
       "'https://www.ted.com/tedx/events?autocomplete_filter=TEDxIUM&page=1&when=past'"
      ]
     },
     "metadata": {},
     "output_type": "display_data"
    },
    {
     "data": {
      "text/plain": [
       "'https://www.ted.com/tedx/events?autocomplete_filter=TEDxFADBA&page=2&when=past'"
      ]
     },
     "metadata": {},
     "output_type": "display_data"
    },
    {
     "data": {
      "text/plain": [
       "'https://www.ted.com/tedx/events?autocomplete_filter=TEDxMountAllisonUniversity&page=1&when=past'"
      ]
     },
     "metadata": {},
     "output_type": "display_data"
    },
    {
     "data": {
      "text/plain": [
       "'https://www.ted.com/tedx/events?autocomplete_filter=TEDxIUM&page=2&when=past'"
      ]
     },
     "metadata": {},
     "output_type": "display_data"
    },
    {
     "data": {
      "text/plain": [
       "'https://www.ted.com/tedx/events?autocomplete_filter=TEDxCaldasdaRainha&page=1&when=past'"
      ]
     },
     "metadata": {},
     "output_type": "display_data"
    },
    {
     "data": {
      "text/plain": [
       "'https://www.ted.com/tedx/events?autocomplete_filter=TEDxMountAllisonUniversity&page=2&when=past'"
      ]
     },
     "metadata": {},
     "output_type": "display_data"
    },
    {
     "data": {
      "text/plain": [
       "'https://www.ted.com/tedx/events?autocomplete_filter=TEDxUH1&page=1&when=past'"
      ]
     },
     "metadata": {},
     "output_type": "display_data"
    },
    {
     "data": {
      "text/plain": [
       "'https://www.ted.com/tedx/events?autocomplete_filter=TEDxBroadStreetNY&page=1&when=past'"
      ]
     },
     "metadata": {},
     "output_type": "display_data"
    },
    {
     "data": {
      "text/plain": [
       "'https://www.ted.com/tedx/events?autocomplete_filter=TEDxCaldasdaRainha&page=2&when=past'"
      ]
     },
     "metadata": {},
     "output_type": "display_data"
    },
    {
     "data": {
      "text/plain": [
       "'https://www.ted.com/tedx/events?autocomplete_filter=TEDxUH1&page=2&when=past'"
      ]
     },
     "metadata": {},
     "output_type": "display_data"
    },
    {
     "data": {
      "text/plain": [
       "'https://www.ted.com/tedx/events?autocomplete_filter=TEDxISCAP&page=1&when=past'"
      ]
     },
     "metadata": {},
     "output_type": "display_data"
    },
    {
     "data": {
      "text/plain": [
       "'https://www.ted.com/tedx/events?autocomplete_filter=TEDxBroadStreetNY&page=2&when=past'"
      ]
     },
     "metadata": {},
     "output_type": "display_data"
    },
    {
     "data": {
      "text/plain": [
       "'https://www.ted.com/tedx/events?autocomplete_filter=TEDxfairytale&page=1&when=past'"
      ]
     },
     "metadata": {},
     "output_type": "display_data"
    },
    {
     "data": {
      "text/plain": [
       "'https://www.ted.com/tedx/events?autocomplete_filter=TEDxParkTivoliED&page=1&when=past'"
      ]
     },
     "metadata": {},
     "output_type": "display_data"
    },
    {
     "data": {
      "text/plain": [
       "'https://www.ted.com/tedx/events?autocomplete_filter=TEDxCQ&page=1&when=past'"
      ]
     },
     "metadata": {},
     "output_type": "display_data"
    },
    {
     "data": {
      "text/plain": [
       "'https://www.ted.com/tedx/events?autocomplete_filter=TEDxISCAP&page=2&when=past'"
      ]
     },
     "metadata": {},
     "output_type": "display_data"
    },
    {
     "data": {
      "text/plain": [
       "'https://www.ted.com/tedx/events?autocomplete_filter=TEDxParkTivoliED&page=2&when=past'"
      ]
     },
     "metadata": {},
     "output_type": "display_data"
    },
    {
     "data": {
      "text/plain": [
       "'https://www.ted.com/tedx/events?autocomplete_filter=TEDxCETYSMexicali&page=1&when=past'"
      ]
     },
     "metadata": {},
     "output_type": "display_data"
    },
    {
     "data": {
      "text/plain": [
       "'https://www.ted.com/tedx/events?autocomplete_filter=TEDxCQ&page=2&when=past'"
      ]
     },
     "metadata": {},
     "output_type": "display_data"
    },
    {
     "data": {
      "text/plain": [
       "'https://www.ted.com/tedx/events?autocomplete_filter=TEDxPrincetonLibrary&page=1&when=past'"
      ]
     },
     "metadata": {},
     "output_type": "display_data"
    },
    {
     "data": {
      "text/plain": [
       "'https://www.ted.com/tedx/events?autocomplete_filter=TEDxCelje&page=1&when=past'"
      ]
     },
     "metadata": {},
     "output_type": "display_data"
    },
    {
     "data": {
      "text/plain": [
       "'https://www.ted.com/tedx/events?autocomplete_filter=TEDxCETYSMexicali&page=2&when=past'"
      ]
     },
     "metadata": {},
     "output_type": "display_data"
    },
    {
     "data": {
      "text/plain": [
       "'https://www.ted.com/tedx/events?autocomplete_filter=TEDxPrincetonLibrary&page=2&when=past'"
      ]
     },
     "metadata": {},
     "output_type": "display_data"
    },
    {
     "data": {
      "text/plain": [
       "'https://www.ted.com/tedx/events?autocomplete_filter=TEDxNovaraSalon&page=1&when=past'"
      ]
     },
     "metadata": {},
     "output_type": "display_data"
    },
    {
     "data": {
      "text/plain": [
       "'https://www.ted.com/tedx/events?autocomplete_filter=TEDxCelje&page=2&when=past'"
      ]
     },
     "metadata": {},
     "output_type": "display_data"
    },
    {
     "data": {
      "text/plain": [
       "'https://www.ted.com/tedx/events?autocomplete_filter=TEDxWorthington&page=1&when=past'"
      ]
     },
     "metadata": {},
     "output_type": "display_data"
    },
    {
     "data": {
      "text/plain": [
       "'https://www.ted.com/tedx/events?autocomplete_filter=TEDxNovaraSalon&page=2&when=past'"
      ]
     },
     "metadata": {},
     "output_type": "display_data"
    },
    {
     "data": {
      "text/plain": [
       "'https://www.ted.com/tedx/events?autocomplete_filter=TEDxMisrata&page=1&when=past'"
      ]
     },
     "metadata": {},
     "output_type": "display_data"
    },
    {
     "data": {
      "text/plain": [
       "'https://www.ted.com/tedx/events?autocomplete_filter=TEDxWorthington&page=2&when=past'"
      ]
     },
     "metadata": {},
     "output_type": "display_data"
    },
    {
     "data": {
      "text/plain": [
       "'https://www.ted.com/tedx/events?autocomplete_filter=TEDxTucumán&page=1&when=past'"
      ]
     },
     "metadata": {},
     "output_type": "display_data"
    },
    {
     "data": {
      "text/plain": [
       "'https://www.ted.com/tedx/events?autocomplete_filter=TEDxYouth@Kaliningrad&page=1&when=past'"
      ]
     },
     "metadata": {},
     "output_type": "display_data"
    },
    {
     "data": {
      "text/plain": [
       "'https://www.ted.com/tedx/events?autocomplete_filter=TEDxMisrata&page=2&when=past'"
      ]
     },
     "metadata": {},
     "output_type": "display_data"
    },
    {
     "data": {
      "text/plain": [
       "'https://www.ted.com/tedx/events?autocomplete_filter=TEDxTucumán&page=2&when=past'"
      ]
     },
     "metadata": {},
     "output_type": "display_data"
    },
    {
     "data": {
      "text/plain": [
       "'https://www.ted.com/tedx/events?autocomplete_filter=TEDxStockholmWomen&page=1&when=past'"
      ]
     },
     "metadata": {},
     "output_type": "display_data"
    },
    {
     "data": {
      "text/plain": [
       "'https://www.ted.com/tedx/events?autocomplete_filter=TEDxYouth@Kaliningrad&page=2&when=past'"
      ]
     },
     "metadata": {},
     "output_type": "display_data"
    },
    {
     "data": {
      "text/plain": [
       "'https://www.ted.com/tedx/events?autocomplete_filter=TEDxRigaCity2.0&page=1&when=past'"
      ]
     },
     "metadata": {},
     "output_type": "display_data"
    },
    {
     "data": {
      "text/plain": [
       "'https://www.ted.com/tedx/events?autocomplete_filter=TEDxStockholmWomen&page=2&when=past'"
      ]
     },
     "metadata": {},
     "output_type": "display_data"
    },
    {
     "data": {
      "text/plain": [
       "'https://www.ted.com/tedx/events?autocomplete_filter=TEDxRuaMonteAlegre&page=1&when=past'"
      ]
     },
     "metadata": {},
     "output_type": "display_data"
    },
    {
     "data": {
      "text/plain": [
       "'https://www.ted.com/tedx/events?autocomplete_filter=TEDxYouth@Leiria&page=1&when=past'"
      ]
     },
     "metadata": {},
     "output_type": "display_data"
    },
    {
     "data": {
      "text/plain": [
       "'https://www.ted.com/tedx/events?autocomplete_filter=TEDxBarnardCollegeWomen&page=1&when=past'"
      ]
     },
     "metadata": {},
     "output_type": "display_data"
    },
    {
     "data": {
      "text/plain": [
       "'https://www.ted.com/tedx/events?autocomplete_filter=TEDxBarnardCollegeWomen&page=2&when=past'"
      ]
     },
     "metadata": {},
     "output_type": "display_data"
    },
    {
     "data": {
      "text/plain": [
       "'https://www.ted.com/tedx/events?autocomplete_filter=TEDxYouth@Leiria&page=2&when=past'"
      ]
     },
     "metadata": {},
     "output_type": "display_data"
    },
    {
     "data": {
      "text/plain": [
       "'https://www.ted.com/tedx/events?autocomplete_filter=TEDxRuaMonteAlegre&page=2&when=past'"
      ]
     },
     "metadata": {},
     "output_type": "display_data"
    },
    {
     "data": {
      "text/plain": [
       "'https://www.ted.com/tedx/events?autocomplete_filter=TEDxSaku&page=1&when=past'"
      ]
     },
     "metadata": {},
     "output_type": "display_data"
    },
    {
     "data": {
      "text/plain": [
       "'https://www.ted.com/tedx/events?autocomplete_filter=TEDxUHemisferios&page=1&when=past'"
      ]
     },
     "metadata": {},
     "output_type": "display_data"
    },
    {
     "data": {
      "text/plain": [
       "'https://www.ted.com/tedx/events?autocomplete_filter=TEDxRennesSalon&page=1&when=past'"
      ]
     },
     "metadata": {},
     "output_type": "display_data"
    },
    {
     "data": {
      "text/plain": [
       "'https://www.ted.com/tedx/events?autocomplete_filter=TEDxRennesSalon&page=2&when=past'"
      ]
     },
     "metadata": {},
     "output_type": "display_data"
    },
    {
     "data": {
      "text/plain": [
       "'https://www.ted.com/tedx/events?autocomplete_filter=TEDxUHemisferios&page=2&when=past'"
      ]
     },
     "metadata": {},
     "output_type": "display_data"
    },
    {
     "data": {
      "text/plain": [
       "'https://www.ted.com/tedx/events?autocomplete_filter=TEDxSaku&page=2&when=past'"
      ]
     },
     "metadata": {},
     "output_type": "display_data"
    },
    {
     "data": {
      "text/plain": [
       "'https://www.ted.com/tedx/events?autocomplete_filter=TEDxDarkhan&page=1&when=past'"
      ]
     },
     "metadata": {},
     "output_type": "display_data"
    },
    {
     "data": {
      "text/plain": [
       "'https://www.ted.com/tedx/events?autocomplete_filter=TEDxUnachRiobamba&page=1&when=past'"
      ]
     },
     "metadata": {},
     "output_type": "display_data"
    },
    {
     "data": {
      "text/plain": [
       "'https://www.ted.com/tedx/events?autocomplete_filter=TEDxJuanDeFuca&page=1&when=past'"
      ]
     },
     "metadata": {},
     "output_type": "display_data"
    },
    {
     "data": {
      "text/plain": [
       "'https://www.ted.com/tedx/events?autocomplete_filter=TEDxUnachRiobamba&page=2&when=past'"
      ]
     },
     "metadata": {},
     "output_type": "display_data"
    },
    {
     "data": {
      "text/plain": [
       "'https://www.ted.com/tedx/events?autocomplete_filter=TEDxDarkhan&page=2&when=past'"
      ]
     },
     "metadata": {},
     "output_type": "display_data"
    },
    {
     "data": {
      "text/plain": [
       "'https://www.ted.com/tedx/events?autocomplete_filter=TEDxJuanDeFuca&page=2&when=past'"
      ]
     },
     "metadata": {},
     "output_type": "display_data"
    },
    {
     "data": {
      "text/plain": [
       "'https://www.ted.com/tedx/events?autocomplete_filter=TEDxNevskyProspect&page=1&when=past'"
      ]
     },
     "metadata": {},
     "output_type": "display_data"
    },
    {
     "data": {
      "text/plain": [
       "'https://www.ted.com/tedx/events?autocomplete_filter=TEDxCampos&page=1&when=past'"
      ]
     },
     "metadata": {},
     "output_type": "display_data"
    },
    {
     "data": {
      "text/plain": [
       "'https://www.ted.com/tedx/events?autocomplete_filter=TEDxYouth@KDMHS&page=1&when=past'"
      ]
     },
     "metadata": {},
     "output_type": "display_data"
    },
    {
     "data": {
      "text/plain": [
       "'https://www.ted.com/tedx/events?autocomplete_filter=TEDxYouth@KDMHS&page=2&when=past'"
      ]
     },
     "metadata": {},
     "output_type": "display_data"
    },
    {
     "data": {
      "text/plain": [
       "'https://www.ted.com/tedx/events?autocomplete_filter=TEDxNevskyProspect&page=2&when=past'"
      ]
     },
     "metadata": {},
     "output_type": "display_data"
    },
    {
     "data": {
      "text/plain": [
       "'https://www.ted.com/tedx/events?autocomplete_filter=TEDxCampos&page=2&when=past'"
      ]
     },
     "metadata": {},
     "output_type": "display_data"
    },
    {
     "data": {
      "text/plain": [
       "'https://www.ted.com/tedx/events?autocomplete_filter=TEDxKapranovaSt&page=1&when=past'"
      ]
     },
     "metadata": {},
     "output_type": "display_data"
    },
    {
     "data": {
      "text/plain": [
       "'https://www.ted.com/tedx/events?autocomplete_filter=TedxNashville&page=1&when=past'"
      ]
     },
     "metadata": {},
     "output_type": "display_data"
    },
    {
     "data": {
      "text/plain": [
       "'https://www.ted.com/tedx/events?autocomplete_filter=TEDxBuenosAires2012&page=1&when=past'"
      ]
     },
     "metadata": {},
     "output_type": "display_data"
    },
    {
     "data": {
      "text/plain": [
       "'https://www.ted.com/tedx/events?autocomplete_filter=TEDxRíodelaPlataSalón&page=1&when=past'"
      ]
     },
     "metadata": {},
     "output_type": "display_data"
    },
    {
     "data": {
      "text/plain": [
       "'https://www.ted.com/tedx/events?autocomplete_filter=TEDxKapranovaSt&page=2&when=past'"
      ]
     },
     "metadata": {},
     "output_type": "display_data"
    },
    {
     "data": {
      "text/plain": [
       "'https://www.ted.com/tedx/events?autocomplete_filter=TedxNashville&page=2&when=past'"
      ]
     },
     "metadata": {},
     "output_type": "display_data"
    },
    {
     "data": {
      "text/plain": [
       "'https://www.ted.com/tedx/events?autocomplete_filter=TEDxEarthquake9.0&page=1&when=past'"
      ]
     },
     "metadata": {},
     "output_type": "display_data"
    },
    {
     "data": {
      "text/plain": [
       "'https://www.ted.com/tedx/events?autocomplete_filter=TEDxRíodelaPlataSalón&page=2&when=past'"
      ]
     },
     "metadata": {},
     "output_type": "display_data"
    },
    {
     "data": {
      "text/plain": [
       "'https://www.ted.com/tedx/events?autocomplete_filter=TEDxAgualinda&page=1&when=past'"
      ]
     },
     "metadata": {},
     "output_type": "display_data"
    },
    {
     "data": {
      "text/plain": [
       "'https://www.ted.com/tedx/events?autocomplete_filter=TEDxEarthquake9.0&page=2&when=past'"
      ]
     },
     "metadata": {},
     "output_type": "display_data"
    },
    {
     "data": {
      "text/plain": [
       "'https://www.ted.com/tedx/events?autocomplete_filter=TEDxSpringfieldWomen&page=1&when=past'"
      ]
     },
     "metadata": {},
     "output_type": "display_data"
    },
    {
     "data": {
      "text/plain": [
       "'https://www.ted.com/tedx/events?autocomplete_filter=TEDxAgualinda&page=2&when=past'"
      ]
     },
     "metadata": {},
     "output_type": "display_data"
    },
    {
     "data": {
      "text/plain": [
       "'https://www.ted.com/tedx/events?autocomplete_filter=TEDxCK&page=1&when=past'"
      ]
     },
     "metadata": {},
     "output_type": "display_data"
    },
    {
     "data": {
      "text/plain": [
       "'https://www.ted.com/tedx/events?autocomplete_filter=TEDxSpringfieldWomen&page=2&when=past'"
      ]
     },
     "metadata": {},
     "output_type": "display_data"
    },
    {
     "data": {
      "text/plain": [
       "'https://www.ted.com/tedx/events?autocomplete_filter=TEDxMountainMiddleSchool&page=1&when=past'"
      ]
     },
     "metadata": {},
     "output_type": "display_data"
    },
    {
     "data": {
      "text/plain": [
       "'https://www.ted.com/tedx/events?autocomplete_filter=TEDxCK&page=2&when=past'"
      ]
     },
     "metadata": {},
     "output_type": "display_data"
    },
    {
     "data": {
      "text/plain": [
       "'https://www.ted.com/tedx/events?autocomplete_filter=TEDxBoyleHeights&page=1&when=past'"
      ]
     },
     "metadata": {},
     "output_type": "display_data"
    },
    {
     "data": {
      "text/plain": [
       "'https://www.ted.com/tedx/events?autocomplete_filter=TEDxMountainMiddleSchool&page=2&when=past'"
      ]
     },
     "metadata": {},
     "output_type": "display_data"
    },
    {
     "data": {
      "text/plain": [
       "'https://www.ted.com/tedx/events?autocomplete_filter=TEDxMSB&page=1&when=past'"
      ]
     },
     "metadata": {},
     "output_type": "display_data"
    },
    {
     "data": {
      "text/plain": [
       "'https://www.ted.com/tedx/events?autocomplete_filter=TEDxBoyleHeights&page=2&when=past'"
      ]
     },
     "metadata": {},
     "output_type": "display_data"
    },
    {
     "data": {
      "text/plain": [
       "'https://www.ted.com/tedx/events?autocomplete_filter=TEDxDurazno.&page=1&when=past'"
      ]
     },
     "metadata": {},
     "output_type": "display_data"
    },
    {
     "data": {
      "text/plain": [
       "'https://www.ted.com/tedx/events?autocomplete_filter=TEDxMSB&page=2&when=past'"
      ]
     },
     "metadata": {},
     "output_type": "display_data"
    },
    {
     "data": {
      "text/plain": [
       "'https://www.ted.com/tedx/events?autocomplete_filter=TEDxMarylhurstU&page=1&when=past'"
      ]
     },
     "metadata": {},
     "output_type": "display_data"
    },
    {
     "data": {
      "text/plain": [
       "'https://www.ted.com/tedx/events?autocomplete_filter=TEDxZapote&page=1&when=past'"
      ]
     },
     "metadata": {},
     "output_type": "display_data"
    },
    {
     "data": {
      "text/plain": [
       "'https://www.ted.com/tedx/events?autocomplete_filter=TEDxYouth@Khartoum&page=1&when=past'"
      ]
     },
     "metadata": {},
     "output_type": "display_data"
    },
    {
     "data": {
      "text/plain": [
       "'https://www.ted.com/tedx/events?autocomplete_filter=TEDxMarylhurstU&page=2&when=past'"
      ]
     },
     "metadata": {},
     "output_type": "display_data"
    },
    {
     "data": {
      "text/plain": [
       "'https://www.ted.com/tedx/events?autocomplete_filter=TEDxZapote&page=2&when=past'"
      ]
     },
     "metadata": {},
     "output_type": "display_data"
    },
    {
     "data": {
      "text/plain": [
       "'https://www.ted.com/tedx/events?autocomplete_filter=TEDxYouth@Khartoum&page=2&when=past'"
      ]
     },
     "metadata": {},
     "output_type": "display_data"
    },
    {
     "data": {
      "text/plain": [
       "'https://www.ted.com/tedx/events?autocomplete_filter=TEDxKyivSalon&page=1&when=past'"
      ]
     },
     "metadata": {},
     "output_type": "display_data"
    },
    {
     "data": {
      "text/plain": [
       "'https://www.ted.com/tedx/events?autocomplete_filter=TEDxYouth&page=1&when=past'"
      ]
     },
     "metadata": {},
     "output_type": "display_data"
    },
    {
     "data": {
      "text/plain": [
       "'https://www.ted.com/tedx/events?autocomplete_filter=TEDxBaruunUrt&page=1&when=past'"
      ]
     },
     "metadata": {},
     "output_type": "display_data"
    },
    {
     "data": {
      "text/plain": [
       "'https://www.ted.com/tedx/events?autocomplete_filter=TEDxKyivSalon&page=2&when=past'"
      ]
     },
     "metadata": {},
     "output_type": "display_data"
    },
    {
     "data": {
      "text/plain": [
       "'https://www.ted.com/tedx/events?autocomplete_filter=TEDxBaruunUrt&page=2&when=past'"
      ]
     },
     "metadata": {},
     "output_type": "display_data"
    },
    {
     "data": {
      "text/plain": [
       "'https://www.ted.com/tedx/events?autocomplete_filter=TEDxYouth&page=2&when=past'"
      ]
     },
     "metadata": {},
     "output_type": "display_data"
    },
    {
     "data": {
      "text/plain": [
       "'https://www.ted.com/tedx/events?autocomplete_filter=TEDxYouth@PortoAlegre&page=1&when=past'"
      ]
     },
     "metadata": {},
     "output_type": "display_data"
    },
    {
     "data": {
      "text/plain": [
       "'https://www.ted.com/tedx/events?autocomplete_filter=TEDxPWS&page=1&when=past'"
      ]
     },
     "metadata": {},
     "output_type": "display_data"
    },
    {
     "data": {
      "text/plain": [
       "'https://www.ted.com/tedx/events?autocomplete_filter=TEDxYouth@PortoAlegre&page=2&when=past'"
      ]
     },
     "metadata": {},
     "output_type": "display_data"
    },
    {
     "data": {
      "text/plain": [
       "'https://www.ted.com/tedx/events?autocomplete_filter=TEDxPWS&page=2&when=past'"
      ]
     },
     "metadata": {},
     "output_type": "display_data"
    },
    {
     "data": {
      "text/plain": [
       "'https://www.ted.com/tedx/events?autocomplete_filter=TEDxYouth&page=3&when=past'"
      ]
     },
     "metadata": {},
     "output_type": "display_data"
    },
    {
     "data": {
      "text/plain": [
       "'https://www.ted.com/tedx/events?autocomplete_filter=TEDxUnilasalleCanoas&page=1&when=past'"
      ]
     },
     "metadata": {},
     "output_type": "display_data"
    },
    {
     "data": {
      "text/plain": [
       "'https://www.ted.com/tedx/events?autocomplete_filter=TEDxElGuereo&page=1&when=past'"
      ]
     },
     "metadata": {},
     "output_type": "display_data"
    },
    {
     "data": {
      "text/plain": [
       "'https://www.ted.com/tedx/events?autocomplete_filter=TEDxYouth&page=4&when=past'"
      ]
     },
     "metadata": {},
     "output_type": "display_data"
    },
    {
     "data": {
      "text/plain": [
       "'https://www.ted.com/tedx/events?autocomplete_filter=TEDxUnilasalleCanoas&page=2&when=past'"
      ]
     },
     "metadata": {},
     "output_type": "display_data"
    },
    {
     "data": {
      "text/plain": [
       "'https://www.ted.com/tedx/events?autocomplete_filter=TEDxElGuereo&page=2&when=past'"
      ]
     },
     "metadata": {},
     "output_type": "display_data"
    },
    {
     "data": {
      "text/plain": [
       "'https://www.ted.com/tedx/events?autocomplete_filter=TEDXMadrid&page=1&when=past'"
      ]
     },
     "metadata": {},
     "output_type": "display_data"
    },
    {
     "data": {
      "text/plain": [
       "'https://www.ted.com/tedx/events?autocomplete_filter=TEDxStJosephsSchoolYorkville&page=1&when=past'"
      ]
     },
     "metadata": {},
     "output_type": "display_data"
    },
    {
     "data": {
      "text/plain": [
       "'https://www.ted.com/tedx/events?autocomplete_filter=TEDxYouth&page=5&when=past'"
      ]
     },
     "metadata": {},
     "output_type": "display_data"
    },
    {
     "data": {
      "text/plain": [
       "'https://www.ted.com/tedx/events?autocomplete_filter=TEDxStJosephsSchoolYorkville&page=2&when=past'"
      ]
     },
     "metadata": {},
     "output_type": "display_data"
    },
    {
     "data": {
      "text/plain": [
       "'https://www.ted.com/tedx/events?autocomplete_filter=TEDXMadrid&page=2&when=past'"
      ]
     },
     "metadata": {},
     "output_type": "display_data"
    },
    {
     "data": {
      "text/plain": [
       "'https://www.ted.com/tedx/events?autocomplete_filter=TEDxYouth&page=6&when=past'"
      ]
     },
     "metadata": {},
     "output_type": "display_data"
    },
    {
     "data": {
      "text/plain": [
       "'https://www.ted.com/tedx/events?autocomplete_filter=TEDxChange@TEDxRíodelaPlata&page=1&when=past'"
      ]
     },
     "metadata": {},
     "output_type": "display_data"
    },
    {
     "data": {
      "text/plain": [
       "'https://www.ted.com/tedx/events?autocomplete_filter=TEDxAgualinada&page=1&when=past'"
      ]
     },
     "metadata": {},
     "output_type": "display_data"
    },
    {
     "data": {
      "text/plain": [
       "'https://www.ted.com/tedx/events?autocomplete_filter=TEDxJovem@Ibira&page=1&when=past'"
      ]
     },
     "metadata": {},
     "output_type": "display_data"
    },
    {
     "data": {
      "text/plain": [
       "'https://www.ted.com/tedx/events?autocomplete_filter=TEDxPura&page=1&when=past'"
      ]
     },
     "metadata": {},
     "output_type": "display_data"
    },
    {
     "data": {
      "text/plain": [
       "'https://www.ted.com/tedx/events?autocomplete_filter=TEDxYouth&page=7&when=past'"
      ]
     },
     "metadata": {},
     "output_type": "display_data"
    },
    {
     "data": {
      "text/plain": [
       "'https://www.ted.com/tedx/events?autocomplete_filter=TEDxJovem@Ibira&page=2&when=past'"
      ]
     },
     "metadata": {},
     "output_type": "display_data"
    },
    {
     "data": {
      "text/plain": [
       "'https://www.ted.com/tedx/events?autocomplete_filter=TEDxPura&page=2&when=past'"
      ]
     },
     "metadata": {},
     "output_type": "display_data"
    },
    {
     "data": {
      "text/plain": [
       "'https://www.ted.com/tedx/events?autocomplete_filter=TEDxYouth&page=8&when=past'"
      ]
     },
     "metadata": {},
     "output_type": "display_data"
    },
    {
     "data": {
      "text/plain": [
       "'https://www.ted.com/tedx/events?autocomplete_filter=TEDxHultInternationalBusinessSchoolLND&page=1&when=past'"
      ]
     },
     "metadata": {},
     "output_type": "display_data"
    },
    {
     "data": {
      "text/plain": [
       "'https://www.ted.com/tedx/events?autocomplete_filter=TEDxMiraflores&page=1&when=past'"
      ]
     },
     "metadata": {},
     "output_type": "display_data"
    },
    {
     "data": {
      "text/plain": [
       "'https://www.ted.com/tedx/events?autocomplete_filter=TEDxParquedasNaçõesWomen&page=1&when=past'"
      ]
     },
     "metadata": {},
     "output_type": "display_data"
    },
    {
     "data": {
      "text/plain": [
       "'https://www.ted.com/tedx/events?autocomplete_filter=TEDxYouth&page=9&when=past'"
      ]
     },
     "metadata": {},
     "output_type": "display_data"
    },
    {
     "data": {
      "text/plain": [
       "'https://www.ted.com/tedx/events?autocomplete_filter=TEDxMiraflores&page=2&when=past'"
      ]
     },
     "metadata": {},
     "output_type": "display_data"
    },
    {
     "data": {
      "text/plain": [
       "'https://www.ted.com/tedx/events?autocomplete_filter=TEDxParquedasNaçõesWomen&page=2&when=past'"
      ]
     },
     "metadata": {},
     "output_type": "display_data"
    },
    {
     "data": {
      "text/plain": [
       "'https://www.ted.com/tedx/events?autocomplete_filter=TEDxYouth&page=10&when=past'"
      ]
     },
     "metadata": {},
     "output_type": "display_data"
    },
    {
     "data": {
      "text/plain": [
       "'https://www.ted.com/tedx/events?autocomplete_filter=TEDxCentroHistórico.&page=1&when=past'"
      ]
     },
     "metadata": {},
     "output_type": "display_data"
    },
    {
     "data": {
      "text/plain": [
       "'https://www.ted.com/tedx/events?autocomplete_filter=TEDxBogotá&page=1&when=past'"
      ]
     },
     "metadata": {},
     "output_type": "display_data"
    },
    {
     "data": {
      "text/plain": [
       "'https://www.ted.com/tedx/events?autocomplete_filter=TEDxVilaDoCondeWomen&page=1&when=past'"
      ]
     },
     "metadata": {},
     "output_type": "display_data"
    },
    {
     "data": {
      "text/plain": [
       "'https://www.ted.com/tedx/events?autocomplete_filter=TEDxBogotá&page=2&when=past'"
      ]
     },
     "metadata": {},
     "output_type": "display_data"
    },
    {
     "data": {
      "text/plain": [
       "'https://www.ted.com/tedx/events?autocomplete_filter=TEDxYouth&page=11&when=past'"
      ]
     },
     "metadata": {},
     "output_type": "display_data"
    },
    {
     "data": {
      "text/plain": [
       "'https://www.ted.com/tedx/events?autocomplete_filter=TEDxVilaDoCondeWomen&page=2&when=past'"
      ]
     },
     "metadata": {},
     "output_type": "display_data"
    },
    {
     "data": {
      "text/plain": [
       "'https://www.ted.com/tedx/events?autocomplete_filter=TEDxYouth@PaduaCollege&page=1&when=past'"
      ]
     },
     "metadata": {},
     "output_type": "display_data"
    },
    {
     "data": {
      "text/plain": [
       "'https://www.ted.com/tedx/events?autocomplete_filter=TEDxYouth&page=12&when=past'"
      ]
     },
     "metadata": {},
     "output_type": "display_data"
    },
    {
     "data": {
      "text/plain": [
       "'https://www.ted.com/tedx/events?autocomplete_filter=TEDxBDSIS&page=1&when=past'"
      ]
     },
     "metadata": {},
     "output_type": "display_data"
    },
    {
     "data": {
      "text/plain": [
       "'https://www.ted.com/tedx/events?autocomplete_filter=TEDxYouth@PaduaCollege&page=2&when=past'"
      ]
     },
     "metadata": {},
     "output_type": "display_data"
    },
    {
     "data": {
      "text/plain": [
       "'https://www.ted.com/tedx/events?autocomplete_filter=TEDxYouth&page=13&when=past'"
      ]
     },
     "metadata": {},
     "output_type": "display_data"
    },
    {
     "data": {
      "text/plain": [
       "'https://www.ted.com/tedx/events?autocomplete_filter=TEDxBDSIS&page=2&when=past'"
      ]
     },
     "metadata": {},
     "output_type": "display_data"
    },
    {
     "data": {
      "text/plain": [
       "'https://www.ted.com/tedx/events?autocomplete_filter=TEDxVdemomboyU&page=1&when=past'"
      ]
     },
     "metadata": {},
     "output_type": "display_data"
    },
    {
     "data": {
      "text/plain": [
       "'https://www.ted.com/tedx/events?autocomplete_filter=TEDxOporto&page=1&when=past'"
      ]
     },
     "metadata": {},
     "output_type": "display_data"
    },
    {
     "data": {
      "text/plain": [
       "'https://www.ted.com/tedx/events?autocomplete_filter=TEDxTransmedia2012&page=1&when=past'"
      ]
     },
     "metadata": {},
     "output_type": "display_data"
    },
    {
     "data": {
      "text/plain": [
       "'https://www.ted.com/tedx/events?autocomplete_filter=TEDxUNIFESP&page=1&when=past'"
      ]
     },
     "metadata": {},
     "output_type": "display_data"
    },
    {
     "data": {
      "text/plain": [
       "'https://www.ted.com/tedx/events?autocomplete_filter=TEDxVdemomboyU&page=2&when=past'"
      ]
     },
     "metadata": {},
     "output_type": "display_data"
    },
    {
     "data": {
      "text/plain": [
       "'https://www.ted.com/tedx/events?autocomplete_filter=TEDxOporto&page=2&when=past'"
      ]
     },
     "metadata": {},
     "output_type": "display_data"
    },
    {
     "data": {
      "text/plain": [
       "'https://www.ted.com/tedx/events?autocomplete_filter=TEDxUNIFESP&page=2&when=past'"
      ]
     },
     "metadata": {},
     "output_type": "display_data"
    },
    {
     "data": {
      "text/plain": [
       "'https://www.ted.com/tedx/events?autocomplete_filter=TEDxYouth@CIB&page=1&when=past'"
      ]
     },
     "metadata": {},
     "output_type": "display_data"
    },
    {
     "data": {
      "text/plain": [
       "'https://www.ted.com/tedx/events?autocomplete_filter=TEDxMylapore&page=1&when=past'"
      ]
     },
     "metadata": {},
     "output_type": "display_data"
    },
    {
     "data": {
      "text/plain": [
       "'https://www.ted.com/tedx/events?autocomplete_filter=TEDxKavala&page=1&when=past'"
      ]
     },
     "metadata": {},
     "output_type": "display_data"
    },
    {
     "data": {
      "text/plain": [
       "'https://www.ted.com/tedx/events?autocomplete_filter=TEDxYouth@CIB&page=2&when=past'"
      ]
     },
     "metadata": {},
     "output_type": "display_data"
    },
    {
     "data": {
      "text/plain": [
       "'https://www.ted.com/tedx/events?autocomplete_filter=TEDxMylapore&page=2&when=past'"
      ]
     },
     "metadata": {},
     "output_type": "display_data"
    },
    {
     "data": {
      "text/plain": [
       "'https://www.ted.com/tedx/events?autocomplete_filter=TEDxKavala&page=2&when=past'"
      ]
     },
     "metadata": {},
     "output_type": "display_data"
    },
    {
     "data": {
      "text/plain": [
       "'https://www.ted.com/tedx/events?autocomplete_filter=TEDxNevadaCity&page=1&when=past'"
      ]
     },
     "metadata": {},
     "output_type": "display_data"
    },
    {
     "data": {
      "text/plain": [
       "'https://www.ted.com/tedx/events?autocomplete_filter=TEDxPuenteDeLosChocoyos&page=1&when=past'"
      ]
     },
     "metadata": {},
     "output_type": "display_data"
    },
    {
     "data": {
      "text/plain": [
       "'https://www.ted.com/tedx/events?autocomplete_filter=TEDxUNISEL&page=1&when=past'"
      ]
     },
     "metadata": {},
     "output_type": "display_data"
    },
    {
     "data": {
      "text/plain": [
       "'https://www.ted.com/tedx/events?autocomplete_filter=TEDxNevadaCity&page=2&when=past'"
      ]
     },
     "metadata": {},
     "output_type": "display_data"
    },
    {
     "data": {
      "text/plain": [
       "'https://www.ted.com/tedx/events?autocomplete_filter=TEDxPuenteDeLosChocoyos&page=2&when=past'"
      ]
     },
     "metadata": {},
     "output_type": "display_data"
    },
    {
     "data": {
      "text/plain": [
       "'https://www.ted.com/tedx/events?autocomplete_filter=TEDxUNISEL&page=2&when=past'"
      ]
     },
     "metadata": {},
     "output_type": "display_data"
    },
    {
     "data": {
      "text/plain": [
       "'https://www.ted.com/tedx/events?autocomplete_filter=TEDxPiazzadelTricolore.&page=1&when=past'"
      ]
     },
     "metadata": {},
     "output_type": "display_data"
    },
    {
     "data": {
      "text/plain": [
       "'https://www.ted.com/tedx/events?autocomplete_filter=TEDxESPOCHRiobamba&page=1&when=past'"
      ]
     },
     "metadata": {},
     "output_type": "display_data"
    },
    {
     "data": {
      "text/plain": [
       "'https://www.ted.com/tedx/events?autocomplete_filter=TEDxYouth@TheBrowningSchool&page=1&when=past'"
      ]
     },
     "metadata": {},
     "output_type": "display_data"
    },
    {
     "data": {
      "text/plain": [
       "'https://www.ted.com/tedx/events?autocomplete_filter=TEDxStrasbourgUniversite&page=1&when=past'"
      ]
     },
     "metadata": {},
     "output_type": "display_data"
    },
    {
     "data": {
      "text/plain": [
       "'https://www.ted.com/tedx/events?autocomplete_filter=TEDxESPOCHRiobamba&page=2&when=past'"
      ]
     },
     "metadata": {},
     "output_type": "display_data"
    },
    {
     "data": {
      "text/plain": [
       "'https://www.ted.com/tedx/events?autocomplete_filter=TEDxMorrodoImperador&page=1&when=past'"
      ]
     },
     "metadata": {},
     "output_type": "display_data"
    },
    {
     "data": {
      "text/plain": [
       "'https://www.ted.com/tedx/events?autocomplete_filter=TEDxStrasbourgUniversite&page=2&when=past'"
      ]
     },
     "metadata": {},
     "output_type": "display_data"
    },
    {
     "data": {
      "text/plain": [
       "'https://www.ted.com/tedx/events?autocomplete_filter=TEDxIbituruna&page=1&when=past'"
      ]
     },
     "metadata": {},
     "output_type": "display_data"
    },
    {
     "data": {
      "text/plain": [
       "'https://www.ted.com/tedx/events?autocomplete_filter=TEDxMorrodoImperador&page=2&when=past'"
      ]
     },
     "metadata": {},
     "output_type": "display_data"
    },
    {
     "data": {
      "text/plain": [
       "'https://www.ted.com/tedx/events?autocomplete_filter=TEDxSENAIFlorianópolis&page=1&when=past'"
      ]
     },
     "metadata": {},
     "output_type": "display_data"
    },
    {
     "data": {
      "text/plain": [
       "'https://www.ted.com/tedx/events?autocomplete_filter=TEDxIdeas&page=1&when=past'"
      ]
     },
     "metadata": {},
     "output_type": "display_data"
    },
    {
     "data": {
      "text/plain": [
       "'https://www.ted.com/tedx/events?autocomplete_filter=TEDxIbituruna&page=2&when=past'"
      ]
     },
     "metadata": {},
     "output_type": "display_data"
    },
    {
     "data": {
      "text/plain": [
       "'https://www.ted.com/tedx/events?autocomplete_filter=TEDxSENAIFlorianópolis&page=2&when=past'"
      ]
     },
     "metadata": {},
     "output_type": "display_data"
    },
    {
     "data": {
      "text/plain": [
       "'https://www.ted.com/tedx/events?autocomplete_filter=TEDxYouth@HapseongnamSt&page=1&when=past'"
      ]
     },
     "metadata": {},
     "output_type": "display_data"
    },
    {
     "data": {
      "text/plain": [
       "'https://www.ted.com/tedx/events?autocomplete_filter=TEDxBozemen&page=1&when=past'"
      ]
     },
     "metadata": {},
     "output_type": "display_data"
    },
    {
     "data": {
      "text/plain": [
       "'https://www.ted.com/tedx/events?autocomplete_filter=TEDxYouth@WWHS&page=1&when=past'"
      ]
     },
     "metadata": {},
     "output_type": "display_data"
    },
    {
     "data": {
      "text/plain": [
       "'https://www.ted.com/tedx/events?autocomplete_filter=TEDxBuenosAries&page=1&when=past'"
      ]
     },
     "metadata": {},
     "output_type": "display_data"
    },
    {
     "data": {
      "text/plain": [
       "'https://www.ted.com/tedx/events?autocomplete_filter=TEDxYouth@HapseongnamSt&page=2&when=past'"
      ]
     },
     "metadata": {},
     "output_type": "display_data"
    },
    {
     "data": {
      "text/plain": [
       "'https://www.ted.com/tedx/events?autocomplete_filter=TEDxAdamsMorganWomen&page=1&when=past'"
      ]
     },
     "metadata": {},
     "output_type": "display_data"
    },
    {
     "data": {
      "text/plain": [
       "'https://www.ted.com/tedx/events?autocomplete_filter=TEDxYouth@Singapore&page=1&when=past'"
      ]
     },
     "metadata": {},
     "output_type": "display_data"
    },
    {
     "data": {
      "text/plain": [
       "'https://www.ted.com/tedx/events?autocomplete_filter=TEDxYouth@WWHS&page=2&when=past'"
      ]
     },
     "metadata": {},
     "output_type": "display_data"
    },
    {
     "data": {
      "text/plain": [
       "'https://www.ted.com/tedx/events?autocomplete_filter=TEDxYouth@Singapore&page=2&when=past'"
      ]
     },
     "metadata": {},
     "output_type": "display_data"
    },
    {
     "data": {
      "text/plain": [
       "'https://www.ted.com/tedx/events?autocomplete_filter=TEDxAdamsMorganWomen&page=2&when=past'"
      ]
     },
     "metadata": {},
     "output_type": "display_data"
    },
    {
     "data": {
      "text/plain": [
       "'https://www.ted.com/tedx/events?autocomplete_filter=TEDxBuckingham&page=1&when=past'"
      ]
     },
     "metadata": {},
     "output_type": "display_data"
    },
    {
     "data": {
      "text/plain": [
       "'https://www.ted.com/tedx/events?autocomplete_filter=TEDxxx:&page=1&when=past'"
      ]
     },
     "metadata": {},
     "output_type": "display_data"
    },
    {
     "data": {
      "text/plain": [
       "'https://www.ted.com/tedx/events?autocomplete_filter=TEDxKids@CranbrookSchools&page=1&when=past'"
      ]
     },
     "metadata": {},
     "output_type": "display_data"
    },
    {
     "data": {
      "text/plain": [
       "'https://www.ted.com/tedx/events?autocomplete_filter=TEDxYouth@5LyceumLegnica&page=1&when=past'"
      ]
     },
     "metadata": {},
     "output_type": "display_data"
    },
    {
     "data": {
      "text/plain": [
       "'https://www.ted.com/tedx/events?autocomplete_filter=TEDxBuckingham&page=2&when=past'"
      ]
     },
     "metadata": {},
     "output_type": "display_data"
    },
    {
     "data": {
      "text/plain": [
       "'https://www.ted.com/tedx/events?autocomplete_filter=TEDxKids@CranbrookSchools&page=2&when=past'"
      ]
     },
     "metadata": {},
     "output_type": "display_data"
    },
    {
     "data": {
      "text/plain": [
       "'https://www.ted.com/tedx/events?autocomplete_filter=TEDxShepaugValleyHighSchool&page=1&when=past'"
      ]
     },
     "metadata": {},
     "output_type": "display_data"
    },
    {
     "data": {
      "text/plain": [
       "'https://www.ted.com/tedx/events?autocomplete_filter=TEDxYouth@5LyceumLegnica&page=2&when=past'"
      ]
     },
     "metadata": {},
     "output_type": "display_data"
    },
    {
     "data": {
      "text/plain": [
       "'https://www.ted.com/tedx/events?autocomplete_filter=TEDxSouthwark&page=1&when=past'"
      ]
     },
     "metadata": {},
     "output_type": "display_data"
    },
    {
     "data": {
      "text/plain": [
       "'https://www.ted.com/tedx/events?autocomplete_filter=TEDxShepaugValleyHighSchool&page=2&when=past'"
      ]
     },
     "metadata": {},
     "output_type": "display_data"
    },
    {
     "data": {
      "text/plain": [
       "'https://www.ted.com/tedx/events?autocomplete_filter=TEDxYouth@RWADubai&page=1&when=past'"
      ]
     },
     "metadata": {},
     "output_type": "display_data"
    },
    {
     "data": {
      "text/plain": [
       "'https://www.ted.com/tedx/events?autocomplete_filter=TEDxSouthwark&page=2&when=past'"
      ]
     },
     "metadata": {},
     "output_type": "display_data"
    },
    {
     "data": {
      "text/plain": [
       "'https://www.ted.com/tedx/events?autocomplete_filter=TEDxYouth@RWADubai&page=2&when=past'"
      ]
     },
     "metadata": {},
     "output_type": "display_data"
    },
    {
     "data": {
      "text/plain": [
       "'https://www.ted.com/tedx/events?autocomplete_filter=TEDxUniversityofCentralAsia&page=1&when=past'"
      ]
     },
     "metadata": {},
     "output_type": "display_data"
    },
    {
     "data": {
      "text/plain": [
       "'https://www.ted.com/tedx/events?autocomplete_filter=TEDxSanSalvador&page=1&when=past'"
      ]
     },
     "metadata": {},
     "output_type": "display_data"
    },
    {
     "data": {
      "text/plain": [
       "'https://www.ted.com/tedx/events?autocomplete_filter=TEDxBMS&page=1&when=past'"
      ]
     },
     "metadata": {},
     "output_type": "display_data"
    },
    {
     "data": {
      "text/plain": [
       "'https://www.ted.com/tedx/events?autocomplete_filter=TEDxUniversityofCentralAsia&page=2&when=past'"
      ]
     },
     "metadata": {},
     "output_type": "display_data"
    },
    {
     "data": {
      "text/plain": [
       "'https://www.ted.com/tedx/events?autocomplete_filter=TEDxSanSalvador&page=2&when=past'"
      ]
     },
     "metadata": {},
     "output_type": "display_data"
    },
    {
     "data": {
      "text/plain": [
       "'https://www.ted.com/tedx/events?autocomplete_filter=TEDxBMS&page=2&when=past'"
      ]
     },
     "metadata": {},
     "output_type": "display_data"
    },
    {
     "data": {
      "text/plain": [
       "'https://www.ted.com/tedx/events?autocomplete_filter=TEDxFameSq&page=1&when=past'"
      ]
     },
     "metadata": {},
     "output_type": "display_data"
    },
    {
     "data": {
      "text/plain": [
       "'https://www.ted.com/tedx/events?autocomplete_filter=TEDxAmazônia&page=1&when=past'"
      ]
     },
     "metadata": {},
     "output_type": "display_data"
    },
    {
     "data": {
      "text/plain": [
       "'https://www.ted.com/tedx/events?autocomplete_filter=TEDxESPRIT&page=1&when=past'"
      ]
     },
     "metadata": {},
     "output_type": "display_data"
    },
    {
     "data": {
      "text/plain": [
       "'https://www.ted.com/tedx/events?autocomplete_filter=TEDxFameSq&page=2&when=past'"
      ]
     },
     "metadata": {},
     "output_type": "display_data"
    },
    {
     "data": {
      "text/plain": [
       "'https://www.ted.com/tedx/events?autocomplete_filter=TEDxAmazônia&page=2&when=past'"
      ]
     },
     "metadata": {},
     "output_type": "display_data"
    },
    {
     "data": {
      "text/plain": [
       "'https://www.ted.com/tedx/events?autocomplete_filter=TEDxESPRIT&page=2&when=past'"
      ]
     },
     "metadata": {},
     "output_type": "display_data"
    },
    {
     "data": {
      "text/plain": [
       "'https://www.ted.com/tedx/events?autocomplete_filter=TEDxBogaziciUniversity&page=1&when=past'"
      ]
     },
     "metadata": {},
     "output_type": "display_data"
    },
    {
     "data": {
      "text/plain": [
       "'https://www.ted.com/tedx/events?autocomplete_filter=TEDxDUSalon&page=1&when=past'"
      ]
     },
     "metadata": {},
     "output_type": "display_data"
    },
    {
     "data": {
      "text/plain": [
       "'https://www.ted.com/tedx/events?autocomplete_filter=TEDxChamartín&page=1&when=past'"
      ]
     },
     "metadata": {},
     "output_type": "display_data"
    },
    {
     "data": {
      "text/plain": [
       "'https://www.ted.com/tedx/events?autocomplete_filter=TEDxBogaziciUniversity&page=2&when=past'"
      ]
     },
     "metadata": {},
     "output_type": "display_data"
    },
    {
     "data": {
      "text/plain": [
       "'https://www.ted.com/tedx/events?autocomplete_filter=TEDxDUSalon&page=2&when=past'"
      ]
     },
     "metadata": {},
     "output_type": "display_data"
    },
    {
     "data": {
      "text/plain": [
       "'https://www.ted.com/tedx/events?autocomplete_filter=TEDxChamartín&page=2&when=past'"
      ]
     },
     "metadata": {},
     "output_type": "display_data"
    },
    {
     "data": {
      "text/plain": [
       "'https://www.ted.com/tedx/events?autocomplete_filter=TEDxUdmurtskayaUl&page=1&when=past'"
      ]
     },
     "metadata": {},
     "output_type": "display_data"
    },
    {
     "data": {
      "text/plain": [
       "'https://www.ted.com/tedx/events?autocomplete_filter=TEDxMilton&page=1&when=past'"
      ]
     },
     "metadata": {},
     "output_type": "display_data"
    },
    {
     "data": {
      "text/plain": [
       "'https://www.ted.com/tedx/events?autocomplete_filter=TEDxAvCataratas&page=1&when=past'"
      ]
     },
     "metadata": {},
     "output_type": "display_data"
    },
    {
     "data": {
      "text/plain": [
       "'https://www.ted.com/tedx/events?autocomplete_filter=TEDxUdmurtskayaUl&page=2&when=past'"
      ]
     },
     "metadata": {},
     "output_type": "display_data"
    },
    {
     "data": {
      "text/plain": [
       "'https://www.ted.com/tedx/events?autocomplete_filter=TEDxMilton&page=2&when=past'"
      ]
     },
     "metadata": {},
     "output_type": "display_data"
    },
    {
     "data": {
      "text/plain": [
       "'https://www.ted.com/tedx/events?autocomplete_filter=TEDxSummervilleHighSchool&page=1&when=past'"
      ]
     },
     "metadata": {},
     "output_type": "display_data"
    },
    {
     "data": {
      "text/plain": [
       "'https://www.ted.com/tedx/events?autocomplete_filter=TEDxAvCataratas&page=2&when=past'"
      ]
     },
     "metadata": {},
     "output_type": "display_data"
    },
    {
     "data": {
      "text/plain": [
       "'https://www.ted.com/tedx/events?autocomplete_filter=TEDxNarva&page=1&when=past'"
      ]
     },
     "metadata": {},
     "output_type": "display_data"
    },
    {
     "data": {
      "text/plain": [
       "'https://www.ted.com/tedx/events?autocomplete_filter=TEDxAudenciaNantes&page=1&when=past'"
      ]
     },
     "metadata": {},
     "output_type": "display_data"
    },
    {
     "data": {
      "text/plain": [
       "'https://www.ted.com/tedx/events?autocomplete_filter=TEDxSummervilleHighSchool&page=2&when=past'"
      ]
     },
     "metadata": {},
     "output_type": "display_data"
    },
    {
     "data": {
      "text/plain": [
       "'https://www.ted.com/tedx/events?autocomplete_filter=TEDxNarva&page=2&when=past'"
      ]
     },
     "metadata": {},
     "output_type": "display_data"
    },
    {
     "data": {
      "text/plain": [
       "'https://www.ted.com/tedx/events?autocomplete_filter=TEDxAudenciaNantes&page=2&when=past'"
      ]
     },
     "metadata": {},
     "output_type": "display_data"
    },
    {
     "data": {
      "text/plain": [
       "'https://www.ted.com/tedx/events?autocomplete_filter=TEDxBerlinWomen&page=1&when=past'"
      ]
     },
     "metadata": {},
     "output_type": "display_data"
    },
    {
     "data": {
      "text/plain": [
       "'https://www.ted.com/tedx/events?autocomplete_filter=TEDxLisboaED&page=1&when=past'"
      ]
     },
     "metadata": {},
     "output_type": "display_data"
    },
    {
     "data": {
      "text/plain": [
       "'https://www.ted.com/tedx/events?autocomplete_filter=TEDxPickeringHS&page=1&when=past'"
      ]
     },
     "metadata": {},
     "output_type": "display_data"
    },
    {
     "data": {
      "text/plain": [
       "'https://www.ted.com/tedx/events?autocomplete_filter=TEDxPickeringHS&page=2&when=past'"
      ]
     },
     "metadata": {},
     "output_type": "display_data"
    },
    {
     "data": {
      "text/plain": [
       "'https://www.ted.com/tedx/events?autocomplete_filter=TEDxBerlinWomen&page=2&when=past'"
      ]
     },
     "metadata": {},
     "output_type": "display_data"
    },
    {
     "data": {
      "text/plain": [
       "'https://www.ted.com/tedx/events?autocomplete_filter=TEDxLisboaED&page=2&when=past'"
      ]
     },
     "metadata": {},
     "output_type": "display_data"
    },
    {
     "data": {
      "text/plain": [
       "'https://www.ted.com/tedx/events?autocomplete_filter=TEDxLAÇADOR&page=1&when=past'"
      ]
     },
     "metadata": {},
     "output_type": "display_data"
    },
    {
     "data": {
      "text/plain": [
       "'https://www.ted.com/tedx/events?autocomplete_filter=TEDxSingaporeManagementUniversity&page=1&when=past'"
      ]
     },
     "metadata": {},
     "output_type": "display_data"
    },
    {
     "data": {
      "text/plain": [
       "'https://www.ted.com/tedx/events?autocomplete_filter=TEDxAccraWomen&page=1&when=past'"
      ]
     },
     "metadata": {},
     "output_type": "display_data"
    },
    {
     "data": {
      "text/plain": [
       "'https://www.ted.com/tedx/events?autocomplete_filter=TEDxLAÇADOR&page=2&when=past'"
      ]
     },
     "metadata": {},
     "output_type": "display_data"
    },
    {
     "data": {
      "text/plain": [
       "'https://www.ted.com/tedx/events?autocomplete_filter=TEDxAccraWomen&page=2&when=past'"
      ]
     },
     "metadata": {},
     "output_type": "display_data"
    },
    {
     "data": {
      "text/plain": [
       "'https://www.ted.com/tedx/events?autocomplete_filter=TEDxSingaporeManagementUniversity&page=2&when=past'"
      ]
     },
     "metadata": {},
     "output_type": "display_data"
    },
    {
     "data": {
      "text/plain": [
       "'https://www.ted.com/tedx/events?autocomplete_filter=TEDxYouth@Crocetta&page=1&when=past'"
      ]
     },
     "metadata": {},
     "output_type": "display_data"
    },
    {
     "data": {
      "text/plain": [
       "'https://www.ted.com/tedx/events?autocomplete_filter=TEDxGedizUniversity&page=1&when=past'"
      ]
     },
     "metadata": {},
     "output_type": "display_data"
    },
    {
     "data": {
      "text/plain": [
       "'https://www.ted.com/tedx/events?autocomplete_filter=TEDxSkagitValley&page=1&when=past'"
      ]
     },
     "metadata": {},
     "output_type": "display_data"
    },
    {
     "data": {
      "text/plain": [
       "'https://www.ted.com/tedx/events?autocomplete_filter=TEDxYouth@Crocetta&page=2&when=past'"
      ]
     },
     "metadata": {},
     "output_type": "display_data"
    },
    {
     "data": {
      "text/plain": [
       "'https://www.ted.com/tedx/events?autocomplete_filter=TEDxGedizUniversity&page=2&when=past'"
      ]
     },
     "metadata": {},
     "output_type": "display_data"
    },
    {
     "data": {
      "text/plain": [
       "'https://www.ted.com/tedx/events?autocomplete_filter=TEDxSkagitValley&page=2&when=past'"
      ]
     },
     "metadata": {},
     "output_type": "display_data"
    },
    {
     "data": {
      "text/plain": [
       "'https://www.ted.com/tedx/events?autocomplete_filter=TEDxDaLuz&page=1&when=past'"
      ]
     },
     "metadata": {},
     "output_type": "display_data"
    },
    {
     "data": {
      "text/plain": [
       "'https://www.ted.com/tedx/events?autocomplete_filter=TEDxCincinnati:&page=1&when=past'"
      ]
     },
     "metadata": {},
     "output_type": "display_data"
    },
    {
     "data": {
      "text/plain": [
       "'https://www.ted.com/tedx/events?autocomplete_filter=TEDxUC&page=1&when=past'"
      ]
     },
     "metadata": {},
     "output_type": "display_data"
    },
    {
     "data": {
      "text/plain": [
       "'https://www.ted.com/tedx/events?autocomplete_filter=TEDxDaLuz&page=2&when=past'"
      ]
     },
     "metadata": {},
     "output_type": "display_data"
    },
    {
     "data": {
      "text/plain": [
       "'https://www.ted.com/tedx/events?autocomplete_filter=TEDxTakasaki&page=1&when=past'"
      ]
     },
     "metadata": {},
     "output_type": "display_data"
    },
    {
     "data": {
      "text/plain": [
       "'https://www.ted.com/tedx/events?autocomplete_filter=TEDxScottsdaleSalon&page=1&when=past'"
      ]
     },
     "metadata": {},
     "output_type": "display_data"
    },
    {
     "data": {
      "text/plain": [
       "'https://www.ted.com/tedx/events?autocomplete_filter=TEDxTakasaki&page=2&when=past'"
      ]
     },
     "metadata": {},
     "output_type": "display_data"
    },
    {
     "data": {
      "text/plain": [
       "'https://www.ted.com/tedx/events?autocomplete_filter=TEDxUC&page=2&when=past'"
      ]
     },
     "metadata": {},
     "output_type": "display_data"
    },
    {
     "data": {
      "text/plain": [
       "'https://www.ted.com/tedx/events?autocomplete_filter=TEDxScottsdaleSalon&page=2&when=past'"
      ]
     },
     "metadata": {},
     "output_type": "display_data"
    },
    {
     "data": {
      "text/plain": [
       "'https://www.ted.com/tedx/events?autocomplete_filter=TEDxYouth@CoppellHS&page=1&when=past'"
      ]
     },
     "metadata": {},
     "output_type": "display_data"
    },
    {
     "data": {
      "text/plain": [
       "'https://www.ted.com/tedx/events?autocomplete_filter=TEDxBOVSchool&page=1&when=past'"
      ]
     },
     "metadata": {},
     "output_type": "display_data"
    },
    {
     "data": {
      "text/plain": [
       "'https://www.ted.com/tedx/events?autocomplete_filter=TEDxUC&page=3&when=past'"
      ]
     },
     "metadata": {},
     "output_type": "display_data"
    },
    {
     "data": {
      "text/plain": [
       "'https://www.ted.com/tedx/events?autocomplete_filter=TEDxYouth@CoppellHS&page=2&when=past'"
      ]
     },
     "metadata": {},
     "output_type": "display_data"
    },
    {
     "data": {
      "text/plain": [
       "'https://www.ted.com/tedx/events?autocomplete_filter=TEDxBOVSchool&page=2&when=past'"
      ]
     },
     "metadata": {},
     "output_type": "display_data"
    },
    {
     "data": {
      "text/plain": [
       "'https://www.ted.com/tedx/events?autocomplete_filter=TEDxCrocettaWomen&page=1&when=past'"
      ]
     },
     "metadata": {},
     "output_type": "display_data"
    },
    {
     "data": {
      "text/plain": [
       "'https://www.ted.com/tedx/events?autocomplete_filter=TEDxYouth@Msasani&page=1&when=past'"
      ]
     },
     "metadata": {},
     "output_type": "display_data"
    },
    {
     "data": {
      "text/plain": [
       "'https://www.ted.com/tedx/events?autocomplete_filter=TEDxUC&page=4&when=past'"
      ]
     },
     "metadata": {},
     "output_type": "display_data"
    },
    {
     "data": {
      "text/plain": [
       "'https://www.ted.com/tedx/events?autocomplete_filter=TEDxCrocettaWomen&page=2&when=past'"
      ]
     },
     "metadata": {},
     "output_type": "display_data"
    },
    {
     "data": {
      "text/plain": [
       "'https://www.ted.com/tedx/events?autocomplete_filter=TEDxYouth@Msasani&page=2&when=past'"
      ]
     },
     "metadata": {},
     "output_type": "display_data"
    },
    {
     "data": {
      "text/plain": [
       "'https://www.ted.com/tedx/events?autocomplete_filter=TEDxDis&page=1&when=past'"
      ]
     },
     "metadata": {},
     "output_type": "display_data"
    },
    {
     "data": {
      "text/plain": [
       "'https://www.ted.com/tedx/events?autocomplete_filter=TEDxUC&page=5&when=past'"
      ]
     },
     "metadata": {},
     "output_type": "display_data"
    },
    {
     "data": {
      "text/plain": [
       "'https://www.ted.com/tedx/events?autocomplete_filter=TEDxWarwickED&page=1&when=past'"
      ]
     },
     "metadata": {},
     "output_type": "display_data"
    },
    {
     "data": {
      "text/plain": [
       "'https://www.ted.com/tedx/events?autocomplete_filter=TedxYork&page=1&when=past'"
      ]
     },
     "metadata": {},
     "output_type": "display_data"
    },
    {
     "data": {
      "text/plain": [
       "'https://www.ted.com/tedx/events?autocomplete_filter=TEDxDis&page=2&when=past'"
      ]
     },
     "metadata": {},
     "output_type": "display_data"
    },
    {
     "data": {
      "text/plain": [
       "'https://www.ted.com/tedx/events?autocomplete_filter=TEDxWarwickED&page=2&when=past'"
      ]
     },
     "metadata": {},
     "output_type": "display_data"
    },
    {
     "data": {
      "text/plain": [
       "'https://www.ted.com/tedx/events?autocomplete_filter=TEDxKNU&page=1&when=past'"
      ]
     },
     "metadata": {},
     "output_type": "display_data"
    },
    {
     "data": {
      "text/plain": [
       "'https://www.ted.com/tedx/events?autocomplete_filter=TEDxVilaMadáSalon&page=1&when=past'"
      ]
     },
     "metadata": {},
     "output_type": "display_data"
    },
    {
     "data": {
      "text/plain": [
       "'https://www.ted.com/tedx/events?autocomplete_filter=TedxYork&page=2&when=past'"
      ]
     },
     "metadata": {},
     "output_type": "display_data"
    },
    {
     "data": {
      "text/plain": [
       "'https://www.ted.com/tedx/events?autocomplete_filter=TEDxVilaMadáSalon&page=2&when=past'"
      ]
     },
     "metadata": {},
     "output_type": "display_data"
    },
    {
     "data": {
      "text/plain": [
       "'https://www.ted.com/tedx/events?autocomplete_filter=TEDxKNU&page=2&when=past'"
      ]
     },
     "metadata": {},
     "output_type": "display_data"
    },
    {
     "data": {
      "text/plain": [
       "'https://www.ted.com/tedx/events?autocomplete_filter=TEDxJovem@Pelourinho&page=1&when=past'"
      ]
     },
     "metadata": {},
     "output_type": "display_data"
    },
    {
     "data": {
      "text/plain": [
       "'https://www.ted.com/tedx/events?autocomplete_filter=TEDxNorrkoping&page=1&when=past'"
      ]
     },
     "metadata": {},
     "output_type": "display_data"
    },
    {
     "data": {
      "text/plain": [
       "'https://www.ted.com/tedx/events?autocomplete_filter=TEDxMalagueta\"&page=1&when=past'"
      ]
     },
     "metadata": {},
     "output_type": "display_data"
    },
    {
     "data": {
      "text/plain": [
       "'https://www.ted.com/tedx/events?autocomplete_filter=TEDxJovem@Pelourinho&page=2&when=past'"
      ]
     },
     "metadata": {},
     "output_type": "display_data"
    },
    {
     "data": {
      "text/plain": [
       "'https://www.ted.com/tedx/events?autocomplete_filter=TEDxYouth@LakeComo&page=1&when=past'"
      ]
     },
     "metadata": {},
     "output_type": "display_data"
    },
    {
     "data": {
      "text/plain": [
       "'https://www.ted.com/tedx/events?autocomplete_filter=TEDxYouth@TBSNewDelhi&page=1&when=past'"
      ]
     },
     "metadata": {},
     "output_type": "display_data"
    },
    {
     "data": {
      "text/plain": [
       "'https://www.ted.com/tedx/events?autocomplete_filter=TEDxNorrkoping&page=2&when=past'"
      ]
     },
     "metadata": {},
     "output_type": "display_data"
    },
    {
     "data": {
      "text/plain": [
       "'https://www.ted.com/tedx/events?autocomplete_filter=TEDxYouth@LakeComo&page=2&when=past'"
      ]
     },
     "metadata": {},
     "output_type": "display_data"
    },
    {
     "data": {
      "text/plain": [
       "'https://www.ted.com/tedx/events?autocomplete_filter=TEDxYouth@TBSNewDelhi&page=2&when=past'"
      ]
     },
     "metadata": {},
     "output_type": "display_data"
    },
    {
     "data": {
      "text/plain": [
       "'https://www.ted.com/tedx/events?autocomplete_filter=TEDxBebDiwén&page=1&when=past'"
      ]
     },
     "metadata": {},
     "output_type": "display_data"
    },
    {
     "data": {
      "text/plain": [
       "'https://www.ted.com/tedx/events?autocomplete_filter=TEDxBVCOE&page=1&when=past'"
      ]
     },
     "metadata": {},
     "output_type": "display_data"
    },
    {
     "data": {
      "text/plain": [
       "'https://www.ted.com/tedx/events?autocomplete_filter=TEDxBVCOE&page=2&when=past'"
      ]
     },
     "metadata": {},
     "output_type": "display_data"
    },
    {
     "data": {
      "text/plain": [
       "'https://www.ted.com/tedx/events?autocomplete_filter=TEDxYouth@DYPISWorli&page=1&when=past'"
      ]
     },
     "metadata": {},
     "output_type": "display_data"
    },
    {
     "data": {
      "text/plain": [
       "'https://www.ted.com/tedx/events?autocomplete_filter=TEDxBebDiwén&page=2&when=past'"
      ]
     },
     "metadata": {},
     "output_type": "display_data"
    },
    {
     "data": {
      "text/plain": [
       "'https://www.ted.com/tedx/events?autocomplete_filter=TEDxRainbowStreet&page=1&when=past'"
      ]
     },
     "metadata": {},
     "output_type": "display_data"
    },
    {
     "data": {
      "text/plain": [
       "'https://www.ted.com/tedx/events?autocomplete_filter=TEDxYouth@DYPISWorli&page=2&when=past'"
      ]
     },
     "metadata": {},
     "output_type": "display_data"
    },
    {
     "data": {
      "text/plain": [
       "'https://www.ted.com/tedx/events?autocomplete_filter=TEDxSainteMarie&page=1&when=past'"
      ]
     },
     "metadata": {},
     "output_type": "display_data"
    },
    {
     "data": {
      "text/plain": [
       "'https://www.ted.com/tedx/events?autocomplete_filter=TEDxSummit&page=1&when=past'"
      ]
     },
     "metadata": {},
     "output_type": "display_data"
    },
    {
     "data": {
      "text/plain": [
       "'https://www.ted.com/tedx/events?autocomplete_filter=TEDxRainbowStreet&page=2&when=past'"
      ]
     },
     "metadata": {},
     "output_type": "display_data"
    },
    {
     "data": {
      "text/plain": [
       "'https://www.ted.com/tedx/events?autocomplete_filter=TEDxSainteMarie&page=2&when=past'"
      ]
     },
     "metadata": {},
     "output_type": "display_data"
    },
    {
     "data": {
      "text/plain": [
       "'https://www.ted.com/tedx/events?autocomplete_filter=TEDxSummit&page=2&when=past'"
      ]
     },
     "metadata": {},
     "output_type": "display_data"
    },
    {
     "data": {
      "text/plain": [
       "'https://www.ted.com/tedx/events?autocomplete_filter=TEDxYouth@EmpireStreet&page=1&when=past'"
      ]
     },
     "metadata": {},
     "output_type": "display_data"
    },
    {
     "data": {
      "text/plain": [
       "'https://www.ted.com/tedx/events?autocomplete_filter=TEDXGrandRapids&page=1&when=past'"
      ]
     },
     "metadata": {},
     "output_type": "display_data"
    },
    {
     "data": {
      "text/plain": [
       "'https://www.ted.com/tedx/events?autocomplete_filter=TEDxfreestyle\"&page=1&when=past'"
      ]
     },
     "metadata": {},
     "output_type": "display_data"
    },
    {
     "data": {
      "text/plain": [
       "'https://www.ted.com/tedx/events?autocomplete_filter=TEDxYouth@EmpireStreet&page=2&when=past'"
      ]
     },
     "metadata": {},
     "output_type": "display_data"
    },
    {
     "data": {
      "text/plain": [
       "'https://www.ted.com/tedx/events?autocomplete_filter=TEDxSummit:&page=1&when=past'"
      ]
     },
     "metadata": {},
     "output_type": "display_data"
    },
    {
     "data": {
      "text/plain": [
       "'https://www.ted.com/tedx/events?autocomplete_filter=TEDXGrandRapids&page=2&when=past'"
      ]
     },
     "metadata": {},
     "output_type": "display_data"
    },
    {
     "data": {
      "text/plain": [
       "'https://www.ted.com/tedx/events?autocomplete_filter=TEDxFortdeFrance&page=1&when=past'"
      ]
     },
     "metadata": {},
     "output_type": "display_data"
    },
    {
     "data": {
      "text/plain": [
       "'https://www.ted.com/tedx/events?autocomplete_filter=TEDxGalatiED&page=1&when=past'"
      ]
     },
     "metadata": {},
     "output_type": "display_data"
    },
    {
     "data": {
      "text/plain": [
       "'https://www.ted.com/tedx/events?autocomplete_filter=TEDxShimizu&page=1&when=past'"
      ]
     },
     "metadata": {},
     "output_type": "display_data"
    },
    {
     "data": {
      "text/plain": [
       "'https://www.ted.com/tedx/events?autocomplete_filter=TEDxFortdeFrance&page=2&when=past'"
      ]
     },
     "metadata": {},
     "output_type": "display_data"
    },
    {
     "data": {
      "text/plain": [
       "'https://www.ted.com/tedx/events?autocomplete_filter=TEDxGalatiED&page=2&when=past'"
      ]
     },
     "metadata": {},
     "output_type": "display_data"
    },
    {
     "data": {
      "text/plain": [
       "'https://www.ted.com/tedx/events?autocomplete_filter=TEDxRioSalon&page=1&when=past'"
      ]
     },
     "metadata": {},
     "output_type": "display_data"
    },
    {
     "data": {
      "text/plain": [
       "'https://www.ted.com/tedx/events?autocomplete_filter=TEDxShimizu&page=2&when=past'"
      ]
     },
     "metadata": {},
     "output_type": "display_data"
    },
    {
     "data": {
      "text/plain": [
       "'https://www.ted.com/tedx/events?autocomplete_filter=TEDxKids@Riyadh&page=1&when=past'"
      ]
     },
     "metadata": {},
     "output_type": "display_data"
    },
    {
     "data": {
      "text/plain": [
       "'https://www.ted.com/tedx/events?autocomplete_filter=TEDxSevnica&page=1&when=past'"
      ]
     },
     "metadata": {},
     "output_type": "display_data"
    },
    {
     "data": {
      "text/plain": [
       "'https://www.ted.com/tedx/events?autocomplete_filter=TEDxRioSalon&page=2&when=past'"
      ]
     },
     "metadata": {},
     "output_type": "display_data"
    },
    {
     "data": {
      "text/plain": [
       "'https://www.ted.com/tedx/events?autocomplete_filter=TEDxKids@Riyadh&page=2&when=past'"
      ]
     },
     "metadata": {},
     "output_type": "display_data"
    },
    {
     "data": {
      "text/plain": [
       "'https://www.ted.com/tedx/events?autocomplete_filter=TEDxEastSalon&page=1&when=past'"
      ]
     },
     "metadata": {},
     "output_type": "display_data"
    },
    {
     "data": {
      "text/plain": [
       "'https://www.ted.com/tedx/events?autocomplete_filter=TEDxSevnica&page=2&when=past'"
      ]
     },
     "metadata": {},
     "output_type": "display_data"
    },
    {
     "data": {
      "text/plain": [
       "'https://www.ted.com/tedx/events?autocomplete_filter=TEDxKreuzeskirchviertel&page=1&when=past'"
      ]
     },
     "metadata": {},
     "output_type": "display_data"
    },
    {
     "data": {
      "text/plain": [
       "'https://www.ted.com/tedx/events?autocomplete_filter=TEDxEnola&page=1&when=past'"
      ]
     },
     "metadata": {},
     "output_type": "display_data"
    },
    {
     "data": {
      "text/plain": [
       "'https://www.ted.com/tedx/events?autocomplete_filter=TEDxEastSalon&page=2&when=past'"
      ]
     },
     "metadata": {},
     "output_type": "display_data"
    },
    {
     "data": {
      "text/plain": [
       "'https://www.ted.com/tedx/events?autocomplete_filter=TEDxKreuzeskirchviertel&page=2&when=past'"
      ]
     },
     "metadata": {},
     "output_type": "display_data"
    },
    {
     "data": {
      "text/plain": [
       "'https://www.ted.com/tedx/events?autocomplete_filter=TEDxEnola&page=2&when=past'"
      ]
     },
     "metadata": {},
     "output_type": "display_data"
    },
    {
     "data": {
      "text/plain": [
       "'https://www.ted.com/tedx/events?autocomplete_filter=TEDxArts&EtMétiersParisTechLille&page=1&when=past'"
      ]
     },
     "metadata": {},
     "output_type": "display_data"
    },
    {
     "data": {
      "text/plain": [
       "'https://www.ted.com/tedx/events?autocomplete_filter=TEDxMaksimir&page=1&when=past'"
      ]
     },
     "metadata": {},
     "output_type": "display_data"
    },
    {
     "data": {
      "text/plain": [
       "'https://www.ted.com/tedx/events?autocomplete_filter=TEDxDikshantSchool&page=1&when=past'"
      ]
     },
     "metadata": {},
     "output_type": "display_data"
    },
    {
     "data": {
      "text/plain": [
       "'https://www.ted.com/tedx/events?autocomplete_filter=TEDxArts&EtMétiersParisTechLille&page=2&when=past'"
      ]
     },
     "metadata": {},
     "output_type": "display_data"
    },
    {
     "data": {
      "text/plain": [
       "'https://www.ted.com/tedx/events?autocomplete_filter=TEDxMaksimir&page=2&when=past'"
      ]
     },
     "metadata": {},
     "output_type": "display_data"
    },
    {
     "data": {
      "text/plain": [
       "'https://www.ted.com/tedx/events?autocomplete_filter=TEDxDikshantSchool&page=2&when=past'"
      ]
     },
     "metadata": {},
     "output_type": "display_data"
    },
    {
     "data": {
      "text/plain": [
       "'https://www.ted.com/tedx/events?autocomplete_filter=TEDxVitoshaBlvdED&page=1&when=past'"
      ]
     },
     "metadata": {},
     "output_type": "display_data"
    },
    {
     "data": {
      "text/plain": [
       "'https://www.ted.com/tedx/events?autocomplete_filter=TEDxVaraždin&page=1&when=past'"
      ]
     },
     "metadata": {},
     "output_type": "display_data"
    },
    {
     "data": {
      "text/plain": [
       "'https://www.ted.com/tedx/events?autocomplete_filter=TEDxBanjaluka&page=1&when=past'"
      ]
     },
     "metadata": {},
     "output_type": "display_data"
    },
    {
     "data": {
      "text/plain": [
       "'https://www.ted.com/tedx/events?autocomplete_filter=TEDxVitoshaBlvdED&page=2&when=past'"
      ]
     },
     "metadata": {},
     "output_type": "display_data"
    },
    {
     "data": {
      "text/plain": [
       "'https://www.ted.com/tedx/events?autocomplete_filter=TEDxVaraždin&page=2&when=past'"
      ]
     },
     "metadata": {},
     "output_type": "display_data"
    },
    {
     "data": {
      "text/plain": [
       "'https://www.ted.com/tedx/events?autocomplete_filter=TEDxBanjaluka&page=2&when=past'"
      ]
     },
     "metadata": {},
     "output_type": "display_data"
    },
    {
     "data": {
      "text/plain": [
       "'https://www.ted.com/tedx/events?autocomplete_filter=TEDxPraiadeAtalaia&page=1&when=past'"
      ]
     },
     "metadata": {},
     "output_type": "display_data"
    },
    {
     "data": {
      "text/plain": [
       "'https://www.ted.com/tedx/events?autocomplete_filter=TEDxYouth@BIFS&page=1&when=past'"
      ]
     },
     "metadata": {},
     "output_type": "display_data"
    },
    {
     "data": {
      "text/plain": [
       "'https://www.ted.com/tedx/events?autocomplete_filter=TEDxPokrovkaStED&page=1&when=past'"
      ]
     },
     "metadata": {},
     "output_type": "display_data"
    },
    {
     "data": {
      "text/plain": [
       "'https://www.ted.com/tedx/events?autocomplete_filter=TEDxPraiadeAtalaia&page=2&when=past'"
      ]
     },
     "metadata": {},
     "output_type": "display_data"
    },
    {
     "data": {
      "text/plain": [
       "'https://www.ted.com/tedx/events?autocomplete_filter=TEDxPokrovkaStED&page=2&when=past'"
      ]
     },
     "metadata": {},
     "output_type": "display_data"
    },
    {
     "data": {
      "text/plain": [
       "'https://www.ted.com/tedx/events?autocomplete_filter=TEDxUSPLeste&page=1&when=past'"
      ]
     },
     "metadata": {},
     "output_type": "display_data"
    },
    {
     "data": {
      "text/plain": [
       "'https://www.ted.com/tedx/events?autocomplete_filter=TEDxYouth@BIFS&page=2&when=past'"
      ]
     },
     "metadata": {},
     "output_type": "display_data"
    },
    {
     "data": {
      "text/plain": [
       "'https://www.ted.com/tedx/events?autocomplete_filter=TEDxLaçadorSalon&page=1&when=past'"
      ]
     },
     "metadata": {},
     "output_type": "display_data"
    },
    {
     "data": {
      "text/plain": [
       "'https://www.ted.com/tedx/events?autocomplete_filter=TEDxOpatija&page=1&when=past'"
      ]
     },
     "metadata": {},
     "output_type": "display_data"
    },
    {
     "data": {
      "text/plain": [
       "'https://www.ted.com/tedx/events?autocomplete_filter=TEDxUSPLeste&page=2&when=past'"
      ]
     },
     "metadata": {},
     "output_type": "display_data"
    },
    {
     "data": {
      "text/plain": [
       "'https://www.ted.com/tedx/events?autocomplete_filter=TEDxRivesdeMoselle&page=1&when=past'"
      ]
     },
     "metadata": {},
     "output_type": "display_data"
    },
    {
     "data": {
      "text/plain": [
       "'https://www.ted.com/tedx/events?autocomplete_filter=TEDxLaçadorSalon&page=2&when=past'"
      ]
     },
     "metadata": {},
     "output_type": "display_data"
    },
    {
     "data": {
      "text/plain": [
       "'https://www.ted.com/tedx/events?autocomplete_filter=TEDxOpatija&page=2&when=past'"
      ]
     },
     "metadata": {},
     "output_type": "display_data"
    },
    {
     "data": {
      "text/plain": [
       "'https://www.ted.com/tedx/events?autocomplete_filter=TEDxRivesdeMoselle&page=2&when=past'"
      ]
     },
     "metadata": {},
     "output_type": "display_data"
    },
    {
     "data": {
      "text/plain": [
       "'https://www.ted.com/tedx/events?autocomplete_filter=TEDxMarrakeshv&page=1&when=past'"
      ]
     },
     "metadata": {},
     "output_type": "display_data"
    },
    {
     "data": {
      "text/plain": [
       "'https://www.ted.com/tedx/events?autocomplete_filter=TEDxSeaford&page=1&when=past'"
      ]
     },
     "metadata": {},
     "output_type": "display_data"
    },
    {
     "data": {
      "text/plain": [
       "'https://www.ted.com/tedx/events?autocomplete_filter=TEDxNovokuzneck&page=1&when=past'"
      ]
     },
     "metadata": {},
     "output_type": "display_data"
    },
    {
     "data": {
      "text/plain": [
       "'https://www.ted.com/tedx/events?autocomplete_filter=TEDxToulouseSalon&page=1&when=past'"
      ]
     },
     "metadata": {},
     "output_type": "display_data"
    },
    {
     "data": {
      "text/plain": [
       "'https://www.ted.com/tedx/events?autocomplete_filter=TEDxSeaford&page=2&when=past'"
      ]
     },
     "metadata": {},
     "output_type": "display_data"
    },
    {
     "data": {
      "text/plain": [
       "'https://www.ted.com/tedx/events?autocomplete_filter=TEDxNovokuzneck&page=2&when=past'"
      ]
     },
     "metadata": {},
     "output_type": "display_data"
    },
    {
     "data": {
      "text/plain": [
       "'https://www.ted.com/tedx/events?autocomplete_filter=TEDxDubrovnik&page=1&when=past'"
      ]
     },
     "metadata": {},
     "output_type": "display_data"
    },
    {
     "data": {
      "text/plain": [
       "'https://www.ted.com/tedx/events?autocomplete_filter=TEDxToulouseSalon&page=2&when=past'"
      ]
     },
     "metadata": {},
     "output_type": "display_data"
    },
    {
     "data": {
      "text/plain": [
       "'https://www.ted.com/tedx/events?autocomplete_filter=TEDxTurtleCove&page=1&when=past'"
      ]
     },
     "metadata": {},
     "output_type": "display_data"
    },
    {
     "data": {
      "text/plain": [
       "'https://www.ted.com/tedx/events?autocomplete_filter=TEDxDubrovnik&page=2&when=past'"
      ]
     },
     "metadata": {},
     "output_type": "display_data"
    },
    {
     "data": {
      "text/plain": [
       "'https://www.ted.com/tedx/events?autocomplete_filter=TEDxGrandRapids-&page=1&when=past'"
      ]
     },
     "metadata": {},
     "output_type": "display_data"
    },
    {
     "data": {
      "text/plain": [
       "'https://www.ted.com/tedx/events?autocomplete_filter=TEDxTurtleCove&page=2&when=past'"
      ]
     },
     "metadata": {},
     "output_type": "display_data"
    },
    {
     "data": {
      "text/plain": [
       "'https://www.ted.com/tedx/events?autocomplete_filter=TEDxPolverigi&page=1&when=past'"
      ]
     },
     "metadata": {},
     "output_type": "display_data"
    },
    {
     "data": {
      "text/plain": [
       "'https://www.ted.com/tedx/events?autocomplete_filter=TEDxSkolkovoChange&page=1&when=past'"
      ]
     },
     "metadata": {},
     "output_type": "display_data"
    },
    {
     "data": {
      "text/plain": [
       "'https://www.ted.com/tedx/events?autocomplete_filter=TEDxChibaU&page=1&when=past'"
      ]
     },
     "metadata": {},
     "output_type": "display_data"
    },
    {
     "data": {
      "text/plain": [
       "'https://www.ted.com/tedx/events?autocomplete_filter=TEDxSkolkovoChange&page=2&when=past'"
      ]
     },
     "metadata": {},
     "output_type": "display_data"
    },
    {
     "data": {
      "text/plain": [
       "'https://www.ted.com/tedx/events?autocomplete_filter=TEDxPolverigi&page=2&when=past'"
      ]
     },
     "metadata": {},
     "output_type": "display_data"
    },
    {
     "data": {
      "text/plain": [
       "'https://www.ted.com/tedx/events?autocomplete_filter=TEDxChibaU&page=2&when=past'"
      ]
     },
     "metadata": {},
     "output_type": "display_data"
    },
    {
     "data": {
      "text/plain": [
       "'https://www.ted.com/tedx/events?autocomplete_filter=TEDxSvobodnySt&page=1&when=past'"
      ]
     },
     "metadata": {},
     "output_type": "display_data"
    },
    {
     "data": {
      "text/plain": [
       "'https://www.ted.com/tedx/events?autocomplete_filter=TEDxDesMoinesWomen&page=1&when=past'"
      ]
     },
     "metadata": {},
     "output_type": "display_data"
    },
    {
     "data": {
      "text/plain": [
       "'https://www.ted.com/tedx/events?autocomplete_filter=TEDXDESIRE&page=1&when=past'"
      ]
     },
     "metadata": {},
     "output_type": "display_data"
    },
    {
     "data": {
      "text/plain": [
       "'https://www.ted.com/tedx/events?autocomplete_filter=TEDxSvobodnySt&page=2&when=past'"
      ]
     },
     "metadata": {},
     "output_type": "display_data"
    },
    {
     "data": {
      "text/plain": [
       "'https://www.ted.com/tedx/events?autocomplete_filter=TEDxDesMoinesWomen&page=2&when=past'"
      ]
     },
     "metadata": {},
     "output_type": "display_data"
    },
    {
     "data": {
      "text/plain": [
       "'https://www.ted.com/tedx/events?autocomplete_filter=TEDxCheongjuED&page=1&when=past'"
      ]
     },
     "metadata": {},
     "output_type": "display_data"
    },
    {
     "data": {
      "text/plain": [
       "'https://www.ted.com/tedx/events?autocomplete_filter=TEDxFultonStreetSalon&page=1&when=past'"
      ]
     },
     "metadata": {},
     "output_type": "display_data"
    },
    {
     "data": {
      "text/plain": [
       "'https://www.ted.com/tedx/events?autocomplete_filter=TEDxOsijek&page=1&when=past'"
      ]
     },
     "metadata": {},
     "output_type": "display_data"
    },
    {
     "data": {
      "text/plain": [
       "'https://www.ted.com/tedx/events?autocomplete_filter=TEDxCheongjuED&page=2&when=past'"
      ]
     },
     "metadata": {},
     "output_type": "display_data"
    },
    {
     "data": {
      "text/plain": [
       "'https://www.ted.com/tedx/events?autocomplete_filter=TEDxFultonStreetSalon&page=2&when=past'"
      ]
     },
     "metadata": {},
     "output_type": "display_data"
    },
    {
     "data": {
      "text/plain": [
       "'https://www.ted.com/tedx/events?autocomplete_filter=TEDxITT&page=1&when=past'"
      ]
     },
     "metadata": {},
     "output_type": "display_data"
    },
    {
     "data": {
      "text/plain": [
       "'https://www.ted.com/tedx/events?autocomplete_filter=TEDxOsijek&page=2&when=past'"
      ]
     },
     "metadata": {},
     "output_type": "display_data"
    },
    {
     "data": {
      "text/plain": [
       "'https://www.ted.com/tedx/events?autocomplete_filter=TEDxYouth@BoulogneBillancourt&page=1&when=past'"
      ]
     },
     "metadata": {},
     "output_type": "display_data"
    },
    {
     "data": {
      "text/plain": [
       "'https://www.ted.com/tedx/events?autocomplete_filter=TEDxSHS&page=1&when=past'"
      ]
     },
     "metadata": {},
     "output_type": "display_data"
    },
    {
     "data": {
      "text/plain": [
       "'https://www.ted.com/tedx/events?autocomplete_filter=TEDxITT&page=2&when=past'"
      ]
     },
     "metadata": {},
     "output_type": "display_data"
    },
    {
     "data": {
      "text/plain": [
       "'https://www.ted.com/tedx/events?autocomplete_filter=TEDxYouth@BoulogneBillancourt&page=2&when=past'"
      ]
     },
     "metadata": {},
     "output_type": "display_data"
    },
    {
     "data": {
      "text/plain": [
       "'https://www.ted.com/tedx/events?autocomplete_filter=TEDxYouth@PonderosaHeights&page=1&when=past'"
      ]
     },
     "metadata": {},
     "output_type": "display_data"
    },
    {
     "data": {
      "text/plain": [
       "'https://www.ted.com/tedx/events?autocomplete_filter=TEDxSHS&page=2&when=past'"
      ]
     },
     "metadata": {},
     "output_type": "display_data"
    },
    {
     "data": {
      "text/plain": [
       "'https://www.ted.com/tedx/events?autocomplete_filter=TEDxVršac&page=1&when=past'"
      ]
     },
     "metadata": {},
     "output_type": "display_data"
    },
    {
     "data": {
      "text/plain": [
       "'https://www.ted.com/tedx/events?autocomplete_filter=TEDxYouth@PonderosaHeights&page=2&when=past'"
      ]
     },
     "metadata": {},
     "output_type": "display_data"
    },
    {
     "data": {
      "text/plain": [
       "'https://www.ted.com/tedx/events?autocomplete_filter=TEDxDongdaemun&page=1&when=past'"
      ]
     },
     "metadata": {},
     "output_type": "display_data"
    },
    {
     "data": {
      "text/plain": [
       "'https://www.ted.com/tedx/events?autocomplete_filter=TEDxVršac&page=2&when=past'"
      ]
     },
     "metadata": {},
     "output_type": "display_data"
    },
    {
     "data": {
      "text/plain": [
       "'https://www.ted.com/tedx/events?autocomplete_filter=TEDxZaventem&page=1&when=past'"
      ]
     },
     "metadata": {},
     "output_type": "display_data"
    },
    {
     "data": {
      "text/plain": [
       "'https://www.ted.com/tedx/events?autocomplete_filter=TEDxTomball&page=1&when=past'"
      ]
     },
     "metadata": {},
     "output_type": "display_data"
    },
    {
     "data": {
      "text/plain": [
       "'https://www.ted.com/tedx/events?autocomplete_filter=TEDxDongdaemun&page=2&when=past'"
      ]
     },
     "metadata": {},
     "output_type": "display_data"
    },
    {
     "data": {
      "text/plain": [
       "'https://www.ted.com/tedx/events?autocomplete_filter=TEDxZaventem&page=2&when=past'"
      ]
     },
     "metadata": {},
     "output_type": "display_data"
    },
    {
     "data": {
      "text/plain": [
       "'https://www.ted.com/tedx/events?autocomplete_filter=TEDxTomball&page=2&when=past'"
      ]
     },
     "metadata": {},
     "output_type": "display_data"
    },
    {
     "data": {
      "text/plain": [
       "'https://www.ted.com/tedx/events?autocomplete_filter=TEDxYouth@DienBienPhuSt&page=1&when=past'"
      ]
     },
     "metadata": {},
     "output_type": "display_data"
    },
    {
     "data": {
      "text/plain": [
       "'https://www.ted.com/tedx/events?autocomplete_filter=TEDxBucharestWomen&page=1&when=past'"
      ]
     },
     "metadata": {},
     "output_type": "display_data"
    },
    {
     "data": {
      "text/plain": [
       "'https://www.ted.com/tedx/events?autocomplete_filter=TEDxKaliningrad&page=1&when=past'"
      ]
     },
     "metadata": {},
     "output_type": "display_data"
    },
    {
     "data": {
      "text/plain": [
       "'https://www.ted.com/tedx/events?autocomplete_filter=TEDxYouth@DienBienPhuSt&page=2&when=past'"
      ]
     },
     "metadata": {},
     "output_type": "display_data"
    },
    {
     "data": {
      "text/plain": [
       "'https://www.ted.com/tedx/events?autocomplete_filter=TEDxBucharestWomen&page=2&when=past'"
      ]
     },
     "metadata": {},
     "output_type": "display_data"
    },
    {
     "data": {
      "text/plain": [
       "'https://www.ted.com/tedx/events?autocomplete_filter=TEDxKaliningrad&page=2&when=past'"
      ]
     },
     "metadata": {},
     "output_type": "display_data"
    },
    {
     "data": {
      "text/plain": [
       "'https://www.ted.com/tedx/events?autocomplete_filter=TEDxYouth@AHSDelray&page=1&when=past'"
      ]
     },
     "metadata": {},
     "output_type": "display_data"
    },
    {
     "data": {
      "text/plain": [
       "'https://www.ted.com/tedx/events?autocomplete_filter=TEDxYouth@LMSG&page=1&when=past'"
      ]
     },
     "metadata": {},
     "output_type": "display_data"
    },
    {
     "data": {
      "text/plain": [
       "'https://www.ted.com/tedx/events?autocomplete_filter=TEDxNSTU&page=1&when=past'"
      ]
     },
     "metadata": {},
     "output_type": "display_data"
    },
    {
     "data": {
      "text/plain": [
       "'https://www.ted.com/tedx/events?autocomplete_filter=TEDxYouth@AHSDelray&page=2&when=past'"
      ]
     },
     "metadata": {},
     "output_type": "display_data"
    },
    {
     "data": {
      "text/plain": [
       "'https://www.ted.com/tedx/events?autocomplete_filter=TEDxYouth@LMSG&page=2&when=past'"
      ]
     },
     "metadata": {},
     "output_type": "display_data"
    },
    {
     "data": {
      "text/plain": [
       "'https://www.ted.com/tedx/events?autocomplete_filter=TEDxNSTU&page=2&when=past'"
      ]
     },
     "metadata": {},
     "output_type": "display_data"
    },
    {
     "data": {
      "text/plain": [
       "'https://www.ted.com/tedx/events?autocomplete_filter=TEDxIvanoFrankivskWomen&page=1&when=past'"
      ]
     },
     "metadata": {},
     "output_type": "display_data"
    },
    {
     "data": {
      "text/plain": [
       "'https://www.ted.com/tedx/events?autocomplete_filter=TEDxYouth@CLSG&page=1&when=past'"
      ]
     },
     "metadata": {},
     "output_type": "display_data"
    },
    {
     "data": {
      "text/plain": [
       "'https://www.ted.com/tedx/events?autocomplete_filter=TEDxYouth@OkyanusKoleji&page=1&when=past'"
      ]
     },
     "metadata": {},
     "output_type": "display_data"
    },
    {
     "data": {
      "text/plain": [
       "'https://www.ted.com/tedx/events?autocomplete_filter=TEDxIvanoFrankivskWomen&page=2&when=past'"
      ]
     },
     "metadata": {},
     "output_type": "display_data"
    },
    {
     "data": {
      "text/plain": [
       "'https://www.ted.com/tedx/events?autocomplete_filter=TEDxYouth@CLSG&page=2&when=past'"
      ]
     },
     "metadata": {},
     "output_type": "display_data"
    },
    {
     "data": {
      "text/plain": [
       "'https://www.ted.com/tedx/events?autocomplete_filter=TEDxYouth@OkyanusKoleji&page=2&when=past'"
      ]
     },
     "metadata": {},
     "output_type": "display_data"
    },
    {
     "data": {
      "text/plain": [
       "'https://www.ted.com/tedx/events?autocomplete_filter=TEDxTepebagED&page=1&when=past'"
      ]
     },
     "metadata": {},
     "output_type": "display_data"
    },
    {
     "data": {
      "text/plain": [
       "'https://www.ted.com/tedx/events?autocomplete_filter=TEDxStareMiasto&page=1&when=past'"
      ]
     },
     "metadata": {},
     "output_type": "display_data"
    },
    {
     "data": {
      "text/plain": [
       "'https://www.ted.com/tedx/events?autocomplete_filter=TEDxRMIT&page=1&when=past'"
      ]
     },
     "metadata": {},
     "output_type": "display_data"
    },
    {
     "data": {
      "text/plain": [
       "'https://www.ted.com/tedx/events?autocomplete_filter=TEDxTepebagED&page=2&when=past'"
      ]
     },
     "metadata": {},
     "output_type": "display_data"
    },
    {
     "data": {
      "text/plain": [
       "'https://www.ted.com/tedx/events?autocomplete_filter=TEDxStareMiasto&page=2&when=past'"
      ]
     },
     "metadata": {},
     "output_type": "display_data"
    },
    {
     "data": {
      "text/plain": [
       "'https://www.ted.com/tedx/events?autocomplete_filter=TEDxRMIT&page=2&when=past'"
      ]
     },
     "metadata": {},
     "output_type": "display_data"
    },
    {
     "data": {
      "text/plain": [
       "'https://www.ted.com/tedx/events?autocomplete_filter=TEDxAlRabihSchool&page=1&when=past'"
      ]
     },
     "metadata": {},
     "output_type": "display_data"
    },
    {
     "data": {
      "text/plain": [
       "'https://www.ted.com/tedx/events?autocomplete_filter=TEDxQuimper&page=1&when=past'"
      ]
     },
     "metadata": {},
     "output_type": "display_data"
    },
    {
     "data": {
      "text/plain": [
       "'https://www.ted.com/tedx/events?autocomplete_filter=TEDxDAV&page=1&when=past'"
      ]
     },
     "metadata": {},
     "output_type": "display_data"
    },
    {
     "data": {
      "text/plain": [
       "'https://www.ted.com/tedx/events?autocomplete_filter=TEDxAlRabihSchool&page=2&when=past'"
      ]
     },
     "metadata": {},
     "output_type": "display_data"
    },
    {
     "data": {
      "text/plain": [
       "'https://www.ted.com/tedx/events?autocomplete_filter=TEDxQuimper&page=2&when=past'"
      ]
     },
     "metadata": {},
     "output_type": "display_data"
    },
    {
     "data": {
      "text/plain": [
       "'https://www.ted.com/tedx/events?autocomplete_filter=TEDxDAV&page=2&when=past'"
      ]
     },
     "metadata": {},
     "output_type": "display_data"
    },
    {
     "data": {
      "text/plain": [
       "'https://www.ted.com/tedx/events?autocomplete_filter=TEDxStEdmundsSchool&page=1&when=past'"
      ]
     },
     "metadata": {},
     "output_type": "display_data"
    },
    {
     "data": {
      "text/plain": [
       "'https://www.ted.com/tedx/events?autocomplete_filter=TEDxOrganizers&page=1&when=past'"
      ]
     },
     "metadata": {},
     "output_type": "display_data"
    },
    {
     "data": {
      "text/plain": [
       "'https://www.ted.com/tedx/events?autocomplete_filter=TEDxKPI&page=1&when=past'"
      ]
     },
     "metadata": {},
     "output_type": "display_data"
    },
    {
     "data": {
      "text/plain": [
       "'https://www.ted.com/tedx/events?autocomplete_filter=TEDxStEdmundsSchool&page=2&when=past'"
      ]
     },
     "metadata": {},
     "output_type": "display_data"
    },
    {
     "data": {
      "text/plain": [
       "'https://www.ted.com/tedx/events?autocomplete_filter=TEDxScottsdale&page=1&when=past'"
      ]
     },
     "metadata": {},
     "output_type": "display_data"
    },
    {
     "data": {
      "text/plain": [
       "'https://www.ted.com/tedx/events?autocomplete_filter=TEDxScottsdale&page=2&when=past'"
      ]
     },
     "metadata": {},
     "output_type": "display_data"
    },
    {
     "data": {
      "text/plain": [
       "'https://www.ted.com/tedx/events?autocomplete_filter=TEDxChernihiv&page=1&when=past'"
      ]
     },
     "metadata": {},
     "output_type": "display_data"
    },
    {
     "data": {
      "text/plain": [
       "'https://www.ted.com/tedx/events?autocomplete_filter=TEDxKPI&page=2&when=past'"
      ]
     },
     "metadata": {},
     "output_type": "display_data"
    },
    {
     "data": {
      "text/plain": [
       "'https://www.ted.com/tedx/events?autocomplete_filter=TEDxStillwater&page=1&when=past'"
      ]
     },
     "metadata": {},
     "output_type": "display_data"
    },
    {
     "data": {
      "text/plain": [
       "'https://www.ted.com/tedx/events?autocomplete_filter=TEDxIBU&page=1&when=past'"
      ]
     },
     "metadata": {},
     "output_type": "display_data"
    },
    {
     "data": {
      "text/plain": [
       "'https://www.ted.com/tedx/events?autocomplete_filter=TEDxChernihiv&page=2&when=past'"
      ]
     },
     "metadata": {},
     "output_type": "display_data"
    },
    {
     "data": {
      "text/plain": [
       "'https://www.ted.com/tedx/events?autocomplete_filter=TEDxStillwater&page=2&when=past'"
      ]
     },
     "metadata": {},
     "output_type": "display_data"
    },
    {
     "data": {
      "text/plain": [
       "'https://www.ted.com/tedx/events?autocomplete_filter=TEDxSiouxriver&page=1&when=past'"
      ]
     },
     "metadata": {},
     "output_type": "display_data"
    },
    {
     "data": {
      "text/plain": [
       "'https://www.ted.com/tedx/events?autocomplete_filter=TEDxIBU&page=2&when=past'"
      ]
     },
     "metadata": {},
     "output_type": "display_data"
    },
    {
     "data": {
      "text/plain": [
       "'https://www.ted.com/tedx/events?autocomplete_filter=TEDxBeaconhouseDefence&page=1&when=past'"
      ]
     },
     "metadata": {},
     "output_type": "display_data"
    },
    {
     "data": {
      "text/plain": [
       "'https://www.ted.com/tedx/events?autocomplete_filter=TEDxQafqazUniversity&page=1&when=past'"
      ]
     },
     "metadata": {},
     "output_type": "display_data"
    },
    {
     "data": {
      "text/plain": [
       "'https://www.ted.com/tedx/events?autocomplete_filter=TEDxSiouxriver&page=2&when=past'"
      ]
     },
     "metadata": {},
     "output_type": "display_data"
    },
    {
     "data": {
      "text/plain": [
       "'https://www.ted.com/tedx/events?autocomplete_filter=TEDxBeaconhouseDefence&page=2&when=past'"
      ]
     },
     "metadata": {},
     "output_type": "display_data"
    },
    {
     "data": {
      "text/plain": [
       "'https://www.ted.com/tedx/events?autocomplete_filter=TEDxSomerville:&page=1&when=past'"
      ]
     },
     "metadata": {},
     "output_type": "display_data"
    },
    {
     "data": {
      "text/plain": [
       "'https://www.ted.com/tedx/events?autocomplete_filter=TEDxQafqazUniversity&page=2&when=past'"
      ]
     },
     "metadata": {},
     "output_type": "display_data"
    },
    {
     "data": {
      "text/plain": [
       "'https://www.ted.com/tedx/events?autocomplete_filter=TEDxBonnSquare&page=1&when=past'"
      ]
     },
     "metadata": {},
     "output_type": "display_data"
    },
    {
     "data": {
      "text/plain": [
       "'https://www.ted.com/tedx/events?autocomplete_filter=TEDxYouth@ESBRiodeJaneiro&page=1&when=past'"
      ]
     },
     "metadata": {},
     "output_type": "display_data"
    },
    {
     "data": {
      "text/plain": [
       "'https://www.ted.com/tedx/events?autocomplete_filter=TEDxYouth@RJM&page=1&when=past'"
      ]
     },
     "metadata": {},
     "output_type": "display_data"
    },
    {
     "data": {
      "text/plain": [
       "'https://www.ted.com/tedx/events?autocomplete_filter=TEDxBonnSquare&page=2&when=past'"
      ]
     },
     "metadata": {},
     "output_type": "display_data"
    },
    {
     "data": {
      "text/plain": [
       "'https://www.ted.com/tedx/events?autocomplete_filter=TEDxYouth@ESBRiodeJaneiro&page=2&when=past'"
      ]
     },
     "metadata": {},
     "output_type": "display_data"
    },
    {
     "data": {
      "text/plain": [
       "'https://www.ted.com/tedx/events?autocomplete_filter=TEDxYouth@RJM&page=2&when=past'"
      ]
     },
     "metadata": {},
     "output_type": "display_data"
    },
    {
     "data": {
      "text/plain": [
       "'https://www.ted.com/tedx/events?autocomplete_filter=TEDxMedUniGraz&page=1&when=past'"
      ]
     },
     "metadata": {},
     "output_type": "display_data"
    },
    {
     "data": {
      "text/plain": [
       "'https://www.ted.com/tedx/events?autocomplete_filter=TEDxYouth@WhiteCity&page=1&when=past'"
      ]
     },
     "metadata": {},
     "output_type": "display_data"
    },
    {
     "data": {
      "text/plain": [
       "'https://www.ted.com/tedx/events?autocomplete_filter=TEDxTalk?&page=1&when=past'"
      ]
     },
     "metadata": {},
     "output_type": "display_data"
    },
    {
     "data": {
      "text/plain": [
       "'https://www.ted.com/tedx/events?autocomplete_filter=TEDxMedUniGraz&page=2&when=past'"
      ]
     },
     "metadata": {},
     "output_type": "display_data"
    },
    {
     "data": {
      "text/plain": [
       "'https://www.ted.com/tedx/events?autocomplete_filter=TEDxYouth@LuckyIS&page=1&when=past'"
      ]
     },
     "metadata": {},
     "output_type": "display_data"
    },
    {
     "data": {
      "text/plain": [
       "'https://www.ted.com/tedx/events?autocomplete_filter=TEDxYouth@WhiteCity&page=2&when=past'"
      ]
     },
     "metadata": {},
     "output_type": "display_data"
    },
    {
     "data": {
      "text/plain": [
       "'https://www.ted.com/tedx/events?autocomplete_filter=TEDxSoas&page=1&when=past'"
      ]
     },
     "metadata": {},
     "output_type": "display_data"
    },
    {
     "data": {
      "text/plain": [
       "'https://www.ted.com/tedx/events?autocomplete_filter=TEDxMaitreyiCollege&page=1&when=past'"
      ]
     },
     "metadata": {},
     "output_type": "display_data"
    },
    {
     "data": {
      "text/plain": [
       "'https://www.ted.com/tedx/events?autocomplete_filter=TEDxYouth@LuckyIS&page=2&when=past'"
      ]
     },
     "metadata": {},
     "output_type": "display_data"
    },
    {
     "data": {
      "text/plain": [
       "'https://www.ted.com/tedx/events?autocomplete_filter=TEDxSoas&page=2&when=past'"
      ]
     },
     "metadata": {},
     "output_type": "display_data"
    },
    {
     "data": {
      "text/plain": [
       "'https://www.ted.com/tedx/events?autocomplete_filter=Tedxyouth@Brum&page=1&when=past'"
      ]
     },
     "metadata": {},
     "output_type": "display_data"
    },
    {
     "data": {
      "text/plain": [
       "'https://www.ted.com/tedx/events?autocomplete_filter=TEDxMaitreyiCollege&page=2&when=past'"
      ]
     },
     "metadata": {},
     "output_type": "display_data"
    },
    {
     "data": {
      "text/plain": [
       "'https://www.ted.com/tedx/events?autocomplete_filter=TEDXFortWayne&page=1&when=past'"
      ]
     },
     "metadata": {},
     "output_type": "display_data"
    },
    {
     "data": {
      "text/plain": [
       "'https://www.ted.com/tedx/events?autocomplete_filter=TEDxMSVUWomen&page=1&when=past'"
      ]
     },
     "metadata": {},
     "output_type": "display_data"
    },
    {
     "data": {
      "text/plain": [
       "'https://www.ted.com/tedx/events?autocomplete_filter=Tedxyouth@Brum&page=2&when=past'"
      ]
     },
     "metadata": {},
     "output_type": "display_data"
    },
    {
     "data": {
      "text/plain": [
       "'https://www.ted.com/tedx/events?autocomplete_filter=TEDXFortWayne&page=2&when=past'"
      ]
     },
     "metadata": {},
     "output_type": "display_data"
    },
    {
     "data": {
      "text/plain": [
       "'https://www.ted.com/tedx/events?autocomplete_filter=TEDxYouth@Hangzhou&page=1&when=past'"
      ]
     },
     "metadata": {},
     "output_type": "display_data"
    },
    {
     "data": {
      "text/plain": [
       "'https://www.ted.com/tedx/events?autocomplete_filter=TEDxMSVUWomen&page=2&when=past'"
      ]
     },
     "metadata": {},
     "output_type": "display_data"
    },
    {
     "data": {
      "text/plain": [
       "'https://www.ted.com/tedx/events?autocomplete_filter=TEDxYouth@Sacramento&page=1&when=past'"
      ]
     },
     "metadata": {},
     "output_type": "display_data"
    },
    {
     "data": {
      "text/plain": [
       "'https://www.ted.com/tedx/events?autocomplete_filter=TEDxYouth@Viseu&page=1&when=past'"
      ]
     },
     "metadata": {},
     "output_type": "display_data"
    },
    {
     "data": {
      "text/plain": [
       "'https://www.ted.com/tedx/events?autocomplete_filter=TEDxYouth@Hangzhou&page=2&when=past'"
      ]
     },
     "metadata": {},
     "output_type": "display_data"
    },
    {
     "data": {
      "text/plain": [
       "'https://www.ted.com/tedx/events?autocomplete_filter=TEDxYouth@Sacramento&page=2&when=past'"
      ]
     },
     "metadata": {},
     "output_type": "display_data"
    },
    {
     "data": {
      "text/plain": [
       "'https://www.ted.com/tedx/events?autocomplete_filter=TEDxAklavik&page=1&when=past'"
      ]
     },
     "metadata": {},
     "output_type": "display_data"
    },
    {
     "data": {
      "text/plain": [
       "'https://www.ted.com/tedx/events?autocomplete_filter=TEDxest&page=1&when=past'"
      ]
     },
     "metadata": {},
     "output_type": "display_data"
    },
    {
     "data": {
      "text/plain": [
       "'https://www.ted.com/tedx/events?autocomplete_filter=TEDxYouth@Viseu&page=2&when=past'"
      ]
     },
     "metadata": {},
     "output_type": "display_data"
    },
    {
     "data": {
      "text/plain": [
       "'https://www.ted.com/tedx/events?autocomplete_filter=TEDxAklavik&page=2&when=past'"
      ]
     },
     "metadata": {},
     "output_type": "display_data"
    },
    {
     "data": {
      "text/plain": [
       "'https://www.ted.com/tedx/events?autocomplete_filter=TEDxINTISubang&page=1&when=past'"
      ]
     },
     "metadata": {},
     "output_type": "display_data"
    },
    {
     "data": {
      "text/plain": [
       "'https://www.ted.com/tedx/events?autocomplete_filter=TEDxest&page=2&when=past'"
      ]
     },
     "metadata": {},
     "output_type": "display_data"
    },
    {
     "data": {
      "text/plain": [
       "'https://www.ted.com/tedx/events?autocomplete_filter=TEDxUFV&page=1&when=past'"
      ]
     },
     "metadata": {},
     "output_type": "display_data"
    },
    {
     "data": {
      "text/plain": [
       "'https://www.ted.com/tedx/events?autocomplete_filter=TEDxINTISubang&page=2&when=past'"
      ]
     },
     "metadata": {},
     "output_type": "display_data"
    },
    {
     "data": {
      "text/plain": [
       "'https://www.ted.com/tedx/events?autocomplete_filter=TEDxRobertCollege&page=1&when=past'"
      ]
     },
     "metadata": {},
     "output_type": "display_data"
    },
    {
     "data": {
      "text/plain": [
       "'https://www.ted.com/tedx/events?autocomplete_filter=TEDxUFV&page=2&when=past'"
      ]
     },
     "metadata": {},
     "output_type": "display_data"
    },
    {
     "data": {
      "text/plain": [
       "'https://www.ted.com/tedx/events?autocomplete_filter=TEDxSophiaUniversity&page=1&when=past'"
      ]
     },
     "metadata": {},
     "output_type": "display_data"
    },
    {
     "data": {
      "text/plain": [
       "'https://www.ted.com/tedx/events?autocomplete_filter=TEDxNMIMSIndore&page=1&when=past'"
      ]
     },
     "metadata": {},
     "output_type": "display_data"
    },
    {
     "data": {
      "text/plain": [
       "'https://www.ted.com/tedx/events?autocomplete_filter=TEDxRobertCollege&page=2&when=past'"
      ]
     },
     "metadata": {},
     "output_type": "display_data"
    },
    {
     "data": {
      "text/plain": [
       "'https://www.ted.com/tedx/events?autocomplete_filter=TEDxSophiaUniversity&page=2&when=past'"
      ]
     },
     "metadata": {},
     "output_type": "display_data"
    },
    {
     "data": {
      "text/plain": [
       "'https://www.ted.com/tedx/events?autocomplete_filter=TEDxNMIMSIndore&page=2&when=past'"
      ]
     },
     "metadata": {},
     "output_type": "display_data"
    },
    {
     "data": {
      "text/plain": [
       "'https://www.ted.com/tedx/events?autocomplete_filter=TEDxYorkville&page=1&when=past'"
      ]
     },
     "metadata": {},
     "output_type": "display_data"
    },
    {
     "data": {
      "text/plain": [
       "'https://www.ted.com/tedx/events?autocomplete_filter=TEDxLjubljanaEd&page=1&when=past'"
      ]
     },
     "metadata": {},
     "output_type": "display_data"
    },
    {
     "data": {
      "text/plain": [
       "'https://www.ted.com/tedx/events?autocomplete_filter=TEDxYouth@Brookefield&page=1&when=past'"
      ]
     },
     "metadata": {},
     "output_type": "display_data"
    },
    {
     "data": {
      "text/plain": [
       "'https://www.ted.com/tedx/events?autocomplete_filter=TEDxYorkville&page=2&when=past'"
      ]
     },
     "metadata": {},
     "output_type": "display_data"
    },
    {
     "data": {
      "text/plain": [
       "'https://www.ted.com/tedx/events?autocomplete_filter=TEDxLjubljanaEd&page=2&when=past'"
      ]
     },
     "metadata": {},
     "output_type": "display_data"
    },
    {
     "data": {
      "text/plain": [
       "'https://www.ted.com/tedx/events?autocomplete_filter=TEDxYouth@Brookefield&page=2&when=past'"
      ]
     },
     "metadata": {},
     "output_type": "display_data"
    },
    {
     "data": {
      "text/plain": [
       "'https://www.ted.com/tedx/events?autocomplete_filter=TedxUNCAsheville&page=1&when=past'"
      ]
     },
     "metadata": {},
     "output_type": "display_data"
    },
    {
     "data": {
      "text/plain": [
       "'https://www.ted.com/tedx/events?autocomplete_filter=TEDxDomlurChange&page=1&when=past'"
      ]
     },
     "metadata": {},
     "output_type": "display_data"
    },
    {
     "data": {
      "text/plain": [
       "'https://www.ted.com/tedx/events?autocomplete_filter=TEDxSVCE&page=1&when=past'"
      ]
     },
     "metadata": {},
     "output_type": "display_data"
    },
    {
     "data": {
      "text/plain": [
       "'https://www.ted.com/tedx/events?autocomplete_filter=TedxUNCAsheville&page=2&when=past'"
      ]
     },
     "metadata": {},
     "output_type": "display_data"
    },
    {
     "data": {
      "text/plain": [
       "'https://www.ted.com/tedx/events?autocomplete_filter=TEDxDomlurChange&page=2&when=past'"
      ]
     },
     "metadata": {},
     "output_type": "display_data"
    },
    {
     "data": {
      "text/plain": [
       "'https://www.ted.com/tedx/events?autocomplete_filter=TEDxSVCE&page=2&when=past'"
      ]
     },
     "metadata": {},
     "output_type": "display_data"
    },
    {
     "data": {
      "text/plain": [
       "'https://www.ted.com/tedx/events?autocomplete_filter=TEDxAmericanHeritageSchool&page=1&when=past'"
      ]
     },
     "metadata": {},
     "output_type": "display_data"
    },
    {
     "data": {
      "text/plain": [
       "'https://www.ted.com/tedx/events?autocomplete_filter=TEDxOsakaUSalon&page=1&when=past'"
      ]
     },
     "metadata": {},
     "output_type": "display_data"
    },
    {
     "data": {
      "text/plain": [
       "'https://www.ted.com/tedx/events?autocomplete_filter=TEDxCitadelPark&page=1&when=past'"
      ]
     },
     "metadata": {},
     "output_type": "display_data"
    },
    {
     "data": {
      "text/plain": [
       "'https://www.ted.com/tedx/events?autocomplete_filter=TEDxAmericanHeritageSchool&page=2&when=past'"
      ]
     },
     "metadata": {},
     "output_type": "display_data"
    },
    {
     "data": {
      "text/plain": [
       "'https://www.ted.com/tedx/events?autocomplete_filter=TEDxOsakaUSalon&page=2&when=past'"
      ]
     },
     "metadata": {},
     "output_type": "display_data"
    },
    {
     "data": {
      "text/plain": [
       "'https://www.ted.com/tedx/events?autocomplete_filter=TEDxCitadelPark&page=2&when=past'"
      ]
     },
     "metadata": {},
     "output_type": "display_data"
    },
    {
     "data": {
      "text/plain": [
       "'https://www.ted.com/tedx/events?autocomplete_filter=TEDxcellent&page=1&when=past'"
      ]
     },
     "metadata": {},
     "output_type": "display_data"
    },
    {
     "data": {
      "text/plain": [
       "'https://www.ted.com/tedx/events?autocomplete_filter=TEDxKhouribga&page=1&when=past'"
      ]
     },
     "metadata": {},
     "output_type": "display_data"
    },
    {
     "data": {
      "text/plain": [
       "'https://www.ted.com/tedx/events?autocomplete_filter=TEDxElJadida&page=1&when=past'"
      ]
     },
     "metadata": {},
     "output_type": "display_data"
    },
    {
     "data": {
      "text/plain": [
       "'https://www.ted.com/tedx/events?autocomplete_filter=TEDxKranj&page=1&when=past'"
      ]
     },
     "metadata": {},
     "output_type": "display_data"
    },
    {
     "data": {
      "text/plain": [
       "'https://www.ted.com/tedx/events?autocomplete_filter=TEDxKhouribga&page=2&when=past'"
      ]
     },
     "metadata": {},
     "output_type": "display_data"
    },
    {
     "data": {
      "text/plain": [
       "'https://www.ted.com/tedx/events?autocomplete_filter=TEDxElJadida&page=2&when=past'"
      ]
     },
     "metadata": {},
     "output_type": "display_data"
    },
    {
     "data": {
      "text/plain": [
       "'https://www.ted.com/tedx/events?autocomplete_filter=TEDxKranj&page=2&when=past'"
      ]
     },
     "metadata": {},
     "output_type": "display_data"
    },
    {
     "data": {
      "text/plain": [
       "'https://www.ted.com/tedx/events?autocomplete_filter=TEDxWhitefield&page=1&when=past'"
      ]
     },
     "metadata": {},
     "output_type": "display_data"
    },
    {
     "data": {
      "text/plain": [
       "\"https://www.ted.com/tedx/events?autocomplete_filter=TEDxStHilda'sSchool&page=1&when=past\""
      ]
     },
     "metadata": {},
     "output_type": "display_data"
    },
    {
     "data": {
      "text/plain": [
       "'https://www.ted.com/tedx/events?autocomplete_filter=TEDxProacademy&page=1&when=past'"
      ]
     },
     "metadata": {},
     "output_type": "display_data"
    },
    {
     "data": {
      "text/plain": [
       "'https://www.ted.com/tedx/events?autocomplete_filter=TEDxDonModDang&page=1&when=past'"
      ]
     },
     "metadata": {},
     "output_type": "display_data"
    },
    {
     "data": {
      "text/plain": [
       "'https://www.ted.com/tedx/events?autocomplete_filter=TEDxWhitefield&page=2&when=past'"
      ]
     },
     "metadata": {},
     "output_type": "display_data"
    },
    {
     "data": {
      "text/plain": [
       "'https://www.ted.com/tedx/events?autocomplete_filter=TEDxProacademy&page=2&when=past'"
      ]
     },
     "metadata": {},
     "output_type": "display_data"
    },
    {
     "data": {
      "text/plain": [
       "'https://www.ted.com/tedx/events?autocomplete_filter=TEDxDonModDang&page=2&when=past'"
      ]
     },
     "metadata": {},
     "output_type": "display_data"
    },
    {
     "data": {
      "text/plain": [
       "'https://www.ted.com/tedx/events?autocomplete_filter=TEDxYouth@MSC&page=1&when=past'"
      ]
     },
     "metadata": {},
     "output_type": "display_data"
    },
    {
     "data": {
      "text/plain": [
       "'https://www.ted.com/tedx/events?autocomplete_filter=TEDxIIITDMJabalpur&page=1&when=past'"
      ]
     },
     "metadata": {},
     "output_type": "display_data"
    },
    {
     "data": {
      "text/plain": [
       "'https://www.ted.com/tedx/events?autocomplete_filter=TEDxTrangThiSt|&page=1&when=past'"
      ]
     },
     "metadata": {},
     "output_type": "display_data"
    },
    {
     "data": {
      "text/plain": [
       "'https://www.ted.com/tedx/events?autocomplete_filter=TEDxYouth@MSC&page=2&when=past'"
      ]
     },
     "metadata": {},
     "output_type": "display_data"
    },
    {
     "data": {
      "text/plain": [
       "'https://www.ted.com/tedx/events?autocomplete_filter=TEDxIIITDMJabalpur&page=2&when=past'"
      ]
     },
     "metadata": {},
     "output_type": "display_data"
    },
    {
     "data": {
      "text/plain": [
       "'https://www.ted.com/tedx/events?autocomplete_filter=TEDxSurbrunnsgatan&page=1&when=past'"
      ]
     },
     "metadata": {},
     "output_type": "display_data"
    },
    {
     "data": {
      "text/plain": [
       "'https://www.ted.com/tedx/events?autocomplete_filter=TEDxYouth@Coimbra&page=1&when=past'"
      ]
     },
     "metadata": {},
     "output_type": "display_data"
    },
    {
     "data": {
      "text/plain": [
       "'https://www.ted.com/tedx/events?autocomplete_filter=TEDx:&page=1&when=past'"
      ]
     },
     "metadata": {},
     "output_type": "display_data"
    },
    {
     "data": {
      "text/plain": [
       "'https://www.ted.com/tedx/events?autocomplete_filter=TEDxSurbrunnsgatan&page=2&when=past'"
      ]
     },
     "metadata": {},
     "output_type": "display_data"
    },
    {
     "data": {
      "text/plain": [
       "'https://www.ted.com/tedx/events?autocomplete_filter=TEDxYouth@Coimbra&page=2&when=past'"
      ]
     },
     "metadata": {},
     "output_type": "display_data"
    },
    {
     "data": {
      "text/plain": [
       "'https://www.ted.com/tedx/events?autocomplete_filter=TEDxJECollege&page=1&when=past'"
      ]
     },
     "metadata": {},
     "output_type": "display_data"
    },
    {
     "data": {
      "text/plain": [
       "'https://www.ted.com/tedx/events?autocomplete_filter=TEDxParqueFarroupilha&page=1&when=past'"
      ]
     },
     "metadata": {},
     "output_type": "display_data"
    },
    {
     "data": {
      "text/plain": [
       "'https://www.ted.com/tedx/events?autocomplete_filter=TEDxJECollege&page=2&when=past'"
      ]
     },
     "metadata": {},
     "output_type": "display_data"
    },
    {
     "data": {
      "text/plain": [
       "'https://www.ted.com/tedx/events?autocomplete_filter=TEDxKiraTownWomen&page=1&when=past'"
      ]
     },
     "metadata": {},
     "output_type": "display_data"
    },
    {
     "data": {
      "text/plain": [
       "'https://www.ted.com/tedx/events?autocomplete_filter=TEDxParqueFarroupilha&page=2&when=past'"
      ]
     },
     "metadata": {},
     "output_type": "display_data"
    },
    {
     "data": {
      "text/plain": [
       "'https://www.ted.com/tedx/events?autocomplete_filter=TEDxMacomer&page=1&when=past'"
      ]
     },
     "metadata": {},
     "output_type": "display_data"
    },
    {
     "data": {
      "text/plain": [
       "'https://www.ted.com/tedx/events?autocomplete_filter=TEDxKiraTownWomen&page=2&when=past'"
      ]
     },
     "metadata": {},
     "output_type": "display_data"
    },
    {
     "data": {
      "text/plain": [
       "'https://www.ted.com/tedx/events?autocomplete_filter=TEDxDraper&page=1&when=past'"
      ]
     },
     "metadata": {},
     "output_type": "display_data"
    },
    {
     "data": {
      "text/plain": [
       "'https://www.ted.com/tedx/events?autocomplete_filter=TEDxValenciaSt&page=1&when=past'"
      ]
     },
     "metadata": {},
     "output_type": "display_data"
    },
    {
     "data": {
      "text/plain": [
       "'https://www.ted.com/tedx/events?autocomplete_filter=TEDxMacomer&page=2&when=past'"
      ]
     },
     "metadata": {},
     "output_type": "display_data"
    },
    {
     "data": {
      "text/plain": [
       "'https://www.ted.com/tedx/events?autocomplete_filter=TEDxDraper&page=2&when=past'"
      ]
     },
     "metadata": {},
     "output_type": "display_data"
    },
    {
     "data": {
      "text/plain": [
       "'https://www.ted.com/tedx/events?autocomplete_filter=TEDxYouth@GimnazijaMoste&page=1&when=past'"
      ]
     },
     "metadata": {},
     "output_type": "display_data"
    },
    {
     "data": {
      "text/plain": [
       "'https://www.ted.com/tedx/events?autocomplete_filter=TEDxValenciaSt&page=2&when=past'"
      ]
     },
     "metadata": {},
     "output_type": "display_data"
    },
    {
     "data": {
      "text/plain": [
       "'https://www.ted.com/tedx/events?autocomplete_filter=TEDxLouisianaTechUniversity&page=1&when=past'"
      ]
     },
     "metadata": {},
     "output_type": "display_data"
    },
    {
     "data": {
      "text/plain": [
       "'https://www.ted.com/tedx/events?autocomplete_filter=TEDxYouth@Žilina&page=1&when=past'"
      ]
     },
     "metadata": {},
     "output_type": "display_data"
    },
    {
     "data": {
      "text/plain": [
       "'https://www.ted.com/tedx/events?autocomplete_filter=TEDxLouisianaTechUniversity&page=2&when=past'"
      ]
     },
     "metadata": {},
     "output_type": "display_data"
    },
    {
     "data": {
      "text/plain": [
       "'https://www.ted.com/tedx/events?autocomplete_filter=TEDxYouth@GimnazijaMoste&page=2&when=past'"
      ]
     },
     "metadata": {},
     "output_type": "display_data"
    },
    {
     "data": {
      "text/plain": [
       "'https://www.ted.com/tedx/events?autocomplete_filter=TEDxYouth@Žilina&page=2&when=past'"
      ]
     },
     "metadata": {},
     "output_type": "display_data"
    },
    {
     "data": {
      "text/plain": [
       "'https://www.ted.com/tedx/events?autocomplete_filter=TEDxZU2012&page=1&when=past'"
      ]
     },
     "metadata": {},
     "output_type": "display_data"
    },
    {
     "data": {
      "text/plain": [
       "'https://www.ted.com/tedx/events?autocomplete_filter=TEDxYouth@Hounslow&page=1&when=past'"
      ]
     },
     "metadata": {},
     "output_type": "display_data"
    },
    {
     "data": {
      "text/plain": [
       "'https://www.ted.com/tedx/events?autocomplete_filter=TEDxYouth@QMSSaltLake&page=1&when=past'"
      ]
     },
     "metadata": {},
     "output_type": "display_data"
    },
    {
     "data": {
      "text/plain": [
       "'https://www.ted.com/tedx/events?autocomplete_filter=TEDxKarolinskaInstitutet&page=1&when=past'"
      ]
     },
     "metadata": {},
     "output_type": "display_data"
    },
    {
     "data": {
      "text/plain": [
       "'https://www.ted.com/tedx/events?autocomplete_filter=TEDxYouth@Hounslow&page=2&when=past'"
      ]
     },
     "metadata": {},
     "output_type": "display_data"
    },
    {
     "data": {
      "text/plain": [
       "'https://www.ted.com/tedx/events?autocomplete_filter=TEDxYouth@Walnut&page=1&when=past'"
      ]
     },
     "metadata": {},
     "output_type": "display_data"
    },
    {
     "data": {
      "text/plain": [
       "'https://www.ted.com/tedx/events?autocomplete_filter=TEDxKarolinskaInstitutet&page=2&when=past'"
      ]
     },
     "metadata": {},
     "output_type": "display_data"
    },
    {
     "data": {
      "text/plain": [
       "'https://www.ted.com/tedx/events?autocomplete_filter=TEDxYouth@QMSSaltLake&page=2&when=past'"
      ]
     },
     "metadata": {},
     "output_type": "display_data"
    },
    {
     "data": {
      "text/plain": [
       "'https://www.ted.com/tedx/events?autocomplete_filter=TEDxYouth@Walnut&page=2&when=past'"
      ]
     },
     "metadata": {},
     "output_type": "display_data"
    },
    {
     "data": {
      "text/plain": [
       "'https://www.ted.com/tedx/events?autocomplete_filter=TEDxMinot&page=1&when=past'"
      ]
     },
     "metadata": {},
     "output_type": "display_data"
    },
    {
     "data": {
      "text/plain": [
       "'https://www.ted.com/tedx/events?autocomplete_filter=TEDxMatsumoto&page=1&when=past'"
      ]
     },
     "metadata": {},
     "output_type": "display_data"
    },
    {
     "data": {
      "text/plain": [
       "'https://www.ted.com/tedx/events?autocomplete_filter=TEDxYouth@Moncton&page=1&when=past'"
      ]
     },
     "metadata": {},
     "output_type": "display_data"
    },
    {
     "data": {
      "text/plain": [
       "'https://www.ted.com/tedx/events?autocomplete_filter=TEDxMinot&page=2&when=past'"
      ]
     },
     "metadata": {},
     "output_type": "display_data"
    },
    {
     "data": {
      "text/plain": [
       "'https://www.ted.com/tedx/events?autocomplete_filter=TEDxMatsumoto&page=2&when=past'"
      ]
     },
     "metadata": {},
     "output_type": "display_data"
    },
    {
     "data": {
      "text/plain": [
       "'https://www.ted.com/tedx/events?autocomplete_filter=TEDxYouth@Moncton&page=2&when=past'"
      ]
     },
     "metadata": {},
     "output_type": "display_data"
    },
    {
     "data": {
      "text/plain": [
       "'https://www.ted.com/tedx/events?autocomplete_filter=TEDxYORK&page=1&when=past'"
      ]
     },
     "metadata": {},
     "output_type": "display_data"
    },
    {
     "data": {
      "text/plain": [
       "'https://www.ted.com/tedx/events?autocomplete_filter=TEDxYouth@SadikiCollege&page=1&when=past'"
      ]
     },
     "metadata": {},
     "output_type": "display_data"
    },
    {
     "data": {
      "text/plain": [
       "'https://www.ted.com/tedx/events?autocomplete_filter=TEDxYouth@HongKong&page=1&when=past'"
      ]
     },
     "metadata": {},
     "output_type": "display_data"
    },
    {
     "data": {
      "text/plain": [
       "'https://www.ted.com/tedx/events?autocomplete_filter=TEDxYORK&page=2&when=past'"
      ]
     },
     "metadata": {},
     "output_type": "display_data"
    },
    {
     "data": {
      "text/plain": [
       "'https://www.ted.com/tedx/events?autocomplete_filter=TEDxYouth@SadikiCollege&page=2&when=past'"
      ]
     },
     "metadata": {},
     "output_type": "display_data"
    },
    {
     "data": {
      "text/plain": [
       "'https://www.ted.com/tedx/events?autocomplete_filter=TEDxYouth@HongKong&page=2&when=past'"
      ]
     },
     "metadata": {},
     "output_type": "display_data"
    },
    {
     "data": {
      "text/plain": [
       "'https://www.ted.com/tedx/events?autocomplete_filter=TEDxHBSWomen&page=1&when=past'"
      ]
     },
     "metadata": {},
     "output_type": "display_data"
    },
    {
     "data": {
      "text/plain": [
       "'https://www.ted.com/tedx/events?autocomplete_filter=TEDxcommunity:&page=1&when=past'"
      ]
     },
     "metadata": {},
     "output_type": "display_data"
    },
    {
     "data": {
      "text/plain": [
       "'https://www.ted.com/tedx/events?autocomplete_filter=TEDxHongKong2013&page=1&when=past'"
      ]
     },
     "metadata": {},
     "output_type": "display_data"
    },
    {
     "data": {
      "text/plain": [
       "'https://www.ted.com/tedx/events?autocomplete_filter=TEDxGUTECH&page=1&when=past'"
      ]
     },
     "metadata": {},
     "output_type": "display_data"
    },
    {
     "data": {
      "text/plain": [
       "'https://www.ted.com/tedx/events?autocomplete_filter=TEDxHBSWomen&page=2&when=past'"
      ]
     },
     "metadata": {},
     "output_type": "display_data"
    },
    {
     "data": {
      "text/plain": [
       "'https://www.ted.com/tedx/events?autocomplete_filter=TEDxWeldQuayWomen&page=1&when=past'"
      ]
     },
     "metadata": {},
     "output_type": "display_data"
    },
    {
     "data": {
      "text/plain": [
       "'https://www.ted.com/tedx/events?autocomplete_filter=TEDxand&page=1&when=past'"
      ]
     },
     "metadata": {},
     "output_type": "display_data"
    },
    {
     "data": {
      "text/plain": [
       "'https://www.ted.com/tedx/events?autocomplete_filter=TEDxGUTECH&page=2&when=past'"
      ]
     },
     "metadata": {},
     "output_type": "display_data"
    },
    {
     "data": {
      "text/plain": [
       "'https://www.ted.com/tedx/events?autocomplete_filter=TEDxWeldQuayWomen&page=2&when=past'"
      ]
     },
     "metadata": {},
     "output_type": "display_data"
    },
    {
     "data": {
      "text/plain": [
       "'https://www.ted.com/tedx/events?autocomplete_filter=TEDxNewTrierHS&page=1&when=past'"
      ]
     },
     "metadata": {},
     "output_type": "display_data"
    },
    {
     "data": {
      "text/plain": [
       "'https://www.ted.com/tedx/events?autocomplete_filter=TEDxand&page=2&when=past'"
      ]
     },
     "metadata": {},
     "output_type": "display_data"
    },
    {
     "data": {
      "text/plain": [
       "'https://www.ted.com/tedx/events?autocomplete_filter=TEDxMirafloresWomen&page=1&when=past'"
      ]
     },
     "metadata": {},
     "output_type": "display_data"
    },
    {
     "data": {
      "text/plain": [
       "'https://www.ted.com/tedx/events?autocomplete_filter=TEDxNewTrierHS&page=2&when=past'"
      ]
     },
     "metadata": {},
     "output_type": "display_data"
    },
    {
     "data": {
      "text/plain": [
       "'https://www.ted.com/tedx/events?autocomplete_filter=TEDxYouth@TFLHS&page=1&when=past'"
      ]
     },
     "metadata": {},
     "output_type": "display_data"
    },
    {
     "data": {
      "text/plain": [
       "'https://www.ted.com/tedx/events?autocomplete_filter=TEDxMirafloresWomen&page=2&when=past'"
      ]
     },
     "metadata": {},
     "output_type": "display_data"
    },
    {
     "data": {
      "text/plain": [
       "'https://www.ted.com/tedx/events?autocomplete_filter=TEDxHeythropCollege&page=1&when=past'"
      ]
     },
     "metadata": {},
     "output_type": "display_data"
    },
    {
     "data": {
      "text/plain": [
       "'https://www.ted.com/tedx/events?autocomplete_filter=TEDxYouth@TFLHS&page=2&when=past'"
      ]
     },
     "metadata": {},
     "output_type": "display_data"
    },
    {
     "data": {
      "text/plain": [
       "'https://www.ted.com/tedx/events?autocomplete_filter=TEDxCaleaVictorieiED&page=1&when=past'"
      ]
     },
     "metadata": {},
     "output_type": "display_data"
    },
    {
     "data": {
      "text/plain": [
       "'https://www.ted.com/tedx/events?autocomplete_filter=TEDxHeythropCollege&page=2&when=past'"
      ]
     },
     "metadata": {},
     "output_type": "display_data"
    },
    {
     "data": {
      "text/plain": [
       "'https://www.ted.com/tedx/events?autocomplete_filter=TEDxevents:&page=1&when=past'"
      ]
     },
     "metadata": {},
     "output_type": "display_data"
    },
    {
     "data": {
      "text/plain": [
       "'https://www.ted.com/tedx/events?autocomplete_filter=TEDxCaleaVictorieiED&page=2&when=past'"
      ]
     },
     "metadata": {},
     "output_type": "display_data"
    },
    {
     "data": {
      "text/plain": [
       "'https://www.ted.com/tedx/events?autocomplete_filter=TEDxOstrava&page=1&when=past'"
      ]
     },
     "metadata": {},
     "output_type": "display_data"
    },
    {
     "data": {
      "text/plain": [
       "'https://www.ted.com/tedx/events?autocomplete_filter=TEDxLakhotaLake2017&page=1&when=past'"
      ]
     },
     "metadata": {},
     "output_type": "display_data"
    },
    {
     "data": {
      "text/plain": [
       "'https://www.ted.com/tedx/events?autocomplete_filter=TEDxSantaMariaED&page=1&when=past'"
      ]
     },
     "metadata": {},
     "output_type": "display_data"
    },
    {
     "data": {
      "text/plain": [
       "'https://www.ted.com/tedx/events?autocomplete_filter=TEDxHAS&page=1&when=past'"
      ]
     },
     "metadata": {},
     "output_type": "display_data"
    },
    {
     "data": {
      "text/plain": [
       "'https://www.ted.com/tedx/events?autocomplete_filter=TEDxSantaMariaED&page=2&when=past'"
      ]
     },
     "metadata": {},
     "output_type": "display_data"
    },
    {
     "data": {
      "text/plain": [
       "'https://www.ted.com/tedx/events?autocomplete_filter=TEDxOstrava&page=2&when=past'"
      ]
     },
     "metadata": {},
     "output_type": "display_data"
    },
    {
     "data": {
      "text/plain": [
       "'https://www.ted.com/tedx/events?autocomplete_filter=TEDxHAS&page=2&when=past'"
      ]
     },
     "metadata": {},
     "output_type": "display_data"
    },
    {
     "data": {
      "text/plain": [
       "'https://www.ted.com/tedx/events?autocomplete_filter=TEDxKIDS@SMU&page=1&when=past'"
      ]
     },
     "metadata": {},
     "output_type": "display_data"
    },
    {
     "data": {
      "text/plain": [
       "'https://www.ted.com/tedx/events?autocomplete_filter=TEDxStrasbourgUniversité&page=1&when=past'"
      ]
     },
     "metadata": {},
     "output_type": "display_data"
    },
    {
     "data": {
      "text/plain": [
       "'https://www.ted.com/tedx/events?autocomplete_filter=TEDxStrasbourgUniversité&page=2&when=past'"
      ]
     },
     "metadata": {},
     "output_type": "display_data"
    },
    {
     "data": {
      "text/plain": [
       "'https://www.ted.com/tedx/events?autocomplete_filter=TEDxRohero&page=1&when=past'"
      ]
     },
     "metadata": {},
     "output_type": "display_data"
    },
    {
     "data": {
      "text/plain": [
       "'https://www.ted.com/tedx/events?autocomplete_filter=TEDxKIDS@SMU&page=2&when=past'"
      ]
     },
     "metadata": {},
     "output_type": "display_data"
    },
    {
     "data": {
      "text/plain": [
       "'https://www.ted.com/tedx/events?autocomplete_filter=TEDxAUCMed&page=1&when=past'"
      ]
     },
     "metadata": {},
     "output_type": "display_data"
    },
    {
     "data": {
      "text/plain": [
       "'https://www.ted.com/tedx/events?autocomplete_filter=TEDxRohero&page=2&when=past'"
      ]
     },
     "metadata": {},
     "output_type": "display_data"
    },
    {
     "data": {
      "text/plain": [
       "'https://www.ted.com/tedx/events?autocomplete_filter=TEDxYouth@QueensParkSavannah&page=1&when=past'"
      ]
     },
     "metadata": {},
     "output_type": "display_data"
    },
    {
     "data": {
      "text/plain": [
       "'https://www.ted.com/tedx/events?autocomplete_filter=TEDxAUCMed&page=2&when=past'"
      ]
     },
     "metadata": {},
     "output_type": "display_data"
    },
    {
     "data": {
      "text/plain": [
       "'https://www.ted.com/tedx/events?autocomplete_filter=TEDxCurtinUSarawak&page=1&when=past'"
      ]
     },
     "metadata": {},
     "output_type": "display_data"
    },
    {
     "data": {
      "text/plain": [
       "'https://www.ted.com/tedx/events?autocomplete_filter=TEDxPSUErie&page=1&when=past'"
      ]
     },
     "metadata": {},
     "output_type": "display_data"
    },
    {
     "data": {
      "text/plain": [
       "'https://www.ted.com/tedx/events?autocomplete_filter=TEDxKMITL&page=1&when=past'"
      ]
     },
     "metadata": {},
     "output_type": "display_data"
    },
    {
     "data": {
      "text/plain": [
       "'https://www.ted.com/tedx/events?autocomplete_filter=TEDxCurtinUSarawak&page=2&when=past'"
      ]
     },
     "metadata": {},
     "output_type": "display_data"
    },
    {
     "data": {
      "text/plain": [
       "'https://www.ted.com/tedx/events?autocomplete_filter=TEDxPSUErie&page=2&when=past'"
      ]
     },
     "metadata": {},
     "output_type": "display_data"
    },
    {
     "data": {
      "text/plain": [
       "'https://www.ted.com/tedx/events?autocomplete_filter=TEDxKMITL&page=2&when=past'"
      ]
     },
     "metadata": {},
     "output_type": "display_data"
    },
    {
     "data": {
      "text/plain": [
       "'https://www.ted.com/tedx/events?autocomplete_filter=TEDxBalchDriveWomen&page=1&when=past'"
      ]
     },
     "metadata": {},
     "output_type": "display_data"
    },
    {
     "data": {
      "text/plain": [
       "'https://www.ted.com/tedx/events?autocomplete_filter=TEDxYouth@BrightRiders&page=1&when=past'"
      ]
     },
     "metadata": {},
     "output_type": "display_data"
    },
    {
     "data": {
      "text/plain": [
       "'https://www.ted.com/tedx/events?autocomplete_filter=TEDXBeaconStreet&page=1&when=past'"
      ]
     },
     "metadata": {},
     "output_type": "display_data"
    },
    {
     "data": {
      "text/plain": [
       "'https://www.ted.com/tedx/events?autocomplete_filter=TEDxBalchDriveWomen&page=2&when=past'"
      ]
     },
     "metadata": {},
     "output_type": "display_data"
    },
    {
     "data": {
      "text/plain": [
       "'https://www.ted.com/tedx/events?autocomplete_filter=TEDxYouth@BrightRiders&page=2&when=past'"
      ]
     },
     "metadata": {},
     "output_type": "display_data"
    },
    {
     "data": {
      "text/plain": [
       "'https://www.ted.com/tedx/events?autocomplete_filter=TEDXBeaconStreet&page=2&when=past'"
      ]
     },
     "metadata": {},
     "output_type": "display_data"
    },
    {
     "data": {
      "text/plain": [
       "'https://www.ted.com/tedx/events?autocomplete_filter=TEDxAmRingSalon&page=1&when=past'"
      ]
     },
     "metadata": {},
     "output_type": "display_data"
    },
    {
     "data": {
      "text/plain": [
       "'https://www.ted.com/tedx/events?autocomplete_filter=TEDxISSERBhopal&page=1&when=past'"
      ]
     },
     "metadata": {},
     "output_type": "display_data"
    },
    {
     "data": {
      "text/plain": [
       "'https://www.ted.com/tedx/events?autocomplete_filter=TEDxUniversityofCalgary&page=1&when=past'"
      ]
     },
     "metadata": {},
     "output_type": "display_data"
    },
    {
     "data": {
      "text/plain": [
       "'https://www.ted.com/tedx/events?autocomplete_filter=TEDxAmRingSalon&page=2&when=past'"
      ]
     },
     "metadata": {},
     "output_type": "display_data"
    },
    {
     "data": {
      "text/plain": [
       "'https://www.ted.com/tedx/events?autocomplete_filter=TEDxISSERBhopal&page=2&when=past'"
      ]
     },
     "metadata": {},
     "output_type": "display_data"
    },
    {
     "data": {
      "text/plain": [
       "'https://www.ted.com/tedx/events?autocomplete_filter=TEDxUniversityofCalgary&page=2&when=past'"
      ]
     },
     "metadata": {},
     "output_type": "display_data"
    },
    {
     "data": {
      "text/plain": [
       "'https://www.ted.com/tedx/events?autocomplete_filter=TEDxYouth@FtWorth&page=1&when=past'"
      ]
     },
     "metadata": {},
     "output_type": "display_data"
    },
    {
     "data": {
      "text/plain": [
       "'https://www.ted.com/tedx/events?autocomplete_filter=TEDxPrioryAcademyLSST&page=1&when=past'"
      ]
     },
     "metadata": {},
     "output_type": "display_data"
    },
    {
     "data": {
      "text/plain": [
       "'https://www.ted.com/tedx/events?autocomplete_filter=TEDxKids@Neuwaldegg&page=1&when=past'"
      ]
     },
     "metadata": {},
     "output_type": "display_data"
    },
    {
     "data": {
      "text/plain": [
       "'https://www.ted.com/tedx/events?autocomplete_filter=TEDxOrtigas&page=1&when=past'"
      ]
     },
     "metadata": {},
     "output_type": "display_data"
    },
    {
     "data": {
      "text/plain": [
       "'https://www.ted.com/tedx/events?autocomplete_filter=TEDxPrioryAcademyLSST&page=2&when=past'"
      ]
     },
     "metadata": {},
     "output_type": "display_data"
    },
    {
     "data": {
      "text/plain": [
       "'https://www.ted.com/tedx/events?autocomplete_filter=TEDxKids@Neuwaldegg&page=2&when=past'"
      ]
     },
     "metadata": {},
     "output_type": "display_data"
    },
    {
     "data": {
      "text/plain": [
       "'https://www.ted.com/tedx/events?autocomplete_filter=TEDxVarthur&page=1&when=past'"
      ]
     },
     "metadata": {},
     "output_type": "display_data"
    },
    {
     "data": {
      "text/plain": [
       "'https://www.ted.com/tedx/events?autocomplete_filter=TEDxOrtigas&page=2&when=past'"
      ]
     },
     "metadata": {},
     "output_type": "display_data"
    },
    {
     "data": {
      "text/plain": [
       "'https://www.ted.com/tedx/events?autocomplete_filter=TEDxForbesPark&page=1&when=past'"
      ]
     },
     "metadata": {},
     "output_type": "display_data"
    },
    {
     "data": {
      "text/plain": [
       "'https://www.ted.com/tedx/events?autocomplete_filter=TEDxSarjapuraRoadSalon&page=1&when=past'"
      ]
     },
     "metadata": {},
     "output_type": "display_data"
    },
    {
     "data": {
      "text/plain": [
       "'https://www.ted.com/tedx/events?autocomplete_filter=TEDxVarthur&page=2&when=past'"
      ]
     },
     "metadata": {},
     "output_type": "display_data"
    },
    {
     "data": {
      "text/plain": [
       "'https://www.ted.com/tedx/events?autocomplete_filter=TEDxForbesPark&page=2&when=past'"
      ]
     },
     "metadata": {},
     "output_type": "display_data"
    },
    {
     "data": {
      "text/plain": [
       "'https://www.ted.com/tedx/events?autocomplete_filter=TEDxShizuokashi&page=1&when=past'"
      ]
     },
     "metadata": {},
     "output_type": "display_data"
    },
    {
     "data": {
      "text/plain": [
       "'https://www.ted.com/tedx/events?autocomplete_filter=TEDxJECRC&page=1&when=past'"
      ]
     },
     "metadata": {},
     "output_type": "display_data"
    },
    {
     "data": {
      "text/plain": [
       "'https://www.ted.com/tedx/events?autocomplete_filter=TEDxYouth@BrightRider&page=1&when=past'"
      ]
     },
     "metadata": {},
     "output_type": "display_data"
    },
    {
     "data": {
      "text/plain": [
       "'https://www.ted.com/tedx/events?autocomplete_filter=TEDxShizuokashi&page=2&when=past'"
      ]
     },
     "metadata": {},
     "output_type": "display_data"
    },
    {
     "data": {
      "text/plain": [
       "'https://www.ted.com/tedx/events?autocomplete_filter=TEDxYouth@BrightRider&page=2&when=past'"
      ]
     },
     "metadata": {},
     "output_type": "display_data"
    },
    {
     "data": {
      "text/plain": [
       "'https://www.ted.com/tedx/events?autocomplete_filter=TEDxJECRC&page=2&when=past'"
      ]
     },
     "metadata": {},
     "output_type": "display_data"
    },
    {
     "data": {
      "text/plain": [
       "'https://www.ted.com/tedx/events?autocomplete_filter=TEDxAstanaWomen&page=1&when=past'"
      ]
     },
     "metadata": {},
     "output_type": "display_data"
    },
    {
     "data": {
      "text/plain": [
       "'https://www.ted.com/tedx/events?autocomplete_filter=TEDxJyväskyläED&page=1&when=past'"
      ]
     },
     "metadata": {},
     "output_type": "display_data"
    },
    {
     "data": {
      "text/plain": [
       "'https://www.ted.com/tedx/events?autocomplete_filter=TEDxKagoshima&page=1&when=past'"
      ]
     },
     "metadata": {},
     "output_type": "display_data"
    },
    {
     "data": {
      "text/plain": [
       "'https://www.ted.com/tedx/events?autocomplete_filter=TEDxJyväskyläED&page=2&when=past'"
      ]
     },
     "metadata": {},
     "output_type": "display_data"
    },
    {
     "data": {
      "text/plain": [
       "'https://www.ted.com/tedx/events?autocomplete_filter=TEDxAstanaWomen&page=2&when=past'"
      ]
     },
     "metadata": {},
     "output_type": "display_data"
    },
    {
     "data": {
      "text/plain": [
       "'https://www.ted.com/tedx/events?autocomplete_filter=TEDxKagoshima&page=2&when=past'"
      ]
     },
     "metadata": {},
     "output_type": "display_data"
    },
    {
     "data": {
      "text/plain": [
       "'https://www.ted.com/tedx/events?autocomplete_filter=TEDxSSU&page=1&when=past'"
      ]
     },
     "metadata": {},
     "output_type": "display_data"
    },
    {
     "data": {
      "text/plain": [
       "'https://www.ted.com/tedx/events?autocomplete_filter=TEDxBoavista&page=1&when=past'"
      ]
     },
     "metadata": {},
     "output_type": "display_data"
    },
    {
     "data": {
      "text/plain": [
       "'https://www.ted.com/tedx/events?autocomplete_filter=TEDxPraçaDaLiberdade&page=1&when=past'"
      ]
     },
     "metadata": {},
     "output_type": "display_data"
    },
    {
     "data": {
      "text/plain": [
       "'https://www.ted.com/tedx/events?autocomplete_filter=TEDxSSU&page=2&when=past'"
      ]
     },
     "metadata": {},
     "output_type": "display_data"
    },
    {
     "data": {
      "text/plain": [
       "'https://www.ted.com/tedx/events?autocomplete_filter=TEDxBoavista&page=2&when=past'"
      ]
     },
     "metadata": {},
     "output_type": "display_data"
    },
    {
     "data": {
      "text/plain": [
       "'https://www.ted.com/tedx/events?autocomplete_filter=TEDxPraçaDaLiberdade&page=2&when=past'"
      ]
     },
     "metadata": {},
     "output_type": "display_data"
    },
    {
     "data": {
      "text/plain": [
       "'https://www.ted.com/tedx/events?autocomplete_filter=TEDxOSU&page=1&when=past'"
      ]
     },
     "metadata": {},
     "output_type": "display_data"
    },
    {
     "data": {
      "text/plain": [
       "'https://www.ted.com/tedx/events?autocomplete_filter=TEDxZorilorWomen&page=1&when=past'"
      ]
     },
     "metadata": {},
     "output_type": "display_data"
    },
    {
     "data": {
      "text/plain": [
       "'https://www.ted.com/tedx/events?autocomplete_filter=TEDxRibeirao&page=1&when=past'"
      ]
     },
     "metadata": {},
     "output_type": "display_data"
    },
    {
     "data": {
      "text/plain": [
       "'https://www.ted.com/tedx/events?autocomplete_filter=TEDxOSU&page=2&when=past'"
      ]
     },
     "metadata": {},
     "output_type": "display_data"
    },
    {
     "data": {
      "text/plain": [
       "'https://www.ted.com/tedx/events?autocomplete_filter=TEDxZorilorWomen&page=2&when=past'"
      ]
     },
     "metadata": {},
     "output_type": "display_data"
    },
    {
     "data": {
      "text/plain": [
       "'https://www.ted.com/tedx/events?autocomplete_filter=TEDxRibeirao&page=2&when=past'"
      ]
     },
     "metadata": {},
     "output_type": "display_data"
    },
    {
     "data": {
      "text/plain": [
       "'https://www.ted.com/tedx/events?autocomplete_filter=TEDxKnowledgeCity&page=1&when=past'"
      ]
     },
     "metadata": {},
     "output_type": "display_data"
    },
    {
     "data": {
      "text/plain": [
       "'https://www.ted.com/tedx/events?autocomplete_filter=TEDxEuclidAve&page=1&when=past'"
      ]
     },
     "metadata": {},
     "output_type": "display_data"
    },
    {
     "data": {
      "text/plain": [
       "'https://www.ted.com/tedx/events?autocomplete_filter=TEDxYouth@Jumeirah&page=1&when=past'"
      ]
     },
     "metadata": {},
     "output_type": "display_data"
    },
    {
     "data": {
      "text/plain": [
       "'https://www.ted.com/tedx/events?autocomplete_filter=TEDxKnowledgeCity&page=2&when=past'"
      ]
     },
     "metadata": {},
     "output_type": "display_data"
    },
    {
     "data": {
      "text/plain": [
       "'https://www.ted.com/tedx/events?autocomplete_filter=TEDxEuclidAve&page=2&when=past'"
      ]
     },
     "metadata": {},
     "output_type": "display_data"
    },
    {
     "data": {
      "text/plain": [
       "'https://www.ted.com/tedx/events?autocomplete_filter=TEDxYouth@Jumeirah&page=2&when=past'"
      ]
     },
     "metadata": {},
     "output_type": "display_data"
    },
    {
     "data": {
      "text/plain": [
       "'https://www.ted.com/tedx/events?autocomplete_filter=TEDxMeiji&page=1&when=past'"
      ]
     },
     "metadata": {},
     "output_type": "display_data"
    },
    {
     "data": {
      "text/plain": [
       "'https://www.ted.com/tedx/events?autocomplete_filter=TEDxAmaranteED&page=1&when=past'"
      ]
     },
     "metadata": {},
     "output_type": "display_data"
    },
    {
     "data": {
      "text/plain": [
       "'https://www.ted.com/tedx/events?autocomplete_filter=TEDxPointLomaNazareneUniversity&page=1&when=past'"
      ]
     },
     "metadata": {},
     "output_type": "display_data"
    },
    {
     "data": {
      "text/plain": [
       "'https://www.ted.com/tedx/events?autocomplete_filter=TEDxMeiji&page=2&when=past'"
      ]
     },
     "metadata": {},
     "output_type": "display_data"
    },
    {
     "data": {
      "text/plain": [
       "'https://www.ted.com/tedx/events?autocomplete_filter=TEDxAmaranteED&page=2&when=past'"
      ]
     },
     "metadata": {},
     "output_type": "display_data"
    },
    {
     "data": {
      "text/plain": [
       "'https://www.ted.com/tedx/events?autocomplete_filter=TEDxin&page=1&when=past'"
      ]
     },
     "metadata": {},
     "output_type": "display_data"
    },
    {
     "data": {
      "text/plain": [
       "'https://www.ted.com/tedx/events?autocomplete_filter=TEDxDeVryRecifeWomen&page=1&when=past'"
      ]
     },
     "metadata": {},
     "output_type": "display_data"
    },
    {
     "data": {
      "text/plain": [
       "'https://www.ted.com/tedx/events?autocomplete_filter=TEDxtalks&page=1&when=past'"
      ]
     },
     "metadata": {},
     "output_type": "display_data"
    },
    {
     "data": {
      "text/plain": [
       "'https://www.ted.com/tedx/events?autocomplete_filter=TEDxDeVryRecifeWomen&page=2&when=past'"
      ]
     },
     "metadata": {},
     "output_type": "display_data"
    },
    {
     "data": {
      "text/plain": [
       "'https://www.ted.com/tedx/events?autocomplete_filter=TEDxYouth@Gangnam&page=1&when=past'"
      ]
     },
     "metadata": {},
     "output_type": "display_data"
    },
    {
     "data": {
      "text/plain": [
       "'https://www.ted.com/tedx/events?autocomplete_filter=TEDxin&page=2&when=past'"
      ]
     },
     "metadata": {},
     "output_type": "display_data"
    },
    {
     "data": {
      "text/plain": [
       "'https://www.ted.com/tedx/events?autocomplete_filter=TEDxCajuinaSt&page=1&when=past'"
      ]
     },
     "metadata": {},
     "output_type": "display_data"
    },
    {
     "data": {
      "text/plain": [
       "'https://www.ted.com/tedx/events?autocomplete_filter=TEDxYouth@Gangnam&page=2&when=past'"
      ]
     },
     "metadata": {},
     "output_type": "display_data"
    },
    {
     "data": {
      "text/plain": [
       "'https://www.ted.com/tedx/events?autocomplete_filter=TEDxCajuinaSt&page=2&when=past'"
      ]
     },
     "metadata": {},
     "output_type": "display_data"
    },
    {
     "data": {
      "text/plain": [
       "'https://www.ted.com/tedx/events?autocomplete_filter=TEDxin&page=3&when=past'"
      ]
     },
     "metadata": {},
     "output_type": "display_data"
    },
    {
     "data": {
      "text/plain": [
       "'https://www.ted.com/tedx/events?autocomplete_filter=TEDxSeoulForeignSchool&page=1&when=past'"
      ]
     },
     "metadata": {},
     "output_type": "display_data"
    },
    {
     "data": {
      "text/plain": [
       "'https://www.ted.com/tedx/events?autocomplete_filter=TEDxSalisburyPark&page=1&when=past'"
      ]
     },
     "metadata": {},
     "output_type": "display_data"
    },
    {
     "data": {
      "text/plain": [
       "'https://www.ted.com/tedx/events?autocomplete_filter=TEDxSeoulForeignSchool&page=2&when=past'"
      ]
     },
     "metadata": {},
     "output_type": "display_data"
    },
    {
     "data": {
      "text/plain": [
       "'https://www.ted.com/tedx/events?autocomplete_filter=TEDxSalisburyPark&page=2&when=past'"
      ]
     },
     "metadata": {},
     "output_type": "display_data"
    },
    {
     "data": {
      "text/plain": [
       "'https://www.ted.com/tedx/events?autocomplete_filter=TEDxin&page=4&when=past'"
      ]
     },
     "metadata": {},
     "output_type": "display_data"
    },
    {
     "data": {
      "text/plain": [
       "'https://www.ted.com/tedx/events?autocomplete_filter=TEDxUTokyoSalon&page=1&when=past'"
      ]
     },
     "metadata": {},
     "output_type": "display_data"
    },
    {
     "data": {
      "text/plain": [
       "'https://www.ted.com/tedx/events?autocomplete_filter=TEDxMtSAC&page=1&when=past'"
      ]
     },
     "metadata": {},
     "output_type": "display_data"
    },
    {
     "data": {
      "text/plain": [
       "'https://www.ted.com/tedx/events?autocomplete_filter=TEDxin&page=5&when=past'"
      ]
     },
     "metadata": {},
     "output_type": "display_data"
    },
    {
     "data": {
      "text/plain": [
       "'https://www.ted.com/tedx/events?autocomplete_filter=TEDxUTokyoSalon&page=2&when=past'"
      ]
     },
     "metadata": {},
     "output_type": "display_data"
    },
    {
     "data": {
      "text/plain": [
       "'https://www.ted.com/tedx/events?autocomplete_filter=TEDxMtSAC&page=2&when=past'"
      ]
     },
     "metadata": {},
     "output_type": "display_data"
    },
    {
     "data": {
      "text/plain": [
       "'https://www.ted.com/tedx/events?autocomplete_filter=TEDxGorkyLibra&page=1&when=past'"
      ]
     },
     "metadata": {},
     "output_type": "display_data"
    },
    {
     "data": {
      "text/plain": [
       "'https://www.ted.com/tedx/events?autocomplete_filter=TEDxEkaterinburg.&page=1&when=past'"
      ]
     },
     "metadata": {},
     "output_type": "display_data"
    },
    {
     "data": {
      "text/plain": [
       "'https://www.ted.com/tedx/events?autocomplete_filter=TEDxYouth@TWSDubaiWomen&page=1&when=past'"
      ]
     },
     "metadata": {},
     "output_type": "display_data"
    },
    {
     "data": {
      "text/plain": [
       "'https://www.ted.com/tedx/events?autocomplete_filter=TEDxGorkyLibra&page=2&when=past'"
      ]
     },
     "metadata": {},
     "output_type": "display_data"
    },
    {
     "data": {
      "text/plain": [
       "'https://www.ted.com/tedx/events?autocomplete_filter=TEDxNishtimanWomen&page=1&when=past'"
      ]
     },
     "metadata": {},
     "output_type": "display_data"
    },
    {
     "data": {
      "text/plain": [
       "'https://www.ted.com/tedx/events?autocomplete_filter=TEDxYouth@TWSDubaiWomen&page=2&when=past'"
      ]
     },
     "metadata": {},
     "output_type": "display_data"
    },
    {
     "data": {
      "text/plain": [
       "'https://www.ted.com/tedx/events?autocomplete_filter=TEDxUMST&page=1&when=past'"
      ]
     },
     "metadata": {},
     "output_type": "display_data"
    },
    {
     "data": {
      "text/plain": [
       "'https://www.ted.com/tedx/events?autocomplete_filter=TEDxNishtimanWomen&page=2&when=past'"
      ]
     },
     "metadata": {},
     "output_type": "display_data"
    },
    {
     "data": {
      "text/plain": [
       "'https://www.ted.com/tedx/events?autocomplete_filter=TEDxKaraulnayaGoraSalon&page=1&when=past'"
      ]
     },
     "metadata": {},
     "output_type": "display_data"
    },
    {
     "data": {
      "text/plain": [
       "'https://www.ted.com/tedx/events?autocomplete_filter=TEDxUMST&page=2&when=past'"
      ]
     },
     "metadata": {},
     "output_type": "display_data"
    },
    {
     "data": {
      "text/plain": [
       "'https://www.ted.com/tedx/events?autocomplete_filter=TEDxKaraulnayaGoraSalon&page=2&when=past'"
      ]
     },
     "metadata": {},
     "output_type": "display_data"
    },
    {
     "data": {
      "text/plain": [
       "'https://www.ted.com/tedx/events?autocomplete_filter=TEDxNassau&page=1&when=past'"
      ]
     },
     "metadata": {},
     "output_type": "display_data"
    },
    {
     "data": {
      "text/plain": [
       "'https://www.ted.com/tedx/events?autocomplete_filter=TEDxLarissa&page=1&when=past'"
      ]
     },
     "metadata": {},
     "output_type": "display_data"
    },
    {
     "data": {
      "text/plain": [
       "'https://www.ted.com/tedx/events?autocomplete_filter=TEDxYouth@Zagazig&page=1&when=past'"
      ]
     },
     "metadata": {},
     "output_type": "display_data"
    },
    {
     "data": {
      "text/plain": [
       "'https://www.ted.com/tedx/events?autocomplete_filter=TEDxNassau&page=2&when=past'"
      ]
     },
     "metadata": {},
     "output_type": "display_data"
    },
    {
     "data": {
      "text/plain": [
       "'https://www.ted.com/tedx/events?autocomplete_filter=TEDxLarissa&page=2&when=past'"
      ]
     },
     "metadata": {},
     "output_type": "display_data"
    },
    {
     "data": {
      "text/plain": [
       "'https://www.ted.com/tedx/events?autocomplete_filter=TEDxYouth@Zagazig&page=2&when=past'"
      ]
     },
     "metadata": {},
     "output_type": "display_data"
    },
    {
     "data": {
      "text/plain": [
       "'https://www.ted.com/tedx/events?autocomplete_filter=TEDxEncontrodasÁguas&page=1&when=past'"
      ]
     },
     "metadata": {},
     "output_type": "display_data"
    },
    {
     "data": {
      "text/plain": [
       "'https://www.ted.com/tedx/events?autocomplete_filter=TEDxWakayamaUniversity&page=1&when=past'"
      ]
     },
     "metadata": {},
     "output_type": "display_data"
    },
    {
     "data": {
      "text/plain": [
       "'https://www.ted.com/tedx/events?autocomplete_filter=TEDxCTAE&page=1&when=past'"
      ]
     },
     "metadata": {},
     "output_type": "display_data"
    },
    {
     "data": {
      "text/plain": [
       "'https://www.ted.com/tedx/events?autocomplete_filter=TEDxEncontrodasÁguas&page=2&when=past'"
      ]
     },
     "metadata": {},
     "output_type": "display_data"
    },
    {
     "data": {
      "text/plain": [
       "'https://www.ted.com/tedx/events?autocomplete_filter=TEDxWakayamaUniversity&page=2&when=past'"
      ]
     },
     "metadata": {},
     "output_type": "display_data"
    },
    {
     "data": {
      "text/plain": [
       "'https://www.ted.com/tedx/events?autocomplete_filter=TEDxCTAE&page=2&when=past'"
      ]
     },
     "metadata": {},
     "output_type": "display_data"
    },
    {
     "data": {
      "text/plain": [
       "'https://www.ted.com/tedx/events?autocomplete_filter=TEDxAbuDhabi.mov&page=1&when=past'"
      ]
     },
     "metadata": {},
     "output_type": "display_data"
    },
    {
     "data": {
      "text/plain": [
       "'https://www.ted.com/tedx/events?autocomplete_filter=TEDxHanyang&page=1&when=past'"
      ]
     },
     "metadata": {},
     "output_type": "display_data"
    },
    {
     "data": {
      "text/plain": [
       "'https://www.ted.com/tedx/events?autocomplete_filter=TEDxECC&page=1&when=past'"
      ]
     },
     "metadata": {},
     "output_type": "display_data"
    },
    {
     "data": {
      "text/plain": [
       "'https://www.ted.com/tedx/events?autocomplete_filter=TEDxFASTLahore&page=1&when=past'"
      ]
     },
     "metadata": {},
     "output_type": "display_data"
    },
    {
     "data": {
      "text/plain": [
       "'https://www.ted.com/tedx/events?autocomplete_filter=TEDxECC&page=2&when=past'"
      ]
     },
     "metadata": {},
     "output_type": "display_data"
    },
    {
     "data": {
      "text/plain": [
       "'https://www.ted.com/tedx/events?autocomplete_filter=TEDxFASTLahore&page=2&when=past'"
      ]
     },
     "metadata": {},
     "output_type": "display_data"
    },
    {
     "data": {
      "text/plain": [
       "'https://www.ted.com/tedx/events?autocomplete_filter=TEDxHanyang&page=2&when=past'"
      ]
     },
     "metadata": {},
     "output_type": "display_data"
    },
    {
     "data": {
      "text/plain": [
       "'https://www.ted.com/tedx/events?autocomplete_filter=TEDxITU&page=1&when=past'"
      ]
     },
     "metadata": {},
     "output_type": "display_data"
    },
    {
     "data": {
      "text/plain": [
       "'https://www.ted.com/tedx/events?autocomplete_filter=TEDxKitckenTalk&page=1&when=past'"
      ]
     },
     "metadata": {},
     "output_type": "display_data"
    },
    {
     "data": {
      "text/plain": [
       "'https://www.ted.com/tedx/events?autocomplete_filter=TEDxBishkek&page=1&when=past'"
      ]
     },
     "metadata": {},
     "output_type": "display_data"
    },
    {
     "data": {
      "text/plain": [
       "'https://www.ted.com/tedx/events?autocomplete_filter=TEDxBlythewoodED&page=1&when=past'"
      ]
     },
     "metadata": {},
     "output_type": "display_data"
    },
    {
     "data": {
      "text/plain": [
       "'https://www.ted.com/tedx/events?autocomplete_filter=TEDxBishkek&page=2&when=past'"
      ]
     },
     "metadata": {},
     "output_type": "display_data"
    },
    {
     "data": {
      "text/plain": [
       "'https://www.ted.com/tedx/events?autocomplete_filter=TEDxITU&page=2&when=past'"
      ]
     },
     "metadata": {},
     "output_type": "display_data"
    },
    {
     "data": {
      "text/plain": [
       "'https://www.ted.com/tedx/events?autocomplete_filter=TEDxElliottBayWomen&page=1&when=past'"
      ]
     },
     "metadata": {},
     "output_type": "display_data"
    },
    {
     "data": {
      "text/plain": [
       "'https://www.ted.com/tedx/events?autocomplete_filter=TEDxBlythewoodED&page=2&when=past'"
      ]
     },
     "metadata": {},
     "output_type": "display_data"
    },
    {
     "data": {
      "text/plain": [
       "'https://www.ted.com/tedx/events?autocomplete_filter=TEDxSanMiguelDeAllende&page=1&when=past'"
      ]
     },
     "metadata": {},
     "output_type": "display_data"
    },
    {
     "data": {
      "text/plain": [
       "'https://www.ted.com/tedx/events?autocomplete_filter=TEDxAssiRd&page=1&when=past'"
      ]
     },
     "metadata": {},
     "output_type": "display_data"
    },
    {
     "data": {
      "text/plain": [
       "'https://www.ted.com/tedx/events?autocomplete_filter=TEDxElliottBayWomen&page=2&when=past'"
      ]
     },
     "metadata": {},
     "output_type": "display_data"
    },
    {
     "data": {
      "text/plain": [
       "'https://www.ted.com/tedx/events?autocomplete_filter=TEDxSanMiguelDeAllende&page=2&when=past'"
      ]
     },
     "metadata": {},
     "output_type": "display_data"
    },
    {
     "data": {
      "text/plain": [
       "'https://www.ted.com/tedx/events?autocomplete_filter=TEDxMekong&page=1&when=past'"
      ]
     },
     "metadata": {},
     "output_type": "display_data"
    },
    {
     "data": {
      "text/plain": [
       "'https://www.ted.com/tedx/events?autocomplete_filter=TEDxAssiRd&page=2&when=past'"
      ]
     },
     "metadata": {},
     "output_type": "display_data"
    },
    {
     "data": {
      "text/plain": [
       "'https://www.ted.com/tedx/events?autocomplete_filter=TEDx1000Lakes&page=1&when=past'"
      ]
     },
     "metadata": {},
     "output_type": "display_data"
    },
    {
     "data": {
      "text/plain": [
       "'https://www.ted.com/tedx/events?autocomplete_filter=TEDxMadalena&page=1&when=past'"
      ]
     },
     "metadata": {},
     "output_type": "display_data"
    },
    {
     "data": {
      "text/plain": [
       "'https://www.ted.com/tedx/events?autocomplete_filter=TEDxMekong&page=2&when=past'"
      ]
     },
     "metadata": {},
     "output_type": "display_data"
    },
    {
     "data": {
      "text/plain": [
       "'https://www.ted.com/tedx/events?autocomplete_filter=TEDx1000Lakes&page=2&when=past'"
      ]
     },
     "metadata": {},
     "output_type": "display_data"
    },
    {
     "data": {
      "text/plain": [
       "'https://www.ted.com/tedx/events?autocomplete_filter=TEDxMadalena&page=2&when=past'"
      ]
     },
     "metadata": {},
     "output_type": "display_data"
    },
    {
     "data": {
      "text/plain": [
       "'https://www.ted.com/tedx/events?autocomplete_filter=TEDxTBS&page=1&when=past'"
      ]
     },
     "metadata": {},
     "output_type": "display_data"
    },
    {
     "data": {
      "text/plain": [
       "'https://www.ted.com/tedx/events?autocomplete_filter=TEDxSanFranciscoSalon&page=1&when=past'"
      ]
     },
     "metadata": {},
     "output_type": "display_data"
    },
    {
     "data": {
      "text/plain": [
       "'https://www.ted.com/tedx/events?autocomplete_filter=TEDxLycéeAlphonseDaudet&page=1&when=past'"
      ]
     },
     "metadata": {},
     "output_type": "display_data"
    },
    {
     "data": {
      "text/plain": [
       "'https://www.ted.com/tedx/events?autocomplete_filter=TEDxSanFranciscoSalon&page=2&when=past'"
      ]
     },
     "metadata": {},
     "output_type": "display_data"
    },
    {
     "data": {
      "text/plain": [
       "'https://www.ted.com/tedx/events?autocomplete_filter=TEDxTBS&page=2&when=past'"
      ]
     },
     "metadata": {},
     "output_type": "display_data"
    },
    {
     "data": {
      "text/plain": [
       "'https://www.ted.com/tedx/events?autocomplete_filter=TEDxLycéeAlphonseDaudet&page=2&when=past'"
      ]
     },
     "metadata": {},
     "output_type": "display_data"
    },
    {
     "data": {
      "text/plain": [
       "'https://www.ted.com/tedx/events?autocomplete_filter=TEDxBangaloreChange&page=1&when=past'"
      ]
     },
     "metadata": {},
     "output_type": "display_data"
    },
    {
     "data": {
      "text/plain": [
       "'https://www.ted.com/tedx/events?autocomplete_filter=TEDXBrussels&page=1&when=past'"
      ]
     },
     "metadata": {},
     "output_type": "display_data"
    },
    {
     "data": {
      "text/plain": [
       "'https://www.ted.com/tedx/events?autocomplete_filter=TEDxENAU&page=1&when=past'"
      ]
     },
     "metadata": {},
     "output_type": "display_data"
    },
    {
     "data": {
      "text/plain": [
       "'https://www.ted.com/tedx/events?autocomplete_filter=TEDxBangaloreChange&page=2&when=past'"
      ]
     },
     "metadata": {},
     "output_type": "display_data"
    },
    {
     "data": {
      "text/plain": [
       "'https://www.ted.com/tedx/events?autocomplete_filter=TEDXBrussels&page=2&when=past'"
      ]
     },
     "metadata": {},
     "output_type": "display_data"
    },
    {
     "data": {
      "text/plain": [
       "'https://www.ted.com/tedx/events?autocomplete_filter=TEDxENAU&page=2&when=past'"
      ]
     },
     "metadata": {},
     "output_type": "display_data"
    },
    {
     "data": {
      "text/plain": [
       "'https://www.ted.com/tedx/events?autocomplete_filter=TEDxINPT&page=1&when=past'"
      ]
     },
     "metadata": {},
     "output_type": "display_data"
    },
    {
     "data": {
      "text/plain": [
       "'https://www.ted.com/tedx/events?autocomplete_filter=TEDxVIlniusED&page=1&when=past'"
      ]
     },
     "metadata": {},
     "output_type": "display_data"
    },
    {
     "data": {
      "text/plain": [
       "'https://www.ted.com/tedx/events?autocomplete_filter=TEDxKazanSalon&page=1&when=past'"
      ]
     },
     "metadata": {},
     "output_type": "display_data"
    },
    {
     "data": {
      "text/plain": [
       "'https://www.ted.com/tedx/events?autocomplete_filter=TEDxVIlniusED&page=2&when=past'"
      ]
     },
     "metadata": {},
     "output_type": "display_data"
    },
    {
     "data": {
      "text/plain": [
       "'https://www.ted.com/tedx/events?autocomplete_filter=TEDxINPT&page=2&when=past'"
      ]
     },
     "metadata": {},
     "output_type": "display_data"
    },
    {
     "data": {
      "text/plain": [
       "'https://www.ted.com/tedx/events?autocomplete_filter=TEDxKazanSalon&page=2&when=past'"
      ]
     },
     "metadata": {},
     "output_type": "display_data"
    },
    {
     "data": {
      "text/plain": [
       "'https://www.ted.com/tedx/events?autocomplete_filter=TEDxMarbella.&page=1&when=past'"
      ]
     },
     "metadata": {},
     "output_type": "display_data"
    },
    {
     "data": {
      "text/plain": [
       "'https://www.ted.com/tedx/events?autocomplete_filter=TEDxAlvaPark&page=1&when=past'"
      ]
     },
     "metadata": {},
     "output_type": "display_data"
    },
    {
     "data": {
      "text/plain": [
       "'https://www.ted.com/tedx/events?autocomplete_filter=TEDxTanta&page=1&when=past'"
      ]
     },
     "metadata": {},
     "output_type": "display_data"
    },
    {
     "data": {
      "text/plain": [
       "'https://www.ted.com/tedx/events?autocomplete_filter=TEDxSIBMPune&page=1&when=past'"
      ]
     },
     "metadata": {},
     "output_type": "display_data"
    },
    {
     "data": {
      "text/plain": [
       "'https://www.ted.com/tedx/events?autocomplete_filter=TEDxAlvaPark&page=2&when=past'"
      ]
     },
     "metadata": {},
     "output_type": "display_data"
    },
    {
     "data": {
      "text/plain": [
       "'https://www.ted.com/tedx/events?autocomplete_filter=TEDxTanta&page=2&when=past'"
      ]
     },
     "metadata": {},
     "output_type": "display_data"
    },
    {
     "data": {
      "text/plain": [
       "'https://www.ted.com/tedx/events?autocomplete_filter=TEDxSIBMPune&page=2&when=past'"
      ]
     },
     "metadata": {},
     "output_type": "display_data"
    },
    {
     "data": {
      "text/plain": [
       "'https://www.ted.com/tedx/events?autocomplete_filter=TEDxaprendo&page=1&when=past'"
      ]
     },
     "metadata": {},
     "output_type": "display_data"
    },
    {
     "data": {
      "text/plain": [
       "'https://www.ted.com/tedx/events?autocomplete_filter=TEDxDirahWomen&page=1&when=past'"
      ]
     },
     "metadata": {},
     "output_type": "display_data"
    },
    {
     "data": {
      "text/plain": [
       "'https://www.ted.com/tedx/events?autocomplete_filter=TEDxYuriGagarinBlvd&page=1&when=past'"
      ]
     },
     "metadata": {},
     "output_type": "display_data"
    },
    {
     "data": {
      "text/plain": [
       "'https://www.ted.com/tedx/events?autocomplete_filter=TEDx北京&page=1&when=past'"
      ]
     },
     "metadata": {},
     "output_type": "display_data"
    },
    {
     "data": {
      "text/plain": [
       "'https://www.ted.com/tedx/events?autocomplete_filter=TEDxDirahWomen&page=2&when=past'"
      ]
     },
     "metadata": {},
     "output_type": "display_data"
    },
    {
     "data": {
      "text/plain": [
       "'https://www.ted.com/tedx/events?autocomplete_filter=TEDxUNIFEI&page=1&when=past'"
      ]
     },
     "metadata": {},
     "output_type": "display_data"
    },
    {
     "data": {
      "text/plain": [
       "'https://www.ted.com/tedx/events?autocomplete_filter=TEDxYuriGagarinBlvd&page=2&when=past'"
      ]
     },
     "metadata": {},
     "output_type": "display_data"
    },
    {
     "data": {
      "text/plain": [
       "'https://www.ted.com/tedx/events?autocomplete_filter=TEDxENIB&page=1&when=past'"
      ]
     },
     "metadata": {},
     "output_type": "display_data"
    },
    {
     "data": {
      "text/plain": [
       "'https://www.ted.com/tedx/events?autocomplete_filter=TEDxRebouças&page=1&when=past'"
      ]
     },
     "metadata": {},
     "output_type": "display_data"
    },
    {
     "data": {
      "text/plain": [
       "'https://www.ted.com/tedx/events?autocomplete_filter=TEDxUNIFEI&page=2&when=past'"
      ]
     },
     "metadata": {},
     "output_type": "display_data"
    },
    {
     "data": {
      "text/plain": [
       "'https://www.ted.com/tedx/events?autocomplete_filter=TEDxENIB&page=2&when=past'"
      ]
     },
     "metadata": {},
     "output_type": "display_data"
    },
    {
     "data": {
      "text/plain": [
       "'https://www.ted.com/tedx/events?autocomplete_filter=TEDxŽetale&page=1&when=past'"
      ]
     },
     "metadata": {},
     "output_type": "display_data"
    },
    {
     "data": {
      "text/plain": [
       "'https://www.ted.com/tedx/events?autocomplete_filter=TEDxRebouças&page=2&when=past'"
      ]
     },
     "metadata": {},
     "output_type": "display_data"
    },
    {
     "data": {
      "text/plain": [
       "'https://www.ted.com/tedx/events?autocomplete_filter=TEDxFarmingtonHighSchool&page=1&when=past'"
      ]
     },
     "metadata": {},
     "output_type": "display_data"
    },
    {
     "data": {
      "text/plain": [
       "'https://www.ted.com/tedx/events?autocomplete_filter=TEDxToompea&page=1&when=past'"
      ]
     },
     "metadata": {},
     "output_type": "display_data"
    },
    {
     "data": {
      "text/plain": [
       "'https://www.ted.com/tedx/events?autocomplete_filter=TEDxFarmingtonHighSchool&page=2&when=past'"
      ]
     },
     "metadata": {},
     "output_type": "display_data"
    },
    {
     "data": {
      "text/plain": [
       "'https://www.ted.com/tedx/events?autocomplete_filter=TEDxŽetale&page=2&when=past'"
      ]
     },
     "metadata": {},
     "output_type": "display_data"
    },
    {
     "data": {
      "text/plain": [
       "'https://www.ted.com/tedx/events?autocomplete_filter=TEDxToompea&page=2&when=past'"
      ]
     },
     "metadata": {},
     "output_type": "display_data"
    },
    {
     "data": {
      "text/plain": [
       "'https://www.ted.com/tedx/events?autocomplete_filter=TEDxYouth@MayoCollege&page=1&when=past'"
      ]
     },
     "metadata": {},
     "output_type": "display_data"
    },
    {
     "data": {
      "text/plain": [
       "'https://www.ted.com/tedx/events?autocomplete_filter=TEDxYouth@TheFunkZone&page=1&when=past'"
      ]
     },
     "metadata": {},
     "output_type": "display_data"
    },
    {
     "data": {
      "text/plain": [
       "'https://www.ted.com/tedx/events?autocomplete_filter=TEDxYouth@APS&page=1&when=past'"
      ]
     },
     "metadata": {},
     "output_type": "display_data"
    },
    {
     "data": {
      "text/plain": [
       "'https://www.ted.com/tedx/events?autocomplete_filter=TEDxYouth@MayoCollege&page=2&when=past'"
      ]
     },
     "metadata": {},
     "output_type": "display_data"
    },
    {
     "data": {
      "text/plain": [
       "'https://www.ted.com/tedx/events?autocomplete_filter=TEDxYouth@TheFunkZone&page=2&when=past'"
      ]
     },
     "metadata": {},
     "output_type": "display_data"
    },
    {
     "data": {
      "text/plain": [
       "'https://www.ted.com/tedx/events?autocomplete_filter=TEDxYouth@APS&page=2&when=past'"
      ]
     },
     "metadata": {},
     "output_type": "display_data"
    },
    {
     "data": {
      "text/plain": [
       "'https://www.ted.com/tedx/events?autocomplete_filter=TEDxMontlakeCut&page=1&when=past'"
      ]
     },
     "metadata": {},
     "output_type": "display_data"
    },
    {
     "data": {
      "text/plain": [
       "'https://www.ted.com/tedx/events?autocomplete_filter=TEDxUniversityofZimbabweWomen&page=1&when=past'"
      ]
     },
     "metadata": {},
     "output_type": "display_data"
    },
    {
     "data": {
      "text/plain": [
       "'https://www.ted.com/tedx/events?autocomplete_filter=TEDxGECSalon&page=1&when=past'"
      ]
     },
     "metadata": {},
     "output_type": "display_data"
    },
    {
     "data": {
      "text/plain": [
       "'https://www.ted.com/tedx/events?autocomplete_filter=TEDxMontlakeCut&page=2&when=past'"
      ]
     },
     "metadata": {},
     "output_type": "display_data"
    },
    {
     "data": {
      "text/plain": [
       "'https://www.ted.com/tedx/events?autocomplete_filter=TEDxUniversityofZimbabweWomen&page=2&when=past'"
      ]
     },
     "metadata": {},
     "output_type": "display_data"
    },
    {
     "data": {
      "text/plain": [
       "'https://www.ted.com/tedx/events?autocomplete_filter=TEDxGECSalon&page=2&when=past'"
      ]
     },
     "metadata": {},
     "output_type": "display_data"
    },
    {
     "data": {
      "text/plain": [
       "'https://www.ted.com/tedx/events?autocomplete_filter=TEDxHEM&page=1&when=past'"
      ]
     },
     "metadata": {},
     "output_type": "display_data"
    },
    {
     "data": {
      "text/plain": [
       "'https://www.ted.com/tedx/events?autocomplete_filter=TEDxFairfieldUniversity&page=1&when=past'"
      ]
     },
     "metadata": {},
     "output_type": "display_data"
    },
    {
     "data": {
      "text/plain": [
       "'https://www.ted.com/tedx/events?autocomplete_filter=TEDxAPBS&page=1&when=past'"
      ]
     },
     "metadata": {},
     "output_type": "display_data"
    },
    {
     "data": {
      "text/plain": [
       "'https://www.ted.com/tedx/events?autocomplete_filter=TEDxHEM&page=2&when=past'"
      ]
     },
     "metadata": {},
     "output_type": "display_data"
    },
    {
     "data": {
      "text/plain": [
       "'https://www.ted.com/tedx/events?autocomplete_filter=TEDxFairfieldUniversity&page=2&when=past'"
      ]
     },
     "metadata": {},
     "output_type": "display_data"
    },
    {
     "data": {
      "text/plain": [
       "'https://www.ted.com/tedx/events?autocomplete_filter=TEDxAPBS&page=2&when=past'"
      ]
     },
     "metadata": {},
     "output_type": "display_data"
    },
    {
     "data": {
      "text/plain": [
       "'https://www.ted.com/tedx/events?autocomplete_filter=TEDxTweet:&page=1&when=past'"
      ]
     },
     "metadata": {},
     "output_type": "display_data"
    },
    {
     "data": {
      "text/plain": [
       "'https://www.ted.com/tedx/events?autocomplete_filter=TEDxSquamishWomen&page=1&when=past'"
      ]
     },
     "metadata": {},
     "output_type": "display_data"
    },
    {
     "data": {
      "text/plain": [
       "'https://www.ted.com/tedx/events?autocomplete_filter=TEDxNottingham&page=1&when=past'"
      ]
     },
     "metadata": {},
     "output_type": "display_data"
    },
    {
     "data": {
      "text/plain": [
       "'https://www.ted.com/tedx/events?autocomplete_filter=TEDxKosice&page=1&when=past'"
      ]
     },
     "metadata": {},
     "output_type": "display_data"
    },
    {
     "data": {
      "text/plain": [
       "'https://www.ted.com/tedx/events?autocomplete_filter=TEDxNottingham&page=2&when=past'"
      ]
     },
     "metadata": {},
     "output_type": "display_data"
    },
    {
     "data": {
      "text/plain": [
       "'https://www.ted.com/tedx/events?autocomplete_filter=TEDxSquamishWomen&page=2&when=past'"
      ]
     },
     "metadata": {},
     "output_type": "display_data"
    },
    {
     "data": {
      "text/plain": [
       "'https://www.ted.com/tedx/events?autocomplete_filter=TEDxKosice&page=2&when=past'"
      ]
     },
     "metadata": {},
     "output_type": "display_data"
    },
    {
     "data": {
      "text/plain": [
       "'https://www.ted.com/tedx/events?autocomplete_filter=TEDxBkbiet&page=1&when=past'"
      ]
     },
     "metadata": {},
     "output_type": "display_data"
    },
    {
     "data": {
      "text/plain": [
       "'https://www.ted.com/tedx/events?autocomplete_filter=TEDxbogotá&page=1&when=past'"
      ]
     },
     "metadata": {},
     "output_type": "display_data"
    },
    {
     "data": {
      "text/plain": [
       "'https://www.ted.com/tedx/events?autocomplete_filter=TEDxArlingtonHS&page=1&when=past'"
      ]
     },
     "metadata": {},
     "output_type": "display_data"
    },
    {
     "data": {
      "text/plain": [
       "'https://www.ted.com/tedx/events?autocomplete_filter=TEDxBkbiet&page=2&when=past'"
      ]
     },
     "metadata": {},
     "output_type": "display_data"
    },
    {
     "data": {
      "text/plain": [
       "'https://www.ted.com/tedx/events?autocomplete_filter=TEDxbogotá&page=2&when=past'"
      ]
     },
     "metadata": {},
     "output_type": "display_data"
    },
    {
     "data": {
      "text/plain": [
       "'https://www.ted.com/tedx/events?autocomplete_filter=TEDxperformance&page=1&when=past'"
      ]
     },
     "metadata": {},
     "output_type": "display_data"
    },
    {
     "data": {
      "text/plain": [
       "'https://www.ted.com/tedx/events?autocomplete_filter=TEDxArlingtonHS&page=2&when=past'"
      ]
     },
     "metadata": {},
     "output_type": "display_data"
    },
    {
     "data": {
      "text/plain": [
       "'https://www.ted.com/tedx/events?autocomplete_filter=TEDxFairfieldWomen&page=1&when=past'"
      ]
     },
     "metadata": {},
     "output_type": "display_data"
    },
    {
     "data": {
      "text/plain": [
       "'https://www.ted.com/tedx/events?autocomplete_filter=TEDxGenomics&page=1&when=past'"
      ]
     },
     "metadata": {},
     "output_type": "display_data"
    },
    {
     "data": {
      "text/plain": [
       "'https://www.ted.com/tedx/events?autocomplete_filter=TEDxevents&page=1&when=past'"
      ]
     },
     "metadata": {},
     "output_type": "display_data"
    },
    {
     "data": {
      "text/plain": [
       "\"https://www.ted.com/tedx/events?autocomplete_filter=TEDxCoeurd'Alene&page=1&when=past\""
      ]
     },
     "metadata": {},
     "output_type": "display_data"
    },
    {
     "data": {
      "text/plain": [
       "'https://www.ted.com/tedx/events?autocomplete_filter=TEDxEvent&page=1&when=past'"
      ]
     },
     "metadata": {},
     "output_type": "display_data"
    },
    {
     "data": {
      "text/plain": [
       "'https://www.ted.com/tedx/events?autocomplete_filter=TEDxFairfieldWomen&page=2&when=past'"
      ]
     },
     "metadata": {},
     "output_type": "display_data"
    },
    {
     "data": {
      "text/plain": [
       "'https://www.ted.com/tedx/events?autocomplete_filter=TEDxFranklin&page=1&when=past'"
      ]
     },
     "metadata": {},
     "output_type": "display_data"
    },
    {
     "data": {
      "text/plain": [
       "'https://www.ted.com/tedx/events?autocomplete_filter=TEDxNVCC&page=1&when=past'"
      ]
     },
     "metadata": {},
     "output_type": "display_data"
    },
    {
     "data": {
      "text/plain": [
       "'https://www.ted.com/tedx/events?autocomplete_filter=TEDxHavana&page=1&when=past'"
      ]
     },
     "metadata": {},
     "output_type": "display_data"
    },
    {
     "data": {
      "text/plain": [
       "'https://www.ted.com/tedx/events?autocomplete_filter=TEDxDaegu&page=1&when=past'"
      ]
     },
     "metadata": {},
     "output_type": "display_data"
    },
    {
     "data": {
      "text/plain": [
       "'https://www.ted.com/tedx/events?autocomplete_filter=TEDxFranklin&page=2&when=past'"
      ]
     },
     "metadata": {},
     "output_type": "display_data"
    },
    {
     "data": {
      "text/plain": [
       "'https://www.ted.com/tedx/events?autocomplete_filter=TEDxNVCC&page=2&when=past'"
      ]
     },
     "metadata": {},
     "output_type": "display_data"
    },
    {
     "data": {
      "text/plain": [
       "'https://www.ted.com/tedx/events?autocomplete_filter=TEDxRigaWomen&page=1&when=past'"
      ]
     },
     "metadata": {},
     "output_type": "display_data"
    },
    {
     "data": {
      "text/plain": [
       "'https://www.ted.com/tedx/events?autocomplete_filter=TEDxFranklinStreet&page=1&when=past'"
      ]
     },
     "metadata": {},
     "output_type": "display_data"
    },
    {
     "data": {
      "text/plain": [
       "'https://www.ted.com/tedx/events?autocomplete_filter=TEDxDaegu&page=2&when=past'"
      ]
     },
     "metadata": {},
     "output_type": "display_data"
    },
    {
     "data": {
      "text/plain": [
       "'https://www.ted.com/tedx/events?autocomplete_filter=TEDxYouth@Hrodna&page=1&when=past'"
      ]
     },
     "metadata": {},
     "output_type": "display_data"
    },
    {
     "data": {
      "text/plain": [
       "'https://www.ted.com/tedx/events?autocomplete_filter=TEDxRigaWomen&page=2&when=past'"
      ]
     },
     "metadata": {},
     "output_type": "display_data"
    },
    {
     "data": {
      "text/plain": [
       "'https://www.ted.com/tedx/events?autocomplete_filter=TEDxPSUAD&page=1&when=past'"
      ]
     },
     "metadata": {},
     "output_type": "display_data"
    },
    {
     "data": {
      "text/plain": [
       "'https://www.ted.com/tedx/events?autocomplete_filter=TEDxYouth@Hrodna&page=2&when=past'"
      ]
     },
     "metadata": {},
     "output_type": "display_data"
    },
    {
     "data": {
      "text/plain": [
       "'https://www.ted.com/tedx/events?autocomplete_filter=TEDxYouth@SteelPlaza&page=1&when=past'"
      ]
     },
     "metadata": {},
     "output_type": "display_data"
    },
    {
     "data": {
      "text/plain": [
       "'https://www.ted.com/tedx/events?autocomplete_filter=TEDxPSUAD&page=2&when=past'"
      ]
     },
     "metadata": {},
     "output_type": "display_data"
    },
    {
     "data": {
      "text/plain": [
       "'https://www.ted.com/tedx/events?autocomplete_filter=TEDxHangang&page=1&when=past'"
      ]
     },
     "metadata": {},
     "output_type": "display_data"
    },
    {
     "data": {
      "text/plain": [
       "'https://www.ted.com/tedx/events?autocomplete_filter=TEDxValenciaWish:&page=1&when=past'"
      ]
     },
     "metadata": {},
     "output_type": "display_data"
    },
    {
     "data": {
      "text/plain": [
       "'https://www.ted.com/tedx/events?autocomplete_filter=TEDxYouth@SteelPlaza&page=2&when=past'"
      ]
     },
     "metadata": {},
     "output_type": "display_data"
    },
    {
     "data": {
      "text/plain": [
       "'https://www.ted.com/tedx/events?autocomplete_filter=TEDxAzmiStreet&page=1&when=past'"
      ]
     },
     "metadata": {},
     "output_type": "display_data"
    },
    {
     "data": {
      "text/plain": [
       "'https://www.ted.com/tedx/events?autocomplete_filter=TEDxHangang&page=2&when=past'"
      ]
     },
     "metadata": {},
     "output_type": "display_data"
    },
    {
     "data": {
      "text/plain": [
       "'https://www.ted.com/tedx/events?autocomplete_filter=TEDxWilliamsburg&page=1&when=past'"
      ]
     },
     "metadata": {},
     "output_type": "display_data"
    },
    {
     "data": {
      "text/plain": [
       "'https://www.ted.com/tedx/events?autocomplete_filter=TEDxWilliamsburg&page=2&when=past'"
      ]
     },
     "metadata": {},
     "output_type": "display_data"
    },
    {
     "data": {
      "text/plain": [
       "'https://www.ted.com/tedx/events?autocomplete_filter=TEDxYouth@Skolkovo&page=1&when=past'"
      ]
     },
     "metadata": {},
     "output_type": "display_data"
    },
    {
     "data": {
      "text/plain": [
       "'https://www.ted.com/tedx/events?autocomplete_filter=TEDxAzmiStreet&page=2&when=past'"
      ]
     },
     "metadata": {},
     "output_type": "display_data"
    },
    {
     "data": {
      "text/plain": [
       "'https://www.ted.com/tedx/events?autocomplete_filter=TEDxMacon&page=1&when=past'"
      ]
     },
     "metadata": {},
     "output_type": "display_data"
    },
    {
     "data": {
      "text/plain": [
       "'https://www.ted.com/tedx/events?autocomplete_filter=TEDxYouth@Skolkovo&page=2&when=past'"
      ]
     },
     "metadata": {},
     "output_type": "display_data"
    },
    {
     "data": {
      "text/plain": [
       "'https://www.ted.com/tedx/events?autocomplete_filter=TEDxis&page=1&when=past'"
      ]
     },
     "metadata": {},
     "output_type": "display_data"
    },
    {
     "data": {
      "text/plain": [
       "'https://www.ted.com/tedx/events?autocomplete_filter=TEDxMacon&page=2&when=past'"
      ]
     },
     "metadata": {},
     "output_type": "display_data"
    },
    {
     "data": {
      "text/plain": [
       "'https://www.ted.com/tedx/events?autocomplete_filter=TEDxMisurata&page=1&when=past'"
      ]
     },
     "metadata": {},
     "output_type": "display_data"
    },
    {
     "data": {
      "text/plain": [
       "'https://www.ted.com/tedx/events?autocomplete_filter=TEDxAgnesScottCollege&page=1&when=past'"
      ]
     },
     "metadata": {},
     "output_type": "display_data"
    },
    {
     "data": {
      "text/plain": [
       "'https://www.ted.com/tedx/events?autocomplete_filter=TEDxMisurata&page=2&when=past'"
      ]
     },
     "metadata": {},
     "output_type": "display_data"
    },
    {
     "data": {
      "text/plain": [
       "'https://www.ted.com/tedx/events?autocomplete_filter=TEDxis&page=2&when=past'"
      ]
     },
     "metadata": {},
     "output_type": "display_data"
    },
    {
     "data": {
      "text/plain": [
       "'https://www.ted.com/tedx/events?autocomplete_filter=TEDxAgnesScottCollege&page=2&when=past'"
      ]
     },
     "metadata": {},
     "output_type": "display_data"
    },
    {
     "data": {
      "text/plain": [
       "'https://www.ted.com/tedx/events?autocomplete_filter=TEDxVäxjö&page=1&when=past'"
      ]
     },
     "metadata": {},
     "output_type": "display_data"
    },
    {
     "data": {
      "text/plain": [
       "'https://www.ted.com/tedx/events?autocomplete_filter=TEDxYouth@MIS&page=1&when=past'"
      ]
     },
     "metadata": {},
     "output_type": "display_data"
    },
    {
     "data": {
      "text/plain": [
       "'https://www.ted.com/tedx/events?autocomplete_filter=TEDxStartups&page=1&when=past'"
      ]
     },
     "metadata": {},
     "output_type": "display_data"
    },
    {
     "data": {
      "text/plain": [
       "'https://www.ted.com/tedx/events?autocomplete_filter=TEDxYouth@WellspringLC&page=1&when=past'"
      ]
     },
     "metadata": {},
     "output_type": "display_data"
    },
    {
     "data": {
      "text/plain": [
       "'https://www.ted.com/tedx/events?autocomplete_filter=TEDxVäxjö&page=2&when=past'"
      ]
     },
     "metadata": {},
     "output_type": "display_data"
    },
    {
     "data": {
      "text/plain": [
       "'https://www.ted.com/tedx/events?autocomplete_filter=TEDxYouth@MIS&page=2&when=past'"
      ]
     },
     "metadata": {},
     "output_type": "display_data"
    },
    {
     "data": {
      "text/plain": [
       "'https://www.ted.com/tedx/events?autocomplete_filter=TEDxYouth@WellspringLC&page=2&when=past'"
      ]
     },
     "metadata": {},
     "output_type": "display_data"
    },
    {
     "data": {
      "text/plain": [
       "'https://www.ted.com/tedx/events?autocomplete_filter=TedxTalk&page=1&when=past'"
      ]
     },
     "metadata": {},
     "output_type": "display_data"
    },
    {
     "data": {
      "text/plain": [
       "'https://www.ted.com/tedx/events?autocomplete_filter=TEDxKSU&page=1&when=past'"
      ]
     },
     "metadata": {},
     "output_type": "display_data"
    },
    {
     "data": {
      "text/plain": [
       "'https://www.ted.com/tedx/events?autocomplete_filter=TEDxNouakchott&page=1&when=past'"
      ]
     },
     "metadata": {},
     "output_type": "display_data"
    },
    {
     "data": {
      "text/plain": [
       "'https://www.ted.com/tedx/events?autocomplete_filter=TEDxGranta&page=1&when=past'"
      ]
     },
     "metadata": {},
     "output_type": "display_data"
    },
    {
     "data": {
      "text/plain": [
       "'https://www.ted.com/tedx/events?autocomplete_filter=TEDxKSU&page=2&when=past'"
      ]
     },
     "metadata": {},
     "output_type": "display_data"
    },
    {
     "data": {
      "text/plain": [
       "'https://www.ted.com/tedx/events?autocomplete_filter=TEDxNouakchott&page=2&when=past'"
      ]
     },
     "metadata": {},
     "output_type": "display_data"
    },
    {
     "data": {
      "text/plain": [
       "'https://www.ted.com/tedx/events?autocomplete_filter=TEDxNicholsArboretum&page=1&when=past'"
      ]
     },
     "metadata": {},
     "output_type": "display_data"
    },
    {
     "data": {
      "text/plain": [
       "'https://www.ted.com/tedx/events?autocomplete_filter=TEDxGranta&page=2&when=past'"
      ]
     },
     "metadata": {},
     "output_type": "display_data"
    },
    {
     "data": {
      "text/plain": [
       "'https://www.ted.com/tedx/events?autocomplete_filter=TEDxPrishtinawomen&page=1&when=past'"
      ]
     },
     "metadata": {},
     "output_type": "display_data"
    },
    {
     "data": {
      "text/plain": [
       "'https://www.ted.com/tedx/events?autocomplete_filter=TEDxGachibowli&page=1&when=past'"
      ]
     },
     "metadata": {},
     "output_type": "display_data"
    },
    {
     "data": {
      "text/plain": [
       "'https://www.ted.com/tedx/events?autocomplete_filter=TEDxNicholsArboretum&page=2&when=past'"
      ]
     },
     "metadata": {},
     "output_type": "display_data"
    },
    {
     "data": {
      "text/plain": [
       "'https://www.ted.com/tedx/events?autocomplete_filter=TEDxPrishtinawomen&page=2&when=past'"
      ]
     },
     "metadata": {},
     "output_type": "display_data"
    },
    {
     "data": {
      "text/plain": [
       "'https://www.ted.com/tedx/events?autocomplete_filter=TEDxPentagon&page=1&when=past'"
      ]
     },
     "metadata": {},
     "output_type": "display_data"
    },
    {
     "data": {
      "text/plain": [
       "'https://www.ted.com/tedx/events?autocomplete_filter=TEDxGachibowli&page=2&when=past'"
      ]
     },
     "metadata": {},
     "output_type": "display_data"
    },
    {
     "data": {
      "text/plain": [
       "'https://www.ted.com/tedx/events?autocomplete_filter=TEDxAlice&page=1&when=past'"
      ]
     },
     "metadata": {},
     "output_type": "display_data"
    },
    {
     "data": {
      "text/plain": [
       "'https://www.ted.com/tedx/events?autocomplete_filter=TEDxHapjeong&page=1&when=past'"
      ]
     },
     "metadata": {},
     "output_type": "display_data"
    },
    {
     "data": {
      "text/plain": [
       "'https://www.ted.com/tedx/events?autocomplete_filter=TEDxPentagon&page=2&when=past'"
      ]
     },
     "metadata": {},
     "output_type": "display_data"
    },
    {
     "data": {
      "text/plain": [
       "'https://www.ted.com/tedx/events?autocomplete_filter=TEDxHapjeong&page=2&when=past'"
      ]
     },
     "metadata": {},
     "output_type": "display_data"
    },
    {
     "data": {
      "text/plain": [
       "'https://www.ted.com/tedx/events?autocomplete_filter=TEDxAdelaideChange:&page=1&when=past'"
      ]
     },
     "metadata": {},
     "output_type": "display_data"
    },
    {
     "data": {
      "text/plain": [
       "'https://www.ted.com/tedx/events?autocomplete_filter=TEDxAlice&page=2&when=past'"
      ]
     },
     "metadata": {},
     "output_type": "display_data"
    },
    {
     "data": {
      "text/plain": [
       "'https://www.ted.com/tedx/events?autocomplete_filter=TEDxYouth@ACS&page=1&when=past'"
      ]
     },
     "metadata": {},
     "output_type": "display_data"
    },
    {
     "data": {
      "text/plain": [
       "'https://www.ted.com/tedx/events?autocomplete_filter=TEDxJohannesburgWomen&page=1&when=past'"
      ]
     },
     "metadata": {},
     "output_type": "display_data"
    },
    {
     "data": {
      "text/plain": [
       "'https://www.ted.com/tedx/events?autocomplete_filter=TEDxSICAU&page=1&when=past'"
      ]
     },
     "metadata": {},
     "output_type": "display_data"
    },
    {
     "data": {
      "text/plain": [
       "'https://www.ted.com/tedx/events?autocomplete_filter=TEDxYouth@ACS&page=2&when=past'"
      ]
     },
     "metadata": {},
     "output_type": "display_data"
    },
    {
     "data": {
      "text/plain": [
       "'https://www.ted.com/tedx/events?autocomplete_filter=TEDxJohannesburgWomen&page=2&when=past'"
      ]
     },
     "metadata": {},
     "output_type": "display_data"
    },
    {
     "data": {
      "text/plain": [
       "'https://www.ted.com/tedx/events?autocomplete_filter=TEDxSICAU&page=2&when=past'"
      ]
     },
     "metadata": {},
     "output_type": "display_data"
    },
    {
     "data": {
      "text/plain": [
       "'https://www.ted.com/tedx/events?autocomplete_filter=TEDxTablerock&page=1&when=past'"
      ]
     },
     "metadata": {},
     "output_type": "display_data"
    },
    {
     "data": {
      "text/plain": [
       "'https://www.ted.com/tedx/events?autocomplete_filter=TEDxSLC&page=1&when=past'"
      ]
     },
     "metadata": {},
     "output_type": "display_data"
    },
    {
     "data": {
      "text/plain": [
       "'https://www.ted.com/tedx/events?autocomplete_filter=TEDxUOIT&page=1&when=past'"
      ]
     },
     "metadata": {},
     "output_type": "display_data"
    },
    {
     "data": {
      "text/plain": [
       "'https://www.ted.com/tedx/events?autocomplete_filter=TEDxTablerock&page=2&when=past'"
      ]
     },
     "metadata": {},
     "output_type": "display_data"
    },
    {
     "data": {
      "text/plain": [
       "'https://www.ted.com/tedx/events?autocomplete_filter=TEDxUOIT&page=2&when=past'"
      ]
     },
     "metadata": {},
     "output_type": "display_data"
    },
    {
     "data": {
      "text/plain": [
       "'https://www.ted.com/tedx/events?autocomplete_filter=TEDxSLC&page=2&when=past'"
      ]
     },
     "metadata": {},
     "output_type": "display_data"
    },
    {
     "data": {
      "text/plain": [
       "'https://www.ted.com/tedx/events?autocomplete_filter=TEDxDrives&page=1&when=past'"
      ]
     },
     "metadata": {},
     "output_type": "display_data"
    },
    {
     "data": {
      "text/plain": [
       "'https://www.ted.com/tedx/events?autocomplete_filter=TEDxMUST&page=1&when=past'"
      ]
     },
     "metadata": {},
     "output_type": "display_data"
    },
    {
     "data": {
      "text/plain": [
       "'https://www.ted.com/tedx/events?autocomplete_filter=TEDxOujda]&page=1&when=past'"
      ]
     },
     "metadata": {},
     "output_type": "display_data"
    },
    {
     "data": {
      "text/plain": [
       "'https://www.ted.com/tedx/events?autocomplete_filter=TEDxWestportLIbrary&page=1&when=past'"
      ]
     },
     "metadata": {},
     "output_type": "display_data"
    },
    {
     "data": {
      "text/plain": [
       "'https://www.ted.com/tedx/events?autocomplete_filter=TEDxKids@Przymorze&page=1&when=past'"
      ]
     },
     "metadata": {},
     "output_type": "display_data"
    },
    {
     "data": {
      "text/plain": [
       "'https://www.ted.com/tedx/events?autocomplete_filter=TEDxMUST&page=2&when=past'"
      ]
     },
     "metadata": {},
     "output_type": "display_data"
    },
    {
     "data": {
      "text/plain": [
       "'https://www.ted.com/tedx/events?autocomplete_filter=TEDxWestportLIbrary&page=2&when=past'"
      ]
     },
     "metadata": {},
     "output_type": "display_data"
    },
    {
     "data": {
      "text/plain": [
       "'https://www.ted.com/tedx/events?autocomplete_filter=TEDxKids@Przymorze&page=2&when=past'"
      ]
     },
     "metadata": {},
     "output_type": "display_data"
    },
    {
     "data": {
      "text/plain": [
       "'https://www.ted.com/tedx/events?autocomplete_filter=TEDxSenecaCollege&page=1&when=past'"
      ]
     },
     "metadata": {},
     "output_type": "display_data"
    },
    {
     "data": {
      "text/plain": [
       "'https://www.ted.com/tedx/events?autocomplete_filter=TEDxChMCollege&page=1&when=past'"
      ]
     },
     "metadata": {},
     "output_type": "display_data"
    },
    {
     "data": {
      "text/plain": [
       "'https://www.ted.com/tedx/events?autocomplete_filter=TEDxStCatharines&page=1&when=past'"
      ]
     },
     "metadata": {},
     "output_type": "display_data"
    },
    {
     "data": {
      "text/plain": [
       "'https://www.ted.com/tedx/events?autocomplete_filter=TEDxSenecaCollege&page=2&when=past'"
      ]
     },
     "metadata": {},
     "output_type": "display_data"
    },
    {
     "data": {
      "text/plain": [
       "'https://www.ted.com/tedx/events?autocomplete_filter=TEDxStCatharines&page=2&when=past'"
      ]
     },
     "metadata": {},
     "output_type": "display_data"
    },
    {
     "data": {
      "text/plain": [
       "'https://www.ted.com/tedx/events?autocomplete_filter=TEDxChMCollege&page=2&when=past'"
      ]
     },
     "metadata": {},
     "output_type": "display_data"
    },
    {
     "data": {
      "text/plain": [
       "'https://www.ted.com/tedx/events?autocomplete_filter=TEDxBaki&page=1&when=past'"
      ]
     },
     "metadata": {},
     "output_type": "display_data"
    },
    {
     "data": {
      "text/plain": [
       "'https://www.ted.com/tedx/events?autocomplete_filter=TEDxThyna&page=1&when=past'"
      ]
     },
     "metadata": {},
     "output_type": "display_data"
    },
    {
     "data": {
      "text/plain": [
       "'https://www.ted.com/tedx/events?autocomplete_filter=TEDxThyna&page=2&when=past'"
      ]
     },
     "metadata": {},
     "output_type": "display_data"
    },
    {
     "data": {
      "text/plain": [
       "'https://www.ted.com/tedx/events?autocomplete_filter=TEDxsilveroaksschool&page=1&when=past'"
      ]
     },
     "metadata": {},
     "output_type": "display_data"
    },
    {
     "data": {
      "text/plain": [
       "'https://www.ted.com/tedx/events?autocomplete_filter=TEDxsilveroaksschool&page=2&when=past'"
      ]
     },
     "metadata": {},
     "output_type": "display_data"
    },
    {
     "data": {
      "text/plain": [
       "'https://www.ted.com/tedx/events?autocomplete_filter=TEDxReghin&page=1&when=past'"
      ]
     },
     "metadata": {},
     "output_type": "display_data"
    },
    {
     "data": {
      "text/plain": [
       "'https://www.ted.com/tedx/events?autocomplete_filter=TEDxReghin&page=2&when=past'"
      ]
     },
     "metadata": {},
     "output_type": "display_data"
    },
    {
     "data": {
      "text/plain": [
       "'https://www.ted.com/tedx/events?autocomplete_filter=TEDxGattonCollege&page=1&when=past'"
      ]
     },
     "metadata": {},
     "output_type": "display_data"
    },
    {
     "data": {
      "text/plain": [
       "'https://www.ted.com/tedx/events?autocomplete_filter=TEDxGattonCollege&page=2&when=past'"
      ]
     },
     "metadata": {},
     "output_type": "display_data"
    },
    {
     "data": {
      "text/plain": [
       "'https://www.ted.com/tedx/events?autocomplete_filter=TEDxSouthmoorAcademy&page=1&when=past'"
      ]
     },
     "metadata": {},
     "output_type": "display_data"
    },
    {
     "data": {
      "text/plain": [
       "'https://www.ted.com/tedx/events?autocomplete_filter=TEDxSouthmoorAcademy&page=2&when=past'"
      ]
     },
     "metadata": {},
     "output_type": "display_data"
    },
    {
     "data": {
      "text/plain": [
       "'https://www.ted.com/tedx/events?autocomplete_filter=TEDxBaghdad:&page=1&when=past'"
      ]
     },
     "metadata": {},
     "output_type": "display_data"
    },
    {
     "data": {
      "text/plain": [
       "'https://www.ted.com/tedx/events?autocomplete_filter=TEDxJU&page=1&when=past'"
      ]
     },
     "metadata": {},
     "output_type": "display_data"
    },
    {
     "data": {
      "text/plain": [
       "'https://www.ted.com/tedx/events?autocomplete_filter=TEDxJU&page=2&when=past'"
      ]
     },
     "metadata": {},
     "output_type": "display_data"
    },
    {
     "data": {
      "text/plain": [
       "'https://www.ted.com/tedx/events?autocomplete_filter=TEDxBMIHMS:&page=1&when=past'"
      ]
     },
     "metadata": {},
     "output_type": "display_data"
    },
    {
     "data": {
      "text/plain": [
       "{'TEDxLincolnSchool': True,\n",
       " 'TEDxBahíaBlanca': True,\n",
       " 'TEDxRíodelaPlata': True,\n",
       " 'TEDxPanamaCity': True,\n",
       " 'TEDxParqueElEjidoMujeres': True,\n",
       " 'TEDxperiments:': True,\n",
       " 'TEDxUFM': True,\n",
       " 'TEDxCiudadDeCorrientes': True,\n",
       " 'TEDxITA': True,\n",
       " 'TEDxKamitiPrison': True,\n",
       " 'TEDxKalamata': True,\n",
       " 'TEDxKeioHighSchool': True,\n",
       " 'TEDxGodaPark': True,\n",
       " 'TEDxYouth@Dorado': True,\n",
       " 'TEDxChaoyangWomen': True,\n",
       " 'TEDxUWCSEA': True,\n",
       " 'TEDxYouth@Quito': True,\n",
       " 'TEDxYouth@Winchester': True,\n",
       " 'TEDxYouth@KulibinPark': True,\n",
       " 'TEDxAruba': True,\n",
       " 'TEDxPelourinho': True,\n",
       " 'TEDxYouth@Kolmikulma': True,\n",
       " 'TEDxLESEYNE': True,\n",
       " 'TEDxSoweto': True,\n",
       " 'TEDxEdgemontSchool': True,\n",
       " 'TEDxSkoll': True,\n",
       " 'TEDxTangsel': True,\n",
       " 'TEDxTughlaqRd': True,\n",
       " 'TEDxYouth@Edmonton': True,\n",
       " 'TEDxUKZN': True,\n",
       " 'TEDxTalk': True,\n",
       " 'TEDxHolborn': True,\n",
       " 'TEDxNewEngland': True,\n",
       " 'TEDxCaltech': True,\n",
       " 'TEDxAnogeia': True,\n",
       " 'TEDxOtaniemiED': True,\n",
       " 'TEDxUWCCR': True,\n",
       " 'TEDxSquareMile2013': True,\n",
       " 'TEDxCórdoba': True,\n",
       " 'TEDxYouth@SPCP': True,\n",
       " 'TEDxClPedroRosalesDeLeon': True,\n",
       " 'TEDxJaiHindCollege': True,\n",
       " 'TEDxNDULouaize': True,\n",
       " 'TEDxUniversityOfManchester': True,\n",
       " 'TEDxMarketStreet': True,\n",
       " 'TEDxUniversityOfSanFrancisco': True,\n",
       " 'TEDxPenticton': True,\n",
       " 'TEDxACSindependent': True,\n",
       " 'TEDxFSUJena': True,\n",
       " 'TEDxVilnius': True,\n",
       " 'TEDxRadnorHighSchool': True,\n",
       " 'TEDxHackney': True,\n",
       " 'TEDxAIIMS': True,\n",
       " 'TEDxTotnes': True,\n",
       " 'TEDx,': True,\n",
       " 'TEDxTimberlaneSchools': True,\n",
       " 'TEDxYouth@Vladivostok': True,\n",
       " 'TEDx?:': True,\n",
       " 'TEDxKodaikanalInternationalSchool': True,\n",
       " 'TEDxHoughton': True,\n",
       " 'TEDxRíodela': True,\n",
       " 'TEDxBasqueCountry': True,\n",
       " 'TEDxBrum': True,\n",
       " 'TEDxGITAMHyderabad': True,\n",
       " 'TEDxPenas': True,\n",
       " 'TEDxCardiffbytheSea': True,\n",
       " 'TEDxLaJolla': True,\n",
       " 'TEDxChathamKent': True,\n",
       " 'TEDxTokushimaU': True,\n",
       " 'TEDxYouth@Miraflores': True,\n",
       " 'TEDxDebrecenUniversity': True,\n",
       " 'TEDxHultAshridge': True,\n",
       " 'TEDxBruntsfield': True,\n",
       " 'TEDxNovaScotia': True,\n",
       " 'TEDxRenfrewCollingwood': True,\n",
       " 'TEDxKharkiv': True,\n",
       " 'TEDxCarletonU': True,\n",
       " 'TEDxKamuela': True,\n",
       " 'TEDxSendai': True,\n",
       " 'TEDxSaintLouisUniversity': True,\n",
       " 'TEDxYouth@Montreal': True,\n",
       " 'TEDxShanghaiAmericanSchool': True,\n",
       " 'TEDxSunRiver': True,\n",
       " 'TEDxRyersonU': True,\n",
       " 'TEDxISL': True,\n",
       " 'TEDxNSCCWaterfront': True,\n",
       " 'TEDxGranViaSalon': True,\n",
       " 'TEDxEilat': True,\n",
       " 'TEDxVannes': True,\n",
       " 'TEDxCerritosCollege': True,\n",
       " 'TEDxGastownWomen': True,\n",
       " 'TEDxRoseburg': True,\n",
       " 'TEDxHongKongED': True,\n",
       " 'TEDxSandhillsCommunityCollege': True,\n",
       " 'TEDxAmmon': True,\n",
       " 'TEDxWanChaiWomen': True,\n",
       " 'TEDxCrocetta': True,\n",
       " 'TEDxSacredHeartCHS': True,\n",
       " 'TEDxFremont': True,\n",
       " 'TEDxManipalUniversityDubai': True,\n",
       " 'TEDxKirovka': True,\n",
       " 'TEDxNagyerdő': True,\n",
       " 'TEDxJaipur': True,\n",
       " 'TEDxMIPT': True,\n",
       " 'TEDxBG': True,\n",
       " 'TEDxKCS': True,\n",
       " 'TEDxtalk?': True,\n",
       " 'TEDxISKL': True,\n",
       " 'TEDxNickelCity': True,\n",
       " 'TEDxColumbiaCollege': True,\n",
       " 'TEDxPhoenixville': True,\n",
       " 'TEDxLSHTM': True,\n",
       " 'TEDxAmRing': True,\n",
       " 'TEDxHousesofParliament': True,\n",
       " 'TEDxLouvainLaNeuve': True,\n",
       " 'TEDxTallaght': True,\n",
       " 'TEDxYouth@Granville': True,\n",
       " 'TEDxUniversityofAkronSalon': True,\n",
       " 'TEDxBarringtonHighSchool': True,\n",
       " 'TEDxsalinas': True,\n",
       " 'TEDxChampsElyseesSalon': True,\n",
       " 'TEDxHolyhead': True,\n",
       " 'TEDxBrixton': True,\n",
       " 'TEDxLPLDenhamSpringsWalker': True,\n",
       " 'TEDxUPR': True,\n",
       " 'TEDxYouth@RegentsSchool': True,\n",
       " 'TEDxYouth@OTHS': True,\n",
       " 'TEDxMogadishu': True,\n",
       " 'TEDxRhodes': True,\n",
       " 'TEDxAcademy': True,\n",
       " 'TEDxAccra': True,\n",
       " 'TEDxAmericanSchoolOfUlaanbaatar': True,\n",
       " 'TEDxTransmedia': True,\n",
       " 'TEDxPlaceDesNations': True,\n",
       " 'TEDxBOGOTA': True,\n",
       " 'TEDxKEA': True,\n",
       " 'TEDxYouth@HKIS': True,\n",
       " 'TEDxEdges': True,\n",
       " 'TEDxLavingtonWomen': True,\n",
       " 'TEDxYouth@ACJC': True,\n",
       " 'TEDxStariGrad': True,\n",
       " 'TEDxDHBWMannheim': True,\n",
       " 'TEDxNSSHillSpringIntlSchool': True,\n",
       " 'TEDxYouth@LAS': True,\n",
       " 'TEDxCascais': True,\n",
       " 'TEDxVALENCIA': True,\n",
       " 'TEDxPortobello': True,\n",
       " 'TEDxSF': True,\n",
       " 'TEDxUBIWiltz': True,\n",
       " 'TEDxUlaanbaatarWomen': True,\n",
       " 'TEDxCoventGardenWomen': True,\n",
       " 'TEDxZemun': True,\n",
       " 'TEDxCarletonCollege': True,\n",
       " 'TEDxYouth@Omaha': True,\n",
       " 'TEDxThunderBay': True,\n",
       " 'TEDxOrangeCoast': True,\n",
       " 'TEDxCollegeHill': True,\n",
       " 'TEDxYouth@Wilmington': True,\n",
       " 'TEDxJanpath': True,\n",
       " 'TEDxRuppin': True,\n",
       " 'TEDxConcordia': True,\n",
       " 'TEDxRVAWomen': True,\n",
       " 'TEDxPasseigDesBorn': True,\n",
       " 'TEDxGrenoble': True,\n",
       " 'TEDxIMUVisakhapatnam': True,\n",
       " 'TEDxYouth@Scranton': True,\n",
       " 'TEDxIronwoodStatePrison': True,\n",
       " 'TEDxWichitaStateUniversity': True,\n",
       " 'TEDxICT': True,\n",
       " 'TEDxUCD': True,\n",
       " 'TEDxEAL': True,\n",
       " 'TEDxVaugirardRoad': True,\n",
       " 'TEDxGijón': True,\n",
       " 'TEDxWeberStateUniversity': True,\n",
       " 'TEDxGowanus': True,\n",
       " 'TEDXPuraVida': True,\n",
       " 'TEDxJIIT': True,\n",
       " 'TEDxJaffa': True,\n",
       " 'TEDxHendrixCollege': True,\n",
       " 'TEDxKingstonUponThamesSalon': True,\n",
       " 'TEDxNicosiaWomen': True,\n",
       " 'TEDxBGI': True,\n",
       " 'TEDxBayArea': True,\n",
       " 'TEDxCalArts': True,\n",
       " 'TEDxMontereyWomen': True,\n",
       " 'TEDxTegucigalpa': True,\n",
       " 'TEDxRiversideAvondale': True,\n",
       " 'TEDxTrieste': True,\n",
       " \"TEDxO'Porto\": True,\n",
       " 'TEDxKnoxville': True,\n",
       " 'TEDxAAS': True,\n",
       " 'TEDxSanJoseCA': True,\n",
       " 'TEDxMehrauli': True,\n",
       " 'TEDxVictoria': True,\n",
       " 'TEDxTableMountain': True,\n",
       " 'TEDxSalveReginaU': True,\n",
       " 'TEDxTorVergataUniversity': True,\n",
       " 'TEDxYouth@Jahez': True,\n",
       " 'TEDxConnecticutColleg': True,\n",
       " 'TEDxTallinn': True,\n",
       " 'TEDxYouth@Tallinn': True,\n",
       " 'TEDxLiege': True,\n",
       " 'TEDxIIMC': True,\n",
       " 'TEDxMalibu': True,\n",
       " 'TEDxComoxValley': True,\n",
       " 'TEDxTelfairStreet': True,\n",
       " 'TEDxShanghaiWomen': True,\n",
       " 'TEDxOtaniemi': True,\n",
       " 'TEDxPuntaPaitilla': True,\n",
       " 'TEDxNovaLima': True,\n",
       " 'TedxVienna': True,\n",
       " 'TEDxStudioCityED': True,\n",
       " 'TEDxUnisinosSalon': True,\n",
       " 'TEDxNitteUniversity': True,\n",
       " 'TEDxCastellón': True,\n",
       " 'TEDxStPeterPort': True,\n",
       " 'TEDxAlsaceSalon': True,\n",
       " 'TEDxHKUST': True,\n",
       " 'TEDxOxBridge': True,\n",
       " 'TEDxYouth@DoonSchool': True,\n",
       " 'TEDxSussexUniversity': True,\n",
       " 'TEDxUManitoba': True,\n",
       " 'TEDxLeeds': True,\n",
       " 'TEDxJardimBotanico': True,\n",
       " 'TEDxWaterloo': True,\n",
       " 'TEDxUofC': True,\n",
       " 'TEDxColumbiaSIPA': True,\n",
       " 'TEDxTainan': True,\n",
       " 'TEDxSWPS': True,\n",
       " 'TEDxUniversityofIoannina': True,\n",
       " 'TEDxICC': True,\n",
       " 'TEDxYouth@SangamSchool': True,\n",
       " 'TEDxMiltonKeynes': True,\n",
       " 'TEDxYouth@KNUHS': True,\n",
       " 'TEDxLecce': True,\n",
       " 'TEDxYouth@VHS': True,\n",
       " 'TEDxBrusselsWomen': True,\n",
       " 'TEDxFLAMELive': True,\n",
       " 'TEDxTopekaWomen': True,\n",
       " 'TEDxFiDiWomen': True,\n",
       " 'TEDxElginSt': True,\n",
       " 'TEDxMontpellier': True,\n",
       " 'TEDxUSB': True,\n",
       " 'TEDxLowell': True,\n",
       " 'TEDxAJU': True,\n",
       " 'TEDxUWestminster': True,\n",
       " 'TEDxPortoWomen': True,\n",
       " 'TEDxLETI': True,\n",
       " 'TEDxGraz': True,\n",
       " 'TEDxPresidio': True,\n",
       " 'TEDxMarinette': True,\n",
       " 'TEDxIB': True,\n",
       " 'TEDxSãoPaulo': True,\n",
       " 'TEDxParcMontsouris': True,\n",
       " 'TEDxWpg': True,\n",
       " 'TEDxUniversityofSharjah': True,\n",
       " 'TEDxCorkWomen': True,\n",
       " 'TEDxTeachersCollege': True,\n",
       " 'TEDxLAWomen': True,\n",
       " 'TEDxYouth@TheSpire': True,\n",
       " 'TEDxJesmondDene': True,\n",
       " 'TEDxYouth@AlamitosBay': True,\n",
       " 'TEDxYouth@Helsingborg': True,\n",
       " 'TEDxUNPlaza': True,\n",
       " 'TEDxYouth@MDA': True,\n",
       " 'TEDxPlainpalais': True,\n",
       " 'TEDxWashingtonHeights': True,\n",
       " 'TEDxCooperUnion': True,\n",
       " 'TEDxLoughboroughU': True,\n",
       " 'TEDxJUIT': True,\n",
       " 'TEDxYouth@Bath': True,\n",
       " 'TEDxTNMC': True,\n",
       " 'TEDxSãoSebastião': True,\n",
       " 'TEDxKingStWomen': True,\n",
       " 'TEDxPapeeteWomen': True,\n",
       " 'TEDxTWU': True,\n",
       " 'TEDxUHasseltSalon': True,\n",
       " 'TEDxEdmonton': True,\n",
       " 'TEDxOakridgeInternationalSchool': True,\n",
       " 'TEDxNakaseroWomen': True,\n",
       " 'TEDxObserver': True,\n",
       " 'TEDxAIMS': True,\n",
       " 'TEDxIIITBh': True,\n",
       " 'TEDxHultShanghai': True,\n",
       " 'TEDxYouth@LazuardiSchoolDepok': True,\n",
       " 'TEDxHollywood': True,\n",
       " 'TEDxPhnomPenh': True,\n",
       " 'TEDxLakeGeneva': True,\n",
       " 'TEDxEaling': True,\n",
       " 'TEDxSeattleU': True,\n",
       " 'TEDxZelenayaRoscha': True,\n",
       " 'TEDxCornellCollege': True,\n",
       " 'TEDxOilSpill': True,\n",
       " 'TEDxChitkaraUniversity': True,\n",
       " 'TEDxChisinau': True,\n",
       " 'TEDxLilongwe': True,\n",
       " 'TEDxVaduz': True,\n",
       " 'TEDxWallaWallaUniversity': True,\n",
       " 'TEDxMRU': True,\n",
       " 'TEDxRheinMainSalon': True,\n",
       " 'TEDxYouth@TCS': True,\n",
       " 'TEDxWhiteCity': True,\n",
       " 'TEDxBedfordSchool': True,\n",
       " 'TedxYouth@Brum': True,\n",
       " 'TEDxFulbright': True,\n",
       " 'TEDxOmagh': True,\n",
       " 'TEDxChangeRíodelaPlata': True,\n",
       " 'TEDxYouth@Hewitt': True,\n",
       " 'TEDxNorthHighSchool': True,\n",
       " 'TEDxChulalongkornU': True,\n",
       " 'TEDxMidwest': True,\n",
       " 'TEDxKiraTown': True,\n",
       " 'TEDxMileHighWomen': True,\n",
       " 'TEDxIIMUdaipur': True,\n",
       " 'TEDxEmersonCollege': True,\n",
       " 'TEDxPaonia': True,\n",
       " 'TEDxGoldenGatePark': True,\n",
       " 'TEDxCheltenham': True,\n",
       " 'TEDxBOULDER': True,\n",
       " 'TEDxCESAG': True,\n",
       " 'TEDxDubuque': True,\n",
       " 'TEDxInnerSunset': True,\n",
       " 'TEDxLacador': True,\n",
       " 'TEDxNileStreet': True,\n",
       " 'TEDxCNR': True,\n",
       " 'TEDxDhaka': True,\n",
       " 'TEDxBigApple': True,\n",
       " 'TEDxSalinas': True,\n",
       " 'TEDxCalStateLA': True,\n",
       " 'TEDxCorkSalon': True,\n",
       " 'TEDxIED': True,\n",
       " 'TEDxConcordiaUPortland': True,\n",
       " 'TEDxSEVAmericanCollege': True,\n",
       " 'TEDxCalzadaDeLosHeroes': True,\n",
       " 'TEDxExpressionCollege': True,\n",
       " 'TEDxFruitvale': True,\n",
       " 'TEDxElCajonSalon': True,\n",
       " 'TEDxChampsElyseesED': True,\n",
       " 'TEDxSenacCampinas': True,\n",
       " 'TEDxBelfastWomen': True,\n",
       " 'TEDxRedDeer': True,\n",
       " 'TEDxAlmendraMedievalSalon': True,\n",
       " 'TEDxNightingaleBamfordSchool': True,\n",
       " 'TEDxCSDTeachers': True,\n",
       " 'TEDxSanDiegoChange': True,\n",
       " 'TEDxWindhoek': True,\n",
       " 'TEDxMedellín:Bimal': True,\n",
       " 'TEDxKingsCollegeLondon': True,\n",
       " 'TEDxPraçaSantosAndradeED': True,\n",
       " 'TEDxTezpurUniversity': True,\n",
       " 'TEDxCanmore': True,\n",
       " 'TEDxIHECS': True,\n",
       " 'TEDxYouth@Eroilor': True,\n",
       " 'TEDxTortola': True,\n",
       " 'TEDxYouth@Victoria': True,\n",
       " 'TEDxSemesteratSea': True,\n",
       " 'TEDxNYED': True,\n",
       " 'TEDxMillRiver': True,\n",
       " 'TEDxYouth@IdahoFalls': True,\n",
       " 'TEDxIBSPune': True,\n",
       " 'TEDxMilkenHighSchool': True,\n",
       " 'TEDxYouthOttawa': True,\n",
       " 'TEDxConcorde': True,\n",
       " 'TEDxGramercy': True,\n",
       " 'TEDxSMCC': True,\n",
       " 'TEDxVoltaRedonda': True,\n",
       " 'TEDxSPSU': True,\n",
       " 'TEDxCamarillo': True,\n",
       " 'TEDxMaribor': True,\n",
       " 'TEDxBeirut': True,\n",
       " 'TEDxWhitechapel': True,\n",
       " 'TEDxUniversityOfCentralArkansas': True,\n",
       " 'TEDxevent': True,\n",
       " 'TEDxLyon': True,\n",
       " 'TEDxHGSE': True,\n",
       " 'TEDxCCS': True,\n",
       " 'TEDxHayward': True,\n",
       " 'TEDxYouth@DasaHigh': True,\n",
       " 'TEDxIITMadras': True,\n",
       " 'TEDxCollegeofSaintBenilde': True,\n",
       " 'TEDxTerryTalks': True,\n",
       " 'TEDxLaCarolina': True,\n",
       " 'TEDxCranbrookSchools': True,\n",
       " 'TEDxVer-o-Peso': True,\n",
       " 'TEDxInstitutLeRosey': True,\n",
       " 'TEDxSiliconAlley,': True,\n",
       " 'TEDxLeuven': True,\n",
       " 'TEDxSheffield': True,\n",
       " 'TEDxMonteCarlo': True,\n",
       " 'TEDxCollegeMound': True,\n",
       " 'TEDxMumbai': True,\n",
       " 'TEDxGuadalajala': True,\n",
       " 'TEDxUCL': True,\n",
       " 'TEDxYouth@MDGH': True,\n",
       " 'TEDxThaparUniversity': True,\n",
       " 'TEDxManchesterVillage': True,\n",
       " 'TEDxYouth@HamptonCourtHouse': True,\n",
       " 'TEDxEcoleHôtelièreLausanne': True,\n",
       " 'TEDxRíodelaPlataED': True,\n",
       " 'TEDxBaDinh': True,\n",
       " 'TEDxÖstersund': True,\n",
       " 'TEDxUFRGS': True,\n",
       " 'TEDxKoçUniversity': True,\n",
       " 'TEDxAssisi': True,\n",
       " 'TEDxBrno': True,\n",
       " 'TEDxYouth@Clarkston': True,\n",
       " 'TEDxBranksomeHall': True,\n",
       " 'TEDxLeadershipPittsburgh': True,\n",
       " 'TEDxSIM': True,\n",
       " 'TEDxCMUQatar': True,\n",
       " 'TEDxWenatchee': True,\n",
       " 'TEDxMileHighSalon': True,\n",
       " 'TEDxWestIslandSchool': True,\n",
       " 'TEDxBrownUniversity': True,\n",
       " 'TEDxHoboken': True,\n",
       " 'TEDxTurku': True,\n",
       " 'TEDxHighTechHighSchool': True,\n",
       " \"TEDxHa'pennyBridge\": True,\n",
       " 'TEDxAmazonia': True,\n",
       " 'TEDxDublin': True,\n",
       " 'TEDxTuebingen': True,\n",
       " 'TEDxFigueiroDosVinhos': True,\n",
       " 'TEDxSaltRock': True,\n",
       " 'TEDxModulUniversity': True,\n",
       " 'TEDxDumbo': True,\n",
       " 'TEDxKish': True,\n",
       " 'TEDxYouth@MITVGWS': True,\n",
       " 'TEDxElMenzahWomen': True,\n",
       " 'TEDxBhilwara': True,\n",
       " 'TEDxYouth@AlBarsha': True,\n",
       " 'TEDxAtalayaST': True,\n",
       " 'TEDxCIT': True,\n",
       " 'TEDxScottAFB': True,\n",
       " 'TEDxLongDock': True,\n",
       " 'TEDxLivermore': True,\n",
       " 'TEDxTempe': True,\n",
       " 'TEDxEBS': True,\n",
       " 'TEDxSingapore': True,\n",
       " 'TEDxTahoeCity': True,\n",
       " 'TEDxEducationCity': True,\n",
       " 'TEDxAhmedabad': True,\n",
       " 'TEDxLaurentianU': True,\n",
       " 'TEDxVillageGate': True,\n",
       " 'TEDxWestFurongRoad': True,\n",
       " 'TEDxNantes': True,\n",
       " 'TEDxRoncade': True,\n",
       " 'TEDxArezzo': True,\n",
       " 'TEDxAmericanRiviera': True,\n",
       " 'TEDxDeadSea': True,\n",
       " 'TEDxSiliconAlley': True,\n",
       " 'TEDxYouth@Academy': True,\n",
       " 'TEDxIB@York': True,\n",
       " 'TEDxIIMTrichy': True,\n",
       " 'TEDxSFA': True,\n",
       " 'TEDxBournemouthUniversity': True,\n",
       " 'TEDxSarjapuraRoad': True,\n",
       " 'TEDxYouth@Haileybury': True,\n",
       " 'TEDxCSM': True,\n",
       " 'TEDxPhoeniciaU': True,\n",
       " 'TEDxStormontWomen': True,\n",
       " 'TEDxTC': True,\n",
       " 'TEDxTUHH': True,\n",
       " 'TEDxWhitehallWomen': True,\n",
       " 'TEDxAlfaisalU': True,\n",
       " 'TEDxDoiSuthep': True,\n",
       " 'TEDxGranVia': True,\n",
       " 'TEDxGenevaWomen': True,\n",
       " 'TEDxWillingdon': True,\n",
       " 'TEDxCentralWyomingCollege': True,\n",
       " 'TEDxNLUO': True,\n",
       " 'TEDxManitoba': True,\n",
       " 'TEDxPortElizabethSalon': True,\n",
       " 'TEDxASOIU': True,\n",
       " 'TEDxSSTU': True,\n",
       " 'TEDxCarletonUniversity': True,\n",
       " 'TEDxYouth@AltSchoolFortMason': True,\n",
       " 'TEDxLosOsosHighSchool': True,\n",
       " 'TEDxCoimbatore': True,\n",
       " 'TEDxUOttawa': True,\n",
       " 'TEDxAdum': True,\n",
       " 'TEDxYouth@GDRHS': True,\n",
       " 'TEDxHaneda': True,\n",
       " 'TEDxIhlasCollegeED': True,\n",
       " 'TEDxKAZGUU': True,\n",
       " 'TEDxIITGandhinagar': True,\n",
       " 'TEDxBroadStreetNY-': True,\n",
       " 'TEDxValenciennes': True,\n",
       " 'TEDxWindyCity': True,\n",
       " 'TEDxNewEnglandCollege': True,\n",
       " 'TEDxSadovoeRingWomen': True,\n",
       " 'TEDxNairobi': True,\n",
       " 'TEDxCoMo': True,\n",
       " 'TEDxDePaulU': True,\n",
       " 'TEDxUTokyo': True,\n",
       " 'TEDxFullerton': True,\n",
       " 'TEDxYouth@BVChandigarh': True,\n",
       " 'TEDxIHEParis': True,\n",
       " 'TEDxBocconiUSalon': True,\n",
       " 'TEDxYouth@BOSS': True,\n",
       " 'TEDxDU:': True,\n",
       " 'TEDxTheEvergreenStateCollege': True,\n",
       " 'TEDxBrooklyn': True,\n",
       " 'TEDxFindhorn': True,\n",
       " 'TEDxMcMasterU': True,\n",
       " 'TEDxMasala': True,\n",
       " 'TEDxSFED': True,\n",
       " 'TEDxDunkerque': True,\n",
       " 'TEDxGreatPacificGarbagePatch': True,\n",
       " 'TEDxTeddington': True,\n",
       " 'TEDxParkCity': True,\n",
       " 'TEDxYouth@PalisadesCharterHighSchool': True,\n",
       " 'TEDxYakima': True,\n",
       " 'TEDxLaneXangAve': True,\n",
       " 'TEDxClerkenwell': True,\n",
       " 'TEDxStocktonUniversity': True,\n",
       " 'TEDxHarvardCollegeSalon': True,\n",
       " 'TEDxWeizmannInstitute': True,\n",
       " 'TEDxEQChCh': True,\n",
       " 'TEDxTheNorthcapUniversity': True,\n",
       " 'TEDxTaftAve': True,\n",
       " 'TEDxLeeCollegeHuntsville': True,\n",
       " 'TEDxEdmontonED': True,\n",
       " 'TEDxKenyonCollege': True,\n",
       " 'TEDxHongKong': True,\n",
       " 'TEDxMesa': True,\n",
       " 'TEDxESSCA': True,\n",
       " 'TEDxSungaiSegget': True,\n",
       " 'TEDxWandsworth': True,\n",
       " 'TEDxCharlotteED': True,\n",
       " 'TEDxYouth@JBMHS': True,\n",
       " 'TEDxYouth@Hillsborough': True,\n",
       " 'TEDxVianadoCastelo': True,\n",
       " 'TEDxLIleSaintDenis': True,\n",
       " 'TEDxKLWomen': True,\n",
       " 'TEDxRockCreekPark': True,\n",
       " 'TEDxPantheonSorbonne': True,\n",
       " 'TEDxAmityUniversity': True,\n",
       " 'TEDxAustinWomen': True,\n",
       " 'TEDxEvanston': True,\n",
       " 'TEDxHampshireCollege': True,\n",
       " 'TEDxYouth@Muntinupa': True,\n",
       " 'TEDxKoeln': True,\n",
       " 'TEDxHeraklion': True,\n",
       " 'TEDxPennQuarter': True,\n",
       " 'TEDxCapeTownED': True,\n",
       " 'TEDxRegina': True,\n",
       " 'TEDxTiburtino': True,\n",
       " 'TEDxTromsø': True,\n",
       " 'TEDxHamburgSalon': True,\n",
       " 'TEDxYouth@DesMoines': True,\n",
       " 'TEDxOrcasIsland': True,\n",
       " 'TEDxIHECCarthage': True,\n",
       " 'TEDxSanQuentin': True,\n",
       " 'TEDxUniversityofLjubljanaSalon': True,\n",
       " 'TEDxArtsEtMétiersAngers': True,\n",
       " 'TEDxCUNYs': True,\n",
       " 'TEDxBCIT': True,\n",
       " 'TEDxSIBMBangalore': True,\n",
       " 'TEDxYouth@ClintonSquare': True,\n",
       " 'TEDxDSCEWomen': True,\n",
       " 'TEDxKids@Odessa': True,\n",
       " 'TEDxWycliffeCollege': True,\n",
       " 'TEDxCuauhtemoc': True,\n",
       " 'TEDxYouth@StJohns': True,\n",
       " 'TEDxUplandsSchool': True,\n",
       " 'TEDxMladostWomen': True,\n",
       " 'TEDxUPatras': True,\n",
       " 'TEDxGatewayWomen': True,\n",
       " 'TEDxCincy': True,\n",
       " 'TEDxBrownsvilleWomen': True,\n",
       " 'TEDxGeziraUniversity': True,\n",
       " 'TEDxMissionViejo': True,\n",
       " 'TEDxWWF': True,\n",
       " 'TEDxConejo': True,\n",
       " 'TEDxLSRCollege': True,\n",
       " 'TEDxWomen': True,\n",
       " 'TEDxSantAnnaSchool': True,\n",
       " 'TEDxNASA': True,\n",
       " 'TEDxKCG': True,\n",
       " 'TEDxVasa': True,\n",
       " 'TEDxYouth@WycombeAbbey': True,\n",
       " 'TEDxPompeii': True,\n",
       " 'TEDxBlue': True,\n",
       " 'TEDxTerrytalks': True,\n",
       " 'TEDxLeuphanaUniversityLüneburg': True,\n",
       " 'TEDxJNTUK': True,\n",
       " 'TEDxExeterSalon': True,\n",
       " 'TEDxKAIST': True,\n",
       " 'TEDxBritishSchoolofBrussels': True,\n",
       " 'TEDxUniMAP': True,\n",
       " 'TEDxItaewonChange': True,\n",
       " 'TEDxHelsinki': True,\n",
       " 'TEDxModaSalon': True,\n",
       " 'TEDxColumbiaEngineering': True,\n",
       " 'TEDxSixteenMileCreek': True,\n",
       " 'TEDxTughlaqRdChange': True,\n",
       " 'TEDxAshburn': True,\n",
       " 'TEDxAndorralaVella': True,\n",
       " 'TEDxAudencia': True,\n",
       " 'TEDxCSUN': True,\n",
       " 'TEDxMaui': True,\n",
       " 'TEDxSaoTome': True,\n",
       " 'TEDxTelAvivWomen': True,\n",
       " 'TEDxStGeorge': True,\n",
       " 'TEDxUPRM': True,\n",
       " 'TEDxLawrenceU': True,\n",
       " 'TEDxGoteborg': True,\n",
       " 'TEDxSevenMileBeach': True,\n",
       " 'TEDxMuncyStatePrison': True,\n",
       " 'TEDxRiverside': True,\n",
       " 'TEDxMSVU:': True,\n",
       " 'TEDxBushnellPark': True,\n",
       " 'TEDxInhaU': True,\n",
       " 'TEDxEast:': True,\n",
       " 'TEDxKatuah': True,\n",
       " 'TEDxUBCOkanagan': True,\n",
       " 'TEDxUFS': True,\n",
       " 'TEDxNCU': True,\n",
       " 'TEDxJamaica': True,\n",
       " 'TEDxYouth@WASO': True,\n",
       " 'TEDxMonroeCorrectionalComplex': True,\n",
       " 'TEDxDCU': True,\n",
       " 'TEDxCosmoPark': True,\n",
       " 'TEDxAlgonquinCollege': True,\n",
       " 'TEDxNextGenerationAsheville': True,\n",
       " 'TEDxVorobyovy-Gory': True,\n",
       " 'TEDxLoodusele': True,\n",
       " 'TEDxPrincetonlibrary': True,\n",
       " 'TEDxHarvardLaw': True,\n",
       " 'TEDxAEDB': True,\n",
       " 'TEDxIsereRiver': True,\n",
       " 'TEDxLinnaeusUniversity': True,\n",
       " 'TEDxMETU': True,\n",
       " 'TEDxNewSt': True,\n",
       " 'TEDxLosAltosHigh': True,\n",
       " 'TEDxBMSIT': True,\n",
       " 'TEDxErbil': True,\n",
       " 'TEDxRedmond': True,\n",
       " 'TEDxFeira': True,\n",
       " 'TEDxEureka': True,\n",
       " 'TEDxJardins': True,\n",
       " 'TEDxKeioSFC': True,\n",
       " 'TEDxMIA': True,\n",
       " 'TEDxAbidjanSalon': True,\n",
       " 'TEDxDonauinselSalon': True,\n",
       " 'TEDxHogeschoolUtrecht': True,\n",
       " 'TEDxUniversityofBrighton': True,\n",
       " 'TEDxFORESchool': True,\n",
       " 'TEDxYouth@JamesRiverRoad': True,\n",
       " 'TEDxWashingtonSquare': True,\n",
       " 'TEDxHomeBushRdWomen': True,\n",
       " 'TEDxOkanaganCollege': True,\n",
       " 'TEDxRussellSquare': True,\n",
       " 'TEDxBethesdaWomen': True,\n",
       " 'TEDxUFPE': True,\n",
       " 'TEDxRockyViewSchoolsED': True,\n",
       " 'TEDxNCSU': True,\n",
       " 'TEDxGallaudet': True,\n",
       " 'TEDxVazhuthacaud': True,\n",
       " 'TEDxGrandValley': True,\n",
       " 'TEDxEastEnd': True,\n",
       " 'TEDxMITClubSingapore': True,\n",
       " 'TEDxBanyanTreeSchoolED': True,\n",
       " 'TEDxTriangleNC': True,\n",
       " 'TEDxCrocettaSalon': True,\n",
       " 'TEDxChattanooga': True,\n",
       " 'TEDxLBSIM': True,\n",
       " 'TEDxBrusselsChange': True,\n",
       " 'TEDxUFM:': True,\n",
       " 'TEDxPisa2015': True,\n",
       " 'TEDxJainUniversity': True,\n",
       " 'TEDxMedellín': True,\n",
       " 'TEDxJerusalem': True,\n",
       " 'TEDxWellsStreetED': True,\n",
       " 'TEDxYouth@ISA': True,\n",
       " 'TEDxWestminsterCollegeSLC': True,\n",
       " 'TEDxNottingHill': True,\n",
       " 'TEDxKrakow': True,\n",
       " 'TEDxRio': True,\n",
       " 'TEDxYouth@Kenyalang': True,\n",
       " 'TEDxSchrieverStreet': True,\n",
       " 'TEDxChandler': True,\n",
       " 'TEDxMoorgate': True,\n",
       " 'TEDxViadellaConciliazione': True,\n",
       " 'TEDxSaoJosedosCampos': True,\n",
       " 'TEDxVennelystBlvd': True,\n",
       " 'TEDxPenn2013': True,\n",
       " 'TEDxInverness': True,\n",
       " 'TEDxBelmopan': True,\n",
       " 'TEDxUFSCar': True,\n",
       " 'TEDxUWE': True,\n",
       " 'TEDxSecunderabad': True,\n",
       " 'TEDx...?': True,\n",
       " 'TEDxSairam': True,\n",
       " 'TEDxGriffithCollege': True,\n",
       " 'TEDxYouth@MusashinoHighSchool': True,\n",
       " 'TEDxHackneyWomen': True,\n",
       " 'TEDxDublinInstituteofTechnology': True,\n",
       " 'TEDxChesterRiver': True,\n",
       " 'TEDxTokyoTeachers': True,\n",
       " 'TEDxPitsmoor': True,\n",
       " 'TEDxHolyLand': True,\n",
       " 'TEDxWestlake': True,\n",
       " 'TEDxEncinitas': True,\n",
       " 'TEDxRawaRiverSalon': True,\n",
       " 'TEDxDerby': True,\n",
       " 'TEDxSSCBS': True,\n",
       " 'TEDxSalisburyHighSchool': True,\n",
       " 'TEDxSushantLok': True,\n",
       " 'TEDxAlbertopolisSalon': True,\n",
       " 'TEDxFIAP': True,\n",
       " 'TEDxSPS': True,\n",
       " 'TEDxUniTn': True,\n",
       " 'TEDxKielUniversity': True,\n",
       " 'TEDxKPU': True,\n",
       " 'TEDxFairleighDickinsonUniversity': True,\n",
       " 'TEDxFatihUniversity': True,\n",
       " 'TEDxUBO': True,\n",
       " 'TEDxChico': True,\n",
       " 'TEDxCanaryWharf': True,\n",
       " 'TEDxLeh': True,\n",
       " 'TEDxBentonville': True,\n",
       " 'TEDxHonoluluSalon': True,\n",
       " 'TEDxITMU': True,\n",
       " 'TEDxVytautasMagnusUniversity': True,\n",
       " 'TEDxGatineau': True,\n",
       " 'TedxReggioEmilia': True,\n",
       " 'TEDxStGeorg': True,\n",
       " 'TEDxHappyValley': True,\n",
       " 'TEDxSandHillRdWomen': True,\n",
       " 'TEDxCaFoscariU': True,\n",
       " 'TEDxStCharles': True,\n",
       " 'TEDxYouth@Nepean': True,\n",
       " 'TEDxSwarthmore': True,\n",
       " 'TEDxBrașovWomen': True,\n",
       " 'TEDxPuneSalon': True,\n",
       " 'TEDxCHUV': True,\n",
       " 'TEDxPUCRio': True,\n",
       " 'TEDxUpperWestSideWomen': True,\n",
       " 'TEDxNabeul': True,\n",
       " 'TEDxKids@BC': True,\n",
       " 'TEDxDaejeonSalon': True,\n",
       " 'TEDxVilaMadá': True,\n",
       " 'TEDxEastEndSalon': True,\n",
       " 'TEDxCHSNED': True,\n",
       " 'TEDxShinshuUniversity': True,\n",
       " 'TEDxUniversityofEdinburghSalon': True,\n",
       " 'TEDxBellingham': True,\n",
       " 'TEDxSantaMaria': True,\n",
       " 'TEDxRoxburyWomen': True,\n",
       " 'TEDx|': True,\n",
       " 'TEDxPrabhadevi': True,\n",
       " 'TEDxSomlóiStWomen': True,\n",
       " 'TEDxAsfi': True,\n",
       " 'TEDxUNIGE': True,\n",
       " 'TEDxUNITEC': True,\n",
       " 'TEDxRiodePiedras': True,\n",
       " 'TEDXThe': True,\n",
       " 'TEDxtalk...': True,\n",
       " 'TEDxDenverTeachers': True,\n",
       " 'TEDxQuebec': True,\n",
       " 'TEDxDUBLIN': True,\n",
       " 'TEDxStLawrenceCollege': True,\n",
       " 'TEDxMHK': True,\n",
       " 'TEDxYouth@JIS': True,\n",
       " 'TEDxMCPSTeachers': True,\n",
       " 'TEDxRíodePiedras': True,\n",
       " 'TEDxWesterfordHighSchool': True,\n",
       " 'TEDxKesawanSquare': True,\n",
       " 'TEDxMasterCanteenSquare': True,\n",
       " 'TEDxYouth@Arada': True,\n",
       " 'TEDxSDU': True,\n",
       " 'TEDxGhentSalon': True,\n",
       " 'TEDxDurhamUniversityLive': True,\n",
       " 'TEDxMaringá': True,\n",
       " 'TEDxSJU': True,\n",
       " 'TEDxYouth@HHS': True,\n",
       " 'TEDxReykjavík': True,\n",
       " 'TEDxPocklingtonED': True,\n",
       " 'TEDxNorthSouthUniversity': True,\n",
       " 'TEDxLowerEastSide': True,\n",
       " 'TEDxMalmoe': True,\n",
       " 'TEDxLNCTBhopalWomen': True,\n",
       " 'TEDxUMaryland': True,\n",
       " 'TEDxUMassBoston': True,\n",
       " 'TEDxWellesleyCollege': True,\n",
       " 'TEDxStrathmoreUniversity': True,\n",
       " 'TEDxSaskatoon': True,\n",
       " 'TEDxBagaToiruu': True,\n",
       " 'TEDxSausalito': True,\n",
       " 'TEDxUSICT': True,\n",
       " 'TEDxSinCity': True,\n",
       " 'TEDxMarcusHighSchool': True,\n",
       " 'TEDxWalledCity': True,\n",
       " 'TEDxWarsawPresidentialPalace': True,\n",
       " 'TEDxYouth@Kilimani': True,\n",
       " 'TEDx-': True,\n",
       " 'TEDxCrestmoorParkED': True,\n",
       " 'TEDxJovem@PraçadaRepública': True,\n",
       " 'TEDxWestVillageWomen': True,\n",
       " 'TEDxYouth@Baltimore': True,\n",
       " 'TEDxen': True,\n",
       " 'TEDxPenangRoad': True,\n",
       " 'TEDxRoyalTunbridgeWellsWomen': True,\n",
       " 'TEDxSitka': True,\n",
       " 'TEDxTimesSquare': True,\n",
       " 'TEDxHerndonHighSchool': True,\n",
       " 'TEDxmovement': True,\n",
       " 'TEDxPortElizabeth': True,\n",
       " 'TEDxCuestadelBailio': True,\n",
       " 'TEDxBurnsvilleED': True,\n",
       " 'TEDxOxfordHighSchool': True,\n",
       " 'TEDxTegucigalpa\"': True,\n",
       " 'TEDxBellevue': True,\n",
       " 'TEDxASB': True,\n",
       " 'TEDxYouth@CSD': True,\n",
       " 'TEDxWorthingED': True,\n",
       " 'TEDxBRISTOL': True,\n",
       " 'TEDxFortTownshend': True,\n",
       " 'TEDxJardimdasPalmeiras': True,\n",
       " 'TEDxBlagoevgradWomen': True,\n",
       " 'TEDxDhahranHighSchool': True,\n",
       " 'TEDxSaraighat': True,\n",
       " 'TEDxTISS': True,\n",
       " 'TEDxYouth@Trastevere': True,\n",
       " 'TEDxSalvador': True,\n",
       " 'TEDxDelrayBeach': True,\n",
       " 'TEDxZamorano': True,\n",
       " 'TEDxBishopsU': True,\n",
       " 'TEDxMeijiUniversity': True,\n",
       " 'TEDxSoCal': True,\n",
       " 'TEDxPontaDelgada': True,\n",
       " 'TEDxSandaga': True,\n",
       " 'TEDxPordenone': True,\n",
       " 'TEDxIDC': True,\n",
       " 'TEDxPowellRiver': True,\n",
       " 'TEDxOjai': True,\n",
       " 'TEDxMaricopa': True,\n",
       " 'TEDxArkansasStateUniversity': True,\n",
       " 'TEDxSantaCruz:': True,\n",
       " 'TEDxCalcutta': True,\n",
       " 'TEDxINSEADSingapore': True,\n",
       " 'TEDxSanJoaquin': True,\n",
       " 'TEDxperiments': True,\n",
       " 'TEDxWayPublicLibrary': True,\n",
       " 'TEDxSilkRoad': True,\n",
       " 'TEDxKharkov': True,\n",
       " 'TEDxRillitoRiver': True,\n",
       " 'TEDxSemesterAtSea': True,\n",
       " 'TEDxDESA': True,\n",
       " 'TEDxUDESCJoinville': True,\n",
       " 'TEDxGrandviewAve': True,\n",
       " 'TEDxUTChattanooga': True,\n",
       " 'TEDxAsunción': True,\n",
       " 'TEDxSkopje': True,\n",
       " 'TEDxTepuy': True,\n",
       " 'TEDxFortGreeneSalon': True,\n",
       " 'TEDxAjman': True,\n",
       " 'TEDxDU': True,\n",
       " 'TEDxNantwich': True,\n",
       " 'TEDxPerm': True,\n",
       " 'TEDxYouth@TSIS': True,\n",
       " 'TEDxAUB': True,\n",
       " 'TEDxUWS': True,\n",
       " 'TEDxMickiewiczHighSchool': True,\n",
       " 'TEDxYaleWorldFellows': True,\n",
       " 'TEDxSRM': True,\n",
       " 'TEDxOPorto': True,\n",
       " 'TEDxUMassAmherst': True,\n",
       " 'TEDxYALE': True,\n",
       " 'TEDxHIllsboroughLibrary': True,\n",
       " 'TEDxBridgetown': True,\n",
       " 'TedxVorobyovy-Gory': True,\n",
       " 'TEDxButanta': True,\n",
       " 'TEDxUQAT': True,\n",
       " 'TEDxFreeLibraryofPhiladelphia': True,\n",
       " 'TEDxReunion': True,\n",
       " 'TEDxLAMiracleMile': True,\n",
       " 'TEDxAshokaU': True,\n",
       " 'TEDxCharacato': True,\n",
       " 'TEDxJardimBotânico': True,\n",
       " 'TEDxUSagradoCorazon': True,\n",
       " 'TEDxStHelier': True,\n",
       " 'TEDxShelburneFalls': True,\n",
       " 'TEDxArabia': True,\n",
       " 'TEDxJardinsSalon': True,\n",
       " 'TEDxFront': True,\n",
       " 'TEDxMonterey': True,\n",
       " 'TEDxYouth@Ulaanbaatar': True,\n",
       " 'TEDxFukuokaChange': True,\n",
       " 'TEDxYouth@CherryHillEastHS': True,\n",
       " 'TEDxBangaloreWomen': True,\n",
       " 'TEDxStLouis': True,\n",
       " 'TEDxSanaa': True,\n",
       " 'TEDxArtCenterCollegeOfDesign': True,\n",
       " 'TEDxTohoku': True,\n",
       " 'TEDxVilaMadaSalon': True,\n",
       " 'TEDxPôleMaisonneuve': True,\n",
       " 'TEDxSudeste': True,\n",
       " 'TEDxISHCMCAmericanAcademy': True,\n",
       " 'TEDx@PortoSeguroSchool': True,\n",
       " 'TEDxBow': True,\n",
       " 'TEDxTulsa': True,\n",
       " 'TEDxLIUBeirut': True,\n",
       " 'TEDxMission': True,\n",
       " 'TEDxYouth@Chennai': True,\n",
       " 'TEDxMalayaOkhta': True,\n",
       " 'TEDxAylesbury': True,\n",
       " 'TEDxKids@Chiyoda': True,\n",
       " 'TEDxArroyoDeLaEncomienda': True,\n",
       " 'TEDxBelfast': True,\n",
       " 'TEDxUD': True,\n",
       " 'TEDxBarnardCollegeWomen.': True,\n",
       " 'TEDxConcordiaCollege': True,\n",
       " 'TEDxWaldenPond': True,\n",
       " 'TEDxNCCUED': True,\n",
       " 'TEDxAlAin': True,\n",
       " 'TEDxToulon': True,\n",
       " 'TEDxArabInternationalUniversity': True,\n",
       " 'TEDxZug': True,\n",
       " 'TEDxSãoPauloSalon': True,\n",
       " 'TEDxLaguna-': True,\n",
       " 'TEDxKreuzberg': True,\n",
       " 'TEDxHamilton': True,\n",
       " 'TEDxTârguMureș': True,\n",
       " 'TEDxBlumenauWomen': True,\n",
       " 'TEDxExchangeDistrict': True,\n",
       " 'TEDxSannomiya': True,\n",
       " 'TEDxMiltonKeynesWomen': True,\n",
       " 'TEDxCornellTech': True,\n",
       " 'TEDxSanJoseCAWomen': True,\n",
       " 'TEDxUniversidadedeBrasília': True,\n",
       " 'TEDxLabone': True,\n",
       " 'TEDxSãoTome': True,\n",
       " 'TEDxItaimBibi': True,\n",
       " 'TEDxEffatU': True,\n",
       " 'TEDxCrestmoorPark': True,\n",
       " 'TEDxRoseHulman': True,\n",
       " 'TEDxChinaMedicalU': True,\n",
       " 'TEDxPhilly': True,\n",
       " 'TEDxJubileeSchool': True,\n",
       " 'TEDxECMH': True,\n",
       " 'TEDxYouth@Ross': True,\n",
       " 'TEDxUCPPorto': True,\n",
       " 'TEDxChesterStatePrison': True,\n",
       " 'TEDxEdinburghNapierUniversity': True,\n",
       " 'TEDxMoorparkCollege': True,\n",
       " 'TEDxTaipeiChange': True,\n",
       " 'TEDxTaipeiED': True,\n",
       " 'TEDxKagoshimaUniversity': True,\n",
       " 'TEDxFMUSP': True,\n",
       " 'TEDxDrummondvilleED': True,\n",
       " 'TEDxHilo': True,\n",
       " 'TEDxFlint': True,\n",
       " 'TEDxMerseyside': True,\n",
       " 'TEDxFJU': True,\n",
       " 'TEDxTUMS': True,\n",
       " 'TEDxTaoyuan': True,\n",
       " 'TEDxDistilleryDistrictWomen': True,\n",
       " 'TEDxYouth@NickelCity': True,\n",
       " 'TEDxISM': True,\n",
       " 'TEDxStouffville': True,\n",
       " 'TEDxIIMRaipur': True,\n",
       " 'TEDxLeón': True,\n",
       " 'TEDxUFG': True,\n",
       " 'TEDxtalk:': True,\n",
       " 'TEDxYouth@Marszałkowska': True,\n",
       " 'TEDxGaborone': True,\n",
       " 'TEDxGeorgiaSouthernU': True,\n",
       " 'TEDxRíodelaPlata-TEDxChange': True,\n",
       " 'TEDxNizamuddin': True,\n",
       " 'TEDxDavidsonAcademy': True,\n",
       " 'TEDxUFMG': True,\n",
       " 'TEDxMarszałkowska': True,\n",
       " 'TEDxTunghaiU': True,\n",
       " 'TEDxHultBusinessSchoolSH': True,\n",
       " 'TEDxBridgetown\"': True,\n",
       " 'TEDxGramado': True,\n",
       " 'TEDxMusic': True,\n",
       " 'TEDxWroclawUniversityOfEconomics': True,\n",
       " 'TEDxGallatin': True,\n",
       " 'TEDxPoynterInstitute': True,\n",
       " 'TEDxDubaiSalon': True,\n",
       " 'TEDxYouth@SJGHS': True,\n",
       " 'TEDxLausanneChange': True,\n",
       " 'TEDxAlbertopolis': True,\n",
       " 'TEDxJupiter': True,\n",
       " 'TEDxTalks': True,\n",
       " 'TEDxEMU': True,\n",
       " 'TEDxUniversityofYork': True,\n",
       " 'TEDxParamariboWomen': True,\n",
       " 'TEDxZemunED': True,\n",
       " 'TEDxEmbarcadero': True,\n",
       " 'TEDxArrowheadRanch': True,\n",
       " 'TEDxShannonED': True,\n",
       " 'TEDxChurchgate': True,\n",
       " 'TEDxWaterlooWomen': True,\n",
       " 'TEDxShekhavati': True,\n",
       " 'TEDxNorthwesternU2014': True,\n",
       " 'TEDxWalthamED': True,\n",
       " ...}"
      ]
     },
     "execution_count": 33,
     "metadata": {},
     "output_type": "execute_result"
    }
   ],
   "source": [
    "isPast = True\n",
    "def process_id(country):\n",
    "    \"\"\"process a single ID\"\"\"\n",
    "    global isPast\n",
    "    country = re.sub(' ', '+', country)\n",
    "    try:\n",
    "        getEvents(country, 1, 1000, isPast)\n",
    "    except:\n",
    "        print('ERROR IN', country)\n",
    "    return True\n",
    "\n",
    "def process_range(id_range, store=None):\n",
    "    \"\"\"process a number of ids, storing the results in a dict\"\"\"\n",
    "    if store is None:\n",
    "        store = {}\n",
    "    for id in id_range:\n",
    "        store[id] = process_id(id)\n",
    "    return store\n",
    "\n",
    "from threading import Thread\n",
    "\n",
    "def threaded_process_range(nthreads, id_range):\n",
    "    \"\"\"process the id range in a specified number of threads\"\"\"\n",
    "    store = {}\n",
    "    threads = []\n",
    "    # create the threads\n",
    "    for i in range(nthreads):\n",
    "        ids = id_range[i::nthreads]\n",
    "        t = Thread(target=process_range, args=(ids,store))\n",
    "        threads.append(t)\n",
    "\n",
    "    # start the threads\n",
    "    [ t.start() for t in threads ]\n",
    "    # wait for the threads to finish\n",
    "    [ t.join() for t in threads ]\n",
    "    return store\n",
    "\n",
    "# countries = eventsDf.country.unique()\n",
    "threaded_process_range(\n",
    "    3,\n",
    "    targets,\n",
    ")"
   ]
  },
  {
   "cell_type": "code",
   "execution_count": 34,
   "metadata": {},
   "outputs": [
    {
     "name": "stdout",
     "output_type": "stream",
     "text": [
      "20217 events\n"
     ]
    },
    {
     "data": {
      "text/html": [
       "<div>\n",
       "<style scoped>\n",
       "    .dataframe tbody tr th:only-of-type {\n",
       "        vertical-align: middle;\n",
       "    }\n",
       "\n",
       "    .dataframe tbody tr th {\n",
       "        vertical-align: top;\n",
       "    }\n",
       "\n",
       "    .dataframe thead th {\n",
       "        text-align: right;\n",
       "    }\n",
       "</style>\n",
       "<table border=\"1\" class=\"dataframe\">\n",
       "  <thead>\n",
       "    <tr style=\"text-align: right;\">\n",
       "      <th></th>\n",
       "      <th>name</th>\n",
       "      <th>eventType</th>\n",
       "      <th>date</th>\n",
       "      <th>city</th>\n",
       "      <th>country</th>\n",
       "      <th>hasWebcast</th>\n",
       "      <th>hasSpace</th>\n",
       "      <th>eventCode</th>\n",
       "    </tr>\n",
       "  </thead>\n",
       "  <tbody>\n",
       "    <tr>\n",
       "      <th>32790</th>\n",
       "      <td>TEDxRiodelaPlata</td>\n",
       "      <td>Standard</td>\n",
       "      <td>May 7, 2019</td>\n",
       "      <td>Ciudad Autónoma de Buenos Aires</td>\n",
       "      <td>Argentina</td>\n",
       "      <td>True</td>\n",
       "      <td>False</td>\n",
       "      <td>32790</td>\n",
       "    </tr>\n",
       "    <tr>\n",
       "      <th>33511</th>\n",
       "      <td>TEDxEsquel</td>\n",
       "      <td>Standard</td>\n",
       "      <td>May 4, 2019</td>\n",
       "      <td>Esquel</td>\n",
       "      <td>Argentina</td>\n",
       "      <td>True</td>\n",
       "      <td>False</td>\n",
       "      <td>33511</td>\n",
       "    </tr>\n",
       "    <tr>\n",
       "      <th>31229</th>\n",
       "      <td>TEDxRafaela</td>\n",
       "      <td>Standard</td>\n",
       "      <td>May 4, 2019</td>\n",
       "      <td>Rafaela</td>\n",
       "      <td>Argentina</td>\n",
       "      <td>True</td>\n",
       "      <td>False</td>\n",
       "      <td>31229</td>\n",
       "    </tr>\n",
       "    <tr>\n",
       "      <th>34453</th>\n",
       "      <td>TEDxBarilocheLive</td>\n",
       "      <td>TEDxLive</td>\n",
       "      <td>April 27, 2019</td>\n",
       "      <td>San Carlos de Bariloche</td>\n",
       "      <td>Argentina</td>\n",
       "      <td>True</td>\n",
       "      <td>False</td>\n",
       "      <td>34453</td>\n",
       "    </tr>\n",
       "    <tr>\n",
       "      <th>34383</th>\n",
       "      <td>TEDxRosarioLive</td>\n",
       "      <td>TEDxLive</td>\n",
       "      <td>April 18, 2019</td>\n",
       "      <td>Rosario</td>\n",
       "      <td>Argentina</td>\n",
       "      <td>True</td>\n",
       "      <td>False</td>\n",
       "      <td>34383</td>\n",
       "    </tr>\n",
       "  </tbody>\n",
       "</table>\n",
       "</div>"
      ],
      "text/plain": [
       "                    name eventType            date  \\\n",
       "32790   TEDxRiodelaPlata  Standard     May 7, 2019   \n",
       "33511         TEDxEsquel  Standard     May 4, 2019   \n",
       "31229        TEDxRafaela  Standard     May 4, 2019   \n",
       "34453  TEDxBarilocheLive  TEDxLive  April 27, 2019   \n",
       "34383    TEDxRosarioLive  TEDxLive  April 18, 2019   \n",
       "\n",
       "                                  city    country hasWebcast hasSpace  \\\n",
       "32790  Ciudad Autónoma de Buenos Aires  Argentina       True    False   \n",
       "33511                           Esquel  Argentina       True    False   \n",
       "31229                          Rafaela  Argentina       True    False   \n",
       "34453          San Carlos de Bariloche  Argentina       True    False   \n",
       "34383                          Rosario  Argentina       True    False   \n",
       "\n",
       "      eventCode  \n",
       "32790     32790  \n",
       "33511     33511  \n",
       "31229     31229  \n",
       "34453     34453  \n",
       "34383     34383  "
      ]
     },
     "execution_count": 34,
     "metadata": {},
     "output_type": "execute_result"
    }
   ],
   "source": [
    "print(len(eventsDf), 'events')\n",
    "eventsDf.head()"
   ]
  },
  {
   "cell_type": "code",
   "execution_count": 35,
   "metadata": {},
   "outputs": [],
   "source": [
    "eventsDf.to_pickle('../datasets/rawEvents.pkl')"
   ]
  }
 ],
 "metadata": {
  "kernelspec": {
   "display_name": "Python 3",
   "language": "python",
   "name": "python3"
  },
  "language_info": {
   "codemirror_mode": {
    "name": "ipython",
    "version": 3
   },
   "file_extension": ".py",
   "mimetype": "text/x-python",
   "name": "python",
   "nbconvert_exporter": "python",
   "pygments_lexer": "ipython3",
   "version": "3.6.5"
  }
 },
 "nbformat": 4,
 "nbformat_minor": 2
}
