{
 "cells": [
  {
   "cell_type": "code",
   "execution_count": 4,
   "metadata": {},
   "outputs": [],
   "source": [
    "import pandas as pd\n",
    "import requests\n",
    "from IPython.display import HTML, display\n",
    "from bs4 import BeautifulSoup\n",
    "from bs4 import Comment\n",
    "import json\n",
    "import html\n",
    "import re\n",
    "import urllib.parse\n",
    "from threading import Thread\n",
    "import threading\n",
    "lock = threading.RLock()"
   ]
  },
  {
   "cell_type": "code",
   "execution_count": 2,
   "metadata": {},
   "outputs": [
    {
     "data": {
      "text/html": [
       "<div>\n",
       "<style scoped>\n",
       "    .dataframe tbody tr th:only-of-type {\n",
       "        vertical-align: middle;\n",
       "    }\n",
       "\n",
       "    .dataframe tbody tr th {\n",
       "        vertical-align: top;\n",
       "    }\n",
       "\n",
       "    .dataframe thead th {\n",
       "        text-align: right;\n",
       "    }\n",
       "</style>\n",
       "<table border=\"1\" class=\"dataframe\">\n",
       "  <thead>\n",
       "    <tr style=\"text-align: right;\">\n",
       "      <th></th>\n",
       "      <th>IP Address</th>\n",
       "      <th>Port</th>\n",
       "      <th>Code</th>\n",
       "      <th>Country</th>\n",
       "      <th>Anonymity</th>\n",
       "      <th>Google</th>\n",
       "      <th>Https</th>\n",
       "      <th>Last Checked</th>\n",
       "    </tr>\n",
       "  </thead>\n",
       "  <tbody>\n",
       "    <tr>\n",
       "      <th>0</th>\n",
       "      <td>41.79.197.150</td>\n",
       "      <td>8080</td>\n",
       "      <td>SO</td>\n",
       "      <td>Somalia</td>\n",
       "      <td>elite proxy</td>\n",
       "      <td>no</td>\n",
       "      <td>yes</td>\n",
       "      <td>1 minute ago</td>\n",
       "    </tr>\n",
       "    <tr>\n",
       "      <th>66</th>\n",
       "      <td>93.78.205.197</td>\n",
       "      <td>57437</td>\n",
       "      <td>UA</td>\n",
       "      <td>Ukraine</td>\n",
       "      <td>elite proxy</td>\n",
       "      <td>no</td>\n",
       "      <td>yes</td>\n",
       "      <td>4 minutes ago</td>\n",
       "    </tr>\n",
       "    <tr>\n",
       "      <th>63</th>\n",
       "      <td>113.130.126.212</td>\n",
       "      <td>57312</td>\n",
       "      <td>KH</td>\n",
       "      <td>Cambodia</td>\n",
       "      <td>elite proxy</td>\n",
       "      <td>no</td>\n",
       "      <td>yes</td>\n",
       "      <td>4 minutes ago</td>\n",
       "    </tr>\n",
       "    <tr>\n",
       "      <th>62</th>\n",
       "      <td>118.173.232.219</td>\n",
       "      <td>57499</td>\n",
       "      <td>TH</td>\n",
       "      <td>Thailand</td>\n",
       "      <td>elite proxy</td>\n",
       "      <td>no</td>\n",
       "      <td>yes</td>\n",
       "      <td>4 minutes ago</td>\n",
       "    </tr>\n",
       "    <tr>\n",
       "      <th>61</th>\n",
       "      <td>176.196.240.34</td>\n",
       "      <td>53061</td>\n",
       "      <td>RU</td>\n",
       "      <td>Russian Federation</td>\n",
       "      <td>elite proxy</td>\n",
       "      <td>no</td>\n",
       "      <td>yes</td>\n",
       "      <td>4 minutes ago</td>\n",
       "    </tr>\n",
       "  </tbody>\n",
       "</table>\n",
       "</div>"
      ],
      "text/plain": [
       "         IP Address   Port Code             Country    Anonymity Google Https  \\\n",
       "0     41.79.197.150   8080   SO             Somalia  elite proxy     no   yes   \n",
       "66    93.78.205.197  57437   UA             Ukraine  elite proxy     no   yes   \n",
       "63  113.130.126.212  57312   KH            Cambodia  elite proxy     no   yes   \n",
       "62  118.173.232.219  57499   TH            Thailand  elite proxy     no   yes   \n",
       "61   176.196.240.34  53061   RU  Russian Federation  elite proxy     no   yes   \n",
       "\n",
       "     Last Checked  \n",
       "0    1 minute ago  \n",
       "66  4 minutes ago  \n",
       "63  4 minutes ago  \n",
       "62  4 minutes ago  \n",
       "61  4 minutes ago  "
      ]
     },
     "execution_count": 2,
     "metadata": {},
     "output_type": "execute_result"
    }
   ],
   "source": [
    "url_proxy = 'https://free-proxy-list.net/anonymous-proxy.html'\n",
    "response_pxy = requests.get(url_proxy)\n",
    "pxySoup = BeautifulSoup(response_pxy.text, 'html.parser')\n",
    "rowsPxy = []\n",
    "headPxy = []\n",
    "for tablePart in pxySoup.find_all(attrs={'id':'proxylisttable'})[0].find_all(True, recursive=False):\n",
    "    if(tablePart.name == 'thead'):\n",
    "        for row in tablePart.find_all(True, recursive=False):\n",
    "            headPxy = [tr.text for tr in row]\n",
    "    if(tablePart.name == 'tbody'):\n",
    "        for row in tablePart.find_all(True, recursive=False):\n",
    "            rowsPxy.append([tr.text for tr in row])\n",
    "\n",
    "proxiesDf = pd.DataFrame(data=rowsPxy, columns=headPxy)\n",
    "proxiesDf = proxiesDf[(proxiesDf['Anonymity']=='elite proxy')].sort_values(by='Https', ascending=False)\n",
    "proxiesDf.head()"
   ]
  },
  {
   "cell_type": "code",
   "execution_count": 3,
   "metadata": {},
   "outputs": [
    {
     "name": "stdout",
     "output_type": "stream",
     "text": [
      "10106 events\n"
     ]
    },
    {
     "data": {
      "text/html": [
       "<div>\n",
       "<style scoped>\n",
       "    .dataframe tbody tr th:only-of-type {\n",
       "        vertical-align: middle;\n",
       "    }\n",
       "\n",
       "    .dataframe tbody tr th {\n",
       "        vertical-align: top;\n",
       "    }\n",
       "\n",
       "    .dataframe thead th {\n",
       "        text-align: right;\n",
       "    }\n",
       "</style>\n",
       "<table border=\"1\" class=\"dataframe\">\n",
       "  <thead>\n",
       "    <tr style=\"text-align: right;\">\n",
       "      <th></th>\n",
       "      <th>name</th>\n",
       "      <th>eventType</th>\n",
       "      <th>date</th>\n",
       "      <th>city</th>\n",
       "      <th>country</th>\n",
       "      <th>hasWebcast</th>\n",
       "      <th>hasSpace</th>\n",
       "      <th>eventCode</th>\n",
       "    </tr>\n",
       "  </thead>\n",
       "  <tbody>\n",
       "    <tr>\n",
       "      <th>32790</th>\n",
       "      <td>TEDxRiodelaPlata</td>\n",
       "      <td>Standard</td>\n",
       "      <td>May 7, 2019</td>\n",
       "      <td>Ciudad Autónoma de Buenos Aires</td>\n",
       "      <td>Argentina</td>\n",
       "      <td>True</td>\n",
       "      <td>False</td>\n",
       "      <td>32790</td>\n",
       "    </tr>\n",
       "    <tr>\n",
       "      <th>33511</th>\n",
       "      <td>TEDxEsquel</td>\n",
       "      <td>Standard</td>\n",
       "      <td>May 4, 2019</td>\n",
       "      <td>Esquel</td>\n",
       "      <td>Argentina</td>\n",
       "      <td>True</td>\n",
       "      <td>False</td>\n",
       "      <td>33511</td>\n",
       "    </tr>\n",
       "    <tr>\n",
       "      <th>31229</th>\n",
       "      <td>TEDxRafaela</td>\n",
       "      <td>Standard</td>\n",
       "      <td>May 4, 2019</td>\n",
       "      <td>Rafaela</td>\n",
       "      <td>Argentina</td>\n",
       "      <td>True</td>\n",
       "      <td>False</td>\n",
       "      <td>31229</td>\n",
       "    </tr>\n",
       "    <tr>\n",
       "      <th>34453</th>\n",
       "      <td>TEDxBarilocheLive</td>\n",
       "      <td>TEDxLive</td>\n",
       "      <td>April 27, 2019</td>\n",
       "      <td>San Carlos de Bariloche</td>\n",
       "      <td>Argentina</td>\n",
       "      <td>True</td>\n",
       "      <td>False</td>\n",
       "      <td>34453</td>\n",
       "    </tr>\n",
       "    <tr>\n",
       "      <th>34383</th>\n",
       "      <td>TEDxRosarioLive</td>\n",
       "      <td>TEDxLive</td>\n",
       "      <td>April 18, 2019</td>\n",
       "      <td>Rosario</td>\n",
       "      <td>Argentina</td>\n",
       "      <td>True</td>\n",
       "      <td>False</td>\n",
       "      <td>34383</td>\n",
       "    </tr>\n",
       "  </tbody>\n",
       "</table>\n",
       "</div>"
      ],
      "text/plain": [
       "                    name eventType            date  \\\n",
       "32790   TEDxRiodelaPlata  Standard     May 7, 2019   \n",
       "33511         TEDxEsquel  Standard     May 4, 2019   \n",
       "31229        TEDxRafaela  Standard     May 4, 2019   \n",
       "34453  TEDxBarilocheLive  TEDxLive  April 27, 2019   \n",
       "34383    TEDxRosarioLive  TEDxLive  April 18, 2019   \n",
       "\n",
       "                                  city    country hasWebcast hasSpace  \\\n",
       "32790  Ciudad Autónoma de Buenos Aires  Argentina       True    False   \n",
       "33511                           Esquel  Argentina       True    False   \n",
       "31229                          Rafaela  Argentina       True    False   \n",
       "34453          San Carlos de Bariloche  Argentina       True    False   \n",
       "34383                          Rosario  Argentina       True    False   \n",
       "\n",
       "      eventCode  \n",
       "32790     32790  \n",
       "33511     33511  \n",
       "31229     31229  \n",
       "34453     34453  \n",
       "34383     34383  "
      ]
     },
     "execution_count": 3,
     "metadata": {},
     "output_type": "execute_result"
    }
   ],
   "source": [
    "# eventsDf = pd.DataFrame(columns=[\n",
    "#     'name',\n",
    "#     'eventType',\n",
    "#     'date',\n",
    "#     'city',\n",
    "#     'country',\n",
    "#     'hasWebcast',\n",
    "#     'hasSpace',\n",
    "#     'eventCode',\n",
    "# ])\n",
    "eventsDf = pd.read_pickle('../datasets/rawEvents.pkl')\n",
    "print(len(eventsDf), 'events')\n",
    "eventsDf.head()"
   ]
  },
  {
   "cell_type": "code",
   "execution_count": 4,
   "metadata": {},
   "outputs": [],
   "source": [
    "errors = pd.DataFrame(columns=['page','min','max','country'])"
   ]
  },
  {
   "cell_type": "code",
   "execution_count": 36,
   "metadata": {
    "scrolled": true
   },
   "outputs": [
    {
     "data": {
      "text/plain": [
       "array(['91.135.148.198'], dtype=object)"
      ]
     },
     "execution_count": 36,
     "metadata": {},
     "output_type": "execute_result"
    }
   ],
   "source": [
    "proxiesDf[proxiesDf.Https=='no'].loc[:,'IP Address'].sample(1).values"
   ]
  },
  {
   "cell_type": "code",
   "execution_count": 1,
   "metadata": {
    "scrolled": true
   },
   "outputs": [
    {
     "ename": "NameError",
     "evalue": "name 'proxiesDf' is not defined",
     "output_type": "error",
     "traceback": [
      "\u001b[1;31m---------------------------------------------------------------------------\u001b[0m",
      "\u001b[1;31mNameError\u001b[0m                                 Traceback (most recent call last)",
      "\u001b[1;32m<ipython-input-1-de0d296b3ba4>\u001b[0m in \u001b[0;36m<module>\u001b[1;34m()\u001b[0m\n\u001b[0;32m      3\u001b[0m }\n\u001b[0;32m      4\u001b[0m proxies = {\n\u001b[1;32m----> 5\u001b[1;33m     \u001b[1;34m\"http\"\u001b[0m\u001b[1;33m:\u001b[0m \u001b[0mproxiesDf\u001b[0m\u001b[1;33m[\u001b[0m\u001b[0mproxiesDf\u001b[0m\u001b[1;33m.\u001b[0m\u001b[0mHttps\u001b[0m\u001b[1;33m==\u001b[0m\u001b[1;34m'no'\u001b[0m\u001b[1;33m]\u001b[0m\u001b[1;33m.\u001b[0m\u001b[0mloc\u001b[0m\u001b[1;33m[\u001b[0m\u001b[1;33m:\u001b[0m\u001b[1;33m,\u001b[0m\u001b[1;34m'IP Address'\u001b[0m\u001b[1;33m]\u001b[0m\u001b[1;33m.\u001b[0m\u001b[0mvalues\u001b[0m\u001b[1;33m[\u001b[0m\u001b[1;36m0\u001b[0m\u001b[1;33m]\u001b[0m\u001b[1;33m\u001b[0m\u001b[0m\n\u001b[0m\u001b[0;32m      6\u001b[0m }\n\u001b[0;32m      7\u001b[0m \u001b[1;32mdef\u001b[0m \u001b[0mgetProxy\u001b[0m\u001b[1;33m(\u001b[0m\u001b[1;33m)\u001b[0m\u001b[1;33m:\u001b[0m\u001b[1;33m\u001b[0m\u001b[0m\n",
      "\u001b[1;31mNameError\u001b[0m: name 'proxiesDf' is not defined"
     ]
    }
   ],
   "source": [
    "headersChrome = {\n",
    "    'User-Agent': 'Mozilla/5.0 (Windows NT 10.0; Win64; x64) AppleWebKit/537.36 (KHTML, like Gecko) Chrome/60.0.3112.113 Safari/537.36'\n",
    "}\n",
    "proxies = {\n",
    "    \"http\": proxiesDf[proxiesDf.Https=='no'].loc[:,'IP Address'].values[0]\n",
    "}\n",
    "def getProxy():\n",
    "    return {\n",
    "        \"http\": proxiesDf[proxiesDf.Https=='no'].loc[:,'IP Address'].sample(1).values\n",
    "    }\n",
    "def getUrl(url):\n",
    "    return requests.get(\n",
    "        url, headers=headersChrome, proxies=getProxy()\n",
    "    )\n",
    "\n",
    "def getEvents(searchFilter, startPage=1, maxPages=1, past=False):\n",
    "    whenStr = 'upcoming'\n",
    "    if(past):\n",
    "        whenStr = 'past'\n",
    "    if(type(maxPages) is not int):\n",
    "        print('maxPages has to be int')\n",
    "        return False\n",
    "    for pageNum in range(startPage, maxPages+1):\n",
    "#         searchFilter = urllib.parse.quote(searchFilter)\n",
    "        url = 'https://www.ted.com/tedx/events?autocomplete_filter='+searchFilter+'&page='+str(pageNum)+'&when='+whenStr\n",
    "        display(url)\n",
    "        rawHtmlPage = getUrl(url)\n",
    "        html = BeautifulSoup(rawHtmlPage.text, 'html.parser')\n",
    "        eventsRows = html.select('tr.tedx-events-table__event')\n",
    "        if(len(eventsRows) == 0):\n",
    "            break\n",
    "        for x in eventsRows:\n",
    "            locationRaw = x.select('td')[2]\n",
    "            ciudad, pais = re.findall('(.+)<br\\/>(.+)<\\/td>', str(locationRaw))[0]\n",
    "            dateRaw = x.select('td:nth-of-type(1)')[0].text\n",
    "            dateStr = re.findall('(\\w+ [\\d]+, [\\d]+)', dateRaw)[0]\n",
    "            a = x.select('strong a')[0]\n",
    "            href = a['href']\n",
    "            name = re.sub('\\xad','', str(a.text))\n",
    "            webcastRaw = x.select('td')[4]\n",
    "            hasWebcast = re.findall('(.+)', str(webcastRaw))[3]!='No'\n",
    "\n",
    "            spaceRaw = x.select('td')[3]\n",
    "            hasSpace = re.findall('<span class=\"screen-reader-text\">(.+)</span>', str(spaceRaw))[0] == 'Yes'\n",
    "            eventCode = int(re.sub('/tedx/events/','', href))\n",
    "            eventType = x.find_all(attrs={'class':'tedx-events-table__event-type'})[0].text\n",
    "            with lock:\n",
    "                eventsDf.loc[eventCode] = [\n",
    "                    name,\n",
    "                    eventType,\n",
    "                    dateStr,\n",
    "                    ciudad,\n",
    "                    pais,\n",
    "                    hasWebcast,\n",
    "                    hasSpace,\n",
    "                    eventCode,\n",
    "                ]\n",
    "    return True"
   ]
  },
  {
   "cell_type": "code",
   "execution_count": 39,
   "metadata": {},
   "outputs": [
    {
     "data": {
      "text/plain": [
       "11569"
      ]
     },
     "execution_count": 39,
     "metadata": {},
     "output_type": "execute_result"
    }
   ],
   "source": [
    "len(eventsDf)"
   ]
  },
  {
   "cell_type": "code",
   "execution_count": 53,
   "metadata": {},
   "outputs": [
    {
     "data": {
      "text/plain": [
       "2892"
      ]
     },
     "execution_count": 53,
     "metadata": {},
     "output_type": "execute_result"
    }
   ],
   "source": [
    "with open('../countries.json', 'r') as f:\n",
    "    countries_dict = json.load(f)\n",
    "    \n",
    "countriesA = [countries_dict[x] for x in countries_dict]\n",
    "\n",
    "countries = []\n",
    "for c in countriesA:\n",
    "    for y in range(2009, 2021):\n",
    "        countries.append(c+'&year='+str(y))\n",
    "len(countries)"
   ]
  },
  {
   "cell_type": "code",
   "execution_count": 54,
   "metadata": {
    "scrolled": true
   },
   "outputs": [
    {
     "data": {
      "text/plain": [
       "'https://www.ted.com/tedx/events?autocomplete_filter=Afghanistan&year=2010&page=1&when=past'"
      ]
     },
     "metadata": {},
     "output_type": "display_data"
    },
    {
     "data": {
      "text/plain": [
       "'https://www.ted.com/tedx/events?autocomplete_filter=Afghanistan&year=2009&page=1&when=past'"
      ]
     },
     "metadata": {},
     "output_type": "display_data"
    },
    {
     "data": {
      "text/plain": [
       "'https://www.ted.com/tedx/events?autocomplete_filter=Afghanistan&year=2011&page=1&when=past'"
      ]
     },
     "metadata": {},
     "output_type": "display_data"
    },
    {
     "data": {
      "text/plain": [
       "'https://www.ted.com/tedx/events?autocomplete_filter=Afghanistan&year=2012&page=1&when=past'"
      ]
     },
     "metadata": {},
     "output_type": "display_data"
    },
    {
     "data": {
      "text/plain": [
       "'https://www.ted.com/tedx/events?autocomplete_filter=Afghanistan&year=2013&page=1&when=past'"
      ]
     },
     "metadata": {},
     "output_type": "display_data"
    },
    {
     "data": {
      "text/plain": [
       "'https://www.ted.com/tedx/events?autocomplete_filter=Afghanistan&year=2015&page=1&when=past'"
      ]
     },
     "metadata": {},
     "output_type": "display_data"
    },
    {
     "data": {
      "text/plain": [
       "'https://www.ted.com/tedx/events?autocomplete_filter=Afghanistan&year=2014&page=1&when=past'"
      ]
     },
     "metadata": {},
     "output_type": "display_data"
    },
    {
     "data": {
      "text/plain": [
       "'https://www.ted.com/tedx/events?autocomplete_filter=Afghanistan&year=2016&page=1&when=past'"
      ]
     },
     "metadata": {},
     "output_type": "display_data"
    },
    {
     "data": {
      "text/plain": [
       "'https://www.ted.com/tedx/events?autocomplete_filter=Afghanistan&year=2018&page=1&when=past'"
      ]
     },
     "metadata": {},
     "output_type": "display_data"
    },
    {
     "data": {
      "text/plain": [
       "'https://www.ted.com/tedx/events?autocomplete_filter=Afghanistan&year=2019&page=1&when=past'"
      ]
     },
     "metadata": {},
     "output_type": "display_data"
    },
    {
     "data": {
      "text/plain": [
       "'https://www.ted.com/tedx/events?autocomplete_filter=Afghanistan&year=2017&page=1&when=past'"
      ]
     },
     "metadata": {},
     "output_type": "display_data"
    },
    {
     "data": {
      "text/plain": [
       "'https://www.ted.com/tedx/events?autocomplete_filter=Albania&year=2009&page=1&when=past'"
      ]
     },
     "metadata": {},
     "output_type": "display_data"
    },
    {
     "data": {
      "text/plain": [
       "'https://www.ted.com/tedx/events?autocomplete_filter=Afghanistan&year=2020&page=1&when=past'"
      ]
     },
     "metadata": {},
     "output_type": "display_data"
    },
    {
     "data": {
      "text/plain": [
       "'https://www.ted.com/tedx/events?autocomplete_filter=Albania&year=2011&page=1&when=past'"
      ]
     },
     "metadata": {},
     "output_type": "display_data"
    },
    {
     "data": {
      "text/plain": [
       "'https://www.ted.com/tedx/events?autocomplete_filter=Albania&year=2010&page=1&when=past'"
      ]
     },
     "metadata": {},
     "output_type": "display_data"
    },
    {
     "data": {
      "text/plain": [
       "'https://www.ted.com/tedx/events?autocomplete_filter=Albania&year=2012&page=1&when=past'"
      ]
     },
     "metadata": {},
     "output_type": "display_data"
    },
    {
     "data": {
      "text/plain": [
       "'https://www.ted.com/tedx/events?autocomplete_filter=Albania&year=2013&page=1&when=past'"
      ]
     },
     "metadata": {},
     "output_type": "display_data"
    },
    {
     "data": {
      "text/plain": [
       "'https://www.ted.com/tedx/events?autocomplete_filter=Algeria&year=2012&page=1&when=past'"
      ]
     },
     "metadata": {},
     "output_type": "display_data"
    },
    {
     "data": {
      "text/plain": [
       "'https://www.ted.com/tedx/events?autocomplete_filter=Algeria&year=2013&page=1&when=past'"
      ]
     },
     "metadata": {},
     "output_type": "display_data"
    },
    {
     "data": {
      "text/plain": [
       "'https://www.ted.com/tedx/events?autocomplete_filter=Albania&year=2014&page=1&when=past'"
      ]
     },
     "metadata": {},
     "output_type": "display_data"
    },
    {
     "data": {
      "text/plain": [
       "'https://www.ted.com/tedx/events?autocomplete_filter=Albania&year=2020&page=1&when=past'"
      ]
     },
     "metadata": {},
     "output_type": "display_data"
    },
    {
     "data": {
      "text/plain": [
       "'https://www.ted.com/tedx/events?autocomplete_filter=Albania&year=2011&page=2&when=past'"
      ]
     },
     "metadata": {},
     "output_type": "display_data"
    },
    {
     "data": {
      "text/plain": [
       "'https://www.ted.com/tedx/events?autocomplete_filter=Afghanistan&year=2014&page=2&when=past'"
      ]
     },
     "metadata": {},
     "output_type": "display_data"
    },
    {
     "data": {
      "text/plain": [
       "'https://www.ted.com/tedx/events?autocomplete_filter=Afghanistan&year=2012&page=2&when=past'"
      ]
     },
     "metadata": {},
     "output_type": "display_data"
    },
    {
     "data": {
      "text/plain": [
       "'https://www.ted.com/tedx/events?autocomplete_filter=Afghanistan&year=2018&page=2&when=past'"
      ]
     },
     "metadata": {},
     "output_type": "display_data"
    },
    {
     "data": {
      "text/plain": [
       "'https://www.ted.com/tedx/events?autocomplete_filter=Afghanistan&year=2020&page=2&when=past'"
      ]
     },
     "metadata": {},
     "output_type": "display_data"
    },
    {
     "data": {
      "text/plain": [
       "'https://www.ted.com/tedx/events?autocomplete_filter=Afghanistan&year=2015&page=2&when=past'"
      ]
     },
     "metadata": {},
     "output_type": "display_data"
    },
    {
     "data": {
      "text/plain": [
       "'https://www.ted.com/tedx/events?autocomplete_filter=Albania&year=2012&page=2&when=past'"
      ]
     },
     "metadata": {},
     "output_type": "display_data"
    },
    {
     "data": {
      "text/plain": [
       "'https://www.ted.com/tedx/events?autocomplete_filter=Afghanistan&year=2013&page=2&when=past'"
      ]
     },
     "metadata": {},
     "output_type": "display_data"
    },
    {
     "data": {
      "text/plain": [
       "'https://www.ted.com/tedx/events?autocomplete_filter=Afghanistan&year=2016&page=2&when=past'"
      ]
     },
     "metadata": {},
     "output_type": "display_data"
    },
    {
     "data": {
      "text/plain": [
       "'https://www.ted.com/tedx/events?autocomplete_filter=Afghanistan&year=2019&page=2&when=past'"
      ]
     },
     "metadata": {},
     "output_type": "display_data"
    },
    {
     "data": {
      "text/plain": [
       "'https://www.ted.com/tedx/events?autocomplete_filter=Albania&year=2013&page=2&when=past'"
      ]
     },
     "metadata": {},
     "output_type": "display_data"
    },
    {
     "data": {
      "text/plain": [
       "'https://www.ted.com/tedx/events?autocomplete_filter=Algeria&year=2012&page=2&when=past'"
      ]
     },
     "metadata": {},
     "output_type": "display_data"
    },
    {
     "data": {
      "text/plain": [
       "'https://www.ted.com/tedx/events?autocomplete_filter=Albania&year=2014&page=2&when=past'"
      ]
     },
     "metadata": {},
     "output_type": "display_data"
    },
    {
     "data": {
      "text/plain": [
       "'https://www.ted.com/tedx/events?autocomplete_filter=Algeria&year=2014&page=1&when=past'"
      ]
     },
     "metadata": {},
     "output_type": "display_data"
    },
    {
     "data": {
      "text/plain": [
       "'https://www.ted.com/tedx/events?autocomplete_filter=Albania&year=2020&page=2&when=past'"
      ]
     },
     "metadata": {},
     "output_type": "display_data"
    },
    {
     "data": {
      "text/plain": [
       "'https://www.ted.com/tedx/events?autocomplete_filter=Algeria&year=2011&page=1&when=past'"
      ]
     },
     "metadata": {},
     "output_type": "display_data"
    },
    {
     "data": {
      "text/plain": [
       "'https://www.ted.com/tedx/events?autocomplete_filter=Albania&year=2017&page=1&when=past'"
      ]
     },
     "metadata": {},
     "output_type": "display_data"
    },
    {
     "data": {
      "text/plain": [
       "'https://www.ted.com/tedx/events?autocomplete_filter=Algeria&year=2013&page=2&when=past'"
      ]
     },
     "metadata": {},
     "output_type": "display_data"
    },
    {
     "data": {
      "text/plain": [
       "'https://www.ted.com/tedx/events?autocomplete_filter=Albania&year=2015&page=1&when=past'"
      ]
     },
     "metadata": {},
     "output_type": "display_data"
    },
    {
     "data": {
      "text/plain": [
       "'https://www.ted.com/tedx/events?autocomplete_filter=Algeria&year=2009&page=1&when=past'"
      ]
     },
     "metadata": {},
     "output_type": "display_data"
    },
    {
     "data": {
      "text/plain": [
       "'https://www.ted.com/tedx/events?autocomplete_filter=Algeria&year=2015&page=1&when=past'"
      ]
     },
     "metadata": {},
     "output_type": "display_data"
    },
    {
     "data": {
      "text/plain": [
       "'https://www.ted.com/tedx/events?autocomplete_filter=Albania&year=2016&page=1&when=past'"
      ]
     },
     "metadata": {},
     "output_type": "display_data"
    },
    {
     "data": {
      "text/plain": [
       "'https://www.ted.com/tedx/events?autocomplete_filter=Albania&year=2018&page=1&when=past'"
      ]
     },
     "metadata": {},
     "output_type": "display_data"
    },
    {
     "data": {
      "text/plain": [
       "'https://www.ted.com/tedx/events?autocomplete_filter=Albania&year=2019&page=1&when=past'"
      ]
     },
     "metadata": {},
     "output_type": "display_data"
    },
    {
     "data": {
      "text/plain": [
       "'https://www.ted.com/tedx/events?autocomplete_filter=Algeria&year=2010&page=1&when=past'"
      ]
     },
     "metadata": {},
     "output_type": "display_data"
    },
    {
     "data": {
      "text/plain": [
       "'https://www.ted.com/tedx/events?autocomplete_filter=Algeria&year=2016&page=1&when=past'"
      ]
     },
     "metadata": {},
     "output_type": "display_data"
    },
    {
     "data": {
      "text/plain": [
       "'https://www.ted.com/tedx/events?autocomplete_filter=American+Samoa&year=2015&page=1&when=past'"
      ]
     },
     "metadata": {},
     "output_type": "display_data"
    },
    {
     "data": {
      "text/plain": [
       "'https://www.ted.com/tedx/events?autocomplete_filter=Algeria&year=2017&page=1&when=past'"
      ]
     },
     "metadata": {},
     "output_type": "display_data"
    },
    {
     "data": {
      "text/plain": [
       "'https://www.ted.com/tedx/events?autocomplete_filter=American+Samoa&year=2011&page=1&when=past'"
      ]
     },
     "metadata": {},
     "output_type": "display_data"
    },
    {
     "data": {
      "text/plain": [
       "'https://www.ted.com/tedx/events?autocomplete_filter=American+Samoa&year=2012&page=1&when=past'"
      ]
     },
     "metadata": {},
     "output_type": "display_data"
    },
    {
     "data": {
      "text/plain": [
       "'https://www.ted.com/tedx/events?autocomplete_filter=Algeria&year=2011&page=2&when=past'"
      ]
     },
     "metadata": {},
     "output_type": "display_data"
    },
    {
     "data": {
      "text/plain": [
       "'https://www.ted.com/tedx/events?autocomplete_filter=American+Samoa&year=2016&page=1&when=past'"
      ]
     },
     "metadata": {},
     "output_type": "display_data"
    },
    {
     "data": {
      "text/plain": [
       "'https://www.ted.com/tedx/events?autocomplete_filter=Algeria&year=2014&page=2&when=past'"
      ]
     },
     "metadata": {},
     "output_type": "display_data"
    },
    {
     "data": {
      "text/plain": [
       "'https://www.ted.com/tedx/events?autocomplete_filter=Algeria&year=2010&page=2&when=past'"
      ]
     },
     "metadata": {},
     "output_type": "display_data"
    },
    {
     "data": {
      "text/plain": [
       "'https://www.ted.com/tedx/events?autocomplete_filter=Albania&year=2015&page=2&when=past'"
      ]
     },
     "metadata": {},
     "output_type": "display_data"
    },
    {
     "data": {
      "text/plain": [
       "'https://www.ted.com/tedx/events?autocomplete_filter=Albania&year=2019&page=2&when=past'"
      ]
     },
     "metadata": {},
     "output_type": "display_data"
    },
    {
     "data": {
      "text/plain": [
       "'https://www.ted.com/tedx/events?autocomplete_filter=Albania&year=2017&page=2&when=past'"
      ]
     },
     "metadata": {},
     "output_type": "display_data"
    },
    {
     "data": {
      "text/plain": [
       "'https://www.ted.com/tedx/events?autocomplete_filter=Andorra&year=2014&page=1&when=past'"
      ]
     },
     "metadata": {},
     "output_type": "display_data"
    },
    {
     "data": {
      "text/plain": [
       "'https://www.ted.com/tedx/events?autocomplete_filter=Andorra&year=2018&page=1&when=past'"
      ]
     },
     "metadata": {},
     "output_type": "display_data"
    },
    {
     "data": {
      "text/plain": [
       "'https://www.ted.com/tedx/events?autocomplete_filter=Albania&year=2018&page=2&when=past'"
      ]
     },
     "metadata": {},
     "output_type": "display_data"
    },
    {
     "data": {
      "text/plain": [
       "'https://www.ted.com/tedx/events?autocomplete_filter=Andorra&year=2015&page=1&when=past'"
      ]
     },
     "metadata": {},
     "output_type": "display_data"
    },
    {
     "data": {
      "text/plain": [
       "'https://www.ted.com/tedx/events?autocomplete_filter=American+Samoa&year=2014&page=1&when=past'"
      ]
     },
     "metadata": {},
     "output_type": "display_data"
    },
    {
     "data": {
      "text/plain": [
       "'https://www.ted.com/tedx/events?autocomplete_filter=Albania&year=2016&page=2&when=past'"
      ]
     },
     "metadata": {},
     "output_type": "display_data"
    },
    {
     "data": {
      "text/plain": [
       "'https://www.ted.com/tedx/events?autocomplete_filter=Andorra&year=2019&page=1&when=past'"
      ]
     },
     "metadata": {},
     "output_type": "display_data"
    },
    {
     "data": {
      "text/plain": [
       "'https://www.ted.com/tedx/events?autocomplete_filter=American+Samoa&year=2017&page=1&when=past'"
      ]
     },
     "metadata": {},
     "output_type": "display_data"
    },
    {
     "data": {
      "text/plain": [
       "'https://www.ted.com/tedx/events?autocomplete_filter=Algeria&year=2017&page=2&when=past'"
      ]
     },
     "metadata": {},
     "output_type": "display_data"
    },
    {
     "data": {
      "text/plain": [
       "'https://www.ted.com/tedx/events?autocomplete_filter=Algeria&year=2015&page=2&when=past'"
      ]
     },
     "metadata": {},
     "output_type": "display_data"
    },
    {
     "data": {
      "text/plain": [
       "'https://www.ted.com/tedx/events?autocomplete_filter=Algeria&year=2016&page=2&when=past'"
      ]
     },
     "metadata": {},
     "output_type": "display_data"
    },
    {
     "data": {
      "text/plain": [
       "'https://www.ted.com/tedx/events?autocomplete_filter=American+Samoa&year=2013&page=1&when=past'"
      ]
     },
     "metadata": {},
     "output_type": "display_data"
    },
    {
     "data": {
      "text/plain": [
       "'https://www.ted.com/tedx/events?autocomplete_filter=Algeria&year=2018&page=1&when=past'"
      ]
     },
     "metadata": {},
     "output_type": "display_data"
    },
    {
     "data": {
      "text/plain": [
       "'https://www.ted.com/tedx/events?autocomplete_filter=Anguilla&year=2009&page=1&when=past'"
      ]
     },
     "metadata": {},
     "output_type": "display_data"
    },
    {
     "data": {
      "text/plain": [
       "'https://www.ted.com/tedx/events?autocomplete_filter=Andorra&year=2014&page=2&when=past'"
      ]
     },
     "metadata": {},
     "output_type": "display_data"
    },
    {
     "data": {
      "text/plain": [
       "'https://www.ted.com/tedx/events?autocomplete_filter=Andorra&year=2017&page=1&when=past'"
      ]
     },
     "metadata": {},
     "output_type": "display_data"
    },
    {
     "data": {
      "text/plain": [
       "'https://www.ted.com/tedx/events?autocomplete_filter=American+Samoa&year=2010&page=1&when=past'"
      ]
     },
     "metadata": {},
     "output_type": "display_data"
    },
    {
     "data": {
      "text/plain": [
       "'https://www.ted.com/tedx/events?autocomplete_filter=Andorra&year=2020&page=1&when=past'"
      ]
     },
     "metadata": {},
     "output_type": "display_data"
    },
    {
     "data": {
      "text/plain": [
       "'https://www.ted.com/tedx/events?autocomplete_filter=Algeria&year=2020&page=1&when=past'"
      ]
     },
     "metadata": {},
     "output_type": "display_data"
    },
    {
     "data": {
      "text/plain": [
       "'https://www.ted.com/tedx/events?autocomplete_filter=American+Samoa&year=2009&page=1&when=past'"
      ]
     },
     "metadata": {},
     "output_type": "display_data"
    },
    {
     "data": {
      "text/plain": [
       "'https://www.ted.com/tedx/events?autocomplete_filter=American+Samoa&year=2018&page=1&when=past'"
      ]
     },
     "metadata": {},
     "output_type": "display_data"
    },
    {
     "data": {
      "text/plain": [
       "'https://www.ted.com/tedx/events?autocomplete_filter=Algeria&year=2019&page=1&when=past'"
      ]
     },
     "metadata": {},
     "output_type": "display_data"
    },
    {
     "data": {
      "text/plain": [
       "'https://www.ted.com/tedx/events?autocomplete_filter=American+Samoa&year=2020&page=1&when=past'"
      ]
     },
     "metadata": {},
     "output_type": "display_data"
    },
    {
     "data": {
      "text/plain": [
       "'https://www.ted.com/tedx/events?autocomplete_filter=American+Samoa&year=2019&page=1&when=past'"
      ]
     },
     "metadata": {},
     "output_type": "display_data"
    },
    {
     "data": {
      "text/plain": [
       "'https://www.ted.com/tedx/events?autocomplete_filter=Andorra&year=2016&page=1&when=past'"
      ]
     },
     "metadata": {},
     "output_type": "display_data"
    },
    {
     "data": {
      "text/plain": [
       "'https://www.ted.com/tedx/events?autocomplete_filter=Andorra&year=2019&page=2&when=past'"
      ]
     },
     "metadata": {},
     "output_type": "display_data"
    },
    {
     "data": {
      "text/plain": [
       "'https://www.ted.com/tedx/events?autocomplete_filter=Andorra&year=2015&page=2&when=past'"
      ]
     },
     "metadata": {},
     "output_type": "display_data"
    },
    {
     "data": {
      "text/plain": [
       "'https://www.ted.com/tedx/events?autocomplete_filter=Antarctica&year=2012&page=1&when=past'"
      ]
     },
     "metadata": {},
     "output_type": "display_data"
    },
    {
     "data": {
      "text/plain": [
       "'https://www.ted.com/tedx/events?autocomplete_filter=Algeria&year=2018&page=2&when=past'"
      ]
     },
     "metadata": {},
     "output_type": "display_data"
    },
    {
     "data": {
      "text/plain": [
       "'https://www.ted.com/tedx/events?autocomplete_filter=Angola&year=2017&page=1&when=past'"
      ]
     },
     "metadata": {},
     "output_type": "display_data"
    },
    {
     "data": {
      "text/plain": [
       "'https://www.ted.com/tedx/events?autocomplete_filter=Andorra&year=2013&page=1&when=past'"
      ]
     },
     "metadata": {},
     "output_type": "display_data"
    },
    {
     "data": {
      "text/plain": [
       "'https://www.ted.com/tedx/events?autocomplete_filter=Anguilla&year=2011&page=1&when=past'"
      ]
     },
     "metadata": {},
     "output_type": "display_data"
    },
    {
     "data": {
      "text/plain": [
       "'https://www.ted.com/tedx/events?autocomplete_filter=Andorra&year=2017&page=2&when=past'"
      ]
     },
     "metadata": {},
     "output_type": "display_data"
    },
    {
     "data": {
      "text/plain": [
       "'https://www.ted.com/tedx/events?autocomplete_filter=Andorra&year=2012&page=1&when=past'"
      ]
     },
     "metadata": {},
     "output_type": "display_data"
    },
    {
     "data": {
      "text/plain": [
       "'https://www.ted.com/tedx/events?autocomplete_filter=Angola&year=2009&page=1&when=past'"
      ]
     },
     "metadata": {},
     "output_type": "display_data"
    },
    {
     "data": {
      "text/plain": [
       "'https://www.ted.com/tedx/events?autocomplete_filter=Algeria&year=2020&page=2&when=past'"
      ]
     },
     "metadata": {},
     "output_type": "display_data"
    },
    {
     "data": {
      "text/plain": [
       "'https://www.ted.com/tedx/events?autocomplete_filter=Angola&year=2011&page=1&when=past'"
      ]
     },
     "metadata": {},
     "output_type": "display_data"
    },
    {
     "data": {
      "text/plain": [
       "'https://www.ted.com/tedx/events?autocomplete_filter=Angola&year=2018&page=1&when=past'"
      ]
     },
     "metadata": {},
     "output_type": "display_data"
    },
    {
     "data": {
      "text/plain": [
       "'https://www.ted.com/tedx/events?autocomplete_filter=Antarctica&year=2012&page=2&when=past'"
      ]
     },
     "metadata": {},
     "output_type": "display_data"
    },
    {
     "data": {
      "text/plain": [
       "'https://www.ted.com/tedx/events?autocomplete_filter=Anguilla&year=2010&page=1&when=past'"
      ]
     },
     "metadata": {},
     "output_type": "display_data"
    },
    {
     "data": {
      "text/plain": [
       "'https://www.ted.com/tedx/events?autocomplete_filter=American+Samoa&year=2019&page=2&when=past'"
      ]
     },
     "metadata": {},
     "output_type": "display_data"
    },
    {
     "data": {
      "text/plain": [
       "'https://www.ted.com/tedx/events?autocomplete_filter=Antarctica&year=2014&page=1&when=past'"
      ]
     },
     "metadata": {},
     "output_type": "display_data"
    },
    {
     "data": {
      "text/plain": [
       "'https://www.ted.com/tedx/events?autocomplete_filter=Anguilla&year=2020&page=1&when=past'"
      ]
     },
     "metadata": {},
     "output_type": "display_data"
    },
    {
     "data": {
      "text/plain": [
       "'https://www.ted.com/tedx/events?autocomplete_filter=Anguilla&year=2012&page=1&when=past'"
      ]
     },
     "metadata": {},
     "output_type": "display_data"
    },
    {
     "data": {
      "text/plain": [
       "'https://www.ted.com/tedx/events?autocomplete_filter=Angola&year=2020&page=1&when=past'"
      ]
     },
     "metadata": {},
     "output_type": "display_data"
    },
    {
     "data": {
      "text/plain": [
       "'https://www.ted.com/tedx/events?autocomplete_filter=Andorra&year=2013&page=2&when=past'"
      ]
     },
     "metadata": {},
     "output_type": "display_data"
    },
    {
     "data": {
      "text/plain": [
       "'https://www.ted.com/tedx/events?autocomplete_filter=Algeria&year=2019&page=2&when=past'"
      ]
     },
     "metadata": {},
     "output_type": "display_data"
    },
    {
     "data": {
      "text/plain": [
       "'https://www.ted.com/tedx/events?autocomplete_filter=Andorra&year=2011&page=1&when=past'"
      ]
     },
     "metadata": {},
     "output_type": "display_data"
    },
    {
     "data": {
      "text/plain": [
       "'https://www.ted.com/tedx/events?autocomplete_filter=Anguilla&year=2014&page=1&when=past'"
      ]
     },
     "metadata": {},
     "output_type": "display_data"
    },
    {
     "data": {
      "text/plain": [
       "'https://www.ted.com/tedx/events?autocomplete_filter=Antarctica&year=2013&page=1&when=past'"
      ]
     },
     "metadata": {},
     "output_type": "display_data"
    },
    {
     "data": {
      "text/plain": [
       "'https://www.ted.com/tedx/events?autocomplete_filter=Andorra&year=2009&page=1&when=past'"
      ]
     },
     "metadata": {},
     "output_type": "display_data"
    },
    {
     "data": {
      "text/plain": [
       "'https://www.ted.com/tedx/events?autocomplete_filter=Angola&year=2018&page=2&when=past'"
      ]
     },
     "metadata": {},
     "output_type": "display_data"
    },
    {
     "data": {
      "text/plain": [
       "'https://www.ted.com/tedx/events?autocomplete_filter=Andorra&year=2016&page=2&when=past'"
      ]
     },
     "metadata": {},
     "output_type": "display_data"
    },
    {
     "data": {
      "text/plain": [
       "'https://www.ted.com/tedx/events?autocomplete_filter=Andorra&year=2012&page=2&when=past'"
      ]
     },
     "metadata": {},
     "output_type": "display_data"
    },
    {
     "data": {
      "text/plain": [
       "'https://www.ted.com/tedx/events?autocomplete_filter=Angola&year=2010&page=1&when=past'"
      ]
     },
     "metadata": {},
     "output_type": "display_data"
    },
    {
     "data": {
      "text/plain": [
       "'https://www.ted.com/tedx/events?autocomplete_filter=Antarctica&year=2011&page=1&when=past'"
      ]
     },
     "metadata": {},
     "output_type": "display_data"
    },
    {
     "data": {
      "text/plain": [
       "'https://www.ted.com/tedx/events?autocomplete_filter=Antarctica&year=2017&page=1&when=past'"
      ]
     },
     "metadata": {},
     "output_type": "display_data"
    },
    {
     "data": {
      "text/plain": [
       "'https://www.ted.com/tedx/events?autocomplete_filter=Antarctica&year=2014&page=2&when=past'"
      ]
     },
     "metadata": {},
     "output_type": "display_data"
    },
    {
     "data": {
      "text/plain": [
       "'https://www.ted.com/tedx/events?autocomplete_filter=Andorra&year=2010&page=1&when=past'"
      ]
     },
     "metadata": {},
     "output_type": "display_data"
    },
    {
     "data": {
      "text/plain": [
       "'https://www.ted.com/tedx/events?autocomplete_filter=Antigua+And+Barbuda&year=2015&page=1&when=past'"
      ]
     },
     "metadata": {},
     "output_type": "display_data"
    },
    {
     "data": {
      "text/plain": [
       "'https://www.ted.com/tedx/events?autocomplete_filter=Angola&year=2016&page=1&when=past'"
      ]
     },
     "metadata": {},
     "output_type": "display_data"
    },
    {
     "data": {
      "text/plain": [
       "'https://www.ted.com/tedx/events?autocomplete_filter=Antarctica&year=2015&page=1&when=past'"
      ]
     },
     "metadata": {},
     "output_type": "display_data"
    },
    {
     "data": {
      "text/plain": [
       "'https://www.ted.com/tedx/events?autocomplete_filter=Anguilla&year=2020&page=2&when=past'"
      ]
     },
     "metadata": {},
     "output_type": "display_data"
    },
    {
     "data": {
      "text/plain": [
       "'https://www.ted.com/tedx/events?autocomplete_filter=Andorra&year=2011&page=2&when=past'"
      ]
     },
     "metadata": {},
     "output_type": "display_data"
    },
    {
     "data": {
      "text/plain": [
       "'https://www.ted.com/tedx/events?autocomplete_filter=Antigua+And+Barbuda&year=2016&page=1&when=past'"
      ]
     },
     "metadata": {},
     "output_type": "display_data"
    },
    {
     "data": {
      "text/plain": [
       "'https://www.ted.com/tedx/events?autocomplete_filter=Anguilla&year=2013&page=1&when=past'"
      ]
     },
     "metadata": {},
     "output_type": "display_data"
    },
    {
     "data": {
      "text/plain": [
       "'https://www.ted.com/tedx/events?autocomplete_filter=Angola&year=2012&page=1&when=past'"
      ]
     },
     "metadata": {},
     "output_type": "display_data"
    },
    {
     "data": {
      "text/plain": [
       "'https://www.ted.com/tedx/events?autocomplete_filter=Antigua+And+Barbuda&year=2014&page=1&when=past'"
      ]
     },
     "metadata": {},
     "output_type": "display_data"
    },
    {
     "data": {
      "text/plain": [
       "'https://www.ted.com/tedx/events?autocomplete_filter=Andorra&year=2010&page=2&when=past'"
      ]
     },
     "metadata": {},
     "output_type": "display_data"
    },
    {
     "data": {
      "text/plain": [
       "'https://www.ted.com/tedx/events?autocomplete_filter=Angola&year=2015&page=1&when=past'"
      ]
     },
     "metadata": {},
     "output_type": "display_data"
    },
    {
     "data": {
      "text/plain": [
       "'https://www.ted.com/tedx/events?autocomplete_filter=Angola&year=2019&page=1&when=past'"
      ]
     },
     "metadata": {},
     "output_type": "display_data"
    },
    {
     "data": {
      "text/plain": [
       "'https://www.ted.com/tedx/events?autocomplete_filter=Antarctica&year=2009&page=1&when=past'"
      ]
     },
     "metadata": {},
     "output_type": "display_data"
    },
    {
     "data": {
      "text/plain": [
       "'https://www.ted.com/tedx/events?autocomplete_filter=Antigua+And+Barbuda&year=2011&page=1&when=past'"
      ]
     },
     "metadata": {},
     "output_type": "display_data"
    },
    {
     "data": {
      "text/plain": [
       "'https://www.ted.com/tedx/events?autocomplete_filter=Antigua+And+Barbuda&year=2017&page=1&when=past'"
      ]
     },
     "metadata": {},
     "output_type": "display_data"
    },
    {
     "data": {
      "text/plain": [
       "'https://www.ted.com/tedx/events?autocomplete_filter=Antigua+And+Barbuda&year=2018&page=1&when=past'"
      ]
     },
     "metadata": {},
     "output_type": "display_data"
    },
    {
     "data": {
      "text/plain": [
       "'https://www.ted.com/tedx/events?autocomplete_filter=Angola&year=2014&page=1&when=past'"
      ]
     },
     "metadata": {},
     "output_type": "display_data"
    },
    {
     "data": {
      "text/plain": [
       "'https://www.ted.com/tedx/events?autocomplete_filter=Argentina&year=2019&page=1&when=past'"
      ]
     },
     "metadata": {},
     "output_type": "display_data"
    },
    {
     "data": {
      "text/plain": [
       "'https://www.ted.com/tedx/events?autocomplete_filter=Antigua+And+Barbuda&year=2015&page=2&when=past'"
      ]
     },
     "metadata": {},
     "output_type": "display_data"
    },
    {
     "data": {
      "text/plain": [
       "'https://www.ted.com/tedx/events?autocomplete_filter=Antarctica&year=2017&page=2&when=past'"
      ]
     },
     "metadata": {},
     "output_type": "display_data"
    },
    {
     "data": {
      "text/plain": [
       "'https://www.ted.com/tedx/events?autocomplete_filter=Angola&year=2016&page=2&when=past'"
      ]
     },
     "metadata": {},
     "output_type": "display_data"
    },
    {
     "data": {
      "text/plain": [
       "'https://www.ted.com/tedx/events?autocomplete_filter=Antarctica&year=2016&page=1&when=past'"
      ]
     },
     "metadata": {},
     "output_type": "display_data"
    },
    {
     "data": {
      "text/plain": [
       "'https://www.ted.com/tedx/events?autocomplete_filter=Angola&year=2012&page=2&when=past'"
      ]
     },
     "metadata": {},
     "output_type": "display_data"
    },
    {
     "data": {
      "text/plain": [
       "'https://www.ted.com/tedx/events?autocomplete_filter=Argentina&year=2017&page=1&when=past'"
      ]
     },
     "metadata": {},
     "output_type": "display_data"
    },
    {
     "data": {
      "text/plain": [
       "'https://www.ted.com/tedx/events?autocomplete_filter=Anguilla&year=2018&page=1&when=past'"
      ]
     },
     "metadata": {},
     "output_type": "display_data"
    },
    {
     "data": {
      "text/plain": [
       "'https://www.ted.com/tedx/events?autocomplete_filter=Angola&year=2013&page=1&when=past'"
      ]
     },
     "metadata": {},
     "output_type": "display_data"
    },
    {
     "data": {
      "text/plain": [
       "'https://www.ted.com/tedx/events?autocomplete_filter=Antigua+And+Barbuda&year=2012&page=1&when=past'"
      ]
     },
     "metadata": {},
     "output_type": "display_data"
    },
    {
     "data": {
      "text/plain": [
       "'https://www.ted.com/tedx/events?autocomplete_filter=Argentina&year=2014&page=1&when=past'"
      ]
     },
     "metadata": {},
     "output_type": "display_data"
    },
    {
     "data": {
      "text/plain": [
       "'https://www.ted.com/tedx/events?autocomplete_filter=Argentina&year=2020&page=1&when=past'"
      ]
     },
     "metadata": {},
     "output_type": "display_data"
    },
    {
     "data": {
      "text/plain": [
       "'https://www.ted.com/tedx/events?autocomplete_filter=Armenia&year=2009&page=1&when=past'"
      ]
     },
     "metadata": {},
     "output_type": "display_data"
    },
    {
     "data": {
      "text/plain": [
       "'https://www.ted.com/tedx/events?autocomplete_filter=Argentina&year=2018&page=1&when=past'"
      ]
     },
     "metadata": {},
     "output_type": "display_data"
    },
    {
     "data": {
      "text/plain": [
       "'https://www.ted.com/tedx/events?autocomplete_filter=Angola&year=2019&page=2&when=past'"
      ]
     },
     "metadata": {},
     "output_type": "display_data"
    },
    {
     "data": {
      "text/plain": [
       "'https://www.ted.com/tedx/events?autocomplete_filter=Angola&year=2014&page=2&when=past'"
      ]
     },
     "metadata": {},
     "output_type": "display_data"
    },
    {
     "data": {
      "text/plain": [
       "'https://www.ted.com/tedx/events?autocomplete_filter=Anguilla&year=2019&page=1&when=past'"
      ]
     },
     "metadata": {},
     "output_type": "display_data"
    },
    {
     "data": {
      "text/plain": [
       "'https://www.ted.com/tedx/events?autocomplete_filter=Anguilla&year=2015&page=1&when=past'"
      ]
     },
     "metadata": {},
     "output_type": "display_data"
    },
    {
     "data": {
      "text/plain": [
       "'https://www.ted.com/tedx/events?autocomplete_filter=Antigua+And+Barbuda&year=2020&page=1&when=past'"
      ]
     },
     "metadata": {},
     "output_type": "display_data"
    },
    {
     "data": {
      "text/plain": [
       "'https://www.ted.com/tedx/events?autocomplete_filter=Antigua+And+Barbuda&year=2019&page=1&when=past'"
      ]
     },
     "metadata": {},
     "output_type": "display_data"
    },
    {
     "data": {
      "text/plain": [
       "'https://www.ted.com/tedx/events?autocomplete_filter=Antigua+And+Barbuda&year=2009&page=1&when=past'"
      ]
     },
     "metadata": {},
     "output_type": "display_data"
    },
    {
     "data": {
      "text/plain": [
       "'https://www.ted.com/tedx/events?autocomplete_filter=Argentina&year=2015&page=1&when=past'"
      ]
     },
     "metadata": {},
     "output_type": "display_data"
    },
    {
     "data": {
      "text/plain": [
       "'https://www.ted.com/tedx/events?autocomplete_filter=Angola&year=2013&page=2&when=past'"
      ]
     },
     "metadata": {},
     "output_type": "display_data"
    },
    {
     "data": {
      "text/plain": [
       "'https://www.ted.com/tedx/events?autocomplete_filter=Aruba&year=2012&page=1&when=past'"
      ]
     },
     "metadata": {},
     "output_type": "display_data"
    },
    {
     "data": {
      "text/plain": [
       "'https://www.ted.com/tedx/events?autocomplete_filter=Antigua+And+Barbuda&year=2010&page=1&when=past'"
      ]
     },
     "metadata": {},
     "output_type": "display_data"
    },
    {
     "data": {
      "text/plain": [
       "'https://www.ted.com/tedx/events?autocomplete_filter=Antarctica&year=2010&page=1&when=past'"
      ]
     },
     "metadata": {},
     "output_type": "display_data"
    },
    {
     "data": {
      "text/plain": [
       "'https://www.ted.com/tedx/events?autocomplete_filter=Anguilla&year=2017&page=1&when=past'"
      ]
     },
     "metadata": {},
     "output_type": "display_data"
    },
    {
     "data": {
      "text/plain": [
       "'https://www.ted.com/tedx/events?autocomplete_filter=Armenia&year=2011&page=1&when=past'"
      ]
     },
     "metadata": {},
     "output_type": "display_data"
    },
    {
     "data": {
      "text/plain": [
       "'https://www.ted.com/tedx/events?autocomplete_filter=Armenia&year=2010&page=1&when=past'"
      ]
     },
     "metadata": {},
     "output_type": "display_data"
    },
    {
     "data": {
      "text/plain": [
       "'https://www.ted.com/tedx/events?autocomplete_filter=Argentina&year=2012&page=1&when=past'"
      ]
     },
     "metadata": {},
     "output_type": "display_data"
    },
    {
     "data": {
      "text/plain": [
       "'https://www.ted.com/tedx/events?autocomplete_filter=Antarctica&year=2018&page=1&when=past'"
      ]
     },
     "metadata": {},
     "output_type": "display_data"
    },
    {
     "data": {
      "text/plain": [
       "'https://www.ted.com/tedx/events?autocomplete_filter=Anguilla&year=2016&page=1&when=past'"
      ]
     },
     "metadata": {},
     "output_type": "display_data"
    },
    {
     "data": {
      "text/plain": [
       "'https://www.ted.com/tedx/events?autocomplete_filter=Argentina&year=2020&page=2&when=past'"
      ]
     },
     "metadata": {},
     "output_type": "display_data"
    },
    {
     "data": {
      "text/plain": [
       "'https://www.ted.com/tedx/events?autocomplete_filter=Australia&year=2015&page=1&when=past'"
      ]
     },
     "metadata": {},
     "output_type": "display_data"
    },
    {
     "data": {
      "text/plain": [
       "'https://www.ted.com/tedx/events?autocomplete_filter=Argentina&year=2014&page=2&when=past'"
      ]
     },
     "metadata": {},
     "output_type": "display_data"
    },
    {
     "data": {
      "text/plain": [
       "'https://www.ted.com/tedx/events?autocomplete_filter=Antigua+And+Barbuda&year=2013&page=1&when=past'"
      ]
     },
     "metadata": {},
     "output_type": "display_data"
    },
    {
     "data": {
      "text/plain": [
       "'https://www.ted.com/tedx/events?autocomplete_filter=Argentina&year=2013&page=1&when=past'"
      ]
     },
     "metadata": {},
     "output_type": "display_data"
    },
    {
     "data": {
      "text/plain": [
       "'https://www.ted.com/tedx/events?autocomplete_filter=Antarctica&year=2020&page=1&when=past'"
      ]
     },
     "metadata": {},
     "output_type": "display_data"
    },
    {
     "data": {
      "text/plain": [
       "'https://www.ted.com/tedx/events?autocomplete_filter=Armenia&year=2010&page=2&when=past'"
      ]
     },
     "metadata": {},
     "output_type": "display_data"
    },
    {
     "data": {
      "text/plain": [
       "'https://www.ted.com/tedx/events?autocomplete_filter=Argentina&year=2009&page=1&when=past'"
      ]
     },
     "metadata": {},
     "output_type": "display_data"
    },
    {
     "data": {
      "text/plain": [
       "'https://www.ted.com/tedx/events?autocomplete_filter=Antarctica&year=2019&page=1&when=past'"
      ]
     },
     "metadata": {},
     "output_type": "display_data"
    },
    {
     "data": {
      "text/plain": [
       "'https://www.ted.com/tedx/events?autocomplete_filter=Armenia&year=2011&page=2&when=past'"
      ]
     },
     "metadata": {},
     "output_type": "display_data"
    },
    {
     "data": {
      "text/plain": [
       "'https://www.ted.com/tedx/events?autocomplete_filter=Aruba&year=2011&page=1&when=past'"
      ]
     },
     "metadata": {},
     "output_type": "display_data"
    },
    {
     "data": {
      "text/plain": [
       "'https://www.ted.com/tedx/events?autocomplete_filter=Argentina&year=2018&page=2&when=past'"
      ]
     },
     "metadata": {},
     "output_type": "display_data"
    },
    {
     "data": {
      "text/plain": [
       "'https://www.ted.com/tedx/events?autocomplete_filter=Argentina&year=2017&page=2&when=past'"
      ]
     },
     "metadata": {},
     "output_type": "display_data"
    },
    {
     "data": {
      "text/plain": [
       "'https://www.ted.com/tedx/events?autocomplete_filter=Argentina&year=2019&page=2&when=past'"
      ]
     },
     "metadata": {},
     "output_type": "display_data"
    },
    {
     "data": {
      "text/plain": [
       "'https://www.ted.com/tedx/events?autocomplete_filter=Argentina&year=2015&page=2&when=past'"
      ]
     },
     "metadata": {},
     "output_type": "display_data"
    },
    {
     "data": {
      "text/plain": [
       "'https://www.ted.com/tedx/events?autocomplete_filter=Armenia&year=2017&page=1&when=past'"
      ]
     },
     "metadata": {},
     "output_type": "display_data"
    },
    {
     "data": {
      "text/plain": [
       "'https://www.ted.com/tedx/events?autocomplete_filter=Argentina&year=2012&page=2&when=past'"
      ]
     },
     "metadata": {},
     "output_type": "display_data"
    },
    {
     "data": {
      "text/plain": [
       "'https://www.ted.com/tedx/events?autocomplete_filter=Argentina&year=2016&page=1&when=past'"
      ]
     },
     "metadata": {},
     "output_type": "display_data"
    },
    {
     "data": {
      "text/plain": [
       "'https://www.ted.com/tedx/events?autocomplete_filter=Argentina&year=2011&page=1&when=past'"
      ]
     },
     "metadata": {},
     "output_type": "display_data"
    },
    {
     "data": {
      "text/plain": [
       "'https://www.ted.com/tedx/events?autocomplete_filter=Aruba&year=2013&page=1&when=past'"
      ]
     },
     "metadata": {},
     "output_type": "display_data"
    },
    {
     "data": {
      "text/plain": [
       "'https://www.ted.com/tedx/events?autocomplete_filter=Argentina&year=2010&page=1&when=past'"
      ]
     },
     "metadata": {},
     "output_type": "display_data"
    },
    {
     "data": {
      "text/plain": [
       "'https://www.ted.com/tedx/events?autocomplete_filter=Argentina&year=2009&page=2&when=past'"
      ]
     },
     "metadata": {},
     "output_type": "display_data"
    },
    {
     "data": {
      "text/plain": [
       "'https://www.ted.com/tedx/events?autocomplete_filter=Aruba&year=2014&page=1&when=past'"
      ]
     },
     "metadata": {},
     "output_type": "display_data"
    },
    {
     "data": {
      "text/plain": [
       "'https://www.ted.com/tedx/events?autocomplete_filter=Aruba&year=2011&page=2&when=past'"
      ]
     },
     "metadata": {},
     "output_type": "display_data"
    },
    {
     "data": {
      "text/plain": [
       "'https://www.ted.com/tedx/events?autocomplete_filter=Argentina&year=2019&page=3&when=past'"
      ]
     },
     "metadata": {},
     "output_type": "display_data"
    },
    {
     "data": {
      "text/plain": [
       "'https://www.ted.com/tedx/events?autocomplete_filter=Armenia&year=2020&page=1&when=past'"
      ]
     },
     "metadata": {},
     "output_type": "display_data"
    },
    {
     "data": {
      "text/plain": [
       "'https://www.ted.com/tedx/events?autocomplete_filter=Armenia&year=2015&page=1&when=past'"
      ]
     },
     "metadata": {},
     "output_type": "display_data"
    },
    {
     "data": {
      "text/plain": [
       "'https://www.ted.com/tedx/events?autocomplete_filter=Armenia&year=2018&page=1&when=past'"
      ]
     },
     "metadata": {},
     "output_type": "display_data"
    },
    {
     "data": {
      "text/plain": [
       "'https://www.ted.com/tedx/events?autocomplete_filter=Aruba&year=2009&page=1&when=past'"
      ]
     },
     "metadata": {},
     "output_type": "display_data"
    },
    {
     "data": {
      "text/plain": [
       "'https://www.ted.com/tedx/events?autocomplete_filter=Australia&year=2016&page=1&when=past'"
      ]
     },
     "metadata": {},
     "output_type": "display_data"
    },
    {
     "data": {
      "text/plain": [
       "'https://www.ted.com/tedx/events?autocomplete_filter=Armenia&year=2017&page=2&when=past'"
      ]
     },
     "metadata": {},
     "output_type": "display_data"
    },
    {
     "data": {
      "text/plain": [
       "'https://www.ted.com/tedx/events?autocomplete_filter=Australia&year=2017&page=1&when=past'"
      ]
     },
     "metadata": {},
     "output_type": "display_data"
    },
    {
     "data": {
      "text/plain": [
       "'https://www.ted.com/tedx/events?autocomplete_filter=Armenia&year=2012&page=1&when=past'"
      ]
     },
     "metadata": {},
     "output_type": "display_data"
    },
    {
     "data": {
      "text/plain": [
       "'https://www.ted.com/tedx/events?autocomplete_filter=Argentina&year=2013&page=2&when=past'"
      ]
     },
     "metadata": {},
     "output_type": "display_data"
    },
    {
     "data": {
      "text/plain": [
       "'https://www.ted.com/tedx/events?autocomplete_filter=Aruba&year=2010&page=1&when=past'"
      ]
     },
     "metadata": {},
     "output_type": "display_data"
    },
    {
     "data": {
      "text/plain": [
       "'https://www.ted.com/tedx/events?autocomplete_filter=Australia&year=2014&page=1&when=past'"
      ]
     },
     "metadata": {},
     "output_type": "display_data"
    },
    {
     "data": {
      "text/plain": [
       "'https://www.ted.com/tedx/events?autocomplete_filter=Australia&year=2012&page=1&when=past'"
      ]
     },
     "metadata": {},
     "output_type": "display_data"
    },
    {
     "data": {
      "text/plain": [
       "'https://www.ted.com/tedx/events?autocomplete_filter=Armenia&year=2020&page=2&when=past'"
      ]
     },
     "metadata": {},
     "output_type": "display_data"
    },
    {
     "data": {
      "text/plain": [
       "'https://www.ted.com/tedx/events?autocomplete_filter=Armenia&year=2015&page=2&when=past'"
      ]
     },
     "metadata": {},
     "output_type": "display_data"
    },
    {
     "data": {
      "text/plain": [
       "'https://www.ted.com/tedx/events?autocomplete_filter=Argentina&year=2010&page=2&when=past'"
      ]
     },
     "metadata": {},
     "output_type": "display_data"
    },
    {
     "data": {
      "text/plain": [
       "'https://www.ted.com/tedx/events?autocomplete_filter=Argentina&year=2011&page=2&when=past'"
      ]
     },
     "metadata": {},
     "output_type": "display_data"
    },
    {
     "data": {
      "text/plain": [
       "'https://www.ted.com/tedx/events?autocomplete_filter=Australia&year=2015&page=2&when=past'"
      ]
     },
     "metadata": {},
     "output_type": "display_data"
    },
    {
     "data": {
      "text/plain": [
       "'https://www.ted.com/tedx/events?autocomplete_filter=Armenia&year=2018&page=2&when=past'"
      ]
     },
     "metadata": {},
     "output_type": "display_data"
    },
    {
     "data": {
      "text/plain": [
       "'https://www.ted.com/tedx/events?autocomplete_filter=Argentina&year=2016&page=2&when=past'"
      ]
     },
     "metadata": {},
     "output_type": "display_data"
    },
    {
     "data": {
      "text/plain": [
       "'https://www.ted.com/tedx/events?autocomplete_filter=Armenia&year=2016&page=1&when=past'"
      ]
     },
     "metadata": {},
     "output_type": "display_data"
    },
    {
     "data": {
      "text/plain": [
       "'https://www.ted.com/tedx/events?autocomplete_filter=Australia&year=2013&page=1&when=past'"
      ]
     },
     "metadata": {},
     "output_type": "display_data"
    },
    {
     "data": {
      "text/plain": [
       "'https://www.ted.com/tedx/events?autocomplete_filter=Armenia&year=2012&page=2&when=past'"
      ]
     },
     "metadata": {},
     "output_type": "display_data"
    },
    {
     "data": {
      "text/plain": [
       "'https://www.ted.com/tedx/events?autocomplete_filter=Australia&year=2011&page=1&when=past'"
      ]
     },
     "metadata": {},
     "output_type": "display_data"
    },
    {
     "data": {
      "text/plain": [
       "'https://www.ted.com/tedx/events?autocomplete_filter=Aruba&year=2020&page=1&when=past'"
      ]
     },
     "metadata": {},
     "output_type": "display_data"
    },
    {
     "data": {
      "text/plain": [
       "'https://www.ted.com/tedx/events?autocomplete_filter=Armenia&year=2013&page=1&when=past'"
      ]
     },
     "metadata": {},
     "output_type": "display_data"
    },
    {
     "data": {
      "text/plain": [
       "'https://www.ted.com/tedx/events?autocomplete_filter=Aruba&year=2018&page=1&when=past'"
      ]
     },
     "metadata": {},
     "output_type": "display_data"
    },
    {
     "data": {
      "text/plain": [
       "'https://www.ted.com/tedx/events?autocomplete_filter=Armenia&year=2014&page=1&when=past'"
      ]
     },
     "metadata": {},
     "output_type": "display_data"
    },
    {
     "data": {
      "text/plain": [
       "'https://www.ted.com/tedx/events?autocomplete_filter=Armenia&year=2019&page=1&when=past'"
      ]
     },
     "metadata": {},
     "output_type": "display_data"
    },
    {
     "data": {
      "text/plain": [
       "'https://www.ted.com/tedx/events?autocomplete_filter=Australia&year=2009&page=1&when=past'"
      ]
     },
     "metadata": {},
     "output_type": "display_data"
    },
    {
     "data": {
      "text/plain": [
       "'https://www.ted.com/tedx/events?autocomplete_filter=Australia&year=2015&page=3&when=past'"
      ]
     },
     "metadata": {},
     "output_type": "display_data"
    },
    {
     "data": {
      "text/plain": [
       "'https://www.ted.com/tedx/events?autocomplete_filter=Aruba&year=2015&page=1&when=past'"
      ]
     },
     "metadata": {},
     "output_type": "display_data"
    },
    {
     "data": {
      "text/plain": [
       "'https://www.ted.com/tedx/events?autocomplete_filter=Austria&year=2011&page=1&when=past'"
      ]
     },
     "metadata": {},
     "output_type": "display_data"
    },
    {
     "data": {
      "text/plain": [
       "'https://www.ted.com/tedx/events?autocomplete_filter=Austria&year=2012&page=1&when=past'"
      ]
     },
     "metadata": {},
     "output_type": "display_data"
    },
    {
     "data": {
      "text/plain": [
       "'https://www.ted.com/tedx/events?autocomplete_filter=Australia&year=2018&page=1&when=past'"
      ]
     },
     "metadata": {},
     "output_type": "display_data"
    },
    {
     "data": {
      "text/plain": [
       "'https://www.ted.com/tedx/events?autocomplete_filter=Armenia&year=2013&page=2&when=past'"
      ]
     },
     "metadata": {},
     "output_type": "display_data"
    },
    {
     "data": {
      "text/plain": [
       "'https://www.ted.com/tedx/events?autocomplete_filter=Austria&year=2018&page=1&when=past'"
      ]
     },
     "metadata": {},
     "output_type": "display_data"
    },
    {
     "data": {
      "text/plain": [
       "'https://www.ted.com/tedx/events?autocomplete_filter=Aruba&year=2018&page=2&when=past'"
      ]
     },
     "metadata": {},
     "output_type": "display_data"
    },
    {
     "data": {
      "text/plain": [
       "'https://www.ted.com/tedx/events?autocomplete_filter=Armenia&year=2014&page=2&when=past'"
      ]
     },
     "metadata": {},
     "output_type": "display_data"
    },
    {
     "data": {
      "text/plain": [
       "'https://www.ted.com/tedx/events?autocomplete_filter=Armenia&year=2016&page=2&when=past'"
      ]
     },
     "metadata": {},
     "output_type": "display_data"
    },
    {
     "data": {
      "text/plain": [
       "'https://www.ted.com/tedx/events?autocomplete_filter=Aruba&year=2016&page=1&when=past'"
      ]
     },
     "metadata": {},
     "output_type": "display_data"
    },
    {
     "data": {
      "text/plain": [
       "'https://www.ted.com/tedx/events?autocomplete_filter=Armenia&year=2019&page=2&when=past'"
      ]
     },
     "metadata": {},
     "output_type": "display_data"
    },
    {
     "data": {
      "text/plain": [
       "'https://www.ted.com/tedx/events?autocomplete_filter=Austria&year=2011&page=2&when=past'"
      ]
     },
     "metadata": {},
     "output_type": "display_data"
    },
    {
     "data": {
      "text/plain": [
       "'https://www.ted.com/tedx/events?autocomplete_filter=Austria&year=2009&page=1&when=past'"
      ]
     },
     "metadata": {},
     "output_type": "display_data"
    },
    {
     "data": {
      "text/plain": [
       "'https://www.ted.com/tedx/events?autocomplete_filter=Aruba&year=2017&page=1&when=past'"
      ]
     },
     "metadata": {},
     "output_type": "display_data"
    },
    {
     "data": {
      "text/plain": [
       "'https://www.ted.com/tedx/events?autocomplete_filter=Australia&year=2019&page=1&when=past'"
      ]
     },
     "metadata": {},
     "output_type": "display_data"
    },
    {
     "data": {
      "text/plain": [
       "'https://www.ted.com/tedx/events?autocomplete_filter=Aruba&year=2019&page=1&when=past'"
      ]
     },
     "metadata": {},
     "output_type": "display_data"
    },
    {
     "data": {
      "text/plain": [
       "'https://www.ted.com/tedx/events?autocomplete_filter=Australia&year=2010&page=1&when=past'"
      ]
     },
     "metadata": {},
     "output_type": "display_data"
    },
    {
     "data": {
      "text/plain": [
       "'https://www.ted.com/tedx/events?autocomplete_filter=Austria&year=2012&page=2&when=past'"
      ]
     },
     "metadata": {},
     "output_type": "display_data"
    },
    {
     "data": {
      "text/plain": [
       "'https://www.ted.com/tedx/events?autocomplete_filter=Azerbaijan&year=2014&page=1&when=past'"
      ]
     },
     "metadata": {},
     "output_type": "display_data"
    },
    {
     "data": {
      "text/plain": [
       "'https://www.ted.com/tedx/events?autocomplete_filter=Azerbaijan&year=2010&page=1&when=past'"
      ]
     },
     "metadata": {},
     "output_type": "display_data"
    },
    {
     "data": {
      "text/plain": [
       "'https://www.ted.com/tedx/events?autocomplete_filter=Austria&year=2010&page=1&when=past'"
      ]
     },
     "metadata": {},
     "output_type": "display_data"
    },
    {
     "data": {
      "text/plain": [
       "'https://www.ted.com/tedx/events?autocomplete_filter=Azerbaijan&year=2012&page=1&when=past'"
      ]
     },
     "metadata": {},
     "output_type": "display_data"
    },
    {
     "data": {
      "text/plain": [
       "'https://www.ted.com/tedx/events?autocomplete_filter=Aruba&year=2017&page=2&when=past'"
      ]
     },
     "metadata": {},
     "output_type": "display_data"
    },
    {
     "data": {
      "text/plain": [
       "'https://www.ted.com/tedx/events?autocomplete_filter=Bahamas&year=2013&page=1&when=past'"
      ]
     },
     "metadata": {},
     "output_type": "display_data"
    },
    {
     "data": {
      "text/plain": [
       "'https://www.ted.com/tedx/events?autocomplete_filter=Azerbaijan&year=2015&page=1&when=past'"
      ]
     },
     "metadata": {},
     "output_type": "display_data"
    },
    {
     "data": {
      "text/plain": [
       "'https://www.ted.com/tedx/events?autocomplete_filter=Austria&year=2018&page=2&when=past'"
      ]
     },
     "metadata": {},
     "output_type": "display_data"
    },
    {
     "data": {
      "text/plain": [
       "'https://www.ted.com/tedx/events?autocomplete_filter=Azerbaijan&year=2014&page=2&when=past'"
      ]
     },
     "metadata": {},
     "output_type": "display_data"
    },
    {
     "data": {
      "text/plain": [
       "'https://www.ted.com/tedx/events?autocomplete_filter=Bahrain&year=2016&page=1&when=past'"
      ]
     },
     "metadata": {},
     "output_type": "display_data"
    },
    {
     "data": {
      "text/plain": [
       "'https://www.ted.com/tedx/events?autocomplete_filter=Australia&year=2012&page=2&when=past'"
      ]
     },
     "metadata": {},
     "output_type": "display_data"
    },
    {
     "data": {
      "text/plain": [
       "'https://www.ted.com/tedx/events?autocomplete_filter=Bahamas&year=2018&page=1&when=past'"
      ]
     },
     "metadata": {},
     "output_type": "display_data"
    },
    {
     "data": {
      "text/plain": [
       "'https://www.ted.com/tedx/events?autocomplete_filter=Bahamas&year=2009&page=1&when=past'"
      ]
     },
     "metadata": {},
     "output_type": "display_data"
    },
    {
     "data": {
      "text/plain": [
       "'https://www.ted.com/tedx/events?autocomplete_filter=Austria&year=2010&page=2&when=past'"
      ]
     },
     "metadata": {},
     "output_type": "display_data"
    },
    {
     "data": {
      "text/plain": [
       "'https://www.ted.com/tedx/events?autocomplete_filter=Australia&year=2020&page=1&when=past'"
      ]
     },
     "metadata": {},
     "output_type": "display_data"
    },
    {
     "data": {
      "text/plain": [
       "'https://www.ted.com/tedx/events?autocomplete_filter=Bangladesh&year=2019&page=1&when=past'"
      ]
     },
     "metadata": {},
     "output_type": "display_data"
    },
    {
     "data": {
      "text/plain": [
       "'https://www.ted.com/tedx/events?autocomplete_filter=Austria&year=2015&page=1&when=past'"
      ]
     },
     "metadata": {},
     "output_type": "display_data"
    },
    {
     "data": {
      "text/plain": [
       "'https://www.ted.com/tedx/events?autocomplete_filter=Azerbaijan&year=2012&page=2&when=past'"
      ]
     },
     "metadata": {},
     "output_type": "display_data"
    },
    {
     "data": {
      "text/plain": [
       "'https://www.ted.com/tedx/events?autocomplete_filter=Bahamas&year=2017&page=1&when=past'"
      ]
     },
     "metadata": {},
     "output_type": "display_data"
    },
    {
     "data": {
      "text/plain": [
       "'https://www.ted.com/tedx/events?autocomplete_filter=Bangladesh&year=2009&page=1&when=past'"
      ]
     },
     "metadata": {},
     "output_type": "display_data"
    },
    {
     "data": {
      "text/plain": [
       "'https://www.ted.com/tedx/events?autocomplete_filter=Azerbaijan&year=2013&page=1&when=past'"
      ]
     },
     "metadata": {},
     "output_type": "display_data"
    },
    {
     "data": {
      "text/plain": [
       "'https://www.ted.com/tedx/events?autocomplete_filter=Azerbaijan&year=2011&page=1&when=past'"
      ]
     },
     "metadata": {},
     "output_type": "display_data"
    },
    {
     "data": {
      "text/plain": [
       "'https://www.ted.com/tedx/events?autocomplete_filter=Bahrain&year=2012&page=1&when=past'"
      ]
     },
     "metadata": {},
     "output_type": "display_data"
    },
    {
     "data": {
      "text/plain": [
       "'https://www.ted.com/tedx/events?autocomplete_filter=Belarus&year=2010&page=1&when=past'"
      ]
     },
     "metadata": {},
     "output_type": "display_data"
    },
    {
     "data": {
      "text/plain": [
       "'https://www.ted.com/tedx/events?autocomplete_filter=Azerbaijan&year=2018&page=1&when=past'"
      ]
     },
     "metadata": {},
     "output_type": "display_data"
    },
    {
     "data": {
      "text/plain": [
       "'https://www.ted.com/tedx/events?autocomplete_filter=Australia&year=2011&page=2&when=past'"
      ]
     },
     "metadata": {},
     "output_type": "display_data"
    },
    {
     "data": {
      "text/plain": [
       "'https://www.ted.com/tedx/events?autocomplete_filter=Barbados&year=2012&page=1&when=past'"
      ]
     },
     "metadata": {},
     "output_type": "display_data"
    },
    {
     "data": {
      "text/plain": [
       "'https://www.ted.com/tedx/events?autocomplete_filter=Australia&year=2014&page=2&when=past'"
      ]
     },
     "metadata": {},
     "output_type": "display_data"
    },
    {
     "data": {
      "text/plain": [
       "'https://www.ted.com/tedx/events?autocomplete_filter=Bahamas&year=2016&page=1&when=past'"
      ]
     },
     "metadata": {},
     "output_type": "display_data"
    },
    {
     "data": {
      "text/plain": [
       "'https://www.ted.com/tedx/events?autocomplete_filter=Bahamas&year=2015&page=1&when=past'"
      ]
     },
     "metadata": {},
     "output_type": "display_data"
    },
    {
     "data": {
      "text/plain": [
       "'https://www.ted.com/tedx/events?autocomplete_filter=Bangladesh&year=2015&page=1&when=past'"
      ]
     },
     "metadata": {},
     "output_type": "display_data"
    },
    {
     "data": {
      "text/plain": [
       "'https://www.ted.com/tedx/events?autocomplete_filter=Bahamas&year=2014&page=1&when=past'"
      ]
     },
     "metadata": {},
     "output_type": "display_data"
    },
    {
     "data": {
      "text/plain": [
       "'https://www.ted.com/tedx/events?autocomplete_filter=Austria&year=2014&page=1&when=past'"
      ]
     },
     "metadata": {},
     "output_type": "display_data"
    },
    {
     "data": {
      "text/plain": [
       "'https://www.ted.com/tedx/events?autocomplete_filter=Bahrain&year=2009&page=1&when=past'"
      ]
     },
     "metadata": {},
     "output_type": "display_data"
    },
    {
     "data": {
      "text/plain": [
       "'https://www.ted.com/tedx/events?autocomplete_filter=Belgium&year=2013&page=1&when=past'"
      ]
     },
     "metadata": {},
     "output_type": "display_data"
    },
    {
     "data": {
      "text/plain": [
       "'https://www.ted.com/tedx/events?autocomplete_filter=Belarus&year=2015&page=1&when=past'"
      ]
     },
     "metadata": {},
     "output_type": "display_data"
    },
    {
     "data": {
      "text/plain": [
       "'https://www.ted.com/tedx/events?autocomplete_filter=Austria&year=2017&page=1&when=past'"
      ]
     },
     "metadata": {},
     "output_type": "display_data"
    },
    {
     "data": {
      "text/plain": [
       "'https://www.ted.com/tedx/events?autocomplete_filter=Australia&year=2016&page=2&when=past'"
      ]
     },
     "metadata": {},
     "output_type": "display_data"
    },
    {
     "data": {
      "text/plain": [
       "'https://www.ted.com/tedx/events?autocomplete_filter=Bahamas&year=2017&page=2&when=past'"
      ]
     },
     "metadata": {},
     "output_type": "display_data"
    },
    {
     "data": {
      "text/plain": [
       "'https://www.ted.com/tedx/events?autocomplete_filter=Bahrain&year=2019&page=1&when=past'"
      ]
     },
     "metadata": {},
     "output_type": "display_data"
    },
    {
     "data": {
      "text/plain": [
       "'https://www.ted.com/tedx/events?autocomplete_filter=Bahrain&year=2018&page=1&when=past'"
      ]
     },
     "metadata": {},
     "output_type": "display_data"
    },
    {
     "data": {
      "text/plain": [
       "'https://www.ted.com/tedx/events?autocomplete_filter=Australia&year=2017&page=2&when=past'"
      ]
     },
     "metadata": {},
     "output_type": "display_data"
    },
    {
     "data": {
      "text/plain": [
       "'https://www.ted.com/tedx/events?autocomplete_filter=Bahrain&year=2017&page=1&when=past'"
      ]
     },
     "metadata": {},
     "output_type": "display_data"
    },
    {
     "data": {
      "text/plain": [
       "'https://www.ted.com/tedx/events?autocomplete_filter=Barbados&year=2018&page=1&when=past'"
      ]
     },
     "metadata": {},
     "output_type": "display_data"
    },
    {
     "data": {
      "text/plain": [
       "'https://www.ted.com/tedx/events?autocomplete_filter=Azerbaijan&year=2017&page=1&when=past'"
      ]
     },
     "metadata": {},
     "output_type": "display_data"
    },
    {
     "data": {
      "text/plain": [
       "'https://www.ted.com/tedx/events?autocomplete_filter=Bangladesh&year=2012&page=1&when=past'"
      ]
     },
     "metadata": {},
     "output_type": "display_data"
    },
    {
     "data": {
      "text/plain": [
       "'https://www.ted.com/tedx/events?autocomplete_filter=Belize&year=2016&page=1&when=past'"
      ]
     },
     "metadata": {},
     "output_type": "display_data"
    },
    {
     "data": {
      "text/plain": [
       "'https://www.ted.com/tedx/events?autocomplete_filter=Belgium&year=2018&page=1&when=past'"
      ]
     },
     "metadata": {},
     "output_type": "display_data"
    },
    {
     "data": {
      "text/plain": [
       "'https://www.ted.com/tedx/events?autocomplete_filter=Australia&year=2013&page=2&when=past'"
      ]
     },
     "metadata": {},
     "output_type": "display_data"
    },
    {
     "data": {
      "text/plain": [
       "'https://www.ted.com/tedx/events?autocomplete_filter=Azerbaijan&year=2020&page=1&when=past'"
      ]
     },
     "metadata": {},
     "output_type": "display_data"
    },
    {
     "data": {
      "text/plain": [
       "'https://www.ted.com/tedx/events?autocomplete_filter=Austria&year=2019&page=1&when=past'"
      ]
     },
     "metadata": {},
     "output_type": "display_data"
    },
    {
     "data": {
      "text/plain": [
       "'https://www.ted.com/tedx/events?autocomplete_filter=Australia&year=2010&page=2&when=past'"
      ]
     },
     "metadata": {},
     "output_type": "display_data"
    },
    {
     "data": {
      "text/plain": [
       "'https://www.ted.com/tedx/events?autocomplete_filter=Bahrain&year=2020&page=1&when=past'"
      ]
     },
     "metadata": {},
     "output_type": "display_data"
    },
    {
     "data": {
      "text/plain": [
       "'https://www.ted.com/tedx/events?autocomplete_filter=Australia&year=2018&page=2&when=past'"
      ]
     },
     "metadata": {},
     "output_type": "display_data"
    },
    {
     "data": {
      "text/plain": [
       "'https://www.ted.com/tedx/events?autocomplete_filter=Barbados&year=2010&page=1&when=past'"
      ]
     },
     "metadata": {},
     "output_type": "display_data"
    },
    {
     "data": {
      "text/plain": [
       "'https://www.ted.com/tedx/events?autocomplete_filter=Barbados&year=2009&page=1&when=past'"
      ]
     },
     "metadata": {},
     "output_type": "display_data"
    },
    {
     "data": {
      "text/plain": [
       "'https://www.ted.com/tedx/events?autocomplete_filter=Austria&year=2020&page=1&when=past'"
      ]
     },
     "metadata": {},
     "output_type": "display_data"
    },
    {
     "data": {
      "text/plain": [
       "'https://www.ted.com/tedx/events?autocomplete_filter=Bangladesh&year=2020&page=1&when=past'"
      ]
     },
     "metadata": {},
     "output_type": "display_data"
    },
    {
     "data": {
      "text/plain": [
       "'https://www.ted.com/tedx/events?autocomplete_filter=Belgium&year=2009&page=1&when=past'"
      ]
     },
     "metadata": {},
     "output_type": "display_data"
    },
    {
     "data": {
      "text/plain": [
       "'https://www.ted.com/tedx/events?autocomplete_filter=Bahamas&year=2020&page=1&when=past'"
      ]
     },
     "metadata": {},
     "output_type": "display_data"
    },
    {
     "data": {
      "text/plain": [
       "'https://www.ted.com/tedx/events?autocomplete_filter=Barbados&year=2015&page=1&when=past'"
      ]
     },
     "metadata": {},
     "output_type": "display_data"
    },
    {
     "data": {
      "text/plain": [
       "'https://www.ted.com/tedx/events?autocomplete_filter=Benin&year=2019&page=1&when=past'"
      ]
     },
     "metadata": {},
     "output_type": "display_data"
    },
    {
     "data": {
      "text/plain": [
       "'https://www.ted.com/tedx/events?autocomplete_filter=Benin&year=2009&page=1&when=past'"
      ]
     },
     "metadata": {},
     "output_type": "display_data"
    },
    {
     "data": {
      "text/plain": [
       "'https://www.ted.com/tedx/events?autocomplete_filter=Austria&year=2016&page=1&when=past'"
      ]
     },
     "metadata": {},
     "output_type": "display_data"
    },
    {
     "data": {
      "text/plain": [
       "'https://www.ted.com/tedx/events?autocomplete_filter=Bahamas&year=2010&page=1&when=past'"
      ]
     },
     "metadata": {},
     "output_type": "display_data"
    },
    {
     "data": {
      "text/plain": [
       "'https://www.ted.com/tedx/events?autocomplete_filter=Bahrain&year=2011&page=1&when=past'"
      ]
     },
     "metadata": {},
     "output_type": "display_data"
    },
    {
     "data": {
      "text/plain": [
       "'https://www.ted.com/tedx/events?autocomplete_filter=Austria&year=2013&page=1&when=past'"
      ]
     },
     "metadata": {},
     "output_type": "display_data"
    },
    {
     "data": {
      "text/plain": [
       "'https://www.ted.com/tedx/events?autocomplete_filter=Azerbaijan&year=2009&page=1&when=past'"
      ]
     },
     "metadata": {},
     "output_type": "display_data"
    },
    {
     "data": {
      "text/plain": [
       "'https://www.ted.com/tedx/events?autocomplete_filter=Barbados&year=2011&page=1&when=past'"
      ]
     },
     "metadata": {},
     "output_type": "display_data"
    },
    {
     "data": {
      "text/plain": [
       "'https://www.ted.com/tedx/events?autocomplete_filter=Belarus&year=2013&page=1&when=past'"
      ]
     },
     "metadata": {},
     "output_type": "display_data"
    },
    {
     "data": {
      "text/plain": [
       "'https://www.ted.com/tedx/events?autocomplete_filter=Belarus&year=2012&page=1&when=past'"
      ]
     },
     "metadata": {},
     "output_type": "display_data"
    },
    {
     "data": {
      "text/plain": [
       "'https://www.ted.com/tedx/events?autocomplete_filter=Bahamas&year=2011&page=1&when=past'"
      ]
     },
     "metadata": {},
     "output_type": "display_data"
    },
    {
     "data": {
      "text/plain": [
       "'https://www.ted.com/tedx/events?autocomplete_filter=Belize&year=2012&page=1&when=past'"
      ]
     },
     "metadata": {},
     "output_type": "display_data"
    },
    {
     "data": {
      "text/plain": [
       "'https://www.ted.com/tedx/events?autocomplete_filter=Belarus&year=2011&page=1&when=past'"
      ]
     },
     "metadata": {},
     "output_type": "display_data"
    },
    {
     "data": {
      "text/plain": [
       "'https://www.ted.com/tedx/events?autocomplete_filter=Belarus&year=2018&page=1&when=past'"
      ]
     },
     "metadata": {},
     "output_type": "display_data"
    },
    {
     "data": {
      "text/plain": [
       "'https://www.ted.com/tedx/events?autocomplete_filter=Bermuda&year=2012&page=1&when=past'"
      ]
     },
     "metadata": {},
     "output_type": "display_data"
    },
    {
     "data": {
      "text/plain": [
       "'https://www.ted.com/tedx/events?autocomplete_filter=Bangladesh&year=2011&page=1&when=past'"
      ]
     },
     "metadata": {},
     "output_type": "display_data"
    },
    {
     "data": {
      "text/plain": [
       "'https://www.ted.com/tedx/events?autocomplete_filter=Bhutan&year=2010&page=1&when=past'"
      ]
     },
     "metadata": {},
     "output_type": "display_data"
    },
    {
     "data": {
      "text/plain": [
       "'https://www.ted.com/tedx/events?autocomplete_filter=Azerbaijan&year=2019&page=1&when=past'"
      ]
     },
     "metadata": {},
     "output_type": "display_data"
    },
    {
     "data": {
      "text/plain": [
       "'https://www.ted.com/tedx/events?autocomplete_filter=Bahrain&year=2013&page=1&when=past'"
      ]
     },
     "metadata": {},
     "output_type": "display_data"
    },
    {
     "data": {
      "text/plain": [
       "'https://www.ted.com/tedx/events?autocomplete_filter=Bangladesh&year=2014&page=1&when=past'"
      ]
     },
     "metadata": {},
     "output_type": "display_data"
    },
    {
     "data": {
      "text/plain": [
       "'https://www.ted.com/tedx/events?autocomplete_filter=Bahamas&year=2012&page=1&when=past'"
      ]
     },
     "metadata": {},
     "output_type": "display_data"
    },
    {
     "data": {
      "text/plain": [
       "'https://www.ted.com/tedx/events?autocomplete_filter=Belarus&year=2014&page=1&when=past'"
      ]
     },
     "metadata": {},
     "output_type": "display_data"
    },
    {
     "data": {
      "text/plain": [
       "'https://www.ted.com/tedx/events?autocomplete_filter=Azerbaijan&year=2016&page=1&when=past'"
      ]
     },
     "metadata": {},
     "output_type": "display_data"
    },
    {
     "data": {
      "text/plain": [
       "'https://www.ted.com/tedx/events?autocomplete_filter=Belgium&year=2016&page=1&when=past'"
      ]
     },
     "metadata": {},
     "output_type": "display_data"
    },
    {
     "data": {
      "text/plain": [
       "'https://www.ted.com/tedx/events?autocomplete_filter=Belgium&year=2015&page=1&when=past'"
      ]
     },
     "metadata": {},
     "output_type": "display_data"
    },
    {
     "data": {
      "text/plain": [
       "'https://www.ted.com/tedx/events?autocomplete_filter=Bahrain&year=2014&page=1&when=past'"
      ]
     },
     "metadata": {},
     "output_type": "display_data"
    },
    {
     "data": {
      "text/plain": [
       "'https://www.ted.com/tedx/events?autocomplete_filter=Benin&year=2015&page=1&when=past'"
      ]
     },
     "metadata": {},
     "output_type": "display_data"
    },
    {
     "data": {
      "text/plain": [
       "'https://www.ted.com/tedx/events?autocomplete_filter=Belgium&year=2014&page=1&when=past'"
      ]
     },
     "metadata": {},
     "output_type": "display_data"
    },
    {
     "data": {
      "text/plain": [
       "'https://www.ted.com/tedx/events?autocomplete_filter=Bhutan&year=2015&page=1&when=past'"
      ]
     },
     "metadata": {},
     "output_type": "display_data"
    },
    {
     "data": {
      "text/plain": [
       "'https://www.ted.com/tedx/events?autocomplete_filter=Belize&year=2009&page=1&when=past'"
      ]
     },
     "metadata": {},
     "output_type": "display_data"
    },
    {
     "data": {
      "text/plain": [
       "'https://www.ted.com/tedx/events?autocomplete_filter=Barbados&year=2014&page=1&when=past'"
      ]
     },
     "metadata": {},
     "output_type": "display_data"
    },
    {
     "data": {
      "text/plain": [
       "'https://www.ted.com/tedx/events?autocomplete_filter=Bolivia&year=2013&page=1&when=past'"
      ]
     },
     "metadata": {},
     "output_type": "display_data"
    },
    {
     "data": {
      "text/plain": [
       "'https://www.ted.com/tedx/events?autocomplete_filter=Bahrain&year=2010&page=1&when=past'"
      ]
     },
     "metadata": {},
     "output_type": "display_data"
    },
    {
     "data": {
      "text/plain": [
       "'https://www.ted.com/tedx/events?autocomplete_filter=Bangladesh&year=2016&page=1&when=past'"
      ]
     },
     "metadata": {},
     "output_type": "display_data"
    },
    {
     "data": {
      "text/plain": [
       "'https://www.ted.com/tedx/events?autocomplete_filter=Barbados&year=2017&page=1&when=past'"
      ]
     },
     "metadata": {},
     "output_type": "display_data"
    },
    {
     "data": {
      "text/plain": [
       "'https://www.ted.com/tedx/events?autocomplete_filter=Bahrain&year=2015&page=1&when=past'"
      ]
     },
     "metadata": {},
     "output_type": "display_data"
    },
    {
     "data": {
      "text/plain": [
       "'https://www.ted.com/tedx/events?autocomplete_filter=Belgium&year=2017&page=1&when=past'"
      ]
     },
     "metadata": {},
     "output_type": "display_data"
    },
    {
     "data": {
      "text/plain": [
       "'https://www.ted.com/tedx/events?autocomplete_filter=Bahamas&year=2019&page=1&when=past'"
      ]
     },
     "metadata": {},
     "output_type": "display_data"
    },
    {
     "data": {
      "text/plain": [
       "'https://www.ted.com/tedx/events?autocomplete_filter=Belize&year=2019&page=1&when=past'"
      ]
     },
     "metadata": {},
     "output_type": "display_data"
    },
    {
     "data": {
      "text/plain": [
       "'https://www.ted.com/tedx/events?autocomplete_filter=Bangladesh&year=2017&page=1&when=past'"
      ]
     },
     "metadata": {},
     "output_type": "display_data"
    },
    {
     "data": {
      "text/plain": [
       "'https://www.ted.com/tedx/events?autocomplete_filter=Belize&year=2018&page=1&when=past'"
      ]
     },
     "metadata": {},
     "output_type": "display_data"
    },
    {
     "data": {
      "text/plain": [
       "'https://www.ted.com/tedx/events?autocomplete_filter=Bermuda&year=2018&page=1&when=past'"
      ]
     },
     "metadata": {},
     "output_type": "display_data"
    },
    {
     "data": {
      "text/plain": [
       "'https://www.ted.com/tedx/events?autocomplete_filter=Bolivia&year=2018&page=1&when=past'"
      ]
     },
     "metadata": {},
     "output_type": "display_data"
    },
    {
     "data": {
      "text/plain": [
       "'https://www.ted.com/tedx/events?autocomplete_filter=Belize&year=2017&page=1&when=past'"
      ]
     },
     "metadata": {},
     "output_type": "display_data"
    },
    {
     "data": {
      "text/plain": [
       "'https://www.ted.com/tedx/events?autocomplete_filter=Benin&year=2012&page=1&when=past'"
      ]
     },
     "metadata": {},
     "output_type": "display_data"
    },
    {
     "data": {
      "text/plain": [
       "'https://www.ted.com/tedx/events?autocomplete_filter=Bangladesh&year=2013&page=1&when=past'"
      ]
     },
     "metadata": {},
     "output_type": "display_data"
    },
    {
     "data": {
      "text/plain": [
       "'https://www.ted.com/tedx/events?autocomplete_filter=Bosnia+And+Herzegovina&year=2016&page=1&when=past'"
      ]
     },
     "metadata": {},
     "output_type": "display_data"
    },
    {
     "data": {
      "text/plain": [
       "'https://www.ted.com/tedx/events?autocomplete_filter=Belarus&year=2017&page=1&when=past'"
      ]
     },
     "metadata": {},
     "output_type": "display_data"
    },
    {
     "data": {
      "text/plain": [
       "'https://www.ted.com/tedx/events?autocomplete_filter=Barbados&year=2019&page=1&when=past'"
      ]
     },
     "metadata": {},
     "output_type": "display_data"
    },
    {
     "data": {
      "text/plain": [
       "'https://www.ted.com/tedx/events?autocomplete_filter=Bangladesh&year=2018&page=1&when=past'"
      ]
     },
     "metadata": {},
     "output_type": "display_data"
    },
    {
     "data": {
      "text/plain": [
       "'https://www.ted.com/tedx/events?autocomplete_filter=Belarus&year=2020&page=1&when=past'"
      ]
     },
     "metadata": {},
     "output_type": "display_data"
    },
    {
     "data": {
      "text/plain": [
       "'https://www.ted.com/tedx/events?autocomplete_filter=Belize&year=2020&page=1&when=past'"
      ]
     },
     "metadata": {},
     "output_type": "display_data"
    },
    {
     "data": {
      "text/plain": [
       "'https://www.ted.com/tedx/events?autocomplete_filter=Bangladesh&year=2010&page=1&when=past'"
      ]
     },
     "metadata": {},
     "output_type": "display_data"
    },
    {
     "data": {
      "text/plain": [
       "'https://www.ted.com/tedx/events?autocomplete_filter=Bermuda&year=2010&page=1&when=past'"
      ]
     },
     "metadata": {},
     "output_type": "display_data"
    },
    {
     "data": {
      "text/plain": [
       "'https://www.ted.com/tedx/events?autocomplete_filter=Barbados&year=2020&page=1&when=past'"
      ]
     },
     "metadata": {},
     "output_type": "display_data"
    },
    {
     "data": {
      "text/plain": [
       "'https://www.ted.com/tedx/events?autocomplete_filter=Bermuda&year=2009&page=1&when=past'"
      ]
     },
     "metadata": {},
     "output_type": "display_data"
    },
    {
     "data": {
      "text/plain": [
       "'https://www.ted.com/tedx/events?autocomplete_filter=Bolivia&year=2009&page=1&when=past'"
      ]
     },
     "metadata": {},
     "output_type": "display_data"
    },
    {
     "data": {
      "text/plain": [
       "'https://www.ted.com/tedx/events?autocomplete_filter=Botswana&year=2009&page=1&when=past'"
      ]
     },
     "metadata": {},
     "output_type": "display_data"
    },
    {
     "data": {
      "text/plain": [
       "'https://www.ted.com/tedx/events?autocomplete_filter=Benin&year=2020&page=1&when=past'"
      ]
     },
     "metadata": {},
     "output_type": "display_data"
    },
    {
     "data": {
      "text/plain": [
       "'https://www.ted.com/tedx/events?autocomplete_filter=Bermuda&year=2015&page=1&when=past'"
      ]
     },
     "metadata": {},
     "output_type": "display_data"
    },
    {
     "data": {
      "text/plain": [
       "'https://www.ted.com/tedx/events?autocomplete_filter=Barbados&year=2016&page=1&when=past'"
      ]
     },
     "metadata": {},
     "output_type": "display_data"
    },
    {
     "data": {
      "text/plain": [
       "'https://www.ted.com/tedx/events?autocomplete_filter=Belgium&year=2020&page=1&when=past'"
      ]
     },
     "metadata": {},
     "output_type": "display_data"
    },
    {
     "data": {
      "text/plain": [
       "'https://www.ted.com/tedx/events?autocomplete_filter=Botswana&year=2019&page=1&when=past'"
      ]
     },
     "metadata": {},
     "output_type": "display_data"
    },
    {
     "data": {
      "text/plain": [
       "'https://www.ted.com/tedx/events?autocomplete_filter=Belgium&year=2010&page=1&when=past'"
      ]
     },
     "metadata": {},
     "output_type": "display_data"
    },
    {
     "data": {
      "text/plain": [
       "'https://www.ted.com/tedx/events?autocomplete_filter=Belarus&year=2009&page=1&when=past'"
      ]
     },
     "metadata": {},
     "output_type": "display_data"
    },
    {
     "data": {
      "text/plain": [
       "'https://www.ted.com/tedx/events?autocomplete_filter=Belize&year=2011&page=1&when=past'"
      ]
     },
     "metadata": {},
     "output_type": "display_data"
    },
    {
     "data": {
      "text/plain": [
       "'https://www.ted.com/tedx/events?autocomplete_filter=Bermuda&year=2011&page=1&when=past'"
      ]
     },
     "metadata": {},
     "output_type": "display_data"
    },
    {
     "data": {
      "text/plain": [
       "'https://www.ted.com/tedx/events?autocomplete_filter=Barbados&year=2013&page=1&when=past'"
      ]
     },
     "metadata": {},
     "output_type": "display_data"
    },
    {
     "data": {
      "text/plain": [
       "'https://www.ted.com/tedx/events?autocomplete_filter=Bhutan&year=2013&page=1&when=past'"
      ]
     },
     "metadata": {},
     "output_type": "display_data"
    },
    {
     "data": {
      "text/plain": [
       "'https://www.ted.com/tedx/events?autocomplete_filter=Belgium&year=2011&page=1&when=past'"
      ]
     },
     "metadata": {},
     "output_type": "display_data"
    },
    {
     "data": {
      "text/plain": [
       "'https://www.ted.com/tedx/events?autocomplete_filter=Bhutan&year=2012&page=1&when=past'"
      ]
     },
     "metadata": {},
     "output_type": "display_data"
    },
    {
     "data": {
      "text/plain": [
       "'https://www.ted.com/tedx/events?autocomplete_filter=Bosnia+And+Herzegovina&year=2012&page=1&when=past'"
      ]
     },
     "metadata": {},
     "output_type": "display_data"
    },
    {
     "data": {
      "text/plain": [
       "'https://www.ted.com/tedx/events?autocomplete_filter=Bouvet+Island&year=2012&page=1&when=past'"
      ]
     },
     "metadata": {},
     "output_type": "display_data"
    },
    {
     "data": {
      "text/plain": [
       "'https://www.ted.com/tedx/events?autocomplete_filter=Bhutan&year=2011&page=1&when=past'"
      ]
     },
     "metadata": {},
     "output_type": "display_data"
    },
    {
     "data": {
      "text/plain": [
       "'https://www.ted.com/tedx/events?autocomplete_filter=Bhutan&year=2018&page=1&when=past'"
      ]
     },
     "metadata": {},
     "output_type": "display_data"
    },
    {
     "data": {
      "text/plain": [
       "'https://www.ted.com/tedx/events?autocomplete_filter=Belarus&year=2019&page=1&when=past'"
      ]
     },
     "metadata": {},
     "output_type": "display_data"
    },
    {
     "data": {
      "text/plain": [
       "'https://www.ted.com/tedx/events?autocomplete_filter=Benin&year=2011&page=1&when=past'"
      ]
     },
     "metadata": {},
     "output_type": "display_data"
    },
    {
     "data": {
      "text/plain": [
       "'https://www.ted.com/tedx/events?autocomplete_filter=Belize&year=2013&page=1&when=past'"
      ]
     },
     "metadata": {},
     "output_type": "display_data"
    },
    {
     "data": {
      "text/plain": [
       "'https://www.ted.com/tedx/events?autocomplete_filter=Brazil&year=2010&page=1&when=past'"
      ]
     },
     "metadata": {},
     "output_type": "display_data"
    },
    {
     "data": {
      "text/plain": [
       "'https://www.ted.com/tedx/events?autocomplete_filter=Belgium&year=2012&page=1&when=past'"
      ]
     },
     "metadata": {},
     "output_type": "display_data"
    },
    {
     "data": {
      "text/plain": [
       "'https://www.ted.com/tedx/events?autocomplete_filter=Bhutan&year=2014&page=1&when=past'"
      ]
     },
     "metadata": {},
     "output_type": "display_data"
    },
    {
     "data": {
      "text/plain": [
       "'https://www.ted.com/tedx/events?autocomplete_filter=Benin&year=2014&page=1&when=past'"
      ]
     },
     "metadata": {},
     "output_type": "display_data"
    },
    {
     "data": {
      "text/plain": [
       "'https://www.ted.com/tedx/events?autocomplete_filter=Bolivia&year=2016&page=1&when=past'"
      ]
     },
     "metadata": {},
     "output_type": "display_data"
    },
    {
     "data": {
      "text/plain": [
       "'https://www.ted.com/tedx/events?autocomplete_filter=Belize&year=2014&page=1&when=past'"
      ]
     },
     "metadata": {},
     "output_type": "display_data"
    },
    {
     "data": {
      "text/plain": [
       "'https://www.ted.com/tedx/events?autocomplete_filter=Brazil&year=2015&page=1&when=past'"
      ]
     },
     "metadata": {},
     "output_type": "display_data"
    },
    {
     "data": {
      "text/plain": [
       "'https://www.ted.com/tedx/events?autocomplete_filter=Botswana&year=2015&page=1&when=past'"
      ]
     },
     "metadata": {},
     "output_type": "display_data"
    },
    {
     "data": {
      "text/plain": [
       "'https://www.ted.com/tedx/events?autocomplete_filter=Belarus&year=2016&page=1&when=past'"
      ]
     },
     "metadata": {},
     "output_type": "display_data"
    },
    {
     "data": {
      "text/plain": [
       "'https://www.ted.com/tedx/events?autocomplete_filter=Bolivia&year=2015&page=1&when=past'"
      ]
     },
     "metadata": {},
     "output_type": "display_data"
    },
    {
     "data": {
      "text/plain": [
       "'https://www.ted.com/tedx/events?autocomplete_filter=Bolivia&year=2014&page=1&when=past'"
      ]
     },
     "metadata": {},
     "output_type": "display_data"
    },
    {
     "data": {
      "text/plain": [
       "'https://www.ted.com/tedx/events?autocomplete_filter=Bosnia+And+Herzegovina&year=2009&page=1&when=past'"
      ]
     },
     "metadata": {},
     "output_type": "display_data"
    },
    {
     "data": {
      "text/plain": [
       "'https://www.ted.com/tedx/events?autocomplete_filter=Belize&year=2010&page=1&when=past'"
      ]
     },
     "metadata": {},
     "output_type": "display_data"
    },
    {
     "data": {
      "text/plain": [
       "'https://www.ted.com/tedx/events?autocomplete_filter=Bermuda&year=2014&page=1&when=past'"
      ]
     },
     "metadata": {},
     "output_type": "display_data"
    },
    {
     "data": {
      "text/plain": [
       "'https://www.ted.com/tedx/events?autocomplete_filter=Benin&year=2016&page=1&when=past'"
      ]
     },
     "metadata": {},
     "output_type": "display_data"
    },
    {
     "data": {
      "text/plain": [
       "'https://www.ted.com/tedx/events?autocomplete_filter=British+Indian+Ocean+Territory&year=2013&page=1&when=past'"
      ]
     },
     "metadata": {},
     "output_type": "display_data"
    },
    {
     "data": {
      "text/plain": [
       "'https://www.ted.com/tedx/events?autocomplete_filter=Belize&year=2015&page=1&when=past'"
      ]
     },
     "metadata": {},
     "output_type": "display_data"
    },
    {
     "data": {
      "text/plain": [
       "'https://www.ted.com/tedx/events?autocomplete_filter=Bolivia&year=2017&page=1&when=past'"
      ]
     },
     "metadata": {},
     "output_type": "display_data"
    },
    {
     "data": {
      "text/plain": [
       "'https://www.ted.com/tedx/events?autocomplete_filter=Bermuda&year=2017&page=1&when=past'"
      ]
     },
     "metadata": {},
     "output_type": "display_data"
    },
    {
     "data": {
      "text/plain": [
       "'https://www.ted.com/tedx/events?autocomplete_filter=Bosnia+And+Herzegovina&year=2019&page=1&when=past'"
      ]
     },
     "metadata": {},
     "output_type": "display_data"
    },
    {
     "data": {
      "text/plain": [
       "'https://www.ted.com/tedx/events?autocomplete_filter=Benin&year=2017&page=1&when=past'"
      ]
     },
     "metadata": {},
     "output_type": "display_data"
    },
    {
     "data": {
      "text/plain": [
       "'https://www.ted.com/tedx/events?autocomplete_filter=British+Indian+Ocean+Territory&year=2018&page=1&when=past'"
      ]
     },
     "metadata": {},
     "output_type": "display_data"
    },
    {
     "data": {
      "text/plain": [
       "'https://www.ted.com/tedx/events?autocomplete_filter=Bouvet+Island&year=2018&page=1&when=past'"
      ]
     },
     "metadata": {},
     "output_type": "display_data"
    },
    {
     "data": {
      "text/plain": [
       "'https://www.ted.com/tedx/events?autocomplete_filter=Bosnia+And+Herzegovina&year=2017&page=1&when=past'"
      ]
     },
     "metadata": {},
     "output_type": "display_data"
    },
    {
     "data": {
      "text/plain": [
       "'https://www.ted.com/tedx/events?autocomplete_filter=Bosnia+And+Herzegovina&year=2018&page=1&when=past'"
      ]
     },
     "metadata": {},
     "output_type": "display_data"
    },
    {
     "data": {
      "text/plain": [
       "'https://www.ted.com/tedx/events?autocomplete_filter=Botswana&year=2012&page=1&when=past'"
      ]
     },
     "metadata": {},
     "output_type": "display_data"
    },
    {
     "data": {
      "text/plain": [
       "'https://www.ted.com/tedx/events?autocomplete_filter=Belgium&year=2019&page=1&when=past'"
      ]
     },
     "metadata": {},
     "output_type": "display_data"
    },
    {
     "data": {
      "text/plain": [
       "'https://www.ted.com/tedx/events?autocomplete_filter=Benin&year=2013&page=1&when=past'"
      ]
     },
     "metadata": {},
     "output_type": "display_data"
    },
    {
     "data": {
      "text/plain": [
       "'https://www.ted.com/tedx/events?autocomplete_filter=Bhutan&year=2017&page=1&when=past'"
      ]
     },
     "metadata": {},
     "output_type": "display_data"
    },
    {
     "data": {
      "text/plain": [
       "'https://www.ted.com/tedx/events?autocomplete_filter=Bermuda&year=2019&page=1&when=past'"
      ]
     },
     "metadata": {},
     "output_type": "display_data"
    },
    {
     "data": {
      "text/plain": [
       "'https://www.ted.com/tedx/events?autocomplete_filter=Brunei+Darussalam&year=2016&page=1&when=past'"
      ]
     },
     "metadata": {},
     "output_type": "display_data"
    },
    {
     "data": {
      "text/plain": [
       "'https://www.ted.com/tedx/events?autocomplete_filter=Benin&year=2018&page=1&when=past'"
      ]
     },
     "metadata": {},
     "output_type": "display_data"
    },
    {
     "data": {
      "text/plain": [
       "'https://www.ted.com/tedx/events?autocomplete_filter=Bhutan&year=2020&page=1&when=past'"
      ]
     },
     "metadata": {},
     "output_type": "display_data"
    },
    {
     "data": {
      "text/plain": [
       "'https://www.ted.com/tedx/events?autocomplete_filter=Bosnia+And+Herzegovina&year=2020&page=1&when=past'"
      ]
     },
     "metadata": {},
     "output_type": "display_data"
    },
    {
     "data": {
      "text/plain": [
       "'https://www.ted.com/tedx/events?autocomplete_filter=Bouvet+Island&year=2010&page=1&when=past'"
      ]
     },
     "metadata": {},
     "output_type": "display_data"
    },
    {
     "data": {
      "text/plain": [
       "'https://www.ted.com/tedx/events?autocomplete_filter=Bermuda&year=2020&page=1&when=past'"
      ]
     },
     "metadata": {},
     "output_type": "display_data"
    },
    {
     "data": {
      "text/plain": [
       "'https://www.ted.com/tedx/events?autocomplete_filter=Bulgaria&year=2009&page=1&when=past'"
      ]
     },
     "metadata": {},
     "output_type": "display_data"
    },
    {
     "data": {
      "text/plain": [
       "'https://www.ted.com/tedx/events?autocomplete_filter=British+Indian+Ocean+Territory&year=2009&page=1&when=past'"
      ]
     },
     "metadata": {},
     "output_type": "display_data"
    },
    {
     "data": {
      "text/plain": [
       "'https://www.ted.com/tedx/events?autocomplete_filter=Bouvet+Island&year=2009&page=1&when=past'"
      ]
     },
     "metadata": {},
     "output_type": "display_data"
    },
    {
     "data": {
      "text/plain": [
       "'https://www.ted.com/tedx/events?autocomplete_filter=Botswana&year=2020&page=1&when=past'"
      ]
     },
     "metadata": {},
     "output_type": "display_data"
    },
    {
     "data": {
      "text/plain": [
       "'https://www.ted.com/tedx/events?autocomplete_filter=Benin&year=2010&page=1&when=past'"
      ]
     },
     "metadata": {},
     "output_type": "display_data"
    },
    {
     "data": {
      "text/plain": [
       "'https://www.ted.com/tedx/events?autocomplete_filter=Bouvet+Island&year=2015&page=1&when=past'"
      ]
     },
     "metadata": {},
     "output_type": "display_data"
    },
    {
     "data": {
      "text/plain": [
       "'https://www.ted.com/tedx/events?autocomplete_filter=Bermuda&year=2016&page=1&when=past'"
      ]
     },
     "metadata": {},
     "output_type": "display_data"
    },
    {
     "data": {
      "text/plain": [
       "'https://www.ted.com/tedx/events?autocomplete_filter=Bolivia&year=2020&page=1&when=past'"
      ]
     },
     "metadata": {},
     "output_type": "display_data"
    },
    {
     "data": {
      "text/plain": [
       "'https://www.ted.com/tedx/events?autocomplete_filter=Bulgaria&year=2019&page=1&when=past'"
      ]
     },
     "metadata": {},
     "output_type": "display_data"
    },
    {
     "data": {
      "text/plain": [
       "'https://www.ted.com/tedx/events?autocomplete_filter=Bolivia&year=2010&page=1&when=past'"
      ]
     },
     "metadata": {},
     "output_type": "display_data"
    },
    {
     "data": {
      "text/plain": [
       "'https://www.ted.com/tedx/events?autocomplete_filter=Bosnia+And+Herzegovina&year=2011&page=1&when=past'"
      ]
     },
     "metadata": {},
     "output_type": "display_data"
    },
    {
     "data": {
      "text/plain": [
       "'https://www.ted.com/tedx/events?autocomplete_filter=Bhutan&year=2009&page=1&when=past'"
      ]
     },
     "metadata": {},
     "output_type": "display_data"
    },
    {
     "data": {
      "text/plain": [
       "'https://www.ted.com/tedx/events?autocomplete_filter=Bouvet+Island&year=2011&page=1&when=past'"
      ]
     },
     "metadata": {},
     "output_type": "display_data"
    },
    {
     "data": {
      "text/plain": [
       "'https://www.ted.com/tedx/events?autocomplete_filter=Brazil&year=2013&page=1&when=past'"
      ]
     },
     "metadata": {},
     "output_type": "display_data"
    },
    {
     "data": {
      "text/plain": [
       "'https://www.ted.com/tedx/events?autocomplete_filter=Bolivia&year=2011&page=1&when=past'"
      ]
     },
     "metadata": {},
     "output_type": "display_data"
    },
    {
     "data": {
      "text/plain": [
       "'https://www.ted.com/tedx/events?autocomplete_filter=Brunei+Darussalam&year=2012&page=1&when=past'"
      ]
     },
     "metadata": {},
     "output_type": "display_data"
    },
    {
     "data": {
      "text/plain": [
       "'https://www.ted.com/tedx/events?autocomplete_filter=Brazil&year=2012&page=1&when=past'"
      ]
     },
     "metadata": {},
     "output_type": "display_data"
    },
    {
     "data": {
      "text/plain": [
       "'https://www.ted.com/tedx/events?autocomplete_filter=Burkina+Faso&year=2012&page=1&when=past'"
      ]
     },
     "metadata": {},
     "output_type": "display_data"
    },
    {
     "data": {
      "text/plain": [
       "'https://www.ted.com/tedx/events?autocomplete_filter=Brazil&year=2011&page=1&when=past'"
      ]
     },
     "metadata": {},
     "output_type": "display_data"
    },
    {
     "data": {
      "text/plain": [
       "'https://www.ted.com/tedx/events?autocomplete_filter=Bermuda&year=2013&page=1&when=past'"
      ]
     },
     "metadata": {},
     "output_type": "display_data"
    },
    {
     "data": {
      "text/plain": [
       "'https://www.ted.com/tedx/events?autocomplete_filter=Brazil&year=2018&page=1&when=past'"
      ]
     },
     "metadata": {},
     "output_type": "display_data"
    },
    {
     "data": {
      "text/plain": [
       "'https://www.ted.com/tedx/events?autocomplete_filter=Bhutan&year=2019&page=1&when=past'"
      ]
     },
     "metadata": {},
     "output_type": "display_data"
    },
    {
     "data": {
      "text/plain": [
       "'https://www.ted.com/tedx/events?autocomplete_filter=Botswana&year=2011&page=1&when=past'"
      ]
     },
     "metadata": {},
     "output_type": "display_data"
    },
    {
     "data": {
      "text/plain": [
       "'https://www.ted.com/tedx/events?autocomplete_filter=Burundi&year=2010&page=1&when=past'"
      ]
     },
     "metadata": {},
     "output_type": "display_data"
    },
    {
     "data": {
      "text/plain": [
       "'https://www.ted.com/tedx/events?autocomplete_filter=Bosnia+And+Herzegovina&year=2013&page=1&when=past'"
      ]
     },
     "metadata": {},
     "output_type": "display_data"
    },
    {
     "data": {
      "text/plain": [
       "'https://www.ted.com/tedx/events?autocomplete_filter=Botswana&year=2014&page=1&when=past'"
      ]
     },
     "metadata": {},
     "output_type": "display_data"
    },
    {
     "data": {
      "text/plain": [
       "'https://www.ted.com/tedx/events?autocomplete_filter=Bolivia&year=2012&page=1&when=past'"
      ]
     },
     "metadata": {},
     "output_type": "display_data"
    },
    {
     "data": {
      "text/plain": [
       "'https://www.ted.com/tedx/events?autocomplete_filter=Brazil&year=2014&page=1&when=past'"
      ]
     },
     "metadata": {},
     "output_type": "display_data"
    },
    {
     "data": {
      "text/plain": [
       "'https://www.ted.com/tedx/events?autocomplete_filter=British+Indian+Ocean+Territory&year=2016&page=1&when=past'"
      ]
     },
     "metadata": {},
     "output_type": "display_data"
    },
    {
     "data": {
      "text/plain": [
       "'https://www.ted.com/tedx/events?autocomplete_filter=Bosnia+And+Herzegovina&year=2014&page=1&when=past'"
      ]
     },
     "metadata": {},
     "output_type": "display_data"
    },
    {
     "data": {
      "text/plain": [
       "'https://www.ted.com/tedx/events?autocomplete_filter=Bulgaria&year=2015&page=1&when=past'"
      ]
     },
     "metadata": {},
     "output_type": "display_data"
    },
    {
     "data": {
      "text/plain": [
       "'https://www.ted.com/tedx/events?autocomplete_filter=Burundi&year=2015&page=1&when=past'"
      ]
     },
     "metadata": {},
     "output_type": "display_data"
    },
    {
     "data": {
      "text/plain": [
       "'https://www.ted.com/tedx/events?autocomplete_filter=British+Indian+Ocean+Territory&year=2015&page=1&when=past'"
      ]
     },
     "metadata": {},
     "output_type": "display_data"
    },
    {
     "data": {
      "text/plain": [
       "'https://www.ted.com/tedx/events?autocomplete_filter=British+Indian+Ocean+Territory&year=2014&page=1&when=past'"
      ]
     },
     "metadata": {},
     "output_type": "display_data"
    },
    {
     "data": {
      "text/plain": [
       "'https://www.ted.com/tedx/events?autocomplete_filter=Bhutan&year=2016&page=1&when=past'"
      ]
     },
     "metadata": {},
     "output_type": "display_data"
    },
    {
     "data": {
      "text/plain": [
       "'https://www.ted.com/tedx/events?autocomplete_filter=Bosnia+And+Herzegovina&year=2010&page=1&when=past'"
      ]
     },
     "metadata": {},
     "output_type": "display_data"
    },
    {
     "data": {
      "text/plain": [
       "'https://www.ted.com/tedx/events?autocomplete_filter=Brunei+Darussalam&year=2009&page=1&when=past'"
      ]
     },
     "metadata": {},
     "output_type": "display_data"
    },
    {
     "data": {
      "text/plain": [
       "'https://www.ted.com/tedx/events?autocomplete_filter=Cambodia&year=2013&page=1&when=past'"
      ]
     },
     "metadata": {},
     "output_type": "display_data"
    },
    {
     "data": {
      "text/plain": [
       "'https://www.ted.com/tedx/events?autocomplete_filter=Bouvet+Island&year=2014&page=1&when=past'"
      ]
     },
     "metadata": {},
     "output_type": "display_data"
    },
    {
     "data": {
      "text/plain": [
       "'https://www.ted.com/tedx/events?autocomplete_filter=Botswana&year=2016&page=1&when=past'"
      ]
     },
     "metadata": {},
     "output_type": "display_data"
    },
    {
     "data": {
      "text/plain": [
       "'https://www.ted.com/tedx/events?autocomplete_filter=Bouvet+Island&year=2017&page=1&when=past'"
      ]
     },
     "metadata": {},
     "output_type": "display_data"
    },
    {
     "data": {
      "text/plain": [
       "'https://www.ted.com/tedx/events?autocomplete_filter=British+Indian+Ocean+Territory&year=2017&page=1&when=past'"
      ]
     },
     "metadata": {},
     "output_type": "display_data"
    },
    {
     "data": {
      "text/plain": [
       "'https://www.ted.com/tedx/events?autocomplete_filter=Bosnia+And+Herzegovina&year=2015&page=1&when=past'"
      ]
     },
     "metadata": {},
     "output_type": "display_data"
    },
    {
     "data": {
      "text/plain": [
       "'https://www.ted.com/tedx/events?autocomplete_filter=Brunei+Darussalam&year=2019&page=1&when=past'"
      ]
     },
     "metadata": {},
     "output_type": "display_data"
    },
    {
     "data": {
      "text/plain": [
       "'https://www.ted.com/tedx/events?autocomplete_filter=Botswana&year=2017&page=1&when=past'"
      ]
     },
     "metadata": {},
     "output_type": "display_data"
    },
    {
     "data": {
      "text/plain": [
       "'https://www.ted.com/tedx/events?autocomplete_filter=Burkina+Faso&year=2018&page=1&when=past'"
      ]
     },
     "metadata": {},
     "output_type": "display_data"
    },
    {
     "data": {
      "text/plain": [
       "'https://www.ted.com/tedx/events?autocomplete_filter=Cambodia&year=2018&page=1&when=past'"
      ]
     },
     "metadata": {},
     "output_type": "display_data"
    },
    {
     "data": {
      "text/plain": [
       "'https://www.ted.com/tedx/events?autocomplete_filter=Brunei+Darussalam&year=2017&page=1&when=past'"
      ]
     },
     "metadata": {},
     "output_type": "display_data"
    },
    {
     "data": {
      "text/plain": [
       "'https://www.ted.com/tedx/events?autocomplete_filter=Brunei+Darussalam&year=2018&page=1&when=past'"
      ]
     },
     "metadata": {},
     "output_type": "display_data"
    },
    {
     "data": {
      "text/plain": [
       "'https://www.ted.com/tedx/events?autocomplete_filter=Bolivia&year=2019&page=1&when=past'"
      ]
     },
     "metadata": {},
     "output_type": "display_data"
    },
    {
     "data": {
      "text/plain": [
       "'https://www.ted.com/tedx/events?autocomplete_filter=Botswana&year=2013&page=1&when=past'"
      ]
     },
     "metadata": {},
     "output_type": "display_data"
    },
    {
     "data": {
      "text/plain": [
       "'https://www.ted.com/tedx/events?autocomplete_filter=Cameroon&year=2016&page=1&when=past'"
      ]
     },
     "metadata": {},
     "output_type": "display_data"
    },
    {
     "data": {
      "text/plain": [
       "'https://www.ted.com/tedx/events?autocomplete_filter=Brazil&year=2017&page=1&when=past'"
      ]
     },
     "metadata": {},
     "output_type": "display_data"
    },
    {
     "data": {
      "text/plain": [
       "'https://www.ted.com/tedx/events?autocomplete_filter=Bulgaria&year=2012&page=1&when=past'"
      ]
     },
     "metadata": {},
     "output_type": "display_data"
    },
    {
     "data": {
      "text/plain": [
       "'https://www.ted.com/tedx/events?autocomplete_filter=Bouvet+Island&year=2019&page=1&when=past'"
      ]
     },
     "metadata": {},
     "output_type": "display_data"
    },
    {
     "data": {
      "text/plain": [
       "'https://www.ted.com/tedx/events?autocomplete_filter=Brunei+Darussalam&year=2020&page=1&when=past'"
      ]
     },
     "metadata": {},
     "output_type": "display_data"
    },
    {
     "data": {
      "text/plain": [
       "'https://www.ted.com/tedx/events?autocomplete_filter=Brazil&year=2020&page=1&when=past'"
      ]
     },
     "metadata": {},
     "output_type": "display_data"
    },
    {
     "data": {
      "text/plain": [
       "'https://www.ted.com/tedx/events?autocomplete_filter=Botswana&year=2018&page=1&when=past'"
      ]
     },
     "metadata": {},
     "output_type": "display_data"
    },
    {
     "data": {
      "text/plain": [
       "'https://www.ted.com/tedx/events?autocomplete_filter=Burkina+Faso&year=2010&page=1&when=past'"
      ]
     },
     "metadata": {},
     "output_type": "display_data"
    },
    {
     "data": {
      "text/plain": [
       "'https://www.ted.com/tedx/events?autocomplete_filter=Bouvet+Island&year=2020&page=1&when=past'"
      ]
     },
     "metadata": {},
     "output_type": "display_data"
    },
    {
     "data": {
      "text/plain": [
       "'https://www.ted.com/tedx/events?autocomplete_filter=Cambodia&year=2009&page=1&when=past'"
      ]
     },
     "metadata": {},
     "output_type": "display_data"
    },
    {
     "data": {
      "text/plain": [
       "'https://www.ted.com/tedx/events?autocomplete_filter=Canada&year=2009&page=1&when=past'"
      ]
     },
     "metadata": {},
     "output_type": "display_data"
    },
    {
     "data": {
      "text/plain": [
       "'https://www.ted.com/tedx/events?autocomplete_filter=Burkina+Faso&year=2009&page=1&when=past'"
      ]
     },
     "metadata": {},
     "output_type": "display_data"
    },
    {
     "data": {
      "text/plain": [
       "'https://www.ted.com/tedx/events?autocomplete_filter=Bulgaria&year=2020&page=1&when=past'"
      ]
     },
     "metadata": {},
     "output_type": "display_data"
    },
    {
     "data": {
      "text/plain": [
       "'https://www.ted.com/tedx/events?autocomplete_filter=Botswana&year=2010&page=1&when=past'"
      ]
     },
     "metadata": {},
     "output_type": "display_data"
    },
    {
     "data": {
      "text/plain": [
       "'https://www.ted.com/tedx/events?autocomplete_filter=Bouvet+Island&year=2016&page=1&when=past'"
      ]
     },
     "metadata": {},
     "output_type": "display_data"
    },
    {
     "data": {
      "text/plain": [
       "'https://www.ted.com/tedx/events?autocomplete_filter=Canada&year=2019&page=1&when=past'"
      ]
     },
     "metadata": {},
     "output_type": "display_data"
    },
    {
     "data": {
      "text/plain": [
       "'https://www.ted.com/tedx/events?autocomplete_filter=British+Indian+Ocean+Territory&year=2020&page=1&when=past'"
      ]
     },
     "metadata": {},
     "output_type": "display_data"
    },
    {
     "data": {
      "text/plain": [
       "'https://www.ted.com/tedx/events?autocomplete_filter=Burkina+Faso&year=2015&page=1&when=past'"
      ]
     },
     "metadata": {},
     "output_type": "display_data"
    },
    {
     "data": {
      "text/plain": [
       "'https://www.ted.com/tedx/events?autocomplete_filter=British+Indian+Ocean+Territory&year=2010&page=1&when=past'"
      ]
     },
     "metadata": {},
     "output_type": "display_data"
    },
    {
     "data": {
      "text/plain": [
       "'https://www.ted.com/tedx/events?autocomplete_filter=Brunei+Darussalam&year=2011&page=1&when=past'"
      ]
     },
     "metadata": {},
     "output_type": "display_data"
    },
    {
     "data": {
      "text/plain": [
       "'https://www.ted.com/tedx/events?autocomplete_filter=Burundi&year=2013&page=1&when=past'"
      ]
     },
     "metadata": {},
     "output_type": "display_data"
    },
    {
     "data": {
      "text/plain": [
       "'https://www.ted.com/tedx/events?autocomplete_filter=Burkina+Faso&year=2011&page=1&when=past'"
      ]
     },
     "metadata": {},
     "output_type": "display_data"
    },
    {
     "data": {
      "text/plain": [
       "'https://www.ted.com/tedx/events?autocomplete_filter=British+Indian+Ocean+Territory&year=2011&page=1&when=past'"
      ]
     },
     "metadata": {},
     "output_type": "display_data"
    },
    {
     "data": {
      "text/plain": [
       "'https://www.ted.com/tedx/events?autocomplete_filter=Cameroon&year=2012&page=1&when=past'"
      ]
     },
     "metadata": {},
     "output_type": "display_data"
    },
    {
     "data": {
      "text/plain": [
       "'https://www.ted.com/tedx/events?autocomplete_filter=Cape+Verde&year=2012&page=1&when=past'"
      ]
     },
     "metadata": {},
     "output_type": "display_data"
    },
    {
     "data": {
      "text/plain": [
       "'https://www.ted.com/tedx/events?autocomplete_filter=Burundi&year=2011&page=1&when=past'"
      ]
     },
     "metadata": {},
     "output_type": "display_data"
    },
    {
     "data": {
      "text/plain": [
       "'https://www.ted.com/tedx/events?autocomplete_filter=Burundi&year=2012&page=1&when=past'"
      ]
     },
     "metadata": {},
     "output_type": "display_data"
    },
    {
     "data": {
      "text/plain": [
       "'https://www.ted.com/tedx/events?autocomplete_filter=Brazil&year=2019&page=1&when=past'"
      ]
     },
     "metadata": {},
     "output_type": "display_data"
    },
    {
     "data": {
      "text/plain": [
       "'https://www.ted.com/tedx/events?autocomplete_filter=Bouvet+Island&year=2013&page=1&when=past'"
      ]
     },
     "metadata": {},
     "output_type": "display_data"
    },
    {
     "data": {
      "text/plain": [
       "'https://www.ted.com/tedx/events?autocomplete_filter=Cayman+Islands&year=2010&page=1&when=past'"
      ]
     },
     "metadata": {},
     "output_type": "display_data"
    },
    {
     "data": {
      "text/plain": [
       "'https://www.ted.com/tedx/events?autocomplete_filter=Brazil&year=2009&page=1&when=past'"
      ]
     },
     "metadata": {},
     "output_type": "display_data"
    },
    {
     "data": {
      "text/plain": [
       "'https://www.ted.com/tedx/events?autocomplete_filter=Bulgaria&year=2011&page=1&when=past'"
      ]
     },
     "metadata": {},
     "output_type": "display_data"
    },
    {
     "data": {
      "text/plain": [
       "'https://www.ted.com/tedx/events?autocomplete_filter=Burundi&year=2018&page=1&when=past'"
      ]
     },
     "metadata": {},
     "output_type": "display_data"
    },
    {
     "data": {
      "text/plain": [
       "'https://www.ted.com/tedx/events?autocomplete_filter=Bulgaria&year=2014&page=1&when=past'"
      ]
     },
     "metadata": {},
     "output_type": "display_data"
    },
    {
     "data": {
      "text/plain": [
       "'https://www.ted.com/tedx/events?autocomplete_filter=Brunei+Darussalam&year=2013&page=1&when=past'"
      ]
     },
     "metadata": {},
     "output_type": "display_data"
    },
    {
     "data": {
      "text/plain": [
       "'https://www.ted.com/tedx/events?autocomplete_filter=Burundi&year=2014&page=1&when=past'"
      ]
     },
     "metadata": {},
     "output_type": "display_data"
    },
    {
     "data": {
      "text/plain": [
       "'https://www.ted.com/tedx/events?autocomplete_filter=Cambodia&year=2016&page=1&when=past'"
      ]
     },
     "metadata": {},
     "output_type": "display_data"
    },
    {
     "data": {
      "text/plain": [
       "'https://www.ted.com/tedx/events?autocomplete_filter=Brunei+Darussalam&year=2014&page=1&when=past'"
      ]
     },
     "metadata": {},
     "output_type": "display_data"
    },
    {
     "data": {
      "text/plain": [
       "'https://www.ted.com/tedx/events?autocomplete_filter=Cayman+Islands&year=2015&page=1&when=past'"
      ]
     },
     "metadata": {},
     "output_type": "display_data"
    },
    {
     "data": {
      "text/plain": [
       "'https://www.ted.com/tedx/events?autocomplete_filter=Canada&year=2015&page=1&when=past'"
      ]
     },
     "metadata": {},
     "output_type": "display_data"
    },
    {
     "data": {
      "text/plain": [
       "'https://www.ted.com/tedx/events?autocomplete_filter=Cambodia&year=2014&page=1&when=past'"
      ]
     },
     "metadata": {},
     "output_type": "display_data"
    },
    {
     "data": {
      "text/plain": [
       "'https://www.ted.com/tedx/events?autocomplete_filter=Cambodia&year=2015&page=1&when=past'"
      ]
     },
     "metadata": {},
     "output_type": "display_data"
    },
    {
     "data": {
      "text/plain": [
       "'https://www.ted.com/tedx/events?autocomplete_filter=Brunei+Darussalam&year=2010&page=1&when=past'"
      ]
     },
     "metadata": {},
     "output_type": "display_data"
    },
    {
     "data": {
      "text/plain": [
       "'https://www.ted.com/tedx/events?autocomplete_filter=Brazil&year=2016&page=1&when=past'"
      ]
     },
     "metadata": {},
     "output_type": "display_data"
    },
    {
     "data": {
      "text/plain": [
       "'https://www.ted.com/tedx/events?autocomplete_filter=Central+African+Republic&year=2013&page=1&when=past'"
      ]
     },
     "metadata": {},
     "output_type": "display_data"
    },
    {
     "data": {
      "text/plain": [
       "'https://www.ted.com/tedx/events?autocomplete_filter=British+Indian+Ocean+Territory&year=2012&page=1&when=past'"
      ]
     },
     "metadata": {},
     "output_type": "display_data"
    },
    {
     "data": {
      "text/plain": [
       "'https://www.ted.com/tedx/events?autocomplete_filter=Burkina+Faso&year=2014&page=1&when=past'"
      ]
     },
     "metadata": {},
     "output_type": "display_data"
    },
    {
     "data": {
      "text/plain": [
       "'https://www.ted.com/tedx/events?autocomplete_filter=Cameroon&year=2009&page=1&when=past'"
      ]
     },
     "metadata": {},
     "output_type": "display_data"
    },
    {
     "data": {
      "text/plain": [
       "'https://www.ted.com/tedx/events?autocomplete_filter=Bulgaria&year=2016&page=1&when=past'"
      ]
     },
     "metadata": {},
     "output_type": "display_data"
    },
    {
     "data": {
      "text/plain": [
       "'https://www.ted.com/tedx/events?autocomplete_filter=Burkina+Faso&year=2017&page=1&when=past'"
      ]
     },
     "metadata": {},
     "output_type": "display_data"
    },
    {
     "data": {
      "text/plain": [
       "'https://www.ted.com/tedx/events?autocomplete_filter=Cambodia&year=2017&page=1&when=past'"
      ]
     },
     "metadata": {},
     "output_type": "display_data"
    },
    {
     "data": {
      "text/plain": [
       "'https://www.ted.com/tedx/events?autocomplete_filter=Cameroon&year=2019&page=1&when=past'"
      ]
     },
     "metadata": {},
     "output_type": "display_data"
    },
    {
     "data": {
      "text/plain": [
       "'https://www.ted.com/tedx/events?autocomplete_filter=Bulgaria&year=2017&page=1&when=past'"
      ]
     },
     "metadata": {},
     "output_type": "display_data"
    },
    {
     "data": {
      "text/plain": [
       "'https://www.ted.com/tedx/events?autocomplete_filter=Central+African+Republic&year=2018&page=1&when=past'"
      ]
     },
     "metadata": {},
     "output_type": "display_data"
    },
    {
     "data": {
      "text/plain": [
       "'https://www.ted.com/tedx/events?autocomplete_filter=Cape+Verde&year=2018&page=1&when=past'"
      ]
     },
     "metadata": {},
     "output_type": "display_data"
    },
    {
     "data": {
      "text/plain": [
       "'https://www.ted.com/tedx/events?autocomplete_filter=Cameroon&year=2017&page=1&when=past'"
      ]
     },
     "metadata": {},
     "output_type": "display_data"
    },
    {
     "data": {
      "text/plain": [
       "'https://www.ted.com/tedx/events?autocomplete_filter=Cameroon&year=2018&page=1&when=past'"
      ]
     },
     "metadata": {},
     "output_type": "display_data"
    },
    {
     "data": {
      "text/plain": [
       "'https://www.ted.com/tedx/events?autocomplete_filter=Bulgaria&year=2013&page=1&when=past'"
      ]
     },
     "metadata": {},
     "output_type": "display_data"
    },
    {
     "data": {
      "text/plain": [
       "'https://www.ted.com/tedx/events?autocomplete_filter=British+Indian+Ocean+Territory&year=2019&page=1&when=past'"
      ]
     },
     "metadata": {},
     "output_type": "display_data"
    },
    {
     "data": {
      "text/plain": [
       "'https://www.ted.com/tedx/events?autocomplete_filter=Chad&year=2016&page=1&when=past'"
      ]
     },
     "metadata": {},
     "output_type": "display_data"
    },
    {
     "data": {
      "text/plain": [
       "'https://www.ted.com/tedx/events?autocomplete_filter=Brunei+Darussalam&year=2015&page=1&when=past'"
      ]
     },
     "metadata": {},
     "output_type": "display_data"
    },
    {
     "data": {
      "text/plain": [
       "'https://www.ted.com/tedx/events?autocomplete_filter=Burundi&year=2017&page=1&when=past'"
      ]
     },
     "metadata": {},
     "output_type": "display_data"
    },
    {
     "data": {
      "text/plain": [
       "'https://www.ted.com/tedx/events?autocomplete_filter=Canada&year=2012&page=1&when=past'"
      ]
     },
     "metadata": {},
     "output_type": "display_data"
    },
    {
     "data": {
      "text/plain": [
       "'https://www.ted.com/tedx/events?autocomplete_filter=Burkina+Faso&year=2019&page=1&when=past'"
      ]
     },
     "metadata": {},
     "output_type": "display_data"
    },
    {
     "data": {
      "text/plain": [
       "'https://www.ted.com/tedx/events?autocomplete_filter=Burundi&year=2020&page=1&when=past'"
      ]
     },
     "metadata": {},
     "output_type": "display_data"
    },
    {
     "data": {
      "text/plain": [
       "'https://www.ted.com/tedx/events?autocomplete_filter=Cameroon&year=2020&page=1&when=past'"
      ]
     },
     "metadata": {},
     "output_type": "display_data"
    },
    {
     "data": {
      "text/plain": [
       "'https://www.ted.com/tedx/events?autocomplete_filter=Cape+Verde&year=2010&page=1&when=past'"
      ]
     },
     "metadata": {},
     "output_type": "display_data"
    },
    {
     "data": {
      "text/plain": [
       "'https://www.ted.com/tedx/events?autocomplete_filter=Burkina+Faso&year=2020&page=1&when=past'"
      ]
     },
     "metadata": {},
     "output_type": "display_data"
    },
    {
     "data": {
      "text/plain": [
       "'https://www.ted.com/tedx/events?autocomplete_filter=Chile&year=2009&page=1&when=past'"
      ]
     },
     "metadata": {},
     "output_type": "display_data"
    },
    {
     "data": {
      "text/plain": [
       "'https://www.ted.com/tedx/events?autocomplete_filter=Canada&year=2020&page=1&when=past'"
      ]
     },
     "metadata": {},
     "output_type": "display_data"
    },
    {
     "data": {
      "text/plain": [
       "'https://www.ted.com/tedx/events?autocomplete_filter=Cape+Verde&year=2009&page=1&when=past'"
      ]
     },
     "metadata": {},
     "output_type": "display_data"
    },
    {
     "data": {
      "text/plain": [
       "'https://www.ted.com/tedx/events?autocomplete_filter=Central+African+Republic&year=2009&page=1&when=past'"
      ]
     },
     "metadata": {},
     "output_type": "display_data"
    },
    {
     "data": {
      "text/plain": [
       "'https://www.ted.com/tedx/events?autocomplete_filter=Bulgaria&year=2010&page=1&when=past'"
      ]
     },
     "metadata": {},
     "output_type": "display_data"
    },
    {
     "data": {
      "text/plain": [
       "'https://www.ted.com/tedx/events?autocomplete_filter=Burkina+Faso&year=2016&page=1&when=past'"
      ]
     },
     "metadata": {},
     "output_type": "display_data"
    },
    {
     "data": {
      "text/plain": [
       "'https://www.ted.com/tedx/events?autocomplete_filter=Chile&year=2019&page=1&when=past'"
      ]
     },
     "metadata": {},
     "output_type": "display_data"
    },
    {
     "data": {
      "text/plain": [
       "'https://www.ted.com/tedx/events?autocomplete_filter=Cambodia&year=2020&page=1&when=past'"
      ]
     },
     "metadata": {},
     "output_type": "display_data"
    },
    {
     "data": {
      "text/plain": [
       "'https://www.ted.com/tedx/events?autocomplete_filter=Bulgaria&year=2018&page=1&when=past'"
      ]
     },
     "metadata": {},
     "output_type": "display_data"
    },
    {
     "data": {
      "text/plain": [
       "'https://www.ted.com/tedx/events?autocomplete_filter=Cambodia&year=2010&page=1&when=past'"
      ]
     },
     "metadata": {},
     "output_type": "display_data"
    },
    {
     "data": {
      "text/plain": [
       "'https://www.ted.com/tedx/events?autocomplete_filter=Cape+Verde&year=2015&page=1&when=past'"
      ]
     },
     "metadata": {},
     "output_type": "display_data"
    },
    {
     "data": {
      "text/plain": [
       "'https://www.ted.com/tedx/events?autocomplete_filter=Cameroon&year=2011&page=1&when=past'"
      ]
     },
     "metadata": {},
     "output_type": "display_data"
    },
    {
     "data": {
      "text/plain": [
       "'https://www.ted.com/tedx/events?autocomplete_filter=Cape+Verde&year=2011&page=1&when=past'"
      ]
     },
     "metadata": {},
     "output_type": "display_data"
    },
    {
     "data": {
      "text/plain": [
       "'https://www.ted.com/tedx/events?autocomplete_filter=Cayman+Islands&year=2013&page=1&when=past'"
      ]
     },
     "metadata": {},
     "output_type": "display_data"
    },
    {
     "data": {
      "text/plain": [
       "'https://www.ted.com/tedx/events?autocomplete_filter=Cambodia&year=2011&page=1&when=past'"
      ]
     },
     "metadata": {},
     "output_type": "display_data"
    },
    {
     "data": {
      "text/plain": [
       "'https://www.ted.com/tedx/events?autocomplete_filter=China&year=2012&page=1&when=past'"
      ]
     },
     "metadata": {},
     "output_type": "display_data"
    },
    {
     "data": {
      "text/plain": [
       "'https://www.ted.com/tedx/events?autocomplete_filter=Cayman+Islands&year=2011&page=1&when=past'"
      ]
     },
     "metadata": {},
     "output_type": "display_data"
    },
    {
     "data": {
      "text/plain": [
       "'https://www.ted.com/tedx/events?autocomplete_filter=Cayman+Islands&year=2012&page=1&when=past'"
      ]
     },
     "metadata": {},
     "output_type": "display_data"
    },
    {
     "data": {
      "text/plain": [
       "'https://www.ted.com/tedx/events?autocomplete_filter=Chad&year=2012&page=1&when=past'"
      ]
     },
     "metadata": {},
     "output_type": "display_data"
    },
    {
     "data": {
      "text/plain": [
       "'https://www.ted.com/tedx/events?autocomplete_filter=Burkina+Faso&year=2013&page=1&when=past'"
      ]
     },
     "metadata": {},
     "output_type": "display_data"
    },
    {
     "data": {
      "text/plain": [
       "'https://www.ted.com/tedx/events?autocomplete_filter=Burundi&year=2019&page=1&when=past'"
      ]
     },
     "metadata": {},
     "output_type": "display_data"
    },
    {
     "data": {
      "text/plain": [
       "'https://www.ted.com/tedx/events?autocomplete_filter=Christmas+Island&year=2010&page=1&when=past'"
      ]
     },
     "metadata": {},
     "output_type": "display_data"
    },
    {
     "data": {
      "text/plain": [
       "'https://www.ted.com/tedx/events?autocomplete_filter=Canada&year=2011&page=1&when=past'"
      ]
     },
     "metadata": {},
     "output_type": "display_data"
    },
    {
     "data": {
      "text/plain": [
       "'https://www.ted.com/tedx/events?autocomplete_filter=Burundi&year=2009&page=1&when=past'"
      ]
     },
     "metadata": {},
     "output_type": "display_data"
    },
    {
     "data": {
      "text/plain": [
       "'https://www.ted.com/tedx/events?autocomplete_filter=Cameroon&year=2013&page=1&when=past'"
      ]
     },
     "metadata": {},
     "output_type": "display_data"
    },
    {
     "data": {
      "text/plain": [
       "'https://www.ted.com/tedx/events?autocomplete_filter=Cayman+Islands&year=2018&page=1&when=past'"
      ]
     },
     "metadata": {},
     "output_type": "display_data"
    },
    {
     "data": {
      "text/plain": [
       "'https://www.ted.com/tedx/events?autocomplete_filter=Canada&year=2014&page=1&when=past'"
      ]
     },
     "metadata": {},
     "output_type": "display_data"
    },
    {
     "data": {
      "text/plain": [
       "'https://www.ted.com/tedx/events?autocomplete_filter=Cayman+Islands&year=2014&page=1&when=past'"
      ]
     },
     "metadata": {},
     "output_type": "display_data"
    },
    {
     "data": {
      "text/plain": [
       "'https://www.ted.com/tedx/events?autocomplete_filter=Central+African+Republic&year=2016&page=1&when=past'"
      ]
     },
     "metadata": {},
     "output_type": "display_data"
    },
    {
     "data": {
      "text/plain": [
       "'https://www.ted.com/tedx/events?autocomplete_filter=Cameroon&year=2014&page=1&when=past'"
      ]
     },
     "metadata": {},
     "output_type": "display_data"
    },
    {
     "data": {
      "text/plain": [
       "'https://www.ted.com/tedx/events?autocomplete_filter=Christmas+Island&year=2015&page=1&when=past'"
      ]
     },
     "metadata": {},
     "output_type": "display_data"
    },
    {
     "data": {
      "text/plain": [
       "'https://www.ted.com/tedx/events?autocomplete_filter=Central+African+Republic&year=2014&page=1&when=past'"
      ]
     },
     "metadata": {},
     "output_type": "display_data"
    },
    {
     "data": {
      "text/plain": [
       "'https://www.ted.com/tedx/events?autocomplete_filter=Burundi&year=2016&page=1&when=past'"
      ]
     },
     "metadata": {},
     "output_type": "display_data"
    },
    {
     "data": {
      "text/plain": [
       "'https://www.ted.com/tedx/events?autocomplete_filter=Central+African+Republic&year=2015&page=1&when=past'"
      ]
     },
     "metadata": {},
     "output_type": "display_data"
    },
    {
     "data": {
      "text/plain": [
       "'https://www.ted.com/tedx/events?autocomplete_filter=Chile&year=2015&page=1&when=past'"
      ]
     },
     "metadata": {},
     "output_type": "display_data"
    },
    {
     "data": {
      "text/plain": [
       "'https://www.ted.com/tedx/events?autocomplete_filter=Cameroon&year=2010&page=1&when=past'"
      ]
     },
     "metadata": {},
     "output_type": "display_data"
    },
    {
     "data": {
      "text/plain": [
       "'https://www.ted.com/tedx/events?autocomplete_filter=Cocos+(keeling)+Islands&year=2013&page=1&when=past'"
      ]
     },
     "metadata": {},
     "output_type": "display_data"
    },
    {
     "data": {
      "text/plain": [
       "'https://www.ted.com/tedx/events?autocomplete_filter=Cambodia&year=2012&page=1&when=past'"
      ]
     },
     "metadata": {},
     "output_type": "display_data"
    },
    {
     "data": {
      "text/plain": [
       "'https://www.ted.com/tedx/events?autocomplete_filter=Cape+Verde&year=2014&page=1&when=past'"
      ]
     },
     "metadata": {},
     "output_type": "display_data"
    },
    {
     "data": {
      "text/plain": [
       "'https://www.ted.com/tedx/events?autocomplete_filter=Chad&year=2009&page=1&when=past'"
      ]
     },
     "metadata": {},
     "output_type": "display_data"
    },
    {
     "data": {
      "text/plain": [
       "'https://www.ted.com/tedx/events?autocomplete_filter=Canada&year=2016&page=1&when=past'"
      ]
     },
     "metadata": {},
     "output_type": "display_data"
    },
    {
     "data": {
      "text/plain": [
       "'https://www.ted.com/tedx/events?autocomplete_filter=Cape+Verde&year=2017&page=1&when=past'"
      ]
     },
     "metadata": {},
     "output_type": "display_data"
    },
    {
     "data": {
      "text/plain": [
       "'https://www.ted.com/tedx/events?autocomplete_filter=Central+African+Republic&year=2017&page=1&when=past'"
      ]
     },
     "metadata": {},
     "output_type": "display_data"
    },
    {
     "data": {
      "text/plain": [
       "'https://www.ted.com/tedx/events?autocomplete_filter=Chad&year=2019&page=1&when=past'"
      ]
     },
     "metadata": {},
     "output_type": "display_data"
    },
    {
     "data": {
      "text/plain": [
       "'https://www.ted.com/tedx/events?autocomplete_filter=Canada&year=2017&page=1&when=past'"
      ]
     },
     "metadata": {},
     "output_type": "display_data"
    },
    {
     "data": {
      "text/plain": [
       "'https://www.ted.com/tedx/events?autocomplete_filter=Cocos+(keeling)+Islands&year=2018&page=1&when=past'"
      ]
     },
     "metadata": {},
     "output_type": "display_data"
    },
    {
     "data": {
      "text/plain": [
       "'https://www.ted.com/tedx/events?autocomplete_filter=Chad&year=2017&page=1&when=past'"
      ]
     },
     "metadata": {},
     "output_type": "display_data"
    },
    {
     "data": {
      "text/plain": [
       "'https://www.ted.com/tedx/events?autocomplete_filter=Cambodia&year=2019&page=1&when=past'"
      ]
     },
     "metadata": {},
     "output_type": "display_data"
    },
    {
     "data": {
      "text/plain": [
       "'https://www.ted.com/tedx/events?autocomplete_filter=Chad&year=2018&page=1&when=past'"
      ]
     },
     "metadata": {},
     "output_type": "display_data"
    },
    {
     "data": {
      "text/plain": [
       "'https://www.ted.com/tedx/events?autocomplete_filter=China&year=2018&page=1&when=past'"
      ]
     },
     "metadata": {},
     "output_type": "display_data"
    },
    {
     "data": {
      "text/plain": [
       "'https://www.ted.com/tedx/events?autocomplete_filter=Canada&year=2013&page=1&when=past'"
      ]
     },
     "metadata": {},
     "output_type": "display_data"
    },
    {
     "data": {
      "text/plain": [
       "'https://www.ted.com/tedx/events?autocomplete_filter=Colombia&year=2016&page=1&when=past'"
      ]
     },
     "metadata": {},
     "output_type": "display_data"
    },
    {
     "data": {
      "text/plain": [
       "'https://www.ted.com/tedx/events?autocomplete_filter=Cameroon&year=2015&page=1&when=past'"
      ]
     },
     "metadata": {},
     "output_type": "display_data"
    },
    {
     "data": {
      "text/plain": [
       "'https://www.ted.com/tedx/events?autocomplete_filter=Cayman+Islands&year=2017&page=1&when=past'"
      ]
     },
     "metadata": {},
     "output_type": "display_data"
    },
    {
     "data": {
      "text/plain": [
       "'https://www.ted.com/tedx/events?autocomplete_filter=Cape+Verde&year=2019&page=1&when=past'"
      ]
     },
     "metadata": {},
     "output_type": "display_data"
    },
    {
     "data": {
      "text/plain": [
       "'https://www.ted.com/tedx/events?autocomplete_filter=Chile&year=2012&page=1&when=past'"
      ]
     },
     "metadata": {},
     "output_type": "display_data"
    },
    {
     "data": {
      "text/plain": [
       "'https://www.ted.com/tedx/events?autocomplete_filter=Cayman+Islands&year=2020&page=1&when=past'"
      ]
     },
     "metadata": {},
     "output_type": "display_data"
    },
    {
     "data": {
      "text/plain": [
       "'https://www.ted.com/tedx/events?autocomplete_filter=Chad&year=2020&page=1&when=past'"
      ]
     },
     "metadata": {},
     "output_type": "display_data"
    },
    {
     "data": {
      "text/plain": [
       "'https://www.ted.com/tedx/events?autocomplete_filter=China&year=2010&page=1&when=past'"
      ]
     },
     "metadata": {},
     "output_type": "display_data"
    },
    {
     "data": {
      "text/plain": [
       "'https://www.ted.com/tedx/events?autocomplete_filter=Cape+Verde&year=2020&page=1&when=past'"
      ]
     },
     "metadata": {},
     "output_type": "display_data"
    },
    {
     "data": {
      "text/plain": [
       "'https://www.ted.com/tedx/events?autocomplete_filter=Comoros&year=2009&page=1&when=past'"
      ]
     },
     "metadata": {},
     "output_type": "display_data"
    },
    {
     "data": {
      "text/plain": [
       "'https://www.ted.com/tedx/events?autocomplete_filter=Chile&year=2020&page=1&when=past'"
      ]
     },
     "metadata": {},
     "output_type": "display_data"
    },
    {
     "data": {
      "text/plain": [
       "'https://www.ted.com/tedx/events?autocomplete_filter=China&year=2009&page=1&when=past'"
      ]
     },
     "metadata": {},
     "output_type": "display_data"
    },
    {
     "data": {
      "text/plain": [
       "'https://www.ted.com/tedx/events?autocomplete_filter=Canada&year=2010&page=1&when=past'"
      ]
     },
     "metadata": {},
     "output_type": "display_data"
    },
    {
     "data": {
      "text/plain": [
       "'https://www.ted.com/tedx/events?autocomplete_filter=Cocos+(keeling)+Islands&year=2009&page=1&when=past'"
      ]
     },
     "metadata": {},
     "output_type": "display_data"
    },
    {
     "data": {
      "text/plain": [
       "'https://www.ted.com/tedx/events?autocomplete_filter=Cape+Verde&year=2016&page=1&when=past'"
      ]
     },
     "metadata": {},
     "output_type": "display_data"
    },
    {
     "data": {
      "text/plain": [
       "'https://www.ted.com/tedx/events?autocomplete_filter=Comoros&year=2019&page=1&when=past'"
      ]
     },
     "metadata": {},
     "output_type": "display_data"
    },
    {
     "data": {
      "text/plain": [
       "'https://www.ted.com/tedx/events?autocomplete_filter=Canada&year=2018&page=1&when=past'"
      ]
     },
     "metadata": {},
     "output_type": "display_data"
    },
    {
     "data": {
      "text/plain": [
       "'https://www.ted.com/tedx/events?autocomplete_filter=Central+African+Republic&year=2020&page=1&when=past'"
      ]
     },
     "metadata": {},
     "output_type": "display_data"
    },
    {
     "data": {
      "text/plain": [
       "'https://www.ted.com/tedx/events?autocomplete_filter=Central+African+Republic&year=2010&page=1&when=past'"
      ]
     },
     "metadata": {},
     "output_type": "display_data"
    },
    {
     "data": {
      "text/plain": [
       "'https://www.ted.com/tedx/events?autocomplete_filter=China&year=2015&page=1&when=past'"
      ]
     },
     "metadata": {},
     "output_type": "display_data"
    },
    {
     "data": {
      "text/plain": [
       "'https://www.ted.com/tedx/events?autocomplete_filter=Chad&year=2011&page=1&when=past'"
      ]
     },
     "metadata": {},
     "output_type": "display_data"
    },
    {
     "data": {
      "text/plain": [
       "'https://www.ted.com/tedx/events?autocomplete_filter=China&year=2011&page=1&when=past'"
      ]
     },
     "metadata": {},
     "output_type": "display_data"
    },
    {
     "data": {
      "text/plain": [
       "'https://www.ted.com/tedx/events?autocomplete_filter=Christmas+Island&year=2013&page=1&when=past'"
      ]
     },
     "metadata": {},
     "output_type": "display_data"
    },
    {
     "data": {
      "text/plain": [
       "'https://www.ted.com/tedx/events?autocomplete_filter=Central+African+Republic&year=2011&page=1&when=past'"
      ]
     },
     "metadata": {},
     "output_type": "display_data"
    },
    {
     "data": {
      "text/plain": [
       "'https://www.ted.com/tedx/events?autocomplete_filter=Congo&year=2012&page=1&when=past'"
      ]
     },
     "metadata": {},
     "output_type": "display_data"
    },
    {
     "data": {
      "text/plain": [
       "'https://www.ted.com/tedx/events?autocomplete_filter=Christmas+Island&year=2011&page=1&when=past'"
      ]
     },
     "metadata": {},
     "output_type": "display_data"
    },
    {
     "data": {
      "text/plain": [
       "'https://www.ted.com/tedx/events?autocomplete_filter=Christmas+Island&year=2012&page=1&when=past'"
      ]
     },
     "metadata": {},
     "output_type": "display_data"
    },
    {
     "data": {
      "text/plain": [
       "'https://www.ted.com/tedx/events?autocomplete_filter=Cape+Verde&year=2013&page=1&when=past'"
      ]
     },
     "metadata": {},
     "output_type": "display_data"
    },
    {
     "data": {
      "text/plain": [
       "'https://www.ted.com/tedx/events?autocomplete_filter=Colombia&year=2012&page=1&when=past'"
      ]
     },
     "metadata": {},
     "output_type": "display_data"
    },
    {
     "data": {
      "text/plain": [
       "'https://www.ted.com/tedx/events?autocomplete_filter=Cayman+Islands&year=2019&page=1&when=past'"
      ]
     },
     "metadata": {},
     "output_type": "display_data"
    },
    {
     "data": {
      "text/plain": [
       "'https://www.ted.com/tedx/events?autocomplete_filter=Congo,+The+Democratic+Republic+Of+The&year=2010&page=1&when=past'"
      ]
     },
     "metadata": {},
     "output_type": "display_data"
    },
    {
     "data": {
      "text/plain": [
       "'https://www.ted.com/tedx/events?autocomplete_filter=Cayman+Islands&year=2009&page=1&when=past'"
      ]
     },
     "metadata": {},
     "output_type": "display_data"
    },
    {
     "data": {
      "text/plain": [
       "'https://www.ted.com/tedx/events?autocomplete_filter=Chile&year=2011&page=1&when=past'"
      ]
     },
     "metadata": {},
     "output_type": "display_data"
    },
    {
     "data": {
      "text/plain": [
       "'https://www.ted.com/tedx/events?autocomplete_filter=Chad&year=2013&page=1&when=past'"
      ]
     },
     "metadata": {},
     "output_type": "display_data"
    },
    {
     "data": {
      "text/plain": [
       "'https://www.ted.com/tedx/events?autocomplete_filter=Christmas+Island&year=2018&page=1&when=past'"
      ]
     },
     "metadata": {},
     "output_type": "display_data"
    },
    {
     "data": {
      "text/plain": [
       "'https://www.ted.com/tedx/events?autocomplete_filter=Chile&year=2014&page=1&when=past'"
      ]
     },
     "metadata": {},
     "output_type": "display_data"
    },
    {
     "data": {
      "text/plain": [
       "'https://www.ted.com/tedx/events?autocomplete_filter=Christmas+Island&year=2014&page=1&when=past'"
      ]
     },
     "metadata": {},
     "output_type": "display_data"
    },
    {
     "data": {
      "text/plain": [
       "'https://www.ted.com/tedx/events?autocomplete_filter=Chad&year=2014&page=1&when=past'"
      ]
     },
     "metadata": {},
     "output_type": "display_data"
    },
    {
     "data": {
      "text/plain": [
       "'https://www.ted.com/tedx/events?autocomplete_filter=Cocos+(keeling)+Islands&year=2016&page=1&when=past'"
      ]
     },
     "metadata": {},
     "output_type": "display_data"
    },
    {
     "data": {
      "text/plain": [
       "'https://www.ted.com/tedx/events?autocomplete_filter=Congo,+The+Democratic+Republic+Of+The&year=2015&page=1&when=past'"
      ]
     },
     "metadata": {},
     "output_type": "display_data"
    },
    {
     "data": {
      "text/plain": [
       "'https://www.ted.com/tedx/events?autocomplete_filter=Cocos+(keeling)+Islands&year=2014&page=1&when=past'"
      ]
     },
     "metadata": {},
     "output_type": "display_data"
    },
    {
     "data": {
      "text/plain": [
       "'https://www.ted.com/tedx/events?autocomplete_filter=Cocos+(keeling)+Islands&year=2015&page=1&when=past'"
      ]
     },
     "metadata": {},
     "output_type": "display_data"
    },
    {
     "data": {
      "text/plain": [
       "'https://www.ted.com/tedx/events?autocomplete_filter=Cayman+Islands&year=2016&page=1&when=past'"
      ]
     },
     "metadata": {},
     "output_type": "display_data"
    },
    {
     "data": {
      "text/plain": [
       "'https://www.ted.com/tedx/events?autocomplete_filter=Comoros&year=2015&page=1&when=past'"
      ]
     },
     "metadata": {},
     "output_type": "display_data"
    },
    {
     "data": {
      "text/plain": [
       "'https://www.ted.com/tedx/events?autocomplete_filter=Chad&year=2010&page=1&when=past'"
      ]
     },
     "metadata": {},
     "output_type": "display_data"
    },
    {
     "data": {
      "text/plain": [
       "'https://www.ted.com/tedx/events?autocomplete_filter=Cook+Islands&year=2013&page=1&when=past'"
      ]
     },
     "metadata": {},
     "output_type": "display_data"
    },
    {
     "data": {
      "text/plain": [
       "'https://www.ted.com/tedx/events?autocomplete_filter=Central+African+Republic&year=2012&page=1&when=past'"
      ]
     },
     "metadata": {},
     "output_type": "display_data"
    },
    {
     "data": {
      "text/plain": [
       "'https://www.ted.com/tedx/events?autocomplete_filter=Chile&year=2016&page=1&when=past'"
      ]
     },
     "metadata": {},
     "output_type": "display_data"
    },
    {
     "data": {
      "text/plain": [
       "'https://www.ted.com/tedx/events?autocomplete_filter=China&year=2014&page=1&when=past'"
      ]
     },
     "metadata": {},
     "output_type": "display_data"
    },
    {
     "data": {
      "text/plain": [
       "'https://www.ted.com/tedx/events?autocomplete_filter=Colombia&year=2009&page=1&when=past'"
      ]
     },
     "metadata": {},
     "output_type": "display_data"
    },
    {
     "data": {
      "text/plain": [
       "'https://www.ted.com/tedx/events?autocomplete_filter=Cocos+(keeling)+Islands&year=2017&page=1&when=past'"
      ]
     },
     "metadata": {},
     "output_type": "display_data"
    },
    {
     "data": {
      "text/plain": [
       "'https://www.ted.com/tedx/events?autocomplete_filter=China&year=2017&page=1&when=past'"
      ]
     },
     "metadata": {},
     "output_type": "display_data"
    },
    {
     "data": {
      "text/plain": [
       "'https://www.ted.com/tedx/events?autocomplete_filter=Colombia&year=2019&page=1&when=past'"
      ]
     },
     "metadata": {},
     "output_type": "display_data"
    },
    {
     "data": {
      "text/plain": [
       "'https://www.ted.com/tedx/events?autocomplete_filter=Chile&year=2017&page=1&when=past'"
      ]
     },
     "metadata": {},
     "output_type": "display_data"
    },
    {
     "data": {
      "text/plain": [
       "'https://www.ted.com/tedx/events?autocomplete_filter=Cook+Islands&year=2018&page=1&when=past'"
      ]
     },
     "metadata": {},
     "output_type": "display_data"
    },
    {
     "data": {
      "text/plain": [
       "'https://www.ted.com/tedx/events?autocomplete_filter=Colombia&year=2017&page=1&when=past'"
      ]
     },
     "metadata": {},
     "output_type": "display_data"
    },
    {
     "data": {
      "text/plain": [
       "'https://www.ted.com/tedx/events?autocomplete_filter=Colombia&year=2018&page=1&when=past'"
      ]
     },
     "metadata": {},
     "output_type": "display_data"
    },
    {
     "data": {
      "text/plain": [
       "'https://www.ted.com/tedx/events?autocomplete_filter=Central+African+Republic&year=2019&page=1&when=past'"
      ]
     },
     "metadata": {},
     "output_type": "display_data"
    },
    {
     "data": {
      "text/plain": [
       "'https://www.ted.com/tedx/events?autocomplete_filter=Congo&year=2018&page=1&when=past'"
      ]
     },
     "metadata": {},
     "output_type": "display_data"
    },
    {
     "data": {
      "text/plain": [
       "'https://www.ted.com/tedx/events?autocomplete_filter=Chile&year=2013&page=1&when=past'"
      ]
     },
     "metadata": {},
     "output_type": "display_data"
    },
    {
     "data": {
      "text/plain": [
       "'https://www.ted.com/tedx/events?autocomplete_filter=Costa+Rica&year=2016&page=1&when=past'"
      ]
     },
     "metadata": {},
     "output_type": "display_data"
    },
    {
     "data": {
      "text/plain": [
       "'https://www.ted.com/tedx/events?autocomplete_filter=Chad&year=2015&page=1&when=past'"
      ]
     },
     "metadata": {},
     "output_type": "display_data"
    },
    {
     "data": {
      "text/plain": [
       "'https://www.ted.com/tedx/events?autocomplete_filter=Christmas+Island&year=2017&page=1&when=past'"
      ]
     },
     "metadata": {},
     "output_type": "display_data"
    },
    {
     "data": {
      "text/plain": [
       "'https://www.ted.com/tedx/events?autocomplete_filter=China&year=2019&page=1&when=past'"
      ]
     },
     "metadata": {},
     "output_type": "display_data"
    },
    {
     "data": {
      "text/plain": [
       "'https://www.ted.com/tedx/events?autocomplete_filter=Comoros&year=2012&page=1&when=past'"
      ]
     },
     "metadata": {},
     "output_type": "display_data"
    },
    {
     "data": {
      "text/plain": [
       "'https://www.ted.com/tedx/events?autocomplete_filter=Colombia&year=2020&page=1&when=past'"
      ]
     },
     "metadata": {},
     "output_type": "display_data"
    },
    {
     "data": {
      "text/plain": [
       "'https://www.ted.com/tedx/events?autocomplete_filter=Christmas+Island&year=2020&page=1&when=past'"
      ]
     },
     "metadata": {},
     "output_type": "display_data"
    },
    {
     "data": {
      "text/plain": [
       "'https://www.ted.com/tedx/events?autocomplete_filter=China&year=2020&page=1&when=past'"
      ]
     },
     "metadata": {},
     "output_type": "display_data"
    },
    {
     "data": {
      "text/plain": [
       "'https://www.ted.com/tedx/events?autocomplete_filter=Congo&year=2010&page=1&when=past'"
      ]
     },
     "metadata": {},
     "output_type": "display_data"
    },
    {
     "data": {
      "text/plain": [
       "\"https://www.ted.com/tedx/events?autocomplete_filter=Cote+D'ivoire&year=2009&page=1&when=past\""
      ]
     },
     "metadata": {},
     "output_type": "display_data"
    },
    {
     "data": {
      "text/plain": [
       "'https://www.ted.com/tedx/events?autocomplete_filter=Comoros&year=2020&page=1&when=past'"
      ]
     },
     "metadata": {},
     "output_type": "display_data"
    },
    {
     "data": {
      "text/plain": [
       "'https://www.ted.com/tedx/events?autocomplete_filter=Congo&year=2009&page=1&when=past'"
      ]
     },
     "metadata": {},
     "output_type": "display_data"
    },
    {
     "data": {
      "text/plain": [
       "'https://www.ted.com/tedx/events?autocomplete_filter=Chile&year=2010&page=1&when=past'"
      ]
     },
     "metadata": {},
     "output_type": "display_data"
    },
    {
     "data": {
      "text/plain": [
       "'https://www.ted.com/tedx/events?autocomplete_filter=China&year=2016&page=1&when=past'"
      ]
     },
     "metadata": {},
     "output_type": "display_data"
    },
    {
     "data": {
      "text/plain": [
       "'https://www.ted.com/tedx/events?autocomplete_filter=Cook+Islands&year=2009&page=1&when=past'"
      ]
     },
     "metadata": {},
     "output_type": "display_data"
    },
    {
     "data": {
      "text/plain": [
       "\"https://www.ted.com/tedx/events?autocomplete_filter=Cote+D'ivoire&year=2019&page=1&when=past\""
      ]
     },
     "metadata": {},
     "output_type": "display_data"
    },
    {
     "data": {
      "text/plain": [
       "'https://www.ted.com/tedx/events?autocomplete_filter=Chile&year=2018&page=1&when=past'"
      ]
     },
     "metadata": {},
     "output_type": "display_data"
    },
    {
     "data": {
      "text/plain": [
       "'https://www.ted.com/tedx/events?autocomplete_filter=Cocos+(keeling)+Islands&year=2010&page=1&when=past'"
      ]
     },
     "metadata": {},
     "output_type": "display_data"
    },
    {
     "data": {
      "text/plain": [
       "'https://www.ted.com/tedx/events?autocomplete_filter=Cocos+(keeling)+Islands&year=2020&page=1&when=past'"
      ]
     },
     "metadata": {},
     "output_type": "display_data"
    },
    {
     "data": {
      "text/plain": [
       "'https://www.ted.com/tedx/events?autocomplete_filter=Congo&year=2015&page=1&when=past'"
      ]
     },
     "metadata": {},
     "output_type": "display_data"
    },
    {
     "data": {
      "text/plain": [
       "'https://www.ted.com/tedx/events?autocomplete_filter=Congo&year=2011&page=1&when=past'"
      ]
     },
     "metadata": {},
     "output_type": "display_data"
    },
    {
     "data": {
      "text/plain": [
       "'https://www.ted.com/tedx/events?autocomplete_filter=Colombia&year=2011&page=1&when=past'"
      ]
     },
     "metadata": {},
     "output_type": "display_data"
    },
    {
     "data": {
      "text/plain": [
       "'https://www.ted.com/tedx/events?autocomplete_filter=Congo,+The+Democratic+Republic+Of+The&year=2013&page=1&when=past'"
      ]
     },
     "metadata": {},
     "output_type": "display_data"
    },
    {
     "data": {
      "text/plain": [
       "'https://www.ted.com/tedx/events?autocomplete_filter=Cocos+(keeling)+Islands&year=2011&page=1&when=past'"
      ]
     },
     "metadata": {},
     "output_type": "display_data"
    },
    {
     "data": {
      "text/plain": [
       "'https://www.ted.com/tedx/events?autocomplete_filter=Croatia&year=2012&page=1&when=past'"
      ]
     },
     "metadata": {},
     "output_type": "display_data"
    },
    {
     "data": {
      "text/plain": [
       "'https://www.ted.com/tedx/events?autocomplete_filter=Congo,+The+Democratic+Republic+Of+The&year=2011&page=1&when=past'"
      ]
     },
     "metadata": {},
     "output_type": "display_data"
    },
    {
     "data": {
      "text/plain": [
       "'https://www.ted.com/tedx/events?autocomplete_filter=China&year=2013&page=1&when=past'"
      ]
     },
     "metadata": {},
     "output_type": "display_data"
    },
    {
     "data": {
      "text/plain": [
       "'https://www.ted.com/tedx/events?autocomplete_filter=Congo,+The+Democratic+Republic+Of+The&year=2012&page=1&when=past'"
      ]
     },
     "metadata": {},
     "output_type": "display_data"
    },
    {
     "data": {
      "text/plain": [
       "'https://www.ted.com/tedx/events?autocomplete_filter=Christmas+Island&year=2019&page=1&when=past'"
      ]
     },
     "metadata": {},
     "output_type": "display_data"
    },
    {
     "data": {
      "text/plain": [
       "'https://www.ted.com/tedx/events?autocomplete_filter=Costa+Rica&year=2012&page=1&when=past'"
      ]
     },
     "metadata": {},
     "output_type": "display_data"
    },
    {
     "data": {
      "text/plain": [
       "'https://www.ted.com/tedx/events?autocomplete_filter=Cuba&year=2010&page=1&when=past'"
      ]
     },
     "metadata": {},
     "output_type": "display_data"
    },
    {
     "data": {
      "text/plain": [
       "'https://www.ted.com/tedx/events?autocomplete_filter=Colombia&year=2013&page=1&when=past'"
      ]
     },
     "metadata": {},
     "output_type": "display_data"
    },
    {
     "data": {
      "text/plain": [
       "'https://www.ted.com/tedx/events?autocomplete_filter=Comoros&year=2011&page=1&when=past'"
      ]
     },
     "metadata": {},
     "output_type": "display_data"
    },
    {
     "data": {
      "text/plain": [
       "'https://www.ted.com/tedx/events?autocomplete_filter=Christmas+Island&year=2009&page=1&when=past'"
      ]
     },
     "metadata": {},
     "output_type": "display_data"
    },
    {
     "data": {
      "text/plain": [
       "'https://www.ted.com/tedx/events?autocomplete_filter=Congo,+The+Democratic+Republic+Of+The&year=2018&page=1&when=past'"
      ]
     },
     "metadata": {},
     "output_type": "display_data"
    },
    {
     "data": {
      "text/plain": [
       "'https://www.ted.com/tedx/events?autocomplete_filter=Congo,+The+Democratic+Republic+Of+The&year=2014&page=1&when=past'"
      ]
     },
     "metadata": {},
     "output_type": "display_data"
    },
    {
     "data": {
      "text/plain": [
       "'https://www.ted.com/tedx/events?autocomplete_filter=Comoros&year=2014&page=1&when=past'"
      ]
     },
     "metadata": {},
     "output_type": "display_data"
    },
    {
     "data": {
      "text/plain": [
       "'https://www.ted.com/tedx/events?autocomplete_filter=Colombia&year=2014&page=1&when=past'"
      ]
     },
     "metadata": {},
     "output_type": "display_data"
    },
    {
     "data": {
      "text/plain": [
       "'https://www.ted.com/tedx/events?autocomplete_filter=Cook+Islands&year=2016&page=1&when=past'"
      ]
     },
     "metadata": {},
     "output_type": "display_data"
    },
    {
     "data": {
      "text/plain": [
       "'https://www.ted.com/tedx/events?autocomplete_filter=Cuba&year=2015&page=1&when=past'"
      ]
     },
     "metadata": {},
     "output_type": "display_data"
    },
    {
     "data": {
      "text/plain": [
       "'https://www.ted.com/tedx/events?autocomplete_filter=Cook+Islands&year=2014&page=1&when=past'"
      ]
     },
     "metadata": {},
     "output_type": "display_data"
    },
    {
     "data": {
      "text/plain": [
       "'https://www.ted.com/tedx/events?autocomplete_filter=Christmas+Island&year=2016&page=1&when=past'"
      ]
     },
     "metadata": {},
     "output_type": "display_data"
    },
    {
     "data": {
      "text/plain": [
       "'https://www.ted.com/tedx/events?autocomplete_filter=Cyprus&year=2013&page=1&when=past'"
      ]
     },
     "metadata": {},
     "output_type": "display_data"
    },
    {
     "data": {
      "text/plain": [
       "\"https://www.ted.com/tedx/events?autocomplete_filter=Cote+D'ivoire&year=2015&page=1&when=past\""
      ]
     },
     "metadata": {},
     "output_type": "display_data"
    },
    {
     "data": {
      "text/plain": [
       "'https://www.ted.com/tedx/events?autocomplete_filter=Congo&year=2014&page=1&when=past'"
      ]
     },
     "metadata": {},
     "output_type": "display_data"
    },
    {
     "data": {
      "text/plain": [
       "'https://www.ted.com/tedx/events?autocomplete_filter=Costa+Rica&year=2009&page=1&when=past'"
      ]
     },
     "metadata": {},
     "output_type": "display_data"
    },
    {
     "data": {
      "text/plain": [
       "'https://www.ted.com/tedx/events?autocomplete_filter=Cook+Islands&year=2015&page=1&when=past'"
      ]
     },
     "metadata": {},
     "output_type": "display_data"
    },
    {
     "data": {
      "text/plain": [
       "'https://www.ted.com/tedx/events?autocomplete_filter=Comoros&year=2016&page=1&when=past'"
      ]
     },
     "metadata": {},
     "output_type": "display_data"
    },
    {
     "data": {
      "text/plain": [
       "'https://www.ted.com/tedx/events?autocomplete_filter=Cocos+(keeling)+Islands&year=2012&page=1&when=past'"
      ]
     },
     "metadata": {},
     "output_type": "display_data"
    },
    {
     "data": {
      "text/plain": [
       "'https://www.ted.com/tedx/events?autocomplete_filter=Colombia&year=2010&page=1&when=past'"
      ]
     },
     "metadata": {},
     "output_type": "display_data"
    },
    {
     "data": {
      "text/plain": [
       "'https://www.ted.com/tedx/events?autocomplete_filter=Cook+Islands&year=2017&page=1&when=past'"
      ]
     },
     "metadata": {},
     "output_type": "display_data"
    },
    {
     "data": {
      "text/plain": [
       "'https://www.ted.com/tedx/events?autocomplete_filter=Congo&year=2017&page=1&when=past'"
      ]
     },
     "metadata": {},
     "output_type": "display_data"
    },
    {
     "data": {
      "text/plain": [
       "'https://www.ted.com/tedx/events?autocomplete_filter=Costa+Rica&year=2019&page=1&when=past'"
      ]
     },
     "metadata": {},
     "output_type": "display_data"
    },
    {
     "data": {
      "text/plain": [
       "'https://www.ted.com/tedx/events?autocomplete_filter=Cocos+(keeling)+Islands&year=2019&page=1&when=past'"
      ]
     },
     "metadata": {},
     "output_type": "display_data"
    },
    {
     "data": {
      "text/plain": [
       "'https://www.ted.com/tedx/events?autocomplete_filter=Croatia&year=2018&page=1&when=past'"
      ]
     },
     "metadata": {},
     "output_type": "display_data"
    },
    {
     "data": {
      "text/plain": [
       "\"https://www.ted.com/tedx/events?autocomplete_filter=Cote+D'ivoire&year=2012&page=1&when=past\""
      ]
     },
     "metadata": {},
     "output_type": "display_data"
    },
    {
     "data": {
      "text/plain": [
       "'https://www.ted.com/tedx/events?autocomplete_filter=Congo,+The+Democratic+Republic+Of+The&year=2017&page=1&when=past'"
      ]
     },
     "metadata": {},
     "output_type": "display_data"
    },
    {
     "data": {
      "text/plain": [
       "'https://www.ted.com/tedx/events?autocomplete_filter=Costa+Rica&year=2018&page=1&when=past'"
      ]
     },
     "metadata": {},
     "output_type": "display_data"
    },
    {
     "data": {
      "text/plain": [
       "'https://www.ted.com/tedx/events?autocomplete_filter=Costa+Rica&year=2020&page=1&when=past'"
      ]
     },
     "metadata": {},
     "output_type": "display_data"
    },
    {
     "data": {
      "text/plain": [
       "'https://www.ted.com/tedx/events?autocomplete_filter=Colombia&year=2015&page=1&when=past'"
      ]
     },
     "metadata": {},
     "output_type": "display_data"
    },
    {
     "data": {
      "text/plain": [
       "'https://www.ted.com/tedx/events?autocomplete_filter=Congo&year=2019&page=1&when=past'"
      ]
     },
     "metadata": {},
     "output_type": "display_data"
    },
    {
     "data": {
      "text/plain": [
       "'https://www.ted.com/tedx/events?autocomplete_filter=Comoros&year=2017&page=1&when=past'"
      ]
     },
     "metadata": {},
     "output_type": "display_data"
    },
    {
     "data": {
      "text/plain": [
       "'https://www.ted.com/tedx/events?autocomplete_filter=Costa+Rica&year=2017&page=1&when=past'"
      ]
     },
     "metadata": {},
     "output_type": "display_data"
    },
    {
     "data": {
      "text/plain": [
       "'https://www.ted.com/tedx/events?autocomplete_filter=Czech+Republic&year=2016&page=1&when=past'"
      ]
     },
     "metadata": {},
     "output_type": "display_data"
    },
    {
     "data": {
      "text/plain": [
       "'https://www.ted.com/tedx/events?autocomplete_filter=Cyprus&year=2018&page=1&when=past'"
      ]
     },
     "metadata": {},
     "output_type": "display_data"
    },
    {
     "data": {
      "text/plain": [
       "'https://www.ted.com/tedx/events?autocomplete_filter=Congo,+The+Democratic+Republic+Of+The&year=2020&page=1&when=past'"
      ]
     },
     "metadata": {},
     "output_type": "display_data"
    },
    {
     "data": {
      "text/plain": [
       "'https://www.ted.com/tedx/events?autocomplete_filter=Comoros&year=2013&page=1&when=past'"
      ]
     },
     "metadata": {},
     "output_type": "display_data"
    },
    {
     "data": {
      "text/plain": [
       "'https://www.ted.com/tedx/events?autocomplete_filter=Croatia&year=2010&page=1&when=past'"
      ]
     },
     "metadata": {},
     "output_type": "display_data"
    },
    {
     "data": {
      "text/plain": [
       "'https://www.ted.com/tedx/events?autocomplete_filter=Comoros&year=2010&page=1&when=past'"
      ]
     },
     "metadata": {},
     "output_type": "display_data"
    },
    {
     "data": {
      "text/plain": [
       "'https://www.ted.com/tedx/events?autocomplete_filter=Cyprus&year=2009&page=1&when=past'"
      ]
     },
     "metadata": {},
     "output_type": "display_data"
    },
    {
     "data": {
      "text/plain": [
       "'https://www.ted.com/tedx/events?autocomplete_filter=Croatia&year=2015&page=1&when=past'"
      ]
     },
     "metadata": {},
     "output_type": "display_data"
    },
    {
     "data": {
      "text/plain": [
       "'https://www.ted.com/tedx/events?autocomplete_filter=Croatia&year=2009&page=1&when=past'"
      ]
     },
     "metadata": {},
     "output_type": "display_data"
    },
    {
     "data": {
      "text/plain": [
       "'https://www.ted.com/tedx/events?autocomplete_filter=Cook+Islands&year=2020&page=1&when=past'"
      ]
     },
     "metadata": {},
     "output_type": "display_data"
    },
    {
     "data": {
      "text/plain": [
       "'https://www.ted.com/tedx/events?autocomplete_filter=Croatia&year=2011&page=1&when=past'"
      ]
     },
     "metadata": {},
     "output_type": "display_data"
    },
    {
     "data": {
      "text/plain": [
       "'https://www.ted.com/tedx/events?autocomplete_filter=Cook+Islands&year=2010&page=1&when=past'"
      ]
     },
     "metadata": {},
     "output_type": "display_data"
    },
    {
     "data": {
      "text/plain": [
       "'https://www.ted.com/tedx/events?autocomplete_filter=Comoros&year=2018&page=1&when=past'"
      ]
     },
     "metadata": {},
     "output_type": "display_data"
    },
    {
     "data": {
      "text/plain": [
       "'https://www.ted.com/tedx/events?autocomplete_filter=Denmark&year=2019&page=1&when=past'"
      ]
     },
     "metadata": {},
     "output_type": "display_data"
    },
    {
     "data": {
      "text/plain": [
       "\"https://www.ted.com/tedx/events?autocomplete_filter=Cote+D'ivoire&year=2020&page=1&when=past\""
      ]
     },
     "metadata": {},
     "output_type": "display_data"
    },
    {
     "data": {
      "text/plain": [
       "'https://www.ted.com/tedx/events?autocomplete_filter=Congo&year=2020&page=1&when=past'"
      ]
     },
     "metadata": {},
     "output_type": "display_data"
    },
    {
     "data": {
      "text/plain": [
       "'https://www.ted.com/tedx/events?autocomplete_filter=Congo&year=2016&page=1&when=past'"
      ]
     },
     "metadata": {},
     "output_type": "display_data"
    },
    {
     "data": {
      "text/plain": [
       "'https://www.ted.com/tedx/events?autocomplete_filter=Cuba&year=2013&page=1&when=past'"
      ]
     },
     "metadata": {},
     "output_type": "display_data"
    },
    {
     "data": {
      "text/plain": [
       "'https://www.ted.com/tedx/events?autocomplete_filter=Denmark&year=2009&page=1&when=past'"
      ]
     },
     "metadata": {},
     "output_type": "display_data"
    },
    {
     "data": {
      "text/plain": [
       "'https://www.ted.com/tedx/events?autocomplete_filter=Costa+Rica&year=2011&page=1&when=past'"
      ]
     },
     "metadata": {},
     "output_type": "display_data"
    },
    {
     "data": {
      "text/plain": [
       "'https://www.ted.com/tedx/events?autocomplete_filter=Congo&year=2013&page=1&when=past'"
      ]
     },
     "metadata": {},
     "output_type": "display_data"
    },
    {
     "data": {
      "text/plain": [
       "'https://www.ted.com/tedx/events?autocomplete_filter=Czech+Republic&year=2012&page=1&when=past'"
      ]
     },
     "metadata": {},
     "output_type": "display_data"
    },
    {
     "data": {
      "text/plain": [
       "'https://www.ted.com/tedx/events?autocomplete_filter=Cuba&year=2018&page=1&when=past'"
      ]
     },
     "metadata": {},
     "output_type": "display_data"
    },
    {
     "data": {
      "text/plain": [
       "'https://www.ted.com/tedx/events?autocomplete_filter=Cuba&year=2012&page=1&when=past'"
      ]
     },
     "metadata": {},
     "output_type": "display_data"
    },
    {
     "data": {
      "text/plain": [
       "'https://www.ted.com/tedx/events?autocomplete_filter=Cuba&year=2014&page=1&when=past'"
      ]
     },
     "metadata": {},
     "output_type": "display_data"
    },
    {
     "data": {
      "text/plain": [
       "\"https://www.ted.com/tedx/events?autocomplete_filter=Cote+D'ivoire&year=2011&page=1&when=past\""
      ]
     },
     "metadata": {},
     "output_type": "display_data"
    },
    {
     "data": {
      "text/plain": [
       "'https://www.ted.com/tedx/events?autocomplete_filter=Costa+Rica&year=2013&page=1&when=past'"
      ]
     },
     "metadata": {},
     "output_type": "display_data"
    },
    {
     "data": {
      "text/plain": [
       "'https://www.ted.com/tedx/events?autocomplete_filter=Congo,+The+Democratic+Republic+Of+The&year=2009&page=1&when=past'"
      ]
     },
     "metadata": {},
     "output_type": "display_data"
    },
    {
     "data": {
      "text/plain": [
       "'https://www.ted.com/tedx/events?autocomplete_filter=Dominica&year=2010&page=1&when=past'"
      ]
     },
     "metadata": {},
     "output_type": "display_data"
    },
    {
     "data": {
      "text/plain": [
       "'https://www.ted.com/tedx/events?autocomplete_filter=Cook+Islands&year=2011&page=1&when=past'"
      ]
     },
     "metadata": {},
     "output_type": "display_data"
    },
    {
     "data": {
      "text/plain": [
       "'https://www.ted.com/tedx/events?autocomplete_filter=Cuba&year=2011&page=1&when=past'"
      ]
     },
     "metadata": {},
     "output_type": "display_data"
    },
    {
     "data": {
      "text/plain": [
       "'https://www.ted.com/tedx/events?autocomplete_filter=Cyprus&year=2016&page=1&when=past'"
      ]
     },
     "metadata": {},
     "output_type": "display_data"
    },
    {
     "data": {
      "text/plain": [
       "'https://www.ted.com/tedx/events?autocomplete_filter=Congo,+The+Democratic+Republic+Of+The&year=2019&page=1&when=past'"
      ]
     },
     "metadata": {},
     "output_type": "display_data"
    },
    {
     "data": {
      "text/plain": [
       "'https://www.ted.com/tedx/events?autocomplete_filter=Djibouti&year=2012&page=1&when=past'"
      ]
     },
     "metadata": {},
     "output_type": "display_data"
    },
    {
     "data": {
      "text/plain": [
       "\"https://www.ted.com/tedx/events?autocomplete_filter=Cote+D'ivoire&year=2014&page=1&when=past\""
      ]
     },
     "metadata": {},
     "output_type": "display_data"
    },
    {
     "data": {
      "text/plain": [
       "'https://www.ted.com/tedx/events?autocomplete_filter=Congo,+The+Democratic+Republic+Of+The&year=2016&page=1&when=past'"
      ]
     },
     "metadata": {},
     "output_type": "display_data"
    },
    {
     "data": {
      "text/plain": [
       "'https://www.ted.com/tedx/events?autocomplete_filter=Denmark&year=2015&page=1&when=past'"
      ]
     },
     "metadata": {},
     "output_type": "display_data"
    },
    {
     "data": {
      "text/plain": [
       "'https://www.ted.com/tedx/events?autocomplete_filter=Czech+Republic&year=2009&page=1&when=past'"
      ]
     },
     "metadata": {},
     "output_type": "display_data"
    },
    {
     "data": {
      "text/plain": [
       "'https://www.ted.com/tedx/events?autocomplete_filter=Cyprus&year=2015&page=1&when=past'"
      ]
     },
     "metadata": {},
     "output_type": "display_data"
    },
    {
     "data": {
      "text/plain": [
       "'https://www.ted.com/tedx/events?autocomplete_filter=Cyprus&year=2017&page=1&when=past'"
      ]
     },
     "metadata": {},
     "output_type": "display_data"
    },
    {
     "data": {
      "text/plain": [
       "\"https://www.ted.com/tedx/events?autocomplete_filter=Cote+D'ivoire&year=2016&page=1&when=past\""
      ]
     },
     "metadata": {},
     "output_type": "display_data"
    },
    {
     "data": {
      "text/plain": [
       "'https://www.ted.com/tedx/events?autocomplete_filter=Croatia&year=2014&page=1&when=past'"
      ]
     },
     "metadata": {},
     "output_type": "display_data"
    },
    {
     "data": {
      "text/plain": [
       "'https://www.ted.com/tedx/events?autocomplete_filter=Cook+Islands&year=2012&page=1&when=past'"
      ]
     },
     "metadata": {},
     "output_type": "display_data"
    },
    {
     "data": {
      "text/plain": [
       "'https://www.ted.com/tedx/events?autocomplete_filter=Costa+Rica&year=2014&page=1&when=past'"
      ]
     },
     "metadata": {},
     "output_type": "display_data"
    },
    {
     "data": {
      "text/plain": [
       "'https://www.ted.com/tedx/events?autocomplete_filter=Dominican+Republic&year=2013&page=1&when=past'"
      ]
     },
     "metadata": {},
     "output_type": "display_data"
    },
    {
     "data": {
      "text/plain": [
       "'https://www.ted.com/tedx/events?autocomplete_filter=Cyprus&year=2014&page=1&when=past'"
      ]
     },
     "metadata": {},
     "output_type": "display_data"
    },
    {
     "data": {
      "text/plain": [
       "'https://www.ted.com/tedx/events?autocomplete_filter=Czech+Republic&year=2019&page=1&when=past'"
      ]
     },
     "metadata": {},
     "output_type": "display_data"
    },
    {
     "data": {
      "text/plain": [
       "'https://www.ted.com/tedx/events?autocomplete_filter=Costa+Rica&year=2010&page=1&when=past'"
      ]
     },
     "metadata": {},
     "output_type": "display_data"
    },
    {
     "data": {
      "text/plain": [
       "'https://www.ted.com/tedx/events?autocomplete_filter=Dominica&year=2015&page=1&when=past'"
      ]
     },
     "metadata": {},
     "output_type": "display_data"
    },
    {
     "data": {
      "text/plain": [
       "'https://www.ted.com/tedx/events?autocomplete_filter=Croatia&year=2017&page=1&when=past'"
      ]
     },
     "metadata": {},
     "output_type": "display_data"
    },
    {
     "data": {
      "text/plain": [
       "'https://www.ted.com/tedx/events?autocomplete_filter=Cook+Islands&year=2019&page=1&when=past'"
      ]
     },
     "metadata": {},
     "output_type": "display_data"
    },
    {
     "data": {
      "text/plain": [
       "'https://www.ted.com/tedx/events?autocomplete_filter=Djibouti&year=2018&page=1&when=past'"
      ]
     },
     "metadata": {},
     "output_type": "display_data"
    },
    {
     "data": {
      "text/plain": [
       "'https://www.ted.com/tedx/events?autocomplete_filter=Czech+Republic&year=2018&page=1&when=past'"
      ]
     },
     "metadata": {},
     "output_type": "display_data"
    },
    {
     "data": {
      "text/plain": [
       "'https://www.ted.com/tedx/events?autocomplete_filter=Czech+Republic&year=2020&page=1&when=past'"
      ]
     },
     "metadata": {},
     "output_type": "display_data"
    },
    {
     "data": {
      "text/plain": [
       "'https://www.ted.com/tedx/events?autocomplete_filter=Croatia&year=2019&page=1&when=past'"
      ]
     },
     "metadata": {},
     "output_type": "display_data"
    },
    {
     "data": {
      "text/plain": [
       "'https://www.ted.com/tedx/events?autocomplete_filter=Cuba&year=2017&page=1&when=past'"
      ]
     },
     "metadata": {},
     "output_type": "display_data"
    },
    {
     "data": {
      "text/plain": [
       "\"https://www.ted.com/tedx/events?autocomplete_filter=Cote+D'ivoire&year=2017&page=1&when=past\""
      ]
     },
     "metadata": {},
     "output_type": "display_data"
    },
    {
     "data": {
      "text/plain": [
       "'https://www.ted.com/tedx/events?autocomplete_filter=Djibouti&year=2010&page=1&when=past'"
      ]
     },
     "metadata": {},
     "output_type": "display_data"
    },
    {
     "data": {
      "text/plain": [
       "'https://www.ted.com/tedx/events?autocomplete_filter=Czech+Republic&year=2017&page=1&when=past'"
      ]
     },
     "metadata": {},
     "output_type": "display_data"
    },
    {
     "data": {
      "text/plain": [
       "'https://www.ted.com/tedx/events?autocomplete_filter=East+Timor&year=2016&page=1&when=past'"
      ]
     },
     "metadata": {},
     "output_type": "display_data"
    },
    {
     "data": {
      "text/plain": [
       "\"https://www.ted.com/tedx/events?autocomplete_filter=Cote+D'ivoire&year=2013&page=1&when=past\""
      ]
     },
     "metadata": {},
     "output_type": "display_data"
    },
    {
     "data": {
      "text/plain": [
       "'https://www.ted.com/tedx/events?autocomplete_filter=Dominican+Republic&year=2018&page=1&when=past'"
      ]
     },
     "metadata": {},
     "output_type": "display_data"
    },
    {
     "data": {
      "text/plain": [
       "'https://www.ted.com/tedx/events?autocomplete_filter=Dominican+Republic&year=2009&page=1&when=past'"
      ]
     },
     "metadata": {},
     "output_type": "display_data"
    },
    {
     "data": {
      "text/plain": [
       "'https://www.ted.com/tedx/events?autocomplete_filter=Djibouti&year=2009&page=1&when=past'"
      ]
     },
     "metadata": {},
     "output_type": "display_data"
    },
    {
     "data": {
      "text/plain": [
       "'https://www.ted.com/tedx/events?autocomplete_filter=Djibouti&year=2011&page=1&when=past'"
      ]
     },
     "metadata": {},
     "output_type": "display_data"
    },
    {
     "data": {
      "text/plain": [
       "'https://www.ted.com/tedx/events?autocomplete_filter=Cyprus&year=2010&page=1&when=past'"
      ]
     },
     "metadata": {},
     "output_type": "display_data"
    },
    {
     "data": {
      "text/plain": [
       "'https://www.ted.com/tedx/events?autocomplete_filter=Cyprus&year=2020&page=1&when=past'"
      ]
     },
     "metadata": {},
     "output_type": "display_data"
    },
    {
     "data": {
      "text/plain": [
       "'https://www.ted.com/tedx/events?autocomplete_filter=Croatia&year=2020&page=1&when=past'"
      ]
     },
     "metadata": {},
     "output_type": "display_data"
    },
    {
     "data": {
      "text/plain": [
       "'https://www.ted.com/tedx/events?autocomplete_filter=Denmark&year=2020&page=1&when=past'"
      ]
     },
     "metadata": {},
     "output_type": "display_data"
    },
    {
     "data": {
      "text/plain": [
       "'https://www.ted.com/tedx/events?autocomplete_filter=Dominica&year=2013&page=1&when=past'"
      ]
     },
     "metadata": {},
     "output_type": "display_data"
    },
    {
     "data": {
      "text/plain": [
       "'https://www.ted.com/tedx/events?autocomplete_filter=Croatia&year=2016&page=1&when=past'"
      ]
     },
     "metadata": {},
     "output_type": "display_data"
    },
    {
     "data": {
      "text/plain": [
       "\"https://www.ted.com/tedx/events?autocomplete_filter=Cote+D'ivoire&year=2010&page=1&when=past\""
      ]
     },
     "metadata": {},
     "output_type": "display_data"
    },
    {
     "data": {
      "text/plain": [
       "'https://www.ted.com/tedx/events?autocomplete_filter=Dominica&year=2014&page=1&when=past'"
      ]
     },
     "metadata": {},
     "output_type": "display_data"
    },
    {
     "data": {
      "text/plain": [
       "'https://www.ted.com/tedx/events?autocomplete_filter=Czech+Republic&year=2013&page=1&when=past'"
      ]
     },
     "metadata": {},
     "output_type": "display_data"
    },
    {
     "data": {
      "text/plain": [
       "'https://www.ted.com/tedx/events?autocomplete_filter=Cyprus&year=2011&page=1&when=past'"
      ]
     },
     "metadata": {},
     "output_type": "display_data"
    },
    {
     "data": {
      "text/plain": [
       "'https://www.ted.com/tedx/events?autocomplete_filter=Dominica&year=2012&page=1&when=past'"
      ]
     },
     "metadata": {},
     "output_type": "display_data"
    },
    {
     "data": {
      "text/plain": [
       "'https://www.ted.com/tedx/events?autocomplete_filter=Dominican+Republic&year=2016&page=1&when=past'"
      ]
     },
     "metadata": {},
     "output_type": "display_data"
    },
    {
     "data": {
      "text/plain": [
       "'https://www.ted.com/tedx/events?autocomplete_filter=Cuba&year=2019&page=1&when=past'"
      ]
     },
     "metadata": {},
     "output_type": "display_data"
    },
    {
     "data": {
      "text/plain": [
       "'https://www.ted.com/tedx/events?autocomplete_filter=Dominica&year=2011&page=1&when=past'"
      ]
     },
     "metadata": {},
     "output_type": "display_data"
    },
    {
     "data": {
      "text/plain": [
       "'https://www.ted.com/tedx/events?autocomplete_filter=Croatia&year=2013&page=1&when=past'"
      ]
     },
     "metadata": {},
     "output_type": "display_data"
    },
    {
     "data": {
      "text/plain": [
       "'https://www.ted.com/tedx/events?autocomplete_filter=Denmark&year=2016&page=1&when=past'"
      ]
     },
     "metadata": {},
     "output_type": "display_data"
    },
    {
     "data": {
      "text/plain": [
       "'https://www.ted.com/tedx/events?autocomplete_filter=Ecuador&year=2019&page=1&when=past'"
      ]
     },
     "metadata": {},
     "output_type": "display_data"
    },
    {
     "data": {
      "text/plain": [
       "'https://www.ted.com/tedx/events?autocomplete_filter=Costa+Rica&year=2015&page=1&when=past'"
      ]
     },
     "metadata": {},
     "output_type": "display_data"
    },
    {
     "data": {
      "text/plain": [
       "'https://www.ted.com/tedx/events?autocomplete_filter=Dominican+Republic&year=2017&page=1&when=past'"
      ]
     },
     "metadata": {},
     "output_type": "display_data"
    },
    {
     "data": {
      "text/plain": [
       "'https://www.ted.com/tedx/events?autocomplete_filter=East+Timor&year=2012&page=1&when=past'"
      ]
     },
     "metadata": {},
     "output_type": "display_data"
    },
    {
     "data": {
      "text/plain": [
       "'https://www.ted.com/tedx/events?autocomplete_filter=Denmark&year=2012&page=1&when=past'"
      ]
     },
     "metadata": {},
     "output_type": "display_data"
    },
    {
     "data": {
      "text/plain": [
       "'https://www.ted.com/tedx/events?autocomplete_filter=Denmark&year=2011&page=1&when=past'"
      ]
     },
     "metadata": {},
     "output_type": "display_data"
    },
    {
     "data": {
      "text/plain": [
       "'https://www.ted.com/tedx/events?autocomplete_filter=Ecuador&year=2009&page=1&when=past'"
      ]
     },
     "metadata": {},
     "output_type": "display_data"
    },
    {
     "data": {
      "text/plain": [
       "'https://www.ted.com/tedx/events?autocomplete_filter=Cuba&year=2020&page=1&when=past'"
      ]
     },
     "metadata": {},
     "output_type": "display_data"
    },
    {
     "data": {
      "text/plain": [
       "'https://www.ted.com/tedx/events?autocomplete_filter=Czech+Republic&year=2014&page=1&when=past'"
      ]
     },
     "metadata": {},
     "output_type": "display_data"
    },
    {
     "data": {
      "text/plain": [
       "'https://www.ted.com/tedx/events?autocomplete_filter=Dominican+Republic&year=2015&page=1&when=past'"
      ]
     },
     "metadata": {},
     "output_type": "display_data"
    },
    {
     "data": {
      "text/plain": [
       "'https://www.ted.com/tedx/events?autocomplete_filter=Czech+Republic&year=2010&page=1&when=past'"
      ]
     },
     "metadata": {},
     "output_type": "display_data"
    },
    {
     "data": {
      "text/plain": [
       "'https://www.ted.com/tedx/events?autocomplete_filter=East+Timor&year=2019&page=1&when=past'"
      ]
     },
     "metadata": {},
     "output_type": "display_data"
    },
    {
     "data": {
      "text/plain": [
       "'https://www.ted.com/tedx/events?autocomplete_filter=Dominican+Republic&year=2014&page=1&when=past'"
      ]
     },
     "metadata": {},
     "output_type": "display_data"
    },
    {
     "data": {
      "text/plain": [
       "'https://www.ted.com/tedx/events?autocomplete_filter=Cuba&year=2016&page=1&when=past'"
      ]
     },
     "metadata": {},
     "output_type": "display_data"
    },
    {
     "data": {
      "text/plain": [
       "'https://www.ted.com/tedx/events?autocomplete_filter=Djibouti&year=2019&page=1&when=past'"
      ]
     },
     "metadata": {},
     "output_type": "display_data"
    },
    {
     "data": {
      "text/plain": [
       "\"https://www.ted.com/tedx/events?autocomplete_filter=Cote+D'ivoire&year=2018&page=1&when=past\""
      ]
     },
     "metadata": {},
     "output_type": "display_data"
    },
    {
     "data": {
      "text/plain": [
       "'https://www.ted.com/tedx/events?autocomplete_filter=El+Salvador&year=2010&page=1&when=past'"
      ]
     },
     "metadata": {},
     "output_type": "display_data"
    },
    {
     "data": {
      "text/plain": [
       "'https://www.ted.com/tedx/events?autocomplete_filter=Ecuador&year=2015&page=1&when=past'"
      ]
     },
     "metadata": {},
     "output_type": "display_data"
    },
    {
     "data": {
      "text/plain": [
       "'https://www.ted.com/tedx/events?autocomplete_filter=Djibouti&year=2015&page=1&when=past'"
      ]
     },
     "metadata": {},
     "output_type": "display_data"
    },
    {
     "data": {
      "text/plain": [
       "'https://www.ted.com/tedx/events?autocomplete_filter=East+Timor&year=2020&page=1&when=past'"
      ]
     },
     "metadata": {},
     "output_type": "display_data"
    },
    {
     "data": {
      "text/plain": [
       "'https://www.ted.com/tedx/events?autocomplete_filter=Denmark&year=2017&page=1&when=past'"
      ]
     },
     "metadata": {},
     "output_type": "display_data"
    },
    {
     "data": {
      "text/plain": [
       "'https://www.ted.com/tedx/events?autocomplete_filter=Egypt&year=2012&page=1&when=past'"
      ]
     },
     "metadata": {},
     "output_type": "display_data"
    },
    {
     "data": {
      "text/plain": [
       "'https://www.ted.com/tedx/events?autocomplete_filter=Djibouti&year=2014&page=1&when=past'"
      ]
     },
     "metadata": {},
     "output_type": "display_data"
    },
    {
     "data": {
      "text/plain": [
       "'https://www.ted.com/tedx/events?autocomplete_filter=East+Timor&year=2018&page=1&when=past'"
      ]
     },
     "metadata": {},
     "output_type": "display_data"
    },
    {
     "data": {
      "text/plain": [
       "'https://www.ted.com/tedx/events?autocomplete_filter=Czech+Republic&year=2011&page=1&when=past'"
      ]
     },
     "metadata": {},
     "output_type": "display_data"
    },
    {
     "data": {
      "text/plain": [
       "'https://www.ted.com/tedx/events?autocomplete_filter=Egypt&year=2010&page=1&when=past'"
      ]
     },
     "metadata": {},
     "output_type": "display_data"
    },
    {
     "data": {
      "text/plain": [
       "'https://www.ted.com/tedx/events?autocomplete_filter=Denmark&year=2013&page=1&when=past'"
      ]
     },
     "metadata": {},
     "output_type": "display_data"
    },
    {
     "data": {
      "text/plain": [
       "'https://www.ted.com/tedx/events?autocomplete_filter=East+Timor&year=2017&page=1&when=past'"
      ]
     },
     "metadata": {},
     "output_type": "display_data"
    },
    {
     "data": {
      "text/plain": [
       "'https://www.ted.com/tedx/events?autocomplete_filter=Cyprus&year=2019&page=1&when=past'"
      ]
     },
     "metadata": {},
     "output_type": "display_data"
    },
    {
     "data": {
      "text/plain": [
       "'https://www.ted.com/tedx/events?autocomplete_filter=Dominican+Republic&year=2010&page=1&when=past'"
      ]
     },
     "metadata": {},
     "output_type": "display_data"
    },
    {
     "data": {
      "text/plain": [
       "'https://www.ted.com/tedx/events?autocomplete_filter=Cuba&year=2009&page=1&when=past'"
      ]
     },
     "metadata": {},
     "output_type": "display_data"
    },
    {
     "data": {
      "text/plain": [
       "'https://www.ted.com/tedx/events?autocomplete_filter=Equatorial+Guinea&year=2013&page=1&when=past'"
      ]
     },
     "metadata": {},
     "output_type": "display_data"
    },
    {
     "data": {
      "text/plain": [
       "'https://www.ted.com/tedx/events?autocomplete_filter=Egypt&year=2011&page=1&when=past'"
      ]
     },
     "metadata": {},
     "output_type": "display_data"
    },
    {
     "data": {
      "text/plain": [
       "'https://www.ted.com/tedx/events?autocomplete_filter=Egypt&year=2018&page=1&when=past'"
      ]
     },
     "metadata": {},
     "output_type": "display_data"
    },
    {
     "data": {
      "text/plain": [
       "'https://www.ted.com/tedx/events?autocomplete_filter=Djibouti&year=2020&page=1&when=past'"
      ]
     },
     "metadata": {},
     "output_type": "display_data"
    },
    {
     "data": {
      "text/plain": [
       "'https://www.ted.com/tedx/events?autocomplete_filter=Dominica&year=2018&page=1&when=past'"
      ]
     },
     "metadata": {},
     "output_type": "display_data"
    },
    {
     "data": {
      "text/plain": [
       "'https://www.ted.com/tedx/events?autocomplete_filter=Dominica&year=2017&page=1&when=past'"
      ]
     },
     "metadata": {},
     "output_type": "display_data"
    },
    {
     "data": {
      "text/plain": [
       "'https://www.ted.com/tedx/events?autocomplete_filter=El+Salvador&year=2015&page=1&when=past'"
      ]
     },
     "metadata": {},
     "output_type": "display_data"
    },
    {
     "data": {
      "text/plain": [
       "'https://www.ted.com/tedx/events?autocomplete_filter=Denmark&year=2014&page=1&when=past'"
      ]
     },
     "metadata": {},
     "output_type": "display_data"
    },
    {
     "data": {
      "text/plain": [
       "'https://www.ted.com/tedx/events?autocomplete_filter=Egypt&year=2009&page=1&when=past'"
      ]
     },
     "metadata": {},
     "output_type": "display_data"
    },
    {
     "data": {
      "text/plain": [
       "'https://www.ted.com/tedx/events?autocomplete_filter=Ecuador&year=2020&page=1&when=past'"
      ]
     },
     "metadata": {},
     "output_type": "display_data"
    },
    {
     "data": {
      "text/plain": [
       "'https://www.ted.com/tedx/events?autocomplete_filter=Djibouti&year=2016&page=1&when=past'"
      ]
     },
     "metadata": {},
     "output_type": "display_data"
    },
    {
     "data": {
      "text/plain": [
       "'https://www.ted.com/tedx/events?autocomplete_filter=El+Salvador&year=2013&page=1&when=past'"
      ]
     },
     "metadata": {},
     "output_type": "display_data"
    },
    {
     "data": {
      "text/plain": [
       "'https://www.ted.com/tedx/events?autocomplete_filter=Denmark&year=2010&page=1&when=past'"
      ]
     },
     "metadata": {},
     "output_type": "display_data"
    },
    {
     "data": {
      "text/plain": [
       "'https://www.ted.com/tedx/events?autocomplete_filter=East+Timor&year=2013&page=1&when=past'"
      ]
     },
     "metadata": {},
     "output_type": "display_data"
    },
    {
     "data": {
      "text/plain": [
       "'https://www.ted.com/tedx/events?autocomplete_filter=Cyprus&year=2012&page=1&when=past'"
      ]
     },
     "metadata": {},
     "output_type": "display_data"
    },
    {
     "data": {
      "text/plain": [
       "'https://www.ted.com/tedx/events?autocomplete_filter=Eritrea&year=2016&page=1&when=past'"
      ]
     },
     "metadata": {},
     "output_type": "display_data"
    },
    {
     "data": {
      "text/plain": [
       "'https://www.ted.com/tedx/events?autocomplete_filter=El+Salvador&year=2014&page=1&when=past'"
      ]
     },
     "metadata": {},
     "output_type": "display_data"
    },
    {
     "data": {
      "text/plain": [
       "'https://www.ted.com/tedx/events?autocomplete_filter=Equatorial+Guinea&year=2009&page=1&when=past'"
      ]
     },
     "metadata": {},
     "output_type": "display_data"
    },
    {
     "data": {
      "text/plain": [
       "'https://www.ted.com/tedx/events?autocomplete_filter=East+Timor&year=2009&page=1&when=past'"
      ]
     },
     "metadata": {},
     "output_type": "display_data"
    },
    {
     "data": {
      "text/plain": [
       "'https://www.ted.com/tedx/events?autocomplete_filter=Dominican+Republic&year=2011&page=1&when=past'"
      ]
     },
     "metadata": {},
     "output_type": "display_data"
    },
    {
     "data": {
      "text/plain": [
       "'https://www.ted.com/tedx/events?autocomplete_filter=Equatorial+Guinea&year=2018&page=1&when=past'"
      ]
     },
     "metadata": {},
     "output_type": "display_data"
    },
    {
     "data": {
      "text/plain": [
       "'https://www.ted.com/tedx/events?autocomplete_filter=Djibouti&year=2017&page=1&when=past'"
      ]
     },
     "metadata": {},
     "output_type": "display_data"
    },
    {
     "data": {
      "text/plain": [
       "'https://www.ted.com/tedx/events?autocomplete_filter=El+Salvador&year=2012&page=1&when=past'"
      ]
     },
     "metadata": {},
     "output_type": "display_data"
    },
    {
     "data": {
      "text/plain": [
       "'https://www.ted.com/tedx/events?autocomplete_filter=Dominican+Republic&year=2020&page=1&when=past'"
      ]
     },
     "metadata": {},
     "output_type": "display_data"
    },
    {
     "data": {
      "text/plain": [
       "'https://www.ted.com/tedx/events?autocomplete_filter=Dominica&year=2019&page=1&when=past'"
      ]
     },
     "metadata": {},
     "output_type": "display_data"
    },
    {
     "data": {
      "text/plain": [
       "'https://www.ted.com/tedx/events?autocomplete_filter=Equatorial+Guinea&year=2016&page=1&when=past'"
      ]
     },
     "metadata": {},
     "output_type": "display_data"
    },
    {
     "data": {
      "text/plain": [
       "'https://www.ted.com/tedx/events?autocomplete_filter=El+Salvador&year=2011&page=1&when=past'"
      ]
     },
     "metadata": {},
     "output_type": "display_data"
    },
    {
     "data": {
      "text/plain": [
       "'https://www.ted.com/tedx/events?autocomplete_filter=Djibouti&year=2013&page=1&when=past'"
      ]
     },
     "metadata": {},
     "output_type": "display_data"
    },
    {
     "data": {
      "text/plain": [
       "'https://www.ted.com/tedx/events?autocomplete_filter=Ecuador&year=2016&page=1&when=past'"
      ]
     },
     "metadata": {},
     "output_type": "display_data"
    },
    {
     "data": {
      "text/plain": [
       "'https://www.ted.com/tedx/events?autocomplete_filter=Estonia&year=2019&page=1&when=past'"
      ]
     },
     "metadata": {},
     "output_type": "display_data"
    },
    {
     "data": {
      "text/plain": [
       "'https://www.ted.com/tedx/events?autocomplete_filter=Czech+Republic&year=2015&page=1&when=past'"
      ]
     },
     "metadata": {},
     "output_type": "display_data"
    },
    {
     "data": {
      "text/plain": [
       "'https://www.ted.com/tedx/events?autocomplete_filter=Eritrea&year=2012&page=1&when=past'"
      ]
     },
     "metadata": {},
     "output_type": "display_data"
    },
    {
     "data": {
      "text/plain": [
       "'https://www.ted.com/tedx/events?autocomplete_filter=Equatorial+Guinea&year=2017&page=1&when=past'"
      ]
     },
     "metadata": {},
     "output_type": "display_data"
    },
    {
     "data": {
      "text/plain": [
       "'https://www.ted.com/tedx/events?autocomplete_filter=Ecuador&year=2012&page=1&when=past'"
      ]
     },
     "metadata": {},
     "output_type": "display_data"
    },
    {
     "data": {
      "text/plain": [
       "'https://www.ted.com/tedx/events?autocomplete_filter=East+Timor&year=2014&page=1&when=past'"
      ]
     },
     "metadata": {},
     "output_type": "display_data"
    },
    {
     "data": {
      "text/plain": [
       "'https://www.ted.com/tedx/events?autocomplete_filter=Dominica&year=2020&page=1&when=past'"
      ]
     },
     "metadata": {},
     "output_type": "display_data"
    },
    {
     "data": {
      "text/plain": [
       "'https://www.ted.com/tedx/events?autocomplete_filter=Equatorial+Guinea&year=2015&page=1&when=past'"
      ]
     },
     "metadata": {},
     "output_type": "display_data"
    },
    {
     "data": {
      "text/plain": [
       "'https://www.ted.com/tedx/events?autocomplete_filter=Ecuador&year=2011&page=1&when=past'"
      ]
     },
     "metadata": {},
     "output_type": "display_data"
    },
    {
     "data": {
      "text/plain": [
       "'https://www.ted.com/tedx/events?autocomplete_filter=Estonia&year=2009&page=1&when=past'"
      ]
     },
     "metadata": {},
     "output_type": "display_data"
    },
    {
     "data": {
      "text/plain": [
       "'https://www.ted.com/tedx/events?autocomplete_filter=East+Timor&year=2010&page=1&when=past'"
      ]
     },
     "metadata": {},
     "output_type": "display_data"
    },
    {
     "data": {
      "text/plain": [
       "'https://www.ted.com/tedx/events?autocomplete_filter=Equatorial+Guinea&year=2014&page=1&when=past'"
      ]
     },
     "metadata": {},
     "output_type": "display_data"
    },
    {
     "data": {
      "text/plain": [
       "'https://www.ted.com/tedx/events?autocomplete_filter=Eritrea&year=2019&page=1&when=past'"
      ]
     },
     "metadata": {},
     "output_type": "display_data"
    },
    {
     "data": {
      "text/plain": [
       "'https://www.ted.com/tedx/events?autocomplete_filter=Dominica&year=2016&page=1&when=past'"
      ]
     },
     "metadata": {},
     "output_type": "display_data"
    },
    {
     "data": {
      "text/plain": [
       "'https://www.ted.com/tedx/events?autocomplete_filter=Falkland+Islands+(malvinas)&year=2010&page=1&when=past'"
      ]
     },
     "metadata": {},
     "output_type": "display_data"
    },
    {
     "data": {
      "text/plain": [
       "'https://www.ted.com/tedx/events?autocomplete_filter=Egypt&year=2019&page=1&when=past'"
      ]
     },
     "metadata": {},
     "output_type": "display_data"
    },
    {
     "data": {
      "text/plain": [
       "'https://www.ted.com/tedx/events?autocomplete_filter=Denmark&year=2018&page=1&when=past'"
      ]
     },
     "metadata": {},
     "output_type": "display_data"
    },
    {
     "data": {
      "text/plain": [
       "'https://www.ted.com/tedx/events?autocomplete_filter=Eritrea&year=2020&page=1&when=past'"
      ]
     },
     "metadata": {},
     "output_type": "display_data"
    },
    {
     "data": {
      "text/plain": [
       "'https://www.ted.com/tedx/events?autocomplete_filter=Estonia&year=2015&page=1&when=past'"
      ]
     },
     "metadata": {},
     "output_type": "display_data"
    },
    {
     "data": {
      "text/plain": [
       "'https://www.ted.com/tedx/events?autocomplete_filter=Ecuador&year=2017&page=1&when=past'"
      ]
     },
     "metadata": {},
     "output_type": "display_data"
    },
    {
     "data": {
      "text/plain": [
       "'https://www.ted.com/tedx/events?autocomplete_filter=Egypt&year=2015&page=1&when=past'"
      ]
     },
     "metadata": {},
     "output_type": "display_data"
    },
    {
     "data": {
      "text/plain": [
       "'https://www.ted.com/tedx/events?autocomplete_filter=East+Timor&year=2011&page=1&when=past'"
      ]
     },
     "metadata": {},
     "output_type": "display_data"
    },
    {
     "data": {
      "text/plain": [
       "'https://www.ted.com/tedx/events?autocomplete_filter=Eritrea&year=2018&page=1&when=past'"
      ]
     },
     "metadata": {},
     "output_type": "display_data"
    },
    {
     "data": {
      "text/plain": [
       "'https://www.ted.com/tedx/events?autocomplete_filter=Ethiopia&year=2012&page=1&when=past'"
      ]
     },
     "metadata": {},
     "output_type": "display_data"
    },
    {
     "data": {
      "text/plain": [
       "'https://www.ted.com/tedx/events?autocomplete_filter=Egypt&year=2014&page=1&when=past'"
      ]
     },
     "metadata": {},
     "output_type": "display_data"
    },
    {
     "data": {
      "text/plain": [
       "'https://www.ted.com/tedx/events?autocomplete_filter=Ecuador&year=2013&page=1&when=past'"
      ]
     },
     "metadata": {},
     "output_type": "display_data"
    },
    {
     "data": {
      "text/plain": [
       "'https://www.ted.com/tedx/events?autocomplete_filter=Ethiopia&year=2010&page=1&when=past'"
      ]
     },
     "metadata": {},
     "output_type": "display_data"
    },
    {
     "data": {
      "text/plain": [
       "'https://www.ted.com/tedx/events?autocomplete_filter=Eritrea&year=2017&page=1&when=past'"
      ]
     },
     "metadata": {},
     "output_type": "display_data"
    },
    {
     "data": {
      "text/plain": [
       "'https://www.ted.com/tedx/events?autocomplete_filter=Dominican+Republic&year=2019&page=1&when=past'"
      ]
     },
     "metadata": {},
     "output_type": "display_data"
    },
    {
     "data": {
      "text/plain": [
       "'https://www.ted.com/tedx/events?autocomplete_filter=Faroe+Islands&year=2013&page=1&when=past'"
      ]
     },
     "metadata": {},
     "output_type": "display_data"
    },
    {
     "data": {
      "text/plain": [
       "'https://www.ted.com/tedx/events?autocomplete_filter=Equatorial+Guinea&year=2010&page=1&when=past'"
      ]
     },
     "metadata": {},
     "output_type": "display_data"
    },
    {
     "data": {
      "text/plain": [
       "'https://www.ted.com/tedx/events?autocomplete_filter=Ethiopia&year=2018&page=1&when=past'"
      ]
     },
     "metadata": {},
     "output_type": "display_data"
    },
    {
     "data": {
      "text/plain": [
       "'https://www.ted.com/tedx/events?autocomplete_filter=Dominica&year=2009&page=1&when=past'"
      ]
     },
     "metadata": {},
     "output_type": "display_data"
    },
    {
     "data": {
      "text/plain": [
       "'https://www.ted.com/tedx/events?autocomplete_filter=Ethiopia&year=2011&page=1&when=past'"
      ]
     },
     "metadata": {},
     "output_type": "display_data"
    },
    {
     "data": {
      "text/plain": [
       "'https://www.ted.com/tedx/events?autocomplete_filter=El+Salvador&year=2018&page=1&when=past'"
      ]
     },
     "metadata": {},
     "output_type": "display_data"
    },
    {
     "data": {
      "text/plain": [
       "'https://www.ted.com/tedx/events?autocomplete_filter=Egypt&year=2020&page=1&when=past'"
      ]
     },
     "metadata": {},
     "output_type": "display_data"
    },
    {
     "data": {
      "text/plain": [
       "'https://www.ted.com/tedx/events?autocomplete_filter=Ethiopia&year=2009&page=1&when=past'"
      ]
     },
     "metadata": {},
     "output_type": "display_data"
    },
    {
     "data": {
      "text/plain": [
       "'https://www.ted.com/tedx/events?autocomplete_filter=Ecuador&year=2014&page=1&when=past'"
      ]
     },
     "metadata": {},
     "output_type": "display_data"
    },
    {
     "data": {
      "text/plain": [
       "'https://www.ted.com/tedx/events?autocomplete_filter=Falkland+Islands+(malvinas)&year=2015&page=1&when=past'"
      ]
     },
     "metadata": {},
     "output_type": "display_data"
    },
    {
     "data": {
      "text/plain": [
       "'https://www.ted.com/tedx/events?autocomplete_filter=El+Salvador&year=2017&page=1&when=past'"
      ]
     },
     "metadata": {},
     "output_type": "display_data"
    },
    {
     "data": {
      "text/plain": [
       "'https://www.ted.com/tedx/events?autocomplete_filter=Egypt&year=2016&page=1&when=past'"
      ]
     },
     "metadata": {},
     "output_type": "display_data"
    },
    {
     "data": {
      "text/plain": [
       "'https://www.ted.com/tedx/events?autocomplete_filter=Falkland+Islands+(malvinas)&year=2013&page=1&when=past'"
      ]
     },
     "metadata": {},
     "output_type": "display_data"
    },
    {
     "data": {
      "text/plain": [
       "'https://www.ted.com/tedx/events?autocomplete_filter=Estonia&year=2020&page=1&when=past'"
      ]
     },
     "metadata": {},
     "output_type": "display_data"
    },
    {
     "data": {
      "text/plain": [
       "'https://www.ted.com/tedx/events?autocomplete_filter=Ecuador&year=2010&page=1&when=past'"
      ]
     },
     "metadata": {},
     "output_type": "display_data"
    },
    {
     "data": {
      "text/plain": [
       "'https://www.ted.com/tedx/events?autocomplete_filter=Fiji&year=2016&page=1&when=past'"
      ]
     },
     "metadata": {},
     "output_type": "display_data"
    },
    {
     "data": {
      "text/plain": [
       "'https://www.ted.com/tedx/events?autocomplete_filter=Eritrea&year=2013&page=1&when=past'"
      ]
     },
     "metadata": {},
     "output_type": "display_data"
    },
    {
     "data": {
      "text/plain": [
       "'https://www.ted.com/tedx/events?autocomplete_filter=Dominican+Republic&year=2012&page=1&when=past'"
      ]
     },
     "metadata": {},
     "output_type": "display_data"
    },
    {
     "data": {
      "text/plain": [
       "'https://www.ted.com/tedx/events?autocomplete_filter=Faroe+Islands&year=2009&page=1&when=past'"
      ]
     },
     "metadata": {},
     "output_type": "display_data"
    },
    {
     "data": {
      "text/plain": [
       "'https://www.ted.com/tedx/events?autocomplete_filter=Falkland+Islands+(malvinas)&year=2014&page=1&when=past'"
      ]
     },
     "metadata": {},
     "output_type": "display_data"
    },
    {
     "data": {
      "text/plain": [
       "'https://www.ted.com/tedx/events?autocomplete_filter=Eritrea&year=2009&page=1&when=past'"
      ]
     },
     "metadata": {},
     "output_type": "display_data"
    },
    {
     "data": {
      "text/plain": [
       "'https://www.ted.com/tedx/events?autocomplete_filter=Equatorial+Guinea&year=2011&page=1&when=past'"
      ]
     },
     "metadata": {},
     "output_type": "display_data"
    },
    {
     "data": {
      "text/plain": [
       "'https://www.ted.com/tedx/events?autocomplete_filter=Falkland+Islands+(malvinas)&year=2012&page=1&when=past'"
      ]
     },
     "metadata": {},
     "output_type": "display_data"
    },
    {
     "data": {
      "text/plain": [
       "'https://www.ted.com/tedx/events?autocomplete_filter=Egypt&year=2017&page=1&when=past'"
      ]
     },
     "metadata": {},
     "output_type": "display_data"
    },
    {
     "data": {
      "text/plain": [
       "'https://www.ted.com/tedx/events?autocomplete_filter=Faroe+Islands&year=2018&page=1&when=past'"
      ]
     },
     "metadata": {},
     "output_type": "display_data"
    },
    {
     "data": {
      "text/plain": [
       "'https://www.ted.com/tedx/events?autocomplete_filter=Equatorial+Guinea&year=2020&page=1&when=past'"
      ]
     },
     "metadata": {},
     "output_type": "display_data"
    },
    {
     "data": {
      "text/plain": [
       "'https://www.ted.com/tedx/events?autocomplete_filter=El+Salvador&year=2019&page=1&when=past'"
      ]
     },
     "metadata": {},
     "output_type": "display_data"
    },
    {
     "data": {
      "text/plain": [
       "'https://www.ted.com/tedx/events?autocomplete_filter=Falkland+Islands+(malvinas)&year=2011&page=1&when=past'"
      ]
     },
     "metadata": {},
     "output_type": "display_data"
    },
    {
     "data": {
      "text/plain": [
       "'https://www.ted.com/tedx/events?autocomplete_filter=Faroe+Islands&year=2016&page=1&when=past'"
      ]
     },
     "metadata": {},
     "output_type": "display_data"
    },
    {
     "data": {
      "text/plain": [
       "'https://www.ted.com/tedx/events?autocomplete_filter=Egypt&year=2013&page=1&when=past'"
      ]
     },
     "metadata": {},
     "output_type": "display_data"
    },
    {
     "data": {
      "text/plain": [
       "'https://www.ted.com/tedx/events?autocomplete_filter=Finland&year=2019&page=1&when=past'"
      ]
     },
     "metadata": {},
     "output_type": "display_data"
    },
    {
     "data": {
      "text/plain": [
       "'https://www.ted.com/tedx/events?autocomplete_filter=Estonia&year=2016&page=1&when=past'"
      ]
     },
     "metadata": {},
     "output_type": "display_data"
    },
    {
     "data": {
      "text/plain": [
       "'https://www.ted.com/tedx/events?autocomplete_filter=East+Timor&year=2015&page=1&when=past'"
      ]
     },
     "metadata": {},
     "output_type": "display_data"
    },
    {
     "data": {
      "text/plain": [
       "'https://www.ted.com/tedx/events?autocomplete_filter=Faroe+Islands&year=2017&page=1&when=past'"
      ]
     },
     "metadata": {},
     "output_type": "display_data"
    },
    {
     "data": {
      "text/plain": [
       "'https://www.ted.com/tedx/events?autocomplete_filter=Fiji&year=2012&page=1&when=past'"
      ]
     },
     "metadata": {},
     "output_type": "display_data"
    },
    {
     "data": {
      "text/plain": [
       "'https://www.ted.com/tedx/events?autocomplete_filter=Estonia&year=2012&page=1&when=past'"
      ]
     },
     "metadata": {},
     "output_type": "display_data"
    },
    {
     "data": {
      "text/plain": [
       "'https://www.ted.com/tedx/events?autocomplete_filter=Eritrea&year=2014&page=1&when=past'"
      ]
     },
     "metadata": {},
     "output_type": "display_data"
    },
    {
     "data": {
      "text/plain": [
       "'https://www.ted.com/tedx/events?autocomplete_filter=Estonia&year=2011&page=1&when=past'"
      ]
     },
     "metadata": {},
     "output_type": "display_data"
    },
    {
     "data": {
      "text/plain": [
       "'https://www.ted.com/tedx/events?autocomplete_filter=El+Salvador&year=2020&page=1&when=past'"
      ]
     },
     "metadata": {},
     "output_type": "display_data"
    },
    {
     "data": {
      "text/plain": [
       "'https://www.ted.com/tedx/events?autocomplete_filter=Faroe+Islands&year=2015&page=1&when=past'"
      ]
     },
     "metadata": {},
     "output_type": "display_data"
    },
    {
     "data": {
      "text/plain": [
       "'https://www.ted.com/tedx/events?autocomplete_filter=Finland&year=2009&page=1&when=past'"
      ]
     },
     "metadata": {},
     "output_type": "display_data"
    },
    {
     "data": {
      "text/plain": [
       "'https://www.ted.com/tedx/events?autocomplete_filter=Fiji&year=2019&page=1&when=past'"
      ]
     },
     "metadata": {},
     "output_type": "display_data"
    },
    {
     "data": {
      "text/plain": [
       "'https://www.ted.com/tedx/events?autocomplete_filter=Eritrea&year=2010&page=1&when=past'"
      ]
     },
     "metadata": {},
     "output_type": "display_data"
    },
    {
     "data": {
      "text/plain": [
       "'https://www.ted.com/tedx/events?autocomplete_filter=Faroe+Islands&year=2014&page=1&when=past'"
      ]
     },
     "metadata": {},
     "output_type": "display_data"
    },
    {
     "data": {
      "text/plain": [
       "'https://www.ted.com/tedx/events?autocomplete_filter=El+Salvador&year=2016&page=1&when=past'"
      ]
     },
     "metadata": {},
     "output_type": "display_data"
    },
    {
     "data": {
      "text/plain": [
       "'https://www.ted.com/tedx/events?autocomplete_filter=French+Guiana&year=2010&page=1&when=past'"
      ]
     },
     "metadata": {},
     "output_type": "display_data"
    },
    {
     "data": {
      "text/plain": [
       "'https://www.ted.com/tedx/events?autocomplete_filter=Ethiopia&year=2019&page=1&when=past'"
      ]
     },
     "metadata": {},
     "output_type": "display_data"
    },
    {
     "data": {
      "text/plain": [
       "'https://www.ted.com/tedx/events?autocomplete_filter=Ecuador&year=2018&page=1&when=past'"
      ]
     },
     "metadata": {},
     "output_type": "display_data"
    },
    {
     "data": {
      "text/plain": [
       "'https://www.ted.com/tedx/events?autocomplete_filter=Fiji&year=2020&page=1&when=past'"
      ]
     },
     "metadata": {},
     "output_type": "display_data"
    },
    {
     "data": {
      "text/plain": [
       "'https://www.ted.com/tedx/events?autocomplete_filter=Finland&year=2015&page=1&when=past'"
      ]
     },
     "metadata": {},
     "output_type": "display_data"
    },
    {
     "data": {
      "text/plain": [
       "'https://www.ted.com/tedx/events?autocomplete_filter=Estonia&year=2017&page=1&when=past'"
      ]
     },
     "metadata": {},
     "output_type": "display_data"
    },
    {
     "data": {
      "text/plain": [
       "'https://www.ted.com/tedx/events?autocomplete_filter=Ethiopia&year=2015&page=1&when=past'"
      ]
     },
     "metadata": {},
     "output_type": "display_data"
    },
    {
     "data": {
      "text/plain": [
       "'https://www.ted.com/tedx/events?autocomplete_filter=Eritrea&year=2011&page=1&when=past'"
      ]
     },
     "metadata": {},
     "output_type": "display_data"
    },
    {
     "data": {
      "text/plain": [
       "'https://www.ted.com/tedx/events?autocomplete_filter=Fiji&year=2018&page=1&when=past'"
      ]
     },
     "metadata": {},
     "output_type": "display_data"
    },
    {
     "data": {
      "text/plain": [
       "'https://www.ted.com/tedx/events?autocomplete_filter=Ethiopia&year=2014&page=1&when=past'"
      ]
     },
     "metadata": {},
     "output_type": "display_data"
    },
    {
     "data": {
      "text/plain": [
       "'https://www.ted.com/tedx/events?autocomplete_filter=France&year=2012&page=1&when=past'"
      ]
     },
     "metadata": {},
     "output_type": "display_data"
    },
    {
     "data": {
      "text/plain": [
       "'https://www.ted.com/tedx/events?autocomplete_filter=Estonia&year=2013&page=1&when=past'"
      ]
     },
     "metadata": {},
     "output_type": "display_data"
    },
    {
     "data": {
      "text/plain": [
       "'https://www.ted.com/tedx/events?autocomplete_filter=France&year=2010&page=1&when=past'"
      ]
     },
     "metadata": {},
     "output_type": "display_data"
    },
    {
     "data": {
      "text/plain": [
       "'https://www.ted.com/tedx/events?autocomplete_filter=Fiji&year=2017&page=1&when=past'"
      ]
     },
     "metadata": {},
     "output_type": "display_data"
    },
    {
     "data": {
      "text/plain": [
       "'https://www.ted.com/tedx/events?autocomplete_filter=Equatorial+Guinea&year=2019&page=1&when=past'"
      ]
     },
     "metadata": {},
     "output_type": "display_data"
    },
    {
     "data": {
      "text/plain": [
       "'https://www.ted.com/tedx/events?autocomplete_filter=French+Polynesia&year=2013&page=1&when=past'"
      ]
     },
     "metadata": {},
     "output_type": "display_data"
    },
    {
     "data": {
      "text/plain": [
       "'https://www.ted.com/tedx/events?autocomplete_filter=Faroe+Islands&year=2010&page=1&when=past'"
      ]
     },
     "metadata": {},
     "output_type": "display_data"
    },
    {
     "data": {
      "text/plain": [
       "'https://www.ted.com/tedx/events?autocomplete_filter=El+Salvador&year=2009&page=1&when=past'"
      ]
     },
     "metadata": {},
     "output_type": "display_data"
    },
    {
     "data": {
      "text/plain": [
       "'https://www.ted.com/tedx/events?autocomplete_filter=France&year=2011&page=1&when=past'"
      ]
     },
     "metadata": {},
     "output_type": "display_data"
    },
    {
     "data": {
      "text/plain": [
       "'https://www.ted.com/tedx/events?autocomplete_filter=Ethiopia&year=2020&page=1&when=past'"
      ]
     },
     "metadata": {},
     "output_type": "display_data"
    },
    {
     "data": {
      "text/plain": [
       "'https://www.ted.com/tedx/events?autocomplete_filter=Falkland+Islands+(malvinas)&year=2018&page=1&when=past'"
      ]
     },
     "metadata": {},
     "output_type": "display_data"
    },
    {
     "data": {
      "text/plain": [
       "'https://www.ted.com/tedx/events?autocomplete_filter=Estonia&year=2014&page=1&when=past'"
      ]
     },
     "metadata": {},
     "output_type": "display_data"
    },
    {
     "data": {
      "text/plain": [
       "'https://www.ted.com/tedx/events?autocomplete_filter=France&year=2009&page=1&when=past'"
      ]
     },
     "metadata": {},
     "output_type": "display_data"
    },
    {
     "data": {
      "text/plain": [
       "'https://www.ted.com/tedx/events?autocomplete_filter=Falkland+Islands+(malvinas)&year=2017&page=1&when=past'"
      ]
     },
     "metadata": {},
     "output_type": "display_data"
    },
    {
     "data": {
      "text/plain": [
       "'https://www.ted.com/tedx/events?autocomplete_filter=French+Guiana&year=2015&page=1&when=past'"
      ]
     },
     "metadata": {},
     "output_type": "display_data"
    },
    {
     "data": {
      "text/plain": [
       "'https://www.ted.com/tedx/events?autocomplete_filter=Ethiopia&year=2016&page=1&when=past'"
      ]
     },
     "metadata": {},
     "output_type": "display_data"
    },
    {
     "data": {
      "text/plain": [
       "'https://www.ted.com/tedx/events?autocomplete_filter=Finland&year=2020&page=1&when=past'"
      ]
     },
     "metadata": {},
     "output_type": "display_data"
    },
    {
     "data": {
      "text/plain": [
       "'https://www.ted.com/tedx/events?autocomplete_filter=French+Guiana&year=2013&page=1&when=past'"
      ]
     },
     "metadata": {},
     "output_type": "display_data"
    },
    {
     "data": {
      "text/plain": [
       "'https://www.ted.com/tedx/events?autocomplete_filter=Estonia&year=2010&page=1&when=past'"
      ]
     },
     "metadata": {},
     "output_type": "display_data"
    },
    {
     "data": {
      "text/plain": [
       "'https://www.ted.com/tedx/events?autocomplete_filter=French+Southern+Territories&year=2016&page=1&when=past'"
      ]
     },
     "metadata": {},
     "output_type": "display_data"
    },
    {
     "data": {
      "text/plain": [
       "'https://www.ted.com/tedx/events?autocomplete_filter=Fiji&year=2013&page=1&when=past'"
      ]
     },
     "metadata": {},
     "output_type": "display_data"
    },
    {
     "data": {
      "text/plain": [
       "'https://www.ted.com/tedx/events?autocomplete_filter=Equatorial+Guinea&year=2012&page=1&when=past'"
      ]
     },
     "metadata": {},
     "output_type": "display_data"
    },
    {
     "data": {
      "text/plain": [
       "'https://www.ted.com/tedx/events?autocomplete_filter=French+Guiana&year=2014&page=1&when=past'"
      ]
     },
     "metadata": {},
     "output_type": "display_data"
    },
    {
     "data": {
      "text/plain": [
       "'https://www.ted.com/tedx/events?autocomplete_filter=Faroe+Islands&year=2011&page=1&when=past'"
      ]
     },
     "metadata": {},
     "output_type": "display_data"
    },
    {
     "data": {
      "text/plain": [
       "'https://www.ted.com/tedx/events?autocomplete_filter=Fiji&year=2009&page=1&when=past'"
      ]
     },
     "metadata": {},
     "output_type": "display_data"
    },
    {
     "data": {
      "text/plain": [
       "'https://www.ted.com/tedx/events?autocomplete_filter=Ethiopia&year=2017&page=1&when=past'"
      ]
     },
     "metadata": {},
     "output_type": "display_data"
    },
    {
     "data": {
      "text/plain": [
       "'https://www.ted.com/tedx/events?autocomplete_filter=Faroe+Islands&year=2020&page=1&when=past'"
      ]
     },
     "metadata": {},
     "output_type": "display_data"
    },
    {
     "data": {
      "text/plain": [
       "'https://www.ted.com/tedx/events?autocomplete_filter=French+Guiana&year=2012&page=1&when=past'"
      ]
     },
     "metadata": {},
     "output_type": "display_data"
    },
    {
     "data": {
      "text/plain": [
       "'https://www.ted.com/tedx/events?autocomplete_filter=Falkland+Islands+(malvinas)&year=2019&page=1&when=past'"
      ]
     },
     "metadata": {},
     "output_type": "display_data"
    },
    {
     "data": {
      "text/plain": [
       "'https://www.ted.com/tedx/events?autocomplete_filter=French+Guiana&year=2011&page=1&when=past'"
      ]
     },
     "metadata": {},
     "output_type": "display_data"
    },
    {
     "data": {
      "text/plain": [
       "'https://www.ted.com/tedx/events?autocomplete_filter=French+Polynesia&year=2016&page=1&when=past'"
      ]
     },
     "metadata": {},
     "output_type": "display_data"
    },
    {
     "data": {
      "text/plain": [
       "'https://www.ted.com/tedx/events?autocomplete_filter=France&year=2018&page=1&when=past'"
      ]
     },
     "metadata": {},
     "output_type": "display_data"
    },
    {
     "data": {
      "text/plain": [
       "'https://www.ted.com/tedx/events?autocomplete_filter=Ethiopia&year=2013&page=1&when=past'"
      ]
     },
     "metadata": {},
     "output_type": "display_data"
    },
    {
     "data": {
      "text/plain": [
       "'https://www.ted.com/tedx/events?autocomplete_filter=Gabon&year=2019&page=1&when=past'"
      ]
     },
     "metadata": {},
     "output_type": "display_data"
    },
    {
     "data": {
      "text/plain": [
       "'https://www.ted.com/tedx/events?autocomplete_filter=Finland&year=2016&page=1&when=past'"
      ]
     },
     "metadata": {},
     "output_type": "display_data"
    },
    {
     "data": {
      "text/plain": [
       "'https://www.ted.com/tedx/events?autocomplete_filter=Eritrea&year=2015&page=1&when=past'"
      ]
     },
     "metadata": {},
     "output_type": "display_data"
    },
    {
     "data": {
      "text/plain": [
       "'https://www.ted.com/tedx/events?autocomplete_filter=French+Polynesia&year=2017&page=1&when=past'"
      ]
     },
     "metadata": {},
     "output_type": "display_data"
    },
    {
     "data": {
      "text/plain": [
       "'https://www.ted.com/tedx/events?autocomplete_filter=Fiji&year=2014&page=1&when=past'"
      ]
     },
     "metadata": {},
     "output_type": "display_data"
    },
    {
     "data": {
      "text/plain": [
       "'https://www.ted.com/tedx/events?autocomplete_filter=Finland&year=2012&page=1&when=past'"
      ]
     },
     "metadata": {},
     "output_type": "display_data"
    },
    {
     "data": {
      "text/plain": [
       "'https://www.ted.com/tedx/events?autocomplete_filter=Falkland+Islands+(malvinas)&year=2020&page=1&when=past'"
      ]
     },
     "metadata": {},
     "output_type": "display_data"
    },
    {
     "data": {
      "text/plain": [
       "'https://www.ted.com/tedx/events?autocomplete_filter=French+Polynesia&year=2015&page=1&when=past'"
      ]
     },
     "metadata": {},
     "output_type": "display_data"
    },
    {
     "data": {
      "text/plain": [
       "'https://www.ted.com/tedx/events?autocomplete_filter=Finland&year=2011&page=1&when=past'"
      ]
     },
     "metadata": {},
     "output_type": "display_data"
    },
    {
     "data": {
      "text/plain": [
       "'https://www.ted.com/tedx/events?autocomplete_filter=Fiji&year=2010&page=1&when=past'"
      ]
     },
     "metadata": {},
     "output_type": "display_data"
    },
    {
     "data": {
      "text/plain": [
       "'https://www.ted.com/tedx/events?autocomplete_filter=French+Polynesia&year=2014&page=1&when=past'"
      ]
     },
     "metadata": {},
     "output_type": "display_data"
    },
    {
     "data": {
      "text/plain": [
       "'https://www.ted.com/tedx/events?autocomplete_filter=French+Southern+Territories&year=2019&page=1&when=past'"
      ]
     },
     "metadata": {},
     "output_type": "display_data"
    },
    {
     "data": {
      "text/plain": [
       "'https://www.ted.com/tedx/events?autocomplete_filter=French+Polynesia&year=2009&page=1&when=past'"
      ]
     },
     "metadata": {},
     "output_type": "display_data"
    },
    {
     "data": {
      "text/plain": [
       "'https://www.ted.com/tedx/events?autocomplete_filter=Falkland+Islands+(malvinas)&year=2016&page=1&when=past'"
      ]
     },
     "metadata": {},
     "output_type": "display_data"
    },
    {
     "data": {
      "text/plain": [
       "'https://www.ted.com/tedx/events?autocomplete_filter=French+Polynesia&year=2018&page=1&when=past'"
      ]
     },
     "metadata": {},
     "output_type": "display_data"
    },
    {
     "data": {
      "text/plain": [
       "'https://www.ted.com/tedx/events?autocomplete_filter=Georgia&year=2010&page=1&when=past'"
      ]
     },
     "metadata": {},
     "output_type": "display_data"
    },
    {
     "data": {
      "text/plain": [
       "'https://www.ted.com/tedx/events?autocomplete_filter=France&year=2019&page=1&when=past'"
      ]
     },
     "metadata": {},
     "output_type": "display_data"
    },
    {
     "data": {
      "text/plain": [
       "'https://www.ted.com/tedx/events?autocomplete_filter=Estonia&year=2018&page=1&when=past'"
      ]
     },
     "metadata": {},
     "output_type": "display_data"
    },
    {
     "data": {
      "text/plain": [
       "'https://www.ted.com/tedx/events?autocomplete_filter=French+Southern+Territories&year=2020&page=1&when=past'"
      ]
     },
     "metadata": {},
     "output_type": "display_data"
    },
    {
     "data": {
      "text/plain": [
       "'https://www.ted.com/tedx/events?autocomplete_filter=Finland&year=2017&page=1&when=past'"
      ]
     },
     "metadata": {},
     "output_type": "display_data"
    },
    {
     "data": {
      "text/plain": [
       "'https://www.ted.com/tedx/events?autocomplete_filter=France&year=2015&page=1&when=past'"
      ]
     },
     "metadata": {},
     "output_type": "display_data"
    },
    {
     "data": {
      "text/plain": [
       "'https://www.ted.com/tedx/events?autocomplete_filter=Fiji&year=2011&page=1&when=past'"
      ]
     },
     "metadata": {},
     "output_type": "display_data"
    },
    {
     "data": {
      "text/plain": [
       "'https://www.ted.com/tedx/events?autocomplete_filter=French+Southern+Territories&year=2018&page=1&when=past'"
      ]
     },
     "metadata": {},
     "output_type": "display_data"
    },
    {
     "data": {
      "text/plain": [
       "'https://www.ted.com/tedx/events?autocomplete_filter=France&year=2014&page=1&when=past'"
      ]
     },
     "metadata": {},
     "output_type": "display_data"
    },
    {
     "data": {
      "text/plain": [
       "'https://www.ted.com/tedx/events?autocomplete_filter=Finland&year=2013&page=1&when=past'"
      ]
     },
     "metadata": {},
     "output_type": "display_data"
    },
    {
     "data": {
      "text/plain": [
       "'https://www.ted.com/tedx/events?autocomplete_filter=Gambia&year=2010&page=1&when=past'"
      ]
     },
     "metadata": {},
     "output_type": "display_data"
    },
    {
     "data": {
      "text/plain": [
       "'https://www.ted.com/tedx/events?autocomplete_filter=French+Southern+Territories&year=2017&page=1&when=past'"
      ]
     },
     "metadata": {},
     "output_type": "display_data"
    },
    {
     "data": {
      "text/plain": [
       "'https://www.ted.com/tedx/events?autocomplete_filter=French+Southern+Territories&year=2012&page=1&when=past'"
      ]
     },
     "metadata": {},
     "output_type": "display_data"
    },
    {
     "data": {
      "text/plain": [
       "'https://www.ted.com/tedx/events?autocomplete_filter=Faroe+Islands&year=2019&page=1&when=past'"
      ]
     },
     "metadata": {},
     "output_type": "display_data"
    },
    {
     "data": {
      "text/plain": [
       "'https://www.ted.com/tedx/events?autocomplete_filter=Gabon&year=2009&page=1&when=past'"
      ]
     },
     "metadata": {},
     "output_type": "display_data"
    },
    {
     "data": {
      "text/plain": [
       "'https://www.ted.com/tedx/events?autocomplete_filter=Germany&year=2013&page=1&when=past'"
      ]
     },
     "metadata": {},
     "output_type": "display_data"
    },
    {
     "data": {
      "text/plain": [
       "'https://www.ted.com/tedx/events?autocomplete_filter=French+Polynesia&year=2010&page=1&when=past'"
      ]
     },
     "metadata": {},
     "output_type": "display_data"
    },
    {
     "data": {
      "text/plain": [
       "'https://www.ted.com/tedx/events?autocomplete_filter=Falkland+Islands+(malvinas)&year=2009&page=1&when=past'"
      ]
     },
     "metadata": {},
     "output_type": "display_data"
    },
    {
     "data": {
      "text/plain": [
       "'https://www.ted.com/tedx/events?autocomplete_filter=Gambia&year=2011&page=1&when=past'"
      ]
     },
     "metadata": {},
     "output_type": "display_data"
    },
    {
     "data": {
      "text/plain": [
       "'https://www.ted.com/tedx/events?autocomplete_filter=French+Guiana&year=2018&page=1&when=past'"
      ]
     },
     "metadata": {},
     "output_type": "display_data"
    },
    {
     "data": {
      "text/plain": [
       "'https://www.ted.com/tedx/events?autocomplete_filter=Finland&year=2014&page=1&when=past'"
      ]
     },
     "metadata": {},
     "output_type": "display_data"
    },
    {
     "data": {
      "text/plain": [
       "'https://www.ted.com/tedx/events?autocomplete_filter=Gambia&year=2009&page=1&when=past'"
      ]
     },
     "metadata": {},
     "output_type": "display_data"
    },
    {
     "data": {
      "text/plain": [
       "'https://www.ted.com/tedx/events?autocomplete_filter=French+Guiana&year=2017&page=1&when=past'"
      ]
     },
     "metadata": {},
     "output_type": "display_data"
    },
    {
     "data": {
      "text/plain": [
       "'https://www.ted.com/tedx/events?autocomplete_filter=France&year=2016&page=1&when=past'"
      ]
     },
     "metadata": {},
     "output_type": "display_data"
    },
    {
     "data": {
      "text/plain": [
       "'https://www.ted.com/tedx/events?autocomplete_filter=Gabon&year=2020&page=1&when=past'"
      ]
     },
     "metadata": {},
     "output_type": "display_data"
    },
    {
     "data": {
      "text/plain": [
       "'https://www.ted.com/tedx/events?autocomplete_filter=Gabon&year=2015&page=1&when=past'"
      ]
     },
     "metadata": {},
     "output_type": "display_data"
    },
    {
     "data": {
      "text/plain": [
       "'https://www.ted.com/tedx/events?autocomplete_filter=Finland&year=2010&page=1&when=past'"
      ]
     },
     "metadata": {},
     "output_type": "display_data"
    },
    {
     "data": {
      "text/plain": [
       "'https://www.ted.com/tedx/events?autocomplete_filter=Georgia&year=2013&page=1&when=past'"
      ]
     },
     "metadata": {},
     "output_type": "display_data"
    },
    {
     "data": {
      "text/plain": [
       "'https://www.ted.com/tedx/events?autocomplete_filter=Gambia&year=2012&page=1&when=past'"
      ]
     },
     "metadata": {},
     "output_type": "display_data"
    },
    {
     "data": {
      "text/plain": [
       "'https://www.ted.com/tedx/events?autocomplete_filter=Ghana&year=2016&page=1&when=past'"
      ]
     },
     "metadata": {},
     "output_type": "display_data"
    },
    {
     "data": {
      "text/plain": [
       "'https://www.ted.com/tedx/events?autocomplete_filter=Faroe+Islands&year=2012&page=1&when=past'"
      ]
     },
     "metadata": {},
     "output_type": "display_data"
    },
    {
     "data": {
      "text/plain": [
       "'https://www.ted.com/tedx/events?autocomplete_filter=French+Southern+Territories&year=2013&page=1&when=past'"
      ]
     },
     "metadata": {},
     "output_type": "display_data"
    },
    {
     "data": {
      "text/plain": [
       "'https://www.ted.com/tedx/events?autocomplete_filter=Georgia&year=2014&page=1&when=past'"
      ]
     },
     "metadata": {},
     "output_type": "display_data"
    },
    {
     "data": {
      "text/plain": [
       "'https://www.ted.com/tedx/events?autocomplete_filter=France&year=2017&page=1&when=past'"
      ]
     },
     "metadata": {},
     "output_type": "display_data"
    },
    {
     "data": {
      "text/plain": [
       "'https://www.ted.com/tedx/events?autocomplete_filter=French+Southern+Territories&year=2009&page=1&when=past'"
      ]
     },
     "metadata": {},
     "output_type": "display_data"
    },
    {
     "data": {
      "text/plain": [
       "'https://www.ted.com/tedx/events?autocomplete_filter=Georgia&year=2012&page=1&when=past'"
      ]
     },
     "metadata": {},
     "output_type": "display_data"
    },
    {
     "data": {
      "text/plain": [
       "'https://www.ted.com/tedx/events?autocomplete_filter=French+Polynesia&year=2020&page=1&when=past'"
      ]
     },
     "metadata": {},
     "output_type": "display_data"
    },
    {
     "data": {
      "text/plain": [
       "'https://www.ted.com/tedx/events?autocomplete_filter=French+Guiana&year=2019&page=1&when=past'"
      ]
     },
     "metadata": {},
     "output_type": "display_data"
    },
    {
     "data": {
      "text/plain": [
       "'https://www.ted.com/tedx/events?autocomplete_filter=France&year=2020&page=1&when=past'"
      ]
     },
     "metadata": {},
     "output_type": "display_data"
    },
    {
     "data": {
      "text/plain": [
       "'https://www.ted.com/tedx/events?autocomplete_filter=Georgia&year=2011&page=1&when=past'"
      ]
     },
     "metadata": {},
     "output_type": "display_data"
    },
    {
     "data": {
      "text/plain": [
       "'https://www.ted.com/tedx/events?autocomplete_filter=Gambia&year=2018&page=1&when=past'"
      ]
     },
     "metadata": {},
     "output_type": "display_data"
    },
    {
     "data": {
      "text/plain": [
       "'https://www.ted.com/tedx/events?autocomplete_filter=Germany&year=2016&page=1&when=past'"
      ]
     },
     "metadata": {},
     "output_type": "display_data"
    },
    {
     "data": {
      "text/plain": [
       "'https://www.ted.com/tedx/events?autocomplete_filter=France&year=2013&page=1&when=past'"
      ]
     },
     "metadata": {},
     "output_type": "display_data"
    },
    {
     "data": {
      "text/plain": [
       "'https://www.ted.com/tedx/events?autocomplete_filter=Georgia&year=2015&page=1&when=past'"
      ]
     },
     "metadata": {},
     "output_type": "display_data"
    },
    {
     "data": {
      "text/plain": [
       "'https://www.ted.com/tedx/events?autocomplete_filter=Gibraltar&year=2019&page=1&when=past'"
      ]
     },
     "metadata": {},
     "output_type": "display_data"
    },
    {
     "data": {
      "text/plain": [
       "'https://www.ted.com/tedx/events?autocomplete_filter=Gabon&year=2016&page=1&when=past'"
      ]
     },
     "metadata": {},
     "output_type": "display_data"
    },
    {
     "data": {
      "text/plain": [
       "'https://www.ted.com/tedx/events?autocomplete_filter=Fiji&year=2015&page=1&when=past'"
      ]
     },
     "metadata": {},
     "output_type": "display_data"
    },
    {
     "data": {
      "text/plain": [
       "'https://www.ted.com/tedx/events?autocomplete_filter=Germany&year=2017&page=1&when=past'"
      ]
     },
     "metadata": {},
     "output_type": "display_data"
    },
    {
     "data": {
      "text/plain": [
       "'https://www.ted.com/tedx/events?autocomplete_filter=French+Guiana&year=2020&page=1&when=past'"
      ]
     },
     "metadata": {},
     "output_type": "display_data"
    },
    {
     "data": {
      "text/plain": [
       "'https://www.ted.com/tedx/events?autocomplete_filter=Germany&year=2015&page=1&when=past'"
      ]
     },
     "metadata": {},
     "output_type": "display_data"
    },
    {
     "data": {
      "text/plain": [
       "'https://www.ted.com/tedx/events?autocomplete_filter=Gabon&year=2012&page=1&when=past'"
      ]
     },
     "metadata": {},
     "output_type": "display_data"
    },
    {
     "data": {
      "text/plain": [
       "'https://www.ted.com/tedx/events?autocomplete_filter=Gabon&year=2011&page=1&when=past'"
      ]
     },
     "metadata": {},
     "output_type": "display_data"
    },
    {
     "data": {
      "text/plain": [
       "'https://www.ted.com/tedx/events?autocomplete_filter=French+Polynesia&year=2011&page=1&when=past'"
      ]
     },
     "metadata": {},
     "output_type": "display_data"
    },
    {
     "data": {
      "text/plain": [
       "'https://www.ted.com/tedx/events?autocomplete_filter=French+Southern+Territories&year=2010&page=1&when=past'"
      ]
     },
     "metadata": {},
     "output_type": "display_data"
    },
    {
     "data": {
      "text/plain": [
       "'https://www.ted.com/tedx/events?autocomplete_filter=Germany&year=2014&page=1&when=past'"
      ]
     },
     "metadata": {},
     "output_type": "display_data"
    },
    {
     "data": {
      "text/plain": [
       "'https://www.ted.com/tedx/events?autocomplete_filter=Germany&year=2009&page=1&when=past'"
      ]
     },
     "metadata": {},
     "output_type": "display_data"
    },
    {
     "data": {
      "text/plain": [
       "'https://www.ted.com/tedx/events?autocomplete_filter=Ghana&year=2019&page=1&when=past'"
      ]
     },
     "metadata": {},
     "output_type": "display_data"
    },
    {
     "data": {
      "text/plain": [
       "'https://www.ted.com/tedx/events?autocomplete_filter=French+Guiana&year=2016&page=1&when=past'"
      ]
     },
     "metadata": {},
     "output_type": "display_data"
    },
    {
     "data": {
      "text/plain": [
       "'https://www.ted.com/tedx/events?autocomplete_filter=Germany&year=2018&page=1&when=past'"
      ]
     },
     "metadata": {},
     "output_type": "display_data"
    },
    {
     "data": {
      "text/plain": [
       "'https://www.ted.com/tedx/events?autocomplete_filter=Greenland&year=2010&page=1&when=past'"
      ]
     },
     "metadata": {},
     "output_type": "display_data"
    },
    {
     "data": {
      "text/plain": [
       "'https://www.ted.com/tedx/events?autocomplete_filter=Finland&year=2018&page=1&when=past'"
      ]
     },
     "metadata": {},
     "output_type": "display_data"
    },
    {
     "data": {
      "text/plain": [
       "'https://www.ted.com/tedx/events?autocomplete_filter=Gambia&year=2019&page=1&when=past'"
      ]
     },
     "metadata": {},
     "output_type": "display_data"
    },
    {
     "data": {
      "text/plain": [
       "'https://www.ted.com/tedx/events?autocomplete_filter=Ghana&year=2020&page=1&when=past'"
      ]
     },
     "metadata": {},
     "output_type": "display_data"
    },
    {
     "data": {
      "text/plain": [
       "'https://www.ted.com/tedx/events?autocomplete_filter=French+Southern+Territories&year=2011&page=1&when=past'"
      ]
     },
     "metadata": {},
     "output_type": "display_data"
    },
    {
     "data": {
      "text/plain": [
       "'https://www.ted.com/tedx/events?autocomplete_filter=Gambia&year=2015&page=1&when=past'"
      ]
     },
     "metadata": {},
     "output_type": "display_data"
    },
    {
     "data": {
      "text/plain": [
       "'https://www.ted.com/tedx/events?autocomplete_filter=Gambia&year=2014&page=1&when=past'"
      ]
     },
     "metadata": {},
     "output_type": "display_data"
    },
    {
     "data": {
      "text/plain": [
       "'https://www.ted.com/tedx/events?autocomplete_filter=Ghana&year=2018&page=1&when=past'"
      ]
     },
     "metadata": {},
     "output_type": "display_data"
    },
    {
     "data": {
      "text/plain": [
       "'https://www.ted.com/tedx/events?autocomplete_filter=French+Southern+Territories&year=2014&page=1&when=past'"
      ]
     },
     "metadata": {},
     "output_type": "display_data"
    },
    {
     "data": {
      "text/plain": [
       "'https://www.ted.com/tedx/events?autocomplete_filter=Gabon&year=2013&page=1&when=past'"
      ]
     },
     "metadata": {},
     "output_type": "display_data"
    },
    {
     "data": {
      "text/plain": [
       "'https://www.ted.com/tedx/events?autocomplete_filter=Ghana&year=2017&page=1&when=past'"
      ]
     },
     "metadata": {},
     "output_type": "display_data"
    },
    {
     "data": {
      "text/plain": [
       "'https://www.ted.com/tedx/events?autocomplete_filter=Ghana&year=2012&page=1&when=past'"
      ]
     },
     "metadata": {},
     "output_type": "display_data"
    },
    {
     "data": {
      "text/plain": [
       "'https://www.ted.com/tedx/events?autocomplete_filter=Greece&year=2010&page=1&when=past'"
      ]
     },
     "metadata": {},
     "output_type": "display_data"
    },
    {
     "data": {
      "text/plain": [
       "'https://www.ted.com/tedx/events?autocomplete_filter=Gibraltar&year=2009&page=1&when=past'"
      ]
     },
     "metadata": {},
     "output_type": "display_data"
    },
    {
     "data": {
      "text/plain": [
       "'https://www.ted.com/tedx/events?autocomplete_filter=French+Polynesia&year=2019&page=1&when=past'"
      ]
     },
     "metadata": {},
     "output_type": "display_data"
    },
    {
     "data": {
      "text/plain": [
       "'https://www.ted.com/tedx/events?autocomplete_filter=Grenada&year=2013&page=1&when=past'"
      ]
     },
     "metadata": {},
     "output_type": "display_data"
    },
    {
     "data": {
      "text/plain": [
       "'https://www.ted.com/tedx/events?autocomplete_filter=Germany&year=2010&page=1&when=past'"
      ]
     },
     "metadata": {},
     "output_type": "display_data"
    },
    {
     "data": {
      "text/plain": [
       "'https://www.ted.com/tedx/events?autocomplete_filter=French+Guiana&year=2009&page=1&when=past'"
      ]
     },
     "metadata": {},
     "output_type": "display_data"
    },
    {
     "data": {
      "text/plain": [
       "'https://www.ted.com/tedx/events?autocomplete_filter=Greece&year=2011&page=1&when=past'"
      ]
     },
     "metadata": {},
     "output_type": "display_data"
    },
    {
     "data": {
      "text/plain": [
       "'https://www.ted.com/tedx/events?autocomplete_filter=Gabon&year=2014&page=1&when=past'"
      ]
     },
     "metadata": {},
     "output_type": "display_data"
    },
    {
     "data": {
      "text/plain": [
       "'https://www.ted.com/tedx/events?autocomplete_filter=Georgia&year=2017&page=1&when=past'"
      ]
     },
     "metadata": {},
     "output_type": "display_data"
    },
    {
     "data": {
      "text/plain": [
       "'https://www.ted.com/tedx/events?autocomplete_filter=Georgia&year=2018&page=1&when=past'"
      ]
     },
     "metadata": {},
     "output_type": "display_data"
    },
    {
     "data": {
      "text/plain": [
       "'https://www.ted.com/tedx/events?autocomplete_filter=Greece&year=2009&page=1&when=past'"
      ]
     },
     "metadata": {},
     "output_type": "display_data"
    },
    {
     "data": {
      "text/plain": [
       "'https://www.ted.com/tedx/events?autocomplete_filter=Gambia&year=2016&page=1&when=past'"
      ]
     },
     "metadata": {},
     "output_type": "display_data"
    },
    {
     "data": {
      "text/plain": [
       "'https://www.ted.com/tedx/events?autocomplete_filter=Gabon&year=2017&page=1&when=past'"
      ]
     },
     "metadata": {},
     "output_type": "display_data"
    },
    {
     "data": {
      "text/plain": [
       "'https://www.ted.com/tedx/events?autocomplete_filter=Gibraltar&year=2020&page=1&when=past'"
      ]
     },
     "metadata": {},
     "output_type": "display_data"
    },
    {
     "data": {
      "text/plain": [
       "'https://www.ted.com/tedx/events?autocomplete_filter=Gibraltar&year=2015&page=1&when=past'"
      ]
     },
     "metadata": {},
     "output_type": "display_data"
    },
    {
     "data": {
      "text/plain": [
       "'https://www.ted.com/tedx/events?autocomplete_filter=Greenland&year=2013&page=1&when=past'"
      ]
     },
     "metadata": {},
     "output_type": "display_data"
    },
    {
     "data": {
      "text/plain": [
       "'https://www.ted.com/tedx/events?autocomplete_filter=Greece&year=2012&page=1&when=past'"
      ]
     },
     "metadata": {},
     "output_type": "display_data"
    },
    {
     "data": {
      "text/plain": [
       "'https://www.ted.com/tedx/events?autocomplete_filter=Gabon&year=2010&page=1&when=past'"
      ]
     },
     "metadata": {},
     "output_type": "display_data"
    },
    {
     "data": {
      "text/plain": [
       "'https://www.ted.com/tedx/events?autocomplete_filter=Guadeloupe&year=2016&page=1&when=past'"
      ]
     },
     "metadata": {},
     "output_type": "display_data"
    },
    {
     "data": {
      "text/plain": [
       "'https://www.ted.com/tedx/events?autocomplete_filter=Ghana&year=2013&page=1&when=past'"
      ]
     },
     "metadata": {},
     "output_type": "display_data"
    },
    {
     "data": {
      "text/plain": [
       "'https://www.ted.com/tedx/events?autocomplete_filter=French+Polynesia&year=2012&page=1&when=past'"
      ]
     },
     "metadata": {},
     "output_type": "display_data"
    },
    {
     "data": {
      "text/plain": [
       "'https://www.ted.com/tedx/events?autocomplete_filter=Greenland&year=2014&page=1&when=past'"
      ]
     },
     "metadata": {},
     "output_type": "display_data"
    },
    {
     "data": {
      "text/plain": [
       "'https://www.ted.com/tedx/events?autocomplete_filter=Gambia&year=2017&page=1&when=past'"
      ]
     },
     "metadata": {},
     "output_type": "display_data"
    },
    {
     "data": {
      "text/plain": [
       "'https://www.ted.com/tedx/events?autocomplete_filter=Germany&year=2020&page=1&when=past'"
      ]
     },
     "metadata": {},
     "output_type": "display_data"
    },
    {
     "data": {
      "text/plain": [
       "'https://www.ted.com/tedx/events?autocomplete_filter=Ghana&year=2009&page=1&when=past'"
      ]
     },
     "metadata": {},
     "output_type": "display_data"
    },
    {
     "data": {
      "text/plain": [
       "'https://www.ted.com/tedx/events?autocomplete_filter=Greenland&year=2012&page=1&when=past'"
      ]
     },
     "metadata": {},
     "output_type": "display_data"
    },
    {
     "data": {
      "text/plain": [
       "'https://www.ted.com/tedx/events?autocomplete_filter=Georgia&year=2019&page=1&when=past'"
      ]
     },
     "metadata": {},
     "output_type": "display_data"
    },
    {
     "data": {
      "text/plain": [
       "'https://www.ted.com/tedx/events?autocomplete_filter=Gambia&year=2020&page=1&when=past'"
      ]
     },
     "metadata": {},
     "output_type": "display_data"
    },
    {
     "data": {
      "text/plain": [
       "'https://www.ted.com/tedx/events?autocomplete_filter=Greenland&year=2011&page=1&when=past'"
      ]
     },
     "metadata": {},
     "output_type": "display_data"
    },
    {
     "data": {
      "text/plain": [
       "'https://www.ted.com/tedx/events?autocomplete_filter=Greece&year=2018&page=1&when=past'"
      ]
     },
     "metadata": {},
     "output_type": "display_data"
    },
    {
     "data": {
      "text/plain": [
       "'https://www.ted.com/tedx/events?autocomplete_filter=Grenada&year=2016&page=1&when=past'"
      ]
     },
     "metadata": {},
     "output_type": "display_data"
    },
    {
     "data": {
      "text/plain": [
       "'https://www.ted.com/tedx/events?autocomplete_filter=Greenland&year=2015&page=1&when=past'"
      ]
     },
     "metadata": {},
     "output_type": "display_data"
    },
    {
     "data": {
      "text/plain": [
       "'https://www.ted.com/tedx/events?autocomplete_filter=Gambia&year=2013&page=1&when=past'"
      ]
     },
     "metadata": {},
     "output_type": "display_data"
    },
    {
     "data": {
      "text/plain": [
       "'https://www.ted.com/tedx/events?autocomplete_filter=Guam&year=2019&page=1&when=past'"
      ]
     },
     "metadata": {},
     "output_type": "display_data"
    },
    {
     "data": {
      "text/plain": [
       "'https://www.ted.com/tedx/events?autocomplete_filter=Gibraltar&year=2016&page=1&when=past'"
      ]
     },
     "metadata": {},
     "output_type": "display_data"
    },
    {
     "data": {
      "text/plain": [
       "'https://www.ted.com/tedx/events?autocomplete_filter=French+Southern+Territories&year=2015&page=1&when=past'"
      ]
     },
     "metadata": {},
     "output_type": "display_data"
    },
    {
     "data": {
      "text/plain": [
       "'https://www.ted.com/tedx/events?autocomplete_filter=Georgia&year=2020&page=1&when=past'"
      ]
     },
     "metadata": {},
     "output_type": "display_data"
    },
    {
     "data": {
      "text/plain": [
       "'https://www.ted.com/tedx/events?autocomplete_filter=Gibraltar&year=2011&page=1&when=past'"
      ]
     },
     "metadata": {},
     "output_type": "display_data"
    },
    {
     "data": {
      "text/plain": [
       "'https://www.ted.com/tedx/events?autocomplete_filter=Grenada&year=2017&page=1&when=past'"
      ]
     },
     "metadata": {},
     "output_type": "display_data"
    },
    {
     "data": {
      "text/plain": [
       "'https://www.ted.com/tedx/events?autocomplete_filter=Gibraltar&year=2012&page=1&when=past'"
      ]
     },
     "metadata": {},
     "output_type": "display_data"
    },
    {
     "data": {
      "text/plain": [
       "'https://www.ted.com/tedx/events?autocomplete_filter=Grenada&year=2015&page=1&when=past'"
      ]
     },
     "metadata": {},
     "output_type": "display_data"
    },
    {
     "data": {
      "text/plain": [
       "'https://www.ted.com/tedx/events?autocomplete_filter=Germany&year=2011&page=1&when=past'"
      ]
     },
     "metadata": {},
     "output_type": "display_data"
    },
    {
     "data": {
      "text/plain": [
       "'https://www.ted.com/tedx/events?autocomplete_filter=Ghana&year=2010&page=1&when=past'"
      ]
     },
     "metadata": {},
     "output_type": "display_data"
    },
    {
     "data": {
      "text/plain": [
       "'https://www.ted.com/tedx/events?autocomplete_filter=Grenada&year=2014&page=1&when=past'"
      ]
     },
     "metadata": {},
     "output_type": "display_data"
    },
    {
     "data": {
      "text/plain": [
       "'https://www.ted.com/tedx/events?autocomplete_filter=Grenada&year=2009&page=1&when=past'"
      ]
     },
     "metadata": {},
     "output_type": "display_data"
    },
    {
     "data": {
      "text/plain": [
       "'https://www.ted.com/tedx/events?autocomplete_filter=Guadeloupe&year=2019&page=1&when=past'"
      ]
     },
     "metadata": {},
     "output_type": "display_data"
    },
    {
     "data": {
      "text/plain": [
       "'https://www.ted.com/tedx/events?autocomplete_filter=Georgia&year=2016&page=1&when=past'"
      ]
     },
     "metadata": {},
     "output_type": "display_data"
    },
    {
     "data": {
      "text/plain": [
       "'https://www.ted.com/tedx/events?autocomplete_filter=Grenada&year=2018&page=1&when=past'"
      ]
     },
     "metadata": {},
     "output_type": "display_data"
    },
    {
     "data": {
      "text/plain": [
       "'https://www.ted.com/tedx/events?autocomplete_filter=Guinea&year=2010&page=1&when=past'"
      ]
     },
     "metadata": {},
     "output_type": "display_data"
    },
    {
     "data": {
      "text/plain": [
       "'https://www.ted.com/tedx/events?autocomplete_filter=Greece&year=2019&page=1&when=past'"
      ]
     },
     "metadata": {},
     "output_type": "display_data"
    },
    {
     "data": {
      "text/plain": [
       "'https://www.ted.com/tedx/events?autocomplete_filter=Gabon&year=2018&page=1&when=past'"
      ]
     },
     "metadata": {},
     "output_type": "display_data"
    },
    {
     "data": {
      "text/plain": [
       "'https://www.ted.com/tedx/events?autocomplete_filter=Ghana&year=2011&page=1&when=past'"
      ]
     },
     "metadata": {},
     "output_type": "display_data"
    },
    {
     "data": {
      "text/plain": [
       "'https://www.ted.com/tedx/events?autocomplete_filter=Greece&year=2015&page=1&when=past'"
      ]
     },
     "metadata": {},
     "output_type": "display_data"
    },
    {
     "data": {
      "text/plain": [
       "'https://www.ted.com/tedx/events?autocomplete_filter=Greece&year=2014&page=1&when=past'"
      ]
     },
     "metadata": {},
     "output_type": "display_data"
    },
    {
     "data": {
      "text/plain": [
       "'https://www.ted.com/tedx/events?autocomplete_filter=Guadeloupe&year=2020&page=1&when=past'"
      ]
     },
     "metadata": {},
     "output_type": "display_data"
    },
    {
     "data": {
      "text/plain": [
       "'https://www.ted.com/tedx/events?autocomplete_filter=Guadeloupe&year=2018&page=1&when=past'"
      ]
     },
     "metadata": {},
     "output_type": "display_data"
    },
    {
     "data": {
      "text/plain": [
       "'https://www.ted.com/tedx/events?autocomplete_filter=Ghana&year=2014&page=1&when=past'"
      ]
     },
     "metadata": {},
     "output_type": "display_data"
    },
    {
     "data": {
      "text/plain": [
       "'https://www.ted.com/tedx/events?autocomplete_filter=Gibraltar&year=2013&page=1&when=past'"
      ]
     },
     "metadata": {},
     "output_type": "display_data"
    },
    {
     "data": {
      "text/plain": [
       "'https://www.ted.com/tedx/events?autocomplete_filter=Guadeloupe&year=2017&page=1&when=past'"
      ]
     },
     "metadata": {},
     "output_type": "display_data"
    },
    {
     "data": {
      "text/plain": [
       "'https://www.ted.com/tedx/events?autocomplete_filter=Guadeloupe&year=2012&page=1&when=past'"
      ]
     },
     "metadata": {},
     "output_type": "display_data"
    },
    {
     "data": {
      "text/plain": [
       "'https://www.ted.com/tedx/events?autocomplete_filter=Guatemala&year=2010&page=1&when=past'"
      ]
     },
     "metadata": {},
     "output_type": "display_data"
    },
    {
     "data": {
      "text/plain": [
       "'https://www.ted.com/tedx/events?autocomplete_filter=Germany&year=2019&page=1&when=past'"
      ]
     },
     "metadata": {},
     "output_type": "display_data"
    },
    {
     "data": {
      "text/plain": [
       "'https://www.ted.com/tedx/events?autocomplete_filter=Guam&year=2009&page=1&when=past'"
      ]
     },
     "metadata": {},
     "output_type": "display_data"
    },
    {
     "data": {
      "text/plain": [
       "'https://www.ted.com/tedx/events?autocomplete_filter=Guinea-bissau&year=2013&page=1&when=past'"
      ]
     },
     "metadata": {},
     "output_type": "display_data"
    },
    {
     "data": {
      "text/plain": [
       "'https://www.ted.com/tedx/events?autocomplete_filter=Grenada&year=2010&page=1&when=past'"
      ]
     },
     "metadata": {},
     "output_type": "display_data"
    },
    {
     "data": {
      "text/plain": [
       "'https://www.ted.com/tedx/events?autocomplete_filter=Georgia&year=2009&page=1&when=past'"
      ]
     },
     "metadata": {},
     "output_type": "display_data"
    },
    {
     "data": {
      "text/plain": [
       "'https://www.ted.com/tedx/events?autocomplete_filter=Gibraltar&year=2014&page=1&when=past'"
      ]
     },
     "metadata": {},
     "output_type": "display_data"
    },
    {
     "data": {
      "text/plain": [
       "'https://www.ted.com/tedx/events?autocomplete_filter=Greenland&year=2017&page=1&when=past'"
      ]
     },
     "metadata": {},
     "output_type": "display_data"
    },
    {
     "data": {
      "text/plain": [
       "'https://www.ted.com/tedx/events?autocomplete_filter=Greenland&year=2018&page=1&when=past'"
      ]
     },
     "metadata": {},
     "output_type": "display_data"
    },
    {
     "data": {
      "text/plain": [
       "'https://www.ted.com/tedx/events?autocomplete_filter=Guatemala&year=2009&page=1&when=past'"
      ]
     },
     "metadata": {},
     "output_type": "display_data"
    },
    {
     "data": {
      "text/plain": [
       "'https://www.ted.com/tedx/events?autocomplete_filter=Guatemala&year=2011&page=1&when=past'"
      ]
     },
     "metadata": {},
     "output_type": "display_data"
    },
    {
     "data": {
      "text/plain": [
       "'https://www.ted.com/tedx/events?autocomplete_filter=Greece&year=2016&page=1&when=past'"
      ]
     },
     "metadata": {},
     "output_type": "display_data"
    },
    {
     "data": {
      "text/plain": [
       "'https://www.ted.com/tedx/events?autocomplete_filter=Gibraltar&year=2017&page=1&when=past'"
      ]
     },
     "metadata": {},
     "output_type": "display_data"
    },
    {
     "data": {
      "text/plain": [
       "'https://www.ted.com/tedx/events?autocomplete_filter=Guam&year=2020&page=1&when=past'"
      ]
     },
     "metadata": {},
     "output_type": "display_data"
    },
    {
     "data": {
      "text/plain": [
       "'https://www.ted.com/tedx/events?autocomplete_filter=Guam&year=2015&page=1&when=past'"
      ]
     },
     "metadata": {},
     "output_type": "display_data"
    },
    {
     "data": {
      "text/plain": [
       "'https://www.ted.com/tedx/events?autocomplete_filter=Guatemala&year=2012&page=1&when=past'"
      ]
     },
     "metadata": {},
     "output_type": "display_data"
    },
    {
     "data": {
      "text/plain": [
       "'https://www.ted.com/tedx/events?autocomplete_filter=Gibraltar&year=2010&page=1&when=past'"
      ]
     },
     "metadata": {},
     "output_type": "display_data"
    },
    {
     "data": {
      "text/plain": [
       "'https://www.ted.com/tedx/events?autocomplete_filter=Guadeloupe&year=2013&page=1&when=past'"
      ]
     },
     "metadata": {},
     "output_type": "display_data"
    },
    {
     "data": {
      "text/plain": [
       "'https://www.ted.com/tedx/events?autocomplete_filter=Germany&year=2012&page=1&when=past'"
      ]
     },
     "metadata": {},
     "output_type": "display_data"
    },
    {
     "data": {
      "text/plain": [
       "'https://www.ted.com/tedx/events?autocomplete_filter=Greece&year=2017&page=1&when=past'"
      ]
     },
     "metadata": {},
     "output_type": "display_data"
    },
    {
     "data": {
      "text/plain": [
       "'https://www.ted.com/tedx/events?autocomplete_filter=Guadeloupe&year=2009&page=1&when=past'"
      ]
     },
     "metadata": {},
     "output_type": "display_data"
    },
    {
     "data": {
      "text/plain": [
       "'https://www.ted.com/tedx/events?autocomplete_filter=Grenada&year=2020&page=1&when=past'"
      ]
     },
     "metadata": {},
     "output_type": "display_data"
    },
    {
     "data": {
      "text/plain": [
       "'https://www.ted.com/tedx/events?autocomplete_filter=Guinea&year=2012&page=1&when=past'"
      ]
     },
     "metadata": {},
     "output_type": "display_data"
    },
    {
     "data": {
      "text/plain": [
       "'https://www.ted.com/tedx/events?autocomplete_filter=Guinea&year=2014&page=1&when=past'"
      ]
     },
     "metadata": {},
     "output_type": "display_data"
    },
    {
     "data": {
      "text/plain": [
       "'https://www.ted.com/tedx/events?autocomplete_filter=Greece&year=2020&page=1&when=past'"
      ]
     },
     "metadata": {},
     "output_type": "display_data"
    },
    {
     "data": {
      "text/plain": [
       "'https://www.ted.com/tedx/events?autocomplete_filter=Greenland&year=2019&page=1&when=past'"
      ]
     },
     "metadata": {},
     "output_type": "display_data"
    },
    {
     "data": {
      "text/plain": [
       "'https://www.ted.com/tedx/events?autocomplete_filter=Guinea&year=2011&page=1&when=past'"
      ]
     },
     "metadata": {},
     "output_type": "display_data"
    },
    {
     "data": {
      "text/plain": [
       "'https://www.ted.com/tedx/events?autocomplete_filter=Guatemala&year=2018&page=1&when=past'"
      ]
     },
     "metadata": {},
     "output_type": "display_data"
    },
    {
     "data": {
      "text/plain": [
       "'https://www.ted.com/tedx/events?autocomplete_filter=Guinea&year=2015&page=1&when=past'"
      ]
     },
     "metadata": {},
     "output_type": "display_data"
    },
    {
     "data": {
      "text/plain": [
       "'https://www.ted.com/tedx/events?autocomplete_filter=Greece&year=2013&page=1&when=past'"
      ]
     },
     "metadata": {},
     "output_type": "display_data"
    },
    {
     "data": {
      "text/plain": [
       "'https://www.ted.com/tedx/events?autocomplete_filter=Guam&year=2016&page=1&when=past'"
      ]
     },
     "metadata": {},
     "output_type": "display_data"
    },
    {
     "data": {
      "text/plain": [
       "'https://www.ted.com/tedx/events?autocomplete_filter=Ghana&year=2015&page=1&when=past'"
      ]
     },
     "metadata": {},
     "output_type": "display_data"
    },
    {
     "data": {
      "text/plain": [
       "'https://www.ted.com/tedx/events?autocomplete_filter=Guinea&year=2013&page=1&when=past'"
      ]
     },
     "metadata": {},
     "output_type": "display_data"
    },
    {
     "data": {
      "text/plain": [
       "'https://www.ted.com/tedx/events?autocomplete_filter=Guyana&year=2016&page=1&when=past'"
      ]
     },
     "metadata": {},
     "output_type": "display_data"
    },
    {
     "data": {
      "text/plain": [
       "'https://www.ted.com/tedx/events?autocomplete_filter=Greenland&year=2020&page=1&when=past'"
      ]
     },
     "metadata": {},
     "output_type": "display_data"
    },
    {
     "data": {
      "text/plain": [
       "'https://www.ted.com/tedx/events?autocomplete_filter=Guam&year=2012&page=1&when=past'"
      ]
     },
     "metadata": {},
     "output_type": "display_data"
    },
    {
     "data": {
      "text/plain": [
       "'https://www.ted.com/tedx/events?autocomplete_filter=Guinea-bissau&year=2017&page=1&when=past'"
      ]
     },
     "metadata": {},
     "output_type": "display_data"
    },
    {
     "data": {
      "text/plain": [
       "'https://www.ted.com/tedx/events?autocomplete_filter=Guinea-bissau&year=2015&page=1&when=past'"
      ]
     },
     "metadata": {},
     "output_type": "display_data"
    },
    {
     "data": {
      "text/plain": [
       "'https://www.ted.com/tedx/events?autocomplete_filter=Grenada&year=2011&page=1&when=past'"
      ]
     },
     "metadata": {},
     "output_type": "display_data"
    },
    {
     "data": {
      "text/plain": [
       "'https://www.ted.com/tedx/events?autocomplete_filter=Guadeloupe&year=2010&page=1&when=past'"
      ]
     },
     "metadata": {},
     "output_type": "display_data"
    },
    {
     "data": {
      "text/plain": [
       "'https://www.ted.com/tedx/events?autocomplete_filter=Guinea-bissau&year=2014&page=1&when=past'"
      ]
     },
     "metadata": {},
     "output_type": "display_data"
    },
    {
     "data": {
      "text/plain": [
       "'https://www.ted.com/tedx/events?autocomplete_filter=Guinea-bissau&year=2009&page=1&when=past'"
      ]
     },
     "metadata": {},
     "output_type": "display_data"
    },
    {
     "data": {
      "text/plain": [
       "'https://www.ted.com/tedx/events?autocomplete_filter=Guinea-bissau&year=2018&page=1&when=past'"
      ]
     },
     "metadata": {},
     "output_type": "display_data"
    },
    {
     "data": {
      "text/plain": [
       "'https://www.ted.com/tedx/events?autocomplete_filter=Greenland&year=2016&page=1&when=past'"
      ]
     },
     "metadata": {},
     "output_type": "display_data"
    },
    {
     "data": {
      "text/plain": [
       "'https://www.ted.com/tedx/events?autocomplete_filter=Gibraltar&year=2018&page=1&when=past'"
      ]
     },
     "metadata": {},
     "output_type": "display_data"
    },
    {
     "data": {
      "text/plain": [
       "'https://www.ted.com/tedx/events?autocomplete_filter=Guinea-bissau&year=2016&page=1&when=past'"
      ]
     },
     "metadata": {},
     "output_type": "display_data"
    },
    {
     "data": {
      "text/plain": [
       "'https://www.ted.com/tedx/events?autocomplete_filter=Haiti&year=2019&page=1&when=past'"
      ]
     },
     "metadata": {},
     "output_type": "display_data"
    },
    {
     "data": {
      "text/plain": [
       "'https://www.ted.com/tedx/events?autocomplete_filter=Guadeloupe&year=2011&page=1&when=past'"
      ]
     },
     "metadata": {},
     "output_type": "display_data"
    },
    {
     "data": {
      "text/plain": [
       "'https://www.ted.com/tedx/events?autocomplete_filter=Guatemala&year=2015&page=1&when=past'"
      ]
     },
     "metadata": {},
     "output_type": "display_data"
    },
    {
     "data": {
      "text/plain": [
       "'https://www.ted.com/tedx/events?autocomplete_filter=Guyana&year=2018&page=1&when=past'"
      ]
     },
     "metadata": {},
     "output_type": "display_data"
    },
    {
     "data": {
      "text/plain": [
       "'https://www.ted.com/tedx/events?autocomplete_filter=Guyana&year=2020&page=1&when=past'"
      ]
     },
     "metadata": {},
     "output_type": "display_data"
    },
    {
     "data": {
      "text/plain": [
       "'https://www.ted.com/tedx/events?autocomplete_filter=Guadeloupe&year=2014&page=1&when=past'"
      ]
     },
     "metadata": {},
     "output_type": "display_data"
    },
    {
     "data": {
      "text/plain": [
       "'https://www.ted.com/tedx/events?autocomplete_filter=Guyana&year=2017&page=1&when=past'"
      ]
     },
     "metadata": {},
     "output_type": "display_data"
    },
    {
     "data": {
      "text/plain": [
       "'https://www.ted.com/tedx/events?autocomplete_filter=Guam&year=2011&page=1&when=past'"
      ]
     },
     "metadata": {},
     "output_type": "display_data"
    },
    {
     "data": {
      "text/plain": [
       "'https://www.ted.com/tedx/events?autocomplete_filter=Grenada&year=2019&page=1&when=past'"
      ]
     },
     "metadata": {},
     "output_type": "display_data"
    },
    {
     "data": {
      "text/plain": [
       "'https://www.ted.com/tedx/events?autocomplete_filter=Haiti&year=2009&page=1&when=past'"
      ]
     },
     "metadata": {},
     "output_type": "display_data"
    },
    {
     "data": {
      "text/plain": [
       "'https://www.ted.com/tedx/events?autocomplete_filter=Greenland&year=2009&page=1&when=past'"
      ]
     },
     "metadata": {},
     "output_type": "display_data"
    },
    {
     "data": {
      "text/plain": [
       "'https://www.ted.com/tedx/events?autocomplete_filter=Guyana&year=2019&page=1&when=past'"
      ]
     },
     "metadata": {},
     "output_type": "display_data"
    },
    {
     "data": {
      "text/plain": [
       "'https://www.ted.com/tedx/events?autocomplete_filter=Guyana&year=2012&page=1&when=past'"
      ]
     },
     "metadata": {},
     "output_type": "display_data"
    },
    {
     "data": {
      "text/plain": [
       "'https://www.ted.com/tedx/events?autocomplete_filter=Guam&year=2013&page=1&when=past'"
      ]
     },
     "metadata": {},
     "output_type": "display_data"
    },
    {
     "data": {
      "text/plain": [
       "'https://www.ted.com/tedx/events?autocomplete_filter=Holy+See+(vatican+City+State)&year=2010&page=1&when=past'"
      ]
     },
     "metadata": {},
     "output_type": "display_data"
    },
    {
     "data": {
      "text/plain": [
       "'https://www.ted.com/tedx/events?autocomplete_filter=Guatemala&year=2019&page=1&when=past'"
      ]
     },
     "metadata": {},
     "output_type": "display_data"
    },
    {
     "data": {
      "text/plain": [
       "'https://www.ted.com/tedx/events?autocomplete_filter=Guam&year=2014&page=1&when=past'"
      ]
     },
     "metadata": {},
     "output_type": "display_data"
    },
    {
     "data": {
      "text/plain": [
       "'https://www.ted.com/tedx/events?autocomplete_filter=Guinea&year=2018&page=1&when=past'"
      ]
     },
     "metadata": {},
     "output_type": "display_data"
    },
    {
     "data": {
      "text/plain": [
       "'https://www.ted.com/tedx/events?autocomplete_filter=Heard+Island+And+Mcdonald+Islands&year=2009&page=1&when=past'"
      ]
     },
     "metadata": {},
     "output_type": "display_data"
    },
    {
     "data": {
      "text/plain": [
       "'https://www.ted.com/tedx/events?autocomplete_filter=Heard+Island+And+Mcdonald+Islands&year=2011&page=1&when=past'"
      ]
     },
     "metadata": {},
     "output_type": "display_data"
    },
    {
     "data": {
      "text/plain": [
       "'https://www.ted.com/tedx/events?autocomplete_filter=Haiti&year=2020&page=1&when=past'"
      ]
     },
     "metadata": {},
     "output_type": "display_data"
    },
    {
     "data": {
      "text/plain": [
       "'https://www.ted.com/tedx/events?autocomplete_filter=Guam&year=2017&page=1&when=past'"
      ]
     },
     "metadata": {},
     "output_type": "display_data"
    },
    {
     "data": {
      "text/plain": [
       "'https://www.ted.com/tedx/events?autocomplete_filter=Guatemala&year=2014&page=1&when=past'"
      ]
     },
     "metadata": {},
     "output_type": "display_data"
    },
    {
     "data": {
      "text/plain": [
       "'https://www.ted.com/tedx/events?autocomplete_filter=Guam&year=2010&page=1&when=past'"
      ]
     },
     "metadata": {},
     "output_type": "display_data"
    },
    {
     "data": {
      "text/plain": [
       "'https://www.ted.com/tedx/events?autocomplete_filter=Heard+Island+And+Mcdonald+Islands&year=2012&page=1&when=past'"
      ]
     },
     "metadata": {},
     "output_type": "display_data"
    },
    {
     "data": {
      "text/plain": [
       "'https://www.ted.com/tedx/events?autocomplete_filter=Grenada&year=2012&page=1&when=past'"
      ]
     },
     "metadata": {},
     "output_type": "display_data"
    },
    {
     "data": {
      "text/plain": [
       "'https://www.ted.com/tedx/events?autocomplete_filter=Heard+Island+And+Mcdonald+Islands&year=2010&page=1&when=past'"
      ]
     },
     "metadata": {},
     "output_type": "display_data"
    },
    {
     "data": {
      "text/plain": [
       "'https://www.ted.com/tedx/events?autocomplete_filter=Haiti&year=2015&page=1&when=past'"
      ]
     },
     "metadata": {},
     "output_type": "display_data"
    },
    {
     "data": {
      "text/plain": [
       "'https://www.ted.com/tedx/events?autocomplete_filter=Guatemala&year=2016&page=1&when=past'"
      ]
     },
     "metadata": {},
     "output_type": "display_data"
    },
    {
     "data": {
      "text/plain": [
       "'https://www.ted.com/tedx/events?autocomplete_filter=Honduras&year=2013&page=1&when=past'"
      ]
     },
     "metadata": {},
     "output_type": "display_data"
    },
    {
     "data": {
      "text/plain": [
       "'https://www.ted.com/tedx/events?autocomplete_filter=Guinea-bissau&year=2010&page=1&when=past'"
      ]
     },
     "metadata": {},
     "output_type": "display_data"
    },
    {
     "data": {
      "text/plain": [
       "'https://www.ted.com/tedx/events?autocomplete_filter=Guatemala&year=2017&page=1&when=past'"
      ]
     },
     "metadata": {},
     "output_type": "display_data"
    },
    {
     "data": {
      "text/plain": [
       "'https://www.ted.com/tedx/events?autocomplete_filter=Guyana&year=2009&page=1&when=past'"
      ]
     },
     "metadata": {},
     "output_type": "display_data"
    },
    {
     "data": {
      "text/plain": [
       "'https://www.ted.com/tedx/events?autocomplete_filter=Holy+See+(vatican+City+State)&year=2014&page=1&when=past'"
      ]
     },
     "metadata": {},
     "output_type": "display_data"
    },
    {
     "data": {
      "text/plain": [
       "'https://www.ted.com/tedx/events?autocomplete_filter=Holy+See+(vatican+City+State)&year=2012&page=1&when=past'"
      ]
     },
     "metadata": {},
     "output_type": "display_data"
    },
    {
     "data": {
      "text/plain": [
       "'https://www.ted.com/tedx/events?autocomplete_filter=Holy+See+(vatican+City+State)&year=2011&page=1&when=past'"
      ]
     },
     "metadata": {},
     "output_type": "display_data"
    },
    {
     "data": {
      "text/plain": [
       "'https://www.ted.com/tedx/events?autocomplete_filter=Guatemala&year=2020&page=1&when=past'"
      ]
     },
     "metadata": {},
     "output_type": "display_data"
    },
    {
     "data": {
      "text/plain": [
       "'https://www.ted.com/tedx/events?autocomplete_filter=Guinea&year=2017&page=1&when=past'"
      ]
     },
     "metadata": {},
     "output_type": "display_data"
    },
    {
     "data": {
      "text/plain": [
       "'https://www.ted.com/tedx/events?autocomplete_filter=Holy+See+(vatican+City+State)&year=2015&page=1&when=past'"
      ]
     },
     "metadata": {},
     "output_type": "display_data"
    },
    {
     "data": {
      "text/plain": [
       "'https://www.ted.com/tedx/events?autocomplete_filter=Guadeloupe&year=2015&page=1&when=past'"
      ]
     },
     "metadata": {},
     "output_type": "display_data"
    },
    {
     "data": {
      "text/plain": [
       "'https://www.ted.com/tedx/events?autocomplete_filter=Holy+See+(vatican+City+State)&year=2013&page=1&when=past'"
      ]
     },
     "metadata": {},
     "output_type": "display_data"
    },
    {
     "data": {
      "text/plain": [
       "'https://www.ted.com/tedx/events?autocomplete_filter=Heard+Island+And+Mcdonald+Islands&year=2018&page=1&when=past'"
      ]
     },
     "metadata": {},
     "output_type": "display_data"
    },
    {
     "data": {
      "text/plain": [
       "'https://www.ted.com/tedx/events?autocomplete_filter=Guinea&year=2019&page=1&when=past'"
      ]
     },
     "metadata": {},
     "output_type": "display_data"
    },
    {
     "data": {
      "text/plain": [
       "'https://www.ted.com/tedx/events?autocomplete_filter=Hong+Kong&year=2016&page=1&when=past'"
      ]
     },
     "metadata": {},
     "output_type": "display_data"
    },
    {
     "data": {
      "text/plain": [
       "'https://www.ted.com/tedx/events?autocomplete_filter=Guyana&year=2013&page=1&when=past'"
      ]
     },
     "metadata": {},
     "output_type": "display_data"
    },
    {
     "data": {
      "text/plain": [
       "'https://www.ted.com/tedx/events?autocomplete_filter=Haiti&year=2012&page=1&when=past'"
      ]
     },
     "metadata": {},
     "output_type": "display_data"
    },
    {
     "data": {
      "text/plain": [
       "'https://www.ted.com/tedx/events?autocomplete_filter=Guinea&year=2020&page=1&when=past'"
      ]
     },
     "metadata": {},
     "output_type": "display_data"
    },
    {
     "data": {
      "text/plain": [
       "'https://www.ted.com/tedx/events?autocomplete_filter=Honduras&year=2017&page=1&when=past'"
      ]
     },
     "metadata": {},
     "output_type": "display_data"
    },
    {
     "data": {
      "text/plain": [
       "'https://www.ted.com/tedx/events?autocomplete_filter=Honduras&year=2015&page=1&when=past'"
      ]
     },
     "metadata": {},
     "output_type": "display_data"
    },
    {
     "data": {
      "text/plain": [
       "'https://www.ted.com/tedx/events?autocomplete_filter=Honduras&year=2014&page=1&when=past'"
      ]
     },
     "metadata": {},
     "output_type": "display_data"
    },
    {
     "data": {
      "text/plain": [
       "'https://www.ted.com/tedx/events?autocomplete_filter=Guinea-bissau&year=2011&page=1&when=past'"
      ]
     },
     "metadata": {},
     "output_type": "display_data"
    },
    {
     "data": {
      "text/plain": [
       "'https://www.ted.com/tedx/events?autocomplete_filter=Guinea-bissau&year=2020&page=1&when=past'"
      ]
     },
     "metadata": {},
     "output_type": "display_data"
    },
    {
     "data": {
      "text/plain": [
       "'https://www.ted.com/tedx/events?autocomplete_filter=Honduras&year=2018&page=1&when=past'"
      ]
     },
     "metadata": {},
     "output_type": "display_data"
    },
    {
     "data": {
      "text/plain": [
       "'https://www.ted.com/tedx/events?autocomplete_filter=Guam&year=2018&page=1&when=past'"
      ]
     },
     "metadata": {},
     "output_type": "display_data"
    },
    {
     "data": {
      "text/plain": [
       "'https://www.ted.com/tedx/events?autocomplete_filter=Guatemala&year=2013&page=1&when=past'"
      ]
     },
     "metadata": {},
     "output_type": "display_data"
    },
    {
     "data": {
      "text/plain": [
       "'https://www.ted.com/tedx/events?autocomplete_filter=Honduras&year=2016&page=1&when=past'"
      ]
     },
     "metadata": {},
     "output_type": "display_data"
    },
    {
     "data": {
      "text/plain": [
       "'https://www.ted.com/tedx/events?autocomplete_filter=Guyana&year=2010&page=1&when=past'"
      ]
     },
     "metadata": {},
     "output_type": "display_data"
    },
    {
     "data": {
      "text/plain": [
       "'https://www.ted.com/tedx/events?autocomplete_filter=Honduras&year=2009&page=1&when=past'"
      ]
     },
     "metadata": {},
     "output_type": "display_data"
    },
    {
     "data": {
      "text/plain": [
       "'https://www.ted.com/tedx/events?autocomplete_filter=Hungary&year=2019&page=1&when=past'"
      ]
     },
     "metadata": {},
     "output_type": "display_data"
    },
    {
     "data": {
      "text/plain": [
       "'https://www.ted.com/tedx/events?autocomplete_filter=Haiti&year=2016&page=1&when=past'"
      ]
     },
     "metadata": {},
     "output_type": "display_data"
    },
    {
     "data": {
      "text/plain": [
       "'https://www.ted.com/tedx/events?autocomplete_filter=Heard+Island+And+Mcdonald+Islands&year=2015&page=1&when=past'"
      ]
     },
     "metadata": {},
     "output_type": "display_data"
    },
    {
     "data": {
      "text/plain": [
       "'https://www.ted.com/tedx/events?autocomplete_filter=Guyana&year=2011&page=1&when=past'"
      ]
     },
     "metadata": {},
     "output_type": "display_data"
    },
    {
     "data": {
      "text/plain": [
       "'https://www.ted.com/tedx/events?autocomplete_filter=Hong+Kong&year=2018&page=1&when=past'"
      ]
     },
     "metadata": {},
     "output_type": "display_data"
    },
    {
     "data": {
      "text/plain": [
       "'https://www.ted.com/tedx/events?autocomplete_filter=Hong+Kong&year=2020&page=1&when=past'"
      ]
     },
     "metadata": {},
     "output_type": "display_data"
    },
    {
     "data": {
      "text/plain": [
       "'https://www.ted.com/tedx/events?autocomplete_filter=Hong+Kong&year=2017&page=1&when=past'"
      ]
     },
     "metadata": {},
     "output_type": "display_data"
    },
    {
     "data": {
      "text/plain": [
       "'https://www.ted.com/tedx/events?autocomplete_filter=Guyana&year=2014&page=1&when=past'"
      ]
     },
     "metadata": {},
     "output_type": "display_data"
    },
    {
     "data": {
      "text/plain": [
       "'https://www.ted.com/tedx/events?autocomplete_filter=Haiti&year=2011&page=1&when=past'"
      ]
     },
     "metadata": {},
     "output_type": "display_data"
    },
    {
     "data": {
      "text/plain": [
       "'https://www.ted.com/tedx/events?autocomplete_filter=Hungary&year=2009&page=1&when=past'"
      ]
     },
     "metadata": {},
     "output_type": "display_data"
    },
    {
     "data": {
      "text/plain": [
       "'https://www.ted.com/tedx/events?autocomplete_filter=Guinea&year=2016&page=1&when=past'"
      ]
     },
     "metadata": {},
     "output_type": "display_data"
    },
    {
     "data": {
      "text/plain": [
       "'https://www.ted.com/tedx/events?autocomplete_filter=Hong+Kong&year=2019&page=1&when=past'"
      ]
     },
     "metadata": {},
     "output_type": "display_data"
    },
    {
     "data": {
      "text/plain": [
       "'https://www.ted.com/tedx/events?autocomplete_filter=Haiti&year=2013&page=1&when=past'"
      ]
     },
     "metadata": {},
     "output_type": "display_data"
    },
    {
     "data": {
      "text/plain": [
       "'https://www.ted.com/tedx/events?autocomplete_filter=Hong+Kong&year=2012&page=1&when=past'"
      ]
     },
     "metadata": {},
     "output_type": "display_data"
    },
    {
     "data": {
      "text/plain": [
       "'https://www.ted.com/tedx/events?autocomplete_filter=India&year=2010&page=1&when=past'"
      ]
     },
     "metadata": {},
     "output_type": "display_data"
    },
    {
     "data": {
      "text/plain": [
       "'https://www.ted.com/tedx/events?autocomplete_filter=Holy+See+(vatican+City+State)&year=2018&page=1&when=past'"
      ]
     },
     "metadata": {},
     "output_type": "display_data"
    },
    {
     "data": {
      "text/plain": [
       "'https://www.ted.com/tedx/events?autocomplete_filter=Heard+Island+And+Mcdonald+Islands&year=2019&page=1&when=past'"
      ]
     },
     "metadata": {},
     "output_type": "display_data"
    },
    {
     "data": {
      "text/plain": [
       "'https://www.ted.com/tedx/events?autocomplete_filter=Haiti&year=2014&page=1&when=past'"
      ]
     },
     "metadata": {},
     "output_type": "display_data"
    },
    {
     "data": {
      "text/plain": [
       "'https://www.ted.com/tedx/events?autocomplete_filter=Iceland&year=2011&page=1&when=past'"
      ]
     },
     "metadata": {},
     "output_type": "display_data"
    },
    {
     "data": {
      "text/plain": [
       "'https://www.ted.com/tedx/events?autocomplete_filter=Iceland&year=2009&page=1&when=past'"
      ]
     },
     "metadata": {},
     "output_type": "display_data"
    },
    {
     "data": {
      "text/plain": [
       "'https://www.ted.com/tedx/events?autocomplete_filter=Hungary&year=2020&page=1&when=past'"
      ]
     },
     "metadata": {},
     "output_type": "display_data"
    },
    {
     "data": {
      "text/plain": [
       "'https://www.ted.com/tedx/events?autocomplete_filter=Haiti&year=2017&page=1&when=past'"
      ]
     },
     "metadata": {},
     "output_type": "display_data"
    },
    {
     "data": {
      "text/plain": [
       "'https://www.ted.com/tedx/events?autocomplete_filter=Heard+Island+And+Mcdonald+Islands&year=2014&page=1&when=past'"
      ]
     },
     "metadata": {},
     "output_type": "display_data"
    },
    {
     "data": {
      "text/plain": [
       "'https://www.ted.com/tedx/events?autocomplete_filter=Iceland&year=2012&page=1&when=past'"
      ]
     },
     "metadata": {},
     "output_type": "display_data"
    },
    {
     "data": {
      "text/plain": [
       "'https://www.ted.com/tedx/events?autocomplete_filter=Guinea-bissau&year=2019&page=1&when=past'"
      ]
     },
     "metadata": {},
     "output_type": "display_data"
    },
    {
     "data": {
      "text/plain": [
       "'https://www.ted.com/tedx/events?autocomplete_filter=Iceland&year=2010&page=1&when=past'"
      ]
     },
     "metadata": {},
     "output_type": "display_data"
    },
    {
     "data": {
      "text/plain": [
       "'https://www.ted.com/tedx/events?autocomplete_filter=Heard+Island+And+Mcdonald+Islands&year=2016&page=1&when=past'"
      ]
     },
     "metadata": {},
     "output_type": "display_data"
    },
    {
     "data": {
      "text/plain": [
       "'https://www.ted.com/tedx/events?autocomplete_filter=Hungary&year=2015&page=1&when=past'"
      ]
     },
     "metadata": {},
     "output_type": "display_data"
    },
    {
     "data": {
      "text/plain": [
       "'https://www.ted.com/tedx/events?autocomplete_filter=Indonesia&year=2013&page=1&when=past'"
      ]
     },
     "metadata": {},
     "output_type": "display_data"
    },
    {
     "data": {
      "text/plain": [
       "'https://www.ted.com/tedx/events?autocomplete_filter=Hong+Kong&year=2009&page=1&when=past'"
      ]
     },
     "metadata": {},
     "output_type": "display_data"
    },
    {
     "data": {
      "text/plain": [
       "'https://www.ted.com/tedx/events?autocomplete_filter=Honduras&year=2010&page=1&when=past'"
      ]
     },
     "metadata": {},
     "output_type": "display_data"
    },
    {
     "data": {
      "text/plain": [
       "'https://www.ted.com/tedx/events?autocomplete_filter=Heard+Island+And+Mcdonald+Islands&year=2017&page=1&when=past'"
      ]
     },
     "metadata": {},
     "output_type": "display_data"
    },
    {
     "data": {
      "text/plain": [
       "'https://www.ted.com/tedx/events?autocomplete_filter=Guinea&year=2009&page=1&when=past'"
      ]
     },
     "metadata": {},
     "output_type": "display_data"
    },
    {
     "data": {
      "text/plain": [
       "'https://www.ted.com/tedx/events?autocomplete_filter=India&year=2012&page=1&when=past'"
      ]
     },
     "metadata": {},
     "output_type": "display_data"
    },
    {
     "data": {
      "text/plain": [
       "'https://www.ted.com/tedx/events?autocomplete_filter=India&year=2014&page=1&when=past'"
      ]
     },
     "metadata": {},
     "output_type": "display_data"
    },
    {
     "data": {
      "text/plain": [
       "'https://www.ted.com/tedx/events?autocomplete_filter=Heard+Island+And+Mcdonald+Islands&year=2020&page=1&when=past'"
      ]
     },
     "metadata": {},
     "output_type": "display_data"
    },
    {
     "data": {
      "text/plain": [
       "'https://www.ted.com/tedx/events?autocomplete_filter=India&year=2011&page=1&when=past'"
      ]
     },
     "metadata": {},
     "output_type": "display_data"
    },
    {
     "data": {
      "text/plain": [
       "'https://www.ted.com/tedx/events?autocomplete_filter=Holy+See+(vatican+City+State)&year=2017&page=1&when=past'"
      ]
     },
     "metadata": {},
     "output_type": "display_data"
    },
    {
     "data": {
      "text/plain": [
       "'https://www.ted.com/tedx/events?autocomplete_filter=India&year=2015&page=1&when=past'"
      ]
     },
     "metadata": {},
     "output_type": "display_data"
    },
    {
     "data": {
      "text/plain": [
       "'https://www.ted.com/tedx/events?autocomplete_filter=Haiti&year=2010&page=1&when=past'"
      ]
     },
     "metadata": {},
     "output_type": "display_data"
    },
    {
     "data": {
      "text/plain": [
       "'https://www.ted.com/tedx/events?autocomplete_filter=India&year=2013&page=1&when=past'"
      ]
     },
     "metadata": {},
     "output_type": "display_data"
    },
    {
     "data": {
      "text/plain": [
       "'https://www.ted.com/tedx/events?autocomplete_filter=Holy+See+(vatican+City+State)&year=2019&page=1&when=past'"
      ]
     },
     "metadata": {},
     "output_type": "display_data"
    },
    {
     "data": {
      "text/plain": [
       "'https://www.ted.com/tedx/events?autocomplete_filter=Iceland&year=2018&page=1&when=past'"
      ]
     },
     "metadata": {},
     "output_type": "display_data"
    },
    {
     "data": {
      "text/plain": [
       "'https://www.ted.com/tedx/events?autocomplete_filter=Iran,+Islamic+Republic+Of&year=2016&page=1&when=past'"
      ]
     },
     "metadata": {},
     "output_type": "display_data"
    },
    {
     "data": {
      "text/plain": [
       "'https://www.ted.com/tedx/events?autocomplete_filter=Hungary&year=2012&page=1&when=past'"
      ]
     },
     "metadata": {},
     "output_type": "display_data"
    },
    {
     "data": {
      "text/plain": [
       "'https://www.ted.com/tedx/events?autocomplete_filter=Hong+Kong&year=2013&page=1&when=past'"
      ]
     },
     "metadata": {},
     "output_type": "display_data"
    },
    {
     "data": {
      "text/plain": [
       "'https://www.ted.com/tedx/events?autocomplete_filter=Holy+See+(vatican+City+State)&year=2020&page=1&when=past'"
      ]
     },
     "metadata": {},
     "output_type": "display_data"
    },
    {
     "data": {
      "text/plain": [
       "'https://www.ted.com/tedx/events?autocomplete_filter=Guinea-bissau&year=2012&page=1&when=past'"
      ]
     },
     "metadata": {},
     "output_type": "display_data"
    },
    {
     "data": {
      "text/plain": [
       "'https://www.ted.com/tedx/events?autocomplete_filter=Indonesia&year=2015&page=1&when=past'"
      ]
     },
     "metadata": {},
     "output_type": "display_data"
    },
    {
     "data": {
      "text/plain": [
       "'https://www.ted.com/tedx/events?autocomplete_filter=Indonesia&year=2017&page=1&when=past'"
      ]
     },
     "metadata": {},
     "output_type": "display_data"
    },
    {
     "data": {
      "text/plain": [
       "'https://www.ted.com/tedx/events?autocomplete_filter=Honduras&year=2011&page=1&when=past'"
      ]
     },
     "metadata": {},
     "output_type": "display_data"
    },
    {
     "data": {
      "text/plain": [
       "'https://www.ted.com/tedx/events?autocomplete_filter=Indonesia&year=2014&page=1&when=past'"
      ]
     },
     "metadata": {},
     "output_type": "display_data"
    },
    {
     "data": {
      "text/plain": [
       "'https://www.ted.com/tedx/events?autocomplete_filter=Honduras&year=2020&page=1&when=past'"
      ]
     },
     "metadata": {},
     "output_type": "display_data"
    },
    {
     "data": {
      "text/plain": [
       "'https://www.ted.com/tedx/events?autocomplete_filter=Indonesia&year=2018&page=1&when=past'"
      ]
     },
     "metadata": {},
     "output_type": "display_data"
    },
    {
     "data": {
      "text/plain": [
       "'https://www.ted.com/tedx/events?autocomplete_filter=Indonesia&year=2016&page=1&when=past'"
      ]
     },
     "metadata": {},
     "output_type": "display_data"
    },
    {
     "data": {
      "text/plain": [
       "'https://www.ted.com/tedx/events?autocomplete_filter=Heard+Island+And+Mcdonald+Islands&year=2013&page=1&when=past'"
      ]
     },
     "metadata": {},
     "output_type": "display_data"
    },
    {
     "data": {
      "text/plain": [
       "'https://www.ted.com/tedx/events?autocomplete_filter=Hong+Kong&year=2010&page=1&when=past'"
      ]
     },
     "metadata": {},
     "output_type": "display_data"
    },
    {
     "data": {
      "text/plain": [
       "'https://www.ted.com/tedx/events?autocomplete_filter=Indonesia&year=2009&page=1&when=past'"
      ]
     },
     "metadata": {},
     "output_type": "display_data"
    },
    {
     "data": {
      "text/plain": [
       "'https://www.ted.com/tedx/events?autocomplete_filter=Iraq&year=2019&page=1&when=past'"
      ]
     },
     "metadata": {},
     "output_type": "display_data"
    },
    {
     "data": {
      "text/plain": [
       "'https://www.ted.com/tedx/events?autocomplete_filter=Iceland&year=2015&page=1&when=past'"
      ]
     },
     "metadata": {},
     "output_type": "display_data"
    },
    {
     "data": {
      "text/plain": [
       "'https://www.ted.com/tedx/events?autocomplete_filter=Hong+Kong&year=2011&page=1&when=past'"
      ]
     },
     "metadata": {},
     "output_type": "display_data"
    },
    {
     "data": {
      "text/plain": [
       "'https://www.ted.com/tedx/events?autocomplete_filter=Hungary&year=2016&page=1&when=past'"
      ]
     },
     "metadata": {},
     "output_type": "display_data"
    },
    {
     "data": {
      "text/plain": [
       "'https://www.ted.com/tedx/events?autocomplete_filter=Guyana&year=2015&page=1&when=past'"
      ]
     },
     "metadata": {},
     "output_type": "display_data"
    },
    {
     "data": {
      "text/plain": [
       "'https://www.ted.com/tedx/events?autocomplete_filter=Iran,+Islamic+Republic+Of&year=2018&page=1&when=past'"
      ]
     },
     "metadata": {},
     "output_type": "display_data"
    },
    {
     "data": {
      "text/plain": [
       "'https://www.ted.com/tedx/events?autocomplete_filter=Iran,+Islamic+Republic+Of&year=2020&page=1&when=past'"
      ]
     },
     "metadata": {},
     "output_type": "display_data"
    },
    {
     "data": {
      "text/plain": [
       "'https://www.ted.com/tedx/events?autocomplete_filter=Hong+Kong&year=2014&page=1&when=past'"
      ]
     },
     "metadata": {},
     "output_type": "display_data"
    },
    {
     "data": {
      "text/plain": [
       "'https://www.ted.com/tedx/events?autocomplete_filter=Iran,+Islamic+Republic+Of&year=2017&page=1&when=past'"
      ]
     },
     "metadata": {},
     "output_type": "display_data"
    },
    {
     "data": {
      "text/plain": [
       "'https://www.ted.com/tedx/events?autocomplete_filter=Hungary&year=2011&page=1&when=past'"
      ]
     },
     "metadata": {},
     "output_type": "display_data"
    },
    {
     "data": {
      "text/plain": [
       "'https://www.ted.com/tedx/events?autocomplete_filter=Iraq&year=2009&page=1&when=past'"
      ]
     },
     "metadata": {},
     "output_type": "display_data"
    },
    {
     "data": {
      "text/plain": [
       "'https://www.ted.com/tedx/events?autocomplete_filter=Iran,+Islamic+Republic+Of&year=2019&page=1&when=past'"
      ]
     },
     "metadata": {},
     "output_type": "display_data"
    },
    {
     "data": {
      "text/plain": [
       "'https://www.ted.com/tedx/events?autocomplete_filter=Holy+See+(vatican+City+State)&year=2016&page=1&when=past'"
      ]
     },
     "metadata": {},
     "output_type": "display_data"
    },
    {
     "data": {
      "text/plain": [
       "'https://www.ted.com/tedx/events?autocomplete_filter=Iran,+Islamic+Republic+Of&year=2012&page=1&when=past'"
      ]
     },
     "metadata": {},
     "output_type": "display_data"
    },
    {
     "data": {
      "text/plain": [
       "'https://www.ted.com/tedx/events?autocomplete_filter=Israel&year=2010&page=1&when=past'"
      ]
     },
     "metadata": {},
     "output_type": "display_data"
    },
    {
     "data": {
      "text/plain": [
       "'https://www.ted.com/tedx/events?autocomplete_filter=Hungary&year=2013&page=1&when=past'"
      ]
     },
     "metadata": {},
     "output_type": "display_data"
    },
    {
     "data": {
      "text/plain": [
       "'https://www.ted.com/tedx/events?autocomplete_filter=India&year=2018&page=1&when=past'"
      ]
     },
     "metadata": {},
     "output_type": "display_data"
    },
    {
     "data": {
      "text/plain": [
       "'https://www.ted.com/tedx/events?autocomplete_filter=Hungary&year=2014&page=1&when=past'"
      ]
     },
     "metadata": {},
     "output_type": "display_data"
    },
    {
     "data": {
      "text/plain": [
       "'https://www.ted.com/tedx/events?autocomplete_filter=Haiti&year=2018&page=1&when=past'"
      ]
     },
     "metadata": {},
     "output_type": "display_data"
    },
    {
     "data": {
      "text/plain": [
       "'https://www.ted.com/tedx/events?autocomplete_filter=Iceland&year=2019&page=1&when=past'"
      ]
     },
     "metadata": {},
     "output_type": "display_data"
    },
    {
     "data": {
      "text/plain": [
       "'https://www.ted.com/tedx/events?autocomplete_filter=Ireland&year=2009&page=1&when=past'"
      ]
     },
     "metadata": {},
     "output_type": "display_data"
    },
    {
     "data": {
      "text/plain": [
       "'https://www.ted.com/tedx/events?autocomplete_filter=Ireland&year=2011&page=1&when=past'"
      ]
     },
     "metadata": {},
     "output_type": "display_data"
    },
    {
     "data": {
      "text/plain": [
       "'https://www.ted.com/tedx/events?autocomplete_filter=Hungary&year=2017&page=1&when=past'"
      ]
     },
     "metadata": {},
     "output_type": "display_data"
    },
    {
     "data": {
      "text/plain": [
       "'https://www.ted.com/tedx/events?autocomplete_filter=Iraq&year=2020&page=1&when=past'"
      ]
     },
     "metadata": {},
     "output_type": "display_data"
    },
    {
     "data": {
      "text/plain": [
       "'https://www.ted.com/tedx/events?autocomplete_filter=Iceland&year=2014&page=1&when=past'"
      ]
     },
     "metadata": {},
     "output_type": "display_data"
    },
    {
     "data": {
      "text/plain": [
       "'https://www.ted.com/tedx/events?autocomplete_filter=Ireland&year=2012&page=1&when=past'"
      ]
     },
     "metadata": {},
     "output_type": "display_data"
    },
    {
     "data": {
      "text/plain": [
       "'https://www.ted.com/tedx/events?autocomplete_filter=Honduras&year=2019&page=1&when=past'"
      ]
     },
     "metadata": {},
     "output_type": "display_data"
    },
    {
     "data": {
      "text/plain": [
       "'https://www.ted.com/tedx/events?autocomplete_filter=Ireland&year=2010&page=1&when=past'"
      ]
     },
     "metadata": {},
     "output_type": "display_data"
    },
    {
     "data": {
      "text/plain": [
       "'https://www.ted.com/tedx/events?autocomplete_filter=Iraq&year=2015&page=1&when=past'"
      ]
     },
     "metadata": {},
     "output_type": "display_data"
    },
    {
     "data": {
      "text/plain": [
       "'https://www.ted.com/tedx/events?autocomplete_filter=Italy&year=2013&page=1&when=past'"
      ]
     },
     "metadata": {},
     "output_type": "display_data"
    },
    {
     "data": {
      "text/plain": [
       "'https://www.ted.com/tedx/events?autocomplete_filter=Iran,+Islamic+Republic+Of&year=2009&page=1&when=past'"
      ]
     },
     "metadata": {},
     "output_type": "display_data"
    },
    {
     "data": {
      "text/plain": [
       "'https://www.ted.com/tedx/events?autocomplete_filter=Iceland&year=2016&page=1&when=past'"
      ]
     },
     "metadata": {},
     "output_type": "display_data"
    },
    {
     "data": {
      "text/plain": [
       "'https://www.ted.com/tedx/events?autocomplete_filter=Iceland&year=2017&page=1&when=past'"
      ]
     },
     "metadata": {},
     "output_type": "display_data"
    },
    {
     "data": {
      "text/plain": [
       "'https://www.ted.com/tedx/events?autocomplete_filter=Holy+See+(vatican+City+State)&year=2009&page=1&when=past'"
      ]
     },
     "metadata": {},
     "output_type": "display_data"
    },
    {
     "data": {
      "text/plain": [
       "'https://www.ted.com/tedx/events?autocomplete_filter=Indonesia&year=2010&page=1&when=past'"
      ]
     },
     "metadata": {},
     "output_type": "display_data"
    },
    {
     "data": {
      "text/plain": [
       "'https://www.ted.com/tedx/events?autocomplete_filter=Israel&year=2012&page=1&when=past'"
      ]
     },
     "metadata": {},
     "output_type": "display_data"
    },
    {
     "data": {
      "text/plain": [
       "'https://www.ted.com/tedx/events?autocomplete_filter=Israel&year=2014&page=1&when=past'"
      ]
     },
     "metadata": {},
     "output_type": "display_data"
    },
    {
     "data": {
      "text/plain": [
       "'https://www.ted.com/tedx/events?autocomplete_filter=Iceland&year=2020&page=1&when=past'"
      ]
     },
     "metadata": {},
     "output_type": "display_data"
    },
    {
     "data": {
      "text/plain": [
       "'https://www.ted.com/tedx/events?autocomplete_filter=Israel&year=2011&page=1&when=past'"
      ]
     },
     "metadata": {},
     "output_type": "display_data"
    },
    {
     "data": {
      "text/plain": [
       "'https://www.ted.com/tedx/events?autocomplete_filter=India&year=2017&page=1&when=past'"
      ]
     },
     "metadata": {},
     "output_type": "display_data"
    },
    {
     "data": {
      "text/plain": [
       "'https://www.ted.com/tedx/events?autocomplete_filter=Israel&year=2015&page=1&when=past'"
      ]
     },
     "metadata": {},
     "output_type": "display_data"
    },
    {
     "data": {
      "text/plain": [
       "'https://www.ted.com/tedx/events?autocomplete_filter=Hungary&year=2010&page=1&when=past'"
      ]
     },
     "metadata": {},
     "output_type": "display_data"
    },
    {
     "data": {
      "text/plain": [
       "'https://www.ted.com/tedx/events?autocomplete_filter=Israel&year=2013&page=1&when=past'"
      ]
     },
     "metadata": {},
     "output_type": "display_data"
    },
    {
     "data": {
      "text/plain": [
       "'https://www.ted.com/tedx/events?autocomplete_filter=Ireland&year=2018&page=1&when=past'"
      ]
     },
     "metadata": {},
     "output_type": "display_data"
    },
    {
     "data": {
      "text/plain": [
       "'https://www.ted.com/tedx/events?autocomplete_filter=Jamaica&year=2016&page=1&when=past'"
      ]
     },
     "metadata": {},
     "output_type": "display_data"
    },
    {
     "data": {
      "text/plain": [
       "'https://www.ted.com/tedx/events?autocomplete_filter=Iraq&year=2012&page=1&when=past'"
      ]
     },
     "metadata": {},
     "output_type": "display_data"
    },
    {
     "data": {
      "text/plain": [
       "'https://www.ted.com/tedx/events?autocomplete_filter=India&year=2019&page=1&when=past'"
      ]
     },
     "metadata": {},
     "output_type": "display_data"
    },
    {
     "data": {
      "text/plain": [
       "'https://www.ted.com/tedx/events?autocomplete_filter=India&year=2020&page=1&when=past'"
      ]
     },
     "metadata": {},
     "output_type": "display_data"
    },
    {
     "data": {
      "text/plain": [
       "'https://www.ted.com/tedx/events?autocomplete_filter=Honduras&year=2012&page=1&when=past'"
      ]
     },
     "metadata": {},
     "output_type": "display_data"
    },
    {
     "data": {
      "text/plain": [
       "'https://www.ted.com/tedx/events?autocomplete_filter=Iran,+Islamic+Republic+Of&year=2013&page=1&when=past'"
      ]
     },
     "metadata": {},
     "output_type": "display_data"
    },
    {
     "data": {
      "text/plain": [
       "'https://www.ted.com/tedx/events?autocomplete_filter=Italy&year=2015&page=1&when=past'"
      ]
     },
     "metadata": {},
     "output_type": "display_data"
    },
    {
     "data": {
      "text/plain": [
       "'https://www.ted.com/tedx/events?autocomplete_filter=Italy&year=2017&page=1&when=past'"
      ]
     },
     "metadata": {},
     "output_type": "display_data"
    },
    {
     "data": {
      "text/plain": [
       "'https://www.ted.com/tedx/events?autocomplete_filter=Indonesia&year=2011&page=1&when=past'"
      ]
     },
     "metadata": {},
     "output_type": "display_data"
    },
    {
     "data": {
      "text/plain": [
       "'https://www.ted.com/tedx/events?autocomplete_filter=Italy&year=2014&page=1&when=past'"
      ]
     },
     "metadata": {},
     "output_type": "display_data"
    },
    {
     "data": {
      "text/plain": [
       "'https://www.ted.com/tedx/events?autocomplete_filter=Indonesia&year=2020&page=1&when=past'"
      ]
     },
     "metadata": {},
     "output_type": "display_data"
    },
    {
     "data": {
      "text/plain": [
       "'https://www.ted.com/tedx/events?autocomplete_filter=Italy&year=2018&page=1&when=past'"
      ]
     },
     "metadata": {},
     "output_type": "display_data"
    },
    {
     "data": {
      "text/plain": [
       "'https://www.ted.com/tedx/events?autocomplete_filter=Iceland&year=2013&page=1&when=past'"
      ]
     },
     "metadata": {},
     "output_type": "display_data"
    },
    {
     "data": {
      "text/plain": [
       "'https://www.ted.com/tedx/events?autocomplete_filter=Italy&year=2016&page=1&when=past'"
      ]
     },
     "metadata": {},
     "output_type": "display_data"
    },
    {
     "data": {
      "text/plain": [
       "'https://www.ted.com/tedx/events?autocomplete_filter=Japan&year=2019&page=1&when=past'"
      ]
     },
     "metadata": {},
     "output_type": "display_data"
    },
    {
     "data": {
      "text/plain": [
       "'https://www.ted.com/tedx/events?autocomplete_filter=Italy&year=2009&page=1&when=past'"
      ]
     },
     "metadata": {},
     "output_type": "display_data"
    },
    {
     "data": {
      "text/plain": [
       "'https://www.ted.com/tedx/events?autocomplete_filter=Ireland&year=2015&page=1&when=past'"
      ]
     },
     "metadata": {},
     "output_type": "display_data"
    },
    {
     "data": {
      "text/plain": [
       "'https://www.ted.com/tedx/events?autocomplete_filter=Iran,+Islamic+Republic+Of&year=2010&page=1&when=past'"
      ]
     },
     "metadata": {},
     "output_type": "display_data"
    },
    {
     "data": {
      "text/plain": [
       "'https://www.ted.com/tedx/events?autocomplete_filter=Iran,+Islamic+Republic+Of&year=2011&page=1&when=past'"
      ]
     },
     "metadata": {},
     "output_type": "display_data"
    },
    {
     "data": {
      "text/plain": [
       "'https://www.ted.com/tedx/events?autocomplete_filter=Hong+Kong&year=2015&page=1&when=past'"
      ]
     },
     "metadata": {},
     "output_type": "display_data"
    },
    {
     "data": {
      "text/plain": [
       "'https://www.ted.com/tedx/events?autocomplete_filter=Iraq&year=2016&page=1&when=past'"
      ]
     },
     "metadata": {},
     "output_type": "display_data"
    },
    {
     "data": {
      "text/plain": [
       "'https://www.ted.com/tedx/events?autocomplete_filter=Jamaica&year=2018&page=1&when=past'"
      ]
     },
     "metadata": {},
     "output_type": "display_data"
    },
    {
     "data": {
      "text/plain": [
       "'https://www.ted.com/tedx/events?autocomplete_filter=Jamaica&year=2020&page=1&when=past'"
      ]
     },
     "metadata": {},
     "output_type": "display_data"
    },
    {
     "data": {
      "text/plain": [
       "'https://www.ted.com/tedx/events?autocomplete_filter=Iran,+Islamic+Republic+Of&year=2014&page=1&when=past'"
      ]
     },
     "metadata": {},
     "output_type": "display_data"
    },
    {
     "data": {
      "text/plain": [
       "'https://www.ted.com/tedx/events?autocomplete_filter=Jamaica&year=2017&page=1&when=past'"
      ]
     },
     "metadata": {},
     "output_type": "display_data"
    },
    {
     "data": {
      "text/plain": [
       "'https://www.ted.com/tedx/events?autocomplete_filter=Iraq&year=2011&page=1&when=past'"
      ]
     },
     "metadata": {},
     "output_type": "display_data"
    },
    {
     "data": {
      "text/plain": [
       "'https://www.ted.com/tedx/events?autocomplete_filter=Japan&year=2009&page=1&when=past'"
      ]
     },
     "metadata": {},
     "output_type": "display_data"
    },
    {
     "data": {
      "text/plain": [
       "'https://www.ted.com/tedx/events?autocomplete_filter=India&year=2016&page=1&when=past'"
      ]
     },
     "metadata": {},
     "output_type": "display_data"
    },
    {
     "data": {
      "text/plain": [
       "'https://www.ted.com/tedx/events?autocomplete_filter=Jamaica&year=2019&page=1&when=past'"
      ]
     },
     "metadata": {},
     "output_type": "display_data"
    },
    {
     "data": {
      "text/plain": [
       "'https://www.ted.com/tedx/events?autocomplete_filter=Jamaica&year=2012&page=1&when=past'"
      ]
     },
     "metadata": {},
     "output_type": "display_data"
    },
    {
     "data": {
      "text/plain": [
       "'https://www.ted.com/tedx/events?autocomplete_filter=Kazakstan&year=2010&page=1&when=past'"
      ]
     },
     "metadata": {},
     "output_type": "display_data"
    },
    {
     "data": {
      "text/plain": [
       "'https://www.ted.com/tedx/events?autocomplete_filter=Israel&year=2018&page=1&when=past'"
      ]
     },
     "metadata": {},
     "output_type": "display_data"
    },
    {
     "data": {
      "text/plain": [
       "'https://www.ted.com/tedx/events?autocomplete_filter=Iraq&year=2013&page=1&when=past'"
      ]
     },
     "metadata": {},
     "output_type": "display_data"
    },
    {
     "data": {
      "text/plain": [
       "'https://www.ted.com/tedx/events?autocomplete_filter=Iraq&year=2014&page=1&when=past'"
      ]
     },
     "metadata": {},
     "output_type": "display_data"
    },
    {
     "data": {
      "text/plain": [
       "'https://www.ted.com/tedx/events?autocomplete_filter=Hungary&year=2018&page=1&when=past'"
      ]
     },
     "metadata": {},
     "output_type": "display_data"
    },
    {
     "data": {
      "text/plain": [
       "'https://www.ted.com/tedx/events?autocomplete_filter=Ireland&year=2019&page=1&when=past'"
      ]
     },
     "metadata": {},
     "output_type": "display_data"
    },
    {
     "data": {
      "text/plain": [
       "'https://www.ted.com/tedx/events?autocomplete_filter=Jordan&year=2009&page=1&when=past'"
      ]
     },
     "metadata": {},
     "output_type": "display_data"
    },
    {
     "data": {
      "text/plain": [
       "'https://www.ted.com/tedx/events?autocomplete_filter=Jordan&year=2011&page=1&when=past'"
      ]
     },
     "metadata": {},
     "output_type": "display_data"
    },
    {
     "data": {
      "text/plain": [
       "'https://www.ted.com/tedx/events?autocomplete_filter=Japan&year=2020&page=1&when=past'"
      ]
     },
     "metadata": {},
     "output_type": "display_data"
    },
    {
     "data": {
      "text/plain": [
       "'https://www.ted.com/tedx/events?autocomplete_filter=Iraq&year=2017&page=1&when=past'"
      ]
     },
     "metadata": {},
     "output_type": "display_data"
    },
    {
     "data": {
      "text/plain": [
       "'https://www.ted.com/tedx/events?autocomplete_filter=Ireland&year=2014&page=1&when=past'"
      ]
     },
     "metadata": {},
     "output_type": "display_data"
    },
    {
     "data": {
      "text/plain": [
       "'https://www.ted.com/tedx/events?autocomplete_filter=Jordan&year=2012&page=1&when=past'"
      ]
     },
     "metadata": {},
     "output_type": "display_data"
    },
    {
     "data": {
      "text/plain": [
       "'https://www.ted.com/tedx/events?autocomplete_filter=Indonesia&year=2019&page=1&when=past'"
      ]
     },
     "metadata": {},
     "output_type": "display_data"
    },
    {
     "data": {
      "text/plain": [
       "'https://www.ted.com/tedx/events?autocomplete_filter=Jordan&year=2010&page=1&when=past'"
      ]
     },
     "metadata": {},
     "output_type": "display_data"
    },
    {
     "data": {
      "text/plain": [
       "'https://www.ted.com/tedx/events?autocomplete_filter=Japan&year=2015&page=1&when=past'"
      ]
     },
     "metadata": {},
     "output_type": "display_data"
    },
    {
     "data": {
      "text/plain": [
       "'https://www.ted.com/tedx/events?autocomplete_filter=Kenya&year=2013&page=1&when=past'"
      ]
     },
     "metadata": {},
     "output_type": "display_data"
    },
    {
     "data": {
      "text/plain": [
       "'https://www.ted.com/tedx/events?autocomplete_filter=Jamaica&year=2009&page=1&when=past'"
      ]
     },
     "metadata": {},
     "output_type": "display_data"
    },
    {
     "data": {
      "text/plain": [
       "'https://www.ted.com/tedx/events?autocomplete_filter=Ireland&year=2016&page=1&when=past'"
      ]
     },
     "metadata": {},
     "output_type": "display_data"
    },
    {
     "data": {
      "text/plain": [
       "'https://www.ted.com/tedx/events?autocomplete_filter=Ireland&year=2017&page=1&when=past'"
      ]
     },
     "metadata": {},
     "output_type": "display_data"
    },
    {
     "data": {
      "text/plain": [
       "'https://www.ted.com/tedx/events?autocomplete_filter=India&year=2009&page=1&when=past'"
      ]
     },
     "metadata": {},
     "output_type": "display_data"
    },
    {
     "data": {
      "text/plain": [
       "'https://www.ted.com/tedx/events?autocomplete_filter=Italy&year=2010&page=1&when=past'"
      ]
     },
     "metadata": {},
     "output_type": "display_data"
    },
    {
     "data": {
      "text/plain": [
       "'https://www.ted.com/tedx/events?autocomplete_filter=Kazakstan&year=2014&page=1&when=past'"
      ]
     },
     "metadata": {},
     "output_type": "display_data"
    },
    {
     "data": {
      "text/plain": [
       "'https://www.ted.com/tedx/events?autocomplete_filter=Kazakstan&year=2012&page=1&when=past'"
      ]
     },
     "metadata": {},
     "output_type": "display_data"
    },
    {
     "data": {
      "text/plain": [
       "'https://www.ted.com/tedx/events?autocomplete_filter=Ireland&year=2020&page=1&when=past'"
      ]
     },
     "metadata": {},
     "output_type": "display_data"
    },
    {
     "data": {
      "text/plain": [
       "'https://www.ted.com/tedx/events?autocomplete_filter=Kazakstan&year=2011&page=1&when=past'"
      ]
     },
     "metadata": {},
     "output_type": "display_data"
    },
    {
     "data": {
      "text/plain": [
       "'https://www.ted.com/tedx/events?autocomplete_filter=Israel&year=2017&page=1&when=past'"
      ]
     },
     "metadata": {},
     "output_type": "display_data"
    },
    {
     "data": {
      "text/plain": [
       "'https://www.ted.com/tedx/events?autocomplete_filter=Kazakstan&year=2015&page=1&when=past'"
      ]
     },
     "metadata": {},
     "output_type": "display_data"
    },
    {
     "data": {
      "text/plain": [
       "'https://www.ted.com/tedx/events?autocomplete_filter=Iraq&year=2010&page=1&when=past'"
      ]
     },
     "metadata": {},
     "output_type": "display_data"
    },
    {
     "data": {
      "text/plain": [
       "'https://www.ted.com/tedx/events?autocomplete_filter=Kazakstan&year=2013&page=1&when=past'"
      ]
     },
     "metadata": {},
     "output_type": "display_data"
    },
    {
     "data": {
      "text/plain": [
       "'https://www.ted.com/tedx/events?autocomplete_filter=Jordan&year=2018&page=1&when=past'"
      ]
     },
     "metadata": {},
     "output_type": "display_data"
    },
    {
     "data": {
      "text/plain": [
       "'https://www.ted.com/tedx/events?autocomplete_filter=Kiribati&year=2016&page=1&when=past'"
      ]
     },
     "metadata": {},
     "output_type": "display_data"
    },
    {
     "data": {
      "text/plain": [
       "'https://www.ted.com/tedx/events?autocomplete_filter=Japan&year=2012&page=1&when=past'"
      ]
     },
     "metadata": {},
     "output_type": "display_data"
    },
    {
     "data": {
      "text/plain": [
       "'https://www.ted.com/tedx/events?autocomplete_filter=Israel&year=2019&page=1&when=past'"
      ]
     },
     "metadata": {},
     "output_type": "display_data"
    },
    {
     "data": {
      "text/plain": [
       "'https://www.ted.com/tedx/events?autocomplete_filter=Israel&year=2020&page=1&when=past'"
      ]
     },
     "metadata": {},
     "output_type": "display_data"
    },
    {
     "data": {
      "text/plain": [
       "'https://www.ted.com/tedx/events?autocomplete_filter=Indonesia&year=2012&page=1&when=past'"
      ]
     },
     "metadata": {},
     "output_type": "display_data"
    },
    {
     "data": {
      "text/plain": [
       "'https://www.ted.com/tedx/events?autocomplete_filter=Jamaica&year=2013&page=1&when=past'"
      ]
     },
     "metadata": {},
     "output_type": "display_data"
    },
    {
     "data": {
      "text/plain": [
       "'https://www.ted.com/tedx/events?autocomplete_filter=Kenya&year=2015&page=1&when=past'"
      ]
     },
     "metadata": {},
     "output_type": "display_data"
    },
    {
     "data": {
      "text/plain": [
       "'https://www.ted.com/tedx/events?autocomplete_filter=Kenya&year=2017&page=1&when=past'"
      ]
     },
     "metadata": {},
     "output_type": "display_data"
    },
    {
     "data": {
      "text/plain": [
       "'https://www.ted.com/tedx/events?autocomplete_filter=Italy&year=2011&page=1&when=past'"
      ]
     },
     "metadata": {},
     "output_type": "display_data"
    },
    {
     "data": {
      "text/plain": [
       "'https://www.ted.com/tedx/events?autocomplete_filter=Kenya&year=2014&page=1&when=past'"
      ]
     },
     "metadata": {},
     "output_type": "display_data"
    },
    {
     "data": {
      "text/plain": [
       "'https://www.ted.com/tedx/events?autocomplete_filter=Italy&year=2020&page=1&when=past'"
      ]
     },
     "metadata": {},
     "output_type": "display_data"
    },
    {
     "data": {
      "text/plain": [
       "'https://www.ted.com/tedx/events?autocomplete_filter=Kenya&year=2018&page=1&when=past'"
      ]
     },
     "metadata": {},
     "output_type": "display_data"
    },
    {
     "data": {
      "text/plain": [
       "'https://www.ted.com/tedx/events?autocomplete_filter=Ireland&year=2013&page=1&when=past'"
      ]
     },
     "metadata": {},
     "output_type": "display_data"
    },
    {
     "data": {
      "text/plain": [
       "'https://www.ted.com/tedx/events?autocomplete_filter=Kenya&year=2016&page=1&when=past'"
      ]
     },
     "metadata": {},
     "output_type": "display_data"
    },
    {
     "data": {
      "text/plain": [
       "'https://www.ted.com/tedx/events?autocomplete_filter=Kenya&year=2009&page=1&when=past'"
      ]
     },
     "metadata": {},
     "output_type": "display_data"
    },
    {
     "data": {
      "text/plain": [
       "'https://www.ted.com/tedx/events?autocomplete_filter=Jordan&year=2015&page=1&when=past'"
      ]
     },
     "metadata": {},
     "output_type": "display_data"
    },
    {
     "data": {
      "text/plain": [
       "\"https://www.ted.com/tedx/events?autocomplete_filter=Korea,+Democratic+People's+Republic+Of&year=2019&page=1&when=past\""
      ]
     },
     "metadata": {},
     "output_type": "display_data"
    },
    {
     "data": {
      "text/plain": [
       "'https://www.ted.com/tedx/events?autocomplete_filter=Jamaica&year=2010&page=1&when=past'"
      ]
     },
     "metadata": {},
     "output_type": "display_data"
    },
    {
     "data": {
      "text/plain": [
       "'https://www.ted.com/tedx/events?autocomplete_filter=Jamaica&year=2011&page=1&when=past'"
      ]
     },
     "metadata": {},
     "output_type": "display_data"
    },
    {
     "data": {
      "text/plain": [
       "'https://www.ted.com/tedx/events?autocomplete_filter=Iran,+Islamic+Republic+Of&year=2015&page=1&when=past'"
      ]
     },
     "metadata": {},
     "output_type": "display_data"
    },
    {
     "data": {
      "text/plain": [
       "'https://www.ted.com/tedx/events?autocomplete_filter=Japan&year=2016&page=1&when=past'"
      ]
     },
     "metadata": {},
     "output_type": "display_data"
    },
    {
     "data": {
      "text/plain": [
       "'https://www.ted.com/tedx/events?autocomplete_filter=Kiribati&year=2020&page=1&when=past'"
      ]
     },
     "metadata": {},
     "output_type": "display_data"
    },
    {
     "data": {
      "text/plain": [
       "'https://www.ted.com/tedx/events?autocomplete_filter=Kiribati&year=2018&page=1&when=past'"
      ]
     },
     "metadata": {},
     "output_type": "display_data"
    },
    {
     "data": {
      "text/plain": [
       "'https://www.ted.com/tedx/events?autocomplete_filter=Jamaica&year=2014&page=1&when=past'"
      ]
     },
     "metadata": {},
     "output_type": "display_data"
    },
    {
     "data": {
      "text/plain": [
       "'https://www.ted.com/tedx/events?autocomplete_filter=Kiribati&year=2017&page=1&when=past'"
      ]
     },
     "metadata": {},
     "output_type": "display_data"
    },
    {
     "data": {
      "text/plain": [
       "'https://www.ted.com/tedx/events?autocomplete_filter=Japan&year=2011&page=1&when=past'"
      ]
     },
     "metadata": {},
     "output_type": "display_data"
    },
    {
     "data": {
      "text/plain": [
       "\"https://www.ted.com/tedx/events?autocomplete_filter=Korea,+Democratic+People's+Republic+Of&year=2009&page=1&when=past\""
      ]
     },
     "metadata": {},
     "output_type": "display_data"
    },
    {
     "data": {
      "text/plain": [
       "'https://www.ted.com/tedx/events?autocomplete_filter=Israel&year=2016&page=1&when=past'"
      ]
     },
     "metadata": {},
     "output_type": "display_data"
    },
    {
     "data": {
      "text/plain": [
       "'https://www.ted.com/tedx/events?autocomplete_filter=Kiribati&year=2019&page=1&when=past'"
      ]
     },
     "metadata": {},
     "output_type": "display_data"
    },
    {
     "data": {
      "text/plain": [
       "'https://www.ted.com/tedx/events?autocomplete_filter=Kiribati&year=2012&page=1&when=past'"
      ]
     },
     "metadata": {},
     "output_type": "display_data"
    },
    {
     "data": {
      "text/plain": [
       "'https://www.ted.com/tedx/events?autocomplete_filter=Japan&year=2013&page=1&when=past'"
      ]
     },
     "metadata": {},
     "output_type": "display_data"
    },
    {
     "data": {
      "text/plain": [
       "'https://www.ted.com/tedx/events?autocomplete_filter=Kazakstan&year=2018&page=1&when=past'"
      ]
     },
     "metadata": {},
     "output_type": "display_data"
    },
    {
     "data": {
      "text/plain": [
       "'https://www.ted.com/tedx/events?autocomplete_filter=Kosovo&year=2010&page=1&when=past'"
      ]
     },
     "metadata": {},
     "output_type": "display_data"
    },
    {
     "data": {
      "text/plain": [
       "'https://www.ted.com/tedx/events?autocomplete_filter=Japan&year=2014&page=1&when=past'"
      ]
     },
     "metadata": {},
     "output_type": "display_data"
    },
    {
     "data": {
      "text/plain": [
       "'https://www.ted.com/tedx/events?autocomplete_filter=Iraq&year=2018&page=1&when=past'"
      ]
     },
     "metadata": {},
     "output_type": "display_data"
    },
    {
     "data": {
      "text/plain": [
       "'https://www.ted.com/tedx/events?autocomplete_filter=Jordan&year=2019&page=1&when=past'"
      ]
     },
     "metadata": {},
     "output_type": "display_data"
    },
    {
     "data": {
      "text/plain": [
       "'https://www.ted.com/tedx/events?autocomplete_filter=Korea,+Republic+Of&year=2009&page=1&when=past'"
      ]
     },
     "metadata": {},
     "output_type": "display_data"
    },
    {
     "data": {
      "text/plain": [
       "'https://www.ted.com/tedx/events?autocomplete_filter=Korea,+Republic+Of&year=2011&page=1&when=past'"
      ]
     },
     "metadata": {},
     "output_type": "display_data"
    },
    {
     "data": {
      "text/plain": [
       "'https://www.ted.com/tedx/events?autocomplete_filter=Japan&year=2017&page=1&when=past'"
      ]
     },
     "metadata": {},
     "output_type": "display_data"
    },
    {
     "data": {
      "text/plain": [
       "\"https://www.ted.com/tedx/events?autocomplete_filter=Korea,+Democratic+People's+Republic+Of&year=2020&page=1&when=past\""
      ]
     },
     "metadata": {},
     "output_type": "display_data"
    },
    {
     "data": {
      "text/plain": [
       "'https://www.ted.com/tedx/events?autocomplete_filter=Jordan&year=2014&page=1&when=past'"
      ]
     },
     "metadata": {},
     "output_type": "display_data"
    },
    {
     "data": {
      "text/plain": [
       "'https://www.ted.com/tedx/events?autocomplete_filter=Korea,+Republic+Of&year=2012&page=1&when=past'"
      ]
     },
     "metadata": {},
     "output_type": "display_data"
    },
    {
     "data": {
      "text/plain": [
       "'https://www.ted.com/tedx/events?autocomplete_filter=Italy&year=2019&page=1&when=past'"
      ]
     },
     "metadata": {},
     "output_type": "display_data"
    },
    {
     "data": {
      "text/plain": [
       "'https://www.ted.com/tedx/events?autocomplete_filter=Korea,+Republic+Of&year=2010&page=1&when=past'"
      ]
     },
     "metadata": {},
     "output_type": "display_data"
    },
    {
     "data": {
      "text/plain": [
       "\"https://www.ted.com/tedx/events?autocomplete_filter=Korea,+Democratic+People's+Republic+Of&year=2015&page=1&when=past\""
      ]
     },
     "metadata": {},
     "output_type": "display_data"
    },
    {
     "data": {
      "text/plain": [
       "'https://www.ted.com/tedx/events?autocomplete_filter=Jordan&year=2016&page=1&when=past'"
      ]
     },
     "metadata": {},
     "output_type": "display_data"
    },
    {
     "data": {
      "text/plain": [
       "'https://www.ted.com/tedx/events?autocomplete_filter=Kiribati&year=2009&page=1&when=past'"
      ]
     },
     "metadata": {},
     "output_type": "display_data"
    },
    {
     "data": {
      "text/plain": [
       "'https://www.ted.com/tedx/events?autocomplete_filter=Kuwait&year=2013&page=1&when=past'"
      ]
     },
     "metadata": {},
     "output_type": "display_data"
    },
    {
     "data": {
      "text/plain": [
       "'https://www.ted.com/tedx/events?autocomplete_filter=Jordan&year=2017&page=1&when=past'"
      ]
     },
     "metadata": {},
     "output_type": "display_data"
    },
    {
     "data": {
      "text/plain": [
       "'https://www.ted.com/tedx/events?autocomplete_filter=Israel&year=2009&page=1&when=past'"
      ]
     },
     "metadata": {},
     "output_type": "display_data"
    },
    {
     "data": {
      "text/plain": [
       "'https://www.ted.com/tedx/events?autocomplete_filter=Kenya&year=2010&page=1&when=past'"
      ]
     },
     "metadata": {},
     "output_type": "display_data"
    },
    {
     "data": {
      "text/plain": [
       "'https://www.ted.com/tedx/events?autocomplete_filter=Kosovo&year=2014&page=1&when=past'"
      ]
     },
     "metadata": {},
     "output_type": "display_data"
    },
    {
     "data": {
      "text/plain": [
       "'https://www.ted.com/tedx/events?autocomplete_filter=Kosovo&year=2012&page=1&when=past'"
      ]
     },
     "metadata": {},
     "output_type": "display_data"
    },
    {
     "data": {
      "text/plain": [
       "'https://www.ted.com/tedx/events?autocomplete_filter=Jordan&year=2020&page=1&when=past'"
      ]
     },
     "metadata": {},
     "output_type": "display_data"
    },
    {
     "data": {
      "text/plain": [
       "'https://www.ted.com/tedx/events?autocomplete_filter=Kosovo&year=2011&page=1&when=past'"
      ]
     },
     "metadata": {},
     "output_type": "display_data"
    },
    {
     "data": {
      "text/plain": [
       "'https://www.ted.com/tedx/events?autocomplete_filter=Kazakstan&year=2017&page=1&when=past'"
      ]
     },
     "metadata": {},
     "output_type": "display_data"
    },
    {
     "data": {
      "text/plain": [
       "'https://www.ted.com/tedx/events?autocomplete_filter=Kosovo&year=2015&page=1&when=past'"
      ]
     },
     "metadata": {},
     "output_type": "display_data"
    },
    {
     "data": {
      "text/plain": [
       "'https://www.ted.com/tedx/events?autocomplete_filter=Japan&year=2010&page=1&when=past'"
      ]
     },
     "metadata": {},
     "output_type": "display_data"
    },
    {
     "data": {
      "text/plain": [
       "'https://www.ted.com/tedx/events?autocomplete_filter=Kosovo&year=2013&page=1&when=past'"
      ]
     },
     "metadata": {},
     "output_type": "display_data"
    },
    {
     "data": {
      "text/plain": [
       "'https://www.ted.com/tedx/events?autocomplete_filter=Korea,+Republic+Of&year=2018&page=1&when=past'"
      ]
     },
     "metadata": {},
     "output_type": "display_data"
    },
    {
     "data": {
      "text/plain": [
       "'https://www.ted.com/tedx/events?autocomplete_filter=Kazakstan&year=2019&page=1&when=past'"
      ]
     },
     "metadata": {},
     "output_type": "display_data"
    },
    {
     "data": {
      "text/plain": [
       "'https://www.ted.com/tedx/events?autocomplete_filter=Kyrgyzstan&year=2016&page=1&when=past'"
      ]
     },
     "metadata": {},
     "output_type": "display_data"
    },
    {
     "data": {
      "text/plain": [
       "\"https://www.ted.com/tedx/events?autocomplete_filter=Korea,+Democratic+People's+Republic+Of&year=2012&page=1&when=past\""
      ]
     },
     "metadata": {},
     "output_type": "display_data"
    },
    {
     "data": {
      "text/plain": [
       "'https://www.ted.com/tedx/events?autocomplete_filter=Kazakstan&year=2020&page=1&when=past'"
      ]
     },
     "metadata": {},
     "output_type": "display_data"
    },
    {
     "data": {
      "text/plain": [
       "'https://www.ted.com/tedx/events?autocomplete_filter=Italy&year=2012&page=1&when=past'"
      ]
     },
     "metadata": {},
     "output_type": "display_data"
    },
    {
     "data": {
      "text/plain": [
       "'https://www.ted.com/tedx/events?autocomplete_filter=Kiribati&year=2013&page=1&when=past'"
      ]
     },
     "metadata": {},
     "output_type": "display_data"
    },
    {
     "data": {
      "text/plain": [
       "'https://www.ted.com/tedx/events?autocomplete_filter=Kuwait&year=2017&page=1&when=past'"
      ]
     },
     "metadata": {},
     "output_type": "display_data"
    },
    {
     "data": {
      "text/plain": [
       "'https://www.ted.com/tedx/events?autocomplete_filter=Kuwait&year=2015&page=1&when=past'"
      ]
     },
     "metadata": {},
     "output_type": "display_data"
    },
    {
     "data": {
      "text/plain": [
       "'https://www.ted.com/tedx/events?autocomplete_filter=Kenya&year=2011&page=1&when=past'"
      ]
     },
     "metadata": {},
     "output_type": "display_data"
    },
    {
     "data": {
      "text/plain": [
       "'https://www.ted.com/tedx/events?autocomplete_filter=Kuwait&year=2014&page=1&when=past'"
      ]
     },
     "metadata": {},
     "output_type": "display_data"
    },
    {
     "data": {
      "text/plain": [
       "'https://www.ted.com/tedx/events?autocomplete_filter=Kenya&year=2020&page=1&when=past'"
      ]
     },
     "metadata": {},
     "output_type": "display_data"
    },
    {
     "data": {
      "text/plain": [
       "'https://www.ted.com/tedx/events?autocomplete_filter=Kuwait&year=2018&page=1&when=past'"
      ]
     },
     "metadata": {},
     "output_type": "display_data"
    },
    {
     "data": {
      "text/plain": [
       "'https://www.ted.com/tedx/events?autocomplete_filter=Jordan&year=2013&page=1&when=past'"
      ]
     },
     "metadata": {},
     "output_type": "display_data"
    },
    {
     "data": {
      "text/plain": [
       "'https://www.ted.com/tedx/events?autocomplete_filter=Kuwait&year=2016&page=1&when=past'"
      ]
     },
     "metadata": {},
     "output_type": "display_data"
    },
    {
     "data": {
      "text/plain": [
       "'https://www.ted.com/tedx/events?autocomplete_filter=Kuwait&year=2009&page=1&when=past'"
      ]
     },
     "metadata": {},
     "output_type": "display_data"
    },
    {
     "data": {
      "text/plain": [
       "'https://www.ted.com/tedx/events?autocomplete_filter=Kiribati&year=2010&page=1&when=past'"
      ]
     },
     "metadata": {},
     "output_type": "display_data"
    },
    {
     "data": {
      "text/plain": [
       "\"https://www.ted.com/tedx/events?autocomplete_filter=Lao+People's+Democratic+Republic&year=2019&page=1&when=past\""
      ]
     },
     "metadata": {},
     "output_type": "display_data"
    },
    {
     "data": {
      "text/plain": [
       "'https://www.ted.com/tedx/events?autocomplete_filter=Korea,+Republic+Of&year=2015&page=1&when=past'"
      ]
     },
     "metadata": {},
     "output_type": "display_data"
    },
    {
     "data": {
      "text/plain": [
       "'https://www.ted.com/tedx/events?autocomplete_filter=Kiribati&year=2011&page=1&when=past'"
      ]
     },
     "metadata": {},
     "output_type": "display_data"
    },
    {
     "data": {
      "text/plain": [
       "'https://www.ted.com/tedx/events?autocomplete_filter=Jamaica&year=2015&page=1&when=past'"
      ]
     },
     "metadata": {},
     "output_type": "display_data"
    },
    {
     "data": {
      "text/plain": [
       "\"https://www.ted.com/tedx/events?autocomplete_filter=Korea,+Democratic+People's+Republic+Of&year=2016&page=1&when=past\""
      ]
     },
     "metadata": {},
     "output_type": "display_data"
    },
    {
     "data": {
      "text/plain": [
       "'https://www.ted.com/tedx/events?autocomplete_filter=Kyrgyzstan&year=2020&page=1&when=past'"
      ]
     },
     "metadata": {},
     "output_type": "display_data"
    },
    {
     "data": {
      "text/plain": [
       "'https://www.ted.com/tedx/events?autocomplete_filter=Kyrgyzstan&year=2018&page=1&when=past'"
      ]
     },
     "metadata": {},
     "output_type": "display_data"
    },
    {
     "data": {
      "text/plain": [
       "'https://www.ted.com/tedx/events?autocomplete_filter=Kiribati&year=2014&page=1&when=past'"
      ]
     },
     "metadata": {},
     "output_type": "display_data"
    },
    {
     "data": {
      "text/plain": [
       "\"https://www.ted.com/tedx/events?autocomplete_filter=Korea,+Democratic+People's+Republic+Of&year=2011&page=1&when=past\""
      ]
     },
     "metadata": {},
     "output_type": "display_data"
    },
    {
     "data": {
      "text/plain": [
       "'https://www.ted.com/tedx/events?autocomplete_filter=Kyrgyzstan&year=2017&page=1&when=past'"
      ]
     },
     "metadata": {},
     "output_type": "display_data"
    },
    {
     "data": {
      "text/plain": [
       "\"https://www.ted.com/tedx/events?autocomplete_filter=Lao+People's+Democratic+Republic&year=2009&page=1&when=past\""
      ]
     },
     "metadata": {},
     "output_type": "display_data"
    },
    {
     "data": {
      "text/plain": [
       "'https://www.ted.com/tedx/events?autocomplete_filter=Kazakstan&year=2016&page=1&when=past'"
      ]
     },
     "metadata": {},
     "output_type": "display_data"
    },
    {
     "data": {
      "text/plain": [
       "'https://www.ted.com/tedx/events?autocomplete_filter=Kyrgyzstan&year=2019&page=1&when=past'"
      ]
     },
     "metadata": {},
     "output_type": "display_data"
    },
    {
     "data": {
      "text/plain": [
       "'https://www.ted.com/tedx/events?autocomplete_filter=Kyrgyzstan&year=2012&page=1&when=past'"
      ]
     },
     "metadata": {},
     "output_type": "display_data"
    },
    {
     "data": {
      "text/plain": [
       "\"https://www.ted.com/tedx/events?autocomplete_filter=Korea,+Democratic+People's+Republic+Of&year=2013&page=1&when=past\""
      ]
     },
     "metadata": {},
     "output_type": "display_data"
    },
    {
     "data": {
      "text/plain": [
       "'https://www.ted.com/tedx/events?autocomplete_filter=Kosovo&year=2018&page=1&when=past'"
      ]
     },
     "metadata": {},
     "output_type": "display_data"
    },
    {
     "data": {
      "text/plain": [
       "'https://www.ted.com/tedx/events?autocomplete_filter=Lebanon&year=2010&page=1&when=past'"
      ]
     },
     "metadata": {},
     "output_type": "display_data"
    },
    {
     "data": {
      "text/plain": [
       "\"https://www.ted.com/tedx/events?autocomplete_filter=Korea,+Democratic+People's+Republic+Of&year=2014&page=1&when=past\""
      ]
     },
     "metadata": {},
     "output_type": "display_data"
    },
    {
     "data": {
      "text/plain": [
       "'https://www.ted.com/tedx/events?autocomplete_filter=Japan&year=2018&page=1&when=past'"
      ]
     },
     "metadata": {},
     "output_type": "display_data"
    },
    {
     "data": {
      "text/plain": [
       "'https://www.ted.com/tedx/events?autocomplete_filter=Korea,+Republic+Of&year=2019&page=1&when=past'"
      ]
     },
     "metadata": {},
     "output_type": "display_data"
    },
    {
     "data": {
      "text/plain": [
       "'https://www.ted.com/tedx/events?autocomplete_filter=Latvia&year=2011&page=1&when=past'"
      ]
     },
     "metadata": {},
     "output_type": "display_data"
    },
    {
     "data": {
      "text/plain": [
       "'https://www.ted.com/tedx/events?autocomplete_filter=Latvia&year=2009&page=1&when=past'"
      ]
     },
     "metadata": {},
     "output_type": "display_data"
    },
    {
     "data": {
      "text/plain": [
       "\"https://www.ted.com/tedx/events?autocomplete_filter=Korea,+Democratic+People's+Republic+Of&year=2017&page=1&when=past\""
      ]
     },
     "metadata": {},
     "output_type": "display_data"
    },
    {
     "data": {
      "text/plain": [
       "\"https://www.ted.com/tedx/events?autocomplete_filter=Lao+People's+Democratic+Republic&year=2020&page=1&when=past\""
      ]
     },
     "metadata": {},
     "output_type": "display_data"
    },
    {
     "data": {
      "text/plain": [
       "'https://www.ted.com/tedx/events?autocomplete_filter=Korea,+Republic+Of&year=2014&page=1&when=past'"
      ]
     },
     "metadata": {},
     "output_type": "display_data"
    },
    {
     "data": {
      "text/plain": [
       "'https://www.ted.com/tedx/events?autocomplete_filter=Latvia&year=2012&page=1&when=past'"
      ]
     },
     "metadata": {},
     "output_type": "display_data"
    },
    {
     "data": {
      "text/plain": [
       "'https://www.ted.com/tedx/events?autocomplete_filter=Kenya&year=2019&page=1&when=past'"
      ]
     },
     "metadata": {},
     "output_type": "display_data"
    },
    {
     "data": {
      "text/plain": [
       "'https://www.ted.com/tedx/events?autocomplete_filter=Latvia&year=2010&page=1&when=past'"
      ]
     },
     "metadata": {},
     "output_type": "display_data"
    },
    {
     "data": {
      "text/plain": [
       "\"https://www.ted.com/tedx/events?autocomplete_filter=Lao+People's+Democratic+Republic&year=2015&page=1&when=past\""
      ]
     },
     "metadata": {},
     "output_type": "display_data"
    },
    {
     "data": {
      "text/plain": [
       "'https://www.ted.com/tedx/events?autocomplete_filter=Korea,+Republic+Of&year=2016&page=1&when=past'"
      ]
     },
     "metadata": {},
     "output_type": "display_data"
    },
    {
     "data": {
      "text/plain": [
       "'https://www.ted.com/tedx/events?autocomplete_filter=Kyrgyzstan&year=2009&page=1&when=past'"
      ]
     },
     "metadata": {},
     "output_type": "display_data"
    },
    {
     "data": {
      "text/plain": [
       "'https://www.ted.com/tedx/events?autocomplete_filter=Lesotho&year=2013&page=1&when=past'"
      ]
     },
     "metadata": {},
     "output_type": "display_data"
    },
    {
     "data": {
      "text/plain": [
       "'https://www.ted.com/tedx/events?autocomplete_filter=Korea,+Republic+Of&year=2017&page=1&when=past'"
      ]
     },
     "metadata": {},
     "output_type": "display_data"
    },
    {
     "data": {
      "text/plain": [
       "'https://www.ted.com/tedx/events?autocomplete_filter=Kazakstan&year=2009&page=1&when=past'"
      ]
     },
     "metadata": {},
     "output_type": "display_data"
    },
    {
     "data": {
      "text/plain": [
       "'https://www.ted.com/tedx/events?autocomplete_filter=Kuwait&year=2010&page=1&when=past'"
      ]
     },
     "metadata": {},
     "output_type": "display_data"
    },
    {
     "data": {
      "text/plain": [
       "'https://www.ted.com/tedx/events?autocomplete_filter=Lebanon&year=2014&page=1&when=past'"
      ]
     },
     "metadata": {},
     "output_type": "display_data"
    },
    {
     "data": {
      "text/plain": [
       "'https://www.ted.com/tedx/events?autocomplete_filter=Lebanon&year=2012&page=1&when=past'"
      ]
     },
     "metadata": {},
     "output_type": "display_data"
    },
    {
     "data": {
      "text/plain": [
       "'https://www.ted.com/tedx/events?autocomplete_filter=Korea,+Republic+Of&year=2020&page=1&when=past'"
      ]
     },
     "metadata": {},
     "output_type": "display_data"
    },
    {
     "data": {
      "text/plain": [
       "'https://www.ted.com/tedx/events?autocomplete_filter=Lebanon&year=2015&page=1&when=past'"
      ]
     },
     "metadata": {},
     "output_type": "display_data"
    },
    {
     "data": {
      "text/plain": [
       "'https://www.ted.com/tedx/events?autocomplete_filter=Kosovo&year=2017&page=1&when=past'"
      ]
     },
     "metadata": {},
     "output_type": "display_data"
    },
    {
     "data": {
      "text/plain": [
       "'https://www.ted.com/tedx/events?autocomplete_filter=Lebanon&year=2011&page=1&when=past'"
      ]
     },
     "metadata": {},
     "output_type": "display_data"
    },
    {
     "data": {
      "text/plain": [
       "\"https://www.ted.com/tedx/events?autocomplete_filter=Korea,+Democratic+People's+Republic+Of&year=2010&page=1&when=past\""
      ]
     },
     "metadata": {},
     "output_type": "display_data"
    },
    {
     "data": {
      "text/plain": [
       "'https://www.ted.com/tedx/events?autocomplete_filter=Lebanon&year=2013&page=1&when=past'"
      ]
     },
     "metadata": {},
     "output_type": "display_data"
    },
    {
     "data": {
      "text/plain": [
       "'https://www.ted.com/tedx/events?autocomplete_filter=Latvia&year=2018&page=1&when=past'"
      ]
     },
     "metadata": {},
     "output_type": "display_data"
    },
    {
     "data": {
      "text/plain": [
       "'https://www.ted.com/tedx/events?autocomplete_filter=Kosovo&year=2019&page=1&when=past'"
      ]
     },
     "metadata": {},
     "output_type": "display_data"
    },
    {
     "data": {
      "text/plain": [
       "\"https://www.ted.com/tedx/events?autocomplete_filter=Lao+People's+Democratic+Republic&year=2012&page=1&when=past\""
      ]
     },
     "metadata": {},
     "output_type": "display_data"
    },
    {
     "data": {
      "text/plain": [
       "'https://www.ted.com/tedx/events?autocomplete_filter=Liberia&year=2016&page=1&when=past'"
      ]
     },
     "metadata": {},
     "output_type": "display_data"
    },
    {
     "data": {
      "text/plain": [
       "'https://www.ted.com/tedx/events?autocomplete_filter=Kosovo&year=2020&page=1&when=past'"
      ]
     },
     "metadata": {},
     "output_type": "display_data"
    },
    {
     "data": {
      "text/plain": [
       "'https://www.ted.com/tedx/events?autocomplete_filter=Kenya&year=2012&page=1&when=past'"
      ]
     },
     "metadata": {},
     "output_type": "display_data"
    },
    {
     "data": {
      "text/plain": [
       "'https://www.ted.com/tedx/events?autocomplete_filter=Lesotho&year=2017&page=1&when=past'"
      ]
     },
     "metadata": {},
     "output_type": "display_data"
    },
    {
     "data": {
      "text/plain": [
       "'https://www.ted.com/tedx/events?autocomplete_filter=Kyrgyzstan&year=2013&page=1&when=past'"
      ]
     },
     "metadata": {},
     "output_type": "display_data"
    },
    {
     "data": {
      "text/plain": [
       "'https://www.ted.com/tedx/events?autocomplete_filter=Lesotho&year=2015&page=1&when=past'"
      ]
     },
     "metadata": {},
     "output_type": "display_data"
    },
    {
     "data": {
      "text/plain": [
       "'https://www.ted.com/tedx/events?autocomplete_filter=Kuwait&year=2011&page=1&when=past'"
      ]
     },
     "metadata": {},
     "output_type": "display_data"
    },
    {
     "data": {
      "text/plain": [
       "'https://www.ted.com/tedx/events?autocomplete_filter=Lesotho&year=2018&page=1&when=past'"
      ]
     },
     "metadata": {},
     "output_type": "display_data"
    },
    {
     "data": {
      "text/plain": [
       "'https://www.ted.com/tedx/events?autocomplete_filter=Lesotho&year=2014&page=1&when=past'"
      ]
     },
     "metadata": {},
     "output_type": "display_data"
    },
    {
     "data": {
      "text/plain": [
       "'https://www.ted.com/tedx/events?autocomplete_filter=Kuwait&year=2020&page=1&when=past'"
      ]
     },
     "metadata": {},
     "output_type": "display_data"
    },
    {
     "data": {
      "text/plain": [
       "'https://www.ted.com/tedx/events?autocomplete_filter=Korea,+Republic+Of&year=2013&page=1&when=past'"
      ]
     },
     "metadata": {},
     "output_type": "display_data"
    },
    {
     "data": {
      "text/plain": [
       "'https://www.ted.com/tedx/events?autocomplete_filter=Lesotho&year=2016&page=1&when=past'"
      ]
     },
     "metadata": {},
     "output_type": "display_data"
    },
    {
     "data": {
      "text/plain": [
       "'https://www.ted.com/tedx/events?autocomplete_filter=Lesotho&year=2009&page=1&when=past'"
      ]
     },
     "metadata": {},
     "output_type": "display_data"
    },
    {
     "data": {
      "text/plain": [
       "'https://www.ted.com/tedx/events?autocomplete_filter=Latvia&year=2015&page=1&when=past'"
      ]
     },
     "metadata": {},
     "output_type": "display_data"
    },
    {
     "data": {
      "text/plain": [
       "'https://www.ted.com/tedx/events?autocomplete_filter=Kyrgyzstan&year=2010&page=1&when=past'"
      ]
     },
     "metadata": {},
     "output_type": "display_data"
    },
    {
     "data": {
      "text/plain": [
       "'https://www.ted.com/tedx/events?autocomplete_filter=Libyan+Arab+Jamahiriya&year=2019&page=1&when=past'"
      ]
     },
     "metadata": {},
     "output_type": "display_data"
    },
    {
     "data": {
      "text/plain": [
       "'https://www.ted.com/tedx/events?autocomplete_filter=Kyrgyzstan&year=2011&page=1&when=past'"
      ]
     },
     "metadata": {},
     "output_type": "display_data"
    },
    {
     "data": {
      "text/plain": [
       "'https://www.ted.com/tedx/events?autocomplete_filter=Liberia&year=2020&page=1&when=past'"
      ]
     },
     "metadata": {},
     "output_type": "display_data"
    },
    {
     "data": {
      "text/plain": [
       "\"https://www.ted.com/tedx/events?autocomplete_filter=Lao+People's+Democratic+Republic&year=2016&page=1&when=past\""
      ]
     },
     "metadata": {},
     "output_type": "display_data"
    },
    {
     "data": {
      "text/plain": [
       "'https://www.ted.com/tedx/events?autocomplete_filter=Kiribati&year=2015&page=1&when=past'"
      ]
     },
     "metadata": {},
     "output_type": "display_data"
    },
    {
     "data": {
      "text/plain": [
       "'https://www.ted.com/tedx/events?autocomplete_filter=Liberia&year=2018&page=1&when=past'"
      ]
     },
     "metadata": {},
     "output_type": "display_data"
    },
    {
     "data": {
      "text/plain": [
       "'https://www.ted.com/tedx/events?autocomplete_filter=Kyrgyzstan&year=2014&page=1&when=past'"
      ]
     },
     "metadata": {},
     "output_type": "display_data"
    },
    {
     "data": {
      "text/plain": [
       "'https://www.ted.com/tedx/events?autocomplete_filter=Libyan+Arab+Jamahiriya&year=2009&page=1&when=past'"
      ]
     },
     "metadata": {},
     "output_type": "display_data"
    },
    {
     "data": {
      "text/plain": [
       "'https://www.ted.com/tedx/events?autocomplete_filter=Liberia&year=2017&page=1&when=past'"
      ]
     },
     "metadata": {},
     "output_type": "display_data"
    },
    {
     "data": {
      "text/plain": [
       "\"https://www.ted.com/tedx/events?autocomplete_filter=Lao+People's+Democratic+Republic&year=2011&page=1&when=past\""
      ]
     },
     "metadata": {},
     "output_type": "display_data"
    },
    {
     "data": {
      "text/plain": [
       "'https://www.ted.com/tedx/events?autocomplete_filter=Kosovo&year=2016&page=1&when=past'"
      ]
     },
     "metadata": {},
     "output_type": "display_data"
    },
    {
     "data": {
      "text/plain": [
       "'https://www.ted.com/tedx/events?autocomplete_filter=Liberia&year=2019&page=1&when=past'"
      ]
     },
     "metadata": {},
     "output_type": "display_data"
    },
    {
     "data": {
      "text/plain": [
       "'https://www.ted.com/tedx/events?autocomplete_filter=Liberia&year=2012&page=1&when=past'"
      ]
     },
     "metadata": {},
     "output_type": "display_data"
    },
    {
     "data": {
      "text/plain": [
       "\"https://www.ted.com/tedx/events?autocomplete_filter=Lao+People's+Democratic+Republic&year=2013&page=1&when=past\""
      ]
     },
     "metadata": {},
     "output_type": "display_data"
    },
    {
     "data": {
      "text/plain": [
       "'https://www.ted.com/tedx/events?autocomplete_filter=Lebanon&year=2018&page=1&when=past'"
      ]
     },
     "metadata": {},
     "output_type": "display_data"
    },
    {
     "data": {
      "text/plain": [
       "'https://www.ted.com/tedx/events?autocomplete_filter=Lithuania&year=2010&page=1&when=past'"
      ]
     },
     "metadata": {},
     "output_type": "display_data"
    },
    {
     "data": {
      "text/plain": [
       "'https://www.ted.com/tedx/events?autocomplete_filter=Liechtenstein&year=2011&page=1&when=past'"
      ]
     },
     "metadata": {},
     "output_type": "display_data"
    },
    {
     "data": {
      "text/plain": [
       "'https://www.ted.com/tedx/events?autocomplete_filter=Latvia&year=2019&page=1&when=past'"
      ]
     },
     "metadata": {},
     "output_type": "display_data"
    },
    {
     "data": {
      "text/plain": [
       "\"https://www.ted.com/tedx/events?autocomplete_filter=Lao+People's+Democratic+Republic&year=2014&page=1&when=past\""
      ]
     },
     "metadata": {},
     "output_type": "display_data"
    },
    {
     "data": {
      "text/plain": [
       "\"https://www.ted.com/tedx/events?autocomplete_filter=Korea,+Democratic+People's+Republic+Of&year=2018&page=1&when=past\""
      ]
     },
     "metadata": {},
     "output_type": "display_data"
    },
    {
     "data": {
      "text/plain": [
       "'https://www.ted.com/tedx/events?autocomplete_filter=Liechtenstein&year=2009&page=1&when=past'"
      ]
     },
     "metadata": {},
     "output_type": "display_data"
    },
    {
     "data": {
      "text/plain": [
       "\"https://www.ted.com/tedx/events?autocomplete_filter=Lao+People's+Democratic+Republic&year=2017&page=1&when=past\""
      ]
     },
     "metadata": {},
     "output_type": "display_data"
    },
    {
     "data": {
      "text/plain": [
       "'https://www.ted.com/tedx/events?autocomplete_filter=Liechtenstein&year=2012&page=1&when=past'"
      ]
     },
     "metadata": {},
     "output_type": "display_data"
    },
    {
     "data": {
      "text/plain": [
       "'https://www.ted.com/tedx/events?autocomplete_filter=Latvia&year=2014&page=1&when=past'"
      ]
     },
     "metadata": {},
     "output_type": "display_data"
    },
    {
     "data": {
      "text/plain": [
       "'https://www.ted.com/tedx/events?autocomplete_filter=Kuwait&year=2019&page=1&when=past'"
      ]
     },
     "metadata": {},
     "output_type": "display_data"
    },
    {
     "data": {
      "text/plain": [
       "'https://www.ted.com/tedx/events?autocomplete_filter=Libyan+Arab+Jamahiriya&year=2020&page=1&when=past'"
      ]
     },
     "metadata": {},
     "output_type": "display_data"
    },
    {
     "data": {
      "text/plain": [
       "'https://www.ted.com/tedx/events?autocomplete_filter=Liechtenstein&year=2010&page=1&when=past'"
      ]
     },
     "metadata": {},
     "output_type": "display_data"
    },
    {
     "data": {
      "text/plain": [
       "'https://www.ted.com/tedx/events?autocomplete_filter=Latvia&year=2016&page=1&when=past'"
      ]
     },
     "metadata": {},
     "output_type": "display_data"
    },
    {
     "data": {
      "text/plain": [
       "'https://www.ted.com/tedx/events?autocomplete_filter=Liberia&year=2009&page=1&when=past'"
      ]
     },
     "metadata": {},
     "output_type": "display_data"
    },
    {
     "data": {
      "text/plain": [
       "'https://www.ted.com/tedx/events?autocomplete_filter=Luxembourg&year=2013&page=1&when=past'"
      ]
     },
     "metadata": {},
     "output_type": "display_data"
    },
    {
     "data": {
      "text/plain": [
       "'https://www.ted.com/tedx/events?autocomplete_filter=Lithuania&year=2014&page=1&when=past'"
      ]
     },
     "metadata": {},
     "output_type": "display_data"
    },
    {
     "data": {
      "text/plain": [
       "'https://www.ted.com/tedx/events?autocomplete_filter=Latvia&year=2017&page=1&when=past'"
      ]
     },
     "metadata": {},
     "output_type": "display_data"
    },
    {
     "data": {
      "text/plain": [
       "'https://www.ted.com/tedx/events?autocomplete_filter=Lesotho&year=2010&page=1&when=past'"
      ]
     },
     "metadata": {},
     "output_type": "display_data"
    },
    {
     "data": {
      "text/plain": [
       "'https://www.ted.com/tedx/events?autocomplete_filter=Lithuania&year=2012&page=1&when=past'"
      ]
     },
     "metadata": {},
     "output_type": "display_data"
    },
    {
     "data": {
      "text/plain": [
       "'https://www.ted.com/tedx/events?autocomplete_filter=Latvia&year=2020&page=1&when=past'"
      ]
     },
     "metadata": {},
     "output_type": "display_data"
    },
    {
     "data": {
      "text/plain": [
       "'https://www.ted.com/tedx/events?autocomplete_filter=Kosovo&year=2009&page=1&when=past'"
      ]
     },
     "metadata": {},
     "output_type": "display_data"
    },
    {
     "data": {
      "text/plain": [
       "'https://www.ted.com/tedx/events?autocomplete_filter=Lithuania&year=2015&page=1&when=past'"
      ]
     },
     "metadata": {},
     "output_type": "display_data"
    },
    {
     "data": {
      "text/plain": [
       "'https://www.ted.com/tedx/events?autocomplete_filter=Lebanon&year=2017&page=1&when=past'"
      ]
     },
     "metadata": {},
     "output_type": "display_data"
    },
    {
     "data": {
      "text/plain": [
       "\"https://www.ted.com/tedx/events?autocomplete_filter=Lao+People's+Democratic+Republic&year=2010&page=1&when=past\""
      ]
     },
     "metadata": {},
     "output_type": "display_data"
    },
    {
     "data": {
      "text/plain": [
       "'https://www.ted.com/tedx/events?autocomplete_filter=Lithuania&year=2011&page=1&when=past'"
      ]
     },
     "metadata": {},
     "output_type": "display_data"
    },
    {
     "data": {
      "text/plain": [
       "'https://www.ted.com/tedx/events?autocomplete_filter=Lithuania&year=2013&page=1&when=past'"
      ]
     },
     "metadata": {},
     "output_type": "display_data"
    },
    {
     "data": {
      "text/plain": [
       "'https://www.ted.com/tedx/events?autocomplete_filter=Lebanon&year=2019&page=1&when=past'"
      ]
     },
     "metadata": {},
     "output_type": "display_data"
    },
    {
     "data": {
      "text/plain": [
       "'https://www.ted.com/tedx/events?autocomplete_filter=Libyan+Arab+Jamahiriya&year=2015&page=1&when=past'"
      ]
     },
     "metadata": {},
     "output_type": "display_data"
    },
    {
     "data": {
      "text/plain": [
       "'https://www.ted.com/tedx/events?autocomplete_filter=Macau&year=2016&page=1&when=past'"
      ]
     },
     "metadata": {},
     "output_type": "display_data"
    },
    {
     "data": {
      "text/plain": [
       "'https://www.ted.com/tedx/events?autocomplete_filter=Libyan+Arab+Jamahiriya&year=2012&page=1&when=past'"
      ]
     },
     "metadata": {},
     "output_type": "display_data"
    },
    {
     "data": {
      "text/plain": [
       "'https://www.ted.com/tedx/events?autocomplete_filter=Luxembourg&year=2017&page=1&when=past'"
      ]
     },
     "metadata": {},
     "output_type": "display_data"
    },
    {
     "data": {
      "text/plain": [
       "'https://www.ted.com/tedx/events?autocomplete_filter=Lebanon&year=2020&page=1&when=past'"
      ]
     },
     "metadata": {},
     "output_type": "display_data"
    },
    {
     "data": {
      "text/plain": [
       "'https://www.ted.com/tedx/events?autocomplete_filter=Liberia&year=2013&page=1&when=past'"
      ]
     },
     "metadata": {},
     "output_type": "display_data"
    },
    {
     "data": {
      "text/plain": [
       "'https://www.ted.com/tedx/events?autocomplete_filter=Luxembourg&year=2015&page=1&when=past'"
      ]
     },
     "metadata": {},
     "output_type": "display_data"
    },
    {
     "data": {
      "text/plain": [
       "'https://www.ted.com/tedx/events?autocomplete_filter=Kuwait&year=2012&page=1&when=past'"
      ]
     },
     "metadata": {},
     "output_type": "display_data"
    },
    {
     "data": {
      "text/plain": [
       "'https://www.ted.com/tedx/events?autocomplete_filter=Lesotho&year=2011&page=1&when=past'"
      ]
     },
     "metadata": {},
     "output_type": "display_data"
    },
    {
     "data": {
      "text/plain": [
       "'https://www.ted.com/tedx/events?autocomplete_filter=Luxembourg&year=2018&page=1&when=past'"
      ]
     },
     "metadata": {},
     "output_type": "display_data"
    },
    {
     "data": {
      "text/plain": [
       "'https://www.ted.com/tedx/events?autocomplete_filter=Latvia&year=2013&page=1&when=past'"
      ]
     },
     "metadata": {},
     "output_type": "display_data"
    },
    {
     "data": {
      "text/plain": [
       "'https://www.ted.com/tedx/events?autocomplete_filter=Lesotho&year=2020&page=1&when=past'"
      ]
     },
     "metadata": {},
     "output_type": "display_data"
    },
    {
     "data": {
      "text/plain": [
       "'https://www.ted.com/tedx/events?autocomplete_filter=Luxembourg&year=2016&page=1&when=past'"
      ]
     },
     "metadata": {},
     "output_type": "display_data"
    },
    {
     "data": {
      "text/plain": [
       "'https://www.ted.com/tedx/events?autocomplete_filter=Luxembourg&year=2014&page=1&when=past'"
      ]
     },
     "metadata": {},
     "output_type": "display_data"
    },
    {
     "data": {
      "text/plain": [
       "'https://www.ted.com/tedx/events?autocomplete_filter=Liberia&year=2010&page=1&when=past'"
      ]
     },
     "metadata": {},
     "output_type": "display_data"
    },
    {
     "data": {
      "text/plain": [
       "'https://www.ted.com/tedx/events?autocomplete_filter=Liechtenstein&year=2018&page=1&when=past'"
      ]
     },
     "metadata": {},
     "output_type": "display_data"
    },
    {
     "data": {
      "text/plain": [
       "'https://www.ted.com/tedx/events?autocomplete_filter=Macedonia,+The+Former+Yugoslav+Republic+Of&year=2019&page=1&when=past'"
      ]
     },
     "metadata": {},
     "output_type": "display_data"
    },
    {
     "data": {
      "text/plain": [
       "'https://www.ted.com/tedx/events?autocomplete_filter=Macau&year=2020&page=1&when=past'"
      ]
     },
     "metadata": {},
     "output_type": "display_data"
    },
    {
     "data": {
      "text/plain": [
       "'https://www.ted.com/tedx/events?autocomplete_filter=Liechtenstein&year=2015&page=1&when=past'"
      ]
     },
     "metadata": {},
     "output_type": "display_data"
    },
    {
     "data": {
      "text/plain": [
       "'https://www.ted.com/tedx/events?autocomplete_filter=Libyan+Arab+Jamahiriya&year=2016&page=1&when=past'"
      ]
     },
     "metadata": {},
     "output_type": "display_data"
    },
    {
     "data": {
      "text/plain": [
       "'https://www.ted.com/tedx/events?autocomplete_filter=Liberia&year=2011&page=1&when=past'"
      ]
     },
     "metadata": {},
     "output_type": "display_data"
    },
    {
     "data": {
      "text/plain": [
       "'https://www.ted.com/tedx/events?autocomplete_filter=Macau&year=2018&page=1&when=past'"
      ]
     },
     "metadata": {},
     "output_type": "display_data"
    },
    {
     "data": {
      "text/plain": [
       "'https://www.ted.com/tedx/events?autocomplete_filter=Kyrgyzstan&year=2015&page=1&when=past'"
      ]
     },
     "metadata": {},
     "output_type": "display_data"
    },
    {
     "data": {
      "text/plain": [
       "'https://www.ted.com/tedx/events?autocomplete_filter=Liberia&year=2014&page=1&when=past'"
      ]
     },
     "metadata": {},
     "output_type": "display_data"
    },
    {
     "data": {
      "text/plain": [
       "'https://www.ted.com/tedx/events?autocomplete_filter=Macedonia,+The+Former+Yugoslav+Republic+Of&year=2009&page=1&when=past'"
      ]
     },
     "metadata": {},
     "output_type": "display_data"
    },
    {
     "data": {
      "text/plain": [
       "'https://www.ted.com/tedx/events?autocomplete_filter=Libyan+Arab+Jamahiriya&year=2011&page=1&when=past'"
      ]
     },
     "metadata": {},
     "output_type": "display_data"
    },
    {
     "data": {
      "text/plain": [
       "'https://www.ted.com/tedx/events?autocomplete_filter=Lebanon&year=2016&page=1&when=past'"
      ]
     },
     "metadata": {},
     "output_type": "display_data"
    },
    {
     "data": {
      "text/plain": [
       "'https://www.ted.com/tedx/events?autocomplete_filter=Macau&year=2017&page=1&when=past'"
      ]
     },
     "metadata": {},
     "output_type": "display_data"
    },
    {
     "data": {
      "text/plain": [
       "'https://www.ted.com/tedx/events?autocomplete_filter=Macau&year=2019&page=1&when=past'"
      ]
     },
     "metadata": {},
     "output_type": "display_data"
    },
    {
     "data": {
      "text/plain": [
       "'https://www.ted.com/tedx/events?autocomplete_filter=Luxembourg&year=2009&page=1&when=past'"
      ]
     },
     "metadata": {},
     "output_type": "display_data"
    },
    {
     "data": {
      "text/plain": [
       "'https://www.ted.com/tedx/events?autocomplete_filter=Libyan+Arab+Jamahiriya&year=2013&page=1&when=past'"
      ]
     },
     "metadata": {},
     "output_type": "display_data"
    },
    {
     "data": {
      "text/plain": [
       "'https://www.ted.com/tedx/events?autocomplete_filter=Lithuania&year=2018&page=1&when=past'"
      ]
     },
     "metadata": {},
     "output_type": "display_data"
    },
    {
     "data": {
      "text/plain": [
       "'https://www.ted.com/tedx/events?autocomplete_filter=Madagascar&year=2011&page=1&when=past'"
      ]
     },
     "metadata": {},
     "output_type": "display_data"
    },
    {
     "data": {
      "text/plain": [
       "'https://www.ted.com/tedx/events?autocomplete_filter=Madagascar&year=2009&page=1&when=past'"
      ]
     },
     "metadata": {},
     "output_type": "display_data"
    },
    {
     "data": {
      "text/plain": [
       "\"https://www.ted.com/tedx/events?autocomplete_filter=Lao+People's+Democratic+Republic&year=2018&page=1&when=past\""
      ]
     },
     "metadata": {},
     "output_type": "display_data"
    },
    {
     "data": {
      "text/plain": [
       "'https://www.ted.com/tedx/events?autocomplete_filter=Malawi&year=2010&page=1&when=past'"
      ]
     },
     "metadata": {},
     "output_type": "display_data"
    },
    {
     "data": {
      "text/plain": [
       "'https://www.ted.com/tedx/events?autocomplete_filter=Liechtenstein&year=2019&page=1&when=past'"
      ]
     },
     "metadata": {},
     "output_type": "display_data"
    },
    {
     "data": {
      "text/plain": [
       "'https://www.ted.com/tedx/events?autocomplete_filter=Libyan+Arab+Jamahiriya&year=2014&page=1&when=past'"
      ]
     },
     "metadata": {},
     "output_type": "display_data"
    },
    {
     "data": {
      "text/plain": [
       "'https://www.ted.com/tedx/events?autocomplete_filter=Libyan+Arab+Jamahiriya&year=2017&page=1&when=past'"
      ]
     },
     "metadata": {},
     "output_type": "display_data"
    },
    {
     "data": {
      "text/plain": [
       "'https://www.ted.com/tedx/events?autocomplete_filter=Madagascar&year=2012&page=1&when=past'"
      ]
     },
     "metadata": {},
     "output_type": "display_data"
    },
    {
     "data": {
      "text/plain": [
       "'https://www.ted.com/tedx/events?autocomplete_filter=Liechtenstein&year=2014&page=1&when=past'"
      ]
     },
     "metadata": {},
     "output_type": "display_data"
    },
    {
     "data": {
      "text/plain": [
       "'https://www.ted.com/tedx/events?autocomplete_filter=Lesotho&year=2019&page=1&when=past'"
      ]
     },
     "metadata": {},
     "output_type": "display_data"
    },
    {
     "data": {
      "text/plain": [
       "'https://www.ted.com/tedx/events?autocomplete_filter=Macedonia,+The+Former+Yugoslav+Republic+Of&year=2020&page=1&when=past'"
      ]
     },
     "metadata": {},
     "output_type": "display_data"
    },
    {
     "data": {
      "text/plain": [
       "'https://www.ted.com/tedx/events?autocomplete_filter=Madagascar&year=2010&page=1&when=past'"
      ]
     },
     "metadata": {},
     "output_type": "display_data"
    },
    {
     "data": {
      "text/plain": [
       "'https://www.ted.com/tedx/events?autocomplete_filter=Macau&year=2012&page=1&when=past'"
      ]
     },
     "metadata": {},
     "output_type": "display_data"
    },
    {
     "data": {
      "text/plain": [
       "'https://www.ted.com/tedx/events?autocomplete_filter=Macau&year=2009&page=1&when=past'"
      ]
     },
     "metadata": {},
     "output_type": "display_data"
    },
    {
     "data": {
      "text/plain": [
       "'https://www.ted.com/tedx/events?autocomplete_filter=Liechtenstein&year=2016&page=1&when=past'"
      ]
     },
     "metadata": {},
     "output_type": "display_data"
    },
    {
     "data": {
      "text/plain": [
       "'https://www.ted.com/tedx/events?autocomplete_filter=Malawi&year=2014&page=1&when=past'"
      ]
     },
     "metadata": {},
     "output_type": "display_data"
    },
    {
     "data": {
      "text/plain": [
       "'https://www.ted.com/tedx/events?autocomplete_filter=Malawi&year=2012&page=1&when=past'"
      ]
     },
     "metadata": {},
     "output_type": "display_data"
    },
    {
     "data": {
      "text/plain": [
       "'https://www.ted.com/tedx/events?autocomplete_filter=Lebanon&year=2009&page=1&when=past'"
      ]
     },
     "metadata": {},
     "output_type": "display_data"
    },
    {
     "data": {
      "text/plain": [
       "'https://www.ted.com/tedx/events?autocomplete_filter=Liechtenstein&year=2017&page=1&when=past'"
      ]
     },
     "metadata": {},
     "output_type": "display_data"
    },
    {
     "data": {
      "text/plain": [
       "'https://www.ted.com/tedx/events?autocomplete_filter=Malaysia&year=2013&page=1&when=past'"
      ]
     },
     "metadata": {},
     "output_type": "display_data"
    },
    {
     "data": {
      "text/plain": [
       "'https://www.ted.com/tedx/events?autocomplete_filter=Liechtenstein&year=2020&page=1&when=past'"
      ]
     },
     "metadata": {},
     "output_type": "display_data"
    },
    {
     "data": {
      "text/plain": [
       "'https://www.ted.com/tedx/events?autocomplete_filter=Luxembourg&year=2010&page=1&when=past'"
      ]
     },
     "metadata": {},
     "output_type": "display_data"
    },
    {
     "data": {
      "text/plain": [
       "'https://www.ted.com/tedx/events?autocomplete_filter=Lithuania&year=2017&page=1&when=past'"
      ]
     },
     "metadata": {},
     "output_type": "display_data"
    },
    {
     "data": {
      "text/plain": [
       "'https://www.ted.com/tedx/events?autocomplete_filter=Libyan+Arab+Jamahiriya&year=2010&page=1&when=past'"
      ]
     },
     "metadata": {},
     "output_type": "display_data"
    },
    {
     "data": {
      "text/plain": [
       "'https://www.ted.com/tedx/events?autocomplete_filter=Malawi&year=2015&page=1&when=past'"
      ]
     },
     "metadata": {},
     "output_type": "display_data"
    },
    {
     "data": {
      "text/plain": [
       "'https://www.ted.com/tedx/events?autocomplete_filter=Malawi&year=2011&page=1&when=past'"
      ]
     },
     "metadata": {},
     "output_type": "display_data"
    },
    {
     "data": {
      "text/plain": [
       "'https://www.ted.com/tedx/events?autocomplete_filter=Malawi&year=2013&page=1&when=past'"
      ]
     },
     "metadata": {},
     "output_type": "display_data"
    },
    {
     "data": {
      "text/plain": [
       "'https://www.ted.com/tedx/events?autocomplete_filter=Macedonia,+The+Former+Yugoslav+Republic+Of&year=2015&page=1&when=past'"
      ]
     },
     "metadata": {},
     "output_type": "display_data"
    },
    {
     "data": {
      "text/plain": [
       "'https://www.ted.com/tedx/events?autocomplete_filter=Macedonia,+The+Former+Yugoslav+Republic+Of&year=2012&page=1&when=past'"
      ]
     },
     "metadata": {},
     "output_type": "display_data"
    },
    {
     "data": {
      "text/plain": [
       "'https://www.ted.com/tedx/events?autocomplete_filter=Lithuania&year=2019&page=1&when=past'"
      ]
     },
     "metadata": {},
     "output_type": "display_data"
    },
    {
     "data": {
      "text/plain": [
       "'https://www.ted.com/tedx/events?autocomplete_filter=Malaysia&year=2017&page=1&when=past'"
      ]
     },
     "metadata": {},
     "output_type": "display_data"
    },
    {
     "data": {
      "text/plain": [
       "'https://www.ted.com/tedx/events?autocomplete_filter=Malaysia&year=2015&page=1&when=past'"
      ]
     },
     "metadata": {},
     "output_type": "display_data"
    },
    {
     "data": {
      "text/plain": [
       "'https://www.ted.com/tedx/events?autocomplete_filter=Lesotho&year=2012&page=1&when=past'"
      ]
     },
     "metadata": {},
     "output_type": "display_data"
    },
    {
     "data": {
      "text/plain": [
       "'https://www.ted.com/tedx/events?autocomplete_filter=Maldives&year=2016&page=1&when=past'"
      ]
     },
     "metadata": {},
     "output_type": "display_data"
    },
    {
     "data": {
      "text/plain": [
       "'https://www.ted.com/tedx/events?autocomplete_filter=Lithuania&year=2020&page=1&when=past'"
      ]
     },
     "metadata": {},
     "output_type": "display_data"
    },
    {
     "data": {
      "text/plain": [
       "'https://www.ted.com/tedx/events?autocomplete_filter=Malaysia&year=2018&page=1&when=past'"
      ]
     },
     "metadata": {},
     "output_type": "display_data"
    },
    {
     "data": {
      "text/plain": [
       "'https://www.ted.com/tedx/events?autocomplete_filter=Macau&year=2013&page=1&when=past'"
      ]
     },
     "metadata": {},
     "output_type": "display_data"
    },
    {
     "data": {
      "text/plain": [
       "'https://www.ted.com/tedx/events?autocomplete_filter=Luxembourg&year=2020&page=1&when=past'"
      ]
     },
     "metadata": {},
     "output_type": "display_data"
    },
    {
     "data": {
      "text/plain": [
       "'https://www.ted.com/tedx/events?autocomplete_filter=Luxembourg&year=2011&page=1&when=past'"
      ]
     },
     "metadata": {},
     "output_type": "display_data"
    },
    {
     "data": {
      "text/plain": [
       "'https://www.ted.com/tedx/events?autocomplete_filter=Liechtenstein&year=2013&page=1&when=past'"
      ]
     },
     "metadata": {},
     "output_type": "display_data"
    },
    {
     "data": {
      "text/plain": [
       "'https://www.ted.com/tedx/events?autocomplete_filter=Malaysia&year=2014&page=1&when=past'"
      ]
     },
     "metadata": {},
     "output_type": "display_data"
    },
    {
     "data": {
      "text/plain": [
       "'https://www.ted.com/tedx/events?autocomplete_filter=Malaysia&year=2016&page=1&when=past'"
      ]
     },
     "metadata": {},
     "output_type": "display_data"
    },
    {
     "data": {
      "text/plain": [
       "'https://www.ted.com/tedx/events?autocomplete_filter=Madagascar&year=2018&page=1&when=past'"
      ]
     },
     "metadata": {},
     "output_type": "display_data"
    },
    {
     "data": {
      "text/plain": [
       "'https://www.ted.com/tedx/events?autocomplete_filter=Madagascar&year=2015&page=1&when=past'"
      ]
     },
     "metadata": {},
     "output_type": "display_data"
    },
    {
     "data": {
      "text/plain": [
       "'https://www.ted.com/tedx/events?autocomplete_filter=Macau&year=2010&page=1&when=past'"
      ]
     },
     "metadata": {},
     "output_type": "display_data"
    },
    {
     "data": {
      "text/plain": [
       "'https://www.ted.com/tedx/events?autocomplete_filter=Maldives&year=2020&page=1&when=past'"
      ]
     },
     "metadata": {},
     "output_type": "display_data"
    },
    {
     "data": {
      "text/plain": [
       "'https://www.ted.com/tedx/events?autocomplete_filter=Maldives&year=2018&page=1&when=past'"
      ]
     },
     "metadata": {},
     "output_type": "display_data"
    },
    {
     "data": {
      "text/plain": [
       "'https://www.ted.com/tedx/events?autocomplete_filter=Liberia&year=2015&page=1&when=past'"
      ]
     },
     "metadata": {},
     "output_type": "display_data"
    },
    {
     "data": {
      "text/plain": [
       "'https://www.ted.com/tedx/events?autocomplete_filter=Macau&year=2011&page=1&when=past'"
      ]
     },
     "metadata": {},
     "output_type": "display_data"
    },
    {
     "data": {
      "text/plain": [
       "'https://www.ted.com/tedx/events?autocomplete_filter=Mali&year=2019&page=1&when=past'"
      ]
     },
     "metadata": {},
     "output_type": "display_data"
    },
    {
     "data": {
      "text/plain": [
       "'https://www.ted.com/tedx/events?autocomplete_filter=Mali&year=2009&page=1&when=past'"
      ]
     },
     "metadata": {},
     "output_type": "display_data"
    },
    {
     "data": {
      "text/plain": [
       "'https://www.ted.com/tedx/events?autocomplete_filter=Macedonia,+The+Former+Yugoslav+Republic+Of&year=2016&page=1&when=past'"
      ]
     },
     "metadata": {},
     "output_type": "display_data"
    },
    {
     "data": {
      "text/plain": [
       "'https://www.ted.com/tedx/events?autocomplete_filter=Macedonia,+The+Former+Yugoslav+Republic+Of&year=2011&page=1&when=past'"
      ]
     },
     "metadata": {},
     "output_type": "display_data"
    },
    {
     "data": {
      "text/plain": [
       "'https://www.ted.com/tedx/events?autocomplete_filter=Macau&year=2014&page=1&when=past'"
      ]
     },
     "metadata": {},
     "output_type": "display_data"
    },
    {
     "data": {
      "text/plain": [
       "'https://www.ted.com/tedx/events?autocomplete_filter=Maldives&year=2017&page=1&when=past'"
      ]
     },
     "metadata": {},
     "output_type": "display_data"
    },
    {
     "data": {
      "text/plain": [
       "'https://www.ted.com/tedx/events?autocomplete_filter=Maldives&year=2019&page=1&when=past'"
      ]
     },
     "metadata": {},
     "output_type": "display_data"
    },
    {
     "data": {
      "text/plain": [
       "'https://www.ted.com/tedx/events?autocomplete_filter=Lithuania&year=2016&page=1&when=past'"
      ]
     },
     "metadata": {},
     "output_type": "display_data"
    },
    {
     "data": {
      "text/plain": [
       "'https://www.ted.com/tedx/events?autocomplete_filter=Malaysia&year=2009&page=1&when=past'"
      ]
     },
     "metadata": {},
     "output_type": "display_data"
    },
    {
     "data": {
      "text/plain": [
       "'https://www.ted.com/tedx/events?autocomplete_filter=Malawi&year=2018&page=1&when=past'"
      ]
     },
     "metadata": {},
     "output_type": "display_data"
    },
    {
     "data": {
      "text/plain": [
       "'https://www.ted.com/tedx/events?autocomplete_filter=Macedonia,+The+Former+Yugoslav+Republic+Of&year=2013&page=1&when=past'"
      ]
     },
     "metadata": {},
     "output_type": "display_data"
    },
    {
     "data": {
      "text/plain": [
       "'https://www.ted.com/tedx/events?autocomplete_filter=Malta&year=2011&page=1&when=past'"
      ]
     },
     "metadata": {},
     "output_type": "display_data"
    },
    {
     "data": {
      "text/plain": [
       "'https://www.ted.com/tedx/events?autocomplete_filter=Libyan+Arab+Jamahiriya&year=2018&page=1&when=past'"
      ]
     },
     "metadata": {},
     "output_type": "display_data"
    },
    {
     "data": {
      "text/plain": [
       "'https://www.ted.com/tedx/events?autocomplete_filter=Malta&year=2009&page=1&when=past'"
      ]
     },
     "metadata": {},
     "output_type": "display_data"
    },
    {
     "data": {
      "text/plain": [
       "'https://www.ted.com/tedx/events?autocomplete_filter=Marshall+Islands&year=2010&page=1&when=past'"
      ]
     },
     "metadata": {},
     "output_type": "display_data"
    },
    {
     "data": {
      "text/plain": [
       "'https://www.ted.com/tedx/events?autocomplete_filter=Macedonia,+The+Former+Yugoslav+Republic+Of&year=2014&page=1&when=past'"
      ]
     },
     "metadata": {},
     "output_type": "display_data"
    },
    {
     "data": {
      "text/plain": [
       "'https://www.ted.com/tedx/events?autocomplete_filter=Malta&year=2012&page=1&when=past'"
      ]
     },
     "metadata": {},
     "output_type": "display_data"
    },
    {
     "data": {
      "text/plain": [
       "'https://www.ted.com/tedx/events?autocomplete_filter=Madagascar&year=2019&page=1&when=past'"
      ]
     },
     "metadata": {},
     "output_type": "display_data"
    },
    {
     "data": {
      "text/plain": [
       "'https://www.ted.com/tedx/events?autocomplete_filter=Madagascar&year=2014&page=1&when=past'"
      ]
     },
     "metadata": {},
     "output_type": "display_data"
    },
    {
     "data": {
      "text/plain": [
       "'https://www.ted.com/tedx/events?autocomplete_filter=Macedonia,+The+Former+Yugoslav+Republic+Of&year=2017&page=1&when=past'"
      ]
     },
     "metadata": {},
     "output_type": "display_data"
    },
    {
     "data": {
      "text/plain": [
       "'https://www.ted.com/tedx/events?autocomplete_filter=Mali&year=2020&page=1&when=past'"
      ]
     },
     "metadata": {},
     "output_type": "display_data"
    },
    {
     "data": {
      "text/plain": [
       "'https://www.ted.com/tedx/events?autocomplete_filter=Malta&year=2010&page=1&when=past'"
      ]
     },
     "metadata": {},
     "output_type": "display_data"
    },
    {
     "data": {
      "text/plain": [
       "'https://www.ted.com/tedx/events?autocomplete_filter=Luxembourg&year=2019&page=1&when=past'"
      ]
     },
     "metadata": {},
     "output_type": "display_data"
    },
    {
     "data": {
      "text/plain": [
       "'https://www.ted.com/tedx/events?autocomplete_filter=Maldives&year=2012&page=1&when=past'"
      ]
     },
     "metadata": {},
     "output_type": "display_data"
    },
    {
     "data": {
      "text/plain": [
       "'https://www.ted.com/tedx/events?autocomplete_filter=Madagascar&year=2016&page=1&when=past'"
      ]
     },
     "metadata": {},
     "output_type": "display_data"
    },
    {
     "data": {
      "text/plain": [
       "'https://www.ted.com/tedx/events?autocomplete_filter=Marshall+Islands&year=2014&page=1&when=past'"
      ]
     },
     "metadata": {},
     "output_type": "display_data"
    },
    {
     "data": {
      "text/plain": [
       "'https://www.ted.com/tedx/events?autocomplete_filter=Lithuania&year=2009&page=1&when=past'"
      ]
     },
     "metadata": {},
     "output_type": "display_data"
    },
    {
     "data": {
      "text/plain": [
       "'https://www.ted.com/tedx/events?autocomplete_filter=Marshall+Islands&year=2012&page=1&when=past'"
      ]
     },
     "metadata": {},
     "output_type": "display_data"
    },
    {
     "data": {
      "text/plain": [
       "'https://www.ted.com/tedx/events?autocomplete_filter=Martinique&year=2013&page=1&when=past'"
      ]
     },
     "metadata": {},
     "output_type": "display_data"
    },
    {
     "data": {
      "text/plain": [
       "'https://www.ted.com/tedx/events?autocomplete_filter=Madagascar&year=2017&page=1&when=past'"
      ]
     },
     "metadata": {},
     "output_type": "display_data"
    },
    {
     "data": {
      "text/plain": [
       "'https://www.ted.com/tedx/events?autocomplete_filter=Malaysia&year=2010&page=1&when=past'"
      ]
     },
     "metadata": {},
     "output_type": "display_data"
    },
    {
     "data": {
      "text/plain": [
       "'https://www.ted.com/tedx/events?autocomplete_filter=Marshall+Islands&year=2015&page=1&when=past'"
      ]
     },
     "metadata": {},
     "output_type": "display_data"
    },
    {
     "data": {
      "text/plain": [
       "'https://www.ted.com/tedx/events?autocomplete_filter=Malawi&year=2017&page=1&when=past'"
      ]
     },
     "metadata": {},
     "output_type": "display_data"
    },
    {
     "data": {
      "text/plain": [
       "'https://www.ted.com/tedx/events?autocomplete_filter=Madagascar&year=2020&page=1&when=past'"
      ]
     },
     "metadata": {},
     "output_type": "display_data"
    },
    {
     "data": {
      "text/plain": [
       "'https://www.ted.com/tedx/events?autocomplete_filter=Marshall+Islands&year=2011&page=1&when=past'"
      ]
     },
     "metadata": {},
     "output_type": "display_data"
    },
    {
     "data": {
      "text/plain": [
       "'https://www.ted.com/tedx/events?autocomplete_filter=Marshall+Islands&year=2013&page=1&when=past'"
      ]
     },
     "metadata": {},
     "output_type": "display_data"
    },
    {
     "data": {
      "text/plain": [
       "'https://www.ted.com/tedx/events?autocomplete_filter=Macedonia,+The+Former+Yugoslav+Republic+Of&year=2010&page=1&when=past'"
      ]
     },
     "metadata": {},
     "output_type": "display_data"
    },
    {
     "data": {
      "text/plain": [
       "'https://www.ted.com/tedx/events?autocomplete_filter=Mali&year=2015&page=1&when=past'"
      ]
     },
     "metadata": {},
     "output_type": "display_data"
    },
    {
     "data": {
      "text/plain": [
       "'https://www.ted.com/tedx/events?autocomplete_filter=Maldives&year=2009&page=1&when=past'"
      ]
     },
     "metadata": {},
     "output_type": "display_data"
    },
    {
     "data": {
      "text/plain": [
       "'https://www.ted.com/tedx/events?autocomplete_filter=Malawi&year=2019&page=1&when=past'"
      ]
     },
     "metadata": {},
     "output_type": "display_data"
    },
    {
     "data": {
      "text/plain": [
       "'https://www.ted.com/tedx/events?autocomplete_filter=Martinique&year=2017&page=1&when=past'"
      ]
     },
     "metadata": {},
     "output_type": "display_data"
    },
    {
     "data": {
      "text/plain": [
       "'https://www.ted.com/tedx/events?autocomplete_filter=Luxembourg&year=2012&page=1&when=past'"
      ]
     },
     "metadata": {},
     "output_type": "display_data"
    },
    {
     "data": {
      "text/plain": [
       "'https://www.ted.com/tedx/events?autocomplete_filter=Martinique&year=2015&page=1&when=past'"
      ]
     },
     "metadata": {},
     "output_type": "display_data"
    },
    {
     "data": {
      "text/plain": [
       "'https://www.ted.com/tedx/events?autocomplete_filter=Mauritania&year=2016&page=1&when=past'"
      ]
     },
     "metadata": {},
     "output_type": "display_data"
    },
    {
     "data": {
      "text/plain": [
       "'https://www.ted.com/tedx/events?autocomplete_filter=Malawi&year=2020&page=1&when=past'"
      ]
     },
     "metadata": {},
     "output_type": "display_data"
    },
    {
     "data": {
      "text/plain": [
       "'https://www.ted.com/tedx/events?autocomplete_filter=Malaysia&year=2020&page=1&when=past'"
      ]
     },
     "metadata": {},
     "output_type": "display_data"
    },
    {
     "data": {
      "text/plain": [
       "'https://www.ted.com/tedx/events?autocomplete_filter=Maldives&year=2013&page=1&when=past'"
      ]
     },
     "metadata": {},
     "output_type": "display_data"
    },
    {
     "data": {
      "text/plain": [
       "'https://www.ted.com/tedx/events?autocomplete_filter=Martinique&year=2018&page=1&when=past'"
      ]
     },
     "metadata": {},
     "output_type": "display_data"
    },
    {
     "data": {
      "text/plain": [
       "'https://www.ted.com/tedx/events?autocomplete_filter=Malaysia&year=2011&page=1&when=past'"
      ]
     },
     "metadata": {},
     "output_type": "display_data"
    },
    {
     "data": {
      "text/plain": [
       "'https://www.ted.com/tedx/events?autocomplete_filter=Martinique&year=2014&page=1&when=past'"
      ]
     },
     "metadata": {},
     "output_type": "display_data"
    },
    {
     "data": {
      "text/plain": [
       "'https://www.ted.com/tedx/events?autocomplete_filter=Martinique&year=2016&page=1&when=past'"
      ]
     },
     "metadata": {},
     "output_type": "display_data"
    },
    {
     "data": {
      "text/plain": [
       "'https://www.ted.com/tedx/events?autocomplete_filter=Madagascar&year=2013&page=1&when=past'"
      ]
     },
     "metadata": {},
     "output_type": "display_data"
    },
    {
     "data": {
      "text/plain": [
       "'https://www.ted.com/tedx/events?autocomplete_filter=Mali&year=2012&page=1&when=past'"
      ]
     },
     "metadata": {},
     "output_type": "display_data"
    },
    {
     "data": {
      "text/plain": [
       "'https://www.ted.com/tedx/events?autocomplete_filter=Malta&year=2018&page=1&when=past'"
      ]
     },
     "metadata": {},
     "output_type": "display_data"
    },
    {
     "data": {
      "text/plain": [
       "'https://www.ted.com/tedx/events?autocomplete_filter=Maldives&year=2010&page=1&when=past'"
      ]
     },
     "metadata": {},
     "output_type": "display_data"
    },
    {
     "data": {
      "text/plain": [
       "'https://www.ted.com/tedx/events?autocomplete_filter=Mauritania&year=2020&page=1&when=past'"
      ]
     },
     "metadata": {},
     "output_type": "display_data"
    },
    {
     "data": {
      "text/plain": [
       "'https://www.ted.com/tedx/events?autocomplete_filter=Macau&year=2015&page=1&when=past'"
      ]
     },
     "metadata": {},
     "output_type": "display_data"
    },
    {
     "data": {
      "text/plain": [
       "'https://www.ted.com/tedx/events?autocomplete_filter=Mauritius&year=2019&page=1&when=past'"
      ]
     },
     "metadata": {},
     "output_type": "display_data"
    },
    {
     "data": {
      "text/plain": [
       "'https://www.ted.com/tedx/events?autocomplete_filter=Mauritania&year=2018&page=1&when=past'"
      ]
     },
     "metadata": {},
     "output_type": "display_data"
    },
    {
     "data": {
      "text/plain": [
       "'https://www.ted.com/tedx/events?autocomplete_filter=Maldives&year=2011&page=1&when=past'"
      ]
     },
     "metadata": {},
     "output_type": "display_data"
    },
    {
     "data": {
      "text/plain": [
       "'https://www.ted.com/tedx/events?autocomplete_filter=Mali&year=2011&page=1&when=past'"
      ]
     },
     "metadata": {},
     "output_type": "display_data"
    },
    {
     "data": {
      "text/plain": [
       "'https://www.ted.com/tedx/events?autocomplete_filter=Mali&year=2016&page=1&when=past'"
      ]
     },
     "metadata": {},
     "output_type": "display_data"
    },
    {
     "data": {
      "text/plain": [
       "'https://www.ted.com/tedx/events?autocomplete_filter=Mauritius&year=2009&page=1&when=past'"
      ]
     },
     "metadata": {},
     "output_type": "display_data"
    },
    {
     "data": {
      "text/plain": [
       "'https://www.ted.com/tedx/events?autocomplete_filter=Maldives&year=2014&page=1&when=past'"
      ]
     },
     "metadata": {},
     "output_type": "display_data"
    },
    {
     "data": {
      "text/plain": [
       "'https://www.ted.com/tedx/events?autocomplete_filter=Mauritania&year=2017&page=1&when=past'"
      ]
     },
     "metadata": {},
     "output_type": "display_data"
    },
    {
     "data": {
      "text/plain": [
       "'https://www.ted.com/tedx/events?autocomplete_filter=Mauritania&year=2019&page=1&when=past'"
      ]
     },
     "metadata": {},
     "output_type": "display_data"
    },
    {
     "data": {
      "text/plain": [
       "'https://www.ted.com/tedx/events?autocomplete_filter=Malawi&year=2016&page=1&when=past'"
      ]
     },
     "metadata": {},
     "output_type": "display_data"
    },
    {
     "data": {
      "text/plain": [
       "'https://www.ted.com/tedx/events?autocomplete_filter=Martinique&year=2009&page=1&when=past'"
      ]
     },
     "metadata": {},
     "output_type": "display_data"
    },
    {
     "data": {
      "text/plain": [
       "'https://www.ted.com/tedx/events?autocomplete_filter=Malta&year=2015&page=1&when=past'"
      ]
     },
     "metadata": {},
     "output_type": "display_data"
    },
    {
     "data": {
      "text/plain": [
       "'https://www.ted.com/tedx/events?autocomplete_filter=Mali&year=2013&page=1&when=past'"
      ]
     },
     "metadata": {},
     "output_type": "display_data"
    },
    {
     "data": {
      "text/plain": [
       "'https://www.ted.com/tedx/events?autocomplete_filter=Mayotte&year=2011&page=1&when=past'"
      ]
     },
     "metadata": {},
     "output_type": "display_data"
    },
    {
     "data": {
      "text/plain": [
       "'https://www.ted.com/tedx/events?autocomplete_filter=Macedonia,+The+Former+Yugoslav+Republic+Of&year=2018&page=1&when=past'"
      ]
     },
     "metadata": {},
     "output_type": "display_data"
    },
    {
     "data": {
      "text/plain": [
       "'https://www.ted.com/tedx/events?autocomplete_filter=Mali&year=2014&page=1&when=past'"
      ]
     },
     "metadata": {},
     "output_type": "display_data"
    },
    {
     "data": {
      "text/plain": [
       "'https://www.ted.com/tedx/events?autocomplete_filter=Mexico&year=2010&page=1&when=past'"
      ]
     },
     "metadata": {},
     "output_type": "display_data"
    },
    {
     "data": {
      "text/plain": [
       "'https://www.ted.com/tedx/events?autocomplete_filter=Mayotte&year=2009&page=1&when=past'"
      ]
     },
     "metadata": {},
     "output_type": "display_data"
    },
    {
     "data": {
      "text/plain": [
       "'https://www.ted.com/tedx/events?autocomplete_filter=Malta&year=2014&page=1&when=past'"
      ]
     },
     "metadata": {},
     "output_type": "display_data"
    },
    {
     "data": {
      "text/plain": [
       "'https://www.ted.com/tedx/events?autocomplete_filter=Mali&year=2017&page=1&when=past'"
      ]
     },
     "metadata": {},
     "output_type": "display_data"
    },
    {
     "data": {
      "text/plain": [
       "'https://www.ted.com/tedx/events?autocomplete_filter=Malta&year=2019&page=1&when=past'"
      ]
     },
     "metadata": {},
     "output_type": "display_data"
    },
    {
     "data": {
      "text/plain": [
       "'https://www.ted.com/tedx/events?autocomplete_filter=Mayotte&year=2012&page=1&when=past'"
      ]
     },
     "metadata": {},
     "output_type": "display_data"
    },
    {
     "data": {
      "text/plain": [
       "'https://www.ted.com/tedx/events?autocomplete_filter=Mauritius&year=2020&page=1&when=past'"
      ]
     },
     "metadata": {},
     "output_type": "display_data"
    },
    {
     "data": {
      "text/plain": [
       "'https://www.ted.com/tedx/events?autocomplete_filter=Mayotte&year=2010&page=1&when=past'"
      ]
     },
     "metadata": {},
     "output_type": "display_data"
    },
    {
     "data": {
      "text/plain": [
       "'https://www.ted.com/tedx/events?autocomplete_filter=Malaysia&year=2019&page=1&when=past'"
      ]
     },
     "metadata": {},
     "output_type": "display_data"
    },
    {
     "data": {
      "text/plain": [
       "'https://www.ted.com/tedx/events?autocomplete_filter=Mauritania&year=2012&page=1&when=past'"
      ]
     },
     "metadata": {},
     "output_type": "display_data"
    },
    {
     "data": {
      "text/plain": [
       "'https://www.ted.com/tedx/events?autocomplete_filter=Marshall+Islands&year=2018&page=1&when=past'"
      ]
     },
     "metadata": {},
     "output_type": "display_data"
    },
    {
     "data": {
      "text/plain": [
       "'https://www.ted.com/tedx/events?autocomplete_filter=Malta&year=2016&page=1&when=past'"
      ]
     },
     "metadata": {},
     "output_type": "display_data"
    },
    {
     "data": {
      "text/plain": [
       "'https://www.ted.com/tedx/events?autocomplete_filter=Mexico&year=2014&page=1&when=past'"
      ]
     },
     "metadata": {},
     "output_type": "display_data"
    },
    {
     "data": {
      "text/plain": [
       "'https://www.ted.com/tedx/events?autocomplete_filter=Malawi&year=2009&page=1&when=past'"
      ]
     },
     "metadata": {},
     "output_type": "display_data"
    },
    {
     "data": {
      "text/plain": [
       "'https://www.ted.com/tedx/events?autocomplete_filter=Malta&year=2017&page=1&when=past'"
      ]
     },
     "metadata": {},
     "output_type": "display_data"
    },
    {
     "data": {
      "text/plain": [
       "'https://www.ted.com/tedx/events?autocomplete_filter=Mexico&year=2012&page=1&when=past'"
      ]
     },
     "metadata": {},
     "output_type": "display_data"
    },
    {
     "data": {
      "text/plain": [
       "'https://www.ted.com/tedx/events?autocomplete_filter=Micronesia,+Federated+States+Of&year=2013&page=1&when=past'"
      ]
     },
     "metadata": {},
     "output_type": "display_data"
    },
    {
     "data": {
      "text/plain": [
       "'https://www.ted.com/tedx/events?autocomplete_filter=Marshall+Islands&year=2017&page=1&when=past'"
      ]
     },
     "metadata": {},
     "output_type": "display_data"
    },
    {
     "data": {
      "text/plain": [
       "'https://www.ted.com/tedx/events?autocomplete_filter=Martinique&year=2010&page=1&when=past'"
      ]
     },
     "metadata": {},
     "output_type": "display_data"
    },
    {
     "data": {
      "text/plain": [
       "'https://www.ted.com/tedx/events?autocomplete_filter=Malta&year=2020&page=1&when=past'"
      ]
     },
     "metadata": {},
     "output_type": "display_data"
    },
    {
     "data": {
      "text/plain": [
       "'https://www.ted.com/tedx/events?autocomplete_filter=Mexico&year=2015&page=1&when=past'"
      ]
     },
     "metadata": {},
     "output_type": "display_data"
    },
    {
     "data": {
      "text/plain": [
       "'https://www.ted.com/tedx/events?autocomplete_filter=Mexico&year=2011&page=1&when=past'"
      ]
     },
     "metadata": {},
     "output_type": "display_data"
    },
    {
     "data": {
      "text/plain": [
       "'https://www.ted.com/tedx/events?autocomplete_filter=Mexico&year=2013&page=1&when=past'"
      ]
     },
     "metadata": {},
     "output_type": "display_data"
    },
    {
     "data": {
      "text/plain": [
       "'https://www.ted.com/tedx/events?autocomplete_filter=Mali&year=2010&page=1&when=past'"
      ]
     },
     "metadata": {},
     "output_type": "display_data"
    },
    {
     "data": {
      "text/plain": [
       "'https://www.ted.com/tedx/events?autocomplete_filter=Mauritius&year=2015&page=1&when=past'"
      ]
     },
     "metadata": {},
     "output_type": "display_data"
    },
    {
     "data": {
      "text/plain": [
       "'https://www.ted.com/tedx/events?autocomplete_filter=Mauritania&year=2009&page=1&when=past'"
      ]
     },
     "metadata": {},
     "output_type": "display_data"
    },
    {
     "data": {
      "text/plain": [
       "'https://www.ted.com/tedx/events?autocomplete_filter=Malaysia&year=2012&page=1&when=past'"
      ]
     },
     "metadata": {},
     "output_type": "display_data"
    },
    {
     "data": {
      "text/plain": [
       "'https://www.ted.com/tedx/events?autocomplete_filter=Marshall+Islands&year=2019&page=1&when=past'"
      ]
     },
     "metadata": {},
     "output_type": "display_data"
    },
    {
     "data": {
      "text/plain": [
       "'https://www.ted.com/tedx/events?autocomplete_filter=Micronesia,+Federated+States+Of&year=2017&page=1&when=past'"
      ]
     },
     "metadata": {},
     "output_type": "display_data"
    },
    {
     "data": {
      "text/plain": [
       "'https://www.ted.com/tedx/events?autocomplete_filter=Marshall+Islands&year=2020&page=1&when=past'"
      ]
     },
     "metadata": {},
     "output_type": "display_data"
    },
    {
     "data": {
      "text/plain": [
       "'https://www.ted.com/tedx/events?autocomplete_filter=Micronesia,+Federated+States+Of&year=2015&page=1&when=past'"
      ]
     },
     "metadata": {},
     "output_type": "display_data"
    },
    {
     "data": {
      "text/plain": [
       "'https://www.ted.com/tedx/events?autocomplete_filter=Moldova,+Republic+Of&year=2016&page=1&when=past'"
      ]
     },
     "metadata": {},
     "output_type": "display_data"
    },
    {
     "data": {
      "text/plain": [
       "'https://www.ted.com/tedx/events?autocomplete_filter=Martinique&year=2020&page=1&when=past'"
      ]
     },
     "metadata": {},
     "output_type": "display_data"
    },
    {
     "data": {
      "text/plain": [
       "'https://www.ted.com/tedx/events?autocomplete_filter=Martinique&year=2011&page=1&when=past'"
      ]
     },
     "metadata": {},
     "output_type": "display_data"
    },
    {
     "data": {
      "text/plain": [
       "'https://www.ted.com/tedx/events?autocomplete_filter=Mauritania&year=2013&page=1&when=past'"
      ]
     },
     "metadata": {},
     "output_type": "display_data"
    },
    {
     "data": {
      "text/plain": [
       "'https://www.ted.com/tedx/events?autocomplete_filter=Micronesia,+Federated+States+Of&year=2018&page=1&when=past'"
      ]
     },
     "metadata": {},
     "output_type": "display_data"
    },
    {
     "data": {
      "text/plain": [
       "'https://www.ted.com/tedx/events?autocomplete_filter=Micronesia,+Federated+States+Of&year=2014&page=1&when=past'"
      ]
     },
     "metadata": {},
     "output_type": "display_data"
    },
    {
     "data": {
      "text/plain": [
       "'https://www.ted.com/tedx/events?autocomplete_filter=Micronesia,+Federated+States+Of&year=2016&page=1&when=past'"
      ]
     },
     "metadata": {},
     "output_type": "display_data"
    },
    {
     "data": {
      "text/plain": [
       "'https://www.ted.com/tedx/events?autocomplete_filter=Malta&year=2013&page=1&when=past'"
      ]
     },
     "metadata": {},
     "output_type": "display_data"
    },
    {
     "data": {
      "text/plain": [
       "'https://www.ted.com/tedx/events?autocomplete_filter=Mayotte&year=2018&page=1&when=past'"
      ]
     },
     "metadata": {},
     "output_type": "display_data"
    },
    {
     "data": {
      "text/plain": [
       "'https://www.ted.com/tedx/events?autocomplete_filter=Mauritius&year=2012&page=1&when=past'"
      ]
     },
     "metadata": {},
     "output_type": "display_data"
    },
    {
     "data": {
      "text/plain": [
       "'https://www.ted.com/tedx/events?autocomplete_filter=Maldives&year=2015&page=1&when=past'"
      ]
     },
     "metadata": {},
     "output_type": "display_data"
    },
    {
     "data": {
      "text/plain": [
       "'https://www.ted.com/tedx/events?autocomplete_filter=Mauritania&year=2010&page=1&when=past'"
      ]
     },
     "metadata": {},
     "output_type": "display_data"
    },
    {
     "data": {
      "text/plain": [
       "'https://www.ted.com/tedx/events?autocomplete_filter=Moldova,+Republic+Of&year=2020&page=1&when=past'"
      ]
     },
     "metadata": {},
     "output_type": "display_data"
    },
    {
     "data": {
      "text/plain": [
       "'https://www.ted.com/tedx/events?autocomplete_filter=Mauritania&year=2011&page=1&when=past'"
      ]
     },
     "metadata": {},
     "output_type": "display_data"
    },
    {
     "data": {
      "text/plain": [
       "'https://www.ted.com/tedx/events?autocomplete_filter=Moldova,+Republic+Of&year=2018&page=1&when=past'"
      ]
     },
     "metadata": {},
     "output_type": "display_data"
    },
    {
     "data": {
      "text/plain": [
       "'https://www.ted.com/tedx/events?autocomplete_filter=Monaco&year=2019&page=1&when=past'"
      ]
     },
     "metadata": {},
     "output_type": "display_data"
    },
    {
     "data": {
      "text/plain": [
       "'https://www.ted.com/tedx/events?autocomplete_filter=Mauritius&year=2011&page=1&when=past'"
      ]
     },
     "metadata": {},
     "output_type": "display_data"
    },
    {
     "data": {
      "text/plain": [
       "'https://www.ted.com/tedx/events?autocomplete_filter=Mauritius&year=2016&page=1&when=past'"
      ]
     },
     "metadata": {},
     "output_type": "display_data"
    },
    {
     "data": {
      "text/plain": [
       "'https://www.ted.com/tedx/events?autocomplete_filter=Mauritania&year=2014&page=1&when=past'"
      ]
     },
     "metadata": {},
     "output_type": "display_data"
    },
    {
     "data": {
      "text/plain": [
       "'https://www.ted.com/tedx/events?autocomplete_filter=Monaco&year=2009&page=1&when=past'"
      ]
     },
     "metadata": {},
     "output_type": "display_data"
    },
    {
     "data": {
      "text/plain": [
       "'https://www.ted.com/tedx/events?autocomplete_filter=Moldova,+Republic+Of&year=2017&page=1&when=past'"
      ]
     },
     "metadata": {},
     "output_type": "display_data"
    },
    {
     "data": {
      "text/plain": [
       "'https://www.ted.com/tedx/events?autocomplete_filter=Moldova,+Republic+Of&year=2019&page=1&when=past'"
      ]
     },
     "metadata": {},
     "output_type": "display_data"
    },
    {
     "data": {
      "text/plain": [
       "'https://www.ted.com/tedx/events?autocomplete_filter=Marshall+Islands&year=2016&page=1&when=past'"
      ]
     },
     "metadata": {},
     "output_type": "display_data"
    },
    {
     "data": {
      "text/plain": [
       "'https://www.ted.com/tedx/events?autocomplete_filter=Micronesia,+Federated+States+Of&year=2009&page=1&when=past'"
      ]
     },
     "metadata": {},
     "output_type": "display_data"
    },
    {
     "data": {
      "text/plain": [
       "'https://www.ted.com/tedx/events?autocomplete_filter=Mayotte&year=2015&page=1&when=past'"
      ]
     },
     "metadata": {},
     "output_type": "display_data"
    },
    {
     "data": {
      "text/plain": [
       "'https://www.ted.com/tedx/events?autocomplete_filter=Mali&year=2018&page=1&when=past'"
      ]
     },
     "metadata": {},
     "output_type": "display_data"
    },
    {
     "data": {
      "text/plain": [
       "'https://www.ted.com/tedx/events?autocomplete_filter=Mauritius&year=2013&page=1&when=past'"
      ]
     },
     "metadata": {},
     "output_type": "display_data"
    },
    {
     "data": {
      "text/plain": [
       "'https://www.ted.com/tedx/events?autocomplete_filter=Mongolia&year=2011&page=1&when=past'"
      ]
     },
     "metadata": {},
     "output_type": "display_data"
    },
    {
     "data": {
      "text/plain": [
       "'https://www.ted.com/tedx/events?autocomplete_filter=Mauritius&year=2014&page=1&when=past'"
      ]
     },
     "metadata": {},
     "output_type": "display_data"
    },
    {
     "data": {
      "text/plain": [
       "'https://www.ted.com/tedx/events?autocomplete_filter=Mongolia&year=2009&page=1&when=past'"
      ]
     },
     "metadata": {},
     "output_type": "display_data"
    },
    {
     "data": {
      "text/plain": [
       "'https://www.ted.com/tedx/events?autocomplete_filter=Montserrat&year=2010&page=1&when=past'"
      ]
     },
     "metadata": {},
     "output_type": "display_data"
    },
    {
     "data": {
      "text/plain": [
       "'https://www.ted.com/tedx/events?autocomplete_filter=Mayotte&year=2014&page=1&when=past'"
      ]
     },
     "metadata": {},
     "output_type": "display_data"
    },
    {
     "data": {
      "text/plain": [
       "'https://www.ted.com/tedx/events?autocomplete_filter=Mayotte&year=2019&page=1&when=past'"
      ]
     },
     "metadata": {},
     "output_type": "display_data"
    },
    {
     "data": {
      "text/plain": [
       "'https://www.ted.com/tedx/events?autocomplete_filter=Mauritius&year=2017&page=1&when=past'"
      ]
     },
     "metadata": {},
     "output_type": "display_data"
    },
    {
     "data": {
      "text/plain": [
       "'https://www.ted.com/tedx/events?autocomplete_filter=Mongolia&year=2012&page=1&when=past'"
      ]
     },
     "metadata": {},
     "output_type": "display_data"
    },
    {
     "data": {
      "text/plain": [
       "'https://www.ted.com/tedx/events?autocomplete_filter=Monaco&year=2020&page=1&when=past'"
      ]
     },
     "metadata": {},
     "output_type": "display_data"
    },
    {
     "data": {
      "text/plain": [
       "'https://www.ted.com/tedx/events?autocomplete_filter=Martinique&year=2019&page=1&when=past'"
      ]
     },
     "metadata": {},
     "output_type": "display_data"
    },
    {
     "data": {
      "text/plain": [
       "'https://www.ted.com/tedx/events?autocomplete_filter=Mongolia&year=2010&page=1&when=past'"
      ]
     },
     "metadata": {},
     "output_type": "display_data"
    },
    {
     "data": {
      "text/plain": [
       "'https://www.ted.com/tedx/events?autocomplete_filter=Mexico&year=2018&page=1&when=past'"
      ]
     },
     "metadata": {},
     "output_type": "display_data"
    },
    {
     "data": {
      "text/plain": [
       "'https://www.ted.com/tedx/events?autocomplete_filter=Moldova,+Republic+Of&year=2012&page=1&when=past'"
      ]
     },
     "metadata": {},
     "output_type": "display_data"
    },
    {
     "data": {
      "text/plain": [
       "'https://www.ted.com/tedx/events?autocomplete_filter=Mayotte&year=2016&page=1&when=past'"
      ]
     },
     "metadata": {},
     "output_type": "display_data"
    },
    {
     "data": {
      "text/plain": [
       "'https://www.ted.com/tedx/events?autocomplete_filter=Marshall+Islands&year=2009&page=1&when=past'"
      ]
     },
     "metadata": {},
     "output_type": "display_data"
    },
    {
     "data": {
      "text/plain": [
       "'https://www.ted.com/tedx/events?autocomplete_filter=Montserrat&year=2014&page=1&when=past'"
      ]
     },
     "metadata": {},
     "output_type": "display_data"
    },
    {
     "data": {
      "text/plain": [
       "'https://www.ted.com/tedx/events?autocomplete_filter=Mayotte&year=2017&page=1&when=past'"
      ]
     },
     "metadata": {},
     "output_type": "display_data"
    },
    {
     "data": {
      "text/plain": [
       "'https://www.ted.com/tedx/events?autocomplete_filter=Montserrat&year=2012&page=1&when=past'"
      ]
     },
     "metadata": {},
     "output_type": "display_data"
    },
    {
     "data": {
      "text/plain": [
       "'https://www.ted.com/tedx/events?autocomplete_filter=Montenegro&year=2013&page=1&when=past'"
      ]
     },
     "metadata": {},
     "output_type": "display_data"
    },
    {
     "data": {
      "text/plain": [
       "'https://www.ted.com/tedx/events?autocomplete_filter=Mexico&year=2017&page=1&when=past'"
      ]
     },
     "metadata": {},
     "output_type": "display_data"
    },
    {
     "data": {
      "text/plain": [
       "'https://www.ted.com/tedx/events?autocomplete_filter=Micronesia,+Federated+States+Of&year=2010&page=1&when=past'"
      ]
     },
     "metadata": {},
     "output_type": "display_data"
    },
    {
     "data": {
      "text/plain": [
       "'https://www.ted.com/tedx/events?autocomplete_filter=Mayotte&year=2020&page=1&when=past'"
      ]
     },
     "metadata": {},
     "output_type": "display_data"
    },
    {
     "data": {
      "text/plain": [
       "'https://www.ted.com/tedx/events?autocomplete_filter=Montserrat&year=2015&page=1&when=past'"
      ]
     },
     "metadata": {},
     "output_type": "display_data"
    },
    {
     "data": {
      "text/plain": [
       "'https://www.ted.com/tedx/events?autocomplete_filter=Montserrat&year=2011&page=1&when=past'"
      ]
     },
     "metadata": {},
     "output_type": "display_data"
    },
    {
     "data": {
      "text/plain": [
       "'https://www.ted.com/tedx/events?autocomplete_filter=Montserrat&year=2013&page=1&when=past'"
      ]
     },
     "metadata": {},
     "output_type": "display_data"
    },
    {
     "data": {
      "text/plain": [
       "'https://www.ted.com/tedx/events?autocomplete_filter=Mauritius&year=2010&page=1&when=past'"
      ]
     },
     "metadata": {},
     "output_type": "display_data"
    },
    {
     "data": {
      "text/plain": [
       "'https://www.ted.com/tedx/events?autocomplete_filter=Monaco&year=2015&page=1&when=past'"
      ]
     },
     "metadata": {},
     "output_type": "display_data"
    },
    {
     "data": {
      "text/plain": [
       "'https://www.ted.com/tedx/events?autocomplete_filter=Moldova,+Republic+Of&year=2009&page=1&when=past'"
      ]
     },
     "metadata": {},
     "output_type": "display_data"
    },
    {
     "data": {
      "text/plain": [
       "'https://www.ted.com/tedx/events?autocomplete_filter=Mexico&year=2019&page=1&when=past'"
      ]
     },
     "metadata": {},
     "output_type": "display_data"
    },
    {
     "data": {
      "text/plain": [
       "'https://www.ted.com/tedx/events?autocomplete_filter=Mexico&year=2020&page=1&when=past'"
      ]
     },
     "metadata": {},
     "output_type": "display_data"
    },
    {
     "data": {
      "text/plain": [
       "'https://www.ted.com/tedx/events?autocomplete_filter=Martinique&year=2012&page=1&when=past'"
      ]
     },
     "metadata": {},
     "output_type": "display_data"
    },
    {
     "data": {
      "text/plain": [
       "'https://www.ted.com/tedx/events?autocomplete_filter=Montenegro&year=2017&page=1&when=past'"
      ]
     },
     "metadata": {},
     "output_type": "display_data"
    },
    {
     "data": {
      "text/plain": [
       "'https://www.ted.com/tedx/events?autocomplete_filter=Montenegro&year=2015&page=1&when=past'"
      ]
     },
     "metadata": {},
     "output_type": "display_data"
    },
    {
     "data": {
      "text/plain": [
       "'https://www.ted.com/tedx/events?autocomplete_filter=Moldova,+Republic+Of&year=2013&page=1&when=past'"
      ]
     },
     "metadata": {},
     "output_type": "display_data"
    },
    {
     "data": {
      "text/plain": [
       "'https://www.ted.com/tedx/events?autocomplete_filter=Morocco&year=2016&page=1&when=past'"
      ]
     },
     "metadata": {},
     "output_type": "display_data"
    },
    {
     "data": {
      "text/plain": [
       "'https://www.ted.com/tedx/events?autocomplete_filter=Micronesia,+Federated+States+Of&year=2011&page=1&when=past'"
      ]
     },
     "metadata": {},
     "output_type": "display_data"
    },
    {
     "data": {
      "text/plain": [
       "'https://www.ted.com/tedx/events?autocomplete_filter=Micronesia,+Federated+States+Of&year=2020&page=1&when=past'"
      ]
     },
     "metadata": {},
     "output_type": "display_data"
    },
    {
     "data": {
      "text/plain": [
       "'https://www.ted.com/tedx/events?autocomplete_filter=Montenegro&year=2018&page=1&when=past'"
      ]
     },
     "metadata": {},
     "output_type": "display_data"
    },
    {
     "data": {
      "text/plain": [
       "'https://www.ted.com/tedx/events?autocomplete_filter=Montenegro&year=2014&page=1&when=past'"
      ]
     },
     "metadata": {},
     "output_type": "display_data"
    },
    {
     "data": {
      "text/plain": [
       "'https://www.ted.com/tedx/events?autocomplete_filter=Montenegro&year=2016&page=1&when=past'"
      ]
     },
     "metadata": {},
     "output_type": "display_data"
    },
    {
     "data": {
      "text/plain": [
       "'https://www.ted.com/tedx/events?autocomplete_filter=Mayotte&year=2013&page=1&when=past'"
      ]
     },
     "metadata": {},
     "output_type": "display_data"
    },
    {
     "data": {
      "text/plain": [
       "'https://www.ted.com/tedx/events?autocomplete_filter=Mongolia&year=2018&page=1&when=past'"
      ]
     },
     "metadata": {},
     "output_type": "display_data"
    },
    {
     "data": {
      "text/plain": [
       "'https://www.ted.com/tedx/events?autocomplete_filter=Monaco&year=2012&page=1&when=past'"
      ]
     },
     "metadata": {},
     "output_type": "display_data"
    },
    {
     "data": {
      "text/plain": [
       "'https://www.ted.com/tedx/events?autocomplete_filter=Moldova,+Republic+Of&year=2010&page=1&when=past'"
      ]
     },
     "metadata": {},
     "output_type": "display_data"
    },
    {
     "data": {
      "text/plain": [
       "'https://www.ted.com/tedx/events?autocomplete_filter=Moldova,+Republic+Of&year=2011&page=1&when=past'"
      ]
     },
     "metadata": {},
     "output_type": "display_data"
    },
    {
     "data": {
      "text/plain": [
       "'https://www.ted.com/tedx/events?autocomplete_filter=Mauritania&year=2015&page=1&when=past'"
      ]
     },
     "metadata": {},
     "output_type": "display_data"
    },
    {
     "data": {
      "text/plain": [
       "'https://www.ted.com/tedx/events?autocomplete_filter=Morocco&year=2020&page=1&when=past'"
      ]
     },
     "metadata": {},
     "output_type": "display_data"
    },
    {
     "data": {
      "text/plain": [
       "'https://www.ted.com/tedx/events?autocomplete_filter=Morocco&year=2018&page=1&when=past'"
      ]
     },
     "metadata": {},
     "output_type": "display_data"
    },
    {
     "data": {
      "text/plain": [
       "'https://www.ted.com/tedx/events?autocomplete_filter=Monaco&year=2016&page=1&when=past'"
      ]
     },
     "metadata": {},
     "output_type": "display_data"
    },
    {
     "data": {
      "text/plain": [
       "'https://www.ted.com/tedx/events?autocomplete_filter=Mozambique&year=2019&page=1&when=past'"
      ]
     },
     "metadata": {},
     "output_type": "display_data"
    },
    {
     "data": {
      "text/plain": [
       "'https://www.ted.com/tedx/events?autocomplete_filter=Monaco&year=2011&page=1&when=past'"
      ]
     },
     "metadata": {},
     "output_type": "display_data"
    },
    {
     "data": {
      "text/plain": [
       "'https://www.ted.com/tedx/events?autocomplete_filter=Mozambique&year=2009&page=1&when=past'"
      ]
     },
     "metadata": {},
     "output_type": "display_data"
    },
    {
     "data": {
      "text/plain": [
       "'https://www.ted.com/tedx/events?autocomplete_filter=Moldova,+Republic+Of&year=2014&page=1&when=past'"
      ]
     },
     "metadata": {},
     "output_type": "display_data"
    },
    {
     "data": {
      "text/plain": [
       "'https://www.ted.com/tedx/events?autocomplete_filter=Morocco&year=2017&page=1&when=past'"
      ]
     },
     "metadata": {},
     "output_type": "display_data"
    },
    {
     "data": {
      "text/plain": [
       "'https://www.ted.com/tedx/events?autocomplete_filter=Morocco&year=2019&page=1&when=past'"
      ]
     },
     "metadata": {},
     "output_type": "display_data"
    },
    {
     "data": {
      "text/plain": [
       "'https://www.ted.com/tedx/events?autocomplete_filter=Mexico&year=2016&page=1&when=past'"
      ]
     },
     "metadata": {},
     "output_type": "display_data"
    },
    {
     "data": {
      "text/plain": [
       "'https://www.ted.com/tedx/events?autocomplete_filter=Montenegro&year=2009&page=1&when=past'"
      ]
     },
     "metadata": {},
     "output_type": "display_data"
    },
    {
     "data": {
      "text/plain": [
       "'https://www.ted.com/tedx/events?autocomplete_filter=Mongolia&year=2015&page=1&when=past'"
      ]
     },
     "metadata": {},
     "output_type": "display_data"
    },
    {
     "data": {
      "text/plain": [
       "'https://www.ted.com/tedx/events?autocomplete_filter=Monaco&year=2013&page=1&when=past'"
      ]
     },
     "metadata": {},
     "output_type": "display_data"
    },
    {
     "data": {
      "text/plain": [
       "'https://www.ted.com/tedx/events?autocomplete_filter=Monaco&year=2014&page=1&when=past'"
      ]
     },
     "metadata": {},
     "output_type": "display_data"
    },
    {
     "data": {
      "text/plain": [
       "'https://www.ted.com/tedx/events?autocomplete_filter=Mauritius&year=2018&page=1&when=past'"
      ]
     },
     "metadata": {},
     "output_type": "display_data"
    },
    {
     "data": {
      "text/plain": [
       "'https://www.ted.com/tedx/events?autocomplete_filter=Myanmar&year=2011&page=1&when=past'"
      ]
     },
     "metadata": {},
     "output_type": "display_data"
    },
    {
     "data": {
      "text/plain": [
       "'https://www.ted.com/tedx/events?autocomplete_filter=Myanmar&year=2009&page=1&when=past'"
      ]
     },
     "metadata": {},
     "output_type": "display_data"
    },
    {
     "data": {
      "text/plain": [
       "'https://www.ted.com/tedx/events?autocomplete_filter=Mongolia&year=2019&page=1&when=past'"
      ]
     },
     "metadata": {},
     "output_type": "display_data"
    },
    {
     "data": {
      "text/plain": [
       "'https://www.ted.com/tedx/events?autocomplete_filter=Namibia&year=2010&page=1&when=past'"
      ]
     },
     "metadata": {},
     "output_type": "display_data"
    },
    {
     "data": {
      "text/plain": [
       "'https://www.ted.com/tedx/events?autocomplete_filter=Mongolia&year=2014&page=1&when=past'"
      ]
     },
     "metadata": {},
     "output_type": "display_data"
    },
    {
     "data": {
      "text/plain": [
       "'https://www.ted.com/tedx/events?autocomplete_filter=Myanmar&year=2012&page=1&when=past'"
      ]
     },
     "metadata": {},
     "output_type": "display_data"
    },
    {
     "data": {
      "text/plain": [
       "'https://www.ted.com/tedx/events?autocomplete_filter=Monaco&year=2017&page=1&when=past'"
      ]
     },
     "metadata": {},
     "output_type": "display_data"
    },
    {
     "data": {
      "text/plain": [
       "'https://www.ted.com/tedx/events?autocomplete_filter=Mozambique&year=2020&page=1&when=past'"
      ]
     },
     "metadata": {},
     "output_type": "display_data"
    },
    {
     "data": {
      "text/plain": [
       "'https://www.ted.com/tedx/events?autocomplete_filter=Myanmar&year=2010&page=1&when=past'"
      ]
     },
     "metadata": {},
     "output_type": "display_data"
    },
    {
     "data": {
      "text/plain": [
       "'https://www.ted.com/tedx/events?autocomplete_filter=Morocco&year=2012&page=1&when=past'"
      ]
     },
     "metadata": {},
     "output_type": "display_data"
    },
    {
     "data": {
      "text/plain": [
       "'https://www.ted.com/tedx/events?autocomplete_filter=Micronesia,+Federated+States+Of&year=2019&page=1&when=past'"
      ]
     },
     "metadata": {},
     "output_type": "display_data"
    },
    {
     "data": {
      "text/plain": [
       "'https://www.ted.com/tedx/events?autocomplete_filter=Montserrat&year=2018&page=1&when=past'"
      ]
     },
     "metadata": {},
     "output_type": "display_data"
    },
    {
     "data": {
      "text/plain": [
       "'https://www.ted.com/tedx/events?autocomplete_filter=Mongolia&year=2016&page=1&when=past'"
      ]
     },
     "metadata": {},
     "output_type": "display_data"
    },
    {
     "data": {
      "text/plain": [
       "'https://www.ted.com/tedx/events?autocomplete_filter=Mongolia&year=2017&page=1&when=past'"
      ]
     },
     "metadata": {},
     "output_type": "display_data"
    },
    {
     "data": {
      "text/plain": [
       "'https://www.ted.com/tedx/events?autocomplete_filter=Mexico&year=2009&page=1&when=past'"
      ]
     },
     "metadata": {},
     "output_type": "display_data"
    },
    {
     "data": {
      "text/plain": [
       "'https://www.ted.com/tedx/events?autocomplete_filter=Namibia&year=2014&page=1&when=past'"
      ]
     },
     "metadata": {},
     "output_type": "display_data"
    },
    {
     "data": {
      "text/plain": [
       "'https://www.ted.com/tedx/events?autocomplete_filter=Namibia&year=2012&page=1&when=past'"
      ]
     },
     "metadata": {},
     "output_type": "display_data"
    },
    {
     "data": {
      "text/plain": [
       "'https://www.ted.com/tedx/events?autocomplete_filter=Nauru&year=2013&page=1&when=past'"
      ]
     },
     "metadata": {},
     "output_type": "display_data"
    },
    {
     "data": {
      "text/plain": [
       "'https://www.ted.com/tedx/events?autocomplete_filter=Montenegro&year=2010&page=1&when=past'"
      ]
     },
     "metadata": {},
     "output_type": "display_data"
    },
    {
     "data": {
      "text/plain": [
       "'https://www.ted.com/tedx/events?autocomplete_filter=Montserrat&year=2017&page=1&when=past'"
      ]
     },
     "metadata": {},
     "output_type": "display_data"
    },
    {
     "data": {
      "text/plain": [
       "'https://www.ted.com/tedx/events?autocomplete_filter=Namibia&year=2015&page=1&when=past'"
      ]
     },
     "metadata": {},
     "output_type": "display_data"
    },
    {
     "data": {
      "text/plain": [
       "'https://www.ted.com/tedx/events?autocomplete_filter=Mongolia&year=2020&page=1&when=past'"
      ]
     },
     "metadata": {},
     "output_type": "display_data"
    },
    {
     "data": {
      "text/plain": [
       "'https://www.ted.com/tedx/events?autocomplete_filter=Namibia&year=2011&page=1&when=past'"
      ]
     },
     "metadata": {},
     "output_type": "display_data"
    },
    {
     "data": {
      "text/plain": [
       "'https://www.ted.com/tedx/events?autocomplete_filter=Namibia&year=2013&page=1&when=past'"
      ]
     },
     "metadata": {},
     "output_type": "display_data"
    },
    {
     "data": {
      "text/plain": [
       "'https://www.ted.com/tedx/events?autocomplete_filter=Monaco&year=2010&page=1&when=past'"
      ]
     },
     "metadata": {},
     "output_type": "display_data"
    },
    {
     "data": {
      "text/plain": [
       "'https://www.ted.com/tedx/events?autocomplete_filter=Mozambique&year=2015&page=1&when=past'"
      ]
     },
     "metadata": {},
     "output_type": "display_data"
    },
    {
     "data": {
      "text/plain": [
       "'https://www.ted.com/tedx/events?autocomplete_filter=Morocco&year=2009&page=1&when=past'"
      ]
     },
     "metadata": {},
     "output_type": "display_data"
    },
    {
     "data": {
      "text/plain": [
       "'https://www.ted.com/tedx/events?autocomplete_filter=Montserrat&year=2019&page=1&when=past'"
      ]
     },
     "metadata": {},
     "output_type": "display_data"
    },
    {
     "data": {
      "text/plain": [
       "'https://www.ted.com/tedx/events?autocomplete_filter=Montserrat&year=2020&page=1&when=past'"
      ]
     },
     "metadata": {},
     "output_type": "display_data"
    },
    {
     "data": {
      "text/plain": [
       "'https://www.ted.com/tedx/events?autocomplete_filter=Micronesia,+Federated+States+Of&year=2012&page=1&when=past'"
      ]
     },
     "metadata": {},
     "output_type": "display_data"
    },
    {
     "data": {
      "text/plain": [
       "'https://www.ted.com/tedx/events?autocomplete_filter=Nauru&year=2017&page=1&when=past'"
      ]
     },
     "metadata": {},
     "output_type": "display_data"
    },
    {
     "data": {
      "text/plain": [
       "'https://www.ted.com/tedx/events?autocomplete_filter=Nauru&year=2015&page=1&when=past'"
      ]
     },
     "metadata": {},
     "output_type": "display_data"
    },
    {
     "data": {
      "text/plain": [
       "'https://www.ted.com/tedx/events?autocomplete_filter=Nepal&year=2016&page=1&when=past'"
      ]
     },
     "metadata": {},
     "output_type": "display_data"
    },
    {
     "data": {
      "text/plain": [
       "'https://www.ted.com/tedx/events?autocomplete_filter=Nauru&year=2018&page=1&when=past'"
      ]
     },
     "metadata": {},
     "output_type": "display_data"
    },
    {
     "data": {
      "text/plain": [
       "'https://www.ted.com/tedx/events?autocomplete_filter=Morocco&year=2013&page=1&when=past'"
      ]
     },
     "metadata": {},
     "output_type": "display_data"
    },
    {
     "data": {
      "text/plain": [
       "'https://www.ted.com/tedx/events?autocomplete_filter=Montenegro&year=2020&page=1&when=past'"
      ]
     },
     "metadata": {},
     "output_type": "display_data"
    },
    {
     "data": {
      "text/plain": [
       "'https://www.ted.com/tedx/events?autocomplete_filter=Montenegro&year=2011&page=1&when=past'"
      ]
     },
     "metadata": {},
     "output_type": "display_data"
    },
    {
     "data": {
      "text/plain": [
       "'https://www.ted.com/tedx/events?autocomplete_filter=Nauru&year=2014&page=1&when=past'"
      ]
     },
     "metadata": {},
     "output_type": "display_data"
    },
    {
     "data": {
      "text/plain": [
       "'https://www.ted.com/tedx/events?autocomplete_filter=Nauru&year=2016&page=1&when=past'"
      ]
     },
     "metadata": {},
     "output_type": "display_data"
    },
    {
     "data": {
      "text/plain": [
       "'https://www.ted.com/tedx/events?autocomplete_filter=Mongolia&year=2013&page=1&when=past'"
      ]
     },
     "metadata": {},
     "output_type": "display_data"
    },
    {
     "data": {
      "text/plain": [
       "'https://www.ted.com/tedx/events?autocomplete_filter=Myanmar&year=2018&page=1&when=past'"
      ]
     },
     "metadata": {},
     "output_type": "display_data"
    },
    {
     "data": {
      "text/plain": [
       "'https://www.ted.com/tedx/events?autocomplete_filter=Mozambique&year=2012&page=1&when=past'"
      ]
     },
     "metadata": {},
     "output_type": "display_data"
    },
    {
     "data": {
      "text/plain": [
       "'https://www.ted.com/tedx/events?autocomplete_filter=Morocco&year=2010&page=1&when=past'"
      ]
     },
     "metadata": {},
     "output_type": "display_data"
    },
    {
     "data": {
      "text/plain": [
       "'https://www.ted.com/tedx/events?autocomplete_filter=Morocco&year=2011&page=1&when=past'"
      ]
     },
     "metadata": {},
     "output_type": "display_data"
    },
    {
     "data": {
      "text/plain": [
       "'https://www.ted.com/tedx/events?autocomplete_filter=Nepal&year=2020&page=1&when=past'"
      ]
     },
     "metadata": {},
     "output_type": "display_data"
    },
    {
     "data": {
      "text/plain": [
       "'https://www.ted.com/tedx/events?autocomplete_filter=Moldova,+Republic+Of&year=2015&page=1&when=past'"
      ]
     },
     "metadata": {},
     "output_type": "display_data"
    },
    {
     "data": {
      "text/plain": [
       "'https://www.ted.com/tedx/events?autocomplete_filter=Nepal&year=2018&page=1&when=past'"
      ]
     },
     "metadata": {},
     "output_type": "display_data"
    },
    {
     "data": {
      "text/plain": [
       "'https://www.ted.com/tedx/events?autocomplete_filter=Netherlands&year=2019&page=1&when=past'"
      ]
     },
     "metadata": {},
     "output_type": "display_data"
    },
    {
     "data": {
      "text/plain": [
       "'https://www.ted.com/tedx/events?autocomplete_filter=Netherlands&year=2009&page=1&when=past'"
      ]
     },
     "metadata": {},
     "output_type": "display_data"
    },
    {
     "data": {
      "text/plain": [
       "'https://www.ted.com/tedx/events?autocomplete_filter=Nepal&year=2017&page=1&when=past'"
      ]
     },
     "metadata": {},
     "output_type": "display_data"
    },
    {
     "data": {
      "text/plain": [
       "'https://www.ted.com/tedx/events?autocomplete_filter=Morocco&year=2014&page=1&when=past'"
      ]
     },
     "metadata": {},
     "output_type": "display_data"
    },
    {
     "data": {
      "text/plain": [
       "'https://www.ted.com/tedx/events?autocomplete_filter=Mozambique&year=2011&page=1&when=past'"
      ]
     },
     "metadata": {},
     "output_type": "display_data"
    },
    {
     "data": {
      "text/plain": [
       "'https://www.ted.com/tedx/events?autocomplete_filter=Mozambique&year=2016&page=1&when=past'"
      ]
     },
     "metadata": {},
     "output_type": "display_data"
    },
    {
     "data": {
      "text/plain": [
       "'https://www.ted.com/tedx/events?autocomplete_filter=Montserrat&year=2016&page=1&when=past'"
      ]
     },
     "metadata": {},
     "output_type": "display_data"
    },
    {
     "data": {
      "text/plain": [
       "'https://www.ted.com/tedx/events?autocomplete_filter=Nepal&year=2019&page=1&when=past'"
      ]
     },
     "metadata": {},
     "output_type": "display_data"
    },
    {
     "data": {
      "text/plain": [
       "'https://www.ted.com/tedx/events?autocomplete_filter=Nauru&year=2009&page=1&when=past'"
      ]
     },
     "metadata": {},
     "output_type": "display_data"
    },
    {
     "data": {
      "text/plain": [
       "'https://www.ted.com/tedx/events?autocomplete_filter=Myanmar&year=2015&page=1&when=past'"
      ]
     },
     "metadata": {},
     "output_type": "display_data"
    },
    {
     "data": {
      "text/plain": [
       "'https://www.ted.com/tedx/events?autocomplete_filter=Mozambique&year=2013&page=1&when=past'"
      ]
     },
     "metadata": {},
     "output_type": "display_data"
    },
    {
     "data": {
      "text/plain": [
       "'https://www.ted.com/tedx/events?autocomplete_filter=Mozambique&year=2017&page=1&when=past'"
      ]
     },
     "metadata": {},
     "output_type": "display_data"
    },
    {
     "data": {
      "text/plain": [
       "'https://www.ted.com/tedx/events?autocomplete_filter=Montenegro&year=2019&page=1&when=past'"
      ]
     },
     "metadata": {},
     "output_type": "display_data"
    },
    {
     "data": {
      "text/plain": [
       "'https://www.ted.com/tedx/events?autocomplete_filter=Monaco&year=2018&page=1&when=past'"
      ]
     },
     "metadata": {},
     "output_type": "display_data"
    },
    {
     "data": {
      "text/plain": [
       "'https://www.ted.com/tedx/events?autocomplete_filter=Morocco&year=2011&page=2&when=past'"
      ]
     },
     "metadata": {},
     "output_type": "display_data"
    },
    {
     "data": {
      "text/plain": [
       "'https://www.ted.com/tedx/events?autocomplete_filter=Nepal&year=2012&page=1&when=past'"
      ]
     },
     "metadata": {},
     "output_type": "display_data"
    },
    {
     "data": {
      "text/plain": [
       "'https://www.ted.com/tedx/events?autocomplete_filter=Mozambique&year=2010&page=1&when=past'"
      ]
     },
     "metadata": {},
     "output_type": "display_data"
    },
    {
     "data": {
      "text/plain": [
       "'https://www.ted.com/tedx/events?autocomplete_filter=Netherlands&year=2020&page=1&when=past'"
      ]
     },
     "metadata": {},
     "output_type": "display_data"
    },
    {
     "data": {
      "text/plain": [
       "'https://www.ted.com/tedx/events?autocomplete_filter=Namibia&year=2018&page=1&when=past'"
      ]
     },
     "metadata": {},
     "output_type": "display_data"
    },
    {
     "data": {
      "text/plain": [
       "'https://www.ted.com/tedx/events?autocomplete_filter=Myanmar&year=2014&page=1&when=past'"
      ]
     },
     "metadata": {},
     "output_type": "display_data"
    },
    {
     "data": {
      "text/plain": [
       "'https://www.ted.com/tedx/events?autocomplete_filter=Netherlands&year=2009&page=2&when=past'"
      ]
     },
     "metadata": {},
     "output_type": "display_data"
    },
    {
     "data": {
      "text/plain": [
       "'https://www.ted.com/tedx/events?autocomplete_filter=Nepal&year=2020&page=2&when=past'"
      ]
     },
     "metadata": {},
     "output_type": "display_data"
    },
    {
     "data": {
      "text/plain": [
       "'https://www.ted.com/tedx/events?autocomplete_filter=Montserrat&year=2009&page=1&when=past'"
      ]
     },
     "metadata": {},
     "output_type": "display_data"
    },
    {
     "data": {
      "text/plain": [
       "'https://www.ted.com/tedx/events?autocomplete_filter=Mozambique&year=2013&page=2&when=past'"
      ]
     },
     "metadata": {},
     "output_type": "display_data"
    },
    {
     "data": {
      "text/plain": [
       "'https://www.ted.com/tedx/events?autocomplete_filter=Mozambique&year=2016&page=2&when=past'"
      ]
     },
     "metadata": {},
     "output_type": "display_data"
    },
    {
     "data": {
      "text/plain": [
       "'https://www.ted.com/tedx/events?autocomplete_filter=Nepal&year=2018&page=2&when=past'"
      ]
     },
     "metadata": {},
     "output_type": "display_data"
    },
    {
     "data": {
      "text/plain": [
       "'https://www.ted.com/tedx/events?autocomplete_filter=Mozambique&year=2017&page=2&when=past'"
      ]
     },
     "metadata": {},
     "output_type": "display_data"
    },
    {
     "data": {
      "text/plain": [
       "'https://www.ted.com/tedx/events?autocomplete_filter=Mozambique&year=2014&page=1&when=past'"
      ]
     },
     "metadata": {},
     "output_type": "display_data"
    },
    {
     "data": {
      "text/plain": [
       "'https://www.ted.com/tedx/events?autocomplete_filter=Nepal&year=2019&page=2&when=past'"
      ]
     },
     "metadata": {},
     "output_type": "display_data"
    },
    {
     "data": {
      "text/plain": [
       "'https://www.ted.com/tedx/events?autocomplete_filter=Myanmar&year=2013&page=1&when=past'"
      ]
     },
     "metadata": {},
     "output_type": "display_data"
    },
    {
     "data": {
      "text/plain": [
       "'https://www.ted.com/tedx/events?autocomplete_filter=Namibia&year=2017&page=1&when=past'"
      ]
     },
     "metadata": {},
     "output_type": "display_data"
    },
    {
     "data": {
      "text/plain": [
       "'https://www.ted.com/tedx/events?autocomplete_filter=Netherlands+Antilles&year=2012&page=1&when=past'"
      ]
     },
     "metadata": {},
     "output_type": "display_data"
    },
    {
     "data": {
      "text/plain": [
       "'https://www.ted.com/tedx/events?autocomplete_filter=Netherlands+Antilles&year=2011&page=1&when=past'"
      ]
     },
     "metadata": {},
     "output_type": "display_data"
    },
    {
     "data": {
      "text/plain": [
       "'https://www.ted.com/tedx/events?autocomplete_filter=Montenegro&year=2012&page=1&when=past'"
      ]
     },
     "metadata": {},
     "output_type": "display_data"
    },
    {
     "data": {
      "text/plain": [
       "'https://www.ted.com/tedx/events?autocomplete_filter=Nepal&year=2012&page=2&when=past'"
      ]
     },
     "metadata": {},
     "output_type": "display_data"
    },
    {
     "data": {
      "text/plain": [
       "'https://www.ted.com/tedx/events?autocomplete_filter=Namibia&year=2018&page=2&when=past'"
      ]
     },
     "metadata": {},
     "output_type": "display_data"
    },
    {
     "data": {
      "text/plain": [
       "'https://www.ted.com/tedx/events?autocomplete_filter=Myanmar&year=2016&page=1&when=past'"
      ]
     },
     "metadata": {},
     "output_type": "display_data"
    },
    {
     "data": {
      "text/plain": [
       "'https://www.ted.com/tedx/events?autocomplete_filter=Myanmar&year=2019&page=1&when=past'"
      ]
     },
     "metadata": {},
     "output_type": "display_data"
    },
    {
     "data": {
      "text/plain": [
       "'https://www.ted.com/tedx/events?autocomplete_filter=Netherlands+Antilles&year=2009&page=1&when=past'"
      ]
     },
     "metadata": {},
     "output_type": "display_data"
    },
    {
     "data": {
      "text/plain": [
       "'https://www.ted.com/tedx/events?autocomplete_filter=Myanmar&year=2020&page=1&when=past'"
      ]
     },
     "metadata": {},
     "output_type": "display_data"
    },
    {
     "data": {
      "text/plain": [
       "'https://www.ted.com/tedx/events?autocomplete_filter=Netherlands&year=2019&page=2&when=past'"
      ]
     },
     "metadata": {},
     "output_type": "display_data"
    },
    {
     "data": {
      "text/plain": [
       "'https://www.ted.com/tedx/events?autocomplete_filter=Netherlands&year=2020&page=2&when=past'"
      ]
     },
     "metadata": {},
     "output_type": "display_data"
    },
    {
     "data": {
      "text/plain": [
       "'https://www.ted.com/tedx/events?autocomplete_filter=Mozambique&year=2014&page=2&when=past'"
      ]
     },
     "metadata": {},
     "output_type": "display_data"
    },
    {
     "data": {
      "text/plain": [
       "'https://www.ted.com/tedx/events?autocomplete_filter=Netherlands+Antilles&year=2010&page=1&when=past'"
      ]
     },
     "metadata": {},
     "output_type": "display_data"
    },
    {
     "data": {
      "text/plain": [
       "'https://www.ted.com/tedx/events?autocomplete_filter=Myanmar&year=2013&page=2&when=past'"
      ]
     },
     "metadata": {},
     "output_type": "display_data"
    },
    {
     "data": {
      "text/plain": [
       "'https://www.ted.com/tedx/events?autocomplete_filter=New+Caledonia&year=2014&page=1&when=past'"
      ]
     },
     "metadata": {},
     "output_type": "display_data"
    },
    {
     "data": {
      "text/plain": [
       "'https://www.ted.com/tedx/events?autocomplete_filter=New+Caledonia&year=2015&page=1&when=past'"
      ]
     },
     "metadata": {},
     "output_type": "display_data"
    },
    {
     "data": {
      "text/plain": [
       "'https://www.ted.com/tedx/events?autocomplete_filter=New+Caledonia&year=2012&page=1&when=past'"
      ]
     },
     "metadata": {},
     "output_type": "display_data"
    },
    {
     "data": {
      "text/plain": [
       "'https://www.ted.com/tedx/events?autocomplete_filter=Montenegro&year=2012&page=2&when=past'"
      ]
     },
     "metadata": {},
     "output_type": "display_data"
    },
    {
     "data": {
      "text/plain": [
       "'https://www.ted.com/tedx/events?autocomplete_filter=Nepal&year=2009&page=1&when=past'"
      ]
     },
     "metadata": {},
     "output_type": "display_data"
    },
    {
     "data": {
      "text/plain": [
       "'https://www.ted.com/tedx/events?autocomplete_filter=Netherlands&year=2015&page=1&when=past'"
      ]
     },
     "metadata": {},
     "output_type": "display_data"
    },
    {
     "data": {
      "text/plain": [
       "'https://www.ted.com/tedx/events?autocomplete_filter=Namibia&year=2017&page=2&when=past'"
      ]
     },
     "metadata": {},
     "output_type": "display_data"
    },
    {
     "data": {
      "text/plain": [
       "'https://www.ted.com/tedx/events?autocomplete_filter=Myanmar&year=2016&page=2&when=past'"
      ]
     },
     "metadata": {},
     "output_type": "display_data"
    },
    {
     "data": {
      "text/plain": [
       "'https://www.ted.com/tedx/events?autocomplete_filter=Myanmar&year=2019&page=2&when=past'"
      ]
     },
     "metadata": {},
     "output_type": "display_data"
    },
    {
     "data": {
      "text/plain": [
       "'https://www.ted.com/tedx/events?autocomplete_filter=New+Caledonia&year=2011&page=1&when=past'"
      ]
     },
     "metadata": {},
     "output_type": "display_data"
    },
    {
     "data": {
      "text/plain": [
       "'https://www.ted.com/tedx/events?autocomplete_filter=Myanmar&year=2020&page=2&when=past'"
      ]
     },
     "metadata": {},
     "output_type": "display_data"
    },
    {
     "data": {
      "text/plain": [
       "'https://www.ted.com/tedx/events?autocomplete_filter=New+Caledonia&year=2013&page=1&when=past'"
      ]
     },
     "metadata": {},
     "output_type": "display_data"
    },
    {
     "data": {
      "text/plain": [
       "'https://www.ted.com/tedx/events?autocomplete_filter=Myanmar&year=2017&page=1&when=past'"
      ]
     },
     "metadata": {},
     "output_type": "display_data"
    },
    {
     "data": {
      "text/plain": [
       "'https://www.ted.com/tedx/events?autocomplete_filter=New+Zealand&year=2017&page=1&when=past'"
      ]
     },
     "metadata": {},
     "output_type": "display_data"
    },
    {
     "data": {
      "text/plain": [
       "'https://www.ted.com/tedx/events?autocomplete_filter=Namibia&year=2016&page=1&when=past'"
      ]
     },
     "metadata": {},
     "output_type": "display_data"
    },
    {
     "data": {
      "text/plain": [
       "'https://www.ted.com/tedx/events?autocomplete_filter=New+Zealand&year=2018&page=1&when=past'"
      ]
     },
     "metadata": {},
     "output_type": "display_data"
    },
    {
     "data": {
      "text/plain": [
       "'https://www.ted.com/tedx/events?autocomplete_filter=Netherlands&year=2019&page=3&when=past'"
      ]
     },
     "metadata": {},
     "output_type": "display_data"
    },
    {
     "data": {
      "text/plain": [
       "'https://www.ted.com/tedx/events?autocomplete_filter=Netherlands&year=2012&page=1&when=past'"
      ]
     },
     "metadata": {},
     "output_type": "display_data"
    },
    {
     "data": {
      "text/plain": [
       "'https://www.ted.com/tedx/events?autocomplete_filter=New+Zealand&year=2015&page=1&when=past'"
      ]
     },
     "metadata": {},
     "output_type": "display_data"
    },
    {
     "data": {
      "text/plain": [
       "'https://www.ted.com/tedx/events?autocomplete_filter=Nauru&year=2010&page=1&when=past'"
      ]
     },
     "metadata": {},
     "output_type": "display_data"
    },
    {
     "data": {
      "text/plain": [
       "'https://www.ted.com/tedx/events?autocomplete_filter=Namibia&year=2019&page=1&when=past'"
      ]
     },
     "metadata": {},
     "output_type": "display_data"
    },
    {
     "data": {
      "text/plain": [
       "'https://www.ted.com/tedx/events?autocomplete_filter=New+Zealand&year=2014&page=1&when=past'"
      ]
     },
     "metadata": {},
     "output_type": "display_data"
    },
    {
     "data": {
      "text/plain": [
       "'https://www.ted.com/tedx/events?autocomplete_filter=Namibia&year=2020&page=1&when=past'"
      ]
     },
     "metadata": {},
     "output_type": "display_data"
    },
    {
     "data": {
      "text/plain": [
       "'https://www.ted.com/tedx/events?autocomplete_filter=Morocco&year=2015&page=1&when=past'"
      ]
     },
     "metadata": {},
     "output_type": "display_data"
    },
    {
     "data": {
      "text/plain": [
       "'https://www.ted.com/tedx/events?autocomplete_filter=Nicaragua&year=2020&page=1&when=past'"
      ]
     },
     "metadata": {},
     "output_type": "display_data"
    },
    {
     "data": {
      "text/plain": [
       "'https://www.ted.com/tedx/events?autocomplete_filter=Nauru&year=2020&page=1&when=past'"
      ]
     },
     "metadata": {},
     "output_type": "display_data"
    },
    {
     "data": {
      "text/plain": [
       "'https://www.ted.com/tedx/events?autocomplete_filter=Nauru&year=2011&page=1&when=past'"
      ]
     },
     "metadata": {},
     "output_type": "display_data"
    },
    {
     "data": {
      "text/plain": [
       "'https://www.ted.com/tedx/events?autocomplete_filter=New+Zealand&year=2016&page=1&when=past'"
      ]
     },
     "metadata": {},
     "output_type": "display_data"
    },
    {
     "data": {
      "text/plain": [
       "'https://www.ted.com/tedx/events?autocomplete_filter=Namibia&year=2016&page=2&when=past'"
      ]
     },
     "metadata": {},
     "output_type": "display_data"
    },
    {
     "data": {
      "text/plain": [
       "'https://www.ted.com/tedx/events?autocomplete_filter=New+Caledonia&year=2010&page=1&when=past'"
      ]
     },
     "metadata": {},
     "output_type": "display_data"
    },
    {
     "data": {
      "text/plain": [
       "'https://www.ted.com/tedx/events?autocomplete_filter=Nepal&year=2011&page=1&when=past'"
      ]
     },
     "metadata": {},
     "output_type": "display_data"
    },
    {
     "data": {
      "text/plain": [
       "'https://www.ted.com/tedx/events?autocomplete_filter=Netherlands&year=2011&page=1&when=past'"
      ]
     },
     "metadata": {},
     "output_type": "display_data"
    },
    {
     "data": {
      "text/plain": [
       "'https://www.ted.com/tedx/events?autocomplete_filter=Nepal&year=2013&page=1&when=past'"
      ]
     },
     "metadata": {},
     "output_type": "display_data"
    },
    {
     "data": {
      "text/plain": [
       "'https://www.ted.com/tedx/events?autocomplete_filter=New+Zealand&year=2018&page=2&when=past'"
      ]
     },
     "metadata": {},
     "output_type": "display_data"
    },
    {
     "data": {
      "text/plain": [
       "'https://www.ted.com/tedx/events?autocomplete_filter=New+Zealand&year=2013&page=1&when=past'"
      ]
     },
     "metadata": {},
     "output_type": "display_data"
    },
    {
     "data": {
      "text/plain": [
       "'https://www.ted.com/tedx/events?autocomplete_filter=Nicaragua&year=2020&page=2&when=past'"
      ]
     },
     "metadata": {},
     "output_type": "display_data"
    },
    {
     "data": {
      "text/plain": [
       "'https://www.ted.com/tedx/events?autocomplete_filter=Nepal&year=2014&page=1&when=past'"
      ]
     },
     "metadata": {},
     "output_type": "display_data"
    },
    {
     "data": {
      "text/plain": [
       "'https://www.ted.com/tedx/events?autocomplete_filter=Namibia&year=2019&page=2&when=past'"
      ]
     },
     "metadata": {},
     "output_type": "display_data"
    },
    {
     "data": {
      "text/plain": [
       "'https://www.ted.com/tedx/events?autocomplete_filter=Nauru&year=2019&page=1&when=past'"
      ]
     },
     "metadata": {},
     "output_type": "display_data"
    },
    {
     "data": {
      "text/plain": [
       "'https://www.ted.com/tedx/events?autocomplete_filter=Nepal&year=2011&page=2&when=past'"
      ]
     },
     "metadata": {},
     "output_type": "display_data"
    },
    {
     "data": {
      "text/plain": [
       "'https://www.ted.com/tedx/events?autocomplete_filter=Niger&year=2009&page=1&when=past'"
      ]
     },
     "metadata": {},
     "output_type": "display_data"
    },
    {
     "data": {
      "text/plain": [
       "'https://www.ted.com/tedx/events?autocomplete_filter=Nigeria&year=2011&page=1&when=past'"
      ]
     },
     "metadata": {},
     "output_type": "display_data"
    },
    {
     "data": {
      "text/plain": [
       "'https://www.ted.com/tedx/events?autocomplete_filter=Nepal&year=2013&page=2&when=past'"
      ]
     },
     "metadata": {},
     "output_type": "display_data"
    },
    {
     "data": {
      "text/plain": [
       "'https://www.ted.com/tedx/events?autocomplete_filter=New+Zealand&year=2014&page=2&when=past'"
      ]
     },
     "metadata": {},
     "output_type": "display_data"
    },
    {
     "data": {
      "text/plain": [
       "'https://www.ted.com/tedx/events?autocomplete_filter=Nepal&year=2010&page=1&when=past'"
      ]
     },
     "metadata": {},
     "output_type": "display_data"
    },
    {
     "data": {
      "text/plain": [
       "'https://www.ted.com/tedx/events?autocomplete_filter=Netherlands&year=2010&page=1&when=past'"
      ]
     },
     "metadata": {},
     "output_type": "display_data"
    },
    {
     "data": {
      "text/plain": [
       "'https://www.ted.com/tedx/events?autocomplete_filter=Nepal&year=2014&page=2&when=past'"
      ]
     },
     "metadata": {},
     "output_type": "display_data"
    },
    {
     "data": {
      "text/plain": [
       "'https://www.ted.com/tedx/events?autocomplete_filter=Netherlands&year=2014&page=1&when=past'"
      ]
     },
     "metadata": {},
     "output_type": "display_data"
    },
    {
     "data": {
      "text/plain": [
       "'https://www.ted.com/tedx/events?autocomplete_filter=Morocco&year=2015&page=2&when=past'"
      ]
     },
     "metadata": {},
     "output_type": "display_data"
    },
    {
     "data": {
      "text/plain": [
       "'https://www.ted.com/tedx/events?autocomplete_filter=Nicaragua&year=2017&page=1&when=past'"
      ]
     },
     "metadata": {},
     "output_type": "display_data"
    },
    {
     "data": {
      "text/plain": [
       "'https://www.ted.com/tedx/events?autocomplete_filter=Nigeria&year=2012&page=1&when=past'"
      ]
     },
     "metadata": {},
     "output_type": "display_data"
    },
    {
     "data": {
      "text/plain": [
       "'https://www.ted.com/tedx/events?autocomplete_filter=New+Zealand&year=2015&page=2&when=past'"
      ]
     },
     "metadata": {},
     "output_type": "display_data"
    },
    {
     "data": {
      "text/plain": [
       "'https://www.ted.com/tedx/events?autocomplete_filter=New+Zealand&year=2016&page=2&when=past'"
      ]
     },
     "metadata": {},
     "output_type": "display_data"
    },
    {
     "data": {
      "text/plain": [
       "'https://www.ted.com/tedx/events?autocomplete_filter=Netherlands&year=2016&page=1&when=past'"
      ]
     },
     "metadata": {},
     "output_type": "display_data"
    },
    {
     "data": {
      "text/plain": [
       "'https://www.ted.com/tedx/events?autocomplete_filter=Netherlands+Antilles&year=2013&page=1&when=past'"
      ]
     },
     "metadata": {},
     "output_type": "display_data"
    },
    {
     "data": {
      "text/plain": [
       "'https://www.ted.com/tedx/events?autocomplete_filter=Netherlands+Antilles&year=2017&page=1&when=past'"
      ]
     },
     "metadata": {},
     "output_type": "display_data"
    },
    {
     "data": {
      "text/plain": [
       "'https://www.ted.com/tedx/events?autocomplete_filter=Mozambique&year=2018&page=1&when=past'"
      ]
     },
     "metadata": {},
     "output_type": "display_data"
    },
    {
     "data": {
      "text/plain": [
       "'https://www.ted.com/tedx/events?autocomplete_filter=Niger&year=2020&page=1&when=past'"
      ]
     },
     "metadata": {},
     "output_type": "display_data"
    },
    {
     "data": {
      "text/plain": [
       "'https://www.ted.com/tedx/events?autocomplete_filter=Netherlands&year=2017&page=1&when=past'"
      ]
     },
     "metadata": {},
     "output_type": "display_data"
    },
    {
     "data": {
      "text/plain": [
       "'https://www.ted.com/tedx/events?autocomplete_filter=Nepal&year=2010&page=2&when=past'"
      ]
     },
     "metadata": {},
     "output_type": "display_data"
    },
    {
     "data": {
      "text/plain": [
       "'https://www.ted.com/tedx/events?autocomplete_filter=Netherlands&year=2015&page=2&when=past'"
      ]
     },
     "metadata": {},
     "output_type": "display_data"
    },
    {
     "data": {
      "text/plain": [
       "'https://www.ted.com/tedx/events?autocomplete_filter=Nigeria&year=2011&page=2&when=past'"
      ]
     },
     "metadata": {},
     "output_type": "display_data"
    },
    {
     "data": {
      "text/plain": [
       "'https://www.ted.com/tedx/events?autocomplete_filter=New+Caledonia&year=2020&page=1&when=past'"
      ]
     },
     "metadata": {},
     "output_type": "display_data"
    },
    {
     "data": {
      "text/plain": [
       "'https://www.ted.com/tedx/events?autocomplete_filter=New+Zealand&year=2013&page=2&when=past'"
      ]
     },
     "metadata": {},
     "output_type": "display_data"
    },
    {
     "data": {
      "text/plain": [
       "'https://www.ted.com/tedx/events?autocomplete_filter=Nicaragua&year=2018&page=1&when=past'"
      ]
     },
     "metadata": {},
     "output_type": "display_data"
    },
    {
     "data": {
      "text/plain": [
       "'https://www.ted.com/tedx/events?autocomplete_filter=Netherlands&year=2011&page=2&when=past'"
      ]
     },
     "metadata": {},
     "output_type": "display_data"
    },
    {
     "data": {
      "text/plain": [
       "'https://www.ted.com/tedx/events?autocomplete_filter=Netherlands&year=2013&page=1&when=past'"
      ]
     },
     "metadata": {},
     "output_type": "display_data"
    },
    {
     "data": {
      "text/plain": [
       "'https://www.ted.com/tedx/events?autocomplete_filter=New+Caledonia&year=2016&page=1&when=past'"
      ]
     },
     "metadata": {},
     "output_type": "display_data"
    },
    {
     "data": {
      "text/plain": [
       "'https://www.ted.com/tedx/events?autocomplete_filter=Nicaragua&year=2019&page=1&when=past'"
      ]
     },
     "metadata": {},
     "output_type": "display_data"
    },
    {
     "data": {
      "text/plain": [
       "'https://www.ted.com/tedx/events?autocomplete_filter=Nigeria&year=2012&page=2&when=past'"
      ]
     },
     "metadata": {},
     "output_type": "display_data"
    },
    {
     "data": {
      "text/plain": [
       "'https://www.ted.com/tedx/events?autocomplete_filter=Mozambique&year=2018&page=2&when=past'"
      ]
     },
     "metadata": {},
     "output_type": "display_data"
    },
    {
     "data": {
      "text/plain": [
       "'https://www.ted.com/tedx/events?autocomplete_filter=Niue&year=2014&page=1&when=past'"
      ]
     },
     "metadata": {},
     "output_type": "display_data"
    },
    {
     "data": {
      "text/plain": [
       "'https://www.ted.com/tedx/events?autocomplete_filter=Nicaragua&year=2011&page=1&when=past'"
      ]
     },
     "metadata": {},
     "output_type": "display_data"
    },
    {
     "data": {
      "text/plain": [
       "'https://www.ted.com/tedx/events?autocomplete_filter=Nicaragua&year=2016&page=1&when=past'"
      ]
     },
     "metadata": {},
     "output_type": "display_data"
    },
    {
     "data": {
      "text/plain": [
       "'https://www.ted.com/tedx/events?autocomplete_filter=Netherlands+Antilles&year=2014&page=1&when=past'"
      ]
     },
     "metadata": {},
     "output_type": "display_data"
    },
    {
     "data": {
      "text/plain": [
       "'https://www.ted.com/tedx/events?autocomplete_filter=Nicaragua&year=2018&page=2&when=past'"
      ]
     },
     "metadata": {},
     "output_type": "display_data"
    },
    {
     "data": {
      "text/plain": [
       "'https://www.ted.com/tedx/events?autocomplete_filter=New+Caledonia&year=2016&page=2&when=past'"
      ]
     },
     "metadata": {},
     "output_type": "display_data"
    },
    {
     "data": {
      "text/plain": [
       "'https://www.ted.com/tedx/events?autocomplete_filter=Nicaragua&year=2019&page=2&when=past'"
      ]
     },
     "metadata": {},
     "output_type": "display_data"
    },
    {
     "data": {
      "text/plain": [
       "'https://www.ted.com/tedx/events?autocomplete_filter=Netherlands&year=2012&page=2&when=past'"
      ]
     },
     "metadata": {},
     "output_type": "display_data"
    },
    {
     "data": {
      "text/plain": [
       "'https://www.ted.com/tedx/events?autocomplete_filter=Niue&year=2015&page=1&when=past'"
      ]
     },
     "metadata": {},
     "output_type": "display_data"
    },
    {
     "data": {
      "text/plain": [
       "'https://www.ted.com/tedx/events?autocomplete_filter=Norfolk+Island&year=2017&page=1&when=past'"
      ]
     },
     "metadata": {},
     "output_type": "display_data"
    },
    {
     "data": {
      "text/plain": [
       "'https://www.ted.com/tedx/events?autocomplete_filter=Namibia&year=2009&page=1&when=past'"
      ]
     },
     "metadata": {},
     "output_type": "display_data"
    },
    {
     "data": {
      "text/plain": [
       "'https://www.ted.com/tedx/events?autocomplete_filter=Niger&year=2014&page=1&when=past'"
      ]
     },
     "metadata": {},
     "output_type": "display_data"
    },
    {
     "data": {
      "text/plain": [
       "'https://www.ted.com/tedx/events?autocomplete_filter=New+Caledonia&year=2017&page=1&when=past'"
      ]
     },
     "metadata": {},
     "output_type": "display_data"
    },
    {
     "data": {
      "text/plain": [
       "'https://www.ted.com/tedx/events?autocomplete_filter=Nicaragua&year=2016&page=2&when=past'"
      ]
     },
     "metadata": {},
     "output_type": "display_data"
    },
    {
     "data": {
      "text/plain": [
       "'https://www.ted.com/tedx/events?autocomplete_filter=Netherlands+Antilles&year=2015&page=1&when=past'"
      ]
     },
     "metadata": {},
     "output_type": "display_data"
    },
    {
     "data": {
      "text/plain": [
       "'https://www.ted.com/tedx/events?autocomplete_filter=Nigeria&year=2009&page=1&when=past'"
      ]
     },
     "metadata": {},
     "output_type": "display_data"
    },
    {
     "data": {
      "text/plain": [
       "'https://www.ted.com/tedx/events?autocomplete_filter=New+Zealand&year=2019&page=1&when=past'"
      ]
     },
     "metadata": {},
     "output_type": "display_data"
    },
    {
     "data": {
      "text/plain": [
       "'https://www.ted.com/tedx/events?autocomplete_filter=Nigeria&year=2010&page=1&when=past'"
      ]
     },
     "metadata": {},
     "output_type": "display_data"
    },
    {
     "data": {
      "text/plain": [
       "'https://www.ted.com/tedx/events?autocomplete_filter=Norfolk+Island&year=2018&page=1&when=past'"
      ]
     },
     "metadata": {},
     "output_type": "display_data"
    },
    {
     "data": {
      "text/plain": [
       "'https://www.ted.com/tedx/events?autocomplete_filter=Nauru&year=2012&page=1&when=past'"
      ]
     },
     "metadata": {},
     "output_type": "display_data"
    },
    {
     "data": {
      "text/plain": [
       "'https://www.ted.com/tedx/events?autocomplete_filter=Northern+Mariana+Islands&year=2020&page=1&when=past'"
      ]
     },
     "metadata": {},
     "output_type": "display_data"
    },
    {
     "data": {
      "text/plain": [
       "'https://www.ted.com/tedx/events?autocomplete_filter=Netherlands&year=2015&page=3&when=past'"
      ]
     },
     "metadata": {},
     "output_type": "display_data"
    },
    {
     "data": {
      "text/plain": [
       "'https://www.ted.com/tedx/events?autocomplete_filter=Niger&year=2019&page=1&when=past'"
      ]
     },
     "metadata": {},
     "output_type": "display_data"
    },
    {
     "data": {
      "text/plain": [
       "'https://www.ted.com/tedx/events?autocomplete_filter=Niue&year=2012&page=1&when=past'"
      ]
     },
     "metadata": {},
     "output_type": "display_data"
    },
    {
     "data": {
      "text/plain": [
       "'https://www.ted.com/tedx/events?autocomplete_filter=Niger&year=2020&page=2&when=past'"
      ]
     },
     "metadata": {},
     "output_type": "display_data"
    },
    {
     "data": {
      "text/plain": [
       "'https://www.ted.com/tedx/events?autocomplete_filter=New+Caledonia&year=2018&page=1&when=past'"
      ]
     },
     "metadata": {},
     "output_type": "display_data"
    },
    {
     "data": {
      "text/plain": [
       "'https://www.ted.com/tedx/events?autocomplete_filter=Norway&year=2009&page=1&when=past'"
      ]
     },
     "metadata": {},
     "output_type": "display_data"
    },
    {
     "data": {
      "text/plain": [
       "'https://www.ted.com/tedx/events?autocomplete_filter=New+Caledonia&year=2017&page=2&when=past'"
      ]
     },
     "metadata": {},
     "output_type": "display_data"
    },
    {
     "data": {
      "text/plain": [
       "'https://www.ted.com/tedx/events?autocomplete_filter=Oman&year=2011&page=1&when=past'"
      ]
     },
     "metadata": {},
     "output_type": "display_data"
    },
    {
     "data": {
      "text/plain": [
       "'https://www.ted.com/tedx/events?autocomplete_filter=Nepal&year=2015&page=1&when=past'"
      ]
     },
     "metadata": {},
     "output_type": "display_data"
    },
    {
     "data": {
      "text/plain": [
       "'https://www.ted.com/tedx/events?autocomplete_filter=Netherlands+Antilles&year=2018&page=1&when=past'"
      ]
     },
     "metadata": {},
     "output_type": "display_data"
    },
    {
     "data": {
      "text/plain": [
       "'https://www.ted.com/tedx/events?autocomplete_filter=Nigeria&year=2010&page=2&when=past'"
      ]
     },
     "metadata": {},
     "output_type": "display_data"
    },
    {
     "data": {
      "text/plain": [
       "'https://www.ted.com/tedx/events?autocomplete_filter=Niue&year=2011&page=1&when=past'"
      ]
     },
     "metadata": {},
     "output_type": "display_data"
    },
    {
     "data": {
      "text/plain": [
       "'https://www.ted.com/tedx/events?autocomplete_filter=Norfolk+Island&year=2015&page=1&when=past'"
      ]
     },
     "metadata": {},
     "output_type": "display_data"
    },
    {
     "data": {
      "text/plain": [
       "'https://www.ted.com/tedx/events?autocomplete_filter=Niger&year=2014&page=2&when=past'"
      ]
     },
     "metadata": {},
     "output_type": "display_data"
    },
    {
     "data": {
      "text/plain": [
       "'https://www.ted.com/tedx/events?autocomplete_filter=Oman&year=2012&page=1&when=past'"
      ]
     },
     "metadata": {},
     "output_type": "display_data"
    },
    {
     "data": {
      "text/plain": [
       "'https://www.ted.com/tedx/events?autocomplete_filter=Oman&year=2011&page=2&when=past'"
      ]
     },
     "metadata": {},
     "output_type": "display_data"
    },
    {
     "data": {
      "text/plain": [
       "'https://www.ted.com/tedx/events?autocomplete_filter=New+Zealand&year=2020&page=1&when=past'"
      ]
     },
     "metadata": {},
     "output_type": "display_data"
    },
    {
     "data": {
      "text/plain": [
       "'https://www.ted.com/tedx/events?autocomplete_filter=New+Caledonia&year=2018&page=2&when=past'"
      ]
     },
     "metadata": {},
     "output_type": "display_data"
    },
    {
     "data": {
      "text/plain": [
       "'https://www.ted.com/tedx/events?autocomplete_filter=New+Zealand&year=2009&page=1&when=past'"
      ]
     },
     "metadata": {},
     "output_type": "display_data"
    },
    {
     "data": {
      "text/plain": [
       "'https://www.ted.com/tedx/events?autocomplete_filter=Niue&year=2013&page=1&when=past'"
      ]
     },
     "metadata": {},
     "output_type": "display_data"
    },
    {
     "data": {
      "text/plain": [
       "'https://www.ted.com/tedx/events?autocomplete_filter=Norfolk+Island&year=2014&page=1&when=past'"
      ]
     },
     "metadata": {},
     "output_type": "display_data"
    },
    {
     "data": {
      "text/plain": [
       "'https://www.ted.com/tedx/events?autocomplete_filter=Northern+Mariana+Islands&year=2018&page=1&when=past'"
      ]
     },
     "metadata": {},
     "output_type": "display_data"
    },
    {
     "data": {
      "text/plain": [
       "'https://www.ted.com/tedx/events?autocomplete_filter=Nigeria&year=2017&page=1&when=past'"
      ]
     },
     "metadata": {},
     "output_type": "display_data"
    },
    {
     "data": {
      "text/plain": [
       "'https://www.ted.com/tedx/events?autocomplete_filter=New+Zealand&year=2019&page=2&when=past'"
      ]
     },
     "metadata": {},
     "output_type": "display_data"
    },
    {
     "data": {
      "text/plain": [
       "'https://www.ted.com/tedx/events?autocomplete_filter=Nepal&year=2015&page=2&when=past'"
      ]
     },
     "metadata": {},
     "output_type": "display_data"
    },
    {
     "data": {
      "text/plain": [
       "'https://www.ted.com/tedx/events?autocomplete_filter=Oman&year=2012&page=2&when=past'"
      ]
     },
     "metadata": {},
     "output_type": "display_data"
    },
    {
     "data": {
      "text/plain": [
       "'https://www.ted.com/tedx/events?autocomplete_filter=Netherlands&year=2016&page=2&when=past'"
      ]
     },
     "metadata": {},
     "output_type": "display_data"
    },
    {
     "data": {
      "text/plain": [
       "'https://www.ted.com/tedx/events?autocomplete_filter=Netherlands&year=2017&page=2&when=past'"
      ]
     },
     "metadata": {},
     "output_type": "display_data"
    },
    {
     "data": {
      "text/plain": [
       "'https://www.ted.com/tedx/events?autocomplete_filter=Pakistan&year=2014&page=1&when=past'"
      ]
     },
     "metadata": {},
     "output_type": "display_data"
    },
    {
     "data": {
      "text/plain": [
       "'https://www.ted.com/tedx/events?autocomplete_filter=Norfolk+Island&year=2016&page=1&when=past'"
      ]
     },
     "metadata": {},
     "output_type": "display_data"
    },
    {
     "data": {
      "text/plain": [
       "'https://www.ted.com/tedx/events?autocomplete_filter=Northern+Mariana+Islands&year=2017&page=1&when=past'"
      ]
     },
     "metadata": {},
     "output_type": "display_data"
    },
    {
     "data": {
      "text/plain": [
       "'https://www.ted.com/tedx/events?autocomplete_filter=Nicaragua&year=2009&page=1&when=past'"
      ]
     },
     "metadata": {},
     "output_type": "display_data"
    },
    {
     "data": {
      "text/plain": [
       "'https://www.ted.com/tedx/events?autocomplete_filter=Oman&year=2009&page=1&when=past'"
      ]
     },
     "metadata": {},
     "output_type": "display_data"
    },
    {
     "data": {
      "text/plain": [
       "'https://www.ted.com/tedx/events?autocomplete_filter=New+Zealand&year=2020&page=2&when=past'"
      ]
     },
     "metadata": {},
     "output_type": "display_data"
    },
    {
     "data": {
      "text/plain": [
       "'https://www.ted.com/tedx/events?autocomplete_filter=Netherlands&year=2013&page=2&when=past'"
      ]
     },
     "metadata": {},
     "output_type": "display_data"
    },
    {
     "data": {
      "text/plain": [
       "'https://www.ted.com/tedx/events?autocomplete_filter=Niger&year=2010&page=1&when=past'"
      ]
     },
     "metadata": {},
     "output_type": "display_data"
    },
    {
     "data": {
      "text/plain": [
       "'https://www.ted.com/tedx/events?autocomplete_filter=New+Zealand&year=2009&page=2&when=past'"
      ]
     },
     "metadata": {},
     "output_type": "display_data"
    },
    {
     "data": {
      "text/plain": [
       "'https://www.ted.com/tedx/events?autocomplete_filter=Pakistan&year=2015&page=1&when=past'"
      ]
     },
     "metadata": {},
     "output_type": "display_data"
    },
    {
     "data": {
      "text/plain": [
       "'https://www.ted.com/tedx/events?autocomplete_filter=Netherlands&year=2018&page=1&when=past'"
      ]
     },
     "metadata": {},
     "output_type": "display_data"
    },
    {
     "data": {
      "text/plain": [
       "'https://www.ted.com/tedx/events?autocomplete_filter=Niger&year=2019&page=2&when=past'"
      ]
     },
     "metadata": {},
     "output_type": "display_data"
    },
    {
     "data": {
      "text/plain": [
       "'https://www.ted.com/tedx/events?autocomplete_filter=Netherlands&year=2017&page=3&when=past'"
      ]
     },
     "metadata": {},
     "output_type": "display_data"
    },
    {
     "data": {
      "text/plain": [
       "'https://www.ted.com/tedx/events?autocomplete_filter=Niger&year=2012&page=1&when=past'"
      ]
     },
     "metadata": {},
     "output_type": "display_data"
    },
    {
     "data": {
      "text/plain": [
       "'https://www.ted.com/tedx/events?autocomplete_filter=Nicaragua&year=2012&page=1&when=past'"
      ]
     },
     "metadata": {},
     "output_type": "display_data"
    },
    {
     "data": {
      "text/plain": [
       "'https://www.ted.com/tedx/events?autocomplete_filter=Pakistan&year=2012&page=1&when=past'"
      ]
     },
     "metadata": {},
     "output_type": "display_data"
    },
    {
     "data": {
      "text/plain": [
       "'https://www.ted.com/tedx/events?autocomplete_filter=Northern+Mariana+Islands&year=2019&page=1&when=past'"
      ]
     },
     "metadata": {},
     "output_type": "display_data"
    },
    {
     "data": {
      "text/plain": [
       "'https://www.ted.com/tedx/events?autocomplete_filter=Niger&year=2011&page=1&when=past'"
      ]
     },
     "metadata": {},
     "output_type": "display_data"
    },
    {
     "data": {
      "text/plain": [
       "'https://www.ted.com/tedx/events?autocomplete_filter=Norway&year=2020&page=1&when=past'"
      ]
     },
     "metadata": {},
     "output_type": "display_data"
    },
    {
     "data": {
      "text/plain": [
       "'https://www.ted.com/tedx/events?autocomplete_filter=Niger&year=2019&page=3&when=past'"
      ]
     },
     "metadata": {},
     "output_type": "display_data"
    },
    {
     "data": {
      "text/plain": [
       "'https://www.ted.com/tedx/events?autocomplete_filter=Niger&year=2010&page=2&when=past'"
      ]
     },
     "metadata": {},
     "output_type": "display_data"
    },
    {
     "data": {
      "text/plain": [
       "'https://www.ted.com/tedx/events?autocomplete_filter=Netherlands+Antilles&year=2020&page=1&when=past'"
      ]
     },
     "metadata": {},
     "output_type": "display_data"
    },
    {
     "data": {
      "text/plain": [
       "'https://www.ted.com/tedx/events?autocomplete_filter=Oman&year=2010&page=1&when=past'"
      ]
     },
     "metadata": {},
     "output_type": "display_data"
    },
    {
     "data": {
      "text/plain": [
       "'https://www.ted.com/tedx/events?autocomplete_filter=Nicaragua&year=2012&page=2&when=past'"
      ]
     },
     "metadata": {},
     "output_type": "display_data"
    },
    {
     "data": {
      "text/plain": [
       "'https://www.ted.com/tedx/events?autocomplete_filter=Niue&year=2010&page=1&when=past'"
      ]
     },
     "metadata": {},
     "output_type": "display_data"
    },
    {
     "data": {
      "text/plain": [
       "'https://www.ted.com/tedx/events?autocomplete_filter=Nigeria&year=2013&page=1&when=past'"
      ]
     },
     "metadata": {},
     "output_type": "display_data"
    },
    {
     "data": {
      "text/plain": [
       "'https://www.ted.com/tedx/events?autocomplete_filter=New+Zealand&year=2011&page=1&when=past'"
      ]
     },
     "metadata": {},
     "output_type": "display_data"
    },
    {
     "data": {
      "text/plain": [
       "'https://www.ted.com/tedx/events?autocomplete_filter=Norway&year=2020&page=2&when=past'"
      ]
     },
     "metadata": {},
     "output_type": "display_data"
    },
    {
     "data": {
      "text/plain": [
       "'https://www.ted.com/tedx/events?autocomplete_filter=Niger&year=2011&page=2&when=past'"
      ]
     },
     "metadata": {},
     "output_type": "display_data"
    },
    {
     "data": {
      "text/plain": [
       "'https://www.ted.com/tedx/events?autocomplete_filter=Nigeria&year=2017&page=2&when=past'"
      ]
     },
     "metadata": {},
     "output_type": "display_data"
    },
    {
     "data": {
      "text/plain": [
       "'https://www.ted.com/tedx/events?autocomplete_filter=Pakistan&year=2013&page=1&when=past'"
      ]
     },
     "metadata": {},
     "output_type": "display_data"
    },
    {
     "data": {
      "text/plain": [
       "'https://www.ted.com/tedx/events?autocomplete_filter=Pakistan&year=2015&page=2&when=past'"
      ]
     },
     "metadata": {},
     "output_type": "display_data"
    },
    {
     "data": {
      "text/plain": [
       "'https://www.ted.com/tedx/events?autocomplete_filter=Netherlands&year=2013&page=3&when=past'"
      ]
     },
     "metadata": {},
     "output_type": "display_data"
    },
    {
     "data": {
      "text/plain": [
       "'https://www.ted.com/tedx/events?autocomplete_filter=Norfolk+Island&year=2013&page=1&when=past'"
      ]
     },
     "metadata": {},
     "output_type": "display_data"
    },
    {
     "data": {
      "text/plain": [
       "'https://www.ted.com/tedx/events?autocomplete_filter=Niger&year=2015&page=1&when=past'"
      ]
     },
     "metadata": {},
     "output_type": "display_data"
    },
    {
     "data": {
      "text/plain": [
       "'https://www.ted.com/tedx/events?autocomplete_filter=Netherlands&year=2016&page=3&when=past'"
      ]
     },
     "metadata": {},
     "output_type": "display_data"
    },
    {
     "data": {
      "text/plain": [
       "'https://www.ted.com/tedx/events?autocomplete_filter=Pakistan&year=2011&page=1&when=past'"
      ]
     },
     "metadata": {},
     "output_type": "display_data"
    },
    {
     "data": {
      "text/plain": [
       "'https://www.ted.com/tedx/events?autocomplete_filter=Niger&year=2012&page=2&when=past'"
      ]
     },
     "metadata": {},
     "output_type": "display_data"
    },
    {
     "data": {
      "text/plain": [
       "'https://www.ted.com/tedx/events?autocomplete_filter=Nigeria&year=2014&page=1&when=past'"
      ]
     },
     "metadata": {},
     "output_type": "display_data"
    },
    {
     "data": {
      "text/plain": [
       "'https://www.ted.com/tedx/events?autocomplete_filter=Pakistan&year=2014&page=2&when=past'"
      ]
     },
     "metadata": {},
     "output_type": "display_data"
    },
    {
     "data": {
      "text/plain": [
       "'https://www.ted.com/tedx/events?autocomplete_filter=New+Zealand&year=2011&page=2&when=past'"
      ]
     },
     "metadata": {},
     "output_type": "display_data"
    },
    {
     "data": {
      "text/plain": [
       "'https://www.ted.com/tedx/events?autocomplete_filter=Niue&year=2020&page=1&when=past'"
      ]
     },
     "metadata": {},
     "output_type": "display_data"
    },
    {
     "data": {
      "text/plain": [
       "'https://www.ted.com/tedx/events?autocomplete_filter=Palau&year=2018&page=1&when=past'"
      ]
     },
     "metadata": {},
     "output_type": "display_data"
    },
    {
     "data": {
      "text/plain": [
       "'https://www.ted.com/tedx/events?autocomplete_filter=Netherlands+Antilles&year=2016&page=1&when=past'"
      ]
     },
     "metadata": {},
     "output_type": "display_data"
    },
    {
     "data": {
      "text/plain": [
       "'https://www.ted.com/tedx/events?autocomplete_filter=Northern+Mariana+Islands&year=2016&page=1&when=past'"
      ]
     },
     "metadata": {},
     "output_type": "display_data"
    },
    {
     "data": {
      "text/plain": [
       "'https://www.ted.com/tedx/events?autocomplete_filter=Netherlands+Antilles&year=2019&page=1&when=past'"
      ]
     },
     "metadata": {},
     "output_type": "display_data"
    },
    {
     "data": {
      "text/plain": [
       "'https://www.ted.com/tedx/events?autocomplete_filter=Nigeria&year=2015&page=1&when=past'"
      ]
     },
     "metadata": {},
     "output_type": "display_data"
    },
    {
     "data": {
      "text/plain": [
       "'https://www.ted.com/tedx/events?autocomplete_filter=Palau&year=2017&page=1&when=past'"
      ]
     },
     "metadata": {},
     "output_type": "display_data"
    },
    {
     "data": {
      "text/plain": [
       "'https://www.ted.com/tedx/events?autocomplete_filter=Northern+Mariana+Islands&year=2011&page=1&when=past'"
      ]
     },
     "metadata": {},
     "output_type": "display_data"
    },
    {
     "data": {
      "text/plain": [
       "'https://www.ted.com/tedx/events?autocomplete_filter=Nicaragua&year=2014&page=1&when=past'"
      ]
     },
     "metadata": {},
     "output_type": "display_data"
    },
    {
     "data": {
      "text/plain": [
       "'https://www.ted.com/tedx/events?autocomplete_filter=Nigeria&year=2013&page=2&when=past'"
      ]
     },
     "metadata": {},
     "output_type": "display_data"
    },
    {
     "data": {
      "text/plain": [
       "'https://www.ted.com/tedx/events?autocomplete_filter=Panama&year=2009&page=1&when=past'"
      ]
     },
     "metadata": {},
     "output_type": "display_data"
    },
    {
     "data": {
      "text/plain": [
       "'https://www.ted.com/tedx/events?autocomplete_filter=New+Caledonia&year=2019&page=1&when=past'"
      ]
     },
     "metadata": {},
     "output_type": "display_data"
    },
    {
     "data": {
      "text/plain": [
       "'https://www.ted.com/tedx/events?autocomplete_filter=Norway&year=2019&page=1&when=past'"
      ]
     },
     "metadata": {},
     "output_type": "display_data"
    },
    {
     "data": {
      "text/plain": [
       "'https://www.ted.com/tedx/events?autocomplete_filter=Netherlands&year=2018&page=2&when=past'"
      ]
     },
     "metadata": {},
     "output_type": "display_data"
    },
    {
     "data": {
      "text/plain": [
       "'https://www.ted.com/tedx/events?autocomplete_filter=Pakistan&year=2012&page=2&when=past'"
      ]
     },
     "metadata": {},
     "output_type": "display_data"
    },
    {
     "data": {
      "text/plain": [
       "'https://www.ted.com/tedx/events?autocomplete_filter=New+Zealand&year=2010&page=1&when=past'"
      ]
     },
     "metadata": {},
     "output_type": "display_data"
    },
    {
     "data": {
      "text/plain": [
       "'https://www.ted.com/tedx/events?autocomplete_filter=Palestinian+Territory,+Occupied&year=2020&page=1&when=past'"
      ]
     },
     "metadata": {},
     "output_type": "display_data"
    },
    {
     "data": {
      "text/plain": [
       "'https://www.ted.com/tedx/events?autocomplete_filter=Norway&year=2014&page=1&when=past'"
      ]
     },
     "metadata": {},
     "output_type": "display_data"
    },
    {
     "data": {
      "text/plain": [
       "'https://www.ted.com/tedx/events?autocomplete_filter=Niger&year=2015&page=2&when=past'"
      ]
     },
     "metadata": {},
     "output_type": "display_data"
    },
    {
     "data": {
      "text/plain": [
       "'https://www.ted.com/tedx/events?autocomplete_filter=Nigeria&year=2014&page=2&when=past'"
      ]
     },
     "metadata": {},
     "output_type": "display_data"
    },
    {
     "data": {
      "text/plain": [
       "'https://www.ted.com/tedx/events?autocomplete_filter=Nicaragua&year=2014&page=2&when=past'"
      ]
     },
     "metadata": {},
     "output_type": "display_data"
    },
    {
     "data": {
      "text/plain": [
       "'https://www.ted.com/tedx/events?autocomplete_filter=Niue&year=2016&page=1&when=past'"
      ]
     },
     "metadata": {},
     "output_type": "display_data"
    },
    {
     "data": {
      "text/plain": [
       "'https://www.ted.com/tedx/events?autocomplete_filter=Papua+New+Guinea&year=2012&page=1&when=past'"
      ]
     },
     "metadata": {},
     "output_type": "display_data"
    },
    {
     "data": {
      "text/plain": [
       "'https://www.ted.com/tedx/events?autocomplete_filter=Nicaragua&year=2010&page=1&when=past'"
      ]
     },
     "metadata": {},
     "output_type": "display_data"
    },
    {
     "data": {
      "text/plain": [
       "'https://www.ted.com/tedx/events?autocomplete_filter=Pakistan&year=2011&page=2&when=past'"
      ]
     },
     "metadata": {},
     "output_type": "display_data"
    },
    {
     "data": {
      "text/plain": [
       "'https://www.ted.com/tedx/events?autocomplete_filter=New+Caledonia&year=2009&page=1&when=past'"
      ]
     },
     "metadata": {},
     "output_type": "display_data"
    },
    {
     "data": {
      "text/plain": [
       "'https://www.ted.com/tedx/events?autocomplete_filter=Palau&year=2015&page=1&when=past'"
      ]
     },
     "metadata": {},
     "output_type": "display_data"
    },
    {
     "data": {
      "text/plain": [
       "'https://www.ted.com/tedx/events?autocomplete_filter=New+Zealand&year=2010&page=2&when=past'"
      ]
     },
     "metadata": {},
     "output_type": "display_data"
    },
    {
     "data": {
      "text/plain": [
       "'https://www.ted.com/tedx/events?autocomplete_filter=Nigeria&year=2015&page=2&when=past'"
      ]
     },
     "metadata": {},
     "output_type": "display_data"
    },
    {
     "data": {
      "text/plain": [
       "'https://www.ted.com/tedx/events?autocomplete_filter=Papua+New+Guinea&year=2011&page=1&when=past'"
      ]
     },
     "metadata": {},
     "output_type": "display_data"
    },
    {
     "data": {
      "text/plain": [
       "'https://www.ted.com/tedx/events?autocomplete_filter=Nigeria&year=2018&page=1&when=past'"
      ]
     },
     "metadata": {},
     "output_type": "display_data"
    },
    {
     "data": {
      "text/plain": [
       "'https://www.ted.com/tedx/events?autocomplete_filter=Norway&year=2019&page=2&when=past'"
      ]
     },
     "metadata": {},
     "output_type": "display_data"
    },
    {
     "data": {
      "text/plain": [
       "'https://www.ted.com/tedx/events?autocomplete_filter=Niue&year=2017&page=1&when=past'"
      ]
     },
     "metadata": {},
     "output_type": "display_data"
    },
    {
     "data": {
      "text/plain": [
       "'https://www.ted.com/tedx/events?autocomplete_filter=Pakistan&year=2013&page=2&when=past'"
      ]
     },
     "metadata": {},
     "output_type": "display_data"
    },
    {
     "data": {
      "text/plain": [
       "'https://www.ted.com/tedx/events?autocomplete_filter=Norfolk+Island&year=2019&page=1&when=past'"
      ]
     },
     "metadata": {},
     "output_type": "display_data"
    },
    {
     "data": {
      "text/plain": [
       "'https://www.ted.com/tedx/events?autocomplete_filter=Palau&year=2014&page=1&when=past'"
      ]
     },
     "metadata": {},
     "output_type": "display_data"
    },
    {
     "data": {
      "text/plain": [
       "'https://www.ted.com/tedx/events?autocomplete_filter=Niger&year=2017&page=1&when=past'"
      ]
     },
     "metadata": {},
     "output_type": "display_data"
    },
    {
     "data": {
      "text/plain": [
       "'https://www.ted.com/tedx/events?autocomplete_filter=New+Zealand&year=2012&page=1&when=past'"
      ]
     },
     "metadata": {},
     "output_type": "display_data"
    },
    {
     "data": {
      "text/plain": [
       "'https://www.ted.com/tedx/events?autocomplete_filter=Paraguay&year=2015&page=1&when=past'"
      ]
     },
     "metadata": {},
     "output_type": "display_data"
    },
    {
     "data": {
      "text/plain": [
       "'https://www.ted.com/tedx/events?autocomplete_filter=Niger&year=2013&page=1&when=past'"
      ]
     },
     "metadata": {},
     "output_type": "display_data"
    },
    {
     "data": {
      "text/plain": [
       "'https://www.ted.com/tedx/events?autocomplete_filter=Palestinian+Territory,+Occupied&year=2018&page=1&when=past'"
      ]
     },
     "metadata": {},
     "output_type": "display_data"
    },
    {
     "data": {
      "text/plain": [
       "'https://www.ted.com/tedx/events?autocomplete_filter=Nicaragua&year=2013&page=1&when=past'"
      ]
     },
     "metadata": {},
     "output_type": "display_data"
    },
    {
     "data": {
      "text/plain": [
       "'https://www.ted.com/tedx/events?autocomplete_filter=Norway&year=2014&page=2&when=past'"
      ]
     },
     "metadata": {},
     "output_type": "display_data"
    },
    {
     "data": {
      "text/plain": [
       "'https://www.ted.com/tedx/events?autocomplete_filter=Niue&year=2018&page=1&when=past'"
      ]
     },
     "metadata": {},
     "output_type": "display_data"
    },
    {
     "data": {
      "text/plain": [
       "'https://www.ted.com/tedx/events?autocomplete_filter=Norfolk+Island&year=2020&page=1&when=past'"
      ]
     },
     "metadata": {},
     "output_type": "display_data"
    },
    {
     "data": {
      "text/plain": [
       "'https://www.ted.com/tedx/events?autocomplete_filter=Paraguay&year=2014&page=1&when=past'"
      ]
     },
     "metadata": {},
     "output_type": "display_data"
    },
    {
     "data": {
      "text/plain": [
       "'https://www.ted.com/tedx/events?autocomplete_filter=Nigeria&year=2016&page=1&when=past'"
      ]
     },
     "metadata": {},
     "output_type": "display_data"
    },
    {
     "data": {
      "text/plain": [
       "'https://www.ted.com/tedx/events?autocomplete_filter=Nigeria&year=2020&page=1&when=past'"
      ]
     },
     "metadata": {},
     "output_type": "display_data"
    },
    {
     "data": {
      "text/plain": [
       "'https://www.ted.com/tedx/events?autocomplete_filter=Palau&year=2016&page=1&when=past'"
      ]
     },
     "metadata": {},
     "output_type": "display_data"
    },
    {
     "data": {
      "text/plain": [
       "'https://www.ted.com/tedx/events?autocomplete_filter=Oman&year=2017&page=1&when=past'"
      ]
     },
     "metadata": {},
     "output_type": "display_data"
    },
    {
     "data": {
      "text/plain": [
       "'https://www.ted.com/tedx/events?autocomplete_filter=Pakistan&year=2010&page=1&when=past'"
      ]
     },
     "metadata": {},
     "output_type": "display_data"
    },
    {
     "data": {
      "text/plain": [
       "'https://www.ted.com/tedx/events?autocomplete_filter=Norway&year=2010&page=1&when=past'"
      ]
     },
     "metadata": {},
     "output_type": "display_data"
    },
    {
     "data": {
      "text/plain": [
       "'https://www.ted.com/tedx/events?autocomplete_filter=Palestinian+Territory,+Occupied&year=2017&page=1&when=past'"
      ]
     },
     "metadata": {},
     "output_type": "display_data"
    },
    {
     "data": {
      "text/plain": [
       "'https://www.ted.com/tedx/events?autocomplete_filter=Norway&year=2011&page=1&when=past'"
      ]
     },
     "metadata": {},
     "output_type": "display_data"
    },
    {
     "data": {
      "text/plain": [
       "'https://www.ted.com/tedx/events?autocomplete_filter=Peru&year=2018&page=1&when=past'"
      ]
     },
     "metadata": {},
     "output_type": "display_data"
    },
    {
     "data": {
      "text/plain": [
       "'https://www.ted.com/tedx/events?autocomplete_filter=Papua+New+Guinea&year=2009&page=1&when=past'"
      ]
     },
     "metadata": {},
     "output_type": "display_data"
    },
    {
     "data": {
      "text/plain": [
       "'https://www.ted.com/tedx/events?autocomplete_filter=Norfolk+Island&year=2011&page=1&when=past'"
      ]
     },
     "metadata": {},
     "output_type": "display_data"
    },
    {
     "data": {
      "text/plain": [
       "'https://www.ted.com/tedx/events?autocomplete_filter=Northern+Mariana+Islands&year=2009&page=1&when=past'"
      ]
     },
     "metadata": {},
     "output_type": "display_data"
    },
    {
     "data": {
      "text/plain": [
       "'https://www.ted.com/tedx/events?autocomplete_filter=Pakistan&year=2020&page=1&when=past'"
      ]
     },
     "metadata": {},
     "output_type": "display_data"
    },
    {
     "data": {
      "text/plain": [
       "'https://www.ted.com/tedx/events?autocomplete_filter=Palestinian+Territory,+Occupied&year=2019&page=1&when=past'"
      ]
     },
     "metadata": {},
     "output_type": "display_data"
    },
    {
     "data": {
      "text/plain": [
       "'https://www.ted.com/tedx/events?autocomplete_filter=Palau&year=2013&page=1&when=past'"
      ]
     },
     "metadata": {},
     "output_type": "display_data"
    },
    {
     "data": {
      "text/plain": [
       "'https://www.ted.com/tedx/events?autocomplete_filter=Nicaragua&year=2013&page=2&when=past'"
      ]
     },
     "metadata": {},
     "output_type": "display_data"
    },
    {
     "data": {
      "text/plain": [
       "'https://www.ted.com/tedx/events?autocomplete_filter=Peru&year=2017&page=1&when=past'"
      ]
     },
     "metadata": {},
     "output_type": "display_data"
    },
    {
     "data": {
      "text/plain": [
       "'https://www.ted.com/tedx/events?autocomplete_filter=New+Zealand&year=2012&page=2&when=past'"
      ]
     },
     "metadata": {},
     "output_type": "display_data"
    },
    {
     "data": {
      "text/plain": [
       "'https://www.ted.com/tedx/events?autocomplete_filter=Oman&year=2014&page=1&when=past'"
      ]
     },
     "metadata": {},
     "output_type": "display_data"
    },
    {
     "data": {
      "text/plain": [
       "'https://www.ted.com/tedx/events?autocomplete_filter=Panama&year=2020&page=1&when=past'"
      ]
     },
     "metadata": {},
     "output_type": "display_data"
    },
    {
     "data": {
      "text/plain": [
       "'https://www.ted.com/tedx/events?autocomplete_filter=Pitcairn&year=2009&page=1&when=past'"
      ]
     },
     "metadata": {},
     "output_type": "display_data"
    },
    {
     "data": {
      "text/plain": [
       "'https://www.ted.com/tedx/events?autocomplete_filter=Northern+Mariana+Islands&year=2014&page=1&when=past'"
      ]
     },
     "metadata": {},
     "output_type": "display_data"
    },
    {
     "data": {
      "text/plain": [
       "'https://www.ted.com/tedx/events?autocomplete_filter=Norway&year=2012&page=1&when=past'"
      ]
     },
     "metadata": {},
     "output_type": "display_data"
    },
    {
     "data": {
      "text/plain": [
       "'https://www.ted.com/tedx/events?autocomplete_filter=Norway&year=2010&page=2&when=past'"
      ]
     },
     "metadata": {},
     "output_type": "display_data"
    },
    {
     "data": {
      "text/plain": [
       "'https://www.ted.com/tedx/events?autocomplete_filter=Paraguay&year=2012&page=1&when=past'"
      ]
     },
     "metadata": {},
     "output_type": "display_data"
    },
    {
     "data": {
      "text/plain": [
       "'https://www.ted.com/tedx/events?autocomplete_filter=Palestinian+Territory,+Occupied&year=2011&page=1&when=past'"
      ]
     },
     "metadata": {},
     "output_type": "display_data"
    },
    {
     "data": {
      "text/plain": [
       "'https://www.ted.com/tedx/events?autocomplete_filter=Niger&year=2016&page=1&when=past'"
      ]
     },
     "metadata": {},
     "output_type": "display_data"
    },
    {
     "data": {
      "text/plain": [
       "'https://www.ted.com/tedx/events?autocomplete_filter=Philippines&year=2020&page=1&when=past'"
      ]
     },
     "metadata": {},
     "output_type": "display_data"
    },
    {
     "data": {
      "text/plain": [
       "'https://www.ted.com/tedx/events?autocomplete_filter=Nigeria&year=2016&page=2&when=past'"
      ]
     },
     "metadata": {},
     "output_type": "display_data"
    },
    {
     "data": {
      "text/plain": [
       "'https://www.ted.com/tedx/events?autocomplete_filter=Nigeria&year=2018&page=2&when=past'"
      ]
     },
     "metadata": {},
     "output_type": "display_data"
    },
    {
     "data": {
      "text/plain": [
       "'https://www.ted.com/tedx/events?autocomplete_filter=Nicaragua&year=2015&page=1&when=past'"
      ]
     },
     "metadata": {},
     "output_type": "display_data"
    },
    {
     "data": {
      "text/plain": [
       "'https://www.ted.com/tedx/events?autocomplete_filter=Paraguay&year=2011&page=1&when=past'"
      ]
     },
     "metadata": {},
     "output_type": "display_data"
    },
    {
     "data": {
      "text/plain": [
       "'https://www.ted.com/tedx/events?autocomplete_filter=Poland&year=2012&page=1&when=past'"
      ]
     },
     "metadata": {},
     "output_type": "display_data"
    },
    {
     "data": {
      "text/plain": [
       "'https://www.ted.com/tedx/events?autocomplete_filter=Pakistan&year=2017&page=1&when=past'"
      ]
     },
     "metadata": {},
     "output_type": "display_data"
    },
    {
     "data": {
      "text/plain": [
       "'https://www.ted.com/tedx/events?autocomplete_filter=Norway&year=2017&page=1&when=past'"
      ]
     },
     "metadata": {},
     "output_type": "display_data"
    },
    {
     "data": {
      "text/plain": [
       "'https://www.ted.com/tedx/events?autocomplete_filter=Palestinian+Territory,+Occupied&year=2016&page=1&when=past'"
      ]
     },
     "metadata": {},
     "output_type": "display_data"
    },
    {
     "data": {
      "text/plain": [
       "'https://www.ted.com/tedx/events?autocomplete_filter=Papua+New+Guinea&year=2010&page=1&when=past'"
      ]
     },
     "metadata": {},
     "output_type": "display_data"
    },
    {
     "data": {
      "text/plain": [
       "'https://www.ted.com/tedx/events?autocomplete_filter=Oman&year=2013&page=1&when=past'"
      ]
     },
     "metadata": {},
     "output_type": "display_data"
    },
    {
     "data": {
      "text/plain": [
       "'https://www.ted.com/tedx/events?autocomplete_filter=Peru&year=2015&page=1&when=past'"
      ]
     },
     "metadata": {},
     "output_type": "display_data"
    },
    {
     "data": {
      "text/plain": [
       "'https://www.ted.com/tedx/events?autocomplete_filter=Panama&year=2014&page=1&when=past'"
      ]
     },
     "metadata": {},
     "output_type": "display_data"
    },
    {
     "data": {
      "text/plain": [
       "'https://www.ted.com/tedx/events?autocomplete_filter=Poland&year=2011&page=1&when=past'"
      ]
     },
     "metadata": {},
     "output_type": "display_data"
    },
    {
     "data": {
      "text/plain": [
       "'https://www.ted.com/tedx/events?autocomplete_filter=Niue&year=2019&page=1&when=past'"
      ]
     },
     "metadata": {},
     "output_type": "display_data"
    },
    {
     "data": {
      "text/plain": [
       "'https://www.ted.com/tedx/events?autocomplete_filter=Niger&year=2018&page=1&when=past'"
      ]
     },
     "metadata": {},
     "output_type": "display_data"
    },
    {
     "data": {
      "text/plain": [
       "'https://www.ted.com/tedx/events?autocomplete_filter=Norfolk+Island&year=2009&page=1&when=past'"
      ]
     },
     "metadata": {},
     "output_type": "display_data"
    },
    {
     "data": {
      "text/plain": [
       "'https://www.ted.com/tedx/events?autocomplete_filter=Peru&year=2014&page=1&when=past'"
      ]
     },
     "metadata": {},
     "output_type": "display_data"
    },
    {
     "data": {
      "text/plain": [
       "'https://www.ted.com/tedx/events?autocomplete_filter=Palau&year=2020&page=1&when=past'"
      ]
     },
     "metadata": {},
     "output_type": "display_data"
    },
    {
     "data": {
      "text/plain": [
       "'https://www.ted.com/tedx/events?autocomplete_filter=Oman&year=2020&page=1&when=past'"
      ]
     },
     "metadata": {},
     "output_type": "display_data"
    },
    {
     "data": {
      "text/plain": [
       "'https://www.ted.com/tedx/events?autocomplete_filter=Panama&year=2019&page=1&when=past'"
      ]
     },
     "metadata": {},
     "output_type": "display_data"
    },
    {
     "data": {
      "text/plain": [
       "'https://www.ted.com/tedx/events?autocomplete_filter=Paraguay&year=2013&page=1&when=past'"
      ]
     },
     "metadata": {},
     "output_type": "display_data"
    },
    {
     "data": {
      "text/plain": [
       "'https://www.ted.com/tedx/events?autocomplete_filter=Pakistan&year=2016&page=1&when=past'"
      ]
     },
     "metadata": {},
     "output_type": "display_data"
    },
    {
     "data": {
      "text/plain": [
       "'https://www.ted.com/tedx/events?autocomplete_filter=Philippines&year=2018&page=1&when=past'"
      ]
     },
     "metadata": {},
     "output_type": "display_data"
    },
    {
     "data": {
      "text/plain": [
       "'https://www.ted.com/tedx/events?autocomplete_filter=Papua+New+Guinea&year=2017&page=1&when=past'"
      ]
     },
     "metadata": {},
     "output_type": "display_data"
    },
    {
     "data": {
      "text/plain": [
       "'https://www.ted.com/tedx/events?autocomplete_filter=Portugal&year=2014&page=1&when=past'"
      ]
     },
     "metadata": {},
     "output_type": "display_data"
    },
    {
     "data": {
      "text/plain": [
       "'https://www.ted.com/tedx/events?autocomplete_filter=Niue&year=2009&page=1&when=past'"
      ]
     },
     "metadata": {},
     "output_type": "display_data"
    },
    {
     "data": {
      "text/plain": [
       "'https://www.ted.com/tedx/events?autocomplete_filter=Northern+Mariana+Islands&year=2012&page=1&when=past'"
      ]
     },
     "metadata": {},
     "output_type": "display_data"
    },
    {
     "data": {
      "text/plain": [
       "'https://www.ted.com/tedx/events?autocomplete_filter=Northern+Mariana+Islands&year=2010&page=1&when=past'"
      ]
     },
     "metadata": {},
     "output_type": "display_data"
    },
    {
     "data": {
      "text/plain": [
       "'https://www.ted.com/tedx/events?autocomplete_filter=Philippines&year=2017&page=1&when=past'"
      ]
     },
     "metadata": {},
     "output_type": "display_data"
    },
    {
     "data": {
      "text/plain": [
       "'https://www.ted.com/tedx/events?autocomplete_filter=Norway&year=2012&page=2&when=past'"
      ]
     },
     "metadata": {},
     "output_type": "display_data"
    },
    {
     "data": {
      "text/plain": [
       "'https://www.ted.com/tedx/events?autocomplete_filter=Palau&year=2011&page=1&when=past'"
      ]
     },
     "metadata": {},
     "output_type": "display_data"
    },
    {
     "data": {
      "text/plain": [
       "'https://www.ted.com/tedx/events?autocomplete_filter=Panama&year=2011&page=1&when=past'"
      ]
     },
     "metadata": {},
     "output_type": "display_data"
    },
    {
     "data": {
      "text/plain": [
       "'https://www.ted.com/tedx/events?autocomplete_filter=Paraguay&year=2010&page=1&when=past'"
      ]
     },
     "metadata": {},
     "output_type": "display_data"
    },
    {
     "data": {
      "text/plain": [
       "'https://www.ted.com/tedx/events?autocomplete_filter=Peru&year=2016&page=1&when=past'"
      ]
     },
     "metadata": {},
     "output_type": "display_data"
    },
    {
     "data": {
      "text/plain": [
       "'https://www.ted.com/tedx/events?autocomplete_filter=Palau&year=2019&page=1&when=past'"
      ]
     },
     "metadata": {},
     "output_type": "display_data"
    },
    {
     "data": {
      "text/plain": [
       "'https://www.ted.com/tedx/events?autocomplete_filter=Poland&year=2009&page=1&when=past'"
      ]
     },
     "metadata": {},
     "output_type": "display_data"
    },
    {
     "data": {
      "text/plain": [
       "'https://www.ted.com/tedx/events?autocomplete_filter=Paraguay&year=2020&page=1&when=past'"
      ]
     },
     "metadata": {},
     "output_type": "display_data"
    },
    {
     "data": {
      "text/plain": [
       "'https://www.ted.com/tedx/events?autocomplete_filter=Puerto+Rico&year=2017&page=1&when=past'"
      ]
     },
     "metadata": {},
     "output_type": "display_data"
    },
    {
     "data": {
      "text/plain": [
       "'https://www.ted.com/tedx/events?autocomplete_filter=Norway&year=2015&page=1&when=past'"
      ]
     },
     "metadata": {},
     "output_type": "display_data"
    },
    {
     "data": {
      "text/plain": [
       "'https://www.ted.com/tedx/events?autocomplete_filter=Norway&year=2013&page=1&when=past'"
      ]
     },
     "metadata": {},
     "output_type": "display_data"
    },
    {
     "data": {
      "text/plain": [
       "'https://www.ted.com/tedx/events?autocomplete_filter=Pitcairn&year=2020&page=1&when=past'"
      ]
     },
     "metadata": {},
     "output_type": "display_data"
    },
    {
     "data": {
      "text/plain": [
       "'https://www.ted.com/tedx/events?autocomplete_filter=Norfolk+Island&year=2012&page=1&when=past'"
      ]
     },
     "metadata": {},
     "output_type": "display_data"
    },
    {
     "data": {
      "text/plain": [
       "'https://www.ted.com/tedx/events?autocomplete_filter=Oman&year=2015&page=1&when=past'"
      ]
     },
     "metadata": {},
     "output_type": "display_data"
    },
    {
     "data": {
      "text/plain": [
       "'https://www.ted.com/tedx/events?autocomplete_filter=Palestinian+Territory,+Occupied&year=2014&page=1&when=past'"
      ]
     },
     "metadata": {},
     "output_type": "display_data"
    },
    {
     "data": {
      "text/plain": [
       "'https://www.ted.com/tedx/events?autocomplete_filter=Papua+New+Guinea&year=2014&page=1&when=past'"
      ]
     },
     "metadata": {},
     "output_type": "display_data"
    },
    {
     "data": {
      "text/plain": [
       "'https://www.ted.com/tedx/events?autocomplete_filter=Peru&year=2013&page=1&when=past'"
      ]
     },
     "metadata": {},
     "output_type": "display_data"
    },
    {
     "data": {
      "text/plain": [
       "'https://www.ted.com/tedx/events?autocomplete_filter=Philippines&year=2019&page=1&when=past'"
      ]
     },
     "metadata": {},
     "output_type": "display_data"
    },
    {
     "data": {
      "text/plain": [
       "'https://www.ted.com/tedx/events?autocomplete_filter=Portugal&year=2012&page=1&when=past'"
      ]
     },
     "metadata": {},
     "output_type": "display_data"
    },
    {
     "data": {
      "text/plain": [
       "'https://www.ted.com/tedx/events?autocomplete_filter=Panama&year=2010&page=1&when=past'"
      ]
     },
     "metadata": {},
     "output_type": "display_data"
    },
    {
     "data": {
      "text/plain": [
       "'https://www.ted.com/tedx/events?autocomplete_filter=Philippines&year=2011&page=1&when=past'"
      ]
     },
     "metadata": {},
     "output_type": "display_data"
    },
    {
     "data": {
      "text/plain": [
       "'https://www.ted.com/tedx/events?autocomplete_filter=Oman&year=2018&page=1&when=past'"
      ]
     },
     "metadata": {},
     "output_type": "display_data"
    },
    {
     "data": {
      "text/plain": [
       "'https://www.ted.com/tedx/events?autocomplete_filter=Qatar&year=2020&page=1&when=past'"
      ]
     },
     "metadata": {},
     "output_type": "display_data"
    },
    {
     "data": {
      "text/plain": [
       "'https://www.ted.com/tedx/events?autocomplete_filter=Oman&year=2016&page=1&when=past'"
      ]
     },
     "metadata": {},
     "output_type": "display_data"
    },
    {
     "data": {
      "text/plain": [
       "'https://www.ted.com/tedx/events?autocomplete_filter=Niger&year=2016&page=2&when=past'"
      ]
     },
     "metadata": {},
     "output_type": "display_data"
    },
    {
     "data": {
      "text/plain": [
       "'https://www.ted.com/tedx/events?autocomplete_filter=Pakistan&year=2018&page=1&when=past'"
      ]
     },
     "metadata": {},
     "output_type": "display_data"
    },
    {
     "data": {
      "text/plain": [
       "'https://www.ted.com/tedx/events?autocomplete_filter=Portugal&year=2011&page=1&when=past'"
      ]
     },
     "metadata": {},
     "output_type": "display_data"
    },
    {
     "data": {
      "text/plain": [
       "'https://www.ted.com/tedx/events?autocomplete_filter=Panama&year=2017&page=1&when=past'"
      ]
     },
     "metadata": {},
     "output_type": "display_data"
    },
    {
     "data": {
      "text/plain": [
       "'https://www.ted.com/tedx/events?autocomplete_filter=Northern+Mariana+Islands&year=2015&page=1&when=past'"
      ]
     },
     "metadata": {},
     "output_type": "display_data"
    },
    {
     "data": {
      "text/plain": [
       "'https://www.ted.com/tedx/events?autocomplete_filter=Paraguay&year=2017&page=1&when=past'"
      ]
     },
     "metadata": {},
     "output_type": "display_data"
    },
    {
     "data": {
      "text/plain": [
       "'https://www.ted.com/tedx/events?autocomplete_filter=Poland&year=2012&page=2&when=past'"
      ]
     },
     "metadata": {},
     "output_type": "display_data"
    },
    {
     "data": {
      "text/plain": [
       "'https://www.ted.com/tedx/events?autocomplete_filter=Philippines&year=2016&page=1&when=past'"
      ]
     },
     "metadata": {},
     "output_type": "display_data"
    },
    {
     "data": {
      "text/plain": [
       "'https://www.ted.com/tedx/events?autocomplete_filter=Poland&year=2010&page=1&when=past'"
      ]
     },
     "metadata": {},
     "output_type": "display_data"
    },
    {
     "data": {
      "text/plain": [
       "'https://www.ted.com/tedx/events?autocomplete_filter=Puerto+Rico&year=2015&page=1&when=past'"
      ]
     },
     "metadata": {},
     "output_type": "display_data"
    },
    {
     "data": {
      "text/plain": [
       "'https://www.ted.com/tedx/events?autocomplete_filter=Papua+New+Guinea&year=2013&page=1&when=past'"
      ]
     },
     "metadata": {},
     "output_type": "display_data"
    },
    {
     "data": {
      "text/plain": [
       "'https://www.ted.com/tedx/events?autocomplete_filter=Pitcairn&year=2014&page=1&when=past'"
      ]
     },
     "metadata": {},
     "output_type": "display_data"
    },
    {
     "data": {
      "text/plain": [
       "'https://www.ted.com/tedx/events?autocomplete_filter=Palau&year=2009&page=1&when=past'"
      ]
     },
     "metadata": {},
     "output_type": "display_data"
    },
    {
     "data": {
      "text/plain": [
       "'https://www.ted.com/tedx/events?autocomplete_filter=Romania&year=2011&page=1&when=past'"
      ]
     },
     "metadata": {},
     "output_type": "display_data"
    },
    {
     "data": {
      "text/plain": [
       "'https://www.ted.com/tedx/events?autocomplete_filter=Pakistan&year=2019&page=1&when=past'"
      ]
     },
     "metadata": {},
     "output_type": "display_data"
    },
    {
     "data": {
      "text/plain": [
       "'https://www.ted.com/tedx/events?autocomplete_filter=Nigeria&year=2019&page=1&when=past'"
      ]
     },
     "metadata": {},
     "output_type": "display_data"
    },
    {
     "data": {
      "text/plain": [
       "'https://www.ted.com/tedx/events?autocomplete_filter=Palestinian+Territory,+Occupied&year=2009&page=1&when=past'"
      ]
     },
     "metadata": {},
     "output_type": "display_data"
    },
    {
     "data": {
      "text/plain": [
       "'https://www.ted.com/tedx/events?autocomplete_filter=Puerto+Rico&year=2014&page=1&when=past'"
      ]
     },
     "metadata": {},
     "output_type": "display_data"
    },
    {
     "data": {
      "text/plain": [
       "'https://www.ted.com/tedx/events?autocomplete_filter=Papua+New+Guinea&year=2020&page=1&when=past'"
      ]
     },
     "metadata": {},
     "output_type": "display_data"
    },
    {
     "data": {
      "text/plain": [
       "'https://www.ted.com/tedx/events?autocomplete_filter=Norway&year=2018&page=1&when=past'"
      ]
     },
     "metadata": {},
     "output_type": "display_data"
    },
    {
     "data": {
      "text/plain": [
       "'https://www.ted.com/tedx/events?autocomplete_filter=Peru&year=2020&page=1&when=past'"
      ]
     },
     "metadata": {},
     "output_type": "display_data"
    },
    {
     "data": {
      "text/plain": [
       "'https://www.ted.com/tedx/events?autocomplete_filter=Portugal&year=2015&page=1&when=past'"
      ]
     },
     "metadata": {},
     "output_type": "display_data"
    },
    {
     "data": {
      "text/plain": [
       "'https://www.ted.com/tedx/events?autocomplete_filter=Pitcairn&year=2019&page=1&when=past'"
      ]
     },
     "metadata": {},
     "output_type": "display_data"
    },
    {
     "data": {
      "text/plain": [
       "'https://www.ted.com/tedx/events?autocomplete_filter=Portugal&year=2013&page=1&when=past'"
      ]
     },
     "metadata": {},
     "output_type": "display_data"
    },
    {
     "data": {
      "text/plain": [
       "'https://www.ted.com/tedx/events?autocomplete_filter=Qatar&year=2018&page=1&when=past'"
      ]
     },
     "metadata": {},
     "output_type": "display_data"
    },
    {
     "data": {
      "text/plain": [
       "'https://www.ted.com/tedx/events?autocomplete_filter=Paraguay&year=2016&page=1&when=past'"
      ]
     },
     "metadata": {},
     "output_type": "display_data"
    },
    {
     "data": {
      "text/plain": [
       "'https://www.ted.com/tedx/events?autocomplete_filter=Poland&year=2017&page=1&when=past'"
      ]
     },
     "metadata": {},
     "output_type": "display_data"
    },
    {
     "data": {
      "text/plain": [
       "'https://www.ted.com/tedx/events?autocomplete_filter=Palestinian+Territory,+Occupied&year=2012&page=1&when=past'"
      ]
     },
     "metadata": {},
     "output_type": "display_data"
    },
    {
     "data": {
      "text/plain": [
       "'https://www.ted.com/tedx/events?autocomplete_filter=Palestinian+Territory,+Occupied&year=2010&page=1&when=past'"
      ]
     },
     "metadata": {},
     "output_type": "display_data"
    },
    {
     "data": {
      "text/plain": [
       "'https://www.ted.com/tedx/events?autocomplete_filter=Norfolk+Island&year=2010&page=1&when=past'"
      ]
     },
     "metadata": {},
     "output_type": "display_data"
    },
    {
     "data": {
      "text/plain": [
       "'https://www.ted.com/tedx/events?autocomplete_filter=Qatar&year=2017&page=1&when=past'"
      ]
     },
     "metadata": {},
     "output_type": "display_data"
    },
    {
     "data": {
      "text/plain": [
       "'https://www.ted.com/tedx/events?autocomplete_filter=Panama&year=2012&page=1&when=past'"
      ]
     },
     "metadata": {},
     "output_type": "display_data"
    },
    {
     "data": {
      "text/plain": [
       "'https://www.ted.com/tedx/events?autocomplete_filter=Peru&year=2011&page=1&when=past'"
      ]
     },
     "metadata": {},
     "output_type": "display_data"
    },
    {
     "data": {
      "text/plain": [
       "'https://www.ted.com/tedx/events?autocomplete_filter=Pakistan&year=2009&page=1&when=past'"
      ]
     },
     "metadata": {},
     "output_type": "display_data"
    },
    {
     "data": {
      "text/plain": [
       "'https://www.ted.com/tedx/events?autocomplete_filter=Pitcairn&year=2011&page=1&when=past'"
      ]
     },
     "metadata": {},
     "output_type": "display_data"
    },
    {
     "data": {
      "text/plain": [
       "'https://www.ted.com/tedx/events?autocomplete_filter=Portugal&year=2010&page=1&when=past'"
      ]
     },
     "metadata": {},
     "output_type": "display_data"
    },
    {
     "data": {
      "text/plain": [
       "'https://www.ted.com/tedx/events?autocomplete_filter=Puerto+Rico&year=2018&page=1&when=past'"
      ]
     },
     "metadata": {},
     "output_type": "display_data"
    },
    {
     "data": {
      "text/plain": [
       "'https://www.ted.com/tedx/events?autocomplete_filter=Puerto+Rico&year=2016&page=1&when=past'"
      ]
     },
     "metadata": {},
     "output_type": "display_data"
    },
    {
     "data": {
      "text/plain": [
       "'https://www.ted.com/tedx/events?autocomplete_filter=Russian+Federation&year=2014&page=1&when=past'"
      ]
     },
     "metadata": {},
     "output_type": "display_data"
    },
    {
     "data": {
      "text/plain": [
       "'https://www.ted.com/tedx/events?autocomplete_filter=Romania&year=2009&page=1&when=past'"
      ]
     },
     "metadata": {},
     "output_type": "display_data"
    },
    {
     "data": {
      "text/plain": [
       "'https://www.ted.com/tedx/events?autocomplete_filter=Peru&year=2019&page=1&when=past'"
      ]
     },
     "metadata": {},
     "output_type": "display_data"
    },
    {
     "data": {
      "text/plain": [
       "'https://www.ted.com/tedx/events?autocomplete_filter=Portugal&year=2020&page=1&when=past'"
      ]
     },
     "metadata": {},
     "output_type": "display_data"
    },
    {
     "data": {
      "text/plain": [
       "'https://www.ted.com/tedx/events?autocomplete_filter=Panama&year=2013&page=1&when=past'"
      ]
     },
     "metadata": {},
     "output_type": "display_data"
    },
    {
     "data": {
      "text/plain": [
       "'https://www.ted.com/tedx/events?autocomplete_filter=Panama&year=2015&page=1&when=past'"
      ]
     },
     "metadata": {},
     "output_type": "display_data"
    },
    {
     "data": {
      "text/plain": [
       "'https://www.ted.com/tedx/events?autocomplete_filter=Northern+Mariana+Islands&year=2013&page=1&when=past'"
      ]
     },
     "metadata": {},
     "output_type": "display_data"
    },
    {
     "data": {
      "text/plain": [
       "'https://www.ted.com/tedx/events?autocomplete_filter=Papua+New+Guinea&year=2015&page=1&when=past'"
      ]
     },
     "metadata": {},
     "output_type": "display_data"
    },
    {
     "data": {
      "text/plain": [
       "'https://www.ted.com/tedx/events?autocomplete_filter=Philippines&year=2014&page=1&when=past'"
      ]
     },
     "metadata": {},
     "output_type": "display_data"
    },
    {
     "data": {
      "text/plain": [
       "'https://www.ted.com/tedx/events?autocomplete_filter=Palau&year=2012&page=1&when=past'"
      ]
     },
     "metadata": {},
     "output_type": "display_data"
    },
    {
     "data": {
      "text/plain": [
       "'https://www.ted.com/tedx/events?autocomplete_filter=Poland&year=2014&page=1&when=past'"
      ]
     },
     "metadata": {},
     "output_type": "display_data"
    },
    {
     "data": {
      "text/plain": [
       "'https://www.ted.com/tedx/events?autocomplete_filter=Puerto+Rico&year=2013&page=1&when=past'"
      ]
     },
     "metadata": {},
     "output_type": "display_data"
    },
    {
     "data": {
      "text/plain": [
       "'https://www.ted.com/tedx/events?autocomplete_filter=Reunion&year=2009&page=1&when=past'"
      ]
     },
     "metadata": {},
     "output_type": "display_data"
    },
    {
     "data": {
      "text/plain": [
       "'https://www.ted.com/tedx/events?autocomplete_filter=Qatar&year=2019&page=1&when=past'"
      ]
     },
     "metadata": {},
     "output_type": "display_data"
    },
    {
     "data": {
      "text/plain": [
       "'https://www.ted.com/tedx/events?autocomplete_filter=Rwanda&year=2017&page=1&when=past'"
      ]
     },
     "metadata": {},
     "output_type": "display_data"
    },
    {
     "data": {
      "text/plain": [
       "'https://www.ted.com/tedx/events?autocomplete_filter=Russian+Federation&year=2012&page=1&when=past'"
      ]
     },
     "metadata": {},
     "output_type": "display_data"
    },
    {
     "data": {
      "text/plain": [
       "'https://www.ted.com/tedx/events?autocomplete_filter=Pitcairn&year=2010&page=1&when=past'"
      ]
     },
     "metadata": {},
     "output_type": "display_data"
    },
    {
     "data": {
      "text/plain": [
       "'https://www.ted.com/tedx/events?autocomplete_filter=Qatar&year=2011&page=1&when=past'"
      ]
     },
     "metadata": {},
     "output_type": "display_data"
    },
    {
     "data": {
      "text/plain": [
       "'https://www.ted.com/tedx/events?autocomplete_filter=Papua+New+Guinea&year=2018&page=1&when=past'"
      ]
     },
     "metadata": {},
     "output_type": "display_data"
    },
    {
     "data": {
      "text/plain": [
       "'https://www.ted.com/tedx/events?autocomplete_filter=Papua+New+Guinea&year=2016&page=1&when=past'"
      ]
     },
     "metadata": {},
     "output_type": "display_data"
    },
    {
     "data": {
      "text/plain": [
       "'https://www.ted.com/tedx/events?autocomplete_filter=Norway&year=2016&page=1&when=past'"
      ]
     },
     "metadata": {},
     "output_type": "display_data"
    },
    {
     "data": {
      "text/plain": [
       "'https://www.ted.com/tedx/events?autocomplete_filter=Paraguay&year=2018&page=1&when=past'"
      ]
     },
     "metadata": {},
     "output_type": "display_data"
    },
    {
     "data": {
      "text/plain": [
       "'https://www.ted.com/tedx/events?autocomplete_filter=Pitcairn&year=2017&page=1&when=past'"
      ]
     },
     "metadata": {},
     "output_type": "display_data"
    },
    {
     "data": {
      "text/plain": [
       "'https://www.ted.com/tedx/events?autocomplete_filter=Reunion&year=2020&page=1&when=past'"
      ]
     },
     "metadata": {},
     "output_type": "display_data"
    },
    {
     "data": {
      "text/plain": [
       "'https://www.ted.com/tedx/events?autocomplete_filter=Palestinian+Territory,+Occupied&year=2015&page=1&when=past'"
      ]
     },
     "metadata": {},
     "output_type": "display_data"
    },
    {
     "data": {
      "text/plain": [
       "'https://www.ted.com/tedx/events?autocomplete_filter=Qatar&year=2016&page=1&when=past'"
      ]
     },
     "metadata": {},
     "output_type": "display_data"
    },
    {
     "data": {
      "text/plain": [
       "'https://www.ted.com/tedx/events?autocomplete_filter=Portugal&year=2017&page=1&when=past'"
      ]
     },
     "metadata": {},
     "output_type": "display_data"
    },
    {
     "data": {
      "text/plain": [
       "'https://www.ted.com/tedx/events?autocomplete_filter=Romania&year=2012&page=1&when=past'"
      ]
     },
     "metadata": {},
     "output_type": "display_data"
    },
    {
     "data": {
      "text/plain": [
       "'https://www.ted.com/tedx/events?autocomplete_filter=Romania&year=2010&page=1&when=past'"
      ]
     },
     "metadata": {},
     "output_type": "display_data"
    },
    {
     "data": {
      "text/plain": [
       "'https://www.ted.com/tedx/events?autocomplete_filter=Saint+Helena&year=2020&page=1&when=past'"
      ]
     },
     "metadata": {},
     "output_type": "display_data"
    },
    {
     "data": {
      "text/plain": [
       "'https://www.ted.com/tedx/events?autocomplete_filter=Rwanda&year=2015&page=1&when=past'"
      ]
     },
     "metadata": {},
     "output_type": "display_data"
    },
    {
     "data": {
      "text/plain": [
       "'https://www.ted.com/tedx/events?autocomplete_filter=Poland&year=2013&page=1&when=past'"
      ]
     },
     "metadata": {},
     "output_type": "display_data"
    },
    {
     "data": {
      "text/plain": [
       "'https://www.ted.com/tedx/events?autocomplete_filter=Reunion&year=2014&page=1&when=past'"
      ]
     },
     "metadata": {},
     "output_type": "display_data"
    },
    {
     "data": {
      "text/plain": [
       "'https://www.ted.com/tedx/events?autocomplete_filter=Peru&year=2009&page=1&when=past'"
      ]
     },
     "metadata": {},
     "output_type": "display_data"
    },
    {
     "data": {
      "text/plain": [
       "'https://www.ted.com/tedx/events?autocomplete_filter=Paraguay&year=2019&page=1&when=past'"
      ]
     },
     "metadata": {},
     "output_type": "display_data"
    },
    {
     "data": {
      "text/plain": [
       "'https://www.ted.com/tedx/events?autocomplete_filter=Oman&year=2019&page=1&when=past'"
      ]
     },
     "metadata": {},
     "output_type": "display_data"
    },
    {
     "data": {
      "text/plain": [
       "'https://www.ted.com/tedx/events?autocomplete_filter=Philippines&year=2009&page=1&when=past'"
      ]
     },
     "metadata": {},
     "output_type": "display_data"
    },
    {
     "data": {
      "text/plain": [
       "'https://www.ted.com/tedx/events?autocomplete_filter=Poland&year=2020&page=1&when=past'"
      ]
     },
     "metadata": {},
     "output_type": "display_data"
    },
    {
     "data": {
      "text/plain": [
       "'https://www.ted.com/tedx/events?autocomplete_filter=Russian+Federation&year=2011&page=1&when=past'"
      ]
     },
     "metadata": {},
     "output_type": "display_data"
    },
    {
     "data": {
      "text/plain": [
       "'https://www.ted.com/tedx/events?autocomplete_filter=Reunion&year=2019&page=1&when=past'"
      ]
     },
     "metadata": {},
     "output_type": "display_data"
    },
    {
     "data": {
      "text/plain": [
       "'https://www.ted.com/tedx/events?autocomplete_filter=Panama&year=2018&page=1&when=past'"
      ]
     },
     "metadata": {},
     "output_type": "display_data"
    },
    {
     "data": {
      "text/plain": [
       "'https://www.ted.com/tedx/events?autocomplete_filter=Puerto+Rico&year=2020&page=1&when=past'"
      ]
     },
     "metadata": {},
     "output_type": "display_data"
    },
    {
     "data": {
      "text/plain": [
       "'https://www.ted.com/tedx/events?autocomplete_filter=Russian+Federation&year=2015&page=1&when=past'"
      ]
     },
     "metadata": {},
     "output_type": "display_data"
    },
    {
     "data": {
      "text/plain": [
       "'https://www.ted.com/tedx/events?autocomplete_filter=Russian+Federation&year=2013&page=1&when=past'"
      ]
     },
     "metadata": {},
     "output_type": "display_data"
    },
    {
     "data": {
      "text/plain": [
       "'https://www.ted.com/tedx/events?autocomplete_filter=Saint+Lucia&year=2011&page=1&when=past'"
      ]
     },
     "metadata": {},
     "output_type": "display_data"
    },
    {
     "data": {
      "text/plain": [
       "'https://www.ted.com/tedx/events?autocomplete_filter=Saint+Helena&year=2018&page=1&when=past'"
      ]
     },
     "metadata": {},
     "output_type": "display_data"
    },
    {
     "data": {
      "text/plain": [
       "'https://www.ted.com/tedx/events?autocomplete_filter=Portugal&year=2016&page=1&when=past'"
      ]
     },
     "metadata": {},
     "output_type": "display_data"
    },
    {
     "data": {
      "text/plain": [
       "'https://www.ted.com/tedx/events?autocomplete_filter=Romania&year=2017&page=1&when=past'"
      ]
     },
     "metadata": {},
     "output_type": "display_data"
    },
    {
     "data": {
      "text/plain": [
       "'https://www.ted.com/tedx/events?autocomplete_filter=Philippines&year=2012&page=1&when=past'"
      ]
     },
     "metadata": {},
     "output_type": "display_data"
    },
    {
     "data": {
      "text/plain": [
       "'https://www.ted.com/tedx/events?autocomplete_filter=Philippines&year=2010&page=1&when=past'"
      ]
     },
     "metadata": {},
     "output_type": "display_data"
    },
    {
     "data": {
      "text/plain": [
       "'https://www.ted.com/tedx/events?autocomplete_filter=Palau&year=2010&page=1&when=past'"
      ]
     },
     "metadata": {},
     "output_type": "display_data"
    },
    {
     "data": {
      "text/plain": [
       "'https://www.ted.com/tedx/events?autocomplete_filter=Pitcairn&year=2012&page=1&when=past'"
      ]
     },
     "metadata": {},
     "output_type": "display_data"
    },
    {
     "data": {
      "text/plain": [
       "'https://www.ted.com/tedx/events?autocomplete_filter=Puerto+Rico&year=2011&page=1&when=past'"
      ]
     },
     "metadata": {},
     "output_type": "display_data"
    },
    {
     "data": {
      "text/plain": [
       "'https://www.ted.com/tedx/events?autocomplete_filter=Rwanda&year=2014&page=1&when=past'"
      ]
     },
     "metadata": {},
     "output_type": "display_data"
    },
    {
     "data": {
      "text/plain": [
       "'https://www.ted.com/tedx/events?autocomplete_filter=Russian+Federation&year=2010&page=1&when=past'"
      ]
     },
     "metadata": {},
     "output_type": "display_data"
    },
    {
     "data": {
      "text/plain": [
       "'https://www.ted.com/tedx/events?autocomplete_filter=Paraguay&year=2009&page=1&when=past'"
      ]
     },
     "metadata": {},
     "output_type": "display_data"
    },
    {
     "data": {
      "text/plain": [
       "'https://www.ted.com/tedx/events?autocomplete_filter=Reunion&year=2011&page=1&when=past'"
      ]
     },
     "metadata": {},
     "output_type": "display_data"
    },
    {
     "data": {
      "text/plain": [
       "'https://www.ted.com/tedx/events?autocomplete_filter=Rwanda&year=2016&page=1&when=past'"
      ]
     },
     "metadata": {},
     "output_type": "display_data"
    },
    {
     "data": {
      "text/plain": [
       "'https://www.ted.com/tedx/events?autocomplete_filter=Saint+Pierre+And+Miquelon&year=2014&page=1&when=past'"
      ]
     },
     "metadata": {},
     "output_type": "display_data"
    },
    {
     "data": {
      "text/plain": [
       "'https://www.ted.com/tedx/events?autocomplete_filter=Puerto+Rico&year=2019&page=1&when=past'"
      ]
     },
     "metadata": {},
     "output_type": "display_data"
    },
    {
     "data": {
      "text/plain": [
       "'https://www.ted.com/tedx/events?autocomplete_filter=Russian+Federation&year=2020&page=1&when=past'"
      ]
     },
     "metadata": {},
     "output_type": "display_data"
    },
    {
     "data": {
      "text/plain": [
       "'https://www.ted.com/tedx/events?autocomplete_filter=Pitcairn&year=2015&page=1&when=past'"
      ]
     },
     "metadata": {},
     "output_type": "display_data"
    },
    {
     "data": {
      "text/plain": [
       "'https://www.ted.com/tedx/events?autocomplete_filter=Pitcairn&year=2013&page=1&when=past'"
      ]
     },
     "metadata": {},
     "output_type": "display_data"
    },
    {
     "data": {
      "text/plain": [
       "'https://www.ted.com/tedx/events?autocomplete_filter=Palestinian+Territory,+Occupied&year=2013&page=1&when=past'"
      ]
     },
     "metadata": {},
     "output_type": "display_data"
    },
    {
     "data": {
      "text/plain": [
       "'https://www.ted.com/tedx/events?autocomplete_filter=Poland&year=2015&page=1&when=past'"
      ]
     },
     "metadata": {},
     "output_type": "display_data"
    },
    {
     "data": {
      "text/plain": [
       "'https://www.ted.com/tedx/events?autocomplete_filter=Qatar&year=2014&page=1&when=past'"
      ]
     },
     "metadata": {},
     "output_type": "display_data"
    },
    {
     "data": {
      "text/plain": [
       "'https://www.ted.com/tedx/events?autocomplete_filter=Saint+Helena&year=2017&page=1&when=past'"
      ]
     },
     "metadata": {},
     "output_type": "display_data"
    },
    {
     "data": {
      "text/plain": [
       "'https://www.ted.com/tedx/events?autocomplete_filter=Rwanda&year=2013&page=1&when=past'"
      ]
     },
     "metadata": {},
     "output_type": "display_data"
    },
    {
     "data": {
      "text/plain": [
       "'https://www.ted.com/tedx/events?autocomplete_filter=Peru&year=2012&page=1&when=past'"
      ]
     },
     "metadata": {},
     "output_type": "display_data"
    },
    {
     "data": {
      "text/plain": [
       "'https://www.ted.com/tedx/events?autocomplete_filter=Romania&year=2014&page=1&when=past'"
      ]
     },
     "metadata": {},
     "output_type": "display_data"
    },
    {
     "data": {
      "text/plain": [
       "'https://www.ted.com/tedx/events?autocomplete_filter=Rwanda&year=2018&page=1&when=past'"
      ]
     },
     "metadata": {},
     "output_type": "display_data"
    },
    {
     "data": {
      "text/plain": [
       "'https://www.ted.com/tedx/events?autocomplete_filter=Saint+Lucia&year=2009&page=1&when=past'"
      ]
     },
     "metadata": {},
     "output_type": "display_data"
    },
    {
     "data": {
      "text/plain": [
       "'https://www.ted.com/tedx/events?autocomplete_filter=Saint+Helena&year=2019&page=1&when=past'"
      ]
     },
     "metadata": {},
     "output_type": "display_data"
    },
    {
     "data": {
      "text/plain": [
       "'https://www.ted.com/tedx/events?autocomplete_filter=Saint+Vincent+And+The+Grenadines&year=2017&page=1&when=past'"
      ]
     },
     "metadata": {},
     "output_type": "display_data"
    },
    {
     "data": {
      "text/plain": [
       "'https://www.ted.com/tedx/events?autocomplete_filter=Reunion&year=2010&page=1&when=past'"
      ]
     },
     "metadata": {},
     "output_type": "display_data"
    },
    {
     "data": {
      "text/plain": [
       "'https://www.ted.com/tedx/events?autocomplete_filter=Saint+Helena&year=2011&page=1&when=past'"
      ]
     },
     "metadata": {},
     "output_type": "display_data"
    },
    {
     "data": {
      "text/plain": [
       "'https://www.ted.com/tedx/events?autocomplete_filter=Poland&year=2018&page=1&when=past'"
      ]
     },
     "metadata": {},
     "output_type": "display_data"
    },
    {
     "data": {
      "text/plain": [
       "'https://www.ted.com/tedx/events?autocomplete_filter=Poland&year=2016&page=1&when=past'"
      ]
     },
     "metadata": {},
     "output_type": "display_data"
    },
    {
     "data": {
      "text/plain": [
       "'https://www.ted.com/tedx/events?autocomplete_filter=Panama&year=2016&page=1&when=past'"
      ]
     },
     "metadata": {},
     "output_type": "display_data"
    },
    {
     "data": {
      "text/plain": [
       "'https://www.ted.com/tedx/events?autocomplete_filter=Portugal&year=2018&page=1&when=past'"
      ]
     },
     "metadata": {},
     "output_type": "display_data"
    },
    {
     "data": {
      "text/plain": [
       "'https://www.ted.com/tedx/events?autocomplete_filter=Reunion&year=2017&page=1&when=past'"
      ]
     },
     "metadata": {},
     "output_type": "display_data"
    },
    {
     "data": {
      "text/plain": [
       "'https://www.ted.com/tedx/events?autocomplete_filter=Saint+Kitts+And+Nevis&year=2020&page=1&when=past'"
      ]
     },
     "metadata": {},
     "output_type": "display_data"
    },
    {
     "data": {
      "text/plain": [
       "'https://www.ted.com/tedx/events?autocomplete_filter=Saint+Helena&year=2016&page=1&when=past'"
      ]
     },
     "metadata": {},
     "output_type": "display_data"
    },
    {
     "data": {
      "text/plain": [
       "'https://www.ted.com/tedx/events?autocomplete_filter=Russian+Federation&year=2017&page=1&when=past'"
      ]
     },
     "metadata": {},
     "output_type": "display_data"
    },
    {
     "data": {
      "text/plain": [
       "'https://www.ted.com/tedx/events?autocomplete_filter=Philippines&year=2015&page=1&when=past'"
      ]
     },
     "metadata": {},
     "output_type": "display_data"
    },
    {
     "data": {
      "text/plain": [
       "'https://www.ted.com/tedx/events?autocomplete_filter=Saint+Pierre+And+Miquelon&year=2012&page=1&when=past'"
      ]
     },
     "metadata": {},
     "output_type": "display_data"
    },
    {
     "data": {
      "text/plain": [
       "'https://www.ted.com/tedx/events?autocomplete_filter=Saint+Lucia&year=2010&page=1&when=past'"
      ]
     },
     "metadata": {},
     "output_type": "display_data"
    },
    {
     "data": {
      "text/plain": [
       "'https://www.ted.com/tedx/events?autocomplete_filter=Saint+Kitts+And+Nevis&year=2009&page=1&when=past'"
      ]
     },
     "metadata": {},
     "output_type": "display_data"
    },
    {
     "data": {
      "text/plain": [
       "'https://www.ted.com/tedx/events?autocomplete_filter=Samoa&year=2020&page=1&when=past'"
      ]
     },
     "metadata": {},
     "output_type": "display_data"
    },
    {
     "data": {
      "text/plain": [
       "'https://www.ted.com/tedx/events?autocomplete_filter=Romania&year=2013&page=1&when=past'"
      ]
     },
     "metadata": {},
     "output_type": "display_data"
    },
    {
     "data": {
      "text/plain": [
       "'https://www.ted.com/tedx/events?autocomplete_filter=Saint+Kitts+And+Nevis&year=2014&page=1&when=past'"
      ]
     },
     "metadata": {},
     "output_type": "display_data"
    },
    {
     "data": {
      "text/plain": [
       "'https://www.ted.com/tedx/events?autocomplete_filter=Puerto+Rico&year=2009&page=1&when=past'"
      ]
     },
     "metadata": {},
     "output_type": "display_data"
    },
    {
     "data": {
      "text/plain": [
       "'https://www.ted.com/tedx/events?autocomplete_filter=Portugal&year=2019&page=1&when=past'"
      ]
     },
     "metadata": {},
     "output_type": "display_data"
    },
    {
     "data": {
      "text/plain": [
       "'https://www.ted.com/tedx/events?autocomplete_filter=Papua+New+Guinea&year=2019&page=1&when=past'"
      ]
     },
     "metadata": {},
     "output_type": "display_data"
    },
    {
     "data": {
      "text/plain": [
       "'https://www.ted.com/tedx/events?autocomplete_filter=Qatar&year=2009&page=1&when=past'"
      ]
     },
     "metadata": {},
     "output_type": "display_data"
    },
    {
     "data": {
      "text/plain": [
       "'https://www.ted.com/tedx/events?autocomplete_filter=Romania&year=2020&page=1&when=past'"
      ]
     },
     "metadata": {},
     "output_type": "display_data"
    },
    {
     "data": {
      "text/plain": [
       "'https://www.ted.com/tedx/events?autocomplete_filter=Saint+Pierre+And+Miquelon&year=2011&page=1&when=past'"
      ]
     },
     "metadata": {},
     "output_type": "display_data"
    },
    {
     "data": {
      "text/plain": [
       "'https://www.ted.com/tedx/events?autocomplete_filter=Saint+Kitts+And+Nevis&year=2019&page=1&when=past'"
      ]
     },
     "metadata": {},
     "output_type": "display_data"
    },
    {
     "data": {
      "text/plain": [
       "'https://www.ted.com/tedx/events?autocomplete_filter=Rwanda&year=2020&page=1&when=past'"
      ]
     },
     "metadata": {},
     "output_type": "display_data"
    },
    {
     "data": {
      "text/plain": [
       "'https://www.ted.com/tedx/events?autocomplete_filter=Pitcairn&year=2018&page=1&when=past'"
      ]
     },
     "metadata": {},
     "output_type": "display_data"
    },
    {
     "data": {
      "text/plain": [
       "'https://www.ted.com/tedx/events?autocomplete_filter=Saint+Vincent+And+The+Grenadines&year=2015&page=1&when=past'"
      ]
     },
     "metadata": {},
     "output_type": "display_data"
    },
    {
     "data": {
      "text/plain": [
       "'https://www.ted.com/tedx/events?autocomplete_filter=Saint+Lucia&year=2012&page=1&when=past'"
      ]
     },
     "metadata": {},
     "output_type": "display_data"
    },
    {
     "data": {
      "text/plain": [
       "'https://www.ted.com/tedx/events?autocomplete_filter=Saint+Pierre+And+Miquelon&year=2013&page=1&when=past'"
      ]
     },
     "metadata": {},
     "output_type": "display_data"
    },
    {
     "data": {
      "text/plain": [
       "'https://www.ted.com/tedx/events?autocomplete_filter=Sao+Tome+And+Principe&year=2011&page=1&when=past'"
      ]
     },
     "metadata": {},
     "output_type": "display_data"
    },
    {
     "data": {
      "text/plain": [
       "'https://www.ted.com/tedx/events?autocomplete_filter=Russian+Federation&year=2016&page=1&when=past'"
      ]
     },
     "metadata": {},
     "output_type": "display_data"
    },
    {
     "data": {
      "text/plain": [
       "'https://www.ted.com/tedx/events?autocomplete_filter=Saint+Lucia&year=2017&page=1&when=past'"
      ]
     },
     "metadata": {},
     "output_type": "display_data"
    },
    {
     "data": {
      "text/plain": [
       "'https://www.ted.com/tedx/events?autocomplete_filter=Qatar&year=2012&page=1&when=past'"
      ]
     },
     "metadata": {},
     "output_type": "display_data"
    },
    {
     "data": {
      "text/plain": [
       "'https://www.ted.com/tedx/events?autocomplete_filter=Qatar&year=2010&page=1&when=past'"
      ]
     },
     "metadata": {},
     "output_type": "display_data"
    },
    {
     "data": {
      "text/plain": [
       "'https://www.ted.com/tedx/events?autocomplete_filter=Peru&year=2010&page=1&when=past'"
      ]
     },
     "metadata": {},
     "output_type": "display_data"
    },
    {
     "data": {
      "text/plain": [
       "'https://www.ted.com/tedx/events?autocomplete_filter=Reunion&year=2012&page=1&when=past'"
      ]
     },
     "metadata": {},
     "output_type": "display_data"
    },
    {
     "data": {
      "text/plain": [
       "'https://www.ted.com/tedx/events?autocomplete_filter=Rwanda&year=2011&page=1&when=past'"
      ]
     },
     "metadata": {},
     "output_type": "display_data"
    },
    {
     "data": {
      "text/plain": [
       "'https://www.ted.com/tedx/events?autocomplete_filter=Saint+Vincent+And+The+Grenadines&year=2014&page=1&when=past'"
      ]
     },
     "metadata": {},
     "output_type": "display_data"
    },
    {
     "data": {
      "text/plain": [
       "'https://www.ted.com/tedx/events?autocomplete_filter=Saint+Pierre+And+Miquelon&year=2010&page=1&when=past'"
      ]
     },
     "metadata": {},
     "output_type": "display_data"
    },
    {
     "data": {
      "text/plain": [
       "'https://www.ted.com/tedx/events?autocomplete_filter=Saint+Kitts+And+Nevis&year=2011&page=1&when=past'"
      ]
     },
     "metadata": {},
     "output_type": "display_data"
    },
    {
     "data": {
      "text/plain": [
       "'https://www.ted.com/tedx/events?autocomplete_filter=Portugal&year=2009&page=1&when=past'"
      ]
     },
     "metadata": {},
     "output_type": "display_data"
    },
    {
     "data": {
      "text/plain": [
       "'https://www.ted.com/tedx/events?autocomplete_filter=Samoa&year=2018&page=1&when=past'"
      ]
     },
     "metadata": {},
     "output_type": "display_data"
    },
    {
     "data": {
      "text/plain": [
       "'https://www.ted.com/tedx/events?autocomplete_filter=Saint+Pierre+And+Miquelon&year=2015&page=1&when=past'"
      ]
     },
     "metadata": {},
     "output_type": "display_data"
    },
    {
     "data": {
      "text/plain": [
       "'https://www.ted.com/tedx/events?autocomplete_filter=Saint+Vincent+And+The+Grenadines&year=2016&page=1&when=past'"
      ]
     },
     "metadata": {},
     "output_type": "display_data"
    },
    {
     "data": {
      "text/plain": [
       "'https://www.ted.com/tedx/events?autocomplete_filter=Saudi+Arabia&year=2014&page=1&when=past'"
      ]
     },
     "metadata": {},
     "output_type": "display_data"
    },
    {
     "data": {
      "text/plain": [
       "'https://www.ted.com/tedx/events?autocomplete_filter=Rwanda&year=2019&page=1&when=past'"
      ]
     },
     "metadata": {},
     "output_type": "display_data"
    },
    {
     "data": {
      "text/plain": [
       "'https://www.ted.com/tedx/events?autocomplete_filter=Reunion&year=2015&page=1&when=past'"
      ]
     },
     "metadata": {},
     "output_type": "display_data"
    },
    {
     "data": {
      "text/plain": [
       "'https://www.ted.com/tedx/events?autocomplete_filter=Saint+Pierre+And+Miquelon&year=2020&page=1&when=past'"
      ]
     },
     "metadata": {},
     "output_type": "display_data"
    },
    {
     "data": {
      "text/plain": [
       "'https://www.ted.com/tedx/events?autocomplete_filter=Reunion&year=2013&page=1&when=past'"
      ]
     },
     "metadata": {},
     "output_type": "display_data"
    },
    {
     "data": {
      "text/plain": [
       "'https://www.ted.com/tedx/events?autocomplete_filter=Philippines&year=2013&page=1&when=past'"
      ]
     },
     "metadata": {},
     "output_type": "display_data"
    },
    {
     "data": {
      "text/plain": [
       "'https://www.ted.com/tedx/events?autocomplete_filter=Romania&year=2015&page=1&when=past'"
      ]
     },
     "metadata": {},
     "output_type": "display_data"
    },
    {
     "data": {
      "text/plain": [
       "'https://www.ted.com/tedx/events?autocomplete_filter=Samoa&year=2017&page=1&when=past'"
      ]
     },
     "metadata": {},
     "output_type": "display_data"
    },
    {
     "data": {
      "text/plain": [
       "'https://www.ted.com/tedx/events?autocomplete_filter=Saint+Helena&year=2014&page=1&when=past'"
      ]
     },
     "metadata": {},
     "output_type": "display_data"
    },
    {
     "data": {
      "text/plain": [
       "'https://www.ted.com/tedx/events?autocomplete_filter=Saint+Vincent+And+The+Grenadines&year=2013&page=1&when=past'"
      ]
     },
     "metadata": {},
     "output_type": "display_data"
    },
    {
     "data": {
      "text/plain": [
       "'https://www.ted.com/tedx/events?autocomplete_filter=Saint+Lucia&year=2014&page=1&when=past'"
      ]
     },
     "metadata": {},
     "output_type": "display_data"
    },
    {
     "data": {
      "text/plain": [
       "'https://www.ted.com/tedx/events?autocomplete_filter=Puerto+Rico&year=2012&page=1&when=past'"
      ]
     },
     "metadata": {},
     "output_type": "display_data"
    },
    {
     "data": {
      "text/plain": [
       "'https://www.ted.com/tedx/events?autocomplete_filter=Sao+Tome+And+Principe&year=2009&page=1&when=past'"
      ]
     },
     "metadata": {},
     "output_type": "display_data"
    },
    {
     "data": {
      "text/plain": [
       "'https://www.ted.com/tedx/events?autocomplete_filter=Saint+Vincent+And+The+Grenadines&year=2018&page=1&when=past'"
      ]
     },
     "metadata": {},
     "output_type": "display_data"
    },
    {
     "data": {
      "text/plain": [
       "'https://www.ted.com/tedx/events?autocomplete_filter=Samoa&year=2019&page=1&when=past'"
      ]
     },
     "metadata": {},
     "output_type": "display_data"
    },
    {
     "data": {
      "text/plain": [
       "'https://www.ted.com/tedx/events?autocomplete_filter=Senegal&year=2017&page=1&when=past'"
      ]
     },
     "metadata": {},
     "output_type": "display_data"
    },
    {
     "data": {
      "text/plain": [
       "'https://www.ted.com/tedx/events?autocomplete_filter=Saint+Kitts+And+Nevis&year=2010&page=1&when=past'"
      ]
     },
     "metadata": {},
     "output_type": "display_data"
    },
    {
     "data": {
      "text/plain": [
       "'https://www.ted.com/tedx/events?autocomplete_filter=Romania&year=2018&page=1&when=past'"
      ]
     },
     "metadata": {},
     "output_type": "display_data"
    },
    {
     "data": {
      "text/plain": [
       "'https://www.ted.com/tedx/events?autocomplete_filter=Samoa&year=2011&page=1&when=past'"
      ]
     },
     "metadata": {},
     "output_type": "display_data"
    },
    {
     "data": {
      "text/plain": [
       "'https://www.ted.com/tedx/events?autocomplete_filter=Romania&year=2016&page=1&when=past'"
      ]
     },
     "metadata": {},
     "output_type": "display_data"
    },
    {
     "data": {
      "text/plain": [
       "'https://www.ted.com/tedx/events?autocomplete_filter=Pitcairn&year=2016&page=1&when=past'"
      ]
     },
     "metadata": {},
     "output_type": "display_data"
    },
    {
     "data": {
      "text/plain": [
       "'https://www.ted.com/tedx/events?autocomplete_filter=Russian+Federation&year=2018&page=1&when=past'"
      ]
     },
     "metadata": {},
     "output_type": "display_data"
    },
    {
     "data": {
      "text/plain": [
       "'https://www.ted.com/tedx/events?autocomplete_filter=Saint+Kitts+And+Nevis&year=2017&page=1&when=past'"
      ]
     },
     "metadata": {},
     "output_type": "display_data"
    },
    {
     "data": {
      "text/plain": [
       "'https://www.ted.com/tedx/events?autocomplete_filter=San+Marino&year=2020&page=1&when=past'"
      ]
     },
     "metadata": {},
     "output_type": "display_data"
    },
    {
     "data": {
      "text/plain": [
       "'https://www.ted.com/tedx/events?autocomplete_filter=Samoa&year=2016&page=1&when=past'"
      ]
     },
     "metadata": {},
     "output_type": "display_data"
    },
    {
     "data": {
      "text/plain": [
       "'https://www.ted.com/tedx/events?autocomplete_filter=Qatar&year=2015&page=1&when=past'"
      ]
     },
     "metadata": {},
     "output_type": "display_data"
    },
    {
     "data": {
      "text/plain": [
       "'https://www.ted.com/tedx/events?autocomplete_filter=Saint+Pierre+And+Miquelon&year=2017&page=1&when=past'"
      ]
     },
     "metadata": {},
     "output_type": "display_data"
    },
    {
     "data": {
      "text/plain": [
       "'https://www.ted.com/tedx/events?autocomplete_filter=San+Marino&year=2009&page=1&when=past'"
      ]
     },
     "metadata": {},
     "output_type": "display_data"
    },
    {
     "data": {
      "text/plain": [
       "'https://www.ted.com/tedx/events?autocomplete_filter=Saudi+Arabia&year=2012&page=1&when=past'"
      ]
     },
     "metadata": {},
     "output_type": "display_data"
    },
    {
     "data": {
      "text/plain": [
       "'https://www.ted.com/tedx/events?autocomplete_filter=Sao+Tome+And+Principe&year=2010&page=1&when=past'"
      ]
     },
     "metadata": {},
     "output_type": "display_data"
    },
    {
     "data": {
      "text/plain": [
       "'https://www.ted.com/tedx/events?autocomplete_filter=Serbia&year=2020&page=1&when=past'"
      ]
     },
     "metadata": {},
     "output_type": "display_data"
    },
    {
     "data": {
      "text/plain": [
       "'https://www.ted.com/tedx/events?autocomplete_filter=Saint+Lucia&year=2013&page=1&when=past'"
      ]
     },
     "metadata": {},
     "output_type": "display_data"
    },
    {
     "data": {
      "text/plain": [
       "'https://www.ted.com/tedx/events?autocomplete_filter=Russian+Federation&year=2019&page=1&when=past'"
      ]
     },
     "metadata": {},
     "output_type": "display_data"
    },
    {
     "data": {
      "text/plain": [
       "'https://www.ted.com/tedx/events?autocomplete_filter=San+Marino&year=2014&page=1&when=past'"
      ]
     },
     "metadata": {},
     "output_type": "display_data"
    },
    {
     "data": {
      "text/plain": [
       "'https://www.ted.com/tedx/events?autocomplete_filter=Rwanda&year=2009&page=1&when=past'"
      ]
     },
     "metadata": {},
     "output_type": "display_data"
    },
    {
     "data": {
      "text/plain": [
       "'https://www.ted.com/tedx/events?autocomplete_filter=Poland&year=2019&page=1&when=past'"
      ]
     },
     "metadata": {},
     "output_type": "display_data"
    },
    {
     "data": {
      "text/plain": [
       "'https://www.ted.com/tedx/events?autocomplete_filter=Saint+Helena&year=2009&page=1&when=past'"
      ]
     },
     "metadata": {},
     "output_type": "display_data"
    },
    {
     "data": {
      "text/plain": [
       "'https://www.ted.com/tedx/events?autocomplete_filter=Saudi+Arabia&year=2011&page=1&when=past'"
      ]
     },
     "metadata": {},
     "output_type": "display_data"
    },
    {
     "data": {
      "text/plain": [
       "'https://www.ted.com/tedx/events?autocomplete_filter=San+Marino&year=2019&page=1&when=past'"
      ]
     },
     "metadata": {},
     "output_type": "display_data"
    },
    {
     "data": {
      "text/plain": [
       "'https://www.ted.com/tedx/events?autocomplete_filter=Saint+Lucia&year=2020&page=1&when=past'"
      ]
     },
     "metadata": {},
     "output_type": "display_data"
    },
    {
     "data": {
      "text/plain": [
       "'https://www.ted.com/tedx/events?autocomplete_filter=Reunion&year=2018&page=1&when=past'"
      ]
     },
     "metadata": {},
     "output_type": "display_data"
    },
    {
     "data": {
      "text/plain": [
       "'https://www.ted.com/tedx/events?autocomplete_filter=Saint+Vincent+And+The+Grenadines&year=2020&page=1&when=past'"
      ]
     },
     "metadata": {},
     "output_type": "display_data"
    },
    {
     "data": {
      "text/plain": [
       "'https://www.ted.com/tedx/events?autocomplete_filter=Sao+Tome+And+Principe&year=2012&page=1&when=past'"
      ]
     },
     "metadata": {},
     "output_type": "display_data"
    },
    {
     "data": {
      "text/plain": [
       "'https://www.ted.com/tedx/events?autocomplete_filter=Saudi+Arabia&year=2013&page=1&when=past'"
      ]
     },
     "metadata": {},
     "output_type": "display_data"
    },
    {
     "data": {
      "text/plain": [
       "'https://www.ted.com/tedx/events?autocomplete_filter=Senegal&year=2015&page=1&when=past'"
      ]
     },
     "metadata": {},
     "output_type": "display_data"
    },
    {
     "data": {
      "text/plain": [
       "'https://www.ted.com/tedx/events?autocomplete_filter=Saint+Pierre+And+Miquelon&year=2016&page=1&when=past'"
      ]
     },
     "metadata": {},
     "output_type": "display_data"
    },
    {
     "data": {
      "text/plain": [
       "'https://www.ted.com/tedx/events?autocomplete_filter=Sierra+Leone&year=2011&page=1&when=past'"
      ]
     },
     "metadata": {},
     "output_type": "display_data"
    },
    {
     "data": {
      "text/plain": [
       "'https://www.ted.com/tedx/events?autocomplete_filter=Sao+Tome+And+Principe&year=2017&page=1&when=past'"
      ]
     },
     "metadata": {},
     "output_type": "display_data"
    },
    {
     "data": {
      "text/plain": [
       "'https://www.ted.com/tedx/events?autocomplete_filter=Saint+Helena&year=2010&page=1&when=past'"
      ]
     },
     "metadata": {},
     "output_type": "display_data"
    },
    {
     "data": {
      "text/plain": [
       "'https://www.ted.com/tedx/events?autocomplete_filter=Saint+Helena&year=2012&page=1&when=past'"
      ]
     },
     "metadata": {},
     "output_type": "display_data"
    },
    {
     "data": {
      "text/plain": [
       "'https://www.ted.com/tedx/events?autocomplete_filter=Puerto+Rico&year=2010&page=1&when=past'"
      ]
     },
     "metadata": {},
     "output_type": "display_data"
    },
    {
     "data": {
      "text/plain": [
       "'https://www.ted.com/tedx/events?autocomplete_filter=Saint+Kitts+And+Nevis&year=2012&page=1&when=past'"
      ]
     },
     "metadata": {},
     "output_type": "display_data"
    },
    {
     "data": {
      "text/plain": [
       "'https://www.ted.com/tedx/events?autocomplete_filter=Senegal&year=2014&page=1&when=past'"
      ]
     },
     "metadata": {},
     "output_type": "display_data"
    },
    {
     "data": {
      "text/plain": [
       "'https://www.ted.com/tedx/events?autocomplete_filter=Saudi+Arabia&year=2010&page=1&when=past'"
      ]
     },
     "metadata": {},
     "output_type": "display_data"
    },
    {
     "data": {
      "text/plain": [
       "'https://www.ted.com/tedx/events?autocomplete_filter=Saint+Vincent+And+The+Grenadines&year=2011&page=1&when=past'"
      ]
     },
     "metadata": {},
     "output_type": "display_data"
    },
    {
     "data": {
      "text/plain": [
       "'https://www.ted.com/tedx/events?autocomplete_filter=Russian+Federation&year=2009&page=1&when=past'"
      ]
     },
     "metadata": {},
     "output_type": "display_data"
    },
    {
     "data": {
      "text/plain": [
       "'https://www.ted.com/tedx/events?autocomplete_filter=Saudi+Arabia&year=2015&page=1&when=past'"
      ]
     },
     "metadata": {},
     "output_type": "display_data"
    },
    {
     "data": {
      "text/plain": [
       "'https://www.ted.com/tedx/events?autocomplete_filter=San+Marino&year=2011&page=1&when=past'"
      ]
     },
     "metadata": {},
     "output_type": "display_data"
    },
    {
     "data": {
      "text/plain": [
       "'https://www.ted.com/tedx/events?autocomplete_filter=Serbia&year=2018&page=1&when=past'"
      ]
     },
     "metadata": {},
     "output_type": "display_data"
    },
    {
     "data": {
      "text/plain": [
       "'https://www.ted.com/tedx/events?autocomplete_filter=Senegal&year=2016&page=1&when=past'"
      ]
     },
     "metadata": {},
     "output_type": "display_data"
    },
    {
     "data": {
      "text/plain": [
       "'https://www.ted.com/tedx/events?autocomplete_filter=Saint+Vincent+And+The+Grenadines&year=2019&page=1&when=past'"
      ]
     },
     "metadata": {},
     "output_type": "display_data"
    },
    {
     "data": {
      "text/plain": [
       "'https://www.ted.com/tedx/events?autocomplete_filter=Singapore&year=2014&page=1&when=past'"
      ]
     },
     "metadata": {},
     "output_type": "display_data"
    },
    {
     "data": {
      "text/plain": [
       "'https://www.ted.com/tedx/events?autocomplete_filter=Saudi+Arabia&year=2020&page=1&when=past'"
      ]
     },
     "metadata": {},
     "output_type": "display_data"
    },
    {
     "data": {
      "text/plain": [
       "'https://www.ted.com/tedx/events?autocomplete_filter=Saint+Kitts+And+Nevis&year=2013&page=1&when=past'"
      ]
     },
     "metadata": {},
     "output_type": "display_data"
    },
    {
     "data": {
      "text/plain": [
       "'https://www.ted.com/tedx/events?autocomplete_filter=Saint+Kitts+And+Nevis&year=2015&page=1&when=past'"
      ]
     },
     "metadata": {},
     "output_type": "display_data"
    },
    {
     "data": {
      "text/plain": [
       "'https://www.ted.com/tedx/events?autocomplete_filter=Qatar&year=2013&page=1&when=past'"
      ]
     },
     "metadata": {},
     "output_type": "display_data"
    },
    {
     "data": {
      "text/plain": [
       "'https://www.ted.com/tedx/events?autocomplete_filter=Saint+Lucia&year=2015&page=1&when=past'"
      ]
     },
     "metadata": {},
     "output_type": "display_data"
    },
    {
     "data": {
      "text/plain": [
       "'https://www.ted.com/tedx/events?autocomplete_filter=Serbia&year=2017&page=1&when=past'"
      ]
     },
     "metadata": {},
     "output_type": "display_data"
    },
    {
     "data": {
      "text/plain": [
       "'https://www.ted.com/tedx/events?autocomplete_filter=Senegal&year=2013&page=1&when=past'"
      ]
     },
     "metadata": {},
     "output_type": "display_data"
    },
    {
     "data": {
      "text/plain": [
       "'https://www.ted.com/tedx/events?autocomplete_filter=Samoa&year=2014&page=1&when=past'"
      ]
     },
     "metadata": {},
     "output_type": "display_data"
    },
    {
     "data": {
      "text/plain": [
       "'https://www.ted.com/tedx/events?autocomplete_filter=Rwanda&year=2012&page=1&when=past'"
      ]
     },
     "metadata": {},
     "output_type": "display_data"
    },
    {
     "data": {
      "text/plain": [
       "'https://www.ted.com/tedx/events?autocomplete_filter=Senegal&year=2018&page=1&when=past'"
      ]
     },
     "metadata": {},
     "output_type": "display_data"
    },
    {
     "data": {
      "text/plain": [
       "'https://www.ted.com/tedx/events?autocomplete_filter=Sao+Tome+And+Principe&year=2014&page=1&when=past'"
      ]
     },
     "metadata": {},
     "output_type": "display_data"
    },
    {
     "data": {
      "text/plain": [
       "'https://www.ted.com/tedx/events?autocomplete_filter=Sierra+Leone&year=2009&page=1&when=past'"
      ]
     },
     "metadata": {},
     "output_type": "display_data"
    },
    {
     "data": {
      "text/plain": [
       "'https://www.ted.com/tedx/events?autocomplete_filter=San+Marino&year=2010&page=1&when=past'"
      ]
     },
     "metadata": {},
     "output_type": "display_data"
    },
    {
     "data": {
      "text/plain": [
       "'https://www.ted.com/tedx/events?autocomplete_filter=Serbia&year=2019&page=1&when=past'"
      ]
     },
     "metadata": {},
     "output_type": "display_data"
    },
    {
     "data": {
      "text/plain": [
       "'https://www.ted.com/tedx/events?autocomplete_filter=Slovakia&year=2017&page=1&when=past'"
      ]
     },
     "metadata": {},
     "output_type": "display_data"
    },
    {
     "data": {
      "text/plain": [
       "'https://www.ted.com/tedx/events?autocomplete_filter=Serbia&year=2011&page=1&when=past'"
      ]
     },
     "metadata": {},
     "output_type": "display_data"
    },
    {
     "data": {
      "text/plain": [
       "'https://www.ted.com/tedx/events?autocomplete_filter=Saint+Lucia&year=2018&page=1&when=past'"
      ]
     },
     "metadata": {},
     "output_type": "display_data"
    },
    {
     "data": {
      "text/plain": [
       "'https://www.ted.com/tedx/events?autocomplete_filter=Reunion&year=2016&page=1&when=past'"
      ]
     },
     "metadata": {},
     "output_type": "display_data"
    },
    {
     "data": {
      "text/plain": [
       "'https://www.ted.com/tedx/events?autocomplete_filter=Saint+Lucia&year=2016&page=1&when=past'"
      ]
     },
     "metadata": {},
     "output_type": "display_data"
    },
    {
     "data": {
      "text/plain": [
       "'https://www.ted.com/tedx/events?autocomplete_filter=Saint+Pierre+And+Miquelon&year=2018&page=1&when=past'"
      ]
     },
     "metadata": {},
     "output_type": "display_data"
    },
    {
     "data": {
      "text/plain": [
       "'https://www.ted.com/tedx/events?autocomplete_filter=Seychelles&year=2020&page=1&when=past'"
      ]
     },
     "metadata": {},
     "output_type": "display_data"
    },
    {
     "data": {
      "text/plain": [
       "'https://www.ted.com/tedx/events?autocomplete_filter=Serbia&year=2016&page=1&when=past'"
      ]
     },
     "metadata": {},
     "output_type": "display_data"
    },
    {
     "data": {
      "text/plain": [
       "'https://www.ted.com/tedx/events?autocomplete_filter=San+Marino&year=2017&page=1&when=past'"
      ]
     },
     "metadata": {},
     "output_type": "display_data"
    },
    {
     "data": {
      "text/plain": [
       "'https://www.ted.com/tedx/events?autocomplete_filter=Saint+Helena&year=2015&page=1&when=past'"
      ]
     },
     "metadata": {},
     "output_type": "display_data"
    },
    {
     "data": {
      "text/plain": [
       "'https://www.ted.com/tedx/events?autocomplete_filter=Seychelles&year=2009&page=1&when=past'"
      ]
     },
     "metadata": {},
     "output_type": "display_data"
    },
    {
     "data": {
      "text/plain": [
       "'https://www.ted.com/tedx/events?autocomplete_filter=Saudi+Arabia&year=2017&page=1&when=past'"
      ]
     },
     "metadata": {},
     "output_type": "display_data"
    },
    {
     "data": {
      "text/plain": [
       "'https://www.ted.com/tedx/events?autocomplete_filter=Sierra+Leone&year=2010&page=1&when=past'"
      ]
     },
     "metadata": {},
     "output_type": "display_data"
    },
    {
     "data": {
      "text/plain": [
       "'https://www.ted.com/tedx/events?autocomplete_filter=Singapore&year=2012&page=1&when=past'"
      ]
     },
     "metadata": {},
     "output_type": "display_data"
    },
    {
     "data": {
      "text/plain": [
       "'https://www.ted.com/tedx/events?autocomplete_filter=Sao+Tome+And+Principe&year=2013&page=1&when=past'"
      ]
     },
     "metadata": {},
     "output_type": "display_data"
    },
    {
     "data": {
      "text/plain": [
       "'https://www.ted.com/tedx/events?autocomplete_filter=Seychelles&year=2014&page=1&when=past'"
      ]
     },
     "metadata": {},
     "output_type": "display_data"
    },
    {
     "data": {
      "text/plain": [
       "'https://www.ted.com/tedx/events?autocomplete_filter=Slovenia&year=2020&page=1&when=past'"
      ]
     },
     "metadata": {},
     "output_type": "display_data"
    },
    {
     "data": {
      "text/plain": [
       "'https://www.ted.com/tedx/events?autocomplete_filter=Saint+Pierre+And+Miquelon&year=2019&page=1&when=past'"
      ]
     },
     "metadata": {},
     "output_type": "display_data"
    },
    {
     "data": {
      "text/plain": [
       "'https://www.ted.com/tedx/events?autocomplete_filter=Samoa&year=2009&page=1&when=past'"
      ]
     },
     "metadata": {},
     "output_type": "display_data"
    },
    {
     "data": {
      "text/plain": [
       "'https://www.ted.com/tedx/events?autocomplete_filter=Romania&year=2019&page=1&when=past'"
      ]
     },
     "metadata": {},
     "output_type": "display_data"
    },
    {
     "data": {
      "text/plain": [
       "'https://www.ted.com/tedx/events?autocomplete_filter=Saint+Vincent+And+The+Grenadines&year=2009&page=1&when=past'"
      ]
     },
     "metadata": {},
     "output_type": "display_data"
    },
    {
     "data": {
      "text/plain": [
       "'https://www.ted.com/tedx/events?autocomplete_filter=Singapore&year=2011&page=1&when=past'"
      ]
     },
     "metadata": {},
     "output_type": "display_data"
    },
    {
     "data": {
      "text/plain": [
       "'https://www.ted.com/tedx/events?autocomplete_filter=Seychelles&year=2019&page=1&when=past'"
      ]
     },
     "metadata": {},
     "output_type": "display_data"
    },
    {
     "data": {
      "text/plain": [
       "'https://www.ted.com/tedx/events?autocomplete_filter=Sierra+Leone&year=2012&page=1&when=past'"
      ]
     },
     "metadata": {},
     "output_type": "display_data"
    },
    {
     "data": {
      "text/plain": [
       "'https://www.ted.com/tedx/events?autocomplete_filter=Sao+Tome+And+Principe&year=2020&page=1&when=past'"
      ]
     },
     "metadata": {},
     "output_type": "display_data"
    },
    {
     "data": {
      "text/plain": [
       "'https://www.ted.com/tedx/events?autocomplete_filter=Senegal&year=2020&page=1&when=past'"
      ]
     },
     "metadata": {},
     "output_type": "display_data"
    },
    {
     "data": {
      "text/plain": [
       "'https://www.ted.com/tedx/events?autocomplete_filter=Saudi+Arabia&year=2016&page=1&when=past'"
      ]
     },
     "metadata": {},
     "output_type": "display_data"
    },
    {
     "data": {
      "text/plain": [
       "'https://www.ted.com/tedx/events?autocomplete_filter=Singapore&year=2013&page=1&when=past'"
      ]
     },
     "metadata": {},
     "output_type": "display_data"
    },
    {
     "data": {
      "text/plain": [
       "'https://www.ted.com/tedx/events?autocomplete_filter=Slovakia&year=2015&page=1&when=past'"
      ]
     },
     "metadata": {},
     "output_type": "display_data"
    },
    {
     "data": {
      "text/plain": [
       "'https://www.ted.com/tedx/events?autocomplete_filter=Somalia&year=2011&page=1&when=past'"
      ]
     },
     "metadata": {},
     "output_type": "display_data"
    },
    {
     "data": {
      "text/plain": [
       "'https://www.ted.com/tedx/events?autocomplete_filter=Sierra+Leone&year=2017&page=1&when=past'"
      ]
     },
     "metadata": {},
     "output_type": "display_data"
    },
    {
     "data": {
      "text/plain": [
       "'https://www.ted.com/tedx/events?autocomplete_filter=Samoa&year=2010&page=1&when=past'"
      ]
     },
     "metadata": {},
     "output_type": "display_data"
    },
    {
     "data": {
      "text/plain": [
       "'https://www.ted.com/tedx/events?autocomplete_filter=San+Marino&year=2012&page=1&when=past'"
      ]
     },
     "metadata": {},
     "output_type": "display_data"
    },
    {
     "data": {
      "text/plain": [
       "'https://www.ted.com/tedx/events?autocomplete_filter=Rwanda&year=2010&page=1&when=past'"
      ]
     },
     "metadata": {},
     "output_type": "display_data"
    },
    {
     "data": {
      "text/plain": [
       "'https://www.ted.com/tedx/events?autocomplete_filter=Samoa&year=2012&page=1&when=past'"
      ]
     },
     "metadata": {},
     "output_type": "display_data"
    },
    {
     "data": {
      "text/plain": [
       "'https://www.ted.com/tedx/events?autocomplete_filter=Slovakia&year=2014&page=1&when=past'"
      ]
     },
     "metadata": {},
     "output_type": "display_data"
    },
    {
     "data": {
      "text/plain": [
       "'https://www.ted.com/tedx/events?autocomplete_filter=Singapore&year=2010&page=1&when=past'"
      ]
     },
     "metadata": {},
     "output_type": "display_data"
    },
    {
     "data": {
      "text/plain": [
       "'https://www.ted.com/tedx/events?autocomplete_filter=Senegal&year=2011&page=1&when=past'"
      ]
     },
     "metadata": {},
     "output_type": "display_data"
    },
    {
     "data": {
      "text/plain": [
       "'https://www.ted.com/tedx/events?autocomplete_filter=Saint+Kitts+And+Nevis&year=2018&page=1&when=past'"
      ]
     },
     "metadata": {},
     "output_type": "display_data"
    },
    {
     "data": {
      "text/plain": [
       "'https://www.ted.com/tedx/events?autocomplete_filter=Seychelles&year=2011&page=1&when=past'"
      ]
     },
     "metadata": {},
     "output_type": "display_data"
    },
    {
     "data": {
      "text/plain": [
       "'https://www.ted.com/tedx/events?autocomplete_filter=Singapore&year=2015&page=1&when=past'"
      ]
     },
     "metadata": {},
     "output_type": "display_data"
    },
    {
     "data": {
      "text/plain": [
       "'https://www.ted.com/tedx/events?autocomplete_filter=Senegal&year=2019&page=1&when=past'"
      ]
     },
     "metadata": {},
     "output_type": "display_data"
    },
    {
     "data": {
      "text/plain": [
       "'https://www.ted.com/tedx/events?autocomplete_filter=Slovenia&year=2018&page=1&when=past'"
      ]
     },
     "metadata": {},
     "output_type": "display_data"
    },
    {
     "data": {
      "text/plain": [
       "'https://www.ted.com/tedx/events?autocomplete_filter=Slovakia&year=2016&page=1&when=past'"
      ]
     },
     "metadata": {},
     "output_type": "display_data"
    },
    {
     "data": {
      "text/plain": [
       "'https://www.ted.com/tedx/events?autocomplete_filter=South+Africa&year=2014&page=1&when=past'"
      ]
     },
     "metadata": {},
     "output_type": "display_data"
    },
    {
     "data": {
      "text/plain": [
       "'https://www.ted.com/tedx/events?autocomplete_filter=Singapore&year=2020&page=1&when=past'"
      ]
     },
     "metadata": {},
     "output_type": "display_data"
    },
    {
     "data": {
      "text/plain": [
       "'https://www.ted.com/tedx/events?autocomplete_filter=San+Marino&year=2013&page=1&when=past'"
      ]
     },
     "metadata": {},
     "output_type": "display_data"
    },
    {
     "data": {
      "text/plain": [
       "'https://www.ted.com/tedx/events?autocomplete_filter=Saint+Helena&year=2013&page=1&when=past'"
      ]
     },
     "metadata": {},
     "output_type": "display_data"
    },
    {
     "data": {
      "text/plain": [
       "'https://www.ted.com/tedx/events?autocomplete_filter=Sao+Tome+And+Principe&year=2015&page=1&when=past'"
      ]
     },
     "metadata": {},
     "output_type": "display_data"
    },
    {
     "data": {
      "text/plain": [
       "'https://www.ted.com/tedx/events?autocomplete_filter=San+Marino&year=2015&page=1&when=past'"
      ]
     },
     "metadata": {},
     "output_type": "display_data"
    },
    {
     "data": {
      "text/plain": [
       "'https://www.ted.com/tedx/events?autocomplete_filter=Slovenia&year=2017&page=1&when=past'"
      ]
     },
     "metadata": {},
     "output_type": "display_data"
    },
    {
     "data": {
      "text/plain": [
       "'https://www.ted.com/tedx/events?autocomplete_filter=Slovakia&year=2013&page=1&when=past'"
      ]
     },
     "metadata": {},
     "output_type": "display_data"
    },
    {
     "data": {
      "text/plain": [
       "'https://www.ted.com/tedx/events?autocomplete_filter=Serbia&year=2014&page=1&when=past'"
      ]
     },
     "metadata": {},
     "output_type": "display_data"
    },
    {
     "data": {
      "text/plain": [
       "'https://www.ted.com/tedx/events?autocomplete_filter=Saint+Pierre+And+Miquelon&year=2009&page=1&when=past'"
      ]
     },
     "metadata": {},
     "output_type": "display_data"
    },
    {
     "data": {
      "text/plain": [
       "'https://www.ted.com/tedx/events?autocomplete_filter=Sierra+Leone&year=2014&page=1&when=past'"
      ]
     },
     "metadata": {},
     "output_type": "display_data"
    },
    {
     "data": {
      "text/plain": [
       "'https://www.ted.com/tedx/events?autocomplete_filter=Slovakia&year=2018&page=1&when=past'"
      ]
     },
     "metadata": {},
     "output_type": "display_data"
    },
    {
     "data": {
      "text/plain": [
       "'https://www.ted.com/tedx/events?autocomplete_filter=Seychelles&year=2010&page=1&when=past'"
      ]
     },
     "metadata": {},
     "output_type": "display_data"
    },
    {
     "data": {
      "text/plain": [
       "'https://www.ted.com/tedx/events?autocomplete_filter=Slovenia&year=2019&page=1&when=past'"
      ]
     },
     "metadata": {},
     "output_type": "display_data"
    },
    {
     "data": {
      "text/plain": [
       "'https://www.ted.com/tedx/events?autocomplete_filter=Somalia&year=2009&page=1&when=past'"
      ]
     },
     "metadata": {},
     "output_type": "display_data"
    },
    {
     "data": {
      "text/plain": [
       "'https://www.ted.com/tedx/events?autocomplete_filter=South+Georgia+And+The+South+Sandwich+Islands&year=2017&page=1&when=past'"
      ]
     },
     "metadata": {},
     "output_type": "display_data"
    },
    {
     "data": {
      "text/plain": [
       "'https://www.ted.com/tedx/events?autocomplete_filter=Sao+Tome+And+Principe&year=2016&page=1&when=past'"
      ]
     },
     "metadata": {},
     "output_type": "display_data"
    },
    {
     "data": {
      "text/plain": [
       "'https://www.ted.com/tedx/events?autocomplete_filter=Saint+Kitts+And+Nevis&year=2016&page=1&when=past'"
      ]
     },
     "metadata": {},
     "output_type": "display_data"
    },
    {
     "data": {
      "text/plain": [
       "'https://www.ted.com/tedx/events?autocomplete_filter=Saudi+Arabia&year=2018&page=1&when=past'"
      ]
     },
     "metadata": {},
     "output_type": "display_data"
    },
    {
     "data": {
      "text/plain": [
       "'https://www.ted.com/tedx/events?autocomplete_filter=Sao+Tome+And+Principe&year=2018&page=1&when=past'"
      ]
     },
     "metadata": {},
     "output_type": "display_data"
    },
    {
     "data": {
      "text/plain": [
       "'https://www.ted.com/tedx/events?autocomplete_filter=Solomon+Islands&year=2020&page=1&when=past'"
      ]
     },
     "metadata": {},
     "output_type": "display_data"
    },
    {
     "data": {
      "text/plain": [
       "'https://www.ted.com/tedx/events?autocomplete_filter=Slovenia&year=2016&page=1&when=past'"
      ]
     },
     "metadata": {},
     "output_type": "display_data"
    },
    {
     "data": {
      "text/plain": [
       "'https://www.ted.com/tedx/events?autocomplete_filter=Slovenia&year=2011&page=1&when=past'"
      ]
     },
     "metadata": {},
     "output_type": "display_data"
    },
    {
     "data": {
      "text/plain": [
       "'https://www.ted.com/tedx/events?autocomplete_filter=Seychelles&year=2017&page=1&when=past'"
      ]
     },
     "metadata": {},
     "output_type": "display_data"
    },
    {
     "data": {
      "text/plain": [
       "'https://www.ted.com/tedx/events?autocomplete_filter=Saint+Vincent+And+The+Grenadines&year=2012&page=1&when=past'"
      ]
     },
     "metadata": {},
     "output_type": "display_data"
    },
    {
     "data": {
      "text/plain": [
       "'https://www.ted.com/tedx/events?autocomplete_filter=Singapore&year=2017&page=1&when=past'"
      ]
     },
     "metadata": {},
     "output_type": "display_data"
    },
    {
     "data": {
      "text/plain": [
       "'https://www.ted.com/tedx/events?autocomplete_filter=Solomon+Islands&year=2009&page=1&when=past'"
      ]
     },
     "metadata": {},
     "output_type": "display_data"
    },
    {
     "data": {
      "text/plain": [
       "'https://www.ted.com/tedx/events?autocomplete_filter=Sierra+Leone&year=2013&page=1&when=past'"
      ]
     },
     "metadata": {},
     "output_type": "display_data"
    },
    {
     "data": {
      "text/plain": [
       "'https://www.ted.com/tedx/events?autocomplete_filter=South+Africa&year=2012&page=1&when=past'"
      ]
     },
     "metadata": {},
     "output_type": "display_data"
    },
    {
     "data": {
      "text/plain": [
       "'https://www.ted.com/tedx/events?autocomplete_filter=Somalia&year=2010&page=1&when=past'"
      ]
     },
     "metadata": {},
     "output_type": "display_data"
    },
    {
     "data": {
      "text/plain": [
       "'https://www.ted.com/tedx/events?autocomplete_filter=Spain&year=2020&page=1&when=past'"
      ]
     },
     "metadata": {},
     "output_type": "display_data"
    },
    {
     "data": {
      "text/plain": [
       "'https://www.ted.com/tedx/events?autocomplete_filter=Saudi+Arabia&year=2019&page=1&when=past'"
      ]
     },
     "metadata": {},
     "output_type": "display_data"
    },
    {
     "data": {
      "text/plain": [
       "'https://www.ted.com/tedx/events?autocomplete_filter=Saint+Lucia&year=2019&page=1&when=past'"
      ]
     },
     "metadata": {},
     "output_type": "display_data"
    },
    {
     "data": {
      "text/plain": [
       "'https://www.ted.com/tedx/events?autocomplete_filter=Serbia&year=2009&page=1&when=past'"
      ]
     },
     "metadata": {},
     "output_type": "display_data"
    },
    {
     "data": {
      "text/plain": [
       "'https://www.ted.com/tedx/events?autocomplete_filter=Senegal&year=2009&page=1&when=past'"
      ]
     },
     "metadata": {},
     "output_type": "display_data"
    },
    {
     "data": {
      "text/plain": [
       "'https://www.ted.com/tedx/events?autocomplete_filter=South+Africa&year=2011&page=1&when=past'"
      ]
     },
     "metadata": {},
     "output_type": "display_data"
    },
    {
     "data": {
      "text/plain": [
       "'https://www.ted.com/tedx/events?autocomplete_filter=Solomon+Islands&year=2014&page=1&when=past'"
      ]
     },
     "metadata": {},
     "output_type": "display_data"
    },
    {
     "data": {
      "text/plain": [
       "'https://www.ted.com/tedx/events?autocomplete_filter=Solomon+Islands&year=2019&page=1&when=past'"
      ]
     },
     "metadata": {},
     "output_type": "display_data"
    },
    {
     "data": {
      "text/plain": [
       "'https://www.ted.com/tedx/events?autocomplete_filter=Sierra+Leone&year=2020&page=1&when=past'"
      ]
     },
     "metadata": {},
     "output_type": "display_data"
    },
    {
     "data": {
      "text/plain": [
       "'https://www.ted.com/tedx/events?autocomplete_filter=Samoa&year=2015&page=1&when=past'"
      ]
     },
     "metadata": {},
     "output_type": "display_data"
    },
    {
     "data": {
      "text/plain": [
       "'https://www.ted.com/tedx/events?autocomplete_filter=Slovakia&year=2020&page=1&when=past'"
      ]
     },
     "metadata": {},
     "output_type": "display_data"
    },
    {
     "data": {
      "text/plain": [
       "'https://www.ted.com/tedx/events?autocomplete_filter=Singapore&year=2016&page=1&when=past'"
      ]
     },
     "metadata": {},
     "output_type": "display_data"
    },
    {
     "data": {
      "text/plain": [
       "'https://www.ted.com/tedx/events?autocomplete_filter=Somalia&year=2012&page=1&when=past'"
      ]
     },
     "metadata": {},
     "output_type": "display_data"
    },
    {
     "data": {
      "text/plain": [
       "'https://www.ted.com/tedx/events?autocomplete_filter=South+Georgia+And+The+South+Sandwich+Islands&year=2015&page=1&when=past'"
      ]
     },
     "metadata": {},
     "output_type": "display_data"
    },
    {
     "data": {
      "text/plain": [
       "'https://www.ted.com/tedx/events?autocomplete_filter=Sudan&year=2011&page=1&when=past'"
      ]
     },
     "metadata": {},
     "output_type": "display_data"
    },
    {
     "data": {
      "text/plain": [
       "'https://www.ted.com/tedx/events?autocomplete_filter=South+Africa&year=2013&page=1&when=past'"
      ]
     },
     "metadata": {},
     "output_type": "display_data"
    },
    {
     "data": {
      "text/plain": [
       "'https://www.ted.com/tedx/events?autocomplete_filter=Serbia&year=2010&page=1&when=past'"
      ]
     },
     "metadata": {},
     "output_type": "display_data"
    },
    {
     "data": {
      "text/plain": [
       "'https://www.ted.com/tedx/events?autocomplete_filter=Seychelles&year=2012&page=1&when=past'"
      ]
     },
     "metadata": {},
     "output_type": "display_data"
    },
    {
     "data": {
      "text/plain": [
       "'https://www.ted.com/tedx/events?autocomplete_filter=Saint+Vincent+And+The+Grenadines&year=2010&page=1&when=past'"
      ]
     },
     "metadata": {},
     "output_type": "display_data"
    },
    {
     "data": {
      "text/plain": [
       "'https://www.ted.com/tedx/events?autocomplete_filter=Serbia&year=2012&page=1&when=past'"
      ]
     },
     "metadata": {},
     "output_type": "display_data"
    },
    {
     "data": {
      "text/plain": [
       "'https://www.ted.com/tedx/events?autocomplete_filter=South+Georgia+And+The+South+Sandwich+Islands&year=2014&page=1&when=past'"
      ]
     },
     "metadata": {},
     "output_type": "display_data"
    },
    {
     "data": {
      "text/plain": [
       "'https://www.ted.com/tedx/events?autocomplete_filter=Somalia&year=2017&page=1&when=past'"
      ]
     },
     "metadata": {},
     "output_type": "display_data"
    },
    {
     "data": {
      "text/plain": [
       "'https://www.ted.com/tedx/events?autocomplete_filter=South+Africa&year=2010&page=1&when=past'"
      ]
     },
     "metadata": {},
     "output_type": "display_data"
    },
    {
     "data": {
      "text/plain": [
       "'https://www.ted.com/tedx/events?autocomplete_filter=Slovakia&year=2011&page=1&when=past'"
      ]
     },
     "metadata": {},
     "output_type": "display_data"
    },
    {
     "data": {
      "text/plain": [
       "'https://www.ted.com/tedx/events?autocomplete_filter=San+Marino&year=2018&page=1&when=past'"
      ]
     },
     "metadata": {},
     "output_type": "display_data"
    },
    {
     "data": {
      "text/plain": [
       "'https://www.ted.com/tedx/events?autocomplete_filter=Slovakia&year=2019&page=1&when=past'"
      ]
     },
     "metadata": {},
     "output_type": "display_data"
    },
    {
     "data": {
      "text/plain": [
       "'https://www.ted.com/tedx/events?autocomplete_filter=Solomon+Islands&year=2011&page=1&when=past'"
      ]
     },
     "metadata": {},
     "output_type": "display_data"
    },
    {
     "data": {
      "text/plain": [
       "'https://www.ted.com/tedx/events?autocomplete_filter=South+Africa&year=2015&page=1&when=past'"
      ]
     },
     "metadata": {},
     "output_type": "display_data"
    },
    {
     "data": {
      "text/plain": [
       "'https://www.ted.com/tedx/events?autocomplete_filter=South+Georgia+And+The+South+Sandwich+Islands&year=2016&page=1&when=past'"
      ]
     },
     "metadata": {},
     "output_type": "display_data"
    },
    {
     "data": {
      "text/plain": [
       "'https://www.ted.com/tedx/events?autocomplete_filter=Suriname&year=2014&page=1&when=past'"
      ]
     },
     "metadata": {},
     "output_type": "display_data"
    },
    {
     "data": {
      "text/plain": [
       "'https://www.ted.com/tedx/events?autocomplete_filter=Seychelles&year=2013&page=1&when=past'"
      ]
     },
     "metadata": {},
     "output_type": "display_data"
    },
    {
     "data": {
      "text/plain": [
       "'https://www.ted.com/tedx/events?autocomplete_filter=Spain&year=2018&page=1&when=past'"
      ]
     },
     "metadata": {},
     "output_type": "display_data"
    },
    {
     "data": {
      "text/plain": [
       "'https://www.ted.com/tedx/events?autocomplete_filter=Sierra+Leone&year=2015&page=1&when=past'"
      ]
     },
     "metadata": {},
     "output_type": "display_data"
    },
    {
     "data": {
      "text/plain": [
       "'https://www.ted.com/tedx/events?autocomplete_filter=Samoa&year=2013&page=1&when=past'"
      ]
     },
     "metadata": {},
     "output_type": "display_data"
    },
    {
     "data": {
      "text/plain": [
       "'https://www.ted.com/tedx/events?autocomplete_filter=Seychelles&year=2015&page=1&when=past'"
      ]
     },
     "metadata": {},
     "output_type": "display_data"
    },
    {
     "data": {
      "text/plain": [
       "'https://www.ted.com/tedx/events?autocomplete_filter=Spain&year=2017&page=1&when=past'"
      ]
     },
     "metadata": {},
     "output_type": "display_data"
    },
    {
     "data": {
      "text/plain": [
       "'https://www.ted.com/tedx/events?autocomplete_filter=South+Africa&year=2020&page=1&when=past'"
      ]
     },
     "metadata": {},
     "output_type": "display_data"
    },
    {
     "data": {
      "text/plain": [
       "'https://www.ted.com/tedx/events?autocomplete_filter=Slovenia&year=2014&page=1&when=past'"
      ]
     },
     "metadata": {},
     "output_type": "display_data"
    },
    {
     "data": {
      "text/plain": [
       "'https://www.ted.com/tedx/events?autocomplete_filter=Saudi+Arabia&year=2009&page=1&when=past'"
      ]
     },
     "metadata": {},
     "output_type": "display_data"
    },
    {
     "data": {
      "text/plain": [
       "'https://www.ted.com/tedx/events?autocomplete_filter=South+Georgia+And+The+South+Sandwich+Islands&year=2013&page=1&when=past'"
      ]
     },
     "metadata": {},
     "output_type": "display_data"
    },
    {
     "data": {
      "text/plain": [
       "'https://www.ted.com/tedx/events?autocomplete_filter=Somalia&year=2014&page=1&when=past'"
      ]
     },
     "metadata": {},
     "output_type": "display_data"
    },
    {
     "data": {
      "text/plain": [
       "'https://www.ted.com/tedx/events?autocomplete_filter=Solomon+Islands&year=2010&page=1&when=past'"
      ]
     },
     "metadata": {},
     "output_type": "display_data"
    },
    {
     "data": {
      "text/plain": [
       "'https://www.ted.com/tedx/events?autocomplete_filter=South+Georgia+And+The+South+Sandwich+Islands&year=2018&page=1&when=past'"
      ]
     },
     "metadata": {},
     "output_type": "display_data"
    },
    {
     "data": {
      "text/plain": [
       "'https://www.ted.com/tedx/events?autocomplete_filter=Spain&year=2019&page=1&when=past'"
      ]
     },
     "metadata": {},
     "output_type": "display_data"
    },
    {
     "data": {
      "text/plain": [
       "'https://www.ted.com/tedx/events?autocomplete_filter=Svalbard+And+Jan+Mayen&year=2017&page=1&when=past'"
      ]
     },
     "metadata": {},
     "output_type": "display_data"
    },
    {
     "data": {
      "text/plain": [
       "'https://www.ted.com/tedx/events?autocomplete_filter=Sudan&year=2009&page=1&when=past'"
      ]
     },
     "metadata": {},
     "output_type": "display_data"
    },
    {
     "data": {
      "text/plain": [
       "'https://www.ted.com/tedx/events?autocomplete_filter=Sierra+Leone&year=2016&page=1&when=past'"
      ]
     },
     "metadata": {},
     "output_type": "display_data"
    },
    {
     "data": {
      "text/plain": [
       "'https://www.ted.com/tedx/events?autocomplete_filter=Singapore&year=2018&page=1&when=past'"
      ]
     },
     "metadata": {},
     "output_type": "display_data"
    },
    {
     "data": {
      "text/plain": [
       "'https://www.ted.com/tedx/events?autocomplete_filter=San+Marino&year=2016&page=1&when=past'"
      ]
     },
     "metadata": {},
     "output_type": "display_data"
    },
    {
     "data": {
      "text/plain": [
       "'https://www.ted.com/tedx/events?autocomplete_filter=Sierra+Leone&year=2018&page=1&when=past'"
      ]
     },
     "metadata": {},
     "output_type": "display_data"
    },
    {
     "data": {
      "text/plain": [
       "'https://www.ted.com/tedx/events?autocomplete_filter=Sri+Lanka&year=2020&page=1&when=past'"
      ]
     },
     "metadata": {},
     "output_type": "display_data"
    },
    {
     "data": {
      "text/plain": [
       "'https://www.ted.com/tedx/events?autocomplete_filter=Spain&year=2011&page=1&when=past'"
      ]
     },
     "metadata": {},
     "output_type": "display_data"
    },
    {
     "data": {
      "text/plain": [
       "'https://www.ted.com/tedx/events?autocomplete_filter=Senegal&year=2012&page=1&when=past'"
      ]
     },
     "metadata": {},
     "output_type": "display_data"
    },
    {
     "data": {
      "text/plain": [
       "'https://www.ted.com/tedx/events?autocomplete_filter=Spain&year=2016&page=1&when=past'"
      ]
     },
     "metadata": {},
     "output_type": "display_data"
    },
    {
     "data": {
      "text/plain": [
       "'https://www.ted.com/tedx/events?autocomplete_filter=South+Africa&year=2017&page=1&when=past'"
      ]
     },
     "metadata": {},
     "output_type": "display_data"
    },
    {
     "data": {
      "text/plain": [
       "'https://www.ted.com/tedx/events?autocomplete_filter=Somalia&year=2013&page=1&when=past'"
      ]
     },
     "metadata": {},
     "output_type": "display_data"
    },
    {
     "data": {
      "text/plain": [
       "'https://www.ted.com/tedx/events?autocomplete_filter=Sri+Lanka&year=2009&page=1&when=past'"
      ]
     },
     "metadata": {},
     "output_type": "display_data"
    },
    {
     "data": {
      "text/plain": [
       "'https://www.ted.com/tedx/events?autocomplete_filter=Singapore&year=2019&page=1&when=past'"
      ]
     },
     "metadata": {},
     "output_type": "display_data"
    },
    {
     "data": {
      "text/plain": [
       "'https://www.ted.com/tedx/events?autocomplete_filter=Swaziland&year=2020&page=1&when=past'"
      ]
     },
     "metadata": {},
     "output_type": "display_data"
    },
    {
     "data": {
      "text/plain": [
       "'https://www.ted.com/tedx/events?autocomplete_filter=Sudan&year=2010&page=1&when=past'"
      ]
     },
     "metadata": {},
     "output_type": "display_data"
    },
    {
     "data": {
      "text/plain": [
       "'https://www.ted.com/tedx/events?autocomplete_filter=Suriname&year=2012&page=1&when=past'"
      ]
     },
     "metadata": {},
     "output_type": "display_data"
    },
    {
     "data": {
      "text/plain": [
       "'https://www.ted.com/tedx/events?autocomplete_filter=Slovenia&year=2009&page=1&when=past'"
      ]
     },
     "metadata": {},
     "output_type": "display_data"
    },
    {
     "data": {
      "text/plain": [
       "'https://www.ted.com/tedx/events?autocomplete_filter=Sao+Tome+And+Principe&year=2019&page=1&when=past'"
      ]
     },
     "metadata": {},
     "output_type": "display_data"
    },
    {
     "data": {
      "text/plain": [
       "'https://www.ted.com/tedx/events?autocomplete_filter=Slovakia&year=2009&page=1&when=past'"
      ]
     },
     "metadata": {},
     "output_type": "display_data"
    },
    {
     "data": {
      "text/plain": [
       "'https://www.ted.com/tedx/events?autocomplete_filter=Suriname&year=2011&page=1&when=past'"
      ]
     },
     "metadata": {},
     "output_type": "display_data"
    },
    {
     "data": {
      "text/plain": [
       "'https://www.ted.com/tedx/events?autocomplete_filter=Sri+Lanka&year=2014&page=1&when=past'"
      ]
     },
     "metadata": {},
     "output_type": "display_data"
    },
    {
     "data": {
      "text/plain": [
       "'https://www.ted.com/tedx/events?autocomplete_filter=Serbia&year=2015&page=1&when=past'"
      ]
     },
     "metadata": {},
     "output_type": "display_data"
    },
    {
     "data": {
      "text/plain": [
       "'https://www.ted.com/tedx/events?autocomplete_filter=South+Georgia+And+The+South+Sandwich+Islands&year=2020&page=1&when=past'"
      ]
     },
     "metadata": {},
     "output_type": "display_data"
    },
    {
     "data": {
      "text/plain": [
       "'https://www.ted.com/tedx/events?autocomplete_filter=Sri+Lanka&year=2019&page=1&when=past'"
      ]
     },
     "metadata": {},
     "output_type": "display_data"
    },
    {
     "data": {
      "text/plain": [
       "'https://www.ted.com/tedx/events?autocomplete_filter=Solomon+Islands&year=2017&page=1&when=past'"
      ]
     },
     "metadata": {},
     "output_type": "display_data"
    },
    {
     "data": {
      "text/plain": [
       "'https://www.ted.com/tedx/events?autocomplete_filter=Sudan&year=2012&page=1&when=past'"
      ]
     },
     "metadata": {},
     "output_type": "display_data"
    },
    {
     "data": {
      "text/plain": [
       "'https://www.ted.com/tedx/events?autocomplete_filter=South+Africa&year=2016&page=1&when=past'"
      ]
     },
     "metadata": {},
     "output_type": "display_data"
    },
    {
     "data": {
      "text/plain": [
       "'https://www.ted.com/tedx/events?autocomplete_filter=Slovenia&year=2010&page=1&when=past'"
      ]
     },
     "metadata": {},
     "output_type": "display_data"
    },
    {
     "data": {
      "text/plain": [
       "'https://www.ted.com/tedx/events?autocomplete_filter=Switzerland&year=2011&page=1&when=past'"
      ]
     },
     "metadata": {},
     "output_type": "display_data"
    },
    {
     "data": {
      "text/plain": [
       "'https://www.ted.com/tedx/events?autocomplete_filter=Suriname&year=2013&page=1&when=past'"
      ]
     },
     "metadata": {},
     "output_type": "display_data"
    },
    {
     "data": {
      "text/plain": [
       "'https://www.ted.com/tedx/events?autocomplete_filter=Solomon+Islands&year=2012&page=1&when=past'"
      ]
     },
     "metadata": {},
     "output_type": "display_data"
    },
    {
     "data": {
      "text/plain": [
       "'https://www.ted.com/tedx/events?autocomplete_filter=Svalbard+And+Jan+Mayen&year=2015&page=1&when=past'"
      ]
     },
     "metadata": {},
     "output_type": "display_data"
    },
    {
     "data": {
      "text/plain": [
       "'https://www.ted.com/tedx/events?autocomplete_filter=Senegal&year=2010&page=1&when=past'"
      ]
     },
     "metadata": {},
     "output_type": "display_data"
    },
    {
     "data": {
      "text/plain": [
       "'https://www.ted.com/tedx/events?autocomplete_filter=Slovenia&year=2012&page=1&when=past'"
      ]
     },
     "metadata": {},
     "output_type": "display_data"
    },
    {
     "data": {
      "text/plain": [
       "'https://www.ted.com/tedx/events?autocomplete_filter=Svalbard+And+Jan+Mayen&year=2014&page=1&when=past'"
      ]
     },
     "metadata": {},
     "output_type": "display_data"
    },
    {
     "data": {
      "text/plain": [
       "'https://www.ted.com/tedx/events?autocomplete_filter=Seychelles&year=2018&page=1&when=past'"
      ]
     },
     "metadata": {},
     "output_type": "display_data"
    },
    {
     "data": {
      "text/plain": [
       "'https://www.ted.com/tedx/events?autocomplete_filter=Sudan&year=2017&page=1&when=past'"
      ]
     },
     "metadata": {},
     "output_type": "display_data"
    },
    {
     "data": {
      "text/plain": [
       "'https://www.ted.com/tedx/events?autocomplete_filter=Sri+Lanka&year=2011&page=1&when=past'"
      ]
     },
     "metadata": {},
     "output_type": "display_data"
    },
    {
     "data": {
      "text/plain": [
       "'https://www.ted.com/tedx/events?autocomplete_filter=Suriname&year=2010&page=1&when=past'"
      ]
     },
     "metadata": {},
     "output_type": "display_data"
    },
    {
     "data": {
      "text/plain": [
       "'https://www.ted.com/tedx/events?autocomplete_filter=South+Georgia+And+The+South+Sandwich+Islands&year=2019&page=1&when=past'"
      ]
     },
     "metadata": {},
     "output_type": "display_data"
    },
    {
     "data": {
      "text/plain": [
       "'https://www.ted.com/tedx/events?autocomplete_filter=Somalia&year=2020&page=1&when=past'"
      ]
     },
     "metadata": {},
     "output_type": "display_data"
    },
    {
     "data": {
      "text/plain": [
       "'https://www.ted.com/tedx/events?autocomplete_filter=Suriname&year=2015&page=1&when=past'"
      ]
     },
     "metadata": {},
     "output_type": "display_data"
    },
    {
     "data": {
      "text/plain": [
       "'https://www.ted.com/tedx/events?autocomplete_filter=Solomon+Islands&year=2013&page=1&when=past'"
      ]
     },
     "metadata": {},
     "output_type": "display_data"
    },
    {
     "data": {
      "text/plain": [
       "'https://www.ted.com/tedx/events?autocomplete_filter=Swaziland&year=2018&page=1&when=past'"
      ]
     },
     "metadata": {},
     "output_type": "display_data"
    },
    {
     "data": {
      "text/plain": [
       "'https://www.ted.com/tedx/events?autocomplete_filter=Syrian+Arab+Republic&year=2014&page=1&when=past'"
      ]
     },
     "metadata": {},
     "output_type": "display_data"
    },
    {
     "data": {
      "text/plain": [
       "'https://www.ted.com/tedx/events?autocomplete_filter=Somalia&year=2015&page=1&when=past'"
      ]
     },
     "metadata": {},
     "output_type": "display_data"
    },
    {
     "data": {
      "text/plain": [
       "'https://www.ted.com/tedx/events?autocomplete_filter=Svalbard+And+Jan+Mayen&year=2016&page=1&when=past'"
      ]
     },
     "metadata": {},
     "output_type": "display_data"
    },
    {
     "data": {
      "text/plain": [
       "'https://www.ted.com/tedx/events?autocomplete_filter=Serbia&year=2013&page=1&when=past'"
      ]
     },
     "metadata": {},
     "output_type": "display_data"
    },
    {
     "data": {
      "text/plain": [
       "'https://www.ted.com/tedx/events?autocomplete_filter=Solomon+Islands&year=2015&page=1&when=past'"
      ]
     },
     "metadata": {},
     "output_type": "display_data"
    },
    {
     "data": {
      "text/plain": [
       "'https://www.ted.com/tedx/events?autocomplete_filter=Swaziland&year=2017&page=1&when=past'"
      ]
     },
     "metadata": {},
     "output_type": "display_data"
    },
    {
     "data": {
      "text/plain": [
       "'https://www.ted.com/tedx/events?autocomplete_filter=Singapore&year=2009&page=1&when=past'"
      ]
     },
     "metadata": {},
     "output_type": "display_data"
    },
    {
     "data": {
      "text/plain": [
       "'https://www.ted.com/tedx/events?autocomplete_filter=Suriname&year=2020&page=1&when=past'"
      ]
     },
     "metadata": {},
     "output_type": "display_data"
    },
    {
     "data": {
      "text/plain": [
       "'https://www.ted.com/tedx/events?autocomplete_filter=Sudan&year=2014&page=1&when=past'"
      ]
     },
     "metadata": {},
     "output_type": "display_data"
    },
    {
     "data": {
      "text/plain": [
       "'https://www.ted.com/tedx/events?autocomplete_filter=Svalbard+And+Jan+Mayen&year=2013&page=1&when=past'"
      ]
     },
     "metadata": {},
     "output_type": "display_data"
    },
    {
     "data": {
      "text/plain": [
       "'https://www.ted.com/tedx/events?autocomplete_filter=Sri+Lanka&year=2010&page=1&when=past'"
      ]
     },
     "metadata": {},
     "output_type": "display_data"
    },
    {
     "data": {
      "text/plain": [
       "'https://www.ted.com/tedx/events?autocomplete_filter=South+Georgia+And+The+South+Sandwich+Islands&year=2011&page=1&when=past'"
      ]
     },
     "metadata": {},
     "output_type": "display_data"
    },
    {
     "data": {
      "text/plain": [
       "'https://www.ted.com/tedx/events?autocomplete_filter=Svalbard+And+Jan+Mayen&year=2018&page=1&when=past'"
      ]
     },
     "metadata": {},
     "output_type": "display_data"
    },
    {
     "data": {
      "text/plain": [
       "'https://www.ted.com/tedx/events?autocomplete_filter=Switzerland&year=2009&page=1&when=past'"
      ]
     },
     "metadata": {},
     "output_type": "display_data"
    },
    {
     "data": {
      "text/plain": [
       "'https://www.ted.com/tedx/events?autocomplete_filter=Somalia&year=2016&page=1&when=past'"
      ]
     },
     "metadata": {},
     "output_type": "display_data"
    },
    {
     "data": {
      "text/plain": [
       "'https://www.ted.com/tedx/events?autocomplete_filter=Taiwan,+Province+Of+China&year=2017&page=1&when=past'"
      ]
     },
     "metadata": {},
     "output_type": "display_data"
    },
    {
     "data": {
      "text/plain": [
       "'https://www.ted.com/tedx/events?autocomplete_filter=Seychelles&year=2016&page=1&when=past'"
      ]
     },
     "metadata": {},
     "output_type": "display_data"
    },
    {
     "data": {
      "text/plain": [
       "'https://www.ted.com/tedx/events?autocomplete_filter=South+Africa&year=2018&page=1&when=past'"
      ]
     },
     "metadata": {},
     "output_type": "display_data"
    },
    {
     "data": {
      "text/plain": [
       "'https://www.ted.com/tedx/events?autocomplete_filter=Swaziland&year=2019&page=1&when=past'"
      ]
     },
     "metadata": {},
     "output_type": "display_data"
    },
    {
     "data": {
      "text/plain": [
       "'https://www.ted.com/tedx/events?autocomplete_filter=Somalia&year=2018&page=1&when=past'"
      ]
     },
     "metadata": {},
     "output_type": "display_data"
    },
    {
     "data": {
      "text/plain": [
       "'https://www.ted.com/tedx/events?autocomplete_filter=Sweden&year=2020&page=1&when=past'"
      ]
     },
     "metadata": {},
     "output_type": "display_data"
    },
    {
     "data": {
      "text/plain": [
       "'https://www.ted.com/tedx/events?autocomplete_filter=Swaziland&year=2011&page=1&when=past'"
      ]
     },
     "metadata": {},
     "output_type": "display_data"
    },
    {
     "data": {
      "text/plain": [
       "'https://www.ted.com/tedx/events?autocomplete_filter=Slovakia&year=2012&page=1&when=past'"
      ]
     },
     "metadata": {},
     "output_type": "display_data"
    },
    {
     "data": {
      "text/plain": [
       "'https://www.ted.com/tedx/events?autocomplete_filter=Swaziland&year=2016&page=1&when=past'"
      ]
     },
     "metadata": {},
     "output_type": "display_data"
    },
    {
     "data": {
      "text/plain": [
       "'https://www.ted.com/tedx/events?autocomplete_filter=Suriname&year=2017&page=1&when=past'"
      ]
     },
     "metadata": {},
     "output_type": "display_data"
    },
    {
     "data": {
      "text/plain": [
       "'https://www.ted.com/tedx/events?autocomplete_filter=Sudan&year=2013&page=1&when=past'"
      ]
     },
     "metadata": {},
     "output_type": "display_data"
    },
    {
     "data": {
      "text/plain": [
       "'https://www.ted.com/tedx/events?autocomplete_filter=Sweden&year=2009&page=1&when=past'"
      ]
     },
     "metadata": {},
     "output_type": "display_data"
    },
    {
     "data": {
      "text/plain": [
       "'https://www.ted.com/tedx/events?autocomplete_filter=Spain&year=2014&page=1&when=past'"
      ]
     },
     "metadata": {},
     "output_type": "display_data"
    },
    {
     "data": {
      "text/plain": [
       "'https://www.ted.com/tedx/events?autocomplete_filter=Syrian+Arab+Republic&year=2012&page=1&when=past'"
      ]
     },
     "metadata": {},
     "output_type": "display_data"
    },
    {
     "data": {
      "text/plain": [
       "'https://www.ted.com/tedx/events?autocomplete_filter=South+Africa&year=2019&page=1&when=past'"
      ]
     },
     "metadata": {},
     "output_type": "display_data"
    },
    {
     "data": {
      "text/plain": [
       "'https://www.ted.com/tedx/events?autocomplete_filter=Sierra+Leone&year=2019&page=1&when=past'"
      ]
     },
     "metadata": {},
     "output_type": "display_data"
    },
    {
     "data": {
      "text/plain": [
       "'https://www.ted.com/tedx/events?autocomplete_filter=Tajikistan&year=2020&page=1&when=past'"
      ]
     },
     "metadata": {},
     "output_type": "display_data"
    },
    {
     "data": {
      "text/plain": [
       "'https://www.ted.com/tedx/events?autocomplete_filter=Spain&year=2009&page=1&when=past'"
      ]
     },
     "metadata": {},
     "output_type": "display_data"
    },
    {
     "data": {
      "text/plain": [
       "'https://www.ted.com/tedx/events?autocomplete_filter=Switzerland&year=2010&page=1&when=past'"
      ]
     },
     "metadata": {},
     "output_type": "display_data"
    },
    {
     "data": {
      "text/plain": [
       "'https://www.ted.com/tedx/events?autocomplete_filter=Syrian+Arab+Republic&year=2011&page=1&when=past'"
      ]
     },
     "metadata": {},
     "output_type": "display_data"
    },
    {
     "data": {
      "text/plain": [
       "'https://www.ted.com/tedx/events?autocomplete_filter=South+Georgia+And+The+South+Sandwich+Islands&year=2009&page=1&when=past'"
      ]
     },
     "metadata": {},
     "output_type": "display_data"
    },
    {
     "data": {
      "text/plain": [
       "'https://www.ted.com/tedx/events?autocomplete_filter=Sweden&year=2014&page=1&when=past'"
      ]
     },
     "metadata": {},
     "output_type": "display_data"
    },
    {
     "data": {
      "text/plain": [
       "'https://www.ted.com/tedx/events?autocomplete_filter=Slovenia&year=2015&page=1&when=past'"
      ]
     },
     "metadata": {},
     "output_type": "display_data"
    },
    {
     "data": {
      "text/plain": [
       "'https://www.ted.com/tedx/events?autocomplete_filter=Suriname&year=2016&page=1&when=past'"
      ]
     },
     "metadata": {},
     "output_type": "display_data"
    },
    {
     "data": {
      "text/plain": [
       "'https://www.ted.com/tedx/events?autocomplete_filter=Sweden&year=2019&page=1&when=past'"
      ]
     },
     "metadata": {},
     "output_type": "display_data"
    },
    {
     "data": {
      "text/plain": [
       "'https://www.ted.com/tedx/events?autocomplete_filter=Svalbard+And+Jan+Mayen&year=2020&page=1&when=past'"
      ]
     },
     "metadata": {},
     "output_type": "display_data"
    },
    {
     "data": {
      "text/plain": [
       "'https://www.ted.com/tedx/events?autocomplete_filter=Switzerland&year=2012&page=1&when=past'"
      ]
     },
     "metadata": {},
     "output_type": "display_data"
    },
    {
     "data": {
      "text/plain": [
       "'https://www.ted.com/tedx/events?autocomplete_filter=Sri+Lanka&year=2017&page=1&when=past'"
      ]
     },
     "metadata": {},
     "output_type": "display_data"
    },
    {
     "data": {
      "text/plain": [
       "'https://www.ted.com/tedx/events?autocomplete_filter=Taiwan,+Province+Of+China&year=2015&page=1&when=past'"
      ]
     },
     "metadata": {},
     "output_type": "display_data"
    },
    {
     "data": {
      "text/plain": [
       "'https://www.ted.com/tedx/events?autocomplete_filter=Slovakia&year=2010&page=1&when=past'"
      ]
     },
     "metadata": {},
     "output_type": "display_data"
    },
    {
     "data": {
      "text/plain": [
       "'https://www.ted.com/tedx/events?autocomplete_filter=Spain&year=2010&page=1&when=past'"
      ]
     },
     "metadata": {},
     "output_type": "display_data"
    },
    {
     "data": {
      "text/plain": [
       "'https://www.ted.com/tedx/events?autocomplete_filter=Sri+Lanka&year=2012&page=1&when=past'"
      ]
     },
     "metadata": {},
     "output_type": "display_data"
    },
    {
     "data": {
      "text/plain": [
       "'https://www.ted.com/tedx/events?autocomplete_filter=Thailand&year=2011&page=1&when=past'"
      ]
     },
     "metadata": {},
     "output_type": "display_data"
    },
    {
     "data": {
      "text/plain": [
       "'https://www.ted.com/tedx/events?autocomplete_filter=Taiwan,+Province+Of+China&year=2014&page=1&when=past'"
      ]
     },
     "metadata": {},
     "output_type": "display_data"
    },
    {
     "data": {
      "text/plain": [
       "'https://www.ted.com/tedx/events?autocomplete_filter=Spain&year=2012&page=1&when=past'"
      ]
     },
     "metadata": {},
     "output_type": "display_data"
    },
    {
     "data": {
      "text/plain": [
       "'https://www.ted.com/tedx/events?autocomplete_filter=Syrian+Arab+Republic&year=2013&page=1&when=past'"
      ]
     },
     "metadata": {},
     "output_type": "display_data"
    },
    {
     "data": {
      "text/plain": [
       "'https://www.ted.com/tedx/events?autocomplete_filter=Switzerland&year=2017&page=1&when=past'"
      ]
     },
     "metadata": {},
     "output_type": "display_data"
    },
    {
     "data": {
      "text/plain": [
       "'https://www.ted.com/tedx/events?autocomplete_filter=Solomon+Islands&year=2018&page=1&when=past'"
      ]
     },
     "metadata": {},
     "output_type": "display_data"
    },
    {
     "data": {
      "text/plain": [
       "'https://www.ted.com/tedx/events?autocomplete_filter=Syrian+Arab+Republic&year=2010&page=1&when=past'"
      ]
     },
     "metadata": {},
     "output_type": "display_data"
    },
    {
     "data": {
      "text/plain": [
       "'https://www.ted.com/tedx/events?autocomplete_filter=Svalbard+And+Jan+Mayen&year=2019&page=1&when=past'"
      ]
     },
     "metadata": {},
     "output_type": "display_data"
    },
    {
     "data": {
      "text/plain": [
       "'https://www.ted.com/tedx/events?autocomplete_filter=Syrian+Arab+Republic&year=2015&page=1&when=past'"
      ]
     },
     "metadata": {},
     "output_type": "display_data"
    },
    {
     "data": {
      "text/plain": [
       "'https://www.ted.com/tedx/events?autocomplete_filter=Sweden&year=2011&page=1&when=past'"
      ]
     },
     "metadata": {},
     "output_type": "display_data"
    },
    {
     "data": {
      "text/plain": [
       "'https://www.ted.com/tedx/events?autocomplete_filter=Sudan&year=2020&page=1&when=past'"
      ]
     },
     "metadata": {},
     "output_type": "display_data"
    },
    {
     "data": {
      "text/plain": [
       "'https://www.ted.com/tedx/events?autocomplete_filter=Tajikistan&year=2018&page=1&when=past'"
      ]
     },
     "metadata": {},
     "output_type": "display_data"
    },
    {
     "data": {
      "text/plain": [
       "'https://www.ted.com/tedx/events?autocomplete_filter=Sri+Lanka&year=2013&page=1&when=past'"
      ]
     },
     "metadata": {},
     "output_type": "display_data"
    },
    {
     "data": {
      "text/plain": [
       "'https://www.ted.com/tedx/events?autocomplete_filter=Slovenia&year=2013&page=1&when=past'"
      ]
     },
     "metadata": {},
     "output_type": "display_data"
    },
    {
     "data": {
      "text/plain": [
       "'https://www.ted.com/tedx/events?autocomplete_filter=Togo&year=2014&page=1&when=past'"
      ]
     },
     "metadata": {},
     "output_type": "display_data"
    },
    {
     "data": {
      "text/plain": [
       "'https://www.ted.com/tedx/events?autocomplete_filter=Sudan&year=2015&page=1&when=past'"
      ]
     },
     "metadata": {},
     "output_type": "display_data"
    },
    {
     "data": {
      "text/plain": [
       "'https://www.ted.com/tedx/events?autocomplete_filter=Sri+Lanka&year=2015&page=1&when=past'"
      ]
     },
     "metadata": {},
     "output_type": "display_data"
    },
    {
     "data": {
      "text/plain": [
       "'https://www.ted.com/tedx/events?autocomplete_filter=Tajikistan&year=2017&page=1&when=past'"
      ]
     },
     "metadata": {},
     "output_type": "display_data"
    },
    {
     "data": {
      "text/plain": [
       "'https://www.ted.com/tedx/events?autocomplete_filter=Taiwan,+Province+Of+China&year=2016&page=1&when=past'"
      ]
     },
     "metadata": {},
     "output_type": "display_data"
    },
    {
     "data": {
      "text/plain": [
       "'https://www.ted.com/tedx/events?autocomplete_filter=Syrian+Arab+Republic&year=2020&page=1&when=past'"
      ]
     },
     "metadata": {},
     "output_type": "display_data"
    },
    {
     "data": {
      "text/plain": [
       "'https://www.ted.com/tedx/events?autocomplete_filter=South+Africa&year=2009&page=1&when=past'"
      ]
     },
     "metadata": {},
     "output_type": "display_data"
    },
    {
     "data": {
      "text/plain": [
       "'https://www.ted.com/tedx/events?autocomplete_filter=Taiwan,+Province+Of+China&year=2013&page=1&when=past'"
      ]
     },
     "metadata": {},
     "output_type": "display_data"
    },
    {
     "data": {
      "text/plain": [
       "'https://www.ted.com/tedx/events?autocomplete_filter=Taiwan,+Province+Of+China&year=2018&page=1&when=past'"
      ]
     },
     "metadata": {},
     "output_type": "display_data"
    },
    {
     "data": {
      "text/plain": [
       "'https://www.ted.com/tedx/events?autocomplete_filter=Sweden&year=2010&page=1&when=past'"
      ]
     },
     "metadata": {},
     "output_type": "display_data"
    },
    {
     "data": {
      "text/plain": [
       "'https://www.ted.com/tedx/events?autocomplete_filter=Switzerland&year=2014&page=1&when=past'"
      ]
     },
     "metadata": {},
     "output_type": "display_data"
    },
    {
     "data": {
      "text/plain": [
       "'https://www.ted.com/tedx/events?autocomplete_filter=Svalbard+And+Jan+Mayen&year=2011&page=1&when=past'"
      ]
     },
     "metadata": {},
     "output_type": "display_data"
    },
    {
     "data": {
      "text/plain": [
       "'https://www.ted.com/tedx/events?autocomplete_filter=Thailand&year=2009&page=1&when=past'"
      ]
     },
     "metadata": {},
     "output_type": "display_data"
    },
    {
     "data": {
      "text/plain": [
       "'https://www.ted.com/tedx/events?autocomplete_filter=Sudan&year=2016&page=1&when=past'"
      ]
     },
     "metadata": {},
     "output_type": "display_data"
    },
    {
     "data": {
      "text/plain": [
       "'https://www.ted.com/tedx/events?autocomplete_filter=Solomon+Islands&year=2016&page=1&when=past'"
      ]
     },
     "metadata": {},
     "output_type": "display_data"
    },
    {
     "data": {
      "text/plain": [
       "'https://www.ted.com/tedx/events?autocomplete_filter=Tokelau&year=2017&page=1&when=past'"
      ]
     },
     "metadata": {},
     "output_type": "display_data"
    },
    {
     "data": {
      "text/plain": [
       "'https://www.ted.com/tedx/events?autocomplete_filter=Suriname&year=2018&page=1&when=past'"
      ]
     },
     "metadata": {},
     "output_type": "display_data"
    },
    {
     "data": {
      "text/plain": [
       "'https://www.ted.com/tedx/events?autocomplete_filter=Tajikistan&year=2019&page=1&when=past'"
      ]
     },
     "metadata": {},
     "output_type": "display_data"
    },
    {
     "data": {
      "text/plain": [
       "'https://www.ted.com/tedx/events?autocomplete_filter=Tanzania,+United+Republic+Of&year=2020&page=1&when=past'"
      ]
     },
     "metadata": {},
     "output_type": "display_data"
    },
    {
     "data": {
      "text/plain": [
       "'https://www.ted.com/tedx/events?autocomplete_filter=Tajikistan&year=2011&page=1&when=past'"
      ]
     },
     "metadata": {},
     "output_type": "display_data"
    },
    {
     "data": {
      "text/plain": [
       "'https://www.ted.com/tedx/events?autocomplete_filter=South+Georgia+And+The+South+Sandwich+Islands&year=2012&page=1&when=past'"
      ]
     },
     "metadata": {},
     "output_type": "display_data"
    },
    {
     "data": {
      "text/plain": [
       "'https://www.ted.com/tedx/events?autocomplete_filter=Sudan&year=2018&page=1&when=past'"
      ]
     },
     "metadata": {},
     "output_type": "display_data"
    },
    {
     "data": {
      "text/plain": [
       "'https://www.ted.com/tedx/events?autocomplete_filter=Tanzania,+United+Republic+Of&year=2009&page=1&when=past'"
      ]
     },
     "metadata": {},
     "output_type": "display_data"
    },
    {
     "data": {
      "text/plain": [
       "'https://www.ted.com/tedx/events?autocomplete_filter=Tajikistan&year=2016&page=1&when=past'"
      ]
     },
     "metadata": {},
     "output_type": "display_data"
    },
    {
     "data": {
      "text/plain": [
       "'https://www.ted.com/tedx/events?autocomplete_filter=Syrian+Arab+Republic&year=2017&page=1&when=past'"
      ]
     },
     "metadata": {},
     "output_type": "display_data"
    },
    {
     "data": {
      "text/plain": [
       "'https://www.ted.com/tedx/events?autocomplete_filter=Switzerland&year=2013&page=1&when=past'"
      ]
     },
     "metadata": {},
     "output_type": "display_data"
    },
    {
     "data": {
      "text/plain": [
       "'https://www.ted.com/tedx/events?autocomplete_filter=Swaziland&year=2014&page=1&when=past'"
      ]
     },
     "metadata": {},
     "output_type": "display_data"
    },
    {
     "data": {
      "text/plain": [
       "'https://www.ted.com/tedx/events?autocomplete_filter=Togo&year=2012&page=1&when=past'"
      ]
     },
     "metadata": {},
     "output_type": "display_data"
    },
    {
     "data": {
      "text/plain": [
       "'https://www.ted.com/tedx/events?autocomplete_filter=Suriname&year=2019&page=1&when=past'"
      ]
     },
     "metadata": {},
     "output_type": "display_data"
    },
    {
     "data": {
      "text/plain": [
       "'https://www.ted.com/tedx/events?autocomplete_filter=Somalia&year=2019&page=1&when=past'"
      ]
     },
     "metadata": {},
     "output_type": "display_data"
    },
    {
     "data": {
      "text/plain": [
       "'https://www.ted.com/tedx/events?autocomplete_filter=Tonga&year=2020&page=1&when=past'"
      ]
     },
     "metadata": {},
     "output_type": "display_data"
    },
    {
     "data": {
      "text/plain": [
       "'https://www.ted.com/tedx/events?autocomplete_filter=Thailand&year=2010&page=1&when=past'"
      ]
     },
     "metadata": {},
     "output_type": "display_data"
    },
    {
     "data": {
      "text/plain": [
       "'https://www.ted.com/tedx/events?autocomplete_filter=Swaziland&year=2009&page=1&when=past'"
      ]
     },
     "metadata": {},
     "output_type": "display_data"
    },
    {
     "data": {
      "text/plain": [
       "'https://www.ted.com/tedx/events?autocomplete_filter=Togo&year=2011&page=1&when=past'"
      ]
     },
     "metadata": {},
     "output_type": "display_data"
    },
    {
     "data": {
      "text/plain": [
       "'https://www.ted.com/tedx/events?autocomplete_filter=Tanzania,+United+Republic+Of&year=2014&page=1&when=past'"
      ]
     },
     "metadata": {},
     "output_type": "display_data"
    },
    {
     "data": {
      "text/plain": [
       "'https://www.ted.com/tedx/events?autocomplete_filter=Spain&year=2015&page=1&when=past'"
      ]
     },
     "metadata": {},
     "output_type": "display_data"
    },
    {
     "data": {
      "text/plain": [
       "'https://www.ted.com/tedx/events?autocomplete_filter=Svalbard+And+Jan+Mayen&year=2009&page=1&when=past'"
      ]
     },
     "metadata": {},
     "output_type": "display_data"
    },
    {
     "data": {
      "text/plain": [
       "'https://www.ted.com/tedx/events?autocomplete_filter=Tanzania,+United+Republic+Of&year=2019&page=1&when=past'"
      ]
     },
     "metadata": {},
     "output_type": "display_data"
    },
    {
     "data": {
      "text/plain": [
       "'https://www.ted.com/tedx/events?autocomplete_filter=Thailand&year=2012&page=1&when=past'"
      ]
     },
     "metadata": {},
     "output_type": "display_data"
    },
    {
     "data": {
      "text/plain": [
       "'https://www.ted.com/tedx/events?autocomplete_filter=Syrian+Arab+Republic&year=2016&page=1&when=past'"
      ]
     },
     "metadata": {},
     "output_type": "display_data"
    },
    {
     "data": {
      "text/plain": [
       "'https://www.ted.com/tedx/events?autocomplete_filter=Sweden&year=2017&page=1&when=past'"
      ]
     },
     "metadata": {},
     "output_type": "display_data"
    },
    {
     "data": {
      "text/plain": [
       "'https://www.ted.com/tedx/events?autocomplete_filter=Taiwan,+Province+Of+China&year=2020&page=1&when=past'"
      ]
     },
     "metadata": {},
     "output_type": "display_data"
    },
    {
     "data": {
      "text/plain": [
       "'https://www.ted.com/tedx/events?autocomplete_filter=Tokelau&year=2015&page=1&when=past'"
      ]
     },
     "metadata": {},
     "output_type": "display_data"
    },
    {
     "data": {
      "text/plain": [
       "'https://www.ted.com/tedx/events?autocomplete_filter=South+Georgia+And+The+South+Sandwich+Islands&year=2010&page=1&when=past'"
      ]
     },
     "metadata": {},
     "output_type": "display_data"
    },
    {
     "data": {
      "text/plain": [
       "'https://www.ted.com/tedx/events?autocomplete_filter=Swaziland&year=2010&page=1&when=past'"
      ]
     },
     "metadata": {},
     "output_type": "display_data"
    },
    {
     "data": {
      "text/plain": [
       "'https://www.ted.com/tedx/events?autocomplete_filter=Tunisia&year=2011&page=1&when=past'"
      ]
     },
     "metadata": {},
     "output_type": "display_data"
    },
    {
     "data": {
      "text/plain": [
       "'https://www.ted.com/tedx/events?autocomplete_filter=Sweden&year=2012&page=1&when=past'"
      ]
     },
     "metadata": {},
     "output_type": "display_data"
    },
    {
     "data": {
      "text/plain": [
       "'https://www.ted.com/tedx/events?autocomplete_filter=Togo&year=2013&page=1&when=past'"
      ]
     },
     "metadata": {},
     "output_type": "display_data"
    },
    {
     "data": {
      "text/plain": [
       "'https://www.ted.com/tedx/events?autocomplete_filter=Tokelau&year=2014&page=1&when=past'"
      ]
     },
     "metadata": {},
     "output_type": "display_data"
    },
    {
     "data": {
      "text/plain": [
       "'https://www.ted.com/tedx/events?autocomplete_filter=Sri+Lanka&year=2018&page=1&when=past'"
      ]
     },
     "metadata": {},
     "output_type": "display_data"
    },
    {
     "data": {
      "text/plain": [
       "'https://www.ted.com/tedx/events?autocomplete_filter=Thailand&year=2017&page=1&when=past'"
      ]
     },
     "metadata": {},
     "output_type": "display_data"
    },
    {
     "data": {
      "text/plain": [
       "'https://www.ted.com/tedx/events?autocomplete_filter=Swaziland&year=2012&page=1&when=past'"
      ]
     },
     "metadata": {},
     "output_type": "display_data"
    },
    {
     "data": {
      "text/plain": [
       "'https://www.ted.com/tedx/events?autocomplete_filter=Togo&year=2010&page=1&when=past'"
      ]
     },
     "metadata": {},
     "output_type": "display_data"
    },
    {
     "data": {
      "text/plain": [
       "'https://www.ted.com/tedx/events?autocomplete_filter=Togo&year=2015&page=1&when=past'"
      ]
     },
     "metadata": {},
     "output_type": "display_data"
    },
    {
     "data": {
      "text/plain": [
       "'https://www.ted.com/tedx/events?autocomplete_filter=Tanzania,+United+Republic+Of&year=2011&page=1&when=past'"
      ]
     },
     "metadata": {},
     "output_type": "display_data"
    },
    {
     "data": {
      "text/plain": [
       "'https://www.ted.com/tedx/events?autocomplete_filter=Switzerland&year=2020&page=1&when=past'"
      ]
     },
     "metadata": {},
     "output_type": "display_data"
    },
    {
     "data": {
      "text/plain": [
       "'https://www.ted.com/tedx/events?autocomplete_filter=Taiwan,+Province+Of+China&year=2019&page=1&when=past'"
      ]
     },
     "metadata": {},
     "output_type": "display_data"
    },
    {
     "data": {
      "text/plain": [
       "'https://www.ted.com/tedx/events?autocomplete_filter=Tonga&year=2018&page=1&when=past'"
      ]
     },
     "metadata": {},
     "output_type": "display_data"
    },
    {
     "data": {
      "text/plain": [
       "'https://www.ted.com/tedx/events?autocomplete_filter=Spain&year=2013&page=1&when=past'"
      ]
     },
     "metadata": {},
     "output_type": "display_data"
    },
    {
     "data": {
      "text/plain": [
       "'https://www.ted.com/tedx/events?autocomplete_filter=Sweden&year=2013&page=1&when=past'"
      ]
     },
     "metadata": {},
     "output_type": "display_data"
    },
    {
     "data": {
      "text/plain": [
       "'https://www.ted.com/tedx/events?autocomplete_filter=Turkey&year=2014&page=1&when=past'"
      ]
     },
     "metadata": {},
     "output_type": "display_data"
    },
    {
     "data": {
      "text/plain": [
       "'https://www.ted.com/tedx/events?autocomplete_filter=Switzerland&year=2015&page=1&when=past'"
      ]
     },
     "metadata": {},
     "output_type": "display_data"
    },
    {
     "data": {
      "text/plain": [
       "'https://www.ted.com/tedx/events?autocomplete_filter=Tokelau&year=2016&page=1&when=past'"
      ]
     },
     "metadata": {},
     "output_type": "display_data"
    },
    {
     "data": {
      "text/plain": [
       "'https://www.ted.com/tedx/events?autocomplete_filter=Tonga&year=2017&page=1&when=past'"
      ]
     },
     "metadata": {},
     "output_type": "display_data"
    },
    {
     "data": {
      "text/plain": [
       "'https://www.ted.com/tedx/events?autocomplete_filter=Togo&year=2020&page=1&when=past'"
      ]
     },
     "metadata": {},
     "output_type": "display_data"
    },
    {
     "data": {
      "text/plain": [
       "'https://www.ted.com/tedx/events?autocomplete_filter=Suriname&year=2009&page=1&when=past'"
      ]
     },
     "metadata": {},
     "output_type": "display_data"
    },
    {
     "data": {
      "text/plain": [
       "'https://www.ted.com/tedx/events?autocomplete_filter=Sweden&year=2015&page=1&when=past'"
      ]
     },
     "metadata": {},
     "output_type": "display_data"
    },
    {
     "data": {
      "text/plain": [
       "'https://www.ted.com/tedx/events?autocomplete_filter=Tokelau&year=2013&page=1&when=past'"
      ]
     },
     "metadata": {},
     "output_type": "display_data"
    },
    {
     "data": {
      "text/plain": [
       "'https://www.ted.com/tedx/events?autocomplete_filter=Tokelau&year=2018&page=1&when=past'"
      ]
     },
     "metadata": {},
     "output_type": "display_data"
    },
    {
     "data": {
      "text/plain": [
       "'https://www.ted.com/tedx/events?autocomplete_filter=Tanzania,+United+Republic+Of&year=2010&page=1&when=past'"
      ]
     },
     "metadata": {},
     "output_type": "display_data"
    },
    {
     "data": {
      "text/plain": [
       "'https://www.ted.com/tedx/events?autocomplete_filter=Taiwan,+Province+Of+China&year=2011&page=1&when=past'"
      ]
     },
     "metadata": {},
     "output_type": "display_data"
    },
    {
     "data": {
      "text/plain": [
       "'https://www.ted.com/tedx/events?autocomplete_filter=Tunisia&year=2009&page=1&when=past'"
      ]
     },
     "metadata": {},
     "output_type": "display_data"
    },
    {
     "data": {
      "text/plain": [
       "'https://www.ted.com/tedx/events?autocomplete_filter=Thailand&year=2014&page=1&when=past'"
      ]
     },
     "metadata": {},
     "output_type": "display_data"
    },
    {
     "data": {
      "text/plain": [
       "'https://www.ted.com/tedx/events?autocomplete_filter=Sri+Lanka&year=2016&page=1&when=past'"
      ]
     },
     "metadata": {},
     "output_type": "display_data"
    },
    {
     "data": {
      "text/plain": [
       "'https://www.ted.com/tedx/events?autocomplete_filter=Switzerland&year=2016&page=1&when=past'"
      ]
     },
     "metadata": {},
     "output_type": "display_data"
    },
    {
     "data": {
      "text/plain": [
       "'https://www.ted.com/tedx/events?autocomplete_filter=Turkmenistan&year=2017&page=1&when=past'"
      ]
     },
     "metadata": {},
     "output_type": "display_data"
    },
    {
     "data": {
      "text/plain": [
       "'https://www.ted.com/tedx/events?autocomplete_filter=Syrian+Arab+Republic&year=2018&page=1&when=past'"
      ]
     },
     "metadata": {},
     "output_type": "display_data"
    },
    {
     "data": {
      "text/plain": [
       "'https://www.ted.com/tedx/events?autocomplete_filter=Tonga&year=2019&page=1&when=past'"
      ]
     },
     "metadata": {},
     "output_type": "display_data"
    },
    {
     "data": {
      "text/plain": [
       "'https://www.ted.com/tedx/events?autocomplete_filter=Trinidad+And+Tobago&year=2020&page=1&when=past'"
      ]
     },
     "metadata": {},
     "output_type": "display_data"
    },
    {
     "data": {
      "text/plain": [
       "'https://www.ted.com/tedx/events?autocomplete_filter=Tonga&year=2011&page=1&when=past'"
      ]
     },
     "metadata": {},
     "output_type": "display_data"
    },
    {
     "data": {
      "text/plain": [
       "'https://www.ted.com/tedx/events?autocomplete_filter=Svalbard+And+Jan+Mayen&year=2012&page=1&when=past'"
      ]
     },
     "metadata": {},
     "output_type": "display_data"
    },
    {
     "data": {
      "text/plain": [
       "'https://www.ted.com/tedx/events?autocomplete_filter=Switzerland&year=2018&page=1&when=past'"
      ]
     },
     "metadata": {},
     "output_type": "display_data"
    },
    {
     "data": {
      "text/plain": [
       "'https://www.ted.com/tedx/events?autocomplete_filter=Tonga&year=2016&page=1&when=past'"
      ]
     },
     "metadata": {},
     "output_type": "display_data"
    },
    {
     "data": {
      "text/plain": [
       "'https://www.ted.com/tedx/events?autocomplete_filter=Trinidad+And+Tobago&year=2009&page=1&when=past'"
      ]
     },
     "metadata": {},
     "output_type": "display_data"
    },
    {
     "data": {
      "text/plain": [
       "'https://www.ted.com/tedx/events?autocomplete_filter=Tajikistan&year=2014&page=1&when=past'"
      ]
     },
     "metadata": {},
     "output_type": "display_data"
    },
    {
     "data": {
      "text/plain": [
       "'https://www.ted.com/tedx/events?autocomplete_filter=Thailand&year=2013&page=1&when=past'"
      ]
     },
     "metadata": {},
     "output_type": "display_data"
    },
    {
     "data": {
      "text/plain": [
       "'https://www.ted.com/tedx/events?autocomplete_filter=Togo&year=2017&page=1&when=past'"
      ]
     },
     "metadata": {},
     "output_type": "display_data"
    },
    {
     "data": {
      "text/plain": [
       "'https://www.ted.com/tedx/events?autocomplete_filter=Turkey&year=2012&page=1&when=past'"
      ]
     },
     "metadata": {},
     "output_type": "display_data"
    },
    {
     "data": {
      "text/plain": [
       "'https://www.ted.com/tedx/events?autocomplete_filter=Sudan&year=2019&page=1&when=past'"
      ]
     },
     "metadata": {},
     "output_type": "display_data"
    },
    {
     "data": {
      "text/plain": [
       "'https://www.ted.com/tedx/events?autocomplete_filter=Syrian+Arab+Republic&year=2019&page=1&when=past'"
      ]
     },
     "metadata": {},
     "output_type": "display_data"
    },
    {
     "data": {
      "text/plain": [
       "'https://www.ted.com/tedx/events?autocomplete_filter=Turks+And+Caicos+Islands&year=2020&page=1&when=past'"
      ]
     },
     "metadata": {},
     "output_type": "display_data"
    },
    {
     "data": {
      "text/plain": [
       "'https://www.ted.com/tedx/events?autocomplete_filter=Tunisia&year=2010&page=1&when=past'"
      ]
     },
     "metadata": {},
     "output_type": "display_data"
    },
    {
     "data": {
      "text/plain": [
       "'https://www.ted.com/tedx/events?autocomplete_filter=Tajikistan&year=2009&page=1&when=past'"
      ]
     },
     "metadata": {},
     "output_type": "display_data"
    },
    {
     "data": {
      "text/plain": [
       "'https://www.ted.com/tedx/events?autocomplete_filter=Turkey&year=2011&page=1&when=past'"
      ]
     },
     "metadata": {},
     "output_type": "display_data"
    },
    {
     "data": {
      "text/plain": [
       "'https://www.ted.com/tedx/events?autocomplete_filter=Trinidad+And+Tobago&year=2014&page=1&when=past'"
      ]
     },
     "metadata": {},
     "output_type": "display_data"
    },
    {
     "data": {
      "text/plain": [
       "'https://www.ted.com/tedx/events?autocomplete_filter=Swaziland&year=2015&page=1&when=past'"
      ]
     },
     "metadata": {},
     "output_type": "display_data"
    },
    {
     "data": {
      "text/plain": [
       "'https://www.ted.com/tedx/events?autocomplete_filter=Taiwan,+Province+Of+China&year=2009&page=1&when=past'"
      ]
     },
     "metadata": {},
     "output_type": "display_data"
    },
    {
     "data": {
      "text/plain": [
       "'https://www.ted.com/tedx/events?autocomplete_filter=Trinidad+And+Tobago&year=2019&page=1&when=past'"
      ]
     },
     "metadata": {},
     "output_type": "display_data"
    },
    {
     "data": {
      "text/plain": [
       "'https://www.ted.com/tedx/events?autocomplete_filter=Togo&year=2016&page=1&when=past'"
      ]
     },
     "metadata": {},
     "output_type": "display_data"
    },
    {
     "data": {
      "text/plain": [
       "'https://www.ted.com/tedx/events?autocomplete_filter=Turkmenistan&year=2015&page=1&when=past'"
      ]
     },
     "metadata": {},
     "output_type": "display_data"
    },
    {
     "data": {
      "text/plain": [
       "'https://www.ted.com/tedx/events?autocomplete_filter=Tanzania,+United+Republic+Of&year=2017&page=1&when=past'"
      ]
     },
     "metadata": {},
     "output_type": "display_data"
    },
    {
     "data": {
      "text/plain": [
       "'https://www.ted.com/tedx/events?autocomplete_filter=Tunisia&year=2012&page=1&when=past'"
      ]
     },
     "metadata": {},
     "output_type": "display_data"
    },
    {
     "data": {
      "text/plain": [
       "'https://www.ted.com/tedx/events?autocomplete_filter=Tokelau&year=2020&page=1&when=past'"
      ]
     },
     "metadata": {},
     "output_type": "display_data"
    },
    {
     "data": {
      "text/plain": [
       "'https://www.ted.com/tedx/events?autocomplete_filter=Svalbard+And+Jan+Mayen&year=2010&page=1&when=past'"
      ]
     },
     "metadata": {},
     "output_type": "display_data"
    },
    {
     "data": {
      "text/plain": [
       "'https://www.ted.com/tedx/events?autocomplete_filter=Tajikistan&year=2010&page=1&when=past'"
      ]
     },
     "metadata": {},
     "output_type": "display_data"
    },
    {
     "data": {
      "text/plain": [
       "'https://www.ted.com/tedx/events?autocomplete_filter=Uganda&year=2011&page=1&when=past'"
      ]
     },
     "metadata": {},
     "output_type": "display_data"
    },
    {
     "data": {
      "text/plain": [
       "'https://www.ted.com/tedx/events?autocomplete_filter=Turkey&year=2013&page=1&when=past'"
      ]
     },
     "metadata": {},
     "output_type": "display_data"
    },
    {
     "data": {
      "text/plain": [
       "'https://www.ted.com/tedx/events?autocomplete_filter=Tanzania,+United+Republic+Of&year=2012&page=1&when=past'"
      ]
     },
     "metadata": {},
     "output_type": "display_data"
    },
    {
     "data": {
      "text/plain": [
       "'https://www.ted.com/tedx/events?autocomplete_filter=Turkmenistan&year=2014&page=1&when=past'"
      ]
     },
     "metadata": {},
     "output_type": "display_data"
    },
    {
     "data": {
      "text/plain": [
       "'https://www.ted.com/tedx/events?autocomplete_filter=Tunisia&year=2017&page=1&when=past'"
      ]
     },
     "metadata": {},
     "output_type": "display_data"
    },
    {
     "data": {
      "text/plain": [
       "'https://www.ted.com/tedx/events?autocomplete_filter=Tajikistan&year=2012&page=1&when=past'"
      ]
     },
     "metadata": {},
     "output_type": "display_data"
    },
    {
     "data": {
      "text/plain": [
       "'https://www.ted.com/tedx/events?autocomplete_filter=Turkey&year=2010&page=1&when=past'"
      ]
     },
     "metadata": {},
     "output_type": "display_data"
    },
    {
     "data": {
      "text/plain": [
       "'https://www.ted.com/tedx/events?autocomplete_filter=Sweden&year=2018&page=1&when=past'"
      ]
     },
     "metadata": {},
     "output_type": "display_data"
    },
    {
     "data": {
      "text/plain": [
       "'https://www.ted.com/tedx/events?autocomplete_filter=Tokelau&year=2019&page=1&when=past'"
      ]
     },
     "metadata": {},
     "output_type": "display_data"
    },
    {
     "data": {
      "text/plain": [
       "'https://www.ted.com/tedx/events?autocomplete_filter=Turks+And+Caicos+Islands&year=2018&page=1&when=past'"
      ]
     },
     "metadata": {},
     "output_type": "display_data"
    },
    {
     "data": {
      "text/plain": [
       "'https://www.ted.com/tedx/events?autocomplete_filter=Turkey&year=2015&page=1&when=past'"
      ]
     },
     "metadata": {},
     "output_type": "display_data"
    },
    {
     "data": {
      "text/plain": [
       "'https://www.ted.com/tedx/events?autocomplete_filter=Trinidad+And+Tobago&year=2011&page=1&when=past'"
      ]
     },
     "metadata": {},
     "output_type": "display_data"
    },
    {
     "data": {
      "text/plain": [
       "'https://www.ted.com/tedx/events?autocomplete_filter=Thailand&year=2020&page=1&when=past'"
      ]
     },
     "metadata": {},
     "output_type": "display_data"
    },
    {
     "data": {
      "text/plain": [
       "'https://www.ted.com/tedx/events?autocomplete_filter=Swaziland&year=2013&page=1&when=past'"
      ]
     },
     "metadata": {},
     "output_type": "display_data"
    },
    {
     "data": {
      "text/plain": [
       "'https://www.ted.com/tedx/events?autocomplete_filter=Tanzania,+United+Republic+Of&year=2013&page=1&when=past'"
      ]
     },
     "metadata": {},
     "output_type": "display_data"
    },
    {
     "data": {
      "text/plain": [
       "'https://www.ted.com/tedx/events?autocomplete_filter=Ukraine&year=2014&page=1&when=past'"
      ]
     },
     "metadata": {},
     "output_type": "display_data"
    },
    {
     "data": {
      "text/plain": [
       "'https://www.ted.com/tedx/events?autocomplete_filter=Turkmenistan&year=2016&page=1&when=past'"
      ]
     },
     "metadata": {},
     "output_type": "display_data"
    },
    {
     "data": {
      "text/plain": [
       "'https://www.ted.com/tedx/events?autocomplete_filter=Turks+And+Caicos+Islands&year=2017&page=1&when=past'"
      ]
     },
     "metadata": {},
     "output_type": "display_data"
    },
    {
     "data": {
      "text/plain": [
       "'https://www.ted.com/tedx/events?autocomplete_filter=Thailand&year=2015&page=1&when=past'"
      ]
     },
     "metadata": {},
     "output_type": "display_data"
    },
    {
     "data": {
      "text/plain": [
       "'https://www.ted.com/tedx/events?autocomplete_filter=Turkey&year=2020&page=1&when=past'"
      ]
     },
     "metadata": {},
     "output_type": "display_data"
    },
    {
     "data": {
      "text/plain": [
       "'https://www.ted.com/tedx/events?autocomplete_filter=Tanzania,+United+Republic+Of&year=2015&page=1&when=past'"
      ]
     },
     "metadata": {},
     "output_type": "display_data"
    },
    {
     "data": {
      "text/plain": [
       "'https://www.ted.com/tedx/events?autocomplete_filter=Turkmenistan&year=2013&page=1&when=past'"
      ]
     },
     "metadata": {},
     "output_type": "display_data"
    },
    {
     "data": {
      "text/plain": [
       "'https://www.ted.com/tedx/events?autocomplete_filter=Syrian+Arab+Republic&year=2009&page=1&when=past'"
      ]
     },
     "metadata": {},
     "output_type": "display_data"
    },
    {
     "data": {
      "text/plain": [
       "'https://www.ted.com/tedx/events?autocomplete_filter=Trinidad+And+Tobago&year=2010&page=1&when=past'"
      ]
     },
     "metadata": {},
     "output_type": "display_data"
    },
    {
     "data": {
      "text/plain": [
       "'https://www.ted.com/tedx/events?autocomplete_filter=Uganda&year=2009&page=1&when=past'"
      ]
     },
     "metadata": {},
     "output_type": "display_data"
    },
    {
     "data": {
      "text/plain": [
       "'https://www.ted.com/tedx/events?autocomplete_filter=Tokelau&year=2011&page=1&when=past'"
      ]
     },
     "metadata": {},
     "output_type": "display_data"
    },
    {
     "data": {
      "text/plain": [
       "'https://www.ted.com/tedx/events?autocomplete_filter=Tunisia&year=2014&page=1&when=past'"
      ]
     },
     "metadata": {},
     "output_type": "display_data"
    },
    {
     "data": {
      "text/plain": [
       "'https://www.ted.com/tedx/events?autocomplete_filter=Turkmenistan&year=2018&page=1&when=past'"
      ]
     },
     "metadata": {},
     "output_type": "display_data"
    },
    {
     "data": {
      "text/plain": [
       "'https://www.ted.com/tedx/events?autocomplete_filter=Sweden&year=2016&page=1&when=past'"
      ]
     },
     "metadata": {},
     "output_type": "display_data"
    },
    {
     "data": {
      "text/plain": [
       "'https://www.ted.com/tedx/events?autocomplete_filter=Thailand&year=2016&page=1&when=past'"
      ]
     },
     "metadata": {},
     "output_type": "display_data"
    },
    {
     "data": {
      "text/plain": [
       "'https://www.ted.com/tedx/events?autocomplete_filter=Turks+And+Caicos+Islands&year=2019&page=1&when=past'"
      ]
     },
     "metadata": {},
     "output_type": "display_data"
    },
    {
     "data": {
      "text/plain": [
       "'https://www.ted.com/tedx/events?autocomplete_filter=United+Arab+Emirates&year=2017&page=1&when=past'"
      ]
     },
     "metadata": {},
     "output_type": "display_data"
    },
    {
     "data": {
      "text/plain": [
       "'https://www.ted.com/tedx/events?autocomplete_filter=Tuvalu&year=2020&page=1&when=past'"
      ]
     },
     "metadata": {},
     "output_type": "display_data"
    },
    {
     "data": {
      "text/plain": [
       "'https://www.ted.com/tedx/events?autocomplete_filter=Togo&year=2018&page=1&when=past'"
      ]
     },
     "metadata": {},
     "output_type": "display_data"
    },
    {
     "data": {
      "text/plain": [
       "'https://www.ted.com/tedx/events?autocomplete_filter=Turks+And+Caicos+Islands&year=2011&page=1&when=past'"
      ]
     },
     "metadata": {},
     "output_type": "display_data"
    },
    {
     "data": {
      "text/plain": [
       "'https://www.ted.com/tedx/events?autocomplete_filter=Thailand&year=2018&page=1&when=past'"
      ]
     },
     "metadata": {},
     "output_type": "display_data"
    },
    {
     "data": {
      "text/plain": [
       "'https://www.ted.com/tedx/events?autocomplete_filter=Turks+And+Caicos+Islands&year=2016&page=1&when=past'"
      ]
     },
     "metadata": {},
     "output_type": "display_data"
    },
    {
     "data": {
      "text/plain": [
       "'https://www.ted.com/tedx/events?autocomplete_filter=Taiwan,+Province+Of+China&year=2012&page=1&when=past'"
      ]
     },
     "metadata": {},
     "output_type": "display_data"
    },
    {
     "data": {
      "text/plain": [
       "'https://www.ted.com/tedx/events?autocomplete_filter=Tunisia&year=2013&page=1&when=past'"
      ]
     },
     "metadata": {},
     "output_type": "display_data"
    },
    {
     "data": {
      "text/plain": [
       "'https://www.ted.com/tedx/events?autocomplete_filter=Ukraine&year=2012&page=1&when=past'"
      ]
     },
     "metadata": {},
     "output_type": "display_data"
    },
    {
     "data": {
      "text/plain": [
       "'https://www.ted.com/tedx/events?autocomplete_filter=Turkey&year=2017&page=1&when=past'"
      ]
     },
     "metadata": {},
     "output_type": "display_data"
    },
    {
     "data": {
      "text/plain": [
       "'https://www.ted.com/tedx/events?autocomplete_filter=Tonga&year=2014&page=1&when=past'"
      ]
     },
     "metadata": {},
     "output_type": "display_data"
    },
    {
     "data": {
      "text/plain": [
       "'https://www.ted.com/tedx/events?autocomplete_filter=Tuvalu&year=2009&page=1&when=past'"
      ]
     },
     "metadata": {},
     "output_type": "display_data"
    },
    {
     "data": {
      "text/plain": [
       "'https://www.ted.com/tedx/events?autocomplete_filter=United+Kingdom&year=2020&page=1&when=past'"
      ]
     },
     "metadata": {},
     "output_type": "display_data"
    },
    {
     "data": {
      "text/plain": [
       "'https://www.ted.com/tedx/events?autocomplete_filter=Togo&year=2019&page=1&when=past'"
      ]
     },
     "metadata": {},
     "output_type": "display_data"
    },
    {
     "data": {
      "text/plain": [
       "'https://www.ted.com/tedx/events?autocomplete_filter=Uganda&year=2010&page=1&when=past'"
      ]
     },
     "metadata": {},
     "output_type": "display_data"
    },
    {
     "data": {
      "text/plain": [
       "'https://www.ted.com/tedx/events?autocomplete_filter=Switzerland&year=2019&page=1&when=past'"
      ]
     },
     "metadata": {},
     "output_type": "display_data"
    },
    {
     "data": {
      "text/plain": [
       "'https://www.ted.com/tedx/events?autocomplete_filter=Ukraine&year=2011&page=1&when=past'"
      ]
     },
     "metadata": {},
     "output_type": "display_data"
    },
    {
     "data": {
      "text/plain": [
       "'https://www.ted.com/tedx/events?autocomplete_filter=Tonga&year=2009&page=1&when=past'"
      ]
     },
     "metadata": {},
     "output_type": "display_data"
    },
    {
     "data": {
      "text/plain": [
       "'https://www.ted.com/tedx/events?autocomplete_filter=Tuvalu&year=2014&page=1&when=past'"
      ]
     },
     "metadata": {},
     "output_type": "display_data"
    },
    {
     "data": {
      "text/plain": [
       "'https://www.ted.com/tedx/events?autocomplete_filter=Tuvalu&year=2019&page=1&when=past'"
      ]
     },
     "metadata": {},
     "output_type": "display_data"
    },
    {
     "data": {
      "text/plain": [
       "'https://www.ted.com/tedx/events?autocomplete_filter=Tokelau&year=2009&page=1&when=past'"
      ]
     },
     "metadata": {},
     "output_type": "display_data"
    },
    {
     "data": {
      "text/plain": [
       "'https://www.ted.com/tedx/events?autocomplete_filter=Tajikistan&year=2015&page=1&when=past'"
      ]
     },
     "metadata": {},
     "output_type": "display_data"
    },
    {
     "data": {
      "text/plain": [
       "'https://www.ted.com/tedx/events?autocomplete_filter=Turkey&year=2016&page=1&when=past'"
      ]
     },
     "metadata": {},
     "output_type": "display_data"
    },
    {
     "data": {
      "text/plain": [
       "'https://www.ted.com/tedx/events?autocomplete_filter=United+Arab+Emirates&year=2015&page=1&when=past'"
      ]
     },
     "metadata": {},
     "output_type": "display_data"
    },
    {
     "data": {
      "text/plain": [
       "'https://www.ted.com/tedx/events?autocomplete_filter=Trinidad+And+Tobago&year=2017&page=1&when=past'"
      ]
     },
     "metadata": {},
     "output_type": "display_data"
    },
    {
     "data": {
      "text/plain": [
       "'https://www.ted.com/tedx/events?autocomplete_filter=Uganda&year=2012&page=1&when=past'"
      ]
     },
     "metadata": {},
     "output_type": "display_data"
    },
    {
     "data": {
      "text/plain": [
       "'https://www.ted.com/tedx/events?autocomplete_filter=Turkmenistan&year=2020&page=1&when=past'"
      ]
     },
     "metadata": {},
     "output_type": "display_data"
    },
    {
     "data": {
      "text/plain": [
       "'https://www.ted.com/tedx/events?autocomplete_filter=United+States+Minor+Outlying+Islands&year=2011&page=1&when=past'"
      ]
     },
     "metadata": {},
     "output_type": "display_data"
    },
    {
     "data": {
      "text/plain": [
       "'https://www.ted.com/tedx/events?autocomplete_filter=Tonga&year=2010&page=1&when=past'"
      ]
     },
     "metadata": {},
     "output_type": "display_data"
    },
    {
     "data": {
      "text/plain": [
       "'https://www.ted.com/tedx/events?autocomplete_filter=Ukraine&year=2013&page=1&when=past'"
      ]
     },
     "metadata": {},
     "output_type": "display_data"
    },
    {
     "data": {
      "text/plain": [
       "'https://www.ted.com/tedx/events?autocomplete_filter=United+Arab+Emirates&year=2014&page=1&when=past'"
      ]
     },
     "metadata": {},
     "output_type": "display_data"
    },
    {
     "data": {
      "text/plain": [
       "'https://www.ted.com/tedx/events?autocomplete_filter=Taiwan,+Province+Of+China&year=2010&page=1&when=past'"
      ]
     },
     "metadata": {},
     "output_type": "display_data"
    },
    {
     "data": {
      "text/plain": [
       "'https://www.ted.com/tedx/events?autocomplete_filter=Trinidad+And+Tobago&year=2012&page=1&when=past'"
      ]
     },
     "metadata": {},
     "output_type": "display_data"
    },
    {
     "data": {
      "text/plain": [
       "'https://www.ted.com/tedx/events?autocomplete_filter=Uganda&year=2017&page=1&when=past'"
      ]
     },
     "metadata": {},
     "output_type": "display_data"
    },
    {
     "data": {
      "text/plain": [
       "'https://www.ted.com/tedx/events?autocomplete_filter=Ukraine&year=2010&page=1&when=past'"
      ]
     },
     "metadata": {},
     "output_type": "display_data"
    },
    {
     "data": {
      "text/plain": [
       "'https://www.ted.com/tedx/events?autocomplete_filter=Tonga&year=2012&page=1&when=past'"
      ]
     },
     "metadata": {},
     "output_type": "display_data"
    },
    {
     "data": {
      "text/plain": [
       "'https://www.ted.com/tedx/events?autocomplete_filter=Tanzania,+United+Republic+Of&year=2018&page=1&when=past'"
      ]
     },
     "metadata": {},
     "output_type": "display_data"
    },
    {
     "data": {
      "text/plain": [
       "'https://www.ted.com/tedx/events?autocomplete_filter=Turkmenistan&year=2019&page=1&when=past'"
      ]
     },
     "metadata": {},
     "output_type": "display_data"
    },
    {
     "data": {
      "text/plain": [
       "'https://www.ted.com/tedx/events?autocomplete_filter=United+Kingdom&year=2018&page=1&when=past'"
      ]
     },
     "metadata": {},
     "output_type": "display_data"
    },
    {
     "data": {
      "text/plain": [
       "'https://www.ted.com/tedx/events?autocomplete_filter=Tunisia&year=2020&page=1&when=past'"
      ]
     },
     "metadata": {},
     "output_type": "display_data"
    },
    {
     "data": {
      "text/plain": [
       "'https://www.ted.com/tedx/events?autocomplete_filter=Tuvalu&year=2011&page=1&when=past'"
      ]
     },
     "metadata": {},
     "output_type": "display_data"
    },
    {
     "data": {
      "text/plain": [
       "'https://www.ted.com/tedx/events?autocomplete_filter=Ukraine&year=2015&page=1&when=past'"
      ]
     },
     "metadata": {},
     "output_type": "display_data"
    },
    {
     "data": {
      "text/plain": [
       "'https://www.ted.com/tedx/events?autocomplete_filter=Trinidad+And+Tobago&year=2013&page=1&when=past'"
      ]
     },
     "metadata": {},
     "output_type": "display_data"
    },
    {
     "data": {
      "text/plain": [
       "'https://www.ted.com/tedx/events?autocomplete_filter=Uruguay&year=2014&page=1&when=past'"
      ]
     },
     "metadata": {},
     "output_type": "display_data"
    },
    {
     "data": {
      "text/plain": [
       "'https://www.ted.com/tedx/events?autocomplete_filter=United+Arab+Emirates&year=2016&page=1&when=past'"
      ]
     },
     "metadata": {},
     "output_type": "display_data"
    },
    {
     "data": {
      "text/plain": [
       "'https://www.ted.com/tedx/events?autocomplete_filter=Tunisia&year=2015&page=1&when=past'"
      ]
     },
     "metadata": {},
     "output_type": "display_data"
    },
    {
     "data": {
      "text/plain": [
       "'https://www.ted.com/tedx/events?autocomplete_filter=Tajikistan&year=2013&page=1&when=past'"
      ]
     },
     "metadata": {},
     "output_type": "display_data"
    },
    {
     "data": {
      "text/plain": [
       "'https://www.ted.com/tedx/events?autocomplete_filter=United+Kingdom&year=2017&page=1&when=past'"
      ]
     },
     "metadata": {},
     "output_type": "display_data"
    },
    {
     "data": {
      "text/plain": [
       "'https://www.ted.com/tedx/events?autocomplete_filter=Ukraine&year=2020&page=1&when=past'"
      ]
     },
     "metadata": {},
     "output_type": "display_data"
    },
    {
     "data": {
      "text/plain": [
       "'https://www.ted.com/tedx/events?autocomplete_filter=United+Arab+Emirates&year=2013&page=1&when=past'"
      ]
     },
     "metadata": {},
     "output_type": "display_data"
    },
    {
     "data": {
      "text/plain": [
       "'https://www.ted.com/tedx/events?autocomplete_filter=Trinidad+And+Tobago&year=2015&page=1&when=past'"
      ]
     },
     "metadata": {},
     "output_type": "display_data"
    },
    {
     "data": {
      "text/plain": [
       "'https://www.ted.com/tedx/events?autocomplete_filter=Togo&year=2009&page=1&when=past'"
      ]
     },
     "metadata": {},
     "output_type": "display_data"
    },
    {
     "data": {
      "text/plain": [
       "'https://www.ted.com/tedx/events?autocomplete_filter=Tuvalu&year=2010&page=1&when=past'"
      ]
     },
     "metadata": {},
     "output_type": "display_data"
    },
    {
     "data": {
      "text/plain": [
       "'https://www.ted.com/tedx/events?autocomplete_filter=United+States+Minor+Outlying+Islands&year=2009&page=1&when=past'"
      ]
     },
     "metadata": {},
     "output_type": "display_data"
    },
    {
     "data": {
      "text/plain": [
       "'https://www.ted.com/tedx/events?autocomplete_filter=Turkmenistan&year=2011&page=1&when=past'"
      ]
     },
     "metadata": {},
     "output_type": "display_data"
    },
    {
     "data": {
      "text/plain": [
       "'https://www.ted.com/tedx/events?autocomplete_filter=Uganda&year=2014&page=1&when=past'"
      ]
     },
     "metadata": {},
     "output_type": "display_data"
    },
    {
     "data": {
      "text/plain": [
       "'https://www.ted.com/tedx/events?autocomplete_filter=United+Arab+Emirates&year=2018&page=1&when=past'"
      ]
     },
     "metadata": {},
     "output_type": "display_data"
    },
    {
     "data": {
      "text/plain": [
       "'https://www.ted.com/tedx/events?autocomplete_filter=Tunisia&year=2016&page=1&when=past'"
      ]
     },
     "metadata": {},
     "output_type": "display_data"
    },
    {
     "data": {
      "text/plain": [
       "'https://www.ted.com/tedx/events?autocomplete_filter=United+Kingdom&year=2019&page=1&when=past'"
      ]
     },
     "metadata": {},
     "output_type": "display_data"
    },
    {
     "data": {
      "text/plain": [
       "'https://www.ted.com/tedx/events?autocomplete_filter=Uzbekistan&year=2017&page=1&when=past'"
      ]
     },
     "metadata": {},
     "output_type": "display_data"
    },
    {
     "data": {
      "text/plain": [
       "'https://www.ted.com/tedx/events?autocomplete_filter=Turkey&year=2018&page=1&when=past'"
      ]
     },
     "metadata": {},
     "output_type": "display_data"
    },
    {
     "data": {
      "text/plain": [
       "'https://www.ted.com/tedx/events?autocomplete_filter=Tanzania,+United+Republic+Of&year=2016&page=1&when=past'"
      ]
     },
     "metadata": {},
     "output_type": "display_data"
    },
    {
     "data": {
      "text/plain": [
       "'https://www.ted.com/tedx/events?autocomplete_filter=United+Kingdom&year=2011&page=1&when=past'"
      ]
     },
     "metadata": {},
     "output_type": "display_data"
    },
    {
     "data": {
      "text/plain": [
       "'https://www.ted.com/tedx/events?autocomplete_filter=United+States&year=2020&page=1&when=past'"
      ]
     },
     "metadata": {},
     "output_type": "display_data"
    },
    {
     "data": {
      "text/plain": [
       "'https://www.ted.com/tedx/events?autocomplete_filter=Tunisia&year=2018&page=1&when=past'"
      ]
     },
     "metadata": {},
     "output_type": "display_data"
    },
    {
     "data": {
      "text/plain": [
       "'https://www.ted.com/tedx/events?autocomplete_filter=United+Kingdom&year=2016&page=1&when=past'"
      ]
     },
     "metadata": {},
     "output_type": "display_data"
    },
    {
     "data": {
      "text/plain": [
       "'https://www.ted.com/tedx/events?autocomplete_filter=Tokelau&year=2012&page=1&when=past'"
      ]
     },
     "metadata": {},
     "output_type": "display_data"
    },
    {
     "data": {
      "text/plain": [
       "'https://www.ted.com/tedx/events?autocomplete_filter=Uganda&year=2013&page=1&when=past'"
      ]
     },
     "metadata": {},
     "output_type": "display_data"
    },
    {
     "data": {
      "text/plain": [
       "'https://www.ted.com/tedx/events?autocomplete_filter=Uruguay&year=2012&page=1&when=past'"
      ]
     },
     "metadata": {},
     "output_type": "display_data"
    },
    {
     "data": {
      "text/plain": [
       "'https://www.ted.com/tedx/events?autocomplete_filter=Turks+And+Caicos+Islands&year=2014&page=1&when=past'"
      ]
     },
     "metadata": {},
     "output_type": "display_data"
    },
    {
     "data": {
      "text/plain": [
       "'https://www.ted.com/tedx/events?autocomplete_filter=Ukraine&year=2017&page=1&when=past'"
      ]
     },
     "metadata": {},
     "output_type": "display_data"
    },
    {
     "data": {
      "text/plain": [
       "'https://www.ted.com/tedx/events?autocomplete_filter=United+States&year=2009&page=1&when=past'"
      ]
     },
     "metadata": {},
     "output_type": "display_data"
    },
    {
     "data": {
      "text/plain": [
       "'https://www.ted.com/tedx/events?autocomplete_filter=Turkey&year=2019&page=1&when=past'"
      ]
     },
     "metadata": {},
     "output_type": "display_data"
    },
    {
     "data": {
      "text/plain": [
       "'https://www.ted.com/tedx/events?autocomplete_filter=Vanuatu&year=2020&page=1&when=past'"
      ]
     },
     "metadata": {},
     "output_type": "display_data"
    },
    {
     "data": {
      "text/plain": [
       "'https://www.ted.com/tedx/events?autocomplete_filter=United+States+Minor+Outlying+Islands&year=2010&page=1&when=past'"
      ]
     },
     "metadata": {},
     "output_type": "display_data"
    },
    {
     "data": {
      "text/plain": [
       "'https://www.ted.com/tedx/events?autocomplete_filter=Turks+And+Caicos+Islands&year=2009&page=1&when=past'"
      ]
     },
     "metadata": {},
     "output_type": "display_data"
    },
    {
     "data": {
      "text/plain": [
       "'https://www.ted.com/tedx/events?autocomplete_filter=Thailand&year=2019&page=1&when=past'"
      ]
     },
     "metadata": {},
     "output_type": "display_data"
    },
    {
     "data": {
      "text/plain": [
       "'https://www.ted.com/tedx/events?autocomplete_filter=United+States&year=2014&page=1&when=past'"
      ]
     },
     "metadata": {},
     "output_type": "display_data"
    },
    {
     "data": {
      "text/plain": [
       "'https://www.ted.com/tedx/events?autocomplete_filter=Uruguay&year=2011&page=1&when=past'"
      ]
     },
     "metadata": {},
     "output_type": "display_data"
    },
    {
     "data": {
      "text/plain": [
       "'https://www.ted.com/tedx/events?autocomplete_filter=Turkmenistan&year=2009&page=1&when=past'"
      ]
     },
     "metadata": {},
     "output_type": "display_data"
    },
    {
     "data": {
      "text/plain": [
       "'https://www.ted.com/tedx/events?autocomplete_filter=United+States&year=2019&page=1&when=past'"
      ]
     },
     "metadata": {},
     "output_type": "display_data"
    },
    {
     "data": {
      "text/plain": [
       "'https://www.ted.com/tedx/events?autocomplete_filter=Tonga&year=2015&page=1&when=past'"
      ]
     },
     "metadata": {},
     "output_type": "display_data"
    },
    {
     "data": {
      "text/plain": [
       "'https://www.ted.com/tedx/events?autocomplete_filter=Ukraine&year=2016&page=1&when=past'"
      ]
     },
     "metadata": {},
     "output_type": "display_data"
    },
    {
     "data": {
      "text/plain": [
       "'https://www.ted.com/tedx/events?autocomplete_filter=Uzbekistan&year=2015&page=1&when=past'"
      ]
     },
     "metadata": {},
     "output_type": "display_data"
    },
    {
     "data": {
      "text/plain": [
       "'https://www.ted.com/tedx/events?autocomplete_filter=Tuvalu&year=2017&page=1&when=past'"
      ]
     },
     "metadata": {},
     "output_type": "display_data"
    },
    {
     "data": {
      "text/plain": [
       "'https://www.ted.com/tedx/events?autocomplete_filter=United+Arab+Emirates&year=2020&page=1&when=past'"
      ]
     },
     "metadata": {},
     "output_type": "display_data"
    },
    {
     "data": {
      "text/plain": [
       "'https://www.ted.com/tedx/events?autocomplete_filter=United+States+Minor+Outlying+Islands&year=2012&page=1&when=past'"
      ]
     },
     "metadata": {},
     "output_type": "display_data"
    },
    {
     "data": {
      "text/plain": [
       "'https://www.ted.com/tedx/events?autocomplete_filter=Turks+And+Caicos+Islands&year=2010&page=1&when=past'"
      ]
     },
     "metadata": {},
     "output_type": "display_data"
    },
    {
     "data": {
      "text/plain": [
       "'https://www.ted.com/tedx/events?autocomplete_filter=Viet+Nam&year=2011&page=1&when=past'"
      ]
     },
     "metadata": {},
     "output_type": "display_data"
    },
    {
     "data": {
      "text/plain": [
       "'https://www.ted.com/tedx/events?autocomplete_filter=Uruguay&year=2013&page=1&when=past'"
      ]
     },
     "metadata": {},
     "output_type": "display_data"
    },
    {
     "data": {
      "text/plain": [
       "'https://www.ted.com/tedx/events?autocomplete_filter=Tuvalu&year=2012&page=1&when=past'"
      ]
     },
     "metadata": {},
     "output_type": "display_data"
    },
    {
     "data": {
      "text/plain": [
       "'https://www.ted.com/tedx/events?autocomplete_filter=Tokelau&year=2010&page=1&when=past'"
      ]
     },
     "metadata": {},
     "output_type": "display_data"
    },
    {
     "data": {
      "text/plain": [
       "'https://www.ted.com/tedx/events?autocomplete_filter=Uzbekistan&year=2014&page=1&when=past'"
      ]
     },
     "metadata": {},
     "output_type": "display_data"
    },
    {
     "data": {
      "text/plain": [
       "'https://www.ted.com/tedx/events?autocomplete_filter=United+States+Minor+Outlying+Islands&year=2017&page=1&when=past'"
      ]
     },
     "metadata": {},
     "output_type": "display_data"
    },
    {
     "data": {
      "text/plain": [
       "'https://www.ted.com/tedx/events?autocomplete_filter=Turks+And+Caicos+Islands&year=2012&page=1&when=past'"
      ]
     },
     "metadata": {},
     "output_type": "display_data"
    },
    {
     "data": {
      "text/plain": [
       "'https://www.ted.com/tedx/events?autocomplete_filter=Uruguay&year=2010&page=1&when=past'"
      ]
     },
     "metadata": {},
     "output_type": "display_data"
    },
    {
     "data": {
      "text/plain": [
       "'https://www.ted.com/tedx/events?autocomplete_filter=Trinidad+And+Tobago&year=2018&page=1&when=past'"
      ]
     },
     "metadata": {},
     "output_type": "display_data"
    },
    {
     "data": {
      "text/plain": [
       "'https://www.ted.com/tedx/events?autocomplete_filter=United+Arab+Emirates&year=2019&page=1&when=past'"
      ]
     },
     "metadata": {},
     "output_type": "display_data"
    },
    {
     "data": {
      "text/plain": [
       "'https://www.ted.com/tedx/events?autocomplete_filter=Vanuatu&year=2018&page=1&when=past'"
      ]
     },
     "metadata": {},
     "output_type": "display_data"
    },
    {
     "data": {
      "text/plain": [
       "'https://www.ted.com/tedx/events?autocomplete_filter=Uganda&year=2020&page=1&when=past'"
      ]
     },
     "metadata": {},
     "output_type": "display_data"
    },
    {
     "data": {
      "text/plain": [
       "'https://www.ted.com/tedx/events?autocomplete_filter=United+States&year=2011&page=1&when=past'"
      ]
     },
     "metadata": {},
     "output_type": "display_data"
    },
    {
     "data": {
      "text/plain": [
       "'https://www.ted.com/tedx/events?autocomplete_filter=Uruguay&year=2015&page=1&when=past'"
      ]
     },
     "metadata": {},
     "output_type": "display_data"
    },
    {
     "data": {
      "text/plain": [
       "'https://www.ted.com/tedx/events?autocomplete_filter=Tuvalu&year=2013&page=1&when=past'"
      ]
     },
     "metadata": {},
     "output_type": "display_data"
    },
    {
     "data": {
      "text/plain": [
       "'https://www.ted.com/tedx/events?autocomplete_filter=Virgin+Islands,+British&year=2014&page=1&when=past'"
      ]
     },
     "metadata": {},
     "output_type": "display_data"
    },
    {
     "data": {
      "text/plain": [
       "'https://www.ted.com/tedx/events?autocomplete_filter=Uzbekistan&year=2016&page=1&when=past'"
      ]
     },
     "metadata": {},
     "output_type": "display_data"
    },
    {
     "data": {
      "text/plain": [
       "'https://www.ted.com/tedx/events?autocomplete_filter=Uganda&year=2015&page=1&when=past'"
      ]
     },
     "metadata": {},
     "output_type": "display_data"
    },
    {
     "data": {
      "text/plain": [
       "'https://www.ted.com/tedx/events?autocomplete_filter=Tonga&year=2013&page=1&when=past'"
      ]
     },
     "metadata": {},
     "output_type": "display_data"
    },
    {
     "data": {
      "text/plain": [
       "'https://www.ted.com/tedx/events?autocomplete_filter=Vanuatu&year=2017&page=1&when=past'"
      ]
     },
     "metadata": {},
     "output_type": "display_data"
    },
    {
     "data": {
      "text/plain": [
       "'https://www.ted.com/tedx/events?autocomplete_filter=Uruguay&year=2020&page=1&when=past'"
      ]
     },
     "metadata": {},
     "output_type": "display_data"
    },
    {
     "data": {
      "text/plain": [
       "'https://www.ted.com/tedx/events?autocomplete_filter=Uzbekistan&year=2013&page=1&when=past'"
      ]
     },
     "metadata": {},
     "output_type": "display_data"
    },
    {
     "data": {
      "text/plain": [
       "'https://www.ted.com/tedx/events?autocomplete_filter=Tuvalu&year=2015&page=1&when=past'"
      ]
     },
     "metadata": {},
     "output_type": "display_data"
    },
    {
     "data": {
      "text/plain": [
       "'https://www.ted.com/tedx/events?autocomplete_filter=Turkey&year=2009&page=1&when=past'"
      ]
     },
     "metadata": {},
     "output_type": "display_data"
    },
    {
     "data": {
      "text/plain": [
       "'https://www.ted.com/tedx/events?autocomplete_filter=United+States&year=2010&page=1&when=past'"
      ]
     },
     "metadata": {},
     "output_type": "display_data"
    },
    {
     "data": {
      "text/plain": [
       "'https://www.ted.com/tedx/events?autocomplete_filter=Viet+Nam&year=2009&page=1&when=past'"
      ]
     },
     "metadata": {},
     "output_type": "display_data"
    },
    {
     "data": {
      "text/plain": [
       "'https://www.ted.com/tedx/events?autocomplete_filter=United+Arab+Emirates&year=2011&page=1&when=past'"
      ]
     },
     "metadata": {},
     "output_type": "display_data"
    },
    {
     "data": {
      "text/plain": [
       "'https://www.ted.com/tedx/events?autocomplete_filter=United+States+Minor+Outlying+Islands&year=2014&page=1&when=past'"
      ]
     },
     "metadata": {},
     "output_type": "display_data"
    },
    {
     "data": {
      "text/plain": [
       "'https://www.ted.com/tedx/events?autocomplete_filter=Uzbekistan&year=2018&page=1&when=past'"
      ]
     },
     "metadata": {},
     "output_type": "display_data"
    },
    {
     "data": {
      "text/plain": [
       "'https://www.ted.com/tedx/events?autocomplete_filter=Uganda&year=2016&page=1&when=past'"
      ]
     },
     "metadata": {},
     "output_type": "display_data"
    },
    {
     "data": {
      "text/plain": [
       "'https://www.ted.com/tedx/events?autocomplete_filter=Vanuatu&year=2019&page=1&when=past'"
      ]
     },
     "metadata": {},
     "output_type": "display_data"
    },
    {
     "data": {
      "text/plain": [
       "'https://www.ted.com/tedx/events?autocomplete_filter=Virgin+Islands,+U.s.&year=2017&page=1&when=past'"
      ]
     },
     "metadata": {},
     "output_type": "display_data"
    },
    {
     "data": {
      "text/plain": [
       "'https://www.ted.com/tedx/events?autocomplete_filter=Ukraine&year=2018&page=1&when=past'"
      ]
     },
     "metadata": {},
     "output_type": "display_data"
    },
    {
     "data": {
      "text/plain": [
       "'https://www.ted.com/tedx/events?autocomplete_filter=Venezuela&year=2020&page=1&when=past'"
      ]
     },
     "metadata": {},
     "output_type": "display_data"
    },
    {
     "data": {
      "text/plain": [
       "'https://www.ted.com/tedx/events?autocomplete_filter=Trinidad+And+Tobago&year=2016&page=1&when=past'"
      ]
     },
     "metadata": {},
     "output_type": "display_data"
    },
    {
     "data": {
      "text/plain": [
       "'https://www.ted.com/tedx/events?autocomplete_filter=Vanuatu&year=2011&page=1&when=past'"
      ]
     },
     "metadata": {},
     "output_type": "display_data"
    },
    {
     "data": {
      "text/plain": [
       "'https://www.ted.com/tedx/events?autocomplete_filter=Vanuatu&year=2016&page=1&when=past'"
      ]
     },
     "metadata": {},
     "output_type": "display_data"
    },
    {
     "data": {
      "text/plain": [
       "'https://www.ted.com/tedx/events?autocomplete_filter=Uganda&year=2018&page=1&when=past'"
      ]
     },
     "metadata": {},
     "output_type": "display_data"
    },
    {
     "data": {
      "text/plain": [
       "'https://www.ted.com/tedx/events?autocomplete_filter=Turkmenistan&year=2012&page=1&when=past'"
      ]
     },
     "metadata": {},
     "output_type": "display_data"
    },
    {
     "data": {
      "text/plain": [
       "'https://www.ted.com/tedx/events?autocomplete_filter=Virgin+Islands,+British&year=2012&page=1&when=past'"
      ]
     },
     "metadata": {},
     "output_type": "display_data"
    },
    {
     "data": {
      "text/plain": [
       "'https://www.ted.com/tedx/events?autocomplete_filter=United+States+Minor+Outlying+Islands&year=2013&page=1&when=past'"
      ]
     },
     "metadata": {},
     "output_type": "display_data"
    },
    {
     "data": {
      "text/plain": [
       "'https://www.ted.com/tedx/events?autocomplete_filter=United+Kingdom&year=2014&page=1&when=past'"
      ]
     },
     "metadata": {},
     "output_type": "display_data"
    },
    {
     "data": {
      "text/plain": [
       "'https://www.ted.com/tedx/events?autocomplete_filter=Uruguay&year=2017&page=1&when=past'"
      ]
     },
     "metadata": {},
     "output_type": "display_data"
    },
    {
     "data": {
      "text/plain": [
       "'https://www.ted.com/tedx/events?autocomplete_filter=Venezuela&year=2009&page=1&when=past'"
      ]
     },
     "metadata": {},
     "output_type": "display_data"
    },
    {
     "data": {
      "text/plain": [
       "'https://www.ted.com/tedx/events?autocomplete_filter=Ukraine&year=2019&page=1&when=past'"
      ]
     },
     "metadata": {},
     "output_type": "display_data"
    },
    {
     "data": {
      "text/plain": [
       "'https://www.ted.com/tedx/events?autocomplete_filter=Viet+Nam&year=2010&page=1&when=past'"
      ]
     },
     "metadata": {},
     "output_type": "display_data"
    },
    {
     "data": {
      "text/plain": [
       "'https://www.ted.com/tedx/events?autocomplete_filter=United+Kingdom&year=2009&page=1&when=past'"
      ]
     },
     "metadata": {},
     "output_type": "display_data"
    },
    {
     "data": {
      "text/plain": [
       "'https://www.ted.com/tedx/events?autocomplete_filter=Wallis+And+Futuna&year=2020&page=1&when=past'"
      ]
     },
     "metadata": {},
     "output_type": "display_data"
    },
    {
     "data": {
      "text/plain": [
       "'https://www.ted.com/tedx/events?autocomplete_filter=Virgin+Islands,+British&year=2011&page=1&when=past'"
      ]
     },
     "metadata": {},
     "output_type": "display_data"
    },
    {
     "data": {
      "text/plain": [
       "'https://www.ted.com/tedx/events?autocomplete_filter=Tunisia&year=2019&page=1&when=past'"
      ]
     },
     "metadata": {},
     "output_type": "display_data"
    },
    {
     "data": {
      "text/plain": [
       "'https://www.ted.com/tedx/events?autocomplete_filter=Venezuela&year=2014&page=1&when=past'"
      ]
     },
     "metadata": {},
     "output_type": "display_data"
    },
    {
     "data": {
      "text/plain": [
       "'https://www.ted.com/tedx/events?autocomplete_filter=Venezuela&year=2019&page=1&when=past'"
      ]
     },
     "metadata": {},
     "output_type": "display_data"
    },
    {
     "data": {
      "text/plain": [
       "'https://www.ted.com/tedx/events?autocomplete_filter=Turks+And+Caicos+Islands&year=2015&page=1&when=past'"
      ]
     },
     "metadata": {},
     "output_type": "display_data"
    },
    {
     "data": {
      "text/plain": [
       "'https://www.ted.com/tedx/events?autocomplete_filter=United+Arab+Emirates&year=2009&page=1&when=past'"
      ]
     },
     "metadata": {},
     "output_type": "display_data"
    },
    {
     "data": {
      "text/plain": [
       "'https://www.ted.com/tedx/events?autocomplete_filter=Uruguay&year=2016&page=1&when=past'"
      ]
     },
     "metadata": {},
     "output_type": "display_data"
    },
    {
     "data": {
      "text/plain": [
       "'https://www.ted.com/tedx/events?autocomplete_filter=Virgin+Islands,+U.s.&year=2015&page=1&when=past'"
      ]
     },
     "metadata": {},
     "output_type": "display_data"
    },
    {
     "data": {
      "text/plain": [
       "'https://www.ted.com/tedx/events?autocomplete_filter=United+States&year=2017&page=1&when=past'"
      ]
     },
     "metadata": {},
     "output_type": "display_data"
    },
    {
     "data": {
      "text/plain": [
       "'https://www.ted.com/tedx/events?autocomplete_filter=Uzbekistan&year=2020&page=1&when=past'"
      ]
     },
     "metadata": {},
     "output_type": "display_data"
    },
    {
     "data": {
      "text/plain": [
       "'https://www.ted.com/tedx/events?autocomplete_filter=Viet+Nam&year=2012&page=1&when=past'"
      ]
     },
     "metadata": {},
     "output_type": "display_data"
    },
    {
     "data": {
      "text/plain": [
       "'https://www.ted.com/tedx/events?autocomplete_filter=United+Kingdom&year=2010&page=1&when=past'"
      ]
     },
     "metadata": {},
     "output_type": "display_data"
    },
    {
     "data": {
      "text/plain": [
       "'https://www.ted.com/tedx/events?autocomplete_filter=Virgin+Islands,+British&year=2013&page=1&when=past'"
      ]
     },
     "metadata": {},
     "output_type": "display_data"
    },
    {
     "data": {
      "text/plain": [
       "'https://www.ted.com/tedx/events?autocomplete_filter=Yemen&year=2011&page=1&when=past'"
      ]
     },
     "metadata": {},
     "output_type": "display_data"
    },
    {
     "data": {
      "text/plain": [
       "'https://www.ted.com/tedx/events?autocomplete_filter=United+States&year=2012&page=1&when=past'"
      ]
     },
     "metadata": {},
     "output_type": "display_data"
    },
    {
     "data": {
      "text/plain": [
       "'https://www.ted.com/tedx/events?autocomplete_filter=Virgin+Islands,+U.s.&year=2014&page=1&when=past'"
      ]
     },
     "metadata": {},
     "output_type": "display_data"
    },
    {
     "data": {
      "text/plain": [
       "'https://www.ted.com/tedx/events?autocomplete_filter=Viet+Nam&year=2017&page=1&when=past'"
      ]
     },
     "metadata": {},
     "output_type": "display_data"
    },
    {
     "data": {
      "text/plain": [
       "'https://www.ted.com/tedx/events?autocomplete_filter=Turkmenistan&year=2010&page=1&when=past'"
      ]
     },
     "metadata": {},
     "output_type": "display_data"
    },
    {
     "data": {
      "text/plain": [
       "'https://www.ted.com/tedx/events?autocomplete_filter=Virgin+Islands,+British&year=2010&page=1&when=past'"
      ]
     },
     "metadata": {},
     "output_type": "display_data"
    },
    {
     "data": {
      "text/plain": [
       "'https://www.ted.com/tedx/events?autocomplete_filter=Tuvalu&year=2018&page=1&when=past'"
      ]
     },
     "metadata": {},
     "output_type": "display_data"
    },
    {
     "data": {
      "text/plain": [
       "'https://www.ted.com/tedx/events?autocomplete_filter=United+Kingdom&year=2012&page=1&when=past'"
      ]
     },
     "metadata": {},
     "output_type": "display_data"
    },
    {
     "data": {
      "text/plain": [
       "'https://www.ted.com/tedx/events?autocomplete_filter=Uzbekistan&year=2019&page=1&when=past'"
      ]
     },
     "metadata": {},
     "output_type": "display_data"
    },
    {
     "data": {
      "text/plain": [
       "'https://www.ted.com/tedx/events?autocomplete_filter=United+States+Minor+Outlying+Islands&year=2020&page=1&when=past'"
      ]
     },
     "metadata": {},
     "output_type": "display_data"
    },
    {
     "data": {
      "text/plain": [
       "'https://www.ted.com/tedx/events?autocomplete_filter=Wallis+And+Futuna&year=2018&page=1&when=past'"
      ]
     },
     "metadata": {},
     "output_type": "display_data"
    },
    {
     "data": {
      "text/plain": [
       "'https://www.ted.com/tedx/events?autocomplete_filter=Venezuela&year=2011&page=1&when=past'"
      ]
     },
     "metadata": {},
     "output_type": "display_data"
    },
    {
     "data": {
      "text/plain": [
       "'https://www.ted.com/tedx/events?autocomplete_filter=Virgin+Islands,+British&year=2015&page=1&when=past'"
      ]
     },
     "metadata": {},
     "output_type": "display_data"
    },
    {
     "data": {
      "text/plain": [
       "'https://www.ted.com/tedx/events?autocomplete_filter=Zambia&year=2014&page=1&when=past'"
      ]
     },
     "metadata": {},
     "output_type": "display_data"
    },
    {
     "data": {
      "text/plain": [
       "'https://www.ted.com/tedx/events?autocomplete_filter=United+States&year=2013&page=1&when=past'"
      ]
     },
     "metadata": {},
     "output_type": "display_data"
    },
    {
     "data": {
      "text/plain": [
       "'https://www.ted.com/tedx/events?autocomplete_filter=Virgin+Islands,+U.s.&year=2016&page=1&when=past'"
      ]
     },
     "metadata": {},
     "output_type": "display_data"
    },
    {
     "data": {
      "text/plain": [
       "'https://www.ted.com/tedx/events?autocomplete_filter=United+States+Minor+Outlying+Islands&year=2015&page=1&when=past'"
      ]
     },
     "metadata": {},
     "output_type": "display_data"
    },
    {
     "data": {
      "text/plain": [
       "'https://www.ted.com/tedx/events?autocomplete_filter=Wallis+And+Futuna&year=2017&page=1&when=past'"
      ]
     },
     "metadata": {},
     "output_type": "display_data"
    },
    {
     "data": {
      "text/plain": [
       "'https://www.ted.com/tedx/events?autocomplete_filter=Virgin+Islands,+British&year=2020&page=1&when=past'"
      ]
     },
     "metadata": {},
     "output_type": "display_data"
    },
    {
     "data": {
      "text/plain": [
       "'https://www.ted.com/tedx/events?autocomplete_filter=Turks+And+Caicos+Islands&year=2013&page=1&when=past'"
      ]
     },
     "metadata": {},
     "output_type": "display_data"
    },
    {
     "data": {
      "text/plain": [
       "'https://www.ted.com/tedx/events?autocomplete_filter=Virgin+Islands,+U.s.&year=2013&page=1&when=past'"
      ]
     },
     "metadata": {},
     "output_type": "display_data"
    },
    {
     "data": {
      "text/plain": [
       "'https://www.ted.com/tedx/events?autocomplete_filter=Ukraine&year=2009&page=1&when=past'"
      ]
     },
     "metadata": {},
     "output_type": "display_data"
    },
    {
     "data": {
      "text/plain": [
       "'https://www.ted.com/tedx/events?autocomplete_filter=United+States&year=2015&page=1&when=past'"
      ]
     },
     "metadata": {},
     "output_type": "display_data"
    },
    {
     "data": {
      "text/plain": [
       "'https://www.ted.com/tedx/events?autocomplete_filter=Venezuela&year=2010&page=1&when=past'"
      ]
     },
     "metadata": {},
     "output_type": "display_data"
    },
    {
     "data": {
      "text/plain": [
       "'https://www.ted.com/tedx/events?autocomplete_filter=Yemen&year=2009&page=1&when=past'"
      ]
     },
     "metadata": {},
     "output_type": "display_data"
    },
    {
     "data": {
      "text/plain": [
       "'https://www.ted.com/tedx/events?autocomplete_filter=Uzbekistan&year=2011&page=1&when=past'"
      ]
     },
     "metadata": {},
     "output_type": "display_data"
    },
    {
     "data": {
      "text/plain": [
       "'https://www.ted.com/tedx/events?autocomplete_filter=Viet+Nam&year=2014&page=1&when=past'"
      ]
     },
     "metadata": {},
     "output_type": "display_data"
    },
    {
     "data": {
      "text/plain": [
       "'https://www.ted.com/tedx/events?autocomplete_filter=Virgin+Islands,+U.s.&year=2018&page=1&when=past'"
      ]
     },
     "metadata": {},
     "output_type": "display_data"
    },
    {
     "data": {
      "text/plain": [
       "'https://www.ted.com/tedx/events?autocomplete_filter=Zimbabwe&year=2017&page=1&when=past'"
      ]
     },
     "metadata": {},
     "output_type": "display_data"
    },
    {
     "data": {
      "text/plain": [
       "'https://www.ted.com/tedx/events?autocomplete_filter=Wallis+And+Futuna&year=2019&page=1&when=past'"
      ]
     },
     "metadata": {},
     "output_type": "display_data"
    },
    {
     "data": {
      "text/plain": [
       "'https://www.ted.com/tedx/events?autocomplete_filter=United+States+Minor+Outlying+Islands&year=2016&page=1&when=past'"
      ]
     },
     "metadata": {},
     "output_type": "display_data"
    },
    {
     "data": {
      "text/plain": [
       "'https://www.ted.com/tedx/events?autocomplete_filter=Uruguay&year=2018&page=1&when=past'"
      ]
     },
     "metadata": {},
     "output_type": "display_data"
    },
    {
     "data": {
      "text/plain": [
       "'https://www.ted.com/tedx/events?autocomplete_filter=Western+Sahara&year=2020&page=1&when=past'"
      ]
     },
     "metadata": {},
     "output_type": "display_data"
    },
    {
     "data": {
      "text/plain": [
       "'https://www.ted.com/tedx/events?autocomplete_filter=Tuvalu&year=2016&page=1&when=past'"
      ]
     },
     "metadata": {},
     "output_type": "display_data"
    },
    {
     "data": {
      "text/plain": [
       "'https://www.ted.com/tedx/events?autocomplete_filter=Wallis+And+Futuna&year=2011&page=1&when=past'"
      ]
     },
     "metadata": {},
     "output_type": "display_data"
    },
    {
     "data": {
      "text/plain": [
       "'https://www.ted.com/tedx/events?autocomplete_filter=Wallis+And+Futuna&year=2016&page=1&when=past'"
      ]
     },
     "metadata": {},
     "output_type": "display_data"
    },
    {
     "data": {
      "text/plain": [
       "'https://www.ted.com/tedx/events?autocomplete_filter=United+Arab+Emirates&year=2012&page=1&when=past'"
      ]
     },
     "metadata": {},
     "output_type": "display_data"
    },
    {
     "data": {
      "text/plain": [
       "'https://www.ted.com/tedx/events?autocomplete_filter=United+States+Minor+Outlying+Islands&year=2018&page=1&when=past'"
      ]
     },
     "metadata": {},
     "output_type": "display_data"
    },
    {
     "data": {
      "text/plain": [
       "'https://www.ted.com/tedx/events?autocomplete_filter=Viet+Nam&year=2013&page=1&when=past'"
      ]
     },
     "metadata": {},
     "output_type": "display_data"
    },
    {
     "data": {
      "text/plain": [
       "'https://www.ted.com/tedx/events?autocomplete_filter=Vanuatu&year=2014&page=1&when=past'"
      ]
     },
     "metadata": {},
     "output_type": "display_data"
    },
    {
     "data": {
      "text/plain": [
       "'https://www.ted.com/tedx/events?autocomplete_filter=Zambia&year=2012&page=1&when=past'"
      ]
     },
     "metadata": {},
     "output_type": "display_data"
    },
    {
     "data": {
      "text/plain": [
       "'https://www.ted.com/tedx/events?autocomplete_filter=Virgin+Islands,+British&year=2017&page=1&when=past'"
      ]
     },
     "metadata": {},
     "output_type": "display_data"
    },
    {
     "data": {
      "text/plain": [
       "'https://www.ted.com/tedx/events?autocomplete_filter=Western+Sahara&year=2009&page=1&when=past'"
      ]
     },
     "metadata": {},
     "output_type": "display_data"
    },
    {
     "data": {
      "text/plain": [
       "'https://www.ted.com/tedx/events?autocomplete_filter=Uruguay&year=2019&page=1&when=past'"
      ]
     },
     "metadata": {},
     "output_type": "display_data"
    },
    {
     "data": {
      "text/plain": [
       "'https://www.ted.com/tedx/events?autocomplete_filter=Yemen&year=2010&page=1&when=past'"
      ]
     },
     "metadata": {},
     "output_type": "display_data"
    },
    {
     "data": {
      "text/plain": [
       "'https://www.ted.com/tedx/events?autocomplete_filter=Vanuatu&year=2009&page=1&when=past'"
      ]
     },
     "metadata": {},
     "output_type": "display_data"
    },
    {
     "data": {
      "text/plain": [
       "'https://www.ted.com/tedx/events?autocomplete_filter=Zambia&year=2011&page=1&when=past'"
      ]
     },
     "metadata": {},
     "output_type": "display_data"
    },
    {
     "data": {
      "text/plain": [
       "'https://www.ted.com/tedx/events?autocomplete_filter=Western+Sahara&year=2014&page=1&when=past'"
      ]
     },
     "metadata": {},
     "output_type": "display_data"
    },
    {
     "data": {
      "text/plain": [
       "'https://www.ted.com/tedx/events?autocomplete_filter=Uganda&year=2019&page=1&when=past'"
      ]
     },
     "metadata": {},
     "output_type": "display_data"
    },
    {
     "data": {
      "text/plain": [
       "'https://www.ted.com/tedx/events?autocomplete_filter=Western+Sahara&year=2019&page=1&when=past'"
      ]
     },
     "metadata": {},
     "output_type": "display_data"
    },
    {
     "data": {
      "text/plain": [
       "'https://www.ted.com/tedx/events?autocomplete_filter=United+Kingdom&year=2015&page=1&when=past'"
      ]
     },
     "metadata": {},
     "output_type": "display_data"
    },
    {
     "data": {
      "text/plain": [
       "'https://www.ted.com/tedx/events?autocomplete_filter=Uzbekistan&year=2009&page=1&when=past'"
      ]
     },
     "metadata": {},
     "output_type": "display_data"
    },
    {
     "data": {
      "text/plain": [
       "'https://www.ted.com/tedx/events?autocomplete_filter=Virgin+Islands,+British&year=2016&page=1&when=past'"
      ]
     },
     "metadata": {},
     "output_type": "display_data"
    },
    {
     "data": {
      "text/plain": [
       "'https://www.ted.com/tedx/events?autocomplete_filter=Venezuela&year=2017&page=1&when=past'"
      ]
     },
     "metadata": {},
     "output_type": "display_data"
    },
    {
     "data": {
      "text/plain": [
       "'https://www.ted.com/tedx/events?autocomplete_filter=Zimbabwe&year=2015&page=1&when=past'"
      ]
     },
     "metadata": {},
     "output_type": "display_data"
    },
    {
     "data": {
      "text/plain": [
       "'https://www.ted.com/tedx/events?autocomplete_filter=Virgin+Islands,+U.s.&year=2020&page=1&when=past'"
      ]
     },
     "metadata": {},
     "output_type": "display_data"
    },
    {
     "data": {
      "text/plain": [
       "'https://www.ted.com/tedx/events?autocomplete_filter=Yemen&year=2012&page=1&when=past'"
      ]
     },
     "metadata": {},
     "output_type": "display_data"
    },
    {
     "data": {
      "text/plain": [
       "'https://www.ted.com/tedx/events?autocomplete_filter=Zambia&year=2013&page=1&when=past'"
      ]
     },
     "metadata": {},
     "output_type": "display_data"
    },
    {
     "data": {
      "text/plain": [
       "'https://www.ted.com/tedx/events?autocomplete_filter=Venezuela&year=2012&page=1&when=past'"
      ]
     },
     "metadata": {},
     "output_type": "display_data"
    },
    {
     "data": {
      "text/plain": [
       "'https://www.ted.com/tedx/events?autocomplete_filter=Vanuatu&year=2010&page=1&when=past'"
      ]
     },
     "metadata": {},
     "output_type": "display_data"
    },
    {
     "data": {
      "text/plain": [
       "'https://www.ted.com/tedx/events?autocomplete_filter=Zimbabwe&year=2014&page=1&when=past'"
      ]
     },
     "metadata": {},
     "output_type": "display_data"
    },
    {
     "data": {
      "text/plain": [
       "'https://www.ted.com/tedx/events?autocomplete_filter=United+Arab+Emirates&year=2010&page=1&when=past'"
      ]
     },
     "metadata": {},
     "output_type": "display_data"
    },
    {
     "data": {
      "text/plain": [
       "'https://www.ted.com/tedx/events?autocomplete_filter=Zambia&year=2010&page=1&when=past'"
      ]
     },
     "metadata": {},
     "output_type": "display_data"
    },
    {
     "data": {
      "text/plain": [
       "'https://www.ted.com/tedx/events?autocomplete_filter=Yemen&year=2017&page=1&when=past'"
      ]
     },
     "metadata": {},
     "output_type": "display_data"
    },
    {
     "data": {
      "text/plain": [
       "'https://www.ted.com/tedx/events?autocomplete_filter=United+States&year=2018&page=1&when=past'"
      ]
     },
     "metadata": {},
     "output_type": "display_data"
    },
    {
     "data": {
      "text/plain": [
       "'https://www.ted.com/tedx/events?autocomplete_filter=Vanuatu&year=2012&page=1&when=past'"
      ]
     },
     "metadata": {},
     "output_type": "display_data"
    },
    {
     "data": {
      "text/plain": [
       "'https://www.ted.com/tedx/events?autocomplete_filter=Virgin+Islands,+U.s.&year=2019&page=1&when=past'"
      ]
     },
     "metadata": {},
     "output_type": "display_data"
    },
    {
     "data": {
      "text/plain": [
       "'https://www.ted.com/tedx/events?autocomplete_filter=Viet+Nam&year=2020&page=1&when=past'"
      ]
     },
     "metadata": {},
     "output_type": "display_data"
    },
    {
     "data": {
      "text/plain": [
       "'https://www.ted.com/tedx/events?autocomplete_filter=Western+Sahara&year=2011&page=1&when=past'"
      ]
     },
     "metadata": {},
     "output_type": "display_data"
    },
    {
     "data": {
      "text/plain": [
       "'https://www.ted.com/tedx/events?autocomplete_filter=Zambia&year=2015&page=1&when=past'"
      ]
     },
     "metadata": {},
     "output_type": "display_data"
    },
    {
     "data": {
      "text/plain": [
       "'https://www.ted.com/tedx/events?autocomplete_filter=Zimbabwe&year=2016&page=1&when=past'"
      ]
     },
     "metadata": {},
     "output_type": "display_data"
    },
    {
     "data": {
      "text/plain": [
       "'https://www.ted.com/tedx/events?autocomplete_filter=Viet+Nam&year=2015&page=1&when=past'"
      ]
     },
     "metadata": {},
     "output_type": "display_data"
    },
    {
     "data": {
      "text/plain": [
       "'https://www.ted.com/tedx/events?autocomplete_filter=Venezuela&year=2013&page=1&when=past'"
      ]
     },
     "metadata": {},
     "output_type": "display_data"
    },
    {
     "data": {
      "text/plain": [
       "'https://www.ted.com/tedx/events?autocomplete_filter=United+Kingdom&year=2013&page=1&when=past'"
      ]
     },
     "metadata": {},
     "output_type": "display_data"
    },
    {
     "data": {
      "text/plain": [
       "'https://www.ted.com/tedx/events?autocomplete_filter=Zimbabwe&year=2013&page=1&when=past'"
      ]
     },
     "metadata": {},
     "output_type": "display_data"
    },
    {
     "data": {
      "text/plain": [
       "'https://www.ted.com/tedx/events?autocomplete_filter=Uruguay&year=2009&page=1&when=past'"
      ]
     },
     "metadata": {},
     "output_type": "display_data"
    },
    {
     "data": {
      "text/plain": [
       "'https://www.ted.com/tedx/events?autocomplete_filter=Zambia&year=2020&page=1&when=past'"
      ]
     },
     "metadata": {},
     "output_type": "display_data"
    },
    {
     "data": {
      "text/plain": [
       "'https://www.ted.com/tedx/events?autocomplete_filter=Venezuela&year=2015&page=1&when=past'"
      ]
     },
     "metadata": {},
     "output_type": "display_data"
    },
    {
     "data": {
      "text/plain": [
       "'https://www.ted.com/tedx/events?autocomplete_filter=Western+Sahara&year=2010&page=1&when=past'"
      ]
     },
     "metadata": {},
     "output_type": "display_data"
    },
    {
     "data": {
      "text/plain": [
       "'https://www.ted.com/tedx/events?autocomplete_filter=Virgin+Islands,+U.s.&year=2011&page=1&when=past'"
      ]
     },
     "metadata": {},
     "output_type": "display_data"
    },
    {
     "data": {
      "text/plain": [
       "'https://www.ted.com/tedx/events?autocomplete_filter=Yemen&year=2014&page=1&when=past'"
      ]
     },
     "metadata": {},
     "output_type": "display_data"
    },
    {
     "data": {
      "text/plain": [
       "'https://www.ted.com/tedx/events?autocomplete_filter=Zimbabwe&year=2018&page=1&when=past'"
      ]
     },
     "metadata": {},
     "output_type": "display_data"
    },
    {
     "data": {
      "text/plain": [
       "'https://www.ted.com/tedx/events?autocomplete_filter=Virgin+Islands,+British&year=2018&page=1&when=past'"
      ]
     },
     "metadata": {},
     "output_type": "display_data"
    },
    {
     "data": {
      "text/plain": [
       "'https://www.ted.com/tedx/events?autocomplete_filter=Viet+Nam&year=2016&page=1&when=past'"
      ]
     },
     "metadata": {},
     "output_type": "display_data"
    },
    {
     "data": {
      "text/plain": [
       "'https://www.ted.com/tedx/events?autocomplete_filter=United+States&year=2016&page=1&when=past'"
      ]
     },
     "metadata": {},
     "output_type": "display_data"
    },
    {
     "data": {
      "text/plain": [
       "'https://www.ted.com/tedx/events?autocomplete_filter=Uzbekistan&year=2012&page=1&when=past'"
      ]
     },
     "metadata": {},
     "output_type": "display_data"
    },
    {
     "data": {
      "text/plain": [
       "'https://www.ted.com/tedx/events?autocomplete_filter=Viet+Nam&year=2018&page=1&when=past'"
      ]
     },
     "metadata": {},
     "output_type": "display_data"
    },
    {
     "data": {
      "text/plain": [
       "'https://www.ted.com/tedx/events?autocomplete_filter=Yemen&year=2013&page=1&when=past'"
      ]
     },
     "metadata": {},
     "output_type": "display_data"
    },
    {
     "data": {
      "text/plain": [
       "'https://www.ted.com/tedx/events?autocomplete_filter=Wallis+And+Futuna&year=2014&page=1&when=past'"
      ]
     },
     "metadata": {},
     "output_type": "display_data"
    },
    {
     "data": {
      "text/plain": [
       "'https://www.ted.com/tedx/events?autocomplete_filter=Zambia&year=2017&page=1&when=past'"
      ]
     },
     "metadata": {},
     "output_type": "display_data"
    },
    {
     "data": {
      "text/plain": [
       "'https://www.ted.com/tedx/events?autocomplete_filter=Wallis+And+Futuna&year=2009&page=1&when=past'"
      ]
     },
     "metadata": {},
     "output_type": "display_data"
    },
    {
     "data": {
      "text/plain": [
       "'https://www.ted.com/tedx/events?autocomplete_filter=Virgin+Islands,+British&year=2019&page=1&when=past'"
      ]
     },
     "metadata": {},
     "output_type": "display_data"
    },
    {
     "data": {
      "text/plain": [
       "'https://www.ted.com/tedx/events?autocomplete_filter=United+States+Minor+Outlying+Islands&year=2019&page=1&when=past'"
      ]
     },
     "metadata": {},
     "output_type": "display_data"
    },
    {
     "data": {
      "text/plain": [
       "'https://www.ted.com/tedx/events?autocomplete_filter=Vanuatu&year=2015&page=1&when=past'"
      ]
     },
     "metadata": {},
     "output_type": "display_data"
    },
    {
     "data": {
      "text/plain": [
       "'https://www.ted.com/tedx/events?autocomplete_filter=Virgin+Islands,+U.s.&year=2009&page=1&when=past'"
      ]
     },
     "metadata": {},
     "output_type": "display_data"
    },
    {
     "data": {
      "text/plain": [
       "'https://www.ted.com/tedx/events?autocomplete_filter=Zambia&year=2016&page=1&when=past'"
      ]
     },
     "metadata": {},
     "output_type": "display_data"
    },
    {
     "data": {
      "text/plain": [
       "'https://www.ted.com/tedx/events?autocomplete_filter=Western+Sahara&year=2017&page=1&when=past'"
      ]
     },
     "metadata": {},
     "output_type": "display_data"
    },
    {
     "data": {
      "text/plain": [
       "'https://www.ted.com/tedx/events?autocomplete_filter=Zimbabwe&year=2020&page=1&when=past'"
      ]
     },
     "metadata": {},
     "output_type": "display_data"
    },
    {
     "data": {
      "text/plain": [
       "'https://www.ted.com/tedx/events?autocomplete_filter=Western+Sahara&year=2012&page=1&when=past'"
      ]
     },
     "metadata": {},
     "output_type": "display_data"
    },
    {
     "data": {
      "text/plain": [
       "'https://www.ted.com/tedx/events?autocomplete_filter=Wallis+And+Futuna&year=2010&page=1&when=past'"
      ]
     },
     "metadata": {},
     "output_type": "display_data"
    },
    {
     "data": {
      "text/plain": [
       "'https://www.ted.com/tedx/events?autocomplete_filter=Uzbekistan&year=2010&page=1&when=past'"
      ]
     },
     "metadata": {},
     "output_type": "display_data"
    },
    {
     "data": {
      "text/plain": [
       "'https://www.ted.com/tedx/events?autocomplete_filter=Venezuela&year=2018&page=1&when=past'"
      ]
     },
     "metadata": {},
     "output_type": "display_data"
    },
    {
     "data": {
      "text/plain": [
       "'https://www.ted.com/tedx/events?autocomplete_filter=Wallis+And+Futuna&year=2012&page=1&when=past'"
      ]
     },
     "metadata": {},
     "output_type": "display_data"
    },
    {
     "data": {
      "text/plain": [
       "'https://www.ted.com/tedx/events?autocomplete_filter=Zimbabwe&year=2019&page=1&when=past'"
      ]
     },
     "metadata": {},
     "output_type": "display_data"
    },
    {
     "data": {
      "text/plain": [
       "'https://www.ted.com/tedx/events?autocomplete_filter=Yemen&year=2020&page=1&when=past'"
      ]
     },
     "metadata": {},
     "output_type": "display_data"
    },
    {
     "data": {
      "text/plain": [
       "'https://www.ted.com/tedx/events?autocomplete_filter=Yemen&year=2015&page=1&when=past'"
      ]
     },
     "metadata": {},
     "output_type": "display_data"
    },
    {
     "data": {
      "text/plain": [
       "'https://www.ted.com/tedx/events?autocomplete_filter=Western+Sahara&year=2013&page=1&when=past'"
      ]
     },
     "metadata": {},
     "output_type": "display_data"
    },
    {
     "data": {
      "text/plain": [
       "'https://www.ted.com/tedx/events?autocomplete_filter=Vanuatu&year=2013&page=1&when=past'"
      ]
     },
     "metadata": {},
     "output_type": "display_data"
    },
    {
     "data": {
      "text/plain": [
       "'https://www.ted.com/tedx/events?autocomplete_filter=Virgin+Islands,+British&year=2009&page=1&when=past'"
      ]
     },
     "metadata": {},
     "output_type": "display_data"
    },
    {
     "data": {
      "text/plain": [
       "'https://www.ted.com/tedx/events?autocomplete_filter=Western+Sahara&year=2015&page=1&when=past'"
      ]
     },
     "metadata": {},
     "output_type": "display_data"
    },
    {
     "data": {
      "text/plain": [
       "'https://www.ted.com/tedx/events?autocomplete_filter=Zimbabwe&year=2011&page=1&when=past'"
      ]
     },
     "metadata": {},
     "output_type": "display_data"
    },
    {
     "data": {
      "text/plain": [
       "'https://www.ted.com/tedx/events?autocomplete_filter=Zambia&year=2018&page=1&when=past'"
      ]
     },
     "metadata": {},
     "output_type": "display_data"
    },
    {
     "data": {
      "text/plain": [
       "'https://www.ted.com/tedx/events?autocomplete_filter=Yemen&year=2016&page=1&when=past'"
      ]
     },
     "metadata": {},
     "output_type": "display_data"
    },
    {
     "data": {
      "text/plain": [
       "'https://www.ted.com/tedx/events?autocomplete_filter=Venezuela&year=2016&page=1&when=past'"
      ]
     },
     "metadata": {},
     "output_type": "display_data"
    },
    {
     "data": {
      "text/plain": [
       "'https://www.ted.com/tedx/events?autocomplete_filter=Virgin+Islands,+U.s.&year=2012&page=1&when=past'"
      ]
     },
     "metadata": {},
     "output_type": "display_data"
    },
    {
     "data": {
      "text/plain": [
       "'https://www.ted.com/tedx/events?autocomplete_filter=Yemen&year=2018&page=1&when=past'"
      ]
     },
     "metadata": {},
     "output_type": "display_data"
    },
    {
     "data": {
      "text/plain": [
       "'https://www.ted.com/tedx/events?autocomplete_filter=Zambia&year=2019&page=1&when=past'"
      ]
     },
     "metadata": {},
     "output_type": "display_data"
    },
    {
     "data": {
      "text/plain": [
       "'https://www.ted.com/tedx/events?autocomplete_filter=Viet+Nam&year=2019&page=1&when=past'"
      ]
     },
     "metadata": {},
     "output_type": "display_data"
    },
    {
     "data": {
      "text/plain": [
       "'https://www.ted.com/tedx/events?autocomplete_filter=Wallis+And+Futuna&year=2015&page=1&when=past'"
      ]
     },
     "metadata": {},
     "output_type": "display_data"
    },
    {
     "data": {
      "text/plain": [
       "'https://www.ted.com/tedx/events?autocomplete_filter=Zimbabwe&year=2009&page=1&when=past'"
      ]
     },
     "metadata": {},
     "output_type": "display_data"
    },
    {
     "data": {
      "text/plain": [
       "'https://www.ted.com/tedx/events?autocomplete_filter=Virgin+Islands,+U.s.&year=2010&page=1&when=past'"
      ]
     },
     "metadata": {},
     "output_type": "display_data"
    },
    {
     "data": {
      "text/plain": [
       "'https://www.ted.com/tedx/events?autocomplete_filter=Western+Sahara&year=2018&page=1&when=past'"
      ]
     },
     "metadata": {},
     "output_type": "display_data"
    },
    {
     "data": {
      "text/plain": [
       "'https://www.ted.com/tedx/events?autocomplete_filter=Wallis+And+Futuna&year=2013&page=1&when=past'"
      ]
     },
     "metadata": {},
     "output_type": "display_data"
    },
    {
     "data": {
      "text/plain": [
       "'https://www.ted.com/tedx/events?autocomplete_filter=Zambia&year=2009&page=1&when=past'"
      ]
     },
     "metadata": {},
     "output_type": "display_data"
    },
    {
     "data": {
      "text/plain": [
       "'https://www.ted.com/tedx/events?autocomplete_filter=Western+Sahara&year=2016&page=1&when=past'"
      ]
     },
     "metadata": {},
     "output_type": "display_data"
    },
    {
     "data": {
      "text/plain": [
       "'https://www.ted.com/tedx/events?autocomplete_filter=Zimbabwe&year=2012&page=1&when=past'"
      ]
     },
     "metadata": {},
     "output_type": "display_data"
    },
    {
     "data": {
      "text/plain": [
       "'https://www.ted.com/tedx/events?autocomplete_filter=Yemen&year=2019&page=1&when=past'"
      ]
     },
     "metadata": {},
     "output_type": "display_data"
    },
    {
     "data": {
      "text/plain": [
       "'https://www.ted.com/tedx/events?autocomplete_filter=Zimbabwe&year=2010&page=1&when=past'"
      ]
     },
     "metadata": {},
     "output_type": "display_data"
    },
    {
     "data": {
      "text/plain": [
       "{'Afghanistan&year=2009': True,\n",
       " 'Afghanistan&year=2010': True,\n",
       " 'Albania&year=2009': True,\n",
       " 'Albania&year=2010': True,\n",
       " 'Afghanistan&year=2011': True,\n",
       " 'Afghanistan&year=2017': True,\n",
       " 'Albania&year=2011': True,\n",
       " 'Afghanistan&year=2020': True,\n",
       " 'Afghanistan&year=2012': True,\n",
       " 'Afghanistan&year=2014': True,\n",
       " 'Afghanistan&year=2018': True,\n",
       " 'Albania&year=2012': True,\n",
       " 'Afghanistan&year=2015': True,\n",
       " 'Afghanistan&year=2013': True,\n",
       " 'Afghanistan&year=2016': True,\n",
       " 'Afghanistan&year=2019': True,\n",
       " 'Albania&year=2013': True,\n",
       " 'Algeria&year=2012': True,\n",
       " 'Albania&year=2014': True,\n",
       " 'Albania&year=2020': True,\n",
       " 'Algeria&year=2009': True,\n",
       " 'Algeria&year=2013': True,\n",
       " 'American Samoa&year=2011': True,\n",
       " 'American Samoa&year=2015': True,\n",
       " 'American Samoa&year=2012': True,\n",
       " 'Algeria&year=2011': True,\n",
       " 'American Samoa&year=2016': True,\n",
       " 'Algeria&year=2014': True,\n",
       " 'Algeria&year=2010': True,\n",
       " 'Albania&year=2015': True,\n",
       " 'Andorra&year=2018': True,\n",
       " 'American Samoa&year=2014': True,\n",
       " 'Albania&year=2019': True,\n",
       " 'American Samoa&year=2017': True,\n",
       " 'Albania&year=2017': True,\n",
       " 'Albania&year=2018': True,\n",
       " 'Algeria&year=2015': True,\n",
       " 'Albania&year=2016': True,\n",
       " 'Algeria&year=2017': True,\n",
       " 'Algeria&year=2016': True,\n",
       " 'American Samoa&year=2013': True,\n",
       " 'Anguilla&year=2009': True,\n",
       " 'Andorra&year=2014': True,\n",
       " 'American Samoa&year=2010': True,\n",
       " 'Andorra&year=2020': True,\n",
       " 'American Samoa&year=2009': True,\n",
       " 'American Samoa&year=2018': True,\n",
       " 'American Samoa&year=2020': True,\n",
       " 'Andorra&year=2015': True,\n",
       " 'Andorra&year=2019': True,\n",
       " 'Anguilla&year=2011': True,\n",
       " 'Angola&year=2009': True,\n",
       " 'Angola&year=2017': True,\n",
       " 'Algeria&year=2020': True,\n",
       " 'Andorra&year=2017': True,\n",
       " 'Angola&year=2011': True,\n",
       " 'Anguilla&year=2010': True,\n",
       " 'Algeria&year=2018': True,\n",
       " 'American Samoa&year=2019': True,\n",
       " 'Angola&year=2020': True,\n",
       " 'Anguilla&year=2014': True,\n",
       " 'Algeria&year=2019': True,\n",
       " 'Anguilla&year=2012': True,\n",
       " 'Antarctica&year=2012': True,\n",
       " 'Andorra&year=2013': True,\n",
       " 'Antarctica&year=2013': True,\n",
       " 'Angola&year=2010': True,\n",
       " 'Andorra&year=2009': True,\n",
       " 'Antarctica&year=2011': True,\n",
       " 'Andorra&year=2012': True,\n",
       " 'Andorra&year=2016': True,\n",
       " 'Anguilla&year=2020': True,\n",
       " 'Angola&year=2018': True,\n",
       " 'Antarctica&year=2014': True,\n",
       " 'Antarctica&year=2015': True,\n",
       " 'Andorra&year=2011': True,\n",
       " 'Antigua And Barbuda&year=2016': True,\n",
       " 'Anguilla&year=2013': True,\n",
       " 'Antigua And Barbuda&year=2014': True,\n",
       " 'Angola&year=2015': True,\n",
       " 'Andorra&year=2010': True,\n",
       " 'Antarctica&year=2009': True,\n",
       " 'Antigua And Barbuda&year=2011': True,\n",
       " 'Antigua And Barbuda&year=2017': True,\n",
       " 'Antigua And Barbuda&year=2018': True,\n",
       " 'Antigua And Barbuda&year=2015': True,\n",
       " 'Angola&year=2016': True,\n",
       " 'Angola&year=2012': True,\n",
       " 'Antarctica&year=2017': True,\n",
       " 'Antarctica&year=2016': True,\n",
       " 'Anguilla&year=2018': True,\n",
       " 'Antigua And Barbuda&year=2012': True,\n",
       " 'Armenia&year=2009': True,\n",
       " 'Angola&year=2019': True,\n",
       " 'Angola&year=2014': True,\n",
       " 'Anguilla&year=2019': True,\n",
       " 'Antigua And Barbuda&year=2009': True,\n",
       " 'Antigua And Barbuda&year=2020': True,\n",
       " 'Antigua And Barbuda&year=2019': True,\n",
       " 'Anguilla&year=2015': True,\n",
       " 'Angola&year=2013': True,\n",
       " 'Aruba&year=2012': True,\n",
       " 'Antarctica&year=2010': True,\n",
       " 'Antigua And Barbuda&year=2010': True,\n",
       " 'Anguilla&year=2017': True,\n",
       " 'Anguilla&year=2016': True,\n",
       " 'Antarctica&year=2018': True,\n",
       " 'Argentina&year=2020': True,\n",
       " 'Argentina&year=2014': True,\n",
       " 'Antigua And Barbuda&year=2013': True,\n",
       " 'Antarctica&year=2020': True,\n",
       " 'Armenia&year=2010': True,\n",
       " 'Antarctica&year=2019': True,\n",
       " 'Armenia&year=2011': True,\n",
       " 'Argentina&year=2017': True,\n",
       " 'Argentina&year=2012': True,\n",
       " 'Argentina&year=2015': True,\n",
       " 'Argentina&year=2018': True,\n",
       " 'Aruba&year=2013': True,\n",
       " 'Argentina&year=2009': True,\n",
       " 'Aruba&year=2014': True,\n",
       " 'Aruba&year=2011': True,\n",
       " 'Argentina&year=2019': True,\n",
       " 'Aruba&year=2009': True,\n",
       " 'Argentina&year=2013': True,\n",
       " 'Aruba&year=2010': True,\n",
       " 'Armenia&year=2020': True,\n",
       " 'Armenia&year=2017': True,\n",
       " 'Argentina&year=2010': True,\n",
       " 'Armenia&year=2015': True,\n",
       " 'Armenia&year=2018': True,\n",
       " 'Argentina&year=2016': True,\n",
       " 'Argentina&year=2011': True,\n",
       " 'Armenia&year=2012': True,\n",
       " 'Aruba&year=2020': True,\n",
       " 'Australia&year=2009': True,\n",
       " 'Aruba&year=2015': True,\n",
       " 'Australia&year=2015': True,\n",
       " 'Armenia&year=2013': True,\n",
       " 'Aruba&year=2018': True,\n",
       " 'Armenia&year=2014': True,\n",
       " 'Aruba&year=2016': True,\n",
       " 'Armenia&year=2016': True,\n",
       " 'Armenia&year=2019': True,\n",
       " 'Austria&year=2011': True,\n",
       " 'Australia&year=2019': True,\n",
       " 'Aruba&year=2019': True,\n",
       " 'Austria&year=2009': True,\n",
       " 'Azerbaijan&year=2010': True,\n",
       " 'Austria&year=2012': True,\n",
       " 'Bahamas&year=2013': True,\n",
       " 'Azerbaijan&year=2015': True,\n",
       " 'Austria&year=2018': True,\n",
       " 'Aruba&year=2017': True,\n",
       " 'Bahrain&year=2016': True,\n",
       " 'Australia&year=2012': True,\n",
       " 'Azerbaijan&year=2014': True,\n",
       " 'Bahamas&year=2018': True,\n",
       " 'Austria&year=2010': True,\n",
       " 'Bahamas&year=2009': True,\n",
       " 'Australia&year=2020': True,\n",
       " 'Bangladesh&year=2019': True,\n",
       " 'Austria&year=2015': True,\n",
       " 'Bangladesh&year=2009': True,\n",
       " 'Azerbaijan&year=2013': True,\n",
       " 'Azerbaijan&year=2012': True,\n",
       " 'Azerbaijan&year=2011': True,\n",
       " 'Bahrain&year=2012': True,\n",
       " 'Australia&year=2011': True,\n",
       " 'Azerbaijan&year=2018': True,\n",
       " 'Belarus&year=2010': True,\n",
       " 'Barbados&year=2012': True,\n",
       " 'Australia&year=2014': True,\n",
       " 'Bahamas&year=2016': True,\n",
       " 'Bahamas&year=2015': True,\n",
       " 'Bahamas&year=2014': True,\n",
       " 'Bangladesh&year=2015': True,\n",
       " 'Austria&year=2014': True,\n",
       " 'Bahrain&year=2009': True,\n",
       " 'Belgium&year=2013': True,\n",
       " 'Belarus&year=2015': True,\n",
       " 'Austria&year=2017': True,\n",
       " 'Australia&year=2016': True,\n",
       " 'Bahamas&year=2017': True,\n",
       " 'Bahrain&year=2019': True,\n",
       " 'Bahrain&year=2018': True,\n",
       " 'Australia&year=2017': True,\n",
       " 'Bahrain&year=2017': True,\n",
       " 'Barbados&year=2018': True,\n",
       " 'Azerbaijan&year=2017': True,\n",
       " 'Bangladesh&year=2012': True,\n",
       " 'Belize&year=2016': True,\n",
       " 'Belgium&year=2018': True,\n",
       " 'Australia&year=2013': True,\n",
       " 'Austria&year=2019': True,\n",
       " 'Azerbaijan&year=2020': True,\n",
       " 'Australia&year=2010': True,\n",
       " 'Australia&year=2018': True,\n",
       " 'Bahrain&year=2020': True,\n",
       " 'Barbados&year=2010': True,\n",
       " 'Barbados&year=2009': True,\n",
       " 'Austria&year=2020': True,\n",
       " 'Belgium&year=2009': True,\n",
       " 'Bangladesh&year=2020': True,\n",
       " 'Benin&year=2009': True,\n",
       " 'Barbados&year=2015': True,\n",
       " 'Bahamas&year=2020': True,\n",
       " 'Benin&year=2019': True,\n",
       " 'Austria&year=2016': True,\n",
       " 'Bahamas&year=2010': True,\n",
       " 'Bahrain&year=2011': True,\n",
       " 'Azerbaijan&year=2009': True,\n",
       " 'Barbados&year=2011': True,\n",
       " 'Austria&year=2013': True,\n",
       " 'Belarus&year=2013': True,\n",
       " 'Belarus&year=2012': True,\n",
       " 'Bahamas&year=2011': True,\n",
       " 'Belize&year=2012': True,\n",
       " 'Belarus&year=2011': True,\n",
       " 'Bermuda&year=2012': True,\n",
       " 'Belarus&year=2018': True,\n",
       " 'Bangladesh&year=2011': True,\n",
       " 'Bhutan&year=2010': True,\n",
       " 'Azerbaijan&year=2019': True,\n",
       " 'Bahrain&year=2013': True,\n",
       " 'Bangladesh&year=2014': True,\n",
       " 'Bahamas&year=2012': True,\n",
       " 'Belarus&year=2014': True,\n",
       " 'Azerbaijan&year=2016': True,\n",
       " 'Belgium&year=2016': True,\n",
       " 'Bahrain&year=2014': True,\n",
       " 'Belgium&year=2015': True,\n",
       " 'Benin&year=2015': True,\n",
       " 'Bhutan&year=2015': True,\n",
       " 'Belgium&year=2014': True,\n",
       " 'Belize&year=2009': True,\n",
       " 'Bahrain&year=2010': True,\n",
       " 'Bolivia&year=2013': True,\n",
       " 'Barbados&year=2014': True,\n",
       " 'Bangladesh&year=2016': True,\n",
       " 'Bahrain&year=2015': True,\n",
       " 'Barbados&year=2017': True,\n",
       " 'Belgium&year=2017': True,\n",
       " 'Bahamas&year=2019': True,\n",
       " 'Belize&year=2019': True,\n",
       " 'Bangladesh&year=2017': True,\n",
       " 'Belize&year=2018': True,\n",
       " 'Bermuda&year=2018': True,\n",
       " 'Bolivia&year=2018': True,\n",
       " 'Belize&year=2017': True,\n",
       " 'Benin&year=2012': True,\n",
       " 'Bangladesh&year=2013': True,\n",
       " 'Belarus&year=2017': True,\n",
       " 'Bosnia And Herzegovina&year=2016': True,\n",
       " 'Barbados&year=2019': True,\n",
       " 'Bangladesh&year=2018': True,\n",
       " 'Belarus&year=2020': True,\n",
       " 'Belize&year=2020': True,\n",
       " 'Bangladesh&year=2010': True,\n",
       " 'Bermuda&year=2010': True,\n",
       " 'Barbados&year=2020': True,\n",
       " 'Bermuda&year=2009': True,\n",
       " 'Bolivia&year=2009': True,\n",
       " 'Botswana&year=2009': True,\n",
       " 'Benin&year=2020': True,\n",
       " 'Bermuda&year=2015': True,\n",
       " 'Barbados&year=2016': True,\n",
       " 'Belgium&year=2020': True,\n",
       " 'Belgium&year=2010': True,\n",
       " 'Botswana&year=2019': True,\n",
       " 'Belarus&year=2009': True,\n",
       " 'Belize&year=2011': True,\n",
       " 'Bermuda&year=2011': True,\n",
       " 'Bhutan&year=2013': True,\n",
       " 'Belgium&year=2011': True,\n",
       " 'Bosnia And Herzegovina&year=2012': True,\n",
       " 'Bouvet Island&year=2012': True,\n",
       " 'Bhutan&year=2011': True,\n",
       " 'Bhutan&year=2012': True,\n",
       " 'Barbados&year=2013': True,\n",
       " 'Bhutan&year=2018': True,\n",
       " 'Belarus&year=2019': True,\n",
       " 'Benin&year=2011': True,\n",
       " 'Belize&year=2013': True,\n",
       " 'Brazil&year=2010': True,\n",
       " 'Belgium&year=2012': True,\n",
       " 'Bhutan&year=2014': True,\n",
       " 'Benin&year=2014': True,\n",
       " 'Bolivia&year=2016': True,\n",
       " 'Belize&year=2014': True,\n",
       " 'Brazil&year=2015': True,\n",
       " 'Botswana&year=2015': True,\n",
       " 'Bolivia&year=2014': True,\n",
       " 'Bolivia&year=2015': True,\n",
       " 'Belarus&year=2016': True,\n",
       " 'Bosnia And Herzegovina&year=2009': True,\n",
       " 'Belize&year=2010': True,\n",
       " 'Bermuda&year=2014': True,\n",
       " 'British Indian Ocean Territory&year=2013': True,\n",
       " 'Benin&year=2016': True,\n",
       " 'Belize&year=2015': True,\n",
       " 'Bermuda&year=2017': True,\n",
       " 'Bolivia&year=2017': True,\n",
       " 'Bosnia And Herzegovina&year=2019': True,\n",
       " 'Benin&year=2017': True,\n",
       " 'Bouvet Island&year=2018': True,\n",
       " 'British Indian Ocean Territory&year=2018': True,\n",
       " 'Bosnia And Herzegovina&year=2018': True,\n",
       " 'Bosnia And Herzegovina&year=2017': True,\n",
       " 'Belgium&year=2019': True,\n",
       " 'Botswana&year=2012': True,\n",
       " 'Benin&year=2013': True,\n",
       " 'Bhutan&year=2017': True,\n",
       " 'Brunei Darussalam&year=2016': True,\n",
       " 'Bermuda&year=2019': True,\n",
       " 'Benin&year=2018': True,\n",
       " 'Bhutan&year=2020': True,\n",
       " 'Bosnia And Herzegovina&year=2020': True,\n",
       " 'Bouvet Island&year=2010': True,\n",
       " 'Bermuda&year=2020': True,\n",
       " 'British Indian Ocean Territory&year=2009': True,\n",
       " 'Bulgaria&year=2009': True,\n",
       " 'Bouvet Island&year=2009': True,\n",
       " 'Benin&year=2010': True,\n",
       " 'Botswana&year=2020': True,\n",
       " 'Bouvet Island&year=2015': True,\n",
       " 'Bermuda&year=2016': True,\n",
       " 'Bolivia&year=2020': True,\n",
       " 'Bulgaria&year=2019': True,\n",
       " 'Bolivia&year=2010': True,\n",
       " 'Bosnia And Herzegovina&year=2011': True,\n",
       " 'Bhutan&year=2009': True,\n",
       " 'Bouvet Island&year=2011': True,\n",
       " 'Brazil&year=2013': True,\n",
       " 'Bolivia&year=2011': True,\n",
       " 'Brunei Darussalam&year=2012': True,\n",
       " 'Burkina Faso&year=2012': True,\n",
       " 'Brazil&year=2012': True,\n",
       " 'Brazil&year=2011': True,\n",
       " 'Bermuda&year=2013': True,\n",
       " 'Bhutan&year=2019': True,\n",
       " 'Brazil&year=2018': True,\n",
       " 'Botswana&year=2011': True,\n",
       " 'Burundi&year=2010': True,\n",
       " 'Bosnia And Herzegovina&year=2013': True,\n",
       " 'Botswana&year=2014': True,\n",
       " 'Brazil&year=2014': True,\n",
       " 'Bolivia&year=2012': True,\n",
       " 'British Indian Ocean Territory&year=2016': True,\n",
       " 'Bosnia And Herzegovina&year=2014': True,\n",
       " 'Bulgaria&year=2015': True,\n",
       " 'Burundi&year=2015': True,\n",
       " 'British Indian Ocean Territory&year=2014': True,\n",
       " 'British Indian Ocean Territory&year=2015': True,\n",
       " 'Bhutan&year=2016': True,\n",
       " 'Bosnia And Herzegovina&year=2010': True,\n",
       " 'Bouvet Island&year=2014': True,\n",
       " 'Cambodia&year=2013': True,\n",
       " 'Brunei Darussalam&year=2009': True,\n",
       " 'British Indian Ocean Territory&year=2017': True,\n",
       " 'Botswana&year=2016': True,\n",
       " 'Bouvet Island&year=2017': True,\n",
       " 'Bosnia And Herzegovina&year=2015': True,\n",
       " 'Brunei Darussalam&year=2019': True,\n",
       " 'Botswana&year=2017': True,\n",
       " 'Burkina Faso&year=2018': True,\n",
       " 'Cambodia&year=2018': True,\n",
       " 'Brunei Darussalam&year=2017': True,\n",
       " 'Brunei Darussalam&year=2018': True,\n",
       " 'Bolivia&year=2019': True,\n",
       " 'Botswana&year=2013': True,\n",
       " 'Cameroon&year=2016': True,\n",
       " 'Brazil&year=2017': True,\n",
       " 'Bulgaria&year=2012': True,\n",
       " 'Bouvet Island&year=2019': True,\n",
       " 'Brazil&year=2020': True,\n",
       " 'Burkina Faso&year=2010': True,\n",
       " 'Brunei Darussalam&year=2020': True,\n",
       " 'Bouvet Island&year=2020': True,\n",
       " 'Canada&year=2009': True,\n",
       " 'Cambodia&year=2009': True,\n",
       " 'Bulgaria&year=2020': True,\n",
       " 'Burkina Faso&year=2009': True,\n",
       " 'Bouvet Island&year=2016': True,\n",
       " 'Botswana&year=2010': True,\n",
       " 'Canada&year=2019': True,\n",
       " 'Botswana&year=2018': True,\n",
       " 'British Indian Ocean Territory&year=2020': True,\n",
       " 'Burkina Faso&year=2015': True,\n",
       " 'Brunei Darussalam&year=2011': True,\n",
       " 'British Indian Ocean Territory&year=2010': True,\n",
       " 'Burkina Faso&year=2011': True,\n",
       " 'Burundi&year=2013': True,\n",
       " 'British Indian Ocean Territory&year=2011': True,\n",
       " 'Cameroon&year=2012': True,\n",
       " 'Cape Verde&year=2012': True,\n",
       " 'Burundi&year=2011': True,\n",
       " 'Burundi&year=2012': True,\n",
       " 'Brazil&year=2019': True,\n",
       " 'Bouvet Island&year=2013': True,\n",
       " 'Cayman Islands&year=2010': True,\n",
       " 'Brazil&year=2009': True,\n",
       " 'Bulgaria&year=2011': True,\n",
       " 'Burundi&year=2018': True,\n",
       " 'Brunei Darussalam&year=2013': True,\n",
       " 'Bulgaria&year=2014': True,\n",
       " 'Burundi&year=2014': True,\n",
       " 'Cambodia&year=2016': True,\n",
       " 'Brunei Darussalam&year=2014': True,\n",
       " 'Cayman Islands&year=2015': True,\n",
       " 'Cambodia&year=2014': True,\n",
       " 'Canada&year=2015': True,\n",
       " 'Cambodia&year=2015': True,\n",
       " 'Brunei Darussalam&year=2010': True,\n",
       " 'Brazil&year=2016': True,\n",
       " 'Central African Republic&year=2013': True,\n",
       " 'British Indian Ocean Territory&year=2012': True,\n",
       " 'Burkina Faso&year=2014': True,\n",
       " 'Cameroon&year=2009': True,\n",
       " 'Bulgaria&year=2016': True,\n",
       " 'Burkina Faso&year=2017': True,\n",
       " 'Cambodia&year=2017': True,\n",
       " 'Cameroon&year=2019': True,\n",
       " 'Bulgaria&year=2017': True,\n",
       " 'Central African Republic&year=2018': True,\n",
       " 'Cameroon&year=2017': True,\n",
       " 'Cameroon&year=2018': True,\n",
       " 'Cape Verde&year=2018': True,\n",
       " 'Bulgaria&year=2013': True,\n",
       " 'British Indian Ocean Territory&year=2019': True,\n",
       " 'Chad&year=2016': True,\n",
       " 'Burundi&year=2017': True,\n",
       " 'Brunei Darussalam&year=2015': True,\n",
       " 'Canada&year=2012': True,\n",
       " 'Burkina Faso&year=2019': True,\n",
       " 'Burundi&year=2020': True,\n",
       " 'Cameroon&year=2020': True,\n",
       " 'Burkina Faso&year=2020': True,\n",
       " 'Cape Verde&year=2010': True,\n",
       " 'Chile&year=2009': True,\n",
       " 'Canada&year=2020': True,\n",
       " 'Cape Verde&year=2009': True,\n",
       " 'Central African Republic&year=2009': True,\n",
       " 'Bulgaria&year=2010': True,\n",
       " 'Burkina Faso&year=2016': True,\n",
       " 'Chile&year=2019': True,\n",
       " 'Cambodia&year=2020': True,\n",
       " 'Bulgaria&year=2018': True,\n",
       " 'Cape Verde&year=2015': True,\n",
       " 'Cambodia&year=2010': True,\n",
       " 'Cameroon&year=2011': True,\n",
       " 'Cape Verde&year=2011': True,\n",
       " 'Cayman Islands&year=2013': True,\n",
       " 'Cambodia&year=2011': True,\n",
       " 'China&year=2012': True,\n",
       " 'Cayman Islands&year=2011': True,\n",
       " 'Burkina Faso&year=2013': True,\n",
       " 'Cayman Islands&year=2012': True,\n",
       " 'Chad&year=2012': True,\n",
       " 'Burundi&year=2019': True,\n",
       " 'Christmas Island&year=2010': True,\n",
       " 'Burundi&year=2009': True,\n",
       " 'Canada&year=2011': True,\n",
       " 'Cayman Islands&year=2018': True,\n",
       " 'Cameroon&year=2013': True,\n",
       " 'Canada&year=2014': True,\n",
       " 'Cayman Islands&year=2014': True,\n",
       " 'Central African Republic&year=2016': True,\n",
       " 'Cameroon&year=2014': True,\n",
       " 'Christmas Island&year=2015': True,\n",
       " 'Central African Republic&year=2014': True,\n",
       " 'Burundi&year=2016': True,\n",
       " 'Central African Republic&year=2015': True,\n",
       " 'Chile&year=2015': True,\n",
       " 'Cameroon&year=2010': True,\n",
       " 'Cocos (keeling) Islands&year=2013': True,\n",
       " 'Cambodia&year=2012': True,\n",
       " 'Cape Verde&year=2014': True,\n",
       " 'Canada&year=2016': True,\n",
       " 'Chad&year=2009': True,\n",
       " 'Cape Verde&year=2017': True,\n",
       " 'Central African Republic&year=2017': True,\n",
       " 'Chad&year=2019': True,\n",
       " 'Canada&year=2017': True,\n",
       " 'Cocos (keeling) Islands&year=2018': True,\n",
       " 'Chad&year=2017': True,\n",
       " 'Chad&year=2018': True,\n",
       " 'Cambodia&year=2019': True,\n",
       " 'China&year=2018': True,\n",
       " 'Canada&year=2013': True,\n",
       " 'Colombia&year=2016': True,\n",
       " 'Cameroon&year=2015': True,\n",
       " 'Cayman Islands&year=2017': True,\n",
       " 'Cape Verde&year=2019': True,\n",
       " 'Chile&year=2012': True,\n",
       " 'Cayman Islands&year=2020': True,\n",
       " 'Chad&year=2020': True,\n",
       " 'China&year=2010': True,\n",
       " 'Cape Verde&year=2020': True,\n",
       " 'Comoros&year=2009': True,\n",
       " 'Chile&year=2020': True,\n",
       " 'China&year=2009': True,\n",
       " 'Canada&year=2010': True,\n",
       " 'Cocos (keeling) Islands&year=2009': True,\n",
       " 'Cape Verde&year=2016': True,\n",
       " 'Comoros&year=2019': True,\n",
       " 'Canada&year=2018': True,\n",
       " 'Central African Republic&year=2020': True,\n",
       " 'Central African Republic&year=2010': True,\n",
       " 'China&year=2015': True,\n",
       " 'Chad&year=2011': True,\n",
       " 'China&year=2011': True,\n",
       " 'Central African Republic&year=2011': True,\n",
       " 'Christmas Island&year=2013': True,\n",
       " 'Congo&year=2012': True,\n",
       " 'Christmas Island&year=2011': True,\n",
       " 'Christmas Island&year=2012': True,\n",
       " 'Cape Verde&year=2013': True,\n",
       " 'Colombia&year=2012': True,\n",
       " 'Cayman Islands&year=2019': True,\n",
       " 'Congo, The Democratic Republic Of The&year=2010': True,\n",
       " 'Cayman Islands&year=2009': True,\n",
       " 'Chile&year=2011': True,\n",
       " 'Chad&year=2013': True,\n",
       " 'Christmas Island&year=2018': True,\n",
       " 'Chile&year=2014': True,\n",
       " 'Christmas Island&year=2014': True,\n",
       " 'Cocos (keeling) Islands&year=2016': True,\n",
       " 'Chad&year=2014': True,\n",
       " 'Congo, The Democratic Republic Of The&year=2015': True,\n",
       " 'Cocos (keeling) Islands&year=2014': True,\n",
       " 'Cocos (keeling) Islands&year=2015': True,\n",
       " 'Cayman Islands&year=2016': True,\n",
       " 'Comoros&year=2015': True,\n",
       " 'Chad&year=2010': True,\n",
       " 'Cook Islands&year=2013': True,\n",
       " 'Central African Republic&year=2012': True,\n",
       " 'China&year=2014': True,\n",
       " 'Chile&year=2016': True,\n",
       " 'Colombia&year=2009': True,\n",
       " 'Cocos (keeling) Islands&year=2017': True,\n",
       " 'China&year=2017': True,\n",
       " 'Chile&year=2017': True,\n",
       " 'Colombia&year=2019': True,\n",
       " 'Cook Islands&year=2018': True,\n",
       " 'Colombia&year=2017': True,\n",
       " 'Colombia&year=2018': True,\n",
       " 'Central African Republic&year=2019': True,\n",
       " 'Chile&year=2013': True,\n",
       " 'Congo&year=2018': True,\n",
       " 'Costa Rica&year=2016': True,\n",
       " 'China&year=2019': True,\n",
       " 'Chad&year=2015': True,\n",
       " 'Christmas Island&year=2017': True,\n",
       " 'Comoros&year=2012': True,\n",
       " 'Colombia&year=2020': True,\n",
       " 'Christmas Island&year=2020': True,\n",
       " 'Congo&year=2010': True,\n",
       " 'China&year=2020': True,\n",
       " \"Cote D'ivoire&year=2009\": True,\n",
       " 'Comoros&year=2020': True,\n",
       " 'Chile&year=2010': True,\n",
       " 'Congo&year=2009': True,\n",
       " 'China&year=2016': True,\n",
       " 'Cook Islands&year=2009': True,\n",
       " \"Cote D'ivoire&year=2019\": True,\n",
       " 'Cocos (keeling) Islands&year=2020': True,\n",
       " 'Cocos (keeling) Islands&year=2010': True,\n",
       " 'Chile&year=2018': True,\n",
       " 'Congo&year=2015': True,\n",
       " 'Congo&year=2011': True,\n",
       " 'Colombia&year=2011': True,\n",
       " 'Cocos (keeling) Islands&year=2011': True,\n",
       " 'Congo, The Democratic Republic Of The&year=2013': True,\n",
       " 'Croatia&year=2012': True,\n",
       " 'Congo, The Democratic Republic Of The&year=2011': True,\n",
       " 'China&year=2013': True,\n",
       " 'Cuba&year=2010': True,\n",
       " 'Costa Rica&year=2012': True,\n",
       " 'Congo, The Democratic Republic Of The&year=2018': True,\n",
       " 'Comoros&year=2011': True,\n",
       " 'Christmas Island&year=2019': True,\n",
       " 'Congo, The Democratic Republic Of The&year=2012': True,\n",
       " 'Colombia&year=2013': True,\n",
       " 'Christmas Island&year=2009': True,\n",
       " 'Congo, The Democratic Republic Of The&year=2014': True,\n",
       " 'Comoros&year=2014': True,\n",
       " 'Cook Islands&year=2016': True,\n",
       " 'Christmas Island&year=2016': True,\n",
       " \"Cote D'ivoire&year=2015\": True,\n",
       " 'Costa Rica&year=2009': True,\n",
       " 'Congo&year=2014': True,\n",
       " 'Cook Islands&year=2015': True,\n",
       " 'Cook Islands&year=2017': True,\n",
       " 'Comoros&year=2016': True,\n",
       " 'Cocos (keeling) Islands&year=2012': True,\n",
       " 'Colombia&year=2014': True,\n",
       " 'Cook Islands&year=2014': True,\n",
       " 'Cyprus&year=2013': True,\n",
       " 'Congo&year=2017': True,\n",
       " 'Cuba&year=2015': True,\n",
       " 'Colombia&year=2010': True,\n",
       " 'Costa Rica&year=2019': True,\n",
       " 'Cocos (keeling) Islands&year=2019': True,\n",
       " 'Croatia&year=2018': True,\n",
       " \"Cote D'ivoire&year=2012\": True,\n",
       " 'Costa Rica&year=2018': True,\n",
       " 'Congo, The Democratic Republic Of The&year=2017': True,\n",
       " 'Costa Rica&year=2020': True,\n",
       " 'Congo&year=2019': True,\n",
       " 'Colombia&year=2015': True,\n",
       " 'Czech Republic&year=2016': True,\n",
       " 'Costa Rica&year=2017': True,\n",
       " 'Comoros&year=2017': True,\n",
       " 'Croatia&year=2010': True,\n",
       " 'Comoros&year=2013': True,\n",
       " 'Cyprus&year=2018': True,\n",
       " 'Congo, The Democratic Republic Of The&year=2020': True,\n",
       " 'Comoros&year=2010': True,\n",
       " 'Cyprus&year=2009': True,\n",
       " 'Croatia&year=2015': True,\n",
       " 'Croatia&year=2011': True,\n",
       " 'Croatia&year=2009': True,\n",
       " 'Cook Islands&year=2020': True,\n",
       " 'Cook Islands&year=2010': True,\n",
       " 'Comoros&year=2018': True,\n",
       " 'Denmark&year=2019': True,\n",
       " \"Cote D'ivoire&year=2020\": True,\n",
       " 'Congo&year=2020': True,\n",
       " 'Cuba&year=2013': True,\n",
       " 'Congo&year=2016': True,\n",
       " 'Denmark&year=2009': True,\n",
       " 'Costa Rica&year=2011': True,\n",
       " 'Congo&year=2013': True,\n",
       " 'Czech Republic&year=2012': True,\n",
       " 'Cuba&year=2018': True,\n",
       " 'Cuba&year=2012': True,\n",
       " 'Cuba&year=2014': True,\n",
       " \"Cote D'ivoire&year=2011\": True,\n",
       " 'Costa Rica&year=2013': True,\n",
       " 'Congo, The Democratic Republic Of The&year=2009': True,\n",
       " 'Cook Islands&year=2011': True,\n",
       " 'Dominica&year=2010': True,\n",
       " 'Cuba&year=2011': True,\n",
       " 'Cyprus&year=2016': True,\n",
       " 'Congo, The Democratic Republic Of The&year=2019': True,\n",
       " 'Djibouti&year=2012': True,\n",
       " \"Cote D'ivoire&year=2014\": True,\n",
       " 'Congo, The Democratic Republic Of The&year=2016': True,\n",
       " 'Denmark&year=2015': True,\n",
       " 'Cyprus&year=2015': True,\n",
       " 'Cyprus&year=2017': True,\n",
       " \"Cote D'ivoire&year=2016\": True,\n",
       " 'Croatia&year=2014': True,\n",
       " 'Costa Rica&year=2014': True,\n",
       " 'Czech Republic&year=2019': True,\n",
       " 'Cyprus&year=2014': True,\n",
       " 'Dominican Republic&year=2013': True,\n",
       " 'Costa Rica&year=2010': True,\n",
       " 'Dominica&year=2015': True,\n",
       " 'Djibouti&year=2018': True,\n",
       " 'Czech Republic&year=2020': True,\n",
       " 'Czech Republic&year=2018': True,\n",
       " 'Croatia&year=2019': True,\n",
       " 'Cuba&year=2017': True,\n",
       " \"Cote D'ivoire&year=2017\": True,\n",
       " 'Czech Republic&year=2017': True,\n",
       " 'Djibouti&year=2010': True,\n",
       " \"Cote D'ivoire&year=2013\": True,\n",
       " 'Cook Islands&year=2019': True,\n",
       " 'Djibouti&year=2011': True,\n",
       " 'Cyprus&year=2010': True,\n",
       " 'Croatia&year=2020': True,\n",
       " 'Djibouti&year=2009': True,\n",
       " 'Dominica&year=2013': True,\n",
       " 'Croatia&year=2016': True,\n",
       " 'Denmark&year=2020': True,\n",
       " \"Cote D'ivoire&year=2010\": True,\n",
       " 'Czech Republic&year=2013': True,\n",
       " 'East Timor&year=2016': True,\n",
       " 'Cook Islands&year=2012': True,\n",
       " 'Czech Republic&year=2009': True,\n",
       " 'Dominica&year=2014': True,\n",
       " 'Dominican Republic&year=2018': True,\n",
       " 'Cyprus&year=2020': True,\n",
       " 'Dominican Republic&year=2009': True,\n",
       " 'Croatia&year=2017': True,\n",
       " 'Dominica&year=2012': True,\n",
       " 'Cyprus&year=2011': True,\n",
       " 'Dominican Republic&year=2016': True,\n",
       " 'Cuba&year=2019': True,\n",
       " 'Dominica&year=2011': True,\n",
       " 'Croatia&year=2013': True,\n",
       " 'Denmark&year=2016': True,\n",
       " 'Costa Rica&year=2015': True,\n",
       " 'Ecuador&year=2019': True,\n",
       " 'East Timor&year=2012': True,\n",
       " 'Denmark&year=2012': True,\n",
       " 'Dominican Republic&year=2017': True,\n",
       " 'Ecuador&year=2009': True,\n",
       " 'Czech Republic&year=2014': True,\n",
       " 'Denmark&year=2011': True,\n",
       " 'Dominican Republic&year=2015': True,\n",
       " 'Cuba&year=2020': True,\n",
       " 'East Timor&year=2019': True,\n",
       " 'Czech Republic&year=2010': True,\n",
       " 'Dominican Republic&year=2014': True,\n",
       " 'Cuba&year=2016': True,\n",
       " 'Djibouti&year=2019': True,\n",
       " \"Cote D'ivoire&year=2018\": True,\n",
       " 'El Salvador&year=2010': True,\n",
       " 'Ecuador&year=2015': True,\n",
       " 'East Timor&year=2020': True,\n",
       " 'Denmark&year=2017': True,\n",
       " 'Djibouti&year=2015': True,\n",
       " 'Djibouti&year=2014': True,\n",
       " 'Egypt&year=2012': True,\n",
       " 'Czech Republic&year=2011': True,\n",
       " 'East Timor&year=2018': True,\n",
       " 'East Timor&year=2017': True,\n",
       " 'Egypt&year=2010': True,\n",
       " 'Denmark&year=2013': True,\n",
       " 'Cyprus&year=2019': True,\n",
       " 'Dominican Republic&year=2010': True,\n",
       " 'Cuba&year=2009': True,\n",
       " 'Equatorial Guinea&year=2013': True,\n",
       " 'Egypt&year=2011': True,\n",
       " 'Egypt&year=2018': True,\n",
       " 'Dominica&year=2018': True,\n",
       " 'Djibouti&year=2020': True,\n",
       " 'El Salvador&year=2015': True,\n",
       " 'Egypt&year=2009': True,\n",
       " 'Denmark&year=2014': True,\n",
       " 'Dominica&year=2017': True,\n",
       " 'Djibouti&year=2016': True,\n",
       " 'Ecuador&year=2020': True,\n",
       " 'El Salvador&year=2013': True,\n",
       " 'Denmark&year=2010': True,\n",
       " 'East Timor&year=2013': True,\n",
       " 'Eritrea&year=2016': True,\n",
       " 'Cyprus&year=2012': True,\n",
       " 'El Salvador&year=2014': True,\n",
       " 'Equatorial Guinea&year=2009': True,\n",
       " 'Dominican Republic&year=2011': True,\n",
       " 'East Timor&year=2009': True,\n",
       " 'Djibouti&year=2017': True,\n",
       " 'El Salvador&year=2012': True,\n",
       " 'Equatorial Guinea&year=2018': True,\n",
       " 'Dominican Republic&year=2020': True,\n",
       " 'Dominica&year=2019': True,\n",
       " 'Equatorial Guinea&year=2016': True,\n",
       " 'El Salvador&year=2011': True,\n",
       " 'Djibouti&year=2013': True,\n",
       " 'Estonia&year=2019': True,\n",
       " 'Ecuador&year=2016': True,\n",
       " 'Czech Republic&year=2015': True,\n",
       " 'Equatorial Guinea&year=2017': True,\n",
       " 'Eritrea&year=2012': True,\n",
       " 'Ecuador&year=2012': True,\n",
       " 'East Timor&year=2014': True,\n",
       " 'Equatorial Guinea&year=2015': True,\n",
       " 'Dominica&year=2020': True,\n",
       " 'Estonia&year=2009': True,\n",
       " 'Ecuador&year=2011': True,\n",
       " 'East Timor&year=2010': True,\n",
       " 'Eritrea&year=2019': True,\n",
       " 'Equatorial Guinea&year=2014': True,\n",
       " 'Dominica&year=2016': True,\n",
       " 'Falkland Islands (malvinas)&year=2010': True,\n",
       " 'Egypt&year=2019': True,\n",
       " 'Estonia&year=2015': True,\n",
       " 'Denmark&year=2018': True,\n",
       " 'Eritrea&year=2020': True,\n",
       " 'Egypt&year=2015': True,\n",
       " 'Ecuador&year=2017': True,\n",
       " 'Eritrea&year=2018': True,\n",
       " 'East Timor&year=2011': True,\n",
       " 'Egypt&year=2014': True,\n",
       " 'Ethiopia&year=2012': True,\n",
       " 'Ecuador&year=2013': True,\n",
       " 'Ethiopia&year=2010': True,\n",
       " 'Eritrea&year=2017': True,\n",
       " 'Dominican Republic&year=2019': True,\n",
       " 'Faroe Islands&year=2013': True,\n",
       " 'Equatorial Guinea&year=2010': True,\n",
       " 'Dominica&year=2009': True,\n",
       " 'Ethiopia&year=2011': True,\n",
       " 'Ethiopia&year=2018': True,\n",
       " 'Egypt&year=2020': True,\n",
       " 'El Salvador&year=2018': True,\n",
       " 'Ethiopia&year=2009': True,\n",
       " 'Ecuador&year=2014': True,\n",
       " 'Falkland Islands (malvinas)&year=2015': True,\n",
       " 'El Salvador&year=2017': True,\n",
       " 'Egypt&year=2016': True,\n",
       " 'Estonia&year=2020': True,\n",
       " 'Falkland Islands (malvinas)&year=2013': True,\n",
       " 'Ecuador&year=2010': True,\n",
       " 'Fiji&year=2016': True,\n",
       " 'Eritrea&year=2013': True,\n",
       " 'Dominican Republic&year=2012': True,\n",
       " 'Falkland Islands (malvinas)&year=2014': True,\n",
       " 'Faroe Islands&year=2009': True,\n",
       " 'Eritrea&year=2009': True,\n",
       " 'Equatorial Guinea&year=2011': True,\n",
       " 'Egypt&year=2017': True,\n",
       " 'Equatorial Guinea&year=2020': True,\n",
       " 'Falkland Islands (malvinas)&year=2012': True,\n",
       " 'Faroe Islands&year=2018': True,\n",
       " 'Falkland Islands (malvinas)&year=2011': True,\n",
       " 'El Salvador&year=2019': True,\n",
       " 'Faroe Islands&year=2016': True,\n",
       " 'Egypt&year=2013': True,\n",
       " 'Finland&year=2019': True,\n",
       " 'Estonia&year=2016': True,\n",
       " 'East Timor&year=2015': True,\n",
       " 'Faroe Islands&year=2017': True,\n",
       " 'Fiji&year=2012': True,\n",
       " 'Eritrea&year=2014': True,\n",
       " 'Estonia&year=2012': True,\n",
       " 'Faroe Islands&year=2015': True,\n",
       " 'El Salvador&year=2020': True,\n",
       " 'Estonia&year=2011': True,\n",
       " 'Finland&year=2009': True,\n",
       " 'Eritrea&year=2010': True,\n",
       " 'Faroe Islands&year=2014': True,\n",
       " 'Fiji&year=2019': True,\n",
       " 'El Salvador&year=2016': True,\n",
       " 'French Guiana&year=2010': True,\n",
       " 'Ethiopia&year=2019': True,\n",
       " 'Ecuador&year=2018': True,\n",
       " 'Fiji&year=2020': True,\n",
       " 'Estonia&year=2017': True,\n",
       " 'Ethiopia&year=2015': True,\n",
       " 'Eritrea&year=2011': True,\n",
       " 'Ethiopia&year=2014': True,\n",
       " 'Fiji&year=2018': True,\n",
       " 'France&year=2012': True,\n",
       " 'Estonia&year=2013': True,\n",
       " 'Fiji&year=2017': True,\n",
       " 'France&year=2010': True,\n",
       " 'Equatorial Guinea&year=2019': True,\n",
       " 'French Polynesia&year=2013': True,\n",
       " 'Faroe Islands&year=2010': True,\n",
       " 'El Salvador&year=2009': True,\n",
       " 'France&year=2011': True,\n",
       " 'Ethiopia&year=2020': True,\n",
       " 'Falkland Islands (malvinas)&year=2018': True,\n",
       " 'Estonia&year=2014': True,\n",
       " 'Falkland Islands (malvinas)&year=2017': True,\n",
       " 'France&year=2009': True,\n",
       " 'Ethiopia&year=2016': True,\n",
       " 'Finland&year=2020': True,\n",
       " 'French Guiana&year=2013': True,\n",
       " 'Finland&year=2015': True,\n",
       " 'Estonia&year=2010': True,\n",
       " 'French Southern Territories&year=2016': True,\n",
       " 'Fiji&year=2013': True,\n",
       " 'Equatorial Guinea&year=2012': True,\n",
       " 'French Guiana&year=2014': True,\n",
       " 'Faroe Islands&year=2011': True,\n",
       " 'Fiji&year=2009': True,\n",
       " 'Ethiopia&year=2017': True,\n",
       " 'French Guiana&year=2012': True,\n",
       " 'Faroe Islands&year=2020': True,\n",
       " 'Falkland Islands (malvinas)&year=2019': True,\n",
       " 'French Guiana&year=2011': True,\n",
       " 'French Polynesia&year=2016': True,\n",
       " 'France&year=2018': True,\n",
       " 'Ethiopia&year=2013': True,\n",
       " 'French Guiana&year=2015': True,\n",
       " 'Gabon&year=2019': True,\n",
       " 'Eritrea&year=2015': True,\n",
       " 'Finland&year=2016': True,\n",
       " 'French Polynesia&year=2017': True,\n",
       " 'Fiji&year=2014': True,\n",
       " 'Finland&year=2012': True,\n",
       " 'Falkland Islands (malvinas)&year=2020': True,\n",
       " 'French Polynesia&year=2015': True,\n",
       " 'Finland&year=2011': True,\n",
       " 'Fiji&year=2010': True,\n",
       " 'French Southern Territories&year=2019': True,\n",
       " 'French Polynesia&year=2014': True,\n",
       " 'French Polynesia&year=2009': True,\n",
       " 'Falkland Islands (malvinas)&year=2016': True,\n",
       " 'French Polynesia&year=2018': True,\n",
       " 'Georgia&year=2010': True,\n",
       " 'Estonia&year=2018': True,\n",
       " 'France&year=2019': True,\n",
       " 'French Southern Territories&year=2020': True,\n",
       " 'France&year=2015': True,\n",
       " 'Fiji&year=2011': True,\n",
       " 'French Southern Territories&year=2018': True,\n",
       " 'France&year=2014': True,\n",
       " 'Finland&year=2013': True,\n",
       " 'French Southern Territories&year=2017': True,\n",
       " 'French Southern Territories&year=2012': True,\n",
       " 'Faroe Islands&year=2019': True,\n",
       " 'Gambia&year=2010': True,\n",
       " 'Gabon&year=2009': True,\n",
       " 'Germany&year=2013': True,\n",
       " 'Falkland Islands (malvinas)&year=2009': True,\n",
       " 'French Polynesia&year=2010': True,\n",
       " 'Gambia&year=2011': True,\n",
       " 'Finland&year=2014': True,\n",
       " 'French Guiana&year=2018': True,\n",
       " 'Gambia&year=2009': True,\n",
       " 'French Guiana&year=2017': True,\n",
       " 'France&year=2016': True,\n",
       " 'Finland&year=2017': True,\n",
       " 'Gabon&year=2020': True,\n",
       " 'Gabon&year=2015': True,\n",
       " 'Georgia&year=2013': True,\n",
       " 'Finland&year=2010': True,\n",
       " 'Gambia&year=2012': True,\n",
       " 'Ghana&year=2016': True,\n",
       " 'French Southern Territories&year=2013': True,\n",
       " 'Faroe Islands&year=2012': True,\n",
       " 'Georgia&year=2014': True,\n",
       " 'France&year=2017': True,\n",
       " 'Georgia&year=2012': True,\n",
       " 'French Southern Territories&year=2009': True,\n",
       " 'French Polynesia&year=2020': True,\n",
       " 'France&year=2020': True,\n",
       " 'French Guiana&year=2019': True,\n",
       " 'Georgia&year=2011': True,\n",
       " 'Gambia&year=2018': True,\n",
       " 'Germany&year=2016': True,\n",
       " 'France&year=2013': True,\n",
       " 'Georgia&year=2015': True,\n",
       " 'Gibraltar&year=2019': True,\n",
       " 'Gabon&year=2016': True,\n",
       " 'Fiji&year=2015': True,\n",
       " 'Germany&year=2017': True,\n",
       " 'French Guiana&year=2020': True,\n",
       " 'Gabon&year=2012': True,\n",
       " 'Gabon&year=2011': True,\n",
       " 'Germany&year=2015': True,\n",
       " 'French Polynesia&year=2011': True,\n",
       " 'French Southern Territories&year=2010': True,\n",
       " 'Germany&year=2014': True,\n",
       " 'Germany&year=2009': True,\n",
       " 'Ghana&year=2019': True,\n",
       " 'Germany&year=2018': True,\n",
       " 'French Guiana&year=2016': True,\n",
       " 'Greenland&year=2010': True,\n",
       " 'Gambia&year=2019': True,\n",
       " 'Finland&year=2018': True,\n",
       " 'Ghana&year=2020': True,\n",
       " 'French Southern Territories&year=2011': True,\n",
       " 'Gambia&year=2014': True,\n",
       " 'Gambia&year=2015': True,\n",
       " 'Ghana&year=2018': True,\n",
       " 'French Southern Territories&year=2014': True,\n",
       " 'Gabon&year=2013': True,\n",
       " 'Ghana&year=2017': True,\n",
       " 'Ghana&year=2012': True,\n",
       " 'Greece&year=2010': True,\n",
       " 'Gibraltar&year=2009': True,\n",
       " 'French Polynesia&year=2019': True,\n",
       " 'Grenada&year=2013': True,\n",
       " 'Germany&year=2010': True,\n",
       " 'French Guiana&year=2009': True,\n",
       " 'Greece&year=2011': True,\n",
       " 'Gabon&year=2014': True,\n",
       " 'Georgia&year=2017': True,\n",
       " 'Georgia&year=2018': True,\n",
       " 'Greece&year=2009': True,\n",
       " 'Gambia&year=2016': True,\n",
       " 'Gabon&year=2017': True,\n",
       " 'Gibraltar&year=2020': True,\n",
       " 'Gibraltar&year=2015': True,\n",
       " 'Greenland&year=2013': True,\n",
       " 'Gabon&year=2010': True,\n",
       " 'Greece&year=2012': True,\n",
       " 'Guadeloupe&year=2016': True,\n",
       " 'Ghana&year=2013': True,\n",
       " 'French Polynesia&year=2012': True,\n",
       " 'Gambia&year=2017': True,\n",
       " 'Germany&year=2020': True,\n",
       " 'Greenland&year=2014': True,\n",
       " 'Ghana&year=2009': True,\n",
       " 'Greenland&year=2012': True,\n",
       " 'Georgia&year=2019': True,\n",
       " 'Gambia&year=2020': True,\n",
       " 'Greenland&year=2011': True,\n",
       " 'Greece&year=2018': True,\n",
       " 'Grenada&year=2016': True,\n",
       " 'Gambia&year=2013': True,\n",
       " 'Greenland&year=2015': True,\n",
       " 'Guam&year=2019': True,\n",
       " 'Gibraltar&year=2016': True,\n",
       " 'French Southern Territories&year=2015': True,\n",
       " 'Georgia&year=2020': True,\n",
       " 'Gibraltar&year=2012': True,\n",
       " 'Gibraltar&year=2011': True,\n",
       " 'Grenada&year=2017': True,\n",
       " 'Grenada&year=2015': True,\n",
       " 'Germany&year=2011': True,\n",
       " 'Ghana&year=2010': True,\n",
       " ...}"
      ]
     },
     "execution_count": 54,
     "metadata": {},
     "output_type": "execute_result"
    }
   ],
   "source": [
    "isPast = True\n",
    "def process_id(country):\n",
    "    \"\"\"process a single ID\"\"\"\n",
    "    global isPast\n",
    "    country = re.sub(' ', '+', country)\n",
    "    try:\n",
    "        getEvents(country, 1, 1000, isPast)\n",
    "    except:\n",
    "        print('ERROR IN', country)\n",
    "    return True\n",
    "\n",
    "def process_range(id_range, store=None):\n",
    "    \"\"\"process a number of ids, storing the results in a dict\"\"\"\n",
    "    if store is None:\n",
    "        store = {}\n",
    "    for id in id_range:\n",
    "        store[id] = process_id(id)\n",
    "    return store\n",
    "\n",
    "from threading import Thread\n",
    "\n",
    "def threaded_process_range(nthreads, id_range):\n",
    "    \"\"\"process the id range in a specified number of threads\"\"\"\n",
    "    store = {}\n",
    "    threads = []\n",
    "    # create the threads\n",
    "    for i in range(nthreads):\n",
    "        ids = id_range[i::nthreads]\n",
    "        t = Thread(target=process_range, args=(ids,store))\n",
    "        threads.append(t)\n",
    "\n",
    "    # start the threads\n",
    "    [ t.start() for t in threads ]\n",
    "    # wait for the threads to finish\n",
    "    [ t.join() for t in threads ]\n",
    "    return store\n",
    "\n",
    "# countries = eventsDf.country.unique()\n",
    "threaded_process_range(\n",
    "    15,\n",
    "    countries,\n",
    ")"
   ]
  },
  {
   "cell_type": "code",
   "execution_count": 55,
   "metadata": {},
   "outputs": [
    {
     "name": "stdout",
     "output_type": "stream",
     "text": [
      "12998 events\n"
     ]
    }
   ],
   "source": [
    "print(len(eventsDf), 'events')"
   ]
  },
  {
   "cell_type": "code",
   "execution_count": 57,
   "metadata": {},
   "outputs": [
    {
     "data": {
      "text/html": [
       "<div>\n",
       "<style scoped>\n",
       "    .dataframe tbody tr th:only-of-type {\n",
       "        vertical-align: middle;\n",
       "    }\n",
       "\n",
       "    .dataframe tbody tr th {\n",
       "        vertical-align: top;\n",
       "    }\n",
       "\n",
       "    .dataframe thead th {\n",
       "        text-align: right;\n",
       "    }\n",
       "</style>\n",
       "<table border=\"1\" class=\"dataframe\">\n",
       "  <thead>\n",
       "    <tr style=\"text-align: right;\">\n",
       "      <th></th>\n",
       "      <th>name</th>\n",
       "      <th>eventType</th>\n",
       "      <th>date</th>\n",
       "      <th>city</th>\n",
       "      <th>country</th>\n",
       "      <th>hasWebcast</th>\n",
       "      <th>hasSpace</th>\n",
       "      <th>eventCode</th>\n",
       "    </tr>\n",
       "  </thead>\n",
       "  <tbody>\n",
       "    <tr>\n",
       "      <th>31309</th>\n",
       "      <td>TEDxSecretariaDeEducacionDelEstadoDeZacatecas</td>\n",
       "      <td>Internal</td>\n",
       "      <td>May 17, 2019</td>\n",
       "      <td>Guadalupe</td>\n",
       "      <td>Mexico</td>\n",
       "      <td>False</td>\n",
       "      <td>False</td>\n",
       "      <td>31309</td>\n",
       "    </tr>\n",
       "    <tr>\n",
       "      <th>31974</th>\n",
       "      <td>TEDxYouth@ASFM</td>\n",
       "      <td>Youth</td>\n",
       "      <td>May 18, 2019</td>\n",
       "      <td>Santa Catarina</td>\n",
       "      <td>Mexico</td>\n",
       "      <td>False</td>\n",
       "      <td>True</td>\n",
       "      <td>31974</td>\n",
       "    </tr>\n",
       "    <tr>\n",
       "      <th>34319</th>\n",
       "      <td>TEDxTangamangaSalon</td>\n",
       "      <td>Salon</td>\n",
       "      <td>May 24, 2019</td>\n",
       "      <td>San Luis Potosí</td>\n",
       "      <td>Mexico</td>\n",
       "      <td>False</td>\n",
       "      <td>True</td>\n",
       "      <td>34319</td>\n",
       "    </tr>\n",
       "    <tr>\n",
       "      <th>31493</th>\n",
       "      <td>TEDxEscuelaAmeyalli</td>\n",
       "      <td>Youth</td>\n",
       "      <td>May 25, 2019</td>\n",
       "      <td>Mexico City</td>\n",
       "      <td>Mexico</td>\n",
       "      <td>False</td>\n",
       "      <td>False</td>\n",
       "      <td>31493</td>\n",
       "    </tr>\n",
       "    <tr>\n",
       "      <th>31829</th>\n",
       "      <td>TEDxINACIPE</td>\n",
       "      <td>University</td>\n",
       "      <td>May 15, 2019</td>\n",
       "      <td>Ciudad de México</td>\n",
       "      <td>Mexico</td>\n",
       "      <td>True</td>\n",
       "      <td>False</td>\n",
       "      <td>31829</td>\n",
       "    </tr>\n",
       "    <tr>\n",
       "      <th>33087</th>\n",
       "      <td>TEDxUniversidadPanamericanaGuadalajara</td>\n",
       "      <td>University</td>\n",
       "      <td>May 14, 2019</td>\n",
       "      <td>Guadalajara</td>\n",
       "      <td>Mexico</td>\n",
       "      <td>True</td>\n",
       "      <td>False</td>\n",
       "      <td>33087</td>\n",
       "    </tr>\n",
       "    <tr>\n",
       "      <th>33209</th>\n",
       "      <td>TEDxCiudadVictoria</td>\n",
       "      <td>Standard</td>\n",
       "      <td>May 11, 2019</td>\n",
       "      <td>Ciudad Victoria</td>\n",
       "      <td>Mexico</td>\n",
       "      <td>True</td>\n",
       "      <td>False</td>\n",
       "      <td>33209</td>\n",
       "    </tr>\n",
       "    <tr>\n",
       "      <th>32986</th>\n",
       "      <td>TEDxHumaya</td>\n",
       "      <td>Standard</td>\n",
       "      <td>May 8, 2019</td>\n",
       "      <td>Culiacán</td>\n",
       "      <td>Mexico</td>\n",
       "      <td>True</td>\n",
       "      <td>False</td>\n",
       "      <td>32986</td>\n",
       "    </tr>\n",
       "    <tr>\n",
       "      <th>33009</th>\n",
       "      <td>TEDxTecdeMtySanLuisPotosi</td>\n",
       "      <td>University</td>\n",
       "      <td>May 3, 2019</td>\n",
       "      <td>San Luis Potosi</td>\n",
       "      <td>Mexico</td>\n",
       "      <td>True</td>\n",
       "      <td>False</td>\n",
       "      <td>33009</td>\n",
       "    </tr>\n",
       "    <tr>\n",
       "      <th>30425</th>\n",
       "      <td>TEDxBUAP</td>\n",
       "      <td>University</td>\n",
       "      <td>May 2, 2019</td>\n",
       "      <td>Puebla</td>\n",
       "      <td>Mexico</td>\n",
       "      <td>True</td>\n",
       "      <td>False</td>\n",
       "      <td>30425</td>\n",
       "    </tr>\n",
       "    <tr>\n",
       "      <th>34436</th>\n",
       "      <td>TEDxJesúsMariaLive</td>\n",
       "      <td>TEDxLive</td>\n",
       "      <td>April 28, 2019</td>\n",
       "      <td>Jesús María</td>\n",
       "      <td>Mexico</td>\n",
       "      <td>True</td>\n",
       "      <td>False</td>\n",
       "      <td>34436</td>\n",
       "    </tr>\n",
       "    <tr>\n",
       "      <th>34525</th>\n",
       "      <td>TEDxArroyodelaPlataLive</td>\n",
       "      <td>TEDxLive</td>\n",
       "      <td>April 27, 2019</td>\n",
       "      <td>Guadalupe</td>\n",
       "      <td>Mexico</td>\n",
       "      <td>True</td>\n",
       "      <td>False</td>\n",
       "      <td>34525</td>\n",
       "    </tr>\n",
       "    <tr>\n",
       "      <th>34270</th>\n",
       "      <td>TEDxTangamangaLive</td>\n",
       "      <td></td>\n",
       "      <td>April 26, 2019</td>\n",
       "      <td>San Luis Potosí</td>\n",
       "      <td>Mexico</td>\n",
       "      <td>True</td>\n",
       "      <td>False</td>\n",
       "      <td>34270</td>\n",
       "    </tr>\n",
       "    <tr>\n",
       "      <th>34683</th>\n",
       "      <td>TEDxZapopanSalon</td>\n",
       "      <td>Salon</td>\n",
       "      <td>April 25, 2019</td>\n",
       "      <td>Zapopan</td>\n",
       "      <td>Mexico</td>\n",
       "      <td>True</td>\n",
       "      <td>False</td>\n",
       "      <td>34683</td>\n",
       "    </tr>\n",
       "    <tr>\n",
       "      <th>34524</th>\n",
       "      <td>TEDxYouth@PrepaTecCEMLive</td>\n",
       "      <td>TEDxLive</td>\n",
       "      <td>April 25, 2019</td>\n",
       "      <td>México</td>\n",
       "      <td>Mexico</td>\n",
       "      <td>True</td>\n",
       "      <td>False</td>\n",
       "      <td>34524</td>\n",
       "    </tr>\n",
       "    <tr>\n",
       "      <th>33630</th>\n",
       "      <td>TEDxZapopanLive</td>\n",
       "      <td>TEDxLive</td>\n",
       "      <td>April 23, 2019</td>\n",
       "      <td>Zapopan</td>\n",
       "      <td>Mexico</td>\n",
       "      <td>True</td>\n",
       "      <td>False</td>\n",
       "      <td>33630</td>\n",
       "    </tr>\n",
       "    <tr>\n",
       "      <th>34498</th>\n",
       "      <td>TEDxIberoLive</td>\n",
       "      <td>TEDxLive</td>\n",
       "      <td>April 21, 2019</td>\n",
       "      <td>Mexico City</td>\n",
       "      <td>Mexico</td>\n",
       "      <td>True</td>\n",
       "      <td>False</td>\n",
       "      <td>34498</td>\n",
       "    </tr>\n",
       "    <tr>\n",
       "      <th>34460</th>\n",
       "      <td>TEDxSanMigueldeAllendeLive</td>\n",
       "      <td>TEDxLive</td>\n",
       "      <td>April 21, 2019</td>\n",
       "      <td>San Miguel de Allende</td>\n",
       "      <td>Mexico</td>\n",
       "      <td>True</td>\n",
       "      <td>False</td>\n",
       "      <td>34460</td>\n",
       "    </tr>\n",
       "    <tr>\n",
       "      <th>32058</th>\n",
       "      <td>TEDxBarriodelaEstacion</td>\n",
       "      <td>Standard</td>\n",
       "      <td>March 28, 2019</td>\n",
       "      <td>Aguascalientes</td>\n",
       "      <td>Mexico</td>\n",
       "      <td>True</td>\n",
       "      <td>False</td>\n",
       "      <td>32058</td>\n",
       "    </tr>\n",
       "    <tr>\n",
       "      <th>30244</th>\n",
       "      <td>TEDxCalzadaDeLosHéroes</td>\n",
       "      <td>Standard</td>\n",
       "      <td>March 23, 2019</td>\n",
       "      <td>León</td>\n",
       "      <td>Mexico</td>\n",
       "      <td>True</td>\n",
       "      <td>False</td>\n",
       "      <td>30244</td>\n",
       "    </tr>\n",
       "    <tr>\n",
       "      <th>31446</th>\n",
       "      <td>TEDxAnahuacUniversity</td>\n",
       "      <td>University</td>\n",
       "      <td>March 21, 2019</td>\n",
       "      <td>Mexico City</td>\n",
       "      <td>Mexico</td>\n",
       "      <td>True</td>\n",
       "      <td>False</td>\n",
       "      <td>31446</td>\n",
       "    </tr>\n",
       "    <tr>\n",
       "      <th>31872</th>\n",
       "      <td>TEDxUPAEP</td>\n",
       "      <td>University</td>\n",
       "      <td>March 21, 2019</td>\n",
       "      <td>Puebla</td>\n",
       "      <td>Mexico</td>\n",
       "      <td>True</td>\n",
       "      <td>False</td>\n",
       "      <td>31872</td>\n",
       "    </tr>\n",
       "    <tr>\n",
       "      <th>32386</th>\n",
       "      <td>TEDxUniversidadDeMorelia</td>\n",
       "      <td>University</td>\n",
       "      <td>March 20, 2019</td>\n",
       "      <td>Morelia</td>\n",
       "      <td>Mexico</td>\n",
       "      <td>True</td>\n",
       "      <td>False</td>\n",
       "      <td>32386</td>\n",
       "    </tr>\n",
       "    <tr>\n",
       "      <th>33694</th>\n",
       "      <td>TEDxParqueViverosSalon</td>\n",
       "      <td>Salon</td>\n",
       "      <td>March 13, 2019</td>\n",
       "      <td>Nuevo Laredo</td>\n",
       "      <td>Mexico</td>\n",
       "      <td>True</td>\n",
       "      <td>False</td>\n",
       "      <td>33694</td>\n",
       "    </tr>\n",
       "    <tr>\n",
       "      <th>29945</th>\n",
       "      <td>TEDxAvDivDelNorteSalon</td>\n",
       "      <td>Salon</td>\n",
       "      <td>March 10, 2019</td>\n",
       "      <td>Chihuahua</td>\n",
       "      <td>Mexico</td>\n",
       "      <td>True</td>\n",
       "      <td>False</td>\n",
       "      <td>29945</td>\n",
       "    </tr>\n",
       "    <tr>\n",
       "      <th>31507</th>\n",
       "      <td>TEDxTeopanzolco</td>\n",
       "      <td>Standard</td>\n",
       "      <td>March 2, 2019</td>\n",
       "      <td>Xochitepec</td>\n",
       "      <td>Mexico</td>\n",
       "      <td>True</td>\n",
       "      <td>False</td>\n",
       "      <td>31507</td>\n",
       "    </tr>\n",
       "    <tr>\n",
       "      <th>31019</th>\n",
       "      <td>TEDxLosMochis</td>\n",
       "      <td>Standard</td>\n",
       "      <td>March 2, 2019</td>\n",
       "      <td>Los Mochis</td>\n",
       "      <td>Mexico</td>\n",
       "      <td>True</td>\n",
       "      <td>False</td>\n",
       "      <td>31019</td>\n",
       "    </tr>\n",
       "    <tr>\n",
       "      <th>31582</th>\n",
       "      <td>TEDxUDLAP</td>\n",
       "      <td>University</td>\n",
       "      <td>February 23, 2019</td>\n",
       "      <td>San Andrés Cholula</td>\n",
       "      <td>Mexico</td>\n",
       "      <td>True</td>\n",
       "      <td>False</td>\n",
       "      <td>31582</td>\n",
       "    </tr>\n",
       "    <tr>\n",
       "      <th>30073</th>\n",
       "      <td>TEDxITPachuca</td>\n",
       "      <td>University</td>\n",
       "      <td>February 7, 2019</td>\n",
       "      <td>Pachuca</td>\n",
       "      <td>Mexico</td>\n",
       "      <td>True</td>\n",
       "      <td>False</td>\n",
       "      <td>30073</td>\n",
       "    </tr>\n",
       "    <tr>\n",
       "      <th>30744</th>\n",
       "      <td>TEDxBosqueDeChapultepec</td>\n",
       "      <td>Standard</td>\n",
       "      <td>February 5, 2019</td>\n",
       "      <td>Mexico City</td>\n",
       "      <td>Mexico</td>\n",
       "      <td>True</td>\n",
       "      <td>False</td>\n",
       "      <td>30744</td>\n",
       "    </tr>\n",
       "    <tr>\n",
       "      <th>...</th>\n",
       "      <td>...</td>\n",
       "      <td>...</td>\n",
       "      <td>...</td>\n",
       "      <td>...</td>\n",
       "      <td>...</td>\n",
       "      <td>...</td>\n",
       "      <td>...</td>\n",
       "      <td>...</td>\n",
       "    </tr>\n",
       "    <tr>\n",
       "      <th>4843</th>\n",
       "      <td>TEDxIberoLive</td>\n",
       "      <td>TED2012 Simulcast</td>\n",
       "      <td>February 29, 2012</td>\n",
       "      <td>León Guanajuato</td>\n",
       "      <td>Mexico</td>\n",
       "      <td>True</td>\n",
       "      <td>False</td>\n",
       "      <td>4843</td>\n",
       "    </tr>\n",
       "    <tr>\n",
       "      <th>3617</th>\n",
       "      <td>TEDxTijuanaWomen</td>\n",
       "      <td>TEDxWomen</td>\n",
       "      <td>December 1, 2011</td>\n",
       "      <td>Tijuana</td>\n",
       "      <td>Mexico</td>\n",
       "      <td>True</td>\n",
       "      <td>True</td>\n",
       "      <td>3617</td>\n",
       "    </tr>\n",
       "    <tr>\n",
       "      <th>4241</th>\n",
       "      <td>TEDxSanMigueldeAllendeWomen</td>\n",
       "      <td>TEDxWomen</td>\n",
       "      <td>December 1, 2011</td>\n",
       "      <td>San Miguel de Allende</td>\n",
       "      <td>Mexico</td>\n",
       "      <td>True</td>\n",
       "      <td>False</td>\n",
       "      <td>4241</td>\n",
       "    </tr>\n",
       "    <tr>\n",
       "      <th>4063</th>\n",
       "      <td>TEDxMexicaliSalon</td>\n",
       "      <td>Salon</td>\n",
       "      <td>November 30, 2011</td>\n",
       "      <td>Mexicali</td>\n",
       "      <td>Mexico</td>\n",
       "      <td>True</td>\n",
       "      <td>False</td>\n",
       "      <td>4063</td>\n",
       "    </tr>\n",
       "    <tr>\n",
       "      <th>3823</th>\n",
       "      <td>TEDxTijuanaSalon</td>\n",
       "      <td>Salon</td>\n",
       "      <td>November 24, 2011</td>\n",
       "      <td>Tijuana</td>\n",
       "      <td>Mexico</td>\n",
       "      <td>True</td>\n",
       "      <td>True</td>\n",
       "      <td>3823</td>\n",
       "    </tr>\n",
       "    <tr>\n",
       "      <th>3707</th>\n",
       "      <td>TEDxYouth@SLP</td>\n",
       "      <td>Youth</td>\n",
       "      <td>November 19, 2011</td>\n",
       "      <td>San Luis Potosí</td>\n",
       "      <td>Mexico</td>\n",
       "      <td>True</td>\n",
       "      <td>False</td>\n",
       "      <td>3707</td>\n",
       "    </tr>\n",
       "    <tr>\n",
       "      <th>2561</th>\n",
       "      <td>TEDxCondesaRoma</td>\n",
       "      <td></td>\n",
       "      <td>November 17, 2011</td>\n",
       "      <td>Mexico city</td>\n",
       "      <td>Mexico</td>\n",
       "      <td>True</td>\n",
       "      <td>True</td>\n",
       "      <td>2561</td>\n",
       "    </tr>\n",
       "    <tr>\n",
       "      <th>3863</th>\n",
       "      <td>TEDxITESMCCV</td>\n",
       "      <td>University</td>\n",
       "      <td>November 14, 2011</td>\n",
       "      <td>Córdoba</td>\n",
       "      <td>Mexico</td>\n",
       "      <td>True</td>\n",
       "      <td>False</td>\n",
       "      <td>3863</td>\n",
       "    </tr>\n",
       "    <tr>\n",
       "      <th>4114</th>\n",
       "      <td>TEDxOaxacaCity</td>\n",
       "      <td></td>\n",
       "      <td>November 5, 2011</td>\n",
       "      <td>Oaxaca</td>\n",
       "      <td>Mexico</td>\n",
       "      <td>True</td>\n",
       "      <td>True</td>\n",
       "      <td>4114</td>\n",
       "    </tr>\n",
       "    <tr>\n",
       "      <th>2981</th>\n",
       "      <td>TEDxDF</td>\n",
       "      <td></td>\n",
       "      <td>November 5, 2011</td>\n",
       "      <td>Ciudad de México</td>\n",
       "      <td>Mexico</td>\n",
       "      <td>True</td>\n",
       "      <td>False</td>\n",
       "      <td>2981</td>\n",
       "    </tr>\n",
       "    <tr>\n",
       "      <th>1608</th>\n",
       "      <td>TEDxUANL</td>\n",
       "      <td>University</td>\n",
       "      <td>October 31, 2011</td>\n",
       "      <td>monterrey</td>\n",
       "      <td>Mexico</td>\n",
       "      <td>True</td>\n",
       "      <td>True</td>\n",
       "      <td>1608</td>\n",
       "    </tr>\n",
       "    <tr>\n",
       "      <th>1461</th>\n",
       "      <td>TEDxValleDeGuadalupe</td>\n",
       "      <td></td>\n",
       "      <td>September 13, 2011</td>\n",
       "      <td>Ensenada, Baja California Mexico.</td>\n",
       "      <td>Mexico</td>\n",
       "      <td>True</td>\n",
       "      <td>False</td>\n",
       "      <td>1461</td>\n",
       "    </tr>\n",
       "    <tr>\n",
       "      <th>3358</th>\n",
       "      <td>TEDxTijuanaSalon</td>\n",
       "      <td>Salon</td>\n",
       "      <td>August 23, 2011</td>\n",
       "      <td>Tijuana</td>\n",
       "      <td>Mexico</td>\n",
       "      <td>True</td>\n",
       "      <td>False</td>\n",
       "      <td>3358</td>\n",
       "    </tr>\n",
       "    <tr>\n",
       "      <th>3123</th>\n",
       "      <td>TEDxSanMigueldeAllende</td>\n",
       "      <td></td>\n",
       "      <td>August 6, 2011</td>\n",
       "      <td>San Miguel de Allende</td>\n",
       "      <td>Mexico</td>\n",
       "      <td>True</td>\n",
       "      <td>False</td>\n",
       "      <td>3123</td>\n",
       "    </tr>\n",
       "    <tr>\n",
       "      <th>3096</th>\n",
       "      <td>TEDxCondesaRoma</td>\n",
       "      <td>TEDGlobal2011 Simulcast</td>\n",
       "      <td>July 13, 2011</td>\n",
       "      <td>Mexico city</td>\n",
       "      <td>Mexico</td>\n",
       "      <td>True</td>\n",
       "      <td>False</td>\n",
       "      <td>3096</td>\n",
       "    </tr>\n",
       "    <tr>\n",
       "      <th>3371</th>\n",
       "      <td>TEDxSanMigueldeAllende</td>\n",
       "      <td>TEDGlobal2011 Simulcast</td>\n",
       "      <td>July 13, 2011</td>\n",
       "      <td>San Miguel de Allende</td>\n",
       "      <td>Mexico</td>\n",
       "      <td>True</td>\n",
       "      <td>False</td>\n",
       "      <td>3371</td>\n",
       "    </tr>\n",
       "    <tr>\n",
       "      <th>2632</th>\n",
       "      <td>TEDxTijuana</td>\n",
       "      <td></td>\n",
       "      <td>June 22, 2011</td>\n",
       "      <td>Tijuana, Baja California Norte</td>\n",
       "      <td>Mexico</td>\n",
       "      <td>True</td>\n",
       "      <td>True</td>\n",
       "      <td>2632</td>\n",
       "    </tr>\n",
       "    <tr>\n",
       "      <th>2361</th>\n",
       "      <td>TEDxSLP</td>\n",
       "      <td></td>\n",
       "      <td>May 28, 2011</td>\n",
       "      <td>San Luis Potosí</td>\n",
       "      <td>Mexico</td>\n",
       "      <td>True</td>\n",
       "      <td>True</td>\n",
       "      <td>2361</td>\n",
       "    </tr>\n",
       "    <tr>\n",
       "      <th>2248</th>\n",
       "      <td>TEDxJoven@NiñosHeroes</td>\n",
       "      <td>Youth</td>\n",
       "      <td>April 2, 2011</td>\n",
       "      <td>Monterrey</td>\n",
       "      <td>Mexico</td>\n",
       "      <td>True</td>\n",
       "      <td>False</td>\n",
       "      <td>2248</td>\n",
       "    </tr>\n",
       "    <tr>\n",
       "      <th>2163</th>\n",
       "      <td>TEDxSanMigueldeAllende</td>\n",
       "      <td>TED2011 Simulcast</td>\n",
       "      <td>March 2, 2011</td>\n",
       "      <td>San Miguel de Allende</td>\n",
       "      <td>Mexico</td>\n",
       "      <td>True</td>\n",
       "      <td>False</td>\n",
       "      <td>2163</td>\n",
       "    </tr>\n",
       "    <tr>\n",
       "      <th>1787</th>\n",
       "      <td>TEDxITESM</td>\n",
       "      <td></td>\n",
       "      <td>December 7, 2010</td>\n",
       "      <td>Mexico City</td>\n",
       "      <td>Mexico</td>\n",
       "      <td>True</td>\n",
       "      <td>False</td>\n",
       "      <td>1787</td>\n",
       "    </tr>\n",
       "    <tr>\n",
       "      <th>1764</th>\n",
       "      <td>TEDxSanMigueldeAllende</td>\n",
       "      <td></td>\n",
       "      <td>December 7, 2010</td>\n",
       "      <td>San Miguel de Allende</td>\n",
       "      <td>Mexico</td>\n",
       "      <td>True</td>\n",
       "      <td>False</td>\n",
       "      <td>1764</td>\n",
       "    </tr>\n",
       "    <tr>\n",
       "      <th>1112</th>\n",
       "      <td>TEDxGarzaGarcia</td>\n",
       "      <td></td>\n",
       "      <td>November 30, 2010</td>\n",
       "      <td>Monterrey</td>\n",
       "      <td>Mexico</td>\n",
       "      <td>True</td>\n",
       "      <td>False</td>\n",
       "      <td>1112</td>\n",
       "    </tr>\n",
       "    <tr>\n",
       "      <th>1117</th>\n",
       "      <td>TEDxITESM</td>\n",
       "      <td></td>\n",
       "      <td>November 17, 2010</td>\n",
       "      <td>Mexico City</td>\n",
       "      <td>Mexico</td>\n",
       "      <td>True</td>\n",
       "      <td>True</td>\n",
       "      <td>1117</td>\n",
       "    </tr>\n",
       "    <tr>\n",
       "      <th>377</th>\n",
       "      <td>TEDxSanMigueldeAllende</td>\n",
       "      <td></td>\n",
       "      <td>October 31, 2010</td>\n",
       "      <td>San Miguel de Allende</td>\n",
       "      <td>Mexico</td>\n",
       "      <td>True</td>\n",
       "      <td>False</td>\n",
       "      <td>377</td>\n",
       "    </tr>\n",
       "    <tr>\n",
       "      <th>496</th>\n",
       "      <td>TEDxDF</td>\n",
       "      <td></td>\n",
       "      <td>October 27, 2010</td>\n",
       "      <td>Mexico City</td>\n",
       "      <td>Mexico</td>\n",
       "      <td>True</td>\n",
       "      <td>True</td>\n",
       "      <td>496</td>\n",
       "    </tr>\n",
       "    <tr>\n",
       "      <th>832</th>\n",
       "      <td>TEDxMonterrey</td>\n",
       "      <td></td>\n",
       "      <td>October 5, 2010</td>\n",
       "      <td>Monterrey</td>\n",
       "      <td>Mexico</td>\n",
       "      <td>True</td>\n",
       "      <td>True</td>\n",
       "      <td>832</td>\n",
       "    </tr>\n",
       "    <tr>\n",
       "      <th>1202</th>\n",
       "      <td>TEDxCentroHistorico</td>\n",
       "      <td>TEDxChange Simulcast</td>\n",
       "      <td>September 19, 2010</td>\n",
       "      <td>Mexico City</td>\n",
       "      <td>Mexico</td>\n",
       "      <td>True</td>\n",
       "      <td>False</td>\n",
       "      <td>1202</td>\n",
       "    </tr>\n",
       "    <tr>\n",
       "      <th>763</th>\n",
       "      <td>TEDxLaguna</td>\n",
       "      <td></td>\n",
       "      <td>June 20, 2010</td>\n",
       "      <td>Torre</td>\n",
       "      <td>Mexico</td>\n",
       "      <td>True</td>\n",
       "      <td>True</td>\n",
       "      <td>763</td>\n",
       "    </tr>\n",
       "    <tr>\n",
       "      <th>44</th>\n",
       "      <td>TEDxDF</td>\n",
       "      <td></td>\n",
       "      <td>October 7, 2009</td>\n",
       "      <td>Mexico City</td>\n",
       "      <td>Mexico</td>\n",
       "      <td>True</td>\n",
       "      <td>True</td>\n",
       "      <td>44</td>\n",
       "    </tr>\n",
       "  </tbody>\n",
       "</table>\n",
       "<p>415 rows × 8 columns</p>\n",
       "</div>"
      ],
      "text/plain": [
       "                                                name             eventType  \\\n",
       "31309  TEDxSecretariaDeEducacionDelEstadoDeZacatecas              Internal   \n",
       "31974                                 TEDxYouth@ASFM                 Youth   \n",
       "34319                            TEDxTangamangaSalon                 Salon   \n",
       "31493                            TEDxEscuelaAmeyalli                 Youth   \n",
       "31829                                    TEDxINACIPE            University   \n",
       "...                                              ...                   ...   \n",
       "496                                           TEDxDF                         \n",
       "832                                    TEDxMonterrey                         \n",
       "1202                             TEDxCentroHistorico  TEDxChange Simulcast   \n",
       "763                                       TEDxLaguna                         \n",
       "44                                            TEDxDF                         \n",
       "\n",
       "                     date              city country hasWebcast hasSpace  \\\n",
       "31309        May 17, 2019         Guadalupe  Mexico      False    False   \n",
       "31974        May 18, 2019    Santa Catarina  Mexico      False     True   \n",
       "34319        May 24, 2019   San Luis Potosí  Mexico      False     True   \n",
       "31493        May 25, 2019       Mexico City  Mexico      False    False   \n",
       "31829        May 15, 2019  Ciudad de México  Mexico       True    False   \n",
       "...                   ...               ...     ...        ...      ...   \n",
       "496      October 27, 2010       Mexico City  Mexico       True     True   \n",
       "832       October 5, 2010         Monterrey  Mexico       True     True   \n",
       "1202   September 19, 2010       Mexico City  Mexico       True    False   \n",
       "763         June 20, 2010             Torre  Mexico       True     True   \n",
       "44        October 7, 2009       Mexico City  Mexico       True     True   \n",
       "\n",
       "      eventCode  \n",
       "31309     31309  \n",
       "31974     31974  \n",
       "34319     34319  \n",
       "31493     31493  \n",
       "31829     31829  \n",
       "...         ...  \n",
       "496         496  \n",
       "832         832  \n",
       "1202       1202  \n",
       "763         763  \n",
       "44           44  \n",
       "\n",
       "[415 rows x 8 columns]"
      ]
     },
     "execution_count": 57,
     "metadata": {},
     "output_type": "execute_result"
    }
   ],
   "source": [
    "eventsDf[eventsDf.country=='Mexico']"
   ]
  },
  {
   "cell_type": "code",
   "execution_count": 58,
   "metadata": {
    "scrolled": false
   },
   "outputs": [],
   "source": [
    "eventsDf.to_pickle('../datasets/rawEvents.pkl')"
   ]
  }
 ],
 "metadata": {
  "kernelspec": {
   "display_name": "Python 3",
   "language": "python",
   "name": "python3"
  },
  "language_info": {
   "codemirror_mode": {
    "name": "ipython",
    "version": 3
   },
   "file_extension": ".py",
   "mimetype": "text/x-python",
   "name": "python",
   "nbconvert_exporter": "python",
   "pygments_lexer": "ipython3",
   "version": "3.6.5"
  }
 },
 "nbformat": 4,
 "nbformat_minor": 2
}
