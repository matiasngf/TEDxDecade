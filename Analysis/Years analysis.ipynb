{
 "cells": [
  {
   "cell_type": "code",
   "execution_count": 195,
   "metadata": {},
   "outputs": [
    {
     "data": {
      "text/html": [
       "        <script type=\"text/javascript\">\n",
       "        window.PlotlyConfig = {MathJaxConfig: 'local'};\n",
       "        if (window.MathJax) {MathJax.Hub.Config({SVG: {font: \"STIX-Web\"}});}\n",
       "        if (typeof require !== 'undefined') {\n",
       "        require.undef(\"plotly\");\n",
       "        requirejs.config({\n",
       "            paths: {\n",
       "                'plotly': ['https://cdn.plot.ly/plotly-latest.min']\n",
       "            }\n",
       "        });\n",
       "        require(['plotly'], function(Plotly) {\n",
       "            window._Plotly = Plotly;\n",
       "        });\n",
       "        }\n",
       "        </script>\n",
       "        "
      ]
     },
     "metadata": {},
     "output_type": "display_data"
    }
   ],
   "source": [
    "import pandas as pd\n",
    "import numpy as np\n",
    "import re\n",
    "import datetime\n",
    "\n",
    "import plotly\n",
    "import plotly.graph_objs as go\n",
    "from plotly.offline import download_plotlyjs, init_notebook_mode, plot, iplot\n",
    "init_notebook_mode(connected=True)"
   ]
  },
  {
   "cell_type": "code",
   "execution_count": 4,
   "metadata": {},
   "outputs": [
    {
     "name": "stdout",
     "output_type": "stream",
     "text": [
      "76633\n"
     ]
    },
    {
     "data": {
      "text/html": [
       "<div>\n",
       "<style scoped>\n",
       "    .dataframe tbody tr th:only-of-type {\n",
       "        vertical-align: middle;\n",
       "    }\n",
       "\n",
       "    .dataframe tbody tr th {\n",
       "        vertical-align: top;\n",
       "    }\n",
       "\n",
       "    .dataframe thead th {\n",
       "        text-align: right;\n",
       "    }\n",
       "</style>\n",
       "<table border=\"1\" class=\"dataframe\">\n",
       "  <thead>\n",
       "    <tr style=\"text-align: right;\">\n",
       "      <th></th>\n",
       "      <th>title</th>\n",
       "      <th>speaker</th>\n",
       "      <th>event</th>\n",
       "      <th>videoId</th>\n",
       "      <th>titleRaw</th>\n",
       "      <th>publishedTimeRaw</th>\n",
       "      <th>likes</th>\n",
       "      <th>dislikes</th>\n",
       "      <th>lengthSeconds</th>\n",
       "      <th>keywords</th>\n",
       "      <th>...</th>\n",
       "      <th>eventType</th>\n",
       "      <th>city</th>\n",
       "      <th>country</th>\n",
       "      <th>eventCode</th>\n",
       "      <th>shortName</th>\n",
       "      <th>year</th>\n",
       "      <th>month</th>\n",
       "      <th>cat</th>\n",
       "      <th>catProbaScore</th>\n",
       "      <th>catName</th>\n",
       "    </tr>\n",
       "  </thead>\n",
       "  <tbody>\n",
       "    <tr>\n",
       "      <th>---M5RE8nJo</th>\n",
       "      <td>El camino a mi trabajo ideal</td>\n",
       "      <td>Eduardo Molina</td>\n",
       "      <td>TEDxAnahuacUniversity</td>\n",
       "      <td>---M5RE8nJo</td>\n",
       "      <td>El camino a mi trabajo ideal | Eduardo Molina ...</td>\n",
       "      <td>4 months ago</td>\n",
       "      <td>65</td>\n",
       "      <td>5</td>\n",
       "      <td>798</td>\n",
       "      <td>[TEDxTalks, Spanish, Life, Decision making, Li...</td>\n",
       "      <td>...</td>\n",
       "      <td>University</td>\n",
       "      <td>Mexico City</td>\n",
       "      <td>Mexico</td>\n",
       "      <td>31446</td>\n",
       "      <td>AnahuacUniversity</td>\n",
       "      <td>2019</td>\n",
       "      <td>8</td>\n",
       "      <td>2</td>\n",
       "      <td>0.0385</td>\n",
       "      <td>life, motivation</td>\n",
       "    </tr>\n",
       "    <tr>\n",
       "      <th>--9TX7D0Fu0</th>\n",
       "      <td>Como ser un depresivo exitoso y no morir en el...</td>\n",
       "      <td>Samantha Isabel Aranda Ramírez</td>\n",
       "      <td>TEDxMérida</td>\n",
       "      <td>--9TX7D0Fu0</td>\n",
       "      <td>Como ser un depresivo exitoso y no morir en el...</td>\n",
       "      <td>3 months ago</td>\n",
       "      <td>35</td>\n",
       "      <td>0</td>\n",
       "      <td>819</td>\n",
       "      <td>[TEDxTalks, Spanish, Health, Depression, Life,...</td>\n",
       "      <td>...</td>\n",
       "      <td>University</td>\n",
       "      <td>Mérida</td>\n",
       "      <td>Mexico</td>\n",
       "      <td>31751</td>\n",
       "      <td>Mérida</td>\n",
       "      <td>2019</td>\n",
       "      <td>9</td>\n",
       "      <td>2</td>\n",
       "      <td>0.0539</td>\n",
       "      <td>life, motivation</td>\n",
       "    </tr>\n",
       "  </tbody>\n",
       "</table>\n",
       "<p>2 rows × 28 columns</p>\n",
       "</div>"
      ],
      "text/plain": [
       "                                                         title  \\\n",
       "---M5RE8nJo                       El camino a mi trabajo ideal   \n",
       "--9TX7D0Fu0  Como ser un depresivo exitoso y no morir en el...   \n",
       "\n",
       "                                    speaker                  event  \\\n",
       "---M5RE8nJo                  Eduardo Molina  TEDxAnahuacUniversity   \n",
       "--9TX7D0Fu0  Samantha Isabel Aranda Ramírez             TEDxMérida   \n",
       "\n",
       "                 videoId                                           titleRaw  \\\n",
       "---M5RE8nJo  ---M5RE8nJo  El camino a mi trabajo ideal | Eduardo Molina ...   \n",
       "--9TX7D0Fu0  --9TX7D0Fu0  Como ser un depresivo exitoso y no morir en el...   \n",
       "\n",
       "            publishedTimeRaw  likes  dislikes  lengthSeconds  \\\n",
       "---M5RE8nJo     4 months ago     65         5            798   \n",
       "--9TX7D0Fu0     3 months ago     35         0            819   \n",
       "\n",
       "                                                      keywords  ...  \\\n",
       "---M5RE8nJo  [TEDxTalks, Spanish, Life, Decision making, Li...  ...   \n",
       "--9TX7D0Fu0  [TEDxTalks, Spanish, Health, Depression, Life,...  ...   \n",
       "\n",
       "              eventType         city country eventCode          shortName  \\\n",
       "---M5RE8nJo  University  Mexico City  Mexico     31446  AnahuacUniversity   \n",
       "--9TX7D0Fu0  University       Mérida  Mexico     31751             Mérida   \n",
       "\n",
       "             year  month cat catProbaScore           catName  \n",
       "---M5RE8nJo  2019      8   2        0.0385  life, motivation  \n",
       "--9TX7D0Fu0  2019      9   2        0.0539  life, motivation  \n",
       "\n",
       "[2 rows x 28 columns]"
      ]
     },
     "execution_count": 4,
     "metadata": {},
     "output_type": "execute_result"
    }
   ],
   "source": [
    "talks = pd.read_pickle('../datasets/talksDf.pkl')\n",
    "print(len(talks))\n",
    "talks.head(2)"
   ]
  },
  {
   "cell_type": "code",
   "execution_count": 20,
   "metadata": {},
   "outputs": [
    {
     "name": "stderr",
     "output_type": "stream",
     "text": [
      "C:\\Users\\matias\\AppData\\Roaming\\Python\\Python36\\site-packages\\plotly\\graph_objs\\_deprecations.py:372: DeprecationWarning:\n",
      "\n",
      "plotly.graph_objs.Line is deprecated.\n",
      "Please replace it with one of the following more specific types\n",
      "  - plotly.graph_objs.scatter.Line\n",
      "  - plotly.graph_objs.layout.shape.Line\n",
      "  - etc.\n",
      "\n",
      "\n"
     ]
    },
    {
     "data": {
      "application/vnd.plotly.v1+json": {
       "config": {
        "linkText": "Export to plot.ly",
        "plotlyServerURL": "https://plot.ly",
        "responsive": true,
        "showLink": false
       },
       "data": [
        {
         "mode": "lines+markers+text",
         "text": [
          317,
          2030,
          1545,
          3377,
          5096,
          5463,
          9205,
          9714,
          11864,
          13418,
          14604
         ],
         "textposition": "top center",
         "type": "scatter",
         "uid": "ff73ff3e-6ac2-4664-baea-1e48eb9f9cf0",
         "x": [
          2009,
          2010,
          2011,
          2012,
          2013,
          2014,
          2015,
          2016,
          2017,
          2018,
          2019
         ],
         "y": [
          317,
          2030,
          1545,
          3377,
          5096,
          5463,
          9205,
          9714,
          11864,
          13418,
          14604
         ]
        }
       ],
       "layout": {
        "title": {
         "text": "Number of talks per year (76633 total)."
        },
        "xaxis": {
         "tickvals": [
          2009,
          2010,
          2011,
          2012,
          2013,
          2014,
          2015,
          2016,
          2017,
          2018,
          2019
         ],
         "title": {
          "text": "Year"
         }
        },
        "yaxis": {
         "title": {
          "text": "n of talks"
         }
        }
       }
      },
      "text/html": [
       "<div>\n",
       "        \n",
       "        \n",
       "            <div id=\"79a5dbe1-0dbc-448c-b240-03ff90a5d499\" class=\"plotly-graph-div\" style=\"height:525px; width:100%;\"></div>\n",
       "            <script type=\"text/javascript\">\n",
       "                require([\"plotly\"], function(Plotly) {\n",
       "                    window.PLOTLYENV=window.PLOTLYENV || {};\n",
       "                    window.PLOTLYENV.BASE_URL='https://plot.ly';\n",
       "                    \n",
       "                if (document.getElementById(\"79a5dbe1-0dbc-448c-b240-03ff90a5d499\")) {\n",
       "                    Plotly.newPlot(\n",
       "                        '79a5dbe1-0dbc-448c-b240-03ff90a5d499',\n",
       "                        [{\"mode\": \"lines+markers+text\", \"text\": [317.0, 2030.0, 1545.0, 3377.0, 5096.0, 5463.0, 9205.0, 9714.0, 11864.0, 13418.0, 14604.0], \"textposition\": \"top center\", \"type\": \"scatter\", \"uid\": \"7f9d3e4f-b4c8-420d-8745-0d83d0623263\", \"x\": [2009, 2010, 2011, 2012, 2013, 2014, 2015, 2016, 2017, 2018, 2019], \"y\": [317, 2030, 1545, 3377, 5096, 5463, 9205, 9714, 11864, 13418, 14604]}],\n",
       "                        {\"title\": {\"text\": \"Number of talks per year (76633 total).\"}, \"xaxis\": {\"tickvals\": [2009, 2010, 2011, 2012, 2013, 2014, 2015, 2016, 2017, 2018, 2019], \"title\": {\"text\": \"Year\"}}, \"yaxis\": {\"title\": {\"text\": \"n of talks\"}}},\n",
       "                        {\"showLink\": false, \"linkText\": \"Export to plot.ly\", \"plotlyServerURL\": \"https://plot.ly\", \"responsive\": true}\n",
       "                    ).then(function(){\n",
       "                            \n",
       "var gd = document.getElementById('79a5dbe1-0dbc-448c-b240-03ff90a5d499');\n",
       "var x = new MutationObserver(function (mutations, observer) {{\n",
       "        var display = window.getComputedStyle(gd).display;\n",
       "        if (!display || display === 'none') {{\n",
       "            console.log([gd, 'removed!']);\n",
       "            Plotly.purge(gd);\n",
       "            observer.disconnect();\n",
       "        }}\n",
       "}});\n",
       "\n",
       "// Listen for the removal of the full notebook cells\n",
       "var notebookContainer = gd.closest('#notebook-container');\n",
       "if (notebookContainer) {{\n",
       "    x.observe(notebookContainer, {childList: true});\n",
       "}}\n",
       "\n",
       "// Listen for the clearing of the current output cell\n",
       "var outputEl = gd.closest('.output');\n",
       "if (outputEl) {{\n",
       "    x.observe(outputEl, {childList: true});\n",
       "}}\n",
       "\n",
       "                        })\n",
       "                };\n",
       "                });\n",
       "            </script>\n",
       "        </div>"
      ]
     },
     "metadata": {},
     "output_type": "display_data"
    }
   ],
   "source": [
    "trace1 = go.Line(\n",
    "    x = talks.groupby(talks.publishDate.dt.year).count().iloc[:,0].index,\n",
    "    y = talks.groupby(talks.publishDate.dt.year).count().iloc[:,0].values,\n",
    "    text = talks.groupby(talks.publishDate.dt.year).count().iloc[:,0].values,\n",
    "    textposition='top center',\n",
    "    mode= '+'.join(['lines', 'markers', 'text']) ,\n",
    ")\n",
    "\n",
    "\n",
    "layout = go.Layout(\n",
    "    title='Number of talks per year (%d total).' % len(talks),\n",
    "    yaxis = dict(\n",
    "#         range = [0, 50000],\n",
    "        title='n of talks',\n",
    "    ),\n",
    "    xaxis = dict(\n",
    "        title='Year',\n",
    "#         range=[0,0.08]\n",
    "        tickvals = list(range(2009, 2020)),\n",
    "#         ticktext = nombres_grupos\n",
    "    )\n",
    ")\n",
    "fig = go.Figure(data=[trace1], layout=layout)\n",
    "iplot(fig)"
   ]
  },
  {
   "cell_type": "code",
   "execution_count": 179,
   "metadata": {},
   "outputs": [
    {
     "name": "stdout",
     "output_type": "stream",
     "text": [
      "20217\n"
     ]
    },
    {
     "data": {
      "text/html": [
       "<div>\n",
       "<style scoped>\n",
       "    .dataframe tbody tr th:only-of-type {\n",
       "        vertical-align: middle;\n",
       "    }\n",
       "\n",
       "    .dataframe tbody tr th {\n",
       "        vertical-align: top;\n",
       "    }\n",
       "\n",
       "    .dataframe thead th {\n",
       "        text-align: right;\n",
       "    }\n",
       "</style>\n",
       "<table border=\"1\" class=\"dataframe\">\n",
       "  <thead>\n",
       "    <tr style=\"text-align: right;\">\n",
       "      <th></th>\n",
       "      <th>name</th>\n",
       "      <th>eventType</th>\n",
       "      <th>date</th>\n",
       "      <th>city</th>\n",
       "      <th>country</th>\n",
       "      <th>hasWebcast</th>\n",
       "      <th>hasSpace</th>\n",
       "      <th>eventCode</th>\n",
       "      <th>shortName</th>\n",
       "    </tr>\n",
       "  </thead>\n",
       "  <tbody>\n",
       "    <tr>\n",
       "      <th>32790</th>\n",
       "      <td>TEDxRiodelaPlata</td>\n",
       "      <td>Standard</td>\n",
       "      <td>May 7, 2019</td>\n",
       "      <td>Ciudad Autónoma de Buenos Aires</td>\n",
       "      <td>Argentina</td>\n",
       "      <td>True</td>\n",
       "      <td>False</td>\n",
       "      <td>32790</td>\n",
       "      <td>RiodelaPlata</td>\n",
       "    </tr>\n",
       "    <tr>\n",
       "      <th>33511</th>\n",
       "      <td>TEDxEsquel</td>\n",
       "      <td>Standard</td>\n",
       "      <td>May 4, 2019</td>\n",
       "      <td>Esquel</td>\n",
       "      <td>Argentina</td>\n",
       "      <td>True</td>\n",
       "      <td>False</td>\n",
       "      <td>33511</td>\n",
       "      <td>Esquel</td>\n",
       "    </tr>\n",
       "    <tr>\n",
       "      <th>31229</th>\n",
       "      <td>TEDxRafaela</td>\n",
       "      <td>Standard</td>\n",
       "      <td>May 4, 2019</td>\n",
       "      <td>Rafaela</td>\n",
       "      <td>Argentina</td>\n",
       "      <td>True</td>\n",
       "      <td>False</td>\n",
       "      <td>31229</td>\n",
       "      <td>Rafaela</td>\n",
       "    </tr>\n",
       "    <tr>\n",
       "      <th>34453</th>\n",
       "      <td>TEDxBarilocheLive</td>\n",
       "      <td>TEDxLive</td>\n",
       "      <td>April 27, 2019</td>\n",
       "      <td>San Carlos de Bariloche</td>\n",
       "      <td>Argentina</td>\n",
       "      <td>True</td>\n",
       "      <td>False</td>\n",
       "      <td>34453</td>\n",
       "      <td>Bariloche</td>\n",
       "    </tr>\n",
       "    <tr>\n",
       "      <th>34383</th>\n",
       "      <td>TEDxRosarioLive</td>\n",
       "      <td>TEDxLive</td>\n",
       "      <td>April 18, 2019</td>\n",
       "      <td>Rosario</td>\n",
       "      <td>Argentina</td>\n",
       "      <td>True</td>\n",
       "      <td>False</td>\n",
       "      <td>34383</td>\n",
       "      <td>Rosario</td>\n",
       "    </tr>\n",
       "  </tbody>\n",
       "</table>\n",
       "</div>"
      ],
      "text/plain": [
       "                    name eventType            date  \\\n",
       "32790   TEDxRiodelaPlata  Standard     May 7, 2019   \n",
       "33511         TEDxEsquel  Standard     May 4, 2019   \n",
       "31229        TEDxRafaela  Standard     May 4, 2019   \n",
       "34453  TEDxBarilocheLive  TEDxLive  April 27, 2019   \n",
       "34383    TEDxRosarioLive  TEDxLive  April 18, 2019   \n",
       "\n",
       "                                  city    country hasWebcast hasSpace  \\\n",
       "32790  Ciudad Autónoma de Buenos Aires  Argentina       True    False   \n",
       "33511                           Esquel  Argentina       True    False   \n",
       "31229                          Rafaela  Argentina       True    False   \n",
       "34453          San Carlos de Bariloche  Argentina       True    False   \n",
       "34383                          Rosario  Argentina       True    False   \n",
       "\n",
       "      eventCode     shortName  \n",
       "32790     32790  RiodelaPlata  \n",
       "33511     33511        Esquel  \n",
       "31229     31229       Rafaela  \n",
       "34453     34453     Bariloche  \n",
       "34383     34383       Rosario  "
      ]
     },
     "execution_count": 179,
     "metadata": {},
     "output_type": "execute_result"
    }
   ],
   "source": [
    "events = pd.read_pickle('../datasets/eventsParsed.pkl')\n",
    "print(len(events))\n",
    "events.head()"
   ]
  },
  {
   "cell_type": "code",
   "execution_count": 194,
   "metadata": {},
   "outputs": [],
   "source": [
    "toDrop = events[events.date.apply(\n",
    "    lambda x: (datetime.datetime.strptime(x, '%B %d, %Y').year < 2009) | (datetime.datetime.strptime(x, '%B %d, %Y').year > 2019)\n",
    ")].index.values\n",
    "toDrop\n",
    "events = events.drop(toDrop, axis=0)\n",
    "events.loc[:, 'date'] = events.date.apply(lambda x: datetime.datetime.strptime(x, '%B %d, %Y'))"
   ]
  },
  {
   "cell_type": "code",
   "execution_count": 201,
   "metadata": {},
   "outputs": [
    {
     "name": "stderr",
     "output_type": "stream",
     "text": [
      "C:\\Users\\matias\\AppData\\Roaming\\Python\\Python36\\site-packages\\plotly\\graph_objs\\_deprecations.py:372: DeprecationWarning:\n",
      "\n",
      "plotly.graph_objs.Line is deprecated.\n",
      "Please replace it with one of the following more specific types\n",
      "  - plotly.graph_objs.scatter.Line\n",
      "  - plotly.graph_objs.layout.shape.Line\n",
      "  - etc.\n",
      "\n",
      "\n"
     ]
    },
    {
     "data": {
      "application/vnd.plotly.v1+json": {
       "config": {
        "linkText": "Export to plot.ly",
        "plotlyServerURL": "https://plot.ly",
        "responsive": true,
        "showLink": false
       },
       "data": [
        {
         "mode": "lines+markers+text",
         "text": [
          98,
          426,
          833,
          1426,
          1722,
          1086,
          2190,
          1544,
          1624,
          3788,
          4841
         ],
         "textposition": "top center",
         "type": "scatter",
         "uid": "36cab560-a832-4dfb-a350-ba53deb40f31",
         "x": [
          2009,
          2010,
          2011,
          2012,
          2013,
          2014,
          2015,
          2016,
          2017,
          2018,
          2019
         ],
         "y": [
          98,
          426,
          833,
          1426,
          1722,
          1086,
          2190,
          1544,
          1624,
          3788,
          4841
         ]
        }
       ],
       "layout": {
        "title": {
         "text": "Number of TEDx events per year (19578 total)."
        },
        "xaxis": {
         "tickvals": [
          2009,
          2010,
          2011,
          2012,
          2013,
          2014,
          2015,
          2016,
          2017,
          2018,
          2019
         ],
         "title": {
          "text": "Year"
         }
        },
        "yaxis": {
         "title": {
          "text": "n of events"
         }
        }
       }
      },
      "text/html": [
       "<div>\n",
       "        \n",
       "        \n",
       "            <div id=\"5c01c1ea-05c0-472d-a18e-d35dfe12b5b9\" class=\"plotly-graph-div\" style=\"height:525px; width:100%;\"></div>\n",
       "            <script type=\"text/javascript\">\n",
       "                require([\"plotly\"], function(Plotly) {\n",
       "                    window.PLOTLYENV=window.PLOTLYENV || {};\n",
       "                    window.PLOTLYENV.BASE_URL='https://plot.ly';\n",
       "                    \n",
       "                if (document.getElementById(\"5c01c1ea-05c0-472d-a18e-d35dfe12b5b9\")) {\n",
       "                    Plotly.newPlot(\n",
       "                        '5c01c1ea-05c0-472d-a18e-d35dfe12b5b9',\n",
       "                        [{\"mode\": \"lines+markers+text\", \"text\": [98.0, 426.0, 833.0, 1426.0, 1722.0, 1086.0, 2190.0, 1544.0, 1624.0, 3788.0, 4841.0], \"textposition\": \"top center\", \"type\": \"scatter\", \"uid\": \"b4d47960-824b-4ac1-81c6-5c065083024f\", \"x\": [2009, 2010, 2011, 2012, 2013, 2014, 2015, 2016, 2017, 2018, 2019], \"y\": [98, 426, 833, 1426, 1722, 1086, 2190, 1544, 1624, 3788, 4841]}],\n",
       "                        {\"title\": {\"text\": \"Number of TEDx events per year (19578 total).\"}, \"xaxis\": {\"tickvals\": [2009, 2010, 2011, 2012, 2013, 2014, 2015, 2016, 2017, 2018, 2019], \"title\": {\"text\": \"Year\"}}, \"yaxis\": {\"title\": {\"text\": \"n of events\"}}},\n",
       "                        {\"showLink\": false, \"linkText\": \"Export to plot.ly\", \"plotlyServerURL\": \"https://plot.ly\", \"responsive\": true}\n",
       "                    ).then(function(){\n",
       "                            \n",
       "var gd = document.getElementById('5c01c1ea-05c0-472d-a18e-d35dfe12b5b9');\n",
       "var x = new MutationObserver(function (mutations, observer) {{\n",
       "        var display = window.getComputedStyle(gd).display;\n",
       "        if (!display || display === 'none') {{\n",
       "            console.log([gd, 'removed!']);\n",
       "            Plotly.purge(gd);\n",
       "            observer.disconnect();\n",
       "        }}\n",
       "}});\n",
       "\n",
       "// Listen for the removal of the full notebook cells\n",
       "var notebookContainer = gd.closest('#notebook-container');\n",
       "if (notebookContainer) {{\n",
       "    x.observe(notebookContainer, {childList: true});\n",
       "}}\n",
       "\n",
       "// Listen for the clearing of the current output cell\n",
       "var outputEl = gd.closest('.output');\n",
       "if (outputEl) {{\n",
       "    x.observe(outputEl, {childList: true});\n",
       "}}\n",
       "\n",
       "                        })\n",
       "                };\n",
       "                });\n",
       "            </script>\n",
       "        </div>"
      ]
     },
     "metadata": {},
     "output_type": "display_data"
    }
   ],
   "source": [
    "toPlot = events.groupby(events.date.dt.year).count()\n",
    "\n",
    "trace1 = go.Line(\n",
    "    x = toPlot.index,\n",
    "    y = toPlot.iloc[:,0].values,\n",
    "    text = toPlot.iloc[:,0].values,\n",
    "    textposition='top center',\n",
    "    mode= '+'.join(['lines', 'markers', 'text']) ,\n",
    ")\n",
    "\n",
    "\n",
    "layout = go.Layout(\n",
    "    title='Number of TEDx events per year (%d total).' % len(events),\n",
    "    yaxis = dict(\n",
    "#         range = [0, 50000],\n",
    "        title='n of events',\n",
    "    ),\n",
    "    xaxis = dict(\n",
    "        title='Year',\n",
    "#         range=[0,0.08]\n",
    "        tickvals = list(range(2009, 2020)),\n",
    "#         ticktext = nombres_grupos\n",
    "    )\n",
    ")\n",
    "fig = go.Figure(data=[trace1], layout=layout)\n",
    "iplot(fig)"
   ]
  },
  {
   "cell_type": "code",
   "execution_count": 204,
   "metadata": {},
   "outputs": [
    {
     "data": {
      "text/plain": [
       "0.5184876962943418"
      ]
     },
     "execution_count": 204,
     "metadata": {},
     "output_type": "execute_result"
    }
   ],
   "source": [
    "len(talks) / 147801"
   ]
  }
 ],
 "metadata": {
  "kernelspec": {
   "display_name": "Python 3",
   "language": "python",
   "name": "python3"
  },
  "language_info": {
   "codemirror_mode": {
    "name": "ipython",
    "version": 3
   },
   "file_extension": ".py",
   "mimetype": "text/x-python",
   "name": "python",
   "nbconvert_exporter": "python",
   "pygments_lexer": "ipython3",
   "version": "3.6.5"
  }
 },
 "nbformat": 4,
 "nbformat_minor": 2
}
