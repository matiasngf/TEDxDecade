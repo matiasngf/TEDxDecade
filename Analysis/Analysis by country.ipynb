{
 "cells": [
  {
   "cell_type": "code",
   "execution_count": 1,
   "metadata": {},
   "outputs": [
    {
     "data": {
      "text/html": [
       "        <script type=\"text/javascript\">\n",
       "        window.PlotlyConfig = {MathJaxConfig: 'local'};\n",
       "        if (window.MathJax) {MathJax.Hub.Config({SVG: {font: \"STIX-Web\"}});}\n",
       "        if (typeof require !== 'undefined') {\n",
       "        require.undef(\"plotly\");\n",
       "        requirejs.config({\n",
       "            paths: {\n",
       "                'plotly': ['https://cdn.plot.ly/plotly-latest.min']\n",
       "            }\n",
       "        });\n",
       "        require(['plotly'], function(Plotly) {\n",
       "            window._Plotly = Plotly;\n",
       "        });\n",
       "        }\n",
       "        </script>\n",
       "        "
      ]
     },
     "metadata": {},
     "output_type": "display_data"
    }
   ],
   "source": [
    "import pandas as pd\n",
    "import numpy as np\n",
    "import re\n",
    "\n",
    "import plotly\n",
    "import plotly.graph_objs as go\n",
    "from plotly.offline import download_plotlyjs, init_notebook_mode, plot, iplot\n",
    "init_notebook_mode(connected=True)"
   ]
  },
  {
   "cell_type": "code",
   "execution_count": 3,
   "metadata": {},
   "outputs": [
    {
     "data": {
      "text/html": [
       "<div>\n",
       "<style scoped>\n",
       "    .dataframe tbody tr th:only-of-type {\n",
       "        vertical-align: middle;\n",
       "    }\n",
       "\n",
       "    .dataframe tbody tr th {\n",
       "        vertical-align: top;\n",
       "    }\n",
       "\n",
       "    .dataframe thead th {\n",
       "        text-align: right;\n",
       "    }\n",
       "</style>\n",
       "<table border=\"1\" class=\"dataframe\">\n",
       "  <thead>\n",
       "    <tr style=\"text-align: right;\">\n",
       "      <th></th>\n",
       "      <th>title</th>\n",
       "      <th>speaker</th>\n",
       "      <th>event</th>\n",
       "      <th>videoId</th>\n",
       "      <th>titleRaw</th>\n",
       "      <th>publishedTimeRaw</th>\n",
       "      <th>likes</th>\n",
       "      <th>dislikes</th>\n",
       "      <th>lengthSeconds</th>\n",
       "      <th>keywords</th>\n",
       "      <th>...</th>\n",
       "      <th>eventType</th>\n",
       "      <th>city</th>\n",
       "      <th>country</th>\n",
       "      <th>eventCode</th>\n",
       "      <th>shortName</th>\n",
       "      <th>year</th>\n",
       "      <th>month</th>\n",
       "      <th>cat</th>\n",
       "      <th>catProbaScore</th>\n",
       "      <th>catName</th>\n",
       "    </tr>\n",
       "  </thead>\n",
       "  <tbody>\n",
       "    <tr>\n",
       "      <th>---M5RE8nJo</th>\n",
       "      <td>El camino a mi trabajo ideal</td>\n",
       "      <td>Eduardo Molina</td>\n",
       "      <td>TEDxAnahuacUniversity</td>\n",
       "      <td>---M5RE8nJo</td>\n",
       "      <td>El camino a mi trabajo ideal | Eduardo Molina ...</td>\n",
       "      <td>4 months ago</td>\n",
       "      <td>65</td>\n",
       "      <td>5</td>\n",
       "      <td>798</td>\n",
       "      <td>[TEDxTalks, Spanish, Life, Decision making, Li...</td>\n",
       "      <td>...</td>\n",
       "      <td>University</td>\n",
       "      <td>Mexico City</td>\n",
       "      <td>Mexico</td>\n",
       "      <td>31446</td>\n",
       "      <td>AnahuacUniversity</td>\n",
       "      <td>2019</td>\n",
       "      <td>8</td>\n",
       "      <td>2</td>\n",
       "      <td>0.0385</td>\n",
       "      <td>life, motivation</td>\n",
       "    </tr>\n",
       "    <tr>\n",
       "      <th>--9TX7D0Fu0</th>\n",
       "      <td>Como ser un depresivo exitoso y no morir en el...</td>\n",
       "      <td>Samantha Isabel Aranda Ramírez</td>\n",
       "      <td>TEDxMérida</td>\n",
       "      <td>--9TX7D0Fu0</td>\n",
       "      <td>Como ser un depresivo exitoso y no morir en el...</td>\n",
       "      <td>3 months ago</td>\n",
       "      <td>35</td>\n",
       "      <td>0</td>\n",
       "      <td>819</td>\n",
       "      <td>[TEDxTalks, Spanish, Health, Depression, Life,...</td>\n",
       "      <td>...</td>\n",
       "      <td>University</td>\n",
       "      <td>Mérida</td>\n",
       "      <td>Mexico</td>\n",
       "      <td>31751</td>\n",
       "      <td>Mérida</td>\n",
       "      <td>2019</td>\n",
       "      <td>9</td>\n",
       "      <td>2</td>\n",
       "      <td>0.0539</td>\n",
       "      <td>life, motivation</td>\n",
       "    </tr>\n",
       "    <tr>\n",
       "      <th>--KpJ1fatzY</th>\n",
       "      <td>Defusing Stress with Mindful Mojo</td>\n",
       "      <td>Angela &amp; Dennis Buttimer</td>\n",
       "      <td>TEDxGeorgiaStateU</td>\n",
       "      <td>--KpJ1fatzY</td>\n",
       "      <td>Defusing Stress with Mindful Mojo | Angela &amp; D...</td>\n",
       "      <td>2 years ago</td>\n",
       "      <td>60</td>\n",
       "      <td>0</td>\n",
       "      <td>1007</td>\n",
       "      <td>[TEDxTalks, English, United States, Social Sci...</td>\n",
       "      <td>...</td>\n",
       "      <td>University</td>\n",
       "      <td>Atlanta</td>\n",
       "      <td>United States</td>\n",
       "      <td>24817</td>\n",
       "      <td>GeorgiaStateU</td>\n",
       "      <td>2017</td>\n",
       "      <td>6</td>\n",
       "      <td>5</td>\n",
       "      <td>0.0553</td>\n",
       "      <td>brain</td>\n",
       "    </tr>\n",
       "    <tr>\n",
       "      <th>--Nw62FG7-w</th>\n",
       "      <td>The Future of Medical School</td>\n",
       "      <td>John Tomkowiak, MD</td>\n",
       "      <td>TEDxSpokane</td>\n",
       "      <td>--Nw62FG7-w</td>\n",
       "      <td>The Future of Medical School | John Tomkowiak,...</td>\n",
       "      <td>2 years ago</td>\n",
       "      <td>20</td>\n",
       "      <td>0</td>\n",
       "      <td>837</td>\n",
       "      <td>[TEDxTalks, English, Health, Education, Higher...</td>\n",
       "      <td>...</td>\n",
       "      <td>Standard</td>\n",
       "      <td>Spokane</td>\n",
       "      <td>United States</td>\n",
       "      <td>27615</td>\n",
       "      <td>Spokane</td>\n",
       "      <td>2017</td>\n",
       "      <td>12</td>\n",
       "      <td>6</td>\n",
       "      <td>0.0392</td>\n",
       "      <td>technology</td>\n",
       "    </tr>\n",
       "    <tr>\n",
       "      <th>--Pkf5htGFM</th>\n",
       "      <td>It's Funny How it Happened</td>\n",
       "      <td>Joey Commisso</td>\n",
       "      <td>TEDxWestVancouverED</td>\n",
       "      <td>--Pkf5htGFM</td>\n",
       "      <td>It's Funny How it Happened | Joey Commisso | T...</td>\n",
       "      <td>3 years ago</td>\n",
       "      <td>11</td>\n",
       "      <td>1</td>\n",
       "      <td>264</td>\n",
       "      <td>[TEDxTalks, English, Canada, Life, Comedy, Hum...</td>\n",
       "      <td>...</td>\n",
       "      <td>Education</td>\n",
       "      <td>West Vancouver</td>\n",
       "      <td>Canada</td>\n",
       "      <td>27849</td>\n",
       "      <td>WestVancouverED</td>\n",
       "      <td>2016</td>\n",
       "      <td>11</td>\n",
       "      <td>7</td>\n",
       "      <td>0.0338</td>\n",
       "      <td>cities</td>\n",
       "    </tr>\n",
       "  </tbody>\n",
       "</table>\n",
       "<p>5 rows × 28 columns</p>\n",
       "</div>"
      ],
      "text/plain": [
       "                                                         title  \\\n",
       "---M5RE8nJo                       El camino a mi trabajo ideal   \n",
       "--9TX7D0Fu0  Como ser un depresivo exitoso y no morir en el...   \n",
       "--KpJ1fatzY                  Defusing Stress with Mindful Mojo   \n",
       "--Nw62FG7-w                       The Future of Medical School   \n",
       "--Pkf5htGFM                         It's Funny How it Happened   \n",
       "\n",
       "                                    speaker                  event  \\\n",
       "---M5RE8nJo                  Eduardo Molina  TEDxAnahuacUniversity   \n",
       "--9TX7D0Fu0  Samantha Isabel Aranda Ramírez             TEDxMérida   \n",
       "--KpJ1fatzY        Angela & Dennis Buttimer      TEDxGeorgiaStateU   \n",
       "--Nw62FG7-w              John Tomkowiak, MD            TEDxSpokane   \n",
       "--Pkf5htGFM                   Joey Commisso    TEDxWestVancouverED   \n",
       "\n",
       "                 videoId                                           titleRaw  \\\n",
       "---M5RE8nJo  ---M5RE8nJo  El camino a mi trabajo ideal | Eduardo Molina ...   \n",
       "--9TX7D0Fu0  --9TX7D0Fu0  Como ser un depresivo exitoso y no morir en el...   \n",
       "--KpJ1fatzY  --KpJ1fatzY  Defusing Stress with Mindful Mojo | Angela & D...   \n",
       "--Nw62FG7-w  --Nw62FG7-w  The Future of Medical School | John Tomkowiak,...   \n",
       "--Pkf5htGFM  --Pkf5htGFM  It's Funny How it Happened | Joey Commisso | T...   \n",
       "\n",
       "            publishedTimeRaw  likes  dislikes  lengthSeconds  \\\n",
       "---M5RE8nJo     4 months ago     65         5            798   \n",
       "--9TX7D0Fu0     3 months ago     35         0            819   \n",
       "--KpJ1fatzY      2 years ago     60         0           1007   \n",
       "--Nw62FG7-w      2 years ago     20         0            837   \n",
       "--Pkf5htGFM      3 years ago     11         1            264   \n",
       "\n",
       "                                                      keywords  ...  \\\n",
       "---M5RE8nJo  [TEDxTalks, Spanish, Life, Decision making, Li...  ...   \n",
       "--9TX7D0Fu0  [TEDxTalks, Spanish, Health, Depression, Life,...  ...   \n",
       "--KpJ1fatzY  [TEDxTalks, English, United States, Social Sci...  ...   \n",
       "--Nw62FG7-w  [TEDxTalks, English, Health, Education, Higher...  ...   \n",
       "--Pkf5htGFM  [TEDxTalks, English, Canada, Life, Comedy, Hum...  ...   \n",
       "\n",
       "              eventType            city        country eventCode  \\\n",
       "---M5RE8nJo  University     Mexico City         Mexico     31446   \n",
       "--9TX7D0Fu0  University          Mérida         Mexico     31751   \n",
       "--KpJ1fatzY  University         Atlanta  United States     24817   \n",
       "--Nw62FG7-w    Standard         Spokane  United States     27615   \n",
       "--Pkf5htGFM   Education  West Vancouver         Canada     27849   \n",
       "\n",
       "                     shortName  year  month cat catProbaScore  \\\n",
       "---M5RE8nJo  AnahuacUniversity  2019      8   2        0.0385   \n",
       "--9TX7D0Fu0             Mérida  2019      9   2        0.0539   \n",
       "--KpJ1fatzY      GeorgiaStateU  2017      6   5        0.0553   \n",
       "--Nw62FG7-w            Spokane  2017     12   6        0.0392   \n",
       "--Pkf5htGFM    WestVancouverED  2016     11   7        0.0338   \n",
       "\n",
       "                      catName  \n",
       "---M5RE8nJo  life, motivation  \n",
       "--9TX7D0Fu0  life, motivation  \n",
       "--KpJ1fatzY             brain  \n",
       "--Nw62FG7-w        technology  \n",
       "--Pkf5htGFM            cities  \n",
       "\n",
       "[5 rows x 28 columns]"
      ]
     },
     "execution_count": 3,
     "metadata": {},
     "output_type": "execute_result"
    }
   ],
   "source": [
    "talks = pd.read_pickle('../datasets/talksDf.pkl')\n",
    "talks.head()"
   ]
  },
  {
   "cell_type": "code",
   "execution_count": 4,
   "metadata": {},
   "outputs": [
    {
     "data": {
      "text/plain": [
       "array(['United States', 'United Kingdom', 'Canada', 'Australia', 'India',\n",
       "       'Argentina', 'Mexico', 'France', 'Spain', 'Netherlands', 'Turkey',\n",
       "       'Brazil', 'Austria', 'Germany', 'Italy'], dtype=object)"
      ]
     },
     "execution_count": 4,
     "metadata": {},
     "output_type": "execute_result"
    }
   ],
   "source": [
    "topCountries = talks.groupby('country').sum().sort_values('views', ascending=False)[:15].index.values\n",
    "topCountries"
   ]
  },
  {
   "cell_type": "code",
   "execution_count": 5,
   "metadata": {},
   "outputs": [
    {
     "data": {
      "text/html": [
       "<div>\n",
       "<style scoped>\n",
       "    .dataframe tbody tr th:only-of-type {\n",
       "        vertical-align: middle;\n",
       "    }\n",
       "\n",
       "    .dataframe tbody tr th {\n",
       "        vertical-align: top;\n",
       "    }\n",
       "\n",
       "    .dataframe thead th {\n",
       "        text-align: right;\n",
       "    }\n",
       "</style>\n",
       "<table border=\"1\" class=\"dataframe\">\n",
       "  <thead>\n",
       "    <tr style=\"text-align: right;\">\n",
       "      <th></th>\n",
       "      <th>likes</th>\n",
       "      <th>dislikes</th>\n",
       "      <th>lengthSeconds</th>\n",
       "      <th>views</th>\n",
       "      <th>viewsWeek</th>\n",
       "      <th>year</th>\n",
       "      <th>month</th>\n",
       "      <th>cat</th>\n",
       "      <th>catProbaScore</th>\n",
       "    </tr>\n",
       "    <tr>\n",
       "      <th>country</th>\n",
       "      <th></th>\n",
       "      <th></th>\n",
       "      <th></th>\n",
       "      <th></th>\n",
       "      <th></th>\n",
       "      <th></th>\n",
       "      <th></th>\n",
       "      <th></th>\n",
       "      <th></th>\n",
       "    </tr>\n",
       "  </thead>\n",
       "  <tbody>\n",
       "    <tr>\n",
       "      <th>United States</th>\n",
       "      <td>21921998</td>\n",
       "      <td>1141893</td>\n",
       "      <td>22214978</td>\n",
       "      <td>1355594264</td>\n",
       "      <td>7.797368e+06</td>\n",
       "      <td>57106612</td>\n",
       "      <td>185403</td>\n",
       "      <td>109373</td>\n",
       "      <td>1254.7269</td>\n",
       "    </tr>\n",
       "    <tr>\n",
       "      <th>United Kingdom</th>\n",
       "      <td>4129752</td>\n",
       "      <td>209788</td>\n",
       "      <td>3722681</td>\n",
       "      <td>247844115</td>\n",
       "      <td>1.506161e+06</td>\n",
       "      <td>8633583</td>\n",
       "      <td>28304</td>\n",
       "      <td>17179</td>\n",
       "      <td>191.8402</td>\n",
       "    </tr>\n",
       "    <tr>\n",
       "      <th>Canada</th>\n",
       "      <td>2582837</td>\n",
       "      <td>179389</td>\n",
       "      <td>2634877</td>\n",
       "      <td>208252304</td>\n",
       "      <td>1.021092e+06</td>\n",
       "      <td>6271540</td>\n",
       "      <td>19539</td>\n",
       "      <td>12326</td>\n",
       "      <td>139.4414</td>\n",
       "    </tr>\n",
       "    <tr>\n",
       "      <th>Australia</th>\n",
       "      <td>2204468</td>\n",
       "      <td>101450</td>\n",
       "      <td>1457476</td>\n",
       "      <td>166346981</td>\n",
       "      <td>7.460657e+05</td>\n",
       "      <td>3633592</td>\n",
       "      <td>13272</td>\n",
       "      <td>7687</td>\n",
       "      <td>81.8470</td>\n",
       "    </tr>\n",
       "    <tr>\n",
       "      <th>India</th>\n",
       "      <td>2786301</td>\n",
       "      <td>113664</td>\n",
       "      <td>3611898</td>\n",
       "      <td>145723542</td>\n",
       "      <td>1.243653e+06</td>\n",
       "      <td>7769522</td>\n",
       "      <td>24065</td>\n",
       "      <td>13789</td>\n",
       "      <td>177.7030</td>\n",
       "    </tr>\n",
       "    <tr>\n",
       "      <th>Argentina</th>\n",
       "      <td>1361617</td>\n",
       "      <td>77538</td>\n",
       "      <td>1487925</td>\n",
       "      <td>79186623</td>\n",
       "      <td>6.422035e+05</td>\n",
       "      <td>3592278</td>\n",
       "      <td>13397</td>\n",
       "      <td>7262</td>\n",
       "      <td>78.2624</td>\n",
       "    </tr>\n",
       "    <tr>\n",
       "      <th>Mexico</th>\n",
       "      <td>1541347</td>\n",
       "      <td>74709</td>\n",
       "      <td>1616282</td>\n",
       "      <td>79126320</td>\n",
       "      <td>5.717159e+05</td>\n",
       "      <td>3876037</td>\n",
       "      <td>12290</td>\n",
       "      <td>8321</td>\n",
       "      <td>85.9992</td>\n",
       "    </tr>\n",
       "    <tr>\n",
       "      <th>France</th>\n",
       "      <td>1134421</td>\n",
       "      <td>68023</td>\n",
       "      <td>1784555</td>\n",
       "      <td>70802167</td>\n",
       "      <td>6.753209e+05</td>\n",
       "      <td>4160579</td>\n",
       "      <td>13858</td>\n",
       "      <td>9055</td>\n",
       "      <td>92.3384</td>\n",
       "    </tr>\n",
       "    <tr>\n",
       "      <th>Spain</th>\n",
       "      <td>1307056</td>\n",
       "      <td>64705</td>\n",
       "      <td>2160060</td>\n",
       "      <td>68749404</td>\n",
       "      <td>4.603580e+05</td>\n",
       "      <td>5024767</td>\n",
       "      <td>16619</td>\n",
       "      <td>11165</td>\n",
       "      <td>113.1728</td>\n",
       "    </tr>\n",
       "    <tr>\n",
       "      <th>Netherlands</th>\n",
       "      <td>759756</td>\n",
       "      <td>73223</td>\n",
       "      <td>1533089</td>\n",
       "      <td>58488880</td>\n",
       "      <td>3.259415e+05</td>\n",
       "      <td>4030821</td>\n",
       "      <td>14314</td>\n",
       "      <td>8851</td>\n",
       "      <td>85.4869</td>\n",
       "    </tr>\n",
       "    <tr>\n",
       "      <th>Turkey</th>\n",
       "      <td>1274460</td>\n",
       "      <td>36961</td>\n",
       "      <td>280672</td>\n",
       "      <td>54079753</td>\n",
       "      <td>4.251408e+05</td>\n",
       "      <td>629239</td>\n",
       "      <td>1947</td>\n",
       "      <td>1109</td>\n",
       "      <td>15.5707</td>\n",
       "    </tr>\n",
       "    <tr>\n",
       "      <th>Brazil</th>\n",
       "      <td>2243368</td>\n",
       "      <td>50867</td>\n",
       "      <td>1574156</td>\n",
       "      <td>49024723</td>\n",
       "      <td>5.218560e+05</td>\n",
       "      <td>3567872</td>\n",
       "      <td>12418</td>\n",
       "      <td>8099</td>\n",
       "      <td>83.6174</td>\n",
       "    </tr>\n",
       "    <tr>\n",
       "      <th>Austria</th>\n",
       "      <td>937713</td>\n",
       "      <td>27065</td>\n",
       "      <td>426371</td>\n",
       "      <td>43951237</td>\n",
       "      <td>5.671094e+05</td>\n",
       "      <td>973753</td>\n",
       "      <td>4002</td>\n",
       "      <td>2041</td>\n",
       "      <td>22.3511</td>\n",
       "    </tr>\n",
       "    <tr>\n",
       "      <th>Germany</th>\n",
       "      <td>634955</td>\n",
       "      <td>34064</td>\n",
       "      <td>1098901</td>\n",
       "      <td>36029661</td>\n",
       "      <td>3.091139e+05</td>\n",
       "      <td>2496614</td>\n",
       "      <td>8625</td>\n",
       "      <td>5641</td>\n",
       "      <td>54.9220</td>\n",
       "    </tr>\n",
       "    <tr>\n",
       "      <th>Italy</th>\n",
       "      <td>538109</td>\n",
       "      <td>22082</td>\n",
       "      <td>1783925</td>\n",
       "      <td>29737831</td>\n",
       "      <td>3.778846e+05</td>\n",
       "      <td>4211516</td>\n",
       "      <td>14842</td>\n",
       "      <td>9675</td>\n",
       "      <td>93.5621</td>\n",
       "    </tr>\n",
       "  </tbody>\n",
       "</table>\n",
       "</div>"
      ],
      "text/plain": [
       "                   likes  dislikes  lengthSeconds       views     viewsWeek  \\\n",
       "country                                                                       \n",
       "United States   21921998   1141893       22214978  1355594264  7.797368e+06   \n",
       "United Kingdom   4129752    209788        3722681   247844115  1.506161e+06   \n",
       "Canada           2582837    179389        2634877   208252304  1.021092e+06   \n",
       "Australia        2204468    101450        1457476   166346981  7.460657e+05   \n",
       "India            2786301    113664        3611898   145723542  1.243653e+06   \n",
       "Argentina        1361617     77538        1487925    79186623  6.422035e+05   \n",
       "Mexico           1541347     74709        1616282    79126320  5.717159e+05   \n",
       "France           1134421     68023        1784555    70802167  6.753209e+05   \n",
       "Spain            1307056     64705        2160060    68749404  4.603580e+05   \n",
       "Netherlands       759756     73223        1533089    58488880  3.259415e+05   \n",
       "Turkey           1274460     36961         280672    54079753  4.251408e+05   \n",
       "Brazil           2243368     50867        1574156    49024723  5.218560e+05   \n",
       "Austria           937713     27065         426371    43951237  5.671094e+05   \n",
       "Germany           634955     34064        1098901    36029661  3.091139e+05   \n",
       "Italy             538109     22082        1783925    29737831  3.778846e+05   \n",
       "\n",
       "                    year   month     cat  catProbaScore  \n",
       "country                                                  \n",
       "United States   57106612  185403  109373      1254.7269  \n",
       "United Kingdom   8633583   28304   17179       191.8402  \n",
       "Canada           6271540   19539   12326       139.4414  \n",
       "Australia        3633592   13272    7687        81.8470  \n",
       "India            7769522   24065   13789       177.7030  \n",
       "Argentina        3592278   13397    7262        78.2624  \n",
       "Mexico           3876037   12290    8321        85.9992  \n",
       "France           4160579   13858    9055        92.3384  \n",
       "Spain            5024767   16619   11165       113.1728  \n",
       "Netherlands      4030821   14314    8851        85.4869  \n",
       "Turkey            629239    1947    1109        15.5707  \n",
       "Brazil           3567872   12418    8099        83.6174  \n",
       "Austria           973753    4002    2041        22.3511  \n",
       "Germany          2496614    8625    5641        54.9220  \n",
       "Italy            4211516   14842    9675        93.5621  "
      ]
     },
     "execution_count": 5,
     "metadata": {},
     "output_type": "execute_result"
    }
   ],
   "source": [
    "talks.groupby('country').sum().sort_values('views', ascending=False)[:15]"
   ]
  },
  {
   "cell_type": "code",
   "execution_count": 6,
   "metadata": {},
   "outputs": [
    {
     "data": {
      "application/vnd.plotly.v1+json": {
       "config": {
        "linkText": "Export to plot.ly",
        "plotlyServerURL": "https://plot.ly",
        "responsive": true,
        "showLink": false
       },
       "data": [
        {
         "name": "7",
         "type": "bar",
         "uid": "26dadd1b-9dc4-4d66-b090-1071dbdc3557",
         "x": [
          "United States",
          "United Kingdom",
          "Canada",
          "Australia",
          "India",
          "Argentina",
          "Mexico",
          "France",
          "Spain",
          "Netherlands",
          "Turkey",
          "Brazil",
          "Austria",
          "Germany",
          "Italy"
         ],
         "y": [
          1355594264,
          247844115,
          208252304,
          166346981,
          145723542,
          79186623,
          79126320,
          70802167,
          68749404,
          58488880,
          54079753,
          49024723,
          43951237,
          36029661,
          29737831
         ]
        }
       ],
       "layout": {
        "title": {
         "text": "Sum of views / country"
        },
        "xaxis": {
         "title": {
          "text": "Country"
         }
        },
        "yaxis": {
         "title": {
          "text": "Views"
         }
        }
       }
      },
      "text/html": [
       "<div>\n",
       "        \n",
       "        \n",
       "            <div id=\"84365ea9-1e84-42dd-820e-1160f267018c\" class=\"plotly-graph-div\" style=\"height:525px; width:100%;\"></div>\n",
       "            <script type=\"text/javascript\">\n",
       "                require([\"plotly\"], function(Plotly) {\n",
       "                    window.PLOTLYENV=window.PLOTLYENV || {};\n",
       "                    window.PLOTLYENV.BASE_URL='https://plot.ly';\n",
       "                    \n",
       "                if (document.getElementById(\"84365ea9-1e84-42dd-820e-1160f267018c\")) {\n",
       "                    Plotly.newPlot(\n",
       "                        '84365ea9-1e84-42dd-820e-1160f267018c',\n",
       "                        [{\"name\": \"7\", \"type\": \"bar\", \"uid\": \"5688e951-6b09-4ef7-a9d4-8cf3ff8c4ab2\", \"x\": [\"United States\", \"United Kingdom\", \"Canada\", \"Australia\", \"India\", \"Argentina\", \"Mexico\", \"France\", \"Spain\", \"Netherlands\", \"Turkey\", \"Brazil\", \"Austria\", \"Germany\", \"Italy\"], \"y\": [1355594264, 247844115, 208252304, 166346981, 145723542, 79186623, 79126320, 70802167, 68749404, 58488880, 54079753, 49024723, 43951237, 36029661, 29737831]}],\n",
       "                        {\"title\": {\"text\": \"Sum of views / country\"}, \"xaxis\": {\"title\": {\"text\": \"Country\"}}, \"yaxis\": {\"title\": {\"text\": \"Views\"}}},\n",
       "                        {\"showLink\": false, \"linkText\": \"Export to plot.ly\", \"plotlyServerURL\": \"https://plot.ly\", \"responsive\": true}\n",
       "                    ).then(function(){\n",
       "                            \n",
       "var gd = document.getElementById('84365ea9-1e84-42dd-820e-1160f267018c');\n",
       "var x = new MutationObserver(function (mutations, observer) {{\n",
       "        var display = window.getComputedStyle(gd).display;\n",
       "        if (!display || display === 'none') {{\n",
       "            console.log([gd, 'removed!']);\n",
       "            Plotly.purge(gd);\n",
       "            observer.disconnect();\n",
       "        }}\n",
       "}});\n",
       "\n",
       "// Listen for the removal of the full notebook cells\n",
       "var notebookContainer = gd.closest('#notebook-container');\n",
       "if (notebookContainer) {{\n",
       "    x.observe(notebookContainer, {childList: true});\n",
       "}}\n",
       "\n",
       "// Listen for the clearing of the current output cell\n",
       "var outputEl = gd.closest('.output');\n",
       "if (outputEl) {{\n",
       "    x.observe(outputEl, {childList: true});\n",
       "}}\n",
       "\n",
       "                        })\n",
       "                };\n",
       "                });\n",
       "            </script>\n",
       "        </div>"
      ]
     },
     "metadata": {},
     "output_type": "display_data"
    }
   ],
   "source": [
    "dfToPlot = talks.groupby('country').sum().sort_values('views', ascending=False)[:15]\n",
    "\n",
    "trace1 = go.Bar(\n",
    "    name='7',\n",
    "    x= dfToPlot.index.values,\n",
    "    y= dfToPlot.views,\n",
    ")\n",
    "layout = go.Layout(\n",
    "    title='Sum of views / country',\n",
    "    yaxis = dict(\n",
    "#         range = [0, 50000],\n",
    "        title='Views',\n",
    "    ),\n",
    "    xaxis = dict(\n",
    "        title='Country',\n",
    "#         range=[0,0.08]\n",
    "#         tickvals = list(range(10)),\n",
    "#         ticktext = nombres_grupos\n",
    "    )\n",
    ")\n",
    "fig = go.Figure(data=[trace1], layout=layout)\n",
    "iplot(fig)"
   ]
  },
  {
   "cell_type": "code",
   "execution_count": 7,
   "metadata": {},
   "outputs": [
    {
     "data": {
      "application/vnd.plotly.v1+json": {
       "config": {
        "linkText": "Export to plot.ly",
        "plotlyServerURL": "https://plot.ly",
        "responsive": true,
        "showLink": false
       },
       "data": [
        {
         "name": "7",
         "type": "bar",
         "uid": "8edddad0-ddf5-487d-86f2-511c2693f392",
         "x": [
          "United States",
          "United Kingdom",
          "India",
          "Canada",
          "Australia",
          "France",
          "Argentina",
          "Mexico",
          "Austria",
          "Brazil",
          "Spain",
          "Turkey",
          "Italy",
          "Netherlands",
          "Germany"
         ],
         "y": [
          7797367.803987956,
          1506160.792419,
          1243653.0233329968,
          1021091.9001360028,
          746065.6856760001,
          675320.9125389997,
          642203.5271799992,
          571715.8736989988,
          567109.3504820005,
          521855.9575429995,
          460357.9516470001,
          425140.7711739999,
          377884.647252999,
          325941.5308890003,
          309113.9434839999
         ]
        }
       ],
       "layout": {
        "title": {
         "text": "Views per week (top 15)"
        },
        "xaxis": {
         "title": {
          "text": "Country"
         }
        },
        "yaxis": {
         "title": {
          "text": "Views / week"
         }
        }
       }
      },
      "text/html": [
       "<div>\n",
       "        \n",
       "        \n",
       "            <div id=\"69b2e0f4-ee7d-4334-930f-039485f9e3c0\" class=\"plotly-graph-div\" style=\"height:525px; width:100%;\"></div>\n",
       "            <script type=\"text/javascript\">\n",
       "                require([\"plotly\"], function(Plotly) {\n",
       "                    window.PLOTLYENV=window.PLOTLYENV || {};\n",
       "                    window.PLOTLYENV.BASE_URL='https://plot.ly';\n",
       "                    \n",
       "                if (document.getElementById(\"69b2e0f4-ee7d-4334-930f-039485f9e3c0\")) {\n",
       "                    Plotly.newPlot(\n",
       "                        '69b2e0f4-ee7d-4334-930f-039485f9e3c0',\n",
       "                        [{\"name\": \"7\", \"type\": \"bar\", \"uid\": \"73fbebd1-f887-4b86-b528-97a23e8605ca\", \"x\": [\"United States\", \"United Kingdom\", \"India\", \"Canada\", \"Australia\", \"France\", \"Argentina\", \"Mexico\", \"Austria\", \"Brazil\", \"Spain\", \"Turkey\", \"Italy\", \"Netherlands\", \"Germany\"], \"y\": [7797367.803987956, 1506160.792419, 1243653.0233329968, 1021091.9001360028, 746065.6856760001, 675320.9125389997, 642203.5271799992, 571715.8736989988, 567109.3504820005, 521855.9575429995, 460357.9516470001, 425140.7711739999, 377884.647252999, 325941.5308890003, 309113.9434839999]}],\n",
       "                        {\"title\": {\"text\": \"Views per week (top 15)\"}, \"xaxis\": {\"title\": {\"text\": \"Country\"}}, \"yaxis\": {\"title\": {\"text\": \"Views / week\"}}},\n",
       "                        {\"showLink\": false, \"linkText\": \"Export to plot.ly\", \"plotlyServerURL\": \"https://plot.ly\", \"responsive\": true}\n",
       "                    ).then(function(){\n",
       "                            \n",
       "var gd = document.getElementById('69b2e0f4-ee7d-4334-930f-039485f9e3c0');\n",
       "var x = new MutationObserver(function (mutations, observer) {{\n",
       "        var display = window.getComputedStyle(gd).display;\n",
       "        if (!display || display === 'none') {{\n",
       "            console.log([gd, 'removed!']);\n",
       "            Plotly.purge(gd);\n",
       "            observer.disconnect();\n",
       "        }}\n",
       "}});\n",
       "\n",
       "// Listen for the removal of the full notebook cells\n",
       "var notebookContainer = gd.closest('#notebook-container');\n",
       "if (notebookContainer) {{\n",
       "    x.observe(notebookContainer, {childList: true});\n",
       "}}\n",
       "\n",
       "// Listen for the clearing of the current output cell\n",
       "var outputEl = gd.closest('.output');\n",
       "if (outputEl) {{\n",
       "    x.observe(outputEl, {childList: true});\n",
       "}}\n",
       "\n",
       "                        })\n",
       "                };\n",
       "                });\n",
       "            </script>\n",
       "        </div>"
      ]
     },
     "metadata": {},
     "output_type": "display_data"
    }
   ],
   "source": [
    "dfToPlot = talks.groupby('country').sum().sort_values('viewsWeek', ascending=False)[:15]\n",
    "\n",
    "trace1 = go.Bar(\n",
    "    name='7',\n",
    "    x= dfToPlot.index.values,\n",
    "    y= dfToPlot.viewsWeek,\n",
    ")\n",
    "layout = go.Layout(\n",
    "    title='Views per week (top 15)',\n",
    "    yaxis = dict(\n",
    "#         range = [0, 50000],\n",
    "        title='Views / week',\n",
    "    ),\n",
    "    xaxis = dict(\n",
    "        title='Country',\n",
    "#         range=[0,0.08]\n",
    "#         tickvals = list(range(10)),\n",
    "#         ticktext = nombres_grupos\n",
    "    )\n",
    ")\n",
    "fig = go.Figure(data=[trace1], layout=layout)\n",
    "iplot(fig)"
   ]
  },
  {
   "cell_type": "code",
   "execution_count": 8,
   "metadata": {},
   "outputs": [
    {
     "name": "stderr",
     "output_type": "stream",
     "text": [
      "C:\\Users\\matias\\AppData\\Roaming\\Python\\Python36\\site-packages\\pandas\\core\\indexing.py:480: SettingWithCopyWarning:\n",
      "\n",
      "\n",
      "A value is trying to be set on a copy of a slice from a DataFrame.\n",
      "Try using .loc[row_indexer,col_indexer] = value instead\n",
      "\n",
      "See the caveats in the documentation: http://pandas.pydata.org/pandas-docs/stable/user_guide/indexing.html#returning-a-view-versus-a-copy\n",
      "\n"
     ]
    },
    {
     "data": {
      "application/vnd.plotly.v1+json": {
       "config": {
        "linkText": "Export to plot.ly",
        "plotlyServerURL": "https://plot.ly",
        "responsive": true,
        "showLink": false
       },
       "data": [
        {
         "name": "Argentina",
         "type": "bar",
         "uid": "7a8c79ee-6fa6-4d98-974f-d9e603fc4c3e",
         "x": [
          2010,
          2011,
          2012,
          2013,
          2014,
          2015,
          2016,
          2017,
          2018,
          2019
         ],
         "y": [
          3598.376818,
          4722.390891999999,
          10217.3534,
          28505.045112000007,
          40223.987371999996,
          75853.38931500001,
          86428.40864000005,
          76023.99985700002,
          83997.03951000009,
          232633.53626400023
         ]
        },
        {
         "name": "Spain",
         "type": "bar",
         "uid": "e53880ed-8b74-4853-809b-248b852624bc",
         "x": [
          2010,
          2011,
          2012,
          2013,
          2014,
          2015,
          2016,
          2017,
          2018,
          2019
         ],
         "y": [
          1145.9745889999997,
          3634.986746,
          9759.342030999998,
          24076.900022,
          14198.436768999996,
          73213.06249499999,
          69997.88279300001,
          60664.626518999954,
          147002.22699500003,
          56664.51268799998
         ]
        },
        {
         "name": "Mexico",
         "type": "bar",
         "uid": "6d2a6963-6c04-4694-9112-e10ff460b763",
         "x": [
          2010,
          2011,
          2012,
          2013,
          2014,
          2015,
          2016,
          2017,
          2018,
          2019
         ],
         "y": [
          1461.578042,
          3466.648002,
          6642.292504999999,
          1471.964235,
          7467.380993999997,
          99587.95555500001,
          104952.09742299997,
          90457.51995300004,
          168596.19804300004,
          87612.238947
         ]
        }
       ],
       "layout": {
        "title": {
         "text": "Principales países de habla hispana."
        },
        "xaxis": {
         "tickvals": [
          2010,
          2011,
          2012,
          2013,
          2014,
          2015,
          2016,
          2017,
          2018,
          2019
         ],
         "title": {
          "text": "Year"
         }
        },
        "yaxis": {
         "title": {
          "text": "sum of (views / week)"
         }
        }
       }
      },
      "text/html": [
       "<div>\n",
       "        \n",
       "        \n",
       "            <div id=\"ddaa47ef-81f4-4e87-9119-04f1363e9b29\" class=\"plotly-graph-div\" style=\"height:525px; width:100%;\"></div>\n",
       "            <script type=\"text/javascript\">\n",
       "                require([\"plotly\"], function(Plotly) {\n",
       "                    window.PLOTLYENV=window.PLOTLYENV || {};\n",
       "                    window.PLOTLYENV.BASE_URL='https://plot.ly';\n",
       "                    \n",
       "                if (document.getElementById(\"ddaa47ef-81f4-4e87-9119-04f1363e9b29\")) {\n",
       "                    Plotly.newPlot(\n",
       "                        'ddaa47ef-81f4-4e87-9119-04f1363e9b29',\n",
       "                        [{\"name\": \"Argentina\", \"type\": \"bar\", \"uid\": \"fb10868b-dfbd-4b16-9227-f99ebd413470\", \"x\": [2010, 2011, 2012, 2013, 2014, 2015, 2016, 2017, 2018, 2019], \"y\": [3598.376818, 4722.390891999999, 10217.3534, 28505.045112000007, 40223.987371999996, 75853.38931500001, 86428.40864000005, 76023.99985700002, 83997.03951000009, 232633.53626400023]}, {\"name\": \"Spain\", \"type\": \"bar\", \"uid\": \"ea19eecb-edb6-421e-a92c-21387db1d7fd\", \"x\": [2010, 2011, 2012, 2013, 2014, 2015, 2016, 2017, 2018, 2019], \"y\": [1145.9745889999997, 3634.986746, 9759.342030999998, 24076.900022, 14198.436768999996, 73213.06249499999, 69997.88279300001, 60664.626518999954, 147002.22699500003, 56664.51268799998]}, {\"name\": \"Mexico\", \"type\": \"bar\", \"uid\": \"32394659-1373-4ec3-8f52-42f4d219575c\", \"x\": [2010, 2011, 2012, 2013, 2014, 2015, 2016, 2017, 2018, 2019], \"y\": [1461.578042, 3466.648002, 6642.292504999999, 1471.964235, 7467.380993999997, 99587.95555500001, 104952.09742299997, 90457.51995300004, 168596.19804300004, 87612.238947]}],\n",
       "                        {\"title\": {\"text\": \"Principales pa\\u00edses de habla hispana.\"}, \"xaxis\": {\"tickvals\": [2010, 2011, 2012, 2013, 2014, 2015, 2016, 2017, 2018, 2019], \"title\": {\"text\": \"Year\"}}, \"yaxis\": {\"title\": {\"text\": \"sum of (views / week)\"}}},\n",
       "                        {\"showLink\": false, \"linkText\": \"Export to plot.ly\", \"plotlyServerURL\": \"https://plot.ly\", \"responsive\": true}\n",
       "                    ).then(function(){\n",
       "                            \n",
       "var gd = document.getElementById('ddaa47ef-81f4-4e87-9119-04f1363e9b29');\n",
       "var x = new MutationObserver(function (mutations, observer) {{\n",
       "        var display = window.getComputedStyle(gd).display;\n",
       "        if (!display || display === 'none') {{\n",
       "            console.log([gd, 'removed!']);\n",
       "            Plotly.purge(gd);\n",
       "            observer.disconnect();\n",
       "        }}\n",
       "}});\n",
       "\n",
       "// Listen for the removal of the full notebook cells\n",
       "var notebookContainer = gd.closest('#notebook-container');\n",
       "if (notebookContainer) {{\n",
       "    x.observe(notebookContainer, {childList: true});\n",
       "}}\n",
       "\n",
       "// Listen for the clearing of the current output cell\n",
       "var outputEl = gd.closest('.output');\n",
       "if (outputEl) {{\n",
       "    x.observe(outputEl, {childList: true});\n",
       "}}\n",
       "\n",
       "                        })\n",
       "                };\n",
       "                });\n",
       "            </script>\n",
       "        </div>"
      ]
     },
     "metadata": {},
     "output_type": "display_data"
    }
   ],
   "source": [
    "def getPlotCountry(cName):\n",
    "    df = talks[talks.country==cName]\n",
    "    df.loc[:, 'year'] = df.publishDate.dt.year\n",
    "    df = df.groupby('year').sum()\n",
    "    return go.Bar(\n",
    "        name=cName,\n",
    "        x= df.index.values,\n",
    "        y= df.viewsWeek,\n",
    "    )\n",
    "\n",
    "trace1 = getPlotCountry('Argentina')\n",
    "trace2 = getPlotCountry('Spain')\n",
    "trace3 = getPlotCountry('Mexico')\n",
    "\n",
    "layout = go.Layout(\n",
    "    title='Principales países de habla hispana.',\n",
    "    yaxis = dict(\n",
    "#         range = [0, 50000],\n",
    "        title='sum of (views / week)',\n",
    "    ),\n",
    "    xaxis = dict(\n",
    "        title='Year',\n",
    "#         range=[0,0.08]\n",
    "        tickvals = list(range(2010, 2020)),\n",
    "#         ticktext = nombres_grupos\n",
    "    )\n",
    ")\n",
    "fig = go.Figure(data=[trace1,trace2,trace3], layout=layout)\n",
    "iplot(fig)"
   ]
  },
  {
   "cell_type": "code",
   "execution_count": 12,
   "metadata": {},
   "outputs": [
    {
     "name": "stderr",
     "output_type": "stream",
     "text": [
      "C:\\Users\\matias\\AppData\\Roaming\\Python\\Python36\\site-packages\\pandas\\core\\indexing.py:480: SettingWithCopyWarning:\n",
      "\n",
      "\n",
      "A value is trying to be set on a copy of a slice from a DataFrame.\n",
      "Try using .loc[row_indexer,col_indexer] = value instead\n",
      "\n",
      "See the caveats in the documentation: http://pandas.pydata.org/pandas-docs/stable/user_guide/indexing.html#returning-a-view-versus-a-copy\n",
      "\n"
     ]
    },
    {
     "data": {
      "application/vnd.plotly.v1+json": {
       "config": {
        "linkText": "Export to plot.ly",
        "plotlyServerURL": "https://plot.ly",
        "responsive": true,
        "showLink": false
       },
       "data": [
        {
         "name": "United Kingdom",
         "type": "bar",
         "uid": "4c01ec2a-0aa1-44fa-816f-64e11cbad617",
         "x": [
          2009,
          2010,
          2011,
          2012,
          2013,
          2014,
          2015,
          2016,
          2017,
          2018,
          2019
         ],
         "y": [
          125.158425,
          542.6595339999999,
          4695.809352,
          72116.823358,
          117591.36252500002,
          115156.02201200003,
          245117.78480299993,
          197840.88918399988,
          175903.20157699997,
          187296.66722699988,
          389774.41442199977
         ]
        },
        {
         "name": "India",
         "type": "bar",
         "uid": "3c546420-6505-4d73-9f60-0fa531e3c547",
         "x": [
          2009,
          2010,
          2011,
          2012,
          2013,
          2014,
          2015,
          2016,
          2017,
          2018,
          2019
         ],
         "y": [
          19.207224,
          1891.1799460000002,
          4184.6722340000015,
          7538.902705999999,
          48122.43819600001,
          47936.461976000006,
          55315.71342700001,
          98877.056604,
          363086.50542399986,
          278492.3776669998,
          338188.5079289999
         ]
        },
        {
         "name": "Canada",
         "type": "bar",
         "uid": "69e250ac-651d-4465-b38e-1a30a9cce082",
         "x": [
          2009,
          2010,
          2011,
          2012,
          2013,
          2014,
          2015,
          2016,
          2017,
          2018,
          2019
         ],
         "y": [
          338.15459999999996,
          6709.581741,
          13758.567332000004,
          67557.86687000003,
          110457.428124,
          73109.81614899996,
          209945.88874699973,
          198429.1339279999,
          142826.82684999987,
          80913.07311200001,
          117045.56268300005
         ]
        }
       ],
       "layout": {
        "title": {
         "text": "Views per week (4304 talks)"
        },
        "xaxis": {
         "tickvals": [
          2009,
          2010,
          2011,
          2012,
          2013,
          2014,
          2015,
          2016,
          2017,
          2018,
          2019
         ],
         "title": {
          "text": "Year"
         }
        },
        "yaxis": {
         "title": {
          "text": "sum of (views / week)"
         }
        }
       }
      },
      "text/html": [
       "<div>\n",
       "        \n",
       "        \n",
       "            <div id=\"367afa04-78eb-44c1-a172-8d82444fb29f\" class=\"plotly-graph-div\" style=\"height:525px; width:100%;\"></div>\n",
       "            <script type=\"text/javascript\">\n",
       "                require([\"plotly\"], function(Plotly) {\n",
       "                    window.PLOTLYENV=window.PLOTLYENV || {};\n",
       "                    window.PLOTLYENV.BASE_URL='https://plot.ly';\n",
       "                    \n",
       "                if (document.getElementById(\"367afa04-78eb-44c1-a172-8d82444fb29f\")) {\n",
       "                    Plotly.newPlot(\n",
       "                        '367afa04-78eb-44c1-a172-8d82444fb29f',\n",
       "                        [{\"name\": \"United Kingdom\", \"type\": \"bar\", \"uid\": \"8b6cce94-0be1-4145-ac8d-6482bb3f9449\", \"x\": [2009, 2010, 2011, 2012, 2013, 2014, 2015, 2016, 2017, 2018, 2019], \"y\": [125.158425, 542.6595339999999, 4695.809352, 72116.823358, 117591.36252500002, 115156.02201200003, 245117.78480299993, 197840.88918399988, 175903.20157699997, 187296.66722699988, 389774.41442199977]}, {\"name\": \"India\", \"type\": \"bar\", \"uid\": \"563a5865-247f-4972-ae7e-8b21efad966d\", \"x\": [2009, 2010, 2011, 2012, 2013, 2014, 2015, 2016, 2017, 2018, 2019], \"y\": [19.207224, 1891.1799460000002, 4184.6722340000015, 7538.902705999999, 48122.43819600001, 47936.461976000006, 55315.71342700001, 98877.056604, 363086.50542399986, 278492.3776669998, 338188.5079289999]}, {\"name\": \"Canada\", \"type\": \"bar\", \"uid\": \"3172088b-364f-43ad-adda-b1e1365619f7\", \"x\": [2009, 2010, 2011, 2012, 2013, 2014, 2015, 2016, 2017, 2018, 2019], \"y\": [338.15459999999996, 6709.581741, 13758.567332000004, 67557.86687000003, 110457.428124, 73109.81614899996, 209945.88874699973, 198429.1339279999, 142826.82684999987, 80913.07311200001, 117045.56268300005]}],\n",
       "                        {\"title\": {\"text\": \"Views per week (4304 talks)\"}, \"xaxis\": {\"tickvals\": [2009, 2010, 2011, 2012, 2013, 2014, 2015, 2016, 2017, 2018, 2019], \"title\": {\"text\": \"Year\"}}, \"yaxis\": {\"title\": {\"text\": \"sum of (views / week)\"}}},\n",
       "                        {\"showLink\": false, \"linkText\": \"Export to plot.ly\", \"plotlyServerURL\": \"https://plot.ly\", \"responsive\": true}\n",
       "                    ).then(function(){\n",
       "                            \n",
       "var gd = document.getElementById('367afa04-78eb-44c1-a172-8d82444fb29f');\n",
       "var x = new MutationObserver(function (mutations, observer) {{\n",
       "        var display = window.getComputedStyle(gd).display;\n",
       "        if (!display || display === 'none') {{\n",
       "            console.log([gd, 'removed!']);\n",
       "            Plotly.purge(gd);\n",
       "            observer.disconnect();\n",
       "        }}\n",
       "}});\n",
       "\n",
       "// Listen for the removal of the full notebook cells\n",
       "var notebookContainer = gd.closest('#notebook-container');\n",
       "if (notebookContainer) {{\n",
       "    x.observe(notebookContainer, {childList: true});\n",
       "}}\n",
       "\n",
       "// Listen for the clearing of the current output cell\n",
       "var outputEl = gd.closest('.output');\n",
       "if (outputEl) {{\n",
       "    x.observe(outputEl, {childList: true});\n",
       "}}\n",
       "\n",
       "                        })\n",
       "                };\n",
       "                });\n",
       "            </script>\n",
       "        </div>"
      ]
     },
     "metadata": {},
     "output_type": "display_data"
    }
   ],
   "source": [
    "dfToPlotA = talks[talks.country=='United Kingdom']\n",
    "dfToPlotA.loc[:, 'year'] = dfToPlotA.publishDate.dt.year\n",
    "dfToPlot = dfToPlotA.groupby('year').sum()\n",
    "\n",
    "dfToPlot_2 = talks[talks.country=='India']\n",
    "dfToPlot_2.loc[:, 'year'] = dfToPlot_2.publishDate.dt.year\n",
    "dfToPlot_2 = dfToPlot_2.groupby('year').sum()\n",
    "\n",
    "dfToPlot_3 = talks[talks.country=='Canada']\n",
    "dfToPlot_3.loc[:, 'year'] = dfToPlot_3.publishDate.dt.year\n",
    "dfToPlot_3 = dfToPlot_3.groupby('year').sum()\n",
    "\n",
    "trace1 = go.Bar(\n",
    "    name='United Kingdom',\n",
    "    x= dfToPlot.index.values,\n",
    "    y= dfToPlot.viewsWeek,\n",
    ")\n",
    "trace2 = go.Bar(\n",
    "    name='India',\n",
    "    x= dfToPlot_2.index.values,\n",
    "    y= dfToPlot_2.viewsWeek,\n",
    ")\n",
    "trace3 = go.Bar(\n",
    "    name='Canada',\n",
    "    x= dfToPlot_3.index.values,\n",
    "    y= dfToPlot_3.viewsWeek,\n",
    ")\n",
    "layout = go.Layout(\n",
    "    title='Views per week (%d talks)' % (len(dfToPlotA)+len(dfToPlot_2)+len(dfToPlot_3)),\n",
    "    yaxis = dict(\n",
    "#         range = [0, 50000],\n",
    "        title='sum of (views / week)',\n",
    "    ),\n",
    "    xaxis = dict(\n",
    "        title='Year',\n",
    "#         range=[0,0.08]\n",
    "        tickvals = list(range(2009, 2020)),\n",
    "#         ticktext = nombres_grupos\n",
    "    )\n",
    ")\n",
    "fig = go.Figure(data=[trace1,trace2,trace3], layout=layout)\n",
    "iplot(fig)"
   ]
  },
  {
   "cell_type": "code",
   "execution_count": 10,
   "metadata": {},
   "outputs": [
    {
     "name": "stderr",
     "output_type": "stream",
     "text": [
      "C:\\Users\\matias\\AppData\\Roaming\\Python\\Python36\\site-packages\\pandas\\core\\indexing.py:480: SettingWithCopyWarning:\n",
      "\n",
      "\n",
      "A value is trying to be set on a copy of a slice from a DataFrame.\n",
      "Try using .loc[row_indexer,col_indexer] = value instead\n",
      "\n",
      "See the caveats in the documentation: http://pandas.pydata.org/pandas-docs/stable/user_guide/indexing.html#returning-a-view-versus-a-copy\n",
      "\n"
     ]
    },
    {
     "data": {
      "application/vnd.plotly.v1+json": {
       "config": {
        "linkText": "Export to plot.ly",
        "plotlyServerURL": "https://plot.ly",
        "responsive": true,
        "showLink": false
       },
       "data": [
        {
         "name": "United Kingdom",
         "type": "bar",
         "uid": "6f5477f5-c1ff-48b6-9ed7-60673162e72f",
         "x": [
          2009,
          2010,
          2011,
          2012,
          2013,
          2014,
          2015,
          2016,
          2017,
          2018,
          2019
         ],
         "y": [
          46,
          61,
          57,
          185,
          242,
          294,
          533,
          548,
          786,
          745,
          785
         ]
        },
        {
         "name": "India",
         "type": "bar",
         "uid": "525d924c-db4f-4467-9a86-8b759d568df5",
         "x": [
          2009,
          2010,
          2011,
          2012,
          2013,
          2014,
          2015,
          2016,
          2017,
          2018,
          2019
         ],
         "y": [
          2,
          74,
          17,
          104,
          113,
          124,
          297,
          385,
          754,
          967,
          1015
         ]
        },
        {
         "name": "Canada",
         "type": "bar",
         "uid": "df8a7972-a2f3-4114-bcb0-cdee623d377e",
         "x": [
          2009,
          2010,
          2011,
          2012,
          2013,
          2014,
          2015,
          2016,
          2017,
          2018,
          2019
         ],
         "y": [
          35,
          131,
          79,
          147,
          241,
          215,
          323,
          378,
          474,
          484,
          604
         ]
        }
       ],
       "layout": {
        "title": {
         "text": "Talks per year (4304 talks)"
        },
        "xaxis": {
         "tickvals": [
          2009,
          2010,
          2011,
          2012,
          2013,
          2014,
          2015,
          2016,
          2017,
          2018,
          2019
         ],
         "title": {
          "text": "Year"
         }
        },
        "yaxis": {
         "title": {
          "text": "Amount of talks"
         }
        }
       }
      },
      "text/html": [
       "<div>\n",
       "        \n",
       "        \n",
       "            <div id=\"7bf43228-3f08-4c3b-b150-d65939f430a1\" class=\"plotly-graph-div\" style=\"height:525px; width:100%;\"></div>\n",
       "            <script type=\"text/javascript\">\n",
       "                require([\"plotly\"], function(Plotly) {\n",
       "                    window.PLOTLYENV=window.PLOTLYENV || {};\n",
       "                    window.PLOTLYENV.BASE_URL='https://plot.ly';\n",
       "                    \n",
       "                if (document.getElementById(\"7bf43228-3f08-4c3b-b150-d65939f430a1\")) {\n",
       "                    Plotly.newPlot(\n",
       "                        '7bf43228-3f08-4c3b-b150-d65939f430a1',\n",
       "                        [{\"name\": \"United Kingdom\", \"type\": \"bar\", \"uid\": \"e2068564-a36c-4301-96bc-0e1cab6d8748\", \"x\": [2009, 2010, 2011, 2012, 2013, 2014, 2015, 2016, 2017, 2018, 2019], \"y\": [46, 61, 57, 185, 242, 294, 533, 548, 786, 745, 785]}, {\"name\": \"India\", \"type\": \"bar\", \"uid\": \"112ee4a6-684a-4380-833d-78da2e2682b1\", \"x\": [2009, 2010, 2011, 2012, 2013, 2014, 2015, 2016, 2017, 2018, 2019], \"y\": [2, 74, 17, 104, 113, 124, 297, 385, 754, 967, 1015]}, {\"name\": \"Canada\", \"type\": \"bar\", \"uid\": \"660a28c7-0064-4f64-a2d1-6654e54dea74\", \"x\": [2009, 2010, 2011, 2012, 2013, 2014, 2015, 2016, 2017, 2018, 2019], \"y\": [35, 131, 79, 147, 241, 215, 323, 378, 474, 484, 604]}],\n",
       "                        {\"title\": {\"text\": \"Talks per year (4304 talks)\"}, \"xaxis\": {\"tickvals\": [2009, 2010, 2011, 2012, 2013, 2014, 2015, 2016, 2017, 2018, 2019], \"title\": {\"text\": \"Year\"}}, \"yaxis\": {\"title\": {\"text\": \"Amount of talks\"}}},\n",
       "                        {\"showLink\": false, \"linkText\": \"Export to plot.ly\", \"plotlyServerURL\": \"https://plot.ly\", \"responsive\": true}\n",
       "                    ).then(function(){\n",
       "                            \n",
       "var gd = document.getElementById('7bf43228-3f08-4c3b-b150-d65939f430a1');\n",
       "var x = new MutationObserver(function (mutations, observer) {{\n",
       "        var display = window.getComputedStyle(gd).display;\n",
       "        if (!display || display === 'none') {{\n",
       "            console.log([gd, 'removed!']);\n",
       "            Plotly.purge(gd);\n",
       "            observer.disconnect();\n",
       "        }}\n",
       "}});\n",
       "\n",
       "// Listen for the removal of the full notebook cells\n",
       "var notebookContainer = gd.closest('#notebook-container');\n",
       "if (notebookContainer) {{\n",
       "    x.observe(notebookContainer, {childList: true});\n",
       "}}\n",
       "\n",
       "// Listen for the clearing of the current output cell\n",
       "var outputEl = gd.closest('.output');\n",
       "if (outputEl) {{\n",
       "    x.observe(outputEl, {childList: true});\n",
       "}}\n",
       "\n",
       "                        })\n",
       "                };\n",
       "                });\n",
       "            </script>\n",
       "        </div>"
      ]
     },
     "metadata": {},
     "output_type": "display_data"
    }
   ],
   "source": [
    "dfToPlotA = talks[talks.country=='United Kingdom']\n",
    "dfToPlotA.loc[:, 'year'] = dfToPlotA.publishDate.dt.year\n",
    "dfToPlot = dfToPlotA.groupby('year').count()\n",
    "\n",
    "dfToPlot_2 = talks[talks.country=='India']\n",
    "dfToPlot_2.loc[:, 'year'] = dfToPlot_2.publishDate.dt.year\n",
    "dfToPlot_2 = dfToPlot_2.groupby('year').count()\n",
    "\n",
    "dfToPlot_3 = talks[talks.country=='Canada']\n",
    "dfToPlot_3.loc[:, 'year'] = dfToPlot_3.publishDate.dt.year\n",
    "dfToPlot_3 = dfToPlot_3.groupby('year').count()\n",
    "\n",
    "trace1 = go.Bar(\n",
    "    name='United Kingdom',\n",
    "    x= dfToPlot.index.values,\n",
    "    y= dfToPlot.views,\n",
    ")\n",
    "trace2 = go.Bar(\n",
    "    name='India',\n",
    "    x= dfToPlot_2.index.values,\n",
    "    y= dfToPlot_2.views,\n",
    ")\n",
    "trace3 = go.Bar(\n",
    "    name='Canada',\n",
    "    x= dfToPlot_3.index.values,\n",
    "    y= dfToPlot_3.views,\n",
    ")\n",
    "layout = go.Layout(\n",
    "    title='Talks per year (%d talks)' % (len(dfToPlotA)+len(dfToPlot_2)+len(dfToPlot_3)),\n",
    "    yaxis = dict(\n",
    "#         range = [0, 50000],\n",
    "        title='Amount of talks',\n",
    "    ),\n",
    "    xaxis = dict(\n",
    "        title='Year',\n",
    "#         range=[0,0.08]\n",
    "        tickvals = list(range(2009, 2020)),\n",
    "#         ticktext = nombres_grupos\n",
    "    )\n",
    ")\n",
    "fig = go.Figure(data=[trace1,trace2,trace3], layout=layout)\n",
    "iplot(fig)"
   ]
  },
  {
   "cell_type": "code",
   "execution_count": 54,
   "metadata": {},
   "outputs": [
    {
     "name": "stderr",
     "output_type": "stream",
     "text": [
      "C:\\Users\\matias\\AppData\\Roaming\\Python\\Python36\\site-packages\\plotly\\graph_objs\\_deprecations.py:372: DeprecationWarning:\n",
      "\n",
      "plotly.graph_objs.Line is deprecated.\n",
      "Please replace it with one of the following more specific types\n",
      "  - plotly.graph_objs.scatter.Line\n",
      "  - plotly.graph_objs.layout.shape.Line\n",
      "  - etc.\n",
      "\n",
      "\n"
     ]
    },
    {
     "data": {
      "application/vnd.plotly.v1+json": {
       "config": {
        "linkText": "Export to plot.ly",
        "plotlyServerURL": "https://plot.ly",
        "responsive": true,
        "showLink": false
       },
       "data": [
        {
         "name": "life, motivation",
         "type": "scatter",
         "uid": "06f265f4-2b1a-4496-8ed5-a8a947c5cd61",
         "x": [
          2009,
          2010,
          2011,
          2012,
          2013,
          2014,
          2015,
          2016,
          2017,
          2018,
          2019
         ],
         "y": [
          26,
          169,
          156,
          446,
          762,
          964,
          1732,
          1860,
          2276,
          2846,
          3260
         ]
        },
        {
         "name": "brain",
         "type": "scatter",
         "uid": "10d91ef9-e968-4964-b9c6-7716d9c55fb8",
         "x": [
          2009,
          2010,
          2011,
          2012,
          2013,
          2014,
          2015,
          2016,
          2017,
          2018,
          2019
         ],
         "y": [
          16,
          122,
          111,
          264,
          397,
          416,
          666,
          804,
          866,
          967,
          1030
         ]
        },
        {
         "name": "technology",
         "type": "scatter",
         "uid": "66ec6c17-baad-4079-98fa-f0f6d58d402b",
         "x": [
          2009,
          2010,
          2011,
          2012,
          2013,
          2014,
          2015,
          2016,
          2017,
          2018,
          2019
         ],
         "y": [
          66,
          414,
          328,
          676,
          1039,
          946,
          1640,
          1656,
          2017,
          2293,
          2273
         ]
        },
        {
         "name": "cities",
         "type": "scatter",
         "uid": "18bb5c3a-1ae4-46a2-9486-7af1c85cb882",
         "x": [
          2009,
          2010,
          2011,
          2012,
          2013,
          2014,
          2015,
          2016,
          2017,
          2018,
          2019
         ],
         "y": [
          55,
          342,
          221,
          508,
          747,
          812,
          1392,
          1430,
          1739,
          1902,
          2109
         ]
        },
        {
         "name": "art and comunication",
         "type": "scatter",
         "uid": "eebb024d-bb08-48be-baee-033de004546c",
         "x": [
          2009,
          2010,
          2011,
          2012,
          2013,
          2014,
          2015,
          2016,
          2017,
          2018,
          2019
         ],
         "y": [
          96,
          486,
          294,
          594,
          785,
          838,
          1269,
          1216,
          1219,
          1232,
          1230
         ]
        },
        {
         "name": "education",
         "type": "scatter",
         "uid": "edc28c93-a584-4793-a65c-4df2146101a1",
         "x": [
          2009,
          2010,
          2011,
          2012,
          2013,
          2014,
          2015,
          2016,
          2017,
          2018,
          2019
         ],
         "y": [
          18,
          187,
          130,
          308,
          487,
          580,
          951,
          1026,
          1102,
          1235,
          1367
         ]
        },
        {
         "name": "food",
         "type": "scatter",
         "uid": "705e93f6-c45a-4d0f-acf0-bc64c98f8a83",
         "x": [
          2009,
          2010,
          2011,
          2012,
          2013,
          2014,
          2015,
          2016,
          2017,
          2018,
          2019
         ],
         "y": [
          27,
          177,
          183,
          337,
          418,
          452,
          688,
          809,
          868,
          954,
          1016
         ]
        },
        {
         "name": "performance",
         "type": "scatter",
         "uid": "9077d0ce-f8b1-4627-8c49-ee79ad1d9922",
         "x": [
          2009,
          2010,
          2011,
          2012,
          2013,
          2014,
          2015,
          2016,
          2017,
          2018,
          2019
         ],
         "y": [
          10,
          92,
          69,
          114,
          174,
          198,
          261,
          338,
          1071,
          1231,
          1339
         ]
        },
        {
         "name": "gender",
         "type": "scatter",
         "uid": "49c623c6-0ff5-4105-a605-02c8ca13463b",
         "x": [
          2009,
          2010,
          2011,
          2012,
          2013,
          2014,
          2015,
          2016,
          2017,
          2018,
          2019
         ],
         "y": [
          3,
          41,
          53,
          130,
          287,
          257,
          606,
          575,
          706,
          758,
          980
         ]
        }
       ],
       "layout": {
        "title": {
         "text": "Categories"
        },
        "xaxis": {
         "tickvals": [
          2009,
          2010,
          2011,
          2012,
          2013,
          2014,
          2015,
          2016,
          2017,
          2018,
          2019
         ],
         "title": {
          "text": "Year"
         }
        },
        "yaxis": {
         "title": {
          "text": "n of talks"
         }
        }
       }
      },
      "text/html": [
       "<div>\n",
       "        \n",
       "        \n",
       "            <div id=\"dacec3b7-bfc6-4124-a39b-7017193c57bc\" class=\"plotly-graph-div\" style=\"height:525px; width:100%;\"></div>\n",
       "            <script type=\"text/javascript\">\n",
       "                require([\"plotly\"], function(Plotly) {\n",
       "                    window.PLOTLYENV=window.PLOTLYENV || {};\n",
       "                    window.PLOTLYENV.BASE_URL='https://plot.ly';\n",
       "                    \n",
       "                if (document.getElementById(\"dacec3b7-bfc6-4124-a39b-7017193c57bc\")) {\n",
       "                    Plotly.newPlot(\n",
       "                        'dacec3b7-bfc6-4124-a39b-7017193c57bc',\n",
       "                        [{\"name\": \"life, motivation\", \"type\": \"scatter\", \"uid\": \"9ee3eacb-8885-4b00-bdaa-a3335a83167c\", \"x\": [2009, 2010, 2011, 2012, 2013, 2014, 2015, 2016, 2017, 2018, 2019], \"y\": [26, 169, 156, 446, 762, 964, 1732, 1860, 2276, 2846, 3260]}, {\"name\": \"brain\", \"type\": \"scatter\", \"uid\": \"893ffd1f-f397-4d66-be10-342fe569d9ca\", \"x\": [2009, 2010, 2011, 2012, 2013, 2014, 2015, 2016, 2017, 2018, 2019], \"y\": [16, 122, 111, 264, 397, 416, 666, 804, 866, 967, 1030]}, {\"name\": \"technology\", \"type\": \"scatter\", \"uid\": \"0e2f6a62-9594-47cf-b920-fad3f64d07ca\", \"x\": [2009, 2010, 2011, 2012, 2013, 2014, 2015, 2016, 2017, 2018, 2019], \"y\": [66, 414, 328, 676, 1039, 946, 1640, 1656, 2017, 2293, 2273]}, {\"name\": \"cities\", \"type\": \"scatter\", \"uid\": \"4b551547-d23e-428b-9927-6fc81f5ba71c\", \"x\": [2009, 2010, 2011, 2012, 2013, 2014, 2015, 2016, 2017, 2018, 2019], \"y\": [55, 342, 221, 508, 747, 812, 1392, 1430, 1739, 1902, 2109]}, {\"name\": \"art and comunication\", \"type\": \"scatter\", \"uid\": \"aad6962d-ffb0-4b21-baf9-127561cd6691\", \"x\": [2009, 2010, 2011, 2012, 2013, 2014, 2015, 2016, 2017, 2018, 2019], \"y\": [96, 486, 294, 594, 785, 838, 1269, 1216, 1219, 1232, 1230]}, {\"name\": \"education\", \"type\": \"scatter\", \"uid\": \"d0991f9c-c336-41a2-8c9a-c30380b2ba50\", \"x\": [2009, 2010, 2011, 2012, 2013, 2014, 2015, 2016, 2017, 2018, 2019], \"y\": [18, 187, 130, 308, 487, 580, 951, 1026, 1102, 1235, 1367]}, {\"name\": \"food\", \"type\": \"scatter\", \"uid\": \"b73be232-61f1-4573-966c-26c9c647801b\", \"x\": [2009, 2010, 2011, 2012, 2013, 2014, 2015, 2016, 2017, 2018, 2019], \"y\": [27, 177, 183, 337, 418, 452, 688, 809, 868, 954, 1016]}, {\"name\": \"performance\", \"type\": \"scatter\", \"uid\": \"82458995-9b9c-4552-b972-fc26a1bef5fd\", \"x\": [2009, 2010, 2011, 2012, 2013, 2014, 2015, 2016, 2017, 2018, 2019], \"y\": [10, 92, 69, 114, 174, 198, 261, 338, 1071, 1231, 1339]}, {\"name\": \"gender\", \"type\": \"scatter\", \"uid\": \"dccbda0f-7252-4954-b702-626b1aaa2ce7\", \"x\": [2009, 2010, 2011, 2012, 2013, 2014, 2015, 2016, 2017, 2018, 2019], \"y\": [3, 41, 53, 130, 287, 257, 606, 575, 706, 758, 980]}],\n",
       "                        {\"title\": {\"text\": \"Categories\"}, \"xaxis\": {\"tickvals\": [2009, 2010, 2011, 2012, 2013, 2014, 2015, 2016, 2017, 2018, 2019], \"title\": {\"text\": \"Year\"}}, \"yaxis\": {\"title\": {\"text\": \"n of talks\"}}},\n",
       "                        {\"showLink\": false, \"linkText\": \"Export to plot.ly\", \"plotlyServerURL\": \"https://plot.ly\", \"responsive\": true}\n",
       "                    ).then(function(){\n",
       "                            \n",
       "var gd = document.getElementById('dacec3b7-bfc6-4124-a39b-7017193c57bc');\n",
       "var x = new MutationObserver(function (mutations, observer) {{\n",
       "        var display = window.getComputedStyle(gd).display;\n",
       "        if (!display || display === 'none') {{\n",
       "            console.log([gd, 'removed!']);\n",
       "            Plotly.purge(gd);\n",
       "            observer.disconnect();\n",
       "        }}\n",
       "}});\n",
       "\n",
       "// Listen for the removal of the full notebook cells\n",
       "var notebookContainer = gd.closest('#notebook-container');\n",
       "if (notebookContainer) {{\n",
       "    x.observe(notebookContainer, {childList: true});\n",
       "}}\n",
       "\n",
       "// Listen for the clearing of the current output cell\n",
       "var outputEl = gd.closest('.output');\n",
       "if (outputEl) {{\n",
       "    x.observe(outputEl, {childList: true});\n",
       "}}\n",
       "\n",
       "                        })\n",
       "                };\n",
       "                });\n",
       "            </script>\n",
       "        </div>"
      ]
     },
     "metadata": {},
     "output_type": "display_data"
    }
   ],
   "source": [
    "categories = talks.catName.unique()\n",
    "dataToPlot = []\n",
    "for cname in categories:\n",
    "    data = talks[(talks.catName==cname)].groupby('year').count()\n",
    "    dataToPlot.append(\n",
    "        go.Line(\n",
    "            name=cname,\n",
    "            x= data.index.values,\n",
    "            y= data.viewsWeek,\n",
    "        )\n",
    "    )\n",
    "layout = go.Layout(\n",
    "    title='Categories',\n",
    "    yaxis = dict(\n",
    "        title='n of talks',\n",
    "    ),\n",
    "    xaxis = dict(\n",
    "        title='Year',\n",
    "        tickvals = list(range(2009, 2020)),\n",
    "    )\n",
    ")\n",
    "fig = go.Figure(data=dataToPlot, layout=layout)\n",
    "iplot(fig)"
   ]
  },
  {
   "cell_type": "code",
   "execution_count": 56,
   "metadata": {},
   "outputs": [
    {
     "name": "stderr",
     "output_type": "stream",
     "text": [
      "C:\\Users\\matias\\AppData\\Roaming\\Python\\Python36\\site-packages\\plotly\\graph_objs\\_deprecations.py:372: DeprecationWarning:\n",
      "\n",
      "plotly.graph_objs.Line is deprecated.\n",
      "Please replace it with one of the following more specific types\n",
      "  - plotly.graph_objs.scatter.Line\n",
      "  - plotly.graph_objs.layout.shape.Line\n",
      "  - etc.\n",
      "\n",
      "\n"
     ]
    },
    {
     "data": {
      "application/vnd.plotly.v1+json": {
       "config": {
        "linkText": "Export to plot.ly",
        "plotlyServerURL": "https://plot.ly",
        "responsive": true,
        "showLink": false
       },
       "data": [
        {
         "name": "life, motivation",
         "type": "scatter",
         "uid": "8beef2d6-bb8d-43a5-84ca-ffea0e287d2f",
         "x": [
          2009,
          2010,
          2011,
          2012,
          2013,
          2014,
          2015,
          2016,
          2017,
          2018,
          2019
         ],
         "y": [
          877.6099790000001,
          20509.274596999996,
          69336.92610200001,
          138974.41226299998,
          405819.35239800013,
          421216.2928169998,
          637369.9734149995,
          772153.9161730018,
          1155718.9153080005,
          1409549.665818001,
          1379155.8304800007
         ]
        },
        {
         "name": "brain",
         "type": "scatter",
         "uid": "11b06dc1-6dec-4e31-b26e-6900da5be121",
         "x": [
          2009,
          2010,
          2011,
          2012,
          2013,
          2014,
          2015,
          2016,
          2017,
          2018,
          2019
         ],
         "y": [
          924.7366110000003,
          10868.682637999997,
          82303.06876300002,
          104149.81800800003,
          245027.16887599992,
          308078.001873,
          481956.68018899986,
          403153.97346499976,
          384884.93215700035,
          389898.93255800003,
          370773.06337200024
         ]
        },
        {
         "name": "technology",
         "type": "scatter",
         "uid": "7fbd2ce5-8015-4b54-b79e-fb30407b89e4",
         "x": [
          2009,
          2010,
          2011,
          2012,
          2013,
          2014,
          2015,
          2016,
          2017,
          2018,
          2019
         ],
         "y": [
          742.7301829999999,
          10111.817112000006,
          17375.100719000002,
          45307.72726499994,
          295162.3405869996,
          133833.48881299977,
          256396.19158900043,
          231109.8370390005,
          286477.88786700025,
          250639.9388619994,
          744890.8671399981
         ]
        },
        {
         "name": "cities",
         "type": "scatter",
         "uid": "6f846801-8a52-4dcc-beca-5754e0a6523a",
         "x": [
          2009,
          2010,
          2011,
          2012,
          2013,
          2014,
          2015,
          2016,
          2017,
          2018,
          2019
         ],
         "y": [
          12747.531041999999,
          10096.535870999998,
          27320.540152999998,
          51116.858518000015,
          112496.14302900004,
          150140.69889299976,
          313741.4907639999,
          348300.9923490003,
          316985.79885199975,
          228358.2316429997,
          388299.3921970011
         ]
        },
        {
         "name": "art and comunication",
         "type": "scatter",
         "uid": "3b13fd32-4bb3-4755-b80d-25079880e09e",
         "x": [
          2009,
          2010,
          2011,
          2012,
          2013,
          2014,
          2015,
          2016,
          2017,
          2018,
          2019
         ],
         "y": [
          2579.30401,
          8273.830701999994,
          24513.653133,
          82591.48717900005,
          196997.58967399996,
          139409.20066000006,
          188176.90636800014,
          226003.8426679997,
          308509.2713019997,
          243300.4562339998,
          526406.9504839996
         ]
        },
        {
         "name": "education",
         "type": "scatter",
         "uid": "b52d2891-2b01-45f8-ab87-b7db1895cdc0",
         "x": [
          2009,
          2010,
          2011,
          2012,
          2013,
          2014,
          2015,
          2016,
          2017,
          2018,
          2019
         ],
         "y": [
          143.134679,
          5983.895695999999,
          19240.313777999996,
          30678.137056000003,
          114669.91587099993,
          82425.28397900006,
          206572.97599099964,
          181352.66861400017,
          246557.3285340002,
          159845.34566099974,
          153392.84167799985
         ]
        },
        {
         "name": "food",
         "type": "scatter",
         "uid": "93a119d1-a0a9-4870-bf98-d3f2a13b39c5",
         "x": [
          2009,
          2010,
          2011,
          2012,
          2013,
          2014,
          2015,
          2016,
          2017,
          2018,
          2019
         ],
         "y": [
          177.76678400000003,
          7139.538532,
          16362.950022999998,
          42051.543244000095,
          82093.28565900006,
          65400.72986100002,
          72976.35504599994,
          108210.91683600008,
          91510.76285499994,
          239339.44571699973,
          464265.8089029993
         ]
        },
        {
         "name": "performance",
         "type": "scatter",
         "uid": "8ee7b830-c751-4d3e-80b2-57fe98d94ab3",
         "x": [
          2009,
          2010,
          2011,
          2012,
          2013,
          2014,
          2015,
          2016,
          2017,
          2018,
          2019
         ],
         "y": [
          105.094118,
          4598.508558000001,
          21871.568188999994,
          21743.459126999987,
          62072.82485299998,
          51652.86773200005,
          60685.55436599999,
          44862.146065999994,
          104548.10393200007,
          217475.18677600002,
          226195.79062099982
         ]
        },
        {
         "name": "gender",
         "type": "scatter",
         "uid": "dde3c0b2-66ec-4183-a299-f8d3de960671",
         "x": [
          2009,
          2010,
          2011,
          2012,
          2013,
          2014,
          2015,
          2016,
          2017,
          2018,
          2019
         ],
         "y": [
          12.085162,
          1166.496708,
          6368.975462999999,
          46176.757012000024,
          153741.86006099998,
          69062.29757199998,
          148509.680011,
          297820.0621899997,
          461247.41716899956,
          251823.7444270001,
          537838.7130380002
         ]
        }
       ],
       "layout": {
        "title": {
         "text": "Categories"
        },
        "xaxis": {
         "tickvals": [
          2009,
          2010,
          2011,
          2012,
          2013,
          2014,
          2015,
          2016,
          2017,
          2018,
          2019
         ],
         "title": {
          "text": "Year"
         }
        },
        "yaxis": {
         "title": {
          "text": "sum of(views / week)"
         }
        }
       }
      },
      "text/html": [
       "<div>\n",
       "        \n",
       "        \n",
       "            <div id=\"7a2f0379-d2fa-4271-8b3d-17cef2d1bc42\" class=\"plotly-graph-div\" style=\"height:525px; width:100%;\"></div>\n",
       "            <script type=\"text/javascript\">\n",
       "                require([\"plotly\"], function(Plotly) {\n",
       "                    window.PLOTLYENV=window.PLOTLYENV || {};\n",
       "                    window.PLOTLYENV.BASE_URL='https://plot.ly';\n",
       "                    \n",
       "                if (document.getElementById(\"7a2f0379-d2fa-4271-8b3d-17cef2d1bc42\")) {\n",
       "                    Plotly.newPlot(\n",
       "                        '7a2f0379-d2fa-4271-8b3d-17cef2d1bc42',\n",
       "                        [{\"name\": \"life, motivation\", \"type\": \"scatter\", \"uid\": \"71abb788-ba28-4dfb-93c5-d20977e8316a\", \"x\": [2009, 2010, 2011, 2012, 2013, 2014, 2015, 2016, 2017, 2018, 2019], \"y\": [877.6099790000001, 20509.274596999996, 69336.92610200001, 138974.41226299998, 405819.35239800013, 421216.2928169998, 637369.9734149995, 772153.9161730018, 1155718.9153080005, 1409549.665818001, 1379155.8304800007]}, {\"name\": \"brain\", \"type\": \"scatter\", \"uid\": \"d5c604b0-71a0-4d3b-bf56-722c32f2df09\", \"x\": [2009, 2010, 2011, 2012, 2013, 2014, 2015, 2016, 2017, 2018, 2019], \"y\": [924.7366110000003, 10868.682637999997, 82303.06876300002, 104149.81800800003, 245027.16887599992, 308078.001873, 481956.68018899986, 403153.97346499976, 384884.93215700035, 389898.93255800003, 370773.06337200024]}, {\"name\": \"technology\", \"type\": \"scatter\", \"uid\": \"05b3d118-7151-4ece-8ca9-85e5527c599f\", \"x\": [2009, 2010, 2011, 2012, 2013, 2014, 2015, 2016, 2017, 2018, 2019], \"y\": [742.7301829999999, 10111.817112000006, 17375.100719000002, 45307.72726499994, 295162.3405869996, 133833.48881299977, 256396.19158900043, 231109.8370390005, 286477.88786700025, 250639.9388619994, 744890.8671399981]}, {\"name\": \"cities\", \"type\": \"scatter\", \"uid\": \"d84ed41a-bb9f-4586-b062-25456f2c56e1\", \"x\": [2009, 2010, 2011, 2012, 2013, 2014, 2015, 2016, 2017, 2018, 2019], \"y\": [12747.531041999999, 10096.535870999998, 27320.540152999998, 51116.858518000015, 112496.14302900004, 150140.69889299976, 313741.4907639999, 348300.9923490003, 316985.79885199975, 228358.2316429997, 388299.3921970011]}, {\"name\": \"art and comunication\", \"type\": \"scatter\", \"uid\": \"fe7c3d32-3cc7-490c-8733-e8d4854b8002\", \"x\": [2009, 2010, 2011, 2012, 2013, 2014, 2015, 2016, 2017, 2018, 2019], \"y\": [2579.30401, 8273.830701999994, 24513.653133, 82591.48717900005, 196997.58967399996, 139409.20066000006, 188176.90636800014, 226003.8426679997, 308509.2713019997, 243300.4562339998, 526406.9504839996]}, {\"name\": \"education\", \"type\": \"scatter\", \"uid\": \"d92ae87f-a3d4-400c-9879-c51f6443827b\", \"x\": [2009, 2010, 2011, 2012, 2013, 2014, 2015, 2016, 2017, 2018, 2019], \"y\": [143.134679, 5983.895695999999, 19240.313777999996, 30678.137056000003, 114669.91587099993, 82425.28397900006, 206572.97599099964, 181352.66861400017, 246557.3285340002, 159845.34566099974, 153392.84167799985]}, {\"name\": \"food\", \"type\": \"scatter\", \"uid\": \"89173f2e-a7d8-4ebe-b82e-b516e497350c\", \"x\": [2009, 2010, 2011, 2012, 2013, 2014, 2015, 2016, 2017, 2018, 2019], \"y\": [177.76678400000003, 7139.538532, 16362.950022999998, 42051.543244000095, 82093.28565900006, 65400.72986100002, 72976.35504599994, 108210.91683600008, 91510.76285499994, 239339.44571699973, 464265.8089029993]}, {\"name\": \"performance\", \"type\": \"scatter\", \"uid\": \"a08dc8f9-31d4-49c3-ae5f-2ffcd06ab3cc\", \"x\": [2009, 2010, 2011, 2012, 2013, 2014, 2015, 2016, 2017, 2018, 2019], \"y\": [105.094118, 4598.508558000001, 21871.568188999994, 21743.459126999987, 62072.82485299998, 51652.86773200005, 60685.55436599999, 44862.146065999994, 104548.10393200007, 217475.18677600002, 226195.79062099982]}, {\"name\": \"gender\", \"type\": \"scatter\", \"uid\": \"763142fe-da6e-43b3-9fab-d1f2a37d331b\", \"x\": [2009, 2010, 2011, 2012, 2013, 2014, 2015, 2016, 2017, 2018, 2019], \"y\": [12.085162, 1166.496708, 6368.975462999999, 46176.757012000024, 153741.86006099998, 69062.29757199998, 148509.680011, 297820.0621899997, 461247.41716899956, 251823.7444270001, 537838.7130380002]}],\n",
       "                        {\"title\": {\"text\": \"Categories\"}, \"xaxis\": {\"tickvals\": [2009, 2010, 2011, 2012, 2013, 2014, 2015, 2016, 2017, 2018, 2019], \"title\": {\"text\": \"Year\"}}, \"yaxis\": {\"title\": {\"text\": \"sum of(views / week)\"}}},\n",
       "                        {\"showLink\": false, \"linkText\": \"Export to plot.ly\", \"plotlyServerURL\": \"https://plot.ly\", \"responsive\": true}\n",
       "                    ).then(function(){\n",
       "                            \n",
       "var gd = document.getElementById('7a2f0379-d2fa-4271-8b3d-17cef2d1bc42');\n",
       "var x = new MutationObserver(function (mutations, observer) {{\n",
       "        var display = window.getComputedStyle(gd).display;\n",
       "        if (!display || display === 'none') {{\n",
       "            console.log([gd, 'removed!']);\n",
       "            Plotly.purge(gd);\n",
       "            observer.disconnect();\n",
       "        }}\n",
       "}});\n",
       "\n",
       "// Listen for the removal of the full notebook cells\n",
       "var notebookContainer = gd.closest('#notebook-container');\n",
       "if (notebookContainer) {{\n",
       "    x.observe(notebookContainer, {childList: true});\n",
       "}}\n",
       "\n",
       "// Listen for the clearing of the current output cell\n",
       "var outputEl = gd.closest('.output');\n",
       "if (outputEl) {{\n",
       "    x.observe(outputEl, {childList: true});\n",
       "}}\n",
       "\n",
       "                        })\n",
       "                };\n",
       "                });\n",
       "            </script>\n",
       "        </div>"
      ]
     },
     "metadata": {},
     "output_type": "display_data"
    }
   ],
   "source": [
    "categories = talks.catName.unique()\n",
    "dataToPlot = []\n",
    "for cname in categories:\n",
    "    data = talks[(talks.catName==cname)].groupby('year').sum()\n",
    "    dataToPlot.append(\n",
    "        go.Line(\n",
    "            name=cname,\n",
    "            x= data.index.values,\n",
    "            y= data.viewsWeek,\n",
    "        )\n",
    "    )\n",
    "layout = go.Layout(\n",
    "    title='Categories',\n",
    "    yaxis = dict(\n",
    "        title='sum of(views / week)',\n",
    "    ),\n",
    "    xaxis = dict(\n",
    "        title='Year',\n",
    "        tickvals = list(range(2009, 2020)),\n",
    "    )\n",
    ")\n",
    "fig = go.Figure(data=dataToPlot, layout=layout)\n",
    "iplot(fig)"
   ]
  },
  {
   "cell_type": "code",
   "execution_count": 76,
   "metadata": {},
   "outputs": [
    {
     "name": "stderr",
     "output_type": "stream",
     "text": [
      "C:\\Users\\matias\\AppData\\Roaming\\Python\\Python36\\site-packages\\plotly\\graph_objs\\_deprecations.py:372: DeprecationWarning:\n",
      "\n",
      "plotly.graph_objs.Line is deprecated.\n",
      "Please replace it with one of the following more specific types\n",
      "  - plotly.graph_objs.scatter.Line\n",
      "  - plotly.graph_objs.layout.shape.Line\n",
      "  - etc.\n",
      "\n",
      "\n"
     ]
    },
    {
     "data": {
      "application/vnd.plotly.v1+json": {
       "config": {
        "linkText": "Export to plot.ly",
        "plotlyServerURL": "https://plot.ly",
        "responsive": true,
        "showLink": false
       },
       "data": [
        {
         "name": "United Kingdom",
         "type": "scatter",
         "uid": "f0b86d37-aa6e-48cb-a06d-41f2a45f20bc",
         "x": [
          2010,
          2011,
          2012,
          2013,
          2014,
          2015,
          2016,
          2017,
          2018,
          2019
         ],
         "y": [
          1,
          1,
          6,
          11,
          27,
          47,
          33,
          57,
          41,
          57
         ]
        },
        {
         "name": "India",
         "type": "scatter",
         "uid": "2e292112-f18a-48b0-97b5-f05b21d336e3",
         "x": [
          2010,
          2012,
          2013,
          2014,
          2015,
          2016,
          2017,
          2018,
          2019
         ],
         "y": [
          1,
          6,
          7,
          8,
          25,
          29,
          38,
          47,
          82
         ]
        },
        {
         "name": "Canada",
         "type": "scatter",
         "uid": "36b9344f-b3e3-4ee2-9b34-0bf21c9b687c",
         "x": [
          2010,
          2011,
          2012,
          2013,
          2014,
          2015,
          2016,
          2017,
          2018,
          2019
         ],
         "y": [
          3,
          2,
          1,
          9,
          13,
          21,
          19,
          27,
          21,
          44
         ]
        },
        {
         "name": "Spain",
         "type": "scatter",
         "uid": "edc5708d-02f6-479c-86f7-597657b21c89",
         "x": [
          2011,
          2012,
          2013,
          2014,
          2015,
          2016,
          2017,
          2018,
          2019
         ],
         "y": [
          3,
          2,
          35,
          2,
          25,
          11,
          23,
          19,
          19
         ]
        },
        {
         "name": "Mexico",
         "type": "scatter",
         "uid": "190e4aee-e14b-4cb2-bed5-31f09c32b9b1",
         "x": [
          2011,
          2012,
          2013,
          2014,
          2015,
          2016,
          2017,
          2018,
          2019
         ],
         "y": [
          1,
          2,
          3,
          5,
          13,
          26,
          15,
          24,
          34
         ]
        }
       ],
       "layout": {
        "title": {
         "text": "Gender talks by country"
        },
        "xaxis": {
         "tickvals": [
          2009,
          2010,
          2011,
          2012,
          2013,
          2014,
          2015,
          2016,
          2017,
          2018,
          2019
         ],
         "title": {
          "text": "Year"
         }
        },
        "yaxis": {
         "title": {
          "text": "n of talks"
         }
        }
       }
      },
      "text/html": [
       "<div>\n",
       "        \n",
       "        \n",
       "            <div id=\"3beb2b9e-a3da-4671-9da7-e9db8d1f053a\" class=\"plotly-graph-div\" style=\"height:525px; width:100%;\"></div>\n",
       "            <script type=\"text/javascript\">\n",
       "                require([\"plotly\"], function(Plotly) {\n",
       "                    window.PLOTLYENV=window.PLOTLYENV || {};\n",
       "                    window.PLOTLYENV.BASE_URL='https://plot.ly';\n",
       "                    \n",
       "                if (document.getElementById(\"3beb2b9e-a3da-4671-9da7-e9db8d1f053a\")) {\n",
       "                    Plotly.newPlot(\n",
       "                        '3beb2b9e-a3da-4671-9da7-e9db8d1f053a',\n",
       "                        [{\"name\": \"United Kingdom\", \"type\": \"scatter\", \"uid\": \"70961232-a394-4fad-aea8-ab9aa595e55e\", \"x\": [2010, 2011, 2012, 2013, 2014, 2015, 2016, 2017, 2018, 2019], \"y\": [1, 1, 6, 11, 27, 47, 33, 57, 41, 57]}, {\"name\": \"India\", \"type\": \"scatter\", \"uid\": \"1fd74e81-5c2b-4e26-988d-df90ba7a4ed2\", \"x\": [2010, 2012, 2013, 2014, 2015, 2016, 2017, 2018, 2019], \"y\": [1, 6, 7, 8, 25, 29, 38, 47, 82]}, {\"name\": \"Canada\", \"type\": \"scatter\", \"uid\": \"9244e53e-a33b-41dc-9e80-a1abc25a1ef8\", \"x\": [2010, 2011, 2012, 2013, 2014, 2015, 2016, 2017, 2018, 2019], \"y\": [3, 2, 1, 9, 13, 21, 19, 27, 21, 44]}, {\"name\": \"Spain\", \"type\": \"scatter\", \"uid\": \"6571f9c9-d379-4450-ac5d-ad48a38c792e\", \"x\": [2011, 2012, 2013, 2014, 2015, 2016, 2017, 2018, 2019], \"y\": [3, 2, 35, 2, 25, 11, 23, 19, 19]}, {\"name\": \"Mexico\", \"type\": \"scatter\", \"uid\": \"520423ab-b2ad-4e6d-ad26-07a8d7553656\", \"x\": [2011, 2012, 2013, 2014, 2015, 2016, 2017, 2018, 2019], \"y\": [1, 2, 3, 5, 13, 26, 15, 24, 34]}],\n",
       "                        {\"title\": {\"text\": \"Gender talks by country\"}, \"xaxis\": {\"tickvals\": [2009, 2010, 2011, 2012, 2013, 2014, 2015, 2016, 2017, 2018, 2019], \"title\": {\"text\": \"Year\"}}, \"yaxis\": {\"title\": {\"text\": \"n of talks\"}}},\n",
       "                        {\"showLink\": false, \"linkText\": \"Export to plot.ly\", \"plotlyServerURL\": \"https://plot.ly\", \"responsive\": true}\n",
       "                    ).then(function(){\n",
       "                            \n",
       "var gd = document.getElementById('3beb2b9e-a3da-4671-9da7-e9db8d1f053a');\n",
       "var x = new MutationObserver(function (mutations, observer) {{\n",
       "        var display = window.getComputedStyle(gd).display;\n",
       "        if (!display || display === 'none') {{\n",
       "            console.log([gd, 'removed!']);\n",
       "            Plotly.purge(gd);\n",
       "            observer.disconnect();\n",
       "        }}\n",
       "}});\n",
       "\n",
       "// Listen for the removal of the full notebook cells\n",
       "var notebookContainer = gd.closest('#notebook-container');\n",
       "if (notebookContainer) {{\n",
       "    x.observe(notebookContainer, {childList: true});\n",
       "}}\n",
       "\n",
       "// Listen for the clearing of the current output cell\n",
       "var outputEl = gd.closest('.output');\n",
       "if (outputEl) {{\n",
       "    x.observe(outputEl, {childList: true});\n",
       "}}\n",
       "\n",
       "                        })\n",
       "                };\n",
       "                });\n",
       "            </script>\n",
       "        </div>"
      ]
     },
     "metadata": {},
     "output_type": "display_data"
    }
   ],
   "source": [
    "dataDf = talks[talks.catName=='gender'].groupby('country').count().sort_values('title', ascending=False).iloc[1:6]\n",
    "\n",
    "dataToPlot = []\n",
    "for cname in dataDf.index.values:\n",
    "    data = talks[(talks.catName=='gender') & (talks.country==cname)].groupby('year').count()\n",
    "    dataToPlot.append(\n",
    "        go.Line(\n",
    "            name=cname,\n",
    "            x= data.index.values,\n",
    "            y= data.viewsWeek,\n",
    "        )\n",
    "    )\n",
    "layout = go.Layout(\n",
    "    title='Gender talks by country',\n",
    "    yaxis = dict(\n",
    "        title='n of talks',\n",
    "    ),\n",
    "    xaxis = dict(\n",
    "        title='Year',\n",
    "        tickvals = list(range(2009, 2020)),\n",
    "    )\n",
    ")\n",
    "fig = go.Figure(data=dataToPlot, layout=layout)\n",
    "iplot(fig)"
   ]
  },
  {
   "cell_type": "code",
   "execution_count": 166,
   "metadata": {},
   "outputs": [
    {
     "data": {
      "application/vnd.plotly.v1+json": {
       "config": {
        "linkText": "Export to plot.ly",
        "plotlyServerURL": "https://plot.ly",
        "responsive": true,
        "showLink": false
       },
       "data": [
        {
         "name": "Mexico",
         "text": [
          0.13,
          0.11,
          0.09,
          0.09,
          0.09,
          0.08,
          0.08,
          0.08,
          0.07,
          0.07,
          0.07,
          0.07,
          0.07,
          0.07,
          0.07,
          0.07,
          0.07,
          0.06,
          0.06,
          0.06
         ],
         "textposition": "auto",
         "type": "bar",
         "uid": "c5ebedee-e821-492f-ba29-e26825c42ea8",
         "x": [
          "Kenya (26 of 196 talks)",
          "Kazakhstan (15 of 137 talks)",
          "Armenia (18 of 190 talks)",
          "Lebanon (10 of 115 talks)",
          "Cyprus (14 of 164 talks)",
          "South Africa (41 of 504 talks)",
          "Colombia (57 of 734 talks)",
          "Chile (26 of 344 talks)",
          "Switzerland (56 of 758 talks)",
          "Ecuador (20 of 275 talks)",
          "Sweden (36 of 510 talks)",
          "Ireland (24 of 341 talks)",
          "Pakistan (18 of 263 talks)",
          "Vietnam (9 of 135 talks)",
          "United Arab Emirates (44 of 668 talks)",
          "United Kingdom (281 of 4282 talks)",
          "Brazil (115 of 1769 talks)",
          "Costa Rica (21 of 326 talks)",
          "Mexico (123 of 1922 talks)",
          "India (243 of 3852 talks)"
         ],
         "y": [
          0.1326530612244898,
          0.10948905109489052,
          0.09473684210526316,
          0.08695652173913043,
          0.08536585365853659,
          0.08134920634920635,
          0.0776566757493188,
          0.0755813953488372,
          0.07387862796833773,
          0.07272727272727272,
          0.07058823529411765,
          0.07038123167155426,
          0.06844106463878327,
          0.06666666666666667,
          0.0658682634730539,
          0.06562354040168146,
          0.06500847936687394,
          0.06441717791411043,
          0.0639958376690947,
          0.0630841121495327
         ]
        }
       ],
       "layout": {
        "margin": {
         "b": 150
        },
        "title": {
         "text": "% of gender talks by country"
        },
        "xaxis": {
         "title": {
          "text": "Country"
         }
        },
        "yaxis": {
         "title": {
          "text": "n of talks"
         }
        }
       }
      },
      "text/html": [
       "<div>\n",
       "        \n",
       "        \n",
       "            <div id=\"68271e82-99b4-4798-a94a-8488b92fa89a\" class=\"plotly-graph-div\" style=\"height:525px; width:100%;\"></div>\n",
       "            <script type=\"text/javascript\">\n",
       "                require([\"plotly\"], function(Plotly) {\n",
       "                    window.PLOTLYENV=window.PLOTLYENV || {};\n",
       "                    window.PLOTLYENV.BASE_URL='https://plot.ly';\n",
       "                    \n",
       "                if (document.getElementById(\"68271e82-99b4-4798-a94a-8488b92fa89a\")) {\n",
       "                    Plotly.newPlot(\n",
       "                        '68271e82-99b4-4798-a94a-8488b92fa89a',\n",
       "                        [{\"name\": \"Mexico\", \"text\": [0.13, 0.11, 0.09, 0.09, 0.09, 0.08, 0.08, 0.08, 0.07, 0.07, 0.07, 0.07, 0.07, 0.07, 0.07, 0.07, 0.07, 0.06, 0.06, 0.06], \"textposition\": \"auto\", \"type\": \"bar\", \"uid\": \"dc2b0db4-f7f9-4daf-b1bc-ae9a8a095218\", \"x\": [\"Kenya (26 of 196 talks)\", \"Kazakhstan (15 of 137 talks)\", \"Armenia (18 of 190 talks)\", \"Lebanon (10 of 115 talks)\", \"Cyprus (14 of 164 talks)\", \"South Africa (41 of 504 talks)\", \"Colombia (57 of 734 talks)\", \"Chile (26 of 344 talks)\", \"Switzerland (56 of 758 talks)\", \"Ecuador (20 of 275 talks)\", \"Sweden (36 of 510 talks)\", \"Ireland (24 of 341 talks)\", \"Pakistan (18 of 263 talks)\", \"Vietnam (9 of 135 talks)\", \"United Arab Emirates (44 of 668 talks)\", \"United Kingdom (281 of 4282 talks)\", \"Brazil (115 of 1769 talks)\", \"Costa Rica (21 of 326 talks)\", \"Mexico (123 of 1922 talks)\", \"India (243 of 3852 talks)\"], \"y\": [0.1326530612244898, 0.10948905109489052, 0.09473684210526316, 0.08695652173913043, 0.08536585365853659, 0.08134920634920635, 0.0776566757493188, 0.0755813953488372, 0.07387862796833773, 0.07272727272727272, 0.07058823529411765, 0.07038123167155426, 0.06844106463878327, 0.06666666666666667, 0.0658682634730539, 0.06562354040168146, 0.06500847936687394, 0.06441717791411043, 0.0639958376690947, 0.0630841121495327]}],\n",
       "                        {\"margin\": {\"b\": 150}, \"title\": {\"text\": \"% of gender talks by country\"}, \"xaxis\": {\"title\": {\"text\": \"Country\"}}, \"yaxis\": {\"title\": {\"text\": \"n of talks\"}}},\n",
       "                        {\"showLink\": false, \"linkText\": \"Export to plot.ly\", \"plotlyServerURL\": \"https://plot.ly\", \"responsive\": true}\n",
       "                    ).then(function(){\n",
       "                            \n",
       "var gd = document.getElementById('68271e82-99b4-4798-a94a-8488b92fa89a');\n",
       "var x = new MutationObserver(function (mutations, observer) {{\n",
       "        var display = window.getComputedStyle(gd).display;\n",
       "        if (!display || display === 'none') {{\n",
       "            console.log([gd, 'removed!']);\n",
       "            Plotly.purge(gd);\n",
       "            observer.disconnect();\n",
       "        }}\n",
       "}});\n",
       "\n",
       "// Listen for the removal of the full notebook cells\n",
       "var notebookContainer = gd.closest('#notebook-container');\n",
       "if (notebookContainer) {{\n",
       "    x.observe(notebookContainer, {childList: true});\n",
       "}}\n",
       "\n",
       "// Listen for the clearing of the current output cell\n",
       "var outputEl = gd.closest('.output');\n",
       "if (outputEl) {{\n",
       "    x.observe(outputEl, {childList: true});\n",
       "}}\n",
       "\n",
       "                        })\n",
       "                };\n",
       "                });\n",
       "            </script>\n",
       "        </div>"
      ]
     },
     "metadata": {},
     "output_type": "display_data"
    }
   ],
   "source": [
    "data = talks.groupby('country').apply(\n",
    "    lambda df: len(df[df.catName=='gender']) / len(df)\n",
    ")[(talks.groupby('country').count() > 100).title.values].sort_values(ascending=False)[:20]\n",
    "\n",
    "talks[talks.country==data.index[0]]\n",
    "# for i in data.index:\n",
    "#     print(i, data[i])\n",
    "\n",
    "x = data.index.map(\n",
    "    lambda x: x+' (%d of %d talks)'% (len(talks[(talks.country==x)&(talks.catName=='gender')]), len(talks[(talks.country==x)]))\n",
    ")\n",
    "\n",
    "trace1 = go.Bar(\n",
    "    name=cname,\n",
    "    x= x,\n",
    "    y= data.values,\n",
    "    text=data.map(lambda x: round(x,2)),\n",
    "    textposition='auto'\n",
    ")\n",
    "layout = go.Layout(\n",
    "    title='% of gender talks by country',\n",
    "    yaxis = dict(\n",
    "        title='n of talks',\n",
    "    ),\n",
    "    xaxis = dict(\n",
    "        title='Country',\n",
    "#         tickvals = data.index.map(\n",
    "#             lambda x: x+' 10'\n",
    "#         ),\n",
    "    ),\n",
    "    margin=dict(b=150),\n",
    ")\n",
    "fig = go.Figure(data=[trace1], layout=layout)\n",
    "iplot(fig)"
   ]
  },
  {
   "cell_type": "code",
   "execution_count": 48,
   "metadata": {},
   "outputs": [
    {
     "name": "stderr",
     "output_type": "stream",
     "text": [
      "C:\\Users\\matias\\AppData\\Roaming\\Python\\Python36\\site-packages\\pandas\\core\\indexing.py:480: SettingWithCopyWarning:\n",
      "\n",
      "\n",
      "A value is trying to be set on a copy of a slice from a DataFrame.\n",
      "Try using .loc[row_indexer,col_indexer] = value instead\n",
      "\n",
      "See the caveats in the documentation: http://pandas.pydata.org/pandas-docs/stable/user_guide/indexing.html#returning-a-view-versus-a-copy\n",
      "\n"
     ]
    },
    {
     "data": {
      "application/vnd.plotly.v1+json": {
       "config": {
        "linkText": "Export to plot.ly",
        "plotlyServerURL": "https://plot.ly",
        "responsive": true,
        "showLink": false
       },
       "data": [
        {
         "name": "Argentina",
         "type": "bar",
         "uid": "44523997-a76c-49e0-8ce0-a16c8ab49546",
         "x": [
          2010,
          2011,
          2012,
          2013,
          2014,
          2015,
          2016,
          2017,
          2018,
          2019
         ],
         "y": [
          1790658,
          2012781,
          4004149,
          9462492,
          11106780,
          17691797,
          14910948,
          9048081,
          6178089,
          2980848
         ]
        }
       ],
       "layout": {
        "title": {
         "text": "Argentina"
        },
        "xaxis": {
         "tickvals": [
          2010,
          2011,
          2012,
          2013,
          2014,
          2015,
          2016,
          2017,
          2018,
          2019
         ],
         "title": {
          "text": "Year"
         }
        },
        "yaxis": {
         "title": {
          "text": "Views"
         }
        }
       }
      },
      "text/html": [
       "<div>\n",
       "        \n",
       "        \n",
       "            <div id=\"165146eb-a06b-4b81-b0b9-6d9f37776ef7\" class=\"plotly-graph-div\" style=\"height:525px; width:100%;\"></div>\n",
       "            <script type=\"text/javascript\">\n",
       "                require([\"plotly\"], function(Plotly) {\n",
       "                    window.PLOTLYENV=window.PLOTLYENV || {};\n",
       "                    window.PLOTLYENV.BASE_URL='https://plot.ly';\n",
       "                    \n",
       "                if (document.getElementById(\"165146eb-a06b-4b81-b0b9-6d9f37776ef7\")) {\n",
       "                    Plotly.newPlot(\n",
       "                        '165146eb-a06b-4b81-b0b9-6d9f37776ef7',\n",
       "                        [{\"name\": \"Argentina\", \"type\": \"bar\", \"uid\": \"f07b553c-6167-4801-b3a5-cb3a002fe7ba\", \"x\": [2010, 2011, 2012, 2013, 2014, 2015, 2016, 2017, 2018, 2019], \"y\": [1790658, 2012781, 4004149, 9462492, 11106780, 17691797, 14910948, 9048081, 6178089, 2980848]}],\n",
       "                        {\"title\": {\"text\": \"Argentina\"}, \"xaxis\": {\"tickvals\": [2010, 2011, 2012, 2013, 2014, 2015, 2016, 2017, 2018, 2019], \"title\": {\"text\": \"Year\"}}, \"yaxis\": {\"title\": {\"text\": \"Views\"}}},\n",
       "                        {\"showLink\": false, \"linkText\": \"Export to plot.ly\", \"plotlyServerURL\": \"https://plot.ly\", \"responsive\": true}\n",
       "                    ).then(function(){\n",
       "                            \n",
       "var gd = document.getElementById('165146eb-a06b-4b81-b0b9-6d9f37776ef7');\n",
       "var x = new MutationObserver(function (mutations, observer) {{\n",
       "        var display = window.getComputedStyle(gd).display;\n",
       "        if (!display || display === 'none') {{\n",
       "            console.log([gd, 'removed!']);\n",
       "            Plotly.purge(gd);\n",
       "            observer.disconnect();\n",
       "        }}\n",
       "}});\n",
       "\n",
       "// Listen for the removal of the full notebook cells\n",
       "var notebookContainer = gd.closest('#notebook-container');\n",
       "if (notebookContainer) {{\n",
       "    x.observe(notebookContainer, {childList: true});\n",
       "}}\n",
       "\n",
       "// Listen for the clearing of the current output cell\n",
       "var outputEl = gd.closest('.output');\n",
       "if (outputEl) {{\n",
       "    x.observe(outputEl, {childList: true});\n",
       "}}\n",
       "\n",
       "                        })\n",
       "                };\n",
       "                });\n",
       "            </script>\n",
       "        </div>"
      ]
     },
     "metadata": {},
     "output_type": "display_data"
    }
   ],
   "source": [
    "dfToPlotA = talks[talks.country=='Argentina']\n",
    "dfToPlotA.loc[:, 'year'] = dfToPlotA.publishDate.dt.year\n",
    "dfToPlot = dfToPlotA.groupby('year').sum()\n",
    "\n",
    "trace1 = go.Bar(\n",
    "    name='Argentina',\n",
    "    x= dfToPlot.index.values,\n",
    "    y= dfToPlot.views,\n",
    ")\n",
    "layout = go.Layout(\n",
    "    title='Argentina',\n",
    "    yaxis = dict(\n",
    "#         range = [0, 50000],\n",
    "        title='Views',\n",
    "    ),\n",
    "    xaxis = dict(\n",
    "        title='Year',\n",
    "#         range=[0,0.08]\n",
    "        tickvals = list(range(2010, 2020)),\n",
    "#         ticktext = nombres_grupos\n",
    "    )\n",
    ")\n",
    "fig = go.Figure(data=[trace1], layout=layout)\n",
    "iplot(fig)"
   ]
  },
  {
   "cell_type": "code",
   "execution_count": null,
   "metadata": {},
   "outputs": [],
   "source": []
  }
 ],
 "metadata": {
  "kernelspec": {
   "display_name": "Python 3",
   "language": "python",
   "name": "python3"
  },
  "language_info": {
   "codemirror_mode": {
    "name": "ipython",
    "version": 3
   },
   "file_extension": ".py",
   "mimetype": "text/x-python",
   "name": "python",
   "nbconvert_exporter": "python",
   "pygments_lexer": "ipython3",
   "version": "3.6.5"
  }
 },
 "nbformat": 4,
 "nbformat_minor": 2
}
