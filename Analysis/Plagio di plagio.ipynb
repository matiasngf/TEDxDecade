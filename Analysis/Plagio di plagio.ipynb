{
 "cells": [
  {
   "cell_type": "code",
   "execution_count": 1,
   "metadata": {},
   "outputs": [
    {
     "data": {
      "text/html": [
       "        <script type=\"text/javascript\">\n",
       "        window.PlotlyConfig = {MathJaxConfig: 'local'};\n",
       "        if (window.MathJax) {MathJax.Hub.Config({SVG: {font: \"STIX-Web\"}});}\n",
       "        if (typeof require !== 'undefined') {\n",
       "        require.undef(\"plotly\");\n",
       "        requirejs.config({\n",
       "            paths: {\n",
       "                'plotly': ['https://cdn.plot.ly/plotly-latest.min']\n",
       "            }\n",
       "        });\n",
       "        require(['plotly'], function(Plotly) {\n",
       "            window._Plotly = Plotly;\n",
       "        });\n",
       "        }\n",
       "        </script>\n",
       "        "
      ]
     },
     "metadata": {},
     "output_type": "display_data"
    }
   ],
   "source": [
    "import pandas as pd\n",
    "import numpy as np\n",
    "import requests\n",
    "from IPython.display import HTML, display\n",
    "from bs4 import BeautifulSoup\n",
    "from bs4 import Comment\n",
    "import json\n",
    "import html\n",
    "import re\n",
    "import urllib.parse\n",
    "from threading import Thread\n",
    "from html import unescape\n",
    "from sklearn.feature_extraction.text import CountVectorizer\n",
    "from sklearn.feature_extraction.text import TfidfTransformer\n",
    "from sklearn.decomposition import LatentDirichletAllocation as LDA\n",
    "from sklearn.decomposition import NMF\n",
    "from sklearn.feature_extraction import text\n",
    "from sklearn.feature_extraction.text import TfidfVectorizer\n",
    "from sklearn.cluster import KMeans\n",
    "from nltk.tokenize import sent_tokenize, word_tokenize\n",
    "import seaborn as sns\n",
    "import datetime as datetime\n",
    "import matplotlib.pyplot as plt\n",
    "\n",
    "import plotly\n",
    "import plotly.graph_objs as go\n",
    "from plotly.offline import download_plotlyjs, init_notebook_mode, plot, iplot\n",
    "init_notebook_mode(connected=True)"
   ]
  },
  {
   "cell_type": "code",
   "execution_count": 2,
   "metadata": {},
   "outputs": [
    {
     "data": {
      "text/html": [
       "<div>\n",
       "<style scoped>\n",
       "    .dataframe tbody tr th:only-of-type {\n",
       "        vertical-align: middle;\n",
       "    }\n",
       "\n",
       "    .dataframe tbody tr th {\n",
       "        vertical-align: top;\n",
       "    }\n",
       "\n",
       "    .dataframe thead th {\n",
       "        text-align: right;\n",
       "    }\n",
       "</style>\n",
       "<table border=\"1\" class=\"dataframe\">\n",
       "  <thead>\n",
       "    <tr style=\"text-align: right;\">\n",
       "      <th></th>\n",
       "      <th>title</th>\n",
       "      <th>speaker</th>\n",
       "      <th>event</th>\n",
       "      <th>videoId</th>\n",
       "      <th>titleRaw</th>\n",
       "      <th>publishedTimeRaw</th>\n",
       "      <th>likes</th>\n",
       "      <th>dislikes</th>\n",
       "      <th>lengthSeconds</th>\n",
       "      <th>keywords</th>\n",
       "      <th>views</th>\n",
       "      <th>videoDescription</th>\n",
       "      <th>currentDate</th>\n",
       "      <th>publishDate</th>\n",
       "      <th>text</th>\n",
       "      <th>nouns</th>\n",
       "    </tr>\n",
       "  </thead>\n",
       "  <tbody>\n",
       "    <tr>\n",
       "      <th>-eLgCDFKD7s</th>\n",
       "      <td>The Art of living with Leopards</td>\n",
       "      <td>Nikit Surve</td>\n",
       "      <td>TEDxVileParle</td>\n",
       "      <td>-eLgCDFKD7s</td>\n",
       "      <td>The Art of living with Leopards | Nikit Surve ...</td>\n",
       "      <td>7 months ago</td>\n",
       "      <td>10</td>\n",
       "      <td>0</td>\n",
       "      <td>1006</td>\n",
       "      <td>[TEDxTalks, English, Global Issues, Animals]</td>\n",
       "      <td>544</td>\n",
       "      <td>Nikit talks about wildlife and his work within...</td>\n",
       "      <td>1.57697e+09</td>\n",
       "      <td>2019-05-17 00:00:00</td>\n",
       "      <td>I don't have never was in Mumbai so muchall of...</td>\n",
       "      <td>mumbai muchall cause three-second ofthe pinto ...</td>\n",
       "    </tr>\n",
       "    <tr>\n",
       "      <th>DF4ipJE_t_A</th>\n",
       "      <td>Paisajes invisibles</td>\n",
       "      <td>Francisco García &amp; Manuel Bugallo</td>\n",
       "      <td>TEDxGalicia</td>\n",
       "      <td>DF4ipJE_t_A</td>\n",
       "      <td>Paisajes invisibles | Francisco García &amp; Manue...</td>\n",
       "      <td>7 months ago</td>\n",
       "      <td>21</td>\n",
       "      <td>0</td>\n",
       "      <td>723</td>\n",
       "      <td>[TEDxTalks, Spanish, Global Issues, Environment]</td>\n",
       "      <td>761</td>\n",
       "      <td>Fran y Manuel nos ofrecen una mirada diferente...</td>\n",
       "      <td>1.57699e+09</td>\n",
       "      <td>2019-05-17 00:00:00</td>\n",
       "      <td>I always loved the Mediterranean maybe because...</td>\n",
       "      <td>mediterranean north phrase feride scenography ...</td>\n",
       "    </tr>\n",
       "  </tbody>\n",
       "</table>\n",
       "</div>"
      ],
      "text/plain": [
       "                                       title  \\\n",
       "-eLgCDFKD7s  The Art of living with Leopards   \n",
       "DF4ipJE_t_A              Paisajes invisibles   \n",
       "\n",
       "                                       speaker          event      videoId  \\\n",
       "-eLgCDFKD7s                        Nikit Surve  TEDxVileParle  -eLgCDFKD7s   \n",
       "DF4ipJE_t_A  Francisco García & Manuel Bugallo    TEDxGalicia  DF4ipJE_t_A   \n",
       "\n",
       "                                                      titleRaw  \\\n",
       "-eLgCDFKD7s  The Art of living with Leopards | Nikit Surve ...   \n",
       "DF4ipJE_t_A  Paisajes invisibles | Francisco García & Manue...   \n",
       "\n",
       "            publishedTimeRaw  likes  dislikes  lengthSeconds  \\\n",
       "-eLgCDFKD7s     7 months ago     10         0           1006   \n",
       "DF4ipJE_t_A     7 months ago     21         0            723   \n",
       "\n",
       "                                                     keywords  views  \\\n",
       "-eLgCDFKD7s      [TEDxTalks, English, Global Issues, Animals]    544   \n",
       "DF4ipJE_t_A  [TEDxTalks, Spanish, Global Issues, Environment]    761   \n",
       "\n",
       "                                              videoDescription  currentDate  \\\n",
       "-eLgCDFKD7s  Nikit talks about wildlife and his work within...  1.57697e+09   \n",
       "DF4ipJE_t_A  Fran y Manuel nos ofrecen una mirada diferente...  1.57699e+09   \n",
       "\n",
       "                     publishDate  \\\n",
       "-eLgCDFKD7s  2019-05-17 00:00:00   \n",
       "DF4ipJE_t_A  2019-05-17 00:00:00   \n",
       "\n",
       "                                                          text  \\\n",
       "-eLgCDFKD7s  I don't have never was in Mumbai so muchall of...   \n",
       "DF4ipJE_t_A  I always loved the Mediterranean maybe because...   \n",
       "\n",
       "                                                         nouns  \n",
       "-eLgCDFKD7s  mumbai muchall cause three-second ofthe pinto ...  \n",
       "DF4ipJE_t_A  mediterranean north phrase feride scenography ...  "
      ]
     },
     "execution_count": 2,
     "metadata": {},
     "output_type": "execute_result"
    }
   ],
   "source": [
    "talks = pd.read_pickle('../datasets/videosData.pkl')\n",
    "talks.head(2)"
   ]
  },
  {
   "cell_type": "code",
   "execution_count": 10,
   "metadata": {},
   "outputs": [
    {
     "data": {
      "text/plain": [
       "78391"
      ]
     },
     "execution_count": 10,
     "metadata": {},
     "output_type": "execute_result"
    }
   ],
   "source": [
    "len(talks)"
   ]
  },
  {
   "cell_type": "code",
   "execution_count": 3,
   "metadata": {},
   "outputs": [],
   "source": [
    "import pickle\n",
    "with open('../models/vectorsTalks.pkl', 'rb') as pkl_vec:\n",
    "    vectorizer = pickle.load(pkl_vec)\n",
    "X = vectorizer.transform(talks.nouns)"
   ]
  },
  {
   "cell_type": "code",
   "execution_count": 4,
   "metadata": {},
   "outputs": [
    {
     "data": {
      "text/plain": [
       "array([    0, 46309,  8422, 26672], dtype=int64)"
      ]
     },
     "execution_count": 4,
     "metadata": {},
     "output_type": "execute_result"
    }
   ],
   "source": [
    "from sklearn.metrics.pairwise import linear_kernel\n",
    "\n",
    "cosine_similarities = linear_kernel(X[0], X).flatten()\n",
    "cosine_similarities.argsort()[:-5:-1]"
   ]
  },
  {
   "cell_type": "code",
   "execution_count": 5,
   "metadata": {},
   "outputs": [
    {
     "data": {
      "text/html": [
       "<div>\n",
       "<style scoped>\n",
       "    .dataframe tbody tr th:only-of-type {\n",
       "        vertical-align: middle;\n",
       "    }\n",
       "\n",
       "    .dataframe tbody tr th {\n",
       "        vertical-align: top;\n",
       "    }\n",
       "\n",
       "    .dataframe thead th {\n",
       "        text-align: right;\n",
       "    }\n",
       "</style>\n",
       "<table border=\"1\" class=\"dataframe\">\n",
       "  <thead>\n",
       "    <tr style=\"text-align: right;\">\n",
       "      <th></th>\n",
       "      <th>title</th>\n",
       "      <th>speaker</th>\n",
       "      <th>event</th>\n",
       "      <th>videoId</th>\n",
       "      <th>titleRaw</th>\n",
       "      <th>publishedTimeRaw</th>\n",
       "      <th>likes</th>\n",
       "      <th>dislikes</th>\n",
       "      <th>lengthSeconds</th>\n",
       "      <th>keywords</th>\n",
       "      <th>views</th>\n",
       "      <th>videoDescription</th>\n",
       "      <th>currentDate</th>\n",
       "      <th>publishDate</th>\n",
       "      <th>text</th>\n",
       "      <th>nouns</th>\n",
       "    </tr>\n",
       "  </thead>\n",
       "  <tbody>\n",
       "    <tr>\n",
       "      <th>-eLgCDFKD7s</th>\n",
       "      <td>The Art of living with Leopards</td>\n",
       "      <td>Nikit Surve</td>\n",
       "      <td>TEDxVileParle</td>\n",
       "      <td>-eLgCDFKD7s</td>\n",
       "      <td>The Art of living with Leopards | Nikit Surve ...</td>\n",
       "      <td>7 months ago</td>\n",
       "      <td>10</td>\n",
       "      <td>0</td>\n",
       "      <td>1006</td>\n",
       "      <td>[TEDxTalks, English, Global Issues, Animals]</td>\n",
       "      <td>544</td>\n",
       "      <td>Nikit talks about wildlife and his work within...</td>\n",
       "      <td>1.57697e+09</td>\n",
       "      <td>2019-05-17 00:00:00</td>\n",
       "      <td>I don't have never was in Mumbai so muchall of...</td>\n",
       "      <td>mumbai muchall cause three-second ofthe pinto ...</td>\n",
       "    </tr>\n",
       "    <tr>\n",
       "      <th>STvYyCjLvfU</th>\n",
       "      <td>How to travel ethically?</td>\n",
       "      <td>Innocent Mutanga</td>\n",
       "      <td>TEDxCUHK</td>\n",
       "      <td>STvYyCjLvfU</td>\n",
       "      <td>How to travel ethically? | Innocent Mutanga | ...</td>\n",
       "      <td>3 months ago</td>\n",
       "      <td>21</td>\n",
       "      <td>2</td>\n",
       "      <td>1344</td>\n",
       "      <td>[TEDxTalks, English, Global Issues, Globalizat...</td>\n",
       "      <td>680</td>\n",
       "      <td>Growing up in Zimbabwe at the tourist town of ...</td>\n",
       "      <td>1.57792e+09</td>\n",
       "      <td>2019-09-17 00:00:00</td>\n",
       "      <td>[Applause]okay and you guys see me alright ah ...</td>\n",
       "      <td>[ applause ] okay thing littletoo dark lights ...</td>\n",
       "    </tr>\n",
       "    <tr>\n",
       "      <th>IQfkFu5gPC0</th>\n",
       "      <td>How to be a Catalyst of Change for your society</td>\n",
       "      <td>Anirudh S Dutt</td>\n",
       "      <td>TEDxGlobalAcademy</td>\n",
       "      <td>IQfkFu5gPC0</td>\n",
       "      <td>How to be a Catalyst of Change for your societ...</td>\n",
       "      <td>1 year ago</td>\n",
       "      <td>153</td>\n",
       "      <td>2</td>\n",
       "      <td>1024</td>\n",
       "      <td>[TEDxTalks, English, Global Issues, Environmen...</td>\n",
       "      <td>2268</td>\n",
       "      <td>Anirudh Dutt, Founder and President of Let’s B...</td>\n",
       "      <td>1.57699e+09</td>\n",
       "      <td>2018-05-23 00:00:00</td>\n",
       "      <td>Eldar bounnam's Cara a very good eveningto one...</td>\n",
       "      <td>eldar bounnam cara eveningto heatley whatis sa...</td>\n",
       "    </tr>\n",
       "    <tr>\n",
       "      <th>ru8EMz4arWM</th>\n",
       "      <td>Yuva Ignited Minds</td>\n",
       "      <td>Mayank Solanki</td>\n",
       "      <td>TEDxSonaCollege</td>\n",
       "      <td>ru8EMz4arWM</td>\n",
       "      <td>Yuva Ignited Minds: Mayank Solanki at TEDxSona...</td>\n",
       "      <td>6 years ago</td>\n",
       "      <td>11</td>\n",
       "      <td>0</td>\n",
       "      <td>1097</td>\n",
       "      <td>[TEDxSonaCollege, NGO, ted talks, tedx, Social...</td>\n",
       "      <td>826</td>\n",
       "      <td>Mayank Solanki is the co-founder of the NGO Yu...</td>\n",
       "      <td>1.57699e+09</td>\n",
       "      <td>2012-06-21 00:00:00</td>\n",
       "      <td>I have to first thank God because andalso ment...</td>\n",
       "      <td>god andalso name couple magician mics share sa...</td>\n",
       "    </tr>\n",
       "  </tbody>\n",
       "</table>\n",
       "</div>"
      ],
      "text/plain": [
       "                                                        title  \\\n",
       "-eLgCDFKD7s                   The Art of living with Leopards   \n",
       "STvYyCjLvfU                          How to travel ethically?   \n",
       "IQfkFu5gPC0  How to be a Catalyst of Change for your society    \n",
       "ru8EMz4arWM                                Yuva Ignited Minds   \n",
       "\n",
       "                      speaker              event      videoId  \\\n",
       "-eLgCDFKD7s       Nikit Surve      TEDxVileParle  -eLgCDFKD7s   \n",
       "STvYyCjLvfU  Innocent Mutanga           TEDxCUHK  STvYyCjLvfU   \n",
       "IQfkFu5gPC0    Anirudh S Dutt  TEDxGlobalAcademy  IQfkFu5gPC0   \n",
       "ru8EMz4arWM    Mayank Solanki    TEDxSonaCollege  ru8EMz4arWM   \n",
       "\n",
       "                                                      titleRaw  \\\n",
       "-eLgCDFKD7s  The Art of living with Leopards | Nikit Surve ...   \n",
       "STvYyCjLvfU  How to travel ethically? | Innocent Mutanga | ...   \n",
       "IQfkFu5gPC0  How to be a Catalyst of Change for your societ...   \n",
       "ru8EMz4arWM  Yuva Ignited Minds: Mayank Solanki at TEDxSona...   \n",
       "\n",
       "            publishedTimeRaw  likes  dislikes  lengthSeconds  \\\n",
       "-eLgCDFKD7s     7 months ago     10         0           1006   \n",
       "STvYyCjLvfU     3 months ago     21         2           1344   \n",
       "IQfkFu5gPC0       1 year ago    153         2           1024   \n",
       "ru8EMz4arWM      6 years ago     11         0           1097   \n",
       "\n",
       "                                                      keywords  views  \\\n",
       "-eLgCDFKD7s       [TEDxTalks, English, Global Issues, Animals]    544   \n",
       "STvYyCjLvfU  [TEDxTalks, English, Global Issues, Globalizat...    680   \n",
       "IQfkFu5gPC0  [TEDxTalks, English, Global Issues, Environmen...   2268   \n",
       "ru8EMz4arWM  [TEDxSonaCollege, NGO, ted talks, tedx, Social...    826   \n",
       "\n",
       "                                              videoDescription  currentDate  \\\n",
       "-eLgCDFKD7s  Nikit talks about wildlife and his work within...  1.57697e+09   \n",
       "STvYyCjLvfU  Growing up in Zimbabwe at the tourist town of ...  1.57792e+09   \n",
       "IQfkFu5gPC0  Anirudh Dutt, Founder and President of Let’s B...  1.57699e+09   \n",
       "ru8EMz4arWM  Mayank Solanki is the co-founder of the NGO Yu...  1.57699e+09   \n",
       "\n",
       "                     publishDate  \\\n",
       "-eLgCDFKD7s  2019-05-17 00:00:00   \n",
       "STvYyCjLvfU  2019-09-17 00:00:00   \n",
       "IQfkFu5gPC0  2018-05-23 00:00:00   \n",
       "ru8EMz4arWM  2012-06-21 00:00:00   \n",
       "\n",
       "                                                          text  \\\n",
       "-eLgCDFKD7s  I don't have never was in Mumbai so muchall of...   \n",
       "STvYyCjLvfU  [Applause]okay and you guys see me alright ah ...   \n",
       "IQfkFu5gPC0  Eldar bounnam's Cara a very good eveningto one...   \n",
       "ru8EMz4arWM  I have to first thank God because andalso ment...   \n",
       "\n",
       "                                                         nouns  \n",
       "-eLgCDFKD7s  mumbai muchall cause three-second ofthe pinto ...  \n",
       "STvYyCjLvfU  [ applause ] okay thing littletoo dark lights ...  \n",
       "IQfkFu5gPC0  eldar bounnam cara eveningto heatley whatis sa...  \n",
       "ru8EMz4arWM  god andalso name couple magician mics share sa...  "
      ]
     },
     "execution_count": 5,
     "metadata": {},
     "output_type": "execute_result"
    }
   ],
   "source": [
    "talks.iloc[cosine_similarities.argsort()[:-5:-1]]"
   ]
  },
  {
   "cell_type": "code",
   "execution_count": 6,
   "metadata": {},
   "outputs": [
    {
     "data": {
      "text/plain": [
       "Index(['title', 'speaker', 'event', 'videoId', 'titleRaw', 'publishedTimeRaw',\n",
       "       'likes', 'dislikes', 'lengthSeconds', 'keywords', 'views',\n",
       "       'videoDescription', 'currentDate', 'publishDate', 'text', 'nouns'],\n",
       "      dtype='object')"
      ]
     },
     "execution_count": 6,
     "metadata": {},
     "output_type": "execute_result"
    }
   ],
   "source": [
    "talks.columns"
   ]
  },
  {
   "cell_type": "code",
   "execution_count": 7,
   "metadata": {},
   "outputs": [
    {
     "data": {
      "text/plain": [
       "array([72689, 77510,  2765, 56510, 66417, 33150, 63903, 47304, 47305,\n",
       "       68012, 47308, 78333, 33922, 11968,  4259,  6733, 34246, 42422,\n",
       "        5953, 66050], dtype=int64)"
      ]
     },
     "execution_count": 7,
     "metadata": {},
     "output_type": "execute_result"
    }
   ],
   "source": [
    "cosine_similarities.argsort()[:20:1]"
   ]
  },
  {
   "cell_type": "code",
   "execution_count": 8,
   "metadata": {
    "scrolled": false
   },
   "outputs": [
    {
     "name": "stdout",
     "output_type": "stream",
     "text": [
      "Are Games Art? | Brenda Romero | TEDxGalway\n",
      "https://www.youtube.com/watch?v=L5sBdR4-GGM \n",
      "\n",
      "Games with Purpose | Phil Stuart | TEDxKingAlfredSchool\n",
      "https://www.youtube.com/watch?v=-9dSrH6tu4s \n",
      "\n",
      "The power of play: Bas van Haren at TEDxHanzeUniversity\n",
      "https://www.youtube.com/watch?v=NyfIFMGj2yY \n",
      "\n",
      "What if...games could do good?: Stephen Knightly at TEDxAuckland\n",
      "https://www.youtube.com/watch?v=QhY7gAXpVD8 \n",
      "\n",
      "How games are changing the way we age | Bob De Schutter | TEDxMiamiUniversity\n",
      "https://www.youtube.com/watch?v=ZfU6DGfhWt8 \n",
      "\n",
      "Computer Games for a Better Life | Rainer Malaka | TEDxOsnabrückUniversity\n",
      "https://www.youtube.com/watch?v=AEhz0MUfd7Q \n",
      "\n",
      "The Good of The Video Gaming Life | Ahmed ElKarim Ahmed | TEDxYouth@GAA\n",
      "https://www.youtube.com/watch?v=DjHElcpoZe4 \n",
      "\n",
      "Video-games in art and education | Victor Bethonico Foresti de Oliveira Castro | TEDxYouth@EAB\n",
      "https://www.youtube.com/watch?v=g8v-olDxs4c \n",
      "\n",
      "Games Are Serious Fun: Mark Rein-Hagen at TEDxTbilisi\n",
      "https://www.youtube.com/watch?v=KSo0OeHObo8 \n",
      "\n",
      "Aging & gaming: Michael Salmond at TEDxFGCU\n",
      "https://www.youtube.com/watch?v=SlEPVrG_qkU \n",
      "\n",
      "TEDxRochester - Eric Wheeler - 11/02/09\n",
      "https://www.youtube.com/watch?v=028ze5U5tIA \n",
      "\n",
      "Healthier brains through gaming: JJ Shepard at TEDxColumbiaSC\n",
      "https://www.youtube.com/watch?v=laO7W0mhrKM \n",
      "\n",
      "The myths of gaming: Livia Teernstra at TEDxErasmusUniversity\n",
      "https://www.youtube.com/watch?v=h0jFOdEuZA0 \n",
      "\n",
      "\"Play it again, Sam\": why we should take video games seriously | Paweł Frelik | TEDxFulbrightWarsaw\n",
      "https://www.youtube.com/watch?v=vfeKeY1P-Zg \n",
      "\n",
      "Gaming Addiction | Changhee Bae | TEDxYouth@Tokyo\n",
      "https://www.youtube.com/watch?v=3U0bjF5ucg8 \n",
      "\n",
      "Gamification: The Motivating Spark | Joe Houde | TEDxHickory\n",
      "https://www.youtube.com/watch?v=UyyDsQzwlvQ \n",
      "\n",
      "Bored? Lonely? Play a game! | Joshua Giddens | TEDxJIS\n",
      "https://www.youtube.com/watch?v=vVOnWVrvFVo \n",
      "\n",
      "Fight! Exploring potential impacts of video games | William Moss | TEDxYouth@GrandBahama\n",
      "https://www.youtube.com/watch?v=EqEgjDVW_54 \n",
      "\n",
      "Fun times are a-changing | Farid Ben Salem | TEDxISTEC\n",
      "https://www.youtube.com/watch?v=L0XCZGDi4EA \n",
      "\n"
     ]
    }
   ],
   "source": [
    "toFind = vectorizer.transform([talks.loc['L5sBdR4-GGM'].nouns])[0]\n",
    "\n",
    "cosine_similarities = linear_kernel(toFind, X).flatten()\n",
    "\n",
    "for id in talks.iloc[cosine_similarities.argsort()[:-20:-1]].index:\n",
    "    print(talks.loc[id].titleRaw)\n",
    "    print('https://www.youtube.com/watch?v='+id, '\\n')"
   ]
  },
  {
   "cell_type": "code",
   "execution_count": 9,
   "metadata": {},
   "outputs": [
    {
     "data": {
      "text/plain": [
       "title                                                         Actitud\n",
       "speaker                                                Victor Küppers\n",
       "event                                              TEDxAndorralaVella\n",
       "videoId                                                   nWecIwtN2ho\n",
       "titleRaw                Actitud | Victor Küppers | TEDxAndorralaVella\n",
       "publishedTimeRaw                                          6 years ago\n",
       "likes                                                          101249\n",
       "dislikes                                                         4204\n",
       "lengthSeconds                                                    1204\n",
       "keywords            [Andorra, Spanish, TEDx, TEDxAndorralaVella, t...\n",
       "views                                                         7768520\n",
       "videoDescription    Never miss a talk! SUBSCRIBE to the TEDx chann...\n",
       "currentDate                                               1.57697e+09\n",
       "publishDate                                       2013-10-12 00:00:00\n",
       "text                Translator: Fabio Nativo Reviser: Maria Pericl...\n",
       "nouns               translator fabio nativo reviser maria pericleo...\n",
       "Name: nWecIwtN2ho, dtype: object"
      ]
     },
     "execution_count": 9,
     "metadata": {},
     "output_type": "execute_result"
    }
   ],
   "source": [
    "talks.loc['nWecIwtN2ho']"
   ]
  }
 ],
 "metadata": {
  "kernelspec": {
   "display_name": "Python 3",
   "language": "python",
   "name": "python3"
  },
  "language_info": {
   "codemirror_mode": {
    "name": "ipython",
    "version": 3
   },
   "file_extension": ".py",
   "mimetype": "text/x-python",
   "name": "python",
   "nbconvert_exporter": "python",
   "pygments_lexer": "ipython3",
   "version": "3.6.5"
  }
 },
 "nbformat": 4,
 "nbformat_minor": 2
}
