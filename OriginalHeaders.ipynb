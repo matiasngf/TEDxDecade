{
 "cells": [
  {
   "cell_type": "code",
   "execution_count": null,
   "metadata": {},
   "outputs": [],
   "source": [
    "headersReloadMore =  {\n",
    "    'Host': 'm.youtube.com',\n",
    "    'User-Agent': 'Mozilla/5.0 (Android 4.4; Mobile; rv:41.0) Gecko/41.0 Firefox/41.0',\n",
    "    'Accept': 'json',\n",
    "    'Accept-Language': 'es-AR,es;q=0.8,en-US;q=0.5,en;q=0.3',\n",
    "    'Referer': 'https://m.youtube.com/user/TEDxTalks/videos?view=0&sort=dd&flow=list',\n",
    "    'x-youtube-sts': '18018',\n",
    "    'x-spf-referer': 'https://m.youtube.com/user/TEDxTalks/videos?view=0&sort=dd&flow=list',\n",
    "    'X-YouTube-Client-Name': '2',\n",
    "    'X-YouTube-Client-Version': '2.20190502',\n",
    "    'X-YouTube-Page-CL': '246323896',\n",
    "    'X-YouTube-Page-Label': 'youtube.ytfe.mweb_20190501_6_RC1',\n",
    "    'X-YouTube-Variants-Checksum': '5ecce4aa96019a0b821f716b0a93e0df',\n",
    "    'X-YouTube-Utc-Offset': '-180',\n",
    "    'DNT': '1',\n",
    "    'Connection': 'keep-alive',\n",
    "    'Cookie': 'PREF=fms2=10000&fms1=10000&f1=50000000&cvdm=list; VISITOR_INFO1_LIVE=nnksS5_irpw; YSC=ss41mRPcAII; GPS=1',\n",
    "    'TE': 'Trailers',\n",
    "}"
   ]
  }
 ],
 "metadata": {
  "kernelspec": {
   "display_name": "Python 3",
   "language": "python",
   "name": "python3"
  },
  "language_info": {
   "codemirror_mode": {
    "name": "ipython",
    "version": 3
   },
   "file_extension": ".py",
   "mimetype": "text/x-python",
   "name": "python",
   "nbconvert_exporter": "python",
   "pygments_lexer": "ipython3",
   "version": "3.6.5"
  }
 },
 "nbformat": 4,
 "nbformat_minor": 2
}
